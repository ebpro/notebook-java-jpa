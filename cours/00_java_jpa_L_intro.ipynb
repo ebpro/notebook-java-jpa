{
 "cells": [
  {
   "cell_type": "markdown",
   "metadata": {},
   "source": [
    "---\n",
    "title: 'JPA 01: Introduction'\n",
    "description: Mapping relationnel/Objet en java avec Jakarta Persistence\n",
    "categories:  \n",
    "  - Lecture\n",
    "  - Java\n",
    "  - JPA\n",
    "  - I211\n",
    "code-annotations: below  \n",
    "---"
   ]
  },
  {
   "cell_type": "code",
   "execution_count": 1,
   "metadata": {
    "jupyter": {
     "outputs_hidden": true
    }
   },
   "outputs": [
    {
     "name": "stdout",
     "output_type": "stream",
     "text": [
      "$ git fetch\n"
     ]
    },
    {
     "name": "stdout",
     "output_type": "stream",
     "text": [
      "\n"
     ]
    },
    {
     "name": "stdout",
     "output_type": "stream",
     "text": [
      "$ git reset --mixed\n"
     ]
    },
    {
     "name": "stdout",
     "output_type": "stream",
     "text": [
      "\n"
     ]
    },
    {
     "name": "stdout",
     "output_type": "stream",
     "text": [
      "$ git -c user.email=nbgitpuller@nbgitpuller.link -c user.name=nbgitpuller merge -Xours origin/develop\n"
     ]
    },
    {
     "name": "stdout",
     "output_type": "stream",
     "text": [
      "\n"
     ]
    },
    {
     "name": "stdout",
     "output_type": "stream",
     "text": [
      "Already up to date.\n"
     ]
    },
    {
     "name": "stdout",
     "output_type": "stream",
     "text": [
      "\n"
     ]
    },
    {
     "name": "stdout",
     "output_type": "stream",
     "text": [
      "13:15:59.879 INFO  f.u.b.d.jpa.hello.DatabaseManager - looking for property jakarta.persistence.jdbc.user in variable DB_USERNAME or in property db.username\n"
     ]
    },
    {
     "name": "stdout",
     "output_type": "stream",
     "text": [
      "13:15:59.882 INFO  f.u.b.d.jpa.hello.DatabaseManager - looking for property jakarta.persistence.jdbc.url in variable DB_URL or in property db.url\n"
     ]
    },
    {
     "name": "stdout",
     "output_type": "stream",
     "text": [
      "13:15:59.882 INFO  f.u.b.d.jpa.hello.DatabaseManager - looking for property jakarta.persistence.jdbc.password in variable DB_PASSWORD or in property db.password\n"
     ]
    },
    {
     "name": "stdout",
     "output_type": "stream",
     "text": [
      "13:15:59.882 INFO  f.u.b.d.jpa.hello.DatabaseManager - Connection to jdbc:postgresql://db/notebook-db as dba\n"
     ]
    },
    {
     "name": "stdout",
     "output_type": "stream",
     "text": [
      "13:16:00.664 INFO  com.mchange.v2.log.MLog - MLog clients using slf4j logging.\n"
     ]
    },
    {
     "name": "stdout",
     "output_type": "stream",
     "text": [
      "13:16:02.247 DEBUG org.hibernate.SQL - DROP SCHEMA IF  EXISTS EX_BIOGRAPHY CASCADE\n"
     ]
    },
    {
     "name": "stdout",
     "output_type": "stream",
     "text": [
      "13:16:02.254 WARN  o.h.e.jdbc.spi.SqlExceptionHelper - SQL Warning Code: 0, SQLState: 00000\n"
     ]
    },
    {
     "name": "stdout",
     "output_type": "stream",
     "text": [
      "13:16:02.254 WARN  o.h.e.jdbc.spi.SqlExceptionHelper - drop cascades to table ex_biography.customer\n"
     ]
    },
    {
     "name": "stdout",
     "output_type": "stream",
     "text": [
      "13:16:02.254 DEBUG org.hibernate.SQL - DROP SCHEMA IF  EXISTS EX_ENTITY CASCADE\n"
     ]
    },
    {
     "name": "stdout",
     "output_type": "stream",
     "text": [
      "13:16:02.255 DEBUG org.hibernate.SQL - DROP SCHEMA IF  EXISTS EX_MANY_TO_MANY CASCADE\n"
     ]
    },
    {
     "name": "stdout",
     "output_type": "stream",
     "text": [
      "13:16:02.263 WARN  o.h.e.jdbc.spi.SqlExceptionHelper - SQL Warning Code: 0, SQLState: 00000\n"
     ]
    },
    {
     "name": "stdout",
     "output_type": "stream",
     "text": [
      "13:16:02.263 WARN  o.h.e.jdbc.spi.SqlExceptionHelper - drop cascades to 3 other objects\n"
     ]
    },
    {
     "name": "stdout",
     "output_type": "stream",
     "text": [
      "13:16:02.263 DEBUG org.hibernate.SQL - DROP SCHEMA IF  EXISTS EX_ONE_TO_MANY_A CASCADE\n"
     ]
    },
    {
     "name": "stdout",
     "output_type": "stream",
     "text": [
      "13:16:02.265 WARN  o.h.e.jdbc.spi.SqlExceptionHelper - SQL Warning Code: 0, SQLState: 00000\n"
     ]
    },
    {
     "name": "stdout",
     "output_type": "stream",
     "text": [
      "13:16:02.265 WARN  o.h.e.jdbc.spi.SqlExceptionHelper - drop cascades to 2 other objects\n"
     ]
    },
    {
     "name": "stdout",
     "output_type": "stream",
     "text": [
      "13:16:02.265 DEBUG org.hibernate.SQL - DROP SCHEMA IF  EXISTS EX_ONE_TO_MANY_B CASCADE\n"
     ]
    },
    {
     "name": "stdout",
     "output_type": "stream",
     "text": [
      "13:16:02.267 WARN  o.h.e.jdbc.spi.SqlExceptionHelper - SQL Warning Code: 0, SQLState: 00000\n"
     ]
    },
    {
     "name": "stdout",
     "output_type": "stream",
     "text": [
      "13:16:02.267 WARN  o.h.e.jdbc.spi.SqlExceptionHelper - drop cascades to 2 other objects\n"
     ]
    },
    {
     "name": "stdout",
     "output_type": "stream",
     "text": [
      "13:16:02.267 DEBUG org.hibernate.SQL - DROP SCHEMA IF  EXISTS EX_HOOK CASCADE\n"
     ]
    },
    {
     "name": "stdout",
     "output_type": "stream",
     "text": [
      "13:16:02.268 WARN  o.h.e.jdbc.spi.SqlExceptionHelper - SQL Warning Code: 0, SQLState: 00000\n"
     ]
    },
    {
     "name": "stdout",
     "output_type": "stream",
     "text": [
      "13:16:02.268 WARN  o.h.e.jdbc.spi.SqlExceptionHelper - drop cascades to table ex_hook.customer\n"
     ]
    },
    {
     "name": "stdout",
     "output_type": "stream",
     "text": [
      "13:16:02.268 DEBUG org.hibernate.SQL - DROP SCHEMA IF  EXISTS EX_EMBEDDED_ID CASCADE\n"
     ]
    },
    {
     "name": "stdout",
     "output_type": "stream",
     "text": [
      "13:16:02.269 WARN  o.h.e.jdbc.spi.SqlExceptionHelper - SQL Warning Code: 0, SQLState: 00000\n"
     ]
    },
    {
     "name": "stdout",
     "output_type": "stream",
     "text": [
      "13:16:02.269 WARN  o.h.e.jdbc.spi.SqlExceptionHelper - drop cascades to table ex_embedded_id.employe\n"
     ]
    },
    {
     "name": "stdout",
     "output_type": "stream",
     "text": [
      "13:16:02.269 DEBUG org.hibernate.SQL - DROP SCHEMA IF  EXISTS EX_IDCLASS CASCADE\n"
     ]
    },
    {
     "name": "stdout",
     "output_type": "stream",
     "text": [
      "13:16:02.270 WARN  o.h.e.jdbc.spi.SqlExceptionHelper - SQL Warning Code: 0, SQLState: 00000\n"
     ]
    },
    {
     "name": "stdout",
     "output_type": "stream",
     "text": [
      "13:16:02.270 WARN  o.h.e.jdbc.spi.SqlExceptionHelper - drop cascades to table ex_idclass.employe\n"
     ]
    },
    {
     "name": "stdout",
     "output_type": "stream",
     "text": [
      "13:16:02.270 DEBUG org.hibernate.SQL - DROP SCHEMA IF  EXISTS EX_IDCLASS CASCADE\n"
     ]
    },
    {
     "name": "stdout",
     "output_type": "stream",
     "text": [
      "13:16:02.270 WARN  o.h.e.jdbc.spi.SqlExceptionHelper - SQL Warning Code: 0, SQLState: 00000\n"
     ]
    },
    {
     "name": "stdout",
     "output_type": "stream",
     "text": [
      "13:16:02.270 WARN  o.h.e.jdbc.spi.SqlExceptionHelper - schema \"ex_idclass\" does not exist, skipping\n"
     ]
    },
    {
     "name": "stdout",
     "output_type": "stream",
     "text": [
      "13:16:02.271 DEBUG org.hibernate.SQL - DROP SCHEMA IF  EXISTS EX_HERITAGE1 CASCADE\n"
     ]
    },
    {
     "name": "stdout",
     "output_type": "stream",
     "text": [
      "13:16:02.271 WARN  o.h.e.jdbc.spi.SqlExceptionHelper - SQL Warning Code: 0, SQLState: 00000\n"
     ]
    },
    {
     "name": "stdout",
     "output_type": "stream",
     "text": [
      "13:16:02.272 WARN  o.h.e.jdbc.spi.SqlExceptionHelper - drop cascades to table ex_heritage1.person\n"
     ]
    },
    {
     "name": "stdout",
     "output_type": "stream",
     "text": [
      "13:16:02.272 DEBUG org.hibernate.SQL - DROP SCHEMA IF  EXISTS EX_HERITAGE2 CASCADE\n"
     ]
    },
    {
     "name": "stdout",
     "output_type": "stream",
     "text": [
      "13:16:02.274 WARN  o.h.e.jdbc.spi.SqlExceptionHelper - SQL Warning Code: 0, SQLState: 00000\n"
     ]
    },
    {
     "name": "stdout",
     "output_type": "stream",
     "text": [
      "13:16:02.274 WARN  o.h.e.jdbc.spi.SqlExceptionHelper - drop cascades to 3 other objects\n"
     ]
    },
    {
     "name": "stdout",
     "output_type": "stream",
     "text": [
      "13:16:02.274 DEBUG org.hibernate.SQL - DROP SCHEMA IF  EXISTS EX_HERITAGE3 CASCADE\n"
     ]
    },
    {
     "name": "stdout",
     "output_type": "stream",
     "text": [
      "13:16:02.276 WARN  o.h.e.jdbc.spi.SqlExceptionHelper - SQL Warning Code: 0, SQLState: 00000\n"
     ]
    },
    {
     "name": "stdout",
     "output_type": "stream",
     "text": [
      "13:16:02.276 WARN  o.h.e.jdbc.spi.SqlExceptionHelper - drop cascades to 3 other objects\n"
     ]
    },
    {
     "name": "stdout",
     "output_type": "stream",
     "text": [
      "13:16:02.276 DEBUG org.hibernate.SQL - drop table if exists ex_biography.CUSTOMER cascade\n"
     ]
    },
    {
     "name": "stdout",
     "output_type": "stream",
     "text": [
      "13:16:02.276 WARN  o.h.e.jdbc.spi.SqlExceptionHelper - SQL Warning Code: 0, SQLState: 00000\n"
     ]
    },
    {
     "name": "stdout",
     "output_type": "stream",
     "text": [
      "13:16:02.276 WARN  o.h.e.jdbc.spi.SqlExceptionHelper - schema \"ex_biography\" does not exist, skipping\n"
     ]
    },
    {
     "name": "stdout",
     "output_type": "stream",
     "text": [
      "13:16:02.276 DEBUG org.hibernate.SQL - drop table if exists EX_EMBEDDED_ID.EMPLOYE cascade\n"
     ]
    },
    {
     "name": "stdout",
     "output_type": "stream",
     "text": [
      "13:16:02.277 WARN  o.h.e.jdbc.spi.SqlExceptionHelper - SQL Warning Code: 0, SQLState: 00000\n"
     ]
    },
    {
     "name": "stdout",
     "output_type": "stream",
     "text": [
      "13:16:02.277 WARN  o.h.e.jdbc.spi.SqlExceptionHelper - schema \"ex_embedded_id\" does not exist, skipping\n"
     ]
    },
    {
     "name": "stdout",
     "output_type": "stream",
     "text": [
      "13:16:02.277 DEBUG org.hibernate.SQL - drop table if exists EX_HERITAGE1.Person cascade\n"
     ]
    },
    {
     "name": "stdout",
     "output_type": "stream",
     "text": [
      "13:16:02.277 WARN  o.h.e.jdbc.spi.SqlExceptionHelper - SQL Warning Code: 0, SQLState: 00000\n"
     ]
    },
    {
     "name": "stdout",
     "output_type": "stream",
     "text": [
      "13:16:02.277 WARN  o.h.e.jdbc.spi.SqlExceptionHelper - schema \"ex_heritage1\" does not exist, skipping\n"
     ]
    },
    {
     "name": "stdout",
     "output_type": "stream",
     "text": [
      "13:16:02.277 DEBUG org.hibernate.SQL - alter table if exists EX_HERITAGE2.STUDENT drop constraint if exists FKbhp183l5ur0m48nhfqjtodwt7\n"
     ]
    },
    {
     "name": "stdout",
     "output_type": "stream",
     "text": [
      "13:16:02.277 WARN  o.h.e.jdbc.spi.SqlExceptionHelper - SQL Warning Code: 0, SQLState: 00000\n"
     ]
    },
    {
     "name": "stdout",
     "output_type": "stream",
     "text": [
      "13:16:02.277 WARN  o.h.e.jdbc.spi.SqlExceptionHelper - relation \"student\" does not exist, skipping\n"
     ]
    },
    {
     "name": "stdout",
     "output_type": "stream",
     "text": [
      "13:16:02.277 DEBUG org.hibernate.SQL - alter table if exists EX_HERITAGE2.TEACHER drop constraint if exists FKeiv4tioua2f6b81bwlpje2d8t\n"
     ]
    },
    {
     "name": "stdout",
     "output_type": "stream",
     "text": [
      "13:16:02.278 WARN  o.h.e.jdbc.spi.SqlExceptionHelper - SQL Warning Code: 0, SQLState: 00000\n"
     ]
    },
    {
     "name": "stdout",
     "output_type": "stream",
     "text": [
      "13:16:02.278 WARN  o.h.e.jdbc.spi.SqlExceptionHelper - relation \"teacher\" does not exist, skipping\n"
     ]
    },
    {
     "name": "stdout",
     "output_type": "stream",
     "text": [
      "13:16:02.278 DEBUG org.hibernate.SQL - drop table if exists EX_HERITAGE2.PERSON cascade\n"
     ]
    },
    {
     "name": "stdout",
     "output_type": "stream",
     "text": [
      "13:16:02.278 WARN  o.h.e.jdbc.spi.SqlExceptionHelper - SQL Warning Code: 0, SQLState: 00000\n"
     ]
    },
    {
     "name": "stdout",
     "output_type": "stream",
     "text": [
      "13:16:02.278 WARN  o.h.e.jdbc.spi.SqlExceptionHelper - schema \"ex_heritage2\" does not exist, skipping\n"
     ]
    },
    {
     "name": "stdout",
     "output_type": "stream",
     "text": [
      "13:16:02.278 DEBUG org.hibernate.SQL - drop table if exists EX_HERITAGE2.STUDENT cascade\n"
     ]
    },
    {
     "name": "stdout",
     "output_type": "stream",
     "text": [
      "13:16:02.278 WARN  o.h.e.jdbc.spi.SqlExceptionHelper - SQL Warning Code: 0, SQLState: 00000\n"
     ]
    },
    {
     "name": "stdout",
     "output_type": "stream",
     "text": [
      "13:16:02.278 WARN  o.h.e.jdbc.spi.SqlExceptionHelper - schema \"ex_heritage2\" does not exist, skipping\n"
     ]
    },
    {
     "name": "stdout",
     "output_type": "stream",
     "text": [
      "13:16:02.278 DEBUG org.hibernate.SQL - drop table if exists EX_HERITAGE2.TEACHER cascade\n"
     ]
    },
    {
     "name": "stdout",
     "output_type": "stream",
     "text": [
      "13:16:02.279 WARN  o.h.e.jdbc.spi.SqlExceptionHelper - SQL Warning Code: 0, SQLState: 00000\n"
     ]
    },
    {
     "name": "stdout",
     "output_type": "stream",
     "text": [
      "13:16:02.279 WARN  o.h.e.jdbc.spi.SqlExceptionHelper - schema \"ex_heritage2\" does not exist, skipping\n"
     ]
    },
    {
     "name": "stdout",
     "output_type": "stream",
     "text": [
      "13:16:02.279 DEBUG org.hibernate.SQL - drop table if exists EX_HERITAGE3.PERSON cascade\n"
     ]
    },
    {
     "name": "stdout",
     "output_type": "stream",
     "text": [
      "13:16:02.279 WARN  o.h.e.jdbc.spi.SqlExceptionHelper - SQL Warning Code: 0, SQLState: 00000\n"
     ]
    },
    {
     "name": "stdout",
     "output_type": "stream",
     "text": [
      "13:16:02.279 WARN  o.h.e.jdbc.spi.SqlExceptionHelper - schema \"ex_heritage3\" does not exist, skipping\n"
     ]
    },
    {
     "name": "stdout",
     "output_type": "stream",
     "text": [
      "13:16:02.279 DEBUG org.hibernate.SQL - drop table if exists EX_HERITAGE3.STUDENT cascade\n"
     ]
    },
    {
     "name": "stdout",
     "output_type": "stream",
     "text": [
      "13:16:02.279 WARN  o.h.e.jdbc.spi.SqlExceptionHelper - SQL Warning Code: 0, SQLState: 00000\n"
     ]
    },
    {
     "name": "stdout",
     "output_type": "stream",
     "text": [
      "13:16:02.279 WARN  o.h.e.jdbc.spi.SqlExceptionHelper - schema \"ex_heritage3\" does not exist, skipping\n"
     ]
    },
    {
     "name": "stdout",
     "output_type": "stream",
     "text": [
      "13:16:02.280 DEBUG org.hibernate.SQL - drop table if exists EX_HERITAGE3.TEACHER cascade\n"
     ]
    },
    {
     "name": "stdout",
     "output_type": "stream",
     "text": [
      "13:16:02.280 WARN  o.h.e.jdbc.spi.SqlExceptionHelper - SQL Warning Code: 0, SQLState: 00000\n"
     ]
    },
    {
     "name": "stdout",
     "output_type": "stream",
     "text": [
      "13:16:02.280 WARN  o.h.e.jdbc.spi.SqlExceptionHelper - schema \"ex_heritage3\" does not exist, skipping\n"
     ]
    },
    {
     "name": "stdout",
     "output_type": "stream",
     "text": [
      "13:16:02.280 DEBUG org.hibernate.SQL - drop table if exists EX_HOOK.CUSTOMER cascade\n"
     ]
    },
    {
     "name": "stdout",
     "output_type": "stream",
     "text": [
      "13:16:02.280 WARN  o.h.e.jdbc.spi.SqlExceptionHelper - SQL Warning Code: 0, SQLState: 00000\n"
     ]
    },
    {
     "name": "stdout",
     "output_type": "stream",
     "text": [
      "13:16:02.280 WARN  o.h.e.jdbc.spi.SqlExceptionHelper - schema \"ex_hook\" does not exist, skipping\n"
     ]
    },
    {
     "name": "stdout",
     "output_type": "stream",
     "text": [
      "13:16:02.280 DEBUG org.hibernate.SQL - drop table if exists EX_IDCLASS.EMPLOYE cascade\n"
     ]
    },
    {
     "name": "stdout",
     "output_type": "stream",
     "text": [
      "13:16:02.280 WARN  o.h.e.jdbc.spi.SqlExceptionHelper - SQL Warning Code: 0, SQLState: 00000\n"
     ]
    },
    {
     "name": "stdout",
     "output_type": "stream",
     "text": [
      "13:16:02.280 WARN  o.h.e.jdbc.spi.SqlExceptionHelper - schema \"ex_idclass\" does not exist, skipping\n"
     ]
    },
    {
     "name": "stdout",
     "output_type": "stream",
     "text": [
      "13:16:02.280 DEBUG org.hibernate.SQL - drop table if exists EX_IDSEQ.CUSTOMER cascade\n"
     ]
    },
    {
     "name": "stdout",
     "output_type": "stream",
     "text": [
      "13:16:02.281 DEBUG org.hibernate.SQL - drop table if exists EX_IDTABLE.CUSTOMER cascade\n"
     ]
    },
    {
     "name": "stdout",
     "output_type": "stream",
     "text": [
      "13:16:02.282 DEBUG org.hibernate.SQL - drop table if exists EX_IDTABLE.ID_GENERATOR_TABLE cascade\n"
     ]
    },
    {
     "name": "stdout",
     "output_type": "stream",
     "text": [
      "13:16:02.283 DEBUG org.hibernate.SQL - alter table if exists EX_MANY_TO_MANY.CUSTOMER_ADDRESS drop constraint if exists FKcl977kx0vb0mvbvk84kl4lqcv\n"
     ]
    },
    {
     "name": "stdout",
     "output_type": "stream",
     "text": [
      "13:16:02.284 WARN  o.h.e.jdbc.spi.SqlExceptionHelper - SQL Warning Code: 0, SQLState: 00000\n"
     ]
    },
    {
     "name": "stdout",
     "output_type": "stream",
     "text": [
      "13:16:02.284 WARN  o.h.e.jdbc.spi.SqlExceptionHelper - relation \"customer_address\" does not exist, skipping\n"
     ]
    },
    {
     "name": "stdout",
     "output_type": "stream",
     "text": [
      "13:16:02.284 DEBUG org.hibernate.SQL - alter table if exists EX_MANY_TO_MANY.CUSTOMER_ADDRESS drop constraint if exists FKhqfehryv5ajn01d0bnvn7b55e\n"
     ]
    },
    {
     "name": "stdout",
     "output_type": "stream",
     "text": [
      "13:16:02.284 WARN  o.h.e.jdbc.spi.SqlExceptionHelper - SQL Warning Code: 0, SQLState: 00000\n"
     ]
    },
    {
     "name": "stdout",
     "output_type": "stream",
     "text": [
      "13:16:02.284 WARN  o.h.e.jdbc.spi.SqlExceptionHelper - relation \"customer_address\" does not exist, skipping\n"
     ]
    },
    {
     "name": "stdout",
     "output_type": "stream",
     "text": [
      "13:16:02.284 DEBUG org.hibernate.SQL - drop table if exists EX_MANY_TO_MANY.ADDRESS cascade\n"
     ]
    },
    {
     "name": "stdout",
     "output_type": "stream",
     "text": [
      "13:16:02.284 WARN  o.h.e.jdbc.spi.SqlExceptionHelper - SQL Warning Code: 0, SQLState: 00000\n"
     ]
    },
    {
     "name": "stdout",
     "output_type": "stream",
     "text": [
      "13:16:02.284 WARN  o.h.e.jdbc.spi.SqlExceptionHelper - schema \"ex_many_to_many\" does not exist, skipping\n"
     ]
    },
    {
     "name": "stdout",
     "output_type": "stream",
     "text": [
      "13:16:02.284 DEBUG org.hibernate.SQL - drop table if exists EX_MANY_TO_MANY.CUSTOMER cascade\n"
     ]
    },
    {
     "name": "stdout",
     "output_type": "stream",
     "text": [
      "13:16:02.284 WARN  o.h.e.jdbc.spi.SqlExceptionHelper - SQL Warning Code: 0, SQLState: 00000\n"
     ]
    },
    {
     "name": "stdout",
     "output_type": "stream",
     "text": [
      "13:16:02.284 WARN  o.h.e.jdbc.spi.SqlExceptionHelper - schema \"ex_many_to_many\" does not exist, skipping\n"
     ]
    },
    {
     "name": "stdout",
     "output_type": "stream",
     "text": [
      "13:16:02.285 DEBUG org.hibernate.SQL - drop table if exists EX_MANY_TO_MANY.CUSTOMER_ADDRESS cascade\n"
     ]
    },
    {
     "name": "stdout",
     "output_type": "stream",
     "text": [
      "13:16:02.285 WARN  o.h.e.jdbc.spi.SqlExceptionHelper - SQL Warning Code: 0, SQLState: 00000\n"
     ]
    },
    {
     "name": "stdout",
     "output_type": "stream",
     "text": [
      "13:16:02.285 WARN  o.h.e.jdbc.spi.SqlExceptionHelper - schema \"ex_many_to_many\" does not exist, skipping\n"
     ]
    },
    {
     "name": "stdout",
     "output_type": "stream",
     "text": [
      "13:16:02.285 DEBUG org.hibernate.SQL - alter table if exists EX_ONE_TO_MANY_A.LINE drop constraint if exists FKtiwu942eblywp71x5p8agmhm9\n"
     ]
    },
    {
     "name": "stdout",
     "output_type": "stream",
     "text": [
      "13:16:02.285 WARN  o.h.e.jdbc.spi.SqlExceptionHelper - SQL Warning Code: 0, SQLState: 00000\n"
     ]
    },
    {
     "name": "stdout",
     "output_type": "stream",
     "text": [
      "13:16:02.285 WARN  o.h.e.jdbc.spi.SqlExceptionHelper - relation \"line\" does not exist, skipping\n"
     ]
    },
    {
     "name": "stdout",
     "output_type": "stream",
     "text": [
      "13:16:02.285 DEBUG org.hibernate.SQL - drop table if exists EX_ONE_TO_MANY_A.EORDER cascade\n"
     ]
    },
    {
     "name": "stdout",
     "output_type": "stream",
     "text": [
      "13:16:02.285 WARN  o.h.e.jdbc.spi.SqlExceptionHelper - SQL Warning Code: 0, SQLState: 00000\n"
     ]
    },
    {
     "name": "stdout",
     "output_type": "stream",
     "text": [
      "13:16:02.285 WARN  o.h.e.jdbc.spi.SqlExceptionHelper - schema \"ex_one_to_many_a\" does not exist, skipping\n"
     ]
    },
    {
     "name": "stdout",
     "output_type": "stream",
     "text": [
      "13:16:02.285 DEBUG org.hibernate.SQL - drop table if exists EX_ONE_TO_MANY_A.LINE cascade\n"
     ]
    },
    {
     "name": "stdout",
     "output_type": "stream",
     "text": [
      "13:16:02.286 WARN  o.h.e.jdbc.spi.SqlExceptionHelper - SQL Warning Code: 0, SQLState: 00000\n"
     ]
    },
    {
     "name": "stdout",
     "output_type": "stream",
     "text": [
      "13:16:02.286 WARN  o.h.e.jdbc.spi.SqlExceptionHelper - schema \"ex_one_to_many_a\" does not exist, skipping\n"
     ]
    },
    {
     "name": "stdout",
     "output_type": "stream",
     "text": [
      "13:16:02.286 DEBUG org.hibernate.SQL - alter table if exists EX_ONE_TO_MANY_B.LINE drop constraint if exists FKk9141l2uxmt4wtydt7dxfcgm3\n"
     ]
    },
    {
     "name": "stdout",
     "output_type": "stream",
     "text": [
      "13:16:02.286 WARN  o.h.e.jdbc.spi.SqlExceptionHelper - SQL Warning Code: 0, SQLState: 00000\n"
     ]
    },
    {
     "name": "stdout",
     "output_type": "stream",
     "text": [
      "13:16:02.286 WARN  o.h.e.jdbc.spi.SqlExceptionHelper - relation \"line\" does not exist, skipping\n"
     ]
    },
    {
     "name": "stdout",
     "output_type": "stream",
     "text": [
      "13:16:02.286 DEBUG org.hibernate.SQL - drop table if exists EX_ONE_TO_MANY_B.EORDER cascade\n"
     ]
    },
    {
     "name": "stdout",
     "output_type": "stream",
     "text": [
      "13:16:02.286 WARN  o.h.e.jdbc.spi.SqlExceptionHelper - SQL Warning Code: 0, SQLState: 00000\n"
     ]
    },
    {
     "name": "stdout",
     "output_type": "stream",
     "text": [
      "13:16:02.286 WARN  o.h.e.jdbc.spi.SqlExceptionHelper - schema \"ex_one_to_many_b\" does not exist, skipping\n"
     ]
    },
    {
     "name": "stdout",
     "output_type": "stream",
     "text": [
      "13:16:02.286 DEBUG org.hibernate.SQL - drop table if exists EX_ONE_TO_MANY_B.LINE cascade\n"
     ]
    },
    {
     "name": "stdout",
     "output_type": "stream",
     "text": [
      "13:16:02.286 WARN  o.h.e.jdbc.spi.SqlExceptionHelper - SQL Warning Code: 0, SQLState: 00000\n"
     ]
    },
    {
     "name": "stdout",
     "output_type": "stream",
     "text": [
      "13:16:02.286 WARN  o.h.e.jdbc.spi.SqlExceptionHelper - schema \"ex_one_to_many_b\" does not exist, skipping\n"
     ]
    },
    {
     "name": "stdout",
     "output_type": "stream",
     "text": [
      "13:16:02.286 DEBUG org.hibernate.SQL - drop table if exists EX_SIMPLE.CUSTOMER cascade\n"
     ]
    },
    {
     "name": "stdout",
     "output_type": "stream",
     "text": [
      "13:16:02.288 DEBUG org.hibernate.SQL - drop table if exists EX_UUID.CUSTOMER cascade\n"
     ]
    },
    {
     "name": "stdout",
     "output_type": "stream",
     "text": [
      "13:16:02.289 DEBUG org.hibernate.SQL - drop table if exists CUSTOMER cascade\n"
     ]
    },
    {
     "name": "stdout",
     "output_type": "stream",
     "text": [
      "13:16:02.290 DEBUG org.hibernate.SQL - drop table if exists CUSTOMER_BASE cascade\n"
     ]
    },
    {
     "name": "stdout",
     "output_type": "stream",
     "text": [
      "13:16:02.291 DEBUG org.hibernate.SQL - drop table if exists CUSTOMER_BIS cascade\n"
     ]
    },
    {
     "name": "stdout",
     "output_type": "stream",
     "text": [
      "13:16:02.291 DEBUG org.hibernate.SQL - drop sequence if exists ADDRESS_SEQ\n"
     ]
    },
    {
     "name": "stdout",
     "output_type": "stream",
     "text": [
      "13:16:02.292 DEBUG org.hibernate.SQL - drop sequence if exists CUSTOMER_BASE_SEQ\n"
     ]
    },
    {
     "name": "stdout",
     "output_type": "stream",
     "text": [
      "13:16:02.293 DEBUG org.hibernate.SQL - drop sequence if exists CUSTOMER_BIS_SEQ\n"
     ]
    },
    {
     "name": "stdout",
     "output_type": "stream",
     "text": [
      "13:16:02.293 DEBUG org.hibernate.SQL - drop sequence if exists CUSTOMER_SEQ\n"
     ]
    },
    {
     "name": "stdout",
     "output_type": "stream",
     "text": [
      "13:16:02.294 DEBUG org.hibernate.SQL - drop sequence if exists CUSTOMER_SEQUENCE\n"
     ]
    },
    {
     "name": "stdout",
     "output_type": "stream",
     "text": [
      "13:16:02.294 DEBUG org.hibernate.SQL - drop sequence if exists EORDER_SEQ\n"
     ]
    },
    {
     "name": "stdout",
     "output_type": "stream",
     "text": [
      "13:16:02.295 DEBUG org.hibernate.SQL - drop sequence if exists LINE_SEQ\n"
     ]
    },
    {
     "name": "stdout",
     "output_type": "stream",
     "text": [
      "13:16:02.295 DEBUG org.hibernate.SQL - drop sequence if exists PERSON_SEQ\n"
     ]
    },
    {
     "name": "stdout",
     "output_type": "stream",
     "text": [
      "13:16:02.298 DEBUG org.hibernate.SQL - CREATE SCHEMA IF NOT EXISTS EX_SIMPLE\n"
     ]
    },
    {
     "name": "stdout",
     "output_type": "stream",
     "text": [
      "13:16:02.299 WARN  o.h.e.jdbc.spi.SqlExceptionHelper - SQL Warning Code: 0, SQLState: 42P06\n"
     ]
    },
    {
     "name": "stdout",
     "output_type": "stream",
     "text": [
      "13:16:02.299 WARN  o.h.e.jdbc.spi.SqlExceptionHelper - schema \"ex_simple\" already exists, skipping\n"
     ]
    },
    {
     "name": "stdout",
     "output_type": "stream",
     "text": [
      "13:16:02.299 DEBUG org.hibernate.SQL - CREATE SCHEMA IF NOT EXISTS EX_ENTITY\n"
     ]
    },
    {
     "name": "stdout",
     "output_type": "stream",
     "text": [
      "13:16:02.299 DEBUG org.hibernate.SQL - CREATE SCHEMA IF NOT EXISTS EX_MANY_TO_MANY\n"
     ]
    },
    {
     "name": "stdout",
     "output_type": "stream",
     "text": [
      "13:16:02.300 DEBUG org.hibernate.SQL - CREATE SCHEMA IF NOT EXISTS EX_ONE_TO_MANY_A\n"
     ]
    },
    {
     "name": "stdout",
     "output_type": "stream",
     "text": [
      "13:16:02.300 DEBUG org.hibernate.SQL - CREATE SCHEMA IF NOT EXISTS EX_ONE_TO_MANY_B\n"
     ]
    },
    {
     "name": "stdout",
     "output_type": "stream",
     "text": [
      "13:16:02.301 DEBUG org.hibernate.SQL - CREATE SCHEMA IF NOT EXISTS EX_BIOGRAPHY\n"
     ]
    },
    {
     "name": "stdout",
     "output_type": "stream",
     "text": [
      "13:16:02.301 DEBUG org.hibernate.SQL - CREATE SCHEMA IF NOT EXISTS EX_HOOK\n"
     ]
    },
    {
     "name": "stdout",
     "output_type": "stream",
     "text": [
      "13:16:02.301 DEBUG org.hibernate.SQL - CREATE SCHEMA IF NOT EXISTS EX_UUID\n"
     ]
    },
    {
     "name": "stdout",
     "output_type": "stream",
     "text": [
      "13:16:02.302 WARN  o.h.e.jdbc.spi.SqlExceptionHelper - SQL Warning Code: 0, SQLState: 42P06\n"
     ]
    },
    {
     "name": "stdout",
     "output_type": "stream",
     "text": [
      "13:16:02.302 WARN  o.h.e.jdbc.spi.SqlExceptionHelper - schema \"ex_uuid\" already exists, skipping\n"
     ]
    },
    {
     "name": "stdout",
     "output_type": "stream",
     "text": [
      "13:16:02.302 DEBUG org.hibernate.SQL - CREATE SCHEMA IF NOT EXISTS EX_HERITAGE1\n"
     ]
    },
    {
     "name": "stdout",
     "output_type": "stream",
     "text": [
      "13:16:02.302 DEBUG org.hibernate.SQL - CREATE SCHEMA IF NOT EXISTS EX_HERITAGE2\n"
     ]
    },
    {
     "name": "stdout",
     "output_type": "stream",
     "text": [
      "13:16:02.302 DEBUG org.hibernate.SQL - CREATE SCHEMA IF NOT EXISTS EX_HERITAGE3\n"
     ]
    },
    {
     "name": "stdout",
     "output_type": "stream",
     "text": [
      "13:16:02.302 DEBUG org.hibernate.SQL - CREATE SCHEMA IF NOT EXISTS EX_EMBEDDED_ID\n"
     ]
    },
    {
     "name": "stdout",
     "output_type": "stream",
     "text": [
      "13:16:02.303 DEBUG org.hibernate.SQL - CREATE SCHEMA IF NOT EXISTS EX_IDCLASS\n"
     ]
    },
    {
     "name": "stdout",
     "output_type": "stream",
     "text": [
      "13:16:02.303 DEBUG org.hibernate.SQL - CREATE SCHEMA IF NOT EXISTS EX_IDSEQ\n"
     ]
    },
    {
     "name": "stdout",
     "output_type": "stream",
     "text": [
      "13:16:02.303 WARN  o.h.e.jdbc.spi.SqlExceptionHelper - SQL Warning Code: 0, SQLState: 42P06\n"
     ]
    },
    {
     "name": "stdout",
     "output_type": "stream",
     "text": [
      "13:16:02.303 WARN  o.h.e.jdbc.spi.SqlExceptionHelper - schema \"ex_idseq\" already exists, skipping\n"
     ]
    },
    {
     "name": "stdout",
     "output_type": "stream",
     "text": [
      "13:16:02.303 DEBUG org.hibernate.SQL - CREATE SCHEMA IF NOT EXISTS EX_IDTABLE\n"
     ]
    },
    {
     "name": "stdout",
     "output_type": "stream",
     "text": [
      "13:16:02.303 WARN  o.h.e.jdbc.spi.SqlExceptionHelper - SQL Warning Code: 0, SQLState: 42P06\n"
     ]
    },
    {
     "name": "stdout",
     "output_type": "stream",
     "text": [
      "13:16:02.303 WARN  o.h.e.jdbc.spi.SqlExceptionHelper - schema \"ex_idtable\" already exists, skipping\n"
     ]
    },
    {
     "name": "stdout",
     "output_type": "stream",
     "text": [
      "13:16:02.307 DEBUG org.hibernate.SQL - create table ex_biography.CUSTOMER (id bigint not null, name varchar(50) not null, BIO_BRIEF varchar(255), BIO_EXTENDED oid, primary key (id))\n"
     ]
    },
    {
     "name": "stdout",
     "output_type": "stream",
     "text": [
      "13:16:02.310 DEBUG org.hibernate.SQL - create table EX_EMBEDDED_ID.EMPLOYE (rankInDepartment integer not null, department varchar(255) not null, name varchar(255), primary key (rankInDepartment, department))\n"
     ]
    },
    {
     "name": "stdout",
     "output_type": "stream",
     "text": [
      "13:16:02.315 DEBUG org.hibernate.SQL - create table EX_HERITAGE1.Person (salary float(53), status smallint check (status between 0 and 1), id bigint not null, DTYPE varchar(31) not null, name varchar(255), primary key (id))\n"
     ]
    },
    {
     "name": "stdout",
     "output_type": "stream",
     "text": [
      "13:16:02.318 DEBUG org.hibernate.SQL - create table EX_HERITAGE2.PERSON (id bigint not null, name varchar(255), primary key (id))\n"
     ]
    },
    {
     "name": "stdout",
     "output_type": "stream",
     "text": [
      "13:16:02.320 DEBUG org.hibernate.SQL - create table EX_HERITAGE2.STUDENT (status smallint not null check (status between 0 and 1), id bigint not null, primary key (id))\n"
     ]
    },
    {
     "name": "stdout",
     "output_type": "stream",
     "text": [
      "13:16:02.322 DEBUG org.hibernate.SQL - create table EX_HERITAGE2.TEACHER (salary float(53) not null, id bigint not null, primary key (id))\n"
     ]
    },
    {
     "name": "stdout",
     "output_type": "stream",
     "text": [
      "13:16:02.324 DEBUG org.hibernate.SQL - create table EX_HERITAGE3.PERSON (id bigint not null, name varchar(255), primary key (id))\n"
     ]
    },
    {
     "name": "stdout",
     "output_type": "stream",
     "text": [
      "13:16:02.326 DEBUG org.hibernate.SQL - create table EX_HERITAGE3.STUDENT (status smallint not null check (status between 0 and 1), id bigint not null, name varchar(255), primary key (id))\n"
     ]
    },
    {
     "name": "stdout",
     "output_type": "stream",
     "text": [
      "13:16:02.337 DEBUG org.hibernate.SQL - create table EX_HERITAGE3.TEACHER (salary float(53) not null, id bigint not null, name varchar(255), primary key (id))\n"
     ]
    },
    {
     "name": "stdout",
     "output_type": "stream",
     "text": [
      "13:16:02.348 DEBUG org.hibernate.SQL - create table EX_HOOK.CUSTOMER (id bigint not null, name varchar(255), primary key (id))\n"
     ]
    },
    {
     "name": "stdout",
     "output_type": "stream",
     "text": [
      "13:16:02.358 DEBUG org.hibernate.SQL - create table EX_IDCLASS.EMPLOYE (rankInDepartment integer not null, department varchar(255) not null, name varchar(255), primary key (rankInDepartment, department))\n"
     ]
    },
    {
     "name": "stdout",
     "output_type": "stream",
     "text": [
      "13:16:02.367 DEBUG org.hibernate.SQL - create table EX_IDSEQ.CUSTOMER (id bigint not null, name varchar(255), primary key (id))\n"
     ]
    },
    {
     "name": "stdout",
     "output_type": "stream",
     "text": [
      "13:16:02.374 DEBUG org.hibernate.SQL - create table EX_IDTABLE.CUSTOMER (id bigint not null, name varchar(255), primary key (id))\n"
     ]
    },
    {
     "name": "stdout",
     "output_type": "stream",
     "text": [
      "13:16:02.378 DEBUG org.hibernate.SQL - create table EX_IDTABLE.ID_GENERATOR_TABLE (next_val bigint, sequence_name varchar(255) not null, primary key (sequence_name))\n"
     ]
    },
    {
     "name": "stdout",
     "output_type": "stream",
     "text": [
      "13:16:02.381 DEBUG org.hibernate.SQL - insert into EX_IDTABLE.ID_GENERATOR_TABLE(sequence_name, next_val) values ('CUSTOMER',0)\n"
     ]
    },
    {
     "name": "stdout",
     "output_type": "stream",
     "text": [
      "13:16:02.382 DEBUG org.hibernate.SQL - create table EX_MANY_TO_MANY.ADDRESS (id bigint not null, addressDetail varchar(255), primary key (id))\n"
     ]
    },
    {
     "name": "stdout",
     "output_type": "stream",
     "text": [
      "13:16:02.385 DEBUG org.hibernate.SQL - create table EX_MANY_TO_MANY.CUSTOMER (id bigint not null, name varchar(255), primary key (id))\n"
     ]
    },
    {
     "name": "stdout",
     "output_type": "stream",
     "text": [
      "13:16:02.388 DEBUG org.hibernate.SQL - create table EX_MANY_TO_MANY.CUSTOMER_ADDRESS (occupants_id bigint not null, places_id bigint not null, primary key (occupants_id, places_id))\n"
     ]
    },
    {
     "name": "stdout",
     "output_type": "stream",
     "text": [
      "13:16:02.391 DEBUG org.hibernate.SQL - create table EX_ONE_TO_MANY_A.EORDER (date timestamp(6), id bigint not null, primary key (id))\n"
     ]
    },
    {
     "name": "stdout",
     "output_type": "stream",
     "text": [
      "13:16:02.392 DEBUG org.hibernate.SQL - create table EX_ONE_TO_MANY_A.LINE (price float(53) not null, id bigint not null, order_id bigint not null, product varchar(255), primary key (id))\n"
     ]
    },
    {
     "name": "stdout",
     "output_type": "stream",
     "text": [
      "13:16:02.394 DEBUG org.hibernate.SQL - create table EX_ONE_TO_MANY_B.EORDER (date timestamp(6) not null, id bigint not null, primary key (id))\n"
     ]
    },
    {
     "name": "stdout",
     "output_type": "stream",
     "text": [
      "13:16:02.396 DEBUG org.hibernate.SQL - create table EX_ONE_TO_MANY_B.LINE (price float(53), OrderOneToManyB_id bigint not null, product varchar(255))\n"
     ]
    },
    {
     "name": "stdout",
     "output_type": "stream",
     "text": [
      "13:16:02.397 DEBUG org.hibernate.SQL - create table EX_SIMPLE.CUSTOMER (id bigint not null, email varchar(255), name varchar(255), primary key (id))\n"
     ]
    },
    {
     "name": "stdout",
     "output_type": "stream",
     "text": [
      "13:16:02.399 DEBUG org.hibernate.SQL - create table EX_UUID.CUSTOMER (uuid uuid not null, name varchar(50) not null, primary key (uuid))\n"
     ]
    },
    {
     "name": "stdout",
     "output_type": "stream",
     "text": [
      "13:16:02.404 DEBUG org.hibernate.SQL - create sequence ADDRESS_SEQ start with 1 increment by 50\n"
     ]
    },
    {
     "name": "stdout",
     "output_type": "stream",
     "text": [
      "13:16:02.406 DEBUG org.hibernate.SQL - create sequence CUSTOMER_BASE_SEQ start with 1 increment by 50\n"
     ]
    },
    {
     "name": "stdout",
     "output_type": "stream",
     "text": [
      "13:16:02.406 DEBUG org.hibernate.SQL - create sequence CUSTOMER_BIS_SEQ start with 1 increment by 50\n"
     ]
    },
    {
     "name": "stdout",
     "output_type": "stream",
     "text": [
      "13:16:02.407 DEBUG org.hibernate.SQL - create sequence CUSTOMER_SEQ start with 1 increment by 50\n"
     ]
    },
    {
     "name": "stdout",
     "output_type": "stream",
     "text": [
      "13:16:02.408 DEBUG org.hibernate.SQL - create sequence CUSTOMER_SEQUENCE start with 1 increment by 10\n"
     ]
    },
    {
     "name": "stdout",
     "output_type": "stream",
     "text": [
      "13:16:02.408 DEBUG org.hibernate.SQL - create sequence EORDER_SEQ start with 1 increment by 50\n"
     ]
    },
    {
     "name": "stdout",
     "output_type": "stream",
     "text": [
      "13:16:02.409 DEBUG org.hibernate.SQL - create sequence LINE_SEQ start with 1 increment by 50\n"
     ]
    },
    {
     "name": "stdout",
     "output_type": "stream",
     "text": [
      "13:16:02.409 DEBUG org.hibernate.SQL - create sequence PERSON_SEQ start with 1 increment by 50\n"
     ]
    },
    {
     "name": "stdout",
     "output_type": "stream",
     "text": [
      "13:16:02.410 DEBUG org.hibernate.SQL - create table CUSTOMER (birthDate date, status smallint check (status between 0 and 1), version integer, ID bigint not null, creationDate timestamp(6), email varchar(50) not null unique, firstname varchar(50) not null, lastname varchar(50) not null, photo oid, primary key (ID))\n"
     ]
    },
    {
     "name": "stdout",
     "output_type": "stream",
     "text": [
      "13:16:02.414 DEBUG org.hibernate.SQL - create table CUSTOMER_BASE (id bigint not null, name varchar(50) not null, primary key (id))\n"
     ]
    },
    {
     "name": "stdout",
     "output_type": "stream",
     "text": [
      "13:16:02.415 DEBUG org.hibernate.SQL - create table CUSTOMER_BIS (id bigint not null, name varchar(255), primary key (id))\n"
     ]
    },
    {
     "name": "stdout",
     "output_type": "stream",
     "text": [
      "13:16:02.417 DEBUG org.hibernate.SQL - alter table if exists EX_HERITAGE2.STUDENT add constraint FKbhp183l5ur0m48nhfqjtodwt7 foreign key (id) references EX_HERITAGE2.PERSON\n"
     ]
    },
    {
     "name": "stdout",
     "output_type": "stream",
     "text": [
      "13:16:02.419 DEBUG org.hibernate.SQL - alter table if exists EX_HERITAGE2.TEACHER add constraint FKeiv4tioua2f6b81bwlpje2d8t foreign key (id) references EX_HERITAGE2.PERSON\n"
     ]
    },
    {
     "name": "stdout",
     "output_type": "stream",
     "text": [
      "13:16:02.420 DEBUG org.hibernate.SQL - alter table if exists EX_MANY_TO_MANY.CUSTOMER_ADDRESS add constraint FKcl977kx0vb0mvbvk84kl4lqcv foreign key (places_id) references EX_MANY_TO_MANY.ADDRESS\n"
     ]
    },
    {
     "name": "stdout",
     "output_type": "stream",
     "text": [
      "13:16:02.421 DEBUG org.hibernate.SQL - alter table if exists EX_MANY_TO_MANY.CUSTOMER_ADDRESS add constraint FKhqfehryv5ajn01d0bnvn7b55e foreign key (occupants_id) references EX_MANY_TO_MANY.CUSTOMER\n"
     ]
    },
    {
     "name": "stdout",
     "output_type": "stream",
     "text": [
      "13:16:02.422 DEBUG org.hibernate.SQL - alter table if exists EX_ONE_TO_MANY_A.LINE add constraint FKtiwu942eblywp71x5p8agmhm9 foreign key (order_id) references EX_ONE_TO_MANY_A.EORDER\n"
     ]
    },
    {
     "name": "stdout",
     "output_type": "stream",
     "text": [
      "13:16:02.423 DEBUG org.hibernate.SQL - alter table if exists EX_ONE_TO_MANY_B.LINE add constraint FKk9141l2uxmt4wtydt7dxfcgm3 foreign key (OrderOneToManyB_id) references EX_ONE_TO_MANY_B.EORDER\n"
     ]
    },
    {
     "name": "stdout",
     "output_type": "stream",
     "text": [
      "13:16:02.473 DEBUG org.hibernate.SQL - select tbl.next_val from EX_IDTABLE.ID_GENERATOR_TABLE tbl where tbl.sequence_name=? for update of tbl\n"
     ]
    },
    {
     "name": "stdout",
     "output_type": "stream",
     "text": [
      "13:16:02.475 DEBUG org.hibernate.SQL - update EX_IDTABLE.ID_GENERATOR_TABLE set next_val=?  where next_val=? and sequence_name=?\n"
     ]
    },
    {
     "name": "stdout",
     "output_type": "stream",
     "text": [
      "13:16:02.487 DEBUG org.hibernate.SQL - select tbl.next_val from EX_IDTABLE.ID_GENERATOR_TABLE tbl where tbl.sequence_name=? for update of tbl\n"
     ]
    },
    {
     "name": "stdout",
     "output_type": "stream",
     "text": [
      "13:16:02.487 DEBUG org.hibernate.SQL - update EX_IDTABLE.ID_GENERATOR_TABLE set next_val=?  where next_val=? and sequence_name=?\n"
     ]
    },
    {
     "name": "stdout",
     "output_type": "stream",
     "text": [
      "13:16:02.497 DEBUG org.hibernate.SQL - insert into EX_IDTABLE.CUSTOMER (name,id) values (?,?)\n"
     ]
    },
    {
     "name": "stdout",
     "output_type": "stream",
     "text": [
      "13:16:02.499 DEBUG org.hibernate.SQL - insert into EX_IDTABLE.CUSTOMER (name,id) values (?,?)\n"
     ]
    },
    {
     "name": "stdout",
     "output_type": "stream",
     "text": [
      "13:16:02.522 DEBUG org.hibernate.SQL - select c1_0.id,c1_0.name from EX_IDTABLE.CUSTOMER c1_0 where c1_0.id=?\n"
     ]
    },
    {
     "name": "stdout",
     "output_type": "stream",
     "text": [
      "13:16:02.525 DEBUG org.hibernate.SQL - select c1_0.id,c1_0.name from EX_IDTABLE.CUSTOMER c1_0 where c1_0.id=?\n"
     ]
    },
    {
     "name": "stdout",
     "output_type": "stream",
     "text": [
      "13:16:02.540 DEBUG org.hibernate.SQL - select nextval('CUSTOMER_SEQ')\n"
     ]
    },
    {
     "name": "stdout",
     "output_type": "stream",
     "text": [
      "13:16:02.543 DEBUG org.hibernate.SQL - insert into ex_biography.CUSTOMER (BIO_BRIEF,BIO_EXTENDED,name,id) values (?,?,?,?)\n"
     ]
    },
    {
     "name": "stdout",
     "output_type": "stream",
     "text": [
      "13:16:02.555 DEBUG org.hibernate.SQL - select c1_0.id,c1_0.BIO_BRIEF,c1_0.BIO_EXTENDED,c1_0.name from ex_biography.CUSTOMER c1_0 where c1_0.id=?\n"
     ]
    },
    {
     "name": "stdout",
     "output_type": "stream",
     "text": [
      "13:16:02.567 DEBUG org.hibernate.SQL - insert into EX_IDCLASS.EMPLOYE (name,department,rankInDepartment) values (?,?,?)\n"
     ]
    },
    {
     "name": "stdout",
     "output_type": "stream",
     "text": [
      "13:16:02.570 DEBUG org.hibernate.SQL - insert into EX_IDCLASS.EMPLOYE (name,department,rankInDepartment) values (?,?,?)\n"
     ]
    },
    {
     "name": "stdout",
     "output_type": "stream",
     "text": [
      "13:16:02.571 DEBUG org.hibernate.SQL - select e1_0.department,e1_0.rankInDepartment,e1_0.name from EX_IDCLASS.EMPLOYE e1_0 where (e1_0.department,e1_0.rankInDepartment) in ((?,?))\n"
     ]
    },
    {
     "name": "stdout",
     "output_type": "stream",
     "text": [
      "13:16:02.717 DEBUG org.hibernate.SQL - insert into EX_UUID.CUSTOMER (name,uuid) values (?,?)\n"
     ]
    },
    {
     "name": "stdout",
     "output_type": "stream",
     "text": [
      "13:16:02.718 DEBUG org.hibernate.SQL - insert into EX_UUID.CUSTOMER (name,uuid) values (?,?)\n"
     ]
    },
    {
     "name": "stdout",
     "output_type": "stream",
     "text": [
      "13:16:02.719 DEBUG org.hibernate.SQL - insert into EX_UUID.CUSTOMER (name,uuid) values (?,?)\n"
     ]
    },
    {
     "name": "stdout",
     "output_type": "stream",
     "text": [
      "13:16:02.719 DEBUG org.hibernate.SQL - insert into EX_UUID.CUSTOMER (name,uuid) values (?,?)\n"
     ]
    },
    {
     "name": "stdout",
     "output_type": "stream",
     "text": [
      "13:16:02.719 DEBUG org.hibernate.SQL - insert into EX_UUID.CUSTOMER (name,uuid) values (?,?)\n"
     ]
    },
    {
     "name": "stdout",
     "output_type": "stream",
     "text": [
      "13:16:02.928 DEBUG org.hibernate.SQL - select c1_0.uuid,c1_0.name from EX_UUID.CUSTOMER c1_0 fetch first ? rows only\n"
     ]
    },
    {
     "name": "stdout",
     "output_type": "stream",
     "text": [
      "13:16:02.929 INFO  f.u.bruno.demos.jpa.hello.UUIDTest - Customer(uuid=f36eebbe-7239-417b-8d0b-b4ff3a03ef60, name=Stevie Swaniawski)\n"
     ]
    },
    {
     "name": "stdout",
     "output_type": "stream",
     "text": [
      "13:16:02.929 INFO  f.u.bruno.demos.jpa.hello.UUIDTest - Customer(uuid=8bf2e47a-a3c1-445a-b2bf-f8e7af9f19bc, name=Hobert Schulist)\n"
     ]
    },
    {
     "name": "stdout",
     "output_type": "stream",
     "text": [
      "13:16:02.929 INFO  f.u.bruno.demos.jpa.hello.UUIDTest - Customer(uuid=56d633aa-2071-4295-a453-72951cad98e4, name=Archie Okuneva DDS)\n"
     ]
    },
    {
     "name": "stdout",
     "output_type": "stream",
     "text": [
      "13:16:02.930 INFO  f.u.bruno.demos.jpa.hello.UUIDTest - Customer(uuid=23e11f97-0ccf-4485-8065-5113d6e899e4, name=Daniel Stokes)\n"
     ]
    },
    {
     "name": "stdout",
     "output_type": "stream",
     "text": [
      "13:16:02.930 INFO  f.u.bruno.demos.jpa.hello.UUIDTest - Customer(uuid=83de780f-49d1-4a14-aadc-ec070082db90, name=Joy Beatty)\n"
     ]
    },
    {
     "name": "stdout",
     "output_type": "stream",
     "text": [
      "13:16:02.932 DEBUG org.hibernate.SQL - select nextval('PERSON_SEQ')\n"
     ]
    },
    {
     "name": "stdout",
     "output_type": "stream",
     "text": [
      "13:16:02.934 DEBUG org.hibernate.SQL - select nextval('PERSON_SEQ')\n"
     ]
    },
    {
     "name": "stdout",
     "output_type": "stream",
     "text": [
      "13:16:02.936 DEBUG org.hibernate.SQL - insert into EX_HERITAGE1.Person (name,status,DTYPE,id) values (?,?,'Student',?)\n"
     ]
    },
    {
     "name": "stdout",
     "output_type": "stream",
     "text": [
      "13:16:02.937 DEBUG org.hibernate.SQL - insert into EX_HERITAGE1.Person (name,salary,DTYPE,id) values (?,?,'Teacher',?)\n"
     ]
    },
    {
     "name": "stdout",
     "output_type": "stream",
     "text": [
      "13:16:02.937 DEBUG org.hibernate.SQL - select s1_0.id,s1_0.name,s1_0.status from EX_HERITAGE1.Person s1_0 where s1_0.DTYPE='Student' and s1_0.id=?\n"
     ]
    },
    {
     "name": "stdout",
     "output_type": "stream",
     "text": [
      "13:16:02.938 DEBUG org.hibernate.SQL - select t1_0.id,t1_0.name,t1_0.salary from EX_HERITAGE1.Person t1_0 where t1_0.DTYPE='Teacher' and t1_0.id=?\n"
     ]
    },
    {
     "name": "stdout",
     "output_type": "stream",
     "text": [
      "13:16:02.942 DEBUG org.hibernate.SQL - select nextval('EORDER_SEQ')\n"
     ]
    },
    {
     "name": "stdout",
     "output_type": "stream",
     "text": [
      "13:16:02.947 DEBUG org.hibernate.SQL - select nextval('EORDER_SEQ')\n"
     ]
    },
    {
     "name": "stdout",
     "output_type": "stream",
     "text": [
      "13:16:02.950 DEBUG org.hibernate.SQL - insert into EX_ONE_TO_MANY_B.EORDER (date,id) values (?,?)\n"
     ]
    },
    {
     "name": "stdout",
     "output_type": "stream",
     "text": [
      "13:16:02.952 DEBUG org.hibernate.SQL - insert into EX_ONE_TO_MANY_B.EORDER (date,id) values (?,?)\n"
     ]
    },
    {
     "name": "stdout",
     "output_type": "stream",
     "text": [
      "13:16:02.954 DEBUG org.hibernate.SQL - insert into EX_ONE_TO_MANY_B.LINE (OrderOneToManyB_id,price,product) values (?,?,?)\n"
     ]
    },
    {
     "name": "stdout",
     "output_type": "stream",
     "text": [
      "13:16:02.956 DEBUG org.hibernate.SQL - insert into EX_ONE_TO_MANY_B.LINE (OrderOneToManyB_id,price,product) values (?,?,?)\n"
     ]
    },
    {
     "name": "stdout",
     "output_type": "stream",
     "text": [
      "13:16:02.957 DEBUG org.hibernate.SQL - insert into EX_ONE_TO_MANY_B.LINE (OrderOneToManyB_id,price,product) values (?,?,?)\n"
     ]
    },
    {
     "name": "stdout",
     "output_type": "stream",
     "text": [
      "13:16:02.957 DEBUG org.hibernate.SQL - insert into EX_ONE_TO_MANY_B.LINE (OrderOneToManyB_id,price,product) values (?,?,?)\n"
     ]
    },
    {
     "name": "stdout",
     "output_type": "stream",
     "text": [
      "13:16:02.960 DEBUG org.hibernate.SQL - select o1_0.id,o1_0.date from EX_ONE_TO_MANY_B.EORDER o1_0 where o1_0.id=?\n"
     ]
    },
    {
     "name": "stdout",
     "output_type": "stream",
     "text": [
      "13:16:02.965 DEBUG org.hibernate.SQL - select nextval('CUSTOMER_SEQUENCE')\n"
     ]
    },
    {
     "name": "stdout",
     "output_type": "stream",
     "text": [
      "13:16:02.966 DEBUG org.hibernate.SQL - select nextval('CUSTOMER_SEQUENCE')\n"
     ]
    },
    {
     "name": "stdout",
     "output_type": "stream",
     "text": [
      "13:16:02.967 DEBUG org.hibernate.SQL - insert into EX_IDSEQ.CUSTOMER (name,id) values (?,?)\n"
     ]
    },
    {
     "name": "stdout",
     "output_type": "stream",
     "text": [
      "13:16:02.969 DEBUG org.hibernate.SQL - insert into EX_IDSEQ.CUSTOMER (name,id) values (?,?)\n"
     ]
    },
    {
     "name": "stdout",
     "output_type": "stream",
     "text": [
      "13:16:02.969 DEBUG org.hibernate.SQL - select c1_0.id,c1_0.name from EX_IDSEQ.CUSTOMER c1_0 where c1_0.id=?\n"
     ]
    },
    {
     "name": "stdout",
     "output_type": "stream",
     "text": [
      "13:16:02.970 DEBUG org.hibernate.SQL - select c1_0.id,c1_0.name from EX_IDSEQ.CUSTOMER c1_0 where c1_0.id=?\n"
     ]
    },
    {
     "name": "stdout",
     "output_type": "stream",
     "text": [
      "13:16:02.974 DEBUG org.hibernate.SQL - insert into EX_EMBEDDED_ID.EMPLOYE (name,department,rankInDepartment) values (?,?,?)\n"
     ]
    },
    {
     "name": "stdout",
     "output_type": "stream",
     "text": [
      "13:16:02.976 DEBUG org.hibernate.SQL - insert into EX_EMBEDDED_ID.EMPLOYE (name,department,rankInDepartment) values (?,?,?)\n"
     ]
    },
    {
     "name": "stdout",
     "output_type": "stream",
     "text": [
      "13:16:02.977 DEBUG org.hibernate.SQL - select e1_0.department,e1_0.rankInDepartment,e1_0.name from EX_EMBEDDED_ID.EMPLOYE e1_0 where (e1_0.department,e1_0.rankInDepartment) in ((?,?))\n"
     ]
    },
    {
     "name": "stdout",
     "output_type": "stream",
     "text": [
      "13:16:03.001 DEBUG org.hibernate.SQL - select nextval('ADDRESS_SEQ')\n"
     ]
    },
    {
     "name": "stdout",
     "output_type": "stream",
     "text": [
      "13:16:03.002 DEBUG org.hibernate.SQL - select nextval('ADDRESS_SEQ')\n"
     ]
    },
    {
     "name": "stdout",
     "output_type": "stream",
     "text": [
      "13:16:03.008 DEBUG org.hibernate.SQL - insert into EX_MANY_TO_MANY.ADDRESS (addressDetail,id) values (?,?)\n"
     ]
    },
    {
     "name": "stdout",
     "output_type": "stream",
     "text": [
      "13:16:03.009 DEBUG org.hibernate.SQL - insert into EX_MANY_TO_MANY.ADDRESS (addressDetail,id) values (?,?)\n"
     ]
    },
    {
     "name": "stdout",
     "output_type": "stream",
     "text": [
      "13:16:03.009 DEBUG org.hibernate.SQL - insert into EX_MANY_TO_MANY.ADDRESS (addressDetail,id) values (?,?)\n"
     ]
    },
    {
     "name": "stdout",
     "output_type": "stream",
     "text": [
      "13:16:03.010 DEBUG org.hibernate.SQL - select a1_0.id,a1_0.addressDetail from EX_MANY_TO_MANY.ADDRESS a1_0 order by random() fetch first ? rows only\n"
     ]
    },
    {
     "name": "stdout",
     "output_type": "stream",
     "text": [
      "13:16:03.011 DEBUG org.hibernate.SQL - select nextval('CUSTOMER_SEQ')\n"
     ]
    },
    {
     "name": "stdout",
     "output_type": "stream",
     "text": [
      "13:16:03.018 DEBUG org.hibernate.SQL - select a1_0.id,a1_0.addressDetail from EX_MANY_TO_MANY.ADDRESS a1_0 order by random() fetch first ? rows only\n"
     ]
    },
    {
     "name": "stdout",
     "output_type": "stream",
     "text": [
      "13:16:03.020 DEBUG org.hibernate.SQL - select a1_0.id,a1_0.addressDetail from EX_MANY_TO_MANY.ADDRESS a1_0 order by random() fetch first ? rows only\n"
     ]
    },
    {
     "name": "stdout",
     "output_type": "stream",
     "text": [
      "13:16:03.021 DEBUG org.hibernate.SQL - select a1_0.id,a1_0.addressDetail from EX_MANY_TO_MANY.ADDRESS a1_0 order by random() fetch first ? rows only\n"
     ]
    },
    {
     "name": "stdout",
     "output_type": "stream",
     "text": [
      "13:16:03.022 DEBUG org.hibernate.SQL - select a1_0.id,a1_0.addressDetail from EX_MANY_TO_MANY.ADDRESS a1_0 order by random() fetch first ? rows only\n"
     ]
    },
    {
     "name": "stdout",
     "output_type": "stream",
     "text": [
      "13:16:03.023 DEBUG org.hibernate.SQL - select a1_0.id,a1_0.addressDetail from EX_MANY_TO_MANY.ADDRESS a1_0 order by random() fetch first ? rows only\n"
     ]
    },
    {
     "name": "stdout",
     "output_type": "stream",
     "text": [
      "13:16:03.024 DEBUG org.hibernate.SQL - select a1_0.id,a1_0.addressDetail from EX_MANY_TO_MANY.ADDRESS a1_0 order by random() fetch first ? rows only\n"
     ]
    },
    {
     "name": "stdout",
     "output_type": "stream",
     "text": [
      "13:16:03.025 DEBUG org.hibernate.SQL - select a1_0.id,a1_0.addressDetail from EX_MANY_TO_MANY.ADDRESS a1_0 order by random() fetch first ? rows only\n"
     ]
    },
    {
     "name": "stdout",
     "output_type": "stream",
     "text": [
      "13:16:03.027 DEBUG org.hibernate.SQL - select a1_0.id,a1_0.addressDetail from EX_MANY_TO_MANY.ADDRESS a1_0 order by random() fetch first ? rows only\n"
     ]
    },
    {
     "name": "stdout",
     "output_type": "stream",
     "text": [
      "13:16:03.028 DEBUG org.hibernate.SQL - select a1_0.id,a1_0.addressDetail from EX_MANY_TO_MANY.ADDRESS a1_0 order by random() fetch first ? rows only\n"
     ]
    },
    {
     "name": "stdout",
     "output_type": "stream",
     "text": [
      "13:16:03.029 DEBUG org.hibernate.SQL - insert into EX_MANY_TO_MANY.CUSTOMER (name,id) values (?,?)\n"
     ]
    },
    {
     "name": "stdout",
     "output_type": "stream",
     "text": [
      "13:16:03.031 DEBUG org.hibernate.SQL - insert into EX_MANY_TO_MANY.CUSTOMER (name,id) values (?,?)\n"
     ]
    },
    {
     "name": "stdout",
     "output_type": "stream",
     "text": [
      "13:16:03.031 DEBUG org.hibernate.SQL - insert into EX_MANY_TO_MANY.CUSTOMER (name,id) values (?,?)\n"
     ]
    },
    {
     "name": "stdout",
     "output_type": "stream",
     "text": [
      "13:16:03.031 DEBUG org.hibernate.SQL - insert into EX_MANY_TO_MANY.CUSTOMER (name,id) values (?,?)\n"
     ]
    },
    {
     "name": "stdout",
     "output_type": "stream",
     "text": [
      "13:16:03.032 DEBUG org.hibernate.SQL - insert into EX_MANY_TO_MANY.CUSTOMER (name,id) values (?,?)\n"
     ]
    },
    {
     "name": "stdout",
     "output_type": "stream",
     "text": [
      "13:16:03.032 DEBUG org.hibernate.SQL - insert into EX_MANY_TO_MANY.CUSTOMER (name,id) values (?,?)\n"
     ]
    },
    {
     "name": "stdout",
     "output_type": "stream",
     "text": [
      "13:16:03.032 DEBUG org.hibernate.SQL - insert into EX_MANY_TO_MANY.CUSTOMER (name,id) values (?,?)\n"
     ]
    },
    {
     "name": "stdout",
     "output_type": "stream",
     "text": [
      "13:16:03.033 DEBUG org.hibernate.SQL - insert into EX_MANY_TO_MANY.CUSTOMER (name,id) values (?,?)\n"
     ]
    },
    {
     "name": "stdout",
     "output_type": "stream",
     "text": [
      "13:16:03.033 DEBUG org.hibernate.SQL - insert into EX_MANY_TO_MANY.CUSTOMER (name,id) values (?,?)\n"
     ]
    },
    {
     "name": "stdout",
     "output_type": "stream",
     "text": [
      "13:16:03.033 DEBUG org.hibernate.SQL - insert into EX_MANY_TO_MANY.CUSTOMER (name,id) values (?,?)\n"
     ]
    },
    {
     "name": "stdout",
     "output_type": "stream",
     "text": [
      "13:16:03.035 DEBUG org.hibernate.SQL - insert into EX_MANY_TO_MANY.CUSTOMER_ADDRESS (occupants_id,places_id) values (?,?)\n"
     ]
    },
    {
     "name": "stdout",
     "output_type": "stream",
     "text": [
      "13:16:03.036 DEBUG org.hibernate.SQL - insert into EX_MANY_TO_MANY.CUSTOMER_ADDRESS (occupants_id,places_id) values (?,?)\n"
     ]
    },
    {
     "name": "stdout",
     "output_type": "stream",
     "text": [
      "13:16:03.036 DEBUG org.hibernate.SQL - insert into EX_MANY_TO_MANY.CUSTOMER_ADDRESS (occupants_id,places_id) values (?,?)\n"
     ]
    },
    {
     "name": "stdout",
     "output_type": "stream",
     "text": [
      "13:16:03.036 DEBUG org.hibernate.SQL - insert into EX_MANY_TO_MANY.CUSTOMER_ADDRESS (occupants_id,places_id) values (?,?)\n"
     ]
    },
    {
     "name": "stdout",
     "output_type": "stream",
     "text": [
      "13:16:03.037 DEBUG org.hibernate.SQL - insert into EX_MANY_TO_MANY.CUSTOMER_ADDRESS (occupants_id,places_id) values (?,?)\n"
     ]
    },
    {
     "name": "stdout",
     "output_type": "stream",
     "text": [
      "13:16:03.037 DEBUG org.hibernate.SQL - insert into EX_MANY_TO_MANY.CUSTOMER_ADDRESS (occupants_id,places_id) values (?,?)\n"
     ]
    },
    {
     "name": "stdout",
     "output_type": "stream",
     "text": [
      "13:16:03.037 DEBUG org.hibernate.SQL - insert into EX_MANY_TO_MANY.CUSTOMER_ADDRESS (occupants_id,places_id) values (?,?)\n"
     ]
    },
    {
     "name": "stdout",
     "output_type": "stream",
     "text": [
      "13:16:03.038 DEBUG org.hibernate.SQL - insert into EX_MANY_TO_MANY.CUSTOMER_ADDRESS (occupants_id,places_id) values (?,?)\n"
     ]
    },
    {
     "name": "stdout",
     "output_type": "stream",
     "text": [
      "13:16:03.038 DEBUG org.hibernate.SQL - insert into EX_MANY_TO_MANY.CUSTOMER_ADDRESS (occupants_id,places_id) values (?,?)\n"
     ]
    },
    {
     "name": "stdout",
     "output_type": "stream",
     "text": [
      "13:16:03.038 DEBUG org.hibernate.SQL - insert into EX_MANY_TO_MANY.CUSTOMER_ADDRESS (occupants_id,places_id) values (?,?)\n"
     ]
    },
    {
     "name": "stdout",
     "output_type": "stream",
     "text": [
      "13:16:03.039 DEBUG org.hibernate.SQL - insert into EX_MANY_TO_MANY.CUSTOMER_ADDRESS (occupants_id,places_id) values (?,?)\n"
     ]
    },
    {
     "name": "stdout",
     "output_type": "stream",
     "text": [
      "13:16:03.039 DEBUG org.hibernate.SQL - insert into EX_MANY_TO_MANY.CUSTOMER_ADDRESS (occupants_id,places_id) values (?,?)\n"
     ]
    },
    {
     "name": "stdout",
     "output_type": "stream",
     "text": [
      "13:16:03.039 DEBUG org.hibernate.SQL - insert into EX_MANY_TO_MANY.CUSTOMER_ADDRESS (occupants_id,places_id) values (?,?)\n"
     ]
    },
    {
     "name": "stdout",
     "output_type": "stream",
     "text": [
      "13:16:03.040 DEBUG org.hibernate.SQL - insert into EX_MANY_TO_MANY.CUSTOMER_ADDRESS (occupants_id,places_id) values (?,?)\n"
     ]
    },
    {
     "name": "stdout",
     "output_type": "stream",
     "text": [
      "13:16:03.040 DEBUG org.hibernate.SQL - insert into EX_MANY_TO_MANY.CUSTOMER_ADDRESS (occupants_id,places_id) values (?,?)\n"
     ]
    },
    {
     "name": "stdout",
     "output_type": "stream",
     "text": [
      "13:16:03.041 DEBUG org.hibernate.SQL - insert into EX_MANY_TO_MANY.CUSTOMER_ADDRESS (occupants_id,places_id) values (?,?)\n"
     ]
    },
    {
     "name": "stdout",
     "output_type": "stream",
     "text": [
      "13:16:03.041 DEBUG org.hibernate.SQL - insert into EX_MANY_TO_MANY.CUSTOMER_ADDRESS (occupants_id,places_id) values (?,?)\n"
     ]
    },
    {
     "name": "stdout",
     "output_type": "stream",
     "text": [
      "13:16:03.041 DEBUG org.hibernate.SQL - insert into EX_MANY_TO_MANY.CUSTOMER_ADDRESS (occupants_id,places_id) values (?,?)\n"
     ]
    },
    {
     "name": "stdout",
     "output_type": "stream",
     "text": [
      "13:16:03.045 DEBUG org.hibernate.SQL - select nextval('PERSON_SEQ')\n"
     ]
    },
    {
     "name": "stdout",
     "output_type": "stream",
     "text": [
      "13:16:03.048 DEBUG org.hibernate.SQL - insert into EX_HERITAGE2.PERSON (name,id) values (?,?)\n"
     ]
    },
    {
     "name": "stdout",
     "output_type": "stream",
     "text": [
      "13:16:03.048 DEBUG org.hibernate.SQL - insert into EX_HERITAGE2.STUDENT (status,id) values (?,?)\n"
     ]
    },
    {
     "name": "stdout",
     "output_type": "stream",
     "text": [
      "13:16:03.049 DEBUG org.hibernate.SQL - insert into EX_HERITAGE2.PERSON (name,id) values (?,?)\n"
     ]
    },
    {
     "name": "stdout",
     "output_type": "stream",
     "text": [
      "13:16:03.050 DEBUG org.hibernate.SQL - insert into EX_HERITAGE2.TEACHER (salary,id) values (?,?)\n"
     ]
    },
    {
     "name": "stdout",
     "output_type": "stream",
     "text": [
      "13:16:03.050 DEBUG org.hibernate.SQL - select s1_0.id,s1_1.name,s1_0.status from EX_HERITAGE2.STUDENT s1_0 join EX_HERITAGE2.PERSON s1_1 on s1_0.id=s1_1.id where s1_0.id=?\n"
     ]
    },
    {
     "name": "stdout",
     "output_type": "stream",
     "text": [
      "13:16:03.051 DEBUG org.hibernate.SQL - select t1_0.id,t1_1.name,t1_0.salary from EX_HERITAGE2.TEACHER t1_0 join EX_HERITAGE2.PERSON t1_1 on t1_0.id=t1_1.id where t1_0.id=?\n"
     ]
    },
    {
     "name": "stdout",
     "output_type": "stream",
     "text": [
      "13:16:03.055 INFO  f.u.b.d.jpa.hello.HookListenerTest - CustomerWithListener(id=0, name=Peter)\n"
     ]
    },
    {
     "name": "stdout",
     "output_type": "stream",
     "text": [
      "13:16:03.055 DEBUG org.hibernate.SQL - select nextval('CUSTOMER_BIS_SEQ')\n"
     ]
    },
    {
     "name": "stdout",
     "output_type": "stream",
     "text": [
      "13:16:03.056 INFO  f.u.b.d.j.h.s.e.EntityMonitorListener - -->about to change in DB: CustomerWithListener(id=1, name=Peter)\n"
     ]
    },
    {
     "name": "stdout",
     "output_type": "stream",
     "text": [
      "13:16:03.056 INFO  f.u.b.d.j.h.s.e.EntityMonitorListener - -->about to change in DB: CustomerWithListener(id=1, name=Pierre)\n"
     ]
    },
    {
     "name": "stdout",
     "output_type": "stream",
     "text": [
      "13:16:03.057 DEBUG org.hibernate.SQL - insert into CUSTOMER_BIS (name,id) values (?,?)\n"
     ]
    },
    {
     "name": "stdout",
     "output_type": "stream",
     "text": [
      "13:16:03.057 INFO  f.u.b.d.j.h.s.e.EntityMonitorListener - --> changed in DBCustomerWithListener(id=1, name=Pierre)\n"
     ]
    },
    {
     "name": "stdout",
     "output_type": "stream",
     "text": [
      "13:16:03.059 DEBUG org.hibernate.SQL - update CUSTOMER_BIS set name=? where id=?\n"
     ]
    },
    {
     "name": "stdout",
     "output_type": "stream",
     "text": [
      "13:16:03.062 INFO  f.u.b.d.j.h.s.e.EntityMonitorListener - --> changed in DBCustomerWithListener(id=1, name=Pierre)\n"
     ]
    },
    {
     "name": "stdout",
     "output_type": "stream",
     "text": [
      "13:16:03.062 DEBUG org.hibernate.SQL - select cwl1_0.id,cwl1_0.name from CUSTOMER_BIS cwl1_0 where cwl1_0.id=?\n"
     ]
    },
    {
     "name": "stdout",
     "output_type": "stream",
     "text": [
      "13:16:03.063 INFO  f.u.b.d.j.h.s.e.EntityMonitorListener - --> loaded from DB: CustomerWithListener(id=1, name=Pierre)\n"
     ]
    },
    {
     "name": "stdout",
     "output_type": "stream",
     "text": [
      "13:16:03.064 INFO  f.u.b.d.j.h.s.e.EntityMonitorListener - -->about to change in DB: CustomerWithListener(id=1, name=Pierre)\n"
     ]
    },
    {
     "name": "stdout",
     "output_type": "stream",
     "text": [
      "13:16:03.065 DEBUG org.hibernate.SQL - delete from CUSTOMER_BIS where id=?\n"
     ]
    },
    {
     "name": "stdout",
     "output_type": "stream",
     "text": [
      "13:16:03.067 INFO  f.u.b.d.j.h.s.e.EntityMonitorListener - --> changed in DBCustomerWithListener(id=1, name=Pierre)\n"
     ]
    },
    {
     "name": "stdout",
     "output_type": "stream",
     "text": [
      "13:16:03.069 DEBUG org.hibernate.SQL - select nextval('EORDER_SEQ')\n"
     ]
    },
    {
     "name": "stdout",
     "output_type": "stream",
     "text": [
      "13:16:03.071 DEBUG org.hibernate.SQL - select nextval('LINE_SEQ')\n"
     ]
    },
    {
     "name": "stdout",
     "output_type": "stream",
     "text": [
      "13:16:03.072 DEBUG org.hibernate.SQL - select nextval('LINE_SEQ')\n"
     ]
    },
    {
     "name": "stdout",
     "output_type": "stream",
     "text": [
      "13:16:03.073 DEBUG org.hibernate.SQL - insert into EX_ONE_TO_MANY_A.EORDER (date,id) values (?,?)\n"
     ]
    },
    {
     "name": "stdout",
     "output_type": "stream",
     "text": [
      "13:16:03.074 DEBUG org.hibernate.SQL - insert into EX_ONE_TO_MANY_A.LINE (order_id,price,product,id) values (?,?,?,?)\n"
     ]
    },
    {
     "name": "stdout",
     "output_type": "stream",
     "text": [
      "13:16:03.075 DEBUG org.hibernate.SQL - insert into EX_ONE_TO_MANY_A.LINE (order_id,price,product,id) values (?,?,?,?)\n"
     ]
    },
    {
     "name": "stdout",
     "output_type": "stream",
     "text": [
      "13:16:03.075 DEBUG org.hibernate.SQL - insert into EX_ONE_TO_MANY_A.LINE (order_id,price,product,id) values (?,?,?,?)\n"
     ]
    },
    {
     "name": "stdout",
     "output_type": "stream",
     "text": [
      "13:16:03.075 DEBUG org.hibernate.SQL - insert into EX_ONE_TO_MANY_A.EORDER (date,id) values (?,?)\n"
     ]
    },
    {
     "name": "stdout",
     "output_type": "stream",
     "text": [
      "13:16:03.075 DEBUG org.hibernate.SQL - insert into EX_ONE_TO_MANY_A.LINE (order_id,price,product,id) values (?,?,?,?)\n"
     ]
    },
    {
     "name": "stdout",
     "output_type": "stream",
     "text": [
      "13:16:03.076 DEBUG org.hibernate.SQL - insert into EX_ONE_TO_MANY_A.LINE (order_id,price,product,id) values (?,?,?,?)\n"
     ]
    },
    {
     "name": "stdout",
     "output_type": "stream",
     "text": [
      "13:16:03.077 DEBUG org.hibernate.SQL - select o1_0.id,o1_0.date from EX_ONE_TO_MANY_A.EORDER o1_0\n"
     ]
    },
    {
     "name": "stdout",
     "output_type": "stream",
     "text": [
      "13:16:03.143 DEBUG org.hibernate.SQL - select count(*)>0 from CUSTOMER c1_0 where c1_0.email=?\n"
     ]
    },
    {
     "name": "stdout",
     "output_type": "stream",
     "text": [
      "13:16:03.144 DEBUG org.hibernate.SQL - select nextval('CUSTOMER_SEQ')\n"
     ]
    },
    {
     "name": "stdout",
     "output_type": "stream",
     "text": [
      "13:16:03.146 DEBUG org.hibernate.SQL - insert into CUSTOMER (birthDate,creationDate,email,firstname,lastname,photo,status,version,ID) values (?,?,?,?,?,?,?,?,?)\n"
     ]
    },
    {
     "name": "stdout",
     "output_type": "stream",
     "text": [
      "13:16:03.146 DEBUG org.hibernate.SQL - select count(*)>0 from CUSTOMER c1_0 where c1_0.email=?\n"
     ]
    },
    {
     "name": "stdout",
     "output_type": "stream",
     "text": [
      "13:16:03.147 DEBUG org.hibernate.SQL - insert into CUSTOMER (birthDate,creationDate,email,firstname,lastname,photo,status,version,ID) values (?,?,?,?,?,?,?,?,?)\n"
     ]
    },
    {
     "name": "stdout",
     "output_type": "stream",
     "text": [
      "13:16:03.148 DEBUG org.hibernate.SQL - select count(*)>0 from CUSTOMER c1_0 where c1_0.email=?\n"
     ]
    },
    {
     "name": "stdout",
     "output_type": "stream",
     "text": [
      "13:16:03.148 DEBUG org.hibernate.SQL - insert into CUSTOMER (birthDate,creationDate,email,firstname,lastname,photo,status,version,ID) values (?,?,?,?,?,?,?,?,?)\n"
     ]
    },
    {
     "name": "stdout",
     "output_type": "stream",
     "text": [
      "13:16:03.149 DEBUG org.hibernate.SQL - select count(*)>0 from CUSTOMER c1_0 where c1_0.email=?\n"
     ]
    },
    {
     "name": "stdout",
     "output_type": "stream",
     "text": [
      "13:16:03.151 DEBUG org.hibernate.SQL - insert into CUSTOMER (birthDate,creationDate,email,firstname,lastname,photo,status,version,ID) values (?,?,?,?,?,?,?,?,?)\n"
     ]
    },
    {
     "name": "stdout",
     "output_type": "stream",
     "text": [
      "13:16:03.151 DEBUG org.hibernate.SQL - select count(*)>0 from CUSTOMER c1_0 where c1_0.email=?\n"
     ]
    },
    {
     "name": "stdout",
     "output_type": "stream",
     "text": [
      "13:16:03.152 DEBUG org.hibernate.SQL - insert into CUSTOMER (birthDate,creationDate,email,firstname,lastname,photo,status,version,ID) values (?,?,?,?,?,?,?,?,?)\n"
     ]
    },
    {
     "name": "stdout",
     "output_type": "stream",
     "text": [
      "13:16:03.153 DEBUG org.hibernate.SQL - select count(*)>0 from CUSTOMER c1_0 where c1_0.email=?\n"
     ]
    },
    {
     "name": "stdout",
     "output_type": "stream",
     "text": [
      "13:16:03.154 DEBUG org.hibernate.SQL - insert into CUSTOMER (birthDate,creationDate,email,firstname,lastname,photo,status,version,ID) values (?,?,?,?,?,?,?,?,?)\n"
     ]
    },
    {
     "name": "stdout",
     "output_type": "stream",
     "text": [
      "13:16:03.154 DEBUG org.hibernate.SQL - select count(*)>0 from CUSTOMER c1_0 where c1_0.email=?\n"
     ]
    },
    {
     "name": "stdout",
     "output_type": "stream",
     "text": [
      "13:16:03.156 DEBUG org.hibernate.SQL - insert into CUSTOMER (birthDate,creationDate,email,firstname,lastname,photo,status,version,ID) values (?,?,?,?,?,?,?,?,?)\n"
     ]
    },
    {
     "name": "stdout",
     "output_type": "stream",
     "text": [
      "13:16:03.156 DEBUG org.hibernate.SQL - select count(*)>0 from CUSTOMER c1_0 where c1_0.email=?\n"
     ]
    },
    {
     "name": "stdout",
     "output_type": "stream",
     "text": [
      "13:16:03.159 DEBUG org.hibernate.SQL - insert into CUSTOMER (birthDate,creationDate,email,firstname,lastname,photo,status,version,ID) values (?,?,?,?,?,?,?,?,?)\n"
     ]
    },
    {
     "name": "stdout",
     "output_type": "stream",
     "text": [
      "13:16:03.161 DEBUG org.hibernate.SQL - select count(*)>0 from CUSTOMER c1_0 where c1_0.email=?\n"
     ]
    },
    {
     "name": "stdout",
     "output_type": "stream",
     "text": [
      "13:16:03.162 DEBUG org.hibernate.SQL - insert into CUSTOMER (birthDate,creationDate,email,firstname,lastname,photo,status,version,ID) values (?,?,?,?,?,?,?,?,?)\n"
     ]
    },
    {
     "name": "stdout",
     "output_type": "stream",
     "text": [
      "13:16:03.163 DEBUG org.hibernate.SQL - select count(*)>0 from CUSTOMER c1_0 where c1_0.email=?\n"
     ]
    },
    {
     "name": "stdout",
     "output_type": "stream",
     "text": [
      "13:16:03.164 DEBUG org.hibernate.SQL - insert into CUSTOMER (birthDate,creationDate,email,firstname,lastname,photo,status,version,ID) values (?,?,?,?,?,?,?,?,?)\n"
     ]
    },
    {
     "name": "stdout",
     "output_type": "stream",
     "text": [
      "13:16:03.165 DEBUG org.hibernate.SQL - select count(*)>0 from CUSTOMER c1_0 where c1_0.email=?\n"
     ]
    },
    {
     "name": "stdout",
     "output_type": "stream",
     "text": [
      "13:16:03.166 DEBUG org.hibernate.SQL - insert into CUSTOMER (birthDate,creationDate,email,firstname,lastname,photo,status,version,ID) values (?,?,?,?,?,?,?,?,?)\n"
     ]
    },
    {
     "name": "stdout",
     "output_type": "stream",
     "text": [
      "13:16:03.166 DEBUG org.hibernate.SQL - select count(*)>0 from CUSTOMER c1_0 where c1_0.email=?\n"
     ]
    },
    {
     "name": "stdout",
     "output_type": "stream",
     "text": [
      "13:16:03.168 DEBUG org.hibernate.SQL - insert into CUSTOMER (birthDate,creationDate,email,firstname,lastname,photo,status,version,ID) values (?,?,?,?,?,?,?,?,?)\n"
     ]
    },
    {
     "name": "stdout",
     "output_type": "stream",
     "text": [
      "13:16:03.169 DEBUG org.hibernate.SQL - select count(*)>0 from CUSTOMER c1_0 where c1_0.email=?\n"
     ]
    },
    {
     "name": "stdout",
     "output_type": "stream",
     "text": [
      "13:16:03.171 DEBUG org.hibernate.SQL - insert into CUSTOMER (birthDate,creationDate,email,firstname,lastname,photo,status,version,ID) values (?,?,?,?,?,?,?,?,?)\n"
     ]
    },
    {
     "name": "stdout",
     "output_type": "stream",
     "text": [
      "13:16:03.172 DEBUG org.hibernate.SQL - select count(*)>0 from CUSTOMER c1_0 where c1_0.email=?\n"
     ]
    },
    {
     "name": "stdout",
     "output_type": "stream",
     "text": [
      "13:16:03.174 DEBUG org.hibernate.SQL - insert into CUSTOMER (birthDate,creationDate,email,firstname,lastname,photo,status,version,ID) values (?,?,?,?,?,?,?,?,?)\n"
     ]
    },
    {
     "name": "stdout",
     "output_type": "stream",
     "text": [
      "13:16:03.174 DEBUG org.hibernate.SQL - select count(*)>0 from CUSTOMER c1_0 where c1_0.email=?\n"
     ]
    },
    {
     "name": "stdout",
     "output_type": "stream",
     "text": [
      "13:16:03.176 DEBUG org.hibernate.SQL - insert into CUSTOMER (birthDate,creationDate,email,firstname,lastname,photo,status,version,ID) values (?,?,?,?,?,?,?,?,?)\n"
     ]
    },
    {
     "name": "stdout",
     "output_type": "stream",
     "text": [
      "13:16:03.177 DEBUG org.hibernate.SQL - select count(*)>0 from CUSTOMER c1_0 where c1_0.email=?\n"
     ]
    },
    {
     "name": "stdout",
     "output_type": "stream",
     "text": [
      "13:16:03.178 DEBUG org.hibernate.SQL - insert into CUSTOMER (birthDate,creationDate,email,firstname,lastname,photo,status,version,ID) values (?,?,?,?,?,?,?,?,?)\n"
     ]
    },
    {
     "name": "stdout",
     "output_type": "stream",
     "text": [
      "13:16:03.179 DEBUG org.hibernate.SQL - select count(*)>0 from CUSTOMER c1_0 where c1_0.email=?\n"
     ]
    },
    {
     "name": "stdout",
     "output_type": "stream",
     "text": [
      "13:16:03.180 DEBUG org.hibernate.SQL - insert into CUSTOMER (birthDate,creationDate,email,firstname,lastname,photo,status,version,ID) values (?,?,?,?,?,?,?,?,?)\n"
     ]
    },
    {
     "name": "stdout",
     "output_type": "stream",
     "text": [
      "13:16:03.181 DEBUG org.hibernate.SQL - select count(*)>0 from CUSTOMER c1_0 where c1_0.email=?\n"
     ]
    },
    {
     "name": "stdout",
     "output_type": "stream",
     "text": [
      "13:16:03.182 DEBUG org.hibernate.SQL - insert into CUSTOMER (birthDate,creationDate,email,firstname,lastname,photo,status,version,ID) values (?,?,?,?,?,?,?,?,?)\n"
     ]
    },
    {
     "name": "stdout",
     "output_type": "stream",
     "text": [
      "13:16:03.183 DEBUG org.hibernate.SQL - select count(*)>0 from CUSTOMER c1_0 where c1_0.email=?\n"
     ]
    },
    {
     "name": "stdout",
     "output_type": "stream",
     "text": [
      "13:16:03.184 DEBUG org.hibernate.SQL - insert into CUSTOMER (birthDate,creationDate,email,firstname,lastname,photo,status,version,ID) values (?,?,?,?,?,?,?,?,?)\n"
     ]
    },
    {
     "name": "stdout",
     "output_type": "stream",
     "text": [
      "13:16:03.185 DEBUG org.hibernate.SQL - select count(*)>0 from CUSTOMER c1_0 where c1_0.email=?\n"
     ]
    },
    {
     "name": "stdout",
     "output_type": "stream",
     "text": [
      "13:16:03.186 DEBUG org.hibernate.SQL - insert into CUSTOMER (birthDate,creationDate,email,firstname,lastname,photo,status,version,ID) values (?,?,?,?,?,?,?,?,?)\n"
     ]
    },
    {
     "name": "stdout",
     "output_type": "stream",
     "text": [
      "13:16:03.187 DEBUG org.hibernate.SQL - select count(*)>0 from CUSTOMER c1_0 where c1_0.email=?\n"
     ]
    },
    {
     "name": "stdout",
     "output_type": "stream",
     "text": [
      "13:16:03.188 DEBUG org.hibernate.SQL - insert into CUSTOMER (birthDate,creationDate,email,firstname,lastname,photo,status,version,ID) values (?,?,?,?,?,?,?,?,?)\n"
     ]
    },
    {
     "name": "stdout",
     "output_type": "stream",
     "text": [
      "13:16:03.188 DEBUG org.hibernate.SQL - select count(*)>0 from CUSTOMER c1_0 where c1_0.email=?\n"
     ]
    },
    {
     "name": "stdout",
     "output_type": "stream",
     "text": [
      "13:16:03.189 DEBUG org.hibernate.SQL - insert into CUSTOMER (birthDate,creationDate,email,firstname,lastname,photo,status,version,ID) values (?,?,?,?,?,?,?,?,?)\n"
     ]
    },
    {
     "name": "stdout",
     "output_type": "stream",
     "text": [
      "13:16:03.190 DEBUG org.hibernate.SQL - select count(*)>0 from CUSTOMER c1_0 where c1_0.email=?\n"
     ]
    },
    {
     "name": "stdout",
     "output_type": "stream",
     "text": [
      "13:16:03.191 DEBUG org.hibernate.SQL - insert into CUSTOMER (birthDate,creationDate,email,firstname,lastname,photo,status,version,ID) values (?,?,?,?,?,?,?,?,?)\n"
     ]
    },
    {
     "name": "stdout",
     "output_type": "stream",
     "text": [
      "13:16:03.191 DEBUG org.hibernate.SQL - select count(*)>0 from CUSTOMER c1_0 where c1_0.email=?\n"
     ]
    },
    {
     "name": "stdout",
     "output_type": "stream",
     "text": [
      "13:16:03.192 DEBUG org.hibernate.SQL - insert into CUSTOMER (birthDate,creationDate,email,firstname,lastname,photo,status,version,ID) values (?,?,?,?,?,?,?,?,?)\n"
     ]
    },
    {
     "name": "stdout",
     "output_type": "stream",
     "text": [
      "13:16:03.193 DEBUG org.hibernate.SQL - select count(*)>0 from CUSTOMER c1_0 where c1_0.email=?\n"
     ]
    },
    {
     "name": "stdout",
     "output_type": "stream",
     "text": [
      "13:16:03.193 DEBUG org.hibernate.SQL - insert into CUSTOMER (birthDate,creationDate,email,firstname,lastname,photo,status,version,ID) values (?,?,?,?,?,?,?,?,?)\n"
     ]
    },
    {
     "name": "stdout",
     "output_type": "stream",
     "text": [
      "13:16:03.194 DEBUG org.hibernate.SQL - select count(*)>0 from CUSTOMER c1_0 where c1_0.email=?\n"
     ]
    },
    {
     "name": "stdout",
     "output_type": "stream",
     "text": [
      "13:16:03.195 DEBUG org.hibernate.SQL - insert into CUSTOMER (birthDate,creationDate,email,firstname,lastname,photo,status,version,ID) values (?,?,?,?,?,?,?,?,?)\n"
     ]
    },
    {
     "name": "stdout",
     "output_type": "stream",
     "text": [
      "13:16:03.195 DEBUG org.hibernate.SQL - select count(*)>0 from CUSTOMER c1_0 where c1_0.email=?\n"
     ]
    },
    {
     "name": "stdout",
     "output_type": "stream",
     "text": [
      "13:16:03.196 DEBUG org.hibernate.SQL - insert into CUSTOMER (birthDate,creationDate,email,firstname,lastname,photo,status,version,ID) values (?,?,?,?,?,?,?,?,?)\n"
     ]
    },
    {
     "name": "stdout",
     "output_type": "stream",
     "text": [
      "13:16:03.196 DEBUG org.hibernate.SQL - select count(*)>0 from CUSTOMER c1_0 where c1_0.email=?\n"
     ]
    },
    {
     "name": "stdout",
     "output_type": "stream",
     "text": [
      "13:16:03.197 DEBUG org.hibernate.SQL - insert into CUSTOMER (birthDate,creationDate,email,firstname,lastname,photo,status,version,ID) values (?,?,?,?,?,?,?,?,?)\n"
     ]
    },
    {
     "name": "stdout",
     "output_type": "stream",
     "text": [
      "13:16:03.197 DEBUG org.hibernate.SQL - select count(*)>0 from CUSTOMER c1_0 where c1_0.email=?\n"
     ]
    },
    {
     "name": "stdout",
     "output_type": "stream",
     "text": [
      "13:16:03.198 DEBUG org.hibernate.SQL - insert into CUSTOMER (birthDate,creationDate,email,firstname,lastname,photo,status,version,ID) values (?,?,?,?,?,?,?,?,?)\n"
     ]
    },
    {
     "name": "stdout",
     "output_type": "stream",
     "text": [
      "13:16:03.199 DEBUG org.hibernate.SQL - select count(*)>0 from CUSTOMER c1_0 where c1_0.email=?\n"
     ]
    },
    {
     "name": "stdout",
     "output_type": "stream",
     "text": [
      "13:16:03.199 DEBUG org.hibernate.SQL - insert into CUSTOMER (birthDate,creationDate,email,firstname,lastname,photo,status,version,ID) values (?,?,?,?,?,?,?,?,?)\n"
     ]
    },
    {
     "name": "stdout",
     "output_type": "stream",
     "text": [
      "13:16:03.200 DEBUG org.hibernate.SQL - select count(*)>0 from CUSTOMER c1_0 where c1_0.email=?\n"
     ]
    },
    {
     "name": "stdout",
     "output_type": "stream",
     "text": [
      "13:16:03.200 DEBUG org.hibernate.SQL - insert into CUSTOMER (birthDate,creationDate,email,firstname,lastname,photo,status,version,ID) values (?,?,?,?,?,?,?,?,?)\n"
     ]
    },
    {
     "name": "stdout",
     "output_type": "stream",
     "text": [
      "13:16:03.201 DEBUG org.hibernate.SQL - select count(*)>0 from CUSTOMER c1_0 where c1_0.email=?\n"
     ]
    },
    {
     "name": "stdout",
     "output_type": "stream",
     "text": [
      "13:16:03.201 DEBUG org.hibernate.SQL - insert into CUSTOMER (birthDate,creationDate,email,firstname,lastname,photo,status,version,ID) values (?,?,?,?,?,?,?,?,?)\n"
     ]
    },
    {
     "name": "stdout",
     "output_type": "stream",
     "text": [
      "13:16:03.202 DEBUG org.hibernate.SQL - select count(*)>0 from CUSTOMER c1_0 where c1_0.email=?\n"
     ]
    },
    {
     "name": "stdout",
     "output_type": "stream",
     "text": [
      "13:16:03.202 DEBUG org.hibernate.SQL - insert into CUSTOMER (birthDate,creationDate,email,firstname,lastname,photo,status,version,ID) values (?,?,?,?,?,?,?,?,?)\n"
     ]
    },
    {
     "name": "stdout",
     "output_type": "stream",
     "text": [
      "13:16:03.203 DEBUG org.hibernate.SQL - select count(*)>0 from CUSTOMER c1_0 where c1_0.email=?\n"
     ]
    },
    {
     "name": "stdout",
     "output_type": "stream",
     "text": [
      "13:16:03.203 DEBUG org.hibernate.SQL - insert into CUSTOMER (birthDate,creationDate,email,firstname,lastname,photo,status,version,ID) values (?,?,?,?,?,?,?,?,?)\n"
     ]
    },
    {
     "name": "stdout",
     "output_type": "stream",
     "text": [
      "13:16:03.204 DEBUG org.hibernate.SQL - select count(*)>0 from CUSTOMER c1_0 where c1_0.email=?\n"
     ]
    },
    {
     "name": "stdout",
     "output_type": "stream",
     "text": [
      "13:16:03.205 DEBUG org.hibernate.SQL - insert into CUSTOMER (birthDate,creationDate,email,firstname,lastname,photo,status,version,ID) values (?,?,?,?,?,?,?,?,?)\n"
     ]
    },
    {
     "name": "stdout",
     "output_type": "stream",
     "text": [
      "13:16:03.205 DEBUG org.hibernate.SQL - select count(*)>0 from CUSTOMER c1_0 where c1_0.email=?\n"
     ]
    },
    {
     "name": "stdout",
     "output_type": "stream",
     "text": [
      "13:16:03.206 DEBUG org.hibernate.SQL - insert into CUSTOMER (birthDate,creationDate,email,firstname,lastname,photo,status,version,ID) values (?,?,?,?,?,?,?,?,?)\n"
     ]
    },
    {
     "name": "stdout",
     "output_type": "stream",
     "text": [
      "13:16:03.206 DEBUG org.hibernate.SQL - select count(*)>0 from CUSTOMER c1_0 where c1_0.email=?\n"
     ]
    },
    {
     "name": "stdout",
     "output_type": "stream",
     "text": [
      "13:16:03.207 DEBUG org.hibernate.SQL - insert into CUSTOMER (birthDate,creationDate,email,firstname,lastname,photo,status,version,ID) values (?,?,?,?,?,?,?,?,?)\n"
     ]
    },
    {
     "name": "stdout",
     "output_type": "stream",
     "text": [
      "13:16:03.208 DEBUG org.hibernate.SQL - select count(*)>0 from CUSTOMER c1_0 where c1_0.email=?\n"
     ]
    },
    {
     "name": "stdout",
     "output_type": "stream",
     "text": [
      "13:16:03.209 DEBUG org.hibernate.SQL - insert into CUSTOMER (birthDate,creationDate,email,firstname,lastname,photo,status,version,ID) values (?,?,?,?,?,?,?,?,?)\n"
     ]
    },
    {
     "name": "stdout",
     "output_type": "stream",
     "text": [
      "13:16:03.210 DEBUG org.hibernate.SQL - select count(*)>0 from CUSTOMER c1_0 where c1_0.email=?\n"
     ]
    },
    {
     "name": "stdout",
     "output_type": "stream",
     "text": [
      "13:16:03.211 DEBUG org.hibernate.SQL - insert into CUSTOMER (birthDate,creationDate,email,firstname,lastname,photo,status,version,ID) values (?,?,?,?,?,?,?,?,?)\n"
     ]
    },
    {
     "name": "stdout",
     "output_type": "stream",
     "text": [
      "13:16:03.212 DEBUG org.hibernate.SQL - select count(*)>0 from CUSTOMER c1_0 where c1_0.email=?\n"
     ]
    },
    {
     "name": "stdout",
     "output_type": "stream",
     "text": [
      "13:16:03.213 DEBUG org.hibernate.SQL - insert into CUSTOMER (birthDate,creationDate,email,firstname,lastname,photo,status,version,ID) values (?,?,?,?,?,?,?,?,?)\n"
     ]
    },
    {
     "name": "stdout",
     "output_type": "stream",
     "text": [
      "13:16:03.213 DEBUG org.hibernate.SQL - select count(*)>0 from CUSTOMER c1_0 where c1_0.email=?\n"
     ]
    },
    {
     "name": "stdout",
     "output_type": "stream",
     "text": [
      "13:16:03.214 DEBUG org.hibernate.SQL - insert into CUSTOMER (birthDate,creationDate,email,firstname,lastname,photo,status,version,ID) values (?,?,?,?,?,?,?,?,?)\n"
     ]
    },
    {
     "name": "stdout",
     "output_type": "stream",
     "text": [
      "13:16:03.214 DEBUG org.hibernate.SQL - select count(*)>0 from CUSTOMER c1_0 where c1_0.email=?\n"
     ]
    },
    {
     "name": "stdout",
     "output_type": "stream",
     "text": [
      "13:16:03.215 DEBUG org.hibernate.SQL - insert into CUSTOMER (birthDate,creationDate,email,firstname,lastname,photo,status,version,ID) values (?,?,?,?,?,?,?,?,?)\n"
     ]
    },
    {
     "name": "stdout",
     "output_type": "stream",
     "text": [
      "13:16:03.215 DEBUG org.hibernate.SQL - select count(*)>0 from CUSTOMER c1_0 where c1_0.email=?\n"
     ]
    },
    {
     "name": "stdout",
     "output_type": "stream",
     "text": [
      "13:16:03.216 DEBUG org.hibernate.SQL - insert into CUSTOMER (birthDate,creationDate,email,firstname,lastname,photo,status,version,ID) values (?,?,?,?,?,?,?,?,?)\n"
     ]
    },
    {
     "name": "stdout",
     "output_type": "stream",
     "text": [
      "13:16:03.216 DEBUG org.hibernate.SQL - select count(*)>0 from CUSTOMER c1_0 where c1_0.email=?\n"
     ]
    },
    {
     "name": "stdout",
     "output_type": "stream",
     "text": [
      "13:16:03.217 DEBUG org.hibernate.SQL - insert into CUSTOMER (birthDate,creationDate,email,firstname,lastname,photo,status,version,ID) values (?,?,?,?,?,?,?,?,?)\n"
     ]
    },
    {
     "name": "stdout",
     "output_type": "stream",
     "text": [
      "13:16:03.217 DEBUG org.hibernate.SQL - select count(*)>0 from CUSTOMER c1_0 where c1_0.email=?\n"
     ]
    },
    {
     "name": "stdout",
     "output_type": "stream",
     "text": [
      "13:16:03.217 DEBUG org.hibernate.SQL - insert into CUSTOMER (birthDate,creationDate,email,firstname,lastname,photo,status,version,ID) values (?,?,?,?,?,?,?,?,?)\n"
     ]
    },
    {
     "name": "stdout",
     "output_type": "stream",
     "text": [
      "13:16:03.218 DEBUG org.hibernate.SQL - select count(*)>0 from CUSTOMER c1_0 where c1_0.email=?\n"
     ]
    },
    {
     "name": "stdout",
     "output_type": "stream",
     "text": [
      "13:16:03.218 DEBUG org.hibernate.SQL - insert into CUSTOMER (birthDate,creationDate,email,firstname,lastname,photo,status,version,ID) values (?,?,?,?,?,?,?,?,?)\n"
     ]
    },
    {
     "name": "stdout",
     "output_type": "stream",
     "text": [
      "13:16:03.219 DEBUG org.hibernate.SQL - select count(*)>0 from CUSTOMER c1_0 where c1_0.email=?\n"
     ]
    },
    {
     "name": "stdout",
     "output_type": "stream",
     "text": [
      "13:16:03.220 DEBUG org.hibernate.SQL - insert into CUSTOMER (birthDate,creationDate,email,firstname,lastname,photo,status,version,ID) values (?,?,?,?,?,?,?,?,?)\n"
     ]
    },
    {
     "name": "stdout",
     "output_type": "stream",
     "text": [
      "13:16:03.220 DEBUG org.hibernate.SQL - select count(*)>0 from CUSTOMER c1_0 where c1_0.email=?\n"
     ]
    },
    {
     "name": "stdout",
     "output_type": "stream",
     "text": [
      "13:16:03.221 DEBUG org.hibernate.SQL - insert into CUSTOMER (birthDate,creationDate,email,firstname,lastname,photo,status,version,ID) values (?,?,?,?,?,?,?,?,?)\n"
     ]
    },
    {
     "name": "stdout",
     "output_type": "stream",
     "text": [
      "13:16:03.221 DEBUG org.hibernate.SQL - select count(*)>0 from CUSTOMER c1_0 where c1_0.email=?\n"
     ]
    },
    {
     "name": "stdout",
     "output_type": "stream",
     "text": [
      "13:16:03.222 DEBUG org.hibernate.SQL - insert into CUSTOMER (birthDate,creationDate,email,firstname,lastname,photo,status,version,ID) values (?,?,?,?,?,?,?,?,?)\n"
     ]
    },
    {
     "name": "stdout",
     "output_type": "stream",
     "text": [
      "13:16:03.222 DEBUG org.hibernate.SQL - select count(*)>0 from CUSTOMER c1_0 where c1_0.email=?\n"
     ]
    },
    {
     "name": "stdout",
     "output_type": "stream",
     "text": [
      "13:16:03.223 DEBUG org.hibernate.SQL - insert into CUSTOMER (birthDate,creationDate,email,firstname,lastname,photo,status,version,ID) values (?,?,?,?,?,?,?,?,?)\n"
     ]
    },
    {
     "name": "stdout",
     "output_type": "stream",
     "text": [
      "13:16:03.223 DEBUG org.hibernate.SQL - select count(*)>0 from CUSTOMER c1_0 where c1_0.email=?\n"
     ]
    },
    {
     "name": "stdout",
     "output_type": "stream",
     "text": [
      "13:16:03.223 DEBUG org.hibernate.SQL - select nextval('CUSTOMER_SEQ')\n"
     ]
    },
    {
     "name": "stdout",
     "output_type": "stream",
     "text": [
      "13:16:03.224 DEBUG org.hibernate.SQL - insert into CUSTOMER (birthDate,creationDate,email,firstname,lastname,photo,status,version,ID) values (?,?,?,?,?,?,?,?,?)\n"
     ]
    },
    {
     "name": "stdout",
     "output_type": "stream",
     "text": [
      "13:16:03.224 DEBUG org.hibernate.SQL - select count(*)>0 from CUSTOMER c1_0 where c1_0.email=?\n"
     ]
    },
    {
     "name": "stdout",
     "output_type": "stream",
     "text": [
      "13:16:03.225 DEBUG org.hibernate.SQL - insert into CUSTOMER (birthDate,creationDate,email,firstname,lastname,photo,status,version,ID) values (?,?,?,?,?,?,?,?,?)\n"
     ]
    },
    {
     "name": "stdout",
     "output_type": "stream",
     "text": [
      "13:16:03.225 DEBUG org.hibernate.SQL - select count(*)>0 from CUSTOMER c1_0 where c1_0.email=?\n"
     ]
    },
    {
     "name": "stdout",
     "output_type": "stream",
     "text": [
      "13:16:03.226 DEBUG org.hibernate.SQL - insert into CUSTOMER (birthDate,creationDate,email,firstname,lastname,photo,status,version,ID) values (?,?,?,?,?,?,?,?,?)\n"
     ]
    },
    {
     "name": "stdout",
     "output_type": "stream",
     "text": [
      "13:16:03.226 DEBUG org.hibernate.SQL - select count(*)>0 from CUSTOMER c1_0 where c1_0.email=?\n"
     ]
    },
    {
     "name": "stdout",
     "output_type": "stream",
     "text": [
      "13:16:03.227 DEBUG org.hibernate.SQL - insert into CUSTOMER (birthDate,creationDate,email,firstname,lastname,photo,status,version,ID) values (?,?,?,?,?,?,?,?,?)\n"
     ]
    },
    {
     "name": "stdout",
     "output_type": "stream",
     "text": [
      "13:16:03.227 DEBUG org.hibernate.SQL - select count(*)>0 from CUSTOMER c1_0 where c1_0.email=?\n"
     ]
    },
    {
     "name": "stdout",
     "output_type": "stream",
     "text": [
      "13:16:03.228 DEBUG org.hibernate.SQL - insert into CUSTOMER (birthDate,creationDate,email,firstname,lastname,photo,status,version,ID) values (?,?,?,?,?,?,?,?,?)\n"
     ]
    },
    {
     "name": "stdout",
     "output_type": "stream",
     "text": [
      "13:16:03.228 DEBUG org.hibernate.SQL - select count(*)>0 from CUSTOMER c1_0 where c1_0.email=?\n"
     ]
    },
    {
     "name": "stdout",
     "output_type": "stream",
     "text": [
      "13:16:03.229 DEBUG org.hibernate.SQL - insert into CUSTOMER (birthDate,creationDate,email,firstname,lastname,photo,status,version,ID) values (?,?,?,?,?,?,?,?,?)\n"
     ]
    },
    {
     "name": "stdout",
     "output_type": "stream",
     "text": [
      "13:16:03.229 DEBUG org.hibernate.SQL - select count(*)>0 from CUSTOMER c1_0 where c1_0.email=?\n"
     ]
    },
    {
     "name": "stdout",
     "output_type": "stream",
     "text": [
      "13:16:03.229 DEBUG org.hibernate.SQL - insert into CUSTOMER (birthDate,creationDate,email,firstname,lastname,photo,status,version,ID) values (?,?,?,?,?,?,?,?,?)\n"
     ]
    },
    {
     "name": "stdout",
     "output_type": "stream",
     "text": [
      "13:16:03.230 DEBUG org.hibernate.SQL - select count(*)>0 from CUSTOMER c1_0 where c1_0.email=?\n"
     ]
    },
    {
     "name": "stdout",
     "output_type": "stream",
     "text": [
      "13:16:03.230 DEBUG org.hibernate.SQL - insert into CUSTOMER (birthDate,creationDate,email,firstname,lastname,photo,status,version,ID) values (?,?,?,?,?,?,?,?,?)\n"
     ]
    },
    {
     "name": "stdout",
     "output_type": "stream",
     "text": [
      "13:16:03.231 DEBUG org.hibernate.SQL - select count(*)>0 from CUSTOMER c1_0 where c1_0.email=?\n"
     ]
    },
    {
     "name": "stdout",
     "output_type": "stream",
     "text": [
      "13:16:03.231 DEBUG org.hibernate.SQL - insert into CUSTOMER (birthDate,creationDate,email,firstname,lastname,photo,status,version,ID) values (?,?,?,?,?,?,?,?,?)\n"
     ]
    },
    {
     "name": "stdout",
     "output_type": "stream",
     "text": [
      "13:16:03.232 DEBUG org.hibernate.SQL - select count(*)>0 from CUSTOMER c1_0 where c1_0.email=?\n"
     ]
    },
    {
     "name": "stdout",
     "output_type": "stream",
     "text": [
      "13:16:03.233 DEBUG org.hibernate.SQL - insert into CUSTOMER (birthDate,creationDate,email,firstname,lastname,photo,status,version,ID) values (?,?,?,?,?,?,?,?,?)\n"
     ]
    },
    {
     "name": "stdout",
     "output_type": "stream",
     "text": [
      "13:16:03.233 DEBUG org.hibernate.SQL - select count(*)>0 from CUSTOMER c1_0 where c1_0.email=?\n"
     ]
    },
    {
     "name": "stdout",
     "output_type": "stream",
     "text": [
      "13:16:03.234 DEBUG org.hibernate.SQL - insert into CUSTOMER (birthDate,creationDate,email,firstname,lastname,photo,status,version,ID) values (?,?,?,?,?,?,?,?,?)\n"
     ]
    },
    {
     "name": "stdout",
     "output_type": "stream",
     "text": [
      "13:16:03.234 DEBUG org.hibernate.SQL - select count(*)>0 from CUSTOMER c1_0 where c1_0.email=?\n"
     ]
    },
    {
     "name": "stdout",
     "output_type": "stream",
     "text": [
      "13:16:03.235 DEBUG org.hibernate.SQL - insert into CUSTOMER (birthDate,creationDate,email,firstname,lastname,photo,status,version,ID) values (?,?,?,?,?,?,?,?,?)\n"
     ]
    },
    {
     "name": "stdout",
     "output_type": "stream",
     "text": [
      "13:16:03.235 DEBUG org.hibernate.SQL - select count(*)>0 from CUSTOMER c1_0 where c1_0.email=?\n"
     ]
    },
    {
     "name": "stdout",
     "output_type": "stream",
     "text": [
      "13:16:03.236 DEBUG org.hibernate.SQL - insert into CUSTOMER (birthDate,creationDate,email,firstname,lastname,photo,status,version,ID) values (?,?,?,?,?,?,?,?,?)\n"
     ]
    },
    {
     "name": "stdout",
     "output_type": "stream",
     "text": [
      "13:16:03.236 DEBUG org.hibernate.SQL - select count(*)>0 from CUSTOMER c1_0 where c1_0.email=?\n"
     ]
    },
    {
     "name": "stdout",
     "output_type": "stream",
     "text": [
      "13:16:03.238 DEBUG org.hibernate.SQL - insert into CUSTOMER (birthDate,creationDate,email,firstname,lastname,photo,status,version,ID) values (?,?,?,?,?,?,?,?,?)\n"
     ]
    },
    {
     "name": "stdout",
     "output_type": "stream",
     "text": [
      "13:16:03.238 DEBUG org.hibernate.SQL - select count(*)>0 from CUSTOMER c1_0 where c1_0.email=?\n"
     ]
    },
    {
     "name": "stdout",
     "output_type": "stream",
     "text": [
      "13:16:03.239 DEBUG org.hibernate.SQL - insert into CUSTOMER (birthDate,creationDate,email,firstname,lastname,photo,status,version,ID) values (?,?,?,?,?,?,?,?,?)\n"
     ]
    },
    {
     "name": "stdout",
     "output_type": "stream",
     "text": [
      "13:16:03.240 DEBUG org.hibernate.SQL - select count(*)>0 from CUSTOMER c1_0 where c1_0.email=?\n"
     ]
    },
    {
     "name": "stdout",
     "output_type": "stream",
     "text": [
      "13:16:03.240 DEBUG org.hibernate.SQL - insert into CUSTOMER (birthDate,creationDate,email,firstname,lastname,photo,status,version,ID) values (?,?,?,?,?,?,?,?,?)\n"
     ]
    },
    {
     "name": "stdout",
     "output_type": "stream",
     "text": [
      "13:16:03.241 DEBUG org.hibernate.SQL - select count(*)>0 from CUSTOMER c1_0 where c1_0.email=?\n"
     ]
    },
    {
     "name": "stdout",
     "output_type": "stream",
     "text": [
      "13:16:03.241 DEBUG org.hibernate.SQL - insert into CUSTOMER (birthDate,creationDate,email,firstname,lastname,photo,status,version,ID) values (?,?,?,?,?,?,?,?,?)\n"
     ]
    },
    {
     "name": "stdout",
     "output_type": "stream",
     "text": [
      "13:16:03.242 DEBUG org.hibernate.SQL - select count(*)>0 from CUSTOMER c1_0 where c1_0.email=?\n"
     ]
    },
    {
     "name": "stdout",
     "output_type": "stream",
     "text": [
      "13:16:03.242 DEBUG org.hibernate.SQL - insert into CUSTOMER (birthDate,creationDate,email,firstname,lastname,photo,status,version,ID) values (?,?,?,?,?,?,?,?,?)\n"
     ]
    },
    {
     "name": "stdout",
     "output_type": "stream",
     "text": [
      "13:16:03.243 DEBUG org.hibernate.SQL - select count(*)>0 from CUSTOMER c1_0 where c1_0.email=?\n"
     ]
    },
    {
     "name": "stdout",
     "output_type": "stream",
     "text": [
      "13:16:03.243 DEBUG org.hibernate.SQL - insert into CUSTOMER (birthDate,creationDate,email,firstname,lastname,photo,status,version,ID) values (?,?,?,?,?,?,?,?,?)\n"
     ]
    },
    {
     "name": "stdout",
     "output_type": "stream",
     "text": [
      "13:16:03.244 DEBUG org.hibernate.SQL - select count(*)>0 from CUSTOMER c1_0 where c1_0.email=?\n"
     ]
    },
    {
     "name": "stdout",
     "output_type": "stream",
     "text": [
      "13:16:03.244 DEBUG org.hibernate.SQL - insert into CUSTOMER (birthDate,creationDate,email,firstname,lastname,photo,status,version,ID) values (?,?,?,?,?,?,?,?,?)\n"
     ]
    },
    {
     "name": "stdout",
     "output_type": "stream",
     "text": [
      "13:16:03.245 DEBUG org.hibernate.SQL - select count(*)>0 from CUSTOMER c1_0 where c1_0.email=?\n"
     ]
    },
    {
     "name": "stdout",
     "output_type": "stream",
     "text": [
      "13:16:03.246 DEBUG org.hibernate.SQL - insert into CUSTOMER (birthDate,creationDate,email,firstname,lastname,photo,status,version,ID) values (?,?,?,?,?,?,?,?,?)\n"
     ]
    },
    {
     "name": "stdout",
     "output_type": "stream",
     "text": [
      "13:16:03.248 DEBUG org.hibernate.SQL - select count(*)>0 from CUSTOMER c1_0 where c1_0.email=?\n"
     ]
    },
    {
     "name": "stdout",
     "output_type": "stream",
     "text": [
      "13:16:03.249 DEBUG org.hibernate.SQL - insert into CUSTOMER (birthDate,creationDate,email,firstname,lastname,photo,status,version,ID) values (?,?,?,?,?,?,?,?,?)\n"
     ]
    },
    {
     "name": "stdout",
     "output_type": "stream",
     "text": [
      "13:16:03.249 DEBUG org.hibernate.SQL - select count(*)>0 from CUSTOMER c1_0 where c1_0.email=?\n"
     ]
    },
    {
     "name": "stdout",
     "output_type": "stream",
     "text": [
      "13:16:03.250 DEBUG org.hibernate.SQL - insert into CUSTOMER (birthDate,creationDate,email,firstname,lastname,photo,status,version,ID) values (?,?,?,?,?,?,?,?,?)\n"
     ]
    },
    {
     "name": "stdout",
     "output_type": "stream",
     "text": [
      "13:16:03.250 DEBUG org.hibernate.SQL - select count(*)>0 from CUSTOMER c1_0 where c1_0.email=?\n"
     ]
    },
    {
     "name": "stdout",
     "output_type": "stream",
     "text": [
      "13:16:03.251 DEBUG org.hibernate.SQL - insert into CUSTOMER (birthDate,creationDate,email,firstname,lastname,photo,status,version,ID) values (?,?,?,?,?,?,?,?,?)\n"
     ]
    },
    {
     "name": "stdout",
     "output_type": "stream",
     "text": [
      "13:16:03.251 DEBUG org.hibernate.SQL - select count(*)>0 from CUSTOMER c1_0 where c1_0.email=?\n"
     ]
    },
    {
     "name": "stdout",
     "output_type": "stream",
     "text": [
      "13:16:03.252 DEBUG org.hibernate.SQL - insert into CUSTOMER (birthDate,creationDate,email,firstname,lastname,photo,status,version,ID) values (?,?,?,?,?,?,?,?,?)\n"
     ]
    },
    {
     "name": "stdout",
     "output_type": "stream",
     "text": [
      "13:16:03.253 DEBUG org.hibernate.SQL - select count(*)>0 from CUSTOMER c1_0 where c1_0.email=?\n"
     ]
    },
    {
     "name": "stdout",
     "output_type": "stream",
     "text": [
      "13:16:03.253 DEBUG org.hibernate.SQL - insert into CUSTOMER (birthDate,creationDate,email,firstname,lastname,photo,status,version,ID) values (?,?,?,?,?,?,?,?,?)\n"
     ]
    },
    {
     "name": "stdout",
     "output_type": "stream",
     "text": [
      "13:16:03.254 DEBUG org.hibernate.SQL - select count(*)>0 from CUSTOMER c1_0 where c1_0.email=?\n"
     ]
    },
    {
     "name": "stdout",
     "output_type": "stream",
     "text": [
      "13:16:03.254 DEBUG org.hibernate.SQL - insert into CUSTOMER (birthDate,creationDate,email,firstname,lastname,photo,status,version,ID) values (?,?,?,?,?,?,?,?,?)\n"
     ]
    },
    {
     "name": "stdout",
     "output_type": "stream",
     "text": [
      "13:16:03.255 DEBUG org.hibernate.SQL - select count(*)>0 from CUSTOMER c1_0 where c1_0.email=?\n"
     ]
    },
    {
     "name": "stdout",
     "output_type": "stream",
     "text": [
      "13:16:03.255 DEBUG org.hibernate.SQL - insert into CUSTOMER (birthDate,creationDate,email,firstname,lastname,photo,status,version,ID) values (?,?,?,?,?,?,?,?,?)\n"
     ]
    },
    {
     "name": "stdout",
     "output_type": "stream",
     "text": [
      "13:16:03.256 DEBUG org.hibernate.SQL - select count(*)>0 from CUSTOMER c1_0 where c1_0.email=?\n"
     ]
    },
    {
     "name": "stdout",
     "output_type": "stream",
     "text": [
      "13:16:03.257 DEBUG org.hibernate.SQL - insert into CUSTOMER (birthDate,creationDate,email,firstname,lastname,photo,status,version,ID) values (?,?,?,?,?,?,?,?,?)\n"
     ]
    },
    {
     "name": "stdout",
     "output_type": "stream",
     "text": [
      "13:16:03.257 DEBUG org.hibernate.SQL - select count(*)>0 from CUSTOMER c1_0 where c1_0.email=?\n"
     ]
    },
    {
     "name": "stdout",
     "output_type": "stream",
     "text": [
      "13:16:03.258 DEBUG org.hibernate.SQL - insert into CUSTOMER (birthDate,creationDate,email,firstname,lastname,photo,status,version,ID) values (?,?,?,?,?,?,?,?,?)\n"
     ]
    },
    {
     "name": "stdout",
     "output_type": "stream",
     "text": [
      "13:16:03.259 DEBUG org.hibernate.SQL - select count(*)>0 from CUSTOMER c1_0 where c1_0.email=?\n"
     ]
    },
    {
     "name": "stdout",
     "output_type": "stream",
     "text": [
      "13:16:03.259 DEBUG org.hibernate.SQL - insert into CUSTOMER (birthDate,creationDate,email,firstname,lastname,photo,status,version,ID) values (?,?,?,?,?,?,?,?,?)\n"
     ]
    },
    {
     "name": "stdout",
     "output_type": "stream",
     "text": [
      "13:16:03.260 DEBUG org.hibernate.SQL - select count(*)>0 from CUSTOMER c1_0 where c1_0.email=?\n"
     ]
    },
    {
     "name": "stdout",
     "output_type": "stream",
     "text": [
      "13:16:03.260 DEBUG org.hibernate.SQL - insert into CUSTOMER (birthDate,creationDate,email,firstname,lastname,photo,status,version,ID) values (?,?,?,?,?,?,?,?,?)\n"
     ]
    },
    {
     "name": "stdout",
     "output_type": "stream",
     "text": [
      "13:16:03.261 DEBUG org.hibernate.SQL - select count(*)>0 from CUSTOMER c1_0 where c1_0.email=?\n"
     ]
    },
    {
     "name": "stdout",
     "output_type": "stream",
     "text": [
      "13:16:03.261 DEBUG org.hibernate.SQL - insert into CUSTOMER (birthDate,creationDate,email,firstname,lastname,photo,status,version,ID) values (?,?,?,?,?,?,?,?,?)\n"
     ]
    },
    {
     "name": "stdout",
     "output_type": "stream",
     "text": [
      "13:16:03.262 DEBUG org.hibernate.SQL - select count(*)>0 from CUSTOMER c1_0 where c1_0.email=?\n"
     ]
    },
    {
     "name": "stdout",
     "output_type": "stream",
     "text": [
      "13:16:03.262 DEBUG org.hibernate.SQL - insert into CUSTOMER (birthDate,creationDate,email,firstname,lastname,photo,status,version,ID) values (?,?,?,?,?,?,?,?,?)\n"
     ]
    },
    {
     "name": "stdout",
     "output_type": "stream",
     "text": [
      "13:16:03.263 DEBUG org.hibernate.SQL - select count(*)>0 from CUSTOMER c1_0 where c1_0.email=?\n"
     ]
    },
    {
     "name": "stdout",
     "output_type": "stream",
     "text": [
      "13:16:03.264 DEBUG org.hibernate.SQL - insert into CUSTOMER (birthDate,creationDate,email,firstname,lastname,photo,status,version,ID) values (?,?,?,?,?,?,?,?,?)\n"
     ]
    },
    {
     "name": "stdout",
     "output_type": "stream",
     "text": [
      "13:16:03.264 DEBUG org.hibernate.SQL - select count(*)>0 from CUSTOMER c1_0 where c1_0.email=?\n"
     ]
    },
    {
     "name": "stdout",
     "output_type": "stream",
     "text": [
      "13:16:03.265 DEBUG org.hibernate.SQL - insert into CUSTOMER (birthDate,creationDate,email,firstname,lastname,photo,status,version,ID) values (?,?,?,?,?,?,?,?,?)\n"
     ]
    },
    {
     "name": "stdout",
     "output_type": "stream",
     "text": [
      "13:16:03.265 DEBUG org.hibernate.SQL - select count(*)>0 from CUSTOMER c1_0 where c1_0.email=?\n"
     ]
    },
    {
     "name": "stdout",
     "output_type": "stream",
     "text": [
      "13:16:03.266 DEBUG org.hibernate.SQL - insert into CUSTOMER (birthDate,creationDate,email,firstname,lastname,photo,status,version,ID) values (?,?,?,?,?,?,?,?,?)\n"
     ]
    },
    {
     "name": "stdout",
     "output_type": "stream",
     "text": [
      "13:16:03.266 DEBUG org.hibernate.SQL - select count(*)>0 from CUSTOMER c1_0 where c1_0.email=?\n"
     ]
    },
    {
     "name": "stdout",
     "output_type": "stream",
     "text": [
      "13:16:03.267 DEBUG org.hibernate.SQL - insert into CUSTOMER (birthDate,creationDate,email,firstname,lastname,photo,status,version,ID) values (?,?,?,?,?,?,?,?,?)\n"
     ]
    },
    {
     "name": "stdout",
     "output_type": "stream",
     "text": [
      "13:16:03.267 DEBUG org.hibernate.SQL - select count(*)>0 from CUSTOMER c1_0 where c1_0.email=?\n"
     ]
    },
    {
     "name": "stdout",
     "output_type": "stream",
     "text": [
      "13:16:03.268 DEBUG org.hibernate.SQL - insert into CUSTOMER (birthDate,creationDate,email,firstname,lastname,photo,status,version,ID) values (?,?,?,?,?,?,?,?,?)\n"
     ]
    },
    {
     "name": "stdout",
     "output_type": "stream",
     "text": [
      "13:16:03.268 DEBUG org.hibernate.SQL - select count(*)>0 from CUSTOMER c1_0 where c1_0.email=?\n"
     ]
    },
    {
     "name": "stdout",
     "output_type": "stream",
     "text": [
      "13:16:03.269 DEBUG org.hibernate.SQL - insert into CUSTOMER (birthDate,creationDate,email,firstname,lastname,photo,status,version,ID) values (?,?,?,?,?,?,?,?,?)\n"
     ]
    },
    {
     "name": "stdout",
     "output_type": "stream",
     "text": [
      "13:16:03.269 DEBUG org.hibernate.SQL - select count(*)>0 from CUSTOMER c1_0 where c1_0.email=?\n"
     ]
    },
    {
     "name": "stdout",
     "output_type": "stream",
     "text": [
      "13:16:03.270 DEBUG org.hibernate.SQL - insert into CUSTOMER (birthDate,creationDate,email,firstname,lastname,photo,status,version,ID) values (?,?,?,?,?,?,?,?,?)\n"
     ]
    },
    {
     "name": "stdout",
     "output_type": "stream",
     "text": [
      "13:16:03.270 DEBUG org.hibernate.SQL - select count(*)>0 from CUSTOMER c1_0 where c1_0.email=?\n"
     ]
    },
    {
     "name": "stdout",
     "output_type": "stream",
     "text": [
      "13:16:03.270 DEBUG org.hibernate.SQL - insert into CUSTOMER (birthDate,creationDate,email,firstname,lastname,photo,status,version,ID) values (?,?,?,?,?,?,?,?,?)\n"
     ]
    },
    {
     "name": "stdout",
     "output_type": "stream",
     "text": [
      "13:16:03.271 DEBUG org.hibernate.SQL - select count(*)>0 from CUSTOMER c1_0 where c1_0.email=?\n"
     ]
    },
    {
     "name": "stdout",
     "output_type": "stream",
     "text": [
      "13:16:03.271 DEBUG org.hibernate.SQL - insert into CUSTOMER (birthDate,creationDate,email,firstname,lastname,photo,status,version,ID) values (?,?,?,?,?,?,?,?,?)\n"
     ]
    },
    {
     "name": "stdout",
     "output_type": "stream",
     "text": [
      "13:16:03.272 DEBUG org.hibernate.SQL - select count(*)>0 from CUSTOMER c1_0 where c1_0.email=?\n"
     ]
    },
    {
     "name": "stdout",
     "output_type": "stream",
     "text": [
      "13:16:03.272 DEBUG org.hibernate.SQL - insert into CUSTOMER (birthDate,creationDate,email,firstname,lastname,photo,status,version,ID) values (?,?,?,?,?,?,?,?,?)\n"
     ]
    },
    {
     "name": "stdout",
     "output_type": "stream",
     "text": [
      "13:16:03.273 DEBUG org.hibernate.SQL - select count(*)>0 from CUSTOMER c1_0 where c1_0.email=?\n"
     ]
    },
    {
     "name": "stdout",
     "output_type": "stream",
     "text": [
      "13:16:03.273 DEBUG org.hibernate.SQL - insert into CUSTOMER (birthDate,creationDate,email,firstname,lastname,photo,status,version,ID) values (?,?,?,?,?,?,?,?,?)\n"
     ]
    },
    {
     "name": "stdout",
     "output_type": "stream",
     "text": [
      "13:16:03.273 DEBUG org.hibernate.SQL - select count(*)>0 from CUSTOMER c1_0 where c1_0.email=?\n"
     ]
    },
    {
     "name": "stdout",
     "output_type": "stream",
     "text": [
      "13:16:03.274 DEBUG org.hibernate.SQL - insert into CUSTOMER (birthDate,creationDate,email,firstname,lastname,photo,status,version,ID) values (?,?,?,?,?,?,?,?,?)\n"
     ]
    },
    {
     "name": "stdout",
     "output_type": "stream",
     "text": [
      "13:16:03.274 DEBUG org.hibernate.SQL - select count(*)>0 from CUSTOMER c1_0 where c1_0.email=?\n"
     ]
    },
    {
     "name": "stdout",
     "output_type": "stream",
     "text": [
      "13:16:03.275 DEBUG org.hibernate.SQL - insert into CUSTOMER (birthDate,creationDate,email,firstname,lastname,photo,status,version,ID) values (?,?,?,?,?,?,?,?,?)\n"
     ]
    },
    {
     "name": "stdout",
     "output_type": "stream",
     "text": [
      "13:16:03.275 DEBUG org.hibernate.SQL - select count(*)>0 from CUSTOMER c1_0 where c1_0.email=?\n"
     ]
    },
    {
     "name": "stdout",
     "output_type": "stream",
     "text": [
      "13:16:03.276 DEBUG org.hibernate.SQL - insert into CUSTOMER (birthDate,creationDate,email,firstname,lastname,photo,status,version,ID) values (?,?,?,?,?,?,?,?,?)\n"
     ]
    },
    {
     "name": "stdout",
     "output_type": "stream",
     "text": [
      "13:16:03.276 DEBUG org.hibernate.SQL - select count(*)>0 from CUSTOMER c1_0 where c1_0.email=?\n"
     ]
    },
    {
     "name": "stdout",
     "output_type": "stream",
     "text": [
      "13:16:03.277 DEBUG org.hibernate.SQL - insert into CUSTOMER (birthDate,creationDate,email,firstname,lastname,photo,status,version,ID) values (?,?,?,?,?,?,?,?,?)\n"
     ]
    },
    {
     "name": "stdout",
     "output_type": "stream",
     "text": [
      "13:16:03.277 DEBUG org.hibernate.SQL - select count(*)>0 from CUSTOMER c1_0 where c1_0.email=?\n"
     ]
    },
    {
     "name": "stdout",
     "output_type": "stream",
     "text": [
      "13:16:03.278 DEBUG org.hibernate.SQL - insert into CUSTOMER (birthDate,creationDate,email,firstname,lastname,photo,status,version,ID) values (?,?,?,?,?,?,?,?,?)\n"
     ]
    },
    {
     "name": "stdout",
     "output_type": "stream",
     "text": [
      "13:16:03.278 DEBUG org.hibernate.SQL - select count(*)>0 from CUSTOMER c1_0 where c1_0.email=?\n"
     ]
    },
    {
     "name": "stdout",
     "output_type": "stream",
     "text": [
      "13:16:03.278 DEBUG org.hibernate.SQL - select nextval('CUSTOMER_SEQ')\n"
     ]
    },
    {
     "name": "stdout",
     "output_type": "stream",
     "text": [
      "13:16:03.279 DEBUG org.hibernate.SQL - insert into CUSTOMER (birthDate,creationDate,email,firstname,lastname,photo,status,version,ID) values (?,?,?,?,?,?,?,?,?)\n"
     ]
    },
    {
     "name": "stdout",
     "output_type": "stream",
     "text": [
      "13:16:03.280 DEBUG org.hibernate.SQL - select count(*)>0 from CUSTOMER c1_0 where c1_0.email=?\n"
     ]
    },
    {
     "name": "stdout",
     "output_type": "stream",
     "text": [
      "13:16:03.280 DEBUG org.hibernate.SQL - insert into CUSTOMER (birthDate,creationDate,email,firstname,lastname,photo,status,version,ID) values (?,?,?,?,?,?,?,?,?)\n"
     ]
    },
    {
     "name": "stdout",
     "output_type": "stream",
     "text": [
      "13:16:03.281 DEBUG org.hibernate.SQL - select count(*)>0 from CUSTOMER c1_0 where c1_0.email=?\n"
     ]
    },
    {
     "name": "stdout",
     "output_type": "stream",
     "text": [
      "13:16:03.283 DEBUG org.hibernate.SQL - insert into CUSTOMER (birthDate,creationDate,email,firstname,lastname,photo,status,version,ID) values (?,?,?,?,?,?,?,?,?)\n"
     ]
    },
    {
     "name": "stdout",
     "output_type": "stream",
     "text": [
      "13:16:03.285 DEBUG org.hibernate.SQL - select count(*)>0 from CUSTOMER c1_0 where c1_0.email=?\n"
     ]
    },
    {
     "name": "stdout",
     "output_type": "stream",
     "text": [
      "13:16:03.288 DEBUG org.hibernate.SQL - insert into CUSTOMER (birthDate,creationDate,email,firstname,lastname,photo,status,version,ID) values (?,?,?,?,?,?,?,?,?)\n"
     ]
    },
    {
     "name": "stdout",
     "output_type": "stream",
     "text": [
      "13:16:03.289 DEBUG org.hibernate.SQL - select count(*)>0 from CUSTOMER c1_0 where c1_0.email=?\n"
     ]
    },
    {
     "name": "stdout",
     "output_type": "stream",
     "text": [
      "13:16:03.290 DEBUG org.hibernate.SQL - insert into CUSTOMER (birthDate,creationDate,email,firstname,lastname,photo,status,version,ID) values (?,?,?,?,?,?,?,?,?)\n"
     ]
    },
    {
     "name": "stdout",
     "output_type": "stream",
     "text": [
      "13:16:03.290 DEBUG org.hibernate.SQL - select count(*)>0 from CUSTOMER c1_0 where c1_0.email=?\n"
     ]
    },
    {
     "name": "stdout",
     "output_type": "stream",
     "text": [
      "13:16:03.291 DEBUG org.hibernate.SQL - insert into CUSTOMER (birthDate,creationDate,email,firstname,lastname,photo,status,version,ID) values (?,?,?,?,?,?,?,?,?)\n"
     ]
    },
    {
     "name": "stdout",
     "output_type": "stream",
     "text": [
      "13:16:03.291 DEBUG org.hibernate.SQL - select count(*)>0 from CUSTOMER c1_0 where c1_0.email=?\n"
     ]
    },
    {
     "name": "stdout",
     "output_type": "stream",
     "text": [
      "13:16:03.292 DEBUG org.hibernate.SQL - insert into CUSTOMER (birthDate,creationDate,email,firstname,lastname,photo,status,version,ID) values (?,?,?,?,?,?,?,?,?)\n"
     ]
    },
    {
     "name": "stdout",
     "output_type": "stream",
     "text": [
      "13:16:03.293 DEBUG org.hibernate.SQL - select count(*)>0 from CUSTOMER c1_0 where c1_0.email=?\n"
     ]
    },
    {
     "name": "stdout",
     "output_type": "stream",
     "text": [
      "13:16:03.293 DEBUG org.hibernate.SQL - insert into CUSTOMER (birthDate,creationDate,email,firstname,lastname,photo,status,version,ID) values (?,?,?,?,?,?,?,?,?)\n"
     ]
    },
    {
     "name": "stdout",
     "output_type": "stream",
     "text": [
      "13:16:03.294 DEBUG org.hibernate.SQL - select count(*)>0 from CUSTOMER c1_0 where c1_0.email=?\n"
     ]
    },
    {
     "name": "stdout",
     "output_type": "stream",
     "text": [
      "13:16:03.294 DEBUG org.hibernate.SQL - insert into CUSTOMER (birthDate,creationDate,email,firstname,lastname,photo,status,version,ID) values (?,?,?,?,?,?,?,?,?)\n"
     ]
    },
    {
     "name": "stdout",
     "output_type": "stream",
     "text": [
      "13:16:03.294 DEBUG org.hibernate.SQL - select count(*)>0 from CUSTOMER c1_0 where c1_0.email=?\n"
     ]
    },
    {
     "name": "stdout",
     "output_type": "stream",
     "text": [
      "13:16:03.295 DEBUG org.hibernate.SQL - insert into CUSTOMER (birthDate,creationDate,email,firstname,lastname,photo,status,version,ID) values (?,?,?,?,?,?,?,?,?)\n"
     ]
    },
    {
     "name": "stdout",
     "output_type": "stream",
     "text": [
      "13:16:03.295 DEBUG org.hibernate.SQL - select count(*)>0 from CUSTOMER c1_0 where c1_0.email=?\n"
     ]
    },
    {
     "name": "stdout",
     "output_type": "stream",
     "text": [
      "13:16:03.296 DEBUG org.hibernate.SQL - insert into CUSTOMER (birthDate,creationDate,email,firstname,lastname,photo,status,version,ID) values (?,?,?,?,?,?,?,?,?)\n"
     ]
    },
    {
     "name": "stdout",
     "output_type": "stream",
     "text": [
      "13:16:03.296 DEBUG org.hibernate.SQL - select count(*)>0 from CUSTOMER c1_0 where c1_0.email=?\n"
     ]
    },
    {
     "name": "stdout",
     "output_type": "stream",
     "text": [
      "13:16:03.297 DEBUG org.hibernate.SQL - insert into CUSTOMER (birthDate,creationDate,email,firstname,lastname,photo,status,version,ID) values (?,?,?,?,?,?,?,?,?)\n"
     ]
    },
    {
     "name": "stdout",
     "output_type": "stream",
     "text": [
      "13:16:03.297 DEBUG org.hibernate.SQL - select count(*)>0 from CUSTOMER c1_0 where c1_0.email=?\n"
     ]
    },
    {
     "name": "stdout",
     "output_type": "stream",
     "text": [
      "13:16:03.298 DEBUG org.hibernate.SQL - insert into CUSTOMER (birthDate,creationDate,email,firstname,lastname,photo,status,version,ID) values (?,?,?,?,?,?,?,?,?)\n"
     ]
    },
    {
     "name": "stdout",
     "output_type": "stream",
     "text": [
      "13:16:03.298 DEBUG org.hibernate.SQL - select count(*)>0 from CUSTOMER c1_0 where c1_0.email=?\n"
     ]
    },
    {
     "name": "stdout",
     "output_type": "stream",
     "text": [
      "13:16:03.299 DEBUG org.hibernate.SQL - insert into CUSTOMER (birthDate,creationDate,email,firstname,lastname,photo,status,version,ID) values (?,?,?,?,?,?,?,?,?)\n"
     ]
    },
    {
     "name": "stdout",
     "output_type": "stream",
     "text": [
      "13:16:03.299 DEBUG org.hibernate.SQL - select count(*)>0 from CUSTOMER c1_0 where c1_0.email=?\n"
     ]
    },
    {
     "name": "stdout",
     "output_type": "stream",
     "text": [
      "13:16:03.300 DEBUG org.hibernate.SQL - insert into CUSTOMER (birthDate,creationDate,email,firstname,lastname,photo,status,version,ID) values (?,?,?,?,?,?,?,?,?)\n"
     ]
    },
    {
     "name": "stdout",
     "output_type": "stream",
     "text": [
      "13:16:03.300 DEBUG org.hibernate.SQL - select count(*)>0 from CUSTOMER c1_0 where c1_0.email=?\n"
     ]
    },
    {
     "name": "stdout",
     "output_type": "stream",
     "text": [
      "13:16:03.301 DEBUG org.hibernate.SQL - insert into CUSTOMER (birthDate,creationDate,email,firstname,lastname,photo,status,version,ID) values (?,?,?,?,?,?,?,?,?)\n"
     ]
    },
    {
     "name": "stdout",
     "output_type": "stream",
     "text": [
      "13:16:03.302 DEBUG org.hibernate.SQL - select count(*)>0 from CUSTOMER c1_0 where c1_0.email=?\n"
     ]
    },
    {
     "name": "stdout",
     "output_type": "stream",
     "text": [
      "13:16:03.302 DEBUG org.hibernate.SQL - insert into CUSTOMER (birthDate,creationDate,email,firstname,lastname,photo,status,version,ID) values (?,?,?,?,?,?,?,?,?)\n"
     ]
    },
    {
     "name": "stdout",
     "output_type": "stream",
     "text": [
      "13:16:03.303 DEBUG org.hibernate.SQL - select count(*)>0 from CUSTOMER c1_0 where c1_0.email=?\n"
     ]
    },
    {
     "name": "stdout",
     "output_type": "stream",
     "text": [
      "13:16:03.303 DEBUG org.hibernate.SQL - insert into CUSTOMER (birthDate,creationDate,email,firstname,lastname,photo,status,version,ID) values (?,?,?,?,?,?,?,?,?)\n"
     ]
    },
    {
     "name": "stdout",
     "output_type": "stream",
     "text": [
      "13:16:03.303 DEBUG org.hibernate.SQL - select count(*)>0 from CUSTOMER c1_0 where c1_0.email=?\n"
     ]
    },
    {
     "name": "stdout",
     "output_type": "stream",
     "text": [
      "13:16:03.304 DEBUG org.hibernate.SQL - insert into CUSTOMER (birthDate,creationDate,email,firstname,lastname,photo,status,version,ID) values (?,?,?,?,?,?,?,?,?)\n"
     ]
    },
    {
     "name": "stdout",
     "output_type": "stream",
     "text": [
      "13:16:03.304 DEBUG org.hibernate.SQL - select count(*)>0 from CUSTOMER c1_0 where c1_0.email=?\n"
     ]
    },
    {
     "name": "stdout",
     "output_type": "stream",
     "text": [
      "13:16:03.305 DEBUG org.hibernate.SQL - insert into CUSTOMER (birthDate,creationDate,email,firstname,lastname,photo,status,version,ID) values (?,?,?,?,?,?,?,?,?)\n"
     ]
    },
    {
     "name": "stdout",
     "output_type": "stream",
     "text": [
      "13:16:03.306 DEBUG org.hibernate.SQL - select count(*)>0 from CUSTOMER c1_0 where c1_0.email=?\n"
     ]
    },
    {
     "name": "stdout",
     "output_type": "stream",
     "text": [
      "13:16:03.306 DEBUG org.hibernate.SQL - insert into CUSTOMER (birthDate,creationDate,email,firstname,lastname,photo,status,version,ID) values (?,?,?,?,?,?,?,?,?)\n"
     ]
    },
    {
     "name": "stdout",
     "output_type": "stream",
     "text": [
      "13:16:03.307 DEBUG org.hibernate.SQL - select count(*)>0 from CUSTOMER c1_0 where c1_0.email=?\n"
     ]
    },
    {
     "name": "stdout",
     "output_type": "stream",
     "text": [
      "13:16:03.307 DEBUG org.hibernate.SQL - insert into CUSTOMER (birthDate,creationDate,email,firstname,lastname,photo,status,version,ID) values (?,?,?,?,?,?,?,?,?)\n"
     ]
    },
    {
     "name": "stdout",
     "output_type": "stream",
     "text": [
      "13:16:03.308 DEBUG org.hibernate.SQL - select count(*)>0 from CUSTOMER c1_0 where c1_0.email=?\n"
     ]
    },
    {
     "name": "stdout",
     "output_type": "stream",
     "text": [
      "13:16:03.308 DEBUG org.hibernate.SQL - insert into CUSTOMER (birthDate,creationDate,email,firstname,lastname,photo,status,version,ID) values (?,?,?,?,?,?,?,?,?)\n"
     ]
    },
    {
     "name": "stdout",
     "output_type": "stream",
     "text": [
      "13:16:03.309 DEBUG org.hibernate.SQL - select count(*)>0 from CUSTOMER c1_0 where c1_0.email=?\n"
     ]
    },
    {
     "name": "stdout",
     "output_type": "stream",
     "text": [
      "13:16:03.309 DEBUG org.hibernate.SQL - insert into CUSTOMER (birthDate,creationDate,email,firstname,lastname,photo,status,version,ID) values (?,?,?,?,?,?,?,?,?)\n"
     ]
    },
    {
     "name": "stdout",
     "output_type": "stream",
     "text": [
      "13:16:03.310 DEBUG org.hibernate.SQL - select count(*)>0 from CUSTOMER c1_0 where c1_0.email=?\n"
     ]
    },
    {
     "name": "stdout",
     "output_type": "stream",
     "text": [
      "13:16:03.310 DEBUG org.hibernate.SQL - insert into CUSTOMER (birthDate,creationDate,email,firstname,lastname,photo,status,version,ID) values (?,?,?,?,?,?,?,?,?)\n"
     ]
    },
    {
     "name": "stdout",
     "output_type": "stream",
     "text": [
      "13:16:03.310 DEBUG org.hibernate.SQL - select count(*)>0 from CUSTOMER c1_0 where c1_0.email=?\n"
     ]
    },
    {
     "name": "stdout",
     "output_type": "stream",
     "text": [
      "13:16:03.311 DEBUG org.hibernate.SQL - insert into CUSTOMER (birthDate,creationDate,email,firstname,lastname,photo,status,version,ID) values (?,?,?,?,?,?,?,?,?)\n"
     ]
    },
    {
     "name": "stdout",
     "output_type": "stream",
     "text": [
      "13:16:03.311 DEBUG org.hibernate.SQL - select count(*)>0 from CUSTOMER c1_0 where c1_0.email=?\n"
     ]
    },
    {
     "name": "stdout",
     "output_type": "stream",
     "text": [
      "13:16:03.312 DEBUG org.hibernate.SQL - insert into CUSTOMER (birthDate,creationDate,email,firstname,lastname,photo,status,version,ID) values (?,?,?,?,?,?,?,?,?)\n"
     ]
    },
    {
     "name": "stdout",
     "output_type": "stream",
     "text": [
      "13:16:03.312 DEBUG org.hibernate.SQL - select count(*)>0 from CUSTOMER c1_0 where c1_0.email=?\n"
     ]
    },
    {
     "name": "stdout",
     "output_type": "stream",
     "text": [
      "13:16:03.314 DEBUG org.hibernate.SQL - insert into CUSTOMER (birthDate,creationDate,email,firstname,lastname,photo,status,version,ID) values (?,?,?,?,?,?,?,?,?)\n"
     ]
    },
    {
     "name": "stdout",
     "output_type": "stream",
     "text": [
      "13:16:03.314 DEBUG org.hibernate.SQL - select count(*)>0 from CUSTOMER c1_0 where c1_0.email=?\n"
     ]
    },
    {
     "name": "stdout",
     "output_type": "stream",
     "text": [
      "13:16:03.315 DEBUG org.hibernate.SQL - insert into CUSTOMER (birthDate,creationDate,email,firstname,lastname,photo,status,version,ID) values (?,?,?,?,?,?,?,?,?)\n"
     ]
    },
    {
     "name": "stdout",
     "output_type": "stream",
     "text": [
      "13:16:03.315 DEBUG org.hibernate.SQL - select count(*)>0 from CUSTOMER c1_0 where c1_0.email=?\n"
     ]
    },
    {
     "name": "stdout",
     "output_type": "stream",
     "text": [
      "13:16:03.316 DEBUG org.hibernate.SQL - insert into CUSTOMER (birthDate,creationDate,email,firstname,lastname,photo,status,version,ID) values (?,?,?,?,?,?,?,?,?)\n"
     ]
    },
    {
     "name": "stdout",
     "output_type": "stream",
     "text": [
      "13:16:03.316 DEBUG org.hibernate.SQL - select count(*)>0 from CUSTOMER c1_0 where c1_0.email=?\n"
     ]
    },
    {
     "name": "stdout",
     "output_type": "stream",
     "text": [
      "13:16:03.316 DEBUG org.hibernate.SQL - insert into CUSTOMER (birthDate,creationDate,email,firstname,lastname,photo,status,version,ID) values (?,?,?,?,?,?,?,?,?)\n"
     ]
    },
    {
     "name": "stdout",
     "output_type": "stream",
     "text": [
      "13:16:03.317 DEBUG org.hibernate.SQL - select count(*)>0 from CUSTOMER c1_0 where c1_0.email=?\n"
     ]
    },
    {
     "name": "stdout",
     "output_type": "stream",
     "text": [
      "13:16:03.317 DEBUG org.hibernate.SQL - insert into CUSTOMER (birthDate,creationDate,email,firstname,lastname,photo,status,version,ID) values (?,?,?,?,?,?,?,?,?)\n"
     ]
    },
    {
     "name": "stdout",
     "output_type": "stream",
     "text": [
      "13:16:03.318 DEBUG org.hibernate.SQL - select count(*)>0 from CUSTOMER c1_0 where c1_0.email=?\n"
     ]
    },
    {
     "name": "stdout",
     "output_type": "stream",
     "text": [
      "13:16:03.318 DEBUG org.hibernate.SQL - insert into CUSTOMER (birthDate,creationDate,email,firstname,lastname,photo,status,version,ID) values (?,?,?,?,?,?,?,?,?)\n"
     ]
    },
    {
     "name": "stdout",
     "output_type": "stream",
     "text": [
      "13:16:03.318 DEBUG org.hibernate.SQL - select count(*)>0 from CUSTOMER c1_0 where c1_0.email=?\n"
     ]
    },
    {
     "name": "stdout",
     "output_type": "stream",
     "text": [
      "13:16:03.319 DEBUG org.hibernate.SQL - insert into CUSTOMER (birthDate,creationDate,email,firstname,lastname,photo,status,version,ID) values (?,?,?,?,?,?,?,?,?)\n"
     ]
    },
    {
     "name": "stdout",
     "output_type": "stream",
     "text": [
      "13:16:03.319 DEBUG org.hibernate.SQL - select count(*)>0 from CUSTOMER c1_0 where c1_0.email=?\n"
     ]
    },
    {
     "name": "stdout",
     "output_type": "stream",
     "text": [
      "13:16:03.320 DEBUG org.hibernate.SQL - insert into CUSTOMER (birthDate,creationDate,email,firstname,lastname,photo,status,version,ID) values (?,?,?,?,?,?,?,?,?)\n"
     ]
    },
    {
     "name": "stdout",
     "output_type": "stream",
     "text": [
      "13:16:03.320 DEBUG org.hibernate.SQL - select count(*)>0 from CUSTOMER c1_0 where c1_0.email=?\n"
     ]
    },
    {
     "name": "stdout",
     "output_type": "stream",
     "text": [
      "13:16:03.320 DEBUG org.hibernate.SQL - insert into CUSTOMER (birthDate,creationDate,email,firstname,lastname,photo,status,version,ID) values (?,?,?,?,?,?,?,?,?)\n"
     ]
    },
    {
     "name": "stdout",
     "output_type": "stream",
     "text": [
      "13:16:03.321 DEBUG org.hibernate.SQL - select count(*)>0 from CUSTOMER c1_0 where c1_0.email=?\n"
     ]
    },
    {
     "name": "stdout",
     "output_type": "stream",
     "text": [
      "13:16:03.321 DEBUG org.hibernate.SQL - insert into CUSTOMER (birthDate,creationDate,email,firstname,lastname,photo,status,version,ID) values (?,?,?,?,?,?,?,?,?)\n"
     ]
    },
    {
     "name": "stdout",
     "output_type": "stream",
     "text": [
      "13:16:03.321 DEBUG org.hibernate.SQL - select count(*)>0 from CUSTOMER c1_0 where c1_0.email=?\n"
     ]
    },
    {
     "name": "stdout",
     "output_type": "stream",
     "text": [
      "13:16:03.322 DEBUG org.hibernate.SQL - insert into CUSTOMER (birthDate,creationDate,email,firstname,lastname,photo,status,version,ID) values (?,?,?,?,?,?,?,?,?)\n"
     ]
    },
    {
     "name": "stdout",
     "output_type": "stream",
     "text": [
      "13:16:03.322 DEBUG org.hibernate.SQL - select count(*)>0 from CUSTOMER c1_0 where c1_0.email=?\n"
     ]
    },
    {
     "name": "stdout",
     "output_type": "stream",
     "text": [
      "13:16:03.322 DEBUG org.hibernate.SQL - insert into CUSTOMER (birthDate,creationDate,email,firstname,lastname,photo,status,version,ID) values (?,?,?,?,?,?,?,?,?)\n"
     ]
    },
    {
     "name": "stdout",
     "output_type": "stream",
     "text": [
      "13:16:03.322 DEBUG org.hibernate.SQL - select count(*)>0 from CUSTOMER c1_0 where c1_0.email=?\n"
     ]
    },
    {
     "name": "stdout",
     "output_type": "stream",
     "text": [
      "13:16:03.323 DEBUG org.hibernate.SQL - insert into CUSTOMER (birthDate,creationDate,email,firstname,lastname,photo,status,version,ID) values (?,?,?,?,?,?,?,?,?)\n"
     ]
    },
    {
     "name": "stdout",
     "output_type": "stream",
     "text": [
      "13:16:03.323 DEBUG org.hibernate.SQL - select count(*)>0 from CUSTOMER c1_0 where c1_0.email=?\n"
     ]
    },
    {
     "name": "stdout",
     "output_type": "stream",
     "text": [
      "13:16:03.324 DEBUG org.hibernate.SQL - insert into CUSTOMER (birthDate,creationDate,email,firstname,lastname,photo,status,version,ID) values (?,?,?,?,?,?,?,?,?)\n"
     ]
    },
    {
     "name": "stdout",
     "output_type": "stream",
     "text": [
      "13:16:03.324 DEBUG org.hibernate.SQL - select count(*)>0 from CUSTOMER c1_0 where c1_0.email=?\n"
     ]
    },
    {
     "name": "stdout",
     "output_type": "stream",
     "text": [
      "13:16:03.325 DEBUG org.hibernate.SQL - insert into CUSTOMER (birthDate,creationDate,email,firstname,lastname,photo,status,version,ID) values (?,?,?,?,?,?,?,?,?)\n"
     ]
    },
    {
     "name": "stdout",
     "output_type": "stream",
     "text": [
      "13:16:03.325 DEBUG org.hibernate.SQL - select count(*)>0 from CUSTOMER c1_0 where c1_0.email=?\n"
     ]
    },
    {
     "name": "stdout",
     "output_type": "stream",
     "text": [
      "13:16:03.326 DEBUG org.hibernate.SQL - insert into CUSTOMER (birthDate,creationDate,email,firstname,lastname,photo,status,version,ID) values (?,?,?,?,?,?,?,?,?)\n"
     ]
    },
    {
     "name": "stdout",
     "output_type": "stream",
     "text": [
      "13:16:03.326 DEBUG org.hibernate.SQL - select count(*)>0 from CUSTOMER c1_0 where c1_0.email=?\n"
     ]
    },
    {
     "name": "stdout",
     "output_type": "stream",
     "text": [
      "13:16:03.327 DEBUG org.hibernate.SQL - insert into CUSTOMER (birthDate,creationDate,email,firstname,lastname,photo,status,version,ID) values (?,?,?,?,?,?,?,?,?)\n"
     ]
    },
    {
     "name": "stdout",
     "output_type": "stream",
     "text": [
      "13:16:03.327 DEBUG org.hibernate.SQL - select count(*)>0 from CUSTOMER c1_0 where c1_0.email=?\n"
     ]
    },
    {
     "name": "stdout",
     "output_type": "stream",
     "text": [
      "13:16:03.327 DEBUG org.hibernate.SQL - insert into CUSTOMER (birthDate,creationDate,email,firstname,lastname,photo,status,version,ID) values (?,?,?,?,?,?,?,?,?)\n"
     ]
    },
    {
     "name": "stdout",
     "output_type": "stream",
     "text": [
      "13:16:03.328 DEBUG org.hibernate.SQL - select count(*)>0 from CUSTOMER c1_0 where c1_0.email=?\n"
     ]
    },
    {
     "name": "stdout",
     "output_type": "stream",
     "text": [
      "13:16:03.328 DEBUG org.hibernate.SQL - insert into CUSTOMER (birthDate,creationDate,email,firstname,lastname,photo,status,version,ID) values (?,?,?,?,?,?,?,?,?)\n"
     ]
    },
    {
     "name": "stdout",
     "output_type": "stream",
     "text": [
      "13:16:03.328 DEBUG org.hibernate.SQL - select count(*)>0 from CUSTOMER c1_0 where c1_0.email=?\n"
     ]
    },
    {
     "name": "stdout",
     "output_type": "stream",
     "text": [
      "13:16:03.329 DEBUG org.hibernate.SQL - insert into CUSTOMER (birthDate,creationDate,email,firstname,lastname,photo,status,version,ID) values (?,?,?,?,?,?,?,?,?)\n"
     ]
    },
    {
     "name": "stdout",
     "output_type": "stream",
     "text": [
      "13:16:03.329 DEBUG org.hibernate.SQL - select count(*)>0 from CUSTOMER c1_0 where c1_0.email=?\n"
     ]
    },
    {
     "name": "stdout",
     "output_type": "stream",
     "text": [
      "13:16:03.329 DEBUG org.hibernate.SQL - insert into CUSTOMER (birthDate,creationDate,email,firstname,lastname,photo,status,version,ID) values (?,?,?,?,?,?,?,?,?)\n"
     ]
    },
    {
     "name": "stdout",
     "output_type": "stream",
     "text": [
      "13:16:03.330 DEBUG org.hibernate.SQL - select count(*)>0 from CUSTOMER c1_0 where c1_0.email=?\n"
     ]
    },
    {
     "name": "stdout",
     "output_type": "stream",
     "text": [
      "13:16:03.330 DEBUG org.hibernate.SQL - insert into CUSTOMER (birthDate,creationDate,email,firstname,lastname,photo,status,version,ID) values (?,?,?,?,?,?,?,?,?)\n"
     ]
    },
    {
     "name": "stdout",
     "output_type": "stream",
     "text": [
      "13:16:03.330 DEBUG org.hibernate.SQL - select count(*)>0 from CUSTOMER c1_0 where c1_0.email=?\n"
     ]
    },
    {
     "name": "stdout",
     "output_type": "stream",
     "text": [
      "13:16:03.331 DEBUG org.hibernate.SQL - insert into CUSTOMER (birthDate,creationDate,email,firstname,lastname,photo,status,version,ID) values (?,?,?,?,?,?,?,?,?)\n"
     ]
    },
    {
     "name": "stdout",
     "output_type": "stream",
     "text": [
      "13:16:03.331 DEBUG org.hibernate.SQL - select count(*)>0 from CUSTOMER c1_0 where c1_0.email=?\n"
     ]
    },
    {
     "name": "stdout",
     "output_type": "stream",
     "text": [
      "13:16:03.331 DEBUG org.hibernate.SQL - select nextval('CUSTOMER_SEQ')\n"
     ]
    },
    {
     "name": "stdout",
     "output_type": "stream",
     "text": [
      "13:16:03.332 DEBUG org.hibernate.SQL - insert into CUSTOMER (birthDate,creationDate,email,firstname,lastname,photo,status,version,ID) values (?,?,?,?,?,?,?,?,?)\n"
     ]
    },
    {
     "name": "stdout",
     "output_type": "stream",
     "text": [
      "13:16:03.332 DEBUG org.hibernate.SQL - select count(*)>0 from CUSTOMER c1_0 where c1_0.email=?\n"
     ]
    },
    {
     "name": "stdout",
     "output_type": "stream",
     "text": [
      "13:16:03.332 DEBUG org.hibernate.SQL - insert into CUSTOMER (birthDate,creationDate,email,firstname,lastname,photo,status,version,ID) values (?,?,?,?,?,?,?,?,?)\n"
     ]
    },
    {
     "name": "stdout",
     "output_type": "stream",
     "text": [
      "13:16:03.333 DEBUG org.hibernate.SQL - select count(*)>0 from CUSTOMER c1_0 where c1_0.email=?\n"
     ]
    },
    {
     "name": "stdout",
     "output_type": "stream",
     "text": [
      "13:16:03.333 DEBUG org.hibernate.SQL - insert into CUSTOMER (birthDate,creationDate,email,firstname,lastname,photo,status,version,ID) values (?,?,?,?,?,?,?,?,?)\n"
     ]
    },
    {
     "name": "stdout",
     "output_type": "stream",
     "text": [
      "13:16:03.333 DEBUG org.hibernate.SQL - select count(*)>0 from CUSTOMER c1_0 where c1_0.email=?\n"
     ]
    },
    {
     "name": "stdout",
     "output_type": "stream",
     "text": [
      "13:16:03.334 DEBUG org.hibernate.SQL - insert into CUSTOMER (birthDate,creationDate,email,firstname,lastname,photo,status,version,ID) values (?,?,?,?,?,?,?,?,?)\n"
     ]
    },
    {
     "name": "stdout",
     "output_type": "stream",
     "text": [
      "13:16:03.334 DEBUG org.hibernate.SQL - select count(*)>0 from CUSTOMER c1_0 where c1_0.email=?\n"
     ]
    },
    {
     "name": "stdout",
     "output_type": "stream",
     "text": [
      "13:16:03.334 DEBUG org.hibernate.SQL - insert into CUSTOMER (birthDate,creationDate,email,firstname,lastname,photo,status,version,ID) values (?,?,?,?,?,?,?,?,?)\n"
     ]
    },
    {
     "name": "stdout",
     "output_type": "stream",
     "text": [
      "13:16:03.335 DEBUG org.hibernate.SQL - select count(*)>0 from CUSTOMER c1_0 where c1_0.email=?\n"
     ]
    },
    {
     "name": "stdout",
     "output_type": "stream",
     "text": [
      "13:16:03.335 DEBUG org.hibernate.SQL - insert into CUSTOMER (birthDate,creationDate,email,firstname,lastname,photo,status,version,ID) values (?,?,?,?,?,?,?,?,?)\n"
     ]
    },
    {
     "name": "stdout",
     "output_type": "stream",
     "text": [
      "13:16:03.335 DEBUG org.hibernate.SQL - select count(*)>0 from CUSTOMER c1_0 where c1_0.email=?\n"
     ]
    },
    {
     "name": "stdout",
     "output_type": "stream",
     "text": [
      "13:16:03.336 DEBUG org.hibernate.SQL - insert into CUSTOMER (birthDate,creationDate,email,firstname,lastname,photo,status,version,ID) values (?,?,?,?,?,?,?,?,?)\n"
     ]
    },
    {
     "name": "stdout",
     "output_type": "stream",
     "text": [
      "13:16:03.336 DEBUG org.hibernate.SQL - select count(*)>0 from CUSTOMER c1_0 where c1_0.email=?\n"
     ]
    },
    {
     "name": "stdout",
     "output_type": "stream",
     "text": [
      "13:16:03.337 DEBUG org.hibernate.SQL - insert into CUSTOMER (birthDate,creationDate,email,firstname,lastname,photo,status,version,ID) values (?,?,?,?,?,?,?,?,?)\n"
     ]
    },
    {
     "name": "stdout",
     "output_type": "stream",
     "text": [
      "13:16:03.337 DEBUG org.hibernate.SQL - select count(*)>0 from CUSTOMER c1_0 where c1_0.email=?\n"
     ]
    },
    {
     "name": "stdout",
     "output_type": "stream",
     "text": [
      "13:16:03.337 DEBUG org.hibernate.SQL - insert into CUSTOMER (birthDate,creationDate,email,firstname,lastname,photo,status,version,ID) values (?,?,?,?,?,?,?,?,?)\n"
     ]
    },
    {
     "name": "stdout",
     "output_type": "stream",
     "text": [
      "13:16:03.338 DEBUG org.hibernate.SQL - select count(*)>0 from CUSTOMER c1_0 where c1_0.email=?\n"
     ]
    },
    {
     "name": "stdout",
     "output_type": "stream",
     "text": [
      "13:16:03.338 DEBUG org.hibernate.SQL - insert into CUSTOMER (birthDate,creationDate,email,firstname,lastname,photo,status,version,ID) values (?,?,?,?,?,?,?,?,?)\n"
     ]
    },
    {
     "name": "stdout",
     "output_type": "stream",
     "text": [
      "13:16:03.338 DEBUG org.hibernate.SQL - select count(*)>0 from CUSTOMER c1_0 where c1_0.email=?\n"
     ]
    },
    {
     "name": "stdout",
     "output_type": "stream",
     "text": [
      "13:16:03.339 DEBUG org.hibernate.SQL - insert into CUSTOMER (birthDate,creationDate,email,firstname,lastname,photo,status,version,ID) values (?,?,?,?,?,?,?,?,?)\n"
     ]
    },
    {
     "name": "stdout",
     "output_type": "stream",
     "text": [
      "13:16:03.339 DEBUG org.hibernate.SQL - select count(*)>0 from CUSTOMER c1_0 where c1_0.email=?\n"
     ]
    },
    {
     "name": "stdout",
     "output_type": "stream",
     "text": [
      "13:16:03.340 DEBUG org.hibernate.SQL - insert into CUSTOMER (birthDate,creationDate,email,firstname,lastname,photo,status,version,ID) values (?,?,?,?,?,?,?,?,?)\n"
     ]
    },
    {
     "name": "stdout",
     "output_type": "stream",
     "text": [
      "13:16:03.340 DEBUG org.hibernate.SQL - select count(*)>0 from CUSTOMER c1_0 where c1_0.email=?\n"
     ]
    },
    {
     "name": "stdout",
     "output_type": "stream",
     "text": [
      "13:16:03.341 DEBUG org.hibernate.SQL - insert into CUSTOMER (birthDate,creationDate,email,firstname,lastname,photo,status,version,ID) values (?,?,?,?,?,?,?,?,?)\n"
     ]
    },
    {
     "name": "stdout",
     "output_type": "stream",
     "text": [
      "13:16:03.341 DEBUG org.hibernate.SQL - select count(*)>0 from CUSTOMER c1_0 where c1_0.email=?\n"
     ]
    },
    {
     "name": "stdout",
     "output_type": "stream",
     "text": [
      "13:16:03.341 DEBUG org.hibernate.SQL - insert into CUSTOMER (birthDate,creationDate,email,firstname,lastname,photo,status,version,ID) values (?,?,?,?,?,?,?,?,?)\n"
     ]
    },
    {
     "name": "stdout",
     "output_type": "stream",
     "text": [
      "13:16:03.342 DEBUG org.hibernate.SQL - select count(*)>0 from CUSTOMER c1_0 where c1_0.email=?\n"
     ]
    },
    {
     "name": "stdout",
     "output_type": "stream",
     "text": [
      "13:16:03.342 DEBUG org.hibernate.SQL - insert into CUSTOMER (birthDate,creationDate,email,firstname,lastname,photo,status,version,ID) values (?,?,?,?,?,?,?,?,?)\n"
     ]
    },
    {
     "name": "stdout",
     "output_type": "stream",
     "text": [
      "13:16:03.342 DEBUG org.hibernate.SQL - select count(*)>0 from CUSTOMER c1_0 where c1_0.email=?\n"
     ]
    },
    {
     "name": "stdout",
     "output_type": "stream",
     "text": [
      "13:16:03.343 DEBUG org.hibernate.SQL - insert into CUSTOMER (birthDate,creationDate,email,firstname,lastname,photo,status,version,ID) values (?,?,?,?,?,?,?,?,?)\n"
     ]
    },
    {
     "name": "stdout",
     "output_type": "stream",
     "text": [
      "13:16:03.343 DEBUG org.hibernate.SQL - select count(*)>0 from CUSTOMER c1_0 where c1_0.email=?\n"
     ]
    },
    {
     "name": "stdout",
     "output_type": "stream",
     "text": [
      "13:16:03.344 DEBUG org.hibernate.SQL - insert into CUSTOMER (birthDate,creationDate,email,firstname,lastname,photo,status,version,ID) values (?,?,?,?,?,?,?,?,?)\n"
     ]
    },
    {
     "name": "stdout",
     "output_type": "stream",
     "text": [
      "13:16:03.344 DEBUG org.hibernate.SQL - select count(*)>0 from CUSTOMER c1_0 where c1_0.email=?\n"
     ]
    },
    {
     "name": "stdout",
     "output_type": "stream",
     "text": [
      "13:16:03.345 DEBUG org.hibernate.SQL - insert into CUSTOMER (birthDate,creationDate,email,firstname,lastname,photo,status,version,ID) values (?,?,?,?,?,?,?,?,?)\n"
     ]
    },
    {
     "name": "stdout",
     "output_type": "stream",
     "text": [
      "13:16:03.345 DEBUG org.hibernate.SQL - select count(*)>0 from CUSTOMER c1_0 where c1_0.email=?\n"
     ]
    },
    {
     "name": "stdout",
     "output_type": "stream",
     "text": [
      "13:16:03.345 DEBUG org.hibernate.SQL - insert into CUSTOMER (birthDate,creationDate,email,firstname,lastname,photo,status,version,ID) values (?,?,?,?,?,?,?,?,?)\n"
     ]
    },
    {
     "name": "stdout",
     "output_type": "stream",
     "text": [
      "13:16:03.346 DEBUG org.hibernate.SQL - select count(*)>0 from CUSTOMER c1_0 where c1_0.email=?\n"
     ]
    },
    {
     "name": "stdout",
     "output_type": "stream",
     "text": [
      "13:16:03.346 DEBUG org.hibernate.SQL - insert into CUSTOMER (birthDate,creationDate,email,firstname,lastname,photo,status,version,ID) values (?,?,?,?,?,?,?,?,?)\n"
     ]
    },
    {
     "name": "stdout",
     "output_type": "stream",
     "text": [
      "13:16:03.346 DEBUG org.hibernate.SQL - select count(*)>0 from CUSTOMER c1_0 where c1_0.email=?\n"
     ]
    },
    {
     "name": "stdout",
     "output_type": "stream",
     "text": [
      "13:16:03.347 DEBUG org.hibernate.SQL - insert into CUSTOMER (birthDate,creationDate,email,firstname,lastname,photo,status,version,ID) values (?,?,?,?,?,?,?,?,?)\n"
     ]
    },
    {
     "name": "stdout",
     "output_type": "stream",
     "text": [
      "13:16:03.348 DEBUG org.hibernate.SQL - select count(*)>0 from CUSTOMER c1_0 where c1_0.email=?\n"
     ]
    },
    {
     "name": "stdout",
     "output_type": "stream",
     "text": [
      "13:16:03.348 DEBUG org.hibernate.SQL - insert into CUSTOMER (birthDate,creationDate,email,firstname,lastname,photo,status,version,ID) values (?,?,?,?,?,?,?,?,?)\n"
     ]
    },
    {
     "name": "stdout",
     "output_type": "stream",
     "text": [
      "13:16:03.348 DEBUG org.hibernate.SQL - select count(*)>0 from CUSTOMER c1_0 where c1_0.email=?\n"
     ]
    },
    {
     "name": "stdout",
     "output_type": "stream",
     "text": [
      "13:16:03.349 DEBUG org.hibernate.SQL - insert into CUSTOMER (birthDate,creationDate,email,firstname,lastname,photo,status,version,ID) values (?,?,?,?,?,?,?,?,?)\n"
     ]
    },
    {
     "name": "stdout",
     "output_type": "stream",
     "text": [
      "13:16:03.349 DEBUG org.hibernate.SQL - select count(*)>0 from CUSTOMER c1_0 where c1_0.email=?\n"
     ]
    },
    {
     "name": "stdout",
     "output_type": "stream",
     "text": [
      "13:16:03.350 DEBUG org.hibernate.SQL - insert into CUSTOMER (birthDate,creationDate,email,firstname,lastname,photo,status,version,ID) values (?,?,?,?,?,?,?,?,?)\n"
     ]
    },
    {
     "name": "stdout",
     "output_type": "stream",
     "text": [
      "13:16:03.350 DEBUG org.hibernate.SQL - select count(*)>0 from CUSTOMER c1_0 where c1_0.email=?\n"
     ]
    },
    {
     "name": "stdout",
     "output_type": "stream",
     "text": [
      "13:16:03.350 DEBUG org.hibernate.SQL - insert into CUSTOMER (birthDate,creationDate,email,firstname,lastname,photo,status,version,ID) values (?,?,?,?,?,?,?,?,?)\n"
     ]
    },
    {
     "name": "stdout",
     "output_type": "stream",
     "text": [
      "13:16:03.351 DEBUG org.hibernate.SQL - select count(*)>0 from CUSTOMER c1_0 where c1_0.email=?\n"
     ]
    },
    {
     "name": "stdout",
     "output_type": "stream",
     "text": [
      "13:16:03.351 DEBUG org.hibernate.SQL - insert into CUSTOMER (birthDate,creationDate,email,firstname,lastname,photo,status,version,ID) values (?,?,?,?,?,?,?,?,?)\n"
     ]
    },
    {
     "name": "stdout",
     "output_type": "stream",
     "text": [
      "13:16:03.351 DEBUG org.hibernate.SQL - select count(*)>0 from CUSTOMER c1_0 where c1_0.email=?\n"
     ]
    },
    {
     "name": "stdout",
     "output_type": "stream",
     "text": [
      "13:16:03.352 DEBUG org.hibernate.SQL - insert into CUSTOMER (birthDate,creationDate,email,firstname,lastname,photo,status,version,ID) values (?,?,?,?,?,?,?,?,?)\n"
     ]
    },
    {
     "name": "stdout",
     "output_type": "stream",
     "text": [
      "13:16:03.352 DEBUG org.hibernate.SQL - select count(*)>0 from CUSTOMER c1_0 where c1_0.email=?\n"
     ]
    },
    {
     "name": "stdout",
     "output_type": "stream",
     "text": [
      "13:16:03.353 DEBUG org.hibernate.SQL - insert into CUSTOMER (birthDate,creationDate,email,firstname,lastname,photo,status,version,ID) values (?,?,?,?,?,?,?,?,?)\n"
     ]
    },
    {
     "name": "stdout",
     "output_type": "stream",
     "text": [
      "13:16:03.353 DEBUG org.hibernate.SQL - select count(*)>0 from CUSTOMER c1_0 where c1_0.email=?\n"
     ]
    },
    {
     "name": "stdout",
     "output_type": "stream",
     "text": [
      "13:16:03.353 DEBUG org.hibernate.SQL - insert into CUSTOMER (birthDate,creationDate,email,firstname,lastname,photo,status,version,ID) values (?,?,?,?,?,?,?,?,?)\n"
     ]
    },
    {
     "name": "stdout",
     "output_type": "stream",
     "text": [
      "13:16:03.354 DEBUG org.hibernate.SQL - select count(*)>0 from CUSTOMER c1_0 where c1_0.email=?\n"
     ]
    },
    {
     "name": "stdout",
     "output_type": "stream",
     "text": [
      "13:16:03.354 DEBUG org.hibernate.SQL - insert into CUSTOMER (birthDate,creationDate,email,firstname,lastname,photo,status,version,ID) values (?,?,?,?,?,?,?,?,?)\n"
     ]
    },
    {
     "name": "stdout",
     "output_type": "stream",
     "text": [
      "13:16:03.354 DEBUG org.hibernate.SQL - select count(*)>0 from CUSTOMER c1_0 where c1_0.email=?\n"
     ]
    },
    {
     "name": "stdout",
     "output_type": "stream",
     "text": [
      "13:16:03.355 DEBUG org.hibernate.SQL - insert into CUSTOMER (birthDate,creationDate,email,firstname,lastname,photo,status,version,ID) values (?,?,?,?,?,?,?,?,?)\n"
     ]
    },
    {
     "name": "stdout",
     "output_type": "stream",
     "text": [
      "13:16:03.355 DEBUG org.hibernate.SQL - select count(*)>0 from CUSTOMER c1_0 where c1_0.email=?\n"
     ]
    },
    {
     "name": "stdout",
     "output_type": "stream",
     "text": [
      "13:16:03.356 DEBUG org.hibernate.SQL - insert into CUSTOMER (birthDate,creationDate,email,firstname,lastname,photo,status,version,ID) values (?,?,?,?,?,?,?,?,?)\n"
     ]
    },
    {
     "name": "stdout",
     "output_type": "stream",
     "text": [
      "13:16:03.356 DEBUG org.hibernate.SQL - select count(*)>0 from CUSTOMER c1_0 where c1_0.email=?\n"
     ]
    },
    {
     "name": "stdout",
     "output_type": "stream",
     "text": [
      "13:16:03.356 DEBUG org.hibernate.SQL - insert into CUSTOMER (birthDate,creationDate,email,firstname,lastname,photo,status,version,ID) values (?,?,?,?,?,?,?,?,?)\n"
     ]
    },
    {
     "name": "stdout",
     "output_type": "stream",
     "text": [
      "13:16:03.357 DEBUG org.hibernate.SQL - select count(*)>0 from CUSTOMER c1_0 where c1_0.email=?\n"
     ]
    },
    {
     "name": "stdout",
     "output_type": "stream",
     "text": [
      "13:16:03.357 DEBUG org.hibernate.SQL - insert into CUSTOMER (birthDate,creationDate,email,firstname,lastname,photo,status,version,ID) values (?,?,?,?,?,?,?,?,?)\n"
     ]
    },
    {
     "name": "stdout",
     "output_type": "stream",
     "text": [
      "13:16:03.357 DEBUG org.hibernate.SQL - select count(*)>0 from CUSTOMER c1_0 where c1_0.email=?\n"
     ]
    },
    {
     "name": "stdout",
     "output_type": "stream",
     "text": [
      "13:16:03.358 DEBUG org.hibernate.SQL - insert into CUSTOMER (birthDate,creationDate,email,firstname,lastname,photo,status,version,ID) values (?,?,?,?,?,?,?,?,?)\n"
     ]
    },
    {
     "name": "stdout",
     "output_type": "stream",
     "text": [
      "13:16:03.358 DEBUG org.hibernate.SQL - select count(*)>0 from CUSTOMER c1_0 where c1_0.email=?\n"
     ]
    },
    {
     "name": "stdout",
     "output_type": "stream",
     "text": [
      "13:16:03.359 DEBUG org.hibernate.SQL - insert into CUSTOMER (birthDate,creationDate,email,firstname,lastname,photo,status,version,ID) values (?,?,?,?,?,?,?,?,?)\n"
     ]
    },
    {
     "name": "stdout",
     "output_type": "stream",
     "text": [
      "13:16:03.359 DEBUG org.hibernate.SQL - select count(*)>0 from CUSTOMER c1_0 where c1_0.email=?\n"
     ]
    },
    {
     "name": "stdout",
     "output_type": "stream",
     "text": [
      "13:16:03.359 DEBUG org.hibernate.SQL - insert into CUSTOMER (birthDate,creationDate,email,firstname,lastname,photo,status,version,ID) values (?,?,?,?,?,?,?,?,?)\n"
     ]
    },
    {
     "name": "stdout",
     "output_type": "stream",
     "text": [
      "13:16:03.360 DEBUG org.hibernate.SQL - select count(*)>0 from CUSTOMER c1_0 where c1_0.email=?\n"
     ]
    },
    {
     "name": "stdout",
     "output_type": "stream",
     "text": [
      "13:16:03.360 DEBUG org.hibernate.SQL - insert into CUSTOMER (birthDate,creationDate,email,firstname,lastname,photo,status,version,ID) values (?,?,?,?,?,?,?,?,?)\n"
     ]
    },
    {
     "name": "stdout",
     "output_type": "stream",
     "text": [
      "13:16:03.360 DEBUG org.hibernate.SQL - select count(*)>0 from CUSTOMER c1_0 where c1_0.email=?\n"
     ]
    },
    {
     "name": "stdout",
     "output_type": "stream",
     "text": [
      "13:16:03.361 DEBUG org.hibernate.SQL - insert into CUSTOMER (birthDate,creationDate,email,firstname,lastname,photo,status,version,ID) values (?,?,?,?,?,?,?,?,?)\n"
     ]
    },
    {
     "name": "stdout",
     "output_type": "stream",
     "text": [
      "13:16:03.361 DEBUG org.hibernate.SQL - select count(*)>0 from CUSTOMER c1_0 where c1_0.email=?\n"
     ]
    },
    {
     "name": "stdout",
     "output_type": "stream",
     "text": [
      "13:16:03.361 DEBUG org.hibernate.SQL - insert into CUSTOMER (birthDate,creationDate,email,firstname,lastname,photo,status,version,ID) values (?,?,?,?,?,?,?,?,?)\n"
     ]
    },
    {
     "name": "stdout",
     "output_type": "stream",
     "text": [
      "13:16:03.362 DEBUG org.hibernate.SQL - select count(*)>0 from CUSTOMER c1_0 where c1_0.email=?\n"
     ]
    },
    {
     "name": "stdout",
     "output_type": "stream",
     "text": [
      "13:16:03.362 DEBUG org.hibernate.SQL - insert into CUSTOMER (birthDate,creationDate,email,firstname,lastname,photo,status,version,ID) values (?,?,?,?,?,?,?,?,?)\n"
     ]
    },
    {
     "name": "stdout",
     "output_type": "stream",
     "text": [
      "13:16:03.362 DEBUG org.hibernate.SQL - select count(*)>0 from CUSTOMER c1_0 where c1_0.email=?\n"
     ]
    },
    {
     "name": "stdout",
     "output_type": "stream",
     "text": [
      "13:16:03.363 DEBUG org.hibernate.SQL - insert into CUSTOMER (birthDate,creationDate,email,firstname,lastname,photo,status,version,ID) values (?,?,?,?,?,?,?,?,?)\n"
     ]
    },
    {
     "name": "stdout",
     "output_type": "stream",
     "text": [
      "13:16:03.363 DEBUG org.hibernate.SQL - select count(*)>0 from CUSTOMER c1_0 where c1_0.email=?\n"
     ]
    },
    {
     "name": "stdout",
     "output_type": "stream",
     "text": [
      "13:16:03.364 DEBUG org.hibernate.SQL - insert into CUSTOMER (birthDate,creationDate,email,firstname,lastname,photo,status,version,ID) values (?,?,?,?,?,?,?,?,?)\n"
     ]
    },
    {
     "name": "stdout",
     "output_type": "stream",
     "text": [
      "13:16:03.364 DEBUG org.hibernate.SQL - select count(*)>0 from CUSTOMER c1_0 where c1_0.email=?\n"
     ]
    },
    {
     "name": "stdout",
     "output_type": "stream",
     "text": [
      "13:16:03.364 DEBUG org.hibernate.SQL - insert into CUSTOMER (birthDate,creationDate,email,firstname,lastname,photo,status,version,ID) values (?,?,?,?,?,?,?,?,?)\n"
     ]
    },
    {
     "name": "stdout",
     "output_type": "stream",
     "text": [
      "13:16:03.364 DEBUG org.hibernate.SQL - select count(*)>0 from CUSTOMER c1_0 where c1_0.email=?\n"
     ]
    },
    {
     "name": "stdout",
     "output_type": "stream",
     "text": [
      "13:16:03.365 DEBUG org.hibernate.SQL - insert into CUSTOMER (birthDate,creationDate,email,firstname,lastname,photo,status,version,ID) values (?,?,?,?,?,?,?,?,?)\n"
     ]
    },
    {
     "name": "stdout",
     "output_type": "stream",
     "text": [
      "13:16:03.365 DEBUG org.hibernate.SQL - select count(*)>0 from CUSTOMER c1_0 where c1_0.email=?\n"
     ]
    },
    {
     "name": "stdout",
     "output_type": "stream",
     "text": [
      "13:16:03.365 DEBUG org.hibernate.SQL - insert into CUSTOMER (birthDate,creationDate,email,firstname,lastname,photo,status,version,ID) values (?,?,?,?,?,?,?,?,?)\n"
     ]
    },
    {
     "name": "stdout",
     "output_type": "stream",
     "text": [
      "13:16:03.366 DEBUG org.hibernate.SQL - select count(*)>0 from CUSTOMER c1_0 where c1_0.email=?\n"
     ]
    },
    {
     "name": "stdout",
     "output_type": "stream",
     "text": [
      "13:16:03.366 DEBUG org.hibernate.SQL - insert into CUSTOMER (birthDate,creationDate,email,firstname,lastname,photo,status,version,ID) values (?,?,?,?,?,?,?,?,?)\n"
     ]
    },
    {
     "name": "stdout",
     "output_type": "stream",
     "text": [
      "13:16:03.366 DEBUG org.hibernate.SQL - select count(*)>0 from CUSTOMER c1_0 where c1_0.email=?\n"
     ]
    },
    {
     "name": "stdout",
     "output_type": "stream",
     "text": [
      "13:16:03.367 DEBUG org.hibernate.SQL - insert into CUSTOMER (birthDate,creationDate,email,firstname,lastname,photo,status,version,ID) values (?,?,?,?,?,?,?,?,?)\n"
     ]
    },
    {
     "name": "stdout",
     "output_type": "stream",
     "text": [
      "13:16:03.367 DEBUG org.hibernate.SQL - select count(*)>0 from CUSTOMER c1_0 where c1_0.email=?\n"
     ]
    },
    {
     "name": "stdout",
     "output_type": "stream",
     "text": [
      "13:16:03.368 DEBUG org.hibernate.SQL - insert into CUSTOMER (birthDate,creationDate,email,firstname,lastname,photo,status,version,ID) values (?,?,?,?,?,?,?,?,?)\n"
     ]
    },
    {
     "name": "stdout",
     "output_type": "stream",
     "text": [
      "13:16:03.368 DEBUG org.hibernate.SQL - select count(*)>0 from CUSTOMER c1_0 where c1_0.email=?\n"
     ]
    },
    {
     "name": "stdout",
     "output_type": "stream",
     "text": [
      "13:16:03.368 DEBUG org.hibernate.SQL - insert into CUSTOMER (birthDate,creationDate,email,firstname,lastname,photo,status,version,ID) values (?,?,?,?,?,?,?,?,?)\n"
     ]
    },
    {
     "name": "stdout",
     "output_type": "stream",
     "text": [
      "13:16:03.369 DEBUG org.hibernate.SQL - select count(*)>0 from CUSTOMER c1_0 where c1_0.email=?\n"
     ]
    },
    {
     "name": "stdout",
     "output_type": "stream",
     "text": [
      "13:16:03.369 DEBUG org.hibernate.SQL - select nextval('CUSTOMER_SEQ')\n"
     ]
    },
    {
     "name": "stdout",
     "output_type": "stream",
     "text": [
      "13:16:03.369 DEBUG org.hibernate.SQL - insert into CUSTOMER (birthDate,creationDate,email,firstname,lastname,photo,status,version,ID) values (?,?,?,?,?,?,?,?,?)\n"
     ]
    },
    {
     "name": "stdout",
     "output_type": "stream",
     "text": [
      "13:16:03.369 DEBUG org.hibernate.SQL - select count(*)>0 from CUSTOMER c1_0 where c1_0.email=?\n"
     ]
    },
    {
     "name": "stdout",
     "output_type": "stream",
     "text": [
      "13:16:03.370 DEBUG org.hibernate.SQL - insert into CUSTOMER (birthDate,creationDate,email,firstname,lastname,photo,status,version,ID) values (?,?,?,?,?,?,?,?,?)\n"
     ]
    },
    {
     "name": "stdout",
     "output_type": "stream",
     "text": [
      "13:16:03.370 DEBUG org.hibernate.SQL - select count(*)>0 from CUSTOMER c1_0 where c1_0.email=?\n"
     ]
    },
    {
     "name": "stdout",
     "output_type": "stream",
     "text": [
      "13:16:03.371 DEBUG org.hibernate.SQL - insert into CUSTOMER (birthDate,creationDate,email,firstname,lastname,photo,status,version,ID) values (?,?,?,?,?,?,?,?,?)\n"
     ]
    },
    {
     "name": "stdout",
     "output_type": "stream",
     "text": [
      "13:16:03.371 DEBUG org.hibernate.SQL - select count(*)>0 from CUSTOMER c1_0 where c1_0.email=?\n"
     ]
    },
    {
     "name": "stdout",
     "output_type": "stream",
     "text": [
      "13:16:03.372 DEBUG org.hibernate.SQL - insert into CUSTOMER (birthDate,creationDate,email,firstname,lastname,photo,status,version,ID) values (?,?,?,?,?,?,?,?,?)\n"
     ]
    },
    {
     "name": "stdout",
     "output_type": "stream",
     "text": [
      "13:16:03.372 DEBUG org.hibernate.SQL - select count(*)>0 from CUSTOMER c1_0 where c1_0.email=?\n"
     ]
    },
    {
     "name": "stdout",
     "output_type": "stream",
     "text": [
      "13:16:03.372 DEBUG org.hibernate.SQL - insert into CUSTOMER (birthDate,creationDate,email,firstname,lastname,photo,status,version,ID) values (?,?,?,?,?,?,?,?,?)\n"
     ]
    },
    {
     "name": "stdout",
     "output_type": "stream",
     "text": [
      "13:16:03.373 DEBUG org.hibernate.SQL - select count(*)>0 from CUSTOMER c1_0 where c1_0.email=?\n"
     ]
    },
    {
     "name": "stdout",
     "output_type": "stream",
     "text": [
      "13:16:03.373 DEBUG org.hibernate.SQL - insert into CUSTOMER (birthDate,creationDate,email,firstname,lastname,photo,status,version,ID) values (?,?,?,?,?,?,?,?,?)\n"
     ]
    },
    {
     "name": "stdout",
     "output_type": "stream",
     "text": [
      "13:16:03.373 DEBUG org.hibernate.SQL - select count(*)>0 from CUSTOMER c1_0 where c1_0.email=?\n"
     ]
    },
    {
     "name": "stdout",
     "output_type": "stream",
     "text": [
      "13:16:03.374 DEBUG org.hibernate.SQL - insert into CUSTOMER (birthDate,creationDate,email,firstname,lastname,photo,status,version,ID) values (?,?,?,?,?,?,?,?,?)\n"
     ]
    },
    {
     "name": "stdout",
     "output_type": "stream",
     "text": [
      "13:16:03.374 DEBUG org.hibernate.SQL - select count(*)>0 from CUSTOMER c1_0 where c1_0.email=?\n"
     ]
    },
    {
     "name": "stdout",
     "output_type": "stream",
     "text": [
      "13:16:03.374 DEBUG org.hibernate.SQL - insert into CUSTOMER (birthDate,creationDate,email,firstname,lastname,photo,status,version,ID) values (?,?,?,?,?,?,?,?,?)\n"
     ]
    },
    {
     "name": "stdout",
     "output_type": "stream",
     "text": [
      "13:16:03.375 DEBUG org.hibernate.SQL - select count(*)>0 from CUSTOMER c1_0 where c1_0.email=?\n"
     ]
    },
    {
     "name": "stdout",
     "output_type": "stream",
     "text": [
      "13:16:03.375 DEBUG org.hibernate.SQL - insert into CUSTOMER (birthDate,creationDate,email,firstname,lastname,photo,status,version,ID) values (?,?,?,?,?,?,?,?,?)\n"
     ]
    },
    {
     "name": "stdout",
     "output_type": "stream",
     "text": [
      "13:16:03.375 DEBUG org.hibernate.SQL - select count(*)>0 from CUSTOMER c1_0 where c1_0.email=?\n"
     ]
    },
    {
     "name": "stdout",
     "output_type": "stream",
     "text": [
      "13:16:03.376 DEBUG org.hibernate.SQL - insert into CUSTOMER (birthDate,creationDate,email,firstname,lastname,photo,status,version,ID) values (?,?,?,?,?,?,?,?,?)\n"
     ]
    },
    {
     "name": "stdout",
     "output_type": "stream",
     "text": [
      "13:16:03.376 DEBUG org.hibernate.SQL - select count(*)>0 from CUSTOMER c1_0 where c1_0.email=?\n"
     ]
    },
    {
     "name": "stdout",
     "output_type": "stream",
     "text": [
      "13:16:03.376 DEBUG org.hibernate.SQL - insert into CUSTOMER (birthDate,creationDate,email,firstname,lastname,photo,status,version,ID) values (?,?,?,?,?,?,?,?,?)\n"
     ]
    },
    {
     "name": "stdout",
     "output_type": "stream",
     "text": [
      "13:16:03.377 DEBUG org.hibernate.SQL - select count(*)>0 from CUSTOMER c1_0 where c1_0.email=?\n"
     ]
    },
    {
     "name": "stdout",
     "output_type": "stream",
     "text": [
      "13:16:03.377 DEBUG org.hibernate.SQL - insert into CUSTOMER (birthDate,creationDate,email,firstname,lastname,photo,status,version,ID) values (?,?,?,?,?,?,?,?,?)\n"
     ]
    },
    {
     "name": "stdout",
     "output_type": "stream",
     "text": [
      "13:16:03.377 DEBUG org.hibernate.SQL - select count(*)>0 from CUSTOMER c1_0 where c1_0.email=?\n"
     ]
    },
    {
     "name": "stdout",
     "output_type": "stream",
     "text": [
      "13:16:03.378 DEBUG org.hibernate.SQL - insert into CUSTOMER (birthDate,creationDate,email,firstname,lastname,photo,status,version,ID) values (?,?,?,?,?,?,?,?,?)\n"
     ]
    },
    {
     "name": "stdout",
     "output_type": "stream",
     "text": [
      "13:16:03.378 DEBUG org.hibernate.SQL - select count(*)>0 from CUSTOMER c1_0 where c1_0.email=?\n"
     ]
    },
    {
     "name": "stdout",
     "output_type": "stream",
     "text": [
      "13:16:03.378 DEBUG org.hibernate.SQL - insert into CUSTOMER (birthDate,creationDate,email,firstname,lastname,photo,status,version,ID) values (?,?,?,?,?,?,?,?,?)\n"
     ]
    },
    {
     "name": "stdout",
     "output_type": "stream",
     "text": [
      "13:16:03.379 DEBUG org.hibernate.SQL - select count(*)>0 from CUSTOMER c1_0 where c1_0.email=?\n"
     ]
    },
    {
     "name": "stdout",
     "output_type": "stream",
     "text": [
      "13:16:03.379 DEBUG org.hibernate.SQL - insert into CUSTOMER (birthDate,creationDate,email,firstname,lastname,photo,status,version,ID) values (?,?,?,?,?,?,?,?,?)\n"
     ]
    },
    {
     "name": "stdout",
     "output_type": "stream",
     "text": [
      "13:16:03.379 DEBUG org.hibernate.SQL - select count(*)>0 from CUSTOMER c1_0 where c1_0.email=?\n"
     ]
    },
    {
     "name": "stdout",
     "output_type": "stream",
     "text": [
      "13:16:03.380 DEBUG org.hibernate.SQL - insert into CUSTOMER (birthDate,creationDate,email,firstname,lastname,photo,status,version,ID) values (?,?,?,?,?,?,?,?,?)\n"
     ]
    },
    {
     "name": "stdout",
     "output_type": "stream",
     "text": [
      "13:16:03.380 DEBUG org.hibernate.SQL - select count(*)>0 from CUSTOMER c1_0 where c1_0.email=?\n"
     ]
    },
    {
     "name": "stdout",
     "output_type": "stream",
     "text": [
      "13:16:03.380 DEBUG org.hibernate.SQL - insert into CUSTOMER (birthDate,creationDate,email,firstname,lastname,photo,status,version,ID) values (?,?,?,?,?,?,?,?,?)\n"
     ]
    },
    {
     "name": "stdout",
     "output_type": "stream",
     "text": [
      "13:16:03.380 DEBUG org.hibernate.SQL - select count(*)>0 from CUSTOMER c1_0 where c1_0.email=?\n"
     ]
    },
    {
     "name": "stdout",
     "output_type": "stream",
     "text": [
      "13:16:03.381 DEBUG org.hibernate.SQL - insert into CUSTOMER (birthDate,creationDate,email,firstname,lastname,photo,status,version,ID) values (?,?,?,?,?,?,?,?,?)\n"
     ]
    },
    {
     "name": "stdout",
     "output_type": "stream",
     "text": [
      "13:16:03.381 DEBUG org.hibernate.SQL - select count(*)>0 from CUSTOMER c1_0 where c1_0.email=?\n"
     ]
    },
    {
     "name": "stdout",
     "output_type": "stream",
     "text": [
      "13:16:03.381 DEBUG org.hibernate.SQL - insert into CUSTOMER (birthDate,creationDate,email,firstname,lastname,photo,status,version,ID) values (?,?,?,?,?,?,?,?,?)\n"
     ]
    },
    {
     "name": "stdout",
     "output_type": "stream",
     "text": [
      "13:16:03.382 DEBUG org.hibernate.SQL - select count(*)>0 from CUSTOMER c1_0 where c1_0.email=?\n"
     ]
    },
    {
     "name": "stdout",
     "output_type": "stream",
     "text": [
      "13:16:03.382 DEBUG org.hibernate.SQL - insert into CUSTOMER (birthDate,creationDate,email,firstname,lastname,photo,status,version,ID) values (?,?,?,?,?,?,?,?,?)\n"
     ]
    },
    {
     "name": "stdout",
     "output_type": "stream",
     "text": [
      "13:16:03.382 DEBUG org.hibernate.SQL - select count(*)>0 from CUSTOMER c1_0 where c1_0.email=?\n"
     ]
    },
    {
     "name": "stdout",
     "output_type": "stream",
     "text": [
      "13:16:03.383 DEBUG org.hibernate.SQL - insert into CUSTOMER (birthDate,creationDate,email,firstname,lastname,photo,status,version,ID) values (?,?,?,?,?,?,?,?,?)\n"
     ]
    },
    {
     "name": "stdout",
     "output_type": "stream",
     "text": [
      "13:16:03.383 DEBUG org.hibernate.SQL - select count(*)>0 from CUSTOMER c1_0 where c1_0.email=?\n"
     ]
    },
    {
     "name": "stdout",
     "output_type": "stream",
     "text": [
      "13:16:03.384 DEBUG org.hibernate.SQL - insert into CUSTOMER (birthDate,creationDate,email,firstname,lastname,photo,status,version,ID) values (?,?,?,?,?,?,?,?,?)\n"
     ]
    },
    {
     "name": "stdout",
     "output_type": "stream",
     "text": [
      "13:16:03.385 DEBUG org.hibernate.SQL - select count(*)>0 from CUSTOMER c1_0 where c1_0.email=?\n"
     ]
    },
    {
     "name": "stdout",
     "output_type": "stream",
     "text": [
      "13:16:03.386 DEBUG org.hibernate.SQL - insert into CUSTOMER (birthDate,creationDate,email,firstname,lastname,photo,status,version,ID) values (?,?,?,?,?,?,?,?,?)\n"
     ]
    },
    {
     "name": "stdout",
     "output_type": "stream",
     "text": [
      "13:16:03.386 DEBUG org.hibernate.SQL - select count(*)>0 from CUSTOMER c1_0 where c1_0.email=?\n"
     ]
    },
    {
     "name": "stdout",
     "output_type": "stream",
     "text": [
      "13:16:03.387 DEBUG org.hibernate.SQL - insert into CUSTOMER (birthDate,creationDate,email,firstname,lastname,photo,status,version,ID) values (?,?,?,?,?,?,?,?,?)\n"
     ]
    },
    {
     "name": "stdout",
     "output_type": "stream",
     "text": [
      "13:16:03.388 DEBUG org.hibernate.SQL - select count(*)>0 from CUSTOMER c1_0 where c1_0.email=?\n"
     ]
    },
    {
     "name": "stdout",
     "output_type": "stream",
     "text": [
      "13:16:03.390 DEBUG org.hibernate.SQL - insert into CUSTOMER (birthDate,creationDate,email,firstname,lastname,photo,status,version,ID) values (?,?,?,?,?,?,?,?,?)\n"
     ]
    },
    {
     "name": "stdout",
     "output_type": "stream",
     "text": [
      "13:16:03.391 DEBUG org.hibernate.SQL - select count(*)>0 from CUSTOMER c1_0 where c1_0.email=?\n"
     ]
    },
    {
     "name": "stdout",
     "output_type": "stream",
     "text": [
      "13:16:03.393 DEBUG org.hibernate.SQL - insert into CUSTOMER (birthDate,creationDate,email,firstname,lastname,photo,status,version,ID) values (?,?,?,?,?,?,?,?,?)\n"
     ]
    },
    {
     "name": "stdout",
     "output_type": "stream",
     "text": [
      "13:16:03.394 DEBUG org.hibernate.SQL - select count(*)>0 from CUSTOMER c1_0 where c1_0.email=?\n"
     ]
    },
    {
     "name": "stdout",
     "output_type": "stream",
     "text": [
      "13:16:03.395 DEBUG org.hibernate.SQL - insert into CUSTOMER (birthDate,creationDate,email,firstname,lastname,photo,status,version,ID) values (?,?,?,?,?,?,?,?,?)\n"
     ]
    },
    {
     "name": "stdout",
     "output_type": "stream",
     "text": [
      "13:16:03.396 DEBUG org.hibernate.SQL - select count(*)>0 from CUSTOMER c1_0 where c1_0.email=?\n"
     ]
    },
    {
     "name": "stdout",
     "output_type": "stream",
     "text": [
      "13:16:03.399 DEBUG org.hibernate.SQL - insert into CUSTOMER (birthDate,creationDate,email,firstname,lastname,photo,status,version,ID) values (?,?,?,?,?,?,?,?,?)\n"
     ]
    },
    {
     "name": "stdout",
     "output_type": "stream",
     "text": [
      "13:16:03.400 DEBUG org.hibernate.SQL - select count(*)>0 from CUSTOMER c1_0 where c1_0.email=?\n"
     ]
    },
    {
     "name": "stdout",
     "output_type": "stream",
     "text": [
      "13:16:03.401 DEBUG org.hibernate.SQL - insert into CUSTOMER (birthDate,creationDate,email,firstname,lastname,photo,status,version,ID) values (?,?,?,?,?,?,?,?,?)\n"
     ]
    },
    {
     "name": "stdout",
     "output_type": "stream",
     "text": [
      "13:16:03.402 DEBUG org.hibernate.SQL - select count(*)>0 from CUSTOMER c1_0 where c1_0.email=?\n"
     ]
    },
    {
     "name": "stdout",
     "output_type": "stream",
     "text": [
      "13:16:03.402 DEBUG org.hibernate.SQL - insert into CUSTOMER (birthDate,creationDate,email,firstname,lastname,photo,status,version,ID) values (?,?,?,?,?,?,?,?,?)\n"
     ]
    },
    {
     "name": "stdout",
     "output_type": "stream",
     "text": [
      "13:16:03.403 DEBUG org.hibernate.SQL - select count(*)>0 from CUSTOMER c1_0 where c1_0.email=?\n"
     ]
    },
    {
     "name": "stdout",
     "output_type": "stream",
     "text": [
      "13:16:03.404 DEBUG org.hibernate.SQL - insert into CUSTOMER (birthDate,creationDate,email,firstname,lastname,photo,status,version,ID) values (?,?,?,?,?,?,?,?,?)\n"
     ]
    },
    {
     "name": "stdout",
     "output_type": "stream",
     "text": [
      "13:16:03.404 DEBUG org.hibernate.SQL - select count(*)>0 from CUSTOMER c1_0 where c1_0.email=?\n"
     ]
    },
    {
     "name": "stdout",
     "output_type": "stream",
     "text": [
      "13:16:03.405 DEBUG org.hibernate.SQL - insert into CUSTOMER (birthDate,creationDate,email,firstname,lastname,photo,status,version,ID) values (?,?,?,?,?,?,?,?,?)\n"
     ]
    },
    {
     "name": "stdout",
     "output_type": "stream",
     "text": [
      "13:16:03.405 DEBUG org.hibernate.SQL - select count(*)>0 from CUSTOMER c1_0 where c1_0.email=?\n"
     ]
    },
    {
     "name": "stdout",
     "output_type": "stream",
     "text": [
      "13:16:03.407 DEBUG org.hibernate.SQL - insert into CUSTOMER (birthDate,creationDate,email,firstname,lastname,photo,status,version,ID) values (?,?,?,?,?,?,?,?,?)\n"
     ]
    },
    {
     "name": "stdout",
     "output_type": "stream",
     "text": [
      "13:16:03.407 DEBUG org.hibernate.SQL - select count(*)>0 from CUSTOMER c1_0 where c1_0.email=?\n"
     ]
    },
    {
     "name": "stdout",
     "output_type": "stream",
     "text": [
      "13:16:03.408 DEBUG org.hibernate.SQL - insert into CUSTOMER (birthDate,creationDate,email,firstname,lastname,photo,status,version,ID) values (?,?,?,?,?,?,?,?,?)\n"
     ]
    },
    {
     "name": "stdout",
     "output_type": "stream",
     "text": [
      "13:16:03.408 DEBUG org.hibernate.SQL - select count(*)>0 from CUSTOMER c1_0 where c1_0.email=?\n"
     ]
    },
    {
     "name": "stdout",
     "output_type": "stream",
     "text": [
      "13:16:03.409 DEBUG org.hibernate.SQL - insert into CUSTOMER (birthDate,creationDate,email,firstname,lastname,photo,status,version,ID) values (?,?,?,?,?,?,?,?,?)\n"
     ]
    },
    {
     "name": "stdout",
     "output_type": "stream",
     "text": [
      "13:16:03.409 DEBUG org.hibernate.SQL - select count(*)>0 from CUSTOMER c1_0 where c1_0.email=?\n"
     ]
    },
    {
     "name": "stdout",
     "output_type": "stream",
     "text": [
      "13:16:03.410 DEBUG org.hibernate.SQL - insert into CUSTOMER (birthDate,creationDate,email,firstname,lastname,photo,status,version,ID) values (?,?,?,?,?,?,?,?,?)\n"
     ]
    },
    {
     "name": "stdout",
     "output_type": "stream",
     "text": [
      "13:16:03.410 DEBUG org.hibernate.SQL - select count(*)>0 from CUSTOMER c1_0 where c1_0.email=?\n"
     ]
    },
    {
     "name": "stdout",
     "output_type": "stream",
     "text": [
      "13:16:03.410 DEBUG org.hibernate.SQL - insert into CUSTOMER (birthDate,creationDate,email,firstname,lastname,photo,status,version,ID) values (?,?,?,?,?,?,?,?,?)\n"
     ]
    },
    {
     "name": "stdout",
     "output_type": "stream",
     "text": [
      "13:16:03.411 DEBUG org.hibernate.SQL - select count(*)>0 from CUSTOMER c1_0 where c1_0.email=?\n"
     ]
    },
    {
     "name": "stdout",
     "output_type": "stream",
     "text": [
      "13:16:03.411 DEBUG org.hibernate.SQL - insert into CUSTOMER (birthDate,creationDate,email,firstname,lastname,photo,status,version,ID) values (?,?,?,?,?,?,?,?,?)\n"
     ]
    },
    {
     "name": "stdout",
     "output_type": "stream",
     "text": [
      "13:16:03.411 DEBUG org.hibernate.SQL - select count(*)>0 from CUSTOMER c1_0 where c1_0.email=?\n"
     ]
    },
    {
     "name": "stdout",
     "output_type": "stream",
     "text": [
      "13:16:03.412 DEBUG org.hibernate.SQL - insert into CUSTOMER (birthDate,creationDate,email,firstname,lastname,photo,status,version,ID) values (?,?,?,?,?,?,?,?,?)\n"
     ]
    },
    {
     "name": "stdout",
     "output_type": "stream",
     "text": [
      "13:16:03.412 DEBUG org.hibernate.SQL - select count(*)>0 from CUSTOMER c1_0 where c1_0.email=?\n"
     ]
    },
    {
     "name": "stdout",
     "output_type": "stream",
     "text": [
      "13:16:03.413 DEBUG org.hibernate.SQL - insert into CUSTOMER (birthDate,creationDate,email,firstname,lastname,photo,status,version,ID) values (?,?,?,?,?,?,?,?,?)\n"
     ]
    },
    {
     "name": "stdout",
     "output_type": "stream",
     "text": [
      "13:16:03.413 DEBUG org.hibernate.SQL - select count(*)>0 from CUSTOMER c1_0 where c1_0.email=?\n"
     ]
    },
    {
     "name": "stdout",
     "output_type": "stream",
     "text": [
      "13:16:03.414 DEBUG org.hibernate.SQL - insert into CUSTOMER (birthDate,creationDate,email,firstname,lastname,photo,status,version,ID) values (?,?,?,?,?,?,?,?,?)\n"
     ]
    },
    {
     "name": "stdout",
     "output_type": "stream",
     "text": [
      "13:16:03.414 DEBUG org.hibernate.SQL - select count(*)>0 from CUSTOMER c1_0 where c1_0.email=?\n"
     ]
    },
    {
     "name": "stdout",
     "output_type": "stream",
     "text": [
      "13:16:03.414 DEBUG org.hibernate.SQL - insert into CUSTOMER (birthDate,creationDate,email,firstname,lastname,photo,status,version,ID) values (?,?,?,?,?,?,?,?,?)\n"
     ]
    },
    {
     "name": "stdout",
     "output_type": "stream",
     "text": [
      "13:16:03.414 DEBUG org.hibernate.SQL - select count(*)>0 from CUSTOMER c1_0 where c1_0.email=?\n"
     ]
    },
    {
     "name": "stdout",
     "output_type": "stream",
     "text": [
      "13:16:03.415 DEBUG org.hibernate.SQL - insert into CUSTOMER (birthDate,creationDate,email,firstname,lastname,photo,status,version,ID) values (?,?,?,?,?,?,?,?,?)\n"
     ]
    },
    {
     "name": "stdout",
     "output_type": "stream",
     "text": [
      "13:16:03.415 DEBUG org.hibernate.SQL - select count(*)>0 from CUSTOMER c1_0 where c1_0.email=?\n"
     ]
    },
    {
     "name": "stdout",
     "output_type": "stream",
     "text": [
      "13:16:03.416 DEBUG org.hibernate.SQL - insert into CUSTOMER (birthDate,creationDate,email,firstname,lastname,photo,status,version,ID) values (?,?,?,?,?,?,?,?,?)\n"
     ]
    },
    {
     "name": "stdout",
     "output_type": "stream",
     "text": [
      "13:16:03.416 DEBUG org.hibernate.SQL - select count(*)>0 from CUSTOMER c1_0 where c1_0.email=?\n"
     ]
    },
    {
     "name": "stdout",
     "output_type": "stream",
     "text": [
      "13:16:03.417 DEBUG org.hibernate.SQL - insert into CUSTOMER (birthDate,creationDate,email,firstname,lastname,photo,status,version,ID) values (?,?,?,?,?,?,?,?,?)\n"
     ]
    },
    {
     "name": "stdout",
     "output_type": "stream",
     "text": [
      "13:16:03.417 DEBUG org.hibernate.SQL - select count(*)>0 from CUSTOMER c1_0 where c1_0.email=?\n"
     ]
    },
    {
     "name": "stdout",
     "output_type": "stream",
     "text": [
      "13:16:03.417 DEBUG org.hibernate.SQL - insert into CUSTOMER (birthDate,creationDate,email,firstname,lastname,photo,status,version,ID) values (?,?,?,?,?,?,?,?,?)\n"
     ]
    },
    {
     "name": "stdout",
     "output_type": "stream",
     "text": [
      "13:16:03.418 DEBUG org.hibernate.SQL - select count(*)>0 from CUSTOMER c1_0 where c1_0.email=?\n"
     ]
    },
    {
     "name": "stdout",
     "output_type": "stream",
     "text": [
      "13:16:03.418 DEBUG org.hibernate.SQL - insert into CUSTOMER (birthDate,creationDate,email,firstname,lastname,photo,status,version,ID) values (?,?,?,?,?,?,?,?,?)\n"
     ]
    },
    {
     "name": "stdout",
     "output_type": "stream",
     "text": [
      "13:16:03.419 DEBUG org.hibernate.SQL - select count(*)>0 from CUSTOMER c1_0 where c1_0.email=?\n"
     ]
    },
    {
     "name": "stdout",
     "output_type": "stream",
     "text": [
      "13:16:03.419 DEBUG org.hibernate.SQL - insert into CUSTOMER (birthDate,creationDate,email,firstname,lastname,photo,status,version,ID) values (?,?,?,?,?,?,?,?,?)\n"
     ]
    },
    {
     "name": "stdout",
     "output_type": "stream",
     "text": [
      "13:16:03.419 DEBUG org.hibernate.SQL - select count(*)>0 from CUSTOMER c1_0 where c1_0.email=?\n"
     ]
    },
    {
     "name": "stdout",
     "output_type": "stream",
     "text": [
      "13:16:03.421 DEBUG org.hibernate.SQL - insert into CUSTOMER (birthDate,creationDate,email,firstname,lastname,photo,status,version,ID) values (?,?,?,?,?,?,?,?,?)\n"
     ]
    },
    {
     "name": "stdout",
     "output_type": "stream",
     "text": [
      "13:16:03.421 DEBUG org.hibernate.SQL - select count(*)>0 from CUSTOMER c1_0 where c1_0.email=?\n"
     ]
    },
    {
     "name": "stdout",
     "output_type": "stream",
     "text": [
      "13:16:03.422 DEBUG org.hibernate.SQL - insert into CUSTOMER (birthDate,creationDate,email,firstname,lastname,photo,status,version,ID) values (?,?,?,?,?,?,?,?,?)\n"
     ]
    },
    {
     "name": "stdout",
     "output_type": "stream",
     "text": [
      "13:16:03.423 DEBUG org.hibernate.SQL - select count(*)>0 from CUSTOMER c1_0 where c1_0.email=?\n"
     ]
    },
    {
     "name": "stdout",
     "output_type": "stream",
     "text": [
      "13:16:03.423 DEBUG org.hibernate.SQL - select nextval('CUSTOMER_SEQ')\n"
     ]
    },
    {
     "name": "stdout",
     "output_type": "stream",
     "text": [
      "13:16:03.424 DEBUG org.hibernate.SQL - insert into CUSTOMER (birthDate,creationDate,email,firstname,lastname,photo,status,version,ID) values (?,?,?,?,?,?,?,?,?)\n"
     ]
    },
    {
     "name": "stdout",
     "output_type": "stream",
     "text": [
      "13:16:03.424 DEBUG org.hibernate.SQL - select count(*)>0 from CUSTOMER c1_0 where c1_0.email=?\n"
     ]
    },
    {
     "name": "stdout",
     "output_type": "stream",
     "text": [
      "13:16:03.425 DEBUG org.hibernate.SQL - insert into CUSTOMER (birthDate,creationDate,email,firstname,lastname,photo,status,version,ID) values (?,?,?,?,?,?,?,?,?)\n"
     ]
    },
    {
     "name": "stdout",
     "output_type": "stream",
     "text": [
      "13:16:03.425 DEBUG org.hibernate.SQL - select count(*)>0 from CUSTOMER c1_0 where c1_0.email=?\n"
     ]
    },
    {
     "name": "stdout",
     "output_type": "stream",
     "text": [
      "13:16:03.426 DEBUG org.hibernate.SQL - insert into CUSTOMER (birthDate,creationDate,email,firstname,lastname,photo,status,version,ID) values (?,?,?,?,?,?,?,?,?)\n"
     ]
    },
    {
     "name": "stdout",
     "output_type": "stream",
     "text": [
      "13:16:03.426 DEBUG org.hibernate.SQL - select count(*)>0 from CUSTOMER c1_0 where c1_0.email=?\n"
     ]
    },
    {
     "name": "stdout",
     "output_type": "stream",
     "text": [
      "13:16:03.427 DEBUG org.hibernate.SQL - insert into CUSTOMER (birthDate,creationDate,email,firstname,lastname,photo,status,version,ID) values (?,?,?,?,?,?,?,?,?)\n"
     ]
    },
    {
     "name": "stdout",
     "output_type": "stream",
     "text": [
      "13:16:03.427 DEBUG org.hibernate.SQL - select count(*)>0 from CUSTOMER c1_0 where c1_0.email=?\n"
     ]
    },
    {
     "name": "stdout",
     "output_type": "stream",
     "text": [
      "13:16:03.428 DEBUG org.hibernate.SQL - insert into CUSTOMER (birthDate,creationDate,email,firstname,lastname,photo,status,version,ID) values (?,?,?,?,?,?,?,?,?)\n"
     ]
    },
    {
     "name": "stdout",
     "output_type": "stream",
     "text": [
      "13:16:03.428 DEBUG org.hibernate.SQL - select count(*)>0 from CUSTOMER c1_0 where c1_0.email=?\n"
     ]
    },
    {
     "name": "stdout",
     "output_type": "stream",
     "text": [
      "13:16:03.428 DEBUG org.hibernate.SQL - insert into CUSTOMER (birthDate,creationDate,email,firstname,lastname,photo,status,version,ID) values (?,?,?,?,?,?,?,?,?)\n"
     ]
    },
    {
     "name": "stdout",
     "output_type": "stream",
     "text": [
      "13:16:03.429 DEBUG org.hibernate.SQL - select count(*)>0 from CUSTOMER c1_0 where c1_0.email=?\n"
     ]
    },
    {
     "name": "stdout",
     "output_type": "stream",
     "text": [
      "13:16:03.429 DEBUG org.hibernate.SQL - insert into CUSTOMER (birthDate,creationDate,email,firstname,lastname,photo,status,version,ID) values (?,?,?,?,?,?,?,?,?)\n"
     ]
    },
    {
     "name": "stdout",
     "output_type": "stream",
     "text": [
      "13:16:03.430 DEBUG org.hibernate.SQL - select count(*)>0 from CUSTOMER c1_0 where c1_0.email=?\n"
     ]
    },
    {
     "name": "stdout",
     "output_type": "stream",
     "text": [
      "13:16:03.430 DEBUG org.hibernate.SQL - insert into CUSTOMER (birthDate,creationDate,email,firstname,lastname,photo,status,version,ID) values (?,?,?,?,?,?,?,?,?)\n"
     ]
    },
    {
     "name": "stdout",
     "output_type": "stream",
     "text": [
      "13:16:03.431 DEBUG org.hibernate.SQL - select count(*)>0 from CUSTOMER c1_0 where c1_0.email=?\n"
     ]
    },
    {
     "name": "stdout",
     "output_type": "stream",
     "text": [
      "13:16:03.431 DEBUG org.hibernate.SQL - insert into CUSTOMER (birthDate,creationDate,email,firstname,lastname,photo,status,version,ID) values (?,?,?,?,?,?,?,?,?)\n"
     ]
    },
    {
     "name": "stdout",
     "output_type": "stream",
     "text": [
      "13:16:03.431 DEBUG org.hibernate.SQL - select count(*)>0 from CUSTOMER c1_0 where c1_0.email=?\n"
     ]
    },
    {
     "name": "stdout",
     "output_type": "stream",
     "text": [
      "13:16:03.432 DEBUG org.hibernate.SQL - insert into CUSTOMER (birthDate,creationDate,email,firstname,lastname,photo,status,version,ID) values (?,?,?,?,?,?,?,?,?)\n"
     ]
    },
    {
     "name": "stdout",
     "output_type": "stream",
     "text": [
      "13:16:03.432 DEBUG org.hibernate.SQL - select count(*)>0 from CUSTOMER c1_0 where c1_0.email=?\n"
     ]
    },
    {
     "name": "stdout",
     "output_type": "stream",
     "text": [
      "13:16:03.432 DEBUG org.hibernate.SQL - insert into CUSTOMER (birthDate,creationDate,email,firstname,lastname,photo,status,version,ID) values (?,?,?,?,?,?,?,?,?)\n"
     ]
    },
    {
     "name": "stdout",
     "output_type": "stream",
     "text": [
      "13:16:03.433 DEBUG org.hibernate.SQL - select count(*)>0 from CUSTOMER c1_0 where c1_0.email=?\n"
     ]
    },
    {
     "name": "stdout",
     "output_type": "stream",
     "text": [
      "13:16:03.433 DEBUG org.hibernate.SQL - insert into CUSTOMER (birthDate,creationDate,email,firstname,lastname,photo,status,version,ID) values (?,?,?,?,?,?,?,?,?)\n"
     ]
    },
    {
     "name": "stdout",
     "output_type": "stream",
     "text": [
      "13:16:03.433 DEBUG org.hibernate.SQL - select count(*)>0 from CUSTOMER c1_0 where c1_0.email=?\n"
     ]
    },
    {
     "name": "stdout",
     "output_type": "stream",
     "text": [
      "13:16:03.434 DEBUG org.hibernate.SQL - insert into CUSTOMER (birthDate,creationDate,email,firstname,lastname,photo,status,version,ID) values (?,?,?,?,?,?,?,?,?)\n"
     ]
    },
    {
     "name": "stdout",
     "output_type": "stream",
     "text": [
      "13:16:03.434 DEBUG org.hibernate.SQL - select count(*)>0 from CUSTOMER c1_0 where c1_0.email=?\n"
     ]
    },
    {
     "name": "stdout",
     "output_type": "stream",
     "text": [
      "13:16:03.435 DEBUG org.hibernate.SQL - insert into CUSTOMER (birthDate,creationDate,email,firstname,lastname,photo,status,version,ID) values (?,?,?,?,?,?,?,?,?)\n"
     ]
    },
    {
     "name": "stdout",
     "output_type": "stream",
     "text": [
      "13:16:03.435 DEBUG org.hibernate.SQL - select count(*)>0 from CUSTOMER c1_0 where c1_0.email=?\n"
     ]
    },
    {
     "name": "stdout",
     "output_type": "stream",
     "text": [
      "13:16:03.436 DEBUG org.hibernate.SQL - insert into CUSTOMER (birthDate,creationDate,email,firstname,lastname,photo,status,version,ID) values (?,?,?,?,?,?,?,?,?)\n"
     ]
    },
    {
     "name": "stdout",
     "output_type": "stream",
     "text": [
      "13:16:03.436 DEBUG org.hibernate.SQL - select count(*)>0 from CUSTOMER c1_0 where c1_0.email=?\n"
     ]
    },
    {
     "name": "stdout",
     "output_type": "stream",
     "text": [
      "13:16:03.437 DEBUG org.hibernate.SQL - insert into CUSTOMER (birthDate,creationDate,email,firstname,lastname,photo,status,version,ID) values (?,?,?,?,?,?,?,?,?)\n"
     ]
    },
    {
     "name": "stdout",
     "output_type": "stream",
     "text": [
      "13:16:03.437 DEBUG org.hibernate.SQL - select count(*)>0 from CUSTOMER c1_0 where c1_0.email=?\n"
     ]
    },
    {
     "name": "stdout",
     "output_type": "stream",
     "text": [
      "13:16:03.437 DEBUG org.hibernate.SQL - insert into CUSTOMER (birthDate,creationDate,email,firstname,lastname,photo,status,version,ID) values (?,?,?,?,?,?,?,?,?)\n"
     ]
    },
    {
     "name": "stdout",
     "output_type": "stream",
     "text": [
      "13:16:03.438 DEBUG org.hibernate.SQL - select count(*)>0 from CUSTOMER c1_0 where c1_0.email=?\n"
     ]
    },
    {
     "name": "stdout",
     "output_type": "stream",
     "text": [
      "13:16:03.438 DEBUG org.hibernate.SQL - insert into CUSTOMER (birthDate,creationDate,email,firstname,lastname,photo,status,version,ID) values (?,?,?,?,?,?,?,?,?)\n"
     ]
    },
    {
     "name": "stdout",
     "output_type": "stream",
     "text": [
      "13:16:03.438 DEBUG org.hibernate.SQL - select count(*)>0 from CUSTOMER c1_0 where c1_0.email=?\n"
     ]
    },
    {
     "name": "stdout",
     "output_type": "stream",
     "text": [
      "13:16:03.439 DEBUG org.hibernate.SQL - insert into CUSTOMER (birthDate,creationDate,email,firstname,lastname,photo,status,version,ID) values (?,?,?,?,?,?,?,?,?)\n"
     ]
    },
    {
     "name": "stdout",
     "output_type": "stream",
     "text": [
      "13:16:03.439 DEBUG org.hibernate.SQL - select count(*)>0 from CUSTOMER c1_0 where c1_0.email=?\n"
     ]
    },
    {
     "name": "stdout",
     "output_type": "stream",
     "text": [
      "13:16:03.439 DEBUG org.hibernate.SQL - insert into CUSTOMER (birthDate,creationDate,email,firstname,lastname,photo,status,version,ID) values (?,?,?,?,?,?,?,?,?)\n"
     ]
    },
    {
     "name": "stdout",
     "output_type": "stream",
     "text": [
      "13:16:03.439 DEBUG org.hibernate.SQL - select count(*)>0 from CUSTOMER c1_0 where c1_0.email=?\n"
     ]
    },
    {
     "name": "stdout",
     "output_type": "stream",
     "text": [
      "13:16:03.440 DEBUG org.hibernate.SQL - insert into CUSTOMER (birthDate,creationDate,email,firstname,lastname,photo,status,version,ID) values (?,?,?,?,?,?,?,?,?)\n"
     ]
    },
    {
     "name": "stdout",
     "output_type": "stream",
     "text": [
      "13:16:03.440 DEBUG org.hibernate.SQL - select count(*)>0 from CUSTOMER c1_0 where c1_0.email=?\n"
     ]
    },
    {
     "name": "stdout",
     "output_type": "stream",
     "text": [
      "13:16:03.441 DEBUG org.hibernate.SQL - insert into CUSTOMER (birthDate,creationDate,email,firstname,lastname,photo,status,version,ID) values (?,?,?,?,?,?,?,?,?)\n"
     ]
    },
    {
     "name": "stdout",
     "output_type": "stream",
     "text": [
      "13:16:03.441 DEBUG org.hibernate.SQL - select count(*)>0 from CUSTOMER c1_0 where c1_0.email=?\n"
     ]
    },
    {
     "name": "stdout",
     "output_type": "stream",
     "text": [
      "13:16:03.442 DEBUG org.hibernate.SQL - insert into CUSTOMER (birthDate,creationDate,email,firstname,lastname,photo,status,version,ID) values (?,?,?,?,?,?,?,?,?)\n"
     ]
    },
    {
     "name": "stdout",
     "output_type": "stream",
     "text": [
      "13:16:03.442 DEBUG org.hibernate.SQL - select count(*)>0 from CUSTOMER c1_0 where c1_0.email=?\n"
     ]
    },
    {
     "name": "stdout",
     "output_type": "stream",
     "text": [
      "13:16:03.442 DEBUG org.hibernate.SQL - insert into CUSTOMER (birthDate,creationDate,email,firstname,lastname,photo,status,version,ID) values (?,?,?,?,?,?,?,?,?)\n"
     ]
    },
    {
     "name": "stdout",
     "output_type": "stream",
     "text": [
      "13:16:03.442 DEBUG org.hibernate.SQL - select count(*)>0 from CUSTOMER c1_0 where c1_0.email=?\n"
     ]
    },
    {
     "name": "stdout",
     "output_type": "stream",
     "text": [
      "13:16:03.443 DEBUG org.hibernate.SQL - insert into CUSTOMER (birthDate,creationDate,email,firstname,lastname,photo,status,version,ID) values (?,?,?,?,?,?,?,?,?)\n"
     ]
    },
    {
     "name": "stdout",
     "output_type": "stream",
     "text": [
      "13:16:03.443 DEBUG org.hibernate.SQL - select count(*)>0 from CUSTOMER c1_0 where c1_0.email=?\n"
     ]
    },
    {
     "name": "stdout",
     "output_type": "stream",
     "text": [
      "13:16:03.444 DEBUG org.hibernate.SQL - insert into CUSTOMER (birthDate,creationDate,email,firstname,lastname,photo,status,version,ID) values (?,?,?,?,?,?,?,?,?)\n"
     ]
    },
    {
     "name": "stdout",
     "output_type": "stream",
     "text": [
      "13:16:03.444 DEBUG org.hibernate.SQL - select count(*)>0 from CUSTOMER c1_0 where c1_0.email=?\n"
     ]
    },
    {
     "name": "stdout",
     "output_type": "stream",
     "text": [
      "13:16:03.444 DEBUG org.hibernate.SQL - insert into CUSTOMER (birthDate,creationDate,email,firstname,lastname,photo,status,version,ID) values (?,?,?,?,?,?,?,?,?)\n"
     ]
    },
    {
     "name": "stdout",
     "output_type": "stream",
     "text": [
      "13:16:03.445 DEBUG org.hibernate.SQL - select count(*)>0 from CUSTOMER c1_0 where c1_0.email=?\n"
     ]
    },
    {
     "name": "stdout",
     "output_type": "stream",
     "text": [
      "13:16:03.445 DEBUG org.hibernate.SQL - insert into CUSTOMER (birthDate,creationDate,email,firstname,lastname,photo,status,version,ID) values (?,?,?,?,?,?,?,?,?)\n"
     ]
    },
    {
     "name": "stdout",
     "output_type": "stream",
     "text": [
      "13:16:03.445 DEBUG org.hibernate.SQL - select count(*)>0 from CUSTOMER c1_0 where c1_0.email=?\n"
     ]
    },
    {
     "name": "stdout",
     "output_type": "stream",
     "text": [
      "13:16:03.446 DEBUG org.hibernate.SQL - insert into CUSTOMER (birthDate,creationDate,email,firstname,lastname,photo,status,version,ID) values (?,?,?,?,?,?,?,?,?)\n"
     ]
    },
    {
     "name": "stdout",
     "output_type": "stream",
     "text": [
      "13:16:03.446 DEBUG org.hibernate.SQL - select count(*)>0 from CUSTOMER c1_0 where c1_0.email=?\n"
     ]
    },
    {
     "name": "stdout",
     "output_type": "stream",
     "text": [
      "13:16:03.446 DEBUG org.hibernate.SQL - insert into CUSTOMER (birthDate,creationDate,email,firstname,lastname,photo,status,version,ID) values (?,?,?,?,?,?,?,?,?)\n"
     ]
    },
    {
     "name": "stdout",
     "output_type": "stream",
     "text": [
      "13:16:03.446 DEBUG org.hibernate.SQL - select count(*)>0 from CUSTOMER c1_0 where c1_0.email=?\n"
     ]
    },
    {
     "name": "stdout",
     "output_type": "stream",
     "text": [
      "13:16:03.447 DEBUG org.hibernate.SQL - insert into CUSTOMER (birthDate,creationDate,email,firstname,lastname,photo,status,version,ID) values (?,?,?,?,?,?,?,?,?)\n"
     ]
    },
    {
     "name": "stdout",
     "output_type": "stream",
     "text": [
      "13:16:03.447 DEBUG org.hibernate.SQL - select count(*)>0 from CUSTOMER c1_0 where c1_0.email=?\n"
     ]
    },
    {
     "name": "stdout",
     "output_type": "stream",
     "text": [
      "13:16:03.447 DEBUG org.hibernate.SQL - insert into CUSTOMER (birthDate,creationDate,email,firstname,lastname,photo,status,version,ID) values (?,?,?,?,?,?,?,?,?)\n"
     ]
    },
    {
     "name": "stdout",
     "output_type": "stream",
     "text": [
      "13:16:03.448 DEBUG org.hibernate.SQL - select count(*)>0 from CUSTOMER c1_0 where c1_0.email=?\n"
     ]
    },
    {
     "name": "stdout",
     "output_type": "stream",
     "text": [
      "13:16:03.448 DEBUG org.hibernate.SQL - insert into CUSTOMER (birthDate,creationDate,email,firstname,lastname,photo,status,version,ID) values (?,?,?,?,?,?,?,?,?)\n"
     ]
    },
    {
     "name": "stdout",
     "output_type": "stream",
     "text": [
      "13:16:03.448 DEBUG org.hibernate.SQL - select count(*)>0 from CUSTOMER c1_0 where c1_0.email=?\n"
     ]
    },
    {
     "name": "stdout",
     "output_type": "stream",
     "text": [
      "13:16:03.449 DEBUG org.hibernate.SQL - insert into CUSTOMER (birthDate,creationDate,email,firstname,lastname,photo,status,version,ID) values (?,?,?,?,?,?,?,?,?)\n"
     ]
    },
    {
     "name": "stdout",
     "output_type": "stream",
     "text": [
      "13:16:03.449 DEBUG org.hibernate.SQL - select count(*)>0 from CUSTOMER c1_0 where c1_0.email=?\n"
     ]
    },
    {
     "name": "stdout",
     "output_type": "stream",
     "text": [
      "13:16:03.450 DEBUG org.hibernate.SQL - insert into CUSTOMER (birthDate,creationDate,email,firstname,lastname,photo,status,version,ID) values (?,?,?,?,?,?,?,?,?)\n"
     ]
    },
    {
     "name": "stdout",
     "output_type": "stream",
     "text": [
      "13:16:03.450 DEBUG org.hibernate.SQL - select count(*)>0 from CUSTOMER c1_0 where c1_0.email=?\n"
     ]
    },
    {
     "name": "stdout",
     "output_type": "stream",
     "text": [
      "13:16:03.451 DEBUG org.hibernate.SQL - insert into CUSTOMER (birthDate,creationDate,email,firstname,lastname,photo,status,version,ID) values (?,?,?,?,?,?,?,?,?)\n"
     ]
    },
    {
     "name": "stdout",
     "output_type": "stream",
     "text": [
      "13:16:03.451 DEBUG org.hibernate.SQL - select count(*)>0 from CUSTOMER c1_0 where c1_0.email=?\n"
     ]
    },
    {
     "name": "stdout",
     "output_type": "stream",
     "text": [
      "13:16:03.451 DEBUG org.hibernate.SQL - insert into CUSTOMER (birthDate,creationDate,email,firstname,lastname,photo,status,version,ID) values (?,?,?,?,?,?,?,?,?)\n"
     ]
    },
    {
     "name": "stdout",
     "output_type": "stream",
     "text": [
      "13:16:03.452 DEBUG org.hibernate.SQL - select count(*)>0 from CUSTOMER c1_0 where c1_0.email=?\n"
     ]
    },
    {
     "name": "stdout",
     "output_type": "stream",
     "text": [
      "13:16:03.452 DEBUG org.hibernate.SQL - insert into CUSTOMER (birthDate,creationDate,email,firstname,lastname,photo,status,version,ID) values (?,?,?,?,?,?,?,?,?)\n"
     ]
    },
    {
     "name": "stdout",
     "output_type": "stream",
     "text": [
      "13:16:03.452 DEBUG org.hibernate.SQL - select count(*)>0 from CUSTOMER c1_0 where c1_0.email=?\n"
     ]
    },
    {
     "name": "stdout",
     "output_type": "stream",
     "text": [
      "13:16:03.453 DEBUG org.hibernate.SQL - insert into CUSTOMER (birthDate,creationDate,email,firstname,lastname,photo,status,version,ID) values (?,?,?,?,?,?,?,?,?)\n"
     ]
    },
    {
     "name": "stdout",
     "output_type": "stream",
     "text": [
      "13:16:03.453 DEBUG org.hibernate.SQL - select count(*)>0 from CUSTOMER c1_0 where c1_0.email=?\n"
     ]
    },
    {
     "name": "stdout",
     "output_type": "stream",
     "text": [
      "13:16:03.453 DEBUG org.hibernate.SQL - insert into CUSTOMER (birthDate,creationDate,email,firstname,lastname,photo,status,version,ID) values (?,?,?,?,?,?,?,?,?)\n"
     ]
    },
    {
     "name": "stdout",
     "output_type": "stream",
     "text": [
      "13:16:03.454 DEBUG org.hibernate.SQL - select count(*)>0 from CUSTOMER c1_0 where c1_0.email=?\n"
     ]
    },
    {
     "name": "stdout",
     "output_type": "stream",
     "text": [
      "13:16:03.454 DEBUG org.hibernate.SQL - insert into CUSTOMER (birthDate,creationDate,email,firstname,lastname,photo,status,version,ID) values (?,?,?,?,?,?,?,?,?)\n"
     ]
    },
    {
     "name": "stdout",
     "output_type": "stream",
     "text": [
      "13:16:03.455 DEBUG org.hibernate.SQL - select count(*)>0 from CUSTOMER c1_0 where c1_0.email=?\n"
     ]
    },
    {
     "name": "stdout",
     "output_type": "stream",
     "text": [
      "13:16:03.455 DEBUG org.hibernate.SQL - insert into CUSTOMER (birthDate,creationDate,email,firstname,lastname,photo,status,version,ID) values (?,?,?,?,?,?,?,?,?)\n"
     ]
    },
    {
     "name": "stdout",
     "output_type": "stream",
     "text": [
      "13:16:03.455 DEBUG org.hibernate.SQL - select count(*)>0 from CUSTOMER c1_0 where c1_0.email=?\n"
     ]
    },
    {
     "name": "stdout",
     "output_type": "stream",
     "text": [
      "13:16:03.456 DEBUG org.hibernate.SQL - insert into CUSTOMER (birthDate,creationDate,email,firstname,lastname,photo,status,version,ID) values (?,?,?,?,?,?,?,?,?)\n"
     ]
    },
    {
     "name": "stdout",
     "output_type": "stream",
     "text": [
      "13:16:03.457 DEBUG org.hibernate.SQL - select count(*)>0 from CUSTOMER c1_0 where c1_0.email=?\n"
     ]
    },
    {
     "name": "stdout",
     "output_type": "stream",
     "text": [
      "13:16:03.457 DEBUG org.hibernate.SQL - insert into CUSTOMER (birthDate,creationDate,email,firstname,lastname,photo,status,version,ID) values (?,?,?,?,?,?,?,?,?)\n"
     ]
    },
    {
     "name": "stdout",
     "output_type": "stream",
     "text": [
      "13:16:03.457 DEBUG org.hibernate.SQL - select count(*)>0 from CUSTOMER c1_0 where c1_0.email=?\n"
     ]
    },
    {
     "name": "stdout",
     "output_type": "stream",
     "text": [
      "13:16:03.458 DEBUG org.hibernate.SQL - insert into CUSTOMER (birthDate,creationDate,email,firstname,lastname,photo,status,version,ID) values (?,?,?,?,?,?,?,?,?)\n"
     ]
    },
    {
     "name": "stdout",
     "output_type": "stream",
     "text": [
      "13:16:03.458 DEBUG org.hibernate.SQL - select count(*)>0 from CUSTOMER c1_0 where c1_0.email=?\n"
     ]
    },
    {
     "name": "stdout",
     "output_type": "stream",
     "text": [
      "13:16:03.459 DEBUG org.hibernate.SQL - insert into CUSTOMER (birthDate,creationDate,email,firstname,lastname,photo,status,version,ID) values (?,?,?,?,?,?,?,?,?)\n"
     ]
    },
    {
     "name": "stdout",
     "output_type": "stream",
     "text": [
      "13:16:03.459 DEBUG org.hibernate.SQL - select count(*)>0 from CUSTOMER c1_0 where c1_0.email=?\n"
     ]
    },
    {
     "name": "stdout",
     "output_type": "stream",
     "text": [
      "13:16:03.460 DEBUG org.hibernate.SQL - insert into CUSTOMER (birthDate,creationDate,email,firstname,lastname,photo,status,version,ID) values (?,?,?,?,?,?,?,?,?)\n"
     ]
    },
    {
     "name": "stdout",
     "output_type": "stream",
     "text": [
      "13:16:03.460 DEBUG org.hibernate.SQL - select count(*)>0 from CUSTOMER c1_0 where c1_0.email=?\n"
     ]
    },
    {
     "name": "stdout",
     "output_type": "stream",
     "text": [
      "13:16:03.461 DEBUG org.hibernate.SQL - insert into CUSTOMER (birthDate,creationDate,email,firstname,lastname,photo,status,version,ID) values (?,?,?,?,?,?,?,?,?)\n"
     ]
    },
    {
     "name": "stdout",
     "output_type": "stream",
     "text": [
      "13:16:03.461 DEBUG org.hibernate.SQL - select count(*)>0 from CUSTOMER c1_0 where c1_0.email=?\n"
     ]
    },
    {
     "name": "stdout",
     "output_type": "stream",
     "text": [
      "13:16:03.461 DEBUG org.hibernate.SQL - insert into CUSTOMER (birthDate,creationDate,email,firstname,lastname,photo,status,version,ID) values (?,?,?,?,?,?,?,?,?)\n"
     ]
    },
    {
     "name": "stdout",
     "output_type": "stream",
     "text": [
      "13:16:03.461 DEBUG org.hibernate.SQL - select count(*)>0 from CUSTOMER c1_0 where c1_0.email=?\n"
     ]
    },
    {
     "name": "stdout",
     "output_type": "stream",
     "text": [
      "13:16:03.462 DEBUG org.hibernate.SQL - insert into CUSTOMER (birthDate,creationDate,email,firstname,lastname,photo,status,version,ID) values (?,?,?,?,?,?,?,?,?)\n"
     ]
    },
    {
     "name": "stdout",
     "output_type": "stream",
     "text": [
      "13:16:03.462 DEBUG org.hibernate.SQL - select count(*)>0 from CUSTOMER c1_0 where c1_0.email=?\n"
     ]
    },
    {
     "name": "stdout",
     "output_type": "stream",
     "text": [
      "13:16:03.462 DEBUG org.hibernate.SQL - select nextval('CUSTOMER_SEQ')\n"
     ]
    },
    {
     "name": "stdout",
     "output_type": "stream",
     "text": [
      "13:16:03.462 DEBUG org.hibernate.SQL - insert into CUSTOMER (birthDate,creationDate,email,firstname,lastname,photo,status,version,ID) values (?,?,?,?,?,?,?,?,?)\n"
     ]
    },
    {
     "name": "stdout",
     "output_type": "stream",
     "text": [
      "13:16:03.463 DEBUG org.hibernate.SQL - select count(*)>0 from CUSTOMER c1_0 where c1_0.email=?\n"
     ]
    },
    {
     "name": "stdout",
     "output_type": "stream",
     "text": [
      "13:16:03.463 DEBUG org.hibernate.SQL - insert into CUSTOMER (birthDate,creationDate,email,firstname,lastname,photo,status,version,ID) values (?,?,?,?,?,?,?,?,?)\n"
     ]
    },
    {
     "name": "stdout",
     "output_type": "stream",
     "text": [
      "13:16:03.463 DEBUG org.hibernate.SQL - select count(*)>0 from CUSTOMER c1_0 where c1_0.email=?\n"
     ]
    },
    {
     "name": "stdout",
     "output_type": "stream",
     "text": [
      "13:16:03.463 DEBUG org.hibernate.SQL - insert into CUSTOMER (birthDate,creationDate,email,firstname,lastname,photo,status,version,ID) values (?,?,?,?,?,?,?,?,?)\n"
     ]
    },
    {
     "name": "stdout",
     "output_type": "stream",
     "text": [
      "13:16:03.464 DEBUG org.hibernate.SQL - select count(*)>0 from CUSTOMER c1_0 where c1_0.email=?\n"
     ]
    },
    {
     "name": "stdout",
     "output_type": "stream",
     "text": [
      "13:16:03.464 DEBUG org.hibernate.SQL - insert into CUSTOMER (birthDate,creationDate,email,firstname,lastname,photo,status,version,ID) values (?,?,?,?,?,?,?,?,?)\n"
     ]
    },
    {
     "name": "stdout",
     "output_type": "stream",
     "text": [
      "13:16:03.464 DEBUG org.hibernate.SQL - select count(*)>0 from CUSTOMER c1_0 where c1_0.email=?\n"
     ]
    },
    {
     "name": "stdout",
     "output_type": "stream",
     "text": [
      "13:16:03.464 DEBUG org.hibernate.SQL - insert into CUSTOMER (birthDate,creationDate,email,firstname,lastname,photo,status,version,ID) values (?,?,?,?,?,?,?,?,?)\n"
     ]
    },
    {
     "name": "stdout",
     "output_type": "stream",
     "text": [
      "13:16:03.465 DEBUG org.hibernate.SQL - select count(*)>0 from CUSTOMER c1_0 where c1_0.email=?\n"
     ]
    },
    {
     "name": "stdout",
     "output_type": "stream",
     "text": [
      "13:16:03.465 DEBUG org.hibernate.SQL - insert into CUSTOMER (birthDate,creationDate,email,firstname,lastname,photo,status,version,ID) values (?,?,?,?,?,?,?,?,?)\n"
     ]
    },
    {
     "name": "stdout",
     "output_type": "stream",
     "text": [
      "13:16:03.465 DEBUG org.hibernate.SQL - select count(*)>0 from CUSTOMER c1_0 where c1_0.email=?\n"
     ]
    },
    {
     "name": "stdout",
     "output_type": "stream",
     "text": [
      "13:16:03.466 DEBUG org.hibernate.SQL - insert into CUSTOMER (birthDate,creationDate,email,firstname,lastname,photo,status,version,ID) values (?,?,?,?,?,?,?,?,?)\n"
     ]
    },
    {
     "name": "stdout",
     "output_type": "stream",
     "text": [
      "13:16:03.466 DEBUG org.hibernate.SQL - select count(*)>0 from CUSTOMER c1_0 where c1_0.email=?\n"
     ]
    },
    {
     "name": "stdout",
     "output_type": "stream",
     "text": [
      "13:16:03.466 DEBUG org.hibernate.SQL - insert into CUSTOMER (birthDate,creationDate,email,firstname,lastname,photo,status,version,ID) values (?,?,?,?,?,?,?,?,?)\n"
     ]
    },
    {
     "name": "stdout",
     "output_type": "stream",
     "text": [
      "13:16:03.466 DEBUG org.hibernate.SQL - select count(*)>0 from CUSTOMER c1_0 where c1_0.email=?\n"
     ]
    },
    {
     "name": "stdout",
     "output_type": "stream",
     "text": [
      "13:16:03.467 DEBUG org.hibernate.SQL - insert into CUSTOMER (birthDate,creationDate,email,firstname,lastname,photo,status,version,ID) values (?,?,?,?,?,?,?,?,?)\n"
     ]
    },
    {
     "name": "stdout",
     "output_type": "stream",
     "text": [
      "13:16:03.467 DEBUG org.hibernate.SQL - select count(*)>0 from CUSTOMER c1_0 where c1_0.email=?\n"
     ]
    },
    {
     "name": "stdout",
     "output_type": "stream",
     "text": [
      "13:16:03.467 DEBUG org.hibernate.SQL - insert into CUSTOMER (birthDate,creationDate,email,firstname,lastname,photo,status,version,ID) values (?,?,?,?,?,?,?,?,?)\n"
     ]
    },
    {
     "name": "stdout",
     "output_type": "stream",
     "text": [
      "13:16:03.468 DEBUG org.hibernate.SQL - select count(*)>0 from CUSTOMER c1_0 where c1_0.email=?\n"
     ]
    },
    {
     "name": "stdout",
     "output_type": "stream",
     "text": [
      "13:16:03.468 DEBUG org.hibernate.SQL - insert into CUSTOMER (birthDate,creationDate,email,firstname,lastname,photo,status,version,ID) values (?,?,?,?,?,?,?,?,?)\n"
     ]
    },
    {
     "name": "stdout",
     "output_type": "stream",
     "text": [
      "13:16:03.468 DEBUG org.hibernate.SQL - select count(*)>0 from CUSTOMER c1_0 where c1_0.email=?\n"
     ]
    },
    {
     "name": "stdout",
     "output_type": "stream",
     "text": [
      "13:16:03.469 DEBUG org.hibernate.SQL - insert into CUSTOMER (birthDate,creationDate,email,firstname,lastname,photo,status,version,ID) values (?,?,?,?,?,?,?,?,?)\n"
     ]
    },
    {
     "name": "stdout",
     "output_type": "stream",
     "text": [
      "13:16:03.469 DEBUG org.hibernate.SQL - select count(*)>0 from CUSTOMER c1_0 where c1_0.email=?\n"
     ]
    },
    {
     "name": "stdout",
     "output_type": "stream",
     "text": [
      "13:16:03.470 DEBUG org.hibernate.SQL - insert into CUSTOMER (birthDate,creationDate,email,firstname,lastname,photo,status,version,ID) values (?,?,?,?,?,?,?,?,?)\n"
     ]
    },
    {
     "name": "stdout",
     "output_type": "stream",
     "text": [
      "13:16:03.470 DEBUG org.hibernate.SQL - select count(*)>0 from CUSTOMER c1_0 where c1_0.email=?\n"
     ]
    },
    {
     "name": "stdout",
     "output_type": "stream",
     "text": [
      "13:16:03.471 DEBUG org.hibernate.SQL - insert into CUSTOMER (birthDate,creationDate,email,firstname,lastname,photo,status,version,ID) values (?,?,?,?,?,?,?,?,?)\n"
     ]
    },
    {
     "name": "stdout",
     "output_type": "stream",
     "text": [
      "13:16:03.471 DEBUG org.hibernate.SQL - select count(*)>0 from CUSTOMER c1_0 where c1_0.email=?\n"
     ]
    },
    {
     "name": "stdout",
     "output_type": "stream",
     "text": [
      "13:16:03.472 DEBUG org.hibernate.SQL - insert into CUSTOMER (birthDate,creationDate,email,firstname,lastname,photo,status,version,ID) values (?,?,?,?,?,?,?,?,?)\n"
     ]
    },
    {
     "name": "stdout",
     "output_type": "stream",
     "text": [
      "13:16:03.472 DEBUG org.hibernate.SQL - select count(*)>0 from CUSTOMER c1_0 where c1_0.email=?\n"
     ]
    },
    {
     "name": "stdout",
     "output_type": "stream",
     "text": [
      "13:16:03.472 DEBUG org.hibernate.SQL - insert into CUSTOMER (birthDate,creationDate,email,firstname,lastname,photo,status,version,ID) values (?,?,?,?,?,?,?,?,?)\n"
     ]
    },
    {
     "name": "stdout",
     "output_type": "stream",
     "text": [
      "13:16:03.473 DEBUG org.hibernate.SQL - select count(*)>0 from CUSTOMER c1_0 where c1_0.email=?\n"
     ]
    },
    {
     "name": "stdout",
     "output_type": "stream",
     "text": [
      "13:16:03.473 DEBUG org.hibernate.SQL - insert into CUSTOMER (birthDate,creationDate,email,firstname,lastname,photo,status,version,ID) values (?,?,?,?,?,?,?,?,?)\n"
     ]
    },
    {
     "name": "stdout",
     "output_type": "stream",
     "text": [
      "13:16:03.473 DEBUG org.hibernate.SQL - select count(*)>0 from CUSTOMER c1_0 where c1_0.email=?\n"
     ]
    },
    {
     "name": "stdout",
     "output_type": "stream",
     "text": [
      "13:16:03.474 DEBUG org.hibernate.SQL - insert into CUSTOMER (birthDate,creationDate,email,firstname,lastname,photo,status,version,ID) values (?,?,?,?,?,?,?,?,?)\n"
     ]
    },
    {
     "name": "stdout",
     "output_type": "stream",
     "text": [
      "13:16:03.474 DEBUG org.hibernate.SQL - select count(*)>0 from CUSTOMER c1_0 where c1_0.email=?\n"
     ]
    },
    {
     "name": "stdout",
     "output_type": "stream",
     "text": [
      "13:16:03.474 DEBUG org.hibernate.SQL - insert into CUSTOMER (birthDate,creationDate,email,firstname,lastname,photo,status,version,ID) values (?,?,?,?,?,?,?,?,?)\n"
     ]
    },
    {
     "name": "stdout",
     "output_type": "stream",
     "text": [
      "13:16:03.475 DEBUG org.hibernate.SQL - select count(*)>0 from CUSTOMER c1_0 where c1_0.email=?\n"
     ]
    },
    {
     "name": "stdout",
     "output_type": "stream",
     "text": [
      "13:16:03.475 DEBUG org.hibernate.SQL - insert into CUSTOMER (birthDate,creationDate,email,firstname,lastname,photo,status,version,ID) values (?,?,?,?,?,?,?,?,?)\n"
     ]
    },
    {
     "name": "stdout",
     "output_type": "stream",
     "text": [
      "13:16:03.475 DEBUG org.hibernate.SQL - select count(*)>0 from CUSTOMER c1_0 where c1_0.email=?\n"
     ]
    },
    {
     "name": "stdout",
     "output_type": "stream",
     "text": [
      "13:16:03.476 DEBUG org.hibernate.SQL - insert into CUSTOMER (birthDate,creationDate,email,firstname,lastname,photo,status,version,ID) values (?,?,?,?,?,?,?,?,?)\n"
     ]
    },
    {
     "name": "stdout",
     "output_type": "stream",
     "text": [
      "13:16:03.476 DEBUG org.hibernate.SQL - select count(*)>0 from CUSTOMER c1_0 where c1_0.email=?\n"
     ]
    },
    {
     "name": "stdout",
     "output_type": "stream",
     "text": [
      "13:16:03.476 DEBUG org.hibernate.SQL - insert into CUSTOMER (birthDate,creationDate,email,firstname,lastname,photo,status,version,ID) values (?,?,?,?,?,?,?,?,?)\n"
     ]
    },
    {
     "name": "stdout",
     "output_type": "stream",
     "text": [
      "13:16:03.476 DEBUG org.hibernate.SQL - select count(*)>0 from CUSTOMER c1_0 where c1_0.email=?\n"
     ]
    },
    {
     "name": "stdout",
     "output_type": "stream",
     "text": [
      "13:16:03.477 DEBUG org.hibernate.SQL - insert into CUSTOMER (birthDate,creationDate,email,firstname,lastname,photo,status,version,ID) values (?,?,?,?,?,?,?,?,?)\n"
     ]
    },
    {
     "name": "stdout",
     "output_type": "stream",
     "text": [
      "13:16:03.477 DEBUG org.hibernate.SQL - select count(*)>0 from CUSTOMER c1_0 where c1_0.email=?\n"
     ]
    },
    {
     "name": "stdout",
     "output_type": "stream",
     "text": [
      "13:16:03.477 DEBUG org.hibernate.SQL - insert into CUSTOMER (birthDate,creationDate,email,firstname,lastname,photo,status,version,ID) values (?,?,?,?,?,?,?,?,?)\n"
     ]
    },
    {
     "name": "stdout",
     "output_type": "stream",
     "text": [
      "13:16:03.477 DEBUG org.hibernate.SQL - select count(*)>0 from CUSTOMER c1_0 where c1_0.email=?\n"
     ]
    },
    {
     "name": "stdout",
     "output_type": "stream",
     "text": [
      "13:16:03.478 DEBUG org.hibernate.SQL - insert into CUSTOMER (birthDate,creationDate,email,firstname,lastname,photo,status,version,ID) values (?,?,?,?,?,?,?,?,?)\n"
     ]
    },
    {
     "name": "stdout",
     "output_type": "stream",
     "text": [
      "13:16:03.478 DEBUG org.hibernate.SQL - select count(*)>0 from CUSTOMER c1_0 where c1_0.email=?\n"
     ]
    },
    {
     "name": "stdout",
     "output_type": "stream",
     "text": [
      "13:16:03.479 DEBUG org.hibernate.SQL - insert into CUSTOMER (birthDate,creationDate,email,firstname,lastname,photo,status,version,ID) values (?,?,?,?,?,?,?,?,?)\n"
     ]
    },
    {
     "name": "stdout",
     "output_type": "stream",
     "text": [
      "13:16:03.479 DEBUG org.hibernate.SQL - select count(*)>0 from CUSTOMER c1_0 where c1_0.email=?\n"
     ]
    },
    {
     "name": "stdout",
     "output_type": "stream",
     "text": [
      "13:16:03.479 DEBUG org.hibernate.SQL - insert into CUSTOMER (birthDate,creationDate,email,firstname,lastname,photo,status,version,ID) values (?,?,?,?,?,?,?,?,?)\n"
     ]
    },
    {
     "name": "stdout",
     "output_type": "stream",
     "text": [
      "13:16:03.480 DEBUG org.hibernate.SQL - select count(*)>0 from CUSTOMER c1_0 where c1_0.email=?\n"
     ]
    },
    {
     "name": "stdout",
     "output_type": "stream",
     "text": [
      "13:16:03.480 DEBUG org.hibernate.SQL - insert into CUSTOMER (birthDate,creationDate,email,firstname,lastname,photo,status,version,ID) values (?,?,?,?,?,?,?,?,?)\n"
     ]
    },
    {
     "name": "stdout",
     "output_type": "stream",
     "text": [
      "13:16:03.480 DEBUG org.hibernate.SQL - select count(*)>0 from CUSTOMER c1_0 where c1_0.email=?\n"
     ]
    },
    {
     "name": "stdout",
     "output_type": "stream",
     "text": [
      "13:16:03.481 DEBUG org.hibernate.SQL - insert into CUSTOMER (birthDate,creationDate,email,firstname,lastname,photo,status,version,ID) values (?,?,?,?,?,?,?,?,?)\n"
     ]
    },
    {
     "name": "stdout",
     "output_type": "stream",
     "text": [
      "13:16:03.481 DEBUG org.hibernate.SQL - select count(*)>0 from CUSTOMER c1_0 where c1_0.email=?\n"
     ]
    },
    {
     "name": "stdout",
     "output_type": "stream",
     "text": [
      "13:16:03.482 DEBUG org.hibernate.SQL - insert into CUSTOMER (birthDate,creationDate,email,firstname,lastname,photo,status,version,ID) values (?,?,?,?,?,?,?,?,?)\n"
     ]
    },
    {
     "name": "stdout",
     "output_type": "stream",
     "text": [
      "13:16:03.482 DEBUG org.hibernate.SQL - select count(*)>0 from CUSTOMER c1_0 where c1_0.email=?\n"
     ]
    },
    {
     "name": "stdout",
     "output_type": "stream",
     "text": [
      "13:16:03.483 DEBUG org.hibernate.SQL - insert into CUSTOMER (birthDate,creationDate,email,firstname,lastname,photo,status,version,ID) values (?,?,?,?,?,?,?,?,?)\n"
     ]
    },
    {
     "name": "stdout",
     "output_type": "stream",
     "text": [
      "13:16:03.483 DEBUG org.hibernate.SQL - select count(*)>0 from CUSTOMER c1_0 where c1_0.email=?\n"
     ]
    },
    {
     "name": "stdout",
     "output_type": "stream",
     "text": [
      "13:16:03.484 DEBUG org.hibernate.SQL - insert into CUSTOMER (birthDate,creationDate,email,firstname,lastname,photo,status,version,ID) values (?,?,?,?,?,?,?,?,?)\n"
     ]
    },
    {
     "name": "stdout",
     "output_type": "stream",
     "text": [
      "13:16:03.484 DEBUG org.hibernate.SQL - select count(*)>0 from CUSTOMER c1_0 where c1_0.email=?\n"
     ]
    },
    {
     "name": "stdout",
     "output_type": "stream",
     "text": [
      "13:16:03.484 DEBUG org.hibernate.SQL - insert into CUSTOMER (birthDate,creationDate,email,firstname,lastname,photo,status,version,ID) values (?,?,?,?,?,?,?,?,?)\n"
     ]
    },
    {
     "name": "stdout",
     "output_type": "stream",
     "text": [
      "13:16:03.484 DEBUG org.hibernate.SQL - select count(*)>0 from CUSTOMER c1_0 where c1_0.email=?\n"
     ]
    },
    {
     "name": "stdout",
     "output_type": "stream",
     "text": [
      "13:16:03.485 DEBUG org.hibernate.SQL - insert into CUSTOMER (birthDate,creationDate,email,firstname,lastname,photo,status,version,ID) values (?,?,?,?,?,?,?,?,?)\n"
     ]
    },
    {
     "name": "stdout",
     "output_type": "stream",
     "text": [
      "13:16:03.485 DEBUG org.hibernate.SQL - select count(*)>0 from CUSTOMER c1_0 where c1_0.email=?\n"
     ]
    },
    {
     "name": "stdout",
     "output_type": "stream",
     "text": [
      "13:16:03.486 DEBUG org.hibernate.SQL - insert into CUSTOMER (birthDate,creationDate,email,firstname,lastname,photo,status,version,ID) values (?,?,?,?,?,?,?,?,?)\n"
     ]
    },
    {
     "name": "stdout",
     "output_type": "stream",
     "text": [
      "13:16:03.486 DEBUG org.hibernate.SQL - select count(*)>0 from CUSTOMER c1_0 where c1_0.email=?\n"
     ]
    },
    {
     "name": "stdout",
     "output_type": "stream",
     "text": [
      "13:16:03.486 DEBUG org.hibernate.SQL - insert into CUSTOMER (birthDate,creationDate,email,firstname,lastname,photo,status,version,ID) values (?,?,?,?,?,?,?,?,?)\n"
     ]
    },
    {
     "name": "stdout",
     "output_type": "stream",
     "text": [
      "13:16:03.487 DEBUG org.hibernate.SQL - select count(*)>0 from CUSTOMER c1_0 where c1_0.email=?\n"
     ]
    },
    {
     "name": "stdout",
     "output_type": "stream",
     "text": [
      "13:16:03.487 DEBUG org.hibernate.SQL - insert into CUSTOMER (birthDate,creationDate,email,firstname,lastname,photo,status,version,ID) values (?,?,?,?,?,?,?,?,?)\n"
     ]
    },
    {
     "name": "stdout",
     "output_type": "stream",
     "text": [
      "13:16:03.487 DEBUG org.hibernate.SQL - select count(*)>0 from CUSTOMER c1_0 where c1_0.email=?\n"
     ]
    },
    {
     "name": "stdout",
     "output_type": "stream",
     "text": [
      "13:16:03.488 DEBUG org.hibernate.SQL - insert into CUSTOMER (birthDate,creationDate,email,firstname,lastname,photo,status,version,ID) values (?,?,?,?,?,?,?,?,?)\n"
     ]
    },
    {
     "name": "stdout",
     "output_type": "stream",
     "text": [
      "13:16:03.488 DEBUG org.hibernate.SQL - select count(*)>0 from CUSTOMER c1_0 where c1_0.email=?\n"
     ]
    },
    {
     "name": "stdout",
     "output_type": "stream",
     "text": [
      "13:16:03.489 DEBUG org.hibernate.SQL - insert into CUSTOMER (birthDate,creationDate,email,firstname,lastname,photo,status,version,ID) values (?,?,?,?,?,?,?,?,?)\n"
     ]
    },
    {
     "name": "stdout",
     "output_type": "stream",
     "text": [
      "13:16:03.489 DEBUG org.hibernate.SQL - select count(*)>0 from CUSTOMER c1_0 where c1_0.email=?\n"
     ]
    },
    {
     "name": "stdout",
     "output_type": "stream",
     "text": [
      "13:16:03.490 DEBUG org.hibernate.SQL - insert into CUSTOMER (birthDate,creationDate,email,firstname,lastname,photo,status,version,ID) values (?,?,?,?,?,?,?,?,?)\n"
     ]
    },
    {
     "name": "stdout",
     "output_type": "stream",
     "text": [
      "13:16:03.490 DEBUG org.hibernate.SQL - select count(*)>0 from CUSTOMER c1_0 where c1_0.email=?\n"
     ]
    },
    {
     "name": "stdout",
     "output_type": "stream",
     "text": [
      "13:16:03.490 DEBUG org.hibernate.SQL - insert into CUSTOMER (birthDate,creationDate,email,firstname,lastname,photo,status,version,ID) values (?,?,?,?,?,?,?,?,?)\n"
     ]
    },
    {
     "name": "stdout",
     "output_type": "stream",
     "text": [
      "13:16:03.490 DEBUG org.hibernate.SQL - select count(*)>0 from CUSTOMER c1_0 where c1_0.email=?\n"
     ]
    },
    {
     "name": "stdout",
     "output_type": "stream",
     "text": [
      "13:16:03.491 DEBUG org.hibernate.SQL - insert into CUSTOMER (birthDate,creationDate,email,firstname,lastname,photo,status,version,ID) values (?,?,?,?,?,?,?,?,?)\n"
     ]
    },
    {
     "name": "stdout",
     "output_type": "stream",
     "text": [
      "13:16:03.491 DEBUG org.hibernate.SQL - select count(*)>0 from CUSTOMER c1_0 where c1_0.email=?\n"
     ]
    },
    {
     "name": "stdout",
     "output_type": "stream",
     "text": [
      "13:16:03.492 DEBUG org.hibernate.SQL - insert into CUSTOMER (birthDate,creationDate,email,firstname,lastname,photo,status,version,ID) values (?,?,?,?,?,?,?,?,?)\n"
     ]
    },
    {
     "name": "stdout",
     "output_type": "stream",
     "text": [
      "13:16:03.492 DEBUG org.hibernate.SQL - select count(*)>0 from CUSTOMER c1_0 where c1_0.email=?\n"
     ]
    },
    {
     "name": "stdout",
     "output_type": "stream",
     "text": [
      "13:16:03.492 DEBUG org.hibernate.SQL - insert into CUSTOMER (birthDate,creationDate,email,firstname,lastname,photo,status,version,ID) values (?,?,?,?,?,?,?,?,?)\n"
     ]
    },
    {
     "name": "stdout",
     "output_type": "stream",
     "text": [
      "13:16:03.493 DEBUG org.hibernate.SQL - select count(*)>0 from CUSTOMER c1_0 where c1_0.email=?\n"
     ]
    },
    {
     "name": "stdout",
     "output_type": "stream",
     "text": [
      "13:16:03.493 DEBUG org.hibernate.SQL - insert into CUSTOMER (birthDate,creationDate,email,firstname,lastname,photo,status,version,ID) values (?,?,?,?,?,?,?,?,?)\n"
     ]
    },
    {
     "name": "stdout",
     "output_type": "stream",
     "text": [
      "13:16:03.493 DEBUG org.hibernate.SQL - select count(*)>0 from CUSTOMER c1_0 where c1_0.email=?\n"
     ]
    },
    {
     "name": "stdout",
     "output_type": "stream",
     "text": [
      "13:16:03.494 DEBUG org.hibernate.SQL - insert into CUSTOMER (birthDate,creationDate,email,firstname,lastname,photo,status,version,ID) values (?,?,?,?,?,?,?,?,?)\n"
     ]
    },
    {
     "name": "stdout",
     "output_type": "stream",
     "text": [
      "13:16:03.494 DEBUG org.hibernate.SQL - select count(*)>0 from CUSTOMER c1_0 where c1_0.email=?\n"
     ]
    },
    {
     "name": "stdout",
     "output_type": "stream",
     "text": [
      "13:16:03.494 DEBUG org.hibernate.SQL - insert into CUSTOMER (birthDate,creationDate,email,firstname,lastname,photo,status,version,ID) values (?,?,?,?,?,?,?,?,?)\n"
     ]
    },
    {
     "name": "stdout",
     "output_type": "stream",
     "text": [
      "13:16:03.495 DEBUG org.hibernate.SQL - select count(*)>0 from CUSTOMER c1_0 where c1_0.email=?\n"
     ]
    },
    {
     "name": "stdout",
     "output_type": "stream",
     "text": [
      "13:16:03.495 DEBUG org.hibernate.SQL - insert into CUSTOMER (birthDate,creationDate,email,firstname,lastname,photo,status,version,ID) values (?,?,?,?,?,?,?,?,?)\n"
     ]
    },
    {
     "name": "stdout",
     "output_type": "stream",
     "text": [
      "13:16:03.495 DEBUG org.hibernate.SQL - select count(*)>0 from CUSTOMER c1_0 where c1_0.email=?\n"
     ]
    },
    {
     "name": "stdout",
     "output_type": "stream",
     "text": [
      "13:16:03.496 DEBUG org.hibernate.SQL - insert into CUSTOMER (birthDate,creationDate,email,firstname,lastname,photo,status,version,ID) values (?,?,?,?,?,?,?,?,?)\n"
     ]
    },
    {
     "name": "stdout",
     "output_type": "stream",
     "text": [
      "13:16:03.496 DEBUG org.hibernate.SQL - select count(*)>0 from CUSTOMER c1_0 where c1_0.email=?\n"
     ]
    },
    {
     "name": "stdout",
     "output_type": "stream",
     "text": [
      "13:16:03.496 DEBUG org.hibernate.SQL - insert into CUSTOMER (birthDate,creationDate,email,firstname,lastname,photo,status,version,ID) values (?,?,?,?,?,?,?,?,?)\n"
     ]
    },
    {
     "name": "stdout",
     "output_type": "stream",
     "text": [
      "13:16:03.496 DEBUG org.hibernate.SQL - select count(*)>0 from CUSTOMER c1_0 where c1_0.email=?\n"
     ]
    },
    {
     "name": "stdout",
     "output_type": "stream",
     "text": [
      "13:16:03.497 DEBUG org.hibernate.SQL - select nextval('CUSTOMER_SEQ')\n"
     ]
    },
    {
     "name": "stdout",
     "output_type": "stream",
     "text": [
      "13:16:03.497 DEBUG org.hibernate.SQL - insert into CUSTOMER (birthDate,creationDate,email,firstname,lastname,photo,status,version,ID) values (?,?,?,?,?,?,?,?,?)\n"
     ]
    },
    {
     "name": "stdout",
     "output_type": "stream",
     "text": [
      "13:16:03.497 DEBUG org.hibernate.SQL - select count(*)>0 from CUSTOMER c1_0 where c1_0.email=?\n"
     ]
    },
    {
     "name": "stdout",
     "output_type": "stream",
     "text": [
      "13:16:03.498 DEBUG org.hibernate.SQL - insert into CUSTOMER (birthDate,creationDate,email,firstname,lastname,photo,status,version,ID) values (?,?,?,?,?,?,?,?,?)\n"
     ]
    },
    {
     "name": "stdout",
     "output_type": "stream",
     "text": [
      "13:16:03.498 DEBUG org.hibernate.SQL - select count(*)>0 from CUSTOMER c1_0 where c1_0.email=?\n"
     ]
    },
    {
     "name": "stdout",
     "output_type": "stream",
     "text": [
      "13:16:03.498 DEBUG org.hibernate.SQL - insert into CUSTOMER (birthDate,creationDate,email,firstname,lastname,photo,status,version,ID) values (?,?,?,?,?,?,?,?,?)\n"
     ]
    },
    {
     "name": "stdout",
     "output_type": "stream",
     "text": [
      "13:16:03.499 DEBUG org.hibernate.SQL - select count(*)>0 from CUSTOMER c1_0 where c1_0.email=?\n"
     ]
    },
    {
     "name": "stdout",
     "output_type": "stream",
     "text": [
      "13:16:03.499 DEBUG org.hibernate.SQL - insert into CUSTOMER (birthDate,creationDate,email,firstname,lastname,photo,status,version,ID) values (?,?,?,?,?,?,?,?,?)\n"
     ]
    },
    {
     "name": "stdout",
     "output_type": "stream",
     "text": [
      "13:16:03.499 DEBUG org.hibernate.SQL - select count(*)>0 from CUSTOMER c1_0 where c1_0.email=?\n"
     ]
    },
    {
     "name": "stdout",
     "output_type": "stream",
     "text": [
      "13:16:03.500 DEBUG org.hibernate.SQL - insert into CUSTOMER (birthDate,creationDate,email,firstname,lastname,photo,status,version,ID) values (?,?,?,?,?,?,?,?,?)\n"
     ]
    },
    {
     "name": "stdout",
     "output_type": "stream",
     "text": [
      "13:16:03.500 DEBUG org.hibernate.SQL - select count(*)>0 from CUSTOMER c1_0 where c1_0.email=?\n"
     ]
    },
    {
     "name": "stdout",
     "output_type": "stream",
     "text": [
      "13:16:03.501 DEBUG org.hibernate.SQL - insert into CUSTOMER (birthDate,creationDate,email,firstname,lastname,photo,status,version,ID) values (?,?,?,?,?,?,?,?,?)\n"
     ]
    },
    {
     "name": "stdout",
     "output_type": "stream",
     "text": [
      "13:16:03.501 DEBUG org.hibernate.SQL - select count(*)>0 from CUSTOMER c1_0 where c1_0.email=?\n"
     ]
    },
    {
     "name": "stdout",
     "output_type": "stream",
     "text": [
      "13:16:03.501 DEBUG org.hibernate.SQL - insert into CUSTOMER (birthDate,creationDate,email,firstname,lastname,photo,status,version,ID) values (?,?,?,?,?,?,?,?,?)\n"
     ]
    },
    {
     "name": "stdout",
     "output_type": "stream",
     "text": [
      "13:16:03.502 DEBUG org.hibernate.SQL - select count(*)>0 from CUSTOMER c1_0 where c1_0.email=?\n"
     ]
    },
    {
     "name": "stdout",
     "output_type": "stream",
     "text": [
      "13:16:03.502 DEBUG org.hibernate.SQL - insert into CUSTOMER (birthDate,creationDate,email,firstname,lastname,photo,status,version,ID) values (?,?,?,?,?,?,?,?,?)\n"
     ]
    },
    {
     "name": "stdout",
     "output_type": "stream",
     "text": [
      "13:16:03.502 DEBUG org.hibernate.SQL - select count(*)>0 from CUSTOMER c1_0 where c1_0.email=?\n"
     ]
    },
    {
     "name": "stdout",
     "output_type": "stream",
     "text": [
      "13:16:03.503 DEBUG org.hibernate.SQL - insert into CUSTOMER (birthDate,creationDate,email,firstname,lastname,photo,status,version,ID) values (?,?,?,?,?,?,?,?,?)\n"
     ]
    },
    {
     "name": "stdout",
     "output_type": "stream",
     "text": [
      "13:16:03.503 DEBUG org.hibernate.SQL - select count(*)>0 from CUSTOMER c1_0 where c1_0.email=?\n"
     ]
    },
    {
     "name": "stdout",
     "output_type": "stream",
     "text": [
      "13:16:03.503 DEBUG org.hibernate.SQL - insert into CUSTOMER (birthDate,creationDate,email,firstname,lastname,photo,status,version,ID) values (?,?,?,?,?,?,?,?,?)\n"
     ]
    },
    {
     "name": "stdout",
     "output_type": "stream",
     "text": [
      "13:16:03.504 DEBUG org.hibernate.SQL - select count(*)>0 from CUSTOMER c1_0 where c1_0.email=?\n"
     ]
    },
    {
     "name": "stdout",
     "output_type": "stream",
     "text": [
      "13:16:03.504 DEBUG org.hibernate.SQL - insert into CUSTOMER (birthDate,creationDate,email,firstname,lastname,photo,status,version,ID) values (?,?,?,?,?,?,?,?,?)\n"
     ]
    },
    {
     "name": "stdout",
     "output_type": "stream",
     "text": [
      "13:16:03.504 DEBUG org.hibernate.SQL - select count(*)>0 from CUSTOMER c1_0 where c1_0.email=?\n"
     ]
    },
    {
     "name": "stdout",
     "output_type": "stream",
     "text": [
      "13:16:03.505 DEBUG org.hibernate.SQL - insert into CUSTOMER (birthDate,creationDate,email,firstname,lastname,photo,status,version,ID) values (?,?,?,?,?,?,?,?,?)\n"
     ]
    },
    {
     "name": "stdout",
     "output_type": "stream",
     "text": [
      "13:16:03.505 DEBUG org.hibernate.SQL - select count(*)>0 from CUSTOMER c1_0 where c1_0.email=?\n"
     ]
    },
    {
     "name": "stdout",
     "output_type": "stream",
     "text": [
      "13:16:03.505 DEBUG org.hibernate.SQL - insert into CUSTOMER (birthDate,creationDate,email,firstname,lastname,photo,status,version,ID) values (?,?,?,?,?,?,?,?,?)\n"
     ]
    },
    {
     "name": "stdout",
     "output_type": "stream",
     "text": [
      "13:16:03.506 DEBUG org.hibernate.SQL - select count(*)>0 from CUSTOMER c1_0 where c1_0.email=?\n"
     ]
    },
    {
     "name": "stdout",
     "output_type": "stream",
     "text": [
      "13:16:03.506 DEBUG org.hibernate.SQL - insert into CUSTOMER (birthDate,creationDate,email,firstname,lastname,photo,status,version,ID) values (?,?,?,?,?,?,?,?,?)\n"
     ]
    },
    {
     "name": "stdout",
     "output_type": "stream",
     "text": [
      "13:16:03.506 DEBUG org.hibernate.SQL - select count(*)>0 from CUSTOMER c1_0 where c1_0.email=?\n"
     ]
    },
    {
     "name": "stdout",
     "output_type": "stream",
     "text": [
      "13:16:03.507 DEBUG org.hibernate.SQL - insert into CUSTOMER (birthDate,creationDate,email,firstname,lastname,photo,status,version,ID) values (?,?,?,?,?,?,?,?,?)\n"
     ]
    },
    {
     "name": "stdout",
     "output_type": "stream",
     "text": [
      "13:16:03.507 DEBUG org.hibernate.SQL - select count(*)>0 from CUSTOMER c1_0 where c1_0.email=?\n"
     ]
    },
    {
     "name": "stdout",
     "output_type": "stream",
     "text": [
      "13:16:03.507 DEBUG org.hibernate.SQL - insert into CUSTOMER (birthDate,creationDate,email,firstname,lastname,photo,status,version,ID) values (?,?,?,?,?,?,?,?,?)\n"
     ]
    },
    {
     "name": "stdout",
     "output_type": "stream",
     "text": [
      "13:16:03.508 DEBUG org.hibernate.SQL - select count(*)>0 from CUSTOMER c1_0 where c1_0.email=?\n"
     ]
    },
    {
     "name": "stdout",
     "output_type": "stream",
     "text": [
      "13:16:03.508 DEBUG org.hibernate.SQL - insert into CUSTOMER (birthDate,creationDate,email,firstname,lastname,photo,status,version,ID) values (?,?,?,?,?,?,?,?,?)\n"
     ]
    },
    {
     "name": "stdout",
     "output_type": "stream",
     "text": [
      "13:16:03.508 DEBUG org.hibernate.SQL - select count(*)>0 from CUSTOMER c1_0 where c1_0.email=?\n"
     ]
    },
    {
     "name": "stdout",
     "output_type": "stream",
     "text": [
      "13:16:03.509 DEBUG org.hibernate.SQL - insert into CUSTOMER (birthDate,creationDate,email,firstname,lastname,photo,status,version,ID) values (?,?,?,?,?,?,?,?,?)\n"
     ]
    },
    {
     "name": "stdout",
     "output_type": "stream",
     "text": [
      "13:16:03.509 DEBUG org.hibernate.SQL - select count(*)>0 from CUSTOMER c1_0 where c1_0.email=?\n"
     ]
    },
    {
     "name": "stdout",
     "output_type": "stream",
     "text": [
      "13:16:03.510 DEBUG org.hibernate.SQL - insert into CUSTOMER (birthDate,creationDate,email,firstname,lastname,photo,status,version,ID) values (?,?,?,?,?,?,?,?,?)\n"
     ]
    },
    {
     "name": "stdout",
     "output_type": "stream",
     "text": [
      "13:16:03.510 DEBUG org.hibernate.SQL - select count(*)>0 from CUSTOMER c1_0 where c1_0.email=?\n"
     ]
    },
    {
     "name": "stdout",
     "output_type": "stream",
     "text": [
      "13:16:03.510 DEBUG org.hibernate.SQL - insert into CUSTOMER (birthDate,creationDate,email,firstname,lastname,photo,status,version,ID) values (?,?,?,?,?,?,?,?,?)\n"
     ]
    },
    {
     "name": "stdout",
     "output_type": "stream",
     "text": [
      "13:16:03.511 DEBUG org.hibernate.SQL - select count(*)>0 from CUSTOMER c1_0 where c1_0.email=?\n"
     ]
    },
    {
     "name": "stdout",
     "output_type": "stream",
     "text": [
      "13:16:03.511 DEBUG org.hibernate.SQL - insert into CUSTOMER (birthDate,creationDate,email,firstname,lastname,photo,status,version,ID) values (?,?,?,?,?,?,?,?,?)\n"
     ]
    },
    {
     "name": "stdout",
     "output_type": "stream",
     "text": [
      "13:16:03.511 DEBUG org.hibernate.SQL - select count(*)>0 from CUSTOMER c1_0 where c1_0.email=?\n"
     ]
    },
    {
     "name": "stdout",
     "output_type": "stream",
     "text": [
      "13:16:03.512 DEBUG org.hibernate.SQL - insert into CUSTOMER (birthDate,creationDate,email,firstname,lastname,photo,status,version,ID) values (?,?,?,?,?,?,?,?,?)\n"
     ]
    },
    {
     "name": "stdout",
     "output_type": "stream",
     "text": [
      "13:16:03.512 DEBUG org.hibernate.SQL - select count(*)>0 from CUSTOMER c1_0 where c1_0.email=?\n"
     ]
    },
    {
     "name": "stdout",
     "output_type": "stream",
     "text": [
      "13:16:03.513 DEBUG org.hibernate.SQL - insert into CUSTOMER (birthDate,creationDate,email,firstname,lastname,photo,status,version,ID) values (?,?,?,?,?,?,?,?,?)\n"
     ]
    },
    {
     "name": "stdout",
     "output_type": "stream",
     "text": [
      "13:16:03.513 DEBUG org.hibernate.SQL - select count(*)>0 from CUSTOMER c1_0 where c1_0.email=?\n"
     ]
    },
    {
     "name": "stdout",
     "output_type": "stream",
     "text": [
      "13:16:03.513 DEBUG org.hibernate.SQL - insert into CUSTOMER (birthDate,creationDate,email,firstname,lastname,photo,status,version,ID) values (?,?,?,?,?,?,?,?,?)\n"
     ]
    },
    {
     "name": "stdout",
     "output_type": "stream",
     "text": [
      "13:16:03.513 DEBUG org.hibernate.SQL - select count(*)>0 from CUSTOMER c1_0 where c1_0.email=?\n"
     ]
    },
    {
     "name": "stdout",
     "output_type": "stream",
     "text": [
      "13:16:03.514 DEBUG org.hibernate.SQL - insert into CUSTOMER (birthDate,creationDate,email,firstname,lastname,photo,status,version,ID) values (?,?,?,?,?,?,?,?,?)\n"
     ]
    },
    {
     "name": "stdout",
     "output_type": "stream",
     "text": [
      "13:16:03.514 DEBUG org.hibernate.SQL - select count(*)>0 from CUSTOMER c1_0 where c1_0.email=?\n"
     ]
    },
    {
     "name": "stdout",
     "output_type": "stream",
     "text": [
      "13:16:03.515 DEBUG org.hibernate.SQL - insert into CUSTOMER (birthDate,creationDate,email,firstname,lastname,photo,status,version,ID) values (?,?,?,?,?,?,?,?,?)\n"
     ]
    },
    {
     "name": "stdout",
     "output_type": "stream",
     "text": [
      "13:16:03.515 DEBUG org.hibernate.SQL - select count(*)>0 from CUSTOMER c1_0 where c1_0.email=?\n"
     ]
    },
    {
     "name": "stdout",
     "output_type": "stream",
     "text": [
      "13:16:03.515 DEBUG org.hibernate.SQL - insert into CUSTOMER (birthDate,creationDate,email,firstname,lastname,photo,status,version,ID) values (?,?,?,?,?,?,?,?,?)\n"
     ]
    },
    {
     "name": "stdout",
     "output_type": "stream",
     "text": [
      "13:16:03.516 DEBUG org.hibernate.SQL - select count(*)>0 from CUSTOMER c1_0 where c1_0.email=?\n"
     ]
    },
    {
     "name": "stdout",
     "output_type": "stream",
     "text": [
      "13:16:03.516 DEBUG org.hibernate.SQL - insert into CUSTOMER (birthDate,creationDate,email,firstname,lastname,photo,status,version,ID) values (?,?,?,?,?,?,?,?,?)\n"
     ]
    },
    {
     "name": "stdout",
     "output_type": "stream",
     "text": [
      "13:16:03.516 DEBUG org.hibernate.SQL - select count(*)>0 from CUSTOMER c1_0 where c1_0.email=?\n"
     ]
    },
    {
     "name": "stdout",
     "output_type": "stream",
     "text": [
      "13:16:03.517 DEBUG org.hibernate.SQL - insert into CUSTOMER (birthDate,creationDate,email,firstname,lastname,photo,status,version,ID) values (?,?,?,?,?,?,?,?,?)\n"
     ]
    },
    {
     "name": "stdout",
     "output_type": "stream",
     "text": [
      "13:16:03.517 DEBUG org.hibernate.SQL - select count(*)>0 from CUSTOMER c1_0 where c1_0.email=?\n"
     ]
    },
    {
     "name": "stdout",
     "output_type": "stream",
     "text": [
      "13:16:03.517 DEBUG org.hibernate.SQL - insert into CUSTOMER (birthDate,creationDate,email,firstname,lastname,photo,status,version,ID) values (?,?,?,?,?,?,?,?,?)\n"
     ]
    },
    {
     "name": "stdout",
     "output_type": "stream",
     "text": [
      "13:16:03.517 DEBUG org.hibernate.SQL - select count(*)>0 from CUSTOMER c1_0 where c1_0.email=?\n"
     ]
    },
    {
     "name": "stdout",
     "output_type": "stream",
     "text": [
      "13:16:03.519 DEBUG org.hibernate.SQL - insert into CUSTOMER (birthDate,creationDate,email,firstname,lastname,photo,status,version,ID) values (?,?,?,?,?,?,?,?,?)\n"
     ]
    },
    {
     "name": "stdout",
     "output_type": "stream",
     "text": [
      "13:16:03.519 DEBUG org.hibernate.SQL - select count(*)>0 from CUSTOMER c1_0 where c1_0.email=?\n"
     ]
    },
    {
     "name": "stdout",
     "output_type": "stream",
     "text": [
      "13:16:03.521 DEBUG org.hibernate.SQL - insert into CUSTOMER (birthDate,creationDate,email,firstname,lastname,photo,status,version,ID) values (?,?,?,?,?,?,?,?,?)\n"
     ]
    },
    {
     "name": "stdout",
     "output_type": "stream",
     "text": [
      "13:16:03.521 DEBUG org.hibernate.SQL - select count(*)>0 from CUSTOMER c1_0 where c1_0.email=?\n"
     ]
    },
    {
     "name": "stdout",
     "output_type": "stream",
     "text": [
      "13:16:03.524 DEBUG org.hibernate.SQL - insert into CUSTOMER (birthDate,creationDate,email,firstname,lastname,photo,status,version,ID) values (?,?,?,?,?,?,?,?,?)\n"
     ]
    },
    {
     "name": "stdout",
     "output_type": "stream",
     "text": [
      "13:16:03.525 DEBUG org.hibernate.SQL - select count(*)>0 from CUSTOMER c1_0 where c1_0.email=?\n"
     ]
    },
    {
     "name": "stdout",
     "output_type": "stream",
     "text": [
      "13:16:03.527 DEBUG org.hibernate.SQL - insert into CUSTOMER (birthDate,creationDate,email,firstname,lastname,photo,status,version,ID) values (?,?,?,?,?,?,?,?,?)\n"
     ]
    },
    {
     "name": "stdout",
     "output_type": "stream",
     "text": [
      "13:16:03.527 DEBUG org.hibernate.SQL - select count(*)>0 from CUSTOMER c1_0 where c1_0.email=?\n"
     ]
    },
    {
     "name": "stdout",
     "output_type": "stream",
     "text": [
      "13:16:03.528 DEBUG org.hibernate.SQL - insert into CUSTOMER (birthDate,creationDate,email,firstname,lastname,photo,status,version,ID) values (?,?,?,?,?,?,?,?,?)\n"
     ]
    },
    {
     "name": "stdout",
     "output_type": "stream",
     "text": [
      "13:16:03.529 DEBUG org.hibernate.SQL - select count(*)>0 from CUSTOMER c1_0 where c1_0.email=?\n"
     ]
    },
    {
     "name": "stdout",
     "output_type": "stream",
     "text": [
      "13:16:03.530 DEBUG org.hibernate.SQL - insert into CUSTOMER (birthDate,creationDate,email,firstname,lastname,photo,status,version,ID) values (?,?,?,?,?,?,?,?,?)\n"
     ]
    },
    {
     "name": "stdout",
     "output_type": "stream",
     "text": [
      "13:16:03.531 DEBUG org.hibernate.SQL - select count(*)>0 from CUSTOMER c1_0 where c1_0.email=?\n"
     ]
    },
    {
     "name": "stdout",
     "output_type": "stream",
     "text": [
      "13:16:03.532 DEBUG org.hibernate.SQL - insert into CUSTOMER (birthDate,creationDate,email,firstname,lastname,photo,status,version,ID) values (?,?,?,?,?,?,?,?,?)\n"
     ]
    },
    {
     "name": "stdout",
     "output_type": "stream",
     "text": [
      "13:16:03.532 DEBUG org.hibernate.SQL - select count(*)>0 from CUSTOMER c1_0 where c1_0.email=?\n"
     ]
    },
    {
     "name": "stdout",
     "output_type": "stream",
     "text": [
      "13:16:03.533 DEBUG org.hibernate.SQL - insert into CUSTOMER (birthDate,creationDate,email,firstname,lastname,photo,status,version,ID) values (?,?,?,?,?,?,?,?,?)\n"
     ]
    },
    {
     "name": "stdout",
     "output_type": "stream",
     "text": [
      "13:16:03.533 DEBUG org.hibernate.SQL - select count(*)>0 from CUSTOMER c1_0 where c1_0.email=?\n"
     ]
    },
    {
     "name": "stdout",
     "output_type": "stream",
     "text": [
      "13:16:03.533 DEBUG org.hibernate.SQL - insert into CUSTOMER (birthDate,creationDate,email,firstname,lastname,photo,status,version,ID) values (?,?,?,?,?,?,?,?,?)\n"
     ]
    },
    {
     "name": "stdout",
     "output_type": "stream",
     "text": [
      "13:16:03.534 DEBUG org.hibernate.SQL - select count(*)>0 from CUSTOMER c1_0 where c1_0.email=?\n"
     ]
    },
    {
     "name": "stdout",
     "output_type": "stream",
     "text": [
      "13:16:03.534 DEBUG org.hibernate.SQL - insert into CUSTOMER (birthDate,creationDate,email,firstname,lastname,photo,status,version,ID) values (?,?,?,?,?,?,?,?,?)\n"
     ]
    },
    {
     "name": "stdout",
     "output_type": "stream",
     "text": [
      "13:16:03.534 DEBUG org.hibernate.SQL - select count(*)>0 from CUSTOMER c1_0 where c1_0.email=?\n"
     ]
    },
    {
     "name": "stdout",
     "output_type": "stream",
     "text": [
      "13:16:03.535 DEBUG org.hibernate.SQL - insert into CUSTOMER (birthDate,creationDate,email,firstname,lastname,photo,status,version,ID) values (?,?,?,?,?,?,?,?,?)\n"
     ]
    },
    {
     "name": "stdout",
     "output_type": "stream",
     "text": [
      "13:16:03.535 DEBUG org.hibernate.SQL - select count(*)>0 from CUSTOMER c1_0 where c1_0.email=?\n"
     ]
    },
    {
     "name": "stdout",
     "output_type": "stream",
     "text": [
      "13:16:03.536 DEBUG org.hibernate.SQL - insert into CUSTOMER (birthDate,creationDate,email,firstname,lastname,photo,status,version,ID) values (?,?,?,?,?,?,?,?,?)\n"
     ]
    },
    {
     "name": "stdout",
     "output_type": "stream",
     "text": [
      "13:16:03.536 DEBUG org.hibernate.SQL - select count(*)>0 from CUSTOMER c1_0 where c1_0.email=?\n"
     ]
    },
    {
     "name": "stdout",
     "output_type": "stream",
     "text": [
      "13:16:03.536 DEBUG org.hibernate.SQL - insert into CUSTOMER (birthDate,creationDate,email,firstname,lastname,photo,status,version,ID) values (?,?,?,?,?,?,?,?,?)\n"
     ]
    },
    {
     "name": "stdout",
     "output_type": "stream",
     "text": [
      "13:16:03.537 DEBUG org.hibernate.SQL - select count(*)>0 from CUSTOMER c1_0 where c1_0.email=?\n"
     ]
    },
    {
     "name": "stdout",
     "output_type": "stream",
     "text": [
      "13:16:03.537 DEBUG org.hibernate.SQL - insert into CUSTOMER (birthDate,creationDate,email,firstname,lastname,photo,status,version,ID) values (?,?,?,?,?,?,?,?,?)\n"
     ]
    },
    {
     "name": "stdout",
     "output_type": "stream",
     "text": [
      "13:16:03.538 DEBUG org.hibernate.SQL - select count(*)>0 from CUSTOMER c1_0 where c1_0.email=?\n"
     ]
    },
    {
     "name": "stdout",
     "output_type": "stream",
     "text": [
      "13:16:03.538 DEBUG org.hibernate.SQL - insert into CUSTOMER (birthDate,creationDate,email,firstname,lastname,photo,status,version,ID) values (?,?,?,?,?,?,?,?,?)\n"
     ]
    },
    {
     "name": "stdout",
     "output_type": "stream",
     "text": [
      "13:16:03.539 DEBUG org.hibernate.SQL - select count(*)>0 from CUSTOMER c1_0 where c1_0.email=?\n"
     ]
    },
    {
     "name": "stdout",
     "output_type": "stream",
     "text": [
      "13:16:03.540 DEBUG org.hibernate.SQL - insert into CUSTOMER (birthDate,creationDate,email,firstname,lastname,photo,status,version,ID) values (?,?,?,?,?,?,?,?,?)\n"
     ]
    },
    {
     "name": "stdout",
     "output_type": "stream",
     "text": [
      "13:16:03.540 DEBUG org.hibernate.SQL - select count(*)>0 from CUSTOMER c1_0 where c1_0.email=?\n"
     ]
    },
    {
     "name": "stdout",
     "output_type": "stream",
     "text": [
      "13:16:03.540 DEBUG org.hibernate.SQL - insert into CUSTOMER (birthDate,creationDate,email,firstname,lastname,photo,status,version,ID) values (?,?,?,?,?,?,?,?,?)\n"
     ]
    },
    {
     "name": "stdout",
     "output_type": "stream",
     "text": [
      "13:16:03.541 DEBUG org.hibernate.SQL - select count(*)>0 from CUSTOMER c1_0 where c1_0.email=?\n"
     ]
    },
    {
     "name": "stdout",
     "output_type": "stream",
     "text": [
      "13:16:03.541 DEBUG org.hibernate.SQL - insert into CUSTOMER (birthDate,creationDate,email,firstname,lastname,photo,status,version,ID) values (?,?,?,?,?,?,?,?,?)\n"
     ]
    },
    {
     "name": "stdout",
     "output_type": "stream",
     "text": [
      "13:16:03.541 DEBUG org.hibernate.SQL - select count(*)>0 from CUSTOMER c1_0 where c1_0.email=?\n"
     ]
    },
    {
     "name": "stdout",
     "output_type": "stream",
     "text": [
      "13:16:03.542 DEBUG org.hibernate.SQL - insert into CUSTOMER (birthDate,creationDate,email,firstname,lastname,photo,status,version,ID) values (?,?,?,?,?,?,?,?,?)\n"
     ]
    },
    {
     "name": "stdout",
     "output_type": "stream",
     "text": [
      "13:16:03.542 DEBUG org.hibernate.SQL - select count(*)>0 from CUSTOMER c1_0 where c1_0.email=?\n"
     ]
    },
    {
     "name": "stdout",
     "output_type": "stream",
     "text": [
      "13:16:03.542 DEBUG org.hibernate.SQL - insert into CUSTOMER (birthDate,creationDate,email,firstname,lastname,photo,status,version,ID) values (?,?,?,?,?,?,?,?,?)\n"
     ]
    },
    {
     "name": "stdout",
     "output_type": "stream",
     "text": [
      "13:16:03.543 DEBUG org.hibernate.SQL - select count(*)>0 from CUSTOMER c1_0 where c1_0.email=?\n"
     ]
    },
    {
     "name": "stdout",
     "output_type": "stream",
     "text": [
      "13:16:03.543 DEBUG org.hibernate.SQL - select nextval('CUSTOMER_SEQ')\n"
     ]
    },
    {
     "name": "stdout",
     "output_type": "stream",
     "text": [
      "13:16:03.543 DEBUG org.hibernate.SQL - insert into CUSTOMER (birthDate,creationDate,email,firstname,lastname,photo,status,version,ID) values (?,?,?,?,?,?,?,?,?)\n"
     ]
    },
    {
     "name": "stdout",
     "output_type": "stream",
     "text": [
      "13:16:03.543 DEBUG org.hibernate.SQL - select count(*)>0 from CUSTOMER c1_0 where c1_0.email=?\n"
     ]
    },
    {
     "name": "stdout",
     "output_type": "stream",
     "text": [
      "13:16:03.544 DEBUG org.hibernate.SQL - insert into CUSTOMER (birthDate,creationDate,email,firstname,lastname,photo,status,version,ID) values (?,?,?,?,?,?,?,?,?)\n"
     ]
    },
    {
     "name": "stdout",
     "output_type": "stream",
     "text": [
      "13:16:03.544 DEBUG org.hibernate.SQL - select count(*)>0 from CUSTOMER c1_0 where c1_0.email=?\n"
     ]
    },
    {
     "name": "stdout",
     "output_type": "stream",
     "text": [
      "13:16:03.544 DEBUG org.hibernate.SQL - insert into CUSTOMER (birthDate,creationDate,email,firstname,lastname,photo,status,version,ID) values (?,?,?,?,?,?,?,?,?)\n"
     ]
    },
    {
     "name": "stdout",
     "output_type": "stream",
     "text": [
      "13:16:03.545 DEBUG org.hibernate.SQL - select count(*)>0 from CUSTOMER c1_0 where c1_0.email=?\n"
     ]
    },
    {
     "name": "stdout",
     "output_type": "stream",
     "text": [
      "13:16:03.545 DEBUG org.hibernate.SQL - insert into CUSTOMER (birthDate,creationDate,email,firstname,lastname,photo,status,version,ID) values (?,?,?,?,?,?,?,?,?)\n"
     ]
    },
    {
     "name": "stdout",
     "output_type": "stream",
     "text": [
      "13:16:03.545 DEBUG org.hibernate.SQL - select count(*)>0 from CUSTOMER c1_0 where c1_0.email=?\n"
     ]
    },
    {
     "name": "stdout",
     "output_type": "stream",
     "text": [
      "13:16:03.546 DEBUG org.hibernate.SQL - insert into CUSTOMER (birthDate,creationDate,email,firstname,lastname,photo,status,version,ID) values (?,?,?,?,?,?,?,?,?)\n"
     ]
    },
    {
     "name": "stdout",
     "output_type": "stream",
     "text": [
      "13:16:03.546 DEBUG org.hibernate.SQL - select count(*)>0 from CUSTOMER c1_0 where c1_0.email=?\n"
     ]
    },
    {
     "name": "stdout",
     "output_type": "stream",
     "text": [
      "13:16:03.546 DEBUG org.hibernate.SQL - insert into CUSTOMER (birthDate,creationDate,email,firstname,lastname,photo,status,version,ID) values (?,?,?,?,?,?,?,?,?)\n"
     ]
    },
    {
     "name": "stdout",
     "output_type": "stream",
     "text": [
      "13:16:03.547 DEBUG org.hibernate.SQL - select count(*)>0 from CUSTOMER c1_0 where c1_0.email=?\n"
     ]
    },
    {
     "name": "stdout",
     "output_type": "stream",
     "text": [
      "13:16:03.547 DEBUG org.hibernate.SQL - insert into CUSTOMER (birthDate,creationDate,email,firstname,lastname,photo,status,version,ID) values (?,?,?,?,?,?,?,?,?)\n"
     ]
    },
    {
     "name": "stdout",
     "output_type": "stream",
     "text": [
      "13:16:03.547 DEBUG org.hibernate.SQL - select count(*)>0 from CUSTOMER c1_0 where c1_0.email=?\n"
     ]
    },
    {
     "name": "stdout",
     "output_type": "stream",
     "text": [
      "13:16:03.548 DEBUG org.hibernate.SQL - insert into CUSTOMER (birthDate,creationDate,email,firstname,lastname,photo,status,version,ID) values (?,?,?,?,?,?,?,?,?)\n"
     ]
    },
    {
     "name": "stdout",
     "output_type": "stream",
     "text": [
      "13:16:03.548 DEBUG org.hibernate.SQL - select count(*)>0 from CUSTOMER c1_0 where c1_0.email=?\n"
     ]
    },
    {
     "name": "stdout",
     "output_type": "stream",
     "text": [
      "13:16:03.549 DEBUG org.hibernate.SQL - insert into CUSTOMER (birthDate,creationDate,email,firstname,lastname,photo,status,version,ID) values (?,?,?,?,?,?,?,?,?)\n"
     ]
    },
    {
     "name": "stdout",
     "output_type": "stream",
     "text": [
      "13:16:03.549 DEBUG org.hibernate.SQL - select count(*)>0 from CUSTOMER c1_0 where c1_0.email=?\n"
     ]
    },
    {
     "name": "stdout",
     "output_type": "stream",
     "text": [
      "13:16:03.550 DEBUG org.hibernate.SQL - insert into CUSTOMER (birthDate,creationDate,email,firstname,lastname,photo,status,version,ID) values (?,?,?,?,?,?,?,?,?)\n"
     ]
    },
    {
     "name": "stdout",
     "output_type": "stream",
     "text": [
      "13:16:03.550 DEBUG org.hibernate.SQL - select count(*)>0 from CUSTOMER c1_0 where c1_0.email=?\n"
     ]
    },
    {
     "name": "stdout",
     "output_type": "stream",
     "text": [
      "13:16:03.550 DEBUG org.hibernate.SQL - insert into CUSTOMER (birthDate,creationDate,email,firstname,lastname,photo,status,version,ID) values (?,?,?,?,?,?,?,?,?)\n"
     ]
    },
    {
     "name": "stdout",
     "output_type": "stream",
     "text": [
      "13:16:03.551 DEBUG org.hibernate.SQL - select count(*)>0 from CUSTOMER c1_0 where c1_0.email=?\n"
     ]
    },
    {
     "name": "stdout",
     "output_type": "stream",
     "text": [
      "13:16:03.551 DEBUG org.hibernate.SQL - insert into CUSTOMER (birthDate,creationDate,email,firstname,lastname,photo,status,version,ID) values (?,?,?,?,?,?,?,?,?)\n"
     ]
    },
    {
     "name": "stdout",
     "output_type": "stream",
     "text": [
      "13:16:03.552 DEBUG org.hibernate.SQL - select count(*)>0 from CUSTOMER c1_0 where c1_0.email=?\n"
     ]
    },
    {
     "name": "stdout",
     "output_type": "stream",
     "text": [
      "13:16:03.552 DEBUG org.hibernate.SQL - insert into CUSTOMER (birthDate,creationDate,email,firstname,lastname,photo,status,version,ID) values (?,?,?,?,?,?,?,?,?)\n"
     ]
    },
    {
     "name": "stdout",
     "output_type": "stream",
     "text": [
      "13:16:03.552 DEBUG org.hibernate.SQL - select count(*)>0 from CUSTOMER c1_0 where c1_0.email=?\n"
     ]
    },
    {
     "name": "stdout",
     "output_type": "stream",
     "text": [
      "13:16:03.553 DEBUG org.hibernate.SQL - insert into CUSTOMER (birthDate,creationDate,email,firstname,lastname,photo,status,version,ID) values (?,?,?,?,?,?,?,?,?)\n"
     ]
    },
    {
     "name": "stdout",
     "output_type": "stream",
     "text": [
      "13:16:03.553 DEBUG org.hibernate.SQL - select count(*)>0 from CUSTOMER c1_0 where c1_0.email=?\n"
     ]
    },
    {
     "name": "stdout",
     "output_type": "stream",
     "text": [
      "13:16:03.554 DEBUG org.hibernate.SQL - insert into CUSTOMER (birthDate,creationDate,email,firstname,lastname,photo,status,version,ID) values (?,?,?,?,?,?,?,?,?)\n"
     ]
    },
    {
     "name": "stdout",
     "output_type": "stream",
     "text": [
      "13:16:03.554 DEBUG org.hibernate.SQL - select count(*)>0 from CUSTOMER c1_0 where c1_0.email=?\n"
     ]
    },
    {
     "name": "stdout",
     "output_type": "stream",
     "text": [
      "13:16:03.554 DEBUG org.hibernate.SQL - insert into CUSTOMER (birthDate,creationDate,email,firstname,lastname,photo,status,version,ID) values (?,?,?,?,?,?,?,?,?)\n"
     ]
    },
    {
     "name": "stdout",
     "output_type": "stream",
     "text": [
      "13:16:03.555 DEBUG org.hibernate.SQL - select count(*)>0 from CUSTOMER c1_0 where c1_0.email=?\n"
     ]
    },
    {
     "name": "stdout",
     "output_type": "stream",
     "text": [
      "13:16:03.555 DEBUG org.hibernate.SQL - insert into CUSTOMER (birthDate,creationDate,email,firstname,lastname,photo,status,version,ID) values (?,?,?,?,?,?,?,?,?)\n"
     ]
    },
    {
     "name": "stdout",
     "output_type": "stream",
     "text": [
      "13:16:03.555 DEBUG org.hibernate.SQL - select count(*)>0 from CUSTOMER c1_0 where c1_0.email=?\n"
     ]
    },
    {
     "name": "stdout",
     "output_type": "stream",
     "text": [
      "13:16:03.556 DEBUG org.hibernate.SQL - insert into CUSTOMER (birthDate,creationDate,email,firstname,lastname,photo,status,version,ID) values (?,?,?,?,?,?,?,?,?)\n"
     ]
    },
    {
     "name": "stdout",
     "output_type": "stream",
     "text": [
      "13:16:03.556 DEBUG org.hibernate.SQL - select count(*)>0 from CUSTOMER c1_0 where c1_0.email=?\n"
     ]
    },
    {
     "name": "stdout",
     "output_type": "stream",
     "text": [
      "13:16:03.557 DEBUG org.hibernate.SQL - insert into CUSTOMER (birthDate,creationDate,email,firstname,lastname,photo,status,version,ID) values (?,?,?,?,?,?,?,?,?)\n"
     ]
    },
    {
     "name": "stdout",
     "output_type": "stream",
     "text": [
      "13:16:03.557 DEBUG org.hibernate.SQL - select count(*)>0 from CUSTOMER c1_0 where c1_0.email=?\n"
     ]
    },
    {
     "name": "stdout",
     "output_type": "stream",
     "text": [
      "13:16:03.557 DEBUG org.hibernate.SQL - insert into CUSTOMER (birthDate,creationDate,email,firstname,lastname,photo,status,version,ID) values (?,?,?,?,?,?,?,?,?)\n"
     ]
    },
    {
     "name": "stdout",
     "output_type": "stream",
     "text": [
      "13:16:03.557 DEBUG org.hibernate.SQL - select count(*)>0 from CUSTOMER c1_0 where c1_0.email=?\n"
     ]
    },
    {
     "name": "stdout",
     "output_type": "stream",
     "text": [
      "13:16:03.558 DEBUG org.hibernate.SQL - insert into CUSTOMER (birthDate,creationDate,email,firstname,lastname,photo,status,version,ID) values (?,?,?,?,?,?,?,?,?)\n"
     ]
    },
    {
     "name": "stdout",
     "output_type": "stream",
     "text": [
      "13:16:03.558 DEBUG org.hibernate.SQL - select count(*)>0 from CUSTOMER c1_0 where c1_0.email=?\n"
     ]
    },
    {
     "name": "stdout",
     "output_type": "stream",
     "text": [
      "13:16:03.559 DEBUG org.hibernate.SQL - insert into CUSTOMER (birthDate,creationDate,email,firstname,lastname,photo,status,version,ID) values (?,?,?,?,?,?,?,?,?)\n"
     ]
    },
    {
     "name": "stdout",
     "output_type": "stream",
     "text": [
      "13:16:03.559 DEBUG org.hibernate.SQL - select count(*)>0 from CUSTOMER c1_0 where c1_0.email=?\n"
     ]
    },
    {
     "name": "stdout",
     "output_type": "stream",
     "text": [
      "13:16:03.559 DEBUG org.hibernate.SQL - insert into CUSTOMER (birthDate,creationDate,email,firstname,lastname,photo,status,version,ID) values (?,?,?,?,?,?,?,?,?)\n"
     ]
    },
    {
     "name": "stdout",
     "output_type": "stream",
     "text": [
      "13:16:03.560 DEBUG org.hibernate.SQL - select count(*)>0 from CUSTOMER c1_0 where c1_0.email=?\n"
     ]
    },
    {
     "name": "stdout",
     "output_type": "stream",
     "text": [
      "13:16:03.560 DEBUG org.hibernate.SQL - insert into CUSTOMER (birthDate,creationDate,email,firstname,lastname,photo,status,version,ID) values (?,?,?,?,?,?,?,?,?)\n"
     ]
    },
    {
     "name": "stdout",
     "output_type": "stream",
     "text": [
      "13:16:03.560 DEBUG org.hibernate.SQL - select count(*)>0 from CUSTOMER c1_0 where c1_0.email=?\n"
     ]
    },
    {
     "name": "stdout",
     "output_type": "stream",
     "text": [
      "13:16:03.561 DEBUG org.hibernate.SQL - insert into CUSTOMER (birthDate,creationDate,email,firstname,lastname,photo,status,version,ID) values (?,?,?,?,?,?,?,?,?)\n"
     ]
    },
    {
     "name": "stdout",
     "output_type": "stream",
     "text": [
      "13:16:03.561 DEBUG org.hibernate.SQL - select count(*)>0 from CUSTOMER c1_0 where c1_0.email=?\n"
     ]
    },
    {
     "name": "stdout",
     "output_type": "stream",
     "text": [
      "13:16:03.562 DEBUG org.hibernate.SQL - insert into CUSTOMER (birthDate,creationDate,email,firstname,lastname,photo,status,version,ID) values (?,?,?,?,?,?,?,?,?)\n"
     ]
    },
    {
     "name": "stdout",
     "output_type": "stream",
     "text": [
      "13:16:03.562 DEBUG org.hibernate.SQL - select count(*)>0 from CUSTOMER c1_0 where c1_0.email=?\n"
     ]
    },
    {
     "name": "stdout",
     "output_type": "stream",
     "text": [
      "13:16:03.562 DEBUG org.hibernate.SQL - insert into CUSTOMER (birthDate,creationDate,email,firstname,lastname,photo,status,version,ID) values (?,?,?,?,?,?,?,?,?)\n"
     ]
    },
    {
     "name": "stdout",
     "output_type": "stream",
     "text": [
      "13:16:03.563 DEBUG org.hibernate.SQL - select count(*)>0 from CUSTOMER c1_0 where c1_0.email=?\n"
     ]
    },
    {
     "name": "stdout",
     "output_type": "stream",
     "text": [
      "13:16:03.563 DEBUG org.hibernate.SQL - insert into CUSTOMER (birthDate,creationDate,email,firstname,lastname,photo,status,version,ID) values (?,?,?,?,?,?,?,?,?)\n"
     ]
    },
    {
     "name": "stdout",
     "output_type": "stream",
     "text": [
      "13:16:03.563 DEBUG org.hibernate.SQL - select count(*)>0 from CUSTOMER c1_0 where c1_0.email=?\n"
     ]
    },
    {
     "name": "stdout",
     "output_type": "stream",
     "text": [
      "13:16:03.564 DEBUG org.hibernate.SQL - insert into CUSTOMER (birthDate,creationDate,email,firstname,lastname,photo,status,version,ID) values (?,?,?,?,?,?,?,?,?)\n"
     ]
    },
    {
     "name": "stdout",
     "output_type": "stream",
     "text": [
      "13:16:03.564 DEBUG org.hibernate.SQL - select count(*)>0 from CUSTOMER c1_0 where c1_0.email=?\n"
     ]
    },
    {
     "name": "stdout",
     "output_type": "stream",
     "text": [
      "13:16:03.564 DEBUG org.hibernate.SQL - insert into CUSTOMER (birthDate,creationDate,email,firstname,lastname,photo,status,version,ID) values (?,?,?,?,?,?,?,?,?)\n"
     ]
    },
    {
     "name": "stdout",
     "output_type": "stream",
     "text": [
      "13:16:03.565 DEBUG org.hibernate.SQL - select count(*)>0 from CUSTOMER c1_0 where c1_0.email=?\n"
     ]
    },
    {
     "name": "stdout",
     "output_type": "stream",
     "text": [
      "13:16:03.565 DEBUG org.hibernate.SQL - insert into CUSTOMER (birthDate,creationDate,email,firstname,lastname,photo,status,version,ID) values (?,?,?,?,?,?,?,?,?)\n"
     ]
    },
    {
     "name": "stdout",
     "output_type": "stream",
     "text": [
      "13:16:03.565 DEBUG org.hibernate.SQL - select count(*)>0 from CUSTOMER c1_0 where c1_0.email=?\n"
     ]
    },
    {
     "name": "stdout",
     "output_type": "stream",
     "text": [
      "13:16:03.566 DEBUG org.hibernate.SQL - insert into CUSTOMER (birthDate,creationDate,email,firstname,lastname,photo,status,version,ID) values (?,?,?,?,?,?,?,?,?)\n"
     ]
    },
    {
     "name": "stdout",
     "output_type": "stream",
     "text": [
      "13:16:03.566 DEBUG org.hibernate.SQL - select count(*)>0 from CUSTOMER c1_0 where c1_0.email=?\n"
     ]
    },
    {
     "name": "stdout",
     "output_type": "stream",
     "text": [
      "13:16:03.566 DEBUG org.hibernate.SQL - insert into CUSTOMER (birthDate,creationDate,email,firstname,lastname,photo,status,version,ID) values (?,?,?,?,?,?,?,?,?)\n"
     ]
    },
    {
     "name": "stdout",
     "output_type": "stream",
     "text": [
      "13:16:03.567 DEBUG org.hibernate.SQL - select count(*)>0 from CUSTOMER c1_0 where c1_0.email=?\n"
     ]
    },
    {
     "name": "stdout",
     "output_type": "stream",
     "text": [
      "13:16:03.567 DEBUG org.hibernate.SQL - insert into CUSTOMER (birthDate,creationDate,email,firstname,lastname,photo,status,version,ID) values (?,?,?,?,?,?,?,?,?)\n"
     ]
    },
    {
     "name": "stdout",
     "output_type": "stream",
     "text": [
      "13:16:03.567 DEBUG org.hibernate.SQL - select count(*)>0 from CUSTOMER c1_0 where c1_0.email=?\n"
     ]
    },
    {
     "name": "stdout",
     "output_type": "stream",
     "text": [
      "13:16:03.568 DEBUG org.hibernate.SQL - insert into CUSTOMER (birthDate,creationDate,email,firstname,lastname,photo,status,version,ID) values (?,?,?,?,?,?,?,?,?)\n"
     ]
    },
    {
     "name": "stdout",
     "output_type": "stream",
     "text": [
      "13:16:03.568 DEBUG org.hibernate.SQL - select count(*)>0 from CUSTOMER c1_0 where c1_0.email=?\n"
     ]
    },
    {
     "name": "stdout",
     "output_type": "stream",
     "text": [
      "13:16:03.568 DEBUG org.hibernate.SQL - insert into CUSTOMER (birthDate,creationDate,email,firstname,lastname,photo,status,version,ID) values (?,?,?,?,?,?,?,?,?)\n"
     ]
    },
    {
     "name": "stdout",
     "output_type": "stream",
     "text": [
      "13:16:03.568 DEBUG org.hibernate.SQL - select count(*)>0 from CUSTOMER c1_0 where c1_0.email=?\n"
     ]
    },
    {
     "name": "stdout",
     "output_type": "stream",
     "text": [
      "13:16:03.569 DEBUG org.hibernate.SQL - insert into CUSTOMER (birthDate,creationDate,email,firstname,lastname,photo,status,version,ID) values (?,?,?,?,?,?,?,?,?)\n"
     ]
    },
    {
     "name": "stdout",
     "output_type": "stream",
     "text": [
      "13:16:03.569 DEBUG org.hibernate.SQL - select count(*)>0 from CUSTOMER c1_0 where c1_0.email=?\n"
     ]
    },
    {
     "name": "stdout",
     "output_type": "stream",
     "text": [
      "13:16:03.570 DEBUG org.hibernate.SQL - insert into CUSTOMER (birthDate,creationDate,email,firstname,lastname,photo,status,version,ID) values (?,?,?,?,?,?,?,?,?)\n"
     ]
    },
    {
     "name": "stdout",
     "output_type": "stream",
     "text": [
      "13:16:03.570 DEBUG org.hibernate.SQL - select count(*)>0 from CUSTOMER c1_0 where c1_0.email=?\n"
     ]
    },
    {
     "name": "stdout",
     "output_type": "stream",
     "text": [
      "13:16:03.570 DEBUG org.hibernate.SQL - insert into CUSTOMER (birthDate,creationDate,email,firstname,lastname,photo,status,version,ID) values (?,?,?,?,?,?,?,?,?)\n"
     ]
    },
    {
     "name": "stdout",
     "output_type": "stream",
     "text": [
      "13:16:03.571 DEBUG org.hibernate.SQL - select count(*)>0 from CUSTOMER c1_0 where c1_0.email=?\n"
     ]
    },
    {
     "name": "stdout",
     "output_type": "stream",
     "text": [
      "13:16:03.571 DEBUG org.hibernate.SQL - insert into CUSTOMER (birthDate,creationDate,email,firstname,lastname,photo,status,version,ID) values (?,?,?,?,?,?,?,?,?)\n"
     ]
    },
    {
     "name": "stdout",
     "output_type": "stream",
     "text": [
      "13:16:03.571 DEBUG org.hibernate.SQL - select count(*)>0 from CUSTOMER c1_0 where c1_0.email=?\n"
     ]
    },
    {
     "name": "stdout",
     "output_type": "stream",
     "text": [
      "13:16:03.572 DEBUG org.hibernate.SQL - insert into CUSTOMER (birthDate,creationDate,email,firstname,lastname,photo,status,version,ID) values (?,?,?,?,?,?,?,?,?)\n"
     ]
    },
    {
     "name": "stdout",
     "output_type": "stream",
     "text": [
      "13:16:03.572 DEBUG org.hibernate.SQL - select count(*)>0 from CUSTOMER c1_0 where c1_0.email=?\n"
     ]
    },
    {
     "name": "stdout",
     "output_type": "stream",
     "text": [
      "13:16:03.573 DEBUG org.hibernate.SQL - insert into CUSTOMER (birthDate,creationDate,email,firstname,lastname,photo,status,version,ID) values (?,?,?,?,?,?,?,?,?)\n"
     ]
    },
    {
     "name": "stdout",
     "output_type": "stream",
     "text": [
      "13:16:03.573 DEBUG org.hibernate.SQL - select count(*)>0 from CUSTOMER c1_0 where c1_0.email=?\n"
     ]
    },
    {
     "name": "stdout",
     "output_type": "stream",
     "text": [
      "13:16:03.573 DEBUG org.hibernate.SQL - insert into CUSTOMER (birthDate,creationDate,email,firstname,lastname,photo,status,version,ID) values (?,?,?,?,?,?,?,?,?)\n"
     ]
    },
    {
     "name": "stdout",
     "output_type": "stream",
     "text": [
      "13:16:03.573 DEBUG org.hibernate.SQL - select count(*)>0 from CUSTOMER c1_0 where c1_0.email=?\n"
     ]
    },
    {
     "name": "stdout",
     "output_type": "stream",
     "text": [
      "13:16:03.574 DEBUG org.hibernate.SQL - insert into CUSTOMER (birthDate,creationDate,email,firstname,lastname,photo,status,version,ID) values (?,?,?,?,?,?,?,?,?)\n"
     ]
    },
    {
     "name": "stdout",
     "output_type": "stream",
     "text": [
      "13:16:03.574 DEBUG org.hibernate.SQL - select count(*)>0 from CUSTOMER c1_0 where c1_0.email=?\n"
     ]
    },
    {
     "name": "stdout",
     "output_type": "stream",
     "text": [
      "13:16:03.574 DEBUG org.hibernate.SQL - insert into CUSTOMER (birthDate,creationDate,email,firstname,lastname,photo,status,version,ID) values (?,?,?,?,?,?,?,?,?)\n"
     ]
    },
    {
     "name": "stdout",
     "output_type": "stream",
     "text": [
      "13:16:03.575 DEBUG org.hibernate.SQL - select count(*)>0 from CUSTOMER c1_0 where c1_0.email=?\n"
     ]
    },
    {
     "name": "stdout",
     "output_type": "stream",
     "text": [
      "13:16:03.575 DEBUG org.hibernate.SQL - insert into CUSTOMER (birthDate,creationDate,email,firstname,lastname,photo,status,version,ID) values (?,?,?,?,?,?,?,?,?)\n"
     ]
    },
    {
     "name": "stdout",
     "output_type": "stream",
     "text": [
      "13:16:03.576 DEBUG org.hibernate.SQL - select count(*)>0 from CUSTOMER c1_0 where c1_0.email=?\n"
     ]
    },
    {
     "name": "stdout",
     "output_type": "stream",
     "text": [
      "13:16:03.576 DEBUG org.hibernate.SQL - insert into CUSTOMER (birthDate,creationDate,email,firstname,lastname,photo,status,version,ID) values (?,?,?,?,?,?,?,?,?)\n"
     ]
    },
    {
     "name": "stdout",
     "output_type": "stream",
     "text": [
      "13:16:03.576 DEBUG org.hibernate.SQL - select count(*)>0 from CUSTOMER c1_0 where c1_0.email=?\n"
     ]
    },
    {
     "name": "stdout",
     "output_type": "stream",
     "text": [
      "13:16:03.577 DEBUG org.hibernate.SQL - insert into CUSTOMER (birthDate,creationDate,email,firstname,lastname,photo,status,version,ID) values (?,?,?,?,?,?,?,?,?)\n"
     ]
    },
    {
     "name": "stdout",
     "output_type": "stream",
     "text": [
      "13:16:03.577 DEBUG org.hibernate.SQL - select count(*)>0 from CUSTOMER c1_0 where c1_0.email=?\n"
     ]
    },
    {
     "name": "stdout",
     "output_type": "stream",
     "text": [
      "13:16:03.577 DEBUG org.hibernate.SQL - insert into CUSTOMER (birthDate,creationDate,email,firstname,lastname,photo,status,version,ID) values (?,?,?,?,?,?,?,?,?)\n"
     ]
    },
    {
     "name": "stdout",
     "output_type": "stream",
     "text": [
      "13:16:03.578 DEBUG org.hibernate.SQL - select count(*)>0 from CUSTOMER c1_0 where c1_0.email=?\n"
     ]
    },
    {
     "name": "stdout",
     "output_type": "stream",
     "text": [
      "13:16:03.578 DEBUG org.hibernate.SQL - insert into CUSTOMER (birthDate,creationDate,email,firstname,lastname,photo,status,version,ID) values (?,?,?,?,?,?,?,?,?)\n"
     ]
    },
    {
     "name": "stdout",
     "output_type": "stream",
     "text": [
      "13:16:03.578 DEBUG org.hibernate.SQL - select count(*)>0 from CUSTOMER c1_0 where c1_0.email=?\n"
     ]
    },
    {
     "name": "stdout",
     "output_type": "stream",
     "text": [
      "13:16:03.578 DEBUG org.hibernate.SQL - select nextval('CUSTOMER_SEQ')\n"
     ]
    },
    {
     "name": "stdout",
     "output_type": "stream",
     "text": [
      "13:16:03.579 DEBUG org.hibernate.SQL - insert into CUSTOMER (birthDate,creationDate,email,firstname,lastname,photo,status,version,ID) values (?,?,?,?,?,?,?,?,?)\n"
     ]
    },
    {
     "name": "stdout",
     "output_type": "stream",
     "text": [
      "13:16:03.579 DEBUG org.hibernate.SQL - select count(*)>0 from CUSTOMER c1_0 where c1_0.email=?\n"
     ]
    },
    {
     "name": "stdout",
     "output_type": "stream",
     "text": [
      "13:16:03.579 DEBUG org.hibernate.SQL - insert into CUSTOMER (birthDate,creationDate,email,firstname,lastname,photo,status,version,ID) values (?,?,?,?,?,?,?,?,?)\n"
     ]
    },
    {
     "name": "stdout",
     "output_type": "stream",
     "text": [
      "13:16:03.580 DEBUG org.hibernate.SQL - select count(*)>0 from CUSTOMER c1_0 where c1_0.email=?\n"
     ]
    },
    {
     "name": "stdout",
     "output_type": "stream",
     "text": [
      "13:16:03.580 DEBUG org.hibernate.SQL - insert into CUSTOMER (birthDate,creationDate,email,firstname,lastname,photo,status,version,ID) values (?,?,?,?,?,?,?,?,?)\n"
     ]
    },
    {
     "name": "stdout",
     "output_type": "stream",
     "text": [
      "13:16:03.580 DEBUG org.hibernate.SQL - select count(*)>0 from CUSTOMER c1_0 where c1_0.email=?\n"
     ]
    },
    {
     "name": "stdout",
     "output_type": "stream",
     "text": [
      "13:16:03.581 DEBUG org.hibernate.SQL - insert into CUSTOMER (birthDate,creationDate,email,firstname,lastname,photo,status,version,ID) values (?,?,?,?,?,?,?,?,?)\n"
     ]
    },
    {
     "name": "stdout",
     "output_type": "stream",
     "text": [
      "13:16:03.581 DEBUG org.hibernate.SQL - select count(*)>0 from CUSTOMER c1_0 where c1_0.email=?\n"
     ]
    },
    {
     "name": "stdout",
     "output_type": "stream",
     "text": [
      "13:16:03.581 DEBUG org.hibernate.SQL - insert into CUSTOMER (birthDate,creationDate,email,firstname,lastname,photo,status,version,ID) values (?,?,?,?,?,?,?,?,?)\n"
     ]
    },
    {
     "name": "stdout",
     "output_type": "stream",
     "text": [
      "13:16:03.582 DEBUG org.hibernate.SQL - select count(*)>0 from CUSTOMER c1_0 where c1_0.email=?\n"
     ]
    },
    {
     "name": "stdout",
     "output_type": "stream",
     "text": [
      "13:16:03.582 DEBUG org.hibernate.SQL - insert into CUSTOMER (birthDate,creationDate,email,firstname,lastname,photo,status,version,ID) values (?,?,?,?,?,?,?,?,?)\n"
     ]
    },
    {
     "name": "stdout",
     "output_type": "stream",
     "text": [
      "13:16:03.582 DEBUG org.hibernate.SQL - select count(*)>0 from CUSTOMER c1_0 where c1_0.email=?\n"
     ]
    },
    {
     "name": "stdout",
     "output_type": "stream",
     "text": [
      "13:16:03.583 DEBUG org.hibernate.SQL - insert into CUSTOMER (birthDate,creationDate,email,firstname,lastname,photo,status,version,ID) values (?,?,?,?,?,?,?,?,?)\n"
     ]
    },
    {
     "name": "stdout",
     "output_type": "stream",
     "text": [
      "13:16:03.583 DEBUG org.hibernate.SQL - select count(*)>0 from CUSTOMER c1_0 where c1_0.email=?\n"
     ]
    },
    {
     "name": "stdout",
     "output_type": "stream",
     "text": [
      "13:16:03.584 DEBUG org.hibernate.SQL - insert into CUSTOMER (birthDate,creationDate,email,firstname,lastname,photo,status,version,ID) values (?,?,?,?,?,?,?,?,?)\n"
     ]
    },
    {
     "name": "stdout",
     "output_type": "stream",
     "text": [
      "13:16:03.584 DEBUG org.hibernate.SQL - select count(*)>0 from CUSTOMER c1_0 where c1_0.email=?\n"
     ]
    },
    {
     "name": "stdout",
     "output_type": "stream",
     "text": [
      "13:16:03.584 DEBUG org.hibernate.SQL - insert into CUSTOMER (birthDate,creationDate,email,firstname,lastname,photo,status,version,ID) values (?,?,?,?,?,?,?,?,?)\n"
     ]
    },
    {
     "name": "stdout",
     "output_type": "stream",
     "text": [
      "13:16:03.585 DEBUG org.hibernate.SQL - select count(*)>0 from CUSTOMER c1_0 where c1_0.email=?\n"
     ]
    },
    {
     "name": "stdout",
     "output_type": "stream",
     "text": [
      "13:16:03.585 DEBUG org.hibernate.SQL - insert into CUSTOMER (birthDate,creationDate,email,firstname,lastname,photo,status,version,ID) values (?,?,?,?,?,?,?,?,?)\n"
     ]
    },
    {
     "name": "stdout",
     "output_type": "stream",
     "text": [
      "13:16:03.585 DEBUG org.hibernate.SQL - select count(*)>0 from CUSTOMER c1_0 where c1_0.email=?\n"
     ]
    },
    {
     "name": "stdout",
     "output_type": "stream",
     "text": [
      "13:16:03.586 DEBUG org.hibernate.SQL - insert into CUSTOMER (birthDate,creationDate,email,firstname,lastname,photo,status,version,ID) values (?,?,?,?,?,?,?,?,?)\n"
     ]
    },
    {
     "name": "stdout",
     "output_type": "stream",
     "text": [
      "13:16:03.586 DEBUG org.hibernate.SQL - select count(*)>0 from CUSTOMER c1_0 where c1_0.email=?\n"
     ]
    },
    {
     "name": "stdout",
     "output_type": "stream",
     "text": [
      "13:16:03.587 DEBUG org.hibernate.SQL - insert into CUSTOMER (birthDate,creationDate,email,firstname,lastname,photo,status,version,ID) values (?,?,?,?,?,?,?,?,?)\n"
     ]
    },
    {
     "name": "stdout",
     "output_type": "stream",
     "text": [
      "13:16:03.587 DEBUG org.hibernate.SQL - select count(*)>0 from CUSTOMER c1_0 where c1_0.email=?\n"
     ]
    },
    {
     "name": "stdout",
     "output_type": "stream",
     "text": [
      "13:16:03.587 DEBUG org.hibernate.SQL - insert into CUSTOMER (birthDate,creationDate,email,firstname,lastname,photo,status,version,ID) values (?,?,?,?,?,?,?,?,?)\n"
     ]
    },
    {
     "name": "stdout",
     "output_type": "stream",
     "text": [
      "13:16:03.587 DEBUG org.hibernate.SQL - select count(*)>0 from CUSTOMER c1_0 where c1_0.email=?\n"
     ]
    },
    {
     "name": "stdout",
     "output_type": "stream",
     "text": [
      "13:16:03.588 DEBUG org.hibernate.SQL - insert into CUSTOMER (birthDate,creationDate,email,firstname,lastname,photo,status,version,ID) values (?,?,?,?,?,?,?,?,?)\n"
     ]
    },
    {
     "name": "stdout",
     "output_type": "stream",
     "text": [
      "13:16:03.588 DEBUG org.hibernate.SQL - select count(*)>0 from CUSTOMER c1_0 where c1_0.email=?\n"
     ]
    },
    {
     "name": "stdout",
     "output_type": "stream",
     "text": [
      "13:16:03.588 DEBUG org.hibernate.SQL - insert into CUSTOMER (birthDate,creationDate,email,firstname,lastname,photo,status,version,ID) values (?,?,?,?,?,?,?,?,?)\n"
     ]
    },
    {
     "name": "stdout",
     "output_type": "stream",
     "text": [
      "13:16:03.589 DEBUG org.hibernate.SQL - select count(*)>0 from CUSTOMER c1_0 where c1_0.email=?\n"
     ]
    },
    {
     "name": "stdout",
     "output_type": "stream",
     "text": [
      "13:16:03.589 DEBUG org.hibernate.SQL - insert into CUSTOMER (birthDate,creationDate,email,firstname,lastname,photo,status,version,ID) values (?,?,?,?,?,?,?,?,?)\n"
     ]
    },
    {
     "name": "stdout",
     "output_type": "stream",
     "text": [
      "13:16:03.589 DEBUG org.hibernate.SQL - select count(*)>0 from CUSTOMER c1_0 where c1_0.email=?\n"
     ]
    },
    {
     "name": "stdout",
     "output_type": "stream",
     "text": [
      "13:16:03.590 DEBUG org.hibernate.SQL - insert into CUSTOMER (birthDate,creationDate,email,firstname,lastname,photo,status,version,ID) values (?,?,?,?,?,?,?,?,?)\n"
     ]
    },
    {
     "name": "stdout",
     "output_type": "stream",
     "text": [
      "13:16:03.590 DEBUG org.hibernate.SQL - select count(*)>0 from CUSTOMER c1_0 where c1_0.email=?\n"
     ]
    },
    {
     "name": "stdout",
     "output_type": "stream",
     "text": [
      "13:16:03.590 DEBUG org.hibernate.SQL - insert into CUSTOMER (birthDate,creationDate,email,firstname,lastname,photo,status,version,ID) values (?,?,?,?,?,?,?,?,?)\n"
     ]
    },
    {
     "name": "stdout",
     "output_type": "stream",
     "text": [
      "13:16:03.591 DEBUG org.hibernate.SQL - select count(*)>0 from CUSTOMER c1_0 where c1_0.email=?\n"
     ]
    },
    {
     "name": "stdout",
     "output_type": "stream",
     "text": [
      "13:16:03.591 DEBUG org.hibernate.SQL - insert into CUSTOMER (birthDate,creationDate,email,firstname,lastname,photo,status,version,ID) values (?,?,?,?,?,?,?,?,?)\n"
     ]
    },
    {
     "name": "stdout",
     "output_type": "stream",
     "text": [
      "13:16:03.591 DEBUG org.hibernate.SQL - select count(*)>0 from CUSTOMER c1_0 where c1_0.email=?\n"
     ]
    },
    {
     "name": "stdout",
     "output_type": "stream",
     "text": [
      "13:16:03.592 DEBUG org.hibernate.SQL - insert into CUSTOMER (birthDate,creationDate,email,firstname,lastname,photo,status,version,ID) values (?,?,?,?,?,?,?,?,?)\n"
     ]
    },
    {
     "name": "stdout",
     "output_type": "stream",
     "text": [
      "13:16:03.592 DEBUG org.hibernate.SQL - select count(*)>0 from CUSTOMER c1_0 where c1_0.email=?\n"
     ]
    },
    {
     "name": "stdout",
     "output_type": "stream",
     "text": [
      "13:16:03.593 DEBUG org.hibernate.SQL - insert into CUSTOMER (birthDate,creationDate,email,firstname,lastname,photo,status,version,ID) values (?,?,?,?,?,?,?,?,?)\n"
     ]
    },
    {
     "name": "stdout",
     "output_type": "stream",
     "text": [
      "13:16:03.593 DEBUG org.hibernate.SQL - select count(*)>0 from CUSTOMER c1_0 where c1_0.email=?\n"
     ]
    },
    {
     "name": "stdout",
     "output_type": "stream",
     "text": [
      "13:16:03.594 DEBUG org.hibernate.SQL - insert into CUSTOMER (birthDate,creationDate,email,firstname,lastname,photo,status,version,ID) values (?,?,?,?,?,?,?,?,?)\n"
     ]
    },
    {
     "name": "stdout",
     "output_type": "stream",
     "text": [
      "13:16:03.594 DEBUG org.hibernate.SQL - select count(*)>0 from CUSTOMER c1_0 where c1_0.email=?\n"
     ]
    },
    {
     "name": "stdout",
     "output_type": "stream",
     "text": [
      "13:16:03.594 DEBUG org.hibernate.SQL - insert into CUSTOMER (birthDate,creationDate,email,firstname,lastname,photo,status,version,ID) values (?,?,?,?,?,?,?,?,?)\n"
     ]
    },
    {
     "name": "stdout",
     "output_type": "stream",
     "text": [
      "13:16:03.595 DEBUG org.hibernate.SQL - select count(*)>0 from CUSTOMER c1_0 where c1_0.email=?\n"
     ]
    },
    {
     "name": "stdout",
     "output_type": "stream",
     "text": [
      "13:16:03.595 DEBUG org.hibernate.SQL - insert into CUSTOMER (birthDate,creationDate,email,firstname,lastname,photo,status,version,ID) values (?,?,?,?,?,?,?,?,?)\n"
     ]
    },
    {
     "name": "stdout",
     "output_type": "stream",
     "text": [
      "13:16:03.595 DEBUG org.hibernate.SQL - select count(*)>0 from CUSTOMER c1_0 where c1_0.email=?\n"
     ]
    },
    {
     "name": "stdout",
     "output_type": "stream",
     "text": [
      "13:16:03.596 DEBUG org.hibernate.SQL - insert into CUSTOMER (birthDate,creationDate,email,firstname,lastname,photo,status,version,ID) values (?,?,?,?,?,?,?,?,?)\n"
     ]
    },
    {
     "name": "stdout",
     "output_type": "stream",
     "text": [
      "13:16:03.596 DEBUG org.hibernate.SQL - select count(*)>0 from CUSTOMER c1_0 where c1_0.email=?\n"
     ]
    },
    {
     "name": "stdout",
     "output_type": "stream",
     "text": [
      "13:16:03.596 DEBUG org.hibernate.SQL - insert into CUSTOMER (birthDate,creationDate,email,firstname,lastname,photo,status,version,ID) values (?,?,?,?,?,?,?,?,?)\n"
     ]
    },
    {
     "name": "stdout",
     "output_type": "stream",
     "text": [
      "13:16:03.597 DEBUG org.hibernate.SQL - select count(*)>0 from CUSTOMER c1_0 where c1_0.email=?\n"
     ]
    },
    {
     "name": "stdout",
     "output_type": "stream",
     "text": [
      "13:16:03.597 DEBUG org.hibernate.SQL - insert into CUSTOMER (birthDate,creationDate,email,firstname,lastname,photo,status,version,ID) values (?,?,?,?,?,?,?,?,?)\n"
     ]
    },
    {
     "name": "stdout",
     "output_type": "stream",
     "text": [
      "13:16:03.597 DEBUG org.hibernate.SQL - select count(*)>0 from CUSTOMER c1_0 where c1_0.email=?\n"
     ]
    },
    {
     "name": "stdout",
     "output_type": "stream",
     "text": [
      "13:16:03.598 DEBUG org.hibernate.SQL - insert into CUSTOMER (birthDate,creationDate,email,firstname,lastname,photo,status,version,ID) values (?,?,?,?,?,?,?,?,?)\n"
     ]
    },
    {
     "name": "stdout",
     "output_type": "stream",
     "text": [
      "13:16:03.598 DEBUG org.hibernate.SQL - select count(*)>0 from CUSTOMER c1_0 where c1_0.email=?\n"
     ]
    },
    {
     "name": "stdout",
     "output_type": "stream",
     "text": [
      "13:16:03.598 DEBUG org.hibernate.SQL - insert into CUSTOMER (birthDate,creationDate,email,firstname,lastname,photo,status,version,ID) values (?,?,?,?,?,?,?,?,?)\n"
     ]
    },
    {
     "name": "stdout",
     "output_type": "stream",
     "text": [
      "13:16:03.598 DEBUG org.hibernate.SQL - select count(*)>0 from CUSTOMER c1_0 where c1_0.email=?\n"
     ]
    },
    {
     "name": "stdout",
     "output_type": "stream",
     "text": [
      "13:16:03.599 DEBUG org.hibernate.SQL - insert into CUSTOMER (birthDate,creationDate,email,firstname,lastname,photo,status,version,ID) values (?,?,?,?,?,?,?,?,?)\n"
     ]
    },
    {
     "name": "stdout",
     "output_type": "stream",
     "text": [
      "13:16:03.599 DEBUG org.hibernate.SQL - select count(*)>0 from CUSTOMER c1_0 where c1_0.email=?\n"
     ]
    },
    {
     "name": "stdout",
     "output_type": "stream",
     "text": [
      "13:16:03.599 DEBUG org.hibernate.SQL - insert into CUSTOMER (birthDate,creationDate,email,firstname,lastname,photo,status,version,ID) values (?,?,?,?,?,?,?,?,?)\n"
     ]
    },
    {
     "name": "stdout",
     "output_type": "stream",
     "text": [
      "13:16:03.600 DEBUG org.hibernate.SQL - select count(*)>0 from CUSTOMER c1_0 where c1_0.email=?\n"
     ]
    },
    {
     "name": "stdout",
     "output_type": "stream",
     "text": [
      "13:16:03.600 DEBUG org.hibernate.SQL - insert into CUSTOMER (birthDate,creationDate,email,firstname,lastname,photo,status,version,ID) values (?,?,?,?,?,?,?,?,?)\n"
     ]
    },
    {
     "name": "stdout",
     "output_type": "stream",
     "text": [
      "13:16:03.600 DEBUG org.hibernate.SQL - select count(*)>0 from CUSTOMER c1_0 where c1_0.email=?\n"
     ]
    },
    {
     "name": "stdout",
     "output_type": "stream",
     "text": [
      "13:16:03.601 DEBUG org.hibernate.SQL - insert into CUSTOMER (birthDate,creationDate,email,firstname,lastname,photo,status,version,ID) values (?,?,?,?,?,?,?,?,?)\n"
     ]
    },
    {
     "name": "stdout",
     "output_type": "stream",
     "text": [
      "13:16:03.601 DEBUG org.hibernate.SQL - select count(*)>0 from CUSTOMER c1_0 where c1_0.email=?\n"
     ]
    },
    {
     "name": "stdout",
     "output_type": "stream",
     "text": [
      "13:16:03.601 DEBUG org.hibernate.SQL - insert into CUSTOMER (birthDate,creationDate,email,firstname,lastname,photo,status,version,ID) values (?,?,?,?,?,?,?,?,?)\n"
     ]
    },
    {
     "name": "stdout",
     "output_type": "stream",
     "text": [
      "13:16:03.601 DEBUG org.hibernate.SQL - select count(*)>0 from CUSTOMER c1_0 where c1_0.email=?\n"
     ]
    },
    {
     "name": "stdout",
     "output_type": "stream",
     "text": [
      "13:16:03.602 DEBUG org.hibernate.SQL - insert into CUSTOMER (birthDate,creationDate,email,firstname,lastname,photo,status,version,ID) values (?,?,?,?,?,?,?,?,?)\n"
     ]
    },
    {
     "name": "stdout",
     "output_type": "stream",
     "text": [
      "13:16:03.602 DEBUG org.hibernate.SQL - select count(*)>0 from CUSTOMER c1_0 where c1_0.email=?\n"
     ]
    },
    {
     "name": "stdout",
     "output_type": "stream",
     "text": [
      "13:16:03.602 DEBUG org.hibernate.SQL - insert into CUSTOMER (birthDate,creationDate,email,firstname,lastname,photo,status,version,ID) values (?,?,?,?,?,?,?,?,?)\n"
     ]
    },
    {
     "name": "stdout",
     "output_type": "stream",
     "text": [
      "13:16:03.603 DEBUG org.hibernate.SQL - select count(*)>0 from CUSTOMER c1_0 where c1_0.email=?\n"
     ]
    },
    {
     "name": "stdout",
     "output_type": "stream",
     "text": [
      "13:16:03.603 DEBUG org.hibernate.SQL - insert into CUSTOMER (birthDate,creationDate,email,firstname,lastname,photo,status,version,ID) values (?,?,?,?,?,?,?,?,?)\n"
     ]
    },
    {
     "name": "stdout",
     "output_type": "stream",
     "text": [
      "13:16:03.603 DEBUG org.hibernate.SQL - select count(*)>0 from CUSTOMER c1_0 where c1_0.email=?\n"
     ]
    },
    {
     "name": "stdout",
     "output_type": "stream",
     "text": [
      "13:16:03.604 DEBUG org.hibernate.SQL - insert into CUSTOMER (birthDate,creationDate,email,firstname,lastname,photo,status,version,ID) values (?,?,?,?,?,?,?,?,?)\n"
     ]
    },
    {
     "name": "stdout",
     "output_type": "stream",
     "text": [
      "13:16:03.604 DEBUG org.hibernate.SQL - select count(*)>0 from CUSTOMER c1_0 where c1_0.email=?\n"
     ]
    },
    {
     "name": "stdout",
     "output_type": "stream",
     "text": [
      "13:16:03.604 DEBUG org.hibernate.SQL - insert into CUSTOMER (birthDate,creationDate,email,firstname,lastname,photo,status,version,ID) values (?,?,?,?,?,?,?,?,?)\n"
     ]
    },
    {
     "name": "stdout",
     "output_type": "stream",
     "text": [
      "13:16:03.604 DEBUG org.hibernate.SQL - select count(*)>0 from CUSTOMER c1_0 where c1_0.email=?\n"
     ]
    },
    {
     "name": "stdout",
     "output_type": "stream",
     "text": [
      "13:16:03.605 DEBUG org.hibernate.SQL - insert into CUSTOMER (birthDate,creationDate,email,firstname,lastname,photo,status,version,ID) values (?,?,?,?,?,?,?,?,?)\n"
     ]
    },
    {
     "name": "stdout",
     "output_type": "stream",
     "text": [
      "13:16:03.605 DEBUG org.hibernate.SQL - select count(*)>0 from CUSTOMER c1_0 where c1_0.email=?\n"
     ]
    },
    {
     "name": "stdout",
     "output_type": "stream",
     "text": [
      "13:16:03.606 DEBUG org.hibernate.SQL - insert into CUSTOMER (birthDate,creationDate,email,firstname,lastname,photo,status,version,ID) values (?,?,?,?,?,?,?,?,?)\n"
     ]
    },
    {
     "name": "stdout",
     "output_type": "stream",
     "text": [
      "13:16:03.606 DEBUG org.hibernate.SQL - select count(*)>0 from CUSTOMER c1_0 where c1_0.email=?\n"
     ]
    },
    {
     "name": "stdout",
     "output_type": "stream",
     "text": [
      "13:16:03.606 DEBUG org.hibernate.SQL - insert into CUSTOMER (birthDate,creationDate,email,firstname,lastname,photo,status,version,ID) values (?,?,?,?,?,?,?,?,?)\n"
     ]
    },
    {
     "name": "stdout",
     "output_type": "stream",
     "text": [
      "13:16:03.606 DEBUG org.hibernate.SQL - select count(*)>0 from CUSTOMER c1_0 where c1_0.email=?\n"
     ]
    },
    {
     "name": "stdout",
     "output_type": "stream",
     "text": [
      "13:16:03.607 DEBUG org.hibernate.SQL - insert into CUSTOMER (birthDate,creationDate,email,firstname,lastname,photo,status,version,ID) values (?,?,?,?,?,?,?,?,?)\n"
     ]
    },
    {
     "name": "stdout",
     "output_type": "stream",
     "text": [
      "13:16:03.607 DEBUG org.hibernate.SQL - select count(*)>0 from CUSTOMER c1_0 where c1_0.email=?\n"
     ]
    },
    {
     "name": "stdout",
     "output_type": "stream",
     "text": [
      "13:16:03.607 DEBUG org.hibernate.SQL - insert into CUSTOMER (birthDate,creationDate,email,firstname,lastname,photo,status,version,ID) values (?,?,?,?,?,?,?,?,?)\n"
     ]
    },
    {
     "name": "stdout",
     "output_type": "stream",
     "text": [
      "13:16:03.608 DEBUG org.hibernate.SQL - select count(*)>0 from CUSTOMER c1_0 where c1_0.email=?\n"
     ]
    },
    {
     "name": "stdout",
     "output_type": "stream",
     "text": [
      "13:16:03.608 DEBUG org.hibernate.SQL - insert into CUSTOMER (birthDate,creationDate,email,firstname,lastname,photo,status,version,ID) values (?,?,?,?,?,?,?,?,?)\n"
     ]
    },
    {
     "name": "stdout",
     "output_type": "stream",
     "text": [
      "13:16:03.608 DEBUG org.hibernate.SQL - select count(*)>0 from CUSTOMER c1_0 where c1_0.email=?\n"
     ]
    },
    {
     "name": "stdout",
     "output_type": "stream",
     "text": [
      "13:16:03.609 DEBUG org.hibernate.SQL - insert into CUSTOMER (birthDate,creationDate,email,firstname,lastname,photo,status,version,ID) values (?,?,?,?,?,?,?,?,?)\n"
     ]
    },
    {
     "name": "stdout",
     "output_type": "stream",
     "text": [
      "13:16:03.609 DEBUG org.hibernate.SQL - select count(*)>0 from CUSTOMER c1_0 where c1_0.email=?\n"
     ]
    },
    {
     "name": "stdout",
     "output_type": "stream",
     "text": [
      "13:16:03.610 DEBUG org.hibernate.SQL - insert into CUSTOMER (birthDate,creationDate,email,firstname,lastname,photo,status,version,ID) values (?,?,?,?,?,?,?,?,?)\n"
     ]
    },
    {
     "name": "stdout",
     "output_type": "stream",
     "text": [
      "13:16:03.610 DEBUG org.hibernate.SQL - select count(*)>0 from CUSTOMER c1_0 where c1_0.email=?\n"
     ]
    },
    {
     "name": "stdout",
     "output_type": "stream",
     "text": [
      "13:16:03.610 DEBUG org.hibernate.SQL - insert into CUSTOMER (birthDate,creationDate,email,firstname,lastname,photo,status,version,ID) values (?,?,?,?,?,?,?,?,?)\n"
     ]
    },
    {
     "name": "stdout",
     "output_type": "stream",
     "text": [
      "13:16:03.611 DEBUG org.hibernate.SQL - select count(*)>0 from CUSTOMER c1_0 where c1_0.email=?\n"
     ]
    },
    {
     "name": "stdout",
     "output_type": "stream",
     "text": [
      "13:16:03.611 DEBUG org.hibernate.SQL - insert into CUSTOMER (birthDate,creationDate,email,firstname,lastname,photo,status,version,ID) values (?,?,?,?,?,?,?,?,?)\n"
     ]
    },
    {
     "name": "stdout",
     "output_type": "stream",
     "text": [
      "13:16:03.611 DEBUG org.hibernate.SQL - select count(*)>0 from CUSTOMER c1_0 where c1_0.email=?\n"
     ]
    },
    {
     "name": "stdout",
     "output_type": "stream",
     "text": [
      "13:16:03.612 DEBUG org.hibernate.SQL - insert into CUSTOMER (birthDate,creationDate,email,firstname,lastname,photo,status,version,ID) values (?,?,?,?,?,?,?,?,?)\n"
     ]
    },
    {
     "name": "stdout",
     "output_type": "stream",
     "text": [
      "13:16:03.612 DEBUG org.hibernate.SQL - select count(*)>0 from CUSTOMER c1_0 where c1_0.email=?\n"
     ]
    },
    {
     "name": "stdout",
     "output_type": "stream",
     "text": [
      "13:16:03.612 DEBUG org.hibernate.SQL - select nextval('CUSTOMER_SEQ')\n"
     ]
    },
    {
     "name": "stdout",
     "output_type": "stream",
     "text": [
      "13:16:03.613 DEBUG org.hibernate.SQL - insert into CUSTOMER (birthDate,creationDate,email,firstname,lastname,photo,status,version,ID) values (?,?,?,?,?,?,?,?,?)\n"
     ]
    },
    {
     "name": "stdout",
     "output_type": "stream",
     "text": [
      "13:16:03.613 DEBUG org.hibernate.SQL - select count(*)>0 from CUSTOMER c1_0 where c1_0.email=?\n"
     ]
    },
    {
     "name": "stdout",
     "output_type": "stream",
     "text": [
      "13:16:03.614 DEBUG org.hibernate.SQL - insert into CUSTOMER (birthDate,creationDate,email,firstname,lastname,photo,status,version,ID) values (?,?,?,?,?,?,?,?,?)\n"
     ]
    },
    {
     "name": "stdout",
     "output_type": "stream",
     "text": [
      "13:16:03.614 DEBUG org.hibernate.SQL - select count(*)>0 from CUSTOMER c1_0 where c1_0.email=?\n"
     ]
    },
    {
     "name": "stdout",
     "output_type": "stream",
     "text": [
      "13:16:03.614 DEBUG org.hibernate.SQL - insert into CUSTOMER (birthDate,creationDate,email,firstname,lastname,photo,status,version,ID) values (?,?,?,?,?,?,?,?,?)\n"
     ]
    },
    {
     "name": "stdout",
     "output_type": "stream",
     "text": [
      "13:16:03.615 DEBUG org.hibernate.SQL - select count(*)>0 from CUSTOMER c1_0 where c1_0.email=?\n"
     ]
    },
    {
     "name": "stdout",
     "output_type": "stream",
     "text": [
      "13:16:03.615 DEBUG org.hibernate.SQL - insert into CUSTOMER (birthDate,creationDate,email,firstname,lastname,photo,status,version,ID) values (?,?,?,?,?,?,?,?,?)\n"
     ]
    },
    {
     "name": "stdout",
     "output_type": "stream",
     "text": [
      "13:16:03.615 DEBUG org.hibernate.SQL - select count(*)>0 from CUSTOMER c1_0 where c1_0.email=?\n"
     ]
    },
    {
     "name": "stdout",
     "output_type": "stream",
     "text": [
      "13:16:03.616 DEBUG org.hibernate.SQL - insert into CUSTOMER (birthDate,creationDate,email,firstname,lastname,photo,status,version,ID) values (?,?,?,?,?,?,?,?,?)\n"
     ]
    },
    {
     "name": "stdout",
     "output_type": "stream",
     "text": [
      "13:16:03.616 DEBUG org.hibernate.SQL - select count(*)>0 from CUSTOMER c1_0 where c1_0.email=?\n"
     ]
    },
    {
     "name": "stdout",
     "output_type": "stream",
     "text": [
      "13:16:03.616 DEBUG org.hibernate.SQL - insert into CUSTOMER (birthDate,creationDate,email,firstname,lastname,photo,status,version,ID) values (?,?,?,?,?,?,?,?,?)\n"
     ]
    },
    {
     "name": "stdout",
     "output_type": "stream",
     "text": [
      "13:16:03.617 DEBUG org.hibernate.SQL - select count(*)>0 from CUSTOMER c1_0 where c1_0.email=?\n"
     ]
    },
    {
     "name": "stdout",
     "output_type": "stream",
     "text": [
      "13:16:03.617 DEBUG org.hibernate.SQL - insert into CUSTOMER (birthDate,creationDate,email,firstname,lastname,photo,status,version,ID) values (?,?,?,?,?,?,?,?,?)\n"
     ]
    },
    {
     "name": "stdout",
     "output_type": "stream",
     "text": [
      "13:16:03.617 DEBUG org.hibernate.SQL - select count(*)>0 from CUSTOMER c1_0 where c1_0.email=?\n"
     ]
    },
    {
     "name": "stdout",
     "output_type": "stream",
     "text": [
      "13:16:03.618 DEBUG org.hibernate.SQL - insert into CUSTOMER (birthDate,creationDate,email,firstname,lastname,photo,status,version,ID) values (?,?,?,?,?,?,?,?,?)\n"
     ]
    },
    {
     "name": "stdout",
     "output_type": "stream",
     "text": [
      "13:16:03.618 DEBUG org.hibernate.SQL - select count(*)>0 from CUSTOMER c1_0 where c1_0.email=?\n"
     ]
    },
    {
     "name": "stdout",
     "output_type": "stream",
     "text": [
      "13:16:03.618 DEBUG org.hibernate.SQL - insert into CUSTOMER (birthDate,creationDate,email,firstname,lastname,photo,status,version,ID) values (?,?,?,?,?,?,?,?,?)\n"
     ]
    },
    {
     "name": "stdout",
     "output_type": "stream",
     "text": [
      "13:16:03.618 DEBUG org.hibernate.SQL - select count(*)>0 from CUSTOMER c1_0 where c1_0.email=?\n"
     ]
    },
    {
     "name": "stdout",
     "output_type": "stream",
     "text": [
      "13:16:03.619 DEBUG org.hibernate.SQL - insert into CUSTOMER (birthDate,creationDate,email,firstname,lastname,photo,status,version,ID) values (?,?,?,?,?,?,?,?,?)\n"
     ]
    },
    {
     "name": "stdout",
     "output_type": "stream",
     "text": [
      "13:16:03.619 DEBUG org.hibernate.SQL - select count(*)>0 from CUSTOMER c1_0 where c1_0.email=?\n"
     ]
    },
    {
     "name": "stdout",
     "output_type": "stream",
     "text": [
      "13:16:03.620 DEBUG org.hibernate.SQL - insert into CUSTOMER (birthDate,creationDate,email,firstname,lastname,photo,status,version,ID) values (?,?,?,?,?,?,?,?,?)\n"
     ]
    },
    {
     "name": "stdout",
     "output_type": "stream",
     "text": [
      "13:16:03.620 DEBUG org.hibernate.SQL - select count(*)>0 from CUSTOMER c1_0 where c1_0.email=?\n"
     ]
    },
    {
     "name": "stdout",
     "output_type": "stream",
     "text": [
      "13:16:03.620 DEBUG org.hibernate.SQL - insert into CUSTOMER (birthDate,creationDate,email,firstname,lastname,photo,status,version,ID) values (?,?,?,?,?,?,?,?,?)\n"
     ]
    },
    {
     "name": "stdout",
     "output_type": "stream",
     "text": [
      "13:16:03.621 DEBUG org.hibernate.SQL - select count(*)>0 from CUSTOMER c1_0 where c1_0.email=?\n"
     ]
    },
    {
     "name": "stdout",
     "output_type": "stream",
     "text": [
      "13:16:03.621 DEBUG org.hibernate.SQL - insert into CUSTOMER (birthDate,creationDate,email,firstname,lastname,photo,status,version,ID) values (?,?,?,?,?,?,?,?,?)\n"
     ]
    },
    {
     "name": "stdout",
     "output_type": "stream",
     "text": [
      "13:16:03.621 DEBUG org.hibernate.SQL - select count(*)>0 from CUSTOMER c1_0 where c1_0.email=?\n"
     ]
    },
    {
     "name": "stdout",
     "output_type": "stream",
     "text": [
      "13:16:03.622 DEBUG org.hibernate.SQL - insert into CUSTOMER (birthDate,creationDate,email,firstname,lastname,photo,status,version,ID) values (?,?,?,?,?,?,?,?,?)\n"
     ]
    },
    {
     "name": "stdout",
     "output_type": "stream",
     "text": [
      "13:16:03.622 DEBUG org.hibernate.SQL - select count(*)>0 from CUSTOMER c1_0 where c1_0.email=?\n"
     ]
    },
    {
     "name": "stdout",
     "output_type": "stream",
     "text": [
      "13:16:03.622 DEBUG org.hibernate.SQL - insert into CUSTOMER (birthDate,creationDate,email,firstname,lastname,photo,status,version,ID) values (?,?,?,?,?,?,?,?,?)\n"
     ]
    },
    {
     "name": "stdout",
     "output_type": "stream",
     "text": [
      "13:16:03.623 DEBUG org.hibernate.SQL - select count(*)>0 from CUSTOMER c1_0 where c1_0.email=?\n"
     ]
    },
    {
     "name": "stdout",
     "output_type": "stream",
     "text": [
      "13:16:03.627 DEBUG org.hibernate.SQL - insert into CUSTOMER (birthDate,creationDate,email,firstname,lastname,photo,status,version,ID) values (?,?,?,?,?,?,?,?,?)\n"
     ]
    },
    {
     "name": "stdout",
     "output_type": "stream",
     "text": [
      "13:16:03.628 DEBUG org.hibernate.SQL - select count(*)>0 from CUSTOMER c1_0 where c1_0.email=?\n"
     ]
    },
    {
     "name": "stdout",
     "output_type": "stream",
     "text": [
      "13:16:03.628 DEBUG org.hibernate.SQL - insert into CUSTOMER (birthDate,creationDate,email,firstname,lastname,photo,status,version,ID) values (?,?,?,?,?,?,?,?,?)\n"
     ]
    },
    {
     "name": "stdout",
     "output_type": "stream",
     "text": [
      "13:16:03.629 DEBUG org.hibernate.SQL - select count(*)>0 from CUSTOMER c1_0 where c1_0.email=?\n"
     ]
    },
    {
     "name": "stdout",
     "output_type": "stream",
     "text": [
      "13:16:03.629 DEBUG org.hibernate.SQL - insert into CUSTOMER (birthDate,creationDate,email,firstname,lastname,photo,status,version,ID) values (?,?,?,?,?,?,?,?,?)\n"
     ]
    },
    {
     "name": "stdout",
     "output_type": "stream",
     "text": [
      "13:16:03.629 DEBUG org.hibernate.SQL - select count(*)>0 from CUSTOMER c1_0 where c1_0.email=?\n"
     ]
    },
    {
     "name": "stdout",
     "output_type": "stream",
     "text": [
      "13:16:03.630 DEBUG org.hibernate.SQL - insert into CUSTOMER (birthDate,creationDate,email,firstname,lastname,photo,status,version,ID) values (?,?,?,?,?,?,?,?,?)\n"
     ]
    },
    {
     "name": "stdout",
     "output_type": "stream",
     "text": [
      "13:16:03.630 DEBUG org.hibernate.SQL - select count(*)>0 from CUSTOMER c1_0 where c1_0.email=?\n"
     ]
    },
    {
     "name": "stdout",
     "output_type": "stream",
     "text": [
      "13:16:03.630 DEBUG org.hibernate.SQL - insert into CUSTOMER (birthDate,creationDate,email,firstname,lastname,photo,status,version,ID) values (?,?,?,?,?,?,?,?,?)\n"
     ]
    },
    {
     "name": "stdout",
     "output_type": "stream",
     "text": [
      "13:16:03.630 DEBUG org.hibernate.SQL - select count(*)>0 from CUSTOMER c1_0 where c1_0.email=?\n"
     ]
    },
    {
     "name": "stdout",
     "output_type": "stream",
     "text": [
      "13:16:03.631 DEBUG org.hibernate.SQL - insert into CUSTOMER (birthDate,creationDate,email,firstname,lastname,photo,status,version,ID) values (?,?,?,?,?,?,?,?,?)\n"
     ]
    },
    {
     "name": "stdout",
     "output_type": "stream",
     "text": [
      "13:16:03.631 DEBUG org.hibernate.SQL - select count(*)>0 from CUSTOMER c1_0 where c1_0.email=?\n"
     ]
    },
    {
     "name": "stdout",
     "output_type": "stream",
     "text": [
      "13:16:03.631 DEBUG org.hibernate.SQL - insert into CUSTOMER (birthDate,creationDate,email,firstname,lastname,photo,status,version,ID) values (?,?,?,?,?,?,?,?,?)\n"
     ]
    },
    {
     "name": "stdout",
     "output_type": "stream",
     "text": [
      "13:16:03.632 DEBUG org.hibernate.SQL - select count(*)>0 from CUSTOMER c1_0 where c1_0.email=?\n"
     ]
    },
    {
     "name": "stdout",
     "output_type": "stream",
     "text": [
      "13:16:03.632 DEBUG org.hibernate.SQL - insert into CUSTOMER (birthDate,creationDate,email,firstname,lastname,photo,status,version,ID) values (?,?,?,?,?,?,?,?,?)\n"
     ]
    },
    {
     "name": "stdout",
     "output_type": "stream",
     "text": [
      "13:16:03.632 DEBUG org.hibernate.SQL - select count(*)>0 from CUSTOMER c1_0 where c1_0.email=?\n"
     ]
    },
    {
     "name": "stdout",
     "output_type": "stream",
     "text": [
      "13:16:03.632 DEBUG org.hibernate.SQL - insert into CUSTOMER (birthDate,creationDate,email,firstname,lastname,photo,status,version,ID) values (?,?,?,?,?,?,?,?,?)\n"
     ]
    },
    {
     "name": "stdout",
     "output_type": "stream",
     "text": [
      "13:16:03.633 DEBUG org.hibernate.SQL - select count(*)>0 from CUSTOMER c1_0 where c1_0.email=?\n"
     ]
    },
    {
     "name": "stdout",
     "output_type": "stream",
     "text": [
      "13:16:03.633 DEBUG org.hibernate.SQL - insert into CUSTOMER (birthDate,creationDate,email,firstname,lastname,photo,status,version,ID) values (?,?,?,?,?,?,?,?,?)\n"
     ]
    },
    {
     "name": "stdout",
     "output_type": "stream",
     "text": [
      "13:16:03.633 DEBUG org.hibernate.SQL - select count(*)>0 from CUSTOMER c1_0 where c1_0.email=?\n"
     ]
    },
    {
     "name": "stdout",
     "output_type": "stream",
     "text": [
      "13:16:03.633 DEBUG org.hibernate.SQL - insert into CUSTOMER (birthDate,creationDate,email,firstname,lastname,photo,status,version,ID) values (?,?,?,?,?,?,?,?,?)\n"
     ]
    },
    {
     "name": "stdout",
     "output_type": "stream",
     "text": [
      "13:16:03.634 DEBUG org.hibernate.SQL - select count(*)>0 from CUSTOMER c1_0 where c1_0.email=?\n"
     ]
    },
    {
     "name": "stdout",
     "output_type": "stream",
     "text": [
      "13:16:03.634 DEBUG org.hibernate.SQL - insert into CUSTOMER (birthDate,creationDate,email,firstname,lastname,photo,status,version,ID) values (?,?,?,?,?,?,?,?,?)\n"
     ]
    },
    {
     "name": "stdout",
     "output_type": "stream",
     "text": [
      "13:16:03.634 DEBUG org.hibernate.SQL - select count(*)>0 from CUSTOMER c1_0 where c1_0.email=?\n"
     ]
    },
    {
     "name": "stdout",
     "output_type": "stream",
     "text": [
      "13:16:03.635 DEBUG org.hibernate.SQL - insert into CUSTOMER (birthDate,creationDate,email,firstname,lastname,photo,status,version,ID) values (?,?,?,?,?,?,?,?,?)\n"
     ]
    },
    {
     "name": "stdout",
     "output_type": "stream",
     "text": [
      "13:16:03.635 DEBUG org.hibernate.SQL - select count(*)>0 from CUSTOMER c1_0 where c1_0.email=?\n"
     ]
    },
    {
     "name": "stdout",
     "output_type": "stream",
     "text": [
      "13:16:03.635 DEBUG org.hibernate.SQL - insert into CUSTOMER (birthDate,creationDate,email,firstname,lastname,photo,status,version,ID) values (?,?,?,?,?,?,?,?,?)\n"
     ]
    },
    {
     "name": "stdout",
     "output_type": "stream",
     "text": [
      "13:16:03.635 DEBUG org.hibernate.SQL - select count(*)>0 from CUSTOMER c1_0 where c1_0.email=?\n"
     ]
    },
    {
     "name": "stdout",
     "output_type": "stream",
     "text": [
      "13:16:03.636 DEBUG org.hibernate.SQL - insert into CUSTOMER (birthDate,creationDate,email,firstname,lastname,photo,status,version,ID) values (?,?,?,?,?,?,?,?,?)\n"
     ]
    },
    {
     "name": "stdout",
     "output_type": "stream",
     "text": [
      "13:16:03.636 DEBUG org.hibernate.SQL - select count(*)>0 from CUSTOMER c1_0 where c1_0.email=?\n"
     ]
    },
    {
     "name": "stdout",
     "output_type": "stream",
     "text": [
      "13:16:03.636 DEBUG org.hibernate.SQL - insert into CUSTOMER (birthDate,creationDate,email,firstname,lastname,photo,status,version,ID) values (?,?,?,?,?,?,?,?,?)\n"
     ]
    },
    {
     "name": "stdout",
     "output_type": "stream",
     "text": [
      "13:16:03.636 DEBUG org.hibernate.SQL - select count(*)>0 from CUSTOMER c1_0 where c1_0.email=?\n"
     ]
    },
    {
     "name": "stdout",
     "output_type": "stream",
     "text": [
      "13:16:03.637 DEBUG org.hibernate.SQL - insert into CUSTOMER (birthDate,creationDate,email,firstname,lastname,photo,status,version,ID) values (?,?,?,?,?,?,?,?,?)\n"
     ]
    },
    {
     "name": "stdout",
     "output_type": "stream",
     "text": [
      "13:16:03.637 DEBUG org.hibernate.SQL - select count(*)>0 from CUSTOMER c1_0 where c1_0.email=?\n"
     ]
    },
    {
     "name": "stdout",
     "output_type": "stream",
     "text": [
      "13:16:03.637 DEBUG org.hibernate.SQL - insert into CUSTOMER (birthDate,creationDate,email,firstname,lastname,photo,status,version,ID) values (?,?,?,?,?,?,?,?,?)\n"
     ]
    },
    {
     "name": "stdout",
     "output_type": "stream",
     "text": [
      "13:16:03.637 DEBUG org.hibernate.SQL - select count(*)>0 from CUSTOMER c1_0 where c1_0.email=?\n"
     ]
    },
    {
     "name": "stdout",
     "output_type": "stream",
     "text": [
      "13:16:03.638 DEBUG org.hibernate.SQL - insert into CUSTOMER (birthDate,creationDate,email,firstname,lastname,photo,status,version,ID) values (?,?,?,?,?,?,?,?,?)\n"
     ]
    },
    {
     "name": "stdout",
     "output_type": "stream",
     "text": [
      "13:16:03.638 DEBUG org.hibernate.SQL - select count(*)>0 from CUSTOMER c1_0 where c1_0.email=?\n"
     ]
    },
    {
     "name": "stdout",
     "output_type": "stream",
     "text": [
      "13:16:03.638 DEBUG org.hibernate.SQL - insert into CUSTOMER (birthDate,creationDate,email,firstname,lastname,photo,status,version,ID) values (?,?,?,?,?,?,?,?,?)\n"
     ]
    },
    {
     "name": "stdout",
     "output_type": "stream",
     "text": [
      "13:16:03.639 DEBUG org.hibernate.SQL - select count(*)>0 from CUSTOMER c1_0 where c1_0.email=?\n"
     ]
    },
    {
     "name": "stdout",
     "output_type": "stream",
     "text": [
      "13:16:03.639 DEBUG org.hibernate.SQL - insert into CUSTOMER (birthDate,creationDate,email,firstname,lastname,photo,status,version,ID) values (?,?,?,?,?,?,?,?,?)\n"
     ]
    },
    {
     "name": "stdout",
     "output_type": "stream",
     "text": [
      "13:16:03.639 DEBUG org.hibernate.SQL - select count(*)>0 from CUSTOMER c1_0 where c1_0.email=?\n"
     ]
    },
    {
     "name": "stdout",
     "output_type": "stream",
     "text": [
      "13:16:03.639 DEBUG org.hibernate.SQL - insert into CUSTOMER (birthDate,creationDate,email,firstname,lastname,photo,status,version,ID) values (?,?,?,?,?,?,?,?,?)\n"
     ]
    },
    {
     "name": "stdout",
     "output_type": "stream",
     "text": [
      "13:16:03.640 DEBUG org.hibernate.SQL - select count(*)>0 from CUSTOMER c1_0 where c1_0.email=?\n"
     ]
    },
    {
     "name": "stdout",
     "output_type": "stream",
     "text": [
      "13:16:03.640 DEBUG org.hibernate.SQL - insert into CUSTOMER (birthDate,creationDate,email,firstname,lastname,photo,status,version,ID) values (?,?,?,?,?,?,?,?,?)\n"
     ]
    },
    {
     "name": "stdout",
     "output_type": "stream",
     "text": [
      "13:16:03.640 DEBUG org.hibernate.SQL - select count(*)>0 from CUSTOMER c1_0 where c1_0.email=?\n"
     ]
    },
    {
     "name": "stdout",
     "output_type": "stream",
     "text": [
      "13:16:03.641 DEBUG org.hibernate.SQL - insert into CUSTOMER (birthDate,creationDate,email,firstname,lastname,photo,status,version,ID) values (?,?,?,?,?,?,?,?,?)\n"
     ]
    },
    {
     "name": "stdout",
     "output_type": "stream",
     "text": [
      "13:16:03.641 DEBUG org.hibernate.SQL - select count(*)>0 from CUSTOMER c1_0 where c1_0.email=?\n"
     ]
    },
    {
     "name": "stdout",
     "output_type": "stream",
     "text": [
      "13:16:03.641 DEBUG org.hibernate.SQL - insert into CUSTOMER (birthDate,creationDate,email,firstname,lastname,photo,status,version,ID) values (?,?,?,?,?,?,?,?,?)\n"
     ]
    },
    {
     "name": "stdout",
     "output_type": "stream",
     "text": [
      "13:16:03.641 DEBUG org.hibernate.SQL - select count(*)>0 from CUSTOMER c1_0 where c1_0.email=?\n"
     ]
    },
    {
     "name": "stdout",
     "output_type": "stream",
     "text": [
      "13:16:03.642 DEBUG org.hibernate.SQL - insert into CUSTOMER (birthDate,creationDate,email,firstname,lastname,photo,status,version,ID) values (?,?,?,?,?,?,?,?,?)\n"
     ]
    },
    {
     "name": "stdout",
     "output_type": "stream",
     "text": [
      "13:16:03.642 DEBUG org.hibernate.SQL - select count(*)>0 from CUSTOMER c1_0 where c1_0.email=?\n"
     ]
    },
    {
     "name": "stdout",
     "output_type": "stream",
     "text": [
      "13:16:03.642 DEBUG org.hibernate.SQL - insert into CUSTOMER (birthDate,creationDate,email,firstname,lastname,photo,status,version,ID) values (?,?,?,?,?,?,?,?,?)\n"
     ]
    },
    {
     "name": "stdout",
     "output_type": "stream",
     "text": [
      "13:16:03.642 DEBUG org.hibernate.SQL - select count(*)>0 from CUSTOMER c1_0 where c1_0.email=?\n"
     ]
    },
    {
     "name": "stdout",
     "output_type": "stream",
     "text": [
      "13:16:03.643 DEBUG org.hibernate.SQL - insert into CUSTOMER (birthDate,creationDate,email,firstname,lastname,photo,status,version,ID) values (?,?,?,?,?,?,?,?,?)\n"
     ]
    },
    {
     "name": "stdout",
     "output_type": "stream",
     "text": [
      "13:16:03.643 DEBUG org.hibernate.SQL - select count(*)>0 from CUSTOMER c1_0 where c1_0.email=?\n"
     ]
    },
    {
     "name": "stdout",
     "output_type": "stream",
     "text": [
      "13:16:03.643 DEBUG org.hibernate.SQL - insert into CUSTOMER (birthDate,creationDate,email,firstname,lastname,photo,status,version,ID) values (?,?,?,?,?,?,?,?,?)\n"
     ]
    },
    {
     "name": "stdout",
     "output_type": "stream",
     "text": [
      "13:16:03.643 DEBUG org.hibernate.SQL - select count(*)>0 from CUSTOMER c1_0 where c1_0.email=?\n"
     ]
    },
    {
     "name": "stdout",
     "output_type": "stream",
     "text": [
      "13:16:03.644 DEBUG org.hibernate.SQL - insert into CUSTOMER (birthDate,creationDate,email,firstname,lastname,photo,status,version,ID) values (?,?,?,?,?,?,?,?,?)\n"
     ]
    },
    {
     "name": "stdout",
     "output_type": "stream",
     "text": [
      "13:16:03.644 DEBUG org.hibernate.SQL - select count(*)>0 from CUSTOMER c1_0 where c1_0.email=?\n"
     ]
    },
    {
     "name": "stdout",
     "output_type": "stream",
     "text": [
      "13:16:03.644 DEBUG org.hibernate.SQL - insert into CUSTOMER (birthDate,creationDate,email,firstname,lastname,photo,status,version,ID) values (?,?,?,?,?,?,?,?,?)\n"
     ]
    },
    {
     "name": "stdout",
     "output_type": "stream",
     "text": [
      "13:16:03.644 DEBUG org.hibernate.SQL - select count(*)>0 from CUSTOMER c1_0 where c1_0.email=?\n"
     ]
    },
    {
     "name": "stdout",
     "output_type": "stream",
     "text": [
      "13:16:03.645 DEBUG org.hibernate.SQL - insert into CUSTOMER (birthDate,creationDate,email,firstname,lastname,photo,status,version,ID) values (?,?,?,?,?,?,?,?,?)\n"
     ]
    },
    {
     "name": "stdout",
     "output_type": "stream",
     "text": [
      "13:16:03.645 DEBUG org.hibernate.SQL - select count(*)>0 from CUSTOMER c1_0 where c1_0.email=?\n"
     ]
    },
    {
     "name": "stdout",
     "output_type": "stream",
     "text": [
      "13:16:03.645 DEBUG org.hibernate.SQL - insert into CUSTOMER (birthDate,creationDate,email,firstname,lastname,photo,status,version,ID) values (?,?,?,?,?,?,?,?,?)\n"
     ]
    },
    {
     "name": "stdout",
     "output_type": "stream",
     "text": [
      "13:16:03.645 DEBUG org.hibernate.SQL - select count(*)>0 from CUSTOMER c1_0 where c1_0.email=?\n"
     ]
    },
    {
     "name": "stdout",
     "output_type": "stream",
     "text": [
      "13:16:03.646 DEBUG org.hibernate.SQL - insert into CUSTOMER (birthDate,creationDate,email,firstname,lastname,photo,status,version,ID) values (?,?,?,?,?,?,?,?,?)\n"
     ]
    },
    {
     "name": "stdout",
     "output_type": "stream",
     "text": [
      "13:16:03.646 DEBUG org.hibernate.SQL - select count(*)>0 from CUSTOMER c1_0 where c1_0.email=?\n"
     ]
    },
    {
     "name": "stdout",
     "output_type": "stream",
     "text": [
      "13:16:03.646 DEBUG org.hibernate.SQL - insert into CUSTOMER (birthDate,creationDate,email,firstname,lastname,photo,status,version,ID) values (?,?,?,?,?,?,?,?,?)\n"
     ]
    },
    {
     "name": "stdout",
     "output_type": "stream",
     "text": [
      "13:16:03.646 DEBUG org.hibernate.SQL - select count(*)>0 from CUSTOMER c1_0 where c1_0.email=?\n"
     ]
    },
    {
     "name": "stdout",
     "output_type": "stream",
     "text": [
      "13:16:03.647 DEBUG org.hibernate.SQL - select nextval('CUSTOMER_SEQ')\n"
     ]
    },
    {
     "name": "stdout",
     "output_type": "stream",
     "text": [
      "13:16:03.647 DEBUG org.hibernate.SQL - insert into CUSTOMER (birthDate,creationDate,email,firstname,lastname,photo,status,version,ID) values (?,?,?,?,?,?,?,?,?)\n"
     ]
    },
    {
     "name": "stdout",
     "output_type": "stream",
     "text": [
      "13:16:03.647 DEBUG org.hibernate.SQL - select count(*)>0 from CUSTOMER c1_0 where c1_0.email=?\n"
     ]
    },
    {
     "name": "stdout",
     "output_type": "stream",
     "text": [
      "13:16:03.648 DEBUG org.hibernate.SQL - insert into CUSTOMER (birthDate,creationDate,email,firstname,lastname,photo,status,version,ID) values (?,?,?,?,?,?,?,?,?)\n"
     ]
    },
    {
     "name": "stdout",
     "output_type": "stream",
     "text": [
      "13:16:03.648 DEBUG org.hibernate.SQL - select count(*)>0 from CUSTOMER c1_0 where c1_0.email=?\n"
     ]
    },
    {
     "name": "stdout",
     "output_type": "stream",
     "text": [
      "13:16:03.648 DEBUG org.hibernate.SQL - insert into CUSTOMER (birthDate,creationDate,email,firstname,lastname,photo,status,version,ID) values (?,?,?,?,?,?,?,?,?)\n"
     ]
    },
    {
     "name": "stdout",
     "output_type": "stream",
     "text": [
      "13:16:03.648 DEBUG org.hibernate.SQL - select count(*)>0 from CUSTOMER c1_0 where c1_0.email=?\n"
     ]
    },
    {
     "name": "stdout",
     "output_type": "stream",
     "text": [
      "13:16:03.649 DEBUG org.hibernate.SQL - insert into CUSTOMER (birthDate,creationDate,email,firstname,lastname,photo,status,version,ID) values (?,?,?,?,?,?,?,?,?)\n"
     ]
    },
    {
     "name": "stdout",
     "output_type": "stream",
     "text": [
      "13:16:03.649 DEBUG org.hibernate.SQL - select count(*)>0 from CUSTOMER c1_0 where c1_0.email=?\n"
     ]
    },
    {
     "name": "stdout",
     "output_type": "stream",
     "text": [
      "13:16:03.650 DEBUG org.hibernate.SQL - insert into CUSTOMER (birthDate,creationDate,email,firstname,lastname,photo,status,version,ID) values (?,?,?,?,?,?,?,?,?)\n"
     ]
    },
    {
     "name": "stdout",
     "output_type": "stream",
     "text": [
      "13:16:03.650 DEBUG org.hibernate.SQL - select count(*)>0 from CUSTOMER c1_0 where c1_0.email=?\n"
     ]
    },
    {
     "name": "stdout",
     "output_type": "stream",
     "text": [
      "13:16:03.651 DEBUG org.hibernate.SQL - insert into CUSTOMER (birthDate,creationDate,email,firstname,lastname,photo,status,version,ID) values (?,?,?,?,?,?,?,?,?)\n"
     ]
    },
    {
     "name": "stdout",
     "output_type": "stream",
     "text": [
      "13:16:03.652 DEBUG org.hibernate.SQL - select count(*)>0 from CUSTOMER c1_0 where c1_0.email=?\n"
     ]
    },
    {
     "name": "stdout",
     "output_type": "stream",
     "text": [
      "13:16:03.652 DEBUG org.hibernate.SQL - insert into CUSTOMER (birthDate,creationDate,email,firstname,lastname,photo,status,version,ID) values (?,?,?,?,?,?,?,?,?)\n"
     ]
    },
    {
     "name": "stdout",
     "output_type": "stream",
     "text": [
      "13:16:03.653 DEBUG org.hibernate.SQL - select count(*)>0 from CUSTOMER c1_0 where c1_0.email=?\n"
     ]
    },
    {
     "name": "stdout",
     "output_type": "stream",
     "text": [
      "13:16:03.653 DEBUG org.hibernate.SQL - insert into CUSTOMER (birthDate,creationDate,email,firstname,lastname,photo,status,version,ID) values (?,?,?,?,?,?,?,?,?)\n"
     ]
    },
    {
     "name": "stdout",
     "output_type": "stream",
     "text": [
      "13:16:03.654 DEBUG org.hibernate.SQL - select count(*)>0 from CUSTOMER c1_0 where c1_0.email=?\n"
     ]
    },
    {
     "name": "stdout",
     "output_type": "stream",
     "text": [
      "13:16:03.655 DEBUG org.hibernate.SQL - insert into CUSTOMER (birthDate,creationDate,email,firstname,lastname,photo,status,version,ID) values (?,?,?,?,?,?,?,?,?)\n"
     ]
    },
    {
     "name": "stdout",
     "output_type": "stream",
     "text": [
      "13:16:03.656 DEBUG org.hibernate.SQL - select count(*)>0 from CUSTOMER c1_0 where c1_0.email=?\n"
     ]
    },
    {
     "name": "stdout",
     "output_type": "stream",
     "text": [
      "13:16:03.658 DEBUG org.hibernate.SQL - insert into CUSTOMER (birthDate,creationDate,email,firstname,lastname,photo,status,version,ID) values (?,?,?,?,?,?,?,?,?)\n"
     ]
    },
    {
     "name": "stdout",
     "output_type": "stream",
     "text": [
      "13:16:03.658 DEBUG org.hibernate.SQL - select count(*)>0 from CUSTOMER c1_0 where c1_0.email=?\n"
     ]
    },
    {
     "name": "stdout",
     "output_type": "stream",
     "text": [
      "13:16:03.659 DEBUG org.hibernate.SQL - insert into CUSTOMER (birthDate,creationDate,email,firstname,lastname,photo,status,version,ID) values (?,?,?,?,?,?,?,?,?)\n"
     ]
    },
    {
     "name": "stdout",
     "output_type": "stream",
     "text": [
      "13:16:03.659 DEBUG org.hibernate.SQL - select count(*)>0 from CUSTOMER c1_0 where c1_0.email=?\n"
     ]
    },
    {
     "name": "stdout",
     "output_type": "stream",
     "text": [
      "13:16:03.660 DEBUG org.hibernate.SQL - insert into CUSTOMER (birthDate,creationDate,email,firstname,lastname,photo,status,version,ID) values (?,?,?,?,?,?,?,?,?)\n"
     ]
    },
    {
     "name": "stdout",
     "output_type": "stream",
     "text": [
      "13:16:03.660 DEBUG org.hibernate.SQL - select count(*)>0 from CUSTOMER c1_0 where c1_0.email=?\n"
     ]
    },
    {
     "name": "stdout",
     "output_type": "stream",
     "text": [
      "13:16:03.660 DEBUG org.hibernate.SQL - insert into CUSTOMER (birthDate,creationDate,email,firstname,lastname,photo,status,version,ID) values (?,?,?,?,?,?,?,?,?)\n"
     ]
    },
    {
     "name": "stdout",
     "output_type": "stream",
     "text": [
      "13:16:03.660 DEBUG org.hibernate.SQL - select count(*)>0 from CUSTOMER c1_0 where c1_0.email=?\n"
     ]
    },
    {
     "name": "stdout",
     "output_type": "stream",
     "text": [
      "13:16:03.661 DEBUG org.hibernate.SQL - insert into CUSTOMER (birthDate,creationDate,email,firstname,lastname,photo,status,version,ID) values (?,?,?,?,?,?,?,?,?)\n"
     ]
    },
    {
     "name": "stdout",
     "output_type": "stream",
     "text": [
      "13:16:03.661 DEBUG org.hibernate.SQL - select count(*)>0 from CUSTOMER c1_0 where c1_0.email=?\n"
     ]
    },
    {
     "name": "stdout",
     "output_type": "stream",
     "text": [
      "13:16:03.662 DEBUG org.hibernate.SQL - insert into CUSTOMER (birthDate,creationDate,email,firstname,lastname,photo,status,version,ID) values (?,?,?,?,?,?,?,?,?)\n"
     ]
    },
    {
     "name": "stdout",
     "output_type": "stream",
     "text": [
      "13:16:03.662 DEBUG org.hibernate.SQL - select count(*)>0 from CUSTOMER c1_0 where c1_0.email=?\n"
     ]
    },
    {
     "name": "stdout",
     "output_type": "stream",
     "text": [
      "13:16:03.662 DEBUG org.hibernate.SQL - insert into CUSTOMER (birthDate,creationDate,email,firstname,lastname,photo,status,version,ID) values (?,?,?,?,?,?,?,?,?)\n"
     ]
    },
    {
     "name": "stdout",
     "output_type": "stream",
     "text": [
      "13:16:03.663 DEBUG org.hibernate.SQL - select count(*)>0 from CUSTOMER c1_0 where c1_0.email=?\n"
     ]
    },
    {
     "name": "stdout",
     "output_type": "stream",
     "text": [
      "13:16:03.663 DEBUG org.hibernate.SQL - insert into CUSTOMER (birthDate,creationDate,email,firstname,lastname,photo,status,version,ID) values (?,?,?,?,?,?,?,?,?)\n"
     ]
    },
    {
     "name": "stdout",
     "output_type": "stream",
     "text": [
      "13:16:03.664 DEBUG org.hibernate.SQL - select count(*)>0 from CUSTOMER c1_0 where c1_0.email=?\n"
     ]
    },
    {
     "name": "stdout",
     "output_type": "stream",
     "text": [
      "13:16:03.664 DEBUG org.hibernate.SQL - insert into CUSTOMER (birthDate,creationDate,email,firstname,lastname,photo,status,version,ID) values (?,?,?,?,?,?,?,?,?)\n"
     ]
    },
    {
     "name": "stdout",
     "output_type": "stream",
     "text": [
      "13:16:03.664 DEBUG org.hibernate.SQL - select count(*)>0 from CUSTOMER c1_0 where c1_0.email=?\n"
     ]
    },
    {
     "name": "stdout",
     "output_type": "stream",
     "text": [
      "13:16:03.665 DEBUG org.hibernate.SQL - insert into CUSTOMER (birthDate,creationDate,email,firstname,lastname,photo,status,version,ID) values (?,?,?,?,?,?,?,?,?)\n"
     ]
    },
    {
     "name": "stdout",
     "output_type": "stream",
     "text": [
      "13:16:03.665 DEBUG org.hibernate.SQL - select count(*)>0 from CUSTOMER c1_0 where c1_0.email=?\n"
     ]
    },
    {
     "name": "stdout",
     "output_type": "stream",
     "text": [
      "13:16:03.666 DEBUG org.hibernate.SQL - insert into CUSTOMER (birthDate,creationDate,email,firstname,lastname,photo,status,version,ID) values (?,?,?,?,?,?,?,?,?)\n"
     ]
    },
    {
     "name": "stdout",
     "output_type": "stream",
     "text": [
      "13:16:03.666 DEBUG org.hibernate.SQL - select count(*)>0 from CUSTOMER c1_0 where c1_0.email=?\n"
     ]
    },
    {
     "name": "stdout",
     "output_type": "stream",
     "text": [
      "13:16:03.666 DEBUG org.hibernate.SQL - insert into CUSTOMER (birthDate,creationDate,email,firstname,lastname,photo,status,version,ID) values (?,?,?,?,?,?,?,?,?)\n"
     ]
    },
    {
     "name": "stdout",
     "output_type": "stream",
     "text": [
      "13:16:03.667 DEBUG org.hibernate.SQL - select count(*)>0 from CUSTOMER c1_0 where c1_0.email=?\n"
     ]
    },
    {
     "name": "stdout",
     "output_type": "stream",
     "text": [
      "13:16:03.667 DEBUG org.hibernate.SQL - insert into CUSTOMER (birthDate,creationDate,email,firstname,lastname,photo,status,version,ID) values (?,?,?,?,?,?,?,?,?)\n"
     ]
    },
    {
     "name": "stdout",
     "output_type": "stream",
     "text": [
      "13:16:03.667 DEBUG org.hibernate.SQL - select count(*)>0 from CUSTOMER c1_0 where c1_0.email=?\n"
     ]
    },
    {
     "name": "stdout",
     "output_type": "stream",
     "text": [
      "13:16:03.668 DEBUG org.hibernate.SQL - insert into CUSTOMER (birthDate,creationDate,email,firstname,lastname,photo,status,version,ID) values (?,?,?,?,?,?,?,?,?)\n"
     ]
    },
    {
     "name": "stdout",
     "output_type": "stream",
     "text": [
      "13:16:03.668 DEBUG org.hibernate.SQL - select count(*)>0 from CUSTOMER c1_0 where c1_0.email=?\n"
     ]
    },
    {
     "name": "stdout",
     "output_type": "stream",
     "text": [
      "13:16:03.668 DEBUG org.hibernate.SQL - insert into CUSTOMER (birthDate,creationDate,email,firstname,lastname,photo,status,version,ID) values (?,?,?,?,?,?,?,?,?)\n"
     ]
    },
    {
     "name": "stdout",
     "output_type": "stream",
     "text": [
      "13:16:03.669 DEBUG org.hibernate.SQL - select count(*)>0 from CUSTOMER c1_0 where c1_0.email=?\n"
     ]
    },
    {
     "name": "stdout",
     "output_type": "stream",
     "text": [
      "13:16:03.669 DEBUG org.hibernate.SQL - insert into CUSTOMER (birthDate,creationDate,email,firstname,lastname,photo,status,version,ID) values (?,?,?,?,?,?,?,?,?)\n"
     ]
    },
    {
     "name": "stdout",
     "output_type": "stream",
     "text": [
      "13:16:03.669 DEBUG org.hibernate.SQL - select count(*)>0 from CUSTOMER c1_0 where c1_0.email=?\n"
     ]
    },
    {
     "name": "stdout",
     "output_type": "stream",
     "text": [
      "13:16:03.670 DEBUG org.hibernate.SQL - insert into CUSTOMER (birthDate,creationDate,email,firstname,lastname,photo,status,version,ID) values (?,?,?,?,?,?,?,?,?)\n"
     ]
    },
    {
     "name": "stdout",
     "output_type": "stream",
     "text": [
      "13:16:03.670 DEBUG org.hibernate.SQL - select count(*)>0 from CUSTOMER c1_0 where c1_0.email=?\n"
     ]
    },
    {
     "name": "stdout",
     "output_type": "stream",
     "text": [
      "13:16:03.671 DEBUG org.hibernate.SQL - insert into CUSTOMER (birthDate,creationDate,email,firstname,lastname,photo,status,version,ID) values (?,?,?,?,?,?,?,?,?)\n"
     ]
    },
    {
     "name": "stdout",
     "output_type": "stream",
     "text": [
      "13:16:03.671 DEBUG org.hibernate.SQL - select count(*)>0 from CUSTOMER c1_0 where c1_0.email=?\n"
     ]
    },
    {
     "name": "stdout",
     "output_type": "stream",
     "text": [
      "13:16:03.671 DEBUG org.hibernate.SQL - insert into CUSTOMER (birthDate,creationDate,email,firstname,lastname,photo,status,version,ID) values (?,?,?,?,?,?,?,?,?)\n"
     ]
    },
    {
     "name": "stdout",
     "output_type": "stream",
     "text": [
      "13:16:03.671 DEBUG org.hibernate.SQL - select count(*)>0 from CUSTOMER c1_0 where c1_0.email=?\n"
     ]
    },
    {
     "name": "stdout",
     "output_type": "stream",
     "text": [
      "13:16:03.672 DEBUG org.hibernate.SQL - insert into CUSTOMER (birthDate,creationDate,email,firstname,lastname,photo,status,version,ID) values (?,?,?,?,?,?,?,?,?)\n"
     ]
    },
    {
     "name": "stdout",
     "output_type": "stream",
     "text": [
      "13:16:03.672 DEBUG org.hibernate.SQL - select count(*)>0 from CUSTOMER c1_0 where c1_0.email=?\n"
     ]
    },
    {
     "name": "stdout",
     "output_type": "stream",
     "text": [
      "13:16:03.673 DEBUG org.hibernate.SQL - insert into CUSTOMER (birthDate,creationDate,email,firstname,lastname,photo,status,version,ID) values (?,?,?,?,?,?,?,?,?)\n"
     ]
    },
    {
     "name": "stdout",
     "output_type": "stream",
     "text": [
      "13:16:03.673 DEBUG org.hibernate.SQL - select count(*)>0 from CUSTOMER c1_0 where c1_0.email=?\n"
     ]
    },
    {
     "name": "stdout",
     "output_type": "stream",
     "text": [
      "13:16:03.674 DEBUG org.hibernate.SQL - insert into CUSTOMER (birthDate,creationDate,email,firstname,lastname,photo,status,version,ID) values (?,?,?,?,?,?,?,?,?)\n"
     ]
    },
    {
     "name": "stdout",
     "output_type": "stream",
     "text": [
      "13:16:03.674 DEBUG org.hibernate.SQL - select count(*)>0 from CUSTOMER c1_0 where c1_0.email=?\n"
     ]
    },
    {
     "name": "stdout",
     "output_type": "stream",
     "text": [
      "13:16:03.674 DEBUG org.hibernate.SQL - insert into CUSTOMER (birthDate,creationDate,email,firstname,lastname,photo,status,version,ID) values (?,?,?,?,?,?,?,?,?)\n"
     ]
    },
    {
     "name": "stdout",
     "output_type": "stream",
     "text": [
      "13:16:03.675 DEBUG org.hibernate.SQL - select count(*)>0 from CUSTOMER c1_0 where c1_0.email=?\n"
     ]
    },
    {
     "name": "stdout",
     "output_type": "stream",
     "text": [
      "13:16:03.675 DEBUG org.hibernate.SQL - insert into CUSTOMER (birthDate,creationDate,email,firstname,lastname,photo,status,version,ID) values (?,?,?,?,?,?,?,?,?)\n"
     ]
    },
    {
     "name": "stdout",
     "output_type": "stream",
     "text": [
      "13:16:03.675 DEBUG org.hibernate.SQL - select count(*)>0 from CUSTOMER c1_0 where c1_0.email=?\n"
     ]
    },
    {
     "name": "stdout",
     "output_type": "stream",
     "text": [
      "13:16:03.676 DEBUG org.hibernate.SQL - insert into CUSTOMER (birthDate,creationDate,email,firstname,lastname,photo,status,version,ID) values (?,?,?,?,?,?,?,?,?)\n"
     ]
    },
    {
     "name": "stdout",
     "output_type": "stream",
     "text": [
      "13:16:03.676 DEBUG org.hibernate.SQL - select count(*)>0 from CUSTOMER c1_0 where c1_0.email=?\n"
     ]
    },
    {
     "name": "stdout",
     "output_type": "stream",
     "text": [
      "13:16:03.677 DEBUG org.hibernate.SQL - insert into CUSTOMER (birthDate,creationDate,email,firstname,lastname,photo,status,version,ID) values (?,?,?,?,?,?,?,?,?)\n"
     ]
    },
    {
     "name": "stdout",
     "output_type": "stream",
     "text": [
      "13:16:03.677 DEBUG org.hibernate.SQL - select count(*)>0 from CUSTOMER c1_0 where c1_0.email=?\n"
     ]
    },
    {
     "name": "stdout",
     "output_type": "stream",
     "text": [
      "13:16:03.677 DEBUG org.hibernate.SQL - insert into CUSTOMER (birthDate,creationDate,email,firstname,lastname,photo,status,version,ID) values (?,?,?,?,?,?,?,?,?)\n"
     ]
    },
    {
     "name": "stdout",
     "output_type": "stream",
     "text": [
      "13:16:03.678 DEBUG org.hibernate.SQL - select count(*)>0 from CUSTOMER c1_0 where c1_0.email=?\n"
     ]
    },
    {
     "name": "stdout",
     "output_type": "stream",
     "text": [
      "13:16:03.678 DEBUG org.hibernate.SQL - insert into CUSTOMER (birthDate,creationDate,email,firstname,lastname,photo,status,version,ID) values (?,?,?,?,?,?,?,?,?)\n"
     ]
    },
    {
     "name": "stdout",
     "output_type": "stream",
     "text": [
      "13:16:03.678 DEBUG org.hibernate.SQL - select count(*)>0 from CUSTOMER c1_0 where c1_0.email=?\n"
     ]
    },
    {
     "name": "stdout",
     "output_type": "stream",
     "text": [
      "13:16:03.679 DEBUG org.hibernate.SQL - insert into CUSTOMER (birthDate,creationDate,email,firstname,lastname,photo,status,version,ID) values (?,?,?,?,?,?,?,?,?)\n"
     ]
    },
    {
     "name": "stdout",
     "output_type": "stream",
     "text": [
      "13:16:03.679 DEBUG org.hibernate.SQL - select count(*)>0 from CUSTOMER c1_0 where c1_0.email=?\n"
     ]
    },
    {
     "name": "stdout",
     "output_type": "stream",
     "text": [
      "13:16:03.680 DEBUG org.hibernate.SQL - insert into CUSTOMER (birthDate,creationDate,email,firstname,lastname,photo,status,version,ID) values (?,?,?,?,?,?,?,?,?)\n"
     ]
    },
    {
     "name": "stdout",
     "output_type": "stream",
     "text": [
      "13:16:03.680 DEBUG org.hibernate.SQL - select count(*)>0 from CUSTOMER c1_0 where c1_0.email=?\n"
     ]
    },
    {
     "name": "stdout",
     "output_type": "stream",
     "text": [
      "13:16:03.680 DEBUG org.hibernate.SQL - insert into CUSTOMER (birthDate,creationDate,email,firstname,lastname,photo,status,version,ID) values (?,?,?,?,?,?,?,?,?)\n"
     ]
    },
    {
     "name": "stdout",
     "output_type": "stream",
     "text": [
      "13:16:03.681 DEBUG org.hibernate.SQL - select count(*)>0 from CUSTOMER c1_0 where c1_0.email=?\n"
     ]
    },
    {
     "name": "stdout",
     "output_type": "stream",
     "text": [
      "13:16:03.681 DEBUG org.hibernate.SQL - insert into CUSTOMER (birthDate,creationDate,email,firstname,lastname,photo,status,version,ID) values (?,?,?,?,?,?,?,?,?)\n"
     ]
    },
    {
     "name": "stdout",
     "output_type": "stream",
     "text": [
      "13:16:03.681 DEBUG org.hibernate.SQL - select count(*)>0 from CUSTOMER c1_0 where c1_0.email=?\n"
     ]
    },
    {
     "name": "stdout",
     "output_type": "stream",
     "text": [
      "13:16:03.682 DEBUG org.hibernate.SQL - insert into CUSTOMER (birthDate,creationDate,email,firstname,lastname,photo,status,version,ID) values (?,?,?,?,?,?,?,?,?)\n"
     ]
    },
    {
     "name": "stdout",
     "output_type": "stream",
     "text": [
      "13:16:03.682 DEBUG org.hibernate.SQL - select count(*)>0 from CUSTOMER c1_0 where c1_0.email=?\n"
     ]
    },
    {
     "name": "stdout",
     "output_type": "stream",
     "text": [
      "13:16:03.682 DEBUG org.hibernate.SQL - insert into CUSTOMER (birthDate,creationDate,email,firstname,lastname,photo,status,version,ID) values (?,?,?,?,?,?,?,?,?)\n"
     ]
    },
    {
     "name": "stdout",
     "output_type": "stream",
     "text": [
      "13:16:03.683 DEBUG org.hibernate.SQL - select count(*)>0 from CUSTOMER c1_0 where c1_0.email=?\n"
     ]
    },
    {
     "name": "stdout",
     "output_type": "stream",
     "text": [
      "13:16:03.683 DEBUG org.hibernate.SQL - insert into CUSTOMER (birthDate,creationDate,email,firstname,lastname,photo,status,version,ID) values (?,?,?,?,?,?,?,?,?)\n"
     ]
    },
    {
     "name": "stdout",
     "output_type": "stream",
     "text": [
      "13:16:03.683 DEBUG org.hibernate.SQL - select count(*)>0 from CUSTOMER c1_0 where c1_0.email=?\n"
     ]
    },
    {
     "name": "stdout",
     "output_type": "stream",
     "text": [
      "13:16:03.684 DEBUG org.hibernate.SQL - insert into CUSTOMER (birthDate,creationDate,email,firstname,lastname,photo,status,version,ID) values (?,?,?,?,?,?,?,?,?)\n"
     ]
    },
    {
     "name": "stdout",
     "output_type": "stream",
     "text": [
      "13:16:03.684 DEBUG org.hibernate.SQL - select count(*)>0 from CUSTOMER c1_0 where c1_0.email=?\n"
     ]
    },
    {
     "name": "stdout",
     "output_type": "stream",
     "text": [
      "13:16:03.685 DEBUG org.hibernate.SQL - insert into CUSTOMER (birthDate,creationDate,email,firstname,lastname,photo,status,version,ID) values (?,?,?,?,?,?,?,?,?)\n"
     ]
    },
    {
     "name": "stdout",
     "output_type": "stream",
     "text": [
      "13:16:03.685 DEBUG org.hibernate.SQL - select count(*)>0 from CUSTOMER c1_0 where c1_0.email=?\n"
     ]
    },
    {
     "name": "stdout",
     "output_type": "stream",
     "text": [
      "13:16:03.685 DEBUG org.hibernate.SQL - insert into CUSTOMER (birthDate,creationDate,email,firstname,lastname,photo,status,version,ID) values (?,?,?,?,?,?,?,?,?)\n"
     ]
    },
    {
     "name": "stdout",
     "output_type": "stream",
     "text": [
      "13:16:03.685 DEBUG org.hibernate.SQL - select count(*)>0 from CUSTOMER c1_0 where c1_0.email=?\n"
     ]
    },
    {
     "name": "stdout",
     "output_type": "stream",
     "text": [
      "13:16:03.686 DEBUG org.hibernate.SQL - insert into CUSTOMER (birthDate,creationDate,email,firstname,lastname,photo,status,version,ID) values (?,?,?,?,?,?,?,?,?)\n"
     ]
    },
    {
     "name": "stdout",
     "output_type": "stream",
     "text": [
      "13:16:03.686 DEBUG org.hibernate.SQL - select count(*)>0 from CUSTOMER c1_0 where c1_0.email=?\n"
     ]
    },
    {
     "name": "stdout",
     "output_type": "stream",
     "text": [
      "13:16:03.687 DEBUG org.hibernate.SQL - insert into CUSTOMER (birthDate,creationDate,email,firstname,lastname,photo,status,version,ID) values (?,?,?,?,?,?,?,?,?)\n"
     ]
    },
    {
     "name": "stdout",
     "output_type": "stream",
     "text": [
      "13:16:03.687 DEBUG org.hibernate.SQL - select count(*)>0 from CUSTOMER c1_0 where c1_0.email=?\n"
     ]
    },
    {
     "name": "stdout",
     "output_type": "stream",
     "text": [
      "13:16:03.688 DEBUG org.hibernate.SQL - insert into CUSTOMER (birthDate,creationDate,email,firstname,lastname,photo,status,version,ID) values (?,?,?,?,?,?,?,?,?)\n"
     ]
    },
    {
     "name": "stdout",
     "output_type": "stream",
     "text": [
      "13:16:03.688 DEBUG org.hibernate.SQL - select count(*)>0 from CUSTOMER c1_0 where c1_0.email=?\n"
     ]
    },
    {
     "name": "stdout",
     "output_type": "stream",
     "text": [
      "13:16:03.688 DEBUG org.hibernate.SQL - select nextval('CUSTOMER_SEQ')\n"
     ]
    },
    {
     "name": "stdout",
     "output_type": "stream",
     "text": [
      "13:16:03.689 DEBUG org.hibernate.SQL - insert into CUSTOMER (birthDate,creationDate,email,firstname,lastname,photo,status,version,ID) values (?,?,?,?,?,?,?,?,?)\n"
     ]
    },
    {
     "name": "stdout",
     "output_type": "stream",
     "text": [
      "13:16:03.689 DEBUG org.hibernate.SQL - select count(*)>0 from CUSTOMER c1_0 where c1_0.email=?\n"
     ]
    },
    {
     "name": "stdout",
     "output_type": "stream",
     "text": [
      "13:16:03.690 DEBUG org.hibernate.SQL - insert into CUSTOMER (birthDate,creationDate,email,firstname,lastname,photo,status,version,ID) values (?,?,?,?,?,?,?,?,?)\n"
     ]
    },
    {
     "name": "stdout",
     "output_type": "stream",
     "text": [
      "13:16:03.690 DEBUG org.hibernate.SQL - select count(*)>0 from CUSTOMER c1_0 where c1_0.email=?\n"
     ]
    },
    {
     "name": "stdout",
     "output_type": "stream",
     "text": [
      "13:16:03.691 DEBUG org.hibernate.SQL - insert into CUSTOMER (birthDate,creationDate,email,firstname,lastname,photo,status,version,ID) values (?,?,?,?,?,?,?,?,?)\n"
     ]
    },
    {
     "name": "stdout",
     "output_type": "stream",
     "text": [
      "13:16:03.691 DEBUG org.hibernate.SQL - select count(*)>0 from CUSTOMER c1_0 where c1_0.email=?\n"
     ]
    },
    {
     "name": "stdout",
     "output_type": "stream",
     "text": [
      "13:16:03.692 DEBUG org.hibernate.SQL - insert into CUSTOMER (birthDate,creationDate,email,firstname,lastname,photo,status,version,ID) values (?,?,?,?,?,?,?,?,?)\n"
     ]
    },
    {
     "name": "stdout",
     "output_type": "stream",
     "text": [
      "13:16:03.692 DEBUG org.hibernate.SQL - select count(*)>0 from CUSTOMER c1_0 where c1_0.email=?\n"
     ]
    },
    {
     "name": "stdout",
     "output_type": "stream",
     "text": [
      "13:16:03.692 DEBUG org.hibernate.SQL - insert into CUSTOMER (birthDate,creationDate,email,firstname,lastname,photo,status,version,ID) values (?,?,?,?,?,?,?,?,?)\n"
     ]
    },
    {
     "name": "stdout",
     "output_type": "stream",
     "text": [
      "13:16:03.693 DEBUG org.hibernate.SQL - select count(*)>0 from CUSTOMER c1_0 where c1_0.email=?\n"
     ]
    },
    {
     "name": "stdout",
     "output_type": "stream",
     "text": [
      "13:16:03.693 DEBUG org.hibernate.SQL - insert into CUSTOMER (birthDate,creationDate,email,firstname,lastname,photo,status,version,ID) values (?,?,?,?,?,?,?,?,?)\n"
     ]
    },
    {
     "name": "stdout",
     "output_type": "stream",
     "text": [
      "13:16:03.693 DEBUG org.hibernate.SQL - select count(*)>0 from CUSTOMER c1_0 where c1_0.email=?\n"
     ]
    },
    {
     "name": "stdout",
     "output_type": "stream",
     "text": [
      "13:16:03.694 DEBUG org.hibernate.SQL - insert into CUSTOMER (birthDate,creationDate,email,firstname,lastname,photo,status,version,ID) values (?,?,?,?,?,?,?,?,?)\n"
     ]
    },
    {
     "name": "stdout",
     "output_type": "stream",
     "text": [
      "13:16:03.694 DEBUG org.hibernate.SQL - select count(*)>0 from CUSTOMER c1_0 where c1_0.email=?\n"
     ]
    },
    {
     "name": "stdout",
     "output_type": "stream",
     "text": [
      "13:16:03.695 DEBUG org.hibernate.SQL - insert into CUSTOMER (birthDate,creationDate,email,firstname,lastname,photo,status,version,ID) values (?,?,?,?,?,?,?,?,?)\n"
     ]
    },
    {
     "name": "stdout",
     "output_type": "stream",
     "text": [
      "13:16:03.695 DEBUG org.hibernate.SQL - select count(*)>0 from CUSTOMER c1_0 where c1_0.email=?\n"
     ]
    },
    {
     "name": "stdout",
     "output_type": "stream",
     "text": [
      "13:16:03.695 DEBUG org.hibernate.SQL - insert into CUSTOMER (birthDate,creationDate,email,firstname,lastname,photo,status,version,ID) values (?,?,?,?,?,?,?,?,?)\n"
     ]
    },
    {
     "name": "stdout",
     "output_type": "stream",
     "text": [
      "13:16:03.695 DEBUG org.hibernate.SQL - select count(*)>0 from CUSTOMER c1_0 where c1_0.email=?\n"
     ]
    },
    {
     "name": "stdout",
     "output_type": "stream",
     "text": [
      "13:16:03.696 DEBUG org.hibernate.SQL - insert into CUSTOMER (birthDate,creationDate,email,firstname,lastname,photo,status,version,ID) values (?,?,?,?,?,?,?,?,?)\n"
     ]
    },
    {
     "name": "stdout",
     "output_type": "stream",
     "text": [
      "13:16:03.696 DEBUG org.hibernate.SQL - select count(*)>0 from CUSTOMER c1_0 where c1_0.email=?\n"
     ]
    },
    {
     "name": "stdout",
     "output_type": "stream",
     "text": [
      "13:16:03.697 DEBUG org.hibernate.SQL - insert into CUSTOMER (birthDate,creationDate,email,firstname,lastname,photo,status,version,ID) values (?,?,?,?,?,?,?,?,?)\n"
     ]
    },
    {
     "name": "stdout",
     "output_type": "stream",
     "text": [
      "13:16:03.697 DEBUG org.hibernate.SQL - select count(*)>0 from CUSTOMER c1_0 where c1_0.email=?\n"
     ]
    },
    {
     "name": "stdout",
     "output_type": "stream",
     "text": [
      "13:16:03.697 DEBUG org.hibernate.SQL - insert into CUSTOMER (birthDate,creationDate,email,firstname,lastname,photo,status,version,ID) values (?,?,?,?,?,?,?,?,?)\n"
     ]
    },
    {
     "name": "stdout",
     "output_type": "stream",
     "text": [
      "13:16:03.697 DEBUG org.hibernate.SQL - select count(*)>0 from CUSTOMER c1_0 where c1_0.email=?\n"
     ]
    },
    {
     "name": "stdout",
     "output_type": "stream",
     "text": [
      "13:16:03.698 DEBUG org.hibernate.SQL - insert into CUSTOMER (birthDate,creationDate,email,firstname,lastname,photo,status,version,ID) values (?,?,?,?,?,?,?,?,?)\n"
     ]
    },
    {
     "name": "stdout",
     "output_type": "stream",
     "text": [
      "13:16:03.698 DEBUG org.hibernate.SQL - select count(*)>0 from CUSTOMER c1_0 where c1_0.email=?\n"
     ]
    },
    {
     "name": "stdout",
     "output_type": "stream",
     "text": [
      "13:16:03.699 DEBUG org.hibernate.SQL - insert into CUSTOMER (birthDate,creationDate,email,firstname,lastname,photo,status,version,ID) values (?,?,?,?,?,?,?,?,?)\n"
     ]
    },
    {
     "name": "stdout",
     "output_type": "stream",
     "text": [
      "13:16:03.699 DEBUG org.hibernate.SQL - select count(*)>0 from CUSTOMER c1_0 where c1_0.email=?\n"
     ]
    },
    {
     "name": "stdout",
     "output_type": "stream",
     "text": [
      "13:16:03.699 DEBUG org.hibernate.SQL - insert into CUSTOMER (birthDate,creationDate,email,firstname,lastname,photo,status,version,ID) values (?,?,?,?,?,?,?,?,?)\n"
     ]
    },
    {
     "name": "stdout",
     "output_type": "stream",
     "text": [
      "13:16:03.700 DEBUG org.hibernate.SQL - select count(*)>0 from CUSTOMER c1_0 where c1_0.email=?\n"
     ]
    },
    {
     "name": "stdout",
     "output_type": "stream",
     "text": [
      "13:16:03.700 DEBUG org.hibernate.SQL - insert into CUSTOMER (birthDate,creationDate,email,firstname,lastname,photo,status,version,ID) values (?,?,?,?,?,?,?,?,?)\n"
     ]
    },
    {
     "name": "stdout",
     "output_type": "stream",
     "text": [
      "13:16:03.701 DEBUG org.hibernate.SQL - select count(*)>0 from CUSTOMER c1_0 where c1_0.email=?\n"
     ]
    },
    {
     "name": "stdout",
     "output_type": "stream",
     "text": [
      "13:16:03.701 DEBUG org.hibernate.SQL - insert into CUSTOMER (birthDate,creationDate,email,firstname,lastname,photo,status,version,ID) values (?,?,?,?,?,?,?,?,?)\n"
     ]
    },
    {
     "name": "stdout",
     "output_type": "stream",
     "text": [
      "13:16:03.701 DEBUG org.hibernate.SQL - select count(*)>0 from CUSTOMER c1_0 where c1_0.email=?\n"
     ]
    },
    {
     "name": "stdout",
     "output_type": "stream",
     "text": [
      "13:16:03.702 DEBUG org.hibernate.SQL - insert into CUSTOMER (birthDate,creationDate,email,firstname,lastname,photo,status,version,ID) values (?,?,?,?,?,?,?,?,?)\n"
     ]
    },
    {
     "name": "stdout",
     "output_type": "stream",
     "text": [
      "13:16:03.702 DEBUG org.hibernate.SQL - select count(*)>0 from CUSTOMER c1_0 where c1_0.email=?\n"
     ]
    },
    {
     "name": "stdout",
     "output_type": "stream",
     "text": [
      "13:16:03.703 DEBUG org.hibernate.SQL - insert into CUSTOMER (birthDate,creationDate,email,firstname,lastname,photo,status,version,ID) values (?,?,?,?,?,?,?,?,?)\n"
     ]
    },
    {
     "name": "stdout",
     "output_type": "stream",
     "text": [
      "13:16:03.703 DEBUG org.hibernate.SQL - select count(*)>0 from CUSTOMER c1_0 where c1_0.email=?\n"
     ]
    },
    {
     "name": "stdout",
     "output_type": "stream",
     "text": [
      "13:16:03.704 DEBUG org.hibernate.SQL - insert into CUSTOMER (birthDate,creationDate,email,firstname,lastname,photo,status,version,ID) values (?,?,?,?,?,?,?,?,?)\n"
     ]
    },
    {
     "name": "stdout",
     "output_type": "stream",
     "text": [
      "13:16:03.704 DEBUG org.hibernate.SQL - select count(*)>0 from CUSTOMER c1_0 where c1_0.email=?\n"
     ]
    },
    {
     "name": "stdout",
     "output_type": "stream",
     "text": [
      "13:16:03.704 DEBUG org.hibernate.SQL - insert into CUSTOMER (birthDate,creationDate,email,firstname,lastname,photo,status,version,ID) values (?,?,?,?,?,?,?,?,?)\n"
     ]
    },
    {
     "name": "stdout",
     "output_type": "stream",
     "text": [
      "13:16:03.705 DEBUG org.hibernate.SQL - select count(*)>0 from CUSTOMER c1_0 where c1_0.email=?\n"
     ]
    },
    {
     "name": "stdout",
     "output_type": "stream",
     "text": [
      "13:16:03.705 DEBUG org.hibernate.SQL - insert into CUSTOMER (birthDate,creationDate,email,firstname,lastname,photo,status,version,ID) values (?,?,?,?,?,?,?,?,?)\n"
     ]
    },
    {
     "name": "stdout",
     "output_type": "stream",
     "text": [
      "13:16:03.705 DEBUG org.hibernate.SQL - select count(*)>0 from CUSTOMER c1_0 where c1_0.email=?\n"
     ]
    },
    {
     "name": "stdout",
     "output_type": "stream",
     "text": [
      "13:16:03.706 DEBUG org.hibernate.SQL - insert into CUSTOMER (birthDate,creationDate,email,firstname,lastname,photo,status,version,ID) values (?,?,?,?,?,?,?,?,?)\n"
     ]
    },
    {
     "name": "stdout",
     "output_type": "stream",
     "text": [
      "13:16:03.706 DEBUG org.hibernate.SQL - select count(*)>0 from CUSTOMER c1_0 where c1_0.email=?\n"
     ]
    },
    {
     "name": "stdout",
     "output_type": "stream",
     "text": [
      "13:16:03.706 DEBUG org.hibernate.SQL - insert into CUSTOMER (birthDate,creationDate,email,firstname,lastname,photo,status,version,ID) values (?,?,?,?,?,?,?,?,?)\n"
     ]
    },
    {
     "name": "stdout",
     "output_type": "stream",
     "text": [
      "13:16:03.707 DEBUG org.hibernate.SQL - select count(*)>0 from CUSTOMER c1_0 where c1_0.email=?\n"
     ]
    },
    {
     "name": "stdout",
     "output_type": "stream",
     "text": [
      "13:16:03.707 DEBUG org.hibernate.SQL - insert into CUSTOMER (birthDate,creationDate,email,firstname,lastname,photo,status,version,ID) values (?,?,?,?,?,?,?,?,?)\n"
     ]
    },
    {
     "name": "stdout",
     "output_type": "stream",
     "text": [
      "13:16:03.707 DEBUG org.hibernate.SQL - select count(*)>0 from CUSTOMER c1_0 where c1_0.email=?\n"
     ]
    },
    {
     "name": "stdout",
     "output_type": "stream",
     "text": [
      "13:16:03.708 DEBUG org.hibernate.SQL - insert into CUSTOMER (birthDate,creationDate,email,firstname,lastname,photo,status,version,ID) values (?,?,?,?,?,?,?,?,?)\n"
     ]
    },
    {
     "name": "stdout",
     "output_type": "stream",
     "text": [
      "13:16:03.708 DEBUG org.hibernate.SQL - select count(*)>0 from CUSTOMER c1_0 where c1_0.email=?\n"
     ]
    },
    {
     "name": "stdout",
     "output_type": "stream",
     "text": [
      "13:16:03.709 DEBUG org.hibernate.SQL - insert into CUSTOMER (birthDate,creationDate,email,firstname,lastname,photo,status,version,ID) values (?,?,?,?,?,?,?,?,?)\n"
     ]
    },
    {
     "name": "stdout",
     "output_type": "stream",
     "text": [
      "13:16:03.710 DEBUG org.hibernate.SQL - select count(*)>0 from CUSTOMER c1_0 where c1_0.email=?\n"
     ]
    },
    {
     "name": "stdout",
     "output_type": "stream",
     "text": [
      "13:16:03.711 DEBUG org.hibernate.SQL - insert into CUSTOMER (birthDate,creationDate,email,firstname,lastname,photo,status,version,ID) values (?,?,?,?,?,?,?,?,?)\n"
     ]
    },
    {
     "name": "stdout",
     "output_type": "stream",
     "text": [
      "13:16:03.712 DEBUG org.hibernate.SQL - select count(*)>0 from CUSTOMER c1_0 where c1_0.email=?\n"
     ]
    },
    {
     "name": "stdout",
     "output_type": "stream",
     "text": [
      "13:16:03.713 DEBUG org.hibernate.SQL - insert into CUSTOMER (birthDate,creationDate,email,firstname,lastname,photo,status,version,ID) values (?,?,?,?,?,?,?,?,?)\n"
     ]
    },
    {
     "name": "stdout",
     "output_type": "stream",
     "text": [
      "13:16:03.714 DEBUG org.hibernate.SQL - select count(*)>0 from CUSTOMER c1_0 where c1_0.email=?\n"
     ]
    },
    {
     "name": "stdout",
     "output_type": "stream",
     "text": [
      "13:16:03.714 DEBUG org.hibernate.SQL - insert into CUSTOMER (birthDate,creationDate,email,firstname,lastname,photo,status,version,ID) values (?,?,?,?,?,?,?,?,?)\n"
     ]
    },
    {
     "name": "stdout",
     "output_type": "stream",
     "text": [
      "13:16:03.715 DEBUG org.hibernate.SQL - select count(*)>0 from CUSTOMER c1_0 where c1_0.email=?\n"
     ]
    },
    {
     "name": "stdout",
     "output_type": "stream",
     "text": [
      "13:16:03.715 DEBUG org.hibernate.SQL - insert into CUSTOMER (birthDate,creationDate,email,firstname,lastname,photo,status,version,ID) values (?,?,?,?,?,?,?,?,?)\n"
     ]
    },
    {
     "name": "stdout",
     "output_type": "stream",
     "text": [
      "13:16:03.716 DEBUG org.hibernate.SQL - select count(*)>0 from CUSTOMER c1_0 where c1_0.email=?\n"
     ]
    },
    {
     "name": "stdout",
     "output_type": "stream",
     "text": [
      "13:16:03.716 DEBUG org.hibernate.SQL - insert into CUSTOMER (birthDate,creationDate,email,firstname,lastname,photo,status,version,ID) values (?,?,?,?,?,?,?,?,?)\n"
     ]
    },
    {
     "name": "stdout",
     "output_type": "stream",
     "text": [
      "13:16:03.716 DEBUG org.hibernate.SQL - select count(*)>0 from CUSTOMER c1_0 where c1_0.email=?\n"
     ]
    },
    {
     "name": "stdout",
     "output_type": "stream",
     "text": [
      "13:16:03.717 DEBUG org.hibernate.SQL - insert into CUSTOMER (birthDate,creationDate,email,firstname,lastname,photo,status,version,ID) values (?,?,?,?,?,?,?,?,?)\n"
     ]
    },
    {
     "name": "stdout",
     "output_type": "stream",
     "text": [
      "13:16:03.717 DEBUG org.hibernate.SQL - select count(*)>0 from CUSTOMER c1_0 where c1_0.email=?\n"
     ]
    },
    {
     "name": "stdout",
     "output_type": "stream",
     "text": [
      "13:16:03.718 DEBUG org.hibernate.SQL - insert into CUSTOMER (birthDate,creationDate,email,firstname,lastname,photo,status,version,ID) values (?,?,?,?,?,?,?,?,?)\n"
     ]
    },
    {
     "name": "stdout",
     "output_type": "stream",
     "text": [
      "13:16:03.718 DEBUG org.hibernate.SQL - select count(*)>0 from CUSTOMER c1_0 where c1_0.email=?\n"
     ]
    },
    {
     "name": "stdout",
     "output_type": "stream",
     "text": [
      "13:16:03.718 DEBUG org.hibernate.SQL - insert into CUSTOMER (birthDate,creationDate,email,firstname,lastname,photo,status,version,ID) values (?,?,?,?,?,?,?,?,?)\n"
     ]
    },
    {
     "name": "stdout",
     "output_type": "stream",
     "text": [
      "13:16:03.719 DEBUG org.hibernate.SQL - select count(*)>0 from CUSTOMER c1_0 where c1_0.email=?\n"
     ]
    },
    {
     "name": "stdout",
     "output_type": "stream",
     "text": [
      "13:16:03.719 DEBUG org.hibernate.SQL - insert into CUSTOMER (birthDate,creationDate,email,firstname,lastname,photo,status,version,ID) values (?,?,?,?,?,?,?,?,?)\n"
     ]
    },
    {
     "name": "stdout",
     "output_type": "stream",
     "text": [
      "13:16:03.719 DEBUG org.hibernate.SQL - select count(*)>0 from CUSTOMER c1_0 where c1_0.email=?\n"
     ]
    },
    {
     "name": "stdout",
     "output_type": "stream",
     "text": [
      "13:16:03.720 DEBUG org.hibernate.SQL - insert into CUSTOMER (birthDate,creationDate,email,firstname,lastname,photo,status,version,ID) values (?,?,?,?,?,?,?,?,?)\n"
     ]
    },
    {
     "name": "stdout",
     "output_type": "stream",
     "text": [
      "13:16:03.720 DEBUG org.hibernate.SQL - select count(*)>0 from CUSTOMER c1_0 where c1_0.email=?\n"
     ]
    },
    {
     "name": "stdout",
     "output_type": "stream",
     "text": [
      "13:16:03.721 DEBUG org.hibernate.SQL - insert into CUSTOMER (birthDate,creationDate,email,firstname,lastname,photo,status,version,ID) values (?,?,?,?,?,?,?,?,?)\n"
     ]
    },
    {
     "name": "stdout",
     "output_type": "stream",
     "text": [
      "13:16:03.721 DEBUG org.hibernate.SQL - select count(*)>0 from CUSTOMER c1_0 where c1_0.email=?\n"
     ]
    },
    {
     "name": "stdout",
     "output_type": "stream",
     "text": [
      "13:16:03.722 DEBUG org.hibernate.SQL - insert into CUSTOMER (birthDate,creationDate,email,firstname,lastname,photo,status,version,ID) values (?,?,?,?,?,?,?,?,?)\n"
     ]
    },
    {
     "name": "stdout",
     "output_type": "stream",
     "text": [
      "13:16:03.722 DEBUG org.hibernate.SQL - select count(*)>0 from CUSTOMER c1_0 where c1_0.email=?\n"
     ]
    },
    {
     "name": "stdout",
     "output_type": "stream",
     "text": [
      "13:16:03.723 DEBUG org.hibernate.SQL - insert into CUSTOMER (birthDate,creationDate,email,firstname,lastname,photo,status,version,ID) values (?,?,?,?,?,?,?,?,?)\n"
     ]
    },
    {
     "name": "stdout",
     "output_type": "stream",
     "text": [
      "13:16:03.723 DEBUG org.hibernate.SQL - select count(*)>0 from CUSTOMER c1_0 where c1_0.email=?\n"
     ]
    },
    {
     "name": "stdout",
     "output_type": "stream",
     "text": [
      "13:16:03.724 DEBUG org.hibernate.SQL - insert into CUSTOMER (birthDate,creationDate,email,firstname,lastname,photo,status,version,ID) values (?,?,?,?,?,?,?,?,?)\n"
     ]
    },
    {
     "name": "stdout",
     "output_type": "stream",
     "text": [
      "13:16:03.724 DEBUG org.hibernate.SQL - select count(*)>0 from CUSTOMER c1_0 where c1_0.email=?\n"
     ]
    },
    {
     "name": "stdout",
     "output_type": "stream",
     "text": [
      "13:16:03.724 DEBUG org.hibernate.SQL - insert into CUSTOMER (birthDate,creationDate,email,firstname,lastname,photo,status,version,ID) values (?,?,?,?,?,?,?,?,?)\n"
     ]
    },
    {
     "name": "stdout",
     "output_type": "stream",
     "text": [
      "13:16:03.724 DEBUG org.hibernate.SQL - select count(*)>0 from CUSTOMER c1_0 where c1_0.email=?\n"
     ]
    },
    {
     "name": "stdout",
     "output_type": "stream",
     "text": [
      "13:16:03.725 DEBUG org.hibernate.SQL - insert into CUSTOMER (birthDate,creationDate,email,firstname,lastname,photo,status,version,ID) values (?,?,?,?,?,?,?,?,?)\n"
     ]
    },
    {
     "name": "stdout",
     "output_type": "stream",
     "text": [
      "13:16:03.725 DEBUG org.hibernate.SQL - select count(*)>0 from CUSTOMER c1_0 where c1_0.email=?\n"
     ]
    },
    {
     "name": "stdout",
     "output_type": "stream",
     "text": [
      "13:16:03.726 DEBUG org.hibernate.SQL - insert into CUSTOMER (birthDate,creationDate,email,firstname,lastname,photo,status,version,ID) values (?,?,?,?,?,?,?,?,?)\n"
     ]
    },
    {
     "name": "stdout",
     "output_type": "stream",
     "text": [
      "13:16:03.726 DEBUG org.hibernate.SQL - select count(*)>0 from CUSTOMER c1_0 where c1_0.email=?\n"
     ]
    },
    {
     "name": "stdout",
     "output_type": "stream",
     "text": [
      "13:16:03.726 DEBUG org.hibernate.SQL - insert into CUSTOMER (birthDate,creationDate,email,firstname,lastname,photo,status,version,ID) values (?,?,?,?,?,?,?,?,?)\n"
     ]
    },
    {
     "name": "stdout",
     "output_type": "stream",
     "text": [
      "13:16:03.726 DEBUG org.hibernate.SQL - select count(*)>0 from CUSTOMER c1_0 where c1_0.email=?\n"
     ]
    },
    {
     "name": "stdout",
     "output_type": "stream",
     "text": [
      "13:16:03.727 DEBUG org.hibernate.SQL - insert into CUSTOMER (birthDate,creationDate,email,firstname,lastname,photo,status,version,ID) values (?,?,?,?,?,?,?,?,?)\n"
     ]
    },
    {
     "name": "stdout",
     "output_type": "stream",
     "text": [
      "13:16:03.727 DEBUG org.hibernate.SQL - select count(*)>0 from CUSTOMER c1_0 where c1_0.email=?\n"
     ]
    },
    {
     "name": "stdout",
     "output_type": "stream",
     "text": [
      "13:16:03.727 DEBUG org.hibernate.SQL - insert into CUSTOMER (birthDate,creationDate,email,firstname,lastname,photo,status,version,ID) values (?,?,?,?,?,?,?,?,?)\n"
     ]
    },
    {
     "name": "stdout",
     "output_type": "stream",
     "text": [
      "13:16:03.728 DEBUG org.hibernate.SQL - select count(*)>0 from CUSTOMER c1_0 where c1_0.email=?\n"
     ]
    },
    {
     "name": "stdout",
     "output_type": "stream",
     "text": [
      "13:16:03.728 DEBUG org.hibernate.SQL - insert into CUSTOMER (birthDate,creationDate,email,firstname,lastname,photo,status,version,ID) values (?,?,?,?,?,?,?,?,?)\n"
     ]
    },
    {
     "name": "stdout",
     "output_type": "stream",
     "text": [
      "13:16:03.728 DEBUG org.hibernate.SQL - select count(*)>0 from CUSTOMER c1_0 where c1_0.email=?\n"
     ]
    },
    {
     "name": "stdout",
     "output_type": "stream",
     "text": [
      "13:16:03.729 DEBUG org.hibernate.SQL - insert into CUSTOMER (birthDate,creationDate,email,firstname,lastname,photo,status,version,ID) values (?,?,?,?,?,?,?,?,?)\n"
     ]
    },
    {
     "name": "stdout",
     "output_type": "stream",
     "text": [
      "13:16:03.729 DEBUG org.hibernate.SQL - select count(*)>0 from CUSTOMER c1_0 where c1_0.email=?\n"
     ]
    },
    {
     "name": "stdout",
     "output_type": "stream",
     "text": [
      "13:16:03.729 DEBUG org.hibernate.SQL - insert into CUSTOMER (birthDate,creationDate,email,firstname,lastname,photo,status,version,ID) values (?,?,?,?,?,?,?,?,?)\n"
     ]
    },
    {
     "name": "stdout",
     "output_type": "stream",
     "text": [
      "13:16:03.729 DEBUG org.hibernate.SQL - select count(*)>0 from CUSTOMER c1_0 where c1_0.email=?\n"
     ]
    },
    {
     "name": "stdout",
     "output_type": "stream",
     "text": [
      "13:16:03.730 DEBUG org.hibernate.SQL - select nextval('CUSTOMER_SEQ')\n"
     ]
    },
    {
     "name": "stdout",
     "output_type": "stream",
     "text": [
      "13:16:03.730 DEBUG org.hibernate.SQL - insert into CUSTOMER (birthDate,creationDate,email,firstname,lastname,photo,status,version,ID) values (?,?,?,?,?,?,?,?,?)\n"
     ]
    },
    {
     "name": "stdout",
     "output_type": "stream",
     "text": [
      "13:16:03.730 DEBUG org.hibernate.SQL - select count(*)>0 from CUSTOMER c1_0 where c1_0.email=?\n"
     ]
    },
    {
     "name": "stdout",
     "output_type": "stream",
     "text": [
      "13:16:03.731 DEBUG org.hibernate.SQL - insert into CUSTOMER (birthDate,creationDate,email,firstname,lastname,photo,status,version,ID) values (?,?,?,?,?,?,?,?,?)\n"
     ]
    },
    {
     "name": "stdout",
     "output_type": "stream",
     "text": [
      "13:16:03.731 DEBUG org.hibernate.SQL - select count(*)>0 from CUSTOMER c1_0 where c1_0.email=?\n"
     ]
    },
    {
     "name": "stdout",
     "output_type": "stream",
     "text": [
      "13:16:03.731 DEBUG org.hibernate.SQL - insert into CUSTOMER (birthDate,creationDate,email,firstname,lastname,photo,status,version,ID) values (?,?,?,?,?,?,?,?,?)\n"
     ]
    },
    {
     "name": "stdout",
     "output_type": "stream",
     "text": [
      "13:16:03.731 DEBUG org.hibernate.SQL - select count(*)>0 from CUSTOMER c1_0 where c1_0.email=?\n"
     ]
    },
    {
     "name": "stdout",
     "output_type": "stream",
     "text": [
      "13:16:03.732 DEBUG org.hibernate.SQL - insert into CUSTOMER (birthDate,creationDate,email,firstname,lastname,photo,status,version,ID) values (?,?,?,?,?,?,?,?,?)\n"
     ]
    },
    {
     "name": "stdout",
     "output_type": "stream",
     "text": [
      "13:16:03.732 DEBUG org.hibernate.SQL - select count(*)>0 from CUSTOMER c1_0 where c1_0.email=?\n"
     ]
    },
    {
     "name": "stdout",
     "output_type": "stream",
     "text": [
      "13:16:03.732 DEBUG org.hibernate.SQL - insert into CUSTOMER (birthDate,creationDate,email,firstname,lastname,photo,status,version,ID) values (?,?,?,?,?,?,?,?,?)\n"
     ]
    },
    {
     "name": "stdout",
     "output_type": "stream",
     "text": [
      "13:16:03.733 DEBUG org.hibernate.SQL - select count(*)>0 from CUSTOMER c1_0 where c1_0.email=?\n"
     ]
    },
    {
     "name": "stdout",
     "output_type": "stream",
     "text": [
      "13:16:03.733 DEBUG org.hibernate.SQL - insert into CUSTOMER (birthDate,creationDate,email,firstname,lastname,photo,status,version,ID) values (?,?,?,?,?,?,?,?,?)\n"
     ]
    },
    {
     "name": "stdout",
     "output_type": "stream",
     "text": [
      "13:16:03.733 DEBUG org.hibernate.SQL - select count(*)>0 from CUSTOMER c1_0 where c1_0.email=?\n"
     ]
    },
    {
     "name": "stdout",
     "output_type": "stream",
     "text": [
      "13:16:03.734 DEBUG org.hibernate.SQL - insert into CUSTOMER (birthDate,creationDate,email,firstname,lastname,photo,status,version,ID) values (?,?,?,?,?,?,?,?,?)\n"
     ]
    },
    {
     "name": "stdout",
     "output_type": "stream",
     "text": [
      "13:16:03.734 DEBUG org.hibernate.SQL - select count(*)>0 from CUSTOMER c1_0 where c1_0.email=?\n"
     ]
    },
    {
     "name": "stdout",
     "output_type": "stream",
     "text": [
      "13:16:03.734 DEBUG org.hibernate.SQL - insert into CUSTOMER (birthDate,creationDate,email,firstname,lastname,photo,status,version,ID) values (?,?,?,?,?,?,?,?,?)\n"
     ]
    },
    {
     "name": "stdout",
     "output_type": "stream",
     "text": [
      "13:16:03.734 DEBUG org.hibernate.SQL - select count(*)>0 from CUSTOMER c1_0 where c1_0.email=?\n"
     ]
    },
    {
     "name": "stdout",
     "output_type": "stream",
     "text": [
      "13:16:03.735 DEBUG org.hibernate.SQL - insert into CUSTOMER (birthDate,creationDate,email,firstname,lastname,photo,status,version,ID) values (?,?,?,?,?,?,?,?,?)\n"
     ]
    },
    {
     "name": "stdout",
     "output_type": "stream",
     "text": [
      "13:16:03.735 DEBUG org.hibernate.SQL - select count(*)>0 from CUSTOMER c1_0 where c1_0.email=?\n"
     ]
    },
    {
     "name": "stdout",
     "output_type": "stream",
     "text": [
      "13:16:03.735 DEBUG org.hibernate.SQL - insert into CUSTOMER (birthDate,creationDate,email,firstname,lastname,photo,status,version,ID) values (?,?,?,?,?,?,?,?,?)\n"
     ]
    },
    {
     "name": "stdout",
     "output_type": "stream",
     "text": [
      "13:16:03.736 DEBUG org.hibernate.SQL - select count(*)>0 from CUSTOMER c1_0 where c1_0.email=?\n"
     ]
    },
    {
     "name": "stdout",
     "output_type": "stream",
     "text": [
      "13:16:03.736 DEBUG org.hibernate.SQL - insert into CUSTOMER (birthDate,creationDate,email,firstname,lastname,photo,status,version,ID) values (?,?,?,?,?,?,?,?,?)\n"
     ]
    },
    {
     "name": "stdout",
     "output_type": "stream",
     "text": [
      "13:16:03.736 DEBUG org.hibernate.SQL - select count(*)>0 from CUSTOMER c1_0 where c1_0.email=?\n"
     ]
    },
    {
     "name": "stdout",
     "output_type": "stream",
     "text": [
      "13:16:03.737 DEBUG org.hibernate.SQL - insert into CUSTOMER (birthDate,creationDate,email,firstname,lastname,photo,status,version,ID) values (?,?,?,?,?,?,?,?,?)\n"
     ]
    },
    {
     "name": "stdout",
     "output_type": "stream",
     "text": [
      "13:16:03.737 DEBUG org.hibernate.SQL - select count(*)>0 from CUSTOMER c1_0 where c1_0.email=?\n"
     ]
    },
    {
     "name": "stdout",
     "output_type": "stream",
     "text": [
      "13:16:03.737 DEBUG org.hibernate.SQL - insert into CUSTOMER (birthDate,creationDate,email,firstname,lastname,photo,status,version,ID) values (?,?,?,?,?,?,?,?,?)\n"
     ]
    },
    {
     "name": "stdout",
     "output_type": "stream",
     "text": [
      "13:16:03.737 DEBUG org.hibernate.SQL - select count(*)>0 from CUSTOMER c1_0 where c1_0.email=?\n"
     ]
    },
    {
     "name": "stdout",
     "output_type": "stream",
     "text": [
      "13:16:03.738 DEBUG org.hibernate.SQL - insert into CUSTOMER (birthDate,creationDate,email,firstname,lastname,photo,status,version,ID) values (?,?,?,?,?,?,?,?,?)\n"
     ]
    },
    {
     "name": "stdout",
     "output_type": "stream",
     "text": [
      "13:16:03.738 DEBUG org.hibernate.SQL - select count(*)>0 from CUSTOMER c1_0 where c1_0.email=?\n"
     ]
    },
    {
     "name": "stdout",
     "output_type": "stream",
     "text": [
      "13:16:03.738 DEBUG org.hibernate.SQL - insert into CUSTOMER (birthDate,creationDate,email,firstname,lastname,photo,status,version,ID) values (?,?,?,?,?,?,?,?,?)\n"
     ]
    },
    {
     "name": "stdout",
     "output_type": "stream",
     "text": [
      "13:16:03.739 DEBUG org.hibernate.SQL - select count(*)>0 from CUSTOMER c1_0 where c1_0.email=?\n"
     ]
    },
    {
     "name": "stdout",
     "output_type": "stream",
     "text": [
      "13:16:03.739 DEBUG org.hibernate.SQL - insert into CUSTOMER (birthDate,creationDate,email,firstname,lastname,photo,status,version,ID) values (?,?,?,?,?,?,?,?,?)\n"
     ]
    },
    {
     "name": "stdout",
     "output_type": "stream",
     "text": [
      "13:16:03.739 DEBUG org.hibernate.SQL - select count(*)>0 from CUSTOMER c1_0 where c1_0.email=?\n"
     ]
    },
    {
     "name": "stdout",
     "output_type": "stream",
     "text": [
      "13:16:03.740 DEBUG org.hibernate.SQL - insert into CUSTOMER (birthDate,creationDate,email,firstname,lastname,photo,status,version,ID) values (?,?,?,?,?,?,?,?,?)\n"
     ]
    },
    {
     "name": "stdout",
     "output_type": "stream",
     "text": [
      "13:16:03.740 DEBUG org.hibernate.SQL - select count(*)>0 from CUSTOMER c1_0 where c1_0.email=?\n"
     ]
    },
    {
     "name": "stdout",
     "output_type": "stream",
     "text": [
      "13:16:03.740 DEBUG org.hibernate.SQL - insert into CUSTOMER (birthDate,creationDate,email,firstname,lastname,photo,status,version,ID) values (?,?,?,?,?,?,?,?,?)\n"
     ]
    },
    {
     "name": "stdout",
     "output_type": "stream",
     "text": [
      "13:16:03.740 DEBUG org.hibernate.SQL - select count(*)>0 from CUSTOMER c1_0 where c1_0.email=?\n"
     ]
    },
    {
     "name": "stdout",
     "output_type": "stream",
     "text": [
      "13:16:03.741 DEBUG org.hibernate.SQL - insert into CUSTOMER (birthDate,creationDate,email,firstname,lastname,photo,status,version,ID) values (?,?,?,?,?,?,?,?,?)\n"
     ]
    },
    {
     "name": "stdout",
     "output_type": "stream",
     "text": [
      "13:16:03.741 DEBUG org.hibernate.SQL - select count(*)>0 from CUSTOMER c1_0 where c1_0.email=?\n"
     ]
    },
    {
     "name": "stdout",
     "output_type": "stream",
     "text": [
      "13:16:03.742 DEBUG org.hibernate.SQL - insert into CUSTOMER (birthDate,creationDate,email,firstname,lastname,photo,status,version,ID) values (?,?,?,?,?,?,?,?,?)\n"
     ]
    },
    {
     "name": "stdout",
     "output_type": "stream",
     "text": [
      "13:16:03.742 DEBUG org.hibernate.SQL - select count(*)>0 from CUSTOMER c1_0 where c1_0.email=?\n"
     ]
    },
    {
     "name": "stdout",
     "output_type": "stream",
     "text": [
      "13:16:03.742 DEBUG org.hibernate.SQL - insert into CUSTOMER (birthDate,creationDate,email,firstname,lastname,photo,status,version,ID) values (?,?,?,?,?,?,?,?,?)\n"
     ]
    },
    {
     "name": "stdout",
     "output_type": "stream",
     "text": [
      "13:16:03.742 DEBUG org.hibernate.SQL - select count(*)>0 from CUSTOMER c1_0 where c1_0.email=?\n"
     ]
    },
    {
     "name": "stdout",
     "output_type": "stream",
     "text": [
      "13:16:03.743 DEBUG org.hibernate.SQL - insert into CUSTOMER (birthDate,creationDate,email,firstname,lastname,photo,status,version,ID) values (?,?,?,?,?,?,?,?,?)\n"
     ]
    },
    {
     "name": "stdout",
     "output_type": "stream",
     "text": [
      "13:16:03.743 DEBUG org.hibernate.SQL - select count(*)>0 from CUSTOMER c1_0 where c1_0.email=?\n"
     ]
    },
    {
     "name": "stdout",
     "output_type": "stream",
     "text": [
      "13:16:03.743 DEBUG org.hibernate.SQL - insert into CUSTOMER (birthDate,creationDate,email,firstname,lastname,photo,status,version,ID) values (?,?,?,?,?,?,?,?,?)\n"
     ]
    },
    {
     "name": "stdout",
     "output_type": "stream",
     "text": [
      "13:16:03.744 DEBUG org.hibernate.SQL - select count(*)>0 from CUSTOMER c1_0 where c1_0.email=?\n"
     ]
    },
    {
     "name": "stdout",
     "output_type": "stream",
     "text": [
      "13:16:03.744 DEBUG org.hibernate.SQL - insert into CUSTOMER (birthDate,creationDate,email,firstname,lastname,photo,status,version,ID) values (?,?,?,?,?,?,?,?,?)\n"
     ]
    },
    {
     "name": "stdout",
     "output_type": "stream",
     "text": [
      "13:16:03.744 DEBUG org.hibernate.SQL - select count(*)>0 from CUSTOMER c1_0 where c1_0.email=?\n"
     ]
    },
    {
     "name": "stdout",
     "output_type": "stream",
     "text": [
      "13:16:03.745 DEBUG org.hibernate.SQL - insert into CUSTOMER (birthDate,creationDate,email,firstname,lastname,photo,status,version,ID) values (?,?,?,?,?,?,?,?,?)\n"
     ]
    },
    {
     "name": "stdout",
     "output_type": "stream",
     "text": [
      "13:16:03.745 DEBUG org.hibernate.SQL - select count(*)>0 from CUSTOMER c1_0 where c1_0.email=?\n"
     ]
    },
    {
     "name": "stdout",
     "output_type": "stream",
     "text": [
      "13:16:03.745 DEBUG org.hibernate.SQL - insert into CUSTOMER (birthDate,creationDate,email,firstname,lastname,photo,status,version,ID) values (?,?,?,?,?,?,?,?,?)\n"
     ]
    },
    {
     "name": "stdout",
     "output_type": "stream",
     "text": [
      "13:16:03.745 DEBUG org.hibernate.SQL - select count(*)>0 from CUSTOMER c1_0 where c1_0.email=?\n"
     ]
    },
    {
     "name": "stdout",
     "output_type": "stream",
     "text": [
      "13:16:03.746 DEBUG org.hibernate.SQL - insert into CUSTOMER (birthDate,creationDate,email,firstname,lastname,photo,status,version,ID) values (?,?,?,?,?,?,?,?,?)\n"
     ]
    },
    {
     "name": "stdout",
     "output_type": "stream",
     "text": [
      "13:16:03.746 DEBUG org.hibernate.SQL - select count(*)>0 from CUSTOMER c1_0 where c1_0.email=?\n"
     ]
    },
    {
     "name": "stdout",
     "output_type": "stream",
     "text": [
      "13:16:03.746 DEBUG org.hibernate.SQL - insert into CUSTOMER (birthDate,creationDate,email,firstname,lastname,photo,status,version,ID) values (?,?,?,?,?,?,?,?,?)\n"
     ]
    },
    {
     "name": "stdout",
     "output_type": "stream",
     "text": [
      "13:16:03.747 DEBUG org.hibernate.SQL - select count(*)>0 from CUSTOMER c1_0 where c1_0.email=?\n"
     ]
    },
    {
     "name": "stdout",
     "output_type": "stream",
     "text": [
      "13:16:03.747 DEBUG org.hibernate.SQL - insert into CUSTOMER (birthDate,creationDate,email,firstname,lastname,photo,status,version,ID) values (?,?,?,?,?,?,?,?,?)\n"
     ]
    },
    {
     "name": "stdout",
     "output_type": "stream",
     "text": [
      "13:16:03.747 DEBUG org.hibernate.SQL - select count(*)>0 from CUSTOMER c1_0 where c1_0.email=?\n"
     ]
    },
    {
     "name": "stdout",
     "output_type": "stream",
     "text": [
      "13:16:03.748 DEBUG org.hibernate.SQL - insert into CUSTOMER (birthDate,creationDate,email,firstname,lastname,photo,status,version,ID) values (?,?,?,?,?,?,?,?,?)\n"
     ]
    },
    {
     "name": "stdout",
     "output_type": "stream",
     "text": [
      "13:16:03.748 DEBUG org.hibernate.SQL - select count(*)>0 from CUSTOMER c1_0 where c1_0.email=?\n"
     ]
    },
    {
     "name": "stdout",
     "output_type": "stream",
     "text": [
      "13:16:03.748 DEBUG org.hibernate.SQL - insert into CUSTOMER (birthDate,creationDate,email,firstname,lastname,photo,status,version,ID) values (?,?,?,?,?,?,?,?,?)\n"
     ]
    },
    {
     "name": "stdout",
     "output_type": "stream",
     "text": [
      "13:16:03.748 DEBUG org.hibernate.SQL - select count(*)>0 from CUSTOMER c1_0 where c1_0.email=?\n"
     ]
    },
    {
     "name": "stdout",
     "output_type": "stream",
     "text": [
      "13:16:03.749 DEBUG org.hibernate.SQL - insert into CUSTOMER (birthDate,creationDate,email,firstname,lastname,photo,status,version,ID) values (?,?,?,?,?,?,?,?,?)\n"
     ]
    },
    {
     "name": "stdout",
     "output_type": "stream",
     "text": [
      "13:16:03.749 DEBUG org.hibernate.SQL - select count(*)>0 from CUSTOMER c1_0 where c1_0.email=?\n"
     ]
    },
    {
     "name": "stdout",
     "output_type": "stream",
     "text": [
      "13:16:03.750 DEBUG org.hibernate.SQL - insert into CUSTOMER (birthDate,creationDate,email,firstname,lastname,photo,status,version,ID) values (?,?,?,?,?,?,?,?,?)\n"
     ]
    },
    {
     "name": "stdout",
     "output_type": "stream",
     "text": [
      "13:16:03.750 DEBUG org.hibernate.SQL - select count(*)>0 from CUSTOMER c1_0 where c1_0.email=?\n"
     ]
    },
    {
     "name": "stdout",
     "output_type": "stream",
     "text": [
      "13:16:03.750 DEBUG org.hibernate.SQL - insert into CUSTOMER (birthDate,creationDate,email,firstname,lastname,photo,status,version,ID) values (?,?,?,?,?,?,?,?,?)\n"
     ]
    },
    {
     "name": "stdout",
     "output_type": "stream",
     "text": [
      "13:16:03.750 DEBUG org.hibernate.SQL - select count(*)>0 from CUSTOMER c1_0 where c1_0.email=?\n"
     ]
    },
    {
     "name": "stdout",
     "output_type": "stream",
     "text": [
      "13:16:03.751 DEBUG org.hibernate.SQL - insert into CUSTOMER (birthDate,creationDate,email,firstname,lastname,photo,status,version,ID) values (?,?,?,?,?,?,?,?,?)\n"
     ]
    },
    {
     "name": "stdout",
     "output_type": "stream",
     "text": [
      "13:16:03.751 DEBUG org.hibernate.SQL - select count(*)>0 from CUSTOMER c1_0 where c1_0.email=?\n"
     ]
    },
    {
     "name": "stdout",
     "output_type": "stream",
     "text": [
      "13:16:03.751 DEBUG org.hibernate.SQL - insert into CUSTOMER (birthDate,creationDate,email,firstname,lastname,photo,status,version,ID) values (?,?,?,?,?,?,?,?,?)\n"
     ]
    },
    {
     "name": "stdout",
     "output_type": "stream",
     "text": [
      "13:16:03.751 DEBUG org.hibernate.SQL - select count(*)>0 from CUSTOMER c1_0 where c1_0.email=?\n"
     ]
    },
    {
     "name": "stdout",
     "output_type": "stream",
     "text": [
      "13:16:03.752 DEBUG org.hibernate.SQL - insert into CUSTOMER (birthDate,creationDate,email,firstname,lastname,photo,status,version,ID) values (?,?,?,?,?,?,?,?,?)\n"
     ]
    },
    {
     "name": "stdout",
     "output_type": "stream",
     "text": [
      "13:16:03.752 DEBUG org.hibernate.SQL - select count(*)>0 from CUSTOMER c1_0 where c1_0.email=?\n"
     ]
    },
    {
     "name": "stdout",
     "output_type": "stream",
     "text": [
      "13:16:03.752 DEBUG org.hibernate.SQL - insert into CUSTOMER (birthDate,creationDate,email,firstname,lastname,photo,status,version,ID) values (?,?,?,?,?,?,?,?,?)\n"
     ]
    },
    {
     "name": "stdout",
     "output_type": "stream",
     "text": [
      "13:16:03.752 DEBUG org.hibernate.SQL - select count(*)>0 from CUSTOMER c1_0 where c1_0.email=?\n"
     ]
    },
    {
     "name": "stdout",
     "output_type": "stream",
     "text": [
      "13:16:03.753 DEBUG org.hibernate.SQL - insert into CUSTOMER (birthDate,creationDate,email,firstname,lastname,photo,status,version,ID) values (?,?,?,?,?,?,?,?,?)\n"
     ]
    },
    {
     "name": "stdout",
     "output_type": "stream",
     "text": [
      "13:16:03.753 DEBUG org.hibernate.SQL - select count(*)>0 from CUSTOMER c1_0 where c1_0.email=?\n"
     ]
    },
    {
     "name": "stdout",
     "output_type": "stream",
     "text": [
      "13:16:03.753 DEBUG org.hibernate.SQL - insert into CUSTOMER (birthDate,creationDate,email,firstname,lastname,photo,status,version,ID) values (?,?,?,?,?,?,?,?,?)\n"
     ]
    },
    {
     "name": "stdout",
     "output_type": "stream",
     "text": [
      "13:16:03.754 DEBUG org.hibernate.SQL - select count(*)>0 from CUSTOMER c1_0 where c1_0.email=?\n"
     ]
    },
    {
     "name": "stdout",
     "output_type": "stream",
     "text": [
      "13:16:03.754 DEBUG org.hibernate.SQL - insert into CUSTOMER (birthDate,creationDate,email,firstname,lastname,photo,status,version,ID) values (?,?,?,?,?,?,?,?,?)\n"
     ]
    },
    {
     "name": "stdout",
     "output_type": "stream",
     "text": [
      "13:16:03.754 DEBUG org.hibernate.SQL - select count(*)>0 from CUSTOMER c1_0 where c1_0.email=?\n"
     ]
    },
    {
     "name": "stdout",
     "output_type": "stream",
     "text": [
      "13:16:03.755 DEBUG org.hibernate.SQL - insert into CUSTOMER (birthDate,creationDate,email,firstname,lastname,photo,status,version,ID) values (?,?,?,?,?,?,?,?,?)\n"
     ]
    },
    {
     "name": "stdout",
     "output_type": "stream",
     "text": [
      "13:16:03.755 DEBUG org.hibernate.SQL - select count(*)>0 from CUSTOMER c1_0 where c1_0.email=?\n"
     ]
    },
    {
     "name": "stdout",
     "output_type": "stream",
     "text": [
      "13:16:03.755 DEBUG org.hibernate.SQL - insert into CUSTOMER (birthDate,creationDate,email,firstname,lastname,photo,status,version,ID) values (?,?,?,?,?,?,?,?,?)\n"
     ]
    },
    {
     "name": "stdout",
     "output_type": "stream",
     "text": [
      "13:16:03.755 DEBUG org.hibernate.SQL - select count(*)>0 from CUSTOMER c1_0 where c1_0.email=?\n"
     ]
    },
    {
     "name": "stdout",
     "output_type": "stream",
     "text": [
      "13:16:03.756 DEBUG org.hibernate.SQL - insert into CUSTOMER (birthDate,creationDate,email,firstname,lastname,photo,status,version,ID) values (?,?,?,?,?,?,?,?,?)\n"
     ]
    },
    {
     "name": "stdout",
     "output_type": "stream",
     "text": [
      "13:16:03.756 DEBUG org.hibernate.SQL - select count(*)>0 from CUSTOMER c1_0 where c1_0.email=?\n"
     ]
    },
    {
     "name": "stdout",
     "output_type": "stream",
     "text": [
      "13:16:03.756 DEBUG org.hibernate.SQL - insert into CUSTOMER (birthDate,creationDate,email,firstname,lastname,photo,status,version,ID) values (?,?,?,?,?,?,?,?,?)\n"
     ]
    },
    {
     "name": "stdout",
     "output_type": "stream",
     "text": [
      "13:16:03.757 DEBUG org.hibernate.SQL - select count(*)>0 from CUSTOMER c1_0 where c1_0.email=?\n"
     ]
    },
    {
     "name": "stdout",
     "output_type": "stream",
     "text": [
      "13:16:03.757 DEBUG org.hibernate.SQL - insert into CUSTOMER (birthDate,creationDate,email,firstname,lastname,photo,status,version,ID) values (?,?,?,?,?,?,?,?,?)\n"
     ]
    },
    {
     "name": "stdout",
     "output_type": "stream",
     "text": [
      "13:16:03.757 DEBUG org.hibernate.SQL - select count(*)>0 from CUSTOMER c1_0 where c1_0.email=?\n"
     ]
    },
    {
     "name": "stdout",
     "output_type": "stream",
     "text": [
      "13:16:03.758 DEBUG org.hibernate.SQL - insert into CUSTOMER (birthDate,creationDate,email,firstname,lastname,photo,status,version,ID) values (?,?,?,?,?,?,?,?,?)\n"
     ]
    },
    {
     "name": "stdout",
     "output_type": "stream",
     "text": [
      "13:16:03.758 DEBUG org.hibernate.SQL - select count(*)>0 from CUSTOMER c1_0 where c1_0.email=?\n"
     ]
    },
    {
     "name": "stdout",
     "output_type": "stream",
     "text": [
      "13:16:03.758 DEBUG org.hibernate.SQL - insert into CUSTOMER (birthDate,creationDate,email,firstname,lastname,photo,status,version,ID) values (?,?,?,?,?,?,?,?,?)\n"
     ]
    },
    {
     "name": "stdout",
     "output_type": "stream",
     "text": [
      "13:16:03.758 DEBUG org.hibernate.SQL - select count(*)>0 from CUSTOMER c1_0 where c1_0.email=?\n"
     ]
    },
    {
     "name": "stdout",
     "output_type": "stream",
     "text": [
      "13:16:03.759 DEBUG org.hibernate.SQL - insert into CUSTOMER (birthDate,creationDate,email,firstname,lastname,photo,status,version,ID) values (?,?,?,?,?,?,?,?,?)\n"
     ]
    },
    {
     "name": "stdout",
     "output_type": "stream",
     "text": [
      "13:16:03.759 DEBUG org.hibernate.SQL - select count(*)>0 from CUSTOMER c1_0 where c1_0.email=?\n"
     ]
    },
    {
     "name": "stdout",
     "output_type": "stream",
     "text": [
      "13:16:03.760 DEBUG org.hibernate.SQL - insert into CUSTOMER (birthDate,creationDate,email,firstname,lastname,photo,status,version,ID) values (?,?,?,?,?,?,?,?,?)\n"
     ]
    },
    {
     "name": "stdout",
     "output_type": "stream",
     "text": [
      "13:16:03.760 DEBUG org.hibernate.SQL - select count(*)>0 from CUSTOMER c1_0 where c1_0.email=?\n"
     ]
    },
    {
     "name": "stdout",
     "output_type": "stream",
     "text": [
      "13:16:03.760 DEBUG org.hibernate.SQL - select nextval('CUSTOMER_SEQ')\n"
     ]
    },
    {
     "name": "stdout",
     "output_type": "stream",
     "text": [
      "13:16:03.760 DEBUG org.hibernate.SQL - insert into CUSTOMER (birthDate,creationDate,email,firstname,lastname,photo,status,version,ID) values (?,?,?,?,?,?,?,?,?)\n"
     ]
    },
    {
     "name": "stdout",
     "output_type": "stream",
     "text": [
      "13:16:03.760 DEBUG org.hibernate.SQL - select count(*)>0 from CUSTOMER c1_0 where c1_0.email=?\n"
     ]
    },
    {
     "name": "stdout",
     "output_type": "stream",
     "text": [
      "13:16:03.761 DEBUG org.hibernate.SQL - insert into CUSTOMER (birthDate,creationDate,email,firstname,lastname,photo,status,version,ID) values (?,?,?,?,?,?,?,?,?)\n"
     ]
    },
    {
     "name": "stdout",
     "output_type": "stream",
     "text": [
      "13:16:03.761 DEBUG org.hibernate.SQL - select count(*)>0 from CUSTOMER c1_0 where c1_0.email=?\n"
     ]
    },
    {
     "name": "stdout",
     "output_type": "stream",
     "text": [
      "13:16:03.762 DEBUG org.hibernate.SQL - insert into CUSTOMER (birthDate,creationDate,email,firstname,lastname,photo,status,version,ID) values (?,?,?,?,?,?,?,?,?)\n"
     ]
    },
    {
     "name": "stdout",
     "output_type": "stream",
     "text": [
      "13:16:03.762 DEBUG org.hibernate.SQL - select count(*)>0 from CUSTOMER c1_0 where c1_0.email=?\n"
     ]
    },
    {
     "name": "stdout",
     "output_type": "stream",
     "text": [
      "13:16:03.762 DEBUG org.hibernate.SQL - insert into CUSTOMER (birthDate,creationDate,email,firstname,lastname,photo,status,version,ID) values (?,?,?,?,?,?,?,?,?)\n"
     ]
    },
    {
     "name": "stdout",
     "output_type": "stream",
     "text": [
      "13:16:03.762 DEBUG org.hibernate.SQL - select count(*)>0 from CUSTOMER c1_0 where c1_0.email=?\n"
     ]
    },
    {
     "name": "stdout",
     "output_type": "stream",
     "text": [
      "13:16:03.763 DEBUG org.hibernate.SQL - insert into CUSTOMER (birthDate,creationDate,email,firstname,lastname,photo,status,version,ID) values (?,?,?,?,?,?,?,?,?)\n"
     ]
    },
    {
     "name": "stdout",
     "output_type": "stream",
     "text": [
      "13:16:03.763 DEBUG org.hibernate.SQL - select count(*)>0 from CUSTOMER c1_0 where c1_0.email=?\n"
     ]
    },
    {
     "name": "stdout",
     "output_type": "stream",
     "text": [
      "13:16:03.764 DEBUG org.hibernate.SQL - insert into CUSTOMER (birthDate,creationDate,email,firstname,lastname,photo,status,version,ID) values (?,?,?,?,?,?,?,?,?)\n"
     ]
    },
    {
     "name": "stdout",
     "output_type": "stream",
     "text": [
      "13:16:03.764 DEBUG org.hibernate.SQL - select count(*)>0 from CUSTOMER c1_0 where c1_0.email=?\n"
     ]
    },
    {
     "name": "stdout",
     "output_type": "stream",
     "text": [
      "13:16:03.764 DEBUG org.hibernate.SQL - insert into CUSTOMER (birthDate,creationDate,email,firstname,lastname,photo,status,version,ID) values (?,?,?,?,?,?,?,?,?)\n"
     ]
    },
    {
     "name": "stdout",
     "output_type": "stream",
     "text": [
      "13:16:03.765 DEBUG org.hibernate.SQL - select count(*)>0 from CUSTOMER c1_0 where c1_0.email=?\n"
     ]
    },
    {
     "name": "stdout",
     "output_type": "stream",
     "text": [
      "13:16:03.765 DEBUG org.hibernate.SQL - insert into CUSTOMER (birthDate,creationDate,email,firstname,lastname,photo,status,version,ID) values (?,?,?,?,?,?,?,?,?)\n"
     ]
    },
    {
     "name": "stdout",
     "output_type": "stream",
     "text": [
      "13:16:03.765 DEBUG org.hibernate.SQL - select count(*)>0 from CUSTOMER c1_0 where c1_0.email=?\n"
     ]
    },
    {
     "name": "stdout",
     "output_type": "stream",
     "text": [
      "13:16:03.766 DEBUG org.hibernate.SQL - insert into CUSTOMER (birthDate,creationDate,email,firstname,lastname,photo,status,version,ID) values (?,?,?,?,?,?,?,?,?)\n"
     ]
    },
    {
     "name": "stdout",
     "output_type": "stream",
     "text": [
      "13:16:03.766 DEBUG org.hibernate.SQL - select count(*)>0 from CUSTOMER c1_0 where c1_0.email=?\n"
     ]
    },
    {
     "name": "stdout",
     "output_type": "stream",
     "text": [
      "13:16:03.766 DEBUG org.hibernate.SQL - insert into CUSTOMER (birthDate,creationDate,email,firstname,lastname,photo,status,version,ID) values (?,?,?,?,?,?,?,?,?)\n"
     ]
    },
    {
     "name": "stdout",
     "output_type": "stream",
     "text": [
      "13:16:03.766 DEBUG org.hibernate.SQL - select count(*)>0 from CUSTOMER c1_0 where c1_0.email=?\n"
     ]
    },
    {
     "name": "stdout",
     "output_type": "stream",
     "text": [
      "13:16:03.767 DEBUG org.hibernate.SQL - insert into CUSTOMER (birthDate,creationDate,email,firstname,lastname,photo,status,version,ID) values (?,?,?,?,?,?,?,?,?)\n"
     ]
    },
    {
     "name": "stdout",
     "output_type": "stream",
     "text": [
      "13:16:03.767 DEBUG org.hibernate.SQL - select count(*)>0 from CUSTOMER c1_0 where c1_0.email=?\n"
     ]
    },
    {
     "name": "stdout",
     "output_type": "stream",
     "text": [
      "13:16:03.768 DEBUG org.hibernate.SQL - insert into CUSTOMER (birthDate,creationDate,email,firstname,lastname,photo,status,version,ID) values (?,?,?,?,?,?,?,?,?)\n"
     ]
    },
    {
     "name": "stdout",
     "output_type": "stream",
     "text": [
      "13:16:03.768 DEBUG org.hibernate.SQL - select count(*)>0 from CUSTOMER c1_0 where c1_0.email=?\n"
     ]
    },
    {
     "name": "stdout",
     "output_type": "stream",
     "text": [
      "13:16:03.769 DEBUG org.hibernate.SQL - insert into CUSTOMER (birthDate,creationDate,email,firstname,lastname,photo,status,version,ID) values (?,?,?,?,?,?,?,?,?)\n"
     ]
    },
    {
     "name": "stdout",
     "output_type": "stream",
     "text": [
      "13:16:03.770 DEBUG org.hibernate.SQL - select count(*)>0 from CUSTOMER c1_0 where c1_0.email=?\n"
     ]
    },
    {
     "name": "stdout",
     "output_type": "stream",
     "text": [
      "13:16:03.770 DEBUG org.hibernate.SQL - insert into CUSTOMER (birthDate,creationDate,email,firstname,lastname,photo,status,version,ID) values (?,?,?,?,?,?,?,?,?)\n"
     ]
    },
    {
     "name": "stdout",
     "output_type": "stream",
     "text": [
      "13:16:03.771 DEBUG org.hibernate.SQL - select count(*)>0 from CUSTOMER c1_0 where c1_0.email=?\n"
     ]
    },
    {
     "name": "stdout",
     "output_type": "stream",
     "text": [
      "13:16:03.771 DEBUG org.hibernate.SQL - insert into CUSTOMER (birthDate,creationDate,email,firstname,lastname,photo,status,version,ID) values (?,?,?,?,?,?,?,?,?)\n"
     ]
    },
    {
     "name": "stdout",
     "output_type": "stream",
     "text": [
      "13:16:03.772 DEBUG org.hibernate.SQL - select count(*)>0 from CUSTOMER c1_0 where c1_0.email=?\n"
     ]
    },
    {
     "name": "stdout",
     "output_type": "stream",
     "text": [
      "13:16:03.772 DEBUG org.hibernate.SQL - insert into CUSTOMER (birthDate,creationDate,email,firstname,lastname,photo,status,version,ID) values (?,?,?,?,?,?,?,?,?)\n"
     ]
    },
    {
     "name": "stdout",
     "output_type": "stream",
     "text": [
      "13:16:03.773 DEBUG org.hibernate.SQL - select count(*)>0 from CUSTOMER c1_0 where c1_0.email=?\n"
     ]
    },
    {
     "name": "stdout",
     "output_type": "stream",
     "text": [
      "13:16:03.774 DEBUG org.hibernate.SQL - insert into CUSTOMER (birthDate,creationDate,email,firstname,lastname,photo,status,version,ID) values (?,?,?,?,?,?,?,?,?)\n"
     ]
    },
    {
     "name": "stdout",
     "output_type": "stream",
     "text": [
      "13:16:03.774 DEBUG org.hibernate.SQL - select count(*)>0 from CUSTOMER c1_0 where c1_0.email=?\n"
     ]
    },
    {
     "name": "stdout",
     "output_type": "stream",
     "text": [
      "13:16:03.774 DEBUG org.hibernate.SQL - insert into CUSTOMER (birthDate,creationDate,email,firstname,lastname,photo,status,version,ID) values (?,?,?,?,?,?,?,?,?)\n"
     ]
    },
    {
     "name": "stdout",
     "output_type": "stream",
     "text": [
      "13:16:03.775 DEBUG org.hibernate.SQL - select count(*)>0 from CUSTOMER c1_0 where c1_0.email=?\n"
     ]
    },
    {
     "name": "stdout",
     "output_type": "stream",
     "text": [
      "13:16:03.776 DEBUG org.hibernate.SQL - insert into CUSTOMER (birthDate,creationDate,email,firstname,lastname,photo,status,version,ID) values (?,?,?,?,?,?,?,?,?)\n"
     ]
    },
    {
     "name": "stdout",
     "output_type": "stream",
     "text": [
      "13:16:03.776 DEBUG org.hibernate.SQL - select count(*)>0 from CUSTOMER c1_0 where c1_0.email=?\n"
     ]
    },
    {
     "name": "stdout",
     "output_type": "stream",
     "text": [
      "13:16:03.776 DEBUG org.hibernate.SQL - insert into CUSTOMER (birthDate,creationDate,email,firstname,lastname,photo,status,version,ID) values (?,?,?,?,?,?,?,?,?)\n"
     ]
    },
    {
     "name": "stdout",
     "output_type": "stream",
     "text": [
      "13:16:03.777 DEBUG org.hibernate.SQL - select count(*)>0 from CUSTOMER c1_0 where c1_0.email=?\n"
     ]
    },
    {
     "name": "stdout",
     "output_type": "stream",
     "text": [
      "13:16:03.777 DEBUG org.hibernate.SQL - insert into CUSTOMER (birthDate,creationDate,email,firstname,lastname,photo,status,version,ID) values (?,?,?,?,?,?,?,?,?)\n"
     ]
    },
    {
     "name": "stdout",
     "output_type": "stream",
     "text": [
      "13:16:03.777 DEBUG org.hibernate.SQL - select count(*)>0 from CUSTOMER c1_0 where c1_0.email=?\n"
     ]
    },
    {
     "name": "stdout",
     "output_type": "stream",
     "text": [
      "13:16:03.778 DEBUG org.hibernate.SQL - insert into CUSTOMER (birthDate,creationDate,email,firstname,lastname,photo,status,version,ID) values (?,?,?,?,?,?,?,?,?)\n"
     ]
    },
    {
     "name": "stdout",
     "output_type": "stream",
     "text": [
      "13:16:03.778 DEBUG org.hibernate.SQL - select count(*)>0 from CUSTOMER c1_0 where c1_0.email=?\n"
     ]
    },
    {
     "name": "stdout",
     "output_type": "stream",
     "text": [
      "13:16:03.779 DEBUG org.hibernate.SQL - insert into CUSTOMER (birthDate,creationDate,email,firstname,lastname,photo,status,version,ID) values (?,?,?,?,?,?,?,?,?)\n"
     ]
    },
    {
     "name": "stdout",
     "output_type": "stream",
     "text": [
      "13:16:03.779 DEBUG org.hibernate.SQL - select count(*)>0 from CUSTOMER c1_0 where c1_0.email=?\n"
     ]
    },
    {
     "name": "stdout",
     "output_type": "stream",
     "text": [
      "13:16:03.779 DEBUG org.hibernate.SQL - insert into CUSTOMER (birthDate,creationDate,email,firstname,lastname,photo,status,version,ID) values (?,?,?,?,?,?,?,?,?)\n"
     ]
    },
    {
     "name": "stdout",
     "output_type": "stream",
     "text": [
      "13:16:03.779 DEBUG org.hibernate.SQL - select count(*)>0 from CUSTOMER c1_0 where c1_0.email=?\n"
     ]
    },
    {
     "name": "stdout",
     "output_type": "stream",
     "text": [
      "13:16:03.780 DEBUG org.hibernate.SQL - insert into CUSTOMER (birthDate,creationDate,email,firstname,lastname,photo,status,version,ID) values (?,?,?,?,?,?,?,?,?)\n"
     ]
    },
    {
     "name": "stdout",
     "output_type": "stream",
     "text": [
      "13:16:03.780 DEBUG org.hibernate.SQL - select count(*)>0 from CUSTOMER c1_0 where c1_0.email=?\n"
     ]
    },
    {
     "name": "stdout",
     "output_type": "stream",
     "text": [
      "13:16:03.781 DEBUG org.hibernate.SQL - insert into CUSTOMER (birthDate,creationDate,email,firstname,lastname,photo,status,version,ID) values (?,?,?,?,?,?,?,?,?)\n"
     ]
    },
    {
     "name": "stdout",
     "output_type": "stream",
     "text": [
      "13:16:03.781 DEBUG org.hibernate.SQL - select count(*)>0 from CUSTOMER c1_0 where c1_0.email=?\n"
     ]
    },
    {
     "name": "stdout",
     "output_type": "stream",
     "text": [
      "13:16:03.781 DEBUG org.hibernate.SQL - insert into CUSTOMER (birthDate,creationDate,email,firstname,lastname,photo,status,version,ID) values (?,?,?,?,?,?,?,?,?)\n"
     ]
    },
    {
     "name": "stdout",
     "output_type": "stream",
     "text": [
      "13:16:03.781 DEBUG org.hibernate.SQL - select count(*)>0 from CUSTOMER c1_0 where c1_0.email=?\n"
     ]
    },
    {
     "name": "stdout",
     "output_type": "stream",
     "text": [
      "13:16:03.782 DEBUG org.hibernate.SQL - insert into CUSTOMER (birthDate,creationDate,email,firstname,lastname,photo,status,version,ID) values (?,?,?,?,?,?,?,?,?)\n"
     ]
    },
    {
     "name": "stdout",
     "output_type": "stream",
     "text": [
      "13:16:03.782 DEBUG org.hibernate.SQL - select count(*)>0 from CUSTOMER c1_0 where c1_0.email=?\n"
     ]
    },
    {
     "name": "stdout",
     "output_type": "stream",
     "text": [
      "13:16:03.783 DEBUG org.hibernate.SQL - insert into CUSTOMER (birthDate,creationDate,email,firstname,lastname,photo,status,version,ID) values (?,?,?,?,?,?,?,?,?)\n"
     ]
    },
    {
     "name": "stdout",
     "output_type": "stream",
     "text": [
      "13:16:03.783 DEBUG org.hibernate.SQL - select count(*)>0 from CUSTOMER c1_0 where c1_0.email=?\n"
     ]
    },
    {
     "name": "stdout",
     "output_type": "stream",
     "text": [
      "13:16:03.783 DEBUG org.hibernate.SQL - insert into CUSTOMER (birthDate,creationDate,email,firstname,lastname,photo,status,version,ID) values (?,?,?,?,?,?,?,?,?)\n"
     ]
    },
    {
     "name": "stdout",
     "output_type": "stream",
     "text": [
      "13:16:03.784 DEBUG org.hibernate.SQL - select count(*)>0 from CUSTOMER c1_0 where c1_0.email=?\n"
     ]
    },
    {
     "name": "stdout",
     "output_type": "stream",
     "text": [
      "13:16:03.784 DEBUG org.hibernate.SQL - insert into CUSTOMER (birthDate,creationDate,email,firstname,lastname,photo,status,version,ID) values (?,?,?,?,?,?,?,?,?)\n"
     ]
    },
    {
     "name": "stdout",
     "output_type": "stream",
     "text": [
      "13:16:03.784 DEBUG org.hibernate.SQL - select count(*)>0 from CUSTOMER c1_0 where c1_0.email=?\n"
     ]
    },
    {
     "name": "stdout",
     "output_type": "stream",
     "text": [
      "13:16:03.785 DEBUG org.hibernate.SQL - insert into CUSTOMER (birthDate,creationDate,email,firstname,lastname,photo,status,version,ID) values (?,?,?,?,?,?,?,?,?)\n"
     ]
    },
    {
     "name": "stdout",
     "output_type": "stream",
     "text": [
      "13:16:03.785 DEBUG org.hibernate.SQL - select count(*)>0 from CUSTOMER c1_0 where c1_0.email=?\n"
     ]
    },
    {
     "name": "stdout",
     "output_type": "stream",
     "text": [
      "13:16:03.786 DEBUG org.hibernate.SQL - insert into CUSTOMER (birthDate,creationDate,email,firstname,lastname,photo,status,version,ID) values (?,?,?,?,?,?,?,?,?)\n"
     ]
    },
    {
     "name": "stdout",
     "output_type": "stream",
     "text": [
      "13:16:03.786 DEBUG org.hibernate.SQL - select count(*)>0 from CUSTOMER c1_0 where c1_0.email=?\n"
     ]
    },
    {
     "name": "stdout",
     "output_type": "stream",
     "text": [
      "13:16:03.786 DEBUG org.hibernate.SQL - insert into CUSTOMER (birthDate,creationDate,email,firstname,lastname,photo,status,version,ID) values (?,?,?,?,?,?,?,?,?)\n"
     ]
    },
    {
     "name": "stdout",
     "output_type": "stream",
     "text": [
      "13:16:03.787 DEBUG org.hibernate.SQL - select count(*)>0 from CUSTOMER c1_0 where c1_0.email=?\n"
     ]
    },
    {
     "name": "stdout",
     "output_type": "stream",
     "text": [
      "13:16:03.787 DEBUG org.hibernate.SQL - insert into CUSTOMER (birthDate,creationDate,email,firstname,lastname,photo,status,version,ID) values (?,?,?,?,?,?,?,?,?)\n"
     ]
    },
    {
     "name": "stdout",
     "output_type": "stream",
     "text": [
      "13:16:03.787 DEBUG org.hibernate.SQL - select count(*)>0 from CUSTOMER c1_0 where c1_0.email=?\n"
     ]
    },
    {
     "name": "stdout",
     "output_type": "stream",
     "text": [
      "13:16:03.788 DEBUG org.hibernate.SQL - insert into CUSTOMER (birthDate,creationDate,email,firstname,lastname,photo,status,version,ID) values (?,?,?,?,?,?,?,?,?)\n"
     ]
    },
    {
     "name": "stdout",
     "output_type": "stream",
     "text": [
      "13:16:03.788 DEBUG org.hibernate.SQL - select count(*)>0 from CUSTOMER c1_0 where c1_0.email=?\n"
     ]
    },
    {
     "name": "stdout",
     "output_type": "stream",
     "text": [
      "13:16:03.789 DEBUG org.hibernate.SQL - insert into CUSTOMER (birthDate,creationDate,email,firstname,lastname,photo,status,version,ID) values (?,?,?,?,?,?,?,?,?)\n"
     ]
    },
    {
     "name": "stdout",
     "output_type": "stream",
     "text": [
      "13:16:03.789 DEBUG org.hibernate.SQL - select count(*)>0 from CUSTOMER c1_0 where c1_0.email=?\n"
     ]
    },
    {
     "name": "stdout",
     "output_type": "stream",
     "text": [
      "13:16:03.789 DEBUG org.hibernate.SQL - insert into CUSTOMER (birthDate,creationDate,email,firstname,lastname,photo,status,version,ID) values (?,?,?,?,?,?,?,?,?)\n"
     ]
    },
    {
     "name": "stdout",
     "output_type": "stream",
     "text": [
      "13:16:03.789 DEBUG org.hibernate.SQL - select count(*)>0 from CUSTOMER c1_0 where c1_0.email=?\n"
     ]
    },
    {
     "name": "stdout",
     "output_type": "stream",
     "text": [
      "13:16:03.790 DEBUG org.hibernate.SQL - insert into CUSTOMER (birthDate,creationDate,email,firstname,lastname,photo,status,version,ID) values (?,?,?,?,?,?,?,?,?)\n"
     ]
    },
    {
     "name": "stdout",
     "output_type": "stream",
     "text": [
      "13:16:03.790 DEBUG org.hibernate.SQL - select count(*)>0 from CUSTOMER c1_0 where c1_0.email=?\n"
     ]
    },
    {
     "name": "stdout",
     "output_type": "stream",
     "text": [
      "13:16:03.791 DEBUG org.hibernate.SQL - insert into CUSTOMER (birthDate,creationDate,email,firstname,lastname,photo,status,version,ID) values (?,?,?,?,?,?,?,?,?)\n"
     ]
    },
    {
     "name": "stdout",
     "output_type": "stream",
     "text": [
      "13:16:03.791 DEBUG org.hibernate.SQL - select count(*)>0 from CUSTOMER c1_0 where c1_0.email=?\n"
     ]
    },
    {
     "name": "stdout",
     "output_type": "stream",
     "text": [
      "13:16:03.791 DEBUG org.hibernate.SQL - insert into CUSTOMER (birthDate,creationDate,email,firstname,lastname,photo,status,version,ID) values (?,?,?,?,?,?,?,?,?)\n"
     ]
    },
    {
     "name": "stdout",
     "output_type": "stream",
     "text": [
      "13:16:03.792 DEBUG org.hibernate.SQL - select count(*)>0 from CUSTOMER c1_0 where c1_0.email=?\n"
     ]
    },
    {
     "name": "stdout",
     "output_type": "stream",
     "text": [
      "13:16:03.792 DEBUG org.hibernate.SQL - insert into CUSTOMER (birthDate,creationDate,email,firstname,lastname,photo,status,version,ID) values (?,?,?,?,?,?,?,?,?)\n"
     ]
    },
    {
     "name": "stdout",
     "output_type": "stream",
     "text": [
      "13:16:03.792 DEBUG org.hibernate.SQL - select count(*)>0 from CUSTOMER c1_0 where c1_0.email=?\n"
     ]
    },
    {
     "name": "stdout",
     "output_type": "stream",
     "text": [
      "13:16:03.793 DEBUG org.hibernate.SQL - insert into CUSTOMER (birthDate,creationDate,email,firstname,lastname,photo,status,version,ID) values (?,?,?,?,?,?,?,?,?)\n"
     ]
    },
    {
     "name": "stdout",
     "output_type": "stream",
     "text": [
      "13:16:03.794 DEBUG org.hibernate.SQL - select count(*)>0 from CUSTOMER c1_0 where c1_0.email=?\n"
     ]
    },
    {
     "name": "stdout",
     "output_type": "stream",
     "text": [
      "13:16:03.794 DEBUG org.hibernate.SQL - insert into CUSTOMER (birthDate,creationDate,email,firstname,lastname,photo,status,version,ID) values (?,?,?,?,?,?,?,?,?)\n"
     ]
    },
    {
     "name": "stdout",
     "output_type": "stream",
     "text": [
      "13:16:03.795 DEBUG org.hibernate.SQL - select count(*)>0 from CUSTOMER c1_0 where c1_0.email=?\n"
     ]
    },
    {
     "name": "stdout",
     "output_type": "stream",
     "text": [
      "13:16:03.796 DEBUG org.hibernate.SQL - insert into CUSTOMER (birthDate,creationDate,email,firstname,lastname,photo,status,version,ID) values (?,?,?,?,?,?,?,?,?)\n"
     ]
    },
    {
     "name": "stdout",
     "output_type": "stream",
     "text": [
      "13:16:03.796 DEBUG org.hibernate.SQL - select count(*)>0 from CUSTOMER c1_0 where c1_0.email=?\n"
     ]
    },
    {
     "name": "stdout",
     "output_type": "stream",
     "text": [
      "13:16:03.797 DEBUG org.hibernate.SQL - insert into CUSTOMER (birthDate,creationDate,email,firstname,lastname,photo,status,version,ID) values (?,?,?,?,?,?,?,?,?)\n"
     ]
    },
    {
     "name": "stdout",
     "output_type": "stream",
     "text": [
      "13:16:03.797 DEBUG org.hibernate.SQL - select count(*)>0 from CUSTOMER c1_0 where c1_0.email=?\n"
     ]
    },
    {
     "name": "stdout",
     "output_type": "stream",
     "text": [
      "13:16:03.798 DEBUG org.hibernate.SQL - insert into CUSTOMER (birthDate,creationDate,email,firstname,lastname,photo,status,version,ID) values (?,?,?,?,?,?,?,?,?)\n"
     ]
    },
    {
     "name": "stdout",
     "output_type": "stream",
     "text": [
      "13:16:03.798 DEBUG org.hibernate.SQL - select count(*)>0 from CUSTOMER c1_0 where c1_0.email=?\n"
     ]
    },
    {
     "name": "stdout",
     "output_type": "stream",
     "text": [
      "13:16:03.798 DEBUG org.hibernate.SQL - insert into CUSTOMER (birthDate,creationDate,email,firstname,lastname,photo,status,version,ID) values (?,?,?,?,?,?,?,?,?)\n"
     ]
    },
    {
     "name": "stdout",
     "output_type": "stream",
     "text": [
      "13:16:03.799 DEBUG org.hibernate.SQL - select count(*)>0 from CUSTOMER c1_0 where c1_0.email=?\n"
     ]
    },
    {
     "name": "stdout",
     "output_type": "stream",
     "text": [
      "13:16:03.800 DEBUG org.hibernate.SQL - insert into CUSTOMER (birthDate,creationDate,email,firstname,lastname,photo,status,version,ID) values (?,?,?,?,?,?,?,?,?)\n"
     ]
    },
    {
     "name": "stdout",
     "output_type": "stream",
     "text": [
      "13:16:03.800 DEBUG org.hibernate.SQL - select count(*)>0 from CUSTOMER c1_0 where c1_0.email=?\n"
     ]
    },
    {
     "name": "stdout",
     "output_type": "stream",
     "text": [
      "13:16:03.800 DEBUG org.hibernate.SQL - insert into CUSTOMER (birthDate,creationDate,email,firstname,lastname,photo,status,version,ID) values (?,?,?,?,?,?,?,?,?)\n"
     ]
    },
    {
     "name": "stdout",
     "output_type": "stream",
     "text": [
      "13:16:03.801 DEBUG org.hibernate.SQL - select count(*)>0 from CUSTOMER c1_0 where c1_0.email=?\n"
     ]
    },
    {
     "name": "stdout",
     "output_type": "stream",
     "text": [
      "13:16:03.801 DEBUG org.hibernate.SQL - select nextval('CUSTOMER_SEQ')\n"
     ]
    },
    {
     "name": "stdout",
     "output_type": "stream",
     "text": [
      "13:16:03.801 DEBUG org.hibernate.SQL - insert into CUSTOMER (birthDate,creationDate,email,firstname,lastname,photo,status,version,ID) values (?,?,?,?,?,?,?,?,?)\n"
     ]
    },
    {
     "name": "stdout",
     "output_type": "stream",
     "text": [
      "13:16:03.802 DEBUG org.hibernate.SQL - select count(*)>0 from CUSTOMER c1_0 where c1_0.email=?\n"
     ]
    },
    {
     "name": "stdout",
     "output_type": "stream",
     "text": [
      "13:16:03.802 DEBUG org.hibernate.SQL - insert into CUSTOMER (birthDate,creationDate,email,firstname,lastname,photo,status,version,ID) values (?,?,?,?,?,?,?,?,?)\n"
     ]
    },
    {
     "name": "stdout",
     "output_type": "stream",
     "text": [
      "13:16:03.802 DEBUG org.hibernate.SQL - select count(*)>0 from CUSTOMER c1_0 where c1_0.email=?\n"
     ]
    },
    {
     "name": "stdout",
     "output_type": "stream",
     "text": [
      "13:16:03.803 DEBUG org.hibernate.SQL - insert into CUSTOMER (birthDate,creationDate,email,firstname,lastname,photo,status,version,ID) values (?,?,?,?,?,?,?,?,?)\n"
     ]
    },
    {
     "name": "stdout",
     "output_type": "stream",
     "text": [
      "13:16:03.803 DEBUG org.hibernate.SQL - select count(*)>0 from CUSTOMER c1_0 where c1_0.email=?\n"
     ]
    },
    {
     "name": "stdout",
     "output_type": "stream",
     "text": [
      "13:16:03.803 DEBUG org.hibernate.SQL - insert into CUSTOMER (birthDate,creationDate,email,firstname,lastname,photo,status,version,ID) values (?,?,?,?,?,?,?,?,?)\n"
     ]
    },
    {
     "name": "stdout",
     "output_type": "stream",
     "text": [
      "13:16:03.804 DEBUG org.hibernate.SQL - select count(*)>0 from CUSTOMER c1_0 where c1_0.email=?\n"
     ]
    },
    {
     "name": "stdout",
     "output_type": "stream",
     "text": [
      "13:16:03.804 DEBUG org.hibernate.SQL - insert into CUSTOMER (birthDate,creationDate,email,firstname,lastname,photo,status,version,ID) values (?,?,?,?,?,?,?,?,?)\n"
     ]
    },
    {
     "name": "stdout",
     "output_type": "stream",
     "text": [
      "13:16:03.805 DEBUG org.hibernate.SQL - select count(*)>0 from CUSTOMER c1_0 where c1_0.email=?\n"
     ]
    },
    {
     "name": "stdout",
     "output_type": "stream",
     "text": [
      "13:16:03.805 DEBUG org.hibernate.SQL - insert into CUSTOMER (birthDate,creationDate,email,firstname,lastname,photo,status,version,ID) values (?,?,?,?,?,?,?,?,?)\n"
     ]
    },
    {
     "name": "stdout",
     "output_type": "stream",
     "text": [
      "13:16:03.805 DEBUG org.hibernate.SQL - select count(*)>0 from CUSTOMER c1_0 where c1_0.email=?\n"
     ]
    },
    {
     "name": "stdout",
     "output_type": "stream",
     "text": [
      "13:16:03.806 DEBUG org.hibernate.SQL - insert into CUSTOMER (birthDate,creationDate,email,firstname,lastname,photo,status,version,ID) values (?,?,?,?,?,?,?,?,?)\n"
     ]
    },
    {
     "name": "stdout",
     "output_type": "stream",
     "text": [
      "13:16:03.806 DEBUG org.hibernate.SQL - select count(*)>0 from CUSTOMER c1_0 where c1_0.email=?\n"
     ]
    },
    {
     "name": "stdout",
     "output_type": "stream",
     "text": [
      "13:16:03.807 DEBUG org.hibernate.SQL - insert into CUSTOMER (birthDate,creationDate,email,firstname,lastname,photo,status,version,ID) values (?,?,?,?,?,?,?,?,?)\n"
     ]
    },
    {
     "name": "stdout",
     "output_type": "stream",
     "text": [
      "13:16:03.807 DEBUG org.hibernate.SQL - select count(*)>0 from CUSTOMER c1_0 where c1_0.email=?\n"
     ]
    },
    {
     "name": "stdout",
     "output_type": "stream",
     "text": [
      "13:16:03.808 DEBUG org.hibernate.SQL - insert into CUSTOMER (birthDate,creationDate,email,firstname,lastname,photo,status,version,ID) values (?,?,?,?,?,?,?,?,?)\n"
     ]
    },
    {
     "name": "stdout",
     "output_type": "stream",
     "text": [
      "13:16:03.808 DEBUG org.hibernate.SQL - select count(*)>0 from CUSTOMER c1_0 where c1_0.email=?\n"
     ]
    },
    {
     "name": "stdout",
     "output_type": "stream",
     "text": [
      "13:16:03.808 DEBUG org.hibernate.SQL - insert into CUSTOMER (birthDate,creationDate,email,firstname,lastname,photo,status,version,ID) values (?,?,?,?,?,?,?,?,?)\n"
     ]
    },
    {
     "name": "stdout",
     "output_type": "stream",
     "text": [
      "13:16:03.809 DEBUG org.hibernate.SQL - select count(*)>0 from CUSTOMER c1_0 where c1_0.email=?\n"
     ]
    },
    {
     "name": "stdout",
     "output_type": "stream",
     "text": [
      "13:16:03.809 DEBUG org.hibernate.SQL - insert into CUSTOMER (birthDate,creationDate,email,firstname,lastname,photo,status,version,ID) values (?,?,?,?,?,?,?,?,?)\n"
     ]
    },
    {
     "name": "stdout",
     "output_type": "stream",
     "text": [
      "13:16:03.809 DEBUG org.hibernate.SQL - select count(*)>0 from CUSTOMER c1_0 where c1_0.email=?\n"
     ]
    },
    {
     "name": "stdout",
     "output_type": "stream",
     "text": [
      "13:16:03.810 DEBUG org.hibernate.SQL - insert into CUSTOMER (birthDate,creationDate,email,firstname,lastname,photo,status,version,ID) values (?,?,?,?,?,?,?,?,?)\n"
     ]
    },
    {
     "name": "stdout",
     "output_type": "stream",
     "text": [
      "13:16:03.810 DEBUG org.hibernate.SQL - select count(*)>0 from CUSTOMER c1_0 where c1_0.email=?\n"
     ]
    },
    {
     "name": "stdout",
     "output_type": "stream",
     "text": [
      "13:16:03.810 DEBUG org.hibernate.SQL - insert into CUSTOMER (birthDate,creationDate,email,firstname,lastname,photo,status,version,ID) values (?,?,?,?,?,?,?,?,?)\n"
     ]
    },
    {
     "name": "stdout",
     "output_type": "stream",
     "text": [
      "13:16:03.811 DEBUG org.hibernate.SQL - select count(*)>0 from CUSTOMER c1_0 where c1_0.email=?\n"
     ]
    },
    {
     "name": "stdout",
     "output_type": "stream",
     "text": [
      "13:16:03.811 DEBUG org.hibernate.SQL - insert into CUSTOMER (birthDate,creationDate,email,firstname,lastname,photo,status,version,ID) values (?,?,?,?,?,?,?,?,?)\n"
     ]
    },
    {
     "name": "stdout",
     "output_type": "stream",
     "text": [
      "13:16:03.811 DEBUG org.hibernate.SQL - select count(*)>0 from CUSTOMER c1_0 where c1_0.email=?\n"
     ]
    },
    {
     "name": "stdout",
     "output_type": "stream",
     "text": [
      "13:16:03.812 DEBUG org.hibernate.SQL - insert into CUSTOMER (birthDate,creationDate,email,firstname,lastname,photo,status,version,ID) values (?,?,?,?,?,?,?,?,?)\n"
     ]
    },
    {
     "name": "stdout",
     "output_type": "stream",
     "text": [
      "13:16:03.812 DEBUG org.hibernate.SQL - select count(*)>0 from CUSTOMER c1_0 where c1_0.email=?\n"
     ]
    },
    {
     "name": "stdout",
     "output_type": "stream",
     "text": [
      "13:16:03.812 DEBUG org.hibernate.SQL - insert into CUSTOMER (birthDate,creationDate,email,firstname,lastname,photo,status,version,ID) values (?,?,?,?,?,?,?,?,?)\n"
     ]
    },
    {
     "name": "stdout",
     "output_type": "stream",
     "text": [
      "13:16:03.813 DEBUG org.hibernate.SQL - select count(*)>0 from CUSTOMER c1_0 where c1_0.email=?\n"
     ]
    },
    {
     "name": "stdout",
     "output_type": "stream",
     "text": [
      "13:16:03.813 DEBUG org.hibernate.SQL - insert into CUSTOMER (birthDate,creationDate,email,firstname,lastname,photo,status,version,ID) values (?,?,?,?,?,?,?,?,?)\n"
     ]
    },
    {
     "name": "stdout",
     "output_type": "stream",
     "text": [
      "13:16:03.813 DEBUG org.hibernate.SQL - select count(*)>0 from CUSTOMER c1_0 where c1_0.email=?\n"
     ]
    },
    {
     "name": "stdout",
     "output_type": "stream",
     "text": [
      "13:16:03.814 DEBUG org.hibernate.SQL - insert into CUSTOMER (birthDate,creationDate,email,firstname,lastname,photo,status,version,ID) values (?,?,?,?,?,?,?,?,?)\n"
     ]
    },
    {
     "name": "stdout",
     "output_type": "stream",
     "text": [
      "13:16:03.815 DEBUG org.hibernate.SQL - select count(*)>0 from CUSTOMER c1_0 where c1_0.email=?\n"
     ]
    },
    {
     "name": "stdout",
     "output_type": "stream",
     "text": [
      "13:16:03.815 DEBUG org.hibernate.SQL - insert into CUSTOMER (birthDate,creationDate,email,firstname,lastname,photo,status,version,ID) values (?,?,?,?,?,?,?,?,?)\n"
     ]
    },
    {
     "name": "stdout",
     "output_type": "stream",
     "text": [
      "13:16:03.815 DEBUG org.hibernate.SQL - select count(*)>0 from CUSTOMER c1_0 where c1_0.email=?\n"
     ]
    },
    {
     "name": "stdout",
     "output_type": "stream",
     "text": [
      "13:16:03.816 DEBUG org.hibernate.SQL - insert into CUSTOMER (birthDate,creationDate,email,firstname,lastname,photo,status,version,ID) values (?,?,?,?,?,?,?,?,?)\n"
     ]
    },
    {
     "name": "stdout",
     "output_type": "stream",
     "text": [
      "13:16:03.816 DEBUG org.hibernate.SQL - select count(*)>0 from CUSTOMER c1_0 where c1_0.email=?\n"
     ]
    },
    {
     "name": "stdout",
     "output_type": "stream",
     "text": [
      "13:16:03.817 DEBUG org.hibernate.SQL - insert into CUSTOMER (birthDate,creationDate,email,firstname,lastname,photo,status,version,ID) values (?,?,?,?,?,?,?,?,?)\n"
     ]
    },
    {
     "name": "stdout",
     "output_type": "stream",
     "text": [
      "13:16:03.817 DEBUG org.hibernate.SQL - select count(*)>0 from CUSTOMER c1_0 where c1_0.email=?\n"
     ]
    },
    {
     "name": "stdout",
     "output_type": "stream",
     "text": [
      "13:16:03.818 DEBUG org.hibernate.SQL - insert into CUSTOMER (birthDate,creationDate,email,firstname,lastname,photo,status,version,ID) values (?,?,?,?,?,?,?,?,?)\n"
     ]
    },
    {
     "name": "stdout",
     "output_type": "stream",
     "text": [
      "13:16:03.818 DEBUG org.hibernate.SQL - select count(*)>0 from CUSTOMER c1_0 where c1_0.email=?\n"
     ]
    },
    {
     "name": "stdout",
     "output_type": "stream",
     "text": [
      "13:16:03.818 DEBUG org.hibernate.SQL - insert into CUSTOMER (birthDate,creationDate,email,firstname,lastname,photo,status,version,ID) values (?,?,?,?,?,?,?,?,?)\n"
     ]
    },
    {
     "name": "stdout",
     "output_type": "stream",
     "text": [
      "13:16:03.819 DEBUG org.hibernate.SQL - select count(*)>0 from CUSTOMER c1_0 where c1_0.email=?\n"
     ]
    },
    {
     "name": "stdout",
     "output_type": "stream",
     "text": [
      "13:16:03.819 DEBUG org.hibernate.SQL - insert into CUSTOMER (birthDate,creationDate,email,firstname,lastname,photo,status,version,ID) values (?,?,?,?,?,?,?,?,?)\n"
     ]
    },
    {
     "name": "stdout",
     "output_type": "stream",
     "text": [
      "13:16:03.820 DEBUG org.hibernate.SQL - select count(*)>0 from CUSTOMER c1_0 where c1_0.email=?\n"
     ]
    },
    {
     "name": "stdout",
     "output_type": "stream",
     "text": [
      "13:16:03.820 DEBUG org.hibernate.SQL - insert into CUSTOMER (birthDate,creationDate,email,firstname,lastname,photo,status,version,ID) values (?,?,?,?,?,?,?,?,?)\n"
     ]
    },
    {
     "name": "stdout",
     "output_type": "stream",
     "text": [
      "13:16:03.820 DEBUG org.hibernate.SQL - select count(*)>0 from CUSTOMER c1_0 where c1_0.email=?\n"
     ]
    },
    {
     "name": "stdout",
     "output_type": "stream",
     "text": [
      "13:16:03.821 DEBUG org.hibernate.SQL - insert into CUSTOMER (birthDate,creationDate,email,firstname,lastname,photo,status,version,ID) values (?,?,?,?,?,?,?,?,?)\n"
     ]
    },
    {
     "name": "stdout",
     "output_type": "stream",
     "text": [
      "13:16:03.821 DEBUG org.hibernate.SQL - select count(*)>0 from CUSTOMER c1_0 where c1_0.email=?\n"
     ]
    },
    {
     "name": "stdout",
     "output_type": "stream",
     "text": [
      "13:16:03.822 DEBUG org.hibernate.SQL - insert into CUSTOMER (birthDate,creationDate,email,firstname,lastname,photo,status,version,ID) values (?,?,?,?,?,?,?,?,?)\n"
     ]
    },
    {
     "name": "stdout",
     "output_type": "stream",
     "text": [
      "13:16:03.822 DEBUG org.hibernate.SQL - select count(*)>0 from CUSTOMER c1_0 where c1_0.email=?\n"
     ]
    },
    {
     "name": "stdout",
     "output_type": "stream",
     "text": [
      "13:16:03.822 DEBUG org.hibernate.SQL - insert into CUSTOMER (birthDate,creationDate,email,firstname,lastname,photo,status,version,ID) values (?,?,?,?,?,?,?,?,?)\n"
     ]
    },
    {
     "name": "stdout",
     "output_type": "stream",
     "text": [
      "13:16:03.823 DEBUG org.hibernate.SQL - select count(*)>0 from CUSTOMER c1_0 where c1_0.email=?\n"
     ]
    },
    {
     "name": "stdout",
     "output_type": "stream",
     "text": [
      "13:16:03.823 DEBUG org.hibernate.SQL - insert into CUSTOMER (birthDate,creationDate,email,firstname,lastname,photo,status,version,ID) values (?,?,?,?,?,?,?,?,?)\n"
     ]
    },
    {
     "name": "stdout",
     "output_type": "stream",
     "text": [
      "13:16:03.824 DEBUG org.hibernate.SQL - select count(*)>0 from CUSTOMER c1_0 where c1_0.email=?\n"
     ]
    },
    {
     "name": "stdout",
     "output_type": "stream",
     "text": [
      "13:16:03.824 DEBUG org.hibernate.SQL - insert into CUSTOMER (birthDate,creationDate,email,firstname,lastname,photo,status,version,ID) values (?,?,?,?,?,?,?,?,?)\n"
     ]
    },
    {
     "name": "stdout",
     "output_type": "stream",
     "text": [
      "13:16:03.824 DEBUG org.hibernate.SQL - select count(*)>0 from CUSTOMER c1_0 where c1_0.email=?\n"
     ]
    },
    {
     "name": "stdout",
     "output_type": "stream",
     "text": [
      "13:16:03.825 DEBUG org.hibernate.SQL - insert into CUSTOMER (birthDate,creationDate,email,firstname,lastname,photo,status,version,ID) values (?,?,?,?,?,?,?,?,?)\n"
     ]
    },
    {
     "name": "stdout",
     "output_type": "stream",
     "text": [
      "13:16:03.825 DEBUG org.hibernate.SQL - select count(*)>0 from CUSTOMER c1_0 where c1_0.email=?\n"
     ]
    },
    {
     "name": "stdout",
     "output_type": "stream",
     "text": [
      "13:16:03.826 DEBUG org.hibernate.SQL - insert into CUSTOMER (birthDate,creationDate,email,firstname,lastname,photo,status,version,ID) values (?,?,?,?,?,?,?,?,?)\n"
     ]
    },
    {
     "name": "stdout",
     "output_type": "stream",
     "text": [
      "13:16:03.826 DEBUG org.hibernate.SQL - select count(*)>0 from CUSTOMER c1_0 where c1_0.email=?\n"
     ]
    },
    {
     "name": "stdout",
     "output_type": "stream",
     "text": [
      "13:16:03.827 DEBUG org.hibernate.SQL - insert into CUSTOMER (birthDate,creationDate,email,firstname,lastname,photo,status,version,ID) values (?,?,?,?,?,?,?,?,?)\n"
     ]
    },
    {
     "name": "stdout",
     "output_type": "stream",
     "text": [
      "13:16:03.827 DEBUG org.hibernate.SQL - select count(*)>0 from CUSTOMER c1_0 where c1_0.email=?\n"
     ]
    },
    {
     "name": "stdout",
     "output_type": "stream",
     "text": [
      "13:16:03.827 DEBUG org.hibernate.SQL - insert into CUSTOMER (birthDate,creationDate,email,firstname,lastname,photo,status,version,ID) values (?,?,?,?,?,?,?,?,?)\n"
     ]
    },
    {
     "name": "stdout",
     "output_type": "stream",
     "text": [
      "13:16:03.828 DEBUG org.hibernate.SQL - select count(*)>0 from CUSTOMER c1_0 where c1_0.email=?\n"
     ]
    },
    {
     "name": "stdout",
     "output_type": "stream",
     "text": [
      "13:16:03.828 DEBUG org.hibernate.SQL - insert into CUSTOMER (birthDate,creationDate,email,firstname,lastname,photo,status,version,ID) values (?,?,?,?,?,?,?,?,?)\n"
     ]
    },
    {
     "name": "stdout",
     "output_type": "stream",
     "text": [
      "13:16:03.829 DEBUG org.hibernate.SQL - select count(*)>0 from CUSTOMER c1_0 where c1_0.email=?\n"
     ]
    },
    {
     "name": "stdout",
     "output_type": "stream",
     "text": [
      "13:16:03.829 DEBUG org.hibernate.SQL - insert into CUSTOMER (birthDate,creationDate,email,firstname,lastname,photo,status,version,ID) values (?,?,?,?,?,?,?,?,?)\n"
     ]
    },
    {
     "name": "stdout",
     "output_type": "stream",
     "text": [
      "13:16:03.829 DEBUG org.hibernate.SQL - select count(*)>0 from CUSTOMER c1_0 where c1_0.email=?\n"
     ]
    },
    {
     "name": "stdout",
     "output_type": "stream",
     "text": [
      "13:16:03.830 DEBUG org.hibernate.SQL - insert into CUSTOMER (birthDate,creationDate,email,firstname,lastname,photo,status,version,ID) values (?,?,?,?,?,?,?,?,?)\n"
     ]
    },
    {
     "name": "stdout",
     "output_type": "stream",
     "text": [
      "13:16:03.830 DEBUG org.hibernate.SQL - select count(*)>0 from CUSTOMER c1_0 where c1_0.email=?\n"
     ]
    },
    {
     "name": "stdout",
     "output_type": "stream",
     "text": [
      "13:16:03.831 DEBUG org.hibernate.SQL - insert into CUSTOMER (birthDate,creationDate,email,firstname,lastname,photo,status,version,ID) values (?,?,?,?,?,?,?,?,?)\n"
     ]
    },
    {
     "name": "stdout",
     "output_type": "stream",
     "text": [
      "13:16:03.831 DEBUG org.hibernate.SQL - select count(*)>0 from CUSTOMER c1_0 where c1_0.email=?\n"
     ]
    },
    {
     "name": "stdout",
     "output_type": "stream",
     "text": [
      "13:16:03.831 DEBUG org.hibernate.SQL - insert into CUSTOMER (birthDate,creationDate,email,firstname,lastname,photo,status,version,ID) values (?,?,?,?,?,?,?,?,?)\n"
     ]
    },
    {
     "name": "stdout",
     "output_type": "stream",
     "text": [
      "13:16:03.832 DEBUG org.hibernate.SQL - select count(*)>0 from CUSTOMER c1_0 where c1_0.email=?\n"
     ]
    },
    {
     "name": "stdout",
     "output_type": "stream",
     "text": [
      "13:16:03.832 DEBUG org.hibernate.SQL - insert into CUSTOMER (birthDate,creationDate,email,firstname,lastname,photo,status,version,ID) values (?,?,?,?,?,?,?,?,?)\n"
     ]
    },
    {
     "name": "stdout",
     "output_type": "stream",
     "text": [
      "13:16:03.832 DEBUG org.hibernate.SQL - select count(*)>0 from CUSTOMER c1_0 where c1_0.email=?\n"
     ]
    },
    {
     "name": "stdout",
     "output_type": "stream",
     "text": [
      "13:16:03.833 DEBUG org.hibernate.SQL - insert into CUSTOMER (birthDate,creationDate,email,firstname,lastname,photo,status,version,ID) values (?,?,?,?,?,?,?,?,?)\n"
     ]
    },
    {
     "name": "stdout",
     "output_type": "stream",
     "text": [
      "13:16:03.833 DEBUG org.hibernate.SQL - select count(*)>0 from CUSTOMER c1_0 where c1_0.email=?\n"
     ]
    },
    {
     "name": "stdout",
     "output_type": "stream",
     "text": [
      "13:16:03.833 DEBUG org.hibernate.SQL - insert into CUSTOMER (birthDate,creationDate,email,firstname,lastname,photo,status,version,ID) values (?,?,?,?,?,?,?,?,?)\n"
     ]
    },
    {
     "name": "stdout",
     "output_type": "stream",
     "text": [
      "13:16:03.834 DEBUG org.hibernate.SQL - select count(*)>0 from CUSTOMER c1_0 where c1_0.email=?\n"
     ]
    },
    {
     "name": "stdout",
     "output_type": "stream",
     "text": [
      "13:16:03.834 DEBUG org.hibernate.SQL - insert into CUSTOMER (birthDate,creationDate,email,firstname,lastname,photo,status,version,ID) values (?,?,?,?,?,?,?,?,?)\n"
     ]
    },
    {
     "name": "stdout",
     "output_type": "stream",
     "text": [
      "13:16:03.834 DEBUG org.hibernate.SQL - select count(*)>0 from CUSTOMER c1_0 where c1_0.email=?\n"
     ]
    },
    {
     "name": "stdout",
     "output_type": "stream",
     "text": [
      "13:16:03.835 DEBUG org.hibernate.SQL - insert into CUSTOMER (birthDate,creationDate,email,firstname,lastname,photo,status,version,ID) values (?,?,?,?,?,?,?,?,?)\n"
     ]
    },
    {
     "name": "stdout",
     "output_type": "stream",
     "text": [
      "13:16:03.835 DEBUG org.hibernate.SQL - select count(*)>0 from CUSTOMER c1_0 where c1_0.email=?\n"
     ]
    },
    {
     "name": "stdout",
     "output_type": "stream",
     "text": [
      "13:16:03.835 DEBUG org.hibernate.SQL - insert into CUSTOMER (birthDate,creationDate,email,firstname,lastname,photo,status,version,ID) values (?,?,?,?,?,?,?,?,?)\n"
     ]
    },
    {
     "name": "stdout",
     "output_type": "stream",
     "text": [
      "13:16:03.835 DEBUG org.hibernate.SQL - select count(*)>0 from CUSTOMER c1_0 where c1_0.email=?\n"
     ]
    },
    {
     "name": "stdout",
     "output_type": "stream",
     "text": [
      "13:16:03.836 DEBUG org.hibernate.SQL - insert into CUSTOMER (birthDate,creationDate,email,firstname,lastname,photo,status,version,ID) values (?,?,?,?,?,?,?,?,?)\n"
     ]
    },
    {
     "name": "stdout",
     "output_type": "stream",
     "text": [
      "13:16:03.836 DEBUG org.hibernate.SQL - select count(*)>0 from CUSTOMER c1_0 where c1_0.email=?\n"
     ]
    },
    {
     "name": "stdout",
     "output_type": "stream",
     "text": [
      "13:16:03.836 DEBUG org.hibernate.SQL - insert into CUSTOMER (birthDate,creationDate,email,firstname,lastname,photo,status,version,ID) values (?,?,?,?,?,?,?,?,?)\n"
     ]
    },
    {
     "name": "stdout",
     "output_type": "stream",
     "text": [
      "13:16:03.836 DEBUG org.hibernate.SQL - select count(*)>0 from CUSTOMER c1_0 where c1_0.email=?\n"
     ]
    },
    {
     "name": "stdout",
     "output_type": "stream",
     "text": [
      "13:16:03.837 DEBUG org.hibernate.SQL - insert into CUSTOMER (birthDate,creationDate,email,firstname,lastname,photo,status,version,ID) values (?,?,?,?,?,?,?,?,?)\n"
     ]
    },
    {
     "name": "stdout",
     "output_type": "stream",
     "text": [
      "13:16:03.837 DEBUG org.hibernate.SQL - select count(*)>0 from CUSTOMER c1_0 where c1_0.email=?\n"
     ]
    },
    {
     "name": "stdout",
     "output_type": "stream",
     "text": [
      "13:16:03.838 DEBUG org.hibernate.SQL - insert into CUSTOMER (birthDate,creationDate,email,firstname,lastname,photo,status,version,ID) values (?,?,?,?,?,?,?,?,?)\n"
     ]
    },
    {
     "name": "stdout",
     "output_type": "stream",
     "text": [
      "13:16:03.838 DEBUG org.hibernate.SQL - select count(*)>0 from CUSTOMER c1_0 where c1_0.email=?\n"
     ]
    },
    {
     "name": "stdout",
     "output_type": "stream",
     "text": [
      "13:16:03.838 DEBUG org.hibernate.SQL - insert into CUSTOMER (birthDate,creationDate,email,firstname,lastname,photo,status,version,ID) values (?,?,?,?,?,?,?,?,?)\n"
     ]
    },
    {
     "name": "stdout",
     "output_type": "stream",
     "text": [
      "13:16:03.838 DEBUG org.hibernate.SQL - select count(*)>0 from CUSTOMER c1_0 where c1_0.email=?\n"
     ]
    },
    {
     "name": "stdout",
     "output_type": "stream",
     "text": [
      "13:16:03.838 DEBUG org.hibernate.SQL - select nextval('CUSTOMER_SEQ')\n"
     ]
    },
    {
     "name": "stdout",
     "output_type": "stream",
     "text": [
      "13:16:03.839 DEBUG org.hibernate.SQL - insert into CUSTOMER (birthDate,creationDate,email,firstname,lastname,photo,status,version,ID) values (?,?,?,?,?,?,?,?,?)\n"
     ]
    },
    {
     "name": "stdout",
     "output_type": "stream",
     "text": [
      "13:16:03.839 DEBUG org.hibernate.SQL - select count(*)>0 from CUSTOMER c1_0 where c1_0.email=?\n"
     ]
    },
    {
     "name": "stdout",
     "output_type": "stream",
     "text": [
      "13:16:03.840 DEBUG org.hibernate.SQL - insert into CUSTOMER (birthDate,creationDate,email,firstname,lastname,photo,status,version,ID) values (?,?,?,?,?,?,?,?,?)\n"
     ]
    },
    {
     "name": "stdout",
     "output_type": "stream",
     "text": [
      "13:16:03.840 DEBUG org.hibernate.SQL - select count(*)>0 from CUSTOMER c1_0 where c1_0.email=?\n"
     ]
    },
    {
     "name": "stdout",
     "output_type": "stream",
     "text": [
      "13:16:03.840 DEBUG org.hibernate.SQL - insert into CUSTOMER (birthDate,creationDate,email,firstname,lastname,photo,status,version,ID) values (?,?,?,?,?,?,?,?,?)\n"
     ]
    },
    {
     "name": "stdout",
     "output_type": "stream",
     "text": [
      "13:16:03.841 DEBUG org.hibernate.SQL - select count(*)>0 from CUSTOMER c1_0 where c1_0.email=?\n"
     ]
    },
    {
     "name": "stdout",
     "output_type": "stream",
     "text": [
      "13:16:03.841 DEBUG org.hibernate.SQL - insert into CUSTOMER (birthDate,creationDate,email,firstname,lastname,photo,status,version,ID) values (?,?,?,?,?,?,?,?,?)\n"
     ]
    },
    {
     "name": "stdout",
     "output_type": "stream",
     "text": [
      "13:16:03.841 DEBUG org.hibernate.SQL - select count(*)>0 from CUSTOMER c1_0 where c1_0.email=?\n"
     ]
    },
    {
     "name": "stdout",
     "output_type": "stream",
     "text": [
      "13:16:03.842 DEBUG org.hibernate.SQL - insert into CUSTOMER (birthDate,creationDate,email,firstname,lastname,photo,status,version,ID) values (?,?,?,?,?,?,?,?,?)\n"
     ]
    },
    {
     "name": "stdout",
     "output_type": "stream",
     "text": [
      "13:16:03.842 DEBUG org.hibernate.SQL - select count(*)>0 from CUSTOMER c1_0 where c1_0.email=?\n"
     ]
    },
    {
     "name": "stdout",
     "output_type": "stream",
     "text": [
      "13:16:03.842 DEBUG org.hibernate.SQL - insert into CUSTOMER (birthDate,creationDate,email,firstname,lastname,photo,status,version,ID) values (?,?,?,?,?,?,?,?,?)\n"
     ]
    },
    {
     "name": "stdout",
     "output_type": "stream",
     "text": [
      "13:16:03.842 DEBUG org.hibernate.SQL - select count(*)>0 from CUSTOMER c1_0 where c1_0.email=?\n"
     ]
    },
    {
     "name": "stdout",
     "output_type": "stream",
     "text": [
      "13:16:03.843 DEBUG org.hibernate.SQL - insert into CUSTOMER (birthDate,creationDate,email,firstname,lastname,photo,status,version,ID) values (?,?,?,?,?,?,?,?,?)\n"
     ]
    },
    {
     "name": "stdout",
     "output_type": "stream",
     "text": [
      "13:16:03.843 DEBUG org.hibernate.SQL - select count(*)>0 from CUSTOMER c1_0 where c1_0.email=?\n"
     ]
    },
    {
     "name": "stdout",
     "output_type": "stream",
     "text": [
      "13:16:03.843 DEBUG org.hibernate.SQL - insert into CUSTOMER (birthDate,creationDate,email,firstname,lastname,photo,status,version,ID) values (?,?,?,?,?,?,?,?,?)\n"
     ]
    },
    {
     "name": "stdout",
     "output_type": "stream",
     "text": [
      "13:16:03.844 DEBUG org.hibernate.SQL - select count(*)>0 from CUSTOMER c1_0 where c1_0.email=?\n"
     ]
    },
    {
     "name": "stdout",
     "output_type": "stream",
     "text": [
      "13:16:03.844 DEBUG org.hibernate.SQL - insert into CUSTOMER (birthDate,creationDate,email,firstname,lastname,photo,status,version,ID) values (?,?,?,?,?,?,?,?,?)\n"
     ]
    },
    {
     "name": "stdout",
     "output_type": "stream",
     "text": [
      "13:16:03.844 DEBUG org.hibernate.SQL - select count(*)>0 from CUSTOMER c1_0 where c1_0.email=?\n"
     ]
    },
    {
     "name": "stdout",
     "output_type": "stream",
     "text": [
      "13:16:03.845 DEBUG org.hibernate.SQL - insert into CUSTOMER (birthDate,creationDate,email,firstname,lastname,photo,status,version,ID) values (?,?,?,?,?,?,?,?,?)\n"
     ]
    },
    {
     "name": "stdout",
     "output_type": "stream",
     "text": [
      "13:16:03.845 DEBUG org.hibernate.SQL - select count(*)>0 from CUSTOMER c1_0 where c1_0.email=?\n"
     ]
    },
    {
     "name": "stdout",
     "output_type": "stream",
     "text": [
      "13:16:03.845 DEBUG org.hibernate.SQL - insert into CUSTOMER (birthDate,creationDate,email,firstname,lastname,photo,status,version,ID) values (?,?,?,?,?,?,?,?,?)\n"
     ]
    },
    {
     "name": "stdout",
     "output_type": "stream",
     "text": [
      "13:16:03.845 DEBUG org.hibernate.SQL - select count(*)>0 from CUSTOMER c1_0 where c1_0.email=?\n"
     ]
    },
    {
     "name": "stdout",
     "output_type": "stream",
     "text": [
      "13:16:03.846 DEBUG org.hibernate.SQL - insert into CUSTOMER (birthDate,creationDate,email,firstname,lastname,photo,status,version,ID) values (?,?,?,?,?,?,?,?,?)\n"
     ]
    },
    {
     "name": "stdout",
     "output_type": "stream",
     "text": [
      "13:16:03.846 DEBUG org.hibernate.SQL - select count(*)>0 from CUSTOMER c1_0 where c1_0.email=?\n"
     ]
    },
    {
     "name": "stdout",
     "output_type": "stream",
     "text": [
      "13:16:03.846 DEBUG org.hibernate.SQL - insert into CUSTOMER (birthDate,creationDate,email,firstname,lastname,photo,status,version,ID) values (?,?,?,?,?,?,?,?,?)\n"
     ]
    },
    {
     "name": "stdout",
     "output_type": "stream",
     "text": [
      "13:16:03.847 DEBUG org.hibernate.SQL - select count(*)>0 from CUSTOMER c1_0 where c1_0.email=?\n"
     ]
    },
    {
     "name": "stdout",
     "output_type": "stream",
     "text": [
      "13:16:03.847 DEBUG org.hibernate.SQL - insert into CUSTOMER (birthDate,creationDate,email,firstname,lastname,photo,status,version,ID) values (?,?,?,?,?,?,?,?,?)\n"
     ]
    },
    {
     "name": "stdout",
     "output_type": "stream",
     "text": [
      "13:16:03.847 DEBUG org.hibernate.SQL - select count(*)>0 from CUSTOMER c1_0 where c1_0.email=?\n"
     ]
    },
    {
     "name": "stdout",
     "output_type": "stream",
     "text": [
      "13:16:03.848 DEBUG org.hibernate.SQL - insert into CUSTOMER (birthDate,creationDate,email,firstname,lastname,photo,status,version,ID) values (?,?,?,?,?,?,?,?,?)\n"
     ]
    },
    {
     "name": "stdout",
     "output_type": "stream",
     "text": [
      "13:16:03.848 DEBUG org.hibernate.SQL - select count(*)>0 from CUSTOMER c1_0 where c1_0.email=?\n"
     ]
    },
    {
     "name": "stdout",
     "output_type": "stream",
     "text": [
      "13:16:03.848 DEBUG org.hibernate.SQL - insert into CUSTOMER (birthDate,creationDate,email,firstname,lastname,photo,status,version,ID) values (?,?,?,?,?,?,?,?,?)\n"
     ]
    },
    {
     "name": "stdout",
     "output_type": "stream",
     "text": [
      "13:16:03.848 DEBUG org.hibernate.SQL - select count(*)>0 from CUSTOMER c1_0 where c1_0.email=?\n"
     ]
    },
    {
     "name": "stdout",
     "output_type": "stream",
     "text": [
      "13:16:03.849 DEBUG org.hibernate.SQL - insert into CUSTOMER (birthDate,creationDate,email,firstname,lastname,photo,status,version,ID) values (?,?,?,?,?,?,?,?,?)\n"
     ]
    },
    {
     "name": "stdout",
     "output_type": "stream",
     "text": [
      "13:16:03.849 DEBUG org.hibernate.SQL - select count(*)>0 from CUSTOMER c1_0 where c1_0.email=?\n"
     ]
    },
    {
     "name": "stdout",
     "output_type": "stream",
     "text": [
      "13:16:03.849 DEBUG org.hibernate.SQL - insert into CUSTOMER (birthDate,creationDate,email,firstname,lastname,photo,status,version,ID) values (?,?,?,?,?,?,?,?,?)\n"
     ]
    },
    {
     "name": "stdout",
     "output_type": "stream",
     "text": [
      "13:16:03.850 DEBUG org.hibernate.SQL - select count(*)>0 from CUSTOMER c1_0 where c1_0.email=?\n"
     ]
    },
    {
     "name": "stdout",
     "output_type": "stream",
     "text": [
      "13:16:03.850 DEBUG org.hibernate.SQL - insert into CUSTOMER (birthDate,creationDate,email,firstname,lastname,photo,status,version,ID) values (?,?,?,?,?,?,?,?,?)\n"
     ]
    },
    {
     "name": "stdout",
     "output_type": "stream",
     "text": [
      "13:16:03.850 DEBUG org.hibernate.SQL - select count(*)>0 from CUSTOMER c1_0 where c1_0.email=?\n"
     ]
    },
    {
     "name": "stdout",
     "output_type": "stream",
     "text": [
      "13:16:03.851 DEBUG org.hibernate.SQL - insert into CUSTOMER (birthDate,creationDate,email,firstname,lastname,photo,status,version,ID) values (?,?,?,?,?,?,?,?,?)\n"
     ]
    },
    {
     "name": "stdout",
     "output_type": "stream",
     "text": [
      "13:16:03.851 DEBUG org.hibernate.SQL - select count(*)>0 from CUSTOMER c1_0 where c1_0.email=?\n"
     ]
    },
    {
     "name": "stdout",
     "output_type": "stream",
     "text": [
      "13:16:03.851 DEBUG org.hibernate.SQL - insert into CUSTOMER (birthDate,creationDate,email,firstname,lastname,photo,status,version,ID) values (?,?,?,?,?,?,?,?,?)\n"
     ]
    },
    {
     "name": "stdout",
     "output_type": "stream",
     "text": [
      "13:16:03.851 DEBUG org.hibernate.SQL - select count(*)>0 from CUSTOMER c1_0 where c1_0.email=?\n"
     ]
    },
    {
     "name": "stdout",
     "output_type": "stream",
     "text": [
      "13:16:03.852 DEBUG org.hibernate.SQL - insert into CUSTOMER (birthDate,creationDate,email,firstname,lastname,photo,status,version,ID) values (?,?,?,?,?,?,?,?,?)\n"
     ]
    },
    {
     "name": "stdout",
     "output_type": "stream",
     "text": [
      "13:16:03.852 DEBUG org.hibernate.SQL - select count(*)>0 from CUSTOMER c1_0 where c1_0.email=?\n"
     ]
    },
    {
     "name": "stdout",
     "output_type": "stream",
     "text": [
      "13:16:03.852 DEBUG org.hibernate.SQL - insert into CUSTOMER (birthDate,creationDate,email,firstname,lastname,photo,status,version,ID) values (?,?,?,?,?,?,?,?,?)\n"
     ]
    },
    {
     "name": "stdout",
     "output_type": "stream",
     "text": [
      "13:16:03.853 DEBUG org.hibernate.SQL - select count(*)>0 from CUSTOMER c1_0 where c1_0.email=?\n"
     ]
    },
    {
     "name": "stdout",
     "output_type": "stream",
     "text": [
      "13:16:03.853 DEBUG org.hibernate.SQL - insert into CUSTOMER (birthDate,creationDate,email,firstname,lastname,photo,status,version,ID) values (?,?,?,?,?,?,?,?,?)\n"
     ]
    },
    {
     "name": "stdout",
     "output_type": "stream",
     "text": [
      "13:16:03.853 DEBUG org.hibernate.SQL - select count(*)>0 from CUSTOMER c1_0 where c1_0.email=?\n"
     ]
    },
    {
     "name": "stdout",
     "output_type": "stream",
     "text": [
      "13:16:03.854 DEBUG org.hibernate.SQL - insert into CUSTOMER (birthDate,creationDate,email,firstname,lastname,photo,status,version,ID) values (?,?,?,?,?,?,?,?,?)\n"
     ]
    },
    {
     "name": "stdout",
     "output_type": "stream",
     "text": [
      "13:16:03.854 DEBUG org.hibernate.SQL - select count(*)>0 from CUSTOMER c1_0 where c1_0.email=?\n"
     ]
    },
    {
     "name": "stdout",
     "output_type": "stream",
     "text": [
      "13:16:03.854 DEBUG org.hibernate.SQL - insert into CUSTOMER (birthDate,creationDate,email,firstname,lastname,photo,status,version,ID) values (?,?,?,?,?,?,?,?,?)\n"
     ]
    },
    {
     "name": "stdout",
     "output_type": "stream",
     "text": [
      "13:16:03.854 DEBUG org.hibernate.SQL - select count(*)>0 from CUSTOMER c1_0 where c1_0.email=?\n"
     ]
    },
    {
     "name": "stdout",
     "output_type": "stream",
     "text": [
      "13:16:03.855 DEBUG org.hibernate.SQL - insert into CUSTOMER (birthDate,creationDate,email,firstname,lastname,photo,status,version,ID) values (?,?,?,?,?,?,?,?,?)\n"
     ]
    },
    {
     "name": "stdout",
     "output_type": "stream",
     "text": [
      "13:16:03.855 DEBUG org.hibernate.SQL - select count(*)>0 from CUSTOMER c1_0 where c1_0.email=?\n"
     ]
    },
    {
     "name": "stdout",
     "output_type": "stream",
     "text": [
      "13:16:03.856 DEBUG org.hibernate.SQL - insert into CUSTOMER (birthDate,creationDate,email,firstname,lastname,photo,status,version,ID) values (?,?,?,?,?,?,?,?,?)\n"
     ]
    },
    {
     "name": "stdout",
     "output_type": "stream",
     "text": [
      "13:16:03.856 DEBUG org.hibernate.SQL - select count(*)>0 from CUSTOMER c1_0 where c1_0.email=?\n"
     ]
    },
    {
     "name": "stdout",
     "output_type": "stream",
     "text": [
      "13:16:03.856 DEBUG org.hibernate.SQL - insert into CUSTOMER (birthDate,creationDate,email,firstname,lastname,photo,status,version,ID) values (?,?,?,?,?,?,?,?,?)\n"
     ]
    },
    {
     "name": "stdout",
     "output_type": "stream",
     "text": [
      "13:16:03.856 DEBUG org.hibernate.SQL - select count(*)>0 from CUSTOMER c1_0 where c1_0.email=?\n"
     ]
    },
    {
     "name": "stdout",
     "output_type": "stream",
     "text": [
      "13:16:03.857 DEBUG org.hibernate.SQL - insert into CUSTOMER (birthDate,creationDate,email,firstname,lastname,photo,status,version,ID) values (?,?,?,?,?,?,?,?,?)\n"
     ]
    },
    {
     "name": "stdout",
     "output_type": "stream",
     "text": [
      "13:16:03.857 DEBUG org.hibernate.SQL - select count(*)>0 from CUSTOMER c1_0 where c1_0.email=?\n"
     ]
    },
    {
     "name": "stdout",
     "output_type": "stream",
     "text": [
      "13:16:03.857 DEBUG org.hibernate.SQL - insert into CUSTOMER (birthDate,creationDate,email,firstname,lastname,photo,status,version,ID) values (?,?,?,?,?,?,?,?,?)\n"
     ]
    },
    {
     "name": "stdout",
     "output_type": "stream",
     "text": [
      "13:16:03.858 DEBUG org.hibernate.SQL - select count(*)>0 from CUSTOMER c1_0 where c1_0.email=?\n"
     ]
    },
    {
     "name": "stdout",
     "output_type": "stream",
     "text": [
      "13:16:03.858 DEBUG org.hibernate.SQL - insert into CUSTOMER (birthDate,creationDate,email,firstname,lastname,photo,status,version,ID) values (?,?,?,?,?,?,?,?,?)\n"
     ]
    },
    {
     "name": "stdout",
     "output_type": "stream",
     "text": [
      "13:16:03.858 DEBUG org.hibernate.SQL - select count(*)>0 from CUSTOMER c1_0 where c1_0.email=?\n"
     ]
    },
    {
     "name": "stdout",
     "output_type": "stream",
     "text": [
      "13:16:03.859 DEBUG org.hibernate.SQL - insert into CUSTOMER (birthDate,creationDate,email,firstname,lastname,photo,status,version,ID) values (?,?,?,?,?,?,?,?,?)\n"
     ]
    },
    {
     "name": "stdout",
     "output_type": "stream",
     "text": [
      "13:16:03.859 DEBUG org.hibernate.SQL - select count(*)>0 from CUSTOMER c1_0 where c1_0.email=?\n"
     ]
    },
    {
     "name": "stdout",
     "output_type": "stream",
     "text": [
      "13:16:03.859 DEBUG org.hibernate.SQL - insert into CUSTOMER (birthDate,creationDate,email,firstname,lastname,photo,status,version,ID) values (?,?,?,?,?,?,?,?,?)\n"
     ]
    },
    {
     "name": "stdout",
     "output_type": "stream",
     "text": [
      "13:16:03.859 DEBUG org.hibernate.SQL - select count(*)>0 from CUSTOMER c1_0 where c1_0.email=?\n"
     ]
    },
    {
     "name": "stdout",
     "output_type": "stream",
     "text": [
      "13:16:03.860 DEBUG org.hibernate.SQL - insert into CUSTOMER (birthDate,creationDate,email,firstname,lastname,photo,status,version,ID) values (?,?,?,?,?,?,?,?,?)\n"
     ]
    },
    {
     "name": "stdout",
     "output_type": "stream",
     "text": [
      "13:16:03.860 DEBUG org.hibernate.SQL - select count(*)>0 from CUSTOMER c1_0 where c1_0.email=?\n"
     ]
    },
    {
     "name": "stdout",
     "output_type": "stream",
     "text": [
      "13:16:03.860 DEBUG org.hibernate.SQL - insert into CUSTOMER (birthDate,creationDate,email,firstname,lastname,photo,status,version,ID) values (?,?,?,?,?,?,?,?,?)\n"
     ]
    },
    {
     "name": "stdout",
     "output_type": "stream",
     "text": [
      "13:16:03.861 DEBUG org.hibernate.SQL - select count(*)>0 from CUSTOMER c1_0 where c1_0.email=?\n"
     ]
    },
    {
     "name": "stdout",
     "output_type": "stream",
     "text": [
      "13:16:03.861 DEBUG org.hibernate.SQL - insert into CUSTOMER (birthDate,creationDate,email,firstname,lastname,photo,status,version,ID) values (?,?,?,?,?,?,?,?,?)\n"
     ]
    },
    {
     "name": "stdout",
     "output_type": "stream",
     "text": [
      "13:16:03.861 DEBUG org.hibernate.SQL - select count(*)>0 from CUSTOMER c1_0 where c1_0.email=?\n"
     ]
    },
    {
     "name": "stdout",
     "output_type": "stream",
     "text": [
      "13:16:03.862 DEBUG org.hibernate.SQL - insert into CUSTOMER (birthDate,creationDate,email,firstname,lastname,photo,status,version,ID) values (?,?,?,?,?,?,?,?,?)\n"
     ]
    },
    {
     "name": "stdout",
     "output_type": "stream",
     "text": [
      "13:16:03.862 DEBUG org.hibernate.SQL - select count(*)>0 from CUSTOMER c1_0 where c1_0.email=?\n"
     ]
    },
    {
     "name": "stdout",
     "output_type": "stream",
     "text": [
      "13:16:03.862 DEBUG org.hibernate.SQL - insert into CUSTOMER (birthDate,creationDate,email,firstname,lastname,photo,status,version,ID) values (?,?,?,?,?,?,?,?,?)\n"
     ]
    },
    {
     "name": "stdout",
     "output_type": "stream",
     "text": [
      "13:16:03.863 DEBUG org.hibernate.SQL - select count(*)>0 from CUSTOMER c1_0 where c1_0.email=?\n"
     ]
    },
    {
     "name": "stdout",
     "output_type": "stream",
     "text": [
      "13:16:03.863 DEBUG org.hibernate.SQL - insert into CUSTOMER (birthDate,creationDate,email,firstname,lastname,photo,status,version,ID) values (?,?,?,?,?,?,?,?,?)\n"
     ]
    },
    {
     "name": "stdout",
     "output_type": "stream",
     "text": [
      "13:16:03.863 DEBUG org.hibernate.SQL - select count(*)>0 from CUSTOMER c1_0 where c1_0.email=?\n"
     ]
    },
    {
     "name": "stdout",
     "output_type": "stream",
     "text": [
      "13:16:03.864 DEBUG org.hibernate.SQL - insert into CUSTOMER (birthDate,creationDate,email,firstname,lastname,photo,status,version,ID) values (?,?,?,?,?,?,?,?,?)\n"
     ]
    },
    {
     "name": "stdout",
     "output_type": "stream",
     "text": [
      "13:16:03.864 DEBUG org.hibernate.SQL - select count(*)>0 from CUSTOMER c1_0 where c1_0.email=?\n"
     ]
    },
    {
     "name": "stdout",
     "output_type": "stream",
     "text": [
      "13:16:03.864 DEBUG org.hibernate.SQL - insert into CUSTOMER (birthDate,creationDate,email,firstname,lastname,photo,status,version,ID) values (?,?,?,?,?,?,?,?,?)\n"
     ]
    },
    {
     "name": "stdout",
     "output_type": "stream",
     "text": [
      "13:16:03.865 DEBUG org.hibernate.SQL - select count(*)>0 from CUSTOMER c1_0 where c1_0.email=?\n"
     ]
    },
    {
     "name": "stdout",
     "output_type": "stream",
     "text": [
      "13:16:03.865 DEBUG org.hibernate.SQL - insert into CUSTOMER (birthDate,creationDate,email,firstname,lastname,photo,status,version,ID) values (?,?,?,?,?,?,?,?,?)\n"
     ]
    },
    {
     "name": "stdout",
     "output_type": "stream",
     "text": [
      "13:16:03.865 DEBUG org.hibernate.SQL - select count(*)>0 from CUSTOMER c1_0 where c1_0.email=?\n"
     ]
    },
    {
     "name": "stdout",
     "output_type": "stream",
     "text": [
      "13:16:03.866 DEBUG org.hibernate.SQL - insert into CUSTOMER (birthDate,creationDate,email,firstname,lastname,photo,status,version,ID) values (?,?,?,?,?,?,?,?,?)\n"
     ]
    },
    {
     "name": "stdout",
     "output_type": "stream",
     "text": [
      "13:16:03.866 DEBUG org.hibernate.SQL - select count(*)>0 from CUSTOMER c1_0 where c1_0.email=?\n"
     ]
    },
    {
     "name": "stdout",
     "output_type": "stream",
     "text": [
      "13:16:03.866 DEBUG org.hibernate.SQL - insert into CUSTOMER (birthDate,creationDate,email,firstname,lastname,photo,status,version,ID) values (?,?,?,?,?,?,?,?,?)\n"
     ]
    },
    {
     "name": "stdout",
     "output_type": "stream",
     "text": [
      "13:16:03.866 DEBUG org.hibernate.SQL - select count(*)>0 from CUSTOMER c1_0 where c1_0.email=?\n"
     ]
    },
    {
     "name": "stdout",
     "output_type": "stream",
     "text": [
      "13:16:03.867 DEBUG org.hibernate.SQL - insert into CUSTOMER (birthDate,creationDate,email,firstname,lastname,photo,status,version,ID) values (?,?,?,?,?,?,?,?,?)\n"
     ]
    },
    {
     "name": "stdout",
     "output_type": "stream",
     "text": [
      "13:16:03.867 DEBUG org.hibernate.SQL - select count(*)>0 from CUSTOMER c1_0 where c1_0.email=?\n"
     ]
    },
    {
     "name": "stdout",
     "output_type": "stream",
     "text": [
      "13:16:03.868 DEBUG org.hibernate.SQL - insert into CUSTOMER (birthDate,creationDate,email,firstname,lastname,photo,status,version,ID) values (?,?,?,?,?,?,?,?,?)\n"
     ]
    },
    {
     "name": "stdout",
     "output_type": "stream",
     "text": [
      "13:16:03.868 DEBUG org.hibernate.SQL - select count(*)>0 from CUSTOMER c1_0 where c1_0.email=?\n"
     ]
    },
    {
     "name": "stdout",
     "output_type": "stream",
     "text": [
      "13:16:03.868 DEBUG org.hibernate.SQL - insert into CUSTOMER (birthDate,creationDate,email,firstname,lastname,photo,status,version,ID) values (?,?,?,?,?,?,?,?,?)\n"
     ]
    },
    {
     "name": "stdout",
     "output_type": "stream",
     "text": [
      "13:16:03.868 DEBUG org.hibernate.SQL - select count(*)>0 from CUSTOMER c1_0 where c1_0.email=?\n"
     ]
    },
    {
     "name": "stdout",
     "output_type": "stream",
     "text": [
      "13:16:03.869 DEBUG org.hibernate.SQL - insert into CUSTOMER (birthDate,creationDate,email,firstname,lastname,photo,status,version,ID) values (?,?,?,?,?,?,?,?,?)\n"
     ]
    },
    {
     "name": "stdout",
     "output_type": "stream",
     "text": [
      "13:16:03.869 DEBUG org.hibernate.SQL - select count(*)>0 from CUSTOMER c1_0 where c1_0.email=?\n"
     ]
    },
    {
     "name": "stdout",
     "output_type": "stream",
     "text": [
      "13:16:03.869 DEBUG org.hibernate.SQL - insert into CUSTOMER (birthDate,creationDate,email,firstname,lastname,photo,status,version,ID) values (?,?,?,?,?,?,?,?,?)\n"
     ]
    },
    {
     "name": "stdout",
     "output_type": "stream",
     "text": [
      "13:16:03.870 DEBUG org.hibernate.SQL - select count(*)>0 from CUSTOMER c1_0 where c1_0.email=?\n"
     ]
    },
    {
     "name": "stdout",
     "output_type": "stream",
     "text": [
      "13:16:03.870 DEBUG org.hibernate.SQL - select nextval('CUSTOMER_SEQ')\n"
     ]
    },
    {
     "name": "stdout",
     "output_type": "stream",
     "text": [
      "13:16:03.870 DEBUG org.hibernate.SQL - insert into CUSTOMER (birthDate,creationDate,email,firstname,lastname,photo,status,version,ID) values (?,?,?,?,?,?,?,?,?)\n"
     ]
    },
    {
     "name": "stdout",
     "output_type": "stream",
     "text": [
      "13:16:03.870 DEBUG org.hibernate.SQL - select count(*)>0 from CUSTOMER c1_0 where c1_0.email=?\n"
     ]
    },
    {
     "name": "stdout",
     "output_type": "stream",
     "text": [
      "13:16:03.871 DEBUG org.hibernate.SQL - insert into CUSTOMER (birthDate,creationDate,email,firstname,lastname,photo,status,version,ID) values (?,?,?,?,?,?,?,?,?)\n"
     ]
    },
    {
     "name": "stdout",
     "output_type": "stream",
     "text": [
      "13:16:03.871 DEBUG org.hibernate.SQL - select count(*)>0 from CUSTOMER c1_0 where c1_0.email=?\n"
     ]
    },
    {
     "name": "stdout",
     "output_type": "stream",
     "text": [
      "13:16:03.871 DEBUG org.hibernate.SQL - insert into CUSTOMER (birthDate,creationDate,email,firstname,lastname,photo,status,version,ID) values (?,?,?,?,?,?,?,?,?)\n"
     ]
    },
    {
     "name": "stdout",
     "output_type": "stream",
     "text": [
      "13:16:03.871 DEBUG org.hibernate.SQL - select count(*)>0 from CUSTOMER c1_0 where c1_0.email=?\n"
     ]
    },
    {
     "name": "stdout",
     "output_type": "stream",
     "text": [
      "13:16:03.872 DEBUG org.hibernate.SQL - insert into CUSTOMER (birthDate,creationDate,email,firstname,lastname,photo,status,version,ID) values (?,?,?,?,?,?,?,?,?)\n"
     ]
    },
    {
     "name": "stdout",
     "output_type": "stream",
     "text": [
      "13:16:03.872 DEBUG org.hibernate.SQL - select count(*)>0 from CUSTOMER c1_0 where c1_0.email=?\n"
     ]
    },
    {
     "name": "stdout",
     "output_type": "stream",
     "text": [
      "13:16:03.873 DEBUG org.hibernate.SQL - insert into CUSTOMER (birthDate,creationDate,email,firstname,lastname,photo,status,version,ID) values (?,?,?,?,?,?,?,?,?)\n"
     ]
    },
    {
     "name": "stdout",
     "output_type": "stream",
     "text": [
      "13:16:03.873 DEBUG org.hibernate.SQL - select count(*)>0 from CUSTOMER c1_0 where c1_0.email=?\n"
     ]
    },
    {
     "name": "stdout",
     "output_type": "stream",
     "text": [
      "13:16:03.873 DEBUG org.hibernate.SQL - insert into CUSTOMER (birthDate,creationDate,email,firstname,lastname,photo,status,version,ID) values (?,?,?,?,?,?,?,?,?)\n"
     ]
    },
    {
     "name": "stdout",
     "output_type": "stream",
     "text": [
      "13:16:03.874 DEBUG org.hibernate.SQL - select count(*)>0 from CUSTOMER c1_0 where c1_0.email=?\n"
     ]
    },
    {
     "name": "stdout",
     "output_type": "stream",
     "text": [
      "13:16:03.874 DEBUG org.hibernate.SQL - insert into CUSTOMER (birthDate,creationDate,email,firstname,lastname,photo,status,version,ID) values (?,?,?,?,?,?,?,?,?)\n"
     ]
    },
    {
     "name": "stdout",
     "output_type": "stream",
     "text": [
      "13:16:03.874 DEBUG org.hibernate.SQL - select count(*)>0 from CUSTOMER c1_0 where c1_0.email=?\n"
     ]
    },
    {
     "name": "stdout",
     "output_type": "stream",
     "text": [
      "13:16:03.875 DEBUG org.hibernate.SQL - insert into CUSTOMER (birthDate,creationDate,email,firstname,lastname,photo,status,version,ID) values (?,?,?,?,?,?,?,?,?)\n"
     ]
    },
    {
     "name": "stdout",
     "output_type": "stream",
     "text": [
      "13:16:03.875 DEBUG org.hibernate.SQL - select count(*)>0 from CUSTOMER c1_0 where c1_0.email=?\n"
     ]
    },
    {
     "name": "stdout",
     "output_type": "stream",
     "text": [
      "13:16:03.876 DEBUG org.hibernate.SQL - insert into CUSTOMER (birthDate,creationDate,email,firstname,lastname,photo,status,version,ID) values (?,?,?,?,?,?,?,?,?)\n"
     ]
    },
    {
     "name": "stdout",
     "output_type": "stream",
     "text": [
      "13:16:03.876 DEBUG org.hibernate.SQL - select count(*)>0 from CUSTOMER c1_0 where c1_0.email=?\n"
     ]
    },
    {
     "name": "stdout",
     "output_type": "stream",
     "text": [
      "13:16:03.876 DEBUG org.hibernate.SQL - insert into CUSTOMER (birthDate,creationDate,email,firstname,lastname,photo,status,version,ID) values (?,?,?,?,?,?,?,?,?)\n"
     ]
    },
    {
     "name": "stdout",
     "output_type": "stream",
     "text": [
      "13:16:03.876 DEBUG org.hibernate.SQL - select count(*)>0 from CUSTOMER c1_0 where c1_0.email=?\n"
     ]
    },
    {
     "name": "stdout",
     "output_type": "stream",
     "text": [
      "13:16:03.877 DEBUG org.hibernate.SQL - insert into CUSTOMER (birthDate,creationDate,email,firstname,lastname,photo,status,version,ID) values (?,?,?,?,?,?,?,?,?)\n"
     ]
    },
    {
     "name": "stdout",
     "output_type": "stream",
     "text": [
      "13:16:03.877 DEBUG org.hibernate.SQL - select count(*)>0 from CUSTOMER c1_0 where c1_0.email=?\n"
     ]
    },
    {
     "name": "stdout",
     "output_type": "stream",
     "text": [
      "13:16:03.878 DEBUG org.hibernate.SQL - insert into CUSTOMER (birthDate,creationDate,email,firstname,lastname,photo,status,version,ID) values (?,?,?,?,?,?,?,?,?)\n"
     ]
    },
    {
     "name": "stdout",
     "output_type": "stream",
     "text": [
      "13:16:03.878 DEBUG org.hibernate.SQL - select count(*)>0 from CUSTOMER c1_0 where c1_0.email=?\n"
     ]
    },
    {
     "name": "stdout",
     "output_type": "stream",
     "text": [
      "13:16:03.878 DEBUG org.hibernate.SQL - insert into CUSTOMER (birthDate,creationDate,email,firstname,lastname,photo,status,version,ID) values (?,?,?,?,?,?,?,?,?)\n"
     ]
    },
    {
     "name": "stdout",
     "output_type": "stream",
     "text": [
      "13:16:03.878 DEBUG org.hibernate.SQL - select count(*)>0 from CUSTOMER c1_0 where c1_0.email=?\n"
     ]
    },
    {
     "name": "stdout",
     "output_type": "stream",
     "text": [
      "13:16:03.879 DEBUG org.hibernate.SQL - insert into CUSTOMER (birthDate,creationDate,email,firstname,lastname,photo,status,version,ID) values (?,?,?,?,?,?,?,?,?)\n"
     ]
    },
    {
     "name": "stdout",
     "output_type": "stream",
     "text": [
      "13:16:03.879 DEBUG org.hibernate.SQL - select count(*)>0 from CUSTOMER c1_0 where c1_0.email=?\n"
     ]
    },
    {
     "name": "stdout",
     "output_type": "stream",
     "text": [
      "13:16:03.879 DEBUG org.hibernate.SQL - insert into CUSTOMER (birthDate,creationDate,email,firstname,lastname,photo,status,version,ID) values (?,?,?,?,?,?,?,?,?)\n"
     ]
    },
    {
     "name": "stdout",
     "output_type": "stream",
     "text": [
      "13:16:03.880 DEBUG org.hibernate.SQL - select count(*)>0 from CUSTOMER c1_0 where c1_0.email=?\n"
     ]
    },
    {
     "name": "stdout",
     "output_type": "stream",
     "text": [
      "13:16:03.880 DEBUG org.hibernate.SQL - insert into CUSTOMER (birthDate,creationDate,email,firstname,lastname,photo,status,version,ID) values (?,?,?,?,?,?,?,?,?)\n"
     ]
    },
    {
     "name": "stdout",
     "output_type": "stream",
     "text": [
      "13:16:03.880 DEBUG org.hibernate.SQL - select count(*)>0 from CUSTOMER c1_0 where c1_0.email=?\n"
     ]
    },
    {
     "name": "stdout",
     "output_type": "stream",
     "text": [
      "13:16:03.881 DEBUG org.hibernate.SQL - insert into CUSTOMER (birthDate,creationDate,email,firstname,lastname,photo,status,version,ID) values (?,?,?,?,?,?,?,?,?)\n"
     ]
    },
    {
     "name": "stdout",
     "output_type": "stream",
     "text": [
      "13:16:03.881 DEBUG org.hibernate.SQL - select count(*)>0 from CUSTOMER c1_0 where c1_0.email=?\n"
     ]
    },
    {
     "name": "stdout",
     "output_type": "stream",
     "text": [
      "13:16:03.881 DEBUG org.hibernate.SQL - insert into CUSTOMER (birthDate,creationDate,email,firstname,lastname,photo,status,version,ID) values (?,?,?,?,?,?,?,?,?)\n"
     ]
    },
    {
     "name": "stdout",
     "output_type": "stream",
     "text": [
      "13:16:03.882 DEBUG org.hibernate.SQL - select count(*)>0 from CUSTOMER c1_0 where c1_0.email=?\n"
     ]
    },
    {
     "name": "stdout",
     "output_type": "stream",
     "text": [
      "13:16:03.882 DEBUG org.hibernate.SQL - insert into CUSTOMER (birthDate,creationDate,email,firstname,lastname,photo,status,version,ID) values (?,?,?,?,?,?,?,?,?)\n"
     ]
    },
    {
     "name": "stdout",
     "output_type": "stream",
     "text": [
      "13:16:03.882 DEBUG org.hibernate.SQL - select count(*)>0 from CUSTOMER c1_0 where c1_0.email=?\n"
     ]
    },
    {
     "name": "stdout",
     "output_type": "stream",
     "text": [
      "13:16:03.883 DEBUG org.hibernate.SQL - insert into CUSTOMER (birthDate,creationDate,email,firstname,lastname,photo,status,version,ID) values (?,?,?,?,?,?,?,?,?)\n"
     ]
    },
    {
     "name": "stdout",
     "output_type": "stream",
     "text": [
      "13:16:03.883 DEBUG org.hibernate.SQL - select count(*)>0 from CUSTOMER c1_0 where c1_0.email=?\n"
     ]
    },
    {
     "name": "stdout",
     "output_type": "stream",
     "text": [
      "13:16:03.883 DEBUG org.hibernate.SQL - insert into CUSTOMER (birthDate,creationDate,email,firstname,lastname,photo,status,version,ID) values (?,?,?,?,?,?,?,?,?)\n"
     ]
    },
    {
     "name": "stdout",
     "output_type": "stream",
     "text": [
      "13:16:03.884 DEBUG org.hibernate.SQL - select count(*)>0 from CUSTOMER c1_0 where c1_0.email=?\n"
     ]
    },
    {
     "name": "stdout",
     "output_type": "stream",
     "text": [
      "13:16:03.885 DEBUG org.hibernate.SQL - insert into CUSTOMER (birthDate,creationDate,email,firstname,lastname,photo,status,version,ID) values (?,?,?,?,?,?,?,?,?)\n"
     ]
    },
    {
     "name": "stdout",
     "output_type": "stream",
     "text": [
      "13:16:03.885 DEBUG org.hibernate.SQL - select count(*)>0 from CUSTOMER c1_0 where c1_0.email=?\n"
     ]
    },
    {
     "name": "stdout",
     "output_type": "stream",
     "text": [
      "13:16:03.886 DEBUG org.hibernate.SQL - insert into CUSTOMER (birthDate,creationDate,email,firstname,lastname,photo,status,version,ID) values (?,?,?,?,?,?,?,?,?)\n"
     ]
    },
    {
     "name": "stdout",
     "output_type": "stream",
     "text": [
      "13:16:03.887 DEBUG org.hibernate.SQL - select count(*)>0 from CUSTOMER c1_0 where c1_0.email=?\n"
     ]
    },
    {
     "name": "stdout",
     "output_type": "stream",
     "text": [
      "13:16:03.888 DEBUG org.hibernate.SQL - insert into CUSTOMER (birthDate,creationDate,email,firstname,lastname,photo,status,version,ID) values (?,?,?,?,?,?,?,?,?)\n"
     ]
    },
    {
     "name": "stdout",
     "output_type": "stream",
     "text": [
      "13:16:03.888 DEBUG org.hibernate.SQL - select count(*)>0 from CUSTOMER c1_0 where c1_0.email=?\n"
     ]
    },
    {
     "name": "stdout",
     "output_type": "stream",
     "text": [
      "13:16:03.889 DEBUG org.hibernate.SQL - insert into CUSTOMER (birthDate,creationDate,email,firstname,lastname,photo,status,version,ID) values (?,?,?,?,?,?,?,?,?)\n"
     ]
    },
    {
     "name": "stdout",
     "output_type": "stream",
     "text": [
      "13:16:03.890 DEBUG org.hibernate.SQL - select count(*)>0 from CUSTOMER c1_0 where c1_0.email=?\n"
     ]
    },
    {
     "name": "stdout",
     "output_type": "stream",
     "text": [
      "13:16:03.892 DEBUG org.hibernate.SQL - insert into CUSTOMER (birthDate,creationDate,email,firstname,lastname,photo,status,version,ID) values (?,?,?,?,?,?,?,?,?)\n"
     ]
    },
    {
     "name": "stdout",
     "output_type": "stream",
     "text": [
      "13:16:03.893 DEBUG org.hibernate.SQL - select count(*)>0 from CUSTOMER c1_0 where c1_0.email=?\n"
     ]
    },
    {
     "name": "stdout",
     "output_type": "stream",
     "text": [
      "13:16:03.894 DEBUG org.hibernate.SQL - insert into CUSTOMER (birthDate,creationDate,email,firstname,lastname,photo,status,version,ID) values (?,?,?,?,?,?,?,?,?)\n"
     ]
    },
    {
     "name": "stdout",
     "output_type": "stream",
     "text": [
      "13:16:03.895 DEBUG org.hibernate.SQL - select count(*)>0 from CUSTOMER c1_0 where c1_0.email=?\n"
     ]
    },
    {
     "name": "stdout",
     "output_type": "stream",
     "text": [
      "13:16:03.895 DEBUG org.hibernate.SQL - insert into CUSTOMER (birthDate,creationDate,email,firstname,lastname,photo,status,version,ID) values (?,?,?,?,?,?,?,?,?)\n"
     ]
    },
    {
     "name": "stdout",
     "output_type": "stream",
     "text": [
      "13:16:03.896 DEBUG org.hibernate.SQL - select count(*)>0 from CUSTOMER c1_0 where c1_0.email=?\n"
     ]
    },
    {
     "name": "stdout",
     "output_type": "stream",
     "text": [
      "13:16:03.896 DEBUG org.hibernate.SQL - insert into CUSTOMER (birthDate,creationDate,email,firstname,lastname,photo,status,version,ID) values (?,?,?,?,?,?,?,?,?)\n"
     ]
    },
    {
     "name": "stdout",
     "output_type": "stream",
     "text": [
      "13:16:03.897 DEBUG org.hibernate.SQL - select count(*)>0 from CUSTOMER c1_0 where c1_0.email=?\n"
     ]
    },
    {
     "name": "stdout",
     "output_type": "stream",
     "text": [
      "13:16:03.897 DEBUG org.hibernate.SQL - insert into CUSTOMER (birthDate,creationDate,email,firstname,lastname,photo,status,version,ID) values (?,?,?,?,?,?,?,?,?)\n"
     ]
    },
    {
     "name": "stdout",
     "output_type": "stream",
     "text": [
      "13:16:03.900 DEBUG org.hibernate.SQL - select count(*)>0 from CUSTOMER c1_0 where c1_0.email=?\n"
     ]
    },
    {
     "name": "stdout",
     "output_type": "stream",
     "text": [
      "13:16:03.902 DEBUG org.hibernate.SQL - insert into CUSTOMER (birthDate,creationDate,email,firstname,lastname,photo,status,version,ID) values (?,?,?,?,?,?,?,?,?)\n"
     ]
    },
    {
     "name": "stdout",
     "output_type": "stream",
     "text": [
      "13:16:03.903 DEBUG org.hibernate.SQL - select count(*)>0 from CUSTOMER c1_0 where c1_0.email=?\n"
     ]
    },
    {
     "name": "stdout",
     "output_type": "stream",
     "text": [
      "13:16:03.904 DEBUG org.hibernate.SQL - insert into CUSTOMER (birthDate,creationDate,email,firstname,lastname,photo,status,version,ID) values (?,?,?,?,?,?,?,?,?)\n"
     ]
    },
    {
     "name": "stdout",
     "output_type": "stream",
     "text": [
      "13:16:03.904 DEBUG org.hibernate.SQL - select count(*)>0 from CUSTOMER c1_0 where c1_0.email=?\n"
     ]
    },
    {
     "name": "stdout",
     "output_type": "stream",
     "text": [
      "13:16:03.904 DEBUG org.hibernate.SQL - insert into CUSTOMER (birthDate,creationDate,email,firstname,lastname,photo,status,version,ID) values (?,?,?,?,?,?,?,?,?)\n"
     ]
    },
    {
     "name": "stdout",
     "output_type": "stream",
     "text": [
      "13:16:03.905 DEBUG org.hibernate.SQL - select count(*)>0 from CUSTOMER c1_0 where c1_0.email=?\n"
     ]
    },
    {
     "name": "stdout",
     "output_type": "stream",
     "text": [
      "13:16:03.905 DEBUG org.hibernate.SQL - insert into CUSTOMER (birthDate,creationDate,email,firstname,lastname,photo,status,version,ID) values (?,?,?,?,?,?,?,?,?)\n"
     ]
    },
    {
     "name": "stdout",
     "output_type": "stream",
     "text": [
      "13:16:03.906 DEBUG org.hibernate.SQL - select count(*)>0 from CUSTOMER c1_0 where c1_0.email=?\n"
     ]
    },
    {
     "name": "stdout",
     "output_type": "stream",
     "text": [
      "13:16:03.907 DEBUG org.hibernate.SQL - insert into CUSTOMER (birthDate,creationDate,email,firstname,lastname,photo,status,version,ID) values (?,?,?,?,?,?,?,?,?)\n"
     ]
    },
    {
     "name": "stdout",
     "output_type": "stream",
     "text": [
      "13:16:03.908 DEBUG org.hibernate.SQL - select count(*)>0 from CUSTOMER c1_0 where c1_0.email=?\n"
     ]
    },
    {
     "name": "stdout",
     "output_type": "stream",
     "text": [
      "13:16:03.908 DEBUG org.hibernate.SQL - insert into CUSTOMER (birthDate,creationDate,email,firstname,lastname,photo,status,version,ID) values (?,?,?,?,?,?,?,?,?)\n"
     ]
    },
    {
     "name": "stdout",
     "output_type": "stream",
     "text": [
      "13:16:03.909 DEBUG org.hibernate.SQL - select count(*)>0 from CUSTOMER c1_0 where c1_0.email=?\n"
     ]
    },
    {
     "name": "stdout",
     "output_type": "stream",
     "text": [
      "13:16:03.909 DEBUG org.hibernate.SQL - insert into CUSTOMER (birthDate,creationDate,email,firstname,lastname,photo,status,version,ID) values (?,?,?,?,?,?,?,?,?)\n"
     ]
    },
    {
     "name": "stdout",
     "output_type": "stream",
     "text": [
      "13:16:03.910 DEBUG org.hibernate.SQL - select count(*)>0 from CUSTOMER c1_0 where c1_0.email=?\n"
     ]
    },
    {
     "name": "stdout",
     "output_type": "stream",
     "text": [
      "13:16:03.911 DEBUG org.hibernate.SQL - insert into CUSTOMER (birthDate,creationDate,email,firstname,lastname,photo,status,version,ID) values (?,?,?,?,?,?,?,?,?)\n"
     ]
    },
    {
     "name": "stdout",
     "output_type": "stream",
     "text": [
      "13:16:03.912 DEBUG org.hibernate.SQL - select count(*)>0 from CUSTOMER c1_0 where c1_0.email=?\n"
     ]
    },
    {
     "name": "stdout",
     "output_type": "stream",
     "text": [
      "13:16:03.912 DEBUG org.hibernate.SQL - insert into CUSTOMER (birthDate,creationDate,email,firstname,lastname,photo,status,version,ID) values (?,?,?,?,?,?,?,?,?)\n"
     ]
    },
    {
     "name": "stdout",
     "output_type": "stream",
     "text": [
      "13:16:03.913 DEBUG org.hibernate.SQL - select count(*)>0 from CUSTOMER c1_0 where c1_0.email=?\n"
     ]
    },
    {
     "name": "stdout",
     "output_type": "stream",
     "text": [
      "13:16:03.913 DEBUG org.hibernate.SQL - insert into CUSTOMER (birthDate,creationDate,email,firstname,lastname,photo,status,version,ID) values (?,?,?,?,?,?,?,?,?)\n"
     ]
    },
    {
     "name": "stdout",
     "output_type": "stream",
     "text": [
      "13:16:03.914 DEBUG org.hibernate.SQL - select count(*)>0 from CUSTOMER c1_0 where c1_0.email=?\n"
     ]
    },
    {
     "name": "stdout",
     "output_type": "stream",
     "text": [
      "13:16:03.915 DEBUG org.hibernate.SQL - insert into CUSTOMER (birthDate,creationDate,email,firstname,lastname,photo,status,version,ID) values (?,?,?,?,?,?,?,?,?)\n"
     ]
    },
    {
     "name": "stdout",
     "output_type": "stream",
     "text": [
      "13:16:03.916 DEBUG org.hibernate.SQL - select count(*)>0 from CUSTOMER c1_0 where c1_0.email=?\n"
     ]
    },
    {
     "name": "stdout",
     "output_type": "stream",
     "text": [
      "13:16:03.917 DEBUG org.hibernate.SQL - insert into CUSTOMER (birthDate,creationDate,email,firstname,lastname,photo,status,version,ID) values (?,?,?,?,?,?,?,?,?)\n"
     ]
    },
    {
     "name": "stdout",
     "output_type": "stream",
     "text": [
      "13:16:03.917 DEBUG org.hibernate.SQL - select count(*)>0 from CUSTOMER c1_0 where c1_0.email=?\n"
     ]
    },
    {
     "name": "stdout",
     "output_type": "stream",
     "text": [
      "13:16:03.918 DEBUG org.hibernate.SQL - insert into CUSTOMER (birthDate,creationDate,email,firstname,lastname,photo,status,version,ID) values (?,?,?,?,?,?,?,?,?)\n"
     ]
    },
    {
     "name": "stdout",
     "output_type": "stream",
     "text": [
      "13:16:03.918 DEBUG org.hibernate.SQL - select count(*)>0 from CUSTOMER c1_0 where c1_0.email=?\n"
     ]
    },
    {
     "name": "stdout",
     "output_type": "stream",
     "text": [
      "13:16:03.918 DEBUG org.hibernate.SQL - insert into CUSTOMER (birthDate,creationDate,email,firstname,lastname,photo,status,version,ID) values (?,?,?,?,?,?,?,?,?)\n"
     ]
    },
    {
     "name": "stdout",
     "output_type": "stream",
     "text": [
      "13:16:03.919 DEBUG org.hibernate.SQL - select count(*)>0 from CUSTOMER c1_0 where c1_0.email=?\n"
     ]
    },
    {
     "name": "stdout",
     "output_type": "stream",
     "text": [
      "13:16:03.920 DEBUG org.hibernate.SQL - insert into CUSTOMER (birthDate,creationDate,email,firstname,lastname,photo,status,version,ID) values (?,?,?,?,?,?,?,?,?)\n"
     ]
    },
    {
     "name": "stdout",
     "output_type": "stream",
     "text": [
      "13:16:03.920 DEBUG org.hibernate.SQL - select count(*)>0 from CUSTOMER c1_0 where c1_0.email=?\n"
     ]
    },
    {
     "name": "stdout",
     "output_type": "stream",
     "text": [
      "13:16:03.923 DEBUG org.hibernate.SQL - insert into CUSTOMER (birthDate,creationDate,email,firstname,lastname,photo,status,version,ID) values (?,?,?,?,?,?,?,?,?)\n"
     ]
    },
    {
     "name": "stdout",
     "output_type": "stream",
     "text": [
      "13:16:03.924 DEBUG org.hibernate.SQL - select count(*)>0 from CUSTOMER c1_0 where c1_0.email=?\n"
     ]
    },
    {
     "name": "stdout",
     "output_type": "stream",
     "text": [
      "13:16:03.927 DEBUG org.hibernate.SQL - insert into CUSTOMER (birthDate,creationDate,email,firstname,lastname,photo,status,version,ID) values (?,?,?,?,?,?,?,?,?)\n"
     ]
    },
    {
     "name": "stdout",
     "output_type": "stream",
     "text": [
      "13:16:03.928 DEBUG org.hibernate.SQL - select count(*)>0 from CUSTOMER c1_0 where c1_0.email=?\n"
     ]
    },
    {
     "name": "stdout",
     "output_type": "stream",
     "text": [
      "13:16:03.929 DEBUG org.hibernate.SQL - insert into CUSTOMER (birthDate,creationDate,email,firstname,lastname,photo,status,version,ID) values (?,?,?,?,?,?,?,?,?)\n"
     ]
    },
    {
     "name": "stdout",
     "output_type": "stream",
     "text": [
      "13:16:03.930 DEBUG org.hibernate.SQL - select count(*)>0 from CUSTOMER c1_0 where c1_0.email=?\n"
     ]
    },
    {
     "name": "stdout",
     "output_type": "stream",
     "text": [
      "13:16:03.930 DEBUG org.hibernate.SQL - insert into CUSTOMER (birthDate,creationDate,email,firstname,lastname,photo,status,version,ID) values (?,?,?,?,?,?,?,?,?)\n"
     ]
    },
    {
     "name": "stdout",
     "output_type": "stream",
     "text": [
      "13:16:03.931 DEBUG org.hibernate.SQL - select count(*)>0 from CUSTOMER c1_0 where c1_0.email=?\n"
     ]
    },
    {
     "name": "stdout",
     "output_type": "stream",
     "text": [
      "13:16:03.932 DEBUG org.hibernate.SQL - insert into CUSTOMER (birthDate,creationDate,email,firstname,lastname,photo,status,version,ID) values (?,?,?,?,?,?,?,?,?)\n"
     ]
    },
    {
     "name": "stdout",
     "output_type": "stream",
     "text": [
      "13:16:03.933 DEBUG org.hibernate.SQL - select count(*)>0 from CUSTOMER c1_0 where c1_0.email=?\n"
     ]
    },
    {
     "name": "stdout",
     "output_type": "stream",
     "text": [
      "13:16:03.933 DEBUG org.hibernate.SQL - select nextval('CUSTOMER_SEQ')\n"
     ]
    },
    {
     "name": "stdout",
     "output_type": "stream",
     "text": [
      "13:16:03.934 DEBUG org.hibernate.SQL - insert into CUSTOMER (birthDate,creationDate,email,firstname,lastname,photo,status,version,ID) values (?,?,?,?,?,?,?,?,?)\n"
     ]
    },
    {
     "name": "stdout",
     "output_type": "stream",
     "text": [
      "13:16:03.935 DEBUG org.hibernate.SQL - select count(*)>0 from CUSTOMER c1_0 where c1_0.email=?\n"
     ]
    },
    {
     "name": "stdout",
     "output_type": "stream",
     "text": [
      "13:16:03.936 DEBUG org.hibernate.SQL - insert into CUSTOMER (birthDate,creationDate,email,firstname,lastname,photo,status,version,ID) values (?,?,?,?,?,?,?,?,?)\n"
     ]
    },
    {
     "name": "stdout",
     "output_type": "stream",
     "text": [
      "13:16:03.937 DEBUG org.hibernate.SQL - select count(*)>0 from CUSTOMER c1_0 where c1_0.email=?\n"
     ]
    },
    {
     "name": "stdout",
     "output_type": "stream",
     "text": [
      "13:16:03.938 DEBUG org.hibernate.SQL - insert into CUSTOMER (birthDate,creationDate,email,firstname,lastname,photo,status,version,ID) values (?,?,?,?,?,?,?,?,?)\n"
     ]
    },
    {
     "name": "stdout",
     "output_type": "stream",
     "text": [
      "13:16:03.938 DEBUG org.hibernate.SQL - select count(*)>0 from CUSTOMER c1_0 where c1_0.email=?\n"
     ]
    },
    {
     "name": "stdout",
     "output_type": "stream",
     "text": [
      "13:16:03.939 DEBUG org.hibernate.SQL - insert into CUSTOMER (birthDate,creationDate,email,firstname,lastname,photo,status,version,ID) values (?,?,?,?,?,?,?,?,?)\n"
     ]
    },
    {
     "name": "stdout",
     "output_type": "stream",
     "text": [
      "13:16:03.940 DEBUG org.hibernate.SQL - select count(*)>0 from CUSTOMER c1_0 where c1_0.email=?\n"
     ]
    },
    {
     "name": "stdout",
     "output_type": "stream",
     "text": [
      "13:16:03.941 DEBUG org.hibernate.SQL - insert into CUSTOMER (birthDate,creationDate,email,firstname,lastname,photo,status,version,ID) values (?,?,?,?,?,?,?,?,?)\n"
     ]
    },
    {
     "name": "stdout",
     "output_type": "stream",
     "text": [
      "13:16:03.942 DEBUG org.hibernate.SQL - select count(*)>0 from CUSTOMER c1_0 where c1_0.email=?\n"
     ]
    },
    {
     "name": "stdout",
     "output_type": "stream",
     "text": [
      "13:16:03.943 DEBUG org.hibernate.SQL - insert into CUSTOMER (birthDate,creationDate,email,firstname,lastname,photo,status,version,ID) values (?,?,?,?,?,?,?,?,?)\n"
     ]
    },
    {
     "name": "stdout",
     "output_type": "stream",
     "text": [
      "13:16:03.943 DEBUG org.hibernate.SQL - select count(*)>0 from CUSTOMER c1_0 where c1_0.email=?\n"
     ]
    },
    {
     "name": "stdout",
     "output_type": "stream",
     "text": [
      "13:16:03.944 DEBUG org.hibernate.SQL - insert into CUSTOMER (birthDate,creationDate,email,firstname,lastname,photo,status,version,ID) values (?,?,?,?,?,?,?,?,?)\n"
     ]
    },
    {
     "name": "stdout",
     "output_type": "stream",
     "text": [
      "13:16:03.944 DEBUG org.hibernate.SQL - select count(*)>0 from CUSTOMER c1_0 where c1_0.email=?\n"
     ]
    },
    {
     "name": "stdout",
     "output_type": "stream",
     "text": [
      "13:16:03.945 DEBUG org.hibernate.SQL - insert into CUSTOMER (birthDate,creationDate,email,firstname,lastname,photo,status,version,ID) values (?,?,?,?,?,?,?,?,?)\n"
     ]
    },
    {
     "name": "stdout",
     "output_type": "stream",
     "text": [
      "13:16:03.945 DEBUG org.hibernate.SQL - select count(*)>0 from CUSTOMER c1_0 where c1_0.email=?\n"
     ]
    },
    {
     "name": "stdout",
     "output_type": "stream",
     "text": [
      "13:16:03.946 DEBUG org.hibernate.SQL - insert into CUSTOMER (birthDate,creationDate,email,firstname,lastname,photo,status,version,ID) values (?,?,?,?,?,?,?,?,?)\n"
     ]
    },
    {
     "name": "stdout",
     "output_type": "stream",
     "text": [
      "13:16:03.946 DEBUG org.hibernate.SQL - select count(*)>0 from CUSTOMER c1_0 where c1_0.email=?\n"
     ]
    },
    {
     "name": "stdout",
     "output_type": "stream",
     "text": [
      "13:16:03.947 DEBUG org.hibernate.SQL - insert into CUSTOMER (birthDate,creationDate,email,firstname,lastname,photo,status,version,ID) values (?,?,?,?,?,?,?,?,?)\n"
     ]
    },
    {
     "name": "stdout",
     "output_type": "stream",
     "text": [
      "13:16:03.948 DEBUG org.hibernate.SQL - select count(*)>0 from CUSTOMER c1_0 where c1_0.email=?\n"
     ]
    },
    {
     "name": "stdout",
     "output_type": "stream",
     "text": [
      "13:16:03.950 DEBUG org.hibernate.SQL - insert into CUSTOMER (birthDate,creationDate,email,firstname,lastname,photo,status,version,ID) values (?,?,?,?,?,?,?,?,?)\n"
     ]
    },
    {
     "name": "stdout",
     "output_type": "stream",
     "text": [
      "13:16:03.951 DEBUG org.hibernate.SQL - select count(*)>0 from CUSTOMER c1_0 where c1_0.email=?\n"
     ]
    },
    {
     "name": "stdout",
     "output_type": "stream",
     "text": [
      "13:16:03.953 DEBUG org.hibernate.SQL - insert into CUSTOMER (birthDate,creationDate,email,firstname,lastname,photo,status,version,ID) values (?,?,?,?,?,?,?,?,?)\n"
     ]
    },
    {
     "name": "stdout",
     "output_type": "stream",
     "text": [
      "13:16:03.953 DEBUG org.hibernate.SQL - select count(*)>0 from CUSTOMER c1_0 where c1_0.email=?\n"
     ]
    },
    {
     "name": "stdout",
     "output_type": "stream",
     "text": [
      "13:16:03.954 DEBUG org.hibernate.SQL - insert into CUSTOMER (birthDate,creationDate,email,firstname,lastname,photo,status,version,ID) values (?,?,?,?,?,?,?,?,?)\n"
     ]
    },
    {
     "name": "stdout",
     "output_type": "stream",
     "text": [
      "13:16:03.955 DEBUG org.hibernate.SQL - select count(*)>0 from CUSTOMER c1_0 where c1_0.email=?\n"
     ]
    },
    {
     "name": "stdout",
     "output_type": "stream",
     "text": [
      "13:16:03.955 DEBUG org.hibernate.SQL - insert into CUSTOMER (birthDate,creationDate,email,firstname,lastname,photo,status,version,ID) values (?,?,?,?,?,?,?,?,?)\n"
     ]
    },
    {
     "name": "stdout",
     "output_type": "stream",
     "text": [
      "13:16:03.956 DEBUG org.hibernate.SQL - select count(*)>0 from CUSTOMER c1_0 where c1_0.email=?\n"
     ]
    },
    {
     "name": "stdout",
     "output_type": "stream",
     "text": [
      "13:16:03.956 DEBUG org.hibernate.SQL - insert into CUSTOMER (birthDate,creationDate,email,firstname,lastname,photo,status,version,ID) values (?,?,?,?,?,?,?,?,?)\n"
     ]
    },
    {
     "name": "stdout",
     "output_type": "stream",
     "text": [
      "13:16:03.956 DEBUG org.hibernate.SQL - select count(*)>0 from CUSTOMER c1_0 where c1_0.email=?\n"
     ]
    },
    {
     "name": "stdout",
     "output_type": "stream",
     "text": [
      "13:16:03.957 DEBUG org.hibernate.SQL - insert into CUSTOMER (birthDate,creationDate,email,firstname,lastname,photo,status,version,ID) values (?,?,?,?,?,?,?,?,?)\n"
     ]
    },
    {
     "name": "stdout",
     "output_type": "stream",
     "text": [
      "13:16:03.957 DEBUG org.hibernate.SQL - select count(*)>0 from CUSTOMER c1_0 where c1_0.email=?\n"
     ]
    },
    {
     "name": "stdout",
     "output_type": "stream",
     "text": [
      "13:16:03.958 DEBUG org.hibernate.SQL - insert into CUSTOMER (birthDate,creationDate,email,firstname,lastname,photo,status,version,ID) values (?,?,?,?,?,?,?,?,?)\n"
     ]
    },
    {
     "name": "stdout",
     "output_type": "stream",
     "text": [
      "13:16:03.958 DEBUG org.hibernate.SQL - select count(*)>0 from CUSTOMER c1_0 where c1_0.email=?\n"
     ]
    },
    {
     "name": "stdout",
     "output_type": "stream",
     "text": [
      "13:16:03.959 DEBUG org.hibernate.SQL - insert into CUSTOMER (birthDate,creationDate,email,firstname,lastname,photo,status,version,ID) values (?,?,?,?,?,?,?,?,?)\n"
     ]
    },
    {
     "name": "stdout",
     "output_type": "stream",
     "text": [
      "13:16:03.959 DEBUG org.hibernate.SQL - select count(*)>0 from CUSTOMER c1_0 where c1_0.email=?\n"
     ]
    },
    {
     "name": "stdout",
     "output_type": "stream",
     "text": [
      "13:16:03.967 DEBUG org.hibernate.SQL - insert into CUSTOMER (birthDate,creationDate,email,firstname,lastname,photo,status,version,ID) values (?,?,?,?,?,?,?,?,?)\n"
     ]
    },
    {
     "name": "stdout",
     "output_type": "stream",
     "text": [
      "13:16:03.967 DEBUG org.hibernate.SQL - select count(*)>0 from CUSTOMER c1_0 where c1_0.email=?\n"
     ]
    },
    {
     "name": "stdout",
     "output_type": "stream",
     "text": [
      "13:16:03.968 DEBUG org.hibernate.SQL - insert into CUSTOMER (birthDate,creationDate,email,firstname,lastname,photo,status,version,ID) values (?,?,?,?,?,?,?,?,?)\n"
     ]
    },
    {
     "name": "stdout",
     "output_type": "stream",
     "text": [
      "13:16:03.968 DEBUG org.hibernate.SQL - select count(*)>0 from CUSTOMER c1_0 where c1_0.email=?\n"
     ]
    },
    {
     "name": "stdout",
     "output_type": "stream",
     "text": [
      "13:16:03.969 DEBUG org.hibernate.SQL - insert into CUSTOMER (birthDate,creationDate,email,firstname,lastname,photo,status,version,ID) values (?,?,?,?,?,?,?,?,?)\n"
     ]
    },
    {
     "name": "stdout",
     "output_type": "stream",
     "text": [
      "13:16:03.969 DEBUG org.hibernate.SQL - select count(*)>0 from CUSTOMER c1_0 where c1_0.email=?\n"
     ]
    },
    {
     "name": "stdout",
     "output_type": "stream",
     "text": [
      "13:16:03.970 DEBUG org.hibernate.SQL - insert into CUSTOMER (birthDate,creationDate,email,firstname,lastname,photo,status,version,ID) values (?,?,?,?,?,?,?,?,?)\n"
     ]
    },
    {
     "name": "stdout",
     "output_type": "stream",
     "text": [
      "13:16:03.970 DEBUG org.hibernate.SQL - select count(*)>0 from CUSTOMER c1_0 where c1_0.email=?\n"
     ]
    },
    {
     "name": "stdout",
     "output_type": "stream",
     "text": [
      "13:16:03.971 DEBUG org.hibernate.SQL - insert into CUSTOMER (birthDate,creationDate,email,firstname,lastname,photo,status,version,ID) values (?,?,?,?,?,?,?,?,?)\n"
     ]
    },
    {
     "name": "stdout",
     "output_type": "stream",
     "text": [
      "13:16:03.971 DEBUG org.hibernate.SQL - select count(*)>0 from CUSTOMER c1_0 where c1_0.email=?\n"
     ]
    },
    {
     "name": "stdout",
     "output_type": "stream",
     "text": [
      "13:16:03.972 DEBUG org.hibernate.SQL - insert into CUSTOMER (birthDate,creationDate,email,firstname,lastname,photo,status,version,ID) values (?,?,?,?,?,?,?,?,?)\n"
     ]
    },
    {
     "name": "stdout",
     "output_type": "stream",
     "text": [
      "13:16:03.972 DEBUG org.hibernate.SQL - select count(*)>0 from CUSTOMER c1_0 where c1_0.email=?\n"
     ]
    },
    {
     "name": "stdout",
     "output_type": "stream",
     "text": [
      "13:16:03.973 DEBUG org.hibernate.SQL - insert into CUSTOMER (birthDate,creationDate,email,firstname,lastname,photo,status,version,ID) values (?,?,?,?,?,?,?,?,?)\n"
     ]
    },
    {
     "name": "stdout",
     "output_type": "stream",
     "text": [
      "13:16:03.973 DEBUG org.hibernate.SQL - select count(*)>0 from CUSTOMER c1_0 where c1_0.email=?\n"
     ]
    },
    {
     "name": "stdout",
     "output_type": "stream",
     "text": [
      "13:16:03.973 DEBUG org.hibernate.SQL - insert into CUSTOMER (birthDate,creationDate,email,firstname,lastname,photo,status,version,ID) values (?,?,?,?,?,?,?,?,?)\n"
     ]
    },
    {
     "name": "stdout",
     "output_type": "stream",
     "text": [
      "13:16:03.974 DEBUG org.hibernate.SQL - select count(*)>0 from CUSTOMER c1_0 where c1_0.email=?\n"
     ]
    },
    {
     "name": "stdout",
     "output_type": "stream",
     "text": [
      "13:16:03.975 DEBUG org.hibernate.SQL - insert into CUSTOMER (birthDate,creationDate,email,firstname,lastname,photo,status,version,ID) values (?,?,?,?,?,?,?,?,?)\n"
     ]
    },
    {
     "name": "stdout",
     "output_type": "stream",
     "text": [
      "13:16:03.975 DEBUG org.hibernate.SQL - select count(*)>0 from CUSTOMER c1_0 where c1_0.email=?\n"
     ]
    },
    {
     "name": "stdout",
     "output_type": "stream",
     "text": [
      "13:16:03.976 DEBUG org.hibernate.SQL - insert into CUSTOMER (birthDate,creationDate,email,firstname,lastname,photo,status,version,ID) values (?,?,?,?,?,?,?,?,?)\n"
     ]
    },
    {
     "name": "stdout",
     "output_type": "stream",
     "text": [
      "13:16:03.976 DEBUG org.hibernate.SQL - select count(*)>0 from CUSTOMER c1_0 where c1_0.email=?\n"
     ]
    },
    {
     "name": "stdout",
     "output_type": "stream",
     "text": [
      "13:16:03.977 DEBUG org.hibernate.SQL - insert into CUSTOMER (birthDate,creationDate,email,firstname,lastname,photo,status,version,ID) values (?,?,?,?,?,?,?,?,?)\n"
     ]
    },
    {
     "name": "stdout",
     "output_type": "stream",
     "text": [
      "13:16:03.977 DEBUG org.hibernate.SQL - select count(*)>0 from CUSTOMER c1_0 where c1_0.email=?\n"
     ]
    },
    {
     "name": "stdout",
     "output_type": "stream",
     "text": [
      "13:16:03.977 DEBUG org.hibernate.SQL - insert into CUSTOMER (birthDate,creationDate,email,firstname,lastname,photo,status,version,ID) values (?,?,?,?,?,?,?,?,?)\n"
     ]
    },
    {
     "name": "stdout",
     "output_type": "stream",
     "text": [
      "13:16:03.978 DEBUG org.hibernate.SQL - select count(*)>0 from CUSTOMER c1_0 where c1_0.email=?\n"
     ]
    },
    {
     "name": "stdout",
     "output_type": "stream",
     "text": [
      "13:16:03.978 DEBUG org.hibernate.SQL - insert into CUSTOMER (birthDate,creationDate,email,firstname,lastname,photo,status,version,ID) values (?,?,?,?,?,?,?,?,?)\n"
     ]
    },
    {
     "name": "stdout",
     "output_type": "stream",
     "text": [
      "13:16:03.978 DEBUG org.hibernate.SQL - select count(*)>0 from CUSTOMER c1_0 where c1_0.email=?\n"
     ]
    },
    {
     "name": "stdout",
     "output_type": "stream",
     "text": [
      "13:16:03.979 DEBUG org.hibernate.SQL - insert into CUSTOMER (birthDate,creationDate,email,firstname,lastname,photo,status,version,ID) values (?,?,?,?,?,?,?,?,?)\n"
     ]
    },
    {
     "name": "stdout",
     "output_type": "stream",
     "text": [
      "13:16:03.979 DEBUG org.hibernate.SQL - select count(*)>0 from CUSTOMER c1_0 where c1_0.email=?\n"
     ]
    },
    {
     "name": "stdout",
     "output_type": "stream",
     "text": [
      "13:16:03.980 DEBUG org.hibernate.SQL - insert into CUSTOMER (birthDate,creationDate,email,firstname,lastname,photo,status,version,ID) values (?,?,?,?,?,?,?,?,?)\n"
     ]
    },
    {
     "name": "stdout",
     "output_type": "stream",
     "text": [
      "13:16:03.980 DEBUG org.hibernate.SQL - select count(*)>0 from CUSTOMER c1_0 where c1_0.email=?\n"
     ]
    },
    {
     "name": "stdout",
     "output_type": "stream",
     "text": [
      "13:16:03.981 DEBUG org.hibernate.SQL - insert into CUSTOMER (birthDate,creationDate,email,firstname,lastname,photo,status,version,ID) values (?,?,?,?,?,?,?,?,?)\n"
     ]
    },
    {
     "name": "stdout",
     "output_type": "stream",
     "text": [
      "13:16:03.981 DEBUG org.hibernate.SQL - select count(*)>0 from CUSTOMER c1_0 where c1_0.email=?\n"
     ]
    },
    {
     "name": "stdout",
     "output_type": "stream",
     "text": [
      "13:16:03.982 DEBUG org.hibernate.SQL - insert into CUSTOMER (birthDate,creationDate,email,firstname,lastname,photo,status,version,ID) values (?,?,?,?,?,?,?,?,?)\n"
     ]
    },
    {
     "name": "stdout",
     "output_type": "stream",
     "text": [
      "13:16:03.982 DEBUG org.hibernate.SQL - select count(*)>0 from CUSTOMER c1_0 where c1_0.email=?\n"
     ]
    },
    {
     "name": "stdout",
     "output_type": "stream",
     "text": [
      "13:16:03.982 DEBUG org.hibernate.SQL - insert into CUSTOMER (birthDate,creationDate,email,firstname,lastname,photo,status,version,ID) values (?,?,?,?,?,?,?,?,?)\n"
     ]
    },
    {
     "name": "stdout",
     "output_type": "stream",
     "text": [
      "13:16:03.983 DEBUG org.hibernate.SQL - select count(*)>0 from CUSTOMER c1_0 where c1_0.email=?\n"
     ]
    },
    {
     "name": "stdout",
     "output_type": "stream",
     "text": [
      "13:16:03.984 DEBUG org.hibernate.SQL - insert into CUSTOMER (birthDate,creationDate,email,firstname,lastname,photo,status,version,ID) values (?,?,?,?,?,?,?,?,?)\n"
     ]
    },
    {
     "name": "stdout",
     "output_type": "stream",
     "text": [
      "13:16:03.984 DEBUG org.hibernate.SQL - select count(*)>0 from CUSTOMER c1_0 where c1_0.email=?\n"
     ]
    },
    {
     "name": "stdout",
     "output_type": "stream",
     "text": [
      "13:16:03.985 DEBUG org.hibernate.SQL - insert into CUSTOMER (birthDate,creationDate,email,firstname,lastname,photo,status,version,ID) values (?,?,?,?,?,?,?,?,?)\n"
     ]
    },
    {
     "name": "stdout",
     "output_type": "stream",
     "text": [
      "13:16:03.985 DEBUG org.hibernate.SQL - select count(*)>0 from CUSTOMER c1_0 where c1_0.email=?\n"
     ]
    },
    {
     "name": "stdout",
     "output_type": "stream",
     "text": [
      "13:16:03.986 DEBUG org.hibernate.SQL - insert into CUSTOMER (birthDate,creationDate,email,firstname,lastname,photo,status,version,ID) values (?,?,?,?,?,?,?,?,?)\n"
     ]
    },
    {
     "name": "stdout",
     "output_type": "stream",
     "text": [
      "13:16:03.986 DEBUG org.hibernate.SQL - select count(*)>0 from CUSTOMER c1_0 where c1_0.email=?\n"
     ]
    },
    {
     "name": "stdout",
     "output_type": "stream",
     "text": [
      "13:16:03.987 DEBUG org.hibernate.SQL - insert into CUSTOMER (birthDate,creationDate,email,firstname,lastname,photo,status,version,ID) values (?,?,?,?,?,?,?,?,?)\n"
     ]
    },
    {
     "name": "stdout",
     "output_type": "stream",
     "text": [
      "13:16:03.987 DEBUG org.hibernate.SQL - select count(*)>0 from CUSTOMER c1_0 where c1_0.email=?\n"
     ]
    },
    {
     "name": "stdout",
     "output_type": "stream",
     "text": [
      "13:16:03.988 DEBUG org.hibernate.SQL - insert into CUSTOMER (birthDate,creationDate,email,firstname,lastname,photo,status,version,ID) values (?,?,?,?,?,?,?,?,?)\n"
     ]
    },
    {
     "name": "stdout",
     "output_type": "stream",
     "text": [
      "13:16:03.988 DEBUG org.hibernate.SQL - select count(*)>0 from CUSTOMER c1_0 where c1_0.email=?\n"
     ]
    },
    {
     "name": "stdout",
     "output_type": "stream",
     "text": [
      "13:16:03.989 DEBUG org.hibernate.SQL - insert into CUSTOMER (birthDate,creationDate,email,firstname,lastname,photo,status,version,ID) values (?,?,?,?,?,?,?,?,?)\n"
     ]
    },
    {
     "name": "stdout",
     "output_type": "stream",
     "text": [
      "13:16:03.989 DEBUG org.hibernate.SQL - select count(*)>0 from CUSTOMER c1_0 where c1_0.email=?\n"
     ]
    },
    {
     "name": "stdout",
     "output_type": "stream",
     "text": [
      "13:16:03.990 DEBUG org.hibernate.SQL - insert into CUSTOMER (birthDate,creationDate,email,firstname,lastname,photo,status,version,ID) values (?,?,?,?,?,?,?,?,?)\n"
     ]
    },
    {
     "name": "stdout",
     "output_type": "stream",
     "text": [
      "13:16:03.990 DEBUG org.hibernate.SQL - select count(*)>0 from CUSTOMER c1_0 where c1_0.email=?\n"
     ]
    },
    {
     "name": "stdout",
     "output_type": "stream",
     "text": [
      "13:16:03.991 DEBUG org.hibernate.SQL - insert into CUSTOMER (birthDate,creationDate,email,firstname,lastname,photo,status,version,ID) values (?,?,?,?,?,?,?,?,?)\n"
     ]
    },
    {
     "name": "stdout",
     "output_type": "stream",
     "text": [
      "13:16:03.991 DEBUG org.hibernate.SQL - select count(*)>0 from CUSTOMER c1_0 where c1_0.email=?\n"
     ]
    },
    {
     "name": "stdout",
     "output_type": "stream",
     "text": [
      "13:16:03.992 DEBUG org.hibernate.SQL - insert into CUSTOMER (birthDate,creationDate,email,firstname,lastname,photo,status,version,ID) values (?,?,?,?,?,?,?,?,?)\n"
     ]
    },
    {
     "name": "stdout",
     "output_type": "stream",
     "text": [
      "13:16:03.992 DEBUG org.hibernate.SQL - select count(*)>0 from CUSTOMER c1_0 where c1_0.email=?\n"
     ]
    },
    {
     "name": "stdout",
     "output_type": "stream",
     "text": [
      "13:16:03.992 DEBUG org.hibernate.SQL - insert into CUSTOMER (birthDate,creationDate,email,firstname,lastname,photo,status,version,ID) values (?,?,?,?,?,?,?,?,?)\n"
     ]
    },
    {
     "name": "stdout",
     "output_type": "stream",
     "text": [
      "13:16:03.993 DEBUG org.hibernate.SQL - select count(*)>0 from CUSTOMER c1_0 where c1_0.email=?\n"
     ]
    },
    {
     "name": "stdout",
     "output_type": "stream",
     "text": [
      "13:16:03.993 DEBUG org.hibernate.SQL - insert into CUSTOMER (birthDate,creationDate,email,firstname,lastname,photo,status,version,ID) values (?,?,?,?,?,?,?,?,?)\n"
     ]
    },
    {
     "name": "stdout",
     "output_type": "stream",
     "text": [
      "13:16:03.994 DEBUG org.hibernate.SQL - select count(*)>0 from CUSTOMER c1_0 where c1_0.email=?\n"
     ]
    },
    {
     "name": "stdout",
     "output_type": "stream",
     "text": [
      "13:16:03.994 DEBUG org.hibernate.SQL - insert into CUSTOMER (birthDate,creationDate,email,firstname,lastname,photo,status,version,ID) values (?,?,?,?,?,?,?,?,?)\n"
     ]
    },
    {
     "name": "stdout",
     "output_type": "stream",
     "text": [
      "13:16:03.994 DEBUG org.hibernate.SQL - select count(*)>0 from CUSTOMER c1_0 where c1_0.email=?\n"
     ]
    },
    {
     "name": "stdout",
     "output_type": "stream",
     "text": [
      "13:16:03.995 DEBUG org.hibernate.SQL - insert into CUSTOMER (birthDate,creationDate,email,firstname,lastname,photo,status,version,ID) values (?,?,?,?,?,?,?,?,?)\n"
     ]
    },
    {
     "name": "stdout",
     "output_type": "stream",
     "text": [
      "13:16:03.995 DEBUG org.hibernate.SQL - select count(*)>0 from CUSTOMER c1_0 where c1_0.email=?\n"
     ]
    },
    {
     "name": "stdout",
     "output_type": "stream",
     "text": [
      "13:16:03.996 DEBUG org.hibernate.SQL - insert into CUSTOMER (birthDate,creationDate,email,firstname,lastname,photo,status,version,ID) values (?,?,?,?,?,?,?,?,?)\n"
     ]
    },
    {
     "name": "stdout",
     "output_type": "stream",
     "text": [
      "13:16:03.996 DEBUG org.hibernate.SQL - select count(*)>0 from CUSTOMER c1_0 where c1_0.email=?\n"
     ]
    },
    {
     "name": "stdout",
     "output_type": "stream",
     "text": [
      "13:16:03.996 DEBUG org.hibernate.SQL - select nextval('CUSTOMER_SEQ')\n"
     ]
    },
    {
     "name": "stdout",
     "output_type": "stream",
     "text": [
      "13:16:03.996 DEBUG org.hibernate.SQL - insert into CUSTOMER (birthDate,creationDate,email,firstname,lastname,photo,status,version,ID) values (?,?,?,?,?,?,?,?,?)\n"
     ]
    },
    {
     "name": "stdout",
     "output_type": "stream",
     "text": [
      "13:16:03.997 DEBUG org.hibernate.SQL - select count(*)>0 from CUSTOMER c1_0 where c1_0.email=?\n"
     ]
    },
    {
     "name": "stdout",
     "output_type": "stream",
     "text": [
      "13:16:03.997 DEBUG org.hibernate.SQL - insert into CUSTOMER (birthDate,creationDate,email,firstname,lastname,photo,status,version,ID) values (?,?,?,?,?,?,?,?,?)\n"
     ]
    },
    {
     "name": "stdout",
     "output_type": "stream",
     "text": [
      "13:16:03.997 DEBUG org.hibernate.SQL - select count(*)>0 from CUSTOMER c1_0 where c1_0.email=?\n"
     ]
    },
    {
     "name": "stdout",
     "output_type": "stream",
     "text": [
      "13:16:03.998 DEBUG org.hibernate.SQL - insert into CUSTOMER (birthDate,creationDate,email,firstname,lastname,photo,status,version,ID) values (?,?,?,?,?,?,?,?,?)\n"
     ]
    },
    {
     "name": "stdout",
     "output_type": "stream",
     "text": [
      "13:16:03.998 DEBUG org.hibernate.SQL - select count(*)>0 from CUSTOMER c1_0 where c1_0.email=?\n"
     ]
    },
    {
     "name": "stdout",
     "output_type": "stream",
     "text": [
      "13:16:03.999 DEBUG org.hibernate.SQL - insert into CUSTOMER (birthDate,creationDate,email,firstname,lastname,photo,status,version,ID) values (?,?,?,?,?,?,?,?,?)\n"
     ]
    },
    {
     "name": "stdout",
     "output_type": "stream",
     "text": [
      "13:16:03.999 DEBUG org.hibernate.SQL - select count(*)>0 from CUSTOMER c1_0 where c1_0.email=?\n"
     ]
    },
    {
     "name": "stdout",
     "output_type": "stream",
     "text": [
      "13:16:03.999 DEBUG org.hibernate.SQL - insert into CUSTOMER (birthDate,creationDate,email,firstname,lastname,photo,status,version,ID) values (?,?,?,?,?,?,?,?,?)\n"
     ]
    },
    {
     "name": "stdout",
     "output_type": "stream",
     "text": [
      "13:16:03.999 DEBUG org.hibernate.SQL - select count(*)>0 from CUSTOMER c1_0 where c1_0.email=?\n"
     ]
    },
    {
     "name": "stdout",
     "output_type": "stream",
     "text": [
      "13:16:04.000 DEBUG org.hibernate.SQL - insert into CUSTOMER (birthDate,creationDate,email,firstname,lastname,photo,status,version,ID) values (?,?,?,?,?,?,?,?,?)\n"
     ]
    },
    {
     "name": "stdout",
     "output_type": "stream",
     "text": [
      "13:16:04.000 DEBUG org.hibernate.SQL - select count(*)>0 from CUSTOMER c1_0 where c1_0.email=?\n"
     ]
    },
    {
     "name": "stdout",
     "output_type": "stream",
     "text": [
      "13:16:04.001 DEBUG org.hibernate.SQL - insert into CUSTOMER (birthDate,creationDate,email,firstname,lastname,photo,status,version,ID) values (?,?,?,?,?,?,?,?,?)\n"
     ]
    },
    {
     "name": "stdout",
     "output_type": "stream",
     "text": [
      "13:16:04.001 DEBUG org.hibernate.SQL - select count(*)>0 from CUSTOMER c1_0 where c1_0.email=?\n"
     ]
    },
    {
     "name": "stdout",
     "output_type": "stream",
     "text": [
      "13:16:04.001 DEBUG org.hibernate.SQL - insert into CUSTOMER (birthDate,creationDate,email,firstname,lastname,photo,status,version,ID) values (?,?,?,?,?,?,?,?,?)\n"
     ]
    },
    {
     "name": "stdout",
     "output_type": "stream",
     "text": [
      "13:16:04.002 DEBUG org.hibernate.SQL - select count(*)>0 from CUSTOMER c1_0 where c1_0.email=?\n"
     ]
    },
    {
     "name": "stdout",
     "output_type": "stream",
     "text": [
      "13:16:04.002 DEBUG org.hibernate.SQL - insert into CUSTOMER (birthDate,creationDate,email,firstname,lastname,photo,status,version,ID) values (?,?,?,?,?,?,?,?,?)\n"
     ]
    },
    {
     "name": "stdout",
     "output_type": "stream",
     "text": [
      "13:16:04.002 DEBUG org.hibernate.SQL - select count(*)>0 from CUSTOMER c1_0 where c1_0.email=?\n"
     ]
    },
    {
     "name": "stdout",
     "output_type": "stream",
     "text": [
      "13:16:04.003 DEBUG org.hibernate.SQL - insert into CUSTOMER (birthDate,creationDate,email,firstname,lastname,photo,status,version,ID) values (?,?,?,?,?,?,?,?,?)\n"
     ]
    },
    {
     "name": "stdout",
     "output_type": "stream",
     "text": [
      "13:16:04.003 DEBUG org.hibernate.SQL - select count(*)>0 from CUSTOMER c1_0 where c1_0.email=?\n"
     ]
    },
    {
     "name": "stdout",
     "output_type": "stream",
     "text": [
      "13:16:04.004 DEBUG org.hibernate.SQL - insert into CUSTOMER (birthDate,creationDate,email,firstname,lastname,photo,status,version,ID) values (?,?,?,?,?,?,?,?,?)\n"
     ]
    },
    {
     "name": "stdout",
     "output_type": "stream",
     "text": [
      "13:16:04.004 DEBUG org.hibernate.SQL - select count(*)>0 from CUSTOMER c1_0 where c1_0.email=?\n"
     ]
    },
    {
     "name": "stdout",
     "output_type": "stream",
     "text": [
      "13:16:04.005 DEBUG org.hibernate.SQL - insert into CUSTOMER (birthDate,creationDate,email,firstname,lastname,photo,status,version,ID) values (?,?,?,?,?,?,?,?,?)\n"
     ]
    },
    {
     "name": "stdout",
     "output_type": "stream",
     "text": [
      "13:16:04.005 DEBUG org.hibernate.SQL - select count(*)>0 from CUSTOMER c1_0 where c1_0.email=?\n"
     ]
    },
    {
     "name": "stdout",
     "output_type": "stream",
     "text": [
      "13:16:04.006 DEBUG org.hibernate.SQL - insert into CUSTOMER (birthDate,creationDate,email,firstname,lastname,photo,status,version,ID) values (?,?,?,?,?,?,?,?,?)\n"
     ]
    },
    {
     "name": "stdout",
     "output_type": "stream",
     "text": [
      "13:16:04.006 DEBUG org.hibernate.SQL - select count(*)>0 from CUSTOMER c1_0 where c1_0.email=?\n"
     ]
    },
    {
     "name": "stdout",
     "output_type": "stream",
     "text": [
      "13:16:04.006 DEBUG org.hibernate.SQL - insert into CUSTOMER (birthDate,creationDate,email,firstname,lastname,photo,status,version,ID) values (?,?,?,?,?,?,?,?,?)\n"
     ]
    },
    {
     "name": "stdout",
     "output_type": "stream",
     "text": [
      "13:16:04.007 DEBUG org.hibernate.SQL - select count(*)>0 from CUSTOMER c1_0 where c1_0.email=?\n"
     ]
    },
    {
     "name": "stdout",
     "output_type": "stream",
     "text": [
      "13:16:04.007 DEBUG org.hibernate.SQL - insert into CUSTOMER (birthDate,creationDate,email,firstname,lastname,photo,status,version,ID) values (?,?,?,?,?,?,?,?,?)\n"
     ]
    },
    {
     "name": "stdout",
     "output_type": "stream",
     "text": [
      "13:16:04.007 DEBUG org.hibernate.SQL - select count(*)>0 from CUSTOMER c1_0 where c1_0.email=?\n"
     ]
    },
    {
     "name": "stdout",
     "output_type": "stream",
     "text": [
      "13:16:04.008 DEBUG org.hibernate.SQL - insert into CUSTOMER (birthDate,creationDate,email,firstname,lastname,photo,status,version,ID) values (?,?,?,?,?,?,?,?,?)\n"
     ]
    },
    {
     "name": "stdout",
     "output_type": "stream",
     "text": [
      "13:16:04.008 DEBUG org.hibernate.SQL - select count(*)>0 from CUSTOMER c1_0 where c1_0.email=?\n"
     ]
    },
    {
     "name": "stdout",
     "output_type": "stream",
     "text": [
      "13:16:04.008 DEBUG org.hibernate.SQL - insert into CUSTOMER (birthDate,creationDate,email,firstname,lastname,photo,status,version,ID) values (?,?,?,?,?,?,?,?,?)\n"
     ]
    },
    {
     "name": "stdout",
     "output_type": "stream",
     "text": [
      "13:16:04.009 DEBUG org.hibernate.SQL - select count(*)>0 from CUSTOMER c1_0 where c1_0.email=?\n"
     ]
    },
    {
     "name": "stdout",
     "output_type": "stream",
     "text": [
      "13:16:04.009 DEBUG org.hibernate.SQL - insert into CUSTOMER (birthDate,creationDate,email,firstname,lastname,photo,status,version,ID) values (?,?,?,?,?,?,?,?,?)\n"
     ]
    },
    {
     "name": "stdout",
     "output_type": "stream",
     "text": [
      "13:16:04.009 DEBUG org.hibernate.SQL - select count(*)>0 from CUSTOMER c1_0 where c1_0.email=?\n"
     ]
    },
    {
     "name": "stdout",
     "output_type": "stream",
     "text": [
      "13:16:04.010 DEBUG org.hibernate.SQL - insert into CUSTOMER (birthDate,creationDate,email,firstname,lastname,photo,status,version,ID) values (?,?,?,?,?,?,?,?,?)\n"
     ]
    },
    {
     "name": "stdout",
     "output_type": "stream",
     "text": [
      "13:16:04.010 DEBUG org.hibernate.SQL - select count(*)>0 from CUSTOMER c1_0 where c1_0.email=?\n"
     ]
    },
    {
     "name": "stdout",
     "output_type": "stream",
     "text": [
      "13:16:04.010 DEBUG org.hibernate.SQL - insert into CUSTOMER (birthDate,creationDate,email,firstname,lastname,photo,status,version,ID) values (?,?,?,?,?,?,?,?,?)\n"
     ]
    },
    {
     "name": "stdout",
     "output_type": "stream",
     "text": [
      "13:16:04.011 DEBUG org.hibernate.SQL - select count(*)>0 from CUSTOMER c1_0 where c1_0.email=?\n"
     ]
    },
    {
     "name": "stdout",
     "output_type": "stream",
     "text": [
      "13:16:04.011 DEBUG org.hibernate.SQL - insert into CUSTOMER (birthDate,creationDate,email,firstname,lastname,photo,status,version,ID) values (?,?,?,?,?,?,?,?,?)\n"
     ]
    },
    {
     "name": "stdout",
     "output_type": "stream",
     "text": [
      "13:16:04.011 DEBUG org.hibernate.SQL - select count(*)>0 from CUSTOMER c1_0 where c1_0.email=?\n"
     ]
    },
    {
     "name": "stdout",
     "output_type": "stream",
     "text": [
      "13:16:04.012 DEBUG org.hibernate.SQL - insert into CUSTOMER (birthDate,creationDate,email,firstname,lastname,photo,status,version,ID) values (?,?,?,?,?,?,?,?,?)\n"
     ]
    },
    {
     "name": "stdout",
     "output_type": "stream",
     "text": [
      "13:16:04.012 DEBUG org.hibernate.SQL - select count(*)>0 from CUSTOMER c1_0 where c1_0.email=?\n"
     ]
    },
    {
     "name": "stdout",
     "output_type": "stream",
     "text": [
      "13:16:04.012 DEBUG org.hibernate.SQL - insert into CUSTOMER (birthDate,creationDate,email,firstname,lastname,photo,status,version,ID) values (?,?,?,?,?,?,?,?,?)\n"
     ]
    },
    {
     "name": "stdout",
     "output_type": "stream",
     "text": [
      "13:16:04.013 DEBUG org.hibernate.SQL - select count(*)>0 from CUSTOMER c1_0 where c1_0.email=?\n"
     ]
    },
    {
     "name": "stdout",
     "output_type": "stream",
     "text": [
      "13:16:04.013 DEBUG org.hibernate.SQL - insert into CUSTOMER (birthDate,creationDate,email,firstname,lastname,photo,status,version,ID) values (?,?,?,?,?,?,?,?,?)\n"
     ]
    },
    {
     "name": "stdout",
     "output_type": "stream",
     "text": [
      "13:16:04.013 DEBUG org.hibernate.SQL - select count(*)>0 from CUSTOMER c1_0 where c1_0.email=?\n"
     ]
    },
    {
     "name": "stdout",
     "output_type": "stream",
     "text": [
      "13:16:04.014 DEBUG org.hibernate.SQL - insert into CUSTOMER (birthDate,creationDate,email,firstname,lastname,photo,status,version,ID) values (?,?,?,?,?,?,?,?,?)\n"
     ]
    },
    {
     "name": "stdout",
     "output_type": "stream",
     "text": [
      "13:16:04.014 DEBUG org.hibernate.SQL - select count(*)>0 from CUSTOMER c1_0 where c1_0.email=?\n"
     ]
    },
    {
     "name": "stdout",
     "output_type": "stream",
     "text": [
      "13:16:04.014 DEBUG org.hibernate.SQL - insert into CUSTOMER (birthDate,creationDate,email,firstname,lastname,photo,status,version,ID) values (?,?,?,?,?,?,?,?,?)\n"
     ]
    },
    {
     "name": "stdout",
     "output_type": "stream",
     "text": [
      "13:16:04.015 DEBUG org.hibernate.SQL - select count(*)>0 from CUSTOMER c1_0 where c1_0.email=?\n"
     ]
    },
    {
     "name": "stdout",
     "output_type": "stream",
     "text": [
      "13:16:04.015 DEBUG org.hibernate.SQL - insert into CUSTOMER (birthDate,creationDate,email,firstname,lastname,photo,status,version,ID) values (?,?,?,?,?,?,?,?,?)\n"
     ]
    },
    {
     "name": "stdout",
     "output_type": "stream",
     "text": [
      "13:16:04.015 DEBUG org.hibernate.SQL - select count(*)>0 from CUSTOMER c1_0 where c1_0.email=?\n"
     ]
    },
    {
     "name": "stdout",
     "output_type": "stream",
     "text": [
      "13:16:04.016 DEBUG org.hibernate.SQL - insert into CUSTOMER (birthDate,creationDate,email,firstname,lastname,photo,status,version,ID) values (?,?,?,?,?,?,?,?,?)\n"
     ]
    },
    {
     "name": "stdout",
     "output_type": "stream",
     "text": [
      "13:16:04.016 DEBUG org.hibernate.SQL - select count(*)>0 from CUSTOMER c1_0 where c1_0.email=?\n"
     ]
    },
    {
     "name": "stdout",
     "output_type": "stream",
     "text": [
      "13:16:04.017 DEBUG org.hibernate.SQL - insert into CUSTOMER (birthDate,creationDate,email,firstname,lastname,photo,status,version,ID) values (?,?,?,?,?,?,?,?,?)\n"
     ]
    },
    {
     "name": "stdout",
     "output_type": "stream",
     "text": [
      "13:16:04.017 DEBUG org.hibernate.SQL - select count(*)>0 from CUSTOMER c1_0 where c1_0.email=?\n"
     ]
    },
    {
     "name": "stdout",
     "output_type": "stream",
     "text": [
      "13:16:04.017 DEBUG org.hibernate.SQL - insert into CUSTOMER (birthDate,creationDate,email,firstname,lastname,photo,status,version,ID) values (?,?,?,?,?,?,?,?,?)\n"
     ]
    },
    {
     "name": "stdout",
     "output_type": "stream",
     "text": [
      "13:16:04.017 DEBUG org.hibernate.SQL - select count(*)>0 from CUSTOMER c1_0 where c1_0.email=?\n"
     ]
    },
    {
     "name": "stdout",
     "output_type": "stream",
     "text": [
      "13:16:04.018 DEBUG org.hibernate.SQL - insert into CUSTOMER (birthDate,creationDate,email,firstname,lastname,photo,status,version,ID) values (?,?,?,?,?,?,?,?,?)\n"
     ]
    },
    {
     "name": "stdout",
     "output_type": "stream",
     "text": [
      "13:16:04.018 DEBUG org.hibernate.SQL - select count(*)>0 from CUSTOMER c1_0 where c1_0.email=?\n"
     ]
    },
    {
     "name": "stdout",
     "output_type": "stream",
     "text": [
      "13:16:04.019 DEBUG org.hibernate.SQL - insert into CUSTOMER (birthDate,creationDate,email,firstname,lastname,photo,status,version,ID) values (?,?,?,?,?,?,?,?,?)\n"
     ]
    },
    {
     "name": "stdout",
     "output_type": "stream",
     "text": [
      "13:16:04.019 DEBUG org.hibernate.SQL - select count(*)>0 from CUSTOMER c1_0 where c1_0.email=?\n"
     ]
    },
    {
     "name": "stdout",
     "output_type": "stream",
     "text": [
      "13:16:04.019 DEBUG org.hibernate.SQL - insert into CUSTOMER (birthDate,creationDate,email,firstname,lastname,photo,status,version,ID) values (?,?,?,?,?,?,?,?,?)\n"
     ]
    },
    {
     "name": "stdout",
     "output_type": "stream",
     "text": [
      "13:16:04.019 DEBUG org.hibernate.SQL - select count(*)>0 from CUSTOMER c1_0 where c1_0.email=?\n"
     ]
    },
    {
     "name": "stdout",
     "output_type": "stream",
     "text": [
      "13:16:04.020 DEBUG org.hibernate.SQL - insert into CUSTOMER (birthDate,creationDate,email,firstname,lastname,photo,status,version,ID) values (?,?,?,?,?,?,?,?,?)\n"
     ]
    },
    {
     "name": "stdout",
     "output_type": "stream",
     "text": [
      "13:16:04.020 DEBUG org.hibernate.SQL - select count(*)>0 from CUSTOMER c1_0 where c1_0.email=?\n"
     ]
    },
    {
     "name": "stdout",
     "output_type": "stream",
     "text": [
      "13:16:04.020 DEBUG org.hibernate.SQL - insert into CUSTOMER (birthDate,creationDate,email,firstname,lastname,photo,status,version,ID) values (?,?,?,?,?,?,?,?,?)\n"
     ]
    },
    {
     "name": "stdout",
     "output_type": "stream",
     "text": [
      "13:16:04.021 DEBUG org.hibernate.SQL - select count(*)>0 from CUSTOMER c1_0 where c1_0.email=?\n"
     ]
    },
    {
     "name": "stdout",
     "output_type": "stream",
     "text": [
      "13:16:04.021 DEBUG org.hibernate.SQL - insert into CUSTOMER (birthDate,creationDate,email,firstname,lastname,photo,status,version,ID) values (?,?,?,?,?,?,?,?,?)\n"
     ]
    },
    {
     "name": "stdout",
     "output_type": "stream",
     "text": [
      "13:16:04.021 DEBUG org.hibernate.SQL - select count(*)>0 from CUSTOMER c1_0 where c1_0.email=?\n"
     ]
    },
    {
     "name": "stdout",
     "output_type": "stream",
     "text": [
      "13:16:04.022 DEBUG org.hibernate.SQL - insert into CUSTOMER (birthDate,creationDate,email,firstname,lastname,photo,status,version,ID) values (?,?,?,?,?,?,?,?,?)\n"
     ]
    },
    {
     "name": "stdout",
     "output_type": "stream",
     "text": [
      "13:16:04.022 DEBUG org.hibernate.SQL - select count(*)>0 from CUSTOMER c1_0 where c1_0.email=?\n"
     ]
    },
    {
     "name": "stdout",
     "output_type": "stream",
     "text": [
      "13:16:04.022 DEBUG org.hibernate.SQL - insert into CUSTOMER (birthDate,creationDate,email,firstname,lastname,photo,status,version,ID) values (?,?,?,?,?,?,?,?,?)\n"
     ]
    },
    {
     "name": "stdout",
     "output_type": "stream",
     "text": [
      "13:16:04.022 DEBUG org.hibernate.SQL - select count(*)>0 from CUSTOMER c1_0 where c1_0.email=?\n"
     ]
    },
    {
     "name": "stdout",
     "output_type": "stream",
     "text": [
      "13:16:04.023 DEBUG org.hibernate.SQL - insert into CUSTOMER (birthDate,creationDate,email,firstname,lastname,photo,status,version,ID) values (?,?,?,?,?,?,?,?,?)\n"
     ]
    },
    {
     "name": "stdout",
     "output_type": "stream",
     "text": [
      "13:16:04.023 DEBUG org.hibernate.SQL - select count(*)>0 from CUSTOMER c1_0 where c1_0.email=?\n"
     ]
    },
    {
     "name": "stdout",
     "output_type": "stream",
     "text": [
      "13:16:04.024 DEBUG org.hibernate.SQL - insert into CUSTOMER (birthDate,creationDate,email,firstname,lastname,photo,status,version,ID) values (?,?,?,?,?,?,?,?,?)\n"
     ]
    },
    {
     "name": "stdout",
     "output_type": "stream",
     "text": [
      "13:16:04.024 DEBUG org.hibernate.SQL - select count(*)>0 from CUSTOMER c1_0 where c1_0.email=?\n"
     ]
    },
    {
     "name": "stdout",
     "output_type": "stream",
     "text": [
      "13:16:04.024 DEBUG org.hibernate.SQL - insert into CUSTOMER (birthDate,creationDate,email,firstname,lastname,photo,status,version,ID) values (?,?,?,?,?,?,?,?,?)\n"
     ]
    },
    {
     "name": "stdout",
     "output_type": "stream",
     "text": [
      "13:16:04.024 DEBUG org.hibernate.SQL - select count(*)>0 from CUSTOMER c1_0 where c1_0.email=?\n"
     ]
    },
    {
     "name": "stdout",
     "output_type": "stream",
     "text": [
      "13:16:04.025 DEBUG org.hibernate.SQL - insert into CUSTOMER (birthDate,creationDate,email,firstname,lastname,photo,status,version,ID) values (?,?,?,?,?,?,?,?,?)\n"
     ]
    },
    {
     "name": "stdout",
     "output_type": "stream",
     "text": [
      "13:16:04.025 DEBUG org.hibernate.SQL - select count(*)>0 from CUSTOMER c1_0 where c1_0.email=?\n"
     ]
    },
    {
     "name": "stdout",
     "output_type": "stream",
     "text": [
      "13:16:04.025 DEBUG org.hibernate.SQL - insert into CUSTOMER (birthDate,creationDate,email,firstname,lastname,photo,status,version,ID) values (?,?,?,?,?,?,?,?,?)\n"
     ]
    },
    {
     "name": "stdout",
     "output_type": "stream",
     "text": [
      "13:16:04.026 DEBUG org.hibernate.SQL - select count(*)>0 from CUSTOMER c1_0 where c1_0.email=?\n"
     ]
    },
    {
     "name": "stdout",
     "output_type": "stream",
     "text": [
      "13:16:04.026 DEBUG org.hibernate.SQL - insert into CUSTOMER (birthDate,creationDate,email,firstname,lastname,photo,status,version,ID) values (?,?,?,?,?,?,?,?,?)\n"
     ]
    },
    {
     "name": "stdout",
     "output_type": "stream",
     "text": [
      "13:16:04.026 DEBUG org.hibernate.SQL - select count(*)>0 from CUSTOMER c1_0 where c1_0.email=?\n"
     ]
    },
    {
     "name": "stdout",
     "output_type": "stream",
     "text": [
      "13:16:04.027 DEBUG org.hibernate.SQL - insert into CUSTOMER (birthDate,creationDate,email,firstname,lastname,photo,status,version,ID) values (?,?,?,?,?,?,?,?,?)\n"
     ]
    },
    {
     "name": "stdout",
     "output_type": "stream",
     "text": [
      "13:16:04.027 DEBUG org.hibernate.SQL - select count(*)>0 from CUSTOMER c1_0 where c1_0.email=?\n"
     ]
    },
    {
     "name": "stdout",
     "output_type": "stream",
     "text": [
      "13:16:04.027 DEBUG org.hibernate.SQL - insert into CUSTOMER (birthDate,creationDate,email,firstname,lastname,photo,status,version,ID) values (?,?,?,?,?,?,?,?,?)\n"
     ]
    },
    {
     "name": "stdout",
     "output_type": "stream",
     "text": [
      "13:16:04.028 DEBUG org.hibernate.SQL - select count(*)>0 from CUSTOMER c1_0 where c1_0.email=?\n"
     ]
    },
    {
     "name": "stdout",
     "output_type": "stream",
     "text": [
      "13:16:04.028 DEBUG org.hibernate.SQL - insert into CUSTOMER (birthDate,creationDate,email,firstname,lastname,photo,status,version,ID) values (?,?,?,?,?,?,?,?,?)\n"
     ]
    },
    {
     "name": "stdout",
     "output_type": "stream",
     "text": [
      "13:16:04.028 DEBUG org.hibernate.SQL - select count(*)>0 from CUSTOMER c1_0 where c1_0.email=?\n"
     ]
    },
    {
     "name": "stdout",
     "output_type": "stream",
     "text": [
      "13:16:04.029 DEBUG org.hibernate.SQL - insert into CUSTOMER (birthDate,creationDate,email,firstname,lastname,photo,status,version,ID) values (?,?,?,?,?,?,?,?,?)\n"
     ]
    },
    {
     "name": "stdout",
     "output_type": "stream",
     "text": [
      "13:16:04.029 DEBUG org.hibernate.SQL - select count(*)>0 from CUSTOMER c1_0 where c1_0.email=?\n"
     ]
    },
    {
     "name": "stdout",
     "output_type": "stream",
     "text": [
      "13:16:04.029 DEBUG org.hibernate.SQL - insert into CUSTOMER (birthDate,creationDate,email,firstname,lastname,photo,status,version,ID) values (?,?,?,?,?,?,?,?,?)\n"
     ]
    },
    {
     "name": "stdout",
     "output_type": "stream",
     "text": [
      "13:16:04.030 DEBUG org.hibernate.SQL - select count(*)>0 from CUSTOMER c1_0 where c1_0.email=?\n"
     ]
    },
    {
     "name": "stdout",
     "output_type": "stream",
     "text": [
      "13:16:04.030 DEBUG org.hibernate.SQL - insert into CUSTOMER (birthDate,creationDate,email,firstname,lastname,photo,status,version,ID) values (?,?,?,?,?,?,?,?,?)\n"
     ]
    },
    {
     "name": "stdout",
     "output_type": "stream",
     "text": [
      "13:16:04.032 DEBUG org.hibernate.SQL - select c1_0.ID,c1_0.birthDate,c1_0.creationDate,c1_0.email,c1_0.firstname,c1_0.lastname,c1_0.photo,c1_0.status,c1_0.version from CUSTOMER c1_0\n"
     ]
    },
    {
     "name": "stdout",
     "output_type": "stream",
     "text": [
      "13:16:04.097 DEBUG org.hibernate.SQL - select count(*)>0 from CUSTOMER c1_0 where c1_0.email=?\n"
     ]
    },
    {
     "name": "stdout",
     "output_type": "stream",
     "text": [
      "13:16:04.098 DEBUG org.hibernate.SQL - select nextval('CUSTOMER_SEQ')\n"
     ]
    },
    {
     "name": "stdout",
     "output_type": "stream",
     "text": [
      "13:16:04.099 DEBUG org.hibernate.SQL - insert into CUSTOMER (birthDate,creationDate,email,firstname,lastname,photo,status,version,ID) values (?,?,?,?,?,?,?,?,?)\n"
     ]
    },
    {
     "name": "stdout",
     "output_type": "stream",
     "text": [
      "13:16:04.100 DEBUG org.hibernate.SQL - select count(*)>0 from CUSTOMER c1_0 where c1_0.email=?\n"
     ]
    },
    {
     "name": "stdout",
     "output_type": "stream",
     "text": [
      "13:16:04.101 DEBUG org.hibernate.SQL - insert into CUSTOMER (birthDate,creationDate,email,firstname,lastname,photo,status,version,ID) values (?,?,?,?,?,?,?,?,?)\n"
     ]
    },
    {
     "name": "stdout",
     "output_type": "stream",
     "text": [
      "13:16:04.101 DEBUG org.hibernate.SQL - select count(*)>0 from CUSTOMER c1_0 where c1_0.email=?\n"
     ]
    },
    {
     "name": "stdout",
     "output_type": "stream",
     "text": [
      "13:16:04.102 DEBUG org.hibernate.SQL - insert into CUSTOMER (birthDate,creationDate,email,firstname,lastname,photo,status,version,ID) values (?,?,?,?,?,?,?,?,?)\n"
     ]
    },
    {
     "name": "stdout",
     "output_type": "stream",
     "text": [
      "13:16:04.102 DEBUG org.hibernate.SQL - select count(*)>0 from CUSTOMER c1_0 where c1_0.email=?\n"
     ]
    },
    {
     "name": "stdout",
     "output_type": "stream",
     "text": [
      "13:16:04.102 DEBUG org.hibernate.SQL - insert into CUSTOMER (birthDate,creationDate,email,firstname,lastname,photo,status,version,ID) values (?,?,?,?,?,?,?,?,?)\n"
     ]
    },
    {
     "name": "stdout",
     "output_type": "stream",
     "text": [
      "13:16:04.102 DEBUG org.hibernate.SQL - select count(*)>0 from CUSTOMER c1_0 where c1_0.email=?\n"
     ]
    },
    {
     "name": "stdout",
     "output_type": "stream",
     "text": [
      "13:16:04.103 DEBUG org.hibernate.SQL - insert into CUSTOMER (birthDate,creationDate,email,firstname,lastname,photo,status,version,ID) values (?,?,?,?,?,?,?,?,?)\n"
     ]
    },
    {
     "name": "stdout",
     "output_type": "stream",
     "text": [
      "13:16:04.103 DEBUG org.hibernate.SQL - select count(*)>0 from CUSTOMER c1_0 where c1_0.email=?\n"
     ]
    },
    {
     "name": "stdout",
     "output_type": "stream",
     "text": [
      "13:16:04.104 DEBUG org.hibernate.SQL - insert into CUSTOMER (birthDate,creationDate,email,firstname,lastname,photo,status,version,ID) values (?,?,?,?,?,?,?,?,?)\n"
     ]
    },
    {
     "name": "stdout",
     "output_type": "stream",
     "text": [
      "13:16:04.104 DEBUG org.hibernate.SQL - select count(*)>0 from CUSTOMER c1_0 where c1_0.email=?\n"
     ]
    },
    {
     "name": "stdout",
     "output_type": "stream",
     "text": [
      "13:16:04.104 DEBUG org.hibernate.SQL - insert into CUSTOMER (birthDate,creationDate,email,firstname,lastname,photo,status,version,ID) values (?,?,?,?,?,?,?,?,?)\n"
     ]
    },
    {
     "name": "stdout",
     "output_type": "stream",
     "text": [
      "13:16:04.104 DEBUG org.hibernate.SQL - select count(*)>0 from CUSTOMER c1_0 where c1_0.email=?\n"
     ]
    },
    {
     "name": "stdout",
     "output_type": "stream",
     "text": [
      "13:16:04.105 DEBUG org.hibernate.SQL - insert into CUSTOMER (birthDate,creationDate,email,firstname,lastname,photo,status,version,ID) values (?,?,?,?,?,?,?,?,?)\n"
     ]
    },
    {
     "name": "stdout",
     "output_type": "stream",
     "text": [
      "13:16:04.105 DEBUG org.hibernate.SQL - select count(*)>0 from CUSTOMER c1_0 where c1_0.email=?\n"
     ]
    },
    {
     "name": "stdout",
     "output_type": "stream",
     "text": [
      "13:16:04.106 DEBUG org.hibernate.SQL - insert into CUSTOMER (birthDate,creationDate,email,firstname,lastname,photo,status,version,ID) values (?,?,?,?,?,?,?,?,?)\n"
     ]
    },
    {
     "name": "stdout",
     "output_type": "stream",
     "text": [
      "13:16:04.106 DEBUG org.hibernate.SQL - select count(*)>0 from CUSTOMER c1_0 where c1_0.email=?\n"
     ]
    },
    {
     "name": "stdout",
     "output_type": "stream",
     "text": [
      "13:16:04.106 DEBUG org.hibernate.SQL - insert into CUSTOMER (birthDate,creationDate,email,firstname,lastname,photo,status,version,ID) values (?,?,?,?,?,?,?,?,?)\n"
     ]
    },
    {
     "name": "stdout",
     "output_type": "stream",
     "text": [
      "13:16:04.167 DEBUG org.hibernate.SQL - select c1_0.firstname,c1_0.lastname from CUSTOMER c1_0 fetch first ? rows only\n"
     ]
    },
    {
     "name": "stdout",
     "output_type": "stream",
     "text": [
      "13:16:04.169 DEBUG org.hibernate.SQL - select nextval('PERSON_SEQ')\n"
     ]
    },
    {
     "name": "stdout",
     "output_type": "stream",
     "text": [
      "13:16:04.170 DEBUG org.hibernate.SQL - insert into EX_HERITAGE3.STUDENT (name,status,id) values (?,?,?)\n"
     ]
    },
    {
     "name": "stdout",
     "output_type": "stream",
     "text": [
      "13:16:04.171 DEBUG org.hibernate.SQL - insert into EX_HERITAGE3.TEACHER (name,salary,id) values (?,?,?)\n"
     ]
    },
    {
     "name": "stdout",
     "output_type": "stream",
     "text": [
      "13:16:04.171 DEBUG org.hibernate.SQL - select s1_0.id,s1_0.name,s1_0.status from EX_HERITAGE3.STUDENT s1_0 where s1_0.id=?\n"
     ]
    },
    {
     "name": "stdout",
     "output_type": "stream",
     "text": [
      "13:16:04.173 DEBUG org.hibernate.SQL - select t1_0.id,t1_0.name,t1_0.salary from EX_HERITAGE3.TEACHER t1_0 where t1_0.id=?\n"
     ]
    },
    {
     "name": "stdout",
     "output_type": "stream",
     "text": [
      "13:16:04.176 DEBUG org.hibernate.SQL - select nextval('CUSTOMER_SEQ')\n"
     ]
    },
    {
     "name": "stdout",
     "output_type": "stream",
     "text": [
      "13:16:04.177 DEBUG org.hibernate.SQL - insert into EX_SIMPLE.CUSTOMER (email,name,id) values (?,?,?)\n"
     ]
    },
    {
     "name": "stdout",
     "output_type": "stream",
     "text": [
      "13:16:04.177 DEBUG org.hibernate.SQL - update EX_SIMPLE.CUSTOMER set email=?,name=? where id=?\n"
     ]
    },
    {
     "name": "stdout",
     "output_type": "stream",
     "text": [
      "13:16:04.178 DEBUG org.hibernate.SQL - select c1_0.id,c1_0.email,c1_0.name from EX_SIMPLE.CUSTOMER c1_0 where c1_0.id=?\n"
     ]
    },
    {
     "name": "stdout",
     "output_type": "stream",
     "text": [
      "13:16:04.260 DEBUG org.hibernate.SQL - delete from EX_SIMPLE.CUSTOMER where id=?\n"
     ]
    },
    {
     "name": "stdout",
     "output_type": "stream",
     "text": [
      "13:16:04.262 DEBUG org.hibernate.SQL - insert into EX_SIMPLE.CUSTOMER (email,name,id) values (?,?,?)\n"
     ]
    },
    {
     "name": "stdout",
     "output_type": "stream",
     "text": [
      "13:16:04.263 DEBUG org.hibernate.SQL - update EX_SIMPLE.CUSTOMER set email=?,name=? where id=?\n"
     ]
    },
    {
     "name": "stdout",
     "output_type": "stream",
     "text": [
      "13:16:04.265 DEBUG org.hibernate.SQL - select c1_0.id,c1_0.email,c1_0.name from EX_SIMPLE.CUSTOMER c1_0 where c1_0.id=?\n"
     ]
    },
    {
     "name": "stdout",
     "output_type": "stream",
     "text": [
      "13:16:04.267 DEBUG org.hibernate.SQL - delete from EX_SIMPLE.CUSTOMER where id=?\n"
     ]
    },
    {
     "name": "stdout",
     "output_type": "stream",
     "text": [
      "13:16:07 INFO - looking for property jakarta.persistence.jdbc.password in variable DB_PASSWORD or in property db.password\n"
     ]
    },
    {
     "name": "stdout",
     "output_type": "stream",
     "text": [
      "13:16:07 INFO - looking for property jakarta.persistence.jdbc.user in variable DB_USERNAME or in property db.username\n"
     ]
    },
    {
     "name": "stdout",
     "output_type": "stream",
     "text": [
      "13:16:07 INFO - looking for property jakarta.persistence.jdbc.url in variable DB_URL or in property db.url\n"
     ]
    },
    {
     "name": "stdout",
     "output_type": "stream",
     "text": [
      "13:16:07 INFO - Connection to jdbc:postgresql://db/notebook-db as dba\n"
     ]
    },
    {
     "name": "stdout",
     "output_type": "stream",
     "text": [
      "13:16:07 INFO - HHH000204: Processing PersistenceUnitInfo [name: hellojpa-pu]\n"
     ]
    },
    {
     "name": "stdout",
     "output_type": "stream",
     "text": [
      "13:16:07 INFO - HHH000412: Hibernate ORM core version [WORKING]\n"
     ]
    },
    {
     "name": "stdout",
     "output_type": "stream",
     "text": [
      "13:16:07 INFO - HHH000026: Second-level cache disabled\n"
     ]
    },
    {
     "name": "stdout",
     "output_type": "stream",
     "text": [
      "13:16:08 INFO - HHH010002: C3P0 using driver: org.postgresql.Driver at URL: jdbc:postgresql://db/notebook-db\n"
     ]
    },
    {
     "name": "stdout",
     "output_type": "stream",
     "text": [
      "13:16:08 INFO - HHH10001001: Connection properties: {password=****, user=dba}\n"
     ]
    },
    {
     "name": "stdout",
     "output_type": "stream",
     "text": [
      "13:16:08 INFO - HHH10001003: Autocommit mode: false\n"
     ]
    },
    {
     "name": "stdout",
     "output_type": "stream",
     "text": [
      "13:16:08 INFO - MLog clients using slf4j logging.\n"
     ]
    },
    {
     "name": "stdout",
     "output_type": "stream",
     "text": [
      "13:16:08 INFO - Initializing c3p0-0.9.5.5 [built 11-December-2019 22:18:33 -0800; debug? true; trace: 10]\n"
     ]
    },
    {
     "name": "stdout",
     "output_type": "stream",
     "text": [
      "13:16:08 INFO - HHH10001007: JDBC isolation level: <unknown>\n"
     ]
    },
    {
     "name": "stdout",
     "output_type": "stream",
     "text": [
      "13:16:08 INFO - Initializing c3p0 pool... com.mchange.v2.c3p0.PoolBackedDataSource@6c6b44e7 [ connectionPoolDataSource -> com.mchange.v2.c3p0.WrapperConnectionPoolDataSource@87dbbbf6 [ acquireIncrement -> 3, acquireRetryAttempts -> 30, acquireRetryDelay -> 1000, autoCommitOnClose -> false, automaticTestTable -> null, breakAfterAcquireFailure -> false, checkoutTimeout -> 0, connectionCustomizerClassName -> null, connectionTesterClassName -> com.mchange.v2.c3p0.impl.DefaultConnectionTester, contextClassLoaderSource -> caller, debugUnreturnedConnectionStackTraces -> false, factoryClassLocation -> null, forceIgnoreUnresolvedTransactions -> false, forceSynchronousCheckins -> false, identityToken -> 1bqrg1wb243elom6wy5kh|7982ab92, idleConnectionTestPeriod -> 0, initialPoolSize -> 3, maxAdministrativeTaskTime -> 0, maxConnectionAge -> 0, maxIdleTime -> 0, maxIdleTimeExcessConnections -> 0, maxPoolSize -> 15, maxStatements -> 0, maxStatementsPerConnection -> 0, minPoolSize -> 3, nestedDataSource -> com.mchange.v2.c3p0.DriverManagerDataSource@b57f45af [ description -> null, driverClass -> null, factoryClassLocation -> null, forceUseNamedDriverClass -> false, identityToken -> 1bqrg1wb243elom6wy5kh|1a5f5be4, jdbcUrl -> jdbc:postgresql://db/notebook-db, properties -> {password=******, user=******} ], preferredTestQuery -> null, privilegeSpawnedThreads -> false, propertyCycle -> 0, statementCacheNumDeferredCloseThreads -> 0, testConnectionOnCheckin -> false, testConnectionOnCheckout -> false, unreturnedConnectionTimeout -> 0, usesTraditionalReflectiveProxies -> false; userOverrides: {} ], dataSourceName -> null, extensions -> {}, factoryClassLocation -> null, identityToken -> 1bqrg1wb243elom6wy5kh|413ea7ee, numHelperThreads -> 3 ]\n"
     ]
    },
    {
     "name": "stdout",
     "output_type": "stream",
     "text": [
      "13:16:09 INFO - HHH000398: Explicit segment value for id generator [EX_IDTABLE.ID_GENERATOR_TABLE.sequence_name] suggested; using default [CUSTOMER]\n"
     ]
    },
    {
     "name": "stdout",
     "output_type": "stream",
     "text": [
      "13:16:09 INFO - HHH000489: No JTA platform available (set 'hibernate.transaction.jta.platform' to enable JTA platform integration)\n"
     ]
    },
    {
     "name": "stdout",
     "output_type": "stream",
     "text": [
      "13:16:09 INFO - HHH10001501: Connection obtained from JdbcConnectionAccess [org.hibernate.engine.jdbc.env.internal.JdbcEnvironmentInitiator$ConnectionProviderJdbcConnectionAccess@13d14ed9] for (non-JTA) DDL execution was not in auto-commit mode; the Connection 'local transaction' will be committed and the Connection will be set into auto-commit mode.\n"
     ]
    },
    {
     "name": "stdout",
     "output_type": "stream",
     "text": [
      "13:16:09 WARN - SQL Warning Code: 0, SQLState: 00000\n"
     ]
    },
    {
     "name": "stdout",
     "output_type": "stream",
     "text": [
      "13:16:09 WARN - drop cascades to table ex_biography.customer\n"
     ]
    },
    {
     "name": "stdout",
     "output_type": "stream",
     "text": [
      "13:16:09 WARN - SQL Warning Code: 0, SQLState: 00000\n"
     ]
    },
    {
     "name": "stdout",
     "output_type": "stream",
     "text": [
      "13:16:09 WARN - drop cascades to 3 other objects\n"
     ]
    },
    {
     "name": "stdout",
     "output_type": "stream",
     "text": [
      "13:16:09 WARN - SQL Warning Code: 0, SQLState: 00000\n"
     ]
    },
    {
     "name": "stdout",
     "output_type": "stream",
     "text": [
      "13:16:09 WARN - drop cascades to 2 other objects\n"
     ]
    },
    {
     "name": "stdout",
     "output_type": "stream",
     "text": [
      "13:16:09 WARN - SQL Warning Code: 0, SQLState: 00000\n"
     ]
    },
    {
     "name": "stdout",
     "output_type": "stream",
     "text": [
      "13:16:09 WARN - drop cascades to 2 other objects\n"
     ]
    },
    {
     "name": "stdout",
     "output_type": "stream",
     "text": [
      "13:16:09 WARN - SQL Warning Code: 0, SQLState: 00000\n"
     ]
    },
    {
     "name": "stdout",
     "output_type": "stream",
     "text": [
      "13:16:09 WARN - drop cascades to table ex_hook.customer\n"
     ]
    },
    {
     "name": "stdout",
     "output_type": "stream",
     "text": [
      "13:16:09 WARN - SQL Warning Code: 0, SQLState: 00000\n"
     ]
    },
    {
     "name": "stdout",
     "output_type": "stream",
     "text": [
      "13:16:09 WARN - drop cascades to table ex_embedded_id.employe\n"
     ]
    },
    {
     "name": "stdout",
     "output_type": "stream",
     "text": [
      "13:16:09 WARN - SQL Warning Code: 0, SQLState: 00000\n"
     ]
    },
    {
     "name": "stdout",
     "output_type": "stream",
     "text": [
      "13:16:09 WARN - drop cascades to table ex_idclass.employe\n"
     ]
    },
    {
     "name": "stdout",
     "output_type": "stream",
     "text": [
      "13:16:09 WARN - SQL Warning Code: 0, SQLState: 00000\n"
     ]
    },
    {
     "name": "stdout",
     "output_type": "stream",
     "text": [
      "13:16:09 WARN - schema \"ex_idclass\" does not exist, skipping\n"
     ]
    },
    {
     "name": "stdout",
     "output_type": "stream",
     "text": [
      "13:16:09 WARN - SQL Warning Code: 0, SQLState: 00000\n"
     ]
    },
    {
     "name": "stdout",
     "output_type": "stream",
     "text": [
      "13:16:09 WARN - drop cascades to table ex_heritage1.person\n"
     ]
    },
    {
     "name": "stdout",
     "output_type": "stream",
     "text": [
      "13:16:09 WARN - SQL Warning Code: 0, SQLState: 00000\n"
     ]
    },
    {
     "name": "stdout",
     "output_type": "stream",
     "text": [
      "13:16:09 WARN - drop cascades to 3 other objects\n"
     ]
    },
    {
     "name": "stdout",
     "output_type": "stream",
     "text": [
      "13:16:09 WARN - SQL Warning Code: 0, SQLState: 00000\n"
     ]
    },
    {
     "name": "stdout",
     "output_type": "stream",
     "text": [
      "13:16:09 WARN - drop cascades to 3 other objects\n"
     ]
    },
    {
     "name": "stdout",
     "output_type": "stream",
     "text": [
      "13:16:09 WARN - SQL Warning Code: 0, SQLState: 00000\n"
     ]
    },
    {
     "name": "stdout",
     "output_type": "stream",
     "text": [
      "13:16:09 WARN - schema \"ex_biography\" does not exist, skipping\n"
     ]
    },
    {
     "name": "stdout",
     "output_type": "stream",
     "text": [
      "13:16:09 WARN - SQL Warning Code: 0, SQLState: 00000\n"
     ]
    },
    {
     "name": "stdout",
     "output_type": "stream",
     "text": [
      "13:16:09 WARN - schema \"ex_embedded_id\" does not exist, skipping\n"
     ]
    },
    {
     "name": "stdout",
     "output_type": "stream",
     "text": [
      "13:16:09 WARN - SQL Warning Code: 0, SQLState: 00000\n"
     ]
    },
    {
     "name": "stdout",
     "output_type": "stream",
     "text": [
      "13:16:09 WARN - schema \"ex_heritage1\" does not exist, skipping\n"
     ]
    },
    {
     "name": "stdout",
     "output_type": "stream",
     "text": [
      "13:16:09 WARN - SQL Warning Code: 0, SQLState: 00000\n"
     ]
    },
    {
     "name": "stdout",
     "output_type": "stream",
     "text": [
      "13:16:09 WARN - relation \"student\" does not exist, skipping\n"
     ]
    },
    {
     "name": "stdout",
     "output_type": "stream",
     "text": [
      "13:16:09 WARN - SQL Warning Code: 0, SQLState: 00000\n"
     ]
    },
    {
     "name": "stdout",
     "output_type": "stream",
     "text": [
      "13:16:09 WARN - relation \"teacher\" does not exist, skipping\n"
     ]
    },
    {
     "name": "stdout",
     "output_type": "stream",
     "text": [
      "13:16:09 WARN - SQL Warning Code: 0, SQLState: 00000\n"
     ]
    },
    {
     "name": "stdout",
     "output_type": "stream",
     "text": [
      "13:16:09 WARN - schema \"ex_heritage2\" does not exist, skipping\n"
     ]
    },
    {
     "name": "stdout",
     "output_type": "stream",
     "text": [
      "13:16:09 WARN - SQL Warning Code: 0, SQLState: 00000\n"
     ]
    },
    {
     "name": "stdout",
     "output_type": "stream",
     "text": [
      "13:16:09 WARN - schema \"ex_heritage2\" does not exist, skipping\n"
     ]
    },
    {
     "name": "stdout",
     "output_type": "stream",
     "text": [
      "13:16:09 WARN - SQL Warning Code: 0, SQLState: 00000\n"
     ]
    },
    {
     "name": "stdout",
     "output_type": "stream",
     "text": [
      "13:16:09 WARN - schema \"ex_heritage2\" does not exist, skipping\n"
     ]
    },
    {
     "name": "stdout",
     "output_type": "stream",
     "text": [
      "13:16:09 WARN - SQL Warning Code: 0, SQLState: 00000\n"
     ]
    },
    {
     "name": "stdout",
     "output_type": "stream",
     "text": [
      "13:16:09 WARN - schema \"ex_heritage3\" does not exist, skipping\n"
     ]
    },
    {
     "name": "stdout",
     "output_type": "stream",
     "text": [
      "13:16:09 WARN - SQL Warning Code: 0, SQLState: 00000\n"
     ]
    },
    {
     "name": "stdout",
     "output_type": "stream",
     "text": [
      "13:16:09 WARN - schema \"ex_heritage3\" does not exist, skipping\n"
     ]
    },
    {
     "name": "stdout",
     "output_type": "stream",
     "text": [
      "13:16:09 WARN - SQL Warning Code: 0, SQLState: 00000\n"
     ]
    },
    {
     "name": "stdout",
     "output_type": "stream",
     "text": [
      "13:16:09 WARN - schema \"ex_heritage3\" does not exist, skipping\n"
     ]
    },
    {
     "name": "stdout",
     "output_type": "stream",
     "text": [
      "13:16:09 WARN - SQL Warning Code: 0, SQLState: 00000\n"
     ]
    },
    {
     "name": "stdout",
     "output_type": "stream",
     "text": [
      "13:16:09 WARN - schema \"ex_hook\" does not exist, skipping\n"
     ]
    },
    {
     "name": "stdout",
     "output_type": "stream",
     "text": [
      "13:16:09 WARN - SQL Warning Code: 0, SQLState: 00000\n"
     ]
    },
    {
     "name": "stdout",
     "output_type": "stream",
     "text": [
      "13:16:09 WARN - schema \"ex_idclass\" does not exist, skipping\n"
     ]
    },
    {
     "name": "stdout",
     "output_type": "stream",
     "text": [
      "13:16:09 WARN - SQL Warning Code: 0, SQLState: 00000\n"
     ]
    },
    {
     "name": "stdout",
     "output_type": "stream",
     "text": [
      "13:16:09 WARN - relation \"customer_address\" does not exist, skipping\n"
     ]
    },
    {
     "name": "stdout",
     "output_type": "stream",
     "text": [
      "13:16:09 WARN - SQL Warning Code: 0, SQLState: 00000\n"
     ]
    },
    {
     "name": "stdout",
     "output_type": "stream",
     "text": [
      "13:16:09 WARN - relation \"customer_address\" does not exist, skipping\n"
     ]
    },
    {
     "name": "stdout",
     "output_type": "stream",
     "text": [
      "13:16:09 WARN - SQL Warning Code: 0, SQLState: 00000\n"
     ]
    },
    {
     "name": "stdout",
     "output_type": "stream",
     "text": [
      "13:16:09 WARN - schema \"ex_many_to_many\" does not exist, skipping\n"
     ]
    },
    {
     "name": "stdout",
     "output_type": "stream",
     "text": [
      "13:16:09 WARN - SQL Warning Code: 0, SQLState: 00000\n"
     ]
    },
    {
     "name": "stdout",
     "output_type": "stream",
     "text": [
      "13:16:09 WARN - schema \"ex_many_to_many\" does not exist, skipping\n"
     ]
    },
    {
     "name": "stdout",
     "output_type": "stream",
     "text": [
      "13:16:09 WARN - SQL Warning Code: 0, SQLState: 00000\n"
     ]
    },
    {
     "name": "stdout",
     "output_type": "stream",
     "text": [
      "13:16:09 WARN - schema \"ex_many_to_many\" does not exist, skipping\n"
     ]
    },
    {
     "name": "stdout",
     "output_type": "stream",
     "text": [
      "13:16:09 WARN - SQL Warning Code: 0, SQLState: 00000\n"
     ]
    },
    {
     "name": "stdout",
     "output_type": "stream",
     "text": [
      "13:16:09 WARN - relation \"line\" does not exist, skipping\n"
     ]
    },
    {
     "name": "stdout",
     "output_type": "stream",
     "text": [
      "13:16:09 WARN - SQL Warning Code: 0, SQLState: 00000\n"
     ]
    },
    {
     "name": "stdout",
     "output_type": "stream",
     "text": [
      "13:16:09 WARN - schema \"ex_one_to_many_a\" does not exist, skipping\n"
     ]
    },
    {
     "name": "stdout",
     "output_type": "stream",
     "text": [
      "13:16:09 WARN - SQL Warning Code: 0, SQLState: 00000\n"
     ]
    },
    {
     "name": "stdout",
     "output_type": "stream",
     "text": [
      "13:16:09 WARN - schema \"ex_one_to_many_a\" does not exist, skipping\n"
     ]
    },
    {
     "name": "stdout",
     "output_type": "stream",
     "text": [
      "13:16:09 WARN - SQL Warning Code: 0, SQLState: 00000\n"
     ]
    },
    {
     "name": "stdout",
     "output_type": "stream",
     "text": [
      "13:16:09 WARN - relation \"line\" does not exist, skipping\n"
     ]
    },
    {
     "name": "stdout",
     "output_type": "stream",
     "text": [
      "13:16:09 WARN - SQL Warning Code: 0, SQLState: 00000\n"
     ]
    },
    {
     "name": "stdout",
     "output_type": "stream",
     "text": [
      "13:16:09 WARN - schema \"ex_one_to_many_b\" does not exist, skipping\n"
     ]
    },
    {
     "name": "stdout",
     "output_type": "stream",
     "text": [
      "13:16:09 WARN - SQL Warning Code: 0, SQLState: 00000\n"
     ]
    },
    {
     "name": "stdout",
     "output_type": "stream",
     "text": [
      "13:16:09 WARN - schema \"ex_one_to_many_b\" does not exist, skipping\n"
     ]
    },
    {
     "name": "stdout",
     "output_type": "stream",
     "text": [
      "13:16:09 INFO - HHH10001501: Connection obtained from JdbcConnectionAccess [org.hibernate.engine.jdbc.env.internal.JdbcEnvironmentInitiator$ConnectionProviderJdbcConnectionAccess@3d39494f] for (non-JTA) DDL execution was not in auto-commit mode; the Connection 'local transaction' will be committed and the Connection will be set into auto-commit mode.\n"
     ]
    },
    {
     "name": "stdout",
     "output_type": "stream",
     "text": [
      "13:16:09 WARN - SQL Warning Code: 0, SQLState: 42P06\n"
     ]
    },
    {
     "name": "stdout",
     "output_type": "stream",
     "text": [
      "13:16:09 WARN - schema \"ex_simple\" already exists, skipping\n"
     ]
    },
    {
     "name": "stdout",
     "output_type": "stream",
     "text": [
      "13:16:09 WARN - SQL Warning Code: 0, SQLState: 42P06\n"
     ]
    },
    {
     "name": "stdout",
     "output_type": "stream",
     "text": [
      "13:16:09 WARN - schema \"ex_uuid\" already exists, skipping\n"
     ]
    },
    {
     "name": "stdout",
     "output_type": "stream",
     "text": [
      "13:16:09 WARN - SQL Warning Code: 0, SQLState: 42P06\n"
     ]
    },
    {
     "name": "stdout",
     "output_type": "stream",
     "text": [
      "13:16:09 WARN - schema \"ex_idseq\" already exists, skipping\n"
     ]
    },
    {
     "name": "stdout",
     "output_type": "stream",
     "text": [
      "13:16:09 WARN - SQL Warning Code: 0, SQLState: 42P06\n"
     ]
    },
    {
     "name": "stdout",
     "output_type": "stream",
     "text": [
      "13:16:09 WARN - schema \"ex_idtable\" already exists, skipping\n"
     ]
    }
   ],
   "source": [
    "//| output: false\n",
    "//| echo: false\n",
    "\n",
    "%printWithName false\n",
    "    \n",
    "// UPDATE SAMPLE SOURCE CODE\n",
    "\n",
    "String script=\"\"\"\n",
    "export DB_URL=jdbc:postgresql://db/notebook-db\n",
    "export DB_USERNAME=dba\n",
    "export DB_PASSWORD=secretsecret\n",
    "    \n",
    "GITHUB_REPO=ebpro/sample-hellojpa\n",
    "GITHUB_URL=https://github.com/${GITHUB_REPO}\n",
    "BRANCH=develop\n",
    "SRC_DIR=/home/jovyan/work/src/github/${GITHUB_REPO}\n",
    "gitpuller ${GITHUB_URL} ${BRANCH} ${SRC_DIR}\n",
    "cd ${SRC_DIR}\n",
    "mvn --quiet clean package\n",
    "\"\"\";\n",
    "IJava.getKernelInstance().getMagics().applyCellMagic(\"shell\",List.of(\"\"),script);  \n",
    "\n",
    "/* String script=\"\"\"\n",
    "export DB_URL=jdbc:postgresql://db/notebook-db\n",
    "export DB_USERNAME=dba\n",
    "export DB_PASSWORD=secretsecret\n",
    "    \n",
    "GITHUB_REPO=ebpro/minimal-jpa\n",
    "GITHUB_URL=https://github.com/${GITHUB_REPO}\n",
    "BRANCH=develop\n",
    "SRC_DIR=/home/jovyan/work/src/github/${GITHUB_REPO}\n",
    "gitpuller ${GITHUB_URL} ${BRANCH} ${SRC_DIR}\n",
    "cd ${SRC_DIR}\n",
    "mvn --quiet clean package\n",
    "\"\"\";\n",
    "IJava.getKernelInstance().getMagics().applyCellMagic(\"shell\",List.of(\"\"),script);  */\n",
    "\n",
    "//LOAD SAMPLE CLASSES\n",
    "%jars \"/home/jovyan/work/src/github/ebpro/sample-hellojpa/target/*-SNAPSHOT-jar-with-dependencies.jar\"\n",
    "\n",
    "//IMPORT MAIN CLASSES\n",
    "import jakarta.persistence.*;\n",
    "import fr.univtln.bruno.demos.jpa.hello.DatabaseManager;\n",
    "\n",
    "//INIT THE DATABASE \n",
    "try (EntityManager em = DatabaseManager.getEntityManagerFactory().createEntityManager();) {}\n",
    "\n",
    "//INIT A LOGGER\n",
    "import org.slf4j.Logger;\n",
    "import org.slf4j.LoggerFactory;\n",
    "\n",
    "Logger log = LoggerFactory.getLogger(\"notebook\");"
   ]
  },
  {
   "cell_type": "code",
   "execution_count": 2,
   "metadata": {},
   "outputs": [
    {
     "ename": "EvalException",
     "evalue": "/home/jovyan/work/local/./_version.qmd",
     "output_type": "error",
     "traceback": [
      "\u001b[1m\u001b[31m---------------------------------------------------------------------------\u001b[0m",
      "\u001b[1m\u001b[31mjava.nio.file.NoSuchFileException: /home/jovyan/work/local/./_version.qmd\u001b[0m",
      "\u001b[1m\u001b[31m\tat java.base/sun.nio.fs.UnixException.translateToIOException(UnixException.java:92)\u001b[0m",
      "\u001b[1m\u001b[31m\tat java.base/sun.nio.fs.UnixException.rethrowAsIOException(UnixException.java:106)\u001b[0m",
      "\u001b[1m\u001b[31m\tat java.base/sun.nio.fs.UnixException.rethrowAsIOException(UnixException.java:111)\u001b[0m",
      "\u001b[1m\u001b[31m\tat java.base/sun.nio.fs.UnixFileSystemProvider.newFileChannel(UnixFileSystemProvider.java:224)\u001b[0m",
      "\u001b[1m\u001b[31m\tat java.base/java.nio.channels.FileChannel.open(FileChannel.java:309)\u001b[0m",
      "\u001b[1m\u001b[31m\tat java.base/java.nio.channels.FileChannel.open(FileChannel.java:369)\u001b[0m",
      "\u001b[1m\u001b[31m\tat java.base/java.nio.file.Files.lines(Files.java:4112)\u001b[0m",
      "\u001b[1m\u001b[31m\tat java.base/java.nio.file.Files.lines(Files.java:4207)\u001b[0m",
      "\u001b[1m\u001b[31m\tat .(#75:1)\u001b[0m"
     ]
    }
   ],
   "source": [
    "//| echo: false\n",
    "import java.util.stream.Stream;\n",
    "import java.nio.file.FileSystems;\n",
    "\n",
    "\n",
    "\n",
    "Path path=Path.of(\"..\",\"_version.qmd\").toAbsolutePath();\n",
    "if (!Files.exists(path)) path=Path.of(\".\",\"_version.qmd\").toAbsolutePath();\n",
    "Stream<String> lines = Files.lines(path);\n",
    "String data = lines.collect(Collectors.joining(\"\\n\"));\n",
    "lines.close();\n",
    "render(data, \"text/markdown\");"
   ]
  },
  {
   "cell_type": "markdown",
   "metadata": {},
   "source": [
    "Les exemples présentés sont disponibles dans l'entrepôt: [https://github.com/ebpro/sample-hellojpa/](https://github.com/ebpro/sample-hellojpa/)\n",
    "\n",
    "Un exemple complet de base est disponible dans l'entrepôt: [https://github.com/ebpro/minimal-jpa/](https://github.com/ebpro/minimal-jpa/)"
   ]
  },
  {
   "cell_type": "markdown",
   "metadata": {},
   "source": [
    "## Introduction à Jakarta Persistence API (JPA)\n",
    "\n",
    "::: {.content-visible when-profile=\"slides\"}\n",
    "-   Jakarta Persistence API (JPA) est une spécification Java pour la gestion de la persistance des données dans les applications Jakarta EE.\n",
    "-   Objectif : faciliter le mapping entre les objets Java et les tables de base de données relationnelles.\n",
    "-   Simplifie les opérations CRUD (Create, Read, Update, Delete) sur les objets persistants.\n",
    "-   Avantages : portabilité des applications, abstraction de la couche de persistance, réduction de la dépendance au code SQL spécifique au fournisseur de base de données.\n",
    "-   Exemple : utilisation de JPA avec des outils populaires tels que Hibernate, EclipseLink, ou OpenJPA pour simplifier le développement d'applications Jakarta EE.\n",
    ":::\n",
    "\n",
    "::: {.content-visible when-profile=\"notes\"}\n",
    "Le Mapping Relationnel/Object (ORM) est une approche déclarative visant à établir un lien entre un modèle Orienté Objet, tel qu'un programme Java, et un modèle relationnel, matérialisé par des tables dans une base de données relationnelle. Cette démarche peut comprendre la création du schéma relationnel à partir du programme Java et l'automatisation des fonctions essentielles pour la gestion de la persistance des données. Cela améliore la portabilité des applications par une abstraction de la couche de persistance et donc une réduction de la dépendance au code SQL spécifique au fournisseur de base de données.\n",
    ":::\n",
    "\n",
    "## Spécification\n",
    "\n",
    "::: {.content-visible when-profile=\"slides\"}\n",
    "-   JPA : spécification Java pour la liaison entre le modèle orienté objet de Java et le modèle relationnel (ORM).\n",
    "-   Version actuelle : [JPA 3.1](https://jakarta.ee/specifications/persistence/3.1/jakarta-persistence-spec-3.1.html).\n",
    "-   Repose sur JDBC (Java Database Connectivity): génère automatiquement les requêtes SQL et leur mise en oeuvre.\n",
    "-   Offre une solution normalisée et robuste pour la gestion des données dans les applications Java.\n",
    ":::\n",
    "\n",
    "::: {.content-visible when-profile=\"notes\"}\n",
    "Pour Java, Jakara Persistance API (JPA) est une [spécification (actuellement en version 3.1)](https://jakarta.ee/specifications/persistence/3.1/jakarta-persistence-spec-3.1.html) concernant la liaison entre le modèle orienté objet de Java et le modèle relationnel (Object Relational Mapping - ORM). JPA s'appuie sur [JDBC (Java Database Connectivity)](https://docs.oracle.com/javase/8/docs/technotes/guides/jdbc/). JPA fournit une solution robuste et normalisée pour la gestion des interactions entre une application Java et une base de données.\n",
    "\n",
    "Plusieurs implantations de JPA existent dont l'implantation de référence [EclipseLink](https://www.eclipse.org/eclipselink) et une autre très utilisée [Hibernate](https://hibernate.org/). Cette introduction utilise Hibernate mais en respectant le standard.\n",
    ":::\n",
    "\n",
    "## En pratique\n",
    "\n",
    "Il faut donc ajouter les éléments suivant au `pom.xml` de Maven.\n",
    "\n",
    "``` xml\n",
    "  <!-- L'API Standard -->\n",
    "  <!-- a priori inclue par transitivité avec l'une des suivantes -->\n",
    "  <dependency>\n",
    "    <groupId>jakarta.persistence</groupId>\n",
    "    <artifactId>jakarta.persistence-api</artifactId>\n",
    "    <version>3.1.0</version>\n",
    "  </dependency>\n",
    "\n",
    "  <dependency>\n",
    "    <groupId>org.hibernate.orm</groupId>\n",
    "    <artifactId>hibernate-core</artifactId>\n",
    "    <version>6.3.1.Final</version>\n",
    "  </dependency>\n",
    "\n",
    "  <!-- L'implantation de référence -->\n",
    "  <!--\n",
    "  <dependency>\n",
    "    <groupId>org.eclipse.persistence</groupId>\n",
    "    <artifactId>eclipselink</artifactId>\n",
    "    <version>4.0.1</version>\n",
    "  </dependency>\n",
    "  -->\n",
    "```\n",
    "\n",
    "## JPA possède trois composantes principales\n",
    "\n",
    "-   La description des \"entités\" persistentes.\n",
    "-   L'interaction de base avec la persistence via les les opérations CRUD (Create, Read, Update, Delete).\n",
    "-   L'interrogation native ou via un langage dédié.\n",
    "\n",
    "Pour utiliser JPA, il faut une base de données relationnelle. Nous utiliserons ici [PostgreSQL](https://hub.docker.com/_/postgres) via l'image Docker officielle."
   ]
  },
  {
   "cell_type": "code",
   "execution_count": 3,
   "metadata": {},
   "outputs": [],
   "source": [
    "//| output: false\n",
    "//| echo: false\n",
    "\n",
    "// INIT DATABASE PROPERTIES\n",
    "System.setProperty(\"jakarta.persistence.jdbc.url\",\"jdbc:postgresql://db/notebook-db\");\n",
    "System.setProperty(\"jakarta.persistence.jdbc.user\",\"dba\");\n",
    "System.setProperty(\"jakarta.persistence.jdbc.password\",\"secretsecret\");"
   ]
  },
  {
   "cell_type": "markdown",
   "metadata": {},
   "source": [
    "Les exemples sont disponibles sur ce [repository](https://github.com/ebpro/sample-hellojpa) GitHub.\n",
    "\n",
    "## Les Entités dans Jakarta Persistence API (JPA)\n",
    "\n",
    "::: {.content-visible when-profile=\"slides\"}\n",
    "-   **Entité :** Une classe dont les instances doivent être persistantes.\n",
    "-   **Critères pour être une entité :**\n",
    "    -   Annotée avec [\\@Entity](https://jakarta.ee/specifications/persistence/3.1/apidocs/jakarta.persistence/jakarta/persistence/entity).\n",
    "    -   Au moins un attribut annoté avec [\\@Id](https://jakarta.ee/specifications/persistence/3.1/apidocs/jakarta.persistence/jakarta/persistence/id).\n",
    "    -   Doit avoir au moins un constructeur sans paramètre (au plus `protected`).\n",
    "-   **Association avec une relation :**\n",
    "    -   La classe est associée à une relation du même nom.\n",
    "    -   Cette relation possède une clé primaire, atomique ou composite.\n",
    ":::\n",
    "\n",
    "::: {.content-visible when-profile=\"notes\"}\n",
    "Avec JPA une classe dont les instances doivent être persistantes est appelée une entité. Techniquement, une classe est une entité si elle annotée avec [\\@Entity](https://jakarta.ee/specifications/persistence/3.1/apidocs/jakarta.persistence/jakarta/persistence/entity), qu'un ou plusieurs de ses attributs sont annotés avec [\\@Id](https://jakarta.ee/specifications/persistence/3.1/apidocs/jakarta.persistence/jakarta/persistence/id) et qu'elle a au moins un constructeur sans paramètre (au plus `protected`). La classe sera alors associée à une relation du même nom, ayant une clé primaire (atomique ou composite)\n",
    ":::\n",
    "\n",
    "::: {.content-visible when-profile=\"slides\"}\n",
    "## Premier exemple d'entité\n",
    ":::\n",
    "\n",
    "La classe suivante est donc entité JPA :\n",
    "\n",
    "::: columns\n",
    "::: {.column width=\"80%\"}"
   ]
  },
  {
   "cell_type": "code",
   "execution_count": 4,
   "metadata": {},
   "outputs": [],
   "source": [
    "import com.github.javaparser.printer.lexicalpreservation.LexicalPreservingPrinter;\n",
    "IJava.getKernelInstance().getMagics().registerCellMagic(\"javasrcClassByName\", (args, body) -> {\n",
    "    String filename=body;\n",
    "    String className=args.get(0);\n",
    "    CompilationUnit cu = StaticJavaParser.parse(Files.readString(Path.of(filename)));\n",
    "    CompilationUnit lpp = LexicalPreservingPrinter.setup(cu);\n",
    "\n",
    "    String out = LexicalPreservingPrinter.print(lpp.getClassByName(className).get());\n",
    "                \n",
    "    out = \"```Java\\n\"+out+\"\\n```\";\n",
    "    display(out,\"text/markdown\");\n",
    "    return out;\n",
    "});"
   ]
  },
  {
   "cell_type": "code",
   "execution_count": 5,
   "metadata": {
    "tags": []
   },
   "outputs": [
    {
     "data": {
      "text/markdown": [
       "```Java\n",
       "@RequiredArgsConstructor(staticName = \"of\")\n",
       "@NoArgsConstructor(access = AccessLevel.PROTECTED)\n",
       "@Setter\n",
       "@ToString\n",
       "@Getter\n",
       "\n",
       "@Entity                             // <1>\n",
       "public class Customer {\n",
       "    @Id                                 // <2>\n",
       "    @GeneratedValue         // <2>\n",
       "    private long id;\n",
       "\n",
       "    @NonNull                       // <3>\n",
       "    private String email;\n",
       "\n",
       "    private String name;\n",
       "}\n",
       "```"
      ],
      "text/plain": [
       "```Java\n",
       "@RequiredArgsConstructor(staticName = \"of\")\n",
       "@NoArgsConstructor(access = AccessLevel.PROTECTED)\n",
       "@Setter\n",
       "@ToString\n",
       "@Getter\n",
       "\n",
       "@Entity                             // <1>\n",
       "public class Customer {\n",
       "    @Id                                 // <2>\n",
       "    @GeneratedValue         // <2>\n",
       "    private long id;\n",
       "\n",
       "    @NonNull                       // <3>\n",
       "    private String email;\n",
       "\n",
       "    private String name;\n",
       "}\n",
       "```"
      ]
     },
     "metadata": {},
     "output_type": "display_data"
    }
   ],
   "source": [
    "//| output: true\n",
    "//| echo: false\n",
    "// PRINT CLASS\n",
    "String script=\"/home/jovyan/work/src/github/ebpro/sample-hellojpa/src/main/java/fr/univtln/bruno/demos/jpa/hello/samples/ex_simple/Customer.java\";\n",
    "\n",
    "IJava.getKernelInstance().getMagics().applyCellMagic(\"javasrcClassByName\",List.of(\"Customer\"),script);\n",
    "return null;"
   ]
  },
  {
   "cell_type": "markdown",
   "metadata": {},
   "source": [
    "1. A\n",
    "2. B\n",
    "3. C"
   ]
  },
  {
   "cell_type": "markdown",
   "metadata": {},
   "source": [
    ":::\n",
    "\n",
    "::: {.column width=\"20%\"}\n",
    "associée à la relation :"
   ]
  },
  {
   "cell_type": "code",
   "execution_count": 6,
   "metadata": {
    "tags": []
   },
   "outputs": [
    {
     "data": {
      "image/svg+xml": [
       "<?xml version=\"1.0\" encoding=\"us-ascii\" standalone=\"no\"?><svg xmlns=\"http://www.w3.org/2000/svg\" xmlns:xlink=\"http://www.w3.org/1999/xlink\" contentStyleType=\"text/css\" height=\"116px\" preserveAspectRatio=\"none\" style=\"width:204px;height:116px;background:#FFFFFF;\" version=\"1.1\" viewBox=\"0 0 204 116\" width=\"204px\" zoomAndPan=\"magnify\"><defs><filter height=\"300%\" id=\"f1csh5l27rr37c\" width=\"300%\" x=\"-1\" y=\"-1\"><feGaussianBlur result=\"blurOut\" stdDeviation=\"2.0\"/><feColorMatrix in=\"blurOut\" result=\"blurOut2\" type=\"matrix\" values=\"0 0 0 0 0 0 0 0 0 0 0 0 0 0 0 0 0 0 .4 0\"/><feOffset dx=\"4.0\" dy=\"4.0\" in=\"blurOut2\" result=\"blurOut3\"/><feBlend in=\"SourceGraphic\" in2=\"blurOut3\" mode=\"normal\"/></filter></defs><g><!--class customer--><g id=\"elem_customer\"><rect codeLine=\"17\" fill=\"#EEEEEE\" filter=\"url(#f1csh5l27rr37c)\" height=\"95.5781\" id=\"customer\" rx=\"2.5\" ry=\"2.5\" style=\"stroke:#2688D4;stroke-width:0.5;\" width=\"183.3333\" x=\"7\" y=\"7\"/><ellipse cx=\"62.4167\" cy=\"23\" fill=\"#FFFFFF\" rx=\"11\" ry=\"11\" style=\"stroke:#181818;stroke-width:1.0;\"/><path d=\"M63.7448,19.6875 L63.7448,29 L61.2917,29 L61.2917,19.6875 L57.9167,19.6875 L57.9167,17.7969 L67.1198,17.7969 L67.1198,19.6875 L63.7448,19.6875 Z \" fill=\"#000000\"/><text fill=\"#000000\" font-family=\"sans-serif\" font-size=\"14\" lengthAdjust=\"spacing\" textLength=\"64\" x=\"82.9167\" y=\"26.7256\">customer</text><line style=\"stroke:#2688D4;stroke-width:0.5;\" x1=\"8\" x2=\"189.3333\" y1=\"39\" y2=\"39\"/><ellipse cx=\"18\" cy=\"52.4297\" fill=\"#000000\" rx=\"3\" ry=\"3\" style=\"stroke:#000000;stroke-width:1.0;\"/><path d=\"M34.4167,46.026 C32.8067,46.026 31.5,47.3327 31.5,48.9427 C31.5,49.1294 31.5,49.316 31.535,49.491 L28,53.026 L28,55.3594 L31.5,55.3594 L31.5,53.026 L33.8333,53.026 L33.8333,51.8594 L33.8683,51.8244 C34.0433,51.8594 34.23,51.8594 34.4167,51.8594 C36.0267,51.8594 37.3333,50.5527 37.3333,48.9427 C37.3333,47.3327 36.0267,46.026 34.4167,46.026 M35,47.1927 C35.6417,47.1927 36.1667,47.7177 36.1667,48.3594 C36.1667,49.001 35.6417,49.526 35,49.526 C34.3583,49.526 33.8333,49.001 33.8333,48.3594 C33.8333,47.7177 34.3583,47.1927 35,47.1927 \" fill=\"#B8861B\" style=\"stroke:;stroke-width:0.0;stroke-dasharray:;\"/><text fill=\"#000000\" font-family=\"sans-serif\" font-size=\"14\" font-weight=\"bold\" lengthAdjust=\"spacing\" textLength=\"16\" x=\"46.3333\" y=\"54.6553\">id</text><text fill=\"#000000\" font-family=\"sans-serif\" font-size=\"14\" lengthAdjust=\"spacing\" textLength=\"80\" x=\"62.3333\" y=\"54.6553\">: int8(19)</text><line style=\"stroke:#2688D4;stroke-width:1.0;\" x1=\"8\" x2=\"189.3333\" y1=\"62.8594\" y2=\"62.8594\"/><path d=\"M17.5,69.8854 C15.5633,69.8854 14,71.4487 14,73.3854 C14,75.3221 15.5633,76.8854 17.5,76.8854 C19.4367,76.8854 21,75.3221 21,73.3854 C21,71.4487 19.4367,69.8854 17.5,69.8854 \" fill=\"#EFEFEF\" style=\"stroke:;stroke-width:0.0;stroke-dasharray:;\"/><text fill=\"#000000\" font-family=\"sans-serif\" font-size=\"14\" lengthAdjust=\"spacing\" textLength=\"152\" x=\"32.3333\" y=\"78.5146\">email: varchar(255)</text><path d=\"M17.5,85.7448 C15.5633,85.7448 14,87.3081 14,89.2448 C14,91.1815 15.5633,92.7448 17.5,92.7448 C19.4367,92.7448 21,91.1815 21,89.2448 C21,87.3081 19.4367,85.7448 17.5,85.7448 \" fill=\"#EFEFEF\" style=\"stroke:;stroke-width:0.0;stroke-dasharray:;\"/><text fill=\"#000000\" font-family=\"sans-serif\" font-size=\"14\" lengthAdjust=\"spacing\" textLength=\"144\" x=\"32.3333\" y=\"94.374\">name: varchar(255)</text></g><!--SRC=[RP3TQiCm34QlwwVGA8nah9IMjMGb1BQnDzZzK68b4KtieZXBo-YxpqcxzM_obR-ZWsL1HRa3Pq6uA1re5ieSMwEWMRFPe60DObkZCok611Rde2bHsuvD0KvQEYSb6jq9EqS6SgoQ2vXLs3JmhQ2lLypMnV32cwsimFXzg0Dy4R7TCPyleqW_7IKhckGAx9M2Eqqv6uADS8so-rpJBjY64AT9dFNTgt4QHSkPlzvxbCJJ8KrW6q_JvAJdLeWBywSVNHpgnZrvFcbhSwvGtX-lrAGP9twxVlH_NOTfHRrAnh7RmHRY68AFH-XATXH2aYXrwCdQnjcQ9FGx73rS_9Lrk08sBWfcpw6QJDJeToQgaIiFlr2o4YMOBnRXYHgiwHhkVm00]--></g></svg>"
      ],
      "text/plain": [
       "<?xml version=\"1.0\" encoding=\"us-ascii\" standalone=\"no\"?><svg xmlns=\"http://www.w3.org/2000/svg\" xmlns:xlink=\"http://www.w3.org/1999/xlink\" contentStyleType=\"text/css\" height=\"116px\" preserveAspectRatio=\"none\" style=\"width:204px;height:116px;background:#FFFFFF;\" version=\"1.1\" viewBox=\"0 0 204 116\" width=\"204px\" zoomAndPan=\"magnify\"><defs><filter height=\"300%\" id=\"f1csh5l27rr37c\" width=\"300%\" x=\"-1\" y=\"-1\"><feGaussianBlur result=\"blurOut\" stdDeviation=\"2.0\"/><feColorMatrix in=\"blurOut\" result=\"blurOut2\" type=\"matrix\" values=\"0 0 0 0 0 0 0 0 0 0 0 0 0 0 0 0 0 0 .4 0\"/><feOffset dx=\"4.0\" dy=\"4.0\" in=\"blurOut2\" result=\"blurOut3\"/><feBlend in=\"SourceGraphic\" in2=\"blurOut3\" mode=\"normal\"/></filter></defs><g><!--class customer--><g id=\"elem_customer\"><rect codeLine=\"17\" fill=\"#EEEEEE\" filter=\"url(#f1csh5l27rr37c)\" height=\"95.5781\" id=\"customer\" rx=\"2.5\" ry=\"2.5\" style=\"stroke:#2688D4;stroke-width:0.5;\" width=\"183.3333\" x=\"7\" y=\"7\"/><ellipse cx=\"62.4167\" cy=\"23\" fill=\"#FFFFFF\" rx=\"11\" ry=\"11\" style=\"stroke:#181818;stroke-width:1.0;\"/><path d=\"M63.7448,19.6875 L63.7448,29 L61.2917,29 L61.2917,19.6875 L57.9167,19.6875 L57.9167,17.7969 L67.1198,17.7969 L67.1198,19.6875 L63.7448,19.6875 Z \" fill=\"#000000\"/><text fill=\"#000000\" font-family=\"sans-serif\" font-size=\"14\" lengthAdjust=\"spacing\" textLength=\"64\" x=\"82.9167\" y=\"26.7256\">customer</text><line style=\"stroke:#2688D4;stroke-width:0.5;\" x1=\"8\" x2=\"189.3333\" y1=\"39\" y2=\"39\"/><ellipse cx=\"18\" cy=\"52.4297\" fill=\"#000000\" rx=\"3\" ry=\"3\" style=\"stroke:#000000;stroke-width:1.0;\"/><path d=\"M34.4167,46.026 C32.8067,46.026 31.5,47.3327 31.5,48.9427 C31.5,49.1294 31.5,49.316 31.535,49.491 L28,53.026 L28,55.3594 L31.5,55.3594 L31.5,53.026 L33.8333,53.026 L33.8333,51.8594 L33.8683,51.8244 C34.0433,51.8594 34.23,51.8594 34.4167,51.8594 C36.0267,51.8594 37.3333,50.5527 37.3333,48.9427 C37.3333,47.3327 36.0267,46.026 34.4167,46.026 M35,47.1927 C35.6417,47.1927 36.1667,47.7177 36.1667,48.3594 C36.1667,49.001 35.6417,49.526 35,49.526 C34.3583,49.526 33.8333,49.001 33.8333,48.3594 C33.8333,47.7177 34.3583,47.1927 35,47.1927 \" fill=\"#B8861B\" style=\"stroke:;stroke-width:0.0;stroke-dasharray:;\"/><text fill=\"#000000\" font-family=\"sans-serif\" font-size=\"14\" font-weight=\"bold\" lengthAdjust=\"spacing\" textLength=\"16\" x=\"46.3333\" y=\"54.6553\">id</text><text fill=\"#000000\" font-family=\"sans-serif\" font-size=\"14\" lengthAdjust=\"spacing\" textLength=\"80\" x=\"62.3333\" y=\"54.6553\">: int8(19)</text><line style=\"stroke:#2688D4;stroke-width:1.0;\" x1=\"8\" x2=\"189.3333\" y1=\"62.8594\" y2=\"62.8594\"/><path d=\"M17.5,69.8854 C15.5633,69.8854 14,71.4487 14,73.3854 C14,75.3221 15.5633,76.8854 17.5,76.8854 C19.4367,76.8854 21,75.3221 21,73.3854 C21,71.4487 19.4367,69.8854 17.5,69.8854 \" fill=\"#EFEFEF\" style=\"stroke:;stroke-width:0.0;stroke-dasharray:;\"/><text fill=\"#000000\" font-family=\"sans-serif\" font-size=\"14\" lengthAdjust=\"spacing\" textLength=\"152\" x=\"32.3333\" y=\"78.5146\">email: varchar(255)</text><path d=\"M17.5,85.7448 C15.5633,85.7448 14,87.3081 14,89.2448 C14,91.1815 15.5633,92.7448 17.5,92.7448 C19.4367,92.7448 21,91.1815 21,89.2448 C21,87.3081 19.4367,85.7448 17.5,85.7448 \" fill=\"#EFEFEF\" style=\"stroke:;stroke-width:0.0;stroke-dasharray:;\"/><text fill=\"#000000\" font-family=\"sans-serif\" font-size=\"14\" lengthAdjust=\"spacing\" textLength=\"144\" x=\"32.3333\" y=\"94.374\">name: varchar(255)</text></g><!--SRC=[RP3TQiCm34QlwwVGA8nah9IMjMGb1BQnDzZzK68b4KtieZXBo-YxpqcxzM_obR-ZWsL1HRa3Pq6uA1re5ieSMwEWMRFPe60DObkZCok611Rde2bHsuvD0KvQEYSb6jq9EqS6SgoQ2vXLs3JmhQ2lLypMnV32cwsimFXzg0Dy4R7TCPyleqW_7IKhckGAx9M2Eqqv6uADS8so-rpJBjY64AT9dFNTgt4QHSkPlzvxbCJJ8KrW6q_JvAJdLeWBywSVNHpgnZrvFcbhSwvGtX-lrAGP9twxVlH_NOTfHRrAnh7RmHRY68AFH-XATXH2aYXrwCdQnjcQ9FGx73rS_9Lrk08sBWfcpw6QJDJeToQgaIiFlr2o4YMOBnRXYHgiwHhkVm00]--></g></svg>"
      ]
     },
     "metadata": {},
     "output_type": "display_data"
    }
   ],
   "source": [
    "//| output: true\n",
    "//| echo: false\n",
    "// PRINT SCHEMA\n",
    "String script=\"customer\";\n",
    "\n",
    "IJava.getKernelInstance().getMagics().applyCellMagic(\"rdbmsSchema\",\n",
    "  List.of(System.getProperty(\"jakarta.persistence.jdbc.url\"),\n",
    "  System.getProperty(\"jakarta.persistence.jdbc.user\"),\n",
    "  System.getProperty(\"jakarta.persistence.jdbc.password\"),\"ex_simple\"),script);  \n",
    "return null;"
   ]
  },
  {
   "cell_type": "markdown",
   "metadata": {},
   "source": [
    ":::\n",
    ":::"
   ]
  },
  {
   "cell_type": "code",
   "execution_count": 7,
   "metadata": {},
   "outputs": [
    {
     "name": "stdout",
     "output_type": "stream",
     "text": [
      "16: Pulling from library/postgres\n"
     ]
    },
    {
     "name": "stdout",
     "output_type": "stream",
     "text": [
      "Digest: sha256:f58300ac8d393b2e3b09d36ea12d7d24ee9440440e421472a300e929ddb63460\n"
     ]
    },
    {
     "name": "stdout",
     "output_type": "stream",
     "text": [
      "Status: Image is up to date for postgres:16\n"
     ]
    },
    {
     "name": "stdout",
     "output_type": "stream",
     "text": [
      "docker.io/library/postgres:16\n"
     ]
    }
   ],
   "source": [
    "//| output: false\n",
    "//| echo: false\n",
    "// PRINT TABLES\n",
    "String script=\"\"\"\n",
    "docker pull postgres:16\n",
    "\"\"\";\n",
    "IJava.getKernelInstance().getMagics().applyCellMagic(\"shell\",List.of(),script);\n",
    "return null;"
   ]
  },
  {
   "cell_type": "code",
   "execution_count": 8,
   "metadata": {},
   "outputs": [
    {
     "name": "stdout",
     "output_type": "stream",
     "text": [
      "                    Table \"ex_simple.customer\"\n"
     ]
    },
    {
     "name": "stdout",
     "output_type": "stream",
     "text": [
      " Column |          Type          | Collation | Nullable | Default \n"
     ]
    },
    {
     "name": "stdout",
     "output_type": "stream",
     "text": [
      "--------+------------------------+-----------+----------+---------\n"
     ]
    },
    {
     "name": "stdout",
     "output_type": "stream",
     "text": [
      " id     | bigint                 |           | not null | \n"
     ]
    },
    {
     "name": "stdout",
     "output_type": "stream",
     "text": [
      " email  | character varying(255) |           |          | \n"
     ]
    },
    {
     "name": "stdout",
     "output_type": "stream",
     "text": [
      " name   | character varying(255) |           |          | \n"
     ]
    },
    {
     "name": "stdout",
     "output_type": "stream",
     "text": [
      "Indexes:\n"
     ]
    },
    {
     "name": "stdout",
     "output_type": "stream",
     "text": [
      "    \"customer_pkey\" PRIMARY KEY, btree (id)\n"
     ]
    },
    {
     "name": "stdout",
     "output_type": "stream",
     "text": [
      "\n"
     ]
    }
   ],
   "source": [
    "//| output: true\n",
    "//| echo: false\n",
    "// PRINT TABLES\n",
    "String script=\"\"\"\n",
    "docker run --rm --quiet --network host\\\n",
    "    postgres:16 \\\n",
    "        psql postgresql://dba:secretsecret@db/notebook-db -c '\\\\d EX_SIMPLE.CUSTOMER'\n",
    "\"\"\";\n",
    "\n",
    "IJava.getKernelInstance().getMagics().applyCellMagic(\"shell\",List.of(),script);\n",
    "return null;"
   ]
  },
  {
   "cell_type": "markdown",
   "metadata": {},
   "source": [
    "::: {.content-visible when-profile=\"slides\"}\n",
    "## Exemple étendu d'entité\n",
    ":::\n",
    "\n",
    "Le mapping peut être contrôllé finement par un ensemble d'annotations. La classe suivante illustre celles de base.\n",
    "\n",
    "::: columns\n",
    "::: {.column width=\"80%\"}"
   ]
  },
  {
   "cell_type": "code",
   "execution_count": 9,
   "metadata": {
    "tags": []
   },
   "outputs": [
    {
     "data": {
      "text/markdown": [
       "```Java\n",
       "@Getter\n",
       "@Setter\n",
       "@ToString\n",
       "@Builder\n",
       "@AllArgsConstructor\n",
       "@RequiredArgsConstructor(staticName = \"of\")\n",
       "@NoArgsConstructor(access = AccessLevel.PROTECTED)\n",
       "\n",
       "@Entity\n",
       "@Table(name = \"CUSTOMER\",\n",
       "       indexes = {@Index(name = \"idx_email\", columnList = \"email\", unique = true)})\n",
       "public class Customer {\n",
       "    @Column(updatable = false)\n",
       "    private final LocalDateTime creationDate = LocalDateTime.now();\n",
       "    @Id\n",
       "    @Column(name = \"ID\")\n",
       "    @GeneratedValue\n",
       "    private long id;\n",
       "\n",
       "    @Column(length = 50, nullable = false, unique = true)\n",
       "    @NonNull\n",
       "    private String email;\n",
       "\n",
       "    @Column(length = 50, nullable = false)\n",
       "    private String firstname;\n",
       "\n",
       "    @Column(length = 50, nullable = false)\n",
       "    private String lastname;\n",
       "\n",
       "    @Transient\n",
       "    private String displayName;\n",
       "\n",
       "    @Setter\n",
       "    private LocalDate birthDate;\n",
       "\n",
       "    @Lob\n",
       "    @Basic(fetch = FetchType.LAZY)\n",
       "    @ToString.Exclude\n",
       "    private byte[] photo;\n",
       "    //@Enumerated(EnumType.STRING)\n",
       "    private Status status = Status.LEAD;\n",
       "\n",
       "    @Version\n",
       "    protected Integer version;\n",
       "\n",
       "    enum Status {ACTIVE, LEAD}\n",
       "}\n",
       "```"
      ],
      "text/plain": [
       "```Java\n",
       "@Getter\n",
       "@Setter\n",
       "@ToString\n",
       "@Builder\n",
       "@AllArgsConstructor\n",
       "@RequiredArgsConstructor(staticName = \"of\")\n",
       "@NoArgsConstructor(access = AccessLevel.PROTECTED)\n",
       "\n",
       "@Entity\n",
       "@Table(name = \"CUSTOMER\",\n",
       "       indexes = {@Index(name = \"idx_email\", columnList = \"email\", unique = true)})\n",
       "public class Customer {\n",
       "    @Column(updatable = false)\n",
       "    private final LocalDateTime creationDate = LocalDateTime.now();\n",
       "    @Id\n",
       "    @Column(name = \"ID\")\n",
       "    @GeneratedValue\n",
       "    private long id;\n",
       "\n",
       "    @Column(length = 50, nullable = false, unique = true)\n",
       "    @NonNull\n",
       "    private String email;\n",
       "\n",
       "    @Column(length = 50, nullable = false)\n",
       "    private String firstname;\n",
       "\n",
       "    @Column(length = 50, nullable = false)\n",
       "    private String lastname;\n",
       "\n",
       "    @Transient\n",
       "    private String displayName;\n",
       "\n",
       "    @Setter\n",
       "    private LocalDate birthDate;\n",
       "\n",
       "    @Lob\n",
       "    @Basic(fetch = FetchType.LAZY)\n",
       "    @ToString.Exclude\n",
       "    private byte[] photo;\n",
       "    //@Enumerated(EnumType.STRING)\n",
       "    private Status status = Status.LEAD;\n",
       "\n",
       "    @Version\n",
       "    protected Integer version;\n",
       "\n",
       "    enum Status {ACTIVE, LEAD}\n",
       "}\n",
       "```"
      ]
     },
     "metadata": {},
     "output_type": "display_data"
    }
   ],
   "source": [
    "//| output: true\n",
    "//| echo: false\n",
    "// PRINT CLASS\n",
    "String script=\"/home/jovyan/work/src/github/ebpro/sample-hellojpa/src/main/java/fr/univtln/bruno/demos/jpa/hello/samples/ex_entity/Customer.java\";\n",
    "\n",
    "IJava.getKernelInstance().getMagics().applyCellMagic(\"javasrcClassByName\",List.of(\"Customer\"),script);\n",
    "return null;"
   ]
  },
  {
   "cell_type": "markdown",
   "metadata": {},
   "source": [
    ":::\n",
    "\n",
    "::: {.column width=\"20%\"}"
   ]
  },
  {
   "cell_type": "code",
   "execution_count": 10,
   "metadata": {
    "tags": []
   },
   "outputs": [
    {
     "data": {
      "image/svg+xml": [
       "<?xml version=\"1.0\" encoding=\"us-ascii\" standalone=\"no\"?><svg xmlns=\"http://www.w3.org/2000/svg\" xmlns:xlink=\"http://www.w3.org/1999/xlink\" contentStyleType=\"text/css\" height=\"211px\" preserveAspectRatio=\"none\" style=\"width:282px;height:211px;background:#FFFFFF;\" version=\"1.1\" viewBox=\"0 0 282 211\" width=\"282px\" zoomAndPan=\"magnify\"><defs><filter height=\"300%\" id=\"f16em18jizrhmz\" width=\"300%\" x=\"-1\" y=\"-1\"><feGaussianBlur result=\"blurOut\" stdDeviation=\"2.0\"/><feColorMatrix in=\"blurOut\" result=\"blurOut2\" type=\"matrix\" values=\"0 0 0 0 0 0 0 0 0 0 0 0 0 0 0 0 0 0 .4 0\"/><feOffset dx=\"4.0\" dy=\"4.0\" in=\"blurOut2\" result=\"blurOut3\"/><feBlend in=\"SourceGraphic\" in2=\"blurOut3\" mode=\"normal\"/></filter></defs><g><!--class customer--><g id=\"elem_customer\"><rect codeLine=\"17\" fill=\"#EEEEEE\" filter=\"url(#f16em18jizrhmz)\" height=\"190.7344\" id=\"customer\" rx=\"2.5\" ry=\"2.5\" style=\"stroke:#2688D4;stroke-width:0.5;\" width=\"261.3333\" x=\"7\" y=\"7\"/><ellipse cx=\"101.4167\" cy=\"23\" fill=\"#FFFFFF\" rx=\"11\" ry=\"11\" style=\"stroke:#181818;stroke-width:1.0;\"/><path d=\"M102.7448,19.6875 L102.7448,29 L100.2917,29 L100.2917,19.6875 L96.9167,19.6875 L96.9167,17.7969 L106.1198,17.7969 L106.1198,19.6875 L102.7448,19.6875 Z \" fill=\"#000000\"/><text fill=\"#000000\" font-family=\"sans-serif\" font-size=\"14\" lengthAdjust=\"spacing\" textLength=\"64\" x=\"121.9167\" y=\"26.7256\">customer</text><line style=\"stroke:#2688D4;stroke-width:0.5;\" x1=\"8\" x2=\"267.3333\" y1=\"39\" y2=\"39\"/><ellipse cx=\"18\" cy=\"52.4297\" fill=\"#000000\" rx=\"3\" ry=\"3\" style=\"stroke:#000000;stroke-width:1.0;\"/><path d=\"M34.4167,46.026 C32.8067,46.026 31.5,47.3327 31.5,48.9427 C31.5,49.1294 31.5,49.316 31.535,49.491 L28,53.026 L28,55.3594 L31.5,55.3594 L31.5,53.026 L33.8333,53.026 L33.8333,51.8594 L33.8683,51.8244 C34.0433,51.8594 34.23,51.8594 34.4167,51.8594 C36.0267,51.8594 37.3333,50.5527 37.3333,48.9427 C37.3333,47.3327 36.0267,46.026 34.4167,46.026 M35,47.1927 C35.6417,47.1927 36.1667,47.7177 36.1667,48.3594 C36.1667,49.001 35.6417,49.526 35,49.526 C34.3583,49.526 33.8333,49.001 33.8333,48.3594 C33.8333,47.7177 34.3583,47.1927 35,47.1927 \" fill=\"#B8861B\" style=\"stroke:;stroke-width:0.0;stroke-dasharray:;\"/><text fill=\"#000000\" font-family=\"sans-serif\" font-size=\"14\" font-weight=\"bold\" lengthAdjust=\"spacing\" textLength=\"16\" x=\"46.3333\" y=\"54.6553\">id</text><text fill=\"#000000\" font-family=\"sans-serif\" font-size=\"14\" lengthAdjust=\"spacing\" textLength=\"80\" x=\"62.3333\" y=\"54.6553\">: int8(19)</text><line style=\"stroke:#2688D4;stroke-width:1.0;\" x1=\"8\" x2=\"267.3333\" y1=\"62.8594\" y2=\"62.8594\"/><path d=\"M31.5,69.8854 C29.5633,69.8854 28,71.4487 28,73.3854 C28,75.3221 29.5633,76.8854 31.5,76.8854 C33.4367,76.8854 35,75.3221 35,73.3854 C35,71.4487 33.4367,69.8854 31.5,69.8854 \" fill=\"#EFEFEF\" style=\"stroke:;stroke-width:0.0;stroke-dasharray:;\"/><text fill=\"#000000\" font-family=\"sans-serif\" font-size=\"14\" lengthAdjust=\"spacing\" textLength=\"152\" x=\"46.3333\" y=\"78.5146\">birthdate: date(13)</text><path d=\"M31.5,85.7448 C29.5633,85.7448 28,87.3081 28,89.2448 C28,91.1815 29.5633,92.7448 31.5,92.7448 C33.4367,92.7448 35,91.1815 35,89.2448 C35,87.3081 33.4367,85.7448 31.5,85.7448 \" fill=\"#EFEFEF\" style=\"stroke:;stroke-width:0.0;stroke-dasharray:;\"/><text fill=\"#000000\" font-family=\"sans-serif\" font-size=\"14\" lengthAdjust=\"spacing\" textLength=\"216\" x=\"46.3333\" y=\"94.374\">creationdate: timestamp(29)</text><ellipse cx=\"18\" cy=\"108.0078\" fill=\"#000000\" rx=\"3\" ry=\"3\" style=\"stroke:#000000;stroke-width:1.0;\"/><path d=\"M31.5,101.6042 C29.5633,101.6042 28,103.1675 28,105.1042 C28,107.0408 29.5633,108.6042 31.5,108.6042 C33.4367,108.6042 35,107.0408 35,105.1042 C35,103.1675 33.4367,101.6042 31.5,101.6042 \" fill=\"#EFEFEF\" style=\"stroke:;stroke-width:0.0;stroke-dasharray:;\"/><text fill=\"#000000\" font-family=\"sans-serif\" font-size=\"14\" lengthAdjust=\"spacing\" textLength=\"144\" x=\"46.3333\" y=\"110.2334\">email: varchar(50)</text><ellipse cx=\"18\" cy=\"123.8672\" fill=\"#000000\" rx=\"3\" ry=\"3\" style=\"stroke:#000000;stroke-width:1.0;\"/><path d=\"M31.5,117.4635 C29.5633,117.4635 28,119.0269 28,120.9635 C28,122.9002 29.5633,124.4635 31.5,124.4635 C33.4367,124.4635 35,122.9002 35,120.9635 C35,119.0269 33.4367,117.4635 31.5,117.4635 \" fill=\"#EFEFEF\" style=\"stroke:;stroke-width:0.0;stroke-dasharray:;\"/><text fill=\"#000000\" font-family=\"sans-serif\" font-size=\"14\" lengthAdjust=\"spacing\" textLength=\"176\" x=\"46.3333\" y=\"126.0928\">firstname: varchar(50)</text><ellipse cx=\"18\" cy=\"139.7266\" fill=\"#000000\" rx=\"3\" ry=\"3\" style=\"stroke:#000000;stroke-width:1.0;\"/><path d=\"M31.5,133.3229 C29.5633,133.3229 28,134.8863 28,136.8229 C28,138.7596 29.5633,140.3229 31.5,140.3229 C33.4367,140.3229 35,138.7596 35,136.8229 C35,134.8863 33.4367,133.3229 31.5,133.3229 \" fill=\"#EFEFEF\" style=\"stroke:;stroke-width:0.0;stroke-dasharray:;\"/><text fill=\"#000000\" font-family=\"sans-serif\" font-size=\"14\" lengthAdjust=\"spacing\" textLength=\"168\" x=\"46.3333\" y=\"141.9521\">lastname: varchar(50)</text><path d=\"M31.5,149.1823 C29.5633,149.1823 28,150.7456 28,152.6823 C28,154.619 29.5633,156.1823 31.5,156.1823 C33.4367,156.1823 35,154.619 35,152.6823 C35,150.7456 33.4367,149.1823 31.5,149.1823 \" fill=\"#EFEFEF\" style=\"stroke:;stroke-width:0.0;stroke-dasharray:;\"/><text fill=\"#000000\" font-family=\"sans-serif\" font-size=\"14\" lengthAdjust=\"spacing\" textLength=\"112\" x=\"46.3333\" y=\"157.8115\">photo: oid(10)</text><path d=\"M31.5,165.0417 C29.5633,165.0417 28,166.605 28,168.5417 C28,170.4783 29.5633,172.0417 31.5,172.0417 C33.4367,172.0417 35,170.4783 35,168.5417 C35,166.605 33.4367,165.0417 31.5,165.0417 \" fill=\"#EFEFEF\" style=\"stroke:;stroke-width:0.0;stroke-dasharray:;\"/><text fill=\"#000000\" font-family=\"sans-serif\" font-size=\"14\" lengthAdjust=\"spacing\" textLength=\"120\" x=\"46.3333\" y=\"173.6709\">status: int2(5)</text><path d=\"M31.5,180.901 C29.5633,180.901 28,182.4644 28,184.401 C28,186.3377 29.5633,187.901 31.5,187.901 C33.4367,187.901 35,186.3377 35,184.401 C35,182.4644 33.4367,180.901 31.5,180.901 \" fill=\"#EFEFEF\" style=\"stroke:;stroke-width:0.0;stroke-dasharray:;\"/><text fill=\"#000000\" font-family=\"sans-serif\" font-size=\"14\" lengthAdjust=\"spacing\" textLength=\"136\" x=\"46.3333\" y=\"189.5303\">version: int4(10)</text></g><!--SRC=[TP5XQzim48O_rx_YHg7OOw5DrXGl6CDMzW_sVPojStp4aiBft2IC_lVAZhkuNIT_CBhdVQIJ11qr2kf1UDig61QgbRrB8EpOxL7GWlZUcTgB8u7r78GMZJ-msu9AJtFIeZC7OLLoq60Nti2wmn3WJmB3-87rRZlkyEWxBt3zSnnd-5t47wRwwY7FpVqaUJ4axy1pai0dGmqxWhsmHJdztj4fFMPGL6LH3-dDTPNd3yiulOceB6x7QWd7uhOgBthZXNZh_kgJY-FunxruiT9RDrUe6RweM3ACYtYxiVKFNSMgeq4bfwmdE49HGFhh2nnQLigWB9FadAdxeDwIPF4Ehpw_EIkRR0FiD4-Ntx9aiKYkNdkgMBGr65VQmF1Bbr-p2ws5S7ZsAQ1iAIZQVRgAoyGzfXXPv2xo9vIwHKdNTtFQi0HrQEc_YVZm7mPU-RxrwYFqRDBb7CHcj0_diwtIzOmyaOJO-1dTZzRp2m00]--></g></svg>"
      ],
      "text/plain": [
       "<?xml version=\"1.0\" encoding=\"us-ascii\" standalone=\"no\"?><svg xmlns=\"http://www.w3.org/2000/svg\" xmlns:xlink=\"http://www.w3.org/1999/xlink\" contentStyleType=\"text/css\" height=\"211px\" preserveAspectRatio=\"none\" style=\"width:282px;height:211px;background:#FFFFFF;\" version=\"1.1\" viewBox=\"0 0 282 211\" width=\"282px\" zoomAndPan=\"magnify\"><defs><filter height=\"300%\" id=\"f16em18jizrhmz\" width=\"300%\" x=\"-1\" y=\"-1\"><feGaussianBlur result=\"blurOut\" stdDeviation=\"2.0\"/><feColorMatrix in=\"blurOut\" result=\"blurOut2\" type=\"matrix\" values=\"0 0 0 0 0 0 0 0 0 0 0 0 0 0 0 0 0 0 .4 0\"/><feOffset dx=\"4.0\" dy=\"4.0\" in=\"blurOut2\" result=\"blurOut3\"/><feBlend in=\"SourceGraphic\" in2=\"blurOut3\" mode=\"normal\"/></filter></defs><g><!--class customer--><g id=\"elem_customer\"><rect codeLine=\"17\" fill=\"#EEEEEE\" filter=\"url(#f16em18jizrhmz)\" height=\"190.7344\" id=\"customer\" rx=\"2.5\" ry=\"2.5\" style=\"stroke:#2688D4;stroke-width:0.5;\" width=\"261.3333\" x=\"7\" y=\"7\"/><ellipse cx=\"101.4167\" cy=\"23\" fill=\"#FFFFFF\" rx=\"11\" ry=\"11\" style=\"stroke:#181818;stroke-width:1.0;\"/><path d=\"M102.7448,19.6875 L102.7448,29 L100.2917,29 L100.2917,19.6875 L96.9167,19.6875 L96.9167,17.7969 L106.1198,17.7969 L106.1198,19.6875 L102.7448,19.6875 Z \" fill=\"#000000\"/><text fill=\"#000000\" font-family=\"sans-serif\" font-size=\"14\" lengthAdjust=\"spacing\" textLength=\"64\" x=\"121.9167\" y=\"26.7256\">customer</text><line style=\"stroke:#2688D4;stroke-width:0.5;\" x1=\"8\" x2=\"267.3333\" y1=\"39\" y2=\"39\"/><ellipse cx=\"18\" cy=\"52.4297\" fill=\"#000000\" rx=\"3\" ry=\"3\" style=\"stroke:#000000;stroke-width:1.0;\"/><path d=\"M34.4167,46.026 C32.8067,46.026 31.5,47.3327 31.5,48.9427 C31.5,49.1294 31.5,49.316 31.535,49.491 L28,53.026 L28,55.3594 L31.5,55.3594 L31.5,53.026 L33.8333,53.026 L33.8333,51.8594 L33.8683,51.8244 C34.0433,51.8594 34.23,51.8594 34.4167,51.8594 C36.0267,51.8594 37.3333,50.5527 37.3333,48.9427 C37.3333,47.3327 36.0267,46.026 34.4167,46.026 M35,47.1927 C35.6417,47.1927 36.1667,47.7177 36.1667,48.3594 C36.1667,49.001 35.6417,49.526 35,49.526 C34.3583,49.526 33.8333,49.001 33.8333,48.3594 C33.8333,47.7177 34.3583,47.1927 35,47.1927 \" fill=\"#B8861B\" style=\"stroke:;stroke-width:0.0;stroke-dasharray:;\"/><text fill=\"#000000\" font-family=\"sans-serif\" font-size=\"14\" font-weight=\"bold\" lengthAdjust=\"spacing\" textLength=\"16\" x=\"46.3333\" y=\"54.6553\">id</text><text fill=\"#000000\" font-family=\"sans-serif\" font-size=\"14\" lengthAdjust=\"spacing\" textLength=\"80\" x=\"62.3333\" y=\"54.6553\">: int8(19)</text><line style=\"stroke:#2688D4;stroke-width:1.0;\" x1=\"8\" x2=\"267.3333\" y1=\"62.8594\" y2=\"62.8594\"/><path d=\"M31.5,69.8854 C29.5633,69.8854 28,71.4487 28,73.3854 C28,75.3221 29.5633,76.8854 31.5,76.8854 C33.4367,76.8854 35,75.3221 35,73.3854 C35,71.4487 33.4367,69.8854 31.5,69.8854 \" fill=\"#EFEFEF\" style=\"stroke:;stroke-width:0.0;stroke-dasharray:;\"/><text fill=\"#000000\" font-family=\"sans-serif\" font-size=\"14\" lengthAdjust=\"spacing\" textLength=\"152\" x=\"46.3333\" y=\"78.5146\">birthdate: date(13)</text><path d=\"M31.5,85.7448 C29.5633,85.7448 28,87.3081 28,89.2448 C28,91.1815 29.5633,92.7448 31.5,92.7448 C33.4367,92.7448 35,91.1815 35,89.2448 C35,87.3081 33.4367,85.7448 31.5,85.7448 \" fill=\"#EFEFEF\" style=\"stroke:;stroke-width:0.0;stroke-dasharray:;\"/><text fill=\"#000000\" font-family=\"sans-serif\" font-size=\"14\" lengthAdjust=\"spacing\" textLength=\"216\" x=\"46.3333\" y=\"94.374\">creationdate: timestamp(29)</text><ellipse cx=\"18\" cy=\"108.0078\" fill=\"#000000\" rx=\"3\" ry=\"3\" style=\"stroke:#000000;stroke-width:1.0;\"/><path d=\"M31.5,101.6042 C29.5633,101.6042 28,103.1675 28,105.1042 C28,107.0408 29.5633,108.6042 31.5,108.6042 C33.4367,108.6042 35,107.0408 35,105.1042 C35,103.1675 33.4367,101.6042 31.5,101.6042 \" fill=\"#EFEFEF\" style=\"stroke:;stroke-width:0.0;stroke-dasharray:;\"/><text fill=\"#000000\" font-family=\"sans-serif\" font-size=\"14\" lengthAdjust=\"spacing\" textLength=\"144\" x=\"46.3333\" y=\"110.2334\">email: varchar(50)</text><ellipse cx=\"18\" cy=\"123.8672\" fill=\"#000000\" rx=\"3\" ry=\"3\" style=\"stroke:#000000;stroke-width:1.0;\"/><path d=\"M31.5,117.4635 C29.5633,117.4635 28,119.0269 28,120.9635 C28,122.9002 29.5633,124.4635 31.5,124.4635 C33.4367,124.4635 35,122.9002 35,120.9635 C35,119.0269 33.4367,117.4635 31.5,117.4635 \" fill=\"#EFEFEF\" style=\"stroke:;stroke-width:0.0;stroke-dasharray:;\"/><text fill=\"#000000\" font-family=\"sans-serif\" font-size=\"14\" lengthAdjust=\"spacing\" textLength=\"176\" x=\"46.3333\" y=\"126.0928\">firstname: varchar(50)</text><ellipse cx=\"18\" cy=\"139.7266\" fill=\"#000000\" rx=\"3\" ry=\"3\" style=\"stroke:#000000;stroke-width:1.0;\"/><path d=\"M31.5,133.3229 C29.5633,133.3229 28,134.8863 28,136.8229 C28,138.7596 29.5633,140.3229 31.5,140.3229 C33.4367,140.3229 35,138.7596 35,136.8229 C35,134.8863 33.4367,133.3229 31.5,133.3229 \" fill=\"#EFEFEF\" style=\"stroke:;stroke-width:0.0;stroke-dasharray:;\"/><text fill=\"#000000\" font-family=\"sans-serif\" font-size=\"14\" lengthAdjust=\"spacing\" textLength=\"168\" x=\"46.3333\" y=\"141.9521\">lastname: varchar(50)</text><path d=\"M31.5,149.1823 C29.5633,149.1823 28,150.7456 28,152.6823 C28,154.619 29.5633,156.1823 31.5,156.1823 C33.4367,156.1823 35,154.619 35,152.6823 C35,150.7456 33.4367,149.1823 31.5,149.1823 \" fill=\"#EFEFEF\" style=\"stroke:;stroke-width:0.0;stroke-dasharray:;\"/><text fill=\"#000000\" font-family=\"sans-serif\" font-size=\"14\" lengthAdjust=\"spacing\" textLength=\"112\" x=\"46.3333\" y=\"157.8115\">photo: oid(10)</text><path d=\"M31.5,165.0417 C29.5633,165.0417 28,166.605 28,168.5417 C28,170.4783 29.5633,172.0417 31.5,172.0417 C33.4367,172.0417 35,170.4783 35,168.5417 C35,166.605 33.4367,165.0417 31.5,165.0417 \" fill=\"#EFEFEF\" style=\"stroke:;stroke-width:0.0;stroke-dasharray:;\"/><text fill=\"#000000\" font-family=\"sans-serif\" font-size=\"14\" lengthAdjust=\"spacing\" textLength=\"120\" x=\"46.3333\" y=\"173.6709\">status: int2(5)</text><path d=\"M31.5,180.901 C29.5633,180.901 28,182.4644 28,184.401 C28,186.3377 29.5633,187.901 31.5,187.901 C33.4367,187.901 35,186.3377 35,184.401 C35,182.4644 33.4367,180.901 31.5,180.901 \" fill=\"#EFEFEF\" style=\"stroke:;stroke-width:0.0;stroke-dasharray:;\"/><text fill=\"#000000\" font-family=\"sans-serif\" font-size=\"14\" lengthAdjust=\"spacing\" textLength=\"136\" x=\"46.3333\" y=\"189.5303\">version: int4(10)</text></g><!--SRC=[TP5XQzim48O_rx_YHg7OOw5DrXGl6CDMzW_sVPojStp4aiBft2IC_lVAZhkuNIT_CBhdVQIJ11qr2kf1UDig61QgbRrB8EpOxL7GWlZUcTgB8u7r78GMZJ-msu9AJtFIeZC7OLLoq60Nti2wmn3WJmB3-87rRZlkyEWxBt3zSnnd-5t47wRwwY7FpVqaUJ4axy1pai0dGmqxWhsmHJdztj4fFMPGL6LH3-dDTPNd3yiulOceB6x7QWd7uhOgBthZXNZh_kgJY-FunxruiT9RDrUe6RweM3ACYtYxiVKFNSMgeq4bfwmdE49HGFhh2nnQLigWB9FadAdxeDwIPF4Ehpw_EIkRR0FiD4-Ntx9aiKYkNdkgMBGr65VQmF1Bbr-p2ws5S7ZsAQ1iAIZQVRgAoyGzfXXPv2xo9vIwHKdNTtFQi0HrQEc_YVZm7mPU-RxrwYFqRDBb7CHcj0_diwtIzOmyaOJO-1dTZzRp2m00]--></g></svg>"
      ]
     },
     "metadata": {},
     "output_type": "display_data"
    }
   ],
   "source": [
    "//| output: true\n",
    "//| echo: false\n",
    "// PRINT SCHEMA\n",
    "String script=\"customer\";\n",
    "\n",
    "IJava.getKernelInstance().getMagics().applyCellMagic(\"rdbmsSchema\",\n",
    "  List.of(System.getProperty(\"jakarta.persistence.jdbc.url\"),\n",
    "  System.getProperty(\"jakarta.persistence.jdbc.user\"),\n",
    "  System.getProperty(\"jakarta.persistence.jdbc.password\"),\"public\"),script);\n",
    "return null;"
   ]
  },
  {
   "cell_type": "markdown",
   "metadata": {},
   "source": [
    ":::\n",
    ":::\n",
    "\n",
    "::: {.content-visible when-profile=\"slides\"}\n",
    "## La table correspondante\n",
    ":::"
   ]
  },
  {
   "cell_type": "code",
   "execution_count": 11,
   "metadata": {},
   "outputs": [
    {
     "name": "stdout",
     "output_type": "stream",
     "text": [
      "                            Table \"public.customer\"\n"
     ]
    },
    {
     "name": "stdout",
     "output_type": "stream",
     "text": [
      "    Column    |              Type              | Collation | Nullable | Default \n"
     ]
    },
    {
     "name": "stdout",
     "output_type": "stream",
     "text": [
      "--------------+--------------------------------+-----------+----------+---------\n"
     ]
    },
    {
     "name": "stdout",
     "output_type": "stream",
     "text": [
      " birthdate    | date                           |           |          | \n"
     ]
    },
    {
     "name": "stdout",
     "output_type": "stream",
     "text": [
      " status       | smallint                       |           |          | \n"
     ]
    },
    {
     "name": "stdout",
     "output_type": "stream",
     "text": [
      " version      | integer                        |           |          | \n"
     ]
    },
    {
     "name": "stdout",
     "output_type": "stream",
     "text": [
      " id           | bigint                         |           | not null | \n"
     ]
    },
    {
     "name": "stdout",
     "output_type": "stream",
     "text": [
      " creationdate | timestamp(6) without time zone |           |          | \n"
     ]
    },
    {
     "name": "stdout",
     "output_type": "stream",
     "text": [
      " email        | character varying(50)          |           | not null | \n"
     ]
    },
    {
     "name": "stdout",
     "output_type": "stream",
     "text": [
      " firstname    | character varying(50)          |           | not null | \n"
     ]
    },
    {
     "name": "stdout",
     "output_type": "stream",
     "text": [
      " lastname     | character varying(50)          |           | not null | \n"
     ]
    },
    {
     "name": "stdout",
     "output_type": "stream",
     "text": [
      " photo        | oid                            |           |          | \n"
     ]
    },
    {
     "name": "stdout",
     "output_type": "stream",
     "text": [
      "Indexes:\n"
     ]
    },
    {
     "name": "stdout",
     "output_type": "stream",
     "text": [
      "    \"customer_pkey\" PRIMARY KEY, btree (id)\n"
     ]
    },
    {
     "name": "stdout",
     "output_type": "stream",
     "text": [
      "    \"customer_email_key\" UNIQUE CONSTRAINT, btree (email)\n"
     ]
    },
    {
     "name": "stdout",
     "output_type": "stream",
     "text": [
      "Check constraints:\n"
     ]
    },
    {
     "name": "stdout",
     "output_type": "stream",
     "text": [
      "    \"customer_status_check\" CHECK (status >= 0 AND status <= 1)\n"
     ]
    },
    {
     "name": "stdout",
     "output_type": "stream",
     "text": [
      "\n"
     ]
    }
   ],
   "source": [
    "//| output: true\n",
    "//| echo: false\n",
    "// PRINT TABLES\n",
    "String script=\"\"\"\n",
    "docker run --rm --quiet --network host \\\n",
    "    postgres:16 \\\n",
    "        psql postgresql://dba:secretsecret@db/notebook-db \\\n",
    "            -c '\\\\d CUSTOMER'\n",
    "\"\"\";\n",
    "\n",
    "IJava.getKernelInstance().getMagics().applyCellMagic(\"shell\",List.of(),script);\n",
    "return null;    "
   ]
  },
  {
   "cell_type": "markdown",
   "metadata": {},
   "source": [
    "::: {.content-visible when-profile=\"slides\"}\n",
    "## Annotations de base pour la Persistance\n",
    ":::\n",
    "\n",
    "::: {.content-visible when-profile=\"slides\"}\n",
    "-   **\\@Entity**: Indique une classe entité.\n",
    "-   **\\@Id**: Définit la clé primaire.\n",
    "-   **\\@GeneratedValue**: Contrôle la génération de clés.\n",
    "-   **\\@Table**: Contrôle le mapping de la table.\n",
    "-   **\\@Column**: Contrôle les colonnes.\n",
    "-   **\\@Basic**: Pour les attributs simples.\n",
    "-   **\\@Transient**: Non persistant.\n",
    "-   **\\@Lob**: Pour les grands objets.\n",
    "-   **\\@Version**: Verrouillage optimiste.\n",
    ":::\n",
    "\n",
    "::: {.content-visible when-profile=\"notes\"}\n",
    "[\\@Entity](https://jakarta.ee/specifications/persistence/3.1/apidocs/jakarta.persistence/jakarta/persistence/entity) indique qu'une classe est une entité et permet de contrôler son nom (par défaut celui de la classe).\n",
    "\n",
    "[\\@Id](https://jakarta.ee/specifications/persistence/3.1/apidocs/jakarta.persistence/jakarta/persistence/id) est obligatoire et défini le ou les attributs qui compose la clé primaire.\n",
    "\n",
    "[\\@GeneratedValue](https://jakarta.ee/specifications/persistence/3.1/apidocs/jakarta.persistence/jakarta/persistence/generatedvalue) contrôle la méthode utilisée pour générer la clé lors de l'insertion (automatique pour s'adapater à la base de données utilisée, identité pour MySQL, séquence pour ceux qui le supporte ou Table qui est portable mais avec les moins bonnes performances et récement UUID).\n",
    "\n",
    "[\\@Table](https://jakarta.ee/specifications/persistence/3.1/apidocs/jakarta.persistence/jakarta/persistence/table) contrôle finement le mapping au niveau de la table associée (nom spécifique, schema, catalogue, contraintes et [index](https://jakarta.ee/specifications/persistence/2.2/apidocs/javax/persistence/)).\n",
    "\n",
    "[\\@Column](https://jakarta.ee/specifications/persistence/3.1/apidocs/jakarta.persistence/jakarta/persistence/column) contrôle finement la colonne associée au membre comme son nom ou ses contraintes (null, insertion ou mise à jour autorisés ou non ; unicité ; ...).\n",
    "\n",
    "[\\@Basic](https://jakarta.ee/specifications/persistence/3.1/apidocs/jakarta.persistence/jakarta/persistence/basic) est l'annotation pour tout ce qui peut etre représenté directement comme un attribut : les primitifs (et leurs classes d'enveloppement), les chaînes de caractères, les types temporels, les octets ou tableaux d'octets, les énumérés et tout ce qui implante l'interface Serialisable. Cette annotation est optionnelle et permet de d'indiquer si l'attribut peut être nul dans la base (`optional`) et s'il doit être récupéré au changement de classe (par défaut, [fetch](https://jakarta.ee/specifications/persistence/3.1/apidocs/jakarta.persistence/jakarta/persistence/fetchtype)=EAGER) ou uniquement lors de l'accès au membre (fetch=LAZY).\n",
    "\n",
    "[\\@Transient](https://jakarta.ee/specifications/persistence/3.1/apidocs/jakarta.persistence/jakarta/persistence/transient) permet d'indiquer qu'un membre ne doit pas être persistant (s'il porte le modificateur `transient` c'est aussi le cas).\n",
    "\n",
    "[\\@Lob](https://jakarta.ee/specifications/persistence/3.1/apidocs/jakarta.persistence/jakarta/persistence/lob) permet d'associer des grands objets binaires ou textes (BLOB et CLOB).\n",
    "\n",
    "[\\@Version](https://jakarta.ee/specifications/persistence/3.1/jakarta-persistence-spec-3.1#a2059) définit un attribut utiliser pour assurer le verrouillage optimiste.\n",
    ":::\n",
    "\n",
    "## Le gestionnaire d'entités\n",
    "\n",
    "::: {.content-visible when-profile=\"slides\"}\n",
    "-   Utilisation de l'[entity manager](https://jakarta.ee/specifications/persistence/3.1/apidocs/jakarta.persistence/jakarta/persistence/entitymanager) (EM) pour les opérations CRUD et les requêtes.\n",
    "-   Configuration des unités de persistance dans `META-INF/persistence.xml`.\n",
    "-   Schéma: <https://jakarta.ee/xml/ns/persistence>.\n",
    ":::\n",
    "\n",
    "::: {.content-visible when-profile=\"notes\"}\n",
    "Pour gérer les entité JPA s'appuie sur l'[entity manager](https://jakarta.ee/specifications/persistence/3.1/apidocs/jakarta.persistence/jakarta/persistence/entitymanager) (EM). Il fournit les opération CRUD de base et une interface pour exécuter des requêtes. L'EM s'appuie sur des unités de persistances (des connexions à une base de données) qui sont définie dans un fichier XML `META-INF/persistence.xml` à la racine du classpath (donc dans `src/main/resources` avec Maven). Son schéma est défini dans le standard [https://jakarta.ee/xml/ns/persistence](%5Bhttps://jakarta.ee/xml/ns/persistence).\n",
    ":::\n"
   ]
  },
  {
   "cell_type": "markdown",
   "metadata": {},
   "source": [
    "\n",
    "::: {.content-visible when-profile=\"slides\"}\n",
    "## Exemple de persistence.xml\n",
    ":::\n",
    "\n",
    "::: {.content-visible when-profile=\"notes\"}\n",
    "### Exemple de persistence.xml\n",
    "\n",
    "Un exemple de base est donné ci-dessous :\n",
    ":::\n",
    "\n",
    "``` {.xml include=\"/home/jovyan/work/src/github/ebpro/minimal-jpa/src/main/resources/META-INF/persistence.xml\"}\n",
    "```\n",
    "\n",
    "::: {.content-visible when-profile=\"slides\"}\n",
    "## EM et persistence d'une entité\n",
    "\n",
    "-   Utilisation de l'EntityManagerFactory\n",
    "    -   Obtention d'un EntityManager via l'[EntityManagerFactory](https://jakarta.ee/specifications/persistence/3.1/apidocs/jakarta.persistence/jakarta/persistence/entitymanagerfactory), en spécifiant le nom de la persistence unit.\n",
    "    -   La génération automatique du schéma a lieu lors de la première utilisation.\n",
    "-   Opérations avec l'EntityManager\n",
    "    -   Commencer une transaction avec `begin`, persister une instance avec `persist`, terminer avec `commit` ou `rollback`.\n",
    "    -   L'EM met automatiquement à jour l'entity avec l'ID généré par la base de données.\n",
    "    -   L'EM : utilisé localement et fermé après utilisation (`AutoCloseable`).\n",
    ":::\n",
    "\n",
    "::: {.content-visible when-profile=\"notes\"}\n",
    "### Création de l'EM et persistence d'une entité\n",
    "\n",
    "Pour obtenir un EM, on utilise l'[EntityManagerFactory](https://jakarta.ee/specifications/persistence/3.1/apidocs/jakarta.persistence/jakarta/persistence/entitymanagerfactory) (EMF) en indiquant le nom d'une persistence unit. La génération automatique éventuelle du schéma a lieu lors de la première utilisation de l'EMF.\n",
    "\n",
    "A partir de l'entity manager, il est alors possible de commencer une transaction (`begin`), de rendre persistante une instance (`persist`) et de terminer la transaction (`commit` ou `rollback`). On note la mise à jour automatique de l'entity avec l'ID généré par la base de données. L'entity manager est prévu pour une utilisation locale et généralement brève, il doit être fermé après utilisation (`autocloseable`).\n",
    ":::\n",
    "\n",
    "``` java\n",
    "try (EntityManagerFactory emf = Persistence.createEntityManagerFactory(\"hellojpa-pu\")) \n",
    "{\n",
    "    try (EntityManager entityManager = emf.createEntityManager()) {\n",
    "    }\n",
    "}    \n",
    "```\n",
    "\n",
    "::: {.content-visible when-profile=\"slides\"}\n",
    "## Usage avec un Singleton EMF\n",
    ":::\n",
    "\n",
    "::: {.content-visible when-profile=\"notes\"}\n",
    "La création d'un EMF est couteuse, on utilise donc généralement un singleton pour gérer l'EMF.\n",
    ":::"
   ]
  },
  {
   "cell_type": "code",
   "execution_count": 12,
   "metadata": {
    "user_expressions": []
   },
   "outputs": [],
   "source": [
    "//| output: true\n",
    "//| echo: true\n",
    "EntityManagerFactory emf = DatabaseManager.getEntityManagerFactory();\n",
    "Logger log = LoggerFactory.getLogger(\"notebook\");"
   ]
  },
  {
   "cell_type": "markdown",
   "metadata": {},
   "source": [
    "ce singleton retourne l'instance de l'EMF qui n'est qu'à la première demande."
   ]
  },
  {
   "cell_type": "code",
   "execution_count": 13,
   "metadata": {},
   "outputs": [
    {
     "name": "stdout",
     "output_type": "stream",
     "text": [
      "13:16:12 INFO - BEFORE PERSIST Customer(id=0, email=pierre.durand@ici.fr, name=null)\n"
     ]
    },
    {
     "name": "stdout",
     "output_type": "stream",
     "text": [
      "13:16:12 INFO - AFTER PERSIST: Customer(id=1, email=pierre.durand@ici.fr, name=null)\n"
     ]
    }
   ],
   "source": [
    "//| output: true\n",
    "//| echo: true\n",
    "import fr.univtln.bruno.demos.jpa.hello.samples.ex_simple.*;\n",
    "\n",
    "try (EntityManager entityManager = emf.createEntityManager();) {\n",
    "        entityManager.getTransaction().begin();\n",
    "\n",
    "        Customer customer = Customer.of(\"pierre.durand@ici.fr\");\n",
    "        log.info(\"BEFORE PERSIST \"+customer.toString());\n",
    "\n",
    "        entityManager.persist(customer);\n",
    "        log.info(\"AFTER PERSIST: \"+customer.toString());\n",
    "\n",
    "        entityManager.getTransaction().commit();\n",
    "}"
   ]
  },
  {
   "cell_type": "markdown",
   "metadata": {},
   "source": [
    "::: {.content-visible when-profile=\"notes\"}\n",
    "A partir du moment ou une entité est liée au contexte de persistence (en venant d'être crée ou récupérée), la mise à jour dans la base est implicite (pas de fonction dédiée de l'entity manager). La transaction n'est nécessaire que pour les modifications.\n",
    ":::\n",
    "\n",
    "::: {.content-visible when-profile=\"slides\"}\n",
    "## Mise à jour\n",
    "\n",
    "-   Mise à jour implicite\n",
    "-   Transaction nécessaire pour les mises à jour\n",
    ":::"
   ]
  },
  {
   "cell_type": "code",
   "execution_count": 14,
   "metadata": {},
   "outputs": [
    {
     "name": "stdout",
     "output_type": "stream",
     "text": [
      "13:16:13 INFO - AFTER COMMIT: Customer(id=2, email=marie.dupond@la.fr, name=Marie Dupond)\n"
     ]
    }
   ],
   "source": [
    "//| output: true\n",
    "//| echo: true\n",
    "\n",
    "long newId;\n",
    "Customer customer = Customer.of(\"marie.dupond@la.fr\");\n",
    "\n",
    "try (EntityManager entityManager = emf.createEntityManager();) {\n",
    "    entityManager.getTransaction().begin();\n",
    "    entityManager.persist(customer);\n",
    "    \n",
    "    customer.setName(\"Marie Dupond\");  // <1>\n",
    "        \n",
    "    entityManager.getTransaction().commit();\n",
    "    log.info(\"AFTER COMMIT: \"+customer.toString());\n",
    "}\n",
    "\n",
    "newId=customer.getId();"
   ]
  },
  {
   "cell_type": "markdown",
   "metadata": {},
   "source": [
    "::: {.content-visible when-profile=\"slides\"}\n",
    "## Find by Id\n",
    "\n",
    "-   recherche par ID [`find​(Class<T> entityClass, Object primaryKey)`](https://jakarta.ee/specifications/persistence/3.1/apidocs/jakarta.persistence/jakarta/persistence/entitymanager)\n",
    ":::\n",
    "\n",
    "::: {.content-visible when-profile=\"notes\"}\n",
    "L'entity manager propose une méthode de recherche par ID [`find​(Class<T> entityClass, Object primaryKey)`](https://jakarta.ee/specifications/persistence/3.1/apidocs/jakarta.persistence/jakarta/persistence/entitymanager) qui prend en paramètre la classe de l'entité recherchée et la valeur de la clé.\n",
    ":::"
   ]
  },
  {
   "cell_type": "code",
   "execution_count": 15,
   "metadata": {},
   "outputs": [
    {
     "name": "stdout",
     "output_type": "stream",
     "text": [
      "13:16:13 INFO - Search cust. Id 2: Optional[Customer(id=2, email=marie.dupond@la.fr, name=Marie Dupond)]\n"
     ]
    }
   ],
   "source": [
    "//| output: true\n",
    "//| echo: true\n",
    "\n",
    "try (EntityManager entityManager = emf.createEntityManager();) {\n",
    "    Optional<Customer> customer = Optional.ofNullable(entityManager.find(Customer.class, newId));\n",
    "    \n",
    "    if (customer.isEmpty()) \n",
    "        log.info(\"Id %d not in database.\".formatted(newId));\n",
    "    else {\n",
    "        log.info(\"Search cust. Id %d: %s\".formatted(newId,customer));\n",
    "     }\n",
    "}"
   ]
  },
  {
   "cell_type": "markdown",
   "metadata": {},
   "source": [
    "::: {.content-visible when-profile=\"slides\"}\n",
    "## Suppression\n",
    "\n",
    "-   **remove** supprimer une entité de la base de données.\n",
    ":::\n",
    "\n",
    "::: {.content-visible when-profile=\"notes\"}\n",
    "L'entity manager propose une méthode `remove` pour supprimer une entité de la base de données.\n",
    ":::"
   ]
  },
  {
   "cell_type": "code",
   "execution_count": 16,
   "metadata": {},
   "outputs": [
    {
     "name": "stdout",
     "output_type": "stream",
     "text": [
      "13:16:13 INFO - Removed Id 2 from the database.\n"
     ]
    }
   ],
   "source": [
    "//| output: true\n",
    "//| echo: true\n",
    "try (EntityManager entityManager = emf.createEntityManager();) {\n",
    "    Optional<Customer> customer = Optional.ofNullable(entityManager.find(Customer.class, newId));\n",
    "    \n",
    "    if (customer.isEmpty()) \n",
    "        log.error(\"Id %d not in database.\".formatted(newId));\n",
    "    else {\n",
    "        log.info(\"Removed Id %d from the database.\".formatted(newId));\n",
    "        entityManager.getTransaction().begin();\n",
    "        entityManager.remove(customer.get());\n",
    "        entityManager.getTransaction().commit();\n",
    "    }\n",
    "}"
   ]
  },
  {
   "cell_type": "markdown",
   "metadata": {},
   "source": [
    "::: {.content-visible when-profile=\"slides\"}\n",
    "## Fonctions supplémentaires de l'EntityManager\n",
    "\n",
    "-   **merge**: Attache un objet au contexte de persistence (par son ID).\n",
    "-   **refresh**: Annule les modifications en cours de transaction sur une entité.\n",
    "-   **detach**: Indique à l'EM de ne plus gérer une entité.\n",
    ":::\n",
    "\n",
    "::: {.content-visible when-profile=\"notes\"}\n",
    "`merge` attache un objet au contexte de persistence (par son id), `refresh` annule les modifications en cours de transanction sur une entité et `detach` indique à l'EM de ne plus gérer une entité.\n",
    ":::"
   ]
  },
  {
   "cell_type": "code",
   "execution_count": 17,
   "metadata": {},
   "outputs": [],
   "source": [
    "//| output: false\n",
    "//| echo: false\n",
    "\n",
    "import fr.univtln.bruno.demos.jpa.hello.samples.ex_simple.*;\n",
    "import fr.univtln.bruno.demos.jpa.hello.DatabaseManager;\n",
    "\n",
    "long newId;\n",
    "try (EntityManager entityManager = emf.createEntityManager();) {\n",
    "        entityManager.getTransaction().begin();\n",
    "        Customer customer = Customer.of(\"pierre.durand@ici.fr\");\n",
    "        entityManager.persist(customer);\n",
    "        entityManager.getTransaction().commit();\n",
    "        newId = customer.getId();\n",
    "}"
   ]
  },
  {
   "cell_type": "code",
   "execution_count": 18,
   "metadata": {},
   "outputs": [
    {
     "name": "stdout",
     "output_type": "stream",
     "text": [
      "13:16:13 INFO - BEFORE MERGE Customer(id=3, email=???, name=null)\n"
     ]
    },
    {
     "name": "stdout",
     "output_type": "stream",
     "text": [
      "13:16:13 INFO - AFTER MERGE+REFRESH Customer(id=3, email=pierre.durand@ici.fr, name=null)\n"
     ]
    }
   ],
   "source": [
    "//| output: true\n",
    "//| echo: true\n",
    "Customer customer = Customer.of(\"???\");\n",
    "customer.setId(newId);\n",
    "log.info(\"BEFORE MERGE \"+customer.toString());\n",
    "\n",
    "try (EntityManager entityManager = emf.createEntityManager();) {\n",
    "    entityManager.getTransaction().begin();\n",
    "    customer =  entityManager.merge(customer);\n",
    "    entityManager.refresh(customer);\n",
    "    entityManager.getTransaction().commit();    \n",
    "}\n",
    "\n",
    "log.info(\"AFTER MERGE+REFRESH \"+customer.toString());"
   ]
  },
  {
   "cell_type": "markdown",
   "metadata": {},
   "source": [
    "## Conseils pour l'utilisation de JPA avec Lombok\n",
    "\n",
    "::: {.content-visible when-profile=\"slides\"}\n",
    "-   **Attention avec `@EqualsAndHashCode`**: Vérifier les implications avec les relations Hibernate, voir https://thorben-janssen.com/ultimate-guide-to-implementing-equals-and-hashcode-with-hibernate/\n",
    "-   Éviter d'utiliser `@Data`: Contrôler précisément les méthodes générées pour éviter des comportements inattendus.\n",
    "-   Exclure les attributs \"Lazy\" de `@ToString`: Prévenir les problèmes de chargement paresseux inattendus lors de l'affichage.\n",
    "-   Ajouter `@NoArgsConstructor(access= AccessLevel.PROTECTED)`: Utiliser en conjonction avec `@Builder` ou `@AllArgsConstructor` pour garantir des comportements de construction cohérents.\n",
    ":::\n",
    "\n",
    "::: {.content-visible when-profile=\"notes\"}\n",
    "Lorsque vous utilisez Lombok avec JPA (Java Persistence API), quelques précautions sont nécessaires pour assurer un fonctionnement harmonieux de votre application. Évitez l'utilisation de l'annotation `@Data`, car elle peut générer des méthodes indésirables dans le contexte de la persistance des données. De plus, faites attention avec `@EqualsAndHashCode`, car elle peut avoir des implications inattendues sur les relations Hibernate. Lorsque vous utilisez `@ToString`, assurez-vous d'exclure les attributs \"Lazy\" pour éviter les problèmes liés au chargement paresseux lors de l'affichage des objets. Enfin, pour garantir une construction cohérente des entités, ajoutez `@NoArgsConstructor(access= AccessLevel.PROTECTED)` en conjonction avec `@Builder` ou `@AllArgsConstructor`. En suivant ces bonnes pratiques, vous pouvez optimiser l'utilisation de Lombok avec JPA tout en évitant les écueils potentiels.\n",
    ":::"
   ]
  }
 ],
 "metadata": {
  "kernelspec": {
   "display_name": "Java [conda env:root] *",
   "language": "java",
   "name": "conda-root-java"
  },
  "language_info": {
   "codemirror_mode": "java",
   "file_extension": ".jshell",
   "mimetype": "text/x-java-source",
   "name": "Java",
   "pygments_lexer": "java",
   "version": "21.0.2+13-LTS"
  }
 },
 "nbformat": 4,
 "nbformat_minor": 4
}
