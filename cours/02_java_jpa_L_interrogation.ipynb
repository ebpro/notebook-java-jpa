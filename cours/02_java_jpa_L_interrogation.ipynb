{
 "cells": [
  {
   "cell_type": "markdown",
   "id": "24b95bbd-bdf3-4774-9764-27e95be0e260",
   "metadata": {},
   "source": [
    "---\n",
    "  title: \"JPA 03: Interrogation\"\n",
    "  description: \"Interrogation native et via JPQL avec JPA.\"\n",
    "  categories: \n",
    "    - Java\n",
    "    - I211\n",
    "    - Lecture\n",
    "    - JPA  \n",
    "\n",
    "---"
   ]
  },
  {
   "cell_type": "code",
   "execution_count": 1,
   "id": "4ae207dc-ff68-4d49-9b26-4a7e2bbf6f36",
   "metadata": {
    "vscode": {
     "languageId": "java"
    }
   },
   "outputs": [],
   "source": [
    "//| output: false\n",
    "//| echo: false\n",
    "%mavenRepo central https://repo.maven.apache.org/maven2/\n",
    "%maven tech.tablesaw:tablesaw-html:0.43.1\n",
    "%maven tech.tablesaw:tablesaw-core:0.43.1\n",
    "%maven org.postgresql:postgresql:42.7.1\n",
    "import tech.tablesaw.io.html.HtmlWriter;\n",
    "\n",
    "IJava.getKernelInstance().getMagics().registerCellMagic(\"sqlAsTable\", (args, body) -> { \n",
    "if (args.size() != 3)\n",
    "    throw new IllegalArgumentException(\"Usage: %%sqlAsTable <jdbcUrl> <> <>\");\n",
    "    \n",
    "String DB_URL = args.get(0);\n",
    "String LOGIN = args.get(1);\n",
    "String PASSWORD = args.get(2);\n",
    "String QUERY = body;\n",
    "String TABLE_NAME = \"LINE\";\n",
    "\n",
    "Connection conn = DriverManager.getConnection(DB_URL,LOGIN,PASSWORD);\n",
    "\n",
    "tech.tablesaw.api.Table table = null; \n",
    "try (Statement stmt = conn.createStatement()) {\n",
    "  String sql = QUERY;\n",
    "  try (ResultSet results = stmt.executeQuery(sql)) {\n",
    "    table = tech.tablesaw.api.Table.read().db(results, TABLE_NAME);\n",
    "  }\n",
    "}   \n",
    "String result = table.write().toString(\"html\");\n",
    "    \n",
    "display(result,\"text/html\");\n",
    "    return result;\n",
    "});"
   ]
  },
  {
   "cell_type": "code",
   "execution_count": 2,
   "id": "dbe624e9-a103-4cb4-9e7c-815c81a3d3cf",
   "metadata": {
    "jupyter": {
     "outputs_hidden": true
    },
    "tags": [],
    "vscode": {
     "languageId": "java"
    }
   },
   "outputs": [
    {
     "name": "stdout",
     "output_type": "stream",
     "text": [
      "$ git fetch\n"
     ]
    },
    {
     "name": "stdout",
     "output_type": "stream",
     "text": [
      "\n"
     ]
    },
    {
     "name": "stdout",
     "output_type": "stream",
     "text": [
      "$ git reset --mixed\n"
     ]
    },
    {
     "name": "stdout",
     "output_type": "stream",
     "text": [
      "\n"
     ]
    },
    {
     "name": "stdout",
     "output_type": "stream",
     "text": [
      "$ git -c user.email=nbgitpuller@nbgitpuller.link -c user.name=nbgitpuller merge -Xours origin/develop\n"
     ]
    },
    {
     "name": "stdout",
     "output_type": "stream",
     "text": [
      "\n"
     ]
    },
    {
     "name": "stdout",
     "output_type": "stream",
     "text": [
      "Already up to date.\n"
     ]
    },
    {
     "name": "stdout",
     "output_type": "stream",
     "text": [
      "\n"
     ]
    },
    {
     "name": "stdout",
     "output_type": "stream",
     "text": [
      "13:17:36.566 INFO  f.u.b.d.jpa.hello.DatabaseManager - looking for property jakarta.persistence.jdbc.user in variable DB_USERNAME or in property db.username\n"
     ]
    },
    {
     "name": "stdout",
     "output_type": "stream",
     "text": [
      "13:17:36.570 INFO  f.u.b.d.jpa.hello.DatabaseManager - looking for property jakarta.persistence.jdbc.url in variable DB_URL or in property db.url\n"
     ]
    },
    {
     "name": "stdout",
     "output_type": "stream",
     "text": [
      "13:17:36.570 INFO  f.u.b.d.jpa.hello.DatabaseManager - looking for property jakarta.persistence.jdbc.password in variable DB_PASSWORD or in property db.password\n"
     ]
    },
    {
     "name": "stdout",
     "output_type": "stream",
     "text": [
      "13:17:36.570 INFO  f.u.b.d.jpa.hello.DatabaseManager - Connection to jdbc:postgresql://db/notebook-db as dba\n"
     ]
    },
    {
     "name": "stdout",
     "output_type": "stream",
     "text": [
      "13:17:37.338 INFO  com.mchange.v2.log.MLog - MLog clients using slf4j logging.\n"
     ]
    },
    {
     "name": "stdout",
     "output_type": "stream",
     "text": [
      "13:17:38.915 DEBUG org.hibernate.SQL - DROP SCHEMA IF  EXISTS EX_BIOGRAPHY CASCADE\n"
     ]
    },
    {
     "name": "stdout",
     "output_type": "stream",
     "text": [
      "13:17:38.920 WARN  o.h.e.jdbc.spi.SqlExceptionHelper - SQL Warning Code: 0, SQLState: 00000\n"
     ]
    },
    {
     "name": "stdout",
     "output_type": "stream",
     "text": [
      "13:17:38.920 WARN  o.h.e.jdbc.spi.SqlExceptionHelper - drop cascades to table ex_biography.customer\n"
     ]
    },
    {
     "name": "stdout",
     "output_type": "stream",
     "text": [
      "13:17:38.920 DEBUG org.hibernate.SQL - DROP SCHEMA IF  EXISTS EX_ENTITY CASCADE\n"
     ]
    },
    {
     "name": "stdout",
     "output_type": "stream",
     "text": [
      "13:17:38.921 DEBUG org.hibernate.SQL - DROP SCHEMA IF  EXISTS EX_MANY_TO_MANY CASCADE\n"
     ]
    },
    {
     "name": "stdout",
     "output_type": "stream",
     "text": [
      "13:17:38.924 WARN  o.h.e.jdbc.spi.SqlExceptionHelper - SQL Warning Code: 0, SQLState: 00000\n"
     ]
    },
    {
     "name": "stdout",
     "output_type": "stream",
     "text": [
      "13:17:38.924 WARN  o.h.e.jdbc.spi.SqlExceptionHelper - drop cascades to 3 other objects\n"
     ]
    },
    {
     "name": "stdout",
     "output_type": "stream",
     "text": [
      "13:17:38.924 DEBUG org.hibernate.SQL - DROP SCHEMA IF  EXISTS EX_ONE_TO_MANY_A CASCADE\n"
     ]
    },
    {
     "name": "stdout",
     "output_type": "stream",
     "text": [
      "13:17:38.926 WARN  o.h.e.jdbc.spi.SqlExceptionHelper - SQL Warning Code: 0, SQLState: 00000\n"
     ]
    },
    {
     "name": "stdout",
     "output_type": "stream",
     "text": [
      "13:17:38.926 WARN  o.h.e.jdbc.spi.SqlExceptionHelper - drop cascades to 2 other objects\n"
     ]
    },
    {
     "name": "stdout",
     "output_type": "stream",
     "text": [
      "13:17:38.926 DEBUG org.hibernate.SQL - DROP SCHEMA IF  EXISTS EX_ONE_TO_MANY_B CASCADE\n"
     ]
    },
    {
     "name": "stdout",
     "output_type": "stream",
     "text": [
      "13:17:38.928 WARN  o.h.e.jdbc.spi.SqlExceptionHelper - SQL Warning Code: 0, SQLState: 00000\n"
     ]
    },
    {
     "name": "stdout",
     "output_type": "stream",
     "text": [
      "13:17:38.928 WARN  o.h.e.jdbc.spi.SqlExceptionHelper - drop cascades to 2 other objects\n"
     ]
    },
    {
     "name": "stdout",
     "output_type": "stream",
     "text": [
      "13:17:38.928 DEBUG org.hibernate.SQL - DROP SCHEMA IF  EXISTS EX_HOOK CASCADE\n"
     ]
    },
    {
     "name": "stdout",
     "output_type": "stream",
     "text": [
      "13:17:38.929 WARN  o.h.e.jdbc.spi.SqlExceptionHelper - SQL Warning Code: 0, SQLState: 00000\n"
     ]
    },
    {
     "name": "stdout",
     "output_type": "stream",
     "text": [
      "13:17:38.929 WARN  o.h.e.jdbc.spi.SqlExceptionHelper - drop cascades to table ex_hook.customer\n"
     ]
    },
    {
     "name": "stdout",
     "output_type": "stream",
     "text": [
      "13:17:38.929 DEBUG org.hibernate.SQL - DROP SCHEMA IF  EXISTS EX_EMBEDDED_ID CASCADE\n"
     ]
    },
    {
     "name": "stdout",
     "output_type": "stream",
     "text": [
      "13:17:38.930 WARN  o.h.e.jdbc.spi.SqlExceptionHelper - SQL Warning Code: 0, SQLState: 00000\n"
     ]
    },
    {
     "name": "stdout",
     "output_type": "stream",
     "text": [
      "13:17:38.930 WARN  o.h.e.jdbc.spi.SqlExceptionHelper - drop cascades to table ex_embedded_id.employe\n"
     ]
    },
    {
     "name": "stdout",
     "output_type": "stream",
     "text": [
      "13:17:38.930 DEBUG org.hibernate.SQL - DROP SCHEMA IF  EXISTS EX_IDCLASS CASCADE\n"
     ]
    },
    {
     "name": "stdout",
     "output_type": "stream",
     "text": [
      "13:17:38.931 WARN  o.h.e.jdbc.spi.SqlExceptionHelper - SQL Warning Code: 0, SQLState: 00000\n"
     ]
    },
    {
     "name": "stdout",
     "output_type": "stream",
     "text": [
      "13:17:38.931 WARN  o.h.e.jdbc.spi.SqlExceptionHelper - drop cascades to table ex_idclass.employe\n"
     ]
    },
    {
     "name": "stdout",
     "output_type": "stream",
     "text": [
      "13:17:38.931 DEBUG org.hibernate.SQL - DROP SCHEMA IF  EXISTS EX_IDCLASS CASCADE\n"
     ]
    },
    {
     "name": "stdout",
     "output_type": "stream",
     "text": [
      "13:17:38.931 WARN  o.h.e.jdbc.spi.SqlExceptionHelper - SQL Warning Code: 0, SQLState: 00000\n"
     ]
    },
    {
     "name": "stdout",
     "output_type": "stream",
     "text": [
      "13:17:38.931 WARN  o.h.e.jdbc.spi.SqlExceptionHelper - schema \"ex_idclass\" does not exist, skipping\n"
     ]
    },
    {
     "name": "stdout",
     "output_type": "stream",
     "text": [
      "13:17:38.931 DEBUG org.hibernate.SQL - DROP SCHEMA IF  EXISTS EX_HERITAGE1 CASCADE\n"
     ]
    },
    {
     "name": "stdout",
     "output_type": "stream",
     "text": [
      "13:17:38.932 WARN  o.h.e.jdbc.spi.SqlExceptionHelper - SQL Warning Code: 0, SQLState: 00000\n"
     ]
    },
    {
     "name": "stdout",
     "output_type": "stream",
     "text": [
      "13:17:38.932 WARN  o.h.e.jdbc.spi.SqlExceptionHelper - drop cascades to table ex_heritage1.person\n"
     ]
    },
    {
     "name": "stdout",
     "output_type": "stream",
     "text": [
      "13:17:38.932 DEBUG org.hibernate.SQL - DROP SCHEMA IF  EXISTS EX_HERITAGE2 CASCADE\n"
     ]
    },
    {
     "name": "stdout",
     "output_type": "stream",
     "text": [
      "13:17:38.935 WARN  o.h.e.jdbc.spi.SqlExceptionHelper - SQL Warning Code: 0, SQLState: 00000\n"
     ]
    },
    {
     "name": "stdout",
     "output_type": "stream",
     "text": [
      "13:17:38.935 WARN  o.h.e.jdbc.spi.SqlExceptionHelper - drop cascades to 3 other objects\n"
     ]
    },
    {
     "name": "stdout",
     "output_type": "stream",
     "text": [
      "13:17:38.935 DEBUG org.hibernate.SQL - DROP SCHEMA IF  EXISTS EX_HERITAGE3 CASCADE\n"
     ]
    },
    {
     "name": "stdout",
     "output_type": "stream",
     "text": [
      "13:17:38.937 WARN  o.h.e.jdbc.spi.SqlExceptionHelper - SQL Warning Code: 0, SQLState: 00000\n"
     ]
    },
    {
     "name": "stdout",
     "output_type": "stream",
     "text": [
      "13:17:38.937 WARN  o.h.e.jdbc.spi.SqlExceptionHelper - drop cascades to 3 other objects\n"
     ]
    },
    {
     "name": "stdout",
     "output_type": "stream",
     "text": [
      "13:17:38.937 DEBUG org.hibernate.SQL - drop table if exists ex_biography.CUSTOMER cascade\n"
     ]
    },
    {
     "name": "stdout",
     "output_type": "stream",
     "text": [
      "13:17:38.937 WARN  o.h.e.jdbc.spi.SqlExceptionHelper - SQL Warning Code: 0, SQLState: 00000\n"
     ]
    },
    {
     "name": "stdout",
     "output_type": "stream",
     "text": [
      "13:17:38.937 WARN  o.h.e.jdbc.spi.SqlExceptionHelper - schema \"ex_biography\" does not exist, skipping\n"
     ]
    },
    {
     "name": "stdout",
     "output_type": "stream",
     "text": [
      "13:17:38.937 DEBUG org.hibernate.SQL - drop table if exists EX_EMBEDDED_ID.EMPLOYE cascade\n"
     ]
    },
    {
     "name": "stdout",
     "output_type": "stream",
     "text": [
      "13:17:38.938 WARN  o.h.e.jdbc.spi.SqlExceptionHelper - SQL Warning Code: 0, SQLState: 00000\n"
     ]
    },
    {
     "name": "stdout",
     "output_type": "stream",
     "text": [
      "13:17:38.938 WARN  o.h.e.jdbc.spi.SqlExceptionHelper - schema \"ex_embedded_id\" does not exist, skipping\n"
     ]
    },
    {
     "name": "stdout",
     "output_type": "stream",
     "text": [
      "13:17:38.938 DEBUG org.hibernate.SQL - drop table if exists EX_HERITAGE1.Person cascade\n"
     ]
    },
    {
     "name": "stdout",
     "output_type": "stream",
     "text": [
      "13:17:38.938 WARN  o.h.e.jdbc.spi.SqlExceptionHelper - SQL Warning Code: 0, SQLState: 00000\n"
     ]
    },
    {
     "name": "stdout",
     "output_type": "stream",
     "text": [
      "13:17:38.938 WARN  o.h.e.jdbc.spi.SqlExceptionHelper - schema \"ex_heritage1\" does not exist, skipping\n"
     ]
    },
    {
     "name": "stdout",
     "output_type": "stream",
     "text": [
      "13:17:38.938 DEBUG org.hibernate.SQL - alter table if exists EX_HERITAGE2.STUDENT drop constraint if exists FKbhp183l5ur0m48nhfqjtodwt7\n"
     ]
    },
    {
     "name": "stdout",
     "output_type": "stream",
     "text": [
      "13:17:38.938 WARN  o.h.e.jdbc.spi.SqlExceptionHelper - SQL Warning Code: 0, SQLState: 00000\n"
     ]
    },
    {
     "name": "stdout",
     "output_type": "stream",
     "text": [
      "13:17:38.938 WARN  o.h.e.jdbc.spi.SqlExceptionHelper - relation \"student\" does not exist, skipping\n"
     ]
    },
    {
     "name": "stdout",
     "output_type": "stream",
     "text": [
      "13:17:38.938 DEBUG org.hibernate.SQL - alter table if exists EX_HERITAGE2.TEACHER drop constraint if exists FKeiv4tioua2f6b81bwlpje2d8t\n"
     ]
    },
    {
     "name": "stdout",
     "output_type": "stream",
     "text": [
      "13:17:38.939 WARN  o.h.e.jdbc.spi.SqlExceptionHelper - SQL Warning Code: 0, SQLState: 00000\n"
     ]
    },
    {
     "name": "stdout",
     "output_type": "stream",
     "text": [
      "13:17:38.939 WARN  o.h.e.jdbc.spi.SqlExceptionHelper - relation \"teacher\" does not exist, skipping\n"
     ]
    },
    {
     "name": "stdout",
     "output_type": "stream",
     "text": [
      "13:17:38.939 DEBUG org.hibernate.SQL - drop table if exists EX_HERITAGE2.PERSON cascade\n"
     ]
    },
    {
     "name": "stdout",
     "output_type": "stream",
     "text": [
      "13:17:38.939 WARN  o.h.e.jdbc.spi.SqlExceptionHelper - SQL Warning Code: 0, SQLState: 00000\n"
     ]
    },
    {
     "name": "stdout",
     "output_type": "stream",
     "text": [
      "13:17:38.939 WARN  o.h.e.jdbc.spi.SqlExceptionHelper - schema \"ex_heritage2\" does not exist, skipping\n"
     ]
    },
    {
     "name": "stdout",
     "output_type": "stream",
     "text": [
      "13:17:38.939 DEBUG org.hibernate.SQL - drop table if exists EX_HERITAGE2.STUDENT cascade\n"
     ]
    },
    {
     "name": "stdout",
     "output_type": "stream",
     "text": [
      "13:17:38.939 WARN  o.h.e.jdbc.spi.SqlExceptionHelper - SQL Warning Code: 0, SQLState: 00000\n"
     ]
    },
    {
     "name": "stdout",
     "output_type": "stream",
     "text": [
      "13:17:38.939 WARN  o.h.e.jdbc.spi.SqlExceptionHelper - schema \"ex_heritage2\" does not exist, skipping\n"
     ]
    },
    {
     "name": "stdout",
     "output_type": "stream",
     "text": [
      "13:17:38.939 DEBUG org.hibernate.SQL - drop table if exists EX_HERITAGE2.TEACHER cascade\n"
     ]
    },
    {
     "name": "stdout",
     "output_type": "stream",
     "text": [
      "13:17:38.940 WARN  o.h.e.jdbc.spi.SqlExceptionHelper - SQL Warning Code: 0, SQLState: 00000\n"
     ]
    },
    {
     "name": "stdout",
     "output_type": "stream",
     "text": [
      "13:17:38.940 WARN  o.h.e.jdbc.spi.SqlExceptionHelper - schema \"ex_heritage2\" does not exist, skipping\n"
     ]
    },
    {
     "name": "stdout",
     "output_type": "stream",
     "text": [
      "13:17:38.940 DEBUG org.hibernate.SQL - drop table if exists EX_HERITAGE3.PERSON cascade\n"
     ]
    },
    {
     "name": "stdout",
     "output_type": "stream",
     "text": [
      "13:17:38.940 WARN  o.h.e.jdbc.spi.SqlExceptionHelper - SQL Warning Code: 0, SQLState: 00000\n"
     ]
    },
    {
     "name": "stdout",
     "output_type": "stream",
     "text": [
      "13:17:38.940 WARN  o.h.e.jdbc.spi.SqlExceptionHelper - schema \"ex_heritage3\" does not exist, skipping\n"
     ]
    },
    {
     "name": "stdout",
     "output_type": "stream",
     "text": [
      "13:17:38.940 DEBUG org.hibernate.SQL - drop table if exists EX_HERITAGE3.STUDENT cascade\n"
     ]
    },
    {
     "name": "stdout",
     "output_type": "stream",
     "text": [
      "13:17:38.940 WARN  o.h.e.jdbc.spi.SqlExceptionHelper - SQL Warning Code: 0, SQLState: 00000\n"
     ]
    },
    {
     "name": "stdout",
     "output_type": "stream",
     "text": [
      "13:17:38.940 WARN  o.h.e.jdbc.spi.SqlExceptionHelper - schema \"ex_heritage3\" does not exist, skipping\n"
     ]
    },
    {
     "name": "stdout",
     "output_type": "stream",
     "text": [
      "13:17:38.940 DEBUG org.hibernate.SQL - drop table if exists EX_HERITAGE3.TEACHER cascade\n"
     ]
    },
    {
     "name": "stdout",
     "output_type": "stream",
     "text": [
      "13:17:38.941 WARN  o.h.e.jdbc.spi.SqlExceptionHelper - SQL Warning Code: 0, SQLState: 00000\n"
     ]
    },
    {
     "name": "stdout",
     "output_type": "stream",
     "text": [
      "13:17:38.941 WARN  o.h.e.jdbc.spi.SqlExceptionHelper - schema \"ex_heritage3\" does not exist, skipping\n"
     ]
    },
    {
     "name": "stdout",
     "output_type": "stream",
     "text": [
      "13:17:38.941 DEBUG org.hibernate.SQL - drop table if exists EX_HOOK.CUSTOMER cascade\n"
     ]
    },
    {
     "name": "stdout",
     "output_type": "stream",
     "text": [
      "13:17:38.941 WARN  o.h.e.jdbc.spi.SqlExceptionHelper - SQL Warning Code: 0, SQLState: 00000\n"
     ]
    },
    {
     "name": "stdout",
     "output_type": "stream",
     "text": [
      "13:17:38.941 WARN  o.h.e.jdbc.spi.SqlExceptionHelper - schema \"ex_hook\" does not exist, skipping\n"
     ]
    },
    {
     "name": "stdout",
     "output_type": "stream",
     "text": [
      "13:17:38.941 DEBUG org.hibernate.SQL - drop table if exists EX_IDCLASS.EMPLOYE cascade\n"
     ]
    },
    {
     "name": "stdout",
     "output_type": "stream",
     "text": [
      "13:17:38.941 WARN  o.h.e.jdbc.spi.SqlExceptionHelper - SQL Warning Code: 0, SQLState: 00000\n"
     ]
    },
    {
     "name": "stdout",
     "output_type": "stream",
     "text": [
      "13:17:38.941 WARN  o.h.e.jdbc.spi.SqlExceptionHelper - schema \"ex_idclass\" does not exist, skipping\n"
     ]
    },
    {
     "name": "stdout",
     "output_type": "stream",
     "text": [
      "13:17:38.941 DEBUG org.hibernate.SQL - drop table if exists EX_IDSEQ.CUSTOMER cascade\n"
     ]
    },
    {
     "name": "stdout",
     "output_type": "stream",
     "text": [
      "13:17:38.942 DEBUG org.hibernate.SQL - drop table if exists EX_IDTABLE.CUSTOMER cascade\n"
     ]
    },
    {
     "name": "stdout",
     "output_type": "stream",
     "text": [
      "13:17:38.943 DEBUG org.hibernate.SQL - drop table if exists EX_IDTABLE.ID_GENERATOR_TABLE cascade\n"
     ]
    },
    {
     "name": "stdout",
     "output_type": "stream",
     "text": [
      "13:17:38.944 DEBUG org.hibernate.SQL - alter table if exists EX_MANY_TO_MANY.CUSTOMER_ADDRESS drop constraint if exists FKcl977kx0vb0mvbvk84kl4lqcv\n"
     ]
    },
    {
     "name": "stdout",
     "output_type": "stream",
     "text": [
      "13:17:38.944 WARN  o.h.e.jdbc.spi.SqlExceptionHelper - SQL Warning Code: 0, SQLState: 00000\n"
     ]
    },
    {
     "name": "stdout",
     "output_type": "stream",
     "text": [
      "13:17:38.944 WARN  o.h.e.jdbc.spi.SqlExceptionHelper - relation \"customer_address\" does not exist, skipping\n"
     ]
    },
    {
     "name": "stdout",
     "output_type": "stream",
     "text": [
      "13:17:38.944 DEBUG org.hibernate.SQL - alter table if exists EX_MANY_TO_MANY.CUSTOMER_ADDRESS drop constraint if exists FKhqfehryv5ajn01d0bnvn7b55e\n"
     ]
    },
    {
     "name": "stdout",
     "output_type": "stream",
     "text": [
      "13:17:38.944 WARN  o.h.e.jdbc.spi.SqlExceptionHelper - SQL Warning Code: 0, SQLState: 00000\n"
     ]
    },
    {
     "name": "stdout",
     "output_type": "stream",
     "text": [
      "13:17:38.945 WARN  o.h.e.jdbc.spi.SqlExceptionHelper - relation \"customer_address\" does not exist, skipping\n"
     ]
    },
    {
     "name": "stdout",
     "output_type": "stream",
     "text": [
      "13:17:38.945 DEBUG org.hibernate.SQL - drop table if exists EX_MANY_TO_MANY.ADDRESS cascade\n"
     ]
    },
    {
     "name": "stdout",
     "output_type": "stream",
     "text": [
      "13:17:38.945 WARN  o.h.e.jdbc.spi.SqlExceptionHelper - SQL Warning Code: 0, SQLState: 00000\n"
     ]
    },
    {
     "name": "stdout",
     "output_type": "stream",
     "text": [
      "13:17:38.945 WARN  o.h.e.jdbc.spi.SqlExceptionHelper - schema \"ex_many_to_many\" does not exist, skipping\n"
     ]
    },
    {
     "name": "stdout",
     "output_type": "stream",
     "text": [
      "13:17:38.945 DEBUG org.hibernate.SQL - drop table if exists EX_MANY_TO_MANY.CUSTOMER cascade\n"
     ]
    },
    {
     "name": "stdout",
     "output_type": "stream",
     "text": [
      "13:17:38.945 WARN  o.h.e.jdbc.spi.SqlExceptionHelper - SQL Warning Code: 0, SQLState: 00000\n"
     ]
    },
    {
     "name": "stdout",
     "output_type": "stream",
     "text": [
      "13:17:38.945 WARN  o.h.e.jdbc.spi.SqlExceptionHelper - schema \"ex_many_to_many\" does not exist, skipping\n"
     ]
    },
    {
     "name": "stdout",
     "output_type": "stream",
     "text": [
      "13:17:38.945 DEBUG org.hibernate.SQL - drop table if exists EX_MANY_TO_MANY.CUSTOMER_ADDRESS cascade\n"
     ]
    },
    {
     "name": "stdout",
     "output_type": "stream",
     "text": [
      "13:17:38.945 WARN  o.h.e.jdbc.spi.SqlExceptionHelper - SQL Warning Code: 0, SQLState: 00000\n"
     ]
    },
    {
     "name": "stdout",
     "output_type": "stream",
     "text": [
      "13:17:38.945 WARN  o.h.e.jdbc.spi.SqlExceptionHelper - schema \"ex_many_to_many\" does not exist, skipping\n"
     ]
    },
    {
     "name": "stdout",
     "output_type": "stream",
     "text": [
      "13:17:38.945 DEBUG org.hibernate.SQL - alter table if exists EX_ONE_TO_MANY_A.LINE drop constraint if exists FKtiwu942eblywp71x5p8agmhm9\n"
     ]
    },
    {
     "name": "stdout",
     "output_type": "stream",
     "text": [
      "13:17:38.946 WARN  o.h.e.jdbc.spi.SqlExceptionHelper - SQL Warning Code: 0, SQLState: 00000\n"
     ]
    },
    {
     "name": "stdout",
     "output_type": "stream",
     "text": [
      "13:17:38.946 WARN  o.h.e.jdbc.spi.SqlExceptionHelper - relation \"line\" does not exist, skipping\n"
     ]
    },
    {
     "name": "stdout",
     "output_type": "stream",
     "text": [
      "13:17:38.946 DEBUG org.hibernate.SQL - drop table if exists EX_ONE_TO_MANY_A.EORDER cascade\n"
     ]
    },
    {
     "name": "stdout",
     "output_type": "stream",
     "text": [
      "13:17:38.946 WARN  o.h.e.jdbc.spi.SqlExceptionHelper - SQL Warning Code: 0, SQLState: 00000\n"
     ]
    },
    {
     "name": "stdout",
     "output_type": "stream",
     "text": [
      "13:17:38.946 WARN  o.h.e.jdbc.spi.SqlExceptionHelper - schema \"ex_one_to_many_a\" does not exist, skipping\n"
     ]
    },
    {
     "name": "stdout",
     "output_type": "stream",
     "text": [
      "13:17:38.946 DEBUG org.hibernate.SQL - drop table if exists EX_ONE_TO_MANY_A.LINE cascade\n"
     ]
    },
    {
     "name": "stdout",
     "output_type": "stream",
     "text": [
      "13:17:38.946 WARN  o.h.e.jdbc.spi.SqlExceptionHelper - SQL Warning Code: 0, SQLState: 00000\n"
     ]
    },
    {
     "name": "stdout",
     "output_type": "stream",
     "text": [
      "13:17:38.946 WARN  o.h.e.jdbc.spi.SqlExceptionHelper - schema \"ex_one_to_many_a\" does not exist, skipping\n"
     ]
    },
    {
     "name": "stdout",
     "output_type": "stream",
     "text": [
      "13:17:38.946 DEBUG org.hibernate.SQL - alter table if exists EX_ONE_TO_MANY_B.LINE drop constraint if exists FKk9141l2uxmt4wtydt7dxfcgm3\n"
     ]
    },
    {
     "name": "stdout",
     "output_type": "stream",
     "text": [
      "13:17:38.946 WARN  o.h.e.jdbc.spi.SqlExceptionHelper - SQL Warning Code: 0, SQLState: 00000\n"
     ]
    },
    {
     "name": "stdout",
     "output_type": "stream",
     "text": [
      "13:17:38.946 WARN  o.h.e.jdbc.spi.SqlExceptionHelper - relation \"line\" does not exist, skipping\n"
     ]
    },
    {
     "name": "stdout",
     "output_type": "stream",
     "text": [
      "13:17:38.946 DEBUG org.hibernate.SQL - drop table if exists EX_ONE_TO_MANY_B.EORDER cascade\n"
     ]
    },
    {
     "name": "stdout",
     "output_type": "stream",
     "text": [
      "13:17:38.947 WARN  o.h.e.jdbc.spi.SqlExceptionHelper - SQL Warning Code: 0, SQLState: 00000\n"
     ]
    },
    {
     "name": "stdout",
     "output_type": "stream",
     "text": [
      "13:17:38.947 WARN  o.h.e.jdbc.spi.SqlExceptionHelper - schema \"ex_one_to_many_b\" does not exist, skipping\n"
     ]
    },
    {
     "name": "stdout",
     "output_type": "stream",
     "text": [
      "13:17:38.947 DEBUG org.hibernate.SQL - drop table if exists EX_ONE_TO_MANY_B.LINE cascade\n"
     ]
    },
    {
     "name": "stdout",
     "output_type": "stream",
     "text": [
      "13:17:38.947 WARN  o.h.e.jdbc.spi.SqlExceptionHelper - SQL Warning Code: 0, SQLState: 00000\n"
     ]
    },
    {
     "name": "stdout",
     "output_type": "stream",
     "text": [
      "13:17:38.947 WARN  o.h.e.jdbc.spi.SqlExceptionHelper - schema \"ex_one_to_many_b\" does not exist, skipping\n"
     ]
    },
    {
     "name": "stdout",
     "output_type": "stream",
     "text": [
      "13:17:38.947 DEBUG org.hibernate.SQL - drop table if exists EX_SIMPLE.CUSTOMER cascade\n"
     ]
    },
    {
     "name": "stdout",
     "output_type": "stream",
     "text": [
      "13:17:38.948 DEBUG org.hibernate.SQL - drop table if exists EX_UUID.CUSTOMER cascade\n"
     ]
    },
    {
     "name": "stdout",
     "output_type": "stream",
     "text": [
      "13:17:38.949 DEBUG org.hibernate.SQL - drop table if exists CUSTOMER cascade\n"
     ]
    },
    {
     "name": "stdout",
     "output_type": "stream",
     "text": [
      "13:17:38.950 DEBUG org.hibernate.SQL - drop table if exists CUSTOMER_BASE cascade\n"
     ]
    },
    {
     "name": "stdout",
     "output_type": "stream",
     "text": [
      "13:17:38.951 DEBUG org.hibernate.SQL - drop table if exists CUSTOMER_BIS cascade\n"
     ]
    },
    {
     "name": "stdout",
     "output_type": "stream",
     "text": [
      "13:17:38.952 DEBUG org.hibernate.SQL - drop sequence if exists ADDRESS_SEQ\n"
     ]
    },
    {
     "name": "stdout",
     "output_type": "stream",
     "text": [
      "13:17:38.952 DEBUG org.hibernate.SQL - drop sequence if exists CUSTOMER_BASE_SEQ\n"
     ]
    },
    {
     "name": "stdout",
     "output_type": "stream",
     "text": [
      "13:17:38.953 DEBUG org.hibernate.SQL - drop sequence if exists CUSTOMER_BIS_SEQ\n"
     ]
    },
    {
     "name": "stdout",
     "output_type": "stream",
     "text": [
      "13:17:38.954 DEBUG org.hibernate.SQL - drop sequence if exists CUSTOMER_SEQ\n"
     ]
    },
    {
     "name": "stdout",
     "output_type": "stream",
     "text": [
      "13:17:38.954 DEBUG org.hibernate.SQL - drop sequence if exists CUSTOMER_SEQUENCE\n"
     ]
    },
    {
     "name": "stdout",
     "output_type": "stream",
     "text": [
      "13:17:38.955 DEBUG org.hibernate.SQL - drop sequence if exists EORDER_SEQ\n"
     ]
    },
    {
     "name": "stdout",
     "output_type": "stream",
     "text": [
      "13:17:38.955 DEBUG org.hibernate.SQL - drop sequence if exists LINE_SEQ\n"
     ]
    },
    {
     "name": "stdout",
     "output_type": "stream",
     "text": [
      "13:17:38.955 DEBUG org.hibernate.SQL - drop sequence if exists PERSON_SEQ\n"
     ]
    },
    {
     "name": "stdout",
     "output_type": "stream",
     "text": [
      "13:17:38.958 DEBUG org.hibernate.SQL - CREATE SCHEMA IF NOT EXISTS EX_SIMPLE\n"
     ]
    },
    {
     "name": "stdout",
     "output_type": "stream",
     "text": [
      "13:17:38.959 WARN  o.h.e.jdbc.spi.SqlExceptionHelper - SQL Warning Code: 0, SQLState: 42P06\n"
     ]
    },
    {
     "name": "stdout",
     "output_type": "stream",
     "text": [
      "13:17:38.959 WARN  o.h.e.jdbc.spi.SqlExceptionHelper - schema \"ex_simple\" already exists, skipping\n"
     ]
    },
    {
     "name": "stdout",
     "output_type": "stream",
     "text": [
      "13:17:38.959 DEBUG org.hibernate.SQL - CREATE SCHEMA IF NOT EXISTS EX_ENTITY\n"
     ]
    },
    {
     "name": "stdout",
     "output_type": "stream",
     "text": [
      "13:17:38.959 DEBUG org.hibernate.SQL - CREATE SCHEMA IF NOT EXISTS EX_MANY_TO_MANY\n"
     ]
    },
    {
     "name": "stdout",
     "output_type": "stream",
     "text": [
      "13:17:38.960 DEBUG org.hibernate.SQL - CREATE SCHEMA IF NOT EXISTS EX_ONE_TO_MANY_A\n"
     ]
    },
    {
     "name": "stdout",
     "output_type": "stream",
     "text": [
      "13:17:38.960 DEBUG org.hibernate.SQL - CREATE SCHEMA IF NOT EXISTS EX_ONE_TO_MANY_B\n"
     ]
    },
    {
     "name": "stdout",
     "output_type": "stream",
     "text": [
      "13:17:38.960 DEBUG org.hibernate.SQL - CREATE SCHEMA IF NOT EXISTS EX_BIOGRAPHY\n"
     ]
    },
    {
     "name": "stdout",
     "output_type": "stream",
     "text": [
      "13:17:38.961 DEBUG org.hibernate.SQL - CREATE SCHEMA IF NOT EXISTS EX_HOOK\n"
     ]
    },
    {
     "name": "stdout",
     "output_type": "stream",
     "text": [
      "13:17:38.961 DEBUG org.hibernate.SQL - CREATE SCHEMA IF NOT EXISTS EX_UUID\n"
     ]
    },
    {
     "name": "stdout",
     "output_type": "stream",
     "text": [
      "13:17:38.961 WARN  o.h.e.jdbc.spi.SqlExceptionHelper - SQL Warning Code: 0, SQLState: 42P06\n"
     ]
    },
    {
     "name": "stdout",
     "output_type": "stream",
     "text": [
      "13:17:38.961 WARN  o.h.e.jdbc.spi.SqlExceptionHelper - schema \"ex_uuid\" already exists, skipping\n"
     ]
    },
    {
     "name": "stdout",
     "output_type": "stream",
     "text": [
      "13:17:38.961 DEBUG org.hibernate.SQL - CREATE SCHEMA IF NOT EXISTS EX_HERITAGE1\n"
     ]
    },
    {
     "name": "stdout",
     "output_type": "stream",
     "text": [
      "13:17:38.961 DEBUG org.hibernate.SQL - CREATE SCHEMA IF NOT EXISTS EX_HERITAGE2\n"
     ]
    },
    {
     "name": "stdout",
     "output_type": "stream",
     "text": [
      "13:17:38.962 DEBUG org.hibernate.SQL - CREATE SCHEMA IF NOT EXISTS EX_HERITAGE3\n"
     ]
    },
    {
     "name": "stdout",
     "output_type": "stream",
     "text": [
      "13:17:38.963 DEBUG org.hibernate.SQL - CREATE SCHEMA IF NOT EXISTS EX_EMBEDDED_ID\n"
     ]
    },
    {
     "name": "stdout",
     "output_type": "stream",
     "text": [
      "13:17:38.967 DEBUG org.hibernate.SQL - CREATE SCHEMA IF NOT EXISTS EX_IDCLASS\n"
     ]
    },
    {
     "name": "stdout",
     "output_type": "stream",
     "text": [
      "13:17:38.969 DEBUG org.hibernate.SQL - CREATE SCHEMA IF NOT EXISTS EX_IDSEQ\n"
     ]
    },
    {
     "name": "stdout",
     "output_type": "stream",
     "text": [
      "13:17:38.969 WARN  o.h.e.jdbc.spi.SqlExceptionHelper - SQL Warning Code: 0, SQLState: 42P06\n"
     ]
    },
    {
     "name": "stdout",
     "output_type": "stream",
     "text": [
      "13:17:38.970 WARN  o.h.e.jdbc.spi.SqlExceptionHelper - schema \"ex_idseq\" already exists, skipping\n"
     ]
    },
    {
     "name": "stdout",
     "output_type": "stream",
     "text": [
      "13:17:38.970 DEBUG org.hibernate.SQL - CREATE SCHEMA IF NOT EXISTS EX_IDTABLE\n"
     ]
    },
    {
     "name": "stdout",
     "output_type": "stream",
     "text": [
      "13:17:38.970 WARN  o.h.e.jdbc.spi.SqlExceptionHelper - SQL Warning Code: 0, SQLState: 42P06\n"
     ]
    },
    {
     "name": "stdout",
     "output_type": "stream",
     "text": [
      "13:17:38.970 WARN  o.h.e.jdbc.spi.SqlExceptionHelper - schema \"ex_idtable\" already exists, skipping\n"
     ]
    },
    {
     "name": "stdout",
     "output_type": "stream",
     "text": [
      "13:17:38.982 DEBUG org.hibernate.SQL - create table ex_biography.CUSTOMER (id bigint not null, name varchar(50) not null, BIO_BRIEF varchar(255), BIO_EXTENDED oid, primary key (id))\n"
     ]
    },
    {
     "name": "stdout",
     "output_type": "stream",
     "text": [
      "13:17:38.990 DEBUG org.hibernate.SQL - create table EX_EMBEDDED_ID.EMPLOYE (rankInDepartment integer not null, department varchar(255) not null, name varchar(255), primary key (rankInDepartment, department))\n"
     ]
    },
    {
     "name": "stdout",
     "output_type": "stream",
     "text": [
      "13:17:38.995 DEBUG org.hibernate.SQL - create table EX_HERITAGE1.Person (salary float(53), status smallint check (status between 0 and 1), id bigint not null, DTYPE varchar(31) not null, name varchar(255), primary key (id))\n"
     ]
    },
    {
     "name": "stdout",
     "output_type": "stream",
     "text": [
      "13:17:38.998 DEBUG org.hibernate.SQL - create table EX_HERITAGE2.PERSON (id bigint not null, name varchar(255), primary key (id))\n"
     ]
    },
    {
     "name": "stdout",
     "output_type": "stream",
     "text": [
      "13:17:38.999 DEBUG org.hibernate.SQL - create table EX_HERITAGE2.STUDENT (status smallint not null check (status between 0 and 1), id bigint not null, primary key (id))\n"
     ]
    },
    {
     "name": "stdout",
     "output_type": "stream",
     "text": [
      "13:17:39.001 DEBUG org.hibernate.SQL - create table EX_HERITAGE2.TEACHER (salary float(53) not null, id bigint not null, primary key (id))\n"
     ]
    },
    {
     "name": "stdout",
     "output_type": "stream",
     "text": [
      "13:17:39.003 DEBUG org.hibernate.SQL - create table EX_HERITAGE3.PERSON (id bigint not null, name varchar(255), primary key (id))\n"
     ]
    },
    {
     "name": "stdout",
     "output_type": "stream",
     "text": [
      "13:17:39.005 DEBUG org.hibernate.SQL - create table EX_HERITAGE3.STUDENT (status smallint not null check (status between 0 and 1), id bigint not null, name varchar(255), primary key (id))\n"
     ]
    },
    {
     "name": "stdout",
     "output_type": "stream",
     "text": [
      "13:17:39.007 DEBUG org.hibernate.SQL - create table EX_HERITAGE3.TEACHER (salary float(53) not null, id bigint not null, name varchar(255), primary key (id))\n"
     ]
    },
    {
     "name": "stdout",
     "output_type": "stream",
     "text": [
      "13:17:39.009 DEBUG org.hibernate.SQL - create table EX_HOOK.CUSTOMER (id bigint not null, name varchar(255), primary key (id))\n"
     ]
    },
    {
     "name": "stdout",
     "output_type": "stream",
     "text": [
      "13:17:39.011 DEBUG org.hibernate.SQL - create table EX_IDCLASS.EMPLOYE (rankInDepartment integer not null, department varchar(255) not null, name varchar(255), primary key (rankInDepartment, department))\n"
     ]
    },
    {
     "name": "stdout",
     "output_type": "stream",
     "text": [
      "13:17:39.013 DEBUG org.hibernate.SQL - create table EX_IDSEQ.CUSTOMER (id bigint not null, name varchar(255), primary key (id))\n"
     ]
    },
    {
     "name": "stdout",
     "output_type": "stream",
     "text": [
      "13:17:39.015 DEBUG org.hibernate.SQL - create table EX_IDTABLE.CUSTOMER (id bigint not null, name varchar(255), primary key (id))\n"
     ]
    },
    {
     "name": "stdout",
     "output_type": "stream",
     "text": [
      "13:17:39.017 DEBUG org.hibernate.SQL - create table EX_IDTABLE.ID_GENERATOR_TABLE (next_val bigint, sequence_name varchar(255) not null, primary key (sequence_name))\n"
     ]
    },
    {
     "name": "stdout",
     "output_type": "stream",
     "text": [
      "13:17:39.021 DEBUG org.hibernate.SQL - insert into EX_IDTABLE.ID_GENERATOR_TABLE(sequence_name, next_val) values ('CUSTOMER',0)\n"
     ]
    },
    {
     "name": "stdout",
     "output_type": "stream",
     "text": [
      "13:17:39.022 DEBUG org.hibernate.SQL - create table EX_MANY_TO_MANY.ADDRESS (id bigint not null, addressDetail varchar(255), primary key (id))\n"
     ]
    },
    {
     "name": "stdout",
     "output_type": "stream",
     "text": [
      "13:17:39.024 DEBUG org.hibernate.SQL - create table EX_MANY_TO_MANY.CUSTOMER (id bigint not null, name varchar(255), primary key (id))\n"
     ]
    },
    {
     "name": "stdout",
     "output_type": "stream",
     "text": [
      "13:17:39.025 DEBUG org.hibernate.SQL - create table EX_MANY_TO_MANY.CUSTOMER_ADDRESS (occupants_id bigint not null, places_id bigint not null, primary key (occupants_id, places_id))\n"
     ]
    },
    {
     "name": "stdout",
     "output_type": "stream",
     "text": [
      "13:17:39.027 DEBUG org.hibernate.SQL - create table EX_ONE_TO_MANY_A.EORDER (date timestamp(6), id bigint not null, primary key (id))\n"
     ]
    },
    {
     "name": "stdout",
     "output_type": "stream",
     "text": [
      "13:17:39.028 DEBUG org.hibernate.SQL - create table EX_ONE_TO_MANY_A.LINE (price float(53) not null, id bigint not null, order_id bigint not null, product varchar(255), primary key (id))\n"
     ]
    },
    {
     "name": "stdout",
     "output_type": "stream",
     "text": [
      "13:17:39.029 DEBUG org.hibernate.SQL - create table EX_ONE_TO_MANY_B.EORDER (date timestamp(6) not null, id bigint not null, primary key (id))\n"
     ]
    },
    {
     "name": "stdout",
     "output_type": "stream",
     "text": [
      "13:17:39.031 DEBUG org.hibernate.SQL - create table EX_ONE_TO_MANY_B.LINE (price float(53), OrderOneToManyB_id bigint not null, product varchar(255))\n"
     ]
    },
    {
     "name": "stdout",
     "output_type": "stream",
     "text": [
      "13:17:39.032 DEBUG org.hibernate.SQL - create table EX_SIMPLE.CUSTOMER (id bigint not null, email varchar(255), name varchar(255), primary key (id))\n"
     ]
    },
    {
     "name": "stdout",
     "output_type": "stream",
     "text": [
      "13:17:39.034 DEBUG org.hibernate.SQL - create table EX_UUID.CUSTOMER (uuid uuid not null, name varchar(50) not null, primary key (uuid))\n"
     ]
    },
    {
     "name": "stdout",
     "output_type": "stream",
     "text": [
      "13:17:39.037 DEBUG org.hibernate.SQL - create sequence ADDRESS_SEQ start with 1 increment by 50\n"
     ]
    },
    {
     "name": "stdout",
     "output_type": "stream",
     "text": [
      "13:17:39.038 DEBUG org.hibernate.SQL - create sequence CUSTOMER_BASE_SEQ start with 1 increment by 50\n"
     ]
    },
    {
     "name": "stdout",
     "output_type": "stream",
     "text": [
      "13:17:39.038 DEBUG org.hibernate.SQL - create sequence CUSTOMER_BIS_SEQ start with 1 increment by 50\n"
     ]
    },
    {
     "name": "stdout",
     "output_type": "stream",
     "text": [
      "13:17:39.039 DEBUG org.hibernate.SQL - create sequence CUSTOMER_SEQ start with 1 increment by 50\n"
     ]
    },
    {
     "name": "stdout",
     "output_type": "stream",
     "text": [
      "13:17:39.039 DEBUG org.hibernate.SQL - create sequence CUSTOMER_SEQUENCE start with 1 increment by 10\n"
     ]
    },
    {
     "name": "stdout",
     "output_type": "stream",
     "text": [
      "13:17:39.040 DEBUG org.hibernate.SQL - create sequence EORDER_SEQ start with 1 increment by 50\n"
     ]
    },
    {
     "name": "stdout",
     "output_type": "stream",
     "text": [
      "13:17:39.040 DEBUG org.hibernate.SQL - create sequence LINE_SEQ start with 1 increment by 50\n"
     ]
    },
    {
     "name": "stdout",
     "output_type": "stream",
     "text": [
      "13:17:39.041 DEBUG org.hibernate.SQL - create sequence PERSON_SEQ start with 1 increment by 50\n"
     ]
    },
    {
     "name": "stdout",
     "output_type": "stream",
     "text": [
      "13:17:39.041 DEBUG org.hibernate.SQL - create table CUSTOMER (birthDate date, status smallint check (status between 0 and 1), version integer, ID bigint not null, creationDate timestamp(6), email varchar(50) not null unique, firstname varchar(50) not null, lastname varchar(50) not null, photo oid, primary key (ID))\n"
     ]
    },
    {
     "name": "stdout",
     "output_type": "stream",
     "text": [
      "13:17:39.044 DEBUG org.hibernate.SQL - create table CUSTOMER_BASE (id bigint not null, name varchar(50) not null, primary key (id))\n"
     ]
    },
    {
     "name": "stdout",
     "output_type": "stream",
     "text": [
      "13:17:39.045 DEBUG org.hibernate.SQL - create table CUSTOMER_BIS (id bigint not null, name varchar(255), primary key (id))\n"
     ]
    },
    {
     "name": "stdout",
     "output_type": "stream",
     "text": [
      "13:17:39.047 DEBUG org.hibernate.SQL - alter table if exists EX_HERITAGE2.STUDENT add constraint FKbhp183l5ur0m48nhfqjtodwt7 foreign key (id) references EX_HERITAGE2.PERSON\n"
     ]
    },
    {
     "name": "stdout",
     "output_type": "stream",
     "text": [
      "13:17:39.048 DEBUG org.hibernate.SQL - alter table if exists EX_HERITAGE2.TEACHER add constraint FKeiv4tioua2f6b81bwlpje2d8t foreign key (id) references EX_HERITAGE2.PERSON\n"
     ]
    },
    {
     "name": "stdout",
     "output_type": "stream",
     "text": [
      "13:17:39.049 DEBUG org.hibernate.SQL - alter table if exists EX_MANY_TO_MANY.CUSTOMER_ADDRESS add constraint FKcl977kx0vb0mvbvk84kl4lqcv foreign key (places_id) references EX_MANY_TO_MANY.ADDRESS\n"
     ]
    },
    {
     "name": "stdout",
     "output_type": "stream",
     "text": [
      "13:17:39.050 DEBUG org.hibernate.SQL - alter table if exists EX_MANY_TO_MANY.CUSTOMER_ADDRESS add constraint FKhqfehryv5ajn01d0bnvn7b55e foreign key (occupants_id) references EX_MANY_TO_MANY.CUSTOMER\n"
     ]
    },
    {
     "name": "stdout",
     "output_type": "stream",
     "text": [
      "13:17:39.051 DEBUG org.hibernate.SQL - alter table if exists EX_ONE_TO_MANY_A.LINE add constraint FKtiwu942eblywp71x5p8agmhm9 foreign key (order_id) references EX_ONE_TO_MANY_A.EORDER\n"
     ]
    },
    {
     "name": "stdout",
     "output_type": "stream",
     "text": [
      "13:17:39.051 DEBUG org.hibernate.SQL - alter table if exists EX_ONE_TO_MANY_B.LINE add constraint FKk9141l2uxmt4wtydt7dxfcgm3 foreign key (OrderOneToManyB_id) references EX_ONE_TO_MANY_B.EORDER\n"
     ]
    },
    {
     "name": "stdout",
     "output_type": "stream",
     "text": [
      "13:17:39.099 DEBUG org.hibernate.SQL - select tbl.next_val from EX_IDTABLE.ID_GENERATOR_TABLE tbl where tbl.sequence_name=? for update of tbl\n"
     ]
    },
    {
     "name": "stdout",
     "output_type": "stream",
     "text": [
      "13:17:39.101 DEBUG org.hibernate.SQL - update EX_IDTABLE.ID_GENERATOR_TABLE set next_val=?  where next_val=? and sequence_name=?\n"
     ]
    },
    {
     "name": "stdout",
     "output_type": "stream",
     "text": [
      "13:17:39.114 DEBUG org.hibernate.SQL - select tbl.next_val from EX_IDTABLE.ID_GENERATOR_TABLE tbl where tbl.sequence_name=? for update of tbl\n"
     ]
    },
    {
     "name": "stdout",
     "output_type": "stream",
     "text": [
      "13:17:39.115 DEBUG org.hibernate.SQL - update EX_IDTABLE.ID_GENERATOR_TABLE set next_val=?  where next_val=? and sequence_name=?\n"
     ]
    },
    {
     "name": "stdout",
     "output_type": "stream",
     "text": [
      "13:17:39.123 DEBUG org.hibernate.SQL - insert into EX_IDTABLE.CUSTOMER (name,id) values (?,?)\n"
     ]
    },
    {
     "name": "stdout",
     "output_type": "stream",
     "text": [
      "13:17:39.125 DEBUG org.hibernate.SQL - insert into EX_IDTABLE.CUSTOMER (name,id) values (?,?)\n"
     ]
    },
    {
     "name": "stdout",
     "output_type": "stream",
     "text": [
      "13:17:39.150 DEBUG org.hibernate.SQL - select c1_0.id,c1_0.name from EX_IDTABLE.CUSTOMER c1_0 where c1_0.id=?\n"
     ]
    },
    {
     "name": "stdout",
     "output_type": "stream",
     "text": [
      "13:17:39.154 DEBUG org.hibernate.SQL - select c1_0.id,c1_0.name from EX_IDTABLE.CUSTOMER c1_0 where c1_0.id=?\n"
     ]
    },
    {
     "name": "stdout",
     "output_type": "stream",
     "text": [
      "13:17:39.168 DEBUG org.hibernate.SQL - select nextval('CUSTOMER_SEQ')\n"
     ]
    },
    {
     "name": "stdout",
     "output_type": "stream",
     "text": [
      "13:17:39.170 DEBUG org.hibernate.SQL - insert into ex_biography.CUSTOMER (BIO_BRIEF,BIO_EXTENDED,name,id) values (?,?,?,?)\n"
     ]
    },
    {
     "name": "stdout",
     "output_type": "stream",
     "text": [
      "13:17:39.183 DEBUG org.hibernate.SQL - select c1_0.id,c1_0.BIO_BRIEF,c1_0.BIO_EXTENDED,c1_0.name from ex_biography.CUSTOMER c1_0 where c1_0.id=?\n"
     ]
    },
    {
     "name": "stdout",
     "output_type": "stream",
     "text": [
      "13:17:39.195 DEBUG org.hibernate.SQL - insert into EX_IDCLASS.EMPLOYE (name,department,rankInDepartment) values (?,?,?)\n"
     ]
    },
    {
     "name": "stdout",
     "output_type": "stream",
     "text": [
      "13:17:39.197 DEBUG org.hibernate.SQL - insert into EX_IDCLASS.EMPLOYE (name,department,rankInDepartment) values (?,?,?)\n"
     ]
    },
    {
     "name": "stdout",
     "output_type": "stream",
     "text": [
      "13:17:39.199 DEBUG org.hibernate.SQL - select e1_0.department,e1_0.rankInDepartment,e1_0.name from EX_IDCLASS.EMPLOYE e1_0 where (e1_0.department,e1_0.rankInDepartment) in ((?,?))\n"
     ]
    },
    {
     "name": "stdout",
     "output_type": "stream",
     "text": [
      "13:17:39.344 DEBUG org.hibernate.SQL - insert into EX_UUID.CUSTOMER (name,uuid) values (?,?)\n"
     ]
    },
    {
     "name": "stdout",
     "output_type": "stream",
     "text": [
      "13:17:39.345 DEBUG org.hibernate.SQL - insert into EX_UUID.CUSTOMER (name,uuid) values (?,?)\n"
     ]
    },
    {
     "name": "stdout",
     "output_type": "stream",
     "text": [
      "13:17:39.346 DEBUG org.hibernate.SQL - insert into EX_UUID.CUSTOMER (name,uuid) values (?,?)\n"
     ]
    },
    {
     "name": "stdout",
     "output_type": "stream",
     "text": [
      "13:17:39.346 DEBUG org.hibernate.SQL - insert into EX_UUID.CUSTOMER (name,uuid) values (?,?)\n"
     ]
    },
    {
     "name": "stdout",
     "output_type": "stream",
     "text": [
      "13:17:39.346 DEBUG org.hibernate.SQL - insert into EX_UUID.CUSTOMER (name,uuid) values (?,?)\n"
     ]
    },
    {
     "name": "stdout",
     "output_type": "stream",
     "text": [
      "13:17:39.545 DEBUG org.hibernate.SQL - select c1_0.uuid,c1_0.name from EX_UUID.CUSTOMER c1_0 fetch first ? rows only\n"
     ]
    },
    {
     "name": "stdout",
     "output_type": "stream",
     "text": [
      "13:17:39.546 INFO  f.u.bruno.demos.jpa.hello.UUIDTest - Customer(uuid=e06dbaed-7596-434a-adb2-b8a3ec68e4c7, name=Thaddeus Von)\n"
     ]
    },
    {
     "name": "stdout",
     "output_type": "stream",
     "text": [
      "13:17:39.547 INFO  f.u.bruno.demos.jpa.hello.UUIDTest - Customer(uuid=c79efde0-86c8-41af-932e-544962f57de2, name=Marquis Goldner)\n"
     ]
    },
    {
     "name": "stdout",
     "output_type": "stream",
     "text": [
      "13:17:39.547 INFO  f.u.bruno.demos.jpa.hello.UUIDTest - Customer(uuid=4aa33c16-f568-4ef3-b0c2-d0650877a723, name=Leandro Denesik)\n"
     ]
    },
    {
     "name": "stdout",
     "output_type": "stream",
     "text": [
      "13:17:39.547 INFO  f.u.bruno.demos.jpa.hello.UUIDTest - Customer(uuid=06ff2152-cd3e-4327-94cd-306bdf9d14b6, name=Kristian Bartoletti)\n"
     ]
    },
    {
     "name": "stdout",
     "output_type": "stream",
     "text": [
      "13:17:39.547 INFO  f.u.bruno.demos.jpa.hello.UUIDTest - Customer(uuid=b44c7dd9-0e98-4e93-8b83-29a532fd4ee6, name=Federico Mraz)\n"
     ]
    },
    {
     "name": "stdout",
     "output_type": "stream",
     "text": [
      "13:17:39.550 DEBUG org.hibernate.SQL - select nextval('PERSON_SEQ')\n"
     ]
    },
    {
     "name": "stdout",
     "output_type": "stream",
     "text": [
      "13:17:39.551 DEBUG org.hibernate.SQL - select nextval('PERSON_SEQ')\n"
     ]
    },
    {
     "name": "stdout",
     "output_type": "stream",
     "text": [
      "13:17:39.552 DEBUG org.hibernate.SQL - insert into EX_HERITAGE1.Person (name,status,DTYPE,id) values (?,?,'Student',?)\n"
     ]
    },
    {
     "name": "stdout",
     "output_type": "stream",
     "text": [
      "13:17:39.553 DEBUG org.hibernate.SQL - insert into EX_HERITAGE1.Person (name,salary,DTYPE,id) values (?,?,'Teacher',?)\n"
     ]
    },
    {
     "name": "stdout",
     "output_type": "stream",
     "text": [
      "13:17:39.554 DEBUG org.hibernate.SQL - select s1_0.id,s1_0.name,s1_0.status from EX_HERITAGE1.Person s1_0 where s1_0.DTYPE='Student' and s1_0.id=?\n"
     ]
    },
    {
     "name": "stdout",
     "output_type": "stream",
     "text": [
      "13:17:39.554 DEBUG org.hibernate.SQL - select t1_0.id,t1_0.name,t1_0.salary from EX_HERITAGE1.Person t1_0 where t1_0.DTYPE='Teacher' and t1_0.id=?\n"
     ]
    },
    {
     "name": "stdout",
     "output_type": "stream",
     "text": [
      "13:17:39.558 DEBUG org.hibernate.SQL - select nextval('EORDER_SEQ')\n"
     ]
    },
    {
     "name": "stdout",
     "output_type": "stream",
     "text": [
      "13:17:39.564 DEBUG org.hibernate.SQL - select nextval('EORDER_SEQ')\n"
     ]
    },
    {
     "name": "stdout",
     "output_type": "stream",
     "text": [
      "13:17:39.567 DEBUG org.hibernate.SQL - insert into EX_ONE_TO_MANY_B.EORDER (date,id) values (?,?)\n"
     ]
    },
    {
     "name": "stdout",
     "output_type": "stream",
     "text": [
      "13:17:39.568 DEBUG org.hibernate.SQL - insert into EX_ONE_TO_MANY_B.EORDER (date,id) values (?,?)\n"
     ]
    },
    {
     "name": "stdout",
     "output_type": "stream",
     "text": [
      "13:17:39.571 DEBUG org.hibernate.SQL - insert into EX_ONE_TO_MANY_B.LINE (OrderOneToManyB_id,price,product) values (?,?,?)\n"
     ]
    },
    {
     "name": "stdout",
     "output_type": "stream",
     "text": [
      "13:17:39.571 DEBUG org.hibernate.SQL - insert into EX_ONE_TO_MANY_B.LINE (OrderOneToManyB_id,price,product) values (?,?,?)\n"
     ]
    },
    {
     "name": "stdout",
     "output_type": "stream",
     "text": [
      "13:17:39.572 DEBUG org.hibernate.SQL - insert into EX_ONE_TO_MANY_B.LINE (OrderOneToManyB_id,price,product) values (?,?,?)\n"
     ]
    },
    {
     "name": "stdout",
     "output_type": "stream",
     "text": [
      "13:17:39.573 DEBUG org.hibernate.SQL - insert into EX_ONE_TO_MANY_B.LINE (OrderOneToManyB_id,price,product) values (?,?,?)\n"
     ]
    },
    {
     "name": "stdout",
     "output_type": "stream",
     "text": [
      "13:17:39.575 DEBUG org.hibernate.SQL - select o1_0.id,o1_0.date from EX_ONE_TO_MANY_B.EORDER o1_0 where o1_0.id=?\n"
     ]
    },
    {
     "name": "stdout",
     "output_type": "stream",
     "text": [
      "13:17:39.579 DEBUG org.hibernate.SQL - select nextval('CUSTOMER_SEQUENCE')\n"
     ]
    },
    {
     "name": "stdout",
     "output_type": "stream",
     "text": [
      "13:17:39.580 DEBUG org.hibernate.SQL - select nextval('CUSTOMER_SEQUENCE')\n"
     ]
    },
    {
     "name": "stdout",
     "output_type": "stream",
     "text": [
      "13:17:39.581 DEBUG org.hibernate.SQL - insert into EX_IDSEQ.CUSTOMER (name,id) values (?,?)\n"
     ]
    },
    {
     "name": "stdout",
     "output_type": "stream",
     "text": [
      "13:17:39.581 DEBUG org.hibernate.SQL - insert into EX_IDSEQ.CUSTOMER (name,id) values (?,?)\n"
     ]
    },
    {
     "name": "stdout",
     "output_type": "stream",
     "text": [
      "13:17:39.583 DEBUG org.hibernate.SQL - select c1_0.id,c1_0.name from EX_IDSEQ.CUSTOMER c1_0 where c1_0.id=?\n"
     ]
    },
    {
     "name": "stdout",
     "output_type": "stream",
     "text": [
      "13:17:39.584 DEBUG org.hibernate.SQL - select c1_0.id,c1_0.name from EX_IDSEQ.CUSTOMER c1_0 where c1_0.id=?\n"
     ]
    },
    {
     "name": "stdout",
     "output_type": "stream",
     "text": [
      "13:17:39.588 DEBUG org.hibernate.SQL - insert into EX_EMBEDDED_ID.EMPLOYE (name,department,rankInDepartment) values (?,?,?)\n"
     ]
    },
    {
     "name": "stdout",
     "output_type": "stream",
     "text": [
      "13:17:39.591 DEBUG org.hibernate.SQL - insert into EX_EMBEDDED_ID.EMPLOYE (name,department,rankInDepartment) values (?,?,?)\n"
     ]
    },
    {
     "name": "stdout",
     "output_type": "stream",
     "text": [
      "13:17:39.591 DEBUG org.hibernate.SQL - select e1_0.department,e1_0.rankInDepartment,e1_0.name from EX_EMBEDDED_ID.EMPLOYE e1_0 where (e1_0.department,e1_0.rankInDepartment) in ((?,?))\n"
     ]
    },
    {
     "name": "stdout",
     "output_type": "stream",
     "text": [
      "13:17:39.613 DEBUG org.hibernate.SQL - select nextval('ADDRESS_SEQ')\n"
     ]
    },
    {
     "name": "stdout",
     "output_type": "stream",
     "text": [
      "13:17:39.614 DEBUG org.hibernate.SQL - select nextval('ADDRESS_SEQ')\n"
     ]
    },
    {
     "name": "stdout",
     "output_type": "stream",
     "text": [
      "13:17:39.618 DEBUG org.hibernate.SQL - insert into EX_MANY_TO_MANY.ADDRESS (addressDetail,id) values (?,?)\n"
     ]
    },
    {
     "name": "stdout",
     "output_type": "stream",
     "text": [
      "13:17:39.619 DEBUG org.hibernate.SQL - insert into EX_MANY_TO_MANY.ADDRESS (addressDetail,id) values (?,?)\n"
     ]
    },
    {
     "name": "stdout",
     "output_type": "stream",
     "text": [
      "13:17:39.619 DEBUG org.hibernate.SQL - insert into EX_MANY_TO_MANY.ADDRESS (addressDetail,id) values (?,?)\n"
     ]
    },
    {
     "name": "stdout",
     "output_type": "stream",
     "text": [
      "13:17:39.620 DEBUG org.hibernate.SQL - select a1_0.id,a1_0.addressDetail from EX_MANY_TO_MANY.ADDRESS a1_0 order by random() fetch first ? rows only\n"
     ]
    },
    {
     "name": "stdout",
     "output_type": "stream",
     "text": [
      "13:17:39.621 DEBUG org.hibernate.SQL - select nextval('CUSTOMER_SEQ')\n"
     ]
    },
    {
     "name": "stdout",
     "output_type": "stream",
     "text": [
      "13:17:39.625 DEBUG org.hibernate.SQL - select a1_0.id,a1_0.addressDetail from EX_MANY_TO_MANY.ADDRESS a1_0 order by random() fetch first ? rows only\n"
     ]
    },
    {
     "name": "stdout",
     "output_type": "stream",
     "text": [
      "13:17:39.626 DEBUG org.hibernate.SQL - select a1_0.id,a1_0.addressDetail from EX_MANY_TO_MANY.ADDRESS a1_0 order by random() fetch first ? rows only\n"
     ]
    },
    {
     "name": "stdout",
     "output_type": "stream",
     "text": [
      "13:17:39.627 DEBUG org.hibernate.SQL - select a1_0.id,a1_0.addressDetail from EX_MANY_TO_MANY.ADDRESS a1_0 order by random() fetch first ? rows only\n"
     ]
    },
    {
     "name": "stdout",
     "output_type": "stream",
     "text": [
      "13:17:39.628 DEBUG org.hibernate.SQL - select a1_0.id,a1_0.addressDetail from EX_MANY_TO_MANY.ADDRESS a1_0 order by random() fetch first ? rows only\n"
     ]
    },
    {
     "name": "stdout",
     "output_type": "stream",
     "text": [
      "13:17:39.629 DEBUG org.hibernate.SQL - select a1_0.id,a1_0.addressDetail from EX_MANY_TO_MANY.ADDRESS a1_0 order by random() fetch first ? rows only\n"
     ]
    },
    {
     "name": "stdout",
     "output_type": "stream",
     "text": [
      "13:17:39.630 DEBUG org.hibernate.SQL - select a1_0.id,a1_0.addressDetail from EX_MANY_TO_MANY.ADDRESS a1_0 order by random() fetch first ? rows only\n"
     ]
    },
    {
     "name": "stdout",
     "output_type": "stream",
     "text": [
      "13:17:39.631 DEBUG org.hibernate.SQL - select a1_0.id,a1_0.addressDetail from EX_MANY_TO_MANY.ADDRESS a1_0 order by random() fetch first ? rows only\n"
     ]
    },
    {
     "name": "stdout",
     "output_type": "stream",
     "text": [
      "13:17:39.632 DEBUG org.hibernate.SQL - select a1_0.id,a1_0.addressDetail from EX_MANY_TO_MANY.ADDRESS a1_0 order by random() fetch first ? rows only\n"
     ]
    },
    {
     "name": "stdout",
     "output_type": "stream",
     "text": [
      "13:17:39.633 DEBUG org.hibernate.SQL - select a1_0.id,a1_0.addressDetail from EX_MANY_TO_MANY.ADDRESS a1_0 order by random() fetch first ? rows only\n"
     ]
    },
    {
     "name": "stdout",
     "output_type": "stream",
     "text": [
      "13:17:39.634 DEBUG org.hibernate.SQL - insert into EX_MANY_TO_MANY.CUSTOMER (name,id) values (?,?)\n"
     ]
    },
    {
     "name": "stdout",
     "output_type": "stream",
     "text": [
      "13:17:39.634 DEBUG org.hibernate.SQL - insert into EX_MANY_TO_MANY.CUSTOMER (name,id) values (?,?)\n"
     ]
    },
    {
     "name": "stdout",
     "output_type": "stream",
     "text": [
      "13:17:39.635 DEBUG org.hibernate.SQL - insert into EX_MANY_TO_MANY.CUSTOMER (name,id) values (?,?)\n"
     ]
    },
    {
     "name": "stdout",
     "output_type": "stream",
     "text": [
      "13:17:39.635 DEBUG org.hibernate.SQL - insert into EX_MANY_TO_MANY.CUSTOMER (name,id) values (?,?)\n"
     ]
    },
    {
     "name": "stdout",
     "output_type": "stream",
     "text": [
      "13:17:39.635 DEBUG org.hibernate.SQL - insert into EX_MANY_TO_MANY.CUSTOMER (name,id) values (?,?)\n"
     ]
    },
    {
     "name": "stdout",
     "output_type": "stream",
     "text": [
      "13:17:39.635 DEBUG org.hibernate.SQL - insert into EX_MANY_TO_MANY.CUSTOMER (name,id) values (?,?)\n"
     ]
    },
    {
     "name": "stdout",
     "output_type": "stream",
     "text": [
      "13:17:39.636 DEBUG org.hibernate.SQL - insert into EX_MANY_TO_MANY.CUSTOMER (name,id) values (?,?)\n"
     ]
    },
    {
     "name": "stdout",
     "output_type": "stream",
     "text": [
      "13:17:39.636 DEBUG org.hibernate.SQL - insert into EX_MANY_TO_MANY.CUSTOMER (name,id) values (?,?)\n"
     ]
    },
    {
     "name": "stdout",
     "output_type": "stream",
     "text": [
      "13:17:39.636 DEBUG org.hibernate.SQL - insert into EX_MANY_TO_MANY.CUSTOMER (name,id) values (?,?)\n"
     ]
    },
    {
     "name": "stdout",
     "output_type": "stream",
     "text": [
      "13:17:39.637 DEBUG org.hibernate.SQL - insert into EX_MANY_TO_MANY.CUSTOMER (name,id) values (?,?)\n"
     ]
    },
    {
     "name": "stdout",
     "output_type": "stream",
     "text": [
      "13:17:39.638 DEBUG org.hibernate.SQL - insert into EX_MANY_TO_MANY.CUSTOMER_ADDRESS (occupants_id,places_id) values (?,?)\n"
     ]
    },
    {
     "name": "stdout",
     "output_type": "stream",
     "text": [
      "13:17:39.638 DEBUG org.hibernate.SQL - insert into EX_MANY_TO_MANY.CUSTOMER_ADDRESS (occupants_id,places_id) values (?,?)\n"
     ]
    },
    {
     "name": "stdout",
     "output_type": "stream",
     "text": [
      "13:17:39.639 DEBUG org.hibernate.SQL - insert into EX_MANY_TO_MANY.CUSTOMER_ADDRESS (occupants_id,places_id) values (?,?)\n"
     ]
    },
    {
     "name": "stdout",
     "output_type": "stream",
     "text": [
      "13:17:39.639 DEBUG org.hibernate.SQL - insert into EX_MANY_TO_MANY.CUSTOMER_ADDRESS (occupants_id,places_id) values (?,?)\n"
     ]
    },
    {
     "name": "stdout",
     "output_type": "stream",
     "text": [
      "13:17:39.639 DEBUG org.hibernate.SQL - insert into EX_MANY_TO_MANY.CUSTOMER_ADDRESS (occupants_id,places_id) values (?,?)\n"
     ]
    },
    {
     "name": "stdout",
     "output_type": "stream",
     "text": [
      "13:17:39.639 DEBUG org.hibernate.SQL - insert into EX_MANY_TO_MANY.CUSTOMER_ADDRESS (occupants_id,places_id) values (?,?)\n"
     ]
    },
    {
     "name": "stdout",
     "output_type": "stream",
     "text": [
      "13:17:39.640 DEBUG org.hibernate.SQL - insert into EX_MANY_TO_MANY.CUSTOMER_ADDRESS (occupants_id,places_id) values (?,?)\n"
     ]
    },
    {
     "name": "stdout",
     "output_type": "stream",
     "text": [
      "13:17:39.640 DEBUG org.hibernate.SQL - insert into EX_MANY_TO_MANY.CUSTOMER_ADDRESS (occupants_id,places_id) values (?,?)\n"
     ]
    },
    {
     "name": "stdout",
     "output_type": "stream",
     "text": [
      "13:17:39.640 DEBUG org.hibernate.SQL - insert into EX_MANY_TO_MANY.CUSTOMER_ADDRESS (occupants_id,places_id) values (?,?)\n"
     ]
    },
    {
     "name": "stdout",
     "output_type": "stream",
     "text": [
      "13:17:39.640 DEBUG org.hibernate.SQL - insert into EX_MANY_TO_MANY.CUSTOMER_ADDRESS (occupants_id,places_id) values (?,?)\n"
     ]
    },
    {
     "name": "stdout",
     "output_type": "stream",
     "text": [
      "13:17:39.641 DEBUG org.hibernate.SQL - insert into EX_MANY_TO_MANY.CUSTOMER_ADDRESS (occupants_id,places_id) values (?,?)\n"
     ]
    },
    {
     "name": "stdout",
     "output_type": "stream",
     "text": [
      "13:17:39.641 DEBUG org.hibernate.SQL - insert into EX_MANY_TO_MANY.CUSTOMER_ADDRESS (occupants_id,places_id) values (?,?)\n"
     ]
    },
    {
     "name": "stdout",
     "output_type": "stream",
     "text": [
      "13:17:39.641 DEBUG org.hibernate.SQL - insert into EX_MANY_TO_MANY.CUSTOMER_ADDRESS (occupants_id,places_id) values (?,?)\n"
     ]
    },
    {
     "name": "stdout",
     "output_type": "stream",
     "text": [
      "13:17:39.641 DEBUG org.hibernate.SQL - insert into EX_MANY_TO_MANY.CUSTOMER_ADDRESS (occupants_id,places_id) values (?,?)\n"
     ]
    },
    {
     "name": "stdout",
     "output_type": "stream",
     "text": [
      "13:17:39.642 DEBUG org.hibernate.SQL - insert into EX_MANY_TO_MANY.CUSTOMER_ADDRESS (occupants_id,places_id) values (?,?)\n"
     ]
    },
    {
     "name": "stdout",
     "output_type": "stream",
     "text": [
      "13:17:39.642 DEBUG org.hibernate.SQL - insert into EX_MANY_TO_MANY.CUSTOMER_ADDRESS (occupants_id,places_id) values (?,?)\n"
     ]
    },
    {
     "name": "stdout",
     "output_type": "stream",
     "text": [
      "13:17:39.642 DEBUG org.hibernate.SQL - insert into EX_MANY_TO_MANY.CUSTOMER_ADDRESS (occupants_id,places_id) values (?,?)\n"
     ]
    },
    {
     "name": "stdout",
     "output_type": "stream",
     "text": [
      "13:17:39.643 DEBUG org.hibernate.SQL - insert into EX_MANY_TO_MANY.CUSTOMER_ADDRESS (occupants_id,places_id) values (?,?)\n"
     ]
    },
    {
     "name": "stdout",
     "output_type": "stream",
     "text": [
      "13:17:39.643 DEBUG org.hibernate.SQL - insert into EX_MANY_TO_MANY.CUSTOMER_ADDRESS (occupants_id,places_id) values (?,?)\n"
     ]
    },
    {
     "name": "stdout",
     "output_type": "stream",
     "text": [
      "13:17:39.643 DEBUG org.hibernate.SQL - insert into EX_MANY_TO_MANY.CUSTOMER_ADDRESS (occupants_id,places_id) values (?,?)\n"
     ]
    },
    {
     "name": "stdout",
     "output_type": "stream",
     "text": [
      "13:17:39.643 DEBUG org.hibernate.SQL - insert into EX_MANY_TO_MANY.CUSTOMER_ADDRESS (occupants_id,places_id) values (?,?)\n"
     ]
    },
    {
     "name": "stdout",
     "output_type": "stream",
     "text": [
      "13:17:39.643 DEBUG org.hibernate.SQL - insert into EX_MANY_TO_MANY.CUSTOMER_ADDRESS (occupants_id,places_id) values (?,?)\n"
     ]
    },
    {
     "name": "stdout",
     "output_type": "stream",
     "text": [
      "13:17:39.644 DEBUG org.hibernate.SQL - insert into EX_MANY_TO_MANY.CUSTOMER_ADDRESS (occupants_id,places_id) values (?,?)\n"
     ]
    },
    {
     "name": "stdout",
     "output_type": "stream",
     "text": [
      "13:17:39.644 DEBUG org.hibernate.SQL - insert into EX_MANY_TO_MANY.CUSTOMER_ADDRESS (occupants_id,places_id) values (?,?)\n"
     ]
    },
    {
     "name": "stdout",
     "output_type": "stream",
     "text": [
      "13:17:39.647 DEBUG org.hibernate.SQL - select nextval('PERSON_SEQ')\n"
     ]
    },
    {
     "name": "stdout",
     "output_type": "stream",
     "text": [
      "13:17:39.649 DEBUG org.hibernate.SQL - insert into EX_HERITAGE2.PERSON (name,id) values (?,?)\n"
     ]
    },
    {
     "name": "stdout",
     "output_type": "stream",
     "text": [
      "13:17:39.650 DEBUG org.hibernate.SQL - insert into EX_HERITAGE2.STUDENT (status,id) values (?,?)\n"
     ]
    },
    {
     "name": "stdout",
     "output_type": "stream",
     "text": [
      "13:17:39.650 DEBUG org.hibernate.SQL - insert into EX_HERITAGE2.PERSON (name,id) values (?,?)\n"
     ]
    },
    {
     "name": "stdout",
     "output_type": "stream",
     "text": [
      "13:17:39.651 DEBUG org.hibernate.SQL - insert into EX_HERITAGE2.TEACHER (salary,id) values (?,?)\n"
     ]
    },
    {
     "name": "stdout",
     "output_type": "stream",
     "text": [
      "13:17:39.651 DEBUG org.hibernate.SQL - select s1_0.id,s1_1.name,s1_0.status from EX_HERITAGE2.STUDENT s1_0 join EX_HERITAGE2.PERSON s1_1 on s1_0.id=s1_1.id where s1_0.id=?\n"
     ]
    },
    {
     "name": "stdout",
     "output_type": "stream",
     "text": [
      "13:17:39.652 DEBUG org.hibernate.SQL - select t1_0.id,t1_1.name,t1_0.salary from EX_HERITAGE2.TEACHER t1_0 join EX_HERITAGE2.PERSON t1_1 on t1_0.id=t1_1.id where t1_0.id=?\n"
     ]
    },
    {
     "name": "stdout",
     "output_type": "stream",
     "text": [
      "13:17:39.656 INFO  f.u.b.d.jpa.hello.HookListenerTest - CustomerWithListener(id=0, name=Peter)\n"
     ]
    },
    {
     "name": "stdout",
     "output_type": "stream",
     "text": [
      "13:17:39.656 DEBUG org.hibernate.SQL - select nextval('CUSTOMER_BIS_SEQ')\n"
     ]
    },
    {
     "name": "stdout",
     "output_type": "stream",
     "text": [
      "13:17:39.657 INFO  f.u.b.d.j.h.s.e.EntityMonitorListener - -->about to change in DB: CustomerWithListener(id=1, name=Peter)\n"
     ]
    },
    {
     "name": "stdout",
     "output_type": "stream",
     "text": [
      "13:17:39.657 INFO  f.u.b.d.j.h.s.e.EntityMonitorListener - -->about to change in DB: CustomerWithListener(id=1, name=Pierre)\n"
     ]
    },
    {
     "name": "stdout",
     "output_type": "stream",
     "text": [
      "13:17:39.658 DEBUG org.hibernate.SQL - insert into CUSTOMER_BIS (name,id) values (?,?)\n"
     ]
    },
    {
     "name": "stdout",
     "output_type": "stream",
     "text": [
      "13:17:39.660 INFO  f.u.b.d.j.h.s.e.EntityMonitorListener - --> changed in DBCustomerWithListener(id=1, name=Pierre)\n"
     ]
    },
    {
     "name": "stdout",
     "output_type": "stream",
     "text": [
      "13:17:39.661 DEBUG org.hibernate.SQL - update CUSTOMER_BIS set name=? where id=?\n"
     ]
    },
    {
     "name": "stdout",
     "output_type": "stream",
     "text": [
      "13:17:39.663 INFO  f.u.b.d.j.h.s.e.EntityMonitorListener - --> changed in DBCustomerWithListener(id=1, name=Pierre)\n"
     ]
    },
    {
     "name": "stdout",
     "output_type": "stream",
     "text": [
      "13:17:39.663 DEBUG org.hibernate.SQL - select cwl1_0.id,cwl1_0.name from CUSTOMER_BIS cwl1_0 where cwl1_0.id=?\n"
     ]
    },
    {
     "name": "stdout",
     "output_type": "stream",
     "text": [
      "13:17:39.663 INFO  f.u.b.d.j.h.s.e.EntityMonitorListener - --> loaded from DB: CustomerWithListener(id=1, name=Pierre)\n"
     ]
    },
    {
     "name": "stdout",
     "output_type": "stream",
     "text": [
      "13:17:39.667 INFO  f.u.b.d.j.h.s.e.EntityMonitorListener - -->about to change in DB: CustomerWithListener(id=1, name=Pierre)\n"
     ]
    },
    {
     "name": "stdout",
     "output_type": "stream",
     "text": [
      "13:17:39.669 DEBUG org.hibernate.SQL - delete from CUSTOMER_BIS where id=?\n"
     ]
    },
    {
     "name": "stdout",
     "output_type": "stream",
     "text": [
      "13:17:39.672 INFO  f.u.b.d.j.h.s.e.EntityMonitorListener - --> changed in DBCustomerWithListener(id=1, name=Pierre)\n"
     ]
    },
    {
     "name": "stdout",
     "output_type": "stream",
     "text": [
      "13:17:39.674 DEBUG org.hibernate.SQL - select nextval('EORDER_SEQ')\n"
     ]
    },
    {
     "name": "stdout",
     "output_type": "stream",
     "text": [
      "13:17:39.675 DEBUG org.hibernate.SQL - select nextval('LINE_SEQ')\n"
     ]
    },
    {
     "name": "stdout",
     "output_type": "stream",
     "text": [
      "13:17:39.676 DEBUG org.hibernate.SQL - select nextval('LINE_SEQ')\n"
     ]
    },
    {
     "name": "stdout",
     "output_type": "stream",
     "text": [
      "13:17:39.677 DEBUG org.hibernate.SQL - insert into EX_ONE_TO_MANY_A.EORDER (date,id) values (?,?)\n"
     ]
    },
    {
     "name": "stdout",
     "output_type": "stream",
     "text": [
      "13:17:39.678 DEBUG org.hibernate.SQL - insert into EX_ONE_TO_MANY_A.LINE (order_id,price,product,id) values (?,?,?,?)\n"
     ]
    },
    {
     "name": "stdout",
     "output_type": "stream",
     "text": [
      "13:17:39.678 DEBUG org.hibernate.SQL - insert into EX_ONE_TO_MANY_A.LINE (order_id,price,product,id) values (?,?,?,?)\n"
     ]
    },
    {
     "name": "stdout",
     "output_type": "stream",
     "text": [
      "13:17:39.679 DEBUG org.hibernate.SQL - insert into EX_ONE_TO_MANY_A.LINE (order_id,price,product,id) values (?,?,?,?)\n"
     ]
    },
    {
     "name": "stdout",
     "output_type": "stream",
     "text": [
      "13:17:39.679 DEBUG org.hibernate.SQL - insert into EX_ONE_TO_MANY_A.EORDER (date,id) values (?,?)\n"
     ]
    },
    {
     "name": "stdout",
     "output_type": "stream",
     "text": [
      "13:17:39.679 DEBUG org.hibernate.SQL - insert into EX_ONE_TO_MANY_A.LINE (order_id,price,product,id) values (?,?,?,?)\n"
     ]
    },
    {
     "name": "stdout",
     "output_type": "stream",
     "text": [
      "13:17:39.679 DEBUG org.hibernate.SQL - insert into EX_ONE_TO_MANY_A.LINE (order_id,price,product,id) values (?,?,?,?)\n"
     ]
    },
    {
     "name": "stdout",
     "output_type": "stream",
     "text": [
      "13:17:39.681 DEBUG org.hibernate.SQL - select o1_0.id,o1_0.date from EX_ONE_TO_MANY_A.EORDER o1_0\n"
     ]
    },
    {
     "name": "stdout",
     "output_type": "stream",
     "text": [
      "13:17:39.758 DEBUG org.hibernate.SQL - select count(*)>0 from CUSTOMER c1_0 where c1_0.email=?\n"
     ]
    },
    {
     "name": "stdout",
     "output_type": "stream",
     "text": [
      "13:17:39.759 DEBUG org.hibernate.SQL - select nextval('CUSTOMER_SEQ')\n"
     ]
    },
    {
     "name": "stdout",
     "output_type": "stream",
     "text": [
      "13:17:39.760 DEBUG org.hibernate.SQL - insert into CUSTOMER (birthDate,creationDate,email,firstname,lastname,photo,status,version,ID) values (?,?,?,?,?,?,?,?,?)\n"
     ]
    },
    {
     "name": "stdout",
     "output_type": "stream",
     "text": [
      "13:17:39.761 DEBUG org.hibernate.SQL - select count(*)>0 from CUSTOMER c1_0 where c1_0.email=?\n"
     ]
    },
    {
     "name": "stdout",
     "output_type": "stream",
     "text": [
      "13:17:39.762 DEBUG org.hibernate.SQL - insert into CUSTOMER (birthDate,creationDate,email,firstname,lastname,photo,status,version,ID) values (?,?,?,?,?,?,?,?,?)\n"
     ]
    },
    {
     "name": "stdout",
     "output_type": "stream",
     "text": [
      "13:17:39.762 DEBUG org.hibernate.SQL - select count(*)>0 from CUSTOMER c1_0 where c1_0.email=?\n"
     ]
    },
    {
     "name": "stdout",
     "output_type": "stream",
     "text": [
      "13:17:39.763 DEBUG org.hibernate.SQL - insert into CUSTOMER (birthDate,creationDate,email,firstname,lastname,photo,status,version,ID) values (?,?,?,?,?,?,?,?,?)\n"
     ]
    },
    {
     "name": "stdout",
     "output_type": "stream",
     "text": [
      "13:17:39.764 DEBUG org.hibernate.SQL - select count(*)>0 from CUSTOMER c1_0 where c1_0.email=?\n"
     ]
    },
    {
     "name": "stdout",
     "output_type": "stream",
     "text": [
      "13:17:39.764 DEBUG org.hibernate.SQL - insert into CUSTOMER (birthDate,creationDate,email,firstname,lastname,photo,status,version,ID) values (?,?,?,?,?,?,?,?,?)\n"
     ]
    },
    {
     "name": "stdout",
     "output_type": "stream",
     "text": [
      "13:17:39.765 DEBUG org.hibernate.SQL - select count(*)>0 from CUSTOMER c1_0 where c1_0.email=?\n"
     ]
    },
    {
     "name": "stdout",
     "output_type": "stream",
     "text": [
      "13:17:39.767 DEBUG org.hibernate.SQL - insert into CUSTOMER (birthDate,creationDate,email,firstname,lastname,photo,status,version,ID) values (?,?,?,?,?,?,?,?,?)\n"
     ]
    },
    {
     "name": "stdout",
     "output_type": "stream",
     "text": [
      "13:17:39.768 DEBUG org.hibernate.SQL - select count(*)>0 from CUSTOMER c1_0 where c1_0.email=?\n"
     ]
    },
    {
     "name": "stdout",
     "output_type": "stream",
     "text": [
      "13:17:39.770 DEBUG org.hibernate.SQL - insert into CUSTOMER (birthDate,creationDate,email,firstname,lastname,photo,status,version,ID) values (?,?,?,?,?,?,?,?,?)\n"
     ]
    },
    {
     "name": "stdout",
     "output_type": "stream",
     "text": [
      "13:17:39.770 DEBUG org.hibernate.SQL - select count(*)>0 from CUSTOMER c1_0 where c1_0.email=?\n"
     ]
    },
    {
     "name": "stdout",
     "output_type": "stream",
     "text": [
      "13:17:39.771 DEBUG org.hibernate.SQL - insert into CUSTOMER (birthDate,creationDate,email,firstname,lastname,photo,status,version,ID) values (?,?,?,?,?,?,?,?,?)\n"
     ]
    },
    {
     "name": "stdout",
     "output_type": "stream",
     "text": [
      "13:17:39.771 DEBUG org.hibernate.SQL - select count(*)>0 from CUSTOMER c1_0 where c1_0.email=?\n"
     ]
    },
    {
     "name": "stdout",
     "output_type": "stream",
     "text": [
      "13:17:39.772 DEBUG org.hibernate.SQL - insert into CUSTOMER (birthDate,creationDate,email,firstname,lastname,photo,status,version,ID) values (?,?,?,?,?,?,?,?,?)\n"
     ]
    },
    {
     "name": "stdout",
     "output_type": "stream",
     "text": [
      "13:17:39.772 DEBUG org.hibernate.SQL - select count(*)>0 from CUSTOMER c1_0 where c1_0.email=?\n"
     ]
    },
    {
     "name": "stdout",
     "output_type": "stream",
     "text": [
      "13:17:39.774 DEBUG org.hibernate.SQL - insert into CUSTOMER (birthDate,creationDate,email,firstname,lastname,photo,status,version,ID) values (?,?,?,?,?,?,?,?,?)\n"
     ]
    },
    {
     "name": "stdout",
     "output_type": "stream",
     "text": [
      "13:17:39.774 DEBUG org.hibernate.SQL - select count(*)>0 from CUSTOMER c1_0 where c1_0.email=?\n"
     ]
    },
    {
     "name": "stdout",
     "output_type": "stream",
     "text": [
      "13:17:39.775 DEBUG org.hibernate.SQL - insert into CUSTOMER (birthDate,creationDate,email,firstname,lastname,photo,status,version,ID) values (?,?,?,?,?,?,?,?,?)\n"
     ]
    },
    {
     "name": "stdout",
     "output_type": "stream",
     "text": [
      "13:17:39.775 DEBUG org.hibernate.SQL - select count(*)>0 from CUSTOMER c1_0 where c1_0.email=?\n"
     ]
    },
    {
     "name": "stdout",
     "output_type": "stream",
     "text": [
      "13:17:39.776 DEBUG org.hibernate.SQL - insert into CUSTOMER (birthDate,creationDate,email,firstname,lastname,photo,status,version,ID) values (?,?,?,?,?,?,?,?,?)\n"
     ]
    },
    {
     "name": "stdout",
     "output_type": "stream",
     "text": [
      "13:17:39.777 DEBUG org.hibernate.SQL - select count(*)>0 from CUSTOMER c1_0 where c1_0.email=?\n"
     ]
    },
    {
     "name": "stdout",
     "output_type": "stream",
     "text": [
      "13:17:39.778 DEBUG org.hibernate.SQL - insert into CUSTOMER (birthDate,creationDate,email,firstname,lastname,photo,status,version,ID) values (?,?,?,?,?,?,?,?,?)\n"
     ]
    },
    {
     "name": "stdout",
     "output_type": "stream",
     "text": [
      "13:17:39.778 DEBUG org.hibernate.SQL - select count(*)>0 from CUSTOMER c1_0 where c1_0.email=?\n"
     ]
    },
    {
     "name": "stdout",
     "output_type": "stream",
     "text": [
      "13:17:39.779 DEBUG org.hibernate.SQL - insert into CUSTOMER (birthDate,creationDate,email,firstname,lastname,photo,status,version,ID) values (?,?,?,?,?,?,?,?,?)\n"
     ]
    },
    {
     "name": "stdout",
     "output_type": "stream",
     "text": [
      "13:17:39.779 DEBUG org.hibernate.SQL - select count(*)>0 from CUSTOMER c1_0 where c1_0.email=?\n"
     ]
    },
    {
     "name": "stdout",
     "output_type": "stream",
     "text": [
      "13:17:39.780 DEBUG org.hibernate.SQL - insert into CUSTOMER (birthDate,creationDate,email,firstname,lastname,photo,status,version,ID) values (?,?,?,?,?,?,?,?,?)\n"
     ]
    },
    {
     "name": "stdout",
     "output_type": "stream",
     "text": [
      "13:17:39.781 DEBUG org.hibernate.SQL - select count(*)>0 from CUSTOMER c1_0 where c1_0.email=?\n"
     ]
    },
    {
     "name": "stdout",
     "output_type": "stream",
     "text": [
      "13:17:39.782 DEBUG org.hibernate.SQL - insert into CUSTOMER (birthDate,creationDate,email,firstname,lastname,photo,status,version,ID) values (?,?,?,?,?,?,?,?,?)\n"
     ]
    },
    {
     "name": "stdout",
     "output_type": "stream",
     "text": [
      "13:17:39.782 DEBUG org.hibernate.SQL - select count(*)>0 from CUSTOMER c1_0 where c1_0.email=?\n"
     ]
    },
    {
     "name": "stdout",
     "output_type": "stream",
     "text": [
      "13:17:39.783 DEBUG org.hibernate.SQL - insert into CUSTOMER (birthDate,creationDate,email,firstname,lastname,photo,status,version,ID) values (?,?,?,?,?,?,?,?,?)\n"
     ]
    },
    {
     "name": "stdout",
     "output_type": "stream",
     "text": [
      "13:17:39.783 DEBUG org.hibernate.SQL - select count(*)>0 from CUSTOMER c1_0 where c1_0.email=?\n"
     ]
    },
    {
     "name": "stdout",
     "output_type": "stream",
     "text": [
      "13:17:39.784 DEBUG org.hibernate.SQL - insert into CUSTOMER (birthDate,creationDate,email,firstname,lastname,photo,status,version,ID) values (?,?,?,?,?,?,?,?,?)\n"
     ]
    },
    {
     "name": "stdout",
     "output_type": "stream",
     "text": [
      "13:17:39.784 DEBUG org.hibernate.SQL - select count(*)>0 from CUSTOMER c1_0 where c1_0.email=?\n"
     ]
    },
    {
     "name": "stdout",
     "output_type": "stream",
     "text": [
      "13:17:39.785 DEBUG org.hibernate.SQL - insert into CUSTOMER (birthDate,creationDate,email,firstname,lastname,photo,status,version,ID) values (?,?,?,?,?,?,?,?,?)\n"
     ]
    },
    {
     "name": "stdout",
     "output_type": "stream",
     "text": [
      "13:17:39.785 DEBUG org.hibernate.SQL - select count(*)>0 from CUSTOMER c1_0 where c1_0.email=?\n"
     ]
    },
    {
     "name": "stdout",
     "output_type": "stream",
     "text": [
      "13:17:39.786 DEBUG org.hibernate.SQL - insert into CUSTOMER (birthDate,creationDate,email,firstname,lastname,photo,status,version,ID) values (?,?,?,?,?,?,?,?,?)\n"
     ]
    },
    {
     "name": "stdout",
     "output_type": "stream",
     "text": [
      "13:17:39.787 DEBUG org.hibernate.SQL - select count(*)>0 from CUSTOMER c1_0 where c1_0.email=?\n"
     ]
    },
    {
     "name": "stdout",
     "output_type": "stream",
     "text": [
      "13:17:39.788 DEBUG org.hibernate.SQL - insert into CUSTOMER (birthDate,creationDate,email,firstname,lastname,photo,status,version,ID) values (?,?,?,?,?,?,?,?,?)\n"
     ]
    },
    {
     "name": "stdout",
     "output_type": "stream",
     "text": [
      "13:17:39.788 DEBUG org.hibernate.SQL - select count(*)>0 from CUSTOMER c1_0 where c1_0.email=?\n"
     ]
    },
    {
     "name": "stdout",
     "output_type": "stream",
     "text": [
      "13:17:39.789 DEBUG org.hibernate.SQL - insert into CUSTOMER (birthDate,creationDate,email,firstname,lastname,photo,status,version,ID) values (?,?,?,?,?,?,?,?,?)\n"
     ]
    },
    {
     "name": "stdout",
     "output_type": "stream",
     "text": [
      "13:17:39.789 DEBUG org.hibernate.SQL - select count(*)>0 from CUSTOMER c1_0 where c1_0.email=?\n"
     ]
    },
    {
     "name": "stdout",
     "output_type": "stream",
     "text": [
      "13:17:39.790 DEBUG org.hibernate.SQL - insert into CUSTOMER (birthDate,creationDate,email,firstname,lastname,photo,status,version,ID) values (?,?,?,?,?,?,?,?,?)\n"
     ]
    },
    {
     "name": "stdout",
     "output_type": "stream",
     "text": [
      "13:17:39.790 DEBUG org.hibernate.SQL - select count(*)>0 from CUSTOMER c1_0 where c1_0.email=?\n"
     ]
    },
    {
     "name": "stdout",
     "output_type": "stream",
     "text": [
      "13:17:39.791 DEBUG org.hibernate.SQL - insert into CUSTOMER (birthDate,creationDate,email,firstname,lastname,photo,status,version,ID) values (?,?,?,?,?,?,?,?,?)\n"
     ]
    },
    {
     "name": "stdout",
     "output_type": "stream",
     "text": [
      "13:17:39.791 DEBUG org.hibernate.SQL - select count(*)>0 from CUSTOMER c1_0 where c1_0.email=?\n"
     ]
    },
    {
     "name": "stdout",
     "output_type": "stream",
     "text": [
      "13:17:39.792 DEBUG org.hibernate.SQL - insert into CUSTOMER (birthDate,creationDate,email,firstname,lastname,photo,status,version,ID) values (?,?,?,?,?,?,?,?,?)\n"
     ]
    },
    {
     "name": "stdout",
     "output_type": "stream",
     "text": [
      "13:17:39.793 DEBUG org.hibernate.SQL - select count(*)>0 from CUSTOMER c1_0 where c1_0.email=?\n"
     ]
    },
    {
     "name": "stdout",
     "output_type": "stream",
     "text": [
      "13:17:39.793 DEBUG org.hibernate.SQL - insert into CUSTOMER (birthDate,creationDate,email,firstname,lastname,photo,status,version,ID) values (?,?,?,?,?,?,?,?,?)\n"
     ]
    },
    {
     "name": "stdout",
     "output_type": "stream",
     "text": [
      "13:17:39.794 DEBUG org.hibernate.SQL - select count(*)>0 from CUSTOMER c1_0 where c1_0.email=?\n"
     ]
    },
    {
     "name": "stdout",
     "output_type": "stream",
     "text": [
      "13:17:39.794 DEBUG org.hibernate.SQL - insert into CUSTOMER (birthDate,creationDate,email,firstname,lastname,photo,status,version,ID) values (?,?,?,?,?,?,?,?,?)\n"
     ]
    },
    {
     "name": "stdout",
     "output_type": "stream",
     "text": [
      "13:17:39.795 DEBUG org.hibernate.SQL - select count(*)>0 from CUSTOMER c1_0 where c1_0.email=?\n"
     ]
    },
    {
     "name": "stdout",
     "output_type": "stream",
     "text": [
      "13:17:39.795 DEBUG org.hibernate.SQL - insert into CUSTOMER (birthDate,creationDate,email,firstname,lastname,photo,status,version,ID) values (?,?,?,?,?,?,?,?,?)\n"
     ]
    },
    {
     "name": "stdout",
     "output_type": "stream",
     "text": [
      "13:17:39.796 DEBUG org.hibernate.SQL - select count(*)>0 from CUSTOMER c1_0 where c1_0.email=?\n"
     ]
    },
    {
     "name": "stdout",
     "output_type": "stream",
     "text": [
      "13:17:39.797 DEBUG org.hibernate.SQL - insert into CUSTOMER (birthDate,creationDate,email,firstname,lastname,photo,status,version,ID) values (?,?,?,?,?,?,?,?,?)\n"
     ]
    },
    {
     "name": "stdout",
     "output_type": "stream",
     "text": [
      "13:17:39.797 DEBUG org.hibernate.SQL - select count(*)>0 from CUSTOMER c1_0 where c1_0.email=?\n"
     ]
    },
    {
     "name": "stdout",
     "output_type": "stream",
     "text": [
      "13:17:39.798 DEBUG org.hibernate.SQL - insert into CUSTOMER (birthDate,creationDate,email,firstname,lastname,photo,status,version,ID) values (?,?,?,?,?,?,?,?,?)\n"
     ]
    },
    {
     "name": "stdout",
     "output_type": "stream",
     "text": [
      "13:17:39.798 DEBUG org.hibernate.SQL - select count(*)>0 from CUSTOMER c1_0 where c1_0.email=?\n"
     ]
    },
    {
     "name": "stdout",
     "output_type": "stream",
     "text": [
      "13:17:39.799 DEBUG org.hibernate.SQL - insert into CUSTOMER (birthDate,creationDate,email,firstname,lastname,photo,status,version,ID) values (?,?,?,?,?,?,?,?,?)\n"
     ]
    },
    {
     "name": "stdout",
     "output_type": "stream",
     "text": [
      "13:17:39.799 DEBUG org.hibernate.SQL - select count(*)>0 from CUSTOMER c1_0 where c1_0.email=?\n"
     ]
    },
    {
     "name": "stdout",
     "output_type": "stream",
     "text": [
      "13:17:39.801 DEBUG org.hibernate.SQL - insert into CUSTOMER (birthDate,creationDate,email,firstname,lastname,photo,status,version,ID) values (?,?,?,?,?,?,?,?,?)\n"
     ]
    },
    {
     "name": "stdout",
     "output_type": "stream",
     "text": [
      "13:17:39.802 DEBUG org.hibernate.SQL - select count(*)>0 from CUSTOMER c1_0 where c1_0.email=?\n"
     ]
    },
    {
     "name": "stdout",
     "output_type": "stream",
     "text": [
      "13:17:39.803 DEBUG org.hibernate.SQL - insert into CUSTOMER (birthDate,creationDate,email,firstname,lastname,photo,status,version,ID) values (?,?,?,?,?,?,?,?,?)\n"
     ]
    },
    {
     "name": "stdout",
     "output_type": "stream",
     "text": [
      "13:17:39.803 DEBUG org.hibernate.SQL - select count(*)>0 from CUSTOMER c1_0 where c1_0.email=?\n"
     ]
    },
    {
     "name": "stdout",
     "output_type": "stream",
     "text": [
      "13:17:39.804 DEBUG org.hibernate.SQL - insert into CUSTOMER (birthDate,creationDate,email,firstname,lastname,photo,status,version,ID) values (?,?,?,?,?,?,?,?,?)\n"
     ]
    },
    {
     "name": "stdout",
     "output_type": "stream",
     "text": [
      "13:17:39.805 DEBUG org.hibernate.SQL - select count(*)>0 from CUSTOMER c1_0 where c1_0.email=?\n"
     ]
    },
    {
     "name": "stdout",
     "output_type": "stream",
     "text": [
      "13:17:39.805 DEBUG org.hibernate.SQL - insert into CUSTOMER (birthDate,creationDate,email,firstname,lastname,photo,status,version,ID) values (?,?,?,?,?,?,?,?,?)\n"
     ]
    },
    {
     "name": "stdout",
     "output_type": "stream",
     "text": [
      "13:17:39.806 DEBUG org.hibernate.SQL - select count(*)>0 from CUSTOMER c1_0 where c1_0.email=?\n"
     ]
    },
    {
     "name": "stdout",
     "output_type": "stream",
     "text": [
      "13:17:39.806 DEBUG org.hibernate.SQL - insert into CUSTOMER (birthDate,creationDate,email,firstname,lastname,photo,status,version,ID) values (?,?,?,?,?,?,?,?,?)\n"
     ]
    },
    {
     "name": "stdout",
     "output_type": "stream",
     "text": [
      "13:17:39.807 DEBUG org.hibernate.SQL - select count(*)>0 from CUSTOMER c1_0 where c1_0.email=?\n"
     ]
    },
    {
     "name": "stdout",
     "output_type": "stream",
     "text": [
      "13:17:39.807 DEBUG org.hibernate.SQL - insert into CUSTOMER (birthDate,creationDate,email,firstname,lastname,photo,status,version,ID) values (?,?,?,?,?,?,?,?,?)\n"
     ]
    },
    {
     "name": "stdout",
     "output_type": "stream",
     "text": [
      "13:17:39.808 DEBUG org.hibernate.SQL - select count(*)>0 from CUSTOMER c1_0 where c1_0.email=?\n"
     ]
    },
    {
     "name": "stdout",
     "output_type": "stream",
     "text": [
      "13:17:39.808 DEBUG org.hibernate.SQL - insert into CUSTOMER (birthDate,creationDate,email,firstname,lastname,photo,status,version,ID) values (?,?,?,?,?,?,?,?,?)\n"
     ]
    },
    {
     "name": "stdout",
     "output_type": "stream",
     "text": [
      "13:17:39.808 DEBUG org.hibernate.SQL - select count(*)>0 from CUSTOMER c1_0 where c1_0.email=?\n"
     ]
    },
    {
     "name": "stdout",
     "output_type": "stream",
     "text": [
      "13:17:39.809 DEBUG org.hibernate.SQL - insert into CUSTOMER (birthDate,creationDate,email,firstname,lastname,photo,status,version,ID) values (?,?,?,?,?,?,?,?,?)\n"
     ]
    },
    {
     "name": "stdout",
     "output_type": "stream",
     "text": [
      "13:17:39.809 DEBUG org.hibernate.SQL - select count(*)>0 from CUSTOMER c1_0 where c1_0.email=?\n"
     ]
    },
    {
     "name": "stdout",
     "output_type": "stream",
     "text": [
      "13:17:39.810 DEBUG org.hibernate.SQL - insert into CUSTOMER (birthDate,creationDate,email,firstname,lastname,photo,status,version,ID) values (?,?,?,?,?,?,?,?,?)\n"
     ]
    },
    {
     "name": "stdout",
     "output_type": "stream",
     "text": [
      "13:17:39.810 DEBUG org.hibernate.SQL - select count(*)>0 from CUSTOMER c1_0 where c1_0.email=?\n"
     ]
    },
    {
     "name": "stdout",
     "output_type": "stream",
     "text": [
      "13:17:39.811 DEBUG org.hibernate.SQL - insert into CUSTOMER (birthDate,creationDate,email,firstname,lastname,photo,status,version,ID) values (?,?,?,?,?,?,?,?,?)\n"
     ]
    },
    {
     "name": "stdout",
     "output_type": "stream",
     "text": [
      "13:17:39.811 DEBUG org.hibernate.SQL - select count(*)>0 from CUSTOMER c1_0 where c1_0.email=?\n"
     ]
    },
    {
     "name": "stdout",
     "output_type": "stream",
     "text": [
      "13:17:39.812 DEBUG org.hibernate.SQL - insert into CUSTOMER (birthDate,creationDate,email,firstname,lastname,photo,status,version,ID) values (?,?,?,?,?,?,?,?,?)\n"
     ]
    },
    {
     "name": "stdout",
     "output_type": "stream",
     "text": [
      "13:17:39.812 DEBUG org.hibernate.SQL - select count(*)>0 from CUSTOMER c1_0 where c1_0.email=?\n"
     ]
    },
    {
     "name": "stdout",
     "output_type": "stream",
     "text": [
      "13:17:39.813 DEBUG org.hibernate.SQL - insert into CUSTOMER (birthDate,creationDate,email,firstname,lastname,photo,status,version,ID) values (?,?,?,?,?,?,?,?,?)\n"
     ]
    },
    {
     "name": "stdout",
     "output_type": "stream",
     "text": [
      "13:17:39.814 DEBUG org.hibernate.SQL - select count(*)>0 from CUSTOMER c1_0 where c1_0.email=?\n"
     ]
    },
    {
     "name": "stdout",
     "output_type": "stream",
     "text": [
      "13:17:39.814 DEBUG org.hibernate.SQL - insert into CUSTOMER (birthDate,creationDate,email,firstname,lastname,photo,status,version,ID) values (?,?,?,?,?,?,?,?,?)\n"
     ]
    },
    {
     "name": "stdout",
     "output_type": "stream",
     "text": [
      "13:17:39.814 DEBUG org.hibernate.SQL - select count(*)>0 from CUSTOMER c1_0 where c1_0.email=?\n"
     ]
    },
    {
     "name": "stdout",
     "output_type": "stream",
     "text": [
      "13:17:39.815 DEBUG org.hibernate.SQL - insert into CUSTOMER (birthDate,creationDate,email,firstname,lastname,photo,status,version,ID) values (?,?,?,?,?,?,?,?,?)\n"
     ]
    },
    {
     "name": "stdout",
     "output_type": "stream",
     "text": [
      "13:17:39.816 DEBUG org.hibernate.SQL - select count(*)>0 from CUSTOMER c1_0 where c1_0.email=?\n"
     ]
    },
    {
     "name": "stdout",
     "output_type": "stream",
     "text": [
      "13:17:39.816 DEBUG org.hibernate.SQL - insert into CUSTOMER (birthDate,creationDate,email,firstname,lastname,photo,status,version,ID) values (?,?,?,?,?,?,?,?,?)\n"
     ]
    },
    {
     "name": "stdout",
     "output_type": "stream",
     "text": [
      "13:17:39.817 DEBUG org.hibernate.SQL - select count(*)>0 from CUSTOMER c1_0 where c1_0.email=?\n"
     ]
    },
    {
     "name": "stdout",
     "output_type": "stream",
     "text": [
      "13:17:39.817 DEBUG org.hibernate.SQL - insert into CUSTOMER (birthDate,creationDate,email,firstname,lastname,photo,status,version,ID) values (?,?,?,?,?,?,?,?,?)\n"
     ]
    },
    {
     "name": "stdout",
     "output_type": "stream",
     "text": [
      "13:17:39.818 DEBUG org.hibernate.SQL - select count(*)>0 from CUSTOMER c1_0 where c1_0.email=?\n"
     ]
    },
    {
     "name": "stdout",
     "output_type": "stream",
     "text": [
      "13:17:39.818 DEBUG org.hibernate.SQL - insert into CUSTOMER (birthDate,creationDate,email,firstname,lastname,photo,status,version,ID) values (?,?,?,?,?,?,?,?,?)\n"
     ]
    },
    {
     "name": "stdout",
     "output_type": "stream",
     "text": [
      "13:17:39.819 DEBUG org.hibernate.SQL - select count(*)>0 from CUSTOMER c1_0 where c1_0.email=?\n"
     ]
    },
    {
     "name": "stdout",
     "output_type": "stream",
     "text": [
      "13:17:39.819 DEBUG org.hibernate.SQL - insert into CUSTOMER (birthDate,creationDate,email,firstname,lastname,photo,status,version,ID) values (?,?,?,?,?,?,?,?,?)\n"
     ]
    },
    {
     "name": "stdout",
     "output_type": "stream",
     "text": [
      "13:17:39.820 DEBUG org.hibernate.SQL - select count(*)>0 from CUSTOMER c1_0 where c1_0.email=?\n"
     ]
    },
    {
     "name": "stdout",
     "output_type": "stream",
     "text": [
      "13:17:39.820 DEBUG org.hibernate.SQL - insert into CUSTOMER (birthDate,creationDate,email,firstname,lastname,photo,status,version,ID) values (?,?,?,?,?,?,?,?,?)\n"
     ]
    },
    {
     "name": "stdout",
     "output_type": "stream",
     "text": [
      "13:17:39.821 DEBUG org.hibernate.SQL - select count(*)>0 from CUSTOMER c1_0 where c1_0.email=?\n"
     ]
    },
    {
     "name": "stdout",
     "output_type": "stream",
     "text": [
      "13:17:39.821 DEBUG org.hibernate.SQL - insert into CUSTOMER (birthDate,creationDate,email,firstname,lastname,photo,status,version,ID) values (?,?,?,?,?,?,?,?,?)\n"
     ]
    },
    {
     "name": "stdout",
     "output_type": "stream",
     "text": [
      "13:17:39.822 DEBUG org.hibernate.SQL - select count(*)>0 from CUSTOMER c1_0 where c1_0.email=?\n"
     ]
    },
    {
     "name": "stdout",
     "output_type": "stream",
     "text": [
      "13:17:39.822 DEBUG org.hibernate.SQL - select nextval('CUSTOMER_SEQ')\n"
     ]
    },
    {
     "name": "stdout",
     "output_type": "stream",
     "text": [
      "13:17:39.822 DEBUG org.hibernate.SQL - insert into CUSTOMER (birthDate,creationDate,email,firstname,lastname,photo,status,version,ID) values (?,?,?,?,?,?,?,?,?)\n"
     ]
    },
    {
     "name": "stdout",
     "output_type": "stream",
     "text": [
      "13:17:39.823 DEBUG org.hibernate.SQL - select count(*)>0 from CUSTOMER c1_0 where c1_0.email=?\n"
     ]
    },
    {
     "name": "stdout",
     "output_type": "stream",
     "text": [
      "13:17:39.824 DEBUG org.hibernate.SQL - insert into CUSTOMER (birthDate,creationDate,email,firstname,lastname,photo,status,version,ID) values (?,?,?,?,?,?,?,?,?)\n"
     ]
    },
    {
     "name": "stdout",
     "output_type": "stream",
     "text": [
      "13:17:39.824 DEBUG org.hibernate.SQL - select count(*)>0 from CUSTOMER c1_0 where c1_0.email=?\n"
     ]
    },
    {
     "name": "stdout",
     "output_type": "stream",
     "text": [
      "13:17:39.825 DEBUG org.hibernate.SQL - insert into CUSTOMER (birthDate,creationDate,email,firstname,lastname,photo,status,version,ID) values (?,?,?,?,?,?,?,?,?)\n"
     ]
    },
    {
     "name": "stdout",
     "output_type": "stream",
     "text": [
      "13:17:39.825 DEBUG org.hibernate.SQL - select count(*)>0 from CUSTOMER c1_0 where c1_0.email=?\n"
     ]
    },
    {
     "name": "stdout",
     "output_type": "stream",
     "text": [
      "13:17:39.826 DEBUG org.hibernate.SQL - insert into CUSTOMER (birthDate,creationDate,email,firstname,lastname,photo,status,version,ID) values (?,?,?,?,?,?,?,?,?)\n"
     ]
    },
    {
     "name": "stdout",
     "output_type": "stream",
     "text": [
      "13:17:39.826 DEBUG org.hibernate.SQL - select count(*)>0 from CUSTOMER c1_0 where c1_0.email=?\n"
     ]
    },
    {
     "name": "stdout",
     "output_type": "stream",
     "text": [
      "13:17:39.827 DEBUG org.hibernate.SQL - insert into CUSTOMER (birthDate,creationDate,email,firstname,lastname,photo,status,version,ID) values (?,?,?,?,?,?,?,?,?)\n"
     ]
    },
    {
     "name": "stdout",
     "output_type": "stream",
     "text": [
      "13:17:39.828 DEBUG org.hibernate.SQL - select count(*)>0 from CUSTOMER c1_0 where c1_0.email=?\n"
     ]
    },
    {
     "name": "stdout",
     "output_type": "stream",
     "text": [
      "13:17:39.828 DEBUG org.hibernate.SQL - insert into CUSTOMER (birthDate,creationDate,email,firstname,lastname,photo,status,version,ID) values (?,?,?,?,?,?,?,?,?)\n"
     ]
    },
    {
     "name": "stdout",
     "output_type": "stream",
     "text": [
      "13:17:39.829 DEBUG org.hibernate.SQL - select count(*)>0 from CUSTOMER c1_0 where c1_0.email=?\n"
     ]
    },
    {
     "name": "stdout",
     "output_type": "stream",
     "text": [
      "13:17:39.829 DEBUG org.hibernate.SQL - insert into CUSTOMER (birthDate,creationDate,email,firstname,lastname,photo,status,version,ID) values (?,?,?,?,?,?,?,?,?)\n"
     ]
    },
    {
     "name": "stdout",
     "output_type": "stream",
     "text": [
      "13:17:39.830 DEBUG org.hibernate.SQL - select count(*)>0 from CUSTOMER c1_0 where c1_0.email=?\n"
     ]
    },
    {
     "name": "stdout",
     "output_type": "stream",
     "text": [
      "13:17:39.830 DEBUG org.hibernate.SQL - insert into CUSTOMER (birthDate,creationDate,email,firstname,lastname,photo,status,version,ID) values (?,?,?,?,?,?,?,?,?)\n"
     ]
    },
    {
     "name": "stdout",
     "output_type": "stream",
     "text": [
      "13:17:39.831 DEBUG org.hibernate.SQL - select count(*)>0 from CUSTOMER c1_0 where c1_0.email=?\n"
     ]
    },
    {
     "name": "stdout",
     "output_type": "stream",
     "text": [
      "13:17:39.832 DEBUG org.hibernate.SQL - insert into CUSTOMER (birthDate,creationDate,email,firstname,lastname,photo,status,version,ID) values (?,?,?,?,?,?,?,?,?)\n"
     ]
    },
    {
     "name": "stdout",
     "output_type": "stream",
     "text": [
      "13:17:39.832 DEBUG org.hibernate.SQL - select count(*)>0 from CUSTOMER c1_0 where c1_0.email=?\n"
     ]
    },
    {
     "name": "stdout",
     "output_type": "stream",
     "text": [
      "13:17:39.833 DEBUG org.hibernate.SQL - insert into CUSTOMER (birthDate,creationDate,email,firstname,lastname,photo,status,version,ID) values (?,?,?,?,?,?,?,?,?)\n"
     ]
    },
    {
     "name": "stdout",
     "output_type": "stream",
     "text": [
      "13:17:39.833 DEBUG org.hibernate.SQL - select count(*)>0 from CUSTOMER c1_0 where c1_0.email=?\n"
     ]
    },
    {
     "name": "stdout",
     "output_type": "stream",
     "text": [
      "13:17:39.834 DEBUG org.hibernate.SQL - insert into CUSTOMER (birthDate,creationDate,email,firstname,lastname,photo,status,version,ID) values (?,?,?,?,?,?,?,?,?)\n"
     ]
    },
    {
     "name": "stdout",
     "output_type": "stream",
     "text": [
      "13:17:39.834 DEBUG org.hibernate.SQL - select count(*)>0 from CUSTOMER c1_0 where c1_0.email=?\n"
     ]
    },
    {
     "name": "stdout",
     "output_type": "stream",
     "text": [
      "13:17:39.835 DEBUG org.hibernate.SQL - insert into CUSTOMER (birthDate,creationDate,email,firstname,lastname,photo,status,version,ID) values (?,?,?,?,?,?,?,?,?)\n"
     ]
    },
    {
     "name": "stdout",
     "output_type": "stream",
     "text": [
      "13:17:39.835 DEBUG org.hibernate.SQL - select count(*)>0 from CUSTOMER c1_0 where c1_0.email=?\n"
     ]
    },
    {
     "name": "stdout",
     "output_type": "stream",
     "text": [
      "13:17:39.836 DEBUG org.hibernate.SQL - insert into CUSTOMER (birthDate,creationDate,email,firstname,lastname,photo,status,version,ID) values (?,?,?,?,?,?,?,?,?)\n"
     ]
    },
    {
     "name": "stdout",
     "output_type": "stream",
     "text": [
      "13:17:39.836 DEBUG org.hibernate.SQL - select count(*)>0 from CUSTOMER c1_0 where c1_0.email=?\n"
     ]
    },
    {
     "name": "stdout",
     "output_type": "stream",
     "text": [
      "13:17:39.837 DEBUG org.hibernate.SQL - insert into CUSTOMER (birthDate,creationDate,email,firstname,lastname,photo,status,version,ID) values (?,?,?,?,?,?,?,?,?)\n"
     ]
    },
    {
     "name": "stdout",
     "output_type": "stream",
     "text": [
      "13:17:39.838 DEBUG org.hibernate.SQL - select count(*)>0 from CUSTOMER c1_0 where c1_0.email=?\n"
     ]
    },
    {
     "name": "stdout",
     "output_type": "stream",
     "text": [
      "13:17:39.838 DEBUG org.hibernate.SQL - insert into CUSTOMER (birthDate,creationDate,email,firstname,lastname,photo,status,version,ID) values (?,?,?,?,?,?,?,?,?)\n"
     ]
    },
    {
     "name": "stdout",
     "output_type": "stream",
     "text": [
      "13:17:39.839 DEBUG org.hibernate.SQL - select count(*)>0 from CUSTOMER c1_0 where c1_0.email=?\n"
     ]
    },
    {
     "name": "stdout",
     "output_type": "stream",
     "text": [
      "13:17:39.839 DEBUG org.hibernate.SQL - insert into CUSTOMER (birthDate,creationDate,email,firstname,lastname,photo,status,version,ID) values (?,?,?,?,?,?,?,?,?)\n"
     ]
    },
    {
     "name": "stdout",
     "output_type": "stream",
     "text": [
      "13:17:39.840 DEBUG org.hibernate.SQL - select count(*)>0 from CUSTOMER c1_0 where c1_0.email=?\n"
     ]
    },
    {
     "name": "stdout",
     "output_type": "stream",
     "text": [
      "13:17:39.840 DEBUG org.hibernate.SQL - insert into CUSTOMER (birthDate,creationDate,email,firstname,lastname,photo,status,version,ID) values (?,?,?,?,?,?,?,?,?)\n"
     ]
    },
    {
     "name": "stdout",
     "output_type": "stream",
     "text": [
      "13:17:39.841 DEBUG org.hibernate.SQL - select count(*)>0 from CUSTOMER c1_0 where c1_0.email=?\n"
     ]
    },
    {
     "name": "stdout",
     "output_type": "stream",
     "text": [
      "13:17:39.841 DEBUG org.hibernate.SQL - insert into CUSTOMER (birthDate,creationDate,email,firstname,lastname,photo,status,version,ID) values (?,?,?,?,?,?,?,?,?)\n"
     ]
    },
    {
     "name": "stdout",
     "output_type": "stream",
     "text": [
      "13:17:39.842 DEBUG org.hibernate.SQL - select count(*)>0 from CUSTOMER c1_0 where c1_0.email=?\n"
     ]
    },
    {
     "name": "stdout",
     "output_type": "stream",
     "text": [
      "13:17:39.842 DEBUG org.hibernate.SQL - insert into CUSTOMER (birthDate,creationDate,email,firstname,lastname,photo,status,version,ID) values (?,?,?,?,?,?,?,?,?)\n"
     ]
    },
    {
     "name": "stdout",
     "output_type": "stream",
     "text": [
      "13:17:39.843 DEBUG org.hibernate.SQL - select count(*)>0 from CUSTOMER c1_0 where c1_0.email=?\n"
     ]
    },
    {
     "name": "stdout",
     "output_type": "stream",
     "text": [
      "13:17:39.843 DEBUG org.hibernate.SQL - insert into CUSTOMER (birthDate,creationDate,email,firstname,lastname,photo,status,version,ID) values (?,?,?,?,?,?,?,?,?)\n"
     ]
    },
    {
     "name": "stdout",
     "output_type": "stream",
     "text": [
      "13:17:39.844 DEBUG org.hibernate.SQL - select count(*)>0 from CUSTOMER c1_0 where c1_0.email=?\n"
     ]
    },
    {
     "name": "stdout",
     "output_type": "stream",
     "text": [
      "13:17:39.844 DEBUG org.hibernate.SQL - insert into CUSTOMER (birthDate,creationDate,email,firstname,lastname,photo,status,version,ID) values (?,?,?,?,?,?,?,?,?)\n"
     ]
    },
    {
     "name": "stdout",
     "output_type": "stream",
     "text": [
      "13:17:39.845 DEBUG org.hibernate.SQL - select count(*)>0 from CUSTOMER c1_0 where c1_0.email=?\n"
     ]
    },
    {
     "name": "stdout",
     "output_type": "stream",
     "text": [
      "13:17:39.845 DEBUG org.hibernate.SQL - insert into CUSTOMER (birthDate,creationDate,email,firstname,lastname,photo,status,version,ID) values (?,?,?,?,?,?,?,?,?)\n"
     ]
    },
    {
     "name": "stdout",
     "output_type": "stream",
     "text": [
      "13:17:39.846 DEBUG org.hibernate.SQL - select count(*)>0 from CUSTOMER c1_0 where c1_0.email=?\n"
     ]
    },
    {
     "name": "stdout",
     "output_type": "stream",
     "text": [
      "13:17:39.846 DEBUG org.hibernate.SQL - insert into CUSTOMER (birthDate,creationDate,email,firstname,lastname,photo,status,version,ID) values (?,?,?,?,?,?,?,?,?)\n"
     ]
    },
    {
     "name": "stdout",
     "output_type": "stream",
     "text": [
      "13:17:39.847 DEBUG org.hibernate.SQL - select count(*)>0 from CUSTOMER c1_0 where c1_0.email=?\n"
     ]
    },
    {
     "name": "stdout",
     "output_type": "stream",
     "text": [
      "13:17:39.847 DEBUG org.hibernate.SQL - insert into CUSTOMER (birthDate,creationDate,email,firstname,lastname,photo,status,version,ID) values (?,?,?,?,?,?,?,?,?)\n"
     ]
    },
    {
     "name": "stdout",
     "output_type": "stream",
     "text": [
      "13:17:39.848 DEBUG org.hibernate.SQL - select count(*)>0 from CUSTOMER c1_0 where c1_0.email=?\n"
     ]
    },
    {
     "name": "stdout",
     "output_type": "stream",
     "text": [
      "13:17:39.848 DEBUG org.hibernate.SQL - insert into CUSTOMER (birthDate,creationDate,email,firstname,lastname,photo,status,version,ID) values (?,?,?,?,?,?,?,?,?)\n"
     ]
    },
    {
     "name": "stdout",
     "output_type": "stream",
     "text": [
      "13:17:39.849 DEBUG org.hibernate.SQL - select count(*)>0 from CUSTOMER c1_0 where c1_0.email=?\n"
     ]
    },
    {
     "name": "stdout",
     "output_type": "stream",
     "text": [
      "13:17:39.849 DEBUG org.hibernate.SQL - insert into CUSTOMER (birthDate,creationDate,email,firstname,lastname,photo,status,version,ID) values (?,?,?,?,?,?,?,?,?)\n"
     ]
    },
    {
     "name": "stdout",
     "output_type": "stream",
     "text": [
      "13:17:39.850 DEBUG org.hibernate.SQL - select count(*)>0 from CUSTOMER c1_0 where c1_0.email=?\n"
     ]
    },
    {
     "name": "stdout",
     "output_type": "stream",
     "text": [
      "13:17:39.850 DEBUG org.hibernate.SQL - insert into CUSTOMER (birthDate,creationDate,email,firstname,lastname,photo,status,version,ID) values (?,?,?,?,?,?,?,?,?)\n"
     ]
    },
    {
     "name": "stdout",
     "output_type": "stream",
     "text": [
      "13:17:39.851 DEBUG org.hibernate.SQL - select count(*)>0 from CUSTOMER c1_0 where c1_0.email=?\n"
     ]
    },
    {
     "name": "stdout",
     "output_type": "stream",
     "text": [
      "13:17:39.852 DEBUG org.hibernate.SQL - insert into CUSTOMER (birthDate,creationDate,email,firstname,lastname,photo,status,version,ID) values (?,?,?,?,?,?,?,?,?)\n"
     ]
    },
    {
     "name": "stdout",
     "output_type": "stream",
     "text": [
      "13:17:39.852 DEBUG org.hibernate.SQL - select count(*)>0 from CUSTOMER c1_0 where c1_0.email=?\n"
     ]
    },
    {
     "name": "stdout",
     "output_type": "stream",
     "text": [
      "13:17:39.853 DEBUG org.hibernate.SQL - insert into CUSTOMER (birthDate,creationDate,email,firstname,lastname,photo,status,version,ID) values (?,?,?,?,?,?,?,?,?)\n"
     ]
    },
    {
     "name": "stdout",
     "output_type": "stream",
     "text": [
      "13:17:39.854 DEBUG org.hibernate.SQL - select count(*)>0 from CUSTOMER c1_0 where c1_0.email=?\n"
     ]
    },
    {
     "name": "stdout",
     "output_type": "stream",
     "text": [
      "13:17:39.855 DEBUG org.hibernate.SQL - insert into CUSTOMER (birthDate,creationDate,email,firstname,lastname,photo,status,version,ID) values (?,?,?,?,?,?,?,?,?)\n"
     ]
    },
    {
     "name": "stdout",
     "output_type": "stream",
     "text": [
      "13:17:39.856 DEBUG org.hibernate.SQL - select count(*)>0 from CUSTOMER c1_0 where c1_0.email=?\n"
     ]
    },
    {
     "name": "stdout",
     "output_type": "stream",
     "text": [
      "13:17:39.857 DEBUG org.hibernate.SQL - insert into CUSTOMER (birthDate,creationDate,email,firstname,lastname,photo,status,version,ID) values (?,?,?,?,?,?,?,?,?)\n"
     ]
    },
    {
     "name": "stdout",
     "output_type": "stream",
     "text": [
      "13:17:39.857 DEBUG org.hibernate.SQL - select count(*)>0 from CUSTOMER c1_0 where c1_0.email=?\n"
     ]
    },
    {
     "name": "stdout",
     "output_type": "stream",
     "text": [
      "13:17:39.858 DEBUG org.hibernate.SQL - insert into CUSTOMER (birthDate,creationDate,email,firstname,lastname,photo,status,version,ID) values (?,?,?,?,?,?,?,?,?)\n"
     ]
    },
    {
     "name": "stdout",
     "output_type": "stream",
     "text": [
      "13:17:39.859 DEBUG org.hibernate.SQL - select count(*)>0 from CUSTOMER c1_0 where c1_0.email=?\n"
     ]
    },
    {
     "name": "stdout",
     "output_type": "stream",
     "text": [
      "13:17:39.859 DEBUG org.hibernate.SQL - insert into CUSTOMER (birthDate,creationDate,email,firstname,lastname,photo,status,version,ID) values (?,?,?,?,?,?,?,?,?)\n"
     ]
    },
    {
     "name": "stdout",
     "output_type": "stream",
     "text": [
      "13:17:39.860 DEBUG org.hibernate.SQL - select count(*)>0 from CUSTOMER c1_0 where c1_0.email=?\n"
     ]
    },
    {
     "name": "stdout",
     "output_type": "stream",
     "text": [
      "13:17:39.860 DEBUG org.hibernate.SQL - insert into CUSTOMER (birthDate,creationDate,email,firstname,lastname,photo,status,version,ID) values (?,?,?,?,?,?,?,?,?)\n"
     ]
    },
    {
     "name": "stdout",
     "output_type": "stream",
     "text": [
      "13:17:39.861 DEBUG org.hibernate.SQL - select count(*)>0 from CUSTOMER c1_0 where c1_0.email=?\n"
     ]
    },
    {
     "name": "stdout",
     "output_type": "stream",
     "text": [
      "13:17:39.862 DEBUG org.hibernate.SQL - insert into CUSTOMER (birthDate,creationDate,email,firstname,lastname,photo,status,version,ID) values (?,?,?,?,?,?,?,?,?)\n"
     ]
    },
    {
     "name": "stdout",
     "output_type": "stream",
     "text": [
      "13:17:39.862 DEBUG org.hibernate.SQL - select count(*)>0 from CUSTOMER c1_0 where c1_0.email=?\n"
     ]
    },
    {
     "name": "stdout",
     "output_type": "stream",
     "text": [
      "13:17:39.863 DEBUG org.hibernate.SQL - insert into CUSTOMER (birthDate,creationDate,email,firstname,lastname,photo,status,version,ID) values (?,?,?,?,?,?,?,?,?)\n"
     ]
    },
    {
     "name": "stdout",
     "output_type": "stream",
     "text": [
      "13:17:39.863 DEBUG org.hibernate.SQL - select count(*)>0 from CUSTOMER c1_0 where c1_0.email=?\n"
     ]
    },
    {
     "name": "stdout",
     "output_type": "stream",
     "text": [
      "13:17:39.864 DEBUG org.hibernate.SQL - insert into CUSTOMER (birthDate,creationDate,email,firstname,lastname,photo,status,version,ID) values (?,?,?,?,?,?,?,?,?)\n"
     ]
    },
    {
     "name": "stdout",
     "output_type": "stream",
     "text": [
      "13:17:39.865 DEBUG org.hibernate.SQL - select count(*)>0 from CUSTOMER c1_0 where c1_0.email=?\n"
     ]
    },
    {
     "name": "stdout",
     "output_type": "stream",
     "text": [
      "13:17:39.866 DEBUG org.hibernate.SQL - insert into CUSTOMER (birthDate,creationDate,email,firstname,lastname,photo,status,version,ID) values (?,?,?,?,?,?,?,?,?)\n"
     ]
    },
    {
     "name": "stdout",
     "output_type": "stream",
     "text": [
      "13:17:39.866 DEBUG org.hibernate.SQL - select count(*)>0 from CUSTOMER c1_0 where c1_0.email=?\n"
     ]
    },
    {
     "name": "stdout",
     "output_type": "stream",
     "text": [
      "13:17:39.867 DEBUG org.hibernate.SQL - insert into CUSTOMER (birthDate,creationDate,email,firstname,lastname,photo,status,version,ID) values (?,?,?,?,?,?,?,?,?)\n"
     ]
    },
    {
     "name": "stdout",
     "output_type": "stream",
     "text": [
      "13:17:39.867 DEBUG org.hibernate.SQL - select count(*)>0 from CUSTOMER c1_0 where c1_0.email=?\n"
     ]
    },
    {
     "name": "stdout",
     "output_type": "stream",
     "text": [
      "13:17:39.868 DEBUG org.hibernate.SQL - insert into CUSTOMER (birthDate,creationDate,email,firstname,lastname,photo,status,version,ID) values (?,?,?,?,?,?,?,?,?)\n"
     ]
    },
    {
     "name": "stdout",
     "output_type": "stream",
     "text": [
      "13:17:39.868 DEBUG org.hibernate.SQL - select count(*)>0 from CUSTOMER c1_0 where c1_0.email=?\n"
     ]
    },
    {
     "name": "stdout",
     "output_type": "stream",
     "text": [
      "13:17:39.869 DEBUG org.hibernate.SQL - insert into CUSTOMER (birthDate,creationDate,email,firstname,lastname,photo,status,version,ID) values (?,?,?,?,?,?,?,?,?)\n"
     ]
    },
    {
     "name": "stdout",
     "output_type": "stream",
     "text": [
      "13:17:39.869 DEBUG org.hibernate.SQL - select count(*)>0 from CUSTOMER c1_0 where c1_0.email=?\n"
     ]
    },
    {
     "name": "stdout",
     "output_type": "stream",
     "text": [
      "13:17:39.870 DEBUG org.hibernate.SQL - insert into CUSTOMER (birthDate,creationDate,email,firstname,lastname,photo,status,version,ID) values (?,?,?,?,?,?,?,?,?)\n"
     ]
    },
    {
     "name": "stdout",
     "output_type": "stream",
     "text": [
      "13:17:39.871 DEBUG org.hibernate.SQL - select count(*)>0 from CUSTOMER c1_0 where c1_0.email=?\n"
     ]
    },
    {
     "name": "stdout",
     "output_type": "stream",
     "text": [
      "13:17:39.871 DEBUG org.hibernate.SQL - insert into CUSTOMER (birthDate,creationDate,email,firstname,lastname,photo,status,version,ID) values (?,?,?,?,?,?,?,?,?)\n"
     ]
    },
    {
     "name": "stdout",
     "output_type": "stream",
     "text": [
      "13:17:39.872 DEBUG org.hibernate.SQL - select count(*)>0 from CUSTOMER c1_0 where c1_0.email=?\n"
     ]
    },
    {
     "name": "stdout",
     "output_type": "stream",
     "text": [
      "13:17:39.873 DEBUG org.hibernate.SQL - insert into CUSTOMER (birthDate,creationDate,email,firstname,lastname,photo,status,version,ID) values (?,?,?,?,?,?,?,?,?)\n"
     ]
    },
    {
     "name": "stdout",
     "output_type": "stream",
     "text": [
      "13:17:39.873 DEBUG org.hibernate.SQL - select count(*)>0 from CUSTOMER c1_0 where c1_0.email=?\n"
     ]
    },
    {
     "name": "stdout",
     "output_type": "stream",
     "text": [
      "13:17:39.874 DEBUG org.hibernate.SQL - insert into CUSTOMER (birthDate,creationDate,email,firstname,lastname,photo,status,version,ID) values (?,?,?,?,?,?,?,?,?)\n"
     ]
    },
    {
     "name": "stdout",
     "output_type": "stream",
     "text": [
      "13:17:39.874 DEBUG org.hibernate.SQL - select count(*)>0 from CUSTOMER c1_0 where c1_0.email=?\n"
     ]
    },
    {
     "name": "stdout",
     "output_type": "stream",
     "text": [
      "13:17:39.875 DEBUG org.hibernate.SQL - insert into CUSTOMER (birthDate,creationDate,email,firstname,lastname,photo,status,version,ID) values (?,?,?,?,?,?,?,?,?)\n"
     ]
    },
    {
     "name": "stdout",
     "output_type": "stream",
     "text": [
      "13:17:39.876 DEBUG org.hibernate.SQL - select count(*)>0 from CUSTOMER c1_0 where c1_0.email=?\n"
     ]
    },
    {
     "name": "stdout",
     "output_type": "stream",
     "text": [
      "13:17:39.877 DEBUG org.hibernate.SQL - insert into CUSTOMER (birthDate,creationDate,email,firstname,lastname,photo,status,version,ID) values (?,?,?,?,?,?,?,?,?)\n"
     ]
    },
    {
     "name": "stdout",
     "output_type": "stream",
     "text": [
      "13:17:39.877 DEBUG org.hibernate.SQL - select count(*)>0 from CUSTOMER c1_0 where c1_0.email=?\n"
     ]
    },
    {
     "name": "stdout",
     "output_type": "stream",
     "text": [
      "13:17:39.878 DEBUG org.hibernate.SQL - insert into CUSTOMER (birthDate,creationDate,email,firstname,lastname,photo,status,version,ID) values (?,?,?,?,?,?,?,?,?)\n"
     ]
    },
    {
     "name": "stdout",
     "output_type": "stream",
     "text": [
      "13:17:39.878 DEBUG org.hibernate.SQL - select count(*)>0 from CUSTOMER c1_0 where c1_0.email=?\n"
     ]
    },
    {
     "name": "stdout",
     "output_type": "stream",
     "text": [
      "13:17:39.879 DEBUG org.hibernate.SQL - insert into CUSTOMER (birthDate,creationDate,email,firstname,lastname,photo,status,version,ID) values (?,?,?,?,?,?,?,?,?)\n"
     ]
    },
    {
     "name": "stdout",
     "output_type": "stream",
     "text": [
      "13:17:39.879 DEBUG org.hibernate.SQL - select count(*)>0 from CUSTOMER c1_0 where c1_0.email=?\n"
     ]
    },
    {
     "name": "stdout",
     "output_type": "stream",
     "text": [
      "13:17:39.880 DEBUG org.hibernate.SQL - insert into CUSTOMER (birthDate,creationDate,email,firstname,lastname,photo,status,version,ID) values (?,?,?,?,?,?,?,?,?)\n"
     ]
    },
    {
     "name": "stdout",
     "output_type": "stream",
     "text": [
      "13:17:39.880 DEBUG org.hibernate.SQL - select count(*)>0 from CUSTOMER c1_0 where c1_0.email=?\n"
     ]
    },
    {
     "name": "stdout",
     "output_type": "stream",
     "text": [
      "13:17:39.881 DEBUG org.hibernate.SQL - select nextval('CUSTOMER_SEQ')\n"
     ]
    },
    {
     "name": "stdout",
     "output_type": "stream",
     "text": [
      "13:17:39.881 DEBUG org.hibernate.SQL - insert into CUSTOMER (birthDate,creationDate,email,firstname,lastname,photo,status,version,ID) values (?,?,?,?,?,?,?,?,?)\n"
     ]
    },
    {
     "name": "stdout",
     "output_type": "stream",
     "text": [
      "13:17:39.882 DEBUG org.hibernate.SQL - select count(*)>0 from CUSTOMER c1_0 where c1_0.email=?\n"
     ]
    },
    {
     "name": "stdout",
     "output_type": "stream",
     "text": [
      "13:17:39.882 DEBUG org.hibernate.SQL - insert into CUSTOMER (birthDate,creationDate,email,firstname,lastname,photo,status,version,ID) values (?,?,?,?,?,?,?,?,?)\n"
     ]
    },
    {
     "name": "stdout",
     "output_type": "stream",
     "text": [
      "13:17:39.883 DEBUG org.hibernate.SQL - select count(*)>0 from CUSTOMER c1_0 where c1_0.email=?\n"
     ]
    },
    {
     "name": "stdout",
     "output_type": "stream",
     "text": [
      "13:17:39.883 DEBUG org.hibernate.SQL - insert into CUSTOMER (birthDate,creationDate,email,firstname,lastname,photo,status,version,ID) values (?,?,?,?,?,?,?,?,?)\n"
     ]
    },
    {
     "name": "stdout",
     "output_type": "stream",
     "text": [
      "13:17:39.884 DEBUG org.hibernate.SQL - select count(*)>0 from CUSTOMER c1_0 where c1_0.email=?\n"
     ]
    },
    {
     "name": "stdout",
     "output_type": "stream",
     "text": [
      "13:17:39.885 DEBUG org.hibernate.SQL - insert into CUSTOMER (birthDate,creationDate,email,firstname,lastname,photo,status,version,ID) values (?,?,?,?,?,?,?,?,?)\n"
     ]
    },
    {
     "name": "stdout",
     "output_type": "stream",
     "text": [
      "13:17:39.885 DEBUG org.hibernate.SQL - select count(*)>0 from CUSTOMER c1_0 where c1_0.email=?\n"
     ]
    },
    {
     "name": "stdout",
     "output_type": "stream",
     "text": [
      "13:17:39.885 DEBUG org.hibernate.SQL - insert into CUSTOMER (birthDate,creationDate,email,firstname,lastname,photo,status,version,ID) values (?,?,?,?,?,?,?,?,?)\n"
     ]
    },
    {
     "name": "stdout",
     "output_type": "stream",
     "text": [
      "13:17:39.886 DEBUG org.hibernate.SQL - select count(*)>0 from CUSTOMER c1_0 where c1_0.email=?\n"
     ]
    },
    {
     "name": "stdout",
     "output_type": "stream",
     "text": [
      "13:17:39.887 DEBUG org.hibernate.SQL - insert into CUSTOMER (birthDate,creationDate,email,firstname,lastname,photo,status,version,ID) values (?,?,?,?,?,?,?,?,?)\n"
     ]
    },
    {
     "name": "stdout",
     "output_type": "stream",
     "text": [
      "13:17:39.887 DEBUG org.hibernate.SQL - select count(*)>0 from CUSTOMER c1_0 where c1_0.email=?\n"
     ]
    },
    {
     "name": "stdout",
     "output_type": "stream",
     "text": [
      "13:17:39.888 DEBUG org.hibernate.SQL - insert into CUSTOMER (birthDate,creationDate,email,firstname,lastname,photo,status,version,ID) values (?,?,?,?,?,?,?,?,?)\n"
     ]
    },
    {
     "name": "stdout",
     "output_type": "stream",
     "text": [
      "13:17:39.888 DEBUG org.hibernate.SQL - select count(*)>0 from CUSTOMER c1_0 where c1_0.email=?\n"
     ]
    },
    {
     "name": "stdout",
     "output_type": "stream",
     "text": [
      "13:17:39.889 DEBUG org.hibernate.SQL - insert into CUSTOMER (birthDate,creationDate,email,firstname,lastname,photo,status,version,ID) values (?,?,?,?,?,?,?,?,?)\n"
     ]
    },
    {
     "name": "stdout",
     "output_type": "stream",
     "text": [
      "13:17:39.889 DEBUG org.hibernate.SQL - select count(*)>0 from CUSTOMER c1_0 where c1_0.email=?\n"
     ]
    },
    {
     "name": "stdout",
     "output_type": "stream",
     "text": [
      "13:17:39.889 DEBUG org.hibernate.SQL - insert into CUSTOMER (birthDate,creationDate,email,firstname,lastname,photo,status,version,ID) values (?,?,?,?,?,?,?,?,?)\n"
     ]
    },
    {
     "name": "stdout",
     "output_type": "stream",
     "text": [
      "13:17:39.890 DEBUG org.hibernate.SQL - select count(*)>0 from CUSTOMER c1_0 where c1_0.email=?\n"
     ]
    },
    {
     "name": "stdout",
     "output_type": "stream",
     "text": [
      "13:17:39.892 DEBUG org.hibernate.SQL - insert into CUSTOMER (birthDate,creationDate,email,firstname,lastname,photo,status,version,ID) values (?,?,?,?,?,?,?,?,?)\n"
     ]
    },
    {
     "name": "stdout",
     "output_type": "stream",
     "text": [
      "13:17:39.893 DEBUG org.hibernate.SQL - select count(*)>0 from CUSTOMER c1_0 where c1_0.email=?\n"
     ]
    },
    {
     "name": "stdout",
     "output_type": "stream",
     "text": [
      "13:17:39.893 DEBUG org.hibernate.SQL - insert into CUSTOMER (birthDate,creationDate,email,firstname,lastname,photo,status,version,ID) values (?,?,?,?,?,?,?,?,?)\n"
     ]
    },
    {
     "name": "stdout",
     "output_type": "stream",
     "text": [
      "13:17:39.894 DEBUG org.hibernate.SQL - select count(*)>0 from CUSTOMER c1_0 where c1_0.email=?\n"
     ]
    },
    {
     "name": "stdout",
     "output_type": "stream",
     "text": [
      "13:17:39.894 DEBUG org.hibernate.SQL - insert into CUSTOMER (birthDate,creationDate,email,firstname,lastname,photo,status,version,ID) values (?,?,?,?,?,?,?,?,?)\n"
     ]
    },
    {
     "name": "stdout",
     "output_type": "stream",
     "text": [
      "13:17:39.895 DEBUG org.hibernate.SQL - select count(*)>0 from CUSTOMER c1_0 where c1_0.email=?\n"
     ]
    },
    {
     "name": "stdout",
     "output_type": "stream",
     "text": [
      "13:17:39.896 DEBUG org.hibernate.SQL - insert into CUSTOMER (birthDate,creationDate,email,firstname,lastname,photo,status,version,ID) values (?,?,?,?,?,?,?,?,?)\n"
     ]
    },
    {
     "name": "stdout",
     "output_type": "stream",
     "text": [
      "13:17:39.896 DEBUG org.hibernate.SQL - select count(*)>0 from CUSTOMER c1_0 where c1_0.email=?\n"
     ]
    },
    {
     "name": "stdout",
     "output_type": "stream",
     "text": [
      "13:17:39.897 DEBUG org.hibernate.SQL - insert into CUSTOMER (birthDate,creationDate,email,firstname,lastname,photo,status,version,ID) values (?,?,?,?,?,?,?,?,?)\n"
     ]
    },
    {
     "name": "stdout",
     "output_type": "stream",
     "text": [
      "13:17:39.897 DEBUG org.hibernate.SQL - select count(*)>0 from CUSTOMER c1_0 where c1_0.email=?\n"
     ]
    },
    {
     "name": "stdout",
     "output_type": "stream",
     "text": [
      "13:17:39.897 DEBUG org.hibernate.SQL - insert into CUSTOMER (birthDate,creationDate,email,firstname,lastname,photo,status,version,ID) values (?,?,?,?,?,?,?,?,?)\n"
     ]
    },
    {
     "name": "stdout",
     "output_type": "stream",
     "text": [
      "13:17:39.898 DEBUG org.hibernate.SQL - select count(*)>0 from CUSTOMER c1_0 where c1_0.email=?\n"
     ]
    },
    {
     "name": "stdout",
     "output_type": "stream",
     "text": [
      "13:17:39.898 DEBUG org.hibernate.SQL - insert into CUSTOMER (birthDate,creationDate,email,firstname,lastname,photo,status,version,ID) values (?,?,?,?,?,?,?,?,?)\n"
     ]
    },
    {
     "name": "stdout",
     "output_type": "stream",
     "text": [
      "13:17:39.899 DEBUG org.hibernate.SQL - select count(*)>0 from CUSTOMER c1_0 where c1_0.email=?\n"
     ]
    },
    {
     "name": "stdout",
     "output_type": "stream",
     "text": [
      "13:17:39.899 DEBUG org.hibernate.SQL - insert into CUSTOMER (birthDate,creationDate,email,firstname,lastname,photo,status,version,ID) values (?,?,?,?,?,?,?,?,?)\n"
     ]
    },
    {
     "name": "stdout",
     "output_type": "stream",
     "text": [
      "13:17:39.899 DEBUG org.hibernate.SQL - select count(*)>0 from CUSTOMER c1_0 where c1_0.email=?\n"
     ]
    },
    {
     "name": "stdout",
     "output_type": "stream",
     "text": [
      "13:17:39.900 DEBUG org.hibernate.SQL - insert into CUSTOMER (birthDate,creationDate,email,firstname,lastname,photo,status,version,ID) values (?,?,?,?,?,?,?,?,?)\n"
     ]
    },
    {
     "name": "stdout",
     "output_type": "stream",
     "text": [
      "13:17:39.900 DEBUG org.hibernate.SQL - select count(*)>0 from CUSTOMER c1_0 where c1_0.email=?\n"
     ]
    },
    {
     "name": "stdout",
     "output_type": "stream",
     "text": [
      "13:17:39.901 DEBUG org.hibernate.SQL - insert into CUSTOMER (birthDate,creationDate,email,firstname,lastname,photo,status,version,ID) values (?,?,?,?,?,?,?,?,?)\n"
     ]
    },
    {
     "name": "stdout",
     "output_type": "stream",
     "text": [
      "13:17:39.901 DEBUG org.hibernate.SQL - select count(*)>0 from CUSTOMER c1_0 where c1_0.email=?\n"
     ]
    },
    {
     "name": "stdout",
     "output_type": "stream",
     "text": [
      "13:17:39.902 DEBUG org.hibernate.SQL - insert into CUSTOMER (birthDate,creationDate,email,firstname,lastname,photo,status,version,ID) values (?,?,?,?,?,?,?,?,?)\n"
     ]
    },
    {
     "name": "stdout",
     "output_type": "stream",
     "text": [
      "13:17:39.902 DEBUG org.hibernate.SQL - select count(*)>0 from CUSTOMER c1_0 where c1_0.email=?\n"
     ]
    },
    {
     "name": "stdout",
     "output_type": "stream",
     "text": [
      "13:17:39.903 DEBUG org.hibernate.SQL - insert into CUSTOMER (birthDate,creationDate,email,firstname,lastname,photo,status,version,ID) values (?,?,?,?,?,?,?,?,?)\n"
     ]
    },
    {
     "name": "stdout",
     "output_type": "stream",
     "text": [
      "13:17:39.903 DEBUG org.hibernate.SQL - select count(*)>0 from CUSTOMER c1_0 where c1_0.email=?\n"
     ]
    },
    {
     "name": "stdout",
     "output_type": "stream",
     "text": [
      "13:17:39.904 DEBUG org.hibernate.SQL - insert into CUSTOMER (birthDate,creationDate,email,firstname,lastname,photo,status,version,ID) values (?,?,?,?,?,?,?,?,?)\n"
     ]
    },
    {
     "name": "stdout",
     "output_type": "stream",
     "text": [
      "13:17:39.904 DEBUG org.hibernate.SQL - select count(*)>0 from CUSTOMER c1_0 where c1_0.email=?\n"
     ]
    },
    {
     "name": "stdout",
     "output_type": "stream",
     "text": [
      "13:17:39.904 DEBUG org.hibernate.SQL - insert into CUSTOMER (birthDate,creationDate,email,firstname,lastname,photo,status,version,ID) values (?,?,?,?,?,?,?,?,?)\n"
     ]
    },
    {
     "name": "stdout",
     "output_type": "stream",
     "text": [
      "13:17:39.905 DEBUG org.hibernate.SQL - select count(*)>0 from CUSTOMER c1_0 where c1_0.email=?\n"
     ]
    },
    {
     "name": "stdout",
     "output_type": "stream",
     "text": [
      "13:17:39.905 DEBUG org.hibernate.SQL - insert into CUSTOMER (birthDate,creationDate,email,firstname,lastname,photo,status,version,ID) values (?,?,?,?,?,?,?,?,?)\n"
     ]
    },
    {
     "name": "stdout",
     "output_type": "stream",
     "text": [
      "13:17:39.905 DEBUG org.hibernate.SQL - select count(*)>0 from CUSTOMER c1_0 where c1_0.email=?\n"
     ]
    },
    {
     "name": "stdout",
     "output_type": "stream",
     "text": [
      "13:17:39.906 DEBUG org.hibernate.SQL - insert into CUSTOMER (birthDate,creationDate,email,firstname,lastname,photo,status,version,ID) values (?,?,?,?,?,?,?,?,?)\n"
     ]
    },
    {
     "name": "stdout",
     "output_type": "stream",
     "text": [
      "13:17:39.906 DEBUG org.hibernate.SQL - select count(*)>0 from CUSTOMER c1_0 where c1_0.email=?\n"
     ]
    },
    {
     "name": "stdout",
     "output_type": "stream",
     "text": [
      "13:17:39.907 DEBUG org.hibernate.SQL - insert into CUSTOMER (birthDate,creationDate,email,firstname,lastname,photo,status,version,ID) values (?,?,?,?,?,?,?,?,?)\n"
     ]
    },
    {
     "name": "stdout",
     "output_type": "stream",
     "text": [
      "13:17:39.907 DEBUG org.hibernate.SQL - select count(*)>0 from CUSTOMER c1_0 where c1_0.email=?\n"
     ]
    },
    {
     "name": "stdout",
     "output_type": "stream",
     "text": [
      "13:17:39.907 DEBUG org.hibernate.SQL - insert into CUSTOMER (birthDate,creationDate,email,firstname,lastname,photo,status,version,ID) values (?,?,?,?,?,?,?,?,?)\n"
     ]
    },
    {
     "name": "stdout",
     "output_type": "stream",
     "text": [
      "13:17:39.908 DEBUG org.hibernate.SQL - select count(*)>0 from CUSTOMER c1_0 where c1_0.email=?\n"
     ]
    },
    {
     "name": "stdout",
     "output_type": "stream",
     "text": [
      "13:17:39.909 DEBUG org.hibernate.SQL - insert into CUSTOMER (birthDate,creationDate,email,firstname,lastname,photo,status,version,ID) values (?,?,?,?,?,?,?,?,?)\n"
     ]
    },
    {
     "name": "stdout",
     "output_type": "stream",
     "text": [
      "13:17:39.909 DEBUG org.hibernate.SQL - select count(*)>0 from CUSTOMER c1_0 where c1_0.email=?\n"
     ]
    },
    {
     "name": "stdout",
     "output_type": "stream",
     "text": [
      "13:17:39.911 DEBUG org.hibernate.SQL - insert into CUSTOMER (birthDate,creationDate,email,firstname,lastname,photo,status,version,ID) values (?,?,?,?,?,?,?,?,?)\n"
     ]
    },
    {
     "name": "stdout",
     "output_type": "stream",
     "text": [
      "13:17:39.911 DEBUG org.hibernate.SQL - select count(*)>0 from CUSTOMER c1_0 where c1_0.email=?\n"
     ]
    },
    {
     "name": "stdout",
     "output_type": "stream",
     "text": [
      "13:17:39.912 DEBUG org.hibernate.SQL - insert into CUSTOMER (birthDate,creationDate,email,firstname,lastname,photo,status,version,ID) values (?,?,?,?,?,?,?,?,?)\n"
     ]
    },
    {
     "name": "stdout",
     "output_type": "stream",
     "text": [
      "13:17:39.912 DEBUG org.hibernate.SQL - select count(*)>0 from CUSTOMER c1_0 where c1_0.email=?\n"
     ]
    },
    {
     "name": "stdout",
     "output_type": "stream",
     "text": [
      "13:17:39.913 DEBUG org.hibernate.SQL - insert into CUSTOMER (birthDate,creationDate,email,firstname,lastname,photo,status,version,ID) values (?,?,?,?,?,?,?,?,?)\n"
     ]
    },
    {
     "name": "stdout",
     "output_type": "stream",
     "text": [
      "13:17:39.913 DEBUG org.hibernate.SQL - select count(*)>0 from CUSTOMER c1_0 where c1_0.email=?\n"
     ]
    },
    {
     "name": "stdout",
     "output_type": "stream",
     "text": [
      "13:17:39.913 DEBUG org.hibernate.SQL - insert into CUSTOMER (birthDate,creationDate,email,firstname,lastname,photo,status,version,ID) values (?,?,?,?,?,?,?,?,?)\n"
     ]
    },
    {
     "name": "stdout",
     "output_type": "stream",
     "text": [
      "13:17:39.914 DEBUG org.hibernate.SQL - select count(*)>0 from CUSTOMER c1_0 where c1_0.email=?\n"
     ]
    },
    {
     "name": "stdout",
     "output_type": "stream",
     "text": [
      "13:17:39.914 DEBUG org.hibernate.SQL - insert into CUSTOMER (birthDate,creationDate,email,firstname,lastname,photo,status,version,ID) values (?,?,?,?,?,?,?,?,?)\n"
     ]
    },
    {
     "name": "stdout",
     "output_type": "stream",
     "text": [
      "13:17:39.914 DEBUG org.hibernate.SQL - select count(*)>0 from CUSTOMER c1_0 where c1_0.email=?\n"
     ]
    },
    {
     "name": "stdout",
     "output_type": "stream",
     "text": [
      "13:17:39.915 DEBUG org.hibernate.SQL - insert into CUSTOMER (birthDate,creationDate,email,firstname,lastname,photo,status,version,ID) values (?,?,?,?,?,?,?,?,?)\n"
     ]
    },
    {
     "name": "stdout",
     "output_type": "stream",
     "text": [
      "13:17:39.915 DEBUG org.hibernate.SQL - select count(*)>0 from CUSTOMER c1_0 where c1_0.email=?\n"
     ]
    },
    {
     "name": "stdout",
     "output_type": "stream",
     "text": [
      "13:17:39.916 DEBUG org.hibernate.SQL - insert into CUSTOMER (birthDate,creationDate,email,firstname,lastname,photo,status,version,ID) values (?,?,?,?,?,?,?,?,?)\n"
     ]
    },
    {
     "name": "stdout",
     "output_type": "stream",
     "text": [
      "13:17:39.916 DEBUG org.hibernate.SQL - select count(*)>0 from CUSTOMER c1_0 where c1_0.email=?\n"
     ]
    },
    {
     "name": "stdout",
     "output_type": "stream",
     "text": [
      "13:17:39.917 DEBUG org.hibernate.SQL - insert into CUSTOMER (birthDate,creationDate,email,firstname,lastname,photo,status,version,ID) values (?,?,?,?,?,?,?,?,?)\n"
     ]
    },
    {
     "name": "stdout",
     "output_type": "stream",
     "text": [
      "13:17:39.917 DEBUG org.hibernate.SQL - select count(*)>0 from CUSTOMER c1_0 where c1_0.email=?\n"
     ]
    },
    {
     "name": "stdout",
     "output_type": "stream",
     "text": [
      "13:17:39.918 DEBUG org.hibernate.SQL - insert into CUSTOMER (birthDate,creationDate,email,firstname,lastname,photo,status,version,ID) values (?,?,?,?,?,?,?,?,?)\n"
     ]
    },
    {
     "name": "stdout",
     "output_type": "stream",
     "text": [
      "13:17:39.918 DEBUG org.hibernate.SQL - select count(*)>0 from CUSTOMER c1_0 where c1_0.email=?\n"
     ]
    },
    {
     "name": "stdout",
     "output_type": "stream",
     "text": [
      "13:17:39.919 DEBUG org.hibernate.SQL - insert into CUSTOMER (birthDate,creationDate,email,firstname,lastname,photo,status,version,ID) values (?,?,?,?,?,?,?,?,?)\n"
     ]
    },
    {
     "name": "stdout",
     "output_type": "stream",
     "text": [
      "13:17:39.919 DEBUG org.hibernate.SQL - select count(*)>0 from CUSTOMER c1_0 where c1_0.email=?\n"
     ]
    },
    {
     "name": "stdout",
     "output_type": "stream",
     "text": [
      "13:17:39.919 DEBUG org.hibernate.SQL - insert into CUSTOMER (birthDate,creationDate,email,firstname,lastname,photo,status,version,ID) values (?,?,?,?,?,?,?,?,?)\n"
     ]
    },
    {
     "name": "stdout",
     "output_type": "stream",
     "text": [
      "13:17:39.920 DEBUG org.hibernate.SQL - select count(*)>0 from CUSTOMER c1_0 where c1_0.email=?\n"
     ]
    },
    {
     "name": "stdout",
     "output_type": "stream",
     "text": [
      "13:17:39.920 DEBUG org.hibernate.SQL - insert into CUSTOMER (birthDate,creationDate,email,firstname,lastname,photo,status,version,ID) values (?,?,?,?,?,?,?,?,?)\n"
     ]
    },
    {
     "name": "stdout",
     "output_type": "stream",
     "text": [
      "13:17:39.920 DEBUG org.hibernate.SQL - select count(*)>0 from CUSTOMER c1_0 where c1_0.email=?\n"
     ]
    },
    {
     "name": "stdout",
     "output_type": "stream",
     "text": [
      "13:17:39.921 DEBUG org.hibernate.SQL - insert into CUSTOMER (birthDate,creationDate,email,firstname,lastname,photo,status,version,ID) values (?,?,?,?,?,?,?,?,?)\n"
     ]
    },
    {
     "name": "stdout",
     "output_type": "stream",
     "text": [
      "13:17:39.921 DEBUG org.hibernate.SQL - select count(*)>0 from CUSTOMER c1_0 where c1_0.email=?\n"
     ]
    },
    {
     "name": "stdout",
     "output_type": "stream",
     "text": [
      "13:17:39.922 DEBUG org.hibernate.SQL - insert into CUSTOMER (birthDate,creationDate,email,firstname,lastname,photo,status,version,ID) values (?,?,?,?,?,?,?,?,?)\n"
     ]
    },
    {
     "name": "stdout",
     "output_type": "stream",
     "text": [
      "13:17:39.922 DEBUG org.hibernate.SQL - select count(*)>0 from CUSTOMER c1_0 where c1_0.email=?\n"
     ]
    },
    {
     "name": "stdout",
     "output_type": "stream",
     "text": [
      "13:17:39.922 DEBUG org.hibernate.SQL - insert into CUSTOMER (birthDate,creationDate,email,firstname,lastname,photo,status,version,ID) values (?,?,?,?,?,?,?,?,?)\n"
     ]
    },
    {
     "name": "stdout",
     "output_type": "stream",
     "text": [
      "13:17:39.923 DEBUG org.hibernate.SQL - select count(*)>0 from CUSTOMER c1_0 where c1_0.email=?\n"
     ]
    },
    {
     "name": "stdout",
     "output_type": "stream",
     "text": [
      "13:17:39.923 DEBUG org.hibernate.SQL - insert into CUSTOMER (birthDate,creationDate,email,firstname,lastname,photo,status,version,ID) values (?,?,?,?,?,?,?,?,?)\n"
     ]
    },
    {
     "name": "stdout",
     "output_type": "stream",
     "text": [
      "13:17:39.924 DEBUG org.hibernate.SQL - select count(*)>0 from CUSTOMER c1_0 where c1_0.email=?\n"
     ]
    },
    {
     "name": "stdout",
     "output_type": "stream",
     "text": [
      "13:17:39.924 DEBUG org.hibernate.SQL - insert into CUSTOMER (birthDate,creationDate,email,firstname,lastname,photo,status,version,ID) values (?,?,?,?,?,?,?,?,?)\n"
     ]
    },
    {
     "name": "stdout",
     "output_type": "stream",
     "text": [
      "13:17:39.924 DEBUG org.hibernate.SQL - select count(*)>0 from CUSTOMER c1_0 where c1_0.email=?\n"
     ]
    },
    {
     "name": "stdout",
     "output_type": "stream",
     "text": [
      "13:17:39.925 DEBUG org.hibernate.SQL - insert into CUSTOMER (birthDate,creationDate,email,firstname,lastname,photo,status,version,ID) values (?,?,?,?,?,?,?,?,?)\n"
     ]
    },
    {
     "name": "stdout",
     "output_type": "stream",
     "text": [
      "13:17:39.925 DEBUG org.hibernate.SQL - select count(*)>0 from CUSTOMER c1_0 where c1_0.email=?\n"
     ]
    },
    {
     "name": "stdout",
     "output_type": "stream",
     "text": [
      "13:17:39.926 DEBUG org.hibernate.SQL - insert into CUSTOMER (birthDate,creationDate,email,firstname,lastname,photo,status,version,ID) values (?,?,?,?,?,?,?,?,?)\n"
     ]
    },
    {
     "name": "stdout",
     "output_type": "stream",
     "text": [
      "13:17:39.926 DEBUG org.hibernate.SQL - select count(*)>0 from CUSTOMER c1_0 where c1_0.email=?\n"
     ]
    },
    {
     "name": "stdout",
     "output_type": "stream",
     "text": [
      "13:17:39.926 DEBUG org.hibernate.SQL - insert into CUSTOMER (birthDate,creationDate,email,firstname,lastname,photo,status,version,ID) values (?,?,?,?,?,?,?,?,?)\n"
     ]
    },
    {
     "name": "stdout",
     "output_type": "stream",
     "text": [
      "13:17:39.927 DEBUG org.hibernate.SQL - select count(*)>0 from CUSTOMER c1_0 where c1_0.email=?\n"
     ]
    },
    {
     "name": "stdout",
     "output_type": "stream",
     "text": [
      "13:17:39.927 DEBUG org.hibernate.SQL - insert into CUSTOMER (birthDate,creationDate,email,firstname,lastname,photo,status,version,ID) values (?,?,?,?,?,?,?,?,?)\n"
     ]
    },
    {
     "name": "stdout",
     "output_type": "stream",
     "text": [
      "13:17:39.927 DEBUG org.hibernate.SQL - select count(*)>0 from CUSTOMER c1_0 where c1_0.email=?\n"
     ]
    },
    {
     "name": "stdout",
     "output_type": "stream",
     "text": [
      "13:17:39.928 DEBUG org.hibernate.SQL - insert into CUSTOMER (birthDate,creationDate,email,firstname,lastname,photo,status,version,ID) values (?,?,?,?,?,?,?,?,?)\n"
     ]
    },
    {
     "name": "stdout",
     "output_type": "stream",
     "text": [
      "13:17:39.928 DEBUG org.hibernate.SQL - select count(*)>0 from CUSTOMER c1_0 where c1_0.email=?\n"
     ]
    },
    {
     "name": "stdout",
     "output_type": "stream",
     "text": [
      "13:17:39.928 DEBUG org.hibernate.SQL - select nextval('CUSTOMER_SEQ')\n"
     ]
    },
    {
     "name": "stdout",
     "output_type": "stream",
     "text": [
      "13:17:39.929 DEBUG org.hibernate.SQL - insert into CUSTOMER (birthDate,creationDate,email,firstname,lastname,photo,status,version,ID) values (?,?,?,?,?,?,?,?,?)\n"
     ]
    },
    {
     "name": "stdout",
     "output_type": "stream",
     "text": [
      "13:17:39.929 DEBUG org.hibernate.SQL - select count(*)>0 from CUSTOMER c1_0 where c1_0.email=?\n"
     ]
    },
    {
     "name": "stdout",
     "output_type": "stream",
     "text": [
      "13:17:39.930 DEBUG org.hibernate.SQL - insert into CUSTOMER (birthDate,creationDate,email,firstname,lastname,photo,status,version,ID) values (?,?,?,?,?,?,?,?,?)\n"
     ]
    },
    {
     "name": "stdout",
     "output_type": "stream",
     "text": [
      "13:17:39.930 DEBUG org.hibernate.SQL - select count(*)>0 from CUSTOMER c1_0 where c1_0.email=?\n"
     ]
    },
    {
     "name": "stdout",
     "output_type": "stream",
     "text": [
      "13:17:39.931 DEBUG org.hibernate.SQL - insert into CUSTOMER (birthDate,creationDate,email,firstname,lastname,photo,status,version,ID) values (?,?,?,?,?,?,?,?,?)\n"
     ]
    },
    {
     "name": "stdout",
     "output_type": "stream",
     "text": [
      "13:17:39.931 DEBUG org.hibernate.SQL - select count(*)>0 from CUSTOMER c1_0 where c1_0.email=?\n"
     ]
    },
    {
     "name": "stdout",
     "output_type": "stream",
     "text": [
      "13:17:39.931 DEBUG org.hibernate.SQL - insert into CUSTOMER (birthDate,creationDate,email,firstname,lastname,photo,status,version,ID) values (?,?,?,?,?,?,?,?,?)\n"
     ]
    },
    {
     "name": "stdout",
     "output_type": "stream",
     "text": [
      "13:17:39.931 DEBUG org.hibernate.SQL - select count(*)>0 from CUSTOMER c1_0 where c1_0.email=?\n"
     ]
    },
    {
     "name": "stdout",
     "output_type": "stream",
     "text": [
      "13:17:39.932 DEBUG org.hibernate.SQL - insert into CUSTOMER (birthDate,creationDate,email,firstname,lastname,photo,status,version,ID) values (?,?,?,?,?,?,?,?,?)\n"
     ]
    },
    {
     "name": "stdout",
     "output_type": "stream",
     "text": [
      "13:17:39.932 DEBUG org.hibernate.SQL - select count(*)>0 from CUSTOMER c1_0 where c1_0.email=?\n"
     ]
    },
    {
     "name": "stdout",
     "output_type": "stream",
     "text": [
      "13:17:39.933 DEBUG org.hibernate.SQL - insert into CUSTOMER (birthDate,creationDate,email,firstname,lastname,photo,status,version,ID) values (?,?,?,?,?,?,?,?,?)\n"
     ]
    },
    {
     "name": "stdout",
     "output_type": "stream",
     "text": [
      "13:17:39.933 DEBUG org.hibernate.SQL - select count(*)>0 from CUSTOMER c1_0 where c1_0.email=?\n"
     ]
    },
    {
     "name": "stdout",
     "output_type": "stream",
     "text": [
      "13:17:39.933 DEBUG org.hibernate.SQL - insert into CUSTOMER (birthDate,creationDate,email,firstname,lastname,photo,status,version,ID) values (?,?,?,?,?,?,?,?,?)\n"
     ]
    },
    {
     "name": "stdout",
     "output_type": "stream",
     "text": [
      "13:17:39.934 DEBUG org.hibernate.SQL - select count(*)>0 from CUSTOMER c1_0 where c1_0.email=?\n"
     ]
    },
    {
     "name": "stdout",
     "output_type": "stream",
     "text": [
      "13:17:39.934 DEBUG org.hibernate.SQL - insert into CUSTOMER (birthDate,creationDate,email,firstname,lastname,photo,status,version,ID) values (?,?,?,?,?,?,?,?,?)\n"
     ]
    },
    {
     "name": "stdout",
     "output_type": "stream",
     "text": [
      "13:17:39.935 DEBUG org.hibernate.SQL - select count(*)>0 from CUSTOMER c1_0 where c1_0.email=?\n"
     ]
    },
    {
     "name": "stdout",
     "output_type": "stream",
     "text": [
      "13:17:39.935 DEBUG org.hibernate.SQL - insert into CUSTOMER (birthDate,creationDate,email,firstname,lastname,photo,status,version,ID) values (?,?,?,?,?,?,?,?,?)\n"
     ]
    },
    {
     "name": "stdout",
     "output_type": "stream",
     "text": [
      "13:17:39.936 DEBUG org.hibernate.SQL - select count(*)>0 from CUSTOMER c1_0 where c1_0.email=?\n"
     ]
    },
    {
     "name": "stdout",
     "output_type": "stream",
     "text": [
      "13:17:39.936 DEBUG org.hibernate.SQL - insert into CUSTOMER (birthDate,creationDate,email,firstname,lastname,photo,status,version,ID) values (?,?,?,?,?,?,?,?,?)\n"
     ]
    },
    {
     "name": "stdout",
     "output_type": "stream",
     "text": [
      "13:17:39.936 DEBUG org.hibernate.SQL - select count(*)>0 from CUSTOMER c1_0 where c1_0.email=?\n"
     ]
    },
    {
     "name": "stdout",
     "output_type": "stream",
     "text": [
      "13:17:39.937 DEBUG org.hibernate.SQL - insert into CUSTOMER (birthDate,creationDate,email,firstname,lastname,photo,status,version,ID) values (?,?,?,?,?,?,?,?,?)\n"
     ]
    },
    {
     "name": "stdout",
     "output_type": "stream",
     "text": [
      "13:17:39.937 DEBUG org.hibernate.SQL - select count(*)>0 from CUSTOMER c1_0 where c1_0.email=?\n"
     ]
    },
    {
     "name": "stdout",
     "output_type": "stream",
     "text": [
      "13:17:39.938 DEBUG org.hibernate.SQL - insert into CUSTOMER (birthDate,creationDate,email,firstname,lastname,photo,status,version,ID) values (?,?,?,?,?,?,?,?,?)\n"
     ]
    },
    {
     "name": "stdout",
     "output_type": "stream",
     "text": [
      "13:17:39.938 DEBUG org.hibernate.SQL - select count(*)>0 from CUSTOMER c1_0 where c1_0.email=?\n"
     ]
    },
    {
     "name": "stdout",
     "output_type": "stream",
     "text": [
      "13:17:39.939 DEBUG org.hibernate.SQL - insert into CUSTOMER (birthDate,creationDate,email,firstname,lastname,photo,status,version,ID) values (?,?,?,?,?,?,?,?,?)\n"
     ]
    },
    {
     "name": "stdout",
     "output_type": "stream",
     "text": [
      "13:17:39.939 DEBUG org.hibernate.SQL - select count(*)>0 from CUSTOMER c1_0 where c1_0.email=?\n"
     ]
    },
    {
     "name": "stdout",
     "output_type": "stream",
     "text": [
      "13:17:39.939 DEBUG org.hibernate.SQL - insert into CUSTOMER (birthDate,creationDate,email,firstname,lastname,photo,status,version,ID) values (?,?,?,?,?,?,?,?,?)\n"
     ]
    },
    {
     "name": "stdout",
     "output_type": "stream",
     "text": [
      "13:17:39.940 DEBUG org.hibernate.SQL - select count(*)>0 from CUSTOMER c1_0 where c1_0.email=?\n"
     ]
    },
    {
     "name": "stdout",
     "output_type": "stream",
     "text": [
      "13:17:39.940 DEBUG org.hibernate.SQL - insert into CUSTOMER (birthDate,creationDate,email,firstname,lastname,photo,status,version,ID) values (?,?,?,?,?,?,?,?,?)\n"
     ]
    },
    {
     "name": "stdout",
     "output_type": "stream",
     "text": [
      "13:17:39.941 DEBUG org.hibernate.SQL - select count(*)>0 from CUSTOMER c1_0 where c1_0.email=?\n"
     ]
    },
    {
     "name": "stdout",
     "output_type": "stream",
     "text": [
      "13:17:39.941 DEBUG org.hibernate.SQL - insert into CUSTOMER (birthDate,creationDate,email,firstname,lastname,photo,status,version,ID) values (?,?,?,?,?,?,?,?,?)\n"
     ]
    },
    {
     "name": "stdout",
     "output_type": "stream",
     "text": [
      "13:17:39.942 DEBUG org.hibernate.SQL - select count(*)>0 from CUSTOMER c1_0 where c1_0.email=?\n"
     ]
    },
    {
     "name": "stdout",
     "output_type": "stream",
     "text": [
      "13:17:39.942 DEBUG org.hibernate.SQL - insert into CUSTOMER (birthDate,creationDate,email,firstname,lastname,photo,status,version,ID) values (?,?,?,?,?,?,?,?,?)\n"
     ]
    },
    {
     "name": "stdout",
     "output_type": "stream",
     "text": [
      "13:17:39.943 DEBUG org.hibernate.SQL - select count(*)>0 from CUSTOMER c1_0 where c1_0.email=?\n"
     ]
    },
    {
     "name": "stdout",
     "output_type": "stream",
     "text": [
      "13:17:39.945 DEBUG org.hibernate.SQL - insert into CUSTOMER (birthDate,creationDate,email,firstname,lastname,photo,status,version,ID) values (?,?,?,?,?,?,?,?,?)\n"
     ]
    },
    {
     "name": "stdout",
     "output_type": "stream",
     "text": [
      "13:17:39.946 DEBUG org.hibernate.SQL - select count(*)>0 from CUSTOMER c1_0 where c1_0.email=?\n"
     ]
    },
    {
     "name": "stdout",
     "output_type": "stream",
     "text": [
      "13:17:39.947 DEBUG org.hibernate.SQL - insert into CUSTOMER (birthDate,creationDate,email,firstname,lastname,photo,status,version,ID) values (?,?,?,?,?,?,?,?,?)\n"
     ]
    },
    {
     "name": "stdout",
     "output_type": "stream",
     "text": [
      "13:17:39.948 DEBUG org.hibernate.SQL - select count(*)>0 from CUSTOMER c1_0 where c1_0.email=?\n"
     ]
    },
    {
     "name": "stdout",
     "output_type": "stream",
     "text": [
      "13:17:39.951 DEBUG org.hibernate.SQL - insert into CUSTOMER (birthDate,creationDate,email,firstname,lastname,photo,status,version,ID) values (?,?,?,?,?,?,?,?,?)\n"
     ]
    },
    {
     "name": "stdout",
     "output_type": "stream",
     "text": [
      "13:17:39.952 DEBUG org.hibernate.SQL - select count(*)>0 from CUSTOMER c1_0 where c1_0.email=?\n"
     ]
    },
    {
     "name": "stdout",
     "output_type": "stream",
     "text": [
      "13:17:39.954 DEBUG org.hibernate.SQL - insert into CUSTOMER (birthDate,creationDate,email,firstname,lastname,photo,status,version,ID) values (?,?,?,?,?,?,?,?,?)\n"
     ]
    },
    {
     "name": "stdout",
     "output_type": "stream",
     "text": [
      "13:17:39.955 DEBUG org.hibernate.SQL - select count(*)>0 from CUSTOMER c1_0 where c1_0.email=?\n"
     ]
    },
    {
     "name": "stdout",
     "output_type": "stream",
     "text": [
      "13:17:39.959 DEBUG org.hibernate.SQL - insert into CUSTOMER (birthDate,creationDate,email,firstname,lastname,photo,status,version,ID) values (?,?,?,?,?,?,?,?,?)\n"
     ]
    },
    {
     "name": "stdout",
     "output_type": "stream",
     "text": [
      "13:17:39.960 DEBUG org.hibernate.SQL - select count(*)>0 from CUSTOMER c1_0 where c1_0.email=?\n"
     ]
    },
    {
     "name": "stdout",
     "output_type": "stream",
     "text": [
      "13:17:39.962 DEBUG org.hibernate.SQL - insert into CUSTOMER (birthDate,creationDate,email,firstname,lastname,photo,status,version,ID) values (?,?,?,?,?,?,?,?,?)\n"
     ]
    },
    {
     "name": "stdout",
     "output_type": "stream",
     "text": [
      "13:17:39.963 DEBUG org.hibernate.SQL - select count(*)>0 from CUSTOMER c1_0 where c1_0.email=?\n"
     ]
    },
    {
     "name": "stdout",
     "output_type": "stream",
     "text": [
      "13:17:39.964 DEBUG org.hibernate.SQL - insert into CUSTOMER (birthDate,creationDate,email,firstname,lastname,photo,status,version,ID) values (?,?,?,?,?,?,?,?,?)\n"
     ]
    },
    {
     "name": "stdout",
     "output_type": "stream",
     "text": [
      "13:17:39.964 DEBUG org.hibernate.SQL - select count(*)>0 from CUSTOMER c1_0 where c1_0.email=?\n"
     ]
    },
    {
     "name": "stdout",
     "output_type": "stream",
     "text": [
      "13:17:39.965 DEBUG org.hibernate.SQL - insert into CUSTOMER (birthDate,creationDate,email,firstname,lastname,photo,status,version,ID) values (?,?,?,?,?,?,?,?,?)\n"
     ]
    },
    {
     "name": "stdout",
     "output_type": "stream",
     "text": [
      "13:17:39.965 DEBUG org.hibernate.SQL - select count(*)>0 from CUSTOMER c1_0 where c1_0.email=?\n"
     ]
    },
    {
     "name": "stdout",
     "output_type": "stream",
     "text": [
      "13:17:39.966 DEBUG org.hibernate.SQL - insert into CUSTOMER (birthDate,creationDate,email,firstname,lastname,photo,status,version,ID) values (?,?,?,?,?,?,?,?,?)\n"
     ]
    },
    {
     "name": "stdout",
     "output_type": "stream",
     "text": [
      "13:17:39.967 DEBUG org.hibernate.SQL - select count(*)>0 from CUSTOMER c1_0 where c1_0.email=?\n"
     ]
    },
    {
     "name": "stdout",
     "output_type": "stream",
     "text": [
      "13:17:39.967 DEBUG org.hibernate.SQL - insert into CUSTOMER (birthDate,creationDate,email,firstname,lastname,photo,status,version,ID) values (?,?,?,?,?,?,?,?,?)\n"
     ]
    },
    {
     "name": "stdout",
     "output_type": "stream",
     "text": [
      "13:17:39.967 DEBUG org.hibernate.SQL - select count(*)>0 from CUSTOMER c1_0 where c1_0.email=?\n"
     ]
    },
    {
     "name": "stdout",
     "output_type": "stream",
     "text": [
      "13:17:39.968 DEBUG org.hibernate.SQL - insert into CUSTOMER (birthDate,creationDate,email,firstname,lastname,photo,status,version,ID) values (?,?,?,?,?,?,?,?,?)\n"
     ]
    },
    {
     "name": "stdout",
     "output_type": "stream",
     "text": [
      "13:17:39.968 DEBUG org.hibernate.SQL - select count(*)>0 from CUSTOMER c1_0 where c1_0.email=?\n"
     ]
    },
    {
     "name": "stdout",
     "output_type": "stream",
     "text": [
      "13:17:39.969 DEBUG org.hibernate.SQL - insert into CUSTOMER (birthDate,creationDate,email,firstname,lastname,photo,status,version,ID) values (?,?,?,?,?,?,?,?,?)\n"
     ]
    },
    {
     "name": "stdout",
     "output_type": "stream",
     "text": [
      "13:17:39.969 DEBUG org.hibernate.SQL - select count(*)>0 from CUSTOMER c1_0 where c1_0.email=?\n"
     ]
    },
    {
     "name": "stdout",
     "output_type": "stream",
     "text": [
      "13:17:39.970 DEBUG org.hibernate.SQL - insert into CUSTOMER (birthDate,creationDate,email,firstname,lastname,photo,status,version,ID) values (?,?,?,?,?,?,?,?,?)\n"
     ]
    },
    {
     "name": "stdout",
     "output_type": "stream",
     "text": [
      "13:17:39.970 DEBUG org.hibernate.SQL - select count(*)>0 from CUSTOMER c1_0 where c1_0.email=?\n"
     ]
    },
    {
     "name": "stdout",
     "output_type": "stream",
     "text": [
      "13:17:39.972 DEBUG org.hibernate.SQL - insert into CUSTOMER (birthDate,creationDate,email,firstname,lastname,photo,status,version,ID) values (?,?,?,?,?,?,?,?,?)\n"
     ]
    },
    {
     "name": "stdout",
     "output_type": "stream",
     "text": [
      "13:17:39.973 DEBUG org.hibernate.SQL - select count(*)>0 from CUSTOMER c1_0 where c1_0.email=?\n"
     ]
    },
    {
     "name": "stdout",
     "output_type": "stream",
     "text": [
      "13:17:39.976 DEBUG org.hibernate.SQL - insert into CUSTOMER (birthDate,creationDate,email,firstname,lastname,photo,status,version,ID) values (?,?,?,?,?,?,?,?,?)\n"
     ]
    },
    {
     "name": "stdout",
     "output_type": "stream",
     "text": [
      "13:17:39.977 DEBUG org.hibernate.SQL - select count(*)>0 from CUSTOMER c1_0 where c1_0.email=?\n"
     ]
    },
    {
     "name": "stdout",
     "output_type": "stream",
     "text": [
      "13:17:39.978 DEBUG org.hibernate.SQL - insert into CUSTOMER (birthDate,creationDate,email,firstname,lastname,photo,status,version,ID) values (?,?,?,?,?,?,?,?,?)\n"
     ]
    },
    {
     "name": "stdout",
     "output_type": "stream",
     "text": [
      "13:17:39.978 DEBUG org.hibernate.SQL - select count(*)>0 from CUSTOMER c1_0 where c1_0.email=?\n"
     ]
    },
    {
     "name": "stdout",
     "output_type": "stream",
     "text": [
      "13:17:39.979 DEBUG org.hibernate.SQL - insert into CUSTOMER (birthDate,creationDate,email,firstname,lastname,photo,status,version,ID) values (?,?,?,?,?,?,?,?,?)\n"
     ]
    },
    {
     "name": "stdout",
     "output_type": "stream",
     "text": [
      "13:17:39.979 DEBUG org.hibernate.SQL - select count(*)>0 from CUSTOMER c1_0 where c1_0.email=?\n"
     ]
    },
    {
     "name": "stdout",
     "output_type": "stream",
     "text": [
      "13:17:39.980 DEBUG org.hibernate.SQL - insert into CUSTOMER (birthDate,creationDate,email,firstname,lastname,photo,status,version,ID) values (?,?,?,?,?,?,?,?,?)\n"
     ]
    },
    {
     "name": "stdout",
     "output_type": "stream",
     "text": [
      "13:17:39.980 DEBUG org.hibernate.SQL - select count(*)>0 from CUSTOMER c1_0 where c1_0.email=?\n"
     ]
    },
    {
     "name": "stdout",
     "output_type": "stream",
     "text": [
      "13:17:39.981 DEBUG org.hibernate.SQL - insert into CUSTOMER (birthDate,creationDate,email,firstname,lastname,photo,status,version,ID) values (?,?,?,?,?,?,?,?,?)\n"
     ]
    },
    {
     "name": "stdout",
     "output_type": "stream",
     "text": [
      "13:17:39.981 DEBUG org.hibernate.SQL - select count(*)>0 from CUSTOMER c1_0 where c1_0.email=?\n"
     ]
    },
    {
     "name": "stdout",
     "output_type": "stream",
     "text": [
      "13:17:39.982 DEBUG org.hibernate.SQL - insert into CUSTOMER (birthDate,creationDate,email,firstname,lastname,photo,status,version,ID) values (?,?,?,?,?,?,?,?,?)\n"
     ]
    },
    {
     "name": "stdout",
     "output_type": "stream",
     "text": [
      "13:17:39.982 DEBUG org.hibernate.SQL - select count(*)>0 from CUSTOMER c1_0 where c1_0.email=?\n"
     ]
    },
    {
     "name": "stdout",
     "output_type": "stream",
     "text": [
      "13:17:39.983 DEBUG org.hibernate.SQL - insert into CUSTOMER (birthDate,creationDate,email,firstname,lastname,photo,status,version,ID) values (?,?,?,?,?,?,?,?,?)\n"
     ]
    },
    {
     "name": "stdout",
     "output_type": "stream",
     "text": [
      "13:17:39.983 DEBUG org.hibernate.SQL - select count(*)>0 from CUSTOMER c1_0 where c1_0.email=?\n"
     ]
    },
    {
     "name": "stdout",
     "output_type": "stream",
     "text": [
      "13:17:39.984 DEBUG org.hibernate.SQL - insert into CUSTOMER (birthDate,creationDate,email,firstname,lastname,photo,status,version,ID) values (?,?,?,?,?,?,?,?,?)\n"
     ]
    },
    {
     "name": "stdout",
     "output_type": "stream",
     "text": [
      "13:17:39.984 DEBUG org.hibernate.SQL - select count(*)>0 from CUSTOMER c1_0 where c1_0.email=?\n"
     ]
    },
    {
     "name": "stdout",
     "output_type": "stream",
     "text": [
      "13:17:39.985 DEBUG org.hibernate.SQL - insert into CUSTOMER (birthDate,creationDate,email,firstname,lastname,photo,status,version,ID) values (?,?,?,?,?,?,?,?,?)\n"
     ]
    },
    {
     "name": "stdout",
     "output_type": "stream",
     "text": [
      "13:17:39.985 DEBUG org.hibernate.SQL - select count(*)>0 from CUSTOMER c1_0 where c1_0.email=?\n"
     ]
    },
    {
     "name": "stdout",
     "output_type": "stream",
     "text": [
      "13:17:39.985 DEBUG org.hibernate.SQL - insert into CUSTOMER (birthDate,creationDate,email,firstname,lastname,photo,status,version,ID) values (?,?,?,?,?,?,?,?,?)\n"
     ]
    },
    {
     "name": "stdout",
     "output_type": "stream",
     "text": [
      "13:17:39.986 DEBUG org.hibernate.SQL - select count(*)>0 from CUSTOMER c1_0 where c1_0.email=?\n"
     ]
    },
    {
     "name": "stdout",
     "output_type": "stream",
     "text": [
      "13:17:39.986 DEBUG org.hibernate.SQL - insert into CUSTOMER (birthDate,creationDate,email,firstname,lastname,photo,status,version,ID) values (?,?,?,?,?,?,?,?,?)\n"
     ]
    },
    {
     "name": "stdout",
     "output_type": "stream",
     "text": [
      "13:17:39.987 DEBUG org.hibernate.SQL - select count(*)>0 from CUSTOMER c1_0 where c1_0.email=?\n"
     ]
    },
    {
     "name": "stdout",
     "output_type": "stream",
     "text": [
      "13:17:39.987 DEBUG org.hibernate.SQL - insert into CUSTOMER (birthDate,creationDate,email,firstname,lastname,photo,status,version,ID) values (?,?,?,?,?,?,?,?,?)\n"
     ]
    },
    {
     "name": "stdout",
     "output_type": "stream",
     "text": [
      "13:17:39.988 DEBUG org.hibernate.SQL - select count(*)>0 from CUSTOMER c1_0 where c1_0.email=?\n"
     ]
    },
    {
     "name": "stdout",
     "output_type": "stream",
     "text": [
      "13:17:39.988 DEBUG org.hibernate.SQL - insert into CUSTOMER (birthDate,creationDate,email,firstname,lastname,photo,status,version,ID) values (?,?,?,?,?,?,?,?,?)\n"
     ]
    },
    {
     "name": "stdout",
     "output_type": "stream",
     "text": [
      "13:17:39.988 DEBUG org.hibernate.SQL - select count(*)>0 from CUSTOMER c1_0 where c1_0.email=?\n"
     ]
    },
    {
     "name": "stdout",
     "output_type": "stream",
     "text": [
      "13:17:39.989 DEBUG org.hibernate.SQL - insert into CUSTOMER (birthDate,creationDate,email,firstname,lastname,photo,status,version,ID) values (?,?,?,?,?,?,?,?,?)\n"
     ]
    },
    {
     "name": "stdout",
     "output_type": "stream",
     "text": [
      "13:17:39.990 DEBUG org.hibernate.SQL - select count(*)>0 from CUSTOMER c1_0 where c1_0.email=?\n"
     ]
    },
    {
     "name": "stdout",
     "output_type": "stream",
     "text": [
      "13:17:39.990 DEBUG org.hibernate.SQL - insert into CUSTOMER (birthDate,creationDate,email,firstname,lastname,photo,status,version,ID) values (?,?,?,?,?,?,?,?,?)\n"
     ]
    },
    {
     "name": "stdout",
     "output_type": "stream",
     "text": [
      "13:17:39.991 DEBUG org.hibernate.SQL - select count(*)>0 from CUSTOMER c1_0 where c1_0.email=?\n"
     ]
    },
    {
     "name": "stdout",
     "output_type": "stream",
     "text": [
      "13:17:39.991 DEBUG org.hibernate.SQL - insert into CUSTOMER (birthDate,creationDate,email,firstname,lastname,photo,status,version,ID) values (?,?,?,?,?,?,?,?,?)\n"
     ]
    },
    {
     "name": "stdout",
     "output_type": "stream",
     "text": [
      "13:17:39.992 DEBUG org.hibernate.SQL - select count(*)>0 from CUSTOMER c1_0 where c1_0.email=?\n"
     ]
    },
    {
     "name": "stdout",
     "output_type": "stream",
     "text": [
      "13:17:39.993 DEBUG org.hibernate.SQL - insert into CUSTOMER (birthDate,creationDate,email,firstname,lastname,photo,status,version,ID) values (?,?,?,?,?,?,?,?,?)\n"
     ]
    },
    {
     "name": "stdout",
     "output_type": "stream",
     "text": [
      "13:17:39.993 DEBUG org.hibernate.SQL - select count(*)>0 from CUSTOMER c1_0 where c1_0.email=?\n"
     ]
    },
    {
     "name": "stdout",
     "output_type": "stream",
     "text": [
      "13:17:39.994 DEBUG org.hibernate.SQL - insert into CUSTOMER (birthDate,creationDate,email,firstname,lastname,photo,status,version,ID) values (?,?,?,?,?,?,?,?,?)\n"
     ]
    },
    {
     "name": "stdout",
     "output_type": "stream",
     "text": [
      "13:17:39.994 DEBUG org.hibernate.SQL - select count(*)>0 from CUSTOMER c1_0 where c1_0.email=?\n"
     ]
    },
    {
     "name": "stdout",
     "output_type": "stream",
     "text": [
      "13:17:39.995 DEBUG org.hibernate.SQL - insert into CUSTOMER (birthDate,creationDate,email,firstname,lastname,photo,status,version,ID) values (?,?,?,?,?,?,?,?,?)\n"
     ]
    },
    {
     "name": "stdout",
     "output_type": "stream",
     "text": [
      "13:17:39.995 DEBUG org.hibernate.SQL - select count(*)>0 from CUSTOMER c1_0 where c1_0.email=?\n"
     ]
    },
    {
     "name": "stdout",
     "output_type": "stream",
     "text": [
      "13:17:39.995 DEBUG org.hibernate.SQL - select nextval('CUSTOMER_SEQ')\n"
     ]
    },
    {
     "name": "stdout",
     "output_type": "stream",
     "text": [
      "13:17:39.996 DEBUG org.hibernate.SQL - insert into CUSTOMER (birthDate,creationDate,email,firstname,lastname,photo,status,version,ID) values (?,?,?,?,?,?,?,?,?)\n"
     ]
    },
    {
     "name": "stdout",
     "output_type": "stream",
     "text": [
      "13:17:39.996 DEBUG org.hibernate.SQL - select count(*)>0 from CUSTOMER c1_0 where c1_0.email=?\n"
     ]
    },
    {
     "name": "stdout",
     "output_type": "stream",
     "text": [
      "13:17:39.997 DEBUG org.hibernate.SQL - insert into CUSTOMER (birthDate,creationDate,email,firstname,lastname,photo,status,version,ID) values (?,?,?,?,?,?,?,?,?)\n"
     ]
    },
    {
     "name": "stdout",
     "output_type": "stream",
     "text": [
      "13:17:39.997 DEBUG org.hibernate.SQL - select count(*)>0 from CUSTOMER c1_0 where c1_0.email=?\n"
     ]
    },
    {
     "name": "stdout",
     "output_type": "stream",
     "text": [
      "13:17:39.998 DEBUG org.hibernate.SQL - insert into CUSTOMER (birthDate,creationDate,email,firstname,lastname,photo,status,version,ID) values (?,?,?,?,?,?,?,?,?)\n"
     ]
    },
    {
     "name": "stdout",
     "output_type": "stream",
     "text": [
      "13:17:39.998 DEBUG org.hibernate.SQL - select count(*)>0 from CUSTOMER c1_0 where c1_0.email=?\n"
     ]
    },
    {
     "name": "stdout",
     "output_type": "stream",
     "text": [
      "13:17:39.998 DEBUG org.hibernate.SQL - insert into CUSTOMER (birthDate,creationDate,email,firstname,lastname,photo,status,version,ID) values (?,?,?,?,?,?,?,?,?)\n"
     ]
    },
    {
     "name": "stdout",
     "output_type": "stream",
     "text": [
      "13:17:39.999 DEBUG org.hibernate.SQL - select count(*)>0 from CUSTOMER c1_0 where c1_0.email=?\n"
     ]
    },
    {
     "name": "stdout",
     "output_type": "stream",
     "text": [
      "13:17:39.999 DEBUG org.hibernate.SQL - insert into CUSTOMER (birthDate,creationDate,email,firstname,lastname,photo,status,version,ID) values (?,?,?,?,?,?,?,?,?)\n"
     ]
    },
    {
     "name": "stdout",
     "output_type": "stream",
     "text": [
      "13:17:40.000 DEBUG org.hibernate.SQL - select count(*)>0 from CUSTOMER c1_0 where c1_0.email=?\n"
     ]
    },
    {
     "name": "stdout",
     "output_type": "stream",
     "text": [
      "13:17:40.000 DEBUG org.hibernate.SQL - insert into CUSTOMER (birthDate,creationDate,email,firstname,lastname,photo,status,version,ID) values (?,?,?,?,?,?,?,?,?)\n"
     ]
    },
    {
     "name": "stdout",
     "output_type": "stream",
     "text": [
      "13:17:40.000 DEBUG org.hibernate.SQL - select count(*)>0 from CUSTOMER c1_0 where c1_0.email=?\n"
     ]
    },
    {
     "name": "stdout",
     "output_type": "stream",
     "text": [
      "13:17:40.001 DEBUG org.hibernate.SQL - insert into CUSTOMER (birthDate,creationDate,email,firstname,lastname,photo,status,version,ID) values (?,?,?,?,?,?,?,?,?)\n"
     ]
    },
    {
     "name": "stdout",
     "output_type": "stream",
     "text": [
      "13:17:40.001 DEBUG org.hibernate.SQL - select count(*)>0 from CUSTOMER c1_0 where c1_0.email=?\n"
     ]
    },
    {
     "name": "stdout",
     "output_type": "stream",
     "text": [
      "13:17:40.002 DEBUG org.hibernate.SQL - insert into CUSTOMER (birthDate,creationDate,email,firstname,lastname,photo,status,version,ID) values (?,?,?,?,?,?,?,?,?)\n"
     ]
    },
    {
     "name": "stdout",
     "output_type": "stream",
     "text": [
      "13:17:40.002 DEBUG org.hibernate.SQL - select count(*)>0 from CUSTOMER c1_0 where c1_0.email=?\n"
     ]
    },
    {
     "name": "stdout",
     "output_type": "stream",
     "text": [
      "13:17:40.003 DEBUG org.hibernate.SQL - insert into CUSTOMER (birthDate,creationDate,email,firstname,lastname,photo,status,version,ID) values (?,?,?,?,?,?,?,?,?)\n"
     ]
    },
    {
     "name": "stdout",
     "output_type": "stream",
     "text": [
      "13:17:40.003 DEBUG org.hibernate.SQL - select count(*)>0 from CUSTOMER c1_0 where c1_0.email=?\n"
     ]
    },
    {
     "name": "stdout",
     "output_type": "stream",
     "text": [
      "13:17:40.003 DEBUG org.hibernate.SQL - insert into CUSTOMER (birthDate,creationDate,email,firstname,lastname,photo,status,version,ID) values (?,?,?,?,?,?,?,?,?)\n"
     ]
    },
    {
     "name": "stdout",
     "output_type": "stream",
     "text": [
      "13:17:40.004 DEBUG org.hibernate.SQL - select count(*)>0 from CUSTOMER c1_0 where c1_0.email=?\n"
     ]
    },
    {
     "name": "stdout",
     "output_type": "stream",
     "text": [
      "13:17:40.004 DEBUG org.hibernate.SQL - insert into CUSTOMER (birthDate,creationDate,email,firstname,lastname,photo,status,version,ID) values (?,?,?,?,?,?,?,?,?)\n"
     ]
    },
    {
     "name": "stdout",
     "output_type": "stream",
     "text": [
      "13:17:40.005 DEBUG org.hibernate.SQL - select count(*)>0 from CUSTOMER c1_0 where c1_0.email=?\n"
     ]
    },
    {
     "name": "stdout",
     "output_type": "stream",
     "text": [
      "13:17:40.005 DEBUG org.hibernate.SQL - insert into CUSTOMER (birthDate,creationDate,email,firstname,lastname,photo,status,version,ID) values (?,?,?,?,?,?,?,?,?)\n"
     ]
    },
    {
     "name": "stdout",
     "output_type": "stream",
     "text": [
      "13:17:40.006 DEBUG org.hibernate.SQL - select count(*)>0 from CUSTOMER c1_0 where c1_0.email=?\n"
     ]
    },
    {
     "name": "stdout",
     "output_type": "stream",
     "text": [
      "13:17:40.006 DEBUG org.hibernate.SQL - insert into CUSTOMER (birthDate,creationDate,email,firstname,lastname,photo,status,version,ID) values (?,?,?,?,?,?,?,?,?)\n"
     ]
    },
    {
     "name": "stdout",
     "output_type": "stream",
     "text": [
      "13:17:40.007 DEBUG org.hibernate.SQL - select count(*)>0 from CUSTOMER c1_0 where c1_0.email=?\n"
     ]
    },
    {
     "name": "stdout",
     "output_type": "stream",
     "text": [
      "13:17:40.007 DEBUG org.hibernate.SQL - insert into CUSTOMER (birthDate,creationDate,email,firstname,lastname,photo,status,version,ID) values (?,?,?,?,?,?,?,?,?)\n"
     ]
    },
    {
     "name": "stdout",
     "output_type": "stream",
     "text": [
      "13:17:40.007 DEBUG org.hibernate.SQL - select count(*)>0 from CUSTOMER c1_0 where c1_0.email=?\n"
     ]
    },
    {
     "name": "stdout",
     "output_type": "stream",
     "text": [
      "13:17:40.008 DEBUG org.hibernate.SQL - insert into CUSTOMER (birthDate,creationDate,email,firstname,lastname,photo,status,version,ID) values (?,?,?,?,?,?,?,?,?)\n"
     ]
    },
    {
     "name": "stdout",
     "output_type": "stream",
     "text": [
      "13:17:40.008 DEBUG org.hibernate.SQL - select count(*)>0 from CUSTOMER c1_0 where c1_0.email=?\n"
     ]
    },
    {
     "name": "stdout",
     "output_type": "stream",
     "text": [
      "13:17:40.009 DEBUG org.hibernate.SQL - insert into CUSTOMER (birthDate,creationDate,email,firstname,lastname,photo,status,version,ID) values (?,?,?,?,?,?,?,?,?)\n"
     ]
    },
    {
     "name": "stdout",
     "output_type": "stream",
     "text": [
      "13:17:40.009 DEBUG org.hibernate.SQL - select count(*)>0 from CUSTOMER c1_0 where c1_0.email=?\n"
     ]
    },
    {
     "name": "stdout",
     "output_type": "stream",
     "text": [
      "13:17:40.010 DEBUG org.hibernate.SQL - insert into CUSTOMER (birthDate,creationDate,email,firstname,lastname,photo,status,version,ID) values (?,?,?,?,?,?,?,?,?)\n"
     ]
    },
    {
     "name": "stdout",
     "output_type": "stream",
     "text": [
      "13:17:40.010 DEBUG org.hibernate.SQL - select count(*)>0 from CUSTOMER c1_0 where c1_0.email=?\n"
     ]
    },
    {
     "name": "stdout",
     "output_type": "stream",
     "text": [
      "13:17:40.011 DEBUG org.hibernate.SQL - insert into CUSTOMER (birthDate,creationDate,email,firstname,lastname,photo,status,version,ID) values (?,?,?,?,?,?,?,?,?)\n"
     ]
    },
    {
     "name": "stdout",
     "output_type": "stream",
     "text": [
      "13:17:40.011 DEBUG org.hibernate.SQL - select count(*)>0 from CUSTOMER c1_0 where c1_0.email=?\n"
     ]
    },
    {
     "name": "stdout",
     "output_type": "stream",
     "text": [
      "13:17:40.011 DEBUG org.hibernate.SQL - insert into CUSTOMER (birthDate,creationDate,email,firstname,lastname,photo,status,version,ID) values (?,?,?,?,?,?,?,?,?)\n"
     ]
    },
    {
     "name": "stdout",
     "output_type": "stream",
     "text": [
      "13:17:40.012 DEBUG org.hibernate.SQL - select count(*)>0 from CUSTOMER c1_0 where c1_0.email=?\n"
     ]
    },
    {
     "name": "stdout",
     "output_type": "stream",
     "text": [
      "13:17:40.012 DEBUG org.hibernate.SQL - insert into CUSTOMER (birthDate,creationDate,email,firstname,lastname,photo,status,version,ID) values (?,?,?,?,?,?,?,?,?)\n"
     ]
    },
    {
     "name": "stdout",
     "output_type": "stream",
     "text": [
      "13:17:40.012 DEBUG org.hibernate.SQL - select count(*)>0 from CUSTOMER c1_0 where c1_0.email=?\n"
     ]
    },
    {
     "name": "stdout",
     "output_type": "stream",
     "text": [
      "13:17:40.013 DEBUG org.hibernate.SQL - insert into CUSTOMER (birthDate,creationDate,email,firstname,lastname,photo,status,version,ID) values (?,?,?,?,?,?,?,?,?)\n"
     ]
    },
    {
     "name": "stdout",
     "output_type": "stream",
     "text": [
      "13:17:40.013 DEBUG org.hibernate.SQL - select count(*)>0 from CUSTOMER c1_0 where c1_0.email=?\n"
     ]
    },
    {
     "name": "stdout",
     "output_type": "stream",
     "text": [
      "13:17:40.014 DEBUG org.hibernate.SQL - insert into CUSTOMER (birthDate,creationDate,email,firstname,lastname,photo,status,version,ID) values (?,?,?,?,?,?,?,?,?)\n"
     ]
    },
    {
     "name": "stdout",
     "output_type": "stream",
     "text": [
      "13:17:40.014 DEBUG org.hibernate.SQL - select count(*)>0 from CUSTOMER c1_0 where c1_0.email=?\n"
     ]
    },
    {
     "name": "stdout",
     "output_type": "stream",
     "text": [
      "13:17:40.014 DEBUG org.hibernate.SQL - insert into CUSTOMER (birthDate,creationDate,email,firstname,lastname,photo,status,version,ID) values (?,?,?,?,?,?,?,?,?)\n"
     ]
    },
    {
     "name": "stdout",
     "output_type": "stream",
     "text": [
      "13:17:40.015 DEBUG org.hibernate.SQL - select count(*)>0 from CUSTOMER c1_0 where c1_0.email=?\n"
     ]
    },
    {
     "name": "stdout",
     "output_type": "stream",
     "text": [
      "13:17:40.015 DEBUG org.hibernate.SQL - insert into CUSTOMER (birthDate,creationDate,email,firstname,lastname,photo,status,version,ID) values (?,?,?,?,?,?,?,?,?)\n"
     ]
    },
    {
     "name": "stdout",
     "output_type": "stream",
     "text": [
      "13:17:40.016 DEBUG org.hibernate.SQL - select count(*)>0 from CUSTOMER c1_0 where c1_0.email=?\n"
     ]
    },
    {
     "name": "stdout",
     "output_type": "stream",
     "text": [
      "13:17:40.016 DEBUG org.hibernate.SQL - insert into CUSTOMER (birthDate,creationDate,email,firstname,lastname,photo,status,version,ID) values (?,?,?,?,?,?,?,?,?)\n"
     ]
    },
    {
     "name": "stdout",
     "output_type": "stream",
     "text": [
      "13:17:40.016 DEBUG org.hibernate.SQL - select count(*)>0 from CUSTOMER c1_0 where c1_0.email=?\n"
     ]
    },
    {
     "name": "stdout",
     "output_type": "stream",
     "text": [
      "13:17:40.017 DEBUG org.hibernate.SQL - insert into CUSTOMER (birthDate,creationDate,email,firstname,lastname,photo,status,version,ID) values (?,?,?,?,?,?,?,?,?)\n"
     ]
    },
    {
     "name": "stdout",
     "output_type": "stream",
     "text": [
      "13:17:40.017 DEBUG org.hibernate.SQL - select count(*)>0 from CUSTOMER c1_0 where c1_0.email=?\n"
     ]
    },
    {
     "name": "stdout",
     "output_type": "stream",
     "text": [
      "13:17:40.018 DEBUG org.hibernate.SQL - insert into CUSTOMER (birthDate,creationDate,email,firstname,lastname,photo,status,version,ID) values (?,?,?,?,?,?,?,?,?)\n"
     ]
    },
    {
     "name": "stdout",
     "output_type": "stream",
     "text": [
      "13:17:40.018 DEBUG org.hibernate.SQL - select count(*)>0 from CUSTOMER c1_0 where c1_0.email=?\n"
     ]
    },
    {
     "name": "stdout",
     "output_type": "stream",
     "text": [
      "13:17:40.018 DEBUG org.hibernate.SQL - insert into CUSTOMER (birthDate,creationDate,email,firstname,lastname,photo,status,version,ID) values (?,?,?,?,?,?,?,?,?)\n"
     ]
    },
    {
     "name": "stdout",
     "output_type": "stream",
     "text": [
      "13:17:40.019 DEBUG org.hibernate.SQL - select count(*)>0 from CUSTOMER c1_0 where c1_0.email=?\n"
     ]
    },
    {
     "name": "stdout",
     "output_type": "stream",
     "text": [
      "13:17:40.019 DEBUG org.hibernate.SQL - insert into CUSTOMER (birthDate,creationDate,email,firstname,lastname,photo,status,version,ID) values (?,?,?,?,?,?,?,?,?)\n"
     ]
    },
    {
     "name": "stdout",
     "output_type": "stream",
     "text": [
      "13:17:40.020 DEBUG org.hibernate.SQL - select count(*)>0 from CUSTOMER c1_0 where c1_0.email=?\n"
     ]
    },
    {
     "name": "stdout",
     "output_type": "stream",
     "text": [
      "13:17:40.020 DEBUG org.hibernate.SQL - insert into CUSTOMER (birthDate,creationDate,email,firstname,lastname,photo,status,version,ID) values (?,?,?,?,?,?,?,?,?)\n"
     ]
    },
    {
     "name": "stdout",
     "output_type": "stream",
     "text": [
      "13:17:40.021 DEBUG org.hibernate.SQL - select count(*)>0 from CUSTOMER c1_0 where c1_0.email=?\n"
     ]
    },
    {
     "name": "stdout",
     "output_type": "stream",
     "text": [
      "13:17:40.021 DEBUG org.hibernate.SQL - insert into CUSTOMER (birthDate,creationDate,email,firstname,lastname,photo,status,version,ID) values (?,?,?,?,?,?,?,?,?)\n"
     ]
    },
    {
     "name": "stdout",
     "output_type": "stream",
     "text": [
      "13:17:40.021 DEBUG org.hibernate.SQL - select count(*)>0 from CUSTOMER c1_0 where c1_0.email=?\n"
     ]
    },
    {
     "name": "stdout",
     "output_type": "stream",
     "text": [
      "13:17:40.022 DEBUG org.hibernate.SQL - insert into CUSTOMER (birthDate,creationDate,email,firstname,lastname,photo,status,version,ID) values (?,?,?,?,?,?,?,?,?)\n"
     ]
    },
    {
     "name": "stdout",
     "output_type": "stream",
     "text": [
      "13:17:40.022 DEBUG org.hibernate.SQL - select count(*)>0 from CUSTOMER c1_0 where c1_0.email=?\n"
     ]
    },
    {
     "name": "stdout",
     "output_type": "stream",
     "text": [
      "13:17:40.023 DEBUG org.hibernate.SQL - insert into CUSTOMER (birthDate,creationDate,email,firstname,lastname,photo,status,version,ID) values (?,?,?,?,?,?,?,?,?)\n"
     ]
    },
    {
     "name": "stdout",
     "output_type": "stream",
     "text": [
      "13:17:40.023 DEBUG org.hibernate.SQL - select count(*)>0 from CUSTOMER c1_0 where c1_0.email=?\n"
     ]
    },
    {
     "name": "stdout",
     "output_type": "stream",
     "text": [
      "13:17:40.023 DEBUG org.hibernate.SQL - insert into CUSTOMER (birthDate,creationDate,email,firstname,lastname,photo,status,version,ID) values (?,?,?,?,?,?,?,?,?)\n"
     ]
    },
    {
     "name": "stdout",
     "output_type": "stream",
     "text": [
      "13:17:40.024 DEBUG org.hibernate.SQL - select count(*)>0 from CUSTOMER c1_0 where c1_0.email=?\n"
     ]
    },
    {
     "name": "stdout",
     "output_type": "stream",
     "text": [
      "13:17:40.024 DEBUG org.hibernate.SQL - insert into CUSTOMER (birthDate,creationDate,email,firstname,lastname,photo,status,version,ID) values (?,?,?,?,?,?,?,?,?)\n"
     ]
    },
    {
     "name": "stdout",
     "output_type": "stream",
     "text": [
      "13:17:40.024 DEBUG org.hibernate.SQL - select count(*)>0 from CUSTOMER c1_0 where c1_0.email=?\n"
     ]
    },
    {
     "name": "stdout",
     "output_type": "stream",
     "text": [
      "13:17:40.025 DEBUG org.hibernate.SQL - insert into CUSTOMER (birthDate,creationDate,email,firstname,lastname,photo,status,version,ID) values (?,?,?,?,?,?,?,?,?)\n"
     ]
    },
    {
     "name": "stdout",
     "output_type": "stream",
     "text": [
      "13:17:40.025 DEBUG org.hibernate.SQL - select count(*)>0 from CUSTOMER c1_0 where c1_0.email=?\n"
     ]
    },
    {
     "name": "stdout",
     "output_type": "stream",
     "text": [
      "13:17:40.026 DEBUG org.hibernate.SQL - insert into CUSTOMER (birthDate,creationDate,email,firstname,lastname,photo,status,version,ID) values (?,?,?,?,?,?,?,?,?)\n"
     ]
    },
    {
     "name": "stdout",
     "output_type": "stream",
     "text": [
      "13:17:40.026 DEBUG org.hibernate.SQL - select count(*)>0 from CUSTOMER c1_0 where c1_0.email=?\n"
     ]
    },
    {
     "name": "stdout",
     "output_type": "stream",
     "text": [
      "13:17:40.026 DEBUG org.hibernate.SQL - insert into CUSTOMER (birthDate,creationDate,email,firstname,lastname,photo,status,version,ID) values (?,?,?,?,?,?,?,?,?)\n"
     ]
    },
    {
     "name": "stdout",
     "output_type": "stream",
     "text": [
      "13:17:40.026 DEBUG org.hibernate.SQL - select count(*)>0 from CUSTOMER c1_0 where c1_0.email=?\n"
     ]
    },
    {
     "name": "stdout",
     "output_type": "stream",
     "text": [
      "13:17:40.027 DEBUG org.hibernate.SQL - insert into CUSTOMER (birthDate,creationDate,email,firstname,lastname,photo,status,version,ID) values (?,?,?,?,?,?,?,?,?)\n"
     ]
    },
    {
     "name": "stdout",
     "output_type": "stream",
     "text": [
      "13:17:40.027 DEBUG org.hibernate.SQL - select count(*)>0 from CUSTOMER c1_0 where c1_0.email=?\n"
     ]
    },
    {
     "name": "stdout",
     "output_type": "stream",
     "text": [
      "13:17:40.027 DEBUG org.hibernate.SQL - insert into CUSTOMER (birthDate,creationDate,email,firstname,lastname,photo,status,version,ID) values (?,?,?,?,?,?,?,?,?)\n"
     ]
    },
    {
     "name": "stdout",
     "output_type": "stream",
     "text": [
      "13:17:40.028 DEBUG org.hibernate.SQL - select count(*)>0 from CUSTOMER c1_0 where c1_0.email=?\n"
     ]
    },
    {
     "name": "stdout",
     "output_type": "stream",
     "text": [
      "13:17:40.028 DEBUG org.hibernate.SQL - insert into CUSTOMER (birthDate,creationDate,email,firstname,lastname,photo,status,version,ID) values (?,?,?,?,?,?,?,?,?)\n"
     ]
    },
    {
     "name": "stdout",
     "output_type": "stream",
     "text": [
      "13:17:40.029 DEBUG org.hibernate.SQL - select count(*)>0 from CUSTOMER c1_0 where c1_0.email=?\n"
     ]
    },
    {
     "name": "stdout",
     "output_type": "stream",
     "text": [
      "13:17:40.029 DEBUG org.hibernate.SQL - insert into CUSTOMER (birthDate,creationDate,email,firstname,lastname,photo,status,version,ID) values (?,?,?,?,?,?,?,?,?)\n"
     ]
    },
    {
     "name": "stdout",
     "output_type": "stream",
     "text": [
      "13:17:40.029 DEBUG org.hibernate.SQL - select count(*)>0 from CUSTOMER c1_0 where c1_0.email=?\n"
     ]
    },
    {
     "name": "stdout",
     "output_type": "stream",
     "text": [
      "13:17:40.030 DEBUG org.hibernate.SQL - insert into CUSTOMER (birthDate,creationDate,email,firstname,lastname,photo,status,version,ID) values (?,?,?,?,?,?,?,?,?)\n"
     ]
    },
    {
     "name": "stdout",
     "output_type": "stream",
     "text": [
      "13:17:40.030 DEBUG org.hibernate.SQL - select count(*)>0 from CUSTOMER c1_0 where c1_0.email=?\n"
     ]
    },
    {
     "name": "stdout",
     "output_type": "stream",
     "text": [
      "13:17:40.030 DEBUG org.hibernate.SQL - insert into CUSTOMER (birthDate,creationDate,email,firstname,lastname,photo,status,version,ID) values (?,?,?,?,?,?,?,?,?)\n"
     ]
    },
    {
     "name": "stdout",
     "output_type": "stream",
     "text": [
      "13:17:40.031 DEBUG org.hibernate.SQL - select count(*)>0 from CUSTOMER c1_0 where c1_0.email=?\n"
     ]
    },
    {
     "name": "stdout",
     "output_type": "stream",
     "text": [
      "13:17:40.031 DEBUG org.hibernate.SQL - insert into CUSTOMER (birthDate,creationDate,email,firstname,lastname,photo,status,version,ID) values (?,?,?,?,?,?,?,?,?)\n"
     ]
    },
    {
     "name": "stdout",
     "output_type": "stream",
     "text": [
      "13:17:40.031 DEBUG org.hibernate.SQL - select count(*)>0 from CUSTOMER c1_0 where c1_0.email=?\n"
     ]
    },
    {
     "name": "stdout",
     "output_type": "stream",
     "text": [
      "13:17:40.032 DEBUG org.hibernate.SQL - insert into CUSTOMER (birthDate,creationDate,email,firstname,lastname,photo,status,version,ID) values (?,?,?,?,?,?,?,?,?)\n"
     ]
    },
    {
     "name": "stdout",
     "output_type": "stream",
     "text": [
      "13:17:40.032 DEBUG org.hibernate.SQL - select count(*)>0 from CUSTOMER c1_0 where c1_0.email=?\n"
     ]
    },
    {
     "name": "stdout",
     "output_type": "stream",
     "text": [
      "13:17:40.033 DEBUG org.hibernate.SQL - insert into CUSTOMER (birthDate,creationDate,email,firstname,lastname,photo,status,version,ID) values (?,?,?,?,?,?,?,?,?)\n"
     ]
    },
    {
     "name": "stdout",
     "output_type": "stream",
     "text": [
      "13:17:40.033 DEBUG org.hibernate.SQL - select count(*)>0 from CUSTOMER c1_0 where c1_0.email=?\n"
     ]
    },
    {
     "name": "stdout",
     "output_type": "stream",
     "text": [
      "13:17:40.034 DEBUG org.hibernate.SQL - insert into CUSTOMER (birthDate,creationDate,email,firstname,lastname,photo,status,version,ID) values (?,?,?,?,?,?,?,?,?)\n"
     ]
    },
    {
     "name": "stdout",
     "output_type": "stream",
     "text": [
      "13:17:40.034 DEBUG org.hibernate.SQL - select count(*)>0 from CUSTOMER c1_0 where c1_0.email=?\n"
     ]
    },
    {
     "name": "stdout",
     "output_type": "stream",
     "text": [
      "13:17:40.034 DEBUG org.hibernate.SQL - insert into CUSTOMER (birthDate,creationDate,email,firstname,lastname,photo,status,version,ID) values (?,?,?,?,?,?,?,?,?)\n"
     ]
    },
    {
     "name": "stdout",
     "output_type": "stream",
     "text": [
      "13:17:40.035 DEBUG org.hibernate.SQL - select count(*)>0 from CUSTOMER c1_0 where c1_0.email=?\n"
     ]
    },
    {
     "name": "stdout",
     "output_type": "stream",
     "text": [
      "13:17:40.035 DEBUG org.hibernate.SQL - insert into CUSTOMER (birthDate,creationDate,email,firstname,lastname,photo,status,version,ID) values (?,?,?,?,?,?,?,?,?)\n"
     ]
    },
    {
     "name": "stdout",
     "output_type": "stream",
     "text": [
      "13:17:40.035 DEBUG org.hibernate.SQL - select count(*)>0 from CUSTOMER c1_0 where c1_0.email=?\n"
     ]
    },
    {
     "name": "stdout",
     "output_type": "stream",
     "text": [
      "13:17:40.035 DEBUG org.hibernate.SQL - select nextval('CUSTOMER_SEQ')\n"
     ]
    },
    {
     "name": "stdout",
     "output_type": "stream",
     "text": [
      "13:17:40.036 DEBUG org.hibernate.SQL - insert into CUSTOMER (birthDate,creationDate,email,firstname,lastname,photo,status,version,ID) values (?,?,?,?,?,?,?,?,?)\n"
     ]
    },
    {
     "name": "stdout",
     "output_type": "stream",
     "text": [
      "13:17:40.036 DEBUG org.hibernate.SQL - select count(*)>0 from CUSTOMER c1_0 where c1_0.email=?\n"
     ]
    },
    {
     "name": "stdout",
     "output_type": "stream",
     "text": [
      "13:17:40.036 DEBUG org.hibernate.SQL - insert into CUSTOMER (birthDate,creationDate,email,firstname,lastname,photo,status,version,ID) values (?,?,?,?,?,?,?,?,?)\n"
     ]
    },
    {
     "name": "stdout",
     "output_type": "stream",
     "text": [
      "13:17:40.037 DEBUG org.hibernate.SQL - select count(*)>0 from CUSTOMER c1_0 where c1_0.email=?\n"
     ]
    },
    {
     "name": "stdout",
     "output_type": "stream",
     "text": [
      "13:17:40.037 DEBUG org.hibernate.SQL - insert into CUSTOMER (birthDate,creationDate,email,firstname,lastname,photo,status,version,ID) values (?,?,?,?,?,?,?,?,?)\n"
     ]
    },
    {
     "name": "stdout",
     "output_type": "stream",
     "text": [
      "13:17:40.037 DEBUG org.hibernate.SQL - select count(*)>0 from CUSTOMER c1_0 where c1_0.email=?\n"
     ]
    },
    {
     "name": "stdout",
     "output_type": "stream",
     "text": [
      "13:17:40.038 DEBUG org.hibernate.SQL - insert into CUSTOMER (birthDate,creationDate,email,firstname,lastname,photo,status,version,ID) values (?,?,?,?,?,?,?,?,?)\n"
     ]
    },
    {
     "name": "stdout",
     "output_type": "stream",
     "text": [
      "13:17:40.038 DEBUG org.hibernate.SQL - select count(*)>0 from CUSTOMER c1_0 where c1_0.email=?\n"
     ]
    },
    {
     "name": "stdout",
     "output_type": "stream",
     "text": [
      "13:17:40.039 DEBUG org.hibernate.SQL - insert into CUSTOMER (birthDate,creationDate,email,firstname,lastname,photo,status,version,ID) values (?,?,?,?,?,?,?,?,?)\n"
     ]
    },
    {
     "name": "stdout",
     "output_type": "stream",
     "text": [
      "13:17:40.039 DEBUG org.hibernate.SQL - select count(*)>0 from CUSTOMER c1_0 where c1_0.email=?\n"
     ]
    },
    {
     "name": "stdout",
     "output_type": "stream",
     "text": [
      "13:17:40.040 DEBUG org.hibernate.SQL - insert into CUSTOMER (birthDate,creationDate,email,firstname,lastname,photo,status,version,ID) values (?,?,?,?,?,?,?,?,?)\n"
     ]
    },
    {
     "name": "stdout",
     "output_type": "stream",
     "text": [
      "13:17:40.040 DEBUG org.hibernate.SQL - select count(*)>0 from CUSTOMER c1_0 where c1_0.email=?\n"
     ]
    },
    {
     "name": "stdout",
     "output_type": "stream",
     "text": [
      "13:17:40.040 DEBUG org.hibernate.SQL - insert into CUSTOMER (birthDate,creationDate,email,firstname,lastname,photo,status,version,ID) values (?,?,?,?,?,?,?,?,?)\n"
     ]
    },
    {
     "name": "stdout",
     "output_type": "stream",
     "text": [
      "13:17:40.040 DEBUG org.hibernate.SQL - select count(*)>0 from CUSTOMER c1_0 where c1_0.email=?\n"
     ]
    },
    {
     "name": "stdout",
     "output_type": "stream",
     "text": [
      "13:17:40.041 DEBUG org.hibernate.SQL - insert into CUSTOMER (birthDate,creationDate,email,firstname,lastname,photo,status,version,ID) values (?,?,?,?,?,?,?,?,?)\n"
     ]
    },
    {
     "name": "stdout",
     "output_type": "stream",
     "text": [
      "13:17:40.041 DEBUG org.hibernate.SQL - select count(*)>0 from CUSTOMER c1_0 where c1_0.email=?\n"
     ]
    },
    {
     "name": "stdout",
     "output_type": "stream",
     "text": [
      "13:17:40.042 DEBUG org.hibernate.SQL - insert into CUSTOMER (birthDate,creationDate,email,firstname,lastname,photo,status,version,ID) values (?,?,?,?,?,?,?,?,?)\n"
     ]
    },
    {
     "name": "stdout",
     "output_type": "stream",
     "text": [
      "13:17:40.042 DEBUG org.hibernate.SQL - select count(*)>0 from CUSTOMER c1_0 where c1_0.email=?\n"
     ]
    },
    {
     "name": "stdout",
     "output_type": "stream",
     "text": [
      "13:17:40.043 DEBUG org.hibernate.SQL - insert into CUSTOMER (birthDate,creationDate,email,firstname,lastname,photo,status,version,ID) values (?,?,?,?,?,?,?,?,?)\n"
     ]
    },
    {
     "name": "stdout",
     "output_type": "stream",
     "text": [
      "13:17:40.043 DEBUG org.hibernate.SQL - select count(*)>0 from CUSTOMER c1_0 where c1_0.email=?\n"
     ]
    },
    {
     "name": "stdout",
     "output_type": "stream",
     "text": [
      "13:17:40.043 DEBUG org.hibernate.SQL - insert into CUSTOMER (birthDate,creationDate,email,firstname,lastname,photo,status,version,ID) values (?,?,?,?,?,?,?,?,?)\n"
     ]
    },
    {
     "name": "stdout",
     "output_type": "stream",
     "text": [
      "13:17:40.043 DEBUG org.hibernate.SQL - select count(*)>0 from CUSTOMER c1_0 where c1_0.email=?\n"
     ]
    },
    {
     "name": "stdout",
     "output_type": "stream",
     "text": [
      "13:17:40.044 DEBUG org.hibernate.SQL - insert into CUSTOMER (birthDate,creationDate,email,firstname,lastname,photo,status,version,ID) values (?,?,?,?,?,?,?,?,?)\n"
     ]
    },
    {
     "name": "stdout",
     "output_type": "stream",
     "text": [
      "13:17:40.044 DEBUG org.hibernate.SQL - select count(*)>0 from CUSTOMER c1_0 where c1_0.email=?\n"
     ]
    },
    {
     "name": "stdout",
     "output_type": "stream",
     "text": [
      "13:17:40.044 DEBUG org.hibernate.SQL - insert into CUSTOMER (birthDate,creationDate,email,firstname,lastname,photo,status,version,ID) values (?,?,?,?,?,?,?,?,?)\n"
     ]
    },
    {
     "name": "stdout",
     "output_type": "stream",
     "text": [
      "13:17:40.045 DEBUG org.hibernate.SQL - select count(*)>0 from CUSTOMER c1_0 where c1_0.email=?\n"
     ]
    },
    {
     "name": "stdout",
     "output_type": "stream",
     "text": [
      "13:17:40.045 DEBUG org.hibernate.SQL - insert into CUSTOMER (birthDate,creationDate,email,firstname,lastname,photo,status,version,ID) values (?,?,?,?,?,?,?,?,?)\n"
     ]
    },
    {
     "name": "stdout",
     "output_type": "stream",
     "text": [
      "13:17:40.045 DEBUG org.hibernate.SQL - select count(*)>0 from CUSTOMER c1_0 where c1_0.email=?\n"
     ]
    },
    {
     "name": "stdout",
     "output_type": "stream",
     "text": [
      "13:17:40.046 DEBUG org.hibernate.SQL - insert into CUSTOMER (birthDate,creationDate,email,firstname,lastname,photo,status,version,ID) values (?,?,?,?,?,?,?,?,?)\n"
     ]
    },
    {
     "name": "stdout",
     "output_type": "stream",
     "text": [
      "13:17:40.046 DEBUG org.hibernate.SQL - select count(*)>0 from CUSTOMER c1_0 where c1_0.email=?\n"
     ]
    },
    {
     "name": "stdout",
     "output_type": "stream",
     "text": [
      "13:17:40.046 DEBUG org.hibernate.SQL - insert into CUSTOMER (birthDate,creationDate,email,firstname,lastname,photo,status,version,ID) values (?,?,?,?,?,?,?,?,?)\n"
     ]
    },
    {
     "name": "stdout",
     "output_type": "stream",
     "text": [
      "13:17:40.046 DEBUG org.hibernate.SQL - select count(*)>0 from CUSTOMER c1_0 where c1_0.email=?\n"
     ]
    },
    {
     "name": "stdout",
     "output_type": "stream",
     "text": [
      "13:17:40.047 DEBUG org.hibernate.SQL - insert into CUSTOMER (birthDate,creationDate,email,firstname,lastname,photo,status,version,ID) values (?,?,?,?,?,?,?,?,?)\n"
     ]
    },
    {
     "name": "stdout",
     "output_type": "stream",
     "text": [
      "13:17:40.047 DEBUG org.hibernate.SQL - select count(*)>0 from CUSTOMER c1_0 where c1_0.email=?\n"
     ]
    },
    {
     "name": "stdout",
     "output_type": "stream",
     "text": [
      "13:17:40.047 DEBUG org.hibernate.SQL - insert into CUSTOMER (birthDate,creationDate,email,firstname,lastname,photo,status,version,ID) values (?,?,?,?,?,?,?,?,?)\n"
     ]
    },
    {
     "name": "stdout",
     "output_type": "stream",
     "text": [
      "13:17:40.047 DEBUG org.hibernate.SQL - select count(*)>0 from CUSTOMER c1_0 where c1_0.email=?\n"
     ]
    },
    {
     "name": "stdout",
     "output_type": "stream",
     "text": [
      "13:17:40.048 DEBUG org.hibernate.SQL - insert into CUSTOMER (birthDate,creationDate,email,firstname,lastname,photo,status,version,ID) values (?,?,?,?,?,?,?,?,?)\n"
     ]
    },
    {
     "name": "stdout",
     "output_type": "stream",
     "text": [
      "13:17:40.048 DEBUG org.hibernate.SQL - select count(*)>0 from CUSTOMER c1_0 where c1_0.email=?\n"
     ]
    },
    {
     "name": "stdout",
     "output_type": "stream",
     "text": [
      "13:17:40.048 DEBUG org.hibernate.SQL - insert into CUSTOMER (birthDate,creationDate,email,firstname,lastname,photo,status,version,ID) values (?,?,?,?,?,?,?,?,?)\n"
     ]
    },
    {
     "name": "stdout",
     "output_type": "stream",
     "text": [
      "13:17:40.049 DEBUG org.hibernate.SQL - select count(*)>0 from CUSTOMER c1_0 where c1_0.email=?\n"
     ]
    },
    {
     "name": "stdout",
     "output_type": "stream",
     "text": [
      "13:17:40.049 DEBUG org.hibernate.SQL - insert into CUSTOMER (birthDate,creationDate,email,firstname,lastname,photo,status,version,ID) values (?,?,?,?,?,?,?,?,?)\n"
     ]
    },
    {
     "name": "stdout",
     "output_type": "stream",
     "text": [
      "13:17:40.049 DEBUG org.hibernate.SQL - select count(*)>0 from CUSTOMER c1_0 where c1_0.email=?\n"
     ]
    },
    {
     "name": "stdout",
     "output_type": "stream",
     "text": [
      "13:17:40.050 DEBUG org.hibernate.SQL - insert into CUSTOMER (birthDate,creationDate,email,firstname,lastname,photo,status,version,ID) values (?,?,?,?,?,?,?,?,?)\n"
     ]
    },
    {
     "name": "stdout",
     "output_type": "stream",
     "text": [
      "13:17:40.050 DEBUG org.hibernate.SQL - select count(*)>0 from CUSTOMER c1_0 where c1_0.email=?\n"
     ]
    },
    {
     "name": "stdout",
     "output_type": "stream",
     "text": [
      "13:17:40.050 DEBUG org.hibernate.SQL - insert into CUSTOMER (birthDate,creationDate,email,firstname,lastname,photo,status,version,ID) values (?,?,?,?,?,?,?,?,?)\n"
     ]
    },
    {
     "name": "stdout",
     "output_type": "stream",
     "text": [
      "13:17:40.050 DEBUG org.hibernate.SQL - select count(*)>0 from CUSTOMER c1_0 where c1_0.email=?\n"
     ]
    },
    {
     "name": "stdout",
     "output_type": "stream",
     "text": [
      "13:17:40.051 DEBUG org.hibernate.SQL - insert into CUSTOMER (birthDate,creationDate,email,firstname,lastname,photo,status,version,ID) values (?,?,?,?,?,?,?,?,?)\n"
     ]
    },
    {
     "name": "stdout",
     "output_type": "stream",
     "text": [
      "13:17:40.051 DEBUG org.hibernate.SQL - select count(*)>0 from CUSTOMER c1_0 where c1_0.email=?\n"
     ]
    },
    {
     "name": "stdout",
     "output_type": "stream",
     "text": [
      "13:17:40.051 DEBUG org.hibernate.SQL - insert into CUSTOMER (birthDate,creationDate,email,firstname,lastname,photo,status,version,ID) values (?,?,?,?,?,?,?,?,?)\n"
     ]
    },
    {
     "name": "stdout",
     "output_type": "stream",
     "text": [
      "13:17:40.052 DEBUG org.hibernate.SQL - select count(*)>0 from CUSTOMER c1_0 where c1_0.email=?\n"
     ]
    },
    {
     "name": "stdout",
     "output_type": "stream",
     "text": [
      "13:17:40.052 DEBUG org.hibernate.SQL - insert into CUSTOMER (birthDate,creationDate,email,firstname,lastname,photo,status,version,ID) values (?,?,?,?,?,?,?,?,?)\n"
     ]
    },
    {
     "name": "stdout",
     "output_type": "stream",
     "text": [
      "13:17:40.052 DEBUG org.hibernate.SQL - select count(*)>0 from CUSTOMER c1_0 where c1_0.email=?\n"
     ]
    },
    {
     "name": "stdout",
     "output_type": "stream",
     "text": [
      "13:17:40.053 DEBUG org.hibernate.SQL - insert into CUSTOMER (birthDate,creationDate,email,firstname,lastname,photo,status,version,ID) values (?,?,?,?,?,?,?,?,?)\n"
     ]
    },
    {
     "name": "stdout",
     "output_type": "stream",
     "text": [
      "13:17:40.053 DEBUG org.hibernate.SQL - select count(*)>0 from CUSTOMER c1_0 where c1_0.email=?\n"
     ]
    },
    {
     "name": "stdout",
     "output_type": "stream",
     "text": [
      "13:17:40.053 DEBUG org.hibernate.SQL - insert into CUSTOMER (birthDate,creationDate,email,firstname,lastname,photo,status,version,ID) values (?,?,?,?,?,?,?,?,?)\n"
     ]
    },
    {
     "name": "stdout",
     "output_type": "stream",
     "text": [
      "13:17:40.053 DEBUG org.hibernate.SQL - select count(*)>0 from CUSTOMER c1_0 where c1_0.email=?\n"
     ]
    },
    {
     "name": "stdout",
     "output_type": "stream",
     "text": [
      "13:17:40.054 DEBUG org.hibernate.SQL - insert into CUSTOMER (birthDate,creationDate,email,firstname,lastname,photo,status,version,ID) values (?,?,?,?,?,?,?,?,?)\n"
     ]
    },
    {
     "name": "stdout",
     "output_type": "stream",
     "text": [
      "13:17:40.054 DEBUG org.hibernate.SQL - select count(*)>0 from CUSTOMER c1_0 where c1_0.email=?\n"
     ]
    },
    {
     "name": "stdout",
     "output_type": "stream",
     "text": [
      "13:17:40.054 DEBUG org.hibernate.SQL - insert into CUSTOMER (birthDate,creationDate,email,firstname,lastname,photo,status,version,ID) values (?,?,?,?,?,?,?,?,?)\n"
     ]
    },
    {
     "name": "stdout",
     "output_type": "stream",
     "text": [
      "13:17:40.054 DEBUG org.hibernate.SQL - select count(*)>0 from CUSTOMER c1_0 where c1_0.email=?\n"
     ]
    },
    {
     "name": "stdout",
     "output_type": "stream",
     "text": [
      "13:17:40.055 DEBUG org.hibernate.SQL - insert into CUSTOMER (birthDate,creationDate,email,firstname,lastname,photo,status,version,ID) values (?,?,?,?,?,?,?,?,?)\n"
     ]
    },
    {
     "name": "stdout",
     "output_type": "stream",
     "text": [
      "13:17:40.055 DEBUG org.hibernate.SQL - select count(*)>0 from CUSTOMER c1_0 where c1_0.email=?\n"
     ]
    },
    {
     "name": "stdout",
     "output_type": "stream",
     "text": [
      "13:17:40.056 DEBUG org.hibernate.SQL - insert into CUSTOMER (birthDate,creationDate,email,firstname,lastname,photo,status,version,ID) values (?,?,?,?,?,?,?,?,?)\n"
     ]
    },
    {
     "name": "stdout",
     "output_type": "stream",
     "text": [
      "13:17:40.056 DEBUG org.hibernate.SQL - select count(*)>0 from CUSTOMER c1_0 where c1_0.email=?\n"
     ]
    },
    {
     "name": "stdout",
     "output_type": "stream",
     "text": [
      "13:17:40.056 DEBUG org.hibernate.SQL - insert into CUSTOMER (birthDate,creationDate,email,firstname,lastname,photo,status,version,ID) values (?,?,?,?,?,?,?,?,?)\n"
     ]
    },
    {
     "name": "stdout",
     "output_type": "stream",
     "text": [
      "13:17:40.056 DEBUG org.hibernate.SQL - select count(*)>0 from CUSTOMER c1_0 where c1_0.email=?\n"
     ]
    },
    {
     "name": "stdout",
     "output_type": "stream",
     "text": [
      "13:17:40.057 DEBUG org.hibernate.SQL - insert into CUSTOMER (birthDate,creationDate,email,firstname,lastname,photo,status,version,ID) values (?,?,?,?,?,?,?,?,?)\n"
     ]
    },
    {
     "name": "stdout",
     "output_type": "stream",
     "text": [
      "13:17:40.057 DEBUG org.hibernate.SQL - select count(*)>0 from CUSTOMER c1_0 where c1_0.email=?\n"
     ]
    },
    {
     "name": "stdout",
     "output_type": "stream",
     "text": [
      "13:17:40.058 DEBUG org.hibernate.SQL - insert into CUSTOMER (birthDate,creationDate,email,firstname,lastname,photo,status,version,ID) values (?,?,?,?,?,?,?,?,?)\n"
     ]
    },
    {
     "name": "stdout",
     "output_type": "stream",
     "text": [
      "13:17:40.058 DEBUG org.hibernate.SQL - select count(*)>0 from CUSTOMER c1_0 where c1_0.email=?\n"
     ]
    },
    {
     "name": "stdout",
     "output_type": "stream",
     "text": [
      "13:17:40.059 DEBUG org.hibernate.SQL - insert into CUSTOMER (birthDate,creationDate,email,firstname,lastname,photo,status,version,ID) values (?,?,?,?,?,?,?,?,?)\n"
     ]
    },
    {
     "name": "stdout",
     "output_type": "stream",
     "text": [
      "13:17:40.059 DEBUG org.hibernate.SQL - select count(*)>0 from CUSTOMER c1_0 where c1_0.email=?\n"
     ]
    },
    {
     "name": "stdout",
     "output_type": "stream",
     "text": [
      "13:17:40.059 DEBUG org.hibernate.SQL - insert into CUSTOMER (birthDate,creationDate,email,firstname,lastname,photo,status,version,ID) values (?,?,?,?,?,?,?,?,?)\n"
     ]
    },
    {
     "name": "stdout",
     "output_type": "stream",
     "text": [
      "13:17:40.059 DEBUG org.hibernate.SQL - select count(*)>0 from CUSTOMER c1_0 where c1_0.email=?\n"
     ]
    },
    {
     "name": "stdout",
     "output_type": "stream",
     "text": [
      "13:17:40.060 DEBUG org.hibernate.SQL - insert into CUSTOMER (birthDate,creationDate,email,firstname,lastname,photo,status,version,ID) values (?,?,?,?,?,?,?,?,?)\n"
     ]
    },
    {
     "name": "stdout",
     "output_type": "stream",
     "text": [
      "13:17:40.060 DEBUG org.hibernate.SQL - select count(*)>0 from CUSTOMER c1_0 where c1_0.email=?\n"
     ]
    },
    {
     "name": "stdout",
     "output_type": "stream",
     "text": [
      "13:17:40.060 DEBUG org.hibernate.SQL - insert into CUSTOMER (birthDate,creationDate,email,firstname,lastname,photo,status,version,ID) values (?,?,?,?,?,?,?,?,?)\n"
     ]
    },
    {
     "name": "stdout",
     "output_type": "stream",
     "text": [
      "13:17:40.061 DEBUG org.hibernate.SQL - select count(*)>0 from CUSTOMER c1_0 where c1_0.email=?\n"
     ]
    },
    {
     "name": "stdout",
     "output_type": "stream",
     "text": [
      "13:17:40.061 DEBUG org.hibernate.SQL - insert into CUSTOMER (birthDate,creationDate,email,firstname,lastname,photo,status,version,ID) values (?,?,?,?,?,?,?,?,?)\n"
     ]
    },
    {
     "name": "stdout",
     "output_type": "stream",
     "text": [
      "13:17:40.061 DEBUG org.hibernate.SQL - select count(*)>0 from CUSTOMER c1_0 where c1_0.email=?\n"
     ]
    },
    {
     "name": "stdout",
     "output_type": "stream",
     "text": [
      "13:17:40.062 DEBUG org.hibernate.SQL - insert into CUSTOMER (birthDate,creationDate,email,firstname,lastname,photo,status,version,ID) values (?,?,?,?,?,?,?,?,?)\n"
     ]
    },
    {
     "name": "stdout",
     "output_type": "stream",
     "text": [
      "13:17:40.062 DEBUG org.hibernate.SQL - select count(*)>0 from CUSTOMER c1_0 where c1_0.email=?\n"
     ]
    },
    {
     "name": "stdout",
     "output_type": "stream",
     "text": [
      "13:17:40.062 DEBUG org.hibernate.SQL - insert into CUSTOMER (birthDate,creationDate,email,firstname,lastname,photo,status,version,ID) values (?,?,?,?,?,?,?,?,?)\n"
     ]
    },
    {
     "name": "stdout",
     "output_type": "stream",
     "text": [
      "13:17:40.063 DEBUG org.hibernate.SQL - select count(*)>0 from CUSTOMER c1_0 where c1_0.email=?\n"
     ]
    },
    {
     "name": "stdout",
     "output_type": "stream",
     "text": [
      "13:17:40.063 DEBUG org.hibernate.SQL - insert into CUSTOMER (birthDate,creationDate,email,firstname,lastname,photo,status,version,ID) values (?,?,?,?,?,?,?,?,?)\n"
     ]
    },
    {
     "name": "stdout",
     "output_type": "stream",
     "text": [
      "13:17:40.063 DEBUG org.hibernate.SQL - select count(*)>0 from CUSTOMER c1_0 where c1_0.email=?\n"
     ]
    },
    {
     "name": "stdout",
     "output_type": "stream",
     "text": [
      "13:17:40.063 DEBUG org.hibernate.SQL - insert into CUSTOMER (birthDate,creationDate,email,firstname,lastname,photo,status,version,ID) values (?,?,?,?,?,?,?,?,?)\n"
     ]
    },
    {
     "name": "stdout",
     "output_type": "stream",
     "text": [
      "13:17:40.064 DEBUG org.hibernate.SQL - select count(*)>0 from CUSTOMER c1_0 where c1_0.email=?\n"
     ]
    },
    {
     "name": "stdout",
     "output_type": "stream",
     "text": [
      "13:17:40.064 DEBUG org.hibernate.SQL - insert into CUSTOMER (birthDate,creationDate,email,firstname,lastname,photo,status,version,ID) values (?,?,?,?,?,?,?,?,?)\n"
     ]
    },
    {
     "name": "stdout",
     "output_type": "stream",
     "text": [
      "13:17:40.064 DEBUG org.hibernate.SQL - select count(*)>0 from CUSTOMER c1_0 where c1_0.email=?\n"
     ]
    },
    {
     "name": "stdout",
     "output_type": "stream",
     "text": [
      "13:17:40.065 DEBUG org.hibernate.SQL - insert into CUSTOMER (birthDate,creationDate,email,firstname,lastname,photo,status,version,ID) values (?,?,?,?,?,?,?,?,?)\n"
     ]
    },
    {
     "name": "stdout",
     "output_type": "stream",
     "text": [
      "13:17:40.065 DEBUG org.hibernate.SQL - select count(*)>0 from CUSTOMER c1_0 where c1_0.email=?\n"
     ]
    },
    {
     "name": "stdout",
     "output_type": "stream",
     "text": [
      "13:17:40.065 DEBUG org.hibernate.SQL - insert into CUSTOMER (birthDate,creationDate,email,firstname,lastname,photo,status,version,ID) values (?,?,?,?,?,?,?,?,?)\n"
     ]
    },
    {
     "name": "stdout",
     "output_type": "stream",
     "text": [
      "13:17:40.065 DEBUG org.hibernate.SQL - select count(*)>0 from CUSTOMER c1_0 where c1_0.email=?\n"
     ]
    },
    {
     "name": "stdout",
     "output_type": "stream",
     "text": [
      "13:17:40.066 DEBUG org.hibernate.SQL - insert into CUSTOMER (birthDate,creationDate,email,firstname,lastname,photo,status,version,ID) values (?,?,?,?,?,?,?,?,?)\n"
     ]
    },
    {
     "name": "stdout",
     "output_type": "stream",
     "text": [
      "13:17:40.066 DEBUG org.hibernate.SQL - select count(*)>0 from CUSTOMER c1_0 where c1_0.email=?\n"
     ]
    },
    {
     "name": "stdout",
     "output_type": "stream",
     "text": [
      "13:17:40.066 DEBUG org.hibernate.SQL - insert into CUSTOMER (birthDate,creationDate,email,firstname,lastname,photo,status,version,ID) values (?,?,?,?,?,?,?,?,?)\n"
     ]
    },
    {
     "name": "stdout",
     "output_type": "stream",
     "text": [
      "13:17:40.066 DEBUG org.hibernate.SQL - select count(*)>0 from CUSTOMER c1_0 where c1_0.email=?\n"
     ]
    },
    {
     "name": "stdout",
     "output_type": "stream",
     "text": [
      "13:17:40.067 DEBUG org.hibernate.SQL - insert into CUSTOMER (birthDate,creationDate,email,firstname,lastname,photo,status,version,ID) values (?,?,?,?,?,?,?,?,?)\n"
     ]
    },
    {
     "name": "stdout",
     "output_type": "stream",
     "text": [
      "13:17:40.067 DEBUG org.hibernate.SQL - select count(*)>0 from CUSTOMER c1_0 where c1_0.email=?\n"
     ]
    },
    {
     "name": "stdout",
     "output_type": "stream",
     "text": [
      "13:17:40.067 DEBUG org.hibernate.SQL - select nextval('CUSTOMER_SEQ')\n"
     ]
    },
    {
     "name": "stdout",
     "output_type": "stream",
     "text": [
      "13:17:40.068 DEBUG org.hibernate.SQL - insert into CUSTOMER (birthDate,creationDate,email,firstname,lastname,photo,status,version,ID) values (?,?,?,?,?,?,?,?,?)\n"
     ]
    },
    {
     "name": "stdout",
     "output_type": "stream",
     "text": [
      "13:17:40.068 DEBUG org.hibernate.SQL - select count(*)>0 from CUSTOMER c1_0 where c1_0.email=?\n"
     ]
    },
    {
     "name": "stdout",
     "output_type": "stream",
     "text": [
      "13:17:40.068 DEBUG org.hibernate.SQL - insert into CUSTOMER (birthDate,creationDate,email,firstname,lastname,photo,status,version,ID) values (?,?,?,?,?,?,?,?,?)\n"
     ]
    },
    {
     "name": "stdout",
     "output_type": "stream",
     "text": [
      "13:17:40.068 DEBUG org.hibernate.SQL - select count(*)>0 from CUSTOMER c1_0 where c1_0.email=?\n"
     ]
    },
    {
     "name": "stdout",
     "output_type": "stream",
     "text": [
      "13:17:40.069 DEBUG org.hibernate.SQL - insert into CUSTOMER (birthDate,creationDate,email,firstname,lastname,photo,status,version,ID) values (?,?,?,?,?,?,?,?,?)\n"
     ]
    },
    {
     "name": "stdout",
     "output_type": "stream",
     "text": [
      "13:17:40.069 DEBUG org.hibernate.SQL - select count(*)>0 from CUSTOMER c1_0 where c1_0.email=?\n"
     ]
    },
    {
     "name": "stdout",
     "output_type": "stream",
     "text": [
      "13:17:40.070 DEBUG org.hibernate.SQL - insert into CUSTOMER (birthDate,creationDate,email,firstname,lastname,photo,status,version,ID) values (?,?,?,?,?,?,?,?,?)\n"
     ]
    },
    {
     "name": "stdout",
     "output_type": "stream",
     "text": [
      "13:17:40.070 DEBUG org.hibernate.SQL - select count(*)>0 from CUSTOMER c1_0 where c1_0.email=?\n"
     ]
    },
    {
     "name": "stdout",
     "output_type": "stream",
     "text": [
      "13:17:40.070 DEBUG org.hibernate.SQL - insert into CUSTOMER (birthDate,creationDate,email,firstname,lastname,photo,status,version,ID) values (?,?,?,?,?,?,?,?,?)\n"
     ]
    },
    {
     "name": "stdout",
     "output_type": "stream",
     "text": [
      "13:17:40.070 DEBUG org.hibernate.SQL - select count(*)>0 from CUSTOMER c1_0 where c1_0.email=?\n"
     ]
    },
    {
     "name": "stdout",
     "output_type": "stream",
     "text": [
      "13:17:40.071 DEBUG org.hibernate.SQL - insert into CUSTOMER (birthDate,creationDate,email,firstname,lastname,photo,status,version,ID) values (?,?,?,?,?,?,?,?,?)\n"
     ]
    },
    {
     "name": "stdout",
     "output_type": "stream",
     "text": [
      "13:17:40.071 DEBUG org.hibernate.SQL - select count(*)>0 from CUSTOMER c1_0 where c1_0.email=?\n"
     ]
    },
    {
     "name": "stdout",
     "output_type": "stream",
     "text": [
      "13:17:40.071 DEBUG org.hibernate.SQL - insert into CUSTOMER (birthDate,creationDate,email,firstname,lastname,photo,status,version,ID) values (?,?,?,?,?,?,?,?,?)\n"
     ]
    },
    {
     "name": "stdout",
     "output_type": "stream",
     "text": [
      "13:17:40.071 DEBUG org.hibernate.SQL - select count(*)>0 from CUSTOMER c1_0 where c1_0.email=?\n"
     ]
    },
    {
     "name": "stdout",
     "output_type": "stream",
     "text": [
      "13:17:40.072 DEBUG org.hibernate.SQL - insert into CUSTOMER (birthDate,creationDate,email,firstname,lastname,photo,status,version,ID) values (?,?,?,?,?,?,?,?,?)\n"
     ]
    },
    {
     "name": "stdout",
     "output_type": "stream",
     "text": [
      "13:17:40.072 DEBUG org.hibernate.SQL - select count(*)>0 from CUSTOMER c1_0 where c1_0.email=?\n"
     ]
    },
    {
     "name": "stdout",
     "output_type": "stream",
     "text": [
      "13:17:40.072 DEBUG org.hibernate.SQL - insert into CUSTOMER (birthDate,creationDate,email,firstname,lastname,photo,status,version,ID) values (?,?,?,?,?,?,?,?,?)\n"
     ]
    },
    {
     "name": "stdout",
     "output_type": "stream",
     "text": [
      "13:17:40.073 DEBUG org.hibernate.SQL - select count(*)>0 from CUSTOMER c1_0 where c1_0.email=?\n"
     ]
    },
    {
     "name": "stdout",
     "output_type": "stream",
     "text": [
      "13:17:40.073 DEBUG org.hibernate.SQL - insert into CUSTOMER (birthDate,creationDate,email,firstname,lastname,photo,status,version,ID) values (?,?,?,?,?,?,?,?,?)\n"
     ]
    },
    {
     "name": "stdout",
     "output_type": "stream",
     "text": [
      "13:17:40.073 DEBUG org.hibernate.SQL - select count(*)>0 from CUSTOMER c1_0 where c1_0.email=?\n"
     ]
    },
    {
     "name": "stdout",
     "output_type": "stream",
     "text": [
      "13:17:40.074 DEBUG org.hibernate.SQL - insert into CUSTOMER (birthDate,creationDate,email,firstname,lastname,photo,status,version,ID) values (?,?,?,?,?,?,?,?,?)\n"
     ]
    },
    {
     "name": "stdout",
     "output_type": "stream",
     "text": [
      "13:17:40.074 DEBUG org.hibernate.SQL - select count(*)>0 from CUSTOMER c1_0 where c1_0.email=?\n"
     ]
    },
    {
     "name": "stdout",
     "output_type": "stream",
     "text": [
      "13:17:40.074 DEBUG org.hibernate.SQL - insert into CUSTOMER (birthDate,creationDate,email,firstname,lastname,photo,status,version,ID) values (?,?,?,?,?,?,?,?,?)\n"
     ]
    },
    {
     "name": "stdout",
     "output_type": "stream",
     "text": [
      "13:17:40.075 DEBUG org.hibernate.SQL - select count(*)>0 from CUSTOMER c1_0 where c1_0.email=?\n"
     ]
    },
    {
     "name": "stdout",
     "output_type": "stream",
     "text": [
      "13:17:40.075 DEBUG org.hibernate.SQL - insert into CUSTOMER (birthDate,creationDate,email,firstname,lastname,photo,status,version,ID) values (?,?,?,?,?,?,?,?,?)\n"
     ]
    },
    {
     "name": "stdout",
     "output_type": "stream",
     "text": [
      "13:17:40.075 DEBUG org.hibernate.SQL - select count(*)>0 from CUSTOMER c1_0 where c1_0.email=?\n"
     ]
    },
    {
     "name": "stdout",
     "output_type": "stream",
     "text": [
      "13:17:40.076 DEBUG org.hibernate.SQL - insert into CUSTOMER (birthDate,creationDate,email,firstname,lastname,photo,status,version,ID) values (?,?,?,?,?,?,?,?,?)\n"
     ]
    },
    {
     "name": "stdout",
     "output_type": "stream",
     "text": [
      "13:17:40.076 DEBUG org.hibernate.SQL - select count(*)>0 from CUSTOMER c1_0 where c1_0.email=?\n"
     ]
    },
    {
     "name": "stdout",
     "output_type": "stream",
     "text": [
      "13:17:40.076 DEBUG org.hibernate.SQL - insert into CUSTOMER (birthDate,creationDate,email,firstname,lastname,photo,status,version,ID) values (?,?,?,?,?,?,?,?,?)\n"
     ]
    },
    {
     "name": "stdout",
     "output_type": "stream",
     "text": [
      "13:17:40.077 DEBUG org.hibernate.SQL - select count(*)>0 from CUSTOMER c1_0 where c1_0.email=?\n"
     ]
    },
    {
     "name": "stdout",
     "output_type": "stream",
     "text": [
      "13:17:40.077 DEBUG org.hibernate.SQL - insert into CUSTOMER (birthDate,creationDate,email,firstname,lastname,photo,status,version,ID) values (?,?,?,?,?,?,?,?,?)\n"
     ]
    },
    {
     "name": "stdout",
     "output_type": "stream",
     "text": [
      "13:17:40.077 DEBUG org.hibernate.SQL - select count(*)>0 from CUSTOMER c1_0 where c1_0.email=?\n"
     ]
    },
    {
     "name": "stdout",
     "output_type": "stream",
     "text": [
      "13:17:40.078 DEBUG org.hibernate.SQL - insert into CUSTOMER (birthDate,creationDate,email,firstname,lastname,photo,status,version,ID) values (?,?,?,?,?,?,?,?,?)\n"
     ]
    },
    {
     "name": "stdout",
     "output_type": "stream",
     "text": [
      "13:17:40.078 DEBUG org.hibernate.SQL - select count(*)>0 from CUSTOMER c1_0 where c1_0.email=?\n"
     ]
    },
    {
     "name": "stdout",
     "output_type": "stream",
     "text": [
      "13:17:40.078 DEBUG org.hibernate.SQL - insert into CUSTOMER (birthDate,creationDate,email,firstname,lastname,photo,status,version,ID) values (?,?,?,?,?,?,?,?,?)\n"
     ]
    },
    {
     "name": "stdout",
     "output_type": "stream",
     "text": [
      "13:17:40.079 DEBUG org.hibernate.SQL - select count(*)>0 from CUSTOMER c1_0 where c1_0.email=?\n"
     ]
    },
    {
     "name": "stdout",
     "output_type": "stream",
     "text": [
      "13:17:40.079 DEBUG org.hibernate.SQL - insert into CUSTOMER (birthDate,creationDate,email,firstname,lastname,photo,status,version,ID) values (?,?,?,?,?,?,?,?,?)\n"
     ]
    },
    {
     "name": "stdout",
     "output_type": "stream",
     "text": [
      "13:17:40.079 DEBUG org.hibernate.SQL - select count(*)>0 from CUSTOMER c1_0 where c1_0.email=?\n"
     ]
    },
    {
     "name": "stdout",
     "output_type": "stream",
     "text": [
      "13:17:40.080 DEBUG org.hibernate.SQL - insert into CUSTOMER (birthDate,creationDate,email,firstname,lastname,photo,status,version,ID) values (?,?,?,?,?,?,?,?,?)\n"
     ]
    },
    {
     "name": "stdout",
     "output_type": "stream",
     "text": [
      "13:17:40.080 DEBUG org.hibernate.SQL - select count(*)>0 from CUSTOMER c1_0 where c1_0.email=?\n"
     ]
    },
    {
     "name": "stdout",
     "output_type": "stream",
     "text": [
      "13:17:40.081 DEBUG org.hibernate.SQL - insert into CUSTOMER (birthDate,creationDate,email,firstname,lastname,photo,status,version,ID) values (?,?,?,?,?,?,?,?,?)\n"
     ]
    },
    {
     "name": "stdout",
     "output_type": "stream",
     "text": [
      "13:17:40.081 DEBUG org.hibernate.SQL - select count(*)>0 from CUSTOMER c1_0 where c1_0.email=?\n"
     ]
    },
    {
     "name": "stdout",
     "output_type": "stream",
     "text": [
      "13:17:40.082 DEBUG org.hibernate.SQL - insert into CUSTOMER (birthDate,creationDate,email,firstname,lastname,photo,status,version,ID) values (?,?,?,?,?,?,?,?,?)\n"
     ]
    },
    {
     "name": "stdout",
     "output_type": "stream",
     "text": [
      "13:17:40.082 DEBUG org.hibernate.SQL - select count(*)>0 from CUSTOMER c1_0 where c1_0.email=?\n"
     ]
    },
    {
     "name": "stdout",
     "output_type": "stream",
     "text": [
      "13:17:40.082 DEBUG org.hibernate.SQL - insert into CUSTOMER (birthDate,creationDate,email,firstname,lastname,photo,status,version,ID) values (?,?,?,?,?,?,?,?,?)\n"
     ]
    },
    {
     "name": "stdout",
     "output_type": "stream",
     "text": [
      "13:17:40.083 DEBUG org.hibernate.SQL - select count(*)>0 from CUSTOMER c1_0 where c1_0.email=?\n"
     ]
    },
    {
     "name": "stdout",
     "output_type": "stream",
     "text": [
      "13:17:40.084 DEBUG org.hibernate.SQL - insert into CUSTOMER (birthDate,creationDate,email,firstname,lastname,photo,status,version,ID) values (?,?,?,?,?,?,?,?,?)\n"
     ]
    },
    {
     "name": "stdout",
     "output_type": "stream",
     "text": [
      "13:17:40.084 DEBUG org.hibernate.SQL - select count(*)>0 from CUSTOMER c1_0 where c1_0.email=?\n"
     ]
    },
    {
     "name": "stdout",
     "output_type": "stream",
     "text": [
      "13:17:40.084 DEBUG org.hibernate.SQL - insert into CUSTOMER (birthDate,creationDate,email,firstname,lastname,photo,status,version,ID) values (?,?,?,?,?,?,?,?,?)\n"
     ]
    },
    {
     "name": "stdout",
     "output_type": "stream",
     "text": [
      "13:17:40.085 DEBUG org.hibernate.SQL - select count(*)>0 from CUSTOMER c1_0 where c1_0.email=?\n"
     ]
    },
    {
     "name": "stdout",
     "output_type": "stream",
     "text": [
      "13:17:40.085 DEBUG org.hibernate.SQL - insert into CUSTOMER (birthDate,creationDate,email,firstname,lastname,photo,status,version,ID) values (?,?,?,?,?,?,?,?,?)\n"
     ]
    },
    {
     "name": "stdout",
     "output_type": "stream",
     "text": [
      "13:17:40.085 DEBUG org.hibernate.SQL - select count(*)>0 from CUSTOMER c1_0 where c1_0.email=?\n"
     ]
    },
    {
     "name": "stdout",
     "output_type": "stream",
     "text": [
      "13:17:40.086 DEBUG org.hibernate.SQL - insert into CUSTOMER (birthDate,creationDate,email,firstname,lastname,photo,status,version,ID) values (?,?,?,?,?,?,?,?,?)\n"
     ]
    },
    {
     "name": "stdout",
     "output_type": "stream",
     "text": [
      "13:17:40.086 DEBUG org.hibernate.SQL - select count(*)>0 from CUSTOMER c1_0 where c1_0.email=?\n"
     ]
    },
    {
     "name": "stdout",
     "output_type": "stream",
     "text": [
      "13:17:40.086 DEBUG org.hibernate.SQL - insert into CUSTOMER (birthDate,creationDate,email,firstname,lastname,photo,status,version,ID) values (?,?,?,?,?,?,?,?,?)\n"
     ]
    },
    {
     "name": "stdout",
     "output_type": "stream",
     "text": [
      "13:17:40.087 DEBUG org.hibernate.SQL - select count(*)>0 from CUSTOMER c1_0 where c1_0.email=?\n"
     ]
    },
    {
     "name": "stdout",
     "output_type": "stream",
     "text": [
      "13:17:40.087 DEBUG org.hibernate.SQL - insert into CUSTOMER (birthDate,creationDate,email,firstname,lastname,photo,status,version,ID) values (?,?,?,?,?,?,?,?,?)\n"
     ]
    },
    {
     "name": "stdout",
     "output_type": "stream",
     "text": [
      "13:17:40.087 DEBUG org.hibernate.SQL - select count(*)>0 from CUSTOMER c1_0 where c1_0.email=?\n"
     ]
    },
    {
     "name": "stdout",
     "output_type": "stream",
     "text": [
      "13:17:40.088 DEBUG org.hibernate.SQL - insert into CUSTOMER (birthDate,creationDate,email,firstname,lastname,photo,status,version,ID) values (?,?,?,?,?,?,?,?,?)\n"
     ]
    },
    {
     "name": "stdout",
     "output_type": "stream",
     "text": [
      "13:17:40.088 DEBUG org.hibernate.SQL - select count(*)>0 from CUSTOMER c1_0 where c1_0.email=?\n"
     ]
    },
    {
     "name": "stdout",
     "output_type": "stream",
     "text": [
      "13:17:40.088 DEBUG org.hibernate.SQL - insert into CUSTOMER (birthDate,creationDate,email,firstname,lastname,photo,status,version,ID) values (?,?,?,?,?,?,?,?,?)\n"
     ]
    },
    {
     "name": "stdout",
     "output_type": "stream",
     "text": [
      "13:17:40.088 DEBUG org.hibernate.SQL - select count(*)>0 from CUSTOMER c1_0 where c1_0.email=?\n"
     ]
    },
    {
     "name": "stdout",
     "output_type": "stream",
     "text": [
      "13:17:40.089 DEBUG org.hibernate.SQL - insert into CUSTOMER (birthDate,creationDate,email,firstname,lastname,photo,status,version,ID) values (?,?,?,?,?,?,?,?,?)\n"
     ]
    },
    {
     "name": "stdout",
     "output_type": "stream",
     "text": [
      "13:17:40.089 DEBUG org.hibernate.SQL - select count(*)>0 from CUSTOMER c1_0 where c1_0.email=?\n"
     ]
    },
    {
     "name": "stdout",
     "output_type": "stream",
     "text": [
      "13:17:40.090 DEBUG org.hibernate.SQL - insert into CUSTOMER (birthDate,creationDate,email,firstname,lastname,photo,status,version,ID) values (?,?,?,?,?,?,?,?,?)\n"
     ]
    },
    {
     "name": "stdout",
     "output_type": "stream",
     "text": [
      "13:17:40.090 DEBUG org.hibernate.SQL - select count(*)>0 from CUSTOMER c1_0 where c1_0.email=?\n"
     ]
    },
    {
     "name": "stdout",
     "output_type": "stream",
     "text": [
      "13:17:40.090 DEBUG org.hibernate.SQL - insert into CUSTOMER (birthDate,creationDate,email,firstname,lastname,photo,status,version,ID) values (?,?,?,?,?,?,?,?,?)\n"
     ]
    },
    {
     "name": "stdout",
     "output_type": "stream",
     "text": [
      "13:17:40.090 DEBUG org.hibernate.SQL - select count(*)>0 from CUSTOMER c1_0 where c1_0.email=?\n"
     ]
    },
    {
     "name": "stdout",
     "output_type": "stream",
     "text": [
      "13:17:40.091 DEBUG org.hibernate.SQL - insert into CUSTOMER (birthDate,creationDate,email,firstname,lastname,photo,status,version,ID) values (?,?,?,?,?,?,?,?,?)\n"
     ]
    },
    {
     "name": "stdout",
     "output_type": "stream",
     "text": [
      "13:17:40.091 DEBUG org.hibernate.SQL - select count(*)>0 from CUSTOMER c1_0 where c1_0.email=?\n"
     ]
    },
    {
     "name": "stdout",
     "output_type": "stream",
     "text": [
      "13:17:40.091 DEBUG org.hibernate.SQL - insert into CUSTOMER (birthDate,creationDate,email,firstname,lastname,photo,status,version,ID) values (?,?,?,?,?,?,?,?,?)\n"
     ]
    },
    {
     "name": "stdout",
     "output_type": "stream",
     "text": [
      "13:17:40.092 DEBUG org.hibernate.SQL - select count(*)>0 from CUSTOMER c1_0 where c1_0.email=?\n"
     ]
    },
    {
     "name": "stdout",
     "output_type": "stream",
     "text": [
      "13:17:40.092 DEBUG org.hibernate.SQL - insert into CUSTOMER (birthDate,creationDate,email,firstname,lastname,photo,status,version,ID) values (?,?,?,?,?,?,?,?,?)\n"
     ]
    },
    {
     "name": "stdout",
     "output_type": "stream",
     "text": [
      "13:17:40.092 DEBUG org.hibernate.SQL - select count(*)>0 from CUSTOMER c1_0 where c1_0.email=?\n"
     ]
    },
    {
     "name": "stdout",
     "output_type": "stream",
     "text": [
      "13:17:40.093 DEBUG org.hibernate.SQL - insert into CUSTOMER (birthDate,creationDate,email,firstname,lastname,photo,status,version,ID) values (?,?,?,?,?,?,?,?,?)\n"
     ]
    },
    {
     "name": "stdout",
     "output_type": "stream",
     "text": [
      "13:17:40.093 DEBUG org.hibernate.SQL - select count(*)>0 from CUSTOMER c1_0 where c1_0.email=?\n"
     ]
    },
    {
     "name": "stdout",
     "output_type": "stream",
     "text": [
      "13:17:40.094 DEBUG org.hibernate.SQL - insert into CUSTOMER (birthDate,creationDate,email,firstname,lastname,photo,status,version,ID) values (?,?,?,?,?,?,?,?,?)\n"
     ]
    },
    {
     "name": "stdout",
     "output_type": "stream",
     "text": [
      "13:17:40.094 DEBUG org.hibernate.SQL - select count(*)>0 from CUSTOMER c1_0 where c1_0.email=?\n"
     ]
    },
    {
     "name": "stdout",
     "output_type": "stream",
     "text": [
      "13:17:40.094 DEBUG org.hibernate.SQL - insert into CUSTOMER (birthDate,creationDate,email,firstname,lastname,photo,status,version,ID) values (?,?,?,?,?,?,?,?,?)\n"
     ]
    },
    {
     "name": "stdout",
     "output_type": "stream",
     "text": [
      "13:17:40.095 DEBUG org.hibernate.SQL - select count(*)>0 from CUSTOMER c1_0 where c1_0.email=?\n"
     ]
    },
    {
     "name": "stdout",
     "output_type": "stream",
     "text": [
      "13:17:40.096 DEBUG org.hibernate.SQL - insert into CUSTOMER (birthDate,creationDate,email,firstname,lastname,photo,status,version,ID) values (?,?,?,?,?,?,?,?,?)\n"
     ]
    },
    {
     "name": "stdout",
     "output_type": "stream",
     "text": [
      "13:17:40.096 DEBUG org.hibernate.SQL - select count(*)>0 from CUSTOMER c1_0 where c1_0.email=?\n"
     ]
    },
    {
     "name": "stdout",
     "output_type": "stream",
     "text": [
      "13:17:40.098 DEBUG org.hibernate.SQL - insert into CUSTOMER (birthDate,creationDate,email,firstname,lastname,photo,status,version,ID) values (?,?,?,?,?,?,?,?,?)\n"
     ]
    },
    {
     "name": "stdout",
     "output_type": "stream",
     "text": [
      "13:17:40.099 DEBUG org.hibernate.SQL - select count(*)>0 from CUSTOMER c1_0 where c1_0.email=?\n"
     ]
    },
    {
     "name": "stdout",
     "output_type": "stream",
     "text": [
      "13:17:40.099 DEBUG org.hibernate.SQL - insert into CUSTOMER (birthDate,creationDate,email,firstname,lastname,photo,status,version,ID) values (?,?,?,?,?,?,?,?,?)\n"
     ]
    },
    {
     "name": "stdout",
     "output_type": "stream",
     "text": [
      "13:17:40.100 DEBUG org.hibernate.SQL - select count(*)>0 from CUSTOMER c1_0 where c1_0.email=?\n"
     ]
    },
    {
     "name": "stdout",
     "output_type": "stream",
     "text": [
      "13:17:40.102 DEBUG org.hibernate.SQL - insert into CUSTOMER (birthDate,creationDate,email,firstname,lastname,photo,status,version,ID) values (?,?,?,?,?,?,?,?,?)\n"
     ]
    },
    {
     "name": "stdout",
     "output_type": "stream",
     "text": [
      "13:17:40.102 DEBUG org.hibernate.SQL - select count(*)>0 from CUSTOMER c1_0 where c1_0.email=?\n"
     ]
    },
    {
     "name": "stdout",
     "output_type": "stream",
     "text": [
      "13:17:40.104 DEBUG org.hibernate.SQL - insert into CUSTOMER (birthDate,creationDate,email,firstname,lastname,photo,status,version,ID) values (?,?,?,?,?,?,?,?,?)\n"
     ]
    },
    {
     "name": "stdout",
     "output_type": "stream",
     "text": [
      "13:17:40.105 DEBUG org.hibernate.SQL - select count(*)>0 from CUSTOMER c1_0 where c1_0.email=?\n"
     ]
    },
    {
     "name": "stdout",
     "output_type": "stream",
     "text": [
      "13:17:40.106 DEBUG org.hibernate.SQL - insert into CUSTOMER (birthDate,creationDate,email,firstname,lastname,photo,status,version,ID) values (?,?,?,?,?,?,?,?,?)\n"
     ]
    },
    {
     "name": "stdout",
     "output_type": "stream",
     "text": [
      "13:17:40.107 DEBUG org.hibernate.SQL - select count(*)>0 from CUSTOMER c1_0 where c1_0.email=?\n"
     ]
    },
    {
     "name": "stdout",
     "output_type": "stream",
     "text": [
      "13:17:40.108 DEBUG org.hibernate.SQL - insert into CUSTOMER (birthDate,creationDate,email,firstname,lastname,photo,status,version,ID) values (?,?,?,?,?,?,?,?,?)\n"
     ]
    },
    {
     "name": "stdout",
     "output_type": "stream",
     "text": [
      "13:17:40.109 DEBUG org.hibernate.SQL - select count(*)>0 from CUSTOMER c1_0 where c1_0.email=?\n"
     ]
    },
    {
     "name": "stdout",
     "output_type": "stream",
     "text": [
      "13:17:40.109 DEBUG org.hibernate.SQL - insert into CUSTOMER (birthDate,creationDate,email,firstname,lastname,photo,status,version,ID) values (?,?,?,?,?,?,?,?,?)\n"
     ]
    },
    {
     "name": "stdout",
     "output_type": "stream",
     "text": [
      "13:17:40.110 DEBUG org.hibernate.SQL - select count(*)>0 from CUSTOMER c1_0 where c1_0.email=?\n"
     ]
    },
    {
     "name": "stdout",
     "output_type": "stream",
     "text": [
      "13:17:40.110 DEBUG org.hibernate.SQL - insert into CUSTOMER (birthDate,creationDate,email,firstname,lastname,photo,status,version,ID) values (?,?,?,?,?,?,?,?,?)\n"
     ]
    },
    {
     "name": "stdout",
     "output_type": "stream",
     "text": [
      "13:17:40.110 DEBUG org.hibernate.SQL - select count(*)>0 from CUSTOMER c1_0 where c1_0.email=?\n"
     ]
    },
    {
     "name": "stdout",
     "output_type": "stream",
     "text": [
      "13:17:40.111 DEBUG org.hibernate.SQL - insert into CUSTOMER (birthDate,creationDate,email,firstname,lastname,photo,status,version,ID) values (?,?,?,?,?,?,?,?,?)\n"
     ]
    },
    {
     "name": "stdout",
     "output_type": "stream",
     "text": [
      "13:17:40.111 DEBUG org.hibernate.SQL - select count(*)>0 from CUSTOMER c1_0 where c1_0.email=?\n"
     ]
    },
    {
     "name": "stdout",
     "output_type": "stream",
     "text": [
      "13:17:40.111 DEBUG org.hibernate.SQL - select nextval('CUSTOMER_SEQ')\n"
     ]
    },
    {
     "name": "stdout",
     "output_type": "stream",
     "text": [
      "13:17:40.112 DEBUG org.hibernate.SQL - insert into CUSTOMER (birthDate,creationDate,email,firstname,lastname,photo,status,version,ID) values (?,?,?,?,?,?,?,?,?)\n"
     ]
    },
    {
     "name": "stdout",
     "output_type": "stream",
     "text": [
      "13:17:40.112 DEBUG org.hibernate.SQL - select count(*)>0 from CUSTOMER c1_0 where c1_0.email=?\n"
     ]
    },
    {
     "name": "stdout",
     "output_type": "stream",
     "text": [
      "13:17:40.113 DEBUG org.hibernate.SQL - insert into CUSTOMER (birthDate,creationDate,email,firstname,lastname,photo,status,version,ID) values (?,?,?,?,?,?,?,?,?)\n"
     ]
    },
    {
     "name": "stdout",
     "output_type": "stream",
     "text": [
      "13:17:40.113 DEBUG org.hibernate.SQL - select count(*)>0 from CUSTOMER c1_0 where c1_0.email=?\n"
     ]
    },
    {
     "name": "stdout",
     "output_type": "stream",
     "text": [
      "13:17:40.114 DEBUG org.hibernate.SQL - insert into CUSTOMER (birthDate,creationDate,email,firstname,lastname,photo,status,version,ID) values (?,?,?,?,?,?,?,?,?)\n"
     ]
    },
    {
     "name": "stdout",
     "output_type": "stream",
     "text": [
      "13:17:40.114 DEBUG org.hibernate.SQL - select count(*)>0 from CUSTOMER c1_0 where c1_0.email=?\n"
     ]
    },
    {
     "name": "stdout",
     "output_type": "stream",
     "text": [
      "13:17:40.115 DEBUG org.hibernate.SQL - insert into CUSTOMER (birthDate,creationDate,email,firstname,lastname,photo,status,version,ID) values (?,?,?,?,?,?,?,?,?)\n"
     ]
    },
    {
     "name": "stdout",
     "output_type": "stream",
     "text": [
      "13:17:40.115 DEBUG org.hibernate.SQL - select count(*)>0 from CUSTOMER c1_0 where c1_0.email=?\n"
     ]
    },
    {
     "name": "stdout",
     "output_type": "stream",
     "text": [
      "13:17:40.116 DEBUG org.hibernate.SQL - insert into CUSTOMER (birthDate,creationDate,email,firstname,lastname,photo,status,version,ID) values (?,?,?,?,?,?,?,?,?)\n"
     ]
    },
    {
     "name": "stdout",
     "output_type": "stream",
     "text": [
      "13:17:40.116 DEBUG org.hibernate.SQL - select count(*)>0 from CUSTOMER c1_0 where c1_0.email=?\n"
     ]
    },
    {
     "name": "stdout",
     "output_type": "stream",
     "text": [
      "13:17:40.116 DEBUG org.hibernate.SQL - insert into CUSTOMER (birthDate,creationDate,email,firstname,lastname,photo,status,version,ID) values (?,?,?,?,?,?,?,?,?)\n"
     ]
    },
    {
     "name": "stdout",
     "output_type": "stream",
     "text": [
      "13:17:40.116 DEBUG org.hibernate.SQL - select count(*)>0 from CUSTOMER c1_0 where c1_0.email=?\n"
     ]
    },
    {
     "name": "stdout",
     "output_type": "stream",
     "text": [
      "13:17:40.117 DEBUG org.hibernate.SQL - insert into CUSTOMER (birthDate,creationDate,email,firstname,lastname,photo,status,version,ID) values (?,?,?,?,?,?,?,?,?)\n"
     ]
    },
    {
     "name": "stdout",
     "output_type": "stream",
     "text": [
      "13:17:40.118 DEBUG org.hibernate.SQL - select count(*)>0 from CUSTOMER c1_0 where c1_0.email=?\n"
     ]
    },
    {
     "name": "stdout",
     "output_type": "stream",
     "text": [
      "13:17:40.118 DEBUG org.hibernate.SQL - insert into CUSTOMER (birthDate,creationDate,email,firstname,lastname,photo,status,version,ID) values (?,?,?,?,?,?,?,?,?)\n"
     ]
    },
    {
     "name": "stdout",
     "output_type": "stream",
     "text": [
      "13:17:40.118 DEBUG org.hibernate.SQL - select count(*)>0 from CUSTOMER c1_0 where c1_0.email=?\n"
     ]
    },
    {
     "name": "stdout",
     "output_type": "stream",
     "text": [
      "13:17:40.119 DEBUG org.hibernate.SQL - insert into CUSTOMER (birthDate,creationDate,email,firstname,lastname,photo,status,version,ID) values (?,?,?,?,?,?,?,?,?)\n"
     ]
    },
    {
     "name": "stdout",
     "output_type": "stream",
     "text": [
      "13:17:40.119 DEBUG org.hibernate.SQL - select count(*)>0 from CUSTOMER c1_0 where c1_0.email=?\n"
     ]
    },
    {
     "name": "stdout",
     "output_type": "stream",
     "text": [
      "13:17:40.120 DEBUG org.hibernate.SQL - insert into CUSTOMER (birthDate,creationDate,email,firstname,lastname,photo,status,version,ID) values (?,?,?,?,?,?,?,?,?)\n"
     ]
    },
    {
     "name": "stdout",
     "output_type": "stream",
     "text": [
      "13:17:40.120 DEBUG org.hibernate.SQL - select count(*)>0 from CUSTOMER c1_0 where c1_0.email=?\n"
     ]
    },
    {
     "name": "stdout",
     "output_type": "stream",
     "text": [
      "13:17:40.121 DEBUG org.hibernate.SQL - insert into CUSTOMER (birthDate,creationDate,email,firstname,lastname,photo,status,version,ID) values (?,?,?,?,?,?,?,?,?)\n"
     ]
    },
    {
     "name": "stdout",
     "output_type": "stream",
     "text": [
      "13:17:40.121 DEBUG org.hibernate.SQL - select count(*)>0 from CUSTOMER c1_0 where c1_0.email=?\n"
     ]
    },
    {
     "name": "stdout",
     "output_type": "stream",
     "text": [
      "13:17:40.121 DEBUG org.hibernate.SQL - insert into CUSTOMER (birthDate,creationDate,email,firstname,lastname,photo,status,version,ID) values (?,?,?,?,?,?,?,?,?)\n"
     ]
    },
    {
     "name": "stdout",
     "output_type": "stream",
     "text": [
      "13:17:40.122 DEBUG org.hibernate.SQL - select count(*)>0 from CUSTOMER c1_0 where c1_0.email=?\n"
     ]
    },
    {
     "name": "stdout",
     "output_type": "stream",
     "text": [
      "13:17:40.122 DEBUG org.hibernate.SQL - insert into CUSTOMER (birthDate,creationDate,email,firstname,lastname,photo,status,version,ID) values (?,?,?,?,?,?,?,?,?)\n"
     ]
    },
    {
     "name": "stdout",
     "output_type": "stream",
     "text": [
      "13:17:40.122 DEBUG org.hibernate.SQL - select count(*)>0 from CUSTOMER c1_0 where c1_0.email=?\n"
     ]
    },
    {
     "name": "stdout",
     "output_type": "stream",
     "text": [
      "13:17:40.123 DEBUG org.hibernate.SQL - insert into CUSTOMER (birthDate,creationDate,email,firstname,lastname,photo,status,version,ID) values (?,?,?,?,?,?,?,?,?)\n"
     ]
    },
    {
     "name": "stdout",
     "output_type": "stream",
     "text": [
      "13:17:40.123 DEBUG org.hibernate.SQL - select count(*)>0 from CUSTOMER c1_0 where c1_0.email=?\n"
     ]
    },
    {
     "name": "stdout",
     "output_type": "stream",
     "text": [
      "13:17:40.124 DEBUG org.hibernate.SQL - insert into CUSTOMER (birthDate,creationDate,email,firstname,lastname,photo,status,version,ID) values (?,?,?,?,?,?,?,?,?)\n"
     ]
    },
    {
     "name": "stdout",
     "output_type": "stream",
     "text": [
      "13:17:40.124 DEBUG org.hibernate.SQL - select count(*)>0 from CUSTOMER c1_0 where c1_0.email=?\n"
     ]
    },
    {
     "name": "stdout",
     "output_type": "stream",
     "text": [
      "13:17:40.125 DEBUG org.hibernate.SQL - insert into CUSTOMER (birthDate,creationDate,email,firstname,lastname,photo,status,version,ID) values (?,?,?,?,?,?,?,?,?)\n"
     ]
    },
    {
     "name": "stdout",
     "output_type": "stream",
     "text": [
      "13:17:40.125 DEBUG org.hibernate.SQL - select count(*)>0 from CUSTOMER c1_0 where c1_0.email=?\n"
     ]
    },
    {
     "name": "stdout",
     "output_type": "stream",
     "text": [
      "13:17:40.125 DEBUG org.hibernate.SQL - insert into CUSTOMER (birthDate,creationDate,email,firstname,lastname,photo,status,version,ID) values (?,?,?,?,?,?,?,?,?)\n"
     ]
    },
    {
     "name": "stdout",
     "output_type": "stream",
     "text": [
      "13:17:40.126 DEBUG org.hibernate.SQL - select count(*)>0 from CUSTOMER c1_0 where c1_0.email=?\n"
     ]
    },
    {
     "name": "stdout",
     "output_type": "stream",
     "text": [
      "13:17:40.126 DEBUG org.hibernate.SQL - insert into CUSTOMER (birthDate,creationDate,email,firstname,lastname,photo,status,version,ID) values (?,?,?,?,?,?,?,?,?)\n"
     ]
    },
    {
     "name": "stdout",
     "output_type": "stream",
     "text": [
      "13:17:40.126 DEBUG org.hibernate.SQL - select count(*)>0 from CUSTOMER c1_0 where c1_0.email=?\n"
     ]
    },
    {
     "name": "stdout",
     "output_type": "stream",
     "text": [
      "13:17:40.127 DEBUG org.hibernate.SQL - insert into CUSTOMER (birthDate,creationDate,email,firstname,lastname,photo,status,version,ID) values (?,?,?,?,?,?,?,?,?)\n"
     ]
    },
    {
     "name": "stdout",
     "output_type": "stream",
     "text": [
      "13:17:40.127 DEBUG org.hibernate.SQL - select count(*)>0 from CUSTOMER c1_0 where c1_0.email=?\n"
     ]
    },
    {
     "name": "stdout",
     "output_type": "stream",
     "text": [
      "13:17:40.128 DEBUG org.hibernate.SQL - insert into CUSTOMER (birthDate,creationDate,email,firstname,lastname,photo,status,version,ID) values (?,?,?,?,?,?,?,?,?)\n"
     ]
    },
    {
     "name": "stdout",
     "output_type": "stream",
     "text": [
      "13:17:40.128 DEBUG org.hibernate.SQL - select count(*)>0 from CUSTOMER c1_0 where c1_0.email=?\n"
     ]
    },
    {
     "name": "stdout",
     "output_type": "stream",
     "text": [
      "13:17:40.128 DEBUG org.hibernate.SQL - insert into CUSTOMER (birthDate,creationDate,email,firstname,lastname,photo,status,version,ID) values (?,?,?,?,?,?,?,?,?)\n"
     ]
    },
    {
     "name": "stdout",
     "output_type": "stream",
     "text": [
      "13:17:40.129 DEBUG org.hibernate.SQL - select count(*)>0 from CUSTOMER c1_0 where c1_0.email=?\n"
     ]
    },
    {
     "name": "stdout",
     "output_type": "stream",
     "text": [
      "13:17:40.129 DEBUG org.hibernate.SQL - insert into CUSTOMER (birthDate,creationDate,email,firstname,lastname,photo,status,version,ID) values (?,?,?,?,?,?,?,?,?)\n"
     ]
    },
    {
     "name": "stdout",
     "output_type": "stream",
     "text": [
      "13:17:40.129 DEBUG org.hibernate.SQL - select count(*)>0 from CUSTOMER c1_0 where c1_0.email=?\n"
     ]
    },
    {
     "name": "stdout",
     "output_type": "stream",
     "text": [
      "13:17:40.130 DEBUG org.hibernate.SQL - insert into CUSTOMER (birthDate,creationDate,email,firstname,lastname,photo,status,version,ID) values (?,?,?,?,?,?,?,?,?)\n"
     ]
    },
    {
     "name": "stdout",
     "output_type": "stream",
     "text": [
      "13:17:40.130 DEBUG org.hibernate.SQL - select count(*)>0 from CUSTOMER c1_0 where c1_0.email=?\n"
     ]
    },
    {
     "name": "stdout",
     "output_type": "stream",
     "text": [
      "13:17:40.131 DEBUG org.hibernate.SQL - insert into CUSTOMER (birthDate,creationDate,email,firstname,lastname,photo,status,version,ID) values (?,?,?,?,?,?,?,?,?)\n"
     ]
    },
    {
     "name": "stdout",
     "output_type": "stream",
     "text": [
      "13:17:40.131 DEBUG org.hibernate.SQL - select count(*)>0 from CUSTOMER c1_0 where c1_0.email=?\n"
     ]
    },
    {
     "name": "stdout",
     "output_type": "stream",
     "text": [
      "13:17:40.131 DEBUG org.hibernate.SQL - insert into CUSTOMER (birthDate,creationDate,email,firstname,lastname,photo,status,version,ID) values (?,?,?,?,?,?,?,?,?)\n"
     ]
    },
    {
     "name": "stdout",
     "output_type": "stream",
     "text": [
      "13:17:40.132 DEBUG org.hibernate.SQL - select count(*)>0 from CUSTOMER c1_0 where c1_0.email=?\n"
     ]
    },
    {
     "name": "stdout",
     "output_type": "stream",
     "text": [
      "13:17:40.132 DEBUG org.hibernate.SQL - insert into CUSTOMER (birthDate,creationDate,email,firstname,lastname,photo,status,version,ID) values (?,?,?,?,?,?,?,?,?)\n"
     ]
    },
    {
     "name": "stdout",
     "output_type": "stream",
     "text": [
      "13:17:40.132 DEBUG org.hibernate.SQL - select count(*)>0 from CUSTOMER c1_0 where c1_0.email=?\n"
     ]
    },
    {
     "name": "stdout",
     "output_type": "stream",
     "text": [
      "13:17:40.133 DEBUG org.hibernate.SQL - insert into CUSTOMER (birthDate,creationDate,email,firstname,lastname,photo,status,version,ID) values (?,?,?,?,?,?,?,?,?)\n"
     ]
    },
    {
     "name": "stdout",
     "output_type": "stream",
     "text": [
      "13:17:40.133 DEBUG org.hibernate.SQL - select count(*)>0 from CUSTOMER c1_0 where c1_0.email=?\n"
     ]
    },
    {
     "name": "stdout",
     "output_type": "stream",
     "text": [
      "13:17:40.134 DEBUG org.hibernate.SQL - insert into CUSTOMER (birthDate,creationDate,email,firstname,lastname,photo,status,version,ID) values (?,?,?,?,?,?,?,?,?)\n"
     ]
    },
    {
     "name": "stdout",
     "output_type": "stream",
     "text": [
      "13:17:40.134 DEBUG org.hibernate.SQL - select count(*)>0 from CUSTOMER c1_0 where c1_0.email=?\n"
     ]
    },
    {
     "name": "stdout",
     "output_type": "stream",
     "text": [
      "13:17:40.134 DEBUG org.hibernate.SQL - insert into CUSTOMER (birthDate,creationDate,email,firstname,lastname,photo,status,version,ID) values (?,?,?,?,?,?,?,?,?)\n"
     ]
    },
    {
     "name": "stdout",
     "output_type": "stream",
     "text": [
      "13:17:40.134 DEBUG org.hibernate.SQL - select count(*)>0 from CUSTOMER c1_0 where c1_0.email=?\n"
     ]
    },
    {
     "name": "stdout",
     "output_type": "stream",
     "text": [
      "13:17:40.135 DEBUG org.hibernate.SQL - insert into CUSTOMER (birthDate,creationDate,email,firstname,lastname,photo,status,version,ID) values (?,?,?,?,?,?,?,?,?)\n"
     ]
    },
    {
     "name": "stdout",
     "output_type": "stream",
     "text": [
      "13:17:40.135 DEBUG org.hibernate.SQL - select count(*)>0 from CUSTOMER c1_0 where c1_0.email=?\n"
     ]
    },
    {
     "name": "stdout",
     "output_type": "stream",
     "text": [
      "13:17:40.136 DEBUG org.hibernate.SQL - insert into CUSTOMER (birthDate,creationDate,email,firstname,lastname,photo,status,version,ID) values (?,?,?,?,?,?,?,?,?)\n"
     ]
    },
    {
     "name": "stdout",
     "output_type": "stream",
     "text": [
      "13:17:40.136 DEBUG org.hibernate.SQL - select count(*)>0 from CUSTOMER c1_0 where c1_0.email=?\n"
     ]
    },
    {
     "name": "stdout",
     "output_type": "stream",
     "text": [
      "13:17:40.137 DEBUG org.hibernate.SQL - insert into CUSTOMER (birthDate,creationDate,email,firstname,lastname,photo,status,version,ID) values (?,?,?,?,?,?,?,?,?)\n"
     ]
    },
    {
     "name": "stdout",
     "output_type": "stream",
     "text": [
      "13:17:40.137 DEBUG org.hibernate.SQL - select count(*)>0 from CUSTOMER c1_0 where c1_0.email=?\n"
     ]
    },
    {
     "name": "stdout",
     "output_type": "stream",
     "text": [
      "13:17:40.137 DEBUG org.hibernate.SQL - insert into CUSTOMER (birthDate,creationDate,email,firstname,lastname,photo,status,version,ID) values (?,?,?,?,?,?,?,?,?)\n"
     ]
    },
    {
     "name": "stdout",
     "output_type": "stream",
     "text": [
      "13:17:40.138 DEBUG org.hibernate.SQL - select count(*)>0 from CUSTOMER c1_0 where c1_0.email=?\n"
     ]
    },
    {
     "name": "stdout",
     "output_type": "stream",
     "text": [
      "13:17:40.138 DEBUG org.hibernate.SQL - insert into CUSTOMER (birthDate,creationDate,email,firstname,lastname,photo,status,version,ID) values (?,?,?,?,?,?,?,?,?)\n"
     ]
    },
    {
     "name": "stdout",
     "output_type": "stream",
     "text": [
      "13:17:40.139 DEBUG org.hibernate.SQL - select count(*)>0 from CUSTOMER c1_0 where c1_0.email=?\n"
     ]
    },
    {
     "name": "stdout",
     "output_type": "stream",
     "text": [
      "13:17:40.139 DEBUG org.hibernate.SQL - insert into CUSTOMER (birthDate,creationDate,email,firstname,lastname,photo,status,version,ID) values (?,?,?,?,?,?,?,?,?)\n"
     ]
    },
    {
     "name": "stdout",
     "output_type": "stream",
     "text": [
      "13:17:40.139 DEBUG org.hibernate.SQL - select count(*)>0 from CUSTOMER c1_0 where c1_0.email=?\n"
     ]
    },
    {
     "name": "stdout",
     "output_type": "stream",
     "text": [
      "13:17:40.140 DEBUG org.hibernate.SQL - insert into CUSTOMER (birthDate,creationDate,email,firstname,lastname,photo,status,version,ID) values (?,?,?,?,?,?,?,?,?)\n"
     ]
    },
    {
     "name": "stdout",
     "output_type": "stream",
     "text": [
      "13:17:40.140 DEBUG org.hibernate.SQL - select count(*)>0 from CUSTOMER c1_0 where c1_0.email=?\n"
     ]
    },
    {
     "name": "stdout",
     "output_type": "stream",
     "text": [
      "13:17:40.140 DEBUG org.hibernate.SQL - insert into CUSTOMER (birthDate,creationDate,email,firstname,lastname,photo,status,version,ID) values (?,?,?,?,?,?,?,?,?)\n"
     ]
    },
    {
     "name": "stdout",
     "output_type": "stream",
     "text": [
      "13:17:40.141 DEBUG org.hibernate.SQL - select count(*)>0 from CUSTOMER c1_0 where c1_0.email=?\n"
     ]
    },
    {
     "name": "stdout",
     "output_type": "stream",
     "text": [
      "13:17:40.141 DEBUG org.hibernate.SQL - insert into CUSTOMER (birthDate,creationDate,email,firstname,lastname,photo,status,version,ID) values (?,?,?,?,?,?,?,?,?)\n"
     ]
    },
    {
     "name": "stdout",
     "output_type": "stream",
     "text": [
      "13:17:40.141 DEBUG org.hibernate.SQL - select count(*)>0 from CUSTOMER c1_0 where c1_0.email=?\n"
     ]
    },
    {
     "name": "stdout",
     "output_type": "stream",
     "text": [
      "13:17:40.142 DEBUG org.hibernate.SQL - insert into CUSTOMER (birthDate,creationDate,email,firstname,lastname,photo,status,version,ID) values (?,?,?,?,?,?,?,?,?)\n"
     ]
    },
    {
     "name": "stdout",
     "output_type": "stream",
     "text": [
      "13:17:40.142 DEBUG org.hibernate.SQL - select count(*)>0 from CUSTOMER c1_0 where c1_0.email=?\n"
     ]
    },
    {
     "name": "stdout",
     "output_type": "stream",
     "text": [
      "13:17:40.142 DEBUG org.hibernate.SQL - insert into CUSTOMER (birthDate,creationDate,email,firstname,lastname,photo,status,version,ID) values (?,?,?,?,?,?,?,?,?)\n"
     ]
    },
    {
     "name": "stdout",
     "output_type": "stream",
     "text": [
      "13:17:40.142 DEBUG org.hibernate.SQL - select count(*)>0 from CUSTOMER c1_0 where c1_0.email=?\n"
     ]
    },
    {
     "name": "stdout",
     "output_type": "stream",
     "text": [
      "13:17:40.143 DEBUG org.hibernate.SQL - insert into CUSTOMER (birthDate,creationDate,email,firstname,lastname,photo,status,version,ID) values (?,?,?,?,?,?,?,?,?)\n"
     ]
    },
    {
     "name": "stdout",
     "output_type": "stream",
     "text": [
      "13:17:40.143 DEBUG org.hibernate.SQL - select count(*)>0 from CUSTOMER c1_0 where c1_0.email=?\n"
     ]
    },
    {
     "name": "stdout",
     "output_type": "stream",
     "text": [
      "13:17:40.144 DEBUG org.hibernate.SQL - insert into CUSTOMER (birthDate,creationDate,email,firstname,lastname,photo,status,version,ID) values (?,?,?,?,?,?,?,?,?)\n"
     ]
    },
    {
     "name": "stdout",
     "output_type": "stream",
     "text": [
      "13:17:40.144 DEBUG org.hibernate.SQL - select count(*)>0 from CUSTOMER c1_0 where c1_0.email=?\n"
     ]
    },
    {
     "name": "stdout",
     "output_type": "stream",
     "text": [
      "13:17:40.144 DEBUG org.hibernate.SQL - insert into CUSTOMER (birthDate,creationDate,email,firstname,lastname,photo,status,version,ID) values (?,?,?,?,?,?,?,?,?)\n"
     ]
    },
    {
     "name": "stdout",
     "output_type": "stream",
     "text": [
      "13:17:40.145 DEBUG org.hibernate.SQL - select count(*)>0 from CUSTOMER c1_0 where c1_0.email=?\n"
     ]
    },
    {
     "name": "stdout",
     "output_type": "stream",
     "text": [
      "13:17:40.145 DEBUG org.hibernate.SQL - insert into CUSTOMER (birthDate,creationDate,email,firstname,lastname,photo,status,version,ID) values (?,?,?,?,?,?,?,?,?)\n"
     ]
    },
    {
     "name": "stdout",
     "output_type": "stream",
     "text": [
      "13:17:40.145 DEBUG org.hibernate.SQL - select count(*)>0 from CUSTOMER c1_0 where c1_0.email=?\n"
     ]
    },
    {
     "name": "stdout",
     "output_type": "stream",
     "text": [
      "13:17:40.146 DEBUG org.hibernate.SQL - insert into CUSTOMER (birthDate,creationDate,email,firstname,lastname,photo,status,version,ID) values (?,?,?,?,?,?,?,?,?)\n"
     ]
    },
    {
     "name": "stdout",
     "output_type": "stream",
     "text": [
      "13:17:40.146 DEBUG org.hibernate.SQL - select count(*)>0 from CUSTOMER c1_0 where c1_0.email=?\n"
     ]
    },
    {
     "name": "stdout",
     "output_type": "stream",
     "text": [
      "13:17:40.146 DEBUG org.hibernate.SQL - insert into CUSTOMER (birthDate,creationDate,email,firstname,lastname,photo,status,version,ID) values (?,?,?,?,?,?,?,?,?)\n"
     ]
    },
    {
     "name": "stdout",
     "output_type": "stream",
     "text": [
      "13:17:40.147 DEBUG org.hibernate.SQL - select count(*)>0 from CUSTOMER c1_0 where c1_0.email=?\n"
     ]
    },
    {
     "name": "stdout",
     "output_type": "stream",
     "text": [
      "13:17:40.147 DEBUG org.hibernate.SQL - insert into CUSTOMER (birthDate,creationDate,email,firstname,lastname,photo,status,version,ID) values (?,?,?,?,?,?,?,?,?)\n"
     ]
    },
    {
     "name": "stdout",
     "output_type": "stream",
     "text": [
      "13:17:40.147 DEBUG org.hibernate.SQL - select count(*)>0 from CUSTOMER c1_0 where c1_0.email=?\n"
     ]
    },
    {
     "name": "stdout",
     "output_type": "stream",
     "text": [
      "13:17:40.148 DEBUG org.hibernate.SQL - insert into CUSTOMER (birthDate,creationDate,email,firstname,lastname,photo,status,version,ID) values (?,?,?,?,?,?,?,?,?)\n"
     ]
    },
    {
     "name": "stdout",
     "output_type": "stream",
     "text": [
      "13:17:40.148 DEBUG org.hibernate.SQL - select count(*)>0 from CUSTOMER c1_0 where c1_0.email=?\n"
     ]
    },
    {
     "name": "stdout",
     "output_type": "stream",
     "text": [
      "13:17:40.148 DEBUG org.hibernate.SQL - insert into CUSTOMER (birthDate,creationDate,email,firstname,lastname,photo,status,version,ID) values (?,?,?,?,?,?,?,?,?)\n"
     ]
    },
    {
     "name": "stdout",
     "output_type": "stream",
     "text": [
      "13:17:40.148 DEBUG org.hibernate.SQL - select count(*)>0 from CUSTOMER c1_0 where c1_0.email=?\n"
     ]
    },
    {
     "name": "stdout",
     "output_type": "stream",
     "text": [
      "13:17:40.149 DEBUG org.hibernate.SQL - insert into CUSTOMER (birthDate,creationDate,email,firstname,lastname,photo,status,version,ID) values (?,?,?,?,?,?,?,?,?)\n"
     ]
    },
    {
     "name": "stdout",
     "output_type": "stream",
     "text": [
      "13:17:40.149 DEBUG org.hibernate.SQL - select count(*)>0 from CUSTOMER c1_0 where c1_0.email=?\n"
     ]
    },
    {
     "name": "stdout",
     "output_type": "stream",
     "text": [
      "13:17:40.149 DEBUG org.hibernate.SQL - select nextval('CUSTOMER_SEQ')\n"
     ]
    },
    {
     "name": "stdout",
     "output_type": "stream",
     "text": [
      "13:17:40.150 DEBUG org.hibernate.SQL - insert into CUSTOMER (birthDate,creationDate,email,firstname,lastname,photo,status,version,ID) values (?,?,?,?,?,?,?,?,?)\n"
     ]
    },
    {
     "name": "stdout",
     "output_type": "stream",
     "text": [
      "13:17:40.150 DEBUG org.hibernate.SQL - select count(*)>0 from CUSTOMER c1_0 where c1_0.email=?\n"
     ]
    },
    {
     "name": "stdout",
     "output_type": "stream",
     "text": [
      "13:17:40.150 DEBUG org.hibernate.SQL - insert into CUSTOMER (birthDate,creationDate,email,firstname,lastname,photo,status,version,ID) values (?,?,?,?,?,?,?,?,?)\n"
     ]
    },
    {
     "name": "stdout",
     "output_type": "stream",
     "text": [
      "13:17:40.150 DEBUG org.hibernate.SQL - select count(*)>0 from CUSTOMER c1_0 where c1_0.email=?\n"
     ]
    },
    {
     "name": "stdout",
     "output_type": "stream",
     "text": [
      "13:17:40.151 DEBUG org.hibernate.SQL - insert into CUSTOMER (birthDate,creationDate,email,firstname,lastname,photo,status,version,ID) values (?,?,?,?,?,?,?,?,?)\n"
     ]
    },
    {
     "name": "stdout",
     "output_type": "stream",
     "text": [
      "13:17:40.151 DEBUG org.hibernate.SQL - select count(*)>0 from CUSTOMER c1_0 where c1_0.email=?\n"
     ]
    },
    {
     "name": "stdout",
     "output_type": "stream",
     "text": [
      "13:17:40.151 DEBUG org.hibernate.SQL - insert into CUSTOMER (birthDate,creationDate,email,firstname,lastname,photo,status,version,ID) values (?,?,?,?,?,?,?,?,?)\n"
     ]
    },
    {
     "name": "stdout",
     "output_type": "stream",
     "text": [
      "13:17:40.152 DEBUG org.hibernate.SQL - select count(*)>0 from CUSTOMER c1_0 where c1_0.email=?\n"
     ]
    },
    {
     "name": "stdout",
     "output_type": "stream",
     "text": [
      "13:17:40.152 DEBUG org.hibernate.SQL - insert into CUSTOMER (birthDate,creationDate,email,firstname,lastname,photo,status,version,ID) values (?,?,?,?,?,?,?,?,?)\n"
     ]
    },
    {
     "name": "stdout",
     "output_type": "stream",
     "text": [
      "13:17:40.152 DEBUG org.hibernate.SQL - select count(*)>0 from CUSTOMER c1_0 where c1_0.email=?\n"
     ]
    },
    {
     "name": "stdout",
     "output_type": "stream",
     "text": [
      "13:17:40.153 DEBUG org.hibernate.SQL - insert into CUSTOMER (birthDate,creationDate,email,firstname,lastname,photo,status,version,ID) values (?,?,?,?,?,?,?,?,?)\n"
     ]
    },
    {
     "name": "stdout",
     "output_type": "stream",
     "text": [
      "13:17:40.153 DEBUG org.hibernate.SQL - select count(*)>0 from CUSTOMER c1_0 where c1_0.email=?\n"
     ]
    },
    {
     "name": "stdout",
     "output_type": "stream",
     "text": [
      "13:17:40.153 DEBUG org.hibernate.SQL - insert into CUSTOMER (birthDate,creationDate,email,firstname,lastname,photo,status,version,ID) values (?,?,?,?,?,?,?,?,?)\n"
     ]
    },
    {
     "name": "stdout",
     "output_type": "stream",
     "text": [
      "13:17:40.154 DEBUG org.hibernate.SQL - select count(*)>0 from CUSTOMER c1_0 where c1_0.email=?\n"
     ]
    },
    {
     "name": "stdout",
     "output_type": "stream",
     "text": [
      "13:17:40.154 DEBUG org.hibernate.SQL - insert into CUSTOMER (birthDate,creationDate,email,firstname,lastname,photo,status,version,ID) values (?,?,?,?,?,?,?,?,?)\n"
     ]
    },
    {
     "name": "stdout",
     "output_type": "stream",
     "text": [
      "13:17:40.154 DEBUG org.hibernate.SQL - select count(*)>0 from CUSTOMER c1_0 where c1_0.email=?\n"
     ]
    },
    {
     "name": "stdout",
     "output_type": "stream",
     "text": [
      "13:17:40.155 DEBUG org.hibernate.SQL - insert into CUSTOMER (birthDate,creationDate,email,firstname,lastname,photo,status,version,ID) values (?,?,?,?,?,?,?,?,?)\n"
     ]
    },
    {
     "name": "stdout",
     "output_type": "stream",
     "text": [
      "13:17:40.155 DEBUG org.hibernate.SQL - select count(*)>0 from CUSTOMER c1_0 where c1_0.email=?\n"
     ]
    },
    {
     "name": "stdout",
     "output_type": "stream",
     "text": [
      "13:17:40.155 DEBUG org.hibernate.SQL - insert into CUSTOMER (birthDate,creationDate,email,firstname,lastname,photo,status,version,ID) values (?,?,?,?,?,?,?,?,?)\n"
     ]
    },
    {
     "name": "stdout",
     "output_type": "stream",
     "text": [
      "13:17:40.156 DEBUG org.hibernate.SQL - select count(*)>0 from CUSTOMER c1_0 where c1_0.email=?\n"
     ]
    },
    {
     "name": "stdout",
     "output_type": "stream",
     "text": [
      "13:17:40.156 DEBUG org.hibernate.SQL - insert into CUSTOMER (birthDate,creationDate,email,firstname,lastname,photo,status,version,ID) values (?,?,?,?,?,?,?,?,?)\n"
     ]
    },
    {
     "name": "stdout",
     "output_type": "stream",
     "text": [
      "13:17:40.158 DEBUG org.hibernate.SQL - select count(*)>0 from CUSTOMER c1_0 where c1_0.email=?\n"
     ]
    },
    {
     "name": "stdout",
     "output_type": "stream",
     "text": [
      "13:17:40.161 DEBUG org.hibernate.SQL - insert into CUSTOMER (birthDate,creationDate,email,firstname,lastname,photo,status,version,ID) values (?,?,?,?,?,?,?,?,?)\n"
     ]
    },
    {
     "name": "stdout",
     "output_type": "stream",
     "text": [
      "13:17:40.162 DEBUG org.hibernate.SQL - select count(*)>0 from CUSTOMER c1_0 where c1_0.email=?\n"
     ]
    },
    {
     "name": "stdout",
     "output_type": "stream",
     "text": [
      "13:17:40.163 DEBUG org.hibernate.SQL - insert into CUSTOMER (birthDate,creationDate,email,firstname,lastname,photo,status,version,ID) values (?,?,?,?,?,?,?,?,?)\n"
     ]
    },
    {
     "name": "stdout",
     "output_type": "stream",
     "text": [
      "13:17:40.164 DEBUG org.hibernate.SQL - select count(*)>0 from CUSTOMER c1_0 where c1_0.email=?\n"
     ]
    },
    {
     "name": "stdout",
     "output_type": "stream",
     "text": [
      "13:17:40.165 DEBUG org.hibernate.SQL - insert into CUSTOMER (birthDate,creationDate,email,firstname,lastname,photo,status,version,ID) values (?,?,?,?,?,?,?,?,?)\n"
     ]
    },
    {
     "name": "stdout",
     "output_type": "stream",
     "text": [
      "13:17:40.165 DEBUG org.hibernate.SQL - select count(*)>0 from CUSTOMER c1_0 where c1_0.email=?\n"
     ]
    },
    {
     "name": "stdout",
     "output_type": "stream",
     "text": [
      "13:17:40.166 DEBUG org.hibernate.SQL - insert into CUSTOMER (birthDate,creationDate,email,firstname,lastname,photo,status,version,ID) values (?,?,?,?,?,?,?,?,?)\n"
     ]
    },
    {
     "name": "stdout",
     "output_type": "stream",
     "text": [
      "13:17:40.166 DEBUG org.hibernate.SQL - select count(*)>0 from CUSTOMER c1_0 where c1_0.email=?\n"
     ]
    },
    {
     "name": "stdout",
     "output_type": "stream",
     "text": [
      "13:17:40.167 DEBUG org.hibernate.SQL - insert into CUSTOMER (birthDate,creationDate,email,firstname,lastname,photo,status,version,ID) values (?,?,?,?,?,?,?,?,?)\n"
     ]
    },
    {
     "name": "stdout",
     "output_type": "stream",
     "text": [
      "13:17:40.167 DEBUG org.hibernate.SQL - select count(*)>0 from CUSTOMER c1_0 where c1_0.email=?\n"
     ]
    },
    {
     "name": "stdout",
     "output_type": "stream",
     "text": [
      "13:17:40.167 DEBUG org.hibernate.SQL - insert into CUSTOMER (birthDate,creationDate,email,firstname,lastname,photo,status,version,ID) values (?,?,?,?,?,?,?,?,?)\n"
     ]
    },
    {
     "name": "stdout",
     "output_type": "stream",
     "text": [
      "13:17:40.168 DEBUG org.hibernate.SQL - select count(*)>0 from CUSTOMER c1_0 where c1_0.email=?\n"
     ]
    },
    {
     "name": "stdout",
     "output_type": "stream",
     "text": [
      "13:17:40.168 DEBUG org.hibernate.SQL - insert into CUSTOMER (birthDate,creationDate,email,firstname,lastname,photo,status,version,ID) values (?,?,?,?,?,?,?,?,?)\n"
     ]
    },
    {
     "name": "stdout",
     "output_type": "stream",
     "text": [
      "13:17:40.168 DEBUG org.hibernate.SQL - select count(*)>0 from CUSTOMER c1_0 where c1_0.email=?\n"
     ]
    },
    {
     "name": "stdout",
     "output_type": "stream",
     "text": [
      "13:17:40.169 DEBUG org.hibernate.SQL - insert into CUSTOMER (birthDate,creationDate,email,firstname,lastname,photo,status,version,ID) values (?,?,?,?,?,?,?,?,?)\n"
     ]
    },
    {
     "name": "stdout",
     "output_type": "stream",
     "text": [
      "13:17:40.169 DEBUG org.hibernate.SQL - select count(*)>0 from CUSTOMER c1_0 where c1_0.email=?\n"
     ]
    },
    {
     "name": "stdout",
     "output_type": "stream",
     "text": [
      "13:17:40.170 DEBUG org.hibernate.SQL - insert into CUSTOMER (birthDate,creationDate,email,firstname,lastname,photo,status,version,ID) values (?,?,?,?,?,?,?,?,?)\n"
     ]
    },
    {
     "name": "stdout",
     "output_type": "stream",
     "text": [
      "13:17:40.170 DEBUG org.hibernate.SQL - select count(*)>0 from CUSTOMER c1_0 where c1_0.email=?\n"
     ]
    },
    {
     "name": "stdout",
     "output_type": "stream",
     "text": [
      "13:17:40.170 DEBUG org.hibernate.SQL - insert into CUSTOMER (birthDate,creationDate,email,firstname,lastname,photo,status,version,ID) values (?,?,?,?,?,?,?,?,?)\n"
     ]
    },
    {
     "name": "stdout",
     "output_type": "stream",
     "text": [
      "13:17:40.171 DEBUG org.hibernate.SQL - select count(*)>0 from CUSTOMER c1_0 where c1_0.email=?\n"
     ]
    },
    {
     "name": "stdout",
     "output_type": "stream",
     "text": [
      "13:17:40.171 DEBUG org.hibernate.SQL - insert into CUSTOMER (birthDate,creationDate,email,firstname,lastname,photo,status,version,ID) values (?,?,?,?,?,?,?,?,?)\n"
     ]
    },
    {
     "name": "stdout",
     "output_type": "stream",
     "text": [
      "13:17:40.171 DEBUG org.hibernate.SQL - select count(*)>0 from CUSTOMER c1_0 where c1_0.email=?\n"
     ]
    },
    {
     "name": "stdout",
     "output_type": "stream",
     "text": [
      "13:17:40.172 DEBUG org.hibernate.SQL - insert into CUSTOMER (birthDate,creationDate,email,firstname,lastname,photo,status,version,ID) values (?,?,?,?,?,?,?,?,?)\n"
     ]
    },
    {
     "name": "stdout",
     "output_type": "stream",
     "text": [
      "13:17:40.172 DEBUG org.hibernate.SQL - select count(*)>0 from CUSTOMER c1_0 where c1_0.email=?\n"
     ]
    },
    {
     "name": "stdout",
     "output_type": "stream",
     "text": [
      "13:17:40.172 DEBUG org.hibernate.SQL - insert into CUSTOMER (birthDate,creationDate,email,firstname,lastname,photo,status,version,ID) values (?,?,?,?,?,?,?,?,?)\n"
     ]
    },
    {
     "name": "stdout",
     "output_type": "stream",
     "text": [
      "13:17:40.172 DEBUG org.hibernate.SQL - select count(*)>0 from CUSTOMER c1_0 where c1_0.email=?\n"
     ]
    },
    {
     "name": "stdout",
     "output_type": "stream",
     "text": [
      "13:17:40.173 DEBUG org.hibernate.SQL - insert into CUSTOMER (birthDate,creationDate,email,firstname,lastname,photo,status,version,ID) values (?,?,?,?,?,?,?,?,?)\n"
     ]
    },
    {
     "name": "stdout",
     "output_type": "stream",
     "text": [
      "13:17:40.173 DEBUG org.hibernate.SQL - select count(*)>0 from CUSTOMER c1_0 where c1_0.email=?\n"
     ]
    },
    {
     "name": "stdout",
     "output_type": "stream",
     "text": [
      "13:17:40.174 DEBUG org.hibernate.SQL - insert into CUSTOMER (birthDate,creationDate,email,firstname,lastname,photo,status,version,ID) values (?,?,?,?,?,?,?,?,?)\n"
     ]
    },
    {
     "name": "stdout",
     "output_type": "stream",
     "text": [
      "13:17:40.174 DEBUG org.hibernate.SQL - select count(*)>0 from CUSTOMER c1_0 where c1_0.email=?\n"
     ]
    },
    {
     "name": "stdout",
     "output_type": "stream",
     "text": [
      "13:17:40.175 DEBUG org.hibernate.SQL - insert into CUSTOMER (birthDate,creationDate,email,firstname,lastname,photo,status,version,ID) values (?,?,?,?,?,?,?,?,?)\n"
     ]
    },
    {
     "name": "stdout",
     "output_type": "stream",
     "text": [
      "13:17:40.175 DEBUG org.hibernate.SQL - select count(*)>0 from CUSTOMER c1_0 where c1_0.email=?\n"
     ]
    },
    {
     "name": "stdout",
     "output_type": "stream",
     "text": [
      "13:17:40.175 DEBUG org.hibernate.SQL - insert into CUSTOMER (birthDate,creationDate,email,firstname,lastname,photo,status,version,ID) values (?,?,?,?,?,?,?,?,?)\n"
     ]
    },
    {
     "name": "stdout",
     "output_type": "stream",
     "text": [
      "13:17:40.176 DEBUG org.hibernate.SQL - select count(*)>0 from CUSTOMER c1_0 where c1_0.email=?\n"
     ]
    },
    {
     "name": "stdout",
     "output_type": "stream",
     "text": [
      "13:17:40.176 DEBUG org.hibernate.SQL - insert into CUSTOMER (birthDate,creationDate,email,firstname,lastname,photo,status,version,ID) values (?,?,?,?,?,?,?,?,?)\n"
     ]
    },
    {
     "name": "stdout",
     "output_type": "stream",
     "text": [
      "13:17:40.176 DEBUG org.hibernate.SQL - select count(*)>0 from CUSTOMER c1_0 where c1_0.email=?\n"
     ]
    },
    {
     "name": "stdout",
     "output_type": "stream",
     "text": [
      "13:17:40.177 DEBUG org.hibernate.SQL - insert into CUSTOMER (birthDate,creationDate,email,firstname,lastname,photo,status,version,ID) values (?,?,?,?,?,?,?,?,?)\n"
     ]
    },
    {
     "name": "stdout",
     "output_type": "stream",
     "text": [
      "13:17:40.177 DEBUG org.hibernate.SQL - select count(*)>0 from CUSTOMER c1_0 where c1_0.email=?\n"
     ]
    },
    {
     "name": "stdout",
     "output_type": "stream",
     "text": [
      "13:17:40.177 DEBUG org.hibernate.SQL - insert into CUSTOMER (birthDate,creationDate,email,firstname,lastname,photo,status,version,ID) values (?,?,?,?,?,?,?,?,?)\n"
     ]
    },
    {
     "name": "stdout",
     "output_type": "stream",
     "text": [
      "13:17:40.178 DEBUG org.hibernate.SQL - select count(*)>0 from CUSTOMER c1_0 where c1_0.email=?\n"
     ]
    },
    {
     "name": "stdout",
     "output_type": "stream",
     "text": [
      "13:17:40.178 DEBUG org.hibernate.SQL - insert into CUSTOMER (birthDate,creationDate,email,firstname,lastname,photo,status,version,ID) values (?,?,?,?,?,?,?,?,?)\n"
     ]
    },
    {
     "name": "stdout",
     "output_type": "stream",
     "text": [
      "13:17:40.179 DEBUG org.hibernate.SQL - select count(*)>0 from CUSTOMER c1_0 where c1_0.email=?\n"
     ]
    },
    {
     "name": "stdout",
     "output_type": "stream",
     "text": [
      "13:17:40.179 DEBUG org.hibernate.SQL - insert into CUSTOMER (birthDate,creationDate,email,firstname,lastname,photo,status,version,ID) values (?,?,?,?,?,?,?,?,?)\n"
     ]
    },
    {
     "name": "stdout",
     "output_type": "stream",
     "text": [
      "13:17:40.179 DEBUG org.hibernate.SQL - select count(*)>0 from CUSTOMER c1_0 where c1_0.email=?\n"
     ]
    },
    {
     "name": "stdout",
     "output_type": "stream",
     "text": [
      "13:17:40.180 DEBUG org.hibernate.SQL - insert into CUSTOMER (birthDate,creationDate,email,firstname,lastname,photo,status,version,ID) values (?,?,?,?,?,?,?,?,?)\n"
     ]
    },
    {
     "name": "stdout",
     "output_type": "stream",
     "text": [
      "13:17:40.180 DEBUG org.hibernate.SQL - select count(*)>0 from CUSTOMER c1_0 where c1_0.email=?\n"
     ]
    },
    {
     "name": "stdout",
     "output_type": "stream",
     "text": [
      "13:17:40.181 DEBUG org.hibernate.SQL - insert into CUSTOMER (birthDate,creationDate,email,firstname,lastname,photo,status,version,ID) values (?,?,?,?,?,?,?,?,?)\n"
     ]
    },
    {
     "name": "stdout",
     "output_type": "stream",
     "text": [
      "13:17:40.181 DEBUG org.hibernate.SQL - select count(*)>0 from CUSTOMER c1_0 where c1_0.email=?\n"
     ]
    },
    {
     "name": "stdout",
     "output_type": "stream",
     "text": [
      "13:17:40.182 DEBUG org.hibernate.SQL - insert into CUSTOMER (birthDate,creationDate,email,firstname,lastname,photo,status,version,ID) values (?,?,?,?,?,?,?,?,?)\n"
     ]
    },
    {
     "name": "stdout",
     "output_type": "stream",
     "text": [
      "13:17:40.182 DEBUG org.hibernate.SQL - select count(*)>0 from CUSTOMER c1_0 where c1_0.email=?\n"
     ]
    },
    {
     "name": "stdout",
     "output_type": "stream",
     "text": [
      "13:17:40.182 DEBUG org.hibernate.SQL - insert into CUSTOMER (birthDate,creationDate,email,firstname,lastname,photo,status,version,ID) values (?,?,?,?,?,?,?,?,?)\n"
     ]
    },
    {
     "name": "stdout",
     "output_type": "stream",
     "text": [
      "13:17:40.183 DEBUG org.hibernate.SQL - select count(*)>0 from CUSTOMER c1_0 where c1_0.email=?\n"
     ]
    },
    {
     "name": "stdout",
     "output_type": "stream",
     "text": [
      "13:17:40.183 DEBUG org.hibernate.SQL - insert into CUSTOMER (birthDate,creationDate,email,firstname,lastname,photo,status,version,ID) values (?,?,?,?,?,?,?,?,?)\n"
     ]
    },
    {
     "name": "stdout",
     "output_type": "stream",
     "text": [
      "13:17:40.183 DEBUG org.hibernate.SQL - select count(*)>0 from CUSTOMER c1_0 where c1_0.email=?\n"
     ]
    },
    {
     "name": "stdout",
     "output_type": "stream",
     "text": [
      "13:17:40.184 DEBUG org.hibernate.SQL - insert into CUSTOMER (birthDate,creationDate,email,firstname,lastname,photo,status,version,ID) values (?,?,?,?,?,?,?,?,?)\n"
     ]
    },
    {
     "name": "stdout",
     "output_type": "stream",
     "text": [
      "13:17:40.184 DEBUG org.hibernate.SQL - select count(*)>0 from CUSTOMER c1_0 where c1_0.email=?\n"
     ]
    },
    {
     "name": "stdout",
     "output_type": "stream",
     "text": [
      "13:17:40.185 DEBUG org.hibernate.SQL - insert into CUSTOMER (birthDate,creationDate,email,firstname,lastname,photo,status,version,ID) values (?,?,?,?,?,?,?,?,?)\n"
     ]
    },
    {
     "name": "stdout",
     "output_type": "stream",
     "text": [
      "13:17:40.185 DEBUG org.hibernate.SQL - select count(*)>0 from CUSTOMER c1_0 where c1_0.email=?\n"
     ]
    },
    {
     "name": "stdout",
     "output_type": "stream",
     "text": [
      "13:17:40.186 DEBUG org.hibernate.SQL - insert into CUSTOMER (birthDate,creationDate,email,firstname,lastname,photo,status,version,ID) values (?,?,?,?,?,?,?,?,?)\n"
     ]
    },
    {
     "name": "stdout",
     "output_type": "stream",
     "text": [
      "13:17:40.186 DEBUG org.hibernate.SQL - select count(*)>0 from CUSTOMER c1_0 where c1_0.email=?\n"
     ]
    },
    {
     "name": "stdout",
     "output_type": "stream",
     "text": [
      "13:17:40.187 DEBUG org.hibernate.SQL - insert into CUSTOMER (birthDate,creationDate,email,firstname,lastname,photo,status,version,ID) values (?,?,?,?,?,?,?,?,?)\n"
     ]
    },
    {
     "name": "stdout",
     "output_type": "stream",
     "text": [
      "13:17:40.187 DEBUG org.hibernate.SQL - select count(*)>0 from CUSTOMER c1_0 where c1_0.email=?\n"
     ]
    },
    {
     "name": "stdout",
     "output_type": "stream",
     "text": [
      "13:17:40.187 DEBUG org.hibernate.SQL - insert into CUSTOMER (birthDate,creationDate,email,firstname,lastname,photo,status,version,ID) values (?,?,?,?,?,?,?,?,?)\n"
     ]
    },
    {
     "name": "stdout",
     "output_type": "stream",
     "text": [
      "13:17:40.188 DEBUG org.hibernate.SQL - select count(*)>0 from CUSTOMER c1_0 where c1_0.email=?\n"
     ]
    },
    {
     "name": "stdout",
     "output_type": "stream",
     "text": [
      "13:17:40.188 DEBUG org.hibernate.SQL - insert into CUSTOMER (birthDate,creationDate,email,firstname,lastname,photo,status,version,ID) values (?,?,?,?,?,?,?,?,?)\n"
     ]
    },
    {
     "name": "stdout",
     "output_type": "stream",
     "text": [
      "13:17:40.188 DEBUG org.hibernate.SQL - select count(*)>0 from CUSTOMER c1_0 where c1_0.email=?\n"
     ]
    },
    {
     "name": "stdout",
     "output_type": "stream",
     "text": [
      "13:17:40.189 DEBUG org.hibernate.SQL - insert into CUSTOMER (birthDate,creationDate,email,firstname,lastname,photo,status,version,ID) values (?,?,?,?,?,?,?,?,?)\n"
     ]
    },
    {
     "name": "stdout",
     "output_type": "stream",
     "text": [
      "13:17:40.189 DEBUG org.hibernate.SQL - select count(*)>0 from CUSTOMER c1_0 where c1_0.email=?\n"
     ]
    },
    {
     "name": "stdout",
     "output_type": "stream",
     "text": [
      "13:17:40.190 DEBUG org.hibernate.SQL - insert into CUSTOMER (birthDate,creationDate,email,firstname,lastname,photo,status,version,ID) values (?,?,?,?,?,?,?,?,?)\n"
     ]
    },
    {
     "name": "stdout",
     "output_type": "stream",
     "text": [
      "13:17:40.190 DEBUG org.hibernate.SQL - select count(*)>0 from CUSTOMER c1_0 where c1_0.email=?\n"
     ]
    },
    {
     "name": "stdout",
     "output_type": "stream",
     "text": [
      "13:17:40.191 DEBUG org.hibernate.SQL - insert into CUSTOMER (birthDate,creationDate,email,firstname,lastname,photo,status,version,ID) values (?,?,?,?,?,?,?,?,?)\n"
     ]
    },
    {
     "name": "stdout",
     "output_type": "stream",
     "text": [
      "13:17:40.191 DEBUG org.hibernate.SQL - select count(*)>0 from CUSTOMER c1_0 where c1_0.email=?\n"
     ]
    },
    {
     "name": "stdout",
     "output_type": "stream",
     "text": [
      "13:17:40.192 DEBUG org.hibernate.SQL - insert into CUSTOMER (birthDate,creationDate,email,firstname,lastname,photo,status,version,ID) values (?,?,?,?,?,?,?,?,?)\n"
     ]
    },
    {
     "name": "stdout",
     "output_type": "stream",
     "text": [
      "13:17:40.192 DEBUG org.hibernate.SQL - select count(*)>0 from CUSTOMER c1_0 where c1_0.email=?\n"
     ]
    },
    {
     "name": "stdout",
     "output_type": "stream",
     "text": [
      "13:17:40.192 DEBUG org.hibernate.SQL - insert into CUSTOMER (birthDate,creationDate,email,firstname,lastname,photo,status,version,ID) values (?,?,?,?,?,?,?,?,?)\n"
     ]
    },
    {
     "name": "stdout",
     "output_type": "stream",
     "text": [
      "13:17:40.193 DEBUG org.hibernate.SQL - select count(*)>0 from CUSTOMER c1_0 where c1_0.email=?\n"
     ]
    },
    {
     "name": "stdout",
     "output_type": "stream",
     "text": [
      "13:17:40.193 DEBUG org.hibernate.SQL - insert into CUSTOMER (birthDate,creationDate,email,firstname,lastname,photo,status,version,ID) values (?,?,?,?,?,?,?,?,?)\n"
     ]
    },
    {
     "name": "stdout",
     "output_type": "stream",
     "text": [
      "13:17:40.193 DEBUG org.hibernate.SQL - select count(*)>0 from CUSTOMER c1_0 where c1_0.email=?\n"
     ]
    },
    {
     "name": "stdout",
     "output_type": "stream",
     "text": [
      "13:17:40.194 DEBUG org.hibernate.SQL - select nextval('CUSTOMER_SEQ')\n"
     ]
    },
    {
     "name": "stdout",
     "output_type": "stream",
     "text": [
      "13:17:40.194 DEBUG org.hibernate.SQL - insert into CUSTOMER (birthDate,creationDate,email,firstname,lastname,photo,status,version,ID) values (?,?,?,?,?,?,?,?,?)\n"
     ]
    },
    {
     "name": "stdout",
     "output_type": "stream",
     "text": [
      "13:17:40.194 DEBUG org.hibernate.SQL - select count(*)>0 from CUSTOMER c1_0 where c1_0.email=?\n"
     ]
    },
    {
     "name": "stdout",
     "output_type": "stream",
     "text": [
      "13:17:40.195 DEBUG org.hibernate.SQL - insert into CUSTOMER (birthDate,creationDate,email,firstname,lastname,photo,status,version,ID) values (?,?,?,?,?,?,?,?,?)\n"
     ]
    },
    {
     "name": "stdout",
     "output_type": "stream",
     "text": [
      "13:17:40.195 DEBUG org.hibernate.SQL - select count(*)>0 from CUSTOMER c1_0 where c1_0.email=?\n"
     ]
    },
    {
     "name": "stdout",
     "output_type": "stream",
     "text": [
      "13:17:40.196 DEBUG org.hibernate.SQL - insert into CUSTOMER (birthDate,creationDate,email,firstname,lastname,photo,status,version,ID) values (?,?,?,?,?,?,?,?,?)\n"
     ]
    },
    {
     "name": "stdout",
     "output_type": "stream",
     "text": [
      "13:17:40.196 DEBUG org.hibernate.SQL - select count(*)>0 from CUSTOMER c1_0 where c1_0.email=?\n"
     ]
    },
    {
     "name": "stdout",
     "output_type": "stream",
     "text": [
      "13:17:40.196 DEBUG org.hibernate.SQL - insert into CUSTOMER (birthDate,creationDate,email,firstname,lastname,photo,status,version,ID) values (?,?,?,?,?,?,?,?,?)\n"
     ]
    },
    {
     "name": "stdout",
     "output_type": "stream",
     "text": [
      "13:17:40.196 DEBUG org.hibernate.SQL - select count(*)>0 from CUSTOMER c1_0 where c1_0.email=?\n"
     ]
    },
    {
     "name": "stdout",
     "output_type": "stream",
     "text": [
      "13:17:40.197 DEBUG org.hibernate.SQL - insert into CUSTOMER (birthDate,creationDate,email,firstname,lastname,photo,status,version,ID) values (?,?,?,?,?,?,?,?,?)\n"
     ]
    },
    {
     "name": "stdout",
     "output_type": "stream",
     "text": [
      "13:17:40.197 DEBUG org.hibernate.SQL - select count(*)>0 from CUSTOMER c1_0 where c1_0.email=?\n"
     ]
    },
    {
     "name": "stdout",
     "output_type": "stream",
     "text": [
      "13:17:40.198 DEBUG org.hibernate.SQL - insert into CUSTOMER (birthDate,creationDate,email,firstname,lastname,photo,status,version,ID) values (?,?,?,?,?,?,?,?,?)\n"
     ]
    },
    {
     "name": "stdout",
     "output_type": "stream",
     "text": [
      "13:17:40.198 DEBUG org.hibernate.SQL - select count(*)>0 from CUSTOMER c1_0 where c1_0.email=?\n"
     ]
    },
    {
     "name": "stdout",
     "output_type": "stream",
     "text": [
      "13:17:40.198 DEBUG org.hibernate.SQL - insert into CUSTOMER (birthDate,creationDate,email,firstname,lastname,photo,status,version,ID) values (?,?,?,?,?,?,?,?,?)\n"
     ]
    },
    {
     "name": "stdout",
     "output_type": "stream",
     "text": [
      "13:17:40.198 DEBUG org.hibernate.SQL - select count(*)>0 from CUSTOMER c1_0 where c1_0.email=?\n"
     ]
    },
    {
     "name": "stdout",
     "output_type": "stream",
     "text": [
      "13:17:40.199 DEBUG org.hibernate.SQL - insert into CUSTOMER (birthDate,creationDate,email,firstname,lastname,photo,status,version,ID) values (?,?,?,?,?,?,?,?,?)\n"
     ]
    },
    {
     "name": "stdout",
     "output_type": "stream",
     "text": [
      "13:17:40.199 DEBUG org.hibernate.SQL - select count(*)>0 from CUSTOMER c1_0 where c1_0.email=?\n"
     ]
    },
    {
     "name": "stdout",
     "output_type": "stream",
     "text": [
      "13:17:40.200 DEBUG org.hibernate.SQL - insert into CUSTOMER (birthDate,creationDate,email,firstname,lastname,photo,status,version,ID) values (?,?,?,?,?,?,?,?,?)\n"
     ]
    },
    {
     "name": "stdout",
     "output_type": "stream",
     "text": [
      "13:17:40.200 DEBUG org.hibernate.SQL - select count(*)>0 from CUSTOMER c1_0 where c1_0.email=?\n"
     ]
    },
    {
     "name": "stdout",
     "output_type": "stream",
     "text": [
      "13:17:40.200 DEBUG org.hibernate.SQL - insert into CUSTOMER (birthDate,creationDate,email,firstname,lastname,photo,status,version,ID) values (?,?,?,?,?,?,?,?,?)\n"
     ]
    },
    {
     "name": "stdout",
     "output_type": "stream",
     "text": [
      "13:17:40.201 DEBUG org.hibernate.SQL - select count(*)>0 from CUSTOMER c1_0 where c1_0.email=?\n"
     ]
    },
    {
     "name": "stdout",
     "output_type": "stream",
     "text": [
      "13:17:40.201 DEBUG org.hibernate.SQL - insert into CUSTOMER (birthDate,creationDate,email,firstname,lastname,photo,status,version,ID) values (?,?,?,?,?,?,?,?,?)\n"
     ]
    },
    {
     "name": "stdout",
     "output_type": "stream",
     "text": [
      "13:17:40.201 DEBUG org.hibernate.SQL - select count(*)>0 from CUSTOMER c1_0 where c1_0.email=?\n"
     ]
    },
    {
     "name": "stdout",
     "output_type": "stream",
     "text": [
      "13:17:40.202 DEBUG org.hibernate.SQL - insert into CUSTOMER (birthDate,creationDate,email,firstname,lastname,photo,status,version,ID) values (?,?,?,?,?,?,?,?,?)\n"
     ]
    },
    {
     "name": "stdout",
     "output_type": "stream",
     "text": [
      "13:17:40.202 DEBUG org.hibernate.SQL - select count(*)>0 from CUSTOMER c1_0 where c1_0.email=?\n"
     ]
    },
    {
     "name": "stdout",
     "output_type": "stream",
     "text": [
      "13:17:40.203 DEBUG org.hibernate.SQL - insert into CUSTOMER (birthDate,creationDate,email,firstname,lastname,photo,status,version,ID) values (?,?,?,?,?,?,?,?,?)\n"
     ]
    },
    {
     "name": "stdout",
     "output_type": "stream",
     "text": [
      "13:17:40.203 DEBUG org.hibernate.SQL - select count(*)>0 from CUSTOMER c1_0 where c1_0.email=?\n"
     ]
    },
    {
     "name": "stdout",
     "output_type": "stream",
     "text": [
      "13:17:40.203 DEBUG org.hibernate.SQL - insert into CUSTOMER (birthDate,creationDate,email,firstname,lastname,photo,status,version,ID) values (?,?,?,?,?,?,?,?,?)\n"
     ]
    },
    {
     "name": "stdout",
     "output_type": "stream",
     "text": [
      "13:17:40.203 DEBUG org.hibernate.SQL - select count(*)>0 from CUSTOMER c1_0 where c1_0.email=?\n"
     ]
    },
    {
     "name": "stdout",
     "output_type": "stream",
     "text": [
      "13:17:40.204 DEBUG org.hibernate.SQL - insert into CUSTOMER (birthDate,creationDate,email,firstname,lastname,photo,status,version,ID) values (?,?,?,?,?,?,?,?,?)\n"
     ]
    },
    {
     "name": "stdout",
     "output_type": "stream",
     "text": [
      "13:17:40.204 DEBUG org.hibernate.SQL - select count(*)>0 from CUSTOMER c1_0 where c1_0.email=?\n"
     ]
    },
    {
     "name": "stdout",
     "output_type": "stream",
     "text": [
      "13:17:40.204 DEBUG org.hibernate.SQL - insert into CUSTOMER (birthDate,creationDate,email,firstname,lastname,photo,status,version,ID) values (?,?,?,?,?,?,?,?,?)\n"
     ]
    },
    {
     "name": "stdout",
     "output_type": "stream",
     "text": [
      "13:17:40.204 DEBUG org.hibernate.SQL - select count(*)>0 from CUSTOMER c1_0 where c1_0.email=?\n"
     ]
    },
    {
     "name": "stdout",
     "output_type": "stream",
     "text": [
      "13:17:40.205 DEBUG org.hibernate.SQL - insert into CUSTOMER (birthDate,creationDate,email,firstname,lastname,photo,status,version,ID) values (?,?,?,?,?,?,?,?,?)\n"
     ]
    },
    {
     "name": "stdout",
     "output_type": "stream",
     "text": [
      "13:17:40.205 DEBUG org.hibernate.SQL - select count(*)>0 from CUSTOMER c1_0 where c1_0.email=?\n"
     ]
    },
    {
     "name": "stdout",
     "output_type": "stream",
     "text": [
      "13:17:40.205 DEBUG org.hibernate.SQL - insert into CUSTOMER (birthDate,creationDate,email,firstname,lastname,photo,status,version,ID) values (?,?,?,?,?,?,?,?,?)\n"
     ]
    },
    {
     "name": "stdout",
     "output_type": "stream",
     "text": [
      "13:17:40.206 DEBUG org.hibernate.SQL - select count(*)>0 from CUSTOMER c1_0 where c1_0.email=?\n"
     ]
    },
    {
     "name": "stdout",
     "output_type": "stream",
     "text": [
      "13:17:40.206 DEBUG org.hibernate.SQL - insert into CUSTOMER (birthDate,creationDate,email,firstname,lastname,photo,status,version,ID) values (?,?,?,?,?,?,?,?,?)\n"
     ]
    },
    {
     "name": "stdout",
     "output_type": "stream",
     "text": [
      "13:17:40.206 DEBUG org.hibernate.SQL - select count(*)>0 from CUSTOMER c1_0 where c1_0.email=?\n"
     ]
    },
    {
     "name": "stdout",
     "output_type": "stream",
     "text": [
      "13:17:40.206 DEBUG org.hibernate.SQL - insert into CUSTOMER (birthDate,creationDate,email,firstname,lastname,photo,status,version,ID) values (?,?,?,?,?,?,?,?,?)\n"
     ]
    },
    {
     "name": "stdout",
     "output_type": "stream",
     "text": [
      "13:17:40.207 DEBUG org.hibernate.SQL - select count(*)>0 from CUSTOMER c1_0 where c1_0.email=?\n"
     ]
    },
    {
     "name": "stdout",
     "output_type": "stream",
     "text": [
      "13:17:40.207 DEBUG org.hibernate.SQL - insert into CUSTOMER (birthDate,creationDate,email,firstname,lastname,photo,status,version,ID) values (?,?,?,?,?,?,?,?,?)\n"
     ]
    },
    {
     "name": "stdout",
     "output_type": "stream",
     "text": [
      "13:17:40.207 DEBUG org.hibernate.SQL - select count(*)>0 from CUSTOMER c1_0 where c1_0.email=?\n"
     ]
    },
    {
     "name": "stdout",
     "output_type": "stream",
     "text": [
      "13:17:40.208 DEBUG org.hibernate.SQL - insert into CUSTOMER (birthDate,creationDate,email,firstname,lastname,photo,status,version,ID) values (?,?,?,?,?,?,?,?,?)\n"
     ]
    },
    {
     "name": "stdout",
     "output_type": "stream",
     "text": [
      "13:17:40.208 DEBUG org.hibernate.SQL - select count(*)>0 from CUSTOMER c1_0 where c1_0.email=?\n"
     ]
    },
    {
     "name": "stdout",
     "output_type": "stream",
     "text": [
      "13:17:40.209 DEBUG org.hibernate.SQL - insert into CUSTOMER (birthDate,creationDate,email,firstname,lastname,photo,status,version,ID) values (?,?,?,?,?,?,?,?,?)\n"
     ]
    },
    {
     "name": "stdout",
     "output_type": "stream",
     "text": [
      "13:17:40.209 DEBUG org.hibernate.SQL - select count(*)>0 from CUSTOMER c1_0 where c1_0.email=?\n"
     ]
    },
    {
     "name": "stdout",
     "output_type": "stream",
     "text": [
      "13:17:40.209 DEBUG org.hibernate.SQL - insert into CUSTOMER (birthDate,creationDate,email,firstname,lastname,photo,status,version,ID) values (?,?,?,?,?,?,?,?,?)\n"
     ]
    },
    {
     "name": "stdout",
     "output_type": "stream",
     "text": [
      "13:17:40.209 DEBUG org.hibernate.SQL - select count(*)>0 from CUSTOMER c1_0 where c1_0.email=?\n"
     ]
    },
    {
     "name": "stdout",
     "output_type": "stream",
     "text": [
      "13:17:40.210 DEBUG org.hibernate.SQL - insert into CUSTOMER (birthDate,creationDate,email,firstname,lastname,photo,status,version,ID) values (?,?,?,?,?,?,?,?,?)\n"
     ]
    },
    {
     "name": "stdout",
     "output_type": "stream",
     "text": [
      "13:17:40.210 DEBUG org.hibernate.SQL - select count(*)>0 from CUSTOMER c1_0 where c1_0.email=?\n"
     ]
    },
    {
     "name": "stdout",
     "output_type": "stream",
     "text": [
      "13:17:40.210 DEBUG org.hibernate.SQL - insert into CUSTOMER (birthDate,creationDate,email,firstname,lastname,photo,status,version,ID) values (?,?,?,?,?,?,?,?,?)\n"
     ]
    },
    {
     "name": "stdout",
     "output_type": "stream",
     "text": [
      "13:17:40.211 DEBUG org.hibernate.SQL - select count(*)>0 from CUSTOMER c1_0 where c1_0.email=?\n"
     ]
    },
    {
     "name": "stdout",
     "output_type": "stream",
     "text": [
      "13:17:40.211 DEBUG org.hibernate.SQL - insert into CUSTOMER (birthDate,creationDate,email,firstname,lastname,photo,status,version,ID) values (?,?,?,?,?,?,?,?,?)\n"
     ]
    },
    {
     "name": "stdout",
     "output_type": "stream",
     "text": [
      "13:17:40.211 DEBUG org.hibernate.SQL - select count(*)>0 from CUSTOMER c1_0 where c1_0.email=?\n"
     ]
    },
    {
     "name": "stdout",
     "output_type": "stream",
     "text": [
      "13:17:40.212 DEBUG org.hibernate.SQL - insert into CUSTOMER (birthDate,creationDate,email,firstname,lastname,photo,status,version,ID) values (?,?,?,?,?,?,?,?,?)\n"
     ]
    },
    {
     "name": "stdout",
     "output_type": "stream",
     "text": [
      "13:17:40.212 DEBUG org.hibernate.SQL - select count(*)>0 from CUSTOMER c1_0 where c1_0.email=?\n"
     ]
    },
    {
     "name": "stdout",
     "output_type": "stream",
     "text": [
      "13:17:40.212 DEBUG org.hibernate.SQL - insert into CUSTOMER (birthDate,creationDate,email,firstname,lastname,photo,status,version,ID) values (?,?,?,?,?,?,?,?,?)\n"
     ]
    },
    {
     "name": "stdout",
     "output_type": "stream",
     "text": [
      "13:17:40.212 DEBUG org.hibernate.SQL - select count(*)>0 from CUSTOMER c1_0 where c1_0.email=?\n"
     ]
    },
    {
     "name": "stdout",
     "output_type": "stream",
     "text": [
      "13:17:40.213 DEBUG org.hibernate.SQL - insert into CUSTOMER (birthDate,creationDate,email,firstname,lastname,photo,status,version,ID) values (?,?,?,?,?,?,?,?,?)\n"
     ]
    },
    {
     "name": "stdout",
     "output_type": "stream",
     "text": [
      "13:17:40.213 DEBUG org.hibernate.SQL - select count(*)>0 from CUSTOMER c1_0 where c1_0.email=?\n"
     ]
    },
    {
     "name": "stdout",
     "output_type": "stream",
     "text": [
      "13:17:40.214 DEBUG org.hibernate.SQL - insert into CUSTOMER (birthDate,creationDate,email,firstname,lastname,photo,status,version,ID) values (?,?,?,?,?,?,?,?,?)\n"
     ]
    },
    {
     "name": "stdout",
     "output_type": "stream",
     "text": [
      "13:17:40.214 DEBUG org.hibernate.SQL - select count(*)>0 from CUSTOMER c1_0 where c1_0.email=?\n"
     ]
    },
    {
     "name": "stdout",
     "output_type": "stream",
     "text": [
      "13:17:40.214 DEBUG org.hibernate.SQL - insert into CUSTOMER (birthDate,creationDate,email,firstname,lastname,photo,status,version,ID) values (?,?,?,?,?,?,?,?,?)\n"
     ]
    },
    {
     "name": "stdout",
     "output_type": "stream",
     "text": [
      "13:17:40.215 DEBUG org.hibernate.SQL - select count(*)>0 from CUSTOMER c1_0 where c1_0.email=?\n"
     ]
    },
    {
     "name": "stdout",
     "output_type": "stream",
     "text": [
      "13:17:40.215 DEBUG org.hibernate.SQL - insert into CUSTOMER (birthDate,creationDate,email,firstname,lastname,photo,status,version,ID) values (?,?,?,?,?,?,?,?,?)\n"
     ]
    },
    {
     "name": "stdout",
     "output_type": "stream",
     "text": [
      "13:17:40.215 DEBUG org.hibernate.SQL - select count(*)>0 from CUSTOMER c1_0 where c1_0.email=?\n"
     ]
    },
    {
     "name": "stdout",
     "output_type": "stream",
     "text": [
      "13:17:40.216 DEBUG org.hibernate.SQL - insert into CUSTOMER (birthDate,creationDate,email,firstname,lastname,photo,status,version,ID) values (?,?,?,?,?,?,?,?,?)\n"
     ]
    },
    {
     "name": "stdout",
     "output_type": "stream",
     "text": [
      "13:17:40.216 DEBUG org.hibernate.SQL - select count(*)>0 from CUSTOMER c1_0 where c1_0.email=?\n"
     ]
    },
    {
     "name": "stdout",
     "output_type": "stream",
     "text": [
      "13:17:40.216 DEBUG org.hibernate.SQL - insert into CUSTOMER (birthDate,creationDate,email,firstname,lastname,photo,status,version,ID) values (?,?,?,?,?,?,?,?,?)\n"
     ]
    },
    {
     "name": "stdout",
     "output_type": "stream",
     "text": [
      "13:17:40.216 DEBUG org.hibernate.SQL - select count(*)>0 from CUSTOMER c1_0 where c1_0.email=?\n"
     ]
    },
    {
     "name": "stdout",
     "output_type": "stream",
     "text": [
      "13:17:40.217 DEBUG org.hibernate.SQL - insert into CUSTOMER (birthDate,creationDate,email,firstname,lastname,photo,status,version,ID) values (?,?,?,?,?,?,?,?,?)\n"
     ]
    },
    {
     "name": "stdout",
     "output_type": "stream",
     "text": [
      "13:17:40.217 DEBUG org.hibernate.SQL - select count(*)>0 from CUSTOMER c1_0 where c1_0.email=?\n"
     ]
    },
    {
     "name": "stdout",
     "output_type": "stream",
     "text": [
      "13:17:40.218 DEBUG org.hibernate.SQL - insert into CUSTOMER (birthDate,creationDate,email,firstname,lastname,photo,status,version,ID) values (?,?,?,?,?,?,?,?,?)\n"
     ]
    },
    {
     "name": "stdout",
     "output_type": "stream",
     "text": [
      "13:17:40.218 DEBUG org.hibernate.SQL - select count(*)>0 from CUSTOMER c1_0 where c1_0.email=?\n"
     ]
    },
    {
     "name": "stdout",
     "output_type": "stream",
     "text": [
      "13:17:40.219 DEBUG org.hibernate.SQL - insert into CUSTOMER (birthDate,creationDate,email,firstname,lastname,photo,status,version,ID) values (?,?,?,?,?,?,?,?,?)\n"
     ]
    },
    {
     "name": "stdout",
     "output_type": "stream",
     "text": [
      "13:17:40.219 DEBUG org.hibernate.SQL - select count(*)>0 from CUSTOMER c1_0 where c1_0.email=?\n"
     ]
    },
    {
     "name": "stdout",
     "output_type": "stream",
     "text": [
      "13:17:40.219 DEBUG org.hibernate.SQL - insert into CUSTOMER (birthDate,creationDate,email,firstname,lastname,photo,status,version,ID) values (?,?,?,?,?,?,?,?,?)\n"
     ]
    },
    {
     "name": "stdout",
     "output_type": "stream",
     "text": [
      "13:17:40.219 DEBUG org.hibernate.SQL - select count(*)>0 from CUSTOMER c1_0 where c1_0.email=?\n"
     ]
    },
    {
     "name": "stdout",
     "output_type": "stream",
     "text": [
      "13:17:40.220 DEBUG org.hibernate.SQL - insert into CUSTOMER (birthDate,creationDate,email,firstname,lastname,photo,status,version,ID) values (?,?,?,?,?,?,?,?,?)\n"
     ]
    },
    {
     "name": "stdout",
     "output_type": "stream",
     "text": [
      "13:17:40.220 DEBUG org.hibernate.SQL - select count(*)>0 from CUSTOMER c1_0 where c1_0.email=?\n"
     ]
    },
    {
     "name": "stdout",
     "output_type": "stream",
     "text": [
      "13:17:40.220 DEBUG org.hibernate.SQL - insert into CUSTOMER (birthDate,creationDate,email,firstname,lastname,photo,status,version,ID) values (?,?,?,?,?,?,?,?,?)\n"
     ]
    },
    {
     "name": "stdout",
     "output_type": "stream",
     "text": [
      "13:17:40.221 DEBUG org.hibernate.SQL - select count(*)>0 from CUSTOMER c1_0 where c1_0.email=?\n"
     ]
    },
    {
     "name": "stdout",
     "output_type": "stream",
     "text": [
      "13:17:40.221 DEBUG org.hibernate.SQL - insert into CUSTOMER (birthDate,creationDate,email,firstname,lastname,photo,status,version,ID) values (?,?,?,?,?,?,?,?,?)\n"
     ]
    },
    {
     "name": "stdout",
     "output_type": "stream",
     "text": [
      "13:17:40.221 DEBUG org.hibernate.SQL - select count(*)>0 from CUSTOMER c1_0 where c1_0.email=?\n"
     ]
    },
    {
     "name": "stdout",
     "output_type": "stream",
     "text": [
      "13:17:40.222 DEBUG org.hibernate.SQL - insert into CUSTOMER (birthDate,creationDate,email,firstname,lastname,photo,status,version,ID) values (?,?,?,?,?,?,?,?,?)\n"
     ]
    },
    {
     "name": "stdout",
     "output_type": "stream",
     "text": [
      "13:17:40.222 DEBUG org.hibernate.SQL - select count(*)>0 from CUSTOMER c1_0 where c1_0.email=?\n"
     ]
    },
    {
     "name": "stdout",
     "output_type": "stream",
     "text": [
      "13:17:40.223 DEBUG org.hibernate.SQL - insert into CUSTOMER (birthDate,creationDate,email,firstname,lastname,photo,status,version,ID) values (?,?,?,?,?,?,?,?,?)\n"
     ]
    },
    {
     "name": "stdout",
     "output_type": "stream",
     "text": [
      "13:17:40.223 DEBUG org.hibernate.SQL - select count(*)>0 from CUSTOMER c1_0 where c1_0.email=?\n"
     ]
    },
    {
     "name": "stdout",
     "output_type": "stream",
     "text": [
      "13:17:40.223 DEBUG org.hibernate.SQL - insert into CUSTOMER (birthDate,creationDate,email,firstname,lastname,photo,status,version,ID) values (?,?,?,?,?,?,?,?,?)\n"
     ]
    },
    {
     "name": "stdout",
     "output_type": "stream",
     "text": [
      "13:17:40.224 DEBUG org.hibernate.SQL - select count(*)>0 from CUSTOMER c1_0 where c1_0.email=?\n"
     ]
    },
    {
     "name": "stdout",
     "output_type": "stream",
     "text": [
      "13:17:40.224 DEBUG org.hibernate.SQL - insert into CUSTOMER (birthDate,creationDate,email,firstname,lastname,photo,status,version,ID) values (?,?,?,?,?,?,?,?,?)\n"
     ]
    },
    {
     "name": "stdout",
     "output_type": "stream",
     "text": [
      "13:17:40.224 DEBUG org.hibernate.SQL - select count(*)>0 from CUSTOMER c1_0 where c1_0.email=?\n"
     ]
    },
    {
     "name": "stdout",
     "output_type": "stream",
     "text": [
      "13:17:40.225 DEBUG org.hibernate.SQL - insert into CUSTOMER (birthDate,creationDate,email,firstname,lastname,photo,status,version,ID) values (?,?,?,?,?,?,?,?,?)\n"
     ]
    },
    {
     "name": "stdout",
     "output_type": "stream",
     "text": [
      "13:17:40.225 DEBUG org.hibernate.SQL - select count(*)>0 from CUSTOMER c1_0 where c1_0.email=?\n"
     ]
    },
    {
     "name": "stdout",
     "output_type": "stream",
     "text": [
      "13:17:40.225 DEBUG org.hibernate.SQL - insert into CUSTOMER (birthDate,creationDate,email,firstname,lastname,photo,status,version,ID) values (?,?,?,?,?,?,?,?,?)\n"
     ]
    },
    {
     "name": "stdout",
     "output_type": "stream",
     "text": [
      "13:17:40.225 DEBUG org.hibernate.SQL - select count(*)>0 from CUSTOMER c1_0 where c1_0.email=?\n"
     ]
    },
    {
     "name": "stdout",
     "output_type": "stream",
     "text": [
      "13:17:40.226 DEBUG org.hibernate.SQL - insert into CUSTOMER (birthDate,creationDate,email,firstname,lastname,photo,status,version,ID) values (?,?,?,?,?,?,?,?,?)\n"
     ]
    },
    {
     "name": "stdout",
     "output_type": "stream",
     "text": [
      "13:17:40.227 DEBUG org.hibernate.SQL - select count(*)>0 from CUSTOMER c1_0 where c1_0.email=?\n"
     ]
    },
    {
     "name": "stdout",
     "output_type": "stream",
     "text": [
      "13:17:40.230 DEBUG org.hibernate.SQL - insert into CUSTOMER (birthDate,creationDate,email,firstname,lastname,photo,status,version,ID) values (?,?,?,?,?,?,?,?,?)\n"
     ]
    },
    {
     "name": "stdout",
     "output_type": "stream",
     "text": [
      "13:17:40.231 DEBUG org.hibernate.SQL - select count(*)>0 from CUSTOMER c1_0 where c1_0.email=?\n"
     ]
    },
    {
     "name": "stdout",
     "output_type": "stream",
     "text": [
      "13:17:40.231 DEBUG org.hibernate.SQL - select nextval('CUSTOMER_SEQ')\n"
     ]
    },
    {
     "name": "stdout",
     "output_type": "stream",
     "text": [
      "13:17:40.233 DEBUG org.hibernate.SQL - insert into CUSTOMER (birthDate,creationDate,email,firstname,lastname,photo,status,version,ID) values (?,?,?,?,?,?,?,?,?)\n"
     ]
    },
    {
     "name": "stdout",
     "output_type": "stream",
     "text": [
      "13:17:40.233 DEBUG org.hibernate.SQL - select count(*)>0 from CUSTOMER c1_0 where c1_0.email=?\n"
     ]
    },
    {
     "name": "stdout",
     "output_type": "stream",
     "text": [
      "13:17:40.235 DEBUG org.hibernate.SQL - insert into CUSTOMER (birthDate,creationDate,email,firstname,lastname,photo,status,version,ID) values (?,?,?,?,?,?,?,?,?)\n"
     ]
    },
    {
     "name": "stdout",
     "output_type": "stream",
     "text": [
      "13:17:40.235 DEBUG org.hibernate.SQL - select count(*)>0 from CUSTOMER c1_0 where c1_0.email=?\n"
     ]
    },
    {
     "name": "stdout",
     "output_type": "stream",
     "text": [
      "13:17:40.237 DEBUG org.hibernate.SQL - insert into CUSTOMER (birthDate,creationDate,email,firstname,lastname,photo,status,version,ID) values (?,?,?,?,?,?,?,?,?)\n"
     ]
    },
    {
     "name": "stdout",
     "output_type": "stream",
     "text": [
      "13:17:40.237 DEBUG org.hibernate.SQL - select count(*)>0 from CUSTOMER c1_0 where c1_0.email=?\n"
     ]
    },
    {
     "name": "stdout",
     "output_type": "stream",
     "text": [
      "13:17:40.238 DEBUG org.hibernate.SQL - insert into CUSTOMER (birthDate,creationDate,email,firstname,lastname,photo,status,version,ID) values (?,?,?,?,?,?,?,?,?)\n"
     ]
    },
    {
     "name": "stdout",
     "output_type": "stream",
     "text": [
      "13:17:40.238 DEBUG org.hibernate.SQL - select count(*)>0 from CUSTOMER c1_0 where c1_0.email=?\n"
     ]
    },
    {
     "name": "stdout",
     "output_type": "stream",
     "text": [
      "13:17:40.238 DEBUG org.hibernate.SQL - insert into CUSTOMER (birthDate,creationDate,email,firstname,lastname,photo,status,version,ID) values (?,?,?,?,?,?,?,?,?)\n"
     ]
    },
    {
     "name": "stdout",
     "output_type": "stream",
     "text": [
      "13:17:40.239 DEBUG org.hibernate.SQL - select count(*)>0 from CUSTOMER c1_0 where c1_0.email=?\n"
     ]
    },
    {
     "name": "stdout",
     "output_type": "stream",
     "text": [
      "13:17:40.239 DEBUG org.hibernate.SQL - insert into CUSTOMER (birthDate,creationDate,email,firstname,lastname,photo,status,version,ID) values (?,?,?,?,?,?,?,?,?)\n"
     ]
    },
    {
     "name": "stdout",
     "output_type": "stream",
     "text": [
      "13:17:40.239 DEBUG org.hibernate.SQL - select count(*)>0 from CUSTOMER c1_0 where c1_0.email=?\n"
     ]
    },
    {
     "name": "stdout",
     "output_type": "stream",
     "text": [
      "13:17:40.240 DEBUG org.hibernate.SQL - insert into CUSTOMER (birthDate,creationDate,email,firstname,lastname,photo,status,version,ID) values (?,?,?,?,?,?,?,?,?)\n"
     ]
    },
    {
     "name": "stdout",
     "output_type": "stream",
     "text": [
      "13:17:40.240 DEBUG org.hibernate.SQL - select count(*)>0 from CUSTOMER c1_0 where c1_0.email=?\n"
     ]
    },
    {
     "name": "stdout",
     "output_type": "stream",
     "text": [
      "13:17:40.241 DEBUG org.hibernate.SQL - insert into CUSTOMER (birthDate,creationDate,email,firstname,lastname,photo,status,version,ID) values (?,?,?,?,?,?,?,?,?)\n"
     ]
    },
    {
     "name": "stdout",
     "output_type": "stream",
     "text": [
      "13:17:40.241 DEBUG org.hibernate.SQL - select count(*)>0 from CUSTOMER c1_0 where c1_0.email=?\n"
     ]
    },
    {
     "name": "stdout",
     "output_type": "stream",
     "text": [
      "13:17:40.241 DEBUG org.hibernate.SQL - insert into CUSTOMER (birthDate,creationDate,email,firstname,lastname,photo,status,version,ID) values (?,?,?,?,?,?,?,?,?)\n"
     ]
    },
    {
     "name": "stdout",
     "output_type": "stream",
     "text": [
      "13:17:40.242 DEBUG org.hibernate.SQL - select count(*)>0 from CUSTOMER c1_0 where c1_0.email=?\n"
     ]
    },
    {
     "name": "stdout",
     "output_type": "stream",
     "text": [
      "13:17:40.243 DEBUG org.hibernate.SQL - insert into CUSTOMER (birthDate,creationDate,email,firstname,lastname,photo,status,version,ID) values (?,?,?,?,?,?,?,?,?)\n"
     ]
    },
    {
     "name": "stdout",
     "output_type": "stream",
     "text": [
      "13:17:40.243 DEBUG org.hibernate.SQL - select count(*)>0 from CUSTOMER c1_0 where c1_0.email=?\n"
     ]
    },
    {
     "name": "stdout",
     "output_type": "stream",
     "text": [
      "13:17:40.244 DEBUG org.hibernate.SQL - insert into CUSTOMER (birthDate,creationDate,email,firstname,lastname,photo,status,version,ID) values (?,?,?,?,?,?,?,?,?)\n"
     ]
    },
    {
     "name": "stdout",
     "output_type": "stream",
     "text": [
      "13:17:40.244 DEBUG org.hibernate.SQL - select count(*)>0 from CUSTOMER c1_0 where c1_0.email=?\n"
     ]
    },
    {
     "name": "stdout",
     "output_type": "stream",
     "text": [
      "13:17:40.245 DEBUG org.hibernate.SQL - insert into CUSTOMER (birthDate,creationDate,email,firstname,lastname,photo,status,version,ID) values (?,?,?,?,?,?,?,?,?)\n"
     ]
    },
    {
     "name": "stdout",
     "output_type": "stream",
     "text": [
      "13:17:40.245 DEBUG org.hibernate.SQL - select count(*)>0 from CUSTOMER c1_0 where c1_0.email=?\n"
     ]
    },
    {
     "name": "stdout",
     "output_type": "stream",
     "text": [
      "13:17:40.246 DEBUG org.hibernate.SQL - insert into CUSTOMER (birthDate,creationDate,email,firstname,lastname,photo,status,version,ID) values (?,?,?,?,?,?,?,?,?)\n"
     ]
    },
    {
     "name": "stdout",
     "output_type": "stream",
     "text": [
      "13:17:40.246 DEBUG org.hibernate.SQL - select count(*)>0 from CUSTOMER c1_0 where c1_0.email=?\n"
     ]
    },
    {
     "name": "stdout",
     "output_type": "stream",
     "text": [
      "13:17:40.247 DEBUG org.hibernate.SQL - insert into CUSTOMER (birthDate,creationDate,email,firstname,lastname,photo,status,version,ID) values (?,?,?,?,?,?,?,?,?)\n"
     ]
    },
    {
     "name": "stdout",
     "output_type": "stream",
     "text": [
      "13:17:40.247 DEBUG org.hibernate.SQL - select count(*)>0 from CUSTOMER c1_0 where c1_0.email=?\n"
     ]
    },
    {
     "name": "stdout",
     "output_type": "stream",
     "text": [
      "13:17:40.248 DEBUG org.hibernate.SQL - insert into CUSTOMER (birthDate,creationDate,email,firstname,lastname,photo,status,version,ID) values (?,?,?,?,?,?,?,?,?)\n"
     ]
    },
    {
     "name": "stdout",
     "output_type": "stream",
     "text": [
      "13:17:40.248 DEBUG org.hibernate.SQL - select count(*)>0 from CUSTOMER c1_0 where c1_0.email=?\n"
     ]
    },
    {
     "name": "stdout",
     "output_type": "stream",
     "text": [
      "13:17:40.249 DEBUG org.hibernate.SQL - insert into CUSTOMER (birthDate,creationDate,email,firstname,lastname,photo,status,version,ID) values (?,?,?,?,?,?,?,?,?)\n"
     ]
    },
    {
     "name": "stdout",
     "output_type": "stream",
     "text": [
      "13:17:40.249 DEBUG org.hibernate.SQL - select count(*)>0 from CUSTOMER c1_0 where c1_0.email=?\n"
     ]
    },
    {
     "name": "stdout",
     "output_type": "stream",
     "text": [
      "13:17:40.250 DEBUG org.hibernate.SQL - insert into CUSTOMER (birthDate,creationDate,email,firstname,lastname,photo,status,version,ID) values (?,?,?,?,?,?,?,?,?)\n"
     ]
    },
    {
     "name": "stdout",
     "output_type": "stream",
     "text": [
      "13:17:40.250 DEBUG org.hibernate.SQL - select count(*)>0 from CUSTOMER c1_0 where c1_0.email=?\n"
     ]
    },
    {
     "name": "stdout",
     "output_type": "stream",
     "text": [
      "13:17:40.250 DEBUG org.hibernate.SQL - insert into CUSTOMER (birthDate,creationDate,email,firstname,lastname,photo,status,version,ID) values (?,?,?,?,?,?,?,?,?)\n"
     ]
    },
    {
     "name": "stdout",
     "output_type": "stream",
     "text": [
      "13:17:40.251 DEBUG org.hibernate.SQL - select count(*)>0 from CUSTOMER c1_0 where c1_0.email=?\n"
     ]
    },
    {
     "name": "stdout",
     "output_type": "stream",
     "text": [
      "13:17:40.251 DEBUG org.hibernate.SQL - insert into CUSTOMER (birthDate,creationDate,email,firstname,lastname,photo,status,version,ID) values (?,?,?,?,?,?,?,?,?)\n"
     ]
    },
    {
     "name": "stdout",
     "output_type": "stream",
     "text": [
      "13:17:40.251 DEBUG org.hibernate.SQL - select count(*)>0 from CUSTOMER c1_0 where c1_0.email=?\n"
     ]
    },
    {
     "name": "stdout",
     "output_type": "stream",
     "text": [
      "13:17:40.252 DEBUG org.hibernate.SQL - insert into CUSTOMER (birthDate,creationDate,email,firstname,lastname,photo,status,version,ID) values (?,?,?,?,?,?,?,?,?)\n"
     ]
    },
    {
     "name": "stdout",
     "output_type": "stream",
     "text": [
      "13:17:40.252 DEBUG org.hibernate.SQL - select count(*)>0 from CUSTOMER c1_0 where c1_0.email=?\n"
     ]
    },
    {
     "name": "stdout",
     "output_type": "stream",
     "text": [
      "13:17:40.253 DEBUG org.hibernate.SQL - insert into CUSTOMER (birthDate,creationDate,email,firstname,lastname,photo,status,version,ID) values (?,?,?,?,?,?,?,?,?)\n"
     ]
    },
    {
     "name": "stdout",
     "output_type": "stream",
     "text": [
      "13:17:40.253 DEBUG org.hibernate.SQL - select count(*)>0 from CUSTOMER c1_0 where c1_0.email=?\n"
     ]
    },
    {
     "name": "stdout",
     "output_type": "stream",
     "text": [
      "13:17:40.254 DEBUG org.hibernate.SQL - insert into CUSTOMER (birthDate,creationDate,email,firstname,lastname,photo,status,version,ID) values (?,?,?,?,?,?,?,?,?)\n"
     ]
    },
    {
     "name": "stdout",
     "output_type": "stream",
     "text": [
      "13:17:40.254 DEBUG org.hibernate.SQL - select count(*)>0 from CUSTOMER c1_0 where c1_0.email=?\n"
     ]
    },
    {
     "name": "stdout",
     "output_type": "stream",
     "text": [
      "13:17:40.254 DEBUG org.hibernate.SQL - insert into CUSTOMER (birthDate,creationDate,email,firstname,lastname,photo,status,version,ID) values (?,?,?,?,?,?,?,?,?)\n"
     ]
    },
    {
     "name": "stdout",
     "output_type": "stream",
     "text": [
      "13:17:40.255 DEBUG org.hibernate.SQL - select count(*)>0 from CUSTOMER c1_0 where c1_0.email=?\n"
     ]
    },
    {
     "name": "stdout",
     "output_type": "stream",
     "text": [
      "13:17:40.255 DEBUG org.hibernate.SQL - insert into CUSTOMER (birthDate,creationDate,email,firstname,lastname,photo,status,version,ID) values (?,?,?,?,?,?,?,?,?)\n"
     ]
    },
    {
     "name": "stdout",
     "output_type": "stream",
     "text": [
      "13:17:40.255 DEBUG org.hibernate.SQL - select count(*)>0 from CUSTOMER c1_0 where c1_0.email=?\n"
     ]
    },
    {
     "name": "stdout",
     "output_type": "stream",
     "text": [
      "13:17:40.256 DEBUG org.hibernate.SQL - insert into CUSTOMER (birthDate,creationDate,email,firstname,lastname,photo,status,version,ID) values (?,?,?,?,?,?,?,?,?)\n"
     ]
    },
    {
     "name": "stdout",
     "output_type": "stream",
     "text": [
      "13:17:40.256 DEBUG org.hibernate.SQL - select count(*)>0 from CUSTOMER c1_0 where c1_0.email=?\n"
     ]
    },
    {
     "name": "stdout",
     "output_type": "stream",
     "text": [
      "13:17:40.256 DEBUG org.hibernate.SQL - insert into CUSTOMER (birthDate,creationDate,email,firstname,lastname,photo,status,version,ID) values (?,?,?,?,?,?,?,?,?)\n"
     ]
    },
    {
     "name": "stdout",
     "output_type": "stream",
     "text": [
      "13:17:40.256 DEBUG org.hibernate.SQL - select count(*)>0 from CUSTOMER c1_0 where c1_0.email=?\n"
     ]
    },
    {
     "name": "stdout",
     "output_type": "stream",
     "text": [
      "13:17:40.257 DEBUG org.hibernate.SQL - insert into CUSTOMER (birthDate,creationDate,email,firstname,lastname,photo,status,version,ID) values (?,?,?,?,?,?,?,?,?)\n"
     ]
    },
    {
     "name": "stdout",
     "output_type": "stream",
     "text": [
      "13:17:40.257 DEBUG org.hibernate.SQL - select count(*)>0 from CUSTOMER c1_0 where c1_0.email=?\n"
     ]
    },
    {
     "name": "stdout",
     "output_type": "stream",
     "text": [
      "13:17:40.258 DEBUG org.hibernate.SQL - insert into CUSTOMER (birthDate,creationDate,email,firstname,lastname,photo,status,version,ID) values (?,?,?,?,?,?,?,?,?)\n"
     ]
    },
    {
     "name": "stdout",
     "output_type": "stream",
     "text": [
      "13:17:40.258 DEBUG org.hibernate.SQL - select count(*)>0 from CUSTOMER c1_0 where c1_0.email=?\n"
     ]
    },
    {
     "name": "stdout",
     "output_type": "stream",
     "text": [
      "13:17:40.259 DEBUG org.hibernate.SQL - insert into CUSTOMER (birthDate,creationDate,email,firstname,lastname,photo,status,version,ID) values (?,?,?,?,?,?,?,?,?)\n"
     ]
    },
    {
     "name": "stdout",
     "output_type": "stream",
     "text": [
      "13:17:40.259 DEBUG org.hibernate.SQL - select count(*)>0 from CUSTOMER c1_0 where c1_0.email=?\n"
     ]
    },
    {
     "name": "stdout",
     "output_type": "stream",
     "text": [
      "13:17:40.260 DEBUG org.hibernate.SQL - insert into CUSTOMER (birthDate,creationDate,email,firstname,lastname,photo,status,version,ID) values (?,?,?,?,?,?,?,?,?)\n"
     ]
    },
    {
     "name": "stdout",
     "output_type": "stream",
     "text": [
      "13:17:40.260 DEBUG org.hibernate.SQL - select count(*)>0 from CUSTOMER c1_0 where c1_0.email=?\n"
     ]
    },
    {
     "name": "stdout",
     "output_type": "stream",
     "text": [
      "13:17:40.261 DEBUG org.hibernate.SQL - insert into CUSTOMER (birthDate,creationDate,email,firstname,lastname,photo,status,version,ID) values (?,?,?,?,?,?,?,?,?)\n"
     ]
    },
    {
     "name": "stdout",
     "output_type": "stream",
     "text": [
      "13:17:40.261 DEBUG org.hibernate.SQL - select count(*)>0 from CUSTOMER c1_0 where c1_0.email=?\n"
     ]
    },
    {
     "name": "stdout",
     "output_type": "stream",
     "text": [
      "13:17:40.261 DEBUG org.hibernate.SQL - insert into CUSTOMER (birthDate,creationDate,email,firstname,lastname,photo,status,version,ID) values (?,?,?,?,?,?,?,?,?)\n"
     ]
    },
    {
     "name": "stdout",
     "output_type": "stream",
     "text": [
      "13:17:40.262 DEBUG org.hibernate.SQL - select count(*)>0 from CUSTOMER c1_0 where c1_0.email=?\n"
     ]
    },
    {
     "name": "stdout",
     "output_type": "stream",
     "text": [
      "13:17:40.262 DEBUG org.hibernate.SQL - insert into CUSTOMER (birthDate,creationDate,email,firstname,lastname,photo,status,version,ID) values (?,?,?,?,?,?,?,?,?)\n"
     ]
    },
    {
     "name": "stdout",
     "output_type": "stream",
     "text": [
      "13:17:40.263 DEBUG org.hibernate.SQL - select count(*)>0 from CUSTOMER c1_0 where c1_0.email=?\n"
     ]
    },
    {
     "name": "stdout",
     "output_type": "stream",
     "text": [
      "13:17:40.263 DEBUG org.hibernate.SQL - insert into CUSTOMER (birthDate,creationDate,email,firstname,lastname,photo,status,version,ID) values (?,?,?,?,?,?,?,?,?)\n"
     ]
    },
    {
     "name": "stdout",
     "output_type": "stream",
     "text": [
      "13:17:40.263 DEBUG org.hibernate.SQL - select count(*)>0 from CUSTOMER c1_0 where c1_0.email=?\n"
     ]
    },
    {
     "name": "stdout",
     "output_type": "stream",
     "text": [
      "13:17:40.264 DEBUG org.hibernate.SQL - insert into CUSTOMER (birthDate,creationDate,email,firstname,lastname,photo,status,version,ID) values (?,?,?,?,?,?,?,?,?)\n"
     ]
    },
    {
     "name": "stdout",
     "output_type": "stream",
     "text": [
      "13:17:40.264 DEBUG org.hibernate.SQL - select count(*)>0 from CUSTOMER c1_0 where c1_0.email=?\n"
     ]
    },
    {
     "name": "stdout",
     "output_type": "stream",
     "text": [
      "13:17:40.265 DEBUG org.hibernate.SQL - insert into CUSTOMER (birthDate,creationDate,email,firstname,lastname,photo,status,version,ID) values (?,?,?,?,?,?,?,?,?)\n"
     ]
    },
    {
     "name": "stdout",
     "output_type": "stream",
     "text": [
      "13:17:40.265 DEBUG org.hibernate.SQL - select count(*)>0 from CUSTOMER c1_0 where c1_0.email=?\n"
     ]
    },
    {
     "name": "stdout",
     "output_type": "stream",
     "text": [
      "13:17:40.265 DEBUG org.hibernate.SQL - insert into CUSTOMER (birthDate,creationDate,email,firstname,lastname,photo,status,version,ID) values (?,?,?,?,?,?,?,?,?)\n"
     ]
    },
    {
     "name": "stdout",
     "output_type": "stream",
     "text": [
      "13:17:40.266 DEBUG org.hibernate.SQL - select count(*)>0 from CUSTOMER c1_0 where c1_0.email=?\n"
     ]
    },
    {
     "name": "stdout",
     "output_type": "stream",
     "text": [
      "13:17:40.266 DEBUG org.hibernate.SQL - insert into CUSTOMER (birthDate,creationDate,email,firstname,lastname,photo,status,version,ID) values (?,?,?,?,?,?,?,?,?)\n"
     ]
    },
    {
     "name": "stdout",
     "output_type": "stream",
     "text": [
      "13:17:40.266 DEBUG org.hibernate.SQL - select count(*)>0 from CUSTOMER c1_0 where c1_0.email=?\n"
     ]
    },
    {
     "name": "stdout",
     "output_type": "stream",
     "text": [
      "13:17:40.267 DEBUG org.hibernate.SQL - insert into CUSTOMER (birthDate,creationDate,email,firstname,lastname,photo,status,version,ID) values (?,?,?,?,?,?,?,?,?)\n"
     ]
    },
    {
     "name": "stdout",
     "output_type": "stream",
     "text": [
      "13:17:40.267 DEBUG org.hibernate.SQL - select count(*)>0 from CUSTOMER c1_0 where c1_0.email=?\n"
     ]
    },
    {
     "name": "stdout",
     "output_type": "stream",
     "text": [
      "13:17:40.267 DEBUG org.hibernate.SQL - insert into CUSTOMER (birthDate,creationDate,email,firstname,lastname,photo,status,version,ID) values (?,?,?,?,?,?,?,?,?)\n"
     ]
    },
    {
     "name": "stdout",
     "output_type": "stream",
     "text": [
      "13:17:40.268 DEBUG org.hibernate.SQL - select count(*)>0 from CUSTOMER c1_0 where c1_0.email=?\n"
     ]
    },
    {
     "name": "stdout",
     "output_type": "stream",
     "text": [
      "13:17:40.268 DEBUG org.hibernate.SQL - insert into CUSTOMER (birthDate,creationDate,email,firstname,lastname,photo,status,version,ID) values (?,?,?,?,?,?,?,?,?)\n"
     ]
    },
    {
     "name": "stdout",
     "output_type": "stream",
     "text": [
      "13:17:40.268 DEBUG org.hibernate.SQL - select count(*)>0 from CUSTOMER c1_0 where c1_0.email=?\n"
     ]
    },
    {
     "name": "stdout",
     "output_type": "stream",
     "text": [
      "13:17:40.269 DEBUG org.hibernate.SQL - insert into CUSTOMER (birthDate,creationDate,email,firstname,lastname,photo,status,version,ID) values (?,?,?,?,?,?,?,?,?)\n"
     ]
    },
    {
     "name": "stdout",
     "output_type": "stream",
     "text": [
      "13:17:40.269 DEBUG org.hibernate.SQL - select count(*)>0 from CUSTOMER c1_0 where c1_0.email=?\n"
     ]
    },
    {
     "name": "stdout",
     "output_type": "stream",
     "text": [
      "13:17:40.270 DEBUG org.hibernate.SQL - insert into CUSTOMER (birthDate,creationDate,email,firstname,lastname,photo,status,version,ID) values (?,?,?,?,?,?,?,?,?)\n"
     ]
    },
    {
     "name": "stdout",
     "output_type": "stream",
     "text": [
      "13:17:40.270 DEBUG org.hibernate.SQL - select count(*)>0 from CUSTOMER c1_0 where c1_0.email=?\n"
     ]
    },
    {
     "name": "stdout",
     "output_type": "stream",
     "text": [
      "13:17:40.271 DEBUG org.hibernate.SQL - insert into CUSTOMER (birthDate,creationDate,email,firstname,lastname,photo,status,version,ID) values (?,?,?,?,?,?,?,?,?)\n"
     ]
    },
    {
     "name": "stdout",
     "output_type": "stream",
     "text": [
      "13:17:40.271 DEBUG org.hibernate.SQL - select count(*)>0 from CUSTOMER c1_0 where c1_0.email=?\n"
     ]
    },
    {
     "name": "stdout",
     "output_type": "stream",
     "text": [
      "13:17:40.272 DEBUG org.hibernate.SQL - insert into CUSTOMER (birthDate,creationDate,email,firstname,lastname,photo,status,version,ID) values (?,?,?,?,?,?,?,?,?)\n"
     ]
    },
    {
     "name": "stdout",
     "output_type": "stream",
     "text": [
      "13:17:40.272 DEBUG org.hibernate.SQL - select count(*)>0 from CUSTOMER c1_0 where c1_0.email=?\n"
     ]
    },
    {
     "name": "stdout",
     "output_type": "stream",
     "text": [
      "13:17:40.272 DEBUG org.hibernate.SQL - insert into CUSTOMER (birthDate,creationDate,email,firstname,lastname,photo,status,version,ID) values (?,?,?,?,?,?,?,?,?)\n"
     ]
    },
    {
     "name": "stdout",
     "output_type": "stream",
     "text": [
      "13:17:40.273 DEBUG org.hibernate.SQL - select count(*)>0 from CUSTOMER c1_0 where c1_0.email=?\n"
     ]
    },
    {
     "name": "stdout",
     "output_type": "stream",
     "text": [
      "13:17:40.273 DEBUG org.hibernate.SQL - insert into CUSTOMER (birthDate,creationDate,email,firstname,lastname,photo,status,version,ID) values (?,?,?,?,?,?,?,?,?)\n"
     ]
    },
    {
     "name": "stdout",
     "output_type": "stream",
     "text": [
      "13:17:40.273 DEBUG org.hibernate.SQL - select count(*)>0 from CUSTOMER c1_0 where c1_0.email=?\n"
     ]
    },
    {
     "name": "stdout",
     "output_type": "stream",
     "text": [
      "13:17:40.274 DEBUG org.hibernate.SQL - insert into CUSTOMER (birthDate,creationDate,email,firstname,lastname,photo,status,version,ID) values (?,?,?,?,?,?,?,?,?)\n"
     ]
    },
    {
     "name": "stdout",
     "output_type": "stream",
     "text": [
      "13:17:40.274 DEBUG org.hibernate.SQL - select count(*)>0 from CUSTOMER c1_0 where c1_0.email=?\n"
     ]
    },
    {
     "name": "stdout",
     "output_type": "stream",
     "text": [
      "13:17:40.275 DEBUG org.hibernate.SQL - insert into CUSTOMER (birthDate,creationDate,email,firstname,lastname,photo,status,version,ID) values (?,?,?,?,?,?,?,?,?)\n"
     ]
    },
    {
     "name": "stdout",
     "output_type": "stream",
     "text": [
      "13:17:40.275 DEBUG org.hibernate.SQL - select count(*)>0 from CUSTOMER c1_0 where c1_0.email=?\n"
     ]
    },
    {
     "name": "stdout",
     "output_type": "stream",
     "text": [
      "13:17:40.275 DEBUG org.hibernate.SQL - insert into CUSTOMER (birthDate,creationDate,email,firstname,lastname,photo,status,version,ID) values (?,?,?,?,?,?,?,?,?)\n"
     ]
    },
    {
     "name": "stdout",
     "output_type": "stream",
     "text": [
      "13:17:40.275 DEBUG org.hibernate.SQL - select count(*)>0 from CUSTOMER c1_0 where c1_0.email=?\n"
     ]
    },
    {
     "name": "stdout",
     "output_type": "stream",
     "text": [
      "13:17:40.276 DEBUG org.hibernate.SQL - select nextval('CUSTOMER_SEQ')\n"
     ]
    },
    {
     "name": "stdout",
     "output_type": "stream",
     "text": [
      "13:17:40.276 DEBUG org.hibernate.SQL - insert into CUSTOMER (birthDate,creationDate,email,firstname,lastname,photo,status,version,ID) values (?,?,?,?,?,?,?,?,?)\n"
     ]
    },
    {
     "name": "stdout",
     "output_type": "stream",
     "text": [
      "13:17:40.276 DEBUG org.hibernate.SQL - select count(*)>0 from CUSTOMER c1_0 where c1_0.email=?\n"
     ]
    },
    {
     "name": "stdout",
     "output_type": "stream",
     "text": [
      "13:17:40.277 DEBUG org.hibernate.SQL - insert into CUSTOMER (birthDate,creationDate,email,firstname,lastname,photo,status,version,ID) values (?,?,?,?,?,?,?,?,?)\n"
     ]
    },
    {
     "name": "stdout",
     "output_type": "stream",
     "text": [
      "13:17:40.278 DEBUG org.hibernate.SQL - select count(*)>0 from CUSTOMER c1_0 where c1_0.email=?\n"
     ]
    },
    {
     "name": "stdout",
     "output_type": "stream",
     "text": [
      "13:17:40.279 DEBUG org.hibernate.SQL - insert into CUSTOMER (birthDate,creationDate,email,firstname,lastname,photo,status,version,ID) values (?,?,?,?,?,?,?,?,?)\n"
     ]
    },
    {
     "name": "stdout",
     "output_type": "stream",
     "text": [
      "13:17:40.279 DEBUG org.hibernate.SQL - select count(*)>0 from CUSTOMER c1_0 where c1_0.email=?\n"
     ]
    },
    {
     "name": "stdout",
     "output_type": "stream",
     "text": [
      "13:17:40.280 DEBUG org.hibernate.SQL - insert into CUSTOMER (birthDate,creationDate,email,firstname,lastname,photo,status,version,ID) values (?,?,?,?,?,?,?,?,?)\n"
     ]
    },
    {
     "name": "stdout",
     "output_type": "stream",
     "text": [
      "13:17:40.280 DEBUG org.hibernate.SQL - select count(*)>0 from CUSTOMER c1_0 where c1_0.email=?\n"
     ]
    },
    {
     "name": "stdout",
     "output_type": "stream",
     "text": [
      "13:17:40.280 DEBUG org.hibernate.SQL - insert into CUSTOMER (birthDate,creationDate,email,firstname,lastname,photo,status,version,ID) values (?,?,?,?,?,?,?,?,?)\n"
     ]
    },
    {
     "name": "stdout",
     "output_type": "stream",
     "text": [
      "13:17:40.281 DEBUG org.hibernate.SQL - select count(*)>0 from CUSTOMER c1_0 where c1_0.email=?\n"
     ]
    },
    {
     "name": "stdout",
     "output_type": "stream",
     "text": [
      "13:17:40.281 DEBUG org.hibernate.SQL - insert into CUSTOMER (birthDate,creationDate,email,firstname,lastname,photo,status,version,ID) values (?,?,?,?,?,?,?,?,?)\n"
     ]
    },
    {
     "name": "stdout",
     "output_type": "stream",
     "text": [
      "13:17:40.281 DEBUG org.hibernate.SQL - select count(*)>0 from CUSTOMER c1_0 where c1_0.email=?\n"
     ]
    },
    {
     "name": "stdout",
     "output_type": "stream",
     "text": [
      "13:17:40.282 DEBUG org.hibernate.SQL - insert into CUSTOMER (birthDate,creationDate,email,firstname,lastname,photo,status,version,ID) values (?,?,?,?,?,?,?,?,?)\n"
     ]
    },
    {
     "name": "stdout",
     "output_type": "stream",
     "text": [
      "13:17:40.282 DEBUG org.hibernate.SQL - select count(*)>0 from CUSTOMER c1_0 where c1_0.email=?\n"
     ]
    },
    {
     "name": "stdout",
     "output_type": "stream",
     "text": [
      "13:17:40.283 DEBUG org.hibernate.SQL - insert into CUSTOMER (birthDate,creationDate,email,firstname,lastname,photo,status,version,ID) values (?,?,?,?,?,?,?,?,?)\n"
     ]
    },
    {
     "name": "stdout",
     "output_type": "stream",
     "text": [
      "13:17:40.283 DEBUG org.hibernate.SQL - select count(*)>0 from CUSTOMER c1_0 where c1_0.email=?\n"
     ]
    },
    {
     "name": "stdout",
     "output_type": "stream",
     "text": [
      "13:17:40.283 DEBUG org.hibernate.SQL - insert into CUSTOMER (birthDate,creationDate,email,firstname,lastname,photo,status,version,ID) values (?,?,?,?,?,?,?,?,?)\n"
     ]
    },
    {
     "name": "stdout",
     "output_type": "stream",
     "text": [
      "13:17:40.283 DEBUG org.hibernate.SQL - select count(*)>0 from CUSTOMER c1_0 where c1_0.email=?\n"
     ]
    },
    {
     "name": "stdout",
     "output_type": "stream",
     "text": [
      "13:17:40.284 DEBUG org.hibernate.SQL - insert into CUSTOMER (birthDate,creationDate,email,firstname,lastname,photo,status,version,ID) values (?,?,?,?,?,?,?,?,?)\n"
     ]
    },
    {
     "name": "stdout",
     "output_type": "stream",
     "text": [
      "13:17:40.284 DEBUG org.hibernate.SQL - select count(*)>0 from CUSTOMER c1_0 where c1_0.email=?\n"
     ]
    },
    {
     "name": "stdout",
     "output_type": "stream",
     "text": [
      "13:17:40.285 DEBUG org.hibernate.SQL - insert into CUSTOMER (birthDate,creationDate,email,firstname,lastname,photo,status,version,ID) values (?,?,?,?,?,?,?,?,?)\n"
     ]
    },
    {
     "name": "stdout",
     "output_type": "stream",
     "text": [
      "13:17:40.285 DEBUG org.hibernate.SQL - select count(*)>0 from CUSTOMER c1_0 where c1_0.email=?\n"
     ]
    },
    {
     "name": "stdout",
     "output_type": "stream",
     "text": [
      "13:17:40.285 DEBUG org.hibernate.SQL - insert into CUSTOMER (birthDate,creationDate,email,firstname,lastname,photo,status,version,ID) values (?,?,?,?,?,?,?,?,?)\n"
     ]
    },
    {
     "name": "stdout",
     "output_type": "stream",
     "text": [
      "13:17:40.285 DEBUG org.hibernate.SQL - select count(*)>0 from CUSTOMER c1_0 where c1_0.email=?\n"
     ]
    },
    {
     "name": "stdout",
     "output_type": "stream",
     "text": [
      "13:17:40.286 DEBUG org.hibernate.SQL - insert into CUSTOMER (birthDate,creationDate,email,firstname,lastname,photo,status,version,ID) values (?,?,?,?,?,?,?,?,?)\n"
     ]
    },
    {
     "name": "stdout",
     "output_type": "stream",
     "text": [
      "13:17:40.286 DEBUG org.hibernate.SQL - select count(*)>0 from CUSTOMER c1_0 where c1_0.email=?\n"
     ]
    },
    {
     "name": "stdout",
     "output_type": "stream",
     "text": [
      "13:17:40.287 DEBUG org.hibernate.SQL - insert into CUSTOMER (birthDate,creationDate,email,firstname,lastname,photo,status,version,ID) values (?,?,?,?,?,?,?,?,?)\n"
     ]
    },
    {
     "name": "stdout",
     "output_type": "stream",
     "text": [
      "13:17:40.287 DEBUG org.hibernate.SQL - select count(*)>0 from CUSTOMER c1_0 where c1_0.email=?\n"
     ]
    },
    {
     "name": "stdout",
     "output_type": "stream",
     "text": [
      "13:17:40.287 DEBUG org.hibernate.SQL - insert into CUSTOMER (birthDate,creationDate,email,firstname,lastname,photo,status,version,ID) values (?,?,?,?,?,?,?,?,?)\n"
     ]
    },
    {
     "name": "stdout",
     "output_type": "stream",
     "text": [
      "13:17:40.288 DEBUG org.hibernate.SQL - select count(*)>0 from CUSTOMER c1_0 where c1_0.email=?\n"
     ]
    },
    {
     "name": "stdout",
     "output_type": "stream",
     "text": [
      "13:17:40.288 DEBUG org.hibernate.SQL - insert into CUSTOMER (birthDate,creationDate,email,firstname,lastname,photo,status,version,ID) values (?,?,?,?,?,?,?,?,?)\n"
     ]
    },
    {
     "name": "stdout",
     "output_type": "stream",
     "text": [
      "13:17:40.288 DEBUG org.hibernate.SQL - select count(*)>0 from CUSTOMER c1_0 where c1_0.email=?\n"
     ]
    },
    {
     "name": "stdout",
     "output_type": "stream",
     "text": [
      "13:17:40.289 DEBUG org.hibernate.SQL - insert into CUSTOMER (birthDate,creationDate,email,firstname,lastname,photo,status,version,ID) values (?,?,?,?,?,?,?,?,?)\n"
     ]
    },
    {
     "name": "stdout",
     "output_type": "stream",
     "text": [
      "13:17:40.289 DEBUG org.hibernate.SQL - select count(*)>0 from CUSTOMER c1_0 where c1_0.email=?\n"
     ]
    },
    {
     "name": "stdout",
     "output_type": "stream",
     "text": [
      "13:17:40.290 DEBUG org.hibernate.SQL - insert into CUSTOMER (birthDate,creationDate,email,firstname,lastname,photo,status,version,ID) values (?,?,?,?,?,?,?,?,?)\n"
     ]
    },
    {
     "name": "stdout",
     "output_type": "stream",
     "text": [
      "13:17:40.290 DEBUG org.hibernate.SQL - select count(*)>0 from CUSTOMER c1_0 where c1_0.email=?\n"
     ]
    },
    {
     "name": "stdout",
     "output_type": "stream",
     "text": [
      "13:17:40.291 DEBUG org.hibernate.SQL - insert into CUSTOMER (birthDate,creationDate,email,firstname,lastname,photo,status,version,ID) values (?,?,?,?,?,?,?,?,?)\n"
     ]
    },
    {
     "name": "stdout",
     "output_type": "stream",
     "text": [
      "13:17:40.291 DEBUG org.hibernate.SQL - select count(*)>0 from CUSTOMER c1_0 where c1_0.email=?\n"
     ]
    },
    {
     "name": "stdout",
     "output_type": "stream",
     "text": [
      "13:17:40.291 DEBUG org.hibernate.SQL - insert into CUSTOMER (birthDate,creationDate,email,firstname,lastname,photo,status,version,ID) values (?,?,?,?,?,?,?,?,?)\n"
     ]
    },
    {
     "name": "stdout",
     "output_type": "stream",
     "text": [
      "13:17:40.292 DEBUG org.hibernate.SQL - select count(*)>0 from CUSTOMER c1_0 where c1_0.email=?\n"
     ]
    },
    {
     "name": "stdout",
     "output_type": "stream",
     "text": [
      "13:17:40.292 DEBUG org.hibernate.SQL - insert into CUSTOMER (birthDate,creationDate,email,firstname,lastname,photo,status,version,ID) values (?,?,?,?,?,?,?,?,?)\n"
     ]
    },
    {
     "name": "stdout",
     "output_type": "stream",
     "text": [
      "13:17:40.292 DEBUG org.hibernate.SQL - select count(*)>0 from CUSTOMER c1_0 where c1_0.email=?\n"
     ]
    },
    {
     "name": "stdout",
     "output_type": "stream",
     "text": [
      "13:17:40.293 DEBUG org.hibernate.SQL - insert into CUSTOMER (birthDate,creationDate,email,firstname,lastname,photo,status,version,ID) values (?,?,?,?,?,?,?,?,?)\n"
     ]
    },
    {
     "name": "stdout",
     "output_type": "stream",
     "text": [
      "13:17:40.293 DEBUG org.hibernate.SQL - select count(*)>0 from CUSTOMER c1_0 where c1_0.email=?\n"
     ]
    },
    {
     "name": "stdout",
     "output_type": "stream",
     "text": [
      "13:17:40.294 DEBUG org.hibernate.SQL - insert into CUSTOMER (birthDate,creationDate,email,firstname,lastname,photo,status,version,ID) values (?,?,?,?,?,?,?,?,?)\n"
     ]
    },
    {
     "name": "stdout",
     "output_type": "stream",
     "text": [
      "13:17:40.294 DEBUG org.hibernate.SQL - select count(*)>0 from CUSTOMER c1_0 where c1_0.email=?\n"
     ]
    },
    {
     "name": "stdout",
     "output_type": "stream",
     "text": [
      "13:17:40.294 DEBUG org.hibernate.SQL - insert into CUSTOMER (birthDate,creationDate,email,firstname,lastname,photo,status,version,ID) values (?,?,?,?,?,?,?,?,?)\n"
     ]
    },
    {
     "name": "stdout",
     "output_type": "stream",
     "text": [
      "13:17:40.294 DEBUG org.hibernate.SQL - select count(*)>0 from CUSTOMER c1_0 where c1_0.email=?\n"
     ]
    },
    {
     "name": "stdout",
     "output_type": "stream",
     "text": [
      "13:17:40.295 DEBUG org.hibernate.SQL - insert into CUSTOMER (birthDate,creationDate,email,firstname,lastname,photo,status,version,ID) values (?,?,?,?,?,?,?,?,?)\n"
     ]
    },
    {
     "name": "stdout",
     "output_type": "stream",
     "text": [
      "13:17:40.295 DEBUG org.hibernate.SQL - select count(*)>0 from CUSTOMER c1_0 where c1_0.email=?\n"
     ]
    },
    {
     "name": "stdout",
     "output_type": "stream",
     "text": [
      "13:17:40.296 DEBUG org.hibernate.SQL - insert into CUSTOMER (birthDate,creationDate,email,firstname,lastname,photo,status,version,ID) values (?,?,?,?,?,?,?,?,?)\n"
     ]
    },
    {
     "name": "stdout",
     "output_type": "stream",
     "text": [
      "13:17:40.296 DEBUG org.hibernate.SQL - select count(*)>0 from CUSTOMER c1_0 where c1_0.email=?\n"
     ]
    },
    {
     "name": "stdout",
     "output_type": "stream",
     "text": [
      "13:17:40.296 DEBUG org.hibernate.SQL - insert into CUSTOMER (birthDate,creationDate,email,firstname,lastname,photo,status,version,ID) values (?,?,?,?,?,?,?,?,?)\n"
     ]
    },
    {
     "name": "stdout",
     "output_type": "stream",
     "text": [
      "13:17:40.297 DEBUG org.hibernate.SQL - select count(*)>0 from CUSTOMER c1_0 where c1_0.email=?\n"
     ]
    },
    {
     "name": "stdout",
     "output_type": "stream",
     "text": [
      "13:17:40.297 DEBUG org.hibernate.SQL - insert into CUSTOMER (birthDate,creationDate,email,firstname,lastname,photo,status,version,ID) values (?,?,?,?,?,?,?,?,?)\n"
     ]
    },
    {
     "name": "stdout",
     "output_type": "stream",
     "text": [
      "13:17:40.297 DEBUG org.hibernate.SQL - select count(*)>0 from CUSTOMER c1_0 where c1_0.email=?\n"
     ]
    },
    {
     "name": "stdout",
     "output_type": "stream",
     "text": [
      "13:17:40.298 DEBUG org.hibernate.SQL - insert into CUSTOMER (birthDate,creationDate,email,firstname,lastname,photo,status,version,ID) values (?,?,?,?,?,?,?,?,?)\n"
     ]
    },
    {
     "name": "stdout",
     "output_type": "stream",
     "text": [
      "13:17:40.298 DEBUG org.hibernate.SQL - select count(*)>0 from CUSTOMER c1_0 where c1_0.email=?\n"
     ]
    },
    {
     "name": "stdout",
     "output_type": "stream",
     "text": [
      "13:17:40.299 DEBUG org.hibernate.SQL - insert into CUSTOMER (birthDate,creationDate,email,firstname,lastname,photo,status,version,ID) values (?,?,?,?,?,?,?,?,?)\n"
     ]
    },
    {
     "name": "stdout",
     "output_type": "stream",
     "text": [
      "13:17:40.299 DEBUG org.hibernate.SQL - select count(*)>0 from CUSTOMER c1_0 where c1_0.email=?\n"
     ]
    },
    {
     "name": "stdout",
     "output_type": "stream",
     "text": [
      "13:17:40.299 DEBUG org.hibernate.SQL - insert into CUSTOMER (birthDate,creationDate,email,firstname,lastname,photo,status,version,ID) values (?,?,?,?,?,?,?,?,?)\n"
     ]
    },
    {
     "name": "stdout",
     "output_type": "stream",
     "text": [
      "13:17:40.300 DEBUG org.hibernate.SQL - select count(*)>0 from CUSTOMER c1_0 where c1_0.email=?\n"
     ]
    },
    {
     "name": "stdout",
     "output_type": "stream",
     "text": [
      "13:17:40.300 DEBUG org.hibernate.SQL - insert into CUSTOMER (birthDate,creationDate,email,firstname,lastname,photo,status,version,ID) values (?,?,?,?,?,?,?,?,?)\n"
     ]
    },
    {
     "name": "stdout",
     "output_type": "stream",
     "text": [
      "13:17:40.300 DEBUG org.hibernate.SQL - select count(*)>0 from CUSTOMER c1_0 where c1_0.email=?\n"
     ]
    },
    {
     "name": "stdout",
     "output_type": "stream",
     "text": [
      "13:17:40.301 DEBUG org.hibernate.SQL - insert into CUSTOMER (birthDate,creationDate,email,firstname,lastname,photo,status,version,ID) values (?,?,?,?,?,?,?,?,?)\n"
     ]
    },
    {
     "name": "stdout",
     "output_type": "stream",
     "text": [
      "13:17:40.301 DEBUG org.hibernate.SQL - select count(*)>0 from CUSTOMER c1_0 where c1_0.email=?\n"
     ]
    },
    {
     "name": "stdout",
     "output_type": "stream",
     "text": [
      "13:17:40.302 DEBUG org.hibernate.SQL - insert into CUSTOMER (birthDate,creationDate,email,firstname,lastname,photo,status,version,ID) values (?,?,?,?,?,?,?,?,?)\n"
     ]
    },
    {
     "name": "stdout",
     "output_type": "stream",
     "text": [
      "13:17:40.302 DEBUG org.hibernate.SQL - select count(*)>0 from CUSTOMER c1_0 where c1_0.email=?\n"
     ]
    },
    {
     "name": "stdout",
     "output_type": "stream",
     "text": [
      "13:17:40.302 DEBUG org.hibernate.SQL - insert into CUSTOMER (birthDate,creationDate,email,firstname,lastname,photo,status,version,ID) values (?,?,?,?,?,?,?,?,?)\n"
     ]
    },
    {
     "name": "stdout",
     "output_type": "stream",
     "text": [
      "13:17:40.303 DEBUG org.hibernate.SQL - select count(*)>0 from CUSTOMER c1_0 where c1_0.email=?\n"
     ]
    },
    {
     "name": "stdout",
     "output_type": "stream",
     "text": [
      "13:17:40.303 DEBUG org.hibernate.SQL - insert into CUSTOMER (birthDate,creationDate,email,firstname,lastname,photo,status,version,ID) values (?,?,?,?,?,?,?,?,?)\n"
     ]
    },
    {
     "name": "stdout",
     "output_type": "stream",
     "text": [
      "13:17:40.304 DEBUG org.hibernate.SQL - select count(*)>0 from CUSTOMER c1_0 where c1_0.email=?\n"
     ]
    },
    {
     "name": "stdout",
     "output_type": "stream",
     "text": [
      "13:17:40.304 DEBUG org.hibernate.SQL - insert into CUSTOMER (birthDate,creationDate,email,firstname,lastname,photo,status,version,ID) values (?,?,?,?,?,?,?,?,?)\n"
     ]
    },
    {
     "name": "stdout",
     "output_type": "stream",
     "text": [
      "13:17:40.304 DEBUG org.hibernate.SQL - select count(*)>0 from CUSTOMER c1_0 where c1_0.email=?\n"
     ]
    },
    {
     "name": "stdout",
     "output_type": "stream",
     "text": [
      "13:17:40.305 DEBUG org.hibernate.SQL - insert into CUSTOMER (birthDate,creationDate,email,firstname,lastname,photo,status,version,ID) values (?,?,?,?,?,?,?,?,?)\n"
     ]
    },
    {
     "name": "stdout",
     "output_type": "stream",
     "text": [
      "13:17:40.305 DEBUG org.hibernate.SQL - select count(*)>0 from CUSTOMER c1_0 where c1_0.email=?\n"
     ]
    },
    {
     "name": "stdout",
     "output_type": "stream",
     "text": [
      "13:17:40.306 DEBUG org.hibernate.SQL - insert into CUSTOMER (birthDate,creationDate,email,firstname,lastname,photo,status,version,ID) values (?,?,?,?,?,?,?,?,?)\n"
     ]
    },
    {
     "name": "stdout",
     "output_type": "stream",
     "text": [
      "13:17:40.306 DEBUG org.hibernate.SQL - select count(*)>0 from CUSTOMER c1_0 where c1_0.email=?\n"
     ]
    },
    {
     "name": "stdout",
     "output_type": "stream",
     "text": [
      "13:17:40.306 DEBUG org.hibernate.SQL - insert into CUSTOMER (birthDate,creationDate,email,firstname,lastname,photo,status,version,ID) values (?,?,?,?,?,?,?,?,?)\n"
     ]
    },
    {
     "name": "stdout",
     "output_type": "stream",
     "text": [
      "13:17:40.306 DEBUG org.hibernate.SQL - select count(*)>0 from CUSTOMER c1_0 where c1_0.email=?\n"
     ]
    },
    {
     "name": "stdout",
     "output_type": "stream",
     "text": [
      "13:17:40.307 DEBUG org.hibernate.SQL - insert into CUSTOMER (birthDate,creationDate,email,firstname,lastname,photo,status,version,ID) values (?,?,?,?,?,?,?,?,?)\n"
     ]
    },
    {
     "name": "stdout",
     "output_type": "stream",
     "text": [
      "13:17:40.307 DEBUG org.hibernate.SQL - select count(*)>0 from CUSTOMER c1_0 where c1_0.email=?\n"
     ]
    },
    {
     "name": "stdout",
     "output_type": "stream",
     "text": [
      "13:17:40.308 DEBUG org.hibernate.SQL - insert into CUSTOMER (birthDate,creationDate,email,firstname,lastname,photo,status,version,ID) values (?,?,?,?,?,?,?,?,?)\n"
     ]
    },
    {
     "name": "stdout",
     "output_type": "stream",
     "text": [
      "13:17:40.308 DEBUG org.hibernate.SQL - select count(*)>0 from CUSTOMER c1_0 where c1_0.email=?\n"
     ]
    },
    {
     "name": "stdout",
     "output_type": "stream",
     "text": [
      "13:17:40.309 DEBUG org.hibernate.SQL - insert into CUSTOMER (birthDate,creationDate,email,firstname,lastname,photo,status,version,ID) values (?,?,?,?,?,?,?,?,?)\n"
     ]
    },
    {
     "name": "stdout",
     "output_type": "stream",
     "text": [
      "13:17:40.309 DEBUG org.hibernate.SQL - select count(*)>0 from CUSTOMER c1_0 where c1_0.email=?\n"
     ]
    },
    {
     "name": "stdout",
     "output_type": "stream",
     "text": [
      "13:17:40.309 DEBUG org.hibernate.SQL - insert into CUSTOMER (birthDate,creationDate,email,firstname,lastname,photo,status,version,ID) values (?,?,?,?,?,?,?,?,?)\n"
     ]
    },
    {
     "name": "stdout",
     "output_type": "stream",
     "text": [
      "13:17:40.310 DEBUG org.hibernate.SQL - select count(*)>0 from CUSTOMER c1_0 where c1_0.email=?\n"
     ]
    },
    {
     "name": "stdout",
     "output_type": "stream",
     "text": [
      "13:17:40.310 DEBUG org.hibernate.SQL - insert into CUSTOMER (birthDate,creationDate,email,firstname,lastname,photo,status,version,ID) values (?,?,?,?,?,?,?,?,?)\n"
     ]
    },
    {
     "name": "stdout",
     "output_type": "stream",
     "text": [
      "13:17:40.311 DEBUG org.hibernate.SQL - select count(*)>0 from CUSTOMER c1_0 where c1_0.email=?\n"
     ]
    },
    {
     "name": "stdout",
     "output_type": "stream",
     "text": [
      "13:17:40.311 DEBUG org.hibernate.SQL - insert into CUSTOMER (birthDate,creationDate,email,firstname,lastname,photo,status,version,ID) values (?,?,?,?,?,?,?,?,?)\n"
     ]
    },
    {
     "name": "stdout",
     "output_type": "stream",
     "text": [
      "13:17:40.312 DEBUG org.hibernate.SQL - select count(*)>0 from CUSTOMER c1_0 where c1_0.email=?\n"
     ]
    },
    {
     "name": "stdout",
     "output_type": "stream",
     "text": [
      "13:17:40.312 DEBUG org.hibernate.SQL - insert into CUSTOMER (birthDate,creationDate,email,firstname,lastname,photo,status,version,ID) values (?,?,?,?,?,?,?,?,?)\n"
     ]
    },
    {
     "name": "stdout",
     "output_type": "stream",
     "text": [
      "13:17:40.313 DEBUG org.hibernate.SQL - select count(*)>0 from CUSTOMER c1_0 where c1_0.email=?\n"
     ]
    },
    {
     "name": "stdout",
     "output_type": "stream",
     "text": [
      "13:17:40.315 DEBUG org.hibernate.SQL - insert into CUSTOMER (birthDate,creationDate,email,firstname,lastname,photo,status,version,ID) values (?,?,?,?,?,?,?,?,?)\n"
     ]
    },
    {
     "name": "stdout",
     "output_type": "stream",
     "text": [
      "13:17:40.315 DEBUG org.hibernate.SQL - select count(*)>0 from CUSTOMER c1_0 where c1_0.email=?\n"
     ]
    },
    {
     "name": "stdout",
     "output_type": "stream",
     "text": [
      "13:17:40.316 DEBUG org.hibernate.SQL - insert into CUSTOMER (birthDate,creationDate,email,firstname,lastname,photo,status,version,ID) values (?,?,?,?,?,?,?,?,?)\n"
     ]
    },
    {
     "name": "stdout",
     "output_type": "stream",
     "text": [
      "13:17:40.316 DEBUG org.hibernate.SQL - select count(*)>0 from CUSTOMER c1_0 where c1_0.email=?\n"
     ]
    },
    {
     "name": "stdout",
     "output_type": "stream",
     "text": [
      "13:17:40.317 DEBUG org.hibernate.SQL - insert into CUSTOMER (birthDate,creationDate,email,firstname,lastname,photo,status,version,ID) values (?,?,?,?,?,?,?,?,?)\n"
     ]
    },
    {
     "name": "stdout",
     "output_type": "stream",
     "text": [
      "13:17:40.317 DEBUG org.hibernate.SQL - select count(*)>0 from CUSTOMER c1_0 where c1_0.email=?\n"
     ]
    },
    {
     "name": "stdout",
     "output_type": "stream",
     "text": [
      "13:17:40.317 DEBUG org.hibernate.SQL - select nextval('CUSTOMER_SEQ')\n"
     ]
    },
    {
     "name": "stdout",
     "output_type": "stream",
     "text": [
      "13:17:40.319 DEBUG org.hibernate.SQL - insert into CUSTOMER (birthDate,creationDate,email,firstname,lastname,photo,status,version,ID) values (?,?,?,?,?,?,?,?,?)\n"
     ]
    },
    {
     "name": "stdout",
     "output_type": "stream",
     "text": [
      "13:17:40.320 DEBUG org.hibernate.SQL - select count(*)>0 from CUSTOMER c1_0 where c1_0.email=?\n"
     ]
    },
    {
     "name": "stdout",
     "output_type": "stream",
     "text": [
      "13:17:40.320 DEBUG org.hibernate.SQL - insert into CUSTOMER (birthDate,creationDate,email,firstname,lastname,photo,status,version,ID) values (?,?,?,?,?,?,?,?,?)\n"
     ]
    },
    {
     "name": "stdout",
     "output_type": "stream",
     "text": [
      "13:17:40.321 DEBUG org.hibernate.SQL - select count(*)>0 from CUSTOMER c1_0 where c1_0.email=?\n"
     ]
    },
    {
     "name": "stdout",
     "output_type": "stream",
     "text": [
      "13:17:40.321 DEBUG org.hibernate.SQL - insert into CUSTOMER (birthDate,creationDate,email,firstname,lastname,photo,status,version,ID) values (?,?,?,?,?,?,?,?,?)\n"
     ]
    },
    {
     "name": "stdout",
     "output_type": "stream",
     "text": [
      "13:17:40.322 DEBUG org.hibernate.SQL - select count(*)>0 from CUSTOMER c1_0 where c1_0.email=?\n"
     ]
    },
    {
     "name": "stdout",
     "output_type": "stream",
     "text": [
      "13:17:40.322 DEBUG org.hibernate.SQL - insert into CUSTOMER (birthDate,creationDate,email,firstname,lastname,photo,status,version,ID) values (?,?,?,?,?,?,?,?,?)\n"
     ]
    },
    {
     "name": "stdout",
     "output_type": "stream",
     "text": [
      "13:17:40.322 DEBUG org.hibernate.SQL - select count(*)>0 from CUSTOMER c1_0 where c1_0.email=?\n"
     ]
    },
    {
     "name": "stdout",
     "output_type": "stream",
     "text": [
      "13:17:40.323 DEBUG org.hibernate.SQL - insert into CUSTOMER (birthDate,creationDate,email,firstname,lastname,photo,status,version,ID) values (?,?,?,?,?,?,?,?,?)\n"
     ]
    },
    {
     "name": "stdout",
     "output_type": "stream",
     "text": [
      "13:17:40.323 DEBUG org.hibernate.SQL - select count(*)>0 from CUSTOMER c1_0 where c1_0.email=?\n"
     ]
    },
    {
     "name": "stdout",
     "output_type": "stream",
     "text": [
      "13:17:40.323 DEBUG org.hibernate.SQL - insert into CUSTOMER (birthDate,creationDate,email,firstname,lastname,photo,status,version,ID) values (?,?,?,?,?,?,?,?,?)\n"
     ]
    },
    {
     "name": "stdout",
     "output_type": "stream",
     "text": [
      "13:17:40.324 DEBUG org.hibernate.SQL - select count(*)>0 from CUSTOMER c1_0 where c1_0.email=?\n"
     ]
    },
    {
     "name": "stdout",
     "output_type": "stream",
     "text": [
      "13:17:40.324 DEBUG org.hibernate.SQL - insert into CUSTOMER (birthDate,creationDate,email,firstname,lastname,photo,status,version,ID) values (?,?,?,?,?,?,?,?,?)\n"
     ]
    },
    {
     "name": "stdout",
     "output_type": "stream",
     "text": [
      "13:17:40.324 DEBUG org.hibernate.SQL - select count(*)>0 from CUSTOMER c1_0 where c1_0.email=?\n"
     ]
    },
    {
     "name": "stdout",
     "output_type": "stream",
     "text": [
      "13:17:40.325 DEBUG org.hibernate.SQL - insert into CUSTOMER (birthDate,creationDate,email,firstname,lastname,photo,status,version,ID) values (?,?,?,?,?,?,?,?,?)\n"
     ]
    },
    {
     "name": "stdout",
     "output_type": "stream",
     "text": [
      "13:17:40.325 DEBUG org.hibernate.SQL - select count(*)>0 from CUSTOMER c1_0 where c1_0.email=?\n"
     ]
    },
    {
     "name": "stdout",
     "output_type": "stream",
     "text": [
      "13:17:40.326 DEBUG org.hibernate.SQL - insert into CUSTOMER (birthDate,creationDate,email,firstname,lastname,photo,status,version,ID) values (?,?,?,?,?,?,?,?,?)\n"
     ]
    },
    {
     "name": "stdout",
     "output_type": "stream",
     "text": [
      "13:17:40.326 DEBUG org.hibernate.SQL - select count(*)>0 from CUSTOMER c1_0 where c1_0.email=?\n"
     ]
    },
    {
     "name": "stdout",
     "output_type": "stream",
     "text": [
      "13:17:40.333 DEBUG org.hibernate.SQL - insert into CUSTOMER (birthDate,creationDate,email,firstname,lastname,photo,status,version,ID) values (?,?,?,?,?,?,?,?,?)\n"
     ]
    },
    {
     "name": "stdout",
     "output_type": "stream",
     "text": [
      "13:17:40.334 DEBUG org.hibernate.SQL - select count(*)>0 from CUSTOMER c1_0 where c1_0.email=?\n"
     ]
    },
    {
     "name": "stdout",
     "output_type": "stream",
     "text": [
      "13:17:40.334 DEBUG org.hibernate.SQL - insert into CUSTOMER (birthDate,creationDate,email,firstname,lastname,photo,status,version,ID) values (?,?,?,?,?,?,?,?,?)\n"
     ]
    },
    {
     "name": "stdout",
     "output_type": "stream",
     "text": [
      "13:17:40.335 DEBUG org.hibernate.SQL - select count(*)>0 from CUSTOMER c1_0 where c1_0.email=?\n"
     ]
    },
    {
     "name": "stdout",
     "output_type": "stream",
     "text": [
      "13:17:40.335 DEBUG org.hibernate.SQL - insert into CUSTOMER (birthDate,creationDate,email,firstname,lastname,photo,status,version,ID) values (?,?,?,?,?,?,?,?,?)\n"
     ]
    },
    {
     "name": "stdout",
     "output_type": "stream",
     "text": [
      "13:17:40.335 DEBUG org.hibernate.SQL - select count(*)>0 from CUSTOMER c1_0 where c1_0.email=?\n"
     ]
    },
    {
     "name": "stdout",
     "output_type": "stream",
     "text": [
      "13:17:40.336 DEBUG org.hibernate.SQL - insert into CUSTOMER (birthDate,creationDate,email,firstname,lastname,photo,status,version,ID) values (?,?,?,?,?,?,?,?,?)\n"
     ]
    },
    {
     "name": "stdout",
     "output_type": "stream",
     "text": [
      "13:17:40.336 DEBUG org.hibernate.SQL - select count(*)>0 from CUSTOMER c1_0 where c1_0.email=?\n"
     ]
    },
    {
     "name": "stdout",
     "output_type": "stream",
     "text": [
      "13:17:40.336 DEBUG org.hibernate.SQL - insert into CUSTOMER (birthDate,creationDate,email,firstname,lastname,photo,status,version,ID) values (?,?,?,?,?,?,?,?,?)\n"
     ]
    },
    {
     "name": "stdout",
     "output_type": "stream",
     "text": [
      "13:17:40.336 DEBUG org.hibernate.SQL - select count(*)>0 from CUSTOMER c1_0 where c1_0.email=?\n"
     ]
    },
    {
     "name": "stdout",
     "output_type": "stream",
     "text": [
      "13:17:40.337 DEBUG org.hibernate.SQL - insert into CUSTOMER (birthDate,creationDate,email,firstname,lastname,photo,status,version,ID) values (?,?,?,?,?,?,?,?,?)\n"
     ]
    },
    {
     "name": "stdout",
     "output_type": "stream",
     "text": [
      "13:17:40.337 DEBUG org.hibernate.SQL - select count(*)>0 from CUSTOMER c1_0 where c1_0.email=?\n"
     ]
    },
    {
     "name": "stdout",
     "output_type": "stream",
     "text": [
      "13:17:40.337 DEBUG org.hibernate.SQL - insert into CUSTOMER (birthDate,creationDate,email,firstname,lastname,photo,status,version,ID) values (?,?,?,?,?,?,?,?,?)\n"
     ]
    },
    {
     "name": "stdout",
     "output_type": "stream",
     "text": [
      "13:17:40.338 DEBUG org.hibernate.SQL - select count(*)>0 from CUSTOMER c1_0 where c1_0.email=?\n"
     ]
    },
    {
     "name": "stdout",
     "output_type": "stream",
     "text": [
      "13:17:40.338 DEBUG org.hibernate.SQL - insert into CUSTOMER (birthDate,creationDate,email,firstname,lastname,photo,status,version,ID) values (?,?,?,?,?,?,?,?,?)\n"
     ]
    },
    {
     "name": "stdout",
     "output_type": "stream",
     "text": [
      "13:17:40.338 DEBUG org.hibernate.SQL - select count(*)>0 from CUSTOMER c1_0 where c1_0.email=?\n"
     ]
    },
    {
     "name": "stdout",
     "output_type": "stream",
     "text": [
      "13:17:40.339 DEBUG org.hibernate.SQL - insert into CUSTOMER (birthDate,creationDate,email,firstname,lastname,photo,status,version,ID) values (?,?,?,?,?,?,?,?,?)\n"
     ]
    },
    {
     "name": "stdout",
     "output_type": "stream",
     "text": [
      "13:17:40.339 DEBUG org.hibernate.SQL - select count(*)>0 from CUSTOMER c1_0 where c1_0.email=?\n"
     ]
    },
    {
     "name": "stdout",
     "output_type": "stream",
     "text": [
      "13:17:40.339 DEBUG org.hibernate.SQL - insert into CUSTOMER (birthDate,creationDate,email,firstname,lastname,photo,status,version,ID) values (?,?,?,?,?,?,?,?,?)\n"
     ]
    },
    {
     "name": "stdout",
     "output_type": "stream",
     "text": [
      "13:17:40.340 DEBUG org.hibernate.SQL - select count(*)>0 from CUSTOMER c1_0 where c1_0.email=?\n"
     ]
    },
    {
     "name": "stdout",
     "output_type": "stream",
     "text": [
      "13:17:40.340 DEBUG org.hibernate.SQL - insert into CUSTOMER (birthDate,creationDate,email,firstname,lastname,photo,status,version,ID) values (?,?,?,?,?,?,?,?,?)\n"
     ]
    },
    {
     "name": "stdout",
     "output_type": "stream",
     "text": [
      "13:17:40.340 DEBUG org.hibernate.SQL - select count(*)>0 from CUSTOMER c1_0 where c1_0.email=?\n"
     ]
    },
    {
     "name": "stdout",
     "output_type": "stream",
     "text": [
      "13:17:40.341 DEBUG org.hibernate.SQL - insert into CUSTOMER (birthDate,creationDate,email,firstname,lastname,photo,status,version,ID) values (?,?,?,?,?,?,?,?,?)\n"
     ]
    },
    {
     "name": "stdout",
     "output_type": "stream",
     "text": [
      "13:17:40.341 DEBUG org.hibernate.SQL - select count(*)>0 from CUSTOMER c1_0 where c1_0.email=?\n"
     ]
    },
    {
     "name": "stdout",
     "output_type": "stream",
     "text": [
      "13:17:40.341 DEBUG org.hibernate.SQL - insert into CUSTOMER (birthDate,creationDate,email,firstname,lastname,photo,status,version,ID) values (?,?,?,?,?,?,?,?,?)\n"
     ]
    },
    {
     "name": "stdout",
     "output_type": "stream",
     "text": [
      "13:17:40.341 DEBUG org.hibernate.SQL - select count(*)>0 from CUSTOMER c1_0 where c1_0.email=?\n"
     ]
    },
    {
     "name": "stdout",
     "output_type": "stream",
     "text": [
      "13:17:40.342 DEBUG org.hibernate.SQL - insert into CUSTOMER (birthDate,creationDate,email,firstname,lastname,photo,status,version,ID) values (?,?,?,?,?,?,?,?,?)\n"
     ]
    },
    {
     "name": "stdout",
     "output_type": "stream",
     "text": [
      "13:17:40.342 DEBUG org.hibernate.SQL - select count(*)>0 from CUSTOMER c1_0 where c1_0.email=?\n"
     ]
    },
    {
     "name": "stdout",
     "output_type": "stream",
     "text": [
      "13:17:40.342 DEBUG org.hibernate.SQL - insert into CUSTOMER (birthDate,creationDate,email,firstname,lastname,photo,status,version,ID) values (?,?,?,?,?,?,?,?,?)\n"
     ]
    },
    {
     "name": "stdout",
     "output_type": "stream",
     "text": [
      "13:17:40.343 DEBUG org.hibernate.SQL - select count(*)>0 from CUSTOMER c1_0 where c1_0.email=?\n"
     ]
    },
    {
     "name": "stdout",
     "output_type": "stream",
     "text": [
      "13:17:40.343 DEBUG org.hibernate.SQL - insert into CUSTOMER (birthDate,creationDate,email,firstname,lastname,photo,status,version,ID) values (?,?,?,?,?,?,?,?,?)\n"
     ]
    },
    {
     "name": "stdout",
     "output_type": "stream",
     "text": [
      "13:17:40.343 DEBUG org.hibernate.SQL - select count(*)>0 from CUSTOMER c1_0 where c1_0.email=?\n"
     ]
    },
    {
     "name": "stdout",
     "output_type": "stream",
     "text": [
      "13:17:40.343 DEBUG org.hibernate.SQL - insert into CUSTOMER (birthDate,creationDate,email,firstname,lastname,photo,status,version,ID) values (?,?,?,?,?,?,?,?,?)\n"
     ]
    },
    {
     "name": "stdout",
     "output_type": "stream",
     "text": [
      "13:17:40.344 DEBUG org.hibernate.SQL - select count(*)>0 from CUSTOMER c1_0 where c1_0.email=?\n"
     ]
    },
    {
     "name": "stdout",
     "output_type": "stream",
     "text": [
      "13:17:40.344 DEBUG org.hibernate.SQL - insert into CUSTOMER (birthDate,creationDate,email,firstname,lastname,photo,status,version,ID) values (?,?,?,?,?,?,?,?,?)\n"
     ]
    },
    {
     "name": "stdout",
     "output_type": "stream",
     "text": [
      "13:17:40.344 DEBUG org.hibernate.SQL - select count(*)>0 from CUSTOMER c1_0 where c1_0.email=?\n"
     ]
    },
    {
     "name": "stdout",
     "output_type": "stream",
     "text": [
      "13:17:40.345 DEBUG org.hibernate.SQL - insert into CUSTOMER (birthDate,creationDate,email,firstname,lastname,photo,status,version,ID) values (?,?,?,?,?,?,?,?,?)\n"
     ]
    },
    {
     "name": "stdout",
     "output_type": "stream",
     "text": [
      "13:17:40.345 DEBUG org.hibernate.SQL - select count(*)>0 from CUSTOMER c1_0 where c1_0.email=?\n"
     ]
    },
    {
     "name": "stdout",
     "output_type": "stream",
     "text": [
      "13:17:40.345 DEBUG org.hibernate.SQL - insert into CUSTOMER (birthDate,creationDate,email,firstname,lastname,photo,status,version,ID) values (?,?,?,?,?,?,?,?,?)\n"
     ]
    },
    {
     "name": "stdout",
     "output_type": "stream",
     "text": [
      "13:17:40.345 DEBUG org.hibernate.SQL - select count(*)>0 from CUSTOMER c1_0 where c1_0.email=?\n"
     ]
    },
    {
     "name": "stdout",
     "output_type": "stream",
     "text": [
      "13:17:40.346 DEBUG org.hibernate.SQL - insert into CUSTOMER (birthDate,creationDate,email,firstname,lastname,photo,status,version,ID) values (?,?,?,?,?,?,?,?,?)\n"
     ]
    },
    {
     "name": "stdout",
     "output_type": "stream",
     "text": [
      "13:17:40.346 DEBUG org.hibernate.SQL - select count(*)>0 from CUSTOMER c1_0 where c1_0.email=?\n"
     ]
    },
    {
     "name": "stdout",
     "output_type": "stream",
     "text": [
      "13:17:40.346 DEBUG org.hibernate.SQL - insert into CUSTOMER (birthDate,creationDate,email,firstname,lastname,photo,status,version,ID) values (?,?,?,?,?,?,?,?,?)\n"
     ]
    },
    {
     "name": "stdout",
     "output_type": "stream",
     "text": [
      "13:17:40.347 DEBUG org.hibernate.SQL - select count(*)>0 from CUSTOMER c1_0 where c1_0.email=?\n"
     ]
    },
    {
     "name": "stdout",
     "output_type": "stream",
     "text": [
      "13:17:40.347 DEBUG org.hibernate.SQL - insert into CUSTOMER (birthDate,creationDate,email,firstname,lastname,photo,status,version,ID) values (?,?,?,?,?,?,?,?,?)\n"
     ]
    },
    {
     "name": "stdout",
     "output_type": "stream",
     "text": [
      "13:17:40.347 DEBUG org.hibernate.SQL - select count(*)>0 from CUSTOMER c1_0 where c1_0.email=?\n"
     ]
    },
    {
     "name": "stdout",
     "output_type": "stream",
     "text": [
      "13:17:40.348 DEBUG org.hibernate.SQL - insert into CUSTOMER (birthDate,creationDate,email,firstname,lastname,photo,status,version,ID) values (?,?,?,?,?,?,?,?,?)\n"
     ]
    },
    {
     "name": "stdout",
     "output_type": "stream",
     "text": [
      "13:17:40.348 DEBUG org.hibernate.SQL - select count(*)>0 from CUSTOMER c1_0 where c1_0.email=?\n"
     ]
    },
    {
     "name": "stdout",
     "output_type": "stream",
     "text": [
      "13:17:40.348 DEBUG org.hibernate.SQL - insert into CUSTOMER (birthDate,creationDate,email,firstname,lastname,photo,status,version,ID) values (?,?,?,?,?,?,?,?,?)\n"
     ]
    },
    {
     "name": "stdout",
     "output_type": "stream",
     "text": [
      "13:17:40.348 DEBUG org.hibernate.SQL - select count(*)>0 from CUSTOMER c1_0 where c1_0.email=?\n"
     ]
    },
    {
     "name": "stdout",
     "output_type": "stream",
     "text": [
      "13:17:40.349 DEBUG org.hibernate.SQL - insert into CUSTOMER (birthDate,creationDate,email,firstname,lastname,photo,status,version,ID) values (?,?,?,?,?,?,?,?,?)\n"
     ]
    },
    {
     "name": "stdout",
     "output_type": "stream",
     "text": [
      "13:17:40.349 DEBUG org.hibernate.SQL - select count(*)>0 from CUSTOMER c1_0 where c1_0.email=?\n"
     ]
    },
    {
     "name": "stdout",
     "output_type": "stream",
     "text": [
      "13:17:40.349 DEBUG org.hibernate.SQL - insert into CUSTOMER (birthDate,creationDate,email,firstname,lastname,photo,status,version,ID) values (?,?,?,?,?,?,?,?,?)\n"
     ]
    },
    {
     "name": "stdout",
     "output_type": "stream",
     "text": [
      "13:17:40.349 DEBUG org.hibernate.SQL - select count(*)>0 from CUSTOMER c1_0 where c1_0.email=?\n"
     ]
    },
    {
     "name": "stdout",
     "output_type": "stream",
     "text": [
      "13:17:40.350 DEBUG org.hibernate.SQL - insert into CUSTOMER (birthDate,creationDate,email,firstname,lastname,photo,status,version,ID) values (?,?,?,?,?,?,?,?,?)\n"
     ]
    },
    {
     "name": "stdout",
     "output_type": "stream",
     "text": [
      "13:17:40.350 DEBUG org.hibernate.SQL - select count(*)>0 from CUSTOMER c1_0 where c1_0.email=?\n"
     ]
    },
    {
     "name": "stdout",
     "output_type": "stream",
     "text": [
      "13:17:40.350 DEBUG org.hibernate.SQL - insert into CUSTOMER (birthDate,creationDate,email,firstname,lastname,photo,status,version,ID) values (?,?,?,?,?,?,?,?,?)\n"
     ]
    },
    {
     "name": "stdout",
     "output_type": "stream",
     "text": [
      "13:17:40.350 DEBUG org.hibernate.SQL - select count(*)>0 from CUSTOMER c1_0 where c1_0.email=?\n"
     ]
    },
    {
     "name": "stdout",
     "output_type": "stream",
     "text": [
      "13:17:40.351 DEBUG org.hibernate.SQL - insert into CUSTOMER (birthDate,creationDate,email,firstname,lastname,photo,status,version,ID) values (?,?,?,?,?,?,?,?,?)\n"
     ]
    },
    {
     "name": "stdout",
     "output_type": "stream",
     "text": [
      "13:17:40.351 DEBUG org.hibernate.SQL - select count(*)>0 from CUSTOMER c1_0 where c1_0.email=?\n"
     ]
    },
    {
     "name": "stdout",
     "output_type": "stream",
     "text": [
      "13:17:40.352 DEBUG org.hibernate.SQL - insert into CUSTOMER (birthDate,creationDate,email,firstname,lastname,photo,status,version,ID) values (?,?,?,?,?,?,?,?,?)\n"
     ]
    },
    {
     "name": "stdout",
     "output_type": "stream",
     "text": [
      "13:17:40.352 DEBUG org.hibernate.SQL - select count(*)>0 from CUSTOMER c1_0 where c1_0.email=?\n"
     ]
    },
    {
     "name": "stdout",
     "output_type": "stream",
     "text": [
      "13:17:40.352 DEBUG org.hibernate.SQL - insert into CUSTOMER (birthDate,creationDate,email,firstname,lastname,photo,status,version,ID) values (?,?,?,?,?,?,?,?,?)\n"
     ]
    },
    {
     "name": "stdout",
     "output_type": "stream",
     "text": [
      "13:17:40.352 DEBUG org.hibernate.SQL - select count(*)>0 from CUSTOMER c1_0 where c1_0.email=?\n"
     ]
    },
    {
     "name": "stdout",
     "output_type": "stream",
     "text": [
      "13:17:40.353 DEBUG org.hibernate.SQL - insert into CUSTOMER (birthDate,creationDate,email,firstname,lastname,photo,status,version,ID) values (?,?,?,?,?,?,?,?,?)\n"
     ]
    },
    {
     "name": "stdout",
     "output_type": "stream",
     "text": [
      "13:17:40.353 DEBUG org.hibernate.SQL - select count(*)>0 from CUSTOMER c1_0 where c1_0.email=?\n"
     ]
    },
    {
     "name": "stdout",
     "output_type": "stream",
     "text": [
      "13:17:40.353 DEBUG org.hibernate.SQL - insert into CUSTOMER (birthDate,creationDate,email,firstname,lastname,photo,status,version,ID) values (?,?,?,?,?,?,?,?,?)\n"
     ]
    },
    {
     "name": "stdout",
     "output_type": "stream",
     "text": [
      "13:17:40.353 DEBUG org.hibernate.SQL - select count(*)>0 from CUSTOMER c1_0 where c1_0.email=?\n"
     ]
    },
    {
     "name": "stdout",
     "output_type": "stream",
     "text": [
      "13:17:40.354 DEBUG org.hibernate.SQL - insert into CUSTOMER (birthDate,creationDate,email,firstname,lastname,photo,status,version,ID) values (?,?,?,?,?,?,?,?,?)\n"
     ]
    },
    {
     "name": "stdout",
     "output_type": "stream",
     "text": [
      "13:17:40.354 DEBUG org.hibernate.SQL - select count(*)>0 from CUSTOMER c1_0 where c1_0.email=?\n"
     ]
    },
    {
     "name": "stdout",
     "output_type": "stream",
     "text": [
      "13:17:40.355 DEBUG org.hibernate.SQL - insert into CUSTOMER (birthDate,creationDate,email,firstname,lastname,photo,status,version,ID) values (?,?,?,?,?,?,?,?,?)\n"
     ]
    },
    {
     "name": "stdout",
     "output_type": "stream",
     "text": [
      "13:17:40.355 DEBUG org.hibernate.SQL - select count(*)>0 from CUSTOMER c1_0 where c1_0.email=?\n"
     ]
    },
    {
     "name": "stdout",
     "output_type": "stream",
     "text": [
      "13:17:40.355 DEBUG org.hibernate.SQL - insert into CUSTOMER (birthDate,creationDate,email,firstname,lastname,photo,status,version,ID) values (?,?,?,?,?,?,?,?,?)\n"
     ]
    },
    {
     "name": "stdout",
     "output_type": "stream",
     "text": [
      "13:17:40.355 DEBUG org.hibernate.SQL - select count(*)>0 from CUSTOMER c1_0 where c1_0.email=?\n"
     ]
    },
    {
     "name": "stdout",
     "output_type": "stream",
     "text": [
      "13:17:40.356 DEBUG org.hibernate.SQL - insert into CUSTOMER (birthDate,creationDate,email,firstname,lastname,photo,status,version,ID) values (?,?,?,?,?,?,?,?,?)\n"
     ]
    },
    {
     "name": "stdout",
     "output_type": "stream",
     "text": [
      "13:17:40.356 DEBUG org.hibernate.SQL - select count(*)>0 from CUSTOMER c1_0 where c1_0.email=?\n"
     ]
    },
    {
     "name": "stdout",
     "output_type": "stream",
     "text": [
      "13:17:40.356 DEBUG org.hibernate.SQL - insert into CUSTOMER (birthDate,creationDate,email,firstname,lastname,photo,status,version,ID) values (?,?,?,?,?,?,?,?,?)\n"
     ]
    },
    {
     "name": "stdout",
     "output_type": "stream",
     "text": [
      "13:17:40.356 DEBUG org.hibernate.SQL - select count(*)>0 from CUSTOMER c1_0 where c1_0.email=?\n"
     ]
    },
    {
     "name": "stdout",
     "output_type": "stream",
     "text": [
      "13:17:40.357 DEBUG org.hibernate.SQL - insert into CUSTOMER (birthDate,creationDate,email,firstname,lastname,photo,status,version,ID) values (?,?,?,?,?,?,?,?,?)\n"
     ]
    },
    {
     "name": "stdout",
     "output_type": "stream",
     "text": [
      "13:17:40.357 DEBUG org.hibernate.SQL - select count(*)>0 from CUSTOMER c1_0 where c1_0.email=?\n"
     ]
    },
    {
     "name": "stdout",
     "output_type": "stream",
     "text": [
      "13:17:40.357 DEBUG org.hibernate.SQL - insert into CUSTOMER (birthDate,creationDate,email,firstname,lastname,photo,status,version,ID) values (?,?,?,?,?,?,?,?,?)\n"
     ]
    },
    {
     "name": "stdout",
     "output_type": "stream",
     "text": [
      "13:17:40.357 DEBUG org.hibernate.SQL - select count(*)>0 from CUSTOMER c1_0 where c1_0.email=?\n"
     ]
    },
    {
     "name": "stdout",
     "output_type": "stream",
     "text": [
      "13:17:40.358 DEBUG org.hibernate.SQL - select nextval('CUSTOMER_SEQ')\n"
     ]
    },
    {
     "name": "stdout",
     "output_type": "stream",
     "text": [
      "13:17:40.358 DEBUG org.hibernate.SQL - insert into CUSTOMER (birthDate,creationDate,email,firstname,lastname,photo,status,version,ID) values (?,?,?,?,?,?,?,?,?)\n"
     ]
    },
    {
     "name": "stdout",
     "output_type": "stream",
     "text": [
      "13:17:40.358 DEBUG org.hibernate.SQL - select count(*)>0 from CUSTOMER c1_0 where c1_0.email=?\n"
     ]
    },
    {
     "name": "stdout",
     "output_type": "stream",
     "text": [
      "13:17:40.358 DEBUG org.hibernate.SQL - insert into CUSTOMER (birthDate,creationDate,email,firstname,lastname,photo,status,version,ID) values (?,?,?,?,?,?,?,?,?)\n"
     ]
    },
    {
     "name": "stdout",
     "output_type": "stream",
     "text": [
      "13:17:40.359 DEBUG org.hibernate.SQL - select count(*)>0 from CUSTOMER c1_0 where c1_0.email=?\n"
     ]
    },
    {
     "name": "stdout",
     "output_type": "stream",
     "text": [
      "13:17:40.359 DEBUG org.hibernate.SQL - insert into CUSTOMER (birthDate,creationDate,email,firstname,lastname,photo,status,version,ID) values (?,?,?,?,?,?,?,?,?)\n"
     ]
    },
    {
     "name": "stdout",
     "output_type": "stream",
     "text": [
      "13:17:40.359 DEBUG org.hibernate.SQL - select count(*)>0 from CUSTOMER c1_0 where c1_0.email=?\n"
     ]
    },
    {
     "name": "stdout",
     "output_type": "stream",
     "text": [
      "13:17:40.360 DEBUG org.hibernate.SQL - insert into CUSTOMER (birthDate,creationDate,email,firstname,lastname,photo,status,version,ID) values (?,?,?,?,?,?,?,?,?)\n"
     ]
    },
    {
     "name": "stdout",
     "output_type": "stream",
     "text": [
      "13:17:40.360 DEBUG org.hibernate.SQL - select count(*)>0 from CUSTOMER c1_0 where c1_0.email=?\n"
     ]
    },
    {
     "name": "stdout",
     "output_type": "stream",
     "text": [
      "13:17:40.360 DEBUG org.hibernate.SQL - insert into CUSTOMER (birthDate,creationDate,email,firstname,lastname,photo,status,version,ID) values (?,?,?,?,?,?,?,?,?)\n"
     ]
    },
    {
     "name": "stdout",
     "output_type": "stream",
     "text": [
      "13:17:40.360 DEBUG org.hibernate.SQL - select count(*)>0 from CUSTOMER c1_0 where c1_0.email=?\n"
     ]
    },
    {
     "name": "stdout",
     "output_type": "stream",
     "text": [
      "13:17:40.361 DEBUG org.hibernate.SQL - insert into CUSTOMER (birthDate,creationDate,email,firstname,lastname,photo,status,version,ID) values (?,?,?,?,?,?,?,?,?)\n"
     ]
    },
    {
     "name": "stdout",
     "output_type": "stream",
     "text": [
      "13:17:40.361 DEBUG org.hibernate.SQL - select count(*)>0 from CUSTOMER c1_0 where c1_0.email=?\n"
     ]
    },
    {
     "name": "stdout",
     "output_type": "stream",
     "text": [
      "13:17:40.361 DEBUG org.hibernate.SQL - insert into CUSTOMER (birthDate,creationDate,email,firstname,lastname,photo,status,version,ID) values (?,?,?,?,?,?,?,?,?)\n"
     ]
    },
    {
     "name": "stdout",
     "output_type": "stream",
     "text": [
      "13:17:40.361 DEBUG org.hibernate.SQL - select count(*)>0 from CUSTOMER c1_0 where c1_0.email=?\n"
     ]
    },
    {
     "name": "stdout",
     "output_type": "stream",
     "text": [
      "13:17:40.362 DEBUG org.hibernate.SQL - insert into CUSTOMER (birthDate,creationDate,email,firstname,lastname,photo,status,version,ID) values (?,?,?,?,?,?,?,?,?)\n"
     ]
    },
    {
     "name": "stdout",
     "output_type": "stream",
     "text": [
      "13:17:40.362 DEBUG org.hibernate.SQL - select count(*)>0 from CUSTOMER c1_0 where c1_0.email=?\n"
     ]
    },
    {
     "name": "stdout",
     "output_type": "stream",
     "text": [
      "13:17:40.362 DEBUG org.hibernate.SQL - insert into CUSTOMER (birthDate,creationDate,email,firstname,lastname,photo,status,version,ID) values (?,?,?,?,?,?,?,?,?)\n"
     ]
    },
    {
     "name": "stdout",
     "output_type": "stream",
     "text": [
      "13:17:40.362 DEBUG org.hibernate.SQL - select count(*)>0 from CUSTOMER c1_0 where c1_0.email=?\n"
     ]
    },
    {
     "name": "stdout",
     "output_type": "stream",
     "text": [
      "13:17:40.363 DEBUG org.hibernate.SQL - insert into CUSTOMER (birthDate,creationDate,email,firstname,lastname,photo,status,version,ID) values (?,?,?,?,?,?,?,?,?)\n"
     ]
    },
    {
     "name": "stdout",
     "output_type": "stream",
     "text": [
      "13:17:40.363 DEBUG org.hibernate.SQL - select count(*)>0 from CUSTOMER c1_0 where c1_0.email=?\n"
     ]
    },
    {
     "name": "stdout",
     "output_type": "stream",
     "text": [
      "13:17:40.363 DEBUG org.hibernate.SQL - insert into CUSTOMER (birthDate,creationDate,email,firstname,lastname,photo,status,version,ID) values (?,?,?,?,?,?,?,?,?)\n"
     ]
    },
    {
     "name": "stdout",
     "output_type": "stream",
     "text": [
      "13:17:40.363 DEBUG org.hibernate.SQL - select count(*)>0 from CUSTOMER c1_0 where c1_0.email=?\n"
     ]
    },
    {
     "name": "stdout",
     "output_type": "stream",
     "text": [
      "13:17:40.364 DEBUG org.hibernate.SQL - insert into CUSTOMER (birthDate,creationDate,email,firstname,lastname,photo,status,version,ID) values (?,?,?,?,?,?,?,?,?)\n"
     ]
    },
    {
     "name": "stdout",
     "output_type": "stream",
     "text": [
      "13:17:40.364 DEBUG org.hibernate.SQL - select count(*)>0 from CUSTOMER c1_0 where c1_0.email=?\n"
     ]
    },
    {
     "name": "stdout",
     "output_type": "stream",
     "text": [
      "13:17:40.364 DEBUG org.hibernate.SQL - insert into CUSTOMER (birthDate,creationDate,email,firstname,lastname,photo,status,version,ID) values (?,?,?,?,?,?,?,?,?)\n"
     ]
    },
    {
     "name": "stdout",
     "output_type": "stream",
     "text": [
      "13:17:40.364 DEBUG org.hibernate.SQL - select count(*)>0 from CUSTOMER c1_0 where c1_0.email=?\n"
     ]
    },
    {
     "name": "stdout",
     "output_type": "stream",
     "text": [
      "13:17:40.365 DEBUG org.hibernate.SQL - insert into CUSTOMER (birthDate,creationDate,email,firstname,lastname,photo,status,version,ID) values (?,?,?,?,?,?,?,?,?)\n"
     ]
    },
    {
     "name": "stdout",
     "output_type": "stream",
     "text": [
      "13:17:40.365 DEBUG org.hibernate.SQL - select count(*)>0 from CUSTOMER c1_0 where c1_0.email=?\n"
     ]
    },
    {
     "name": "stdout",
     "output_type": "stream",
     "text": [
      "13:17:40.365 DEBUG org.hibernate.SQL - insert into CUSTOMER (birthDate,creationDate,email,firstname,lastname,photo,status,version,ID) values (?,?,?,?,?,?,?,?,?)\n"
     ]
    },
    {
     "name": "stdout",
     "output_type": "stream",
     "text": [
      "13:17:40.365 DEBUG org.hibernate.SQL - select count(*)>0 from CUSTOMER c1_0 where c1_0.email=?\n"
     ]
    },
    {
     "name": "stdout",
     "output_type": "stream",
     "text": [
      "13:17:40.366 DEBUG org.hibernate.SQL - insert into CUSTOMER (birthDate,creationDate,email,firstname,lastname,photo,status,version,ID) values (?,?,?,?,?,?,?,?,?)\n"
     ]
    },
    {
     "name": "stdout",
     "output_type": "stream",
     "text": [
      "13:17:40.366 DEBUG org.hibernate.SQL - select count(*)>0 from CUSTOMER c1_0 where c1_0.email=?\n"
     ]
    },
    {
     "name": "stdout",
     "output_type": "stream",
     "text": [
      "13:17:40.367 DEBUG org.hibernate.SQL - insert into CUSTOMER (birthDate,creationDate,email,firstname,lastname,photo,status,version,ID) values (?,?,?,?,?,?,?,?,?)\n"
     ]
    },
    {
     "name": "stdout",
     "output_type": "stream",
     "text": [
      "13:17:40.367 DEBUG org.hibernate.SQL - select count(*)>0 from CUSTOMER c1_0 where c1_0.email=?\n"
     ]
    },
    {
     "name": "stdout",
     "output_type": "stream",
     "text": [
      "13:17:40.367 DEBUG org.hibernate.SQL - insert into CUSTOMER (birthDate,creationDate,email,firstname,lastname,photo,status,version,ID) values (?,?,?,?,?,?,?,?,?)\n"
     ]
    },
    {
     "name": "stdout",
     "output_type": "stream",
     "text": [
      "13:17:40.367 DEBUG org.hibernate.SQL - select count(*)>0 from CUSTOMER c1_0 where c1_0.email=?\n"
     ]
    },
    {
     "name": "stdout",
     "output_type": "stream",
     "text": [
      "13:17:40.368 DEBUG org.hibernate.SQL - insert into CUSTOMER (birthDate,creationDate,email,firstname,lastname,photo,status,version,ID) values (?,?,?,?,?,?,?,?,?)\n"
     ]
    },
    {
     "name": "stdout",
     "output_type": "stream",
     "text": [
      "13:17:40.368 DEBUG org.hibernate.SQL - select count(*)>0 from CUSTOMER c1_0 where c1_0.email=?\n"
     ]
    },
    {
     "name": "stdout",
     "output_type": "stream",
     "text": [
      "13:17:40.368 DEBUG org.hibernate.SQL - insert into CUSTOMER (birthDate,creationDate,email,firstname,lastname,photo,status,version,ID) values (?,?,?,?,?,?,?,?,?)\n"
     ]
    },
    {
     "name": "stdout",
     "output_type": "stream",
     "text": [
      "13:17:40.368 DEBUG org.hibernate.SQL - select count(*)>0 from CUSTOMER c1_0 where c1_0.email=?\n"
     ]
    },
    {
     "name": "stdout",
     "output_type": "stream",
     "text": [
      "13:17:40.369 DEBUG org.hibernate.SQL - insert into CUSTOMER (birthDate,creationDate,email,firstname,lastname,photo,status,version,ID) values (?,?,?,?,?,?,?,?,?)\n"
     ]
    },
    {
     "name": "stdout",
     "output_type": "stream",
     "text": [
      "13:17:40.369 DEBUG org.hibernate.SQL - select count(*)>0 from CUSTOMER c1_0 where c1_0.email=?\n"
     ]
    },
    {
     "name": "stdout",
     "output_type": "stream",
     "text": [
      "13:17:40.369 DEBUG org.hibernate.SQL - insert into CUSTOMER (birthDate,creationDate,email,firstname,lastname,photo,status,version,ID) values (?,?,?,?,?,?,?,?,?)\n"
     ]
    },
    {
     "name": "stdout",
     "output_type": "stream",
     "text": [
      "13:17:40.369 DEBUG org.hibernate.SQL - select count(*)>0 from CUSTOMER c1_0 where c1_0.email=?\n"
     ]
    },
    {
     "name": "stdout",
     "output_type": "stream",
     "text": [
      "13:17:40.370 DEBUG org.hibernate.SQL - insert into CUSTOMER (birthDate,creationDate,email,firstname,lastname,photo,status,version,ID) values (?,?,?,?,?,?,?,?,?)\n"
     ]
    },
    {
     "name": "stdout",
     "output_type": "stream",
     "text": [
      "13:17:40.370 DEBUG org.hibernate.SQL - select count(*)>0 from CUSTOMER c1_0 where c1_0.email=?\n"
     ]
    },
    {
     "name": "stdout",
     "output_type": "stream",
     "text": [
      "13:17:40.370 DEBUG org.hibernate.SQL - insert into CUSTOMER (birthDate,creationDate,email,firstname,lastname,photo,status,version,ID) values (?,?,?,?,?,?,?,?,?)\n"
     ]
    },
    {
     "name": "stdout",
     "output_type": "stream",
     "text": [
      "13:17:40.370 DEBUG org.hibernate.SQL - select count(*)>0 from CUSTOMER c1_0 where c1_0.email=?\n"
     ]
    },
    {
     "name": "stdout",
     "output_type": "stream",
     "text": [
      "13:17:40.371 DEBUG org.hibernate.SQL - insert into CUSTOMER (birthDate,creationDate,email,firstname,lastname,photo,status,version,ID) values (?,?,?,?,?,?,?,?,?)\n"
     ]
    },
    {
     "name": "stdout",
     "output_type": "stream",
     "text": [
      "13:17:40.371 DEBUG org.hibernate.SQL - select count(*)>0 from CUSTOMER c1_0 where c1_0.email=?\n"
     ]
    },
    {
     "name": "stdout",
     "output_type": "stream",
     "text": [
      "13:17:40.371 DEBUG org.hibernate.SQL - insert into CUSTOMER (birthDate,creationDate,email,firstname,lastname,photo,status,version,ID) values (?,?,?,?,?,?,?,?,?)\n"
     ]
    },
    {
     "name": "stdout",
     "output_type": "stream",
     "text": [
      "13:17:40.372 DEBUG org.hibernate.SQL - select count(*)>0 from CUSTOMER c1_0 where c1_0.email=?\n"
     ]
    },
    {
     "name": "stdout",
     "output_type": "stream",
     "text": [
      "13:17:40.372 DEBUG org.hibernate.SQL - insert into CUSTOMER (birthDate,creationDate,email,firstname,lastname,photo,status,version,ID) values (?,?,?,?,?,?,?,?,?)\n"
     ]
    },
    {
     "name": "stdout",
     "output_type": "stream",
     "text": [
      "13:17:40.372 DEBUG org.hibernate.SQL - select count(*)>0 from CUSTOMER c1_0 where c1_0.email=?\n"
     ]
    },
    {
     "name": "stdout",
     "output_type": "stream",
     "text": [
      "13:17:40.372 DEBUG org.hibernate.SQL - insert into CUSTOMER (birthDate,creationDate,email,firstname,lastname,photo,status,version,ID) values (?,?,?,?,?,?,?,?,?)\n"
     ]
    },
    {
     "name": "stdout",
     "output_type": "stream",
     "text": [
      "13:17:40.373 DEBUG org.hibernate.SQL - select count(*)>0 from CUSTOMER c1_0 where c1_0.email=?\n"
     ]
    },
    {
     "name": "stdout",
     "output_type": "stream",
     "text": [
      "13:17:40.373 DEBUG org.hibernate.SQL - insert into CUSTOMER (birthDate,creationDate,email,firstname,lastname,photo,status,version,ID) values (?,?,?,?,?,?,?,?,?)\n"
     ]
    },
    {
     "name": "stdout",
     "output_type": "stream",
     "text": [
      "13:17:40.373 DEBUG org.hibernate.SQL - select count(*)>0 from CUSTOMER c1_0 where c1_0.email=?\n"
     ]
    },
    {
     "name": "stdout",
     "output_type": "stream",
     "text": [
      "13:17:40.374 DEBUG org.hibernate.SQL - insert into CUSTOMER (birthDate,creationDate,email,firstname,lastname,photo,status,version,ID) values (?,?,?,?,?,?,?,?,?)\n"
     ]
    },
    {
     "name": "stdout",
     "output_type": "stream",
     "text": [
      "13:17:40.374 DEBUG org.hibernate.SQL - select count(*)>0 from CUSTOMER c1_0 where c1_0.email=?\n"
     ]
    },
    {
     "name": "stdout",
     "output_type": "stream",
     "text": [
      "13:17:40.374 DEBUG org.hibernate.SQL - insert into CUSTOMER (birthDate,creationDate,email,firstname,lastname,photo,status,version,ID) values (?,?,?,?,?,?,?,?,?)\n"
     ]
    },
    {
     "name": "stdout",
     "output_type": "stream",
     "text": [
      "13:17:40.374 DEBUG org.hibernate.SQL - select count(*)>0 from CUSTOMER c1_0 where c1_0.email=?\n"
     ]
    },
    {
     "name": "stdout",
     "output_type": "stream",
     "text": [
      "13:17:40.375 DEBUG org.hibernate.SQL - insert into CUSTOMER (birthDate,creationDate,email,firstname,lastname,photo,status,version,ID) values (?,?,?,?,?,?,?,?,?)\n"
     ]
    },
    {
     "name": "stdout",
     "output_type": "stream",
     "text": [
      "13:17:40.375 DEBUG org.hibernate.SQL - select count(*)>0 from CUSTOMER c1_0 where c1_0.email=?\n"
     ]
    },
    {
     "name": "stdout",
     "output_type": "stream",
     "text": [
      "13:17:40.375 DEBUG org.hibernate.SQL - insert into CUSTOMER (birthDate,creationDate,email,firstname,lastname,photo,status,version,ID) values (?,?,?,?,?,?,?,?,?)\n"
     ]
    },
    {
     "name": "stdout",
     "output_type": "stream",
     "text": [
      "13:17:40.376 DEBUG org.hibernate.SQL - select count(*)>0 from CUSTOMER c1_0 where c1_0.email=?\n"
     ]
    },
    {
     "name": "stdout",
     "output_type": "stream",
     "text": [
      "13:17:40.376 DEBUG org.hibernate.SQL - insert into CUSTOMER (birthDate,creationDate,email,firstname,lastname,photo,status,version,ID) values (?,?,?,?,?,?,?,?,?)\n"
     ]
    },
    {
     "name": "stdout",
     "output_type": "stream",
     "text": [
      "13:17:40.376 DEBUG org.hibernate.SQL - select count(*)>0 from CUSTOMER c1_0 where c1_0.email=?\n"
     ]
    },
    {
     "name": "stdout",
     "output_type": "stream",
     "text": [
      "13:17:40.377 DEBUG org.hibernate.SQL - insert into CUSTOMER (birthDate,creationDate,email,firstname,lastname,photo,status,version,ID) values (?,?,?,?,?,?,?,?,?)\n"
     ]
    },
    {
     "name": "stdout",
     "output_type": "stream",
     "text": [
      "13:17:40.377 DEBUG org.hibernate.SQL - select count(*)>0 from CUSTOMER c1_0 where c1_0.email=?\n"
     ]
    },
    {
     "name": "stdout",
     "output_type": "stream",
     "text": [
      "13:17:40.377 DEBUG org.hibernate.SQL - insert into CUSTOMER (birthDate,creationDate,email,firstname,lastname,photo,status,version,ID) values (?,?,?,?,?,?,?,?,?)\n"
     ]
    },
    {
     "name": "stdout",
     "output_type": "stream",
     "text": [
      "13:17:40.377 DEBUG org.hibernate.SQL - select count(*)>0 from CUSTOMER c1_0 where c1_0.email=?\n"
     ]
    },
    {
     "name": "stdout",
     "output_type": "stream",
     "text": [
      "13:17:40.378 DEBUG org.hibernate.SQL - insert into CUSTOMER (birthDate,creationDate,email,firstname,lastname,photo,status,version,ID) values (?,?,?,?,?,?,?,?,?)\n"
     ]
    },
    {
     "name": "stdout",
     "output_type": "stream",
     "text": [
      "13:17:40.378 DEBUG org.hibernate.SQL - select count(*)>0 from CUSTOMER c1_0 where c1_0.email=?\n"
     ]
    },
    {
     "name": "stdout",
     "output_type": "stream",
     "text": [
      "13:17:40.378 DEBUG org.hibernate.SQL - insert into CUSTOMER (birthDate,creationDate,email,firstname,lastname,photo,status,version,ID) values (?,?,?,?,?,?,?,?,?)\n"
     ]
    },
    {
     "name": "stdout",
     "output_type": "stream",
     "text": [
      "13:17:40.378 DEBUG org.hibernate.SQL - select count(*)>0 from CUSTOMER c1_0 where c1_0.email=?\n"
     ]
    },
    {
     "name": "stdout",
     "output_type": "stream",
     "text": [
      "13:17:40.379 DEBUG org.hibernate.SQL - insert into CUSTOMER (birthDate,creationDate,email,firstname,lastname,photo,status,version,ID) values (?,?,?,?,?,?,?,?,?)\n"
     ]
    },
    {
     "name": "stdout",
     "output_type": "stream",
     "text": [
      "13:17:40.379 DEBUG org.hibernate.SQL - select count(*)>0 from CUSTOMER c1_0 where c1_0.email=?\n"
     ]
    },
    {
     "name": "stdout",
     "output_type": "stream",
     "text": [
      "13:17:40.379 DEBUG org.hibernate.SQL - insert into CUSTOMER (birthDate,creationDate,email,firstname,lastname,photo,status,version,ID) values (?,?,?,?,?,?,?,?,?)\n"
     ]
    },
    {
     "name": "stdout",
     "output_type": "stream",
     "text": [
      "13:17:40.380 DEBUG org.hibernate.SQL - select count(*)>0 from CUSTOMER c1_0 where c1_0.email=?\n"
     ]
    },
    {
     "name": "stdout",
     "output_type": "stream",
     "text": [
      "13:17:40.380 DEBUG org.hibernate.SQL - insert into CUSTOMER (birthDate,creationDate,email,firstname,lastname,photo,status,version,ID) values (?,?,?,?,?,?,?,?,?)\n"
     ]
    },
    {
     "name": "stdout",
     "output_type": "stream",
     "text": [
      "13:17:40.380 DEBUG org.hibernate.SQL - select count(*)>0 from CUSTOMER c1_0 where c1_0.email=?\n"
     ]
    },
    {
     "name": "stdout",
     "output_type": "stream",
     "text": [
      "13:17:40.381 DEBUG org.hibernate.SQL - insert into CUSTOMER (birthDate,creationDate,email,firstname,lastname,photo,status,version,ID) values (?,?,?,?,?,?,?,?,?)\n"
     ]
    },
    {
     "name": "stdout",
     "output_type": "stream",
     "text": [
      "13:17:40.381 DEBUG org.hibernate.SQL - select count(*)>0 from CUSTOMER c1_0 where c1_0.email=?\n"
     ]
    },
    {
     "name": "stdout",
     "output_type": "stream",
     "text": [
      "13:17:40.381 DEBUG org.hibernate.SQL - insert into CUSTOMER (birthDate,creationDate,email,firstname,lastname,photo,status,version,ID) values (?,?,?,?,?,?,?,?,?)\n"
     ]
    },
    {
     "name": "stdout",
     "output_type": "stream",
     "text": [
      "13:17:40.381 DEBUG org.hibernate.SQL - select count(*)>0 from CUSTOMER c1_0 where c1_0.email=?\n"
     ]
    },
    {
     "name": "stdout",
     "output_type": "stream",
     "text": [
      "13:17:40.382 DEBUG org.hibernate.SQL - insert into CUSTOMER (birthDate,creationDate,email,firstname,lastname,photo,status,version,ID) values (?,?,?,?,?,?,?,?,?)\n"
     ]
    },
    {
     "name": "stdout",
     "output_type": "stream",
     "text": [
      "13:17:40.382 DEBUG org.hibernate.SQL - select count(*)>0 from CUSTOMER c1_0 where c1_0.email=?\n"
     ]
    },
    {
     "name": "stdout",
     "output_type": "stream",
     "text": [
      "13:17:40.382 DEBUG org.hibernate.SQL - insert into CUSTOMER (birthDate,creationDate,email,firstname,lastname,photo,status,version,ID) values (?,?,?,?,?,?,?,?,?)\n"
     ]
    },
    {
     "name": "stdout",
     "output_type": "stream",
     "text": [
      "13:17:40.382 DEBUG org.hibernate.SQL - select count(*)>0 from CUSTOMER c1_0 where c1_0.email=?\n"
     ]
    },
    {
     "name": "stdout",
     "output_type": "stream",
     "text": [
      "13:17:40.383 DEBUG org.hibernate.SQL - insert into CUSTOMER (birthDate,creationDate,email,firstname,lastname,photo,status,version,ID) values (?,?,?,?,?,?,?,?,?)\n"
     ]
    },
    {
     "name": "stdout",
     "output_type": "stream",
     "text": [
      "13:17:40.383 DEBUG org.hibernate.SQL - select count(*)>0 from CUSTOMER c1_0 where c1_0.email=?\n"
     ]
    },
    {
     "name": "stdout",
     "output_type": "stream",
     "text": [
      "13:17:40.383 DEBUG org.hibernate.SQL - insert into CUSTOMER (birthDate,creationDate,email,firstname,lastname,photo,status,version,ID) values (?,?,?,?,?,?,?,?,?)\n"
     ]
    },
    {
     "name": "stdout",
     "output_type": "stream",
     "text": [
      "13:17:40.383 DEBUG org.hibernate.SQL - select count(*)>0 from CUSTOMER c1_0 where c1_0.email=?\n"
     ]
    },
    {
     "name": "stdout",
     "output_type": "stream",
     "text": [
      "13:17:40.384 DEBUG org.hibernate.SQL - insert into CUSTOMER (birthDate,creationDate,email,firstname,lastname,photo,status,version,ID) values (?,?,?,?,?,?,?,?,?)\n"
     ]
    },
    {
     "name": "stdout",
     "output_type": "stream",
     "text": [
      "13:17:40.384 DEBUG org.hibernate.SQL - select count(*)>0 from CUSTOMER c1_0 where c1_0.email=?\n"
     ]
    },
    {
     "name": "stdout",
     "output_type": "stream",
     "text": [
      "13:17:40.384 DEBUG org.hibernate.SQL - insert into CUSTOMER (birthDate,creationDate,email,firstname,lastname,photo,status,version,ID) values (?,?,?,?,?,?,?,?,?)\n"
     ]
    },
    {
     "name": "stdout",
     "output_type": "stream",
     "text": [
      "13:17:40.385 DEBUG org.hibernate.SQL - select count(*)>0 from CUSTOMER c1_0 where c1_0.email=?\n"
     ]
    },
    {
     "name": "stdout",
     "output_type": "stream",
     "text": [
      "13:17:40.385 DEBUG org.hibernate.SQL - insert into CUSTOMER (birthDate,creationDate,email,firstname,lastname,photo,status,version,ID) values (?,?,?,?,?,?,?,?,?)\n"
     ]
    },
    {
     "name": "stdout",
     "output_type": "stream",
     "text": [
      "13:17:40.385 DEBUG org.hibernate.SQL - select count(*)>0 from CUSTOMER c1_0 where c1_0.email=?\n"
     ]
    },
    {
     "name": "stdout",
     "output_type": "stream",
     "text": [
      "13:17:40.385 DEBUG org.hibernate.SQL - select nextval('CUSTOMER_SEQ')\n"
     ]
    },
    {
     "name": "stdout",
     "output_type": "stream",
     "text": [
      "13:17:40.386 DEBUG org.hibernate.SQL - insert into CUSTOMER (birthDate,creationDate,email,firstname,lastname,photo,status,version,ID) values (?,?,?,?,?,?,?,?,?)\n"
     ]
    },
    {
     "name": "stdout",
     "output_type": "stream",
     "text": [
      "13:17:40.386 DEBUG org.hibernate.SQL - select count(*)>0 from CUSTOMER c1_0 where c1_0.email=?\n"
     ]
    },
    {
     "name": "stdout",
     "output_type": "stream",
     "text": [
      "13:17:40.386 DEBUG org.hibernate.SQL - insert into CUSTOMER (birthDate,creationDate,email,firstname,lastname,photo,status,version,ID) values (?,?,?,?,?,?,?,?,?)\n"
     ]
    },
    {
     "name": "stdout",
     "output_type": "stream",
     "text": [
      "13:17:40.386 DEBUG org.hibernate.SQL - select count(*)>0 from CUSTOMER c1_0 where c1_0.email=?\n"
     ]
    },
    {
     "name": "stdout",
     "output_type": "stream",
     "text": [
      "13:17:40.387 DEBUG org.hibernate.SQL - insert into CUSTOMER (birthDate,creationDate,email,firstname,lastname,photo,status,version,ID) values (?,?,?,?,?,?,?,?,?)\n"
     ]
    },
    {
     "name": "stdout",
     "output_type": "stream",
     "text": [
      "13:17:40.387 DEBUG org.hibernate.SQL - select count(*)>0 from CUSTOMER c1_0 where c1_0.email=?\n"
     ]
    },
    {
     "name": "stdout",
     "output_type": "stream",
     "text": [
      "13:17:40.387 DEBUG org.hibernate.SQL - insert into CUSTOMER (birthDate,creationDate,email,firstname,lastname,photo,status,version,ID) values (?,?,?,?,?,?,?,?,?)\n"
     ]
    },
    {
     "name": "stdout",
     "output_type": "stream",
     "text": [
      "13:17:40.388 DEBUG org.hibernate.SQL - select count(*)>0 from CUSTOMER c1_0 where c1_0.email=?\n"
     ]
    },
    {
     "name": "stdout",
     "output_type": "stream",
     "text": [
      "13:17:40.388 DEBUG org.hibernate.SQL - insert into CUSTOMER (birthDate,creationDate,email,firstname,lastname,photo,status,version,ID) values (?,?,?,?,?,?,?,?,?)\n"
     ]
    },
    {
     "name": "stdout",
     "output_type": "stream",
     "text": [
      "13:17:40.388 DEBUG org.hibernate.SQL - select count(*)>0 from CUSTOMER c1_0 where c1_0.email=?\n"
     ]
    },
    {
     "name": "stdout",
     "output_type": "stream",
     "text": [
      "13:17:40.389 DEBUG org.hibernate.SQL - insert into CUSTOMER (birthDate,creationDate,email,firstname,lastname,photo,status,version,ID) values (?,?,?,?,?,?,?,?,?)\n"
     ]
    },
    {
     "name": "stdout",
     "output_type": "stream",
     "text": [
      "13:17:40.389 DEBUG org.hibernate.SQL - select count(*)>0 from CUSTOMER c1_0 where c1_0.email=?\n"
     ]
    },
    {
     "name": "stdout",
     "output_type": "stream",
     "text": [
      "13:17:40.389 DEBUG org.hibernate.SQL - insert into CUSTOMER (birthDate,creationDate,email,firstname,lastname,photo,status,version,ID) values (?,?,?,?,?,?,?,?,?)\n"
     ]
    },
    {
     "name": "stdout",
     "output_type": "stream",
     "text": [
      "13:17:40.389 DEBUG org.hibernate.SQL - select count(*)>0 from CUSTOMER c1_0 where c1_0.email=?\n"
     ]
    },
    {
     "name": "stdout",
     "output_type": "stream",
     "text": [
      "13:17:40.390 DEBUG org.hibernate.SQL - insert into CUSTOMER (birthDate,creationDate,email,firstname,lastname,photo,status,version,ID) values (?,?,?,?,?,?,?,?,?)\n"
     ]
    },
    {
     "name": "stdout",
     "output_type": "stream",
     "text": [
      "13:17:40.390 DEBUG org.hibernate.SQL - select count(*)>0 from CUSTOMER c1_0 where c1_0.email=?\n"
     ]
    },
    {
     "name": "stdout",
     "output_type": "stream",
     "text": [
      "13:17:40.391 DEBUG org.hibernate.SQL - insert into CUSTOMER (birthDate,creationDate,email,firstname,lastname,photo,status,version,ID) values (?,?,?,?,?,?,?,?,?)\n"
     ]
    },
    {
     "name": "stdout",
     "output_type": "stream",
     "text": [
      "13:17:40.391 DEBUG org.hibernate.SQL - select count(*)>0 from CUSTOMER c1_0 where c1_0.email=?\n"
     ]
    },
    {
     "name": "stdout",
     "output_type": "stream",
     "text": [
      "13:17:40.391 DEBUG org.hibernate.SQL - insert into CUSTOMER (birthDate,creationDate,email,firstname,lastname,photo,status,version,ID) values (?,?,?,?,?,?,?,?,?)\n"
     ]
    },
    {
     "name": "stdout",
     "output_type": "stream",
     "text": [
      "13:17:40.391 DEBUG org.hibernate.SQL - select count(*)>0 from CUSTOMER c1_0 where c1_0.email=?\n"
     ]
    },
    {
     "name": "stdout",
     "output_type": "stream",
     "text": [
      "13:17:40.392 DEBUG org.hibernate.SQL - insert into CUSTOMER (birthDate,creationDate,email,firstname,lastname,photo,status,version,ID) values (?,?,?,?,?,?,?,?,?)\n"
     ]
    },
    {
     "name": "stdout",
     "output_type": "stream",
     "text": [
      "13:17:40.393 DEBUG org.hibernate.SQL - select count(*)>0 from CUSTOMER c1_0 where c1_0.email=?\n"
     ]
    },
    {
     "name": "stdout",
     "output_type": "stream",
     "text": [
      "13:17:40.394 DEBUG org.hibernate.SQL - insert into CUSTOMER (birthDate,creationDate,email,firstname,lastname,photo,status,version,ID) values (?,?,?,?,?,?,?,?,?)\n"
     ]
    },
    {
     "name": "stdout",
     "output_type": "stream",
     "text": [
      "13:17:40.395 DEBUG org.hibernate.SQL - select count(*)>0 from CUSTOMER c1_0 where c1_0.email=?\n"
     ]
    },
    {
     "name": "stdout",
     "output_type": "stream",
     "text": [
      "13:17:40.396 DEBUG org.hibernate.SQL - insert into CUSTOMER (birthDate,creationDate,email,firstname,lastname,photo,status,version,ID) values (?,?,?,?,?,?,?,?,?)\n"
     ]
    },
    {
     "name": "stdout",
     "output_type": "stream",
     "text": [
      "13:17:40.396 DEBUG org.hibernate.SQL - select count(*)>0 from CUSTOMER c1_0 where c1_0.email=?\n"
     ]
    },
    {
     "name": "stdout",
     "output_type": "stream",
     "text": [
      "13:17:40.397 DEBUG org.hibernate.SQL - insert into CUSTOMER (birthDate,creationDate,email,firstname,lastname,photo,status,version,ID) values (?,?,?,?,?,?,?,?,?)\n"
     ]
    },
    {
     "name": "stdout",
     "output_type": "stream",
     "text": [
      "13:17:40.397 DEBUG org.hibernate.SQL - select count(*)>0 from CUSTOMER c1_0 where c1_0.email=?\n"
     ]
    },
    {
     "name": "stdout",
     "output_type": "stream",
     "text": [
      "13:17:40.398 DEBUG org.hibernate.SQL - insert into CUSTOMER (birthDate,creationDate,email,firstname,lastname,photo,status,version,ID) values (?,?,?,?,?,?,?,?,?)\n"
     ]
    },
    {
     "name": "stdout",
     "output_type": "stream",
     "text": [
      "13:17:40.398 DEBUG org.hibernate.SQL - select count(*)>0 from CUSTOMER c1_0 where c1_0.email=?\n"
     ]
    },
    {
     "name": "stdout",
     "output_type": "stream",
     "text": [
      "13:17:40.400 DEBUG org.hibernate.SQL - insert into CUSTOMER (birthDate,creationDate,email,firstname,lastname,photo,status,version,ID) values (?,?,?,?,?,?,?,?,?)\n"
     ]
    },
    {
     "name": "stdout",
     "output_type": "stream",
     "text": [
      "13:17:40.400 DEBUG org.hibernate.SQL - select count(*)>0 from CUSTOMER c1_0 where c1_0.email=?\n"
     ]
    },
    {
     "name": "stdout",
     "output_type": "stream",
     "text": [
      "13:17:40.401 DEBUG org.hibernate.SQL - insert into CUSTOMER (birthDate,creationDate,email,firstname,lastname,photo,status,version,ID) values (?,?,?,?,?,?,?,?,?)\n"
     ]
    },
    {
     "name": "stdout",
     "output_type": "stream",
     "text": [
      "13:17:40.401 DEBUG org.hibernate.SQL - select count(*)>0 from CUSTOMER c1_0 where c1_0.email=?\n"
     ]
    },
    {
     "name": "stdout",
     "output_type": "stream",
     "text": [
      "13:17:40.402 DEBUG org.hibernate.SQL - insert into CUSTOMER (birthDate,creationDate,email,firstname,lastname,photo,status,version,ID) values (?,?,?,?,?,?,?,?,?)\n"
     ]
    },
    {
     "name": "stdout",
     "output_type": "stream",
     "text": [
      "13:17:40.402 DEBUG org.hibernate.SQL - select count(*)>0 from CUSTOMER c1_0 where c1_0.email=?\n"
     ]
    },
    {
     "name": "stdout",
     "output_type": "stream",
     "text": [
      "13:17:40.402 DEBUG org.hibernate.SQL - insert into CUSTOMER (birthDate,creationDate,email,firstname,lastname,photo,status,version,ID) values (?,?,?,?,?,?,?,?,?)\n"
     ]
    },
    {
     "name": "stdout",
     "output_type": "stream",
     "text": [
      "13:17:40.402 DEBUG org.hibernate.SQL - select count(*)>0 from CUSTOMER c1_0 where c1_0.email=?\n"
     ]
    },
    {
     "name": "stdout",
     "output_type": "stream",
     "text": [
      "13:17:40.403 DEBUG org.hibernate.SQL - insert into CUSTOMER (birthDate,creationDate,email,firstname,lastname,photo,status,version,ID) values (?,?,?,?,?,?,?,?,?)\n"
     ]
    },
    {
     "name": "stdout",
     "output_type": "stream",
     "text": [
      "13:17:40.403 DEBUG org.hibernate.SQL - select count(*)>0 from CUSTOMER c1_0 where c1_0.email=?\n"
     ]
    },
    {
     "name": "stdout",
     "output_type": "stream",
     "text": [
      "13:17:40.404 DEBUG org.hibernate.SQL - insert into CUSTOMER (birthDate,creationDate,email,firstname,lastname,photo,status,version,ID) values (?,?,?,?,?,?,?,?,?)\n"
     ]
    },
    {
     "name": "stdout",
     "output_type": "stream",
     "text": [
      "13:17:40.404 DEBUG org.hibernate.SQL - select count(*)>0 from CUSTOMER c1_0 where c1_0.email=?\n"
     ]
    },
    {
     "name": "stdout",
     "output_type": "stream",
     "text": [
      "13:17:40.404 DEBUG org.hibernate.SQL - insert into CUSTOMER (birthDate,creationDate,email,firstname,lastname,photo,status,version,ID) values (?,?,?,?,?,?,?,?,?)\n"
     ]
    },
    {
     "name": "stdout",
     "output_type": "stream",
     "text": [
      "13:17:40.405 DEBUG org.hibernate.SQL - select count(*)>0 from CUSTOMER c1_0 where c1_0.email=?\n"
     ]
    },
    {
     "name": "stdout",
     "output_type": "stream",
     "text": [
      "13:17:40.405 DEBUG org.hibernate.SQL - insert into CUSTOMER (birthDate,creationDate,email,firstname,lastname,photo,status,version,ID) values (?,?,?,?,?,?,?,?,?)\n"
     ]
    },
    {
     "name": "stdout",
     "output_type": "stream",
     "text": [
      "13:17:40.405 DEBUG org.hibernate.SQL - select count(*)>0 from CUSTOMER c1_0 where c1_0.email=?\n"
     ]
    },
    {
     "name": "stdout",
     "output_type": "stream",
     "text": [
      "13:17:40.406 DEBUG org.hibernate.SQL - insert into CUSTOMER (birthDate,creationDate,email,firstname,lastname,photo,status,version,ID) values (?,?,?,?,?,?,?,?,?)\n"
     ]
    },
    {
     "name": "stdout",
     "output_type": "stream",
     "text": [
      "13:17:40.406 DEBUG org.hibernate.SQL - select count(*)>0 from CUSTOMER c1_0 where c1_0.email=?\n"
     ]
    },
    {
     "name": "stdout",
     "output_type": "stream",
     "text": [
      "13:17:40.406 DEBUG org.hibernate.SQL - insert into CUSTOMER (birthDate,creationDate,email,firstname,lastname,photo,status,version,ID) values (?,?,?,?,?,?,?,?,?)\n"
     ]
    },
    {
     "name": "stdout",
     "output_type": "stream",
     "text": [
      "13:17:40.407 DEBUG org.hibernate.SQL - select count(*)>0 from CUSTOMER c1_0 where c1_0.email=?\n"
     ]
    },
    {
     "name": "stdout",
     "output_type": "stream",
     "text": [
      "13:17:40.407 DEBUG org.hibernate.SQL - insert into CUSTOMER (birthDate,creationDate,email,firstname,lastname,photo,status,version,ID) values (?,?,?,?,?,?,?,?,?)\n"
     ]
    },
    {
     "name": "stdout",
     "output_type": "stream",
     "text": [
      "13:17:40.407 DEBUG org.hibernate.SQL - select count(*)>0 from CUSTOMER c1_0 where c1_0.email=?\n"
     ]
    },
    {
     "name": "stdout",
     "output_type": "stream",
     "text": [
      "13:17:40.408 DEBUG org.hibernate.SQL - insert into CUSTOMER (birthDate,creationDate,email,firstname,lastname,photo,status,version,ID) values (?,?,?,?,?,?,?,?,?)\n"
     ]
    },
    {
     "name": "stdout",
     "output_type": "stream",
     "text": [
      "13:17:40.408 DEBUG org.hibernate.SQL - select count(*)>0 from CUSTOMER c1_0 where c1_0.email=?\n"
     ]
    },
    {
     "name": "stdout",
     "output_type": "stream",
     "text": [
      "13:17:40.409 DEBUG org.hibernate.SQL - insert into CUSTOMER (birthDate,creationDate,email,firstname,lastname,photo,status,version,ID) values (?,?,?,?,?,?,?,?,?)\n"
     ]
    },
    {
     "name": "stdout",
     "output_type": "stream",
     "text": [
      "13:17:40.409 DEBUG org.hibernate.SQL - select count(*)>0 from CUSTOMER c1_0 where c1_0.email=?\n"
     ]
    },
    {
     "name": "stdout",
     "output_type": "stream",
     "text": [
      "13:17:40.409 DEBUG org.hibernate.SQL - insert into CUSTOMER (birthDate,creationDate,email,firstname,lastname,photo,status,version,ID) values (?,?,?,?,?,?,?,?,?)\n"
     ]
    },
    {
     "name": "stdout",
     "output_type": "stream",
     "text": [
      "13:17:40.410 DEBUG org.hibernate.SQL - select count(*)>0 from CUSTOMER c1_0 where c1_0.email=?\n"
     ]
    },
    {
     "name": "stdout",
     "output_type": "stream",
     "text": [
      "13:17:40.410 DEBUG org.hibernate.SQL - insert into CUSTOMER (birthDate,creationDate,email,firstname,lastname,photo,status,version,ID) values (?,?,?,?,?,?,?,?,?)\n"
     ]
    },
    {
     "name": "stdout",
     "output_type": "stream",
     "text": [
      "13:17:40.410 DEBUG org.hibernate.SQL - select count(*)>0 from CUSTOMER c1_0 where c1_0.email=?\n"
     ]
    },
    {
     "name": "stdout",
     "output_type": "stream",
     "text": [
      "13:17:40.411 DEBUG org.hibernate.SQL - insert into CUSTOMER (birthDate,creationDate,email,firstname,lastname,photo,status,version,ID) values (?,?,?,?,?,?,?,?,?)\n"
     ]
    },
    {
     "name": "stdout",
     "output_type": "stream",
     "text": [
      "13:17:40.411 DEBUG org.hibernate.SQL - select count(*)>0 from CUSTOMER c1_0 where c1_0.email=?\n"
     ]
    },
    {
     "name": "stdout",
     "output_type": "stream",
     "text": [
      "13:17:40.412 DEBUG org.hibernate.SQL - insert into CUSTOMER (birthDate,creationDate,email,firstname,lastname,photo,status,version,ID) values (?,?,?,?,?,?,?,?,?)\n"
     ]
    },
    {
     "name": "stdout",
     "output_type": "stream",
     "text": [
      "13:17:40.412 DEBUG org.hibernate.SQL - select count(*)>0 from CUSTOMER c1_0 where c1_0.email=?\n"
     ]
    },
    {
     "name": "stdout",
     "output_type": "stream",
     "text": [
      "13:17:40.412 DEBUG org.hibernate.SQL - insert into CUSTOMER (birthDate,creationDate,email,firstname,lastname,photo,status,version,ID) values (?,?,?,?,?,?,?,?,?)\n"
     ]
    },
    {
     "name": "stdout",
     "output_type": "stream",
     "text": [
      "13:17:40.412 DEBUG org.hibernate.SQL - select count(*)>0 from CUSTOMER c1_0 where c1_0.email=?\n"
     ]
    },
    {
     "name": "stdout",
     "output_type": "stream",
     "text": [
      "13:17:40.413 DEBUG org.hibernate.SQL - insert into CUSTOMER (birthDate,creationDate,email,firstname,lastname,photo,status,version,ID) values (?,?,?,?,?,?,?,?,?)\n"
     ]
    },
    {
     "name": "stdout",
     "output_type": "stream",
     "text": [
      "13:17:40.413 DEBUG org.hibernate.SQL - select count(*)>0 from CUSTOMER c1_0 where c1_0.email=?\n"
     ]
    },
    {
     "name": "stdout",
     "output_type": "stream",
     "text": [
      "13:17:40.414 DEBUG org.hibernate.SQL - insert into CUSTOMER (birthDate,creationDate,email,firstname,lastname,photo,status,version,ID) values (?,?,?,?,?,?,?,?,?)\n"
     ]
    },
    {
     "name": "stdout",
     "output_type": "stream",
     "text": [
      "13:17:40.414 DEBUG org.hibernate.SQL - select count(*)>0 from CUSTOMER c1_0 where c1_0.email=?\n"
     ]
    },
    {
     "name": "stdout",
     "output_type": "stream",
     "text": [
      "13:17:40.414 DEBUG org.hibernate.SQL - insert into CUSTOMER (birthDate,creationDate,email,firstname,lastname,photo,status,version,ID) values (?,?,?,?,?,?,?,?,?)\n"
     ]
    },
    {
     "name": "stdout",
     "output_type": "stream",
     "text": [
      "13:17:40.414 DEBUG org.hibernate.SQL - select count(*)>0 from CUSTOMER c1_0 where c1_0.email=?\n"
     ]
    },
    {
     "name": "stdout",
     "output_type": "stream",
     "text": [
      "13:17:40.415 DEBUG org.hibernate.SQL - insert into CUSTOMER (birthDate,creationDate,email,firstname,lastname,photo,status,version,ID) values (?,?,?,?,?,?,?,?,?)\n"
     ]
    },
    {
     "name": "stdout",
     "output_type": "stream",
     "text": [
      "13:17:40.415 DEBUG org.hibernate.SQL - select count(*)>0 from CUSTOMER c1_0 where c1_0.email=?\n"
     ]
    },
    {
     "name": "stdout",
     "output_type": "stream",
     "text": [
      "13:17:40.416 DEBUG org.hibernate.SQL - insert into CUSTOMER (birthDate,creationDate,email,firstname,lastname,photo,status,version,ID) values (?,?,?,?,?,?,?,?,?)\n"
     ]
    },
    {
     "name": "stdout",
     "output_type": "stream",
     "text": [
      "13:17:40.416 DEBUG org.hibernate.SQL - select count(*)>0 from CUSTOMER c1_0 where c1_0.email=?\n"
     ]
    },
    {
     "name": "stdout",
     "output_type": "stream",
     "text": [
      "13:17:40.416 DEBUG org.hibernate.SQL - insert into CUSTOMER (birthDate,creationDate,email,firstname,lastname,photo,status,version,ID) values (?,?,?,?,?,?,?,?,?)\n"
     ]
    },
    {
     "name": "stdout",
     "output_type": "stream",
     "text": [
      "13:17:40.417 DEBUG org.hibernate.SQL - select count(*)>0 from CUSTOMER c1_0 where c1_0.email=?\n"
     ]
    },
    {
     "name": "stdout",
     "output_type": "stream",
     "text": [
      "13:17:40.417 DEBUG org.hibernate.SQL - insert into CUSTOMER (birthDate,creationDate,email,firstname,lastname,photo,status,version,ID) values (?,?,?,?,?,?,?,?,?)\n"
     ]
    },
    {
     "name": "stdout",
     "output_type": "stream",
     "text": [
      "13:17:40.417 DEBUG org.hibernate.SQL - select count(*)>0 from CUSTOMER c1_0 where c1_0.email=?\n"
     ]
    },
    {
     "name": "stdout",
     "output_type": "stream",
     "text": [
      "13:17:40.418 DEBUG org.hibernate.SQL - insert into CUSTOMER (birthDate,creationDate,email,firstname,lastname,photo,status,version,ID) values (?,?,?,?,?,?,?,?,?)\n"
     ]
    },
    {
     "name": "stdout",
     "output_type": "stream",
     "text": [
      "13:17:40.418 DEBUG org.hibernate.SQL - select count(*)>0 from CUSTOMER c1_0 where c1_0.email=?\n"
     ]
    },
    {
     "name": "stdout",
     "output_type": "stream",
     "text": [
      "13:17:40.418 DEBUG org.hibernate.SQL - insert into CUSTOMER (birthDate,creationDate,email,firstname,lastname,photo,status,version,ID) values (?,?,?,?,?,?,?,?,?)\n"
     ]
    },
    {
     "name": "stdout",
     "output_type": "stream",
     "text": [
      "13:17:40.419 DEBUG org.hibernate.SQL - select count(*)>0 from CUSTOMER c1_0 where c1_0.email=?\n"
     ]
    },
    {
     "name": "stdout",
     "output_type": "stream",
     "text": [
      "13:17:40.420 DEBUG org.hibernate.SQL - insert into CUSTOMER (birthDate,creationDate,email,firstname,lastname,photo,status,version,ID) values (?,?,?,?,?,?,?,?,?)\n"
     ]
    },
    {
     "name": "stdout",
     "output_type": "stream",
     "text": [
      "13:17:40.421 DEBUG org.hibernate.SQL - select count(*)>0 from CUSTOMER c1_0 where c1_0.email=?\n"
     ]
    },
    {
     "name": "stdout",
     "output_type": "stream",
     "text": [
      "13:17:40.421 DEBUG org.hibernate.SQL - insert into CUSTOMER (birthDate,creationDate,email,firstname,lastname,photo,status,version,ID) values (?,?,?,?,?,?,?,?,?)\n"
     ]
    },
    {
     "name": "stdout",
     "output_type": "stream",
     "text": [
      "13:17:40.421 DEBUG org.hibernate.SQL - select count(*)>0 from CUSTOMER c1_0 where c1_0.email=?\n"
     ]
    },
    {
     "name": "stdout",
     "output_type": "stream",
     "text": [
      "13:17:40.422 DEBUG org.hibernate.SQL - insert into CUSTOMER (birthDate,creationDate,email,firstname,lastname,photo,status,version,ID) values (?,?,?,?,?,?,?,?,?)\n"
     ]
    },
    {
     "name": "stdout",
     "output_type": "stream",
     "text": [
      "13:17:40.422 DEBUG org.hibernate.SQL - select count(*)>0 from CUSTOMER c1_0 where c1_0.email=?\n"
     ]
    },
    {
     "name": "stdout",
     "output_type": "stream",
     "text": [
      "13:17:40.422 DEBUG org.hibernate.SQL - insert into CUSTOMER (birthDate,creationDate,email,firstname,lastname,photo,status,version,ID) values (?,?,?,?,?,?,?,?,?)\n"
     ]
    },
    {
     "name": "stdout",
     "output_type": "stream",
     "text": [
      "13:17:40.423 DEBUG org.hibernate.SQL - select count(*)>0 from CUSTOMER c1_0 where c1_0.email=?\n"
     ]
    },
    {
     "name": "stdout",
     "output_type": "stream",
     "text": [
      "13:17:40.423 DEBUG org.hibernate.SQL - insert into CUSTOMER (birthDate,creationDate,email,firstname,lastname,photo,status,version,ID) values (?,?,?,?,?,?,?,?,?)\n"
     ]
    },
    {
     "name": "stdout",
     "output_type": "stream",
     "text": [
      "13:17:40.423 DEBUG org.hibernate.SQL - select count(*)>0 from CUSTOMER c1_0 where c1_0.email=?\n"
     ]
    },
    {
     "name": "stdout",
     "output_type": "stream",
     "text": [
      "13:17:40.424 DEBUG org.hibernate.SQL - insert into CUSTOMER (birthDate,creationDate,email,firstname,lastname,photo,status,version,ID) values (?,?,?,?,?,?,?,?,?)\n"
     ]
    },
    {
     "name": "stdout",
     "output_type": "stream",
     "text": [
      "13:17:40.424 DEBUG org.hibernate.SQL - select count(*)>0 from CUSTOMER c1_0 where c1_0.email=?\n"
     ]
    },
    {
     "name": "stdout",
     "output_type": "stream",
     "text": [
      "13:17:40.424 DEBUG org.hibernate.SQL - insert into CUSTOMER (birthDate,creationDate,email,firstname,lastname,photo,status,version,ID) values (?,?,?,?,?,?,?,?,?)\n"
     ]
    },
    {
     "name": "stdout",
     "output_type": "stream",
     "text": [
      "13:17:40.425 DEBUG org.hibernate.SQL - select count(*)>0 from CUSTOMER c1_0 where c1_0.email=?\n"
     ]
    },
    {
     "name": "stdout",
     "output_type": "stream",
     "text": [
      "13:17:40.425 DEBUG org.hibernate.SQL - insert into CUSTOMER (birthDate,creationDate,email,firstname,lastname,photo,status,version,ID) values (?,?,?,?,?,?,?,?,?)\n"
     ]
    },
    {
     "name": "stdout",
     "output_type": "stream",
     "text": [
      "13:17:40.425 DEBUG org.hibernate.SQL - select count(*)>0 from CUSTOMER c1_0 where c1_0.email=?\n"
     ]
    },
    {
     "name": "stdout",
     "output_type": "stream",
     "text": [
      "13:17:40.425 DEBUG org.hibernate.SQL - select nextval('CUSTOMER_SEQ')\n"
     ]
    },
    {
     "name": "stdout",
     "output_type": "stream",
     "text": [
      "13:17:40.426 DEBUG org.hibernate.SQL - insert into CUSTOMER (birthDate,creationDate,email,firstname,lastname,photo,status,version,ID) values (?,?,?,?,?,?,?,?,?)\n"
     ]
    },
    {
     "name": "stdout",
     "output_type": "stream",
     "text": [
      "13:17:40.426 DEBUG org.hibernate.SQL - select count(*)>0 from CUSTOMER c1_0 where c1_0.email=?\n"
     ]
    },
    {
     "name": "stdout",
     "output_type": "stream",
     "text": [
      "13:17:40.427 DEBUG org.hibernate.SQL - insert into CUSTOMER (birthDate,creationDate,email,firstname,lastname,photo,status,version,ID) values (?,?,?,?,?,?,?,?,?)\n"
     ]
    },
    {
     "name": "stdout",
     "output_type": "stream",
     "text": [
      "13:17:40.427 DEBUG org.hibernate.SQL - select count(*)>0 from CUSTOMER c1_0 where c1_0.email=?\n"
     ]
    },
    {
     "name": "stdout",
     "output_type": "stream",
     "text": [
      "13:17:40.427 DEBUG org.hibernate.SQL - insert into CUSTOMER (birthDate,creationDate,email,firstname,lastname,photo,status,version,ID) values (?,?,?,?,?,?,?,?,?)\n"
     ]
    },
    {
     "name": "stdout",
     "output_type": "stream",
     "text": [
      "13:17:40.427 DEBUG org.hibernate.SQL - select count(*)>0 from CUSTOMER c1_0 where c1_0.email=?\n"
     ]
    },
    {
     "name": "stdout",
     "output_type": "stream",
     "text": [
      "13:17:40.428 DEBUG org.hibernate.SQL - insert into CUSTOMER (birthDate,creationDate,email,firstname,lastname,photo,status,version,ID) values (?,?,?,?,?,?,?,?,?)\n"
     ]
    },
    {
     "name": "stdout",
     "output_type": "stream",
     "text": [
      "13:17:40.428 DEBUG org.hibernate.SQL - select count(*)>0 from CUSTOMER c1_0 where c1_0.email=?\n"
     ]
    },
    {
     "name": "stdout",
     "output_type": "stream",
     "text": [
      "13:17:40.428 DEBUG org.hibernate.SQL - insert into CUSTOMER (birthDate,creationDate,email,firstname,lastname,photo,status,version,ID) values (?,?,?,?,?,?,?,?,?)\n"
     ]
    },
    {
     "name": "stdout",
     "output_type": "stream",
     "text": [
      "13:17:40.429 DEBUG org.hibernate.SQL - select count(*)>0 from CUSTOMER c1_0 where c1_0.email=?\n"
     ]
    },
    {
     "name": "stdout",
     "output_type": "stream",
     "text": [
      "13:17:40.429 DEBUG org.hibernate.SQL - insert into CUSTOMER (birthDate,creationDate,email,firstname,lastname,photo,status,version,ID) values (?,?,?,?,?,?,?,?,?)\n"
     ]
    },
    {
     "name": "stdout",
     "output_type": "stream",
     "text": [
      "13:17:40.429 DEBUG org.hibernate.SQL - select count(*)>0 from CUSTOMER c1_0 where c1_0.email=?\n"
     ]
    },
    {
     "name": "stdout",
     "output_type": "stream",
     "text": [
      "13:17:40.430 DEBUG org.hibernate.SQL - insert into CUSTOMER (birthDate,creationDate,email,firstname,lastname,photo,status,version,ID) values (?,?,?,?,?,?,?,?,?)\n"
     ]
    },
    {
     "name": "stdout",
     "output_type": "stream",
     "text": [
      "13:17:40.430 DEBUG org.hibernate.SQL - select count(*)>0 from CUSTOMER c1_0 where c1_0.email=?\n"
     ]
    },
    {
     "name": "stdout",
     "output_type": "stream",
     "text": [
      "13:17:40.431 DEBUG org.hibernate.SQL - insert into CUSTOMER (birthDate,creationDate,email,firstname,lastname,photo,status,version,ID) values (?,?,?,?,?,?,?,?,?)\n"
     ]
    },
    {
     "name": "stdout",
     "output_type": "stream",
     "text": [
      "13:17:40.431 DEBUG org.hibernate.SQL - select count(*)>0 from CUSTOMER c1_0 where c1_0.email=?\n"
     ]
    },
    {
     "name": "stdout",
     "output_type": "stream",
     "text": [
      "13:17:40.431 DEBUG org.hibernate.SQL - insert into CUSTOMER (birthDate,creationDate,email,firstname,lastname,photo,status,version,ID) values (?,?,?,?,?,?,?,?,?)\n"
     ]
    },
    {
     "name": "stdout",
     "output_type": "stream",
     "text": [
      "13:17:40.432 DEBUG org.hibernate.SQL - select count(*)>0 from CUSTOMER c1_0 where c1_0.email=?\n"
     ]
    },
    {
     "name": "stdout",
     "output_type": "stream",
     "text": [
      "13:17:40.432 DEBUG org.hibernate.SQL - insert into CUSTOMER (birthDate,creationDate,email,firstname,lastname,photo,status,version,ID) values (?,?,?,?,?,?,?,?,?)\n"
     ]
    },
    {
     "name": "stdout",
     "output_type": "stream",
     "text": [
      "13:17:40.432 DEBUG org.hibernate.SQL - select count(*)>0 from CUSTOMER c1_0 where c1_0.email=?\n"
     ]
    },
    {
     "name": "stdout",
     "output_type": "stream",
     "text": [
      "13:17:40.433 DEBUG org.hibernate.SQL - insert into CUSTOMER (birthDate,creationDate,email,firstname,lastname,photo,status,version,ID) values (?,?,?,?,?,?,?,?,?)\n"
     ]
    },
    {
     "name": "stdout",
     "output_type": "stream",
     "text": [
      "13:17:40.433 DEBUG org.hibernate.SQL - select count(*)>0 from CUSTOMER c1_0 where c1_0.email=?\n"
     ]
    },
    {
     "name": "stdout",
     "output_type": "stream",
     "text": [
      "13:17:40.434 DEBUG org.hibernate.SQL - insert into CUSTOMER (birthDate,creationDate,email,firstname,lastname,photo,status,version,ID) values (?,?,?,?,?,?,?,?,?)\n"
     ]
    },
    {
     "name": "stdout",
     "output_type": "stream",
     "text": [
      "13:17:40.434 DEBUG org.hibernate.SQL - select count(*)>0 from CUSTOMER c1_0 where c1_0.email=?\n"
     ]
    },
    {
     "name": "stdout",
     "output_type": "stream",
     "text": [
      "13:17:40.434 DEBUG org.hibernate.SQL - insert into CUSTOMER (birthDate,creationDate,email,firstname,lastname,photo,status,version,ID) values (?,?,?,?,?,?,?,?,?)\n"
     ]
    },
    {
     "name": "stdout",
     "output_type": "stream",
     "text": [
      "13:17:40.434 DEBUG org.hibernate.SQL - select count(*)>0 from CUSTOMER c1_0 where c1_0.email=?\n"
     ]
    },
    {
     "name": "stdout",
     "output_type": "stream",
     "text": [
      "13:17:40.435 DEBUG org.hibernate.SQL - insert into CUSTOMER (birthDate,creationDate,email,firstname,lastname,photo,status,version,ID) values (?,?,?,?,?,?,?,?,?)\n"
     ]
    },
    {
     "name": "stdout",
     "output_type": "stream",
     "text": [
      "13:17:40.435 DEBUG org.hibernate.SQL - select count(*)>0 from CUSTOMER c1_0 where c1_0.email=?\n"
     ]
    },
    {
     "name": "stdout",
     "output_type": "stream",
     "text": [
      "13:17:40.436 DEBUG org.hibernate.SQL - insert into CUSTOMER (birthDate,creationDate,email,firstname,lastname,photo,status,version,ID) values (?,?,?,?,?,?,?,?,?)\n"
     ]
    },
    {
     "name": "stdout",
     "output_type": "stream",
     "text": [
      "13:17:40.436 DEBUG org.hibernate.SQL - select count(*)>0 from CUSTOMER c1_0 where c1_0.email=?\n"
     ]
    },
    {
     "name": "stdout",
     "output_type": "stream",
     "text": [
      "13:17:40.436 DEBUG org.hibernate.SQL - insert into CUSTOMER (birthDate,creationDate,email,firstname,lastname,photo,status,version,ID) values (?,?,?,?,?,?,?,?,?)\n"
     ]
    },
    {
     "name": "stdout",
     "output_type": "stream",
     "text": [
      "13:17:40.436 DEBUG org.hibernate.SQL - select count(*)>0 from CUSTOMER c1_0 where c1_0.email=?\n"
     ]
    },
    {
     "name": "stdout",
     "output_type": "stream",
     "text": [
      "13:17:40.437 DEBUG org.hibernate.SQL - insert into CUSTOMER (birthDate,creationDate,email,firstname,lastname,photo,status,version,ID) values (?,?,?,?,?,?,?,?,?)\n"
     ]
    },
    {
     "name": "stdout",
     "output_type": "stream",
     "text": [
      "13:17:40.437 DEBUG org.hibernate.SQL - select count(*)>0 from CUSTOMER c1_0 where c1_0.email=?\n"
     ]
    },
    {
     "name": "stdout",
     "output_type": "stream",
     "text": [
      "13:17:40.438 DEBUG org.hibernate.SQL - insert into CUSTOMER (birthDate,creationDate,email,firstname,lastname,photo,status,version,ID) values (?,?,?,?,?,?,?,?,?)\n"
     ]
    },
    {
     "name": "stdout",
     "output_type": "stream",
     "text": [
      "13:17:40.438 DEBUG org.hibernate.SQL - select count(*)>0 from CUSTOMER c1_0 where c1_0.email=?\n"
     ]
    },
    {
     "name": "stdout",
     "output_type": "stream",
     "text": [
      "13:17:40.438 DEBUG org.hibernate.SQL - insert into CUSTOMER (birthDate,creationDate,email,firstname,lastname,photo,status,version,ID) values (?,?,?,?,?,?,?,?,?)\n"
     ]
    },
    {
     "name": "stdout",
     "output_type": "stream",
     "text": [
      "13:17:40.439 DEBUG org.hibernate.SQL - select count(*)>0 from CUSTOMER c1_0 where c1_0.email=?\n"
     ]
    },
    {
     "name": "stdout",
     "output_type": "stream",
     "text": [
      "13:17:40.439 DEBUG org.hibernate.SQL - insert into CUSTOMER (birthDate,creationDate,email,firstname,lastname,photo,status,version,ID) values (?,?,?,?,?,?,?,?,?)\n"
     ]
    },
    {
     "name": "stdout",
     "output_type": "stream",
     "text": [
      "13:17:40.439 DEBUG org.hibernate.SQL - select count(*)>0 from CUSTOMER c1_0 where c1_0.email=?\n"
     ]
    },
    {
     "name": "stdout",
     "output_type": "stream",
     "text": [
      "13:17:40.440 DEBUG org.hibernate.SQL - insert into CUSTOMER (birthDate,creationDate,email,firstname,lastname,photo,status,version,ID) values (?,?,?,?,?,?,?,?,?)\n"
     ]
    },
    {
     "name": "stdout",
     "output_type": "stream",
     "text": [
      "13:17:40.440 DEBUG org.hibernate.SQL - select count(*)>0 from CUSTOMER c1_0 where c1_0.email=?\n"
     ]
    },
    {
     "name": "stdout",
     "output_type": "stream",
     "text": [
      "13:17:40.441 DEBUG org.hibernate.SQL - insert into CUSTOMER (birthDate,creationDate,email,firstname,lastname,photo,status,version,ID) values (?,?,?,?,?,?,?,?,?)\n"
     ]
    },
    {
     "name": "stdout",
     "output_type": "stream",
     "text": [
      "13:17:40.441 DEBUG org.hibernate.SQL - select count(*)>0 from CUSTOMER c1_0 where c1_0.email=?\n"
     ]
    },
    {
     "name": "stdout",
     "output_type": "stream",
     "text": [
      "13:17:40.441 DEBUG org.hibernate.SQL - insert into CUSTOMER (birthDate,creationDate,email,firstname,lastname,photo,status,version,ID) values (?,?,?,?,?,?,?,?,?)\n"
     ]
    },
    {
     "name": "stdout",
     "output_type": "stream",
     "text": [
      "13:17:40.441 DEBUG org.hibernate.SQL - select count(*)>0 from CUSTOMER c1_0 where c1_0.email=?\n"
     ]
    },
    {
     "name": "stdout",
     "output_type": "stream",
     "text": [
      "13:17:40.442 DEBUG org.hibernate.SQL - insert into CUSTOMER (birthDate,creationDate,email,firstname,lastname,photo,status,version,ID) values (?,?,?,?,?,?,?,?,?)\n"
     ]
    },
    {
     "name": "stdout",
     "output_type": "stream",
     "text": [
      "13:17:40.442 DEBUG org.hibernate.SQL - select count(*)>0 from CUSTOMER c1_0 where c1_0.email=?\n"
     ]
    },
    {
     "name": "stdout",
     "output_type": "stream",
     "text": [
      "13:17:40.443 DEBUG org.hibernate.SQL - insert into CUSTOMER (birthDate,creationDate,email,firstname,lastname,photo,status,version,ID) values (?,?,?,?,?,?,?,?,?)\n"
     ]
    },
    {
     "name": "stdout",
     "output_type": "stream",
     "text": [
      "13:17:40.443 DEBUG org.hibernate.SQL - select count(*)>0 from CUSTOMER c1_0 where c1_0.email=?\n"
     ]
    },
    {
     "name": "stdout",
     "output_type": "stream",
     "text": [
      "13:17:40.443 DEBUG org.hibernate.SQL - insert into CUSTOMER (birthDate,creationDate,email,firstname,lastname,photo,status,version,ID) values (?,?,?,?,?,?,?,?,?)\n"
     ]
    },
    {
     "name": "stdout",
     "output_type": "stream",
     "text": [
      "13:17:40.443 DEBUG org.hibernate.SQL - select count(*)>0 from CUSTOMER c1_0 where c1_0.email=?\n"
     ]
    },
    {
     "name": "stdout",
     "output_type": "stream",
     "text": [
      "13:17:40.444 DEBUG org.hibernate.SQL - insert into CUSTOMER (birthDate,creationDate,email,firstname,lastname,photo,status,version,ID) values (?,?,?,?,?,?,?,?,?)\n"
     ]
    },
    {
     "name": "stdout",
     "output_type": "stream",
     "text": [
      "13:17:40.444 DEBUG org.hibernate.SQL - select count(*)>0 from CUSTOMER c1_0 where c1_0.email=?\n"
     ]
    },
    {
     "name": "stdout",
     "output_type": "stream",
     "text": [
      "13:17:40.444 DEBUG org.hibernate.SQL - insert into CUSTOMER (birthDate,creationDate,email,firstname,lastname,photo,status,version,ID) values (?,?,?,?,?,?,?,?,?)\n"
     ]
    },
    {
     "name": "stdout",
     "output_type": "stream",
     "text": [
      "13:17:40.445 DEBUG org.hibernate.SQL - select count(*)>0 from CUSTOMER c1_0 where c1_0.email=?\n"
     ]
    },
    {
     "name": "stdout",
     "output_type": "stream",
     "text": [
      "13:17:40.445 DEBUG org.hibernate.SQL - insert into CUSTOMER (birthDate,creationDate,email,firstname,lastname,photo,status,version,ID) values (?,?,?,?,?,?,?,?,?)\n"
     ]
    },
    {
     "name": "stdout",
     "output_type": "stream",
     "text": [
      "13:17:40.445 DEBUG org.hibernate.SQL - select count(*)>0 from CUSTOMER c1_0 where c1_0.email=?\n"
     ]
    },
    {
     "name": "stdout",
     "output_type": "stream",
     "text": [
      "13:17:40.446 DEBUG org.hibernate.SQL - insert into CUSTOMER (birthDate,creationDate,email,firstname,lastname,photo,status,version,ID) values (?,?,?,?,?,?,?,?,?)\n"
     ]
    },
    {
     "name": "stdout",
     "output_type": "stream",
     "text": [
      "13:17:40.446 DEBUG org.hibernate.SQL - select count(*)>0 from CUSTOMER c1_0 where c1_0.email=?\n"
     ]
    },
    {
     "name": "stdout",
     "output_type": "stream",
     "text": [
      "13:17:40.446 DEBUG org.hibernate.SQL - insert into CUSTOMER (birthDate,creationDate,email,firstname,lastname,photo,status,version,ID) values (?,?,?,?,?,?,?,?,?)\n"
     ]
    },
    {
     "name": "stdout",
     "output_type": "stream",
     "text": [
      "13:17:40.446 DEBUG org.hibernate.SQL - select count(*)>0 from CUSTOMER c1_0 where c1_0.email=?\n"
     ]
    },
    {
     "name": "stdout",
     "output_type": "stream",
     "text": [
      "13:17:40.447 DEBUG org.hibernate.SQL - insert into CUSTOMER (birthDate,creationDate,email,firstname,lastname,photo,status,version,ID) values (?,?,?,?,?,?,?,?,?)\n"
     ]
    },
    {
     "name": "stdout",
     "output_type": "stream",
     "text": [
      "13:17:40.447 DEBUG org.hibernate.SQL - select count(*)>0 from CUSTOMER c1_0 where c1_0.email=?\n"
     ]
    },
    {
     "name": "stdout",
     "output_type": "stream",
     "text": [
      "13:17:40.447 DEBUG org.hibernate.SQL - insert into CUSTOMER (birthDate,creationDate,email,firstname,lastname,photo,status,version,ID) values (?,?,?,?,?,?,?,?,?)\n"
     ]
    },
    {
     "name": "stdout",
     "output_type": "stream",
     "text": [
      "13:17:40.448 DEBUG org.hibernate.SQL - select count(*)>0 from CUSTOMER c1_0 where c1_0.email=?\n"
     ]
    },
    {
     "name": "stdout",
     "output_type": "stream",
     "text": [
      "13:17:40.448 DEBUG org.hibernate.SQL - insert into CUSTOMER (birthDate,creationDate,email,firstname,lastname,photo,status,version,ID) values (?,?,?,?,?,?,?,?,?)\n"
     ]
    },
    {
     "name": "stdout",
     "output_type": "stream",
     "text": [
      "13:17:40.448 DEBUG org.hibernate.SQL - select count(*)>0 from CUSTOMER c1_0 where c1_0.email=?\n"
     ]
    },
    {
     "name": "stdout",
     "output_type": "stream",
     "text": [
      "13:17:40.449 DEBUG org.hibernate.SQL - insert into CUSTOMER (birthDate,creationDate,email,firstname,lastname,photo,status,version,ID) values (?,?,?,?,?,?,?,?,?)\n"
     ]
    },
    {
     "name": "stdout",
     "output_type": "stream",
     "text": [
      "13:17:40.449 DEBUG org.hibernate.SQL - select count(*)>0 from CUSTOMER c1_0 where c1_0.email=?\n"
     ]
    },
    {
     "name": "stdout",
     "output_type": "stream",
     "text": [
      "13:17:40.449 DEBUG org.hibernate.SQL - insert into CUSTOMER (birthDate,creationDate,email,firstname,lastname,photo,status,version,ID) values (?,?,?,?,?,?,?,?,?)\n"
     ]
    },
    {
     "name": "stdout",
     "output_type": "stream",
     "text": [
      "13:17:40.449 DEBUG org.hibernate.SQL - select count(*)>0 from CUSTOMER c1_0 where c1_0.email=?\n"
     ]
    },
    {
     "name": "stdout",
     "output_type": "stream",
     "text": [
      "13:17:40.450 DEBUG org.hibernate.SQL - insert into CUSTOMER (birthDate,creationDate,email,firstname,lastname,photo,status,version,ID) values (?,?,?,?,?,?,?,?,?)\n"
     ]
    },
    {
     "name": "stdout",
     "output_type": "stream",
     "text": [
      "13:17:40.450 DEBUG org.hibernate.SQL - select count(*)>0 from CUSTOMER c1_0 where c1_0.email=?\n"
     ]
    },
    {
     "name": "stdout",
     "output_type": "stream",
     "text": [
      "13:17:40.450 DEBUG org.hibernate.SQL - insert into CUSTOMER (birthDate,creationDate,email,firstname,lastname,photo,status,version,ID) values (?,?,?,?,?,?,?,?,?)\n"
     ]
    },
    {
     "name": "stdout",
     "output_type": "stream",
     "text": [
      "13:17:40.451 DEBUG org.hibernate.SQL - select count(*)>0 from CUSTOMER c1_0 where c1_0.email=?\n"
     ]
    },
    {
     "name": "stdout",
     "output_type": "stream",
     "text": [
      "13:17:40.451 DEBUG org.hibernate.SQL - insert into CUSTOMER (birthDate,creationDate,email,firstname,lastname,photo,status,version,ID) values (?,?,?,?,?,?,?,?,?)\n"
     ]
    },
    {
     "name": "stdout",
     "output_type": "stream",
     "text": [
      "13:17:40.451 DEBUG org.hibernate.SQL - select count(*)>0 from CUSTOMER c1_0 where c1_0.email=?\n"
     ]
    },
    {
     "name": "stdout",
     "output_type": "stream",
     "text": [
      "13:17:40.452 DEBUG org.hibernate.SQL - insert into CUSTOMER (birthDate,creationDate,email,firstname,lastname,photo,status,version,ID) values (?,?,?,?,?,?,?,?,?)\n"
     ]
    },
    {
     "name": "stdout",
     "output_type": "stream",
     "text": [
      "13:17:40.452 DEBUG org.hibernate.SQL - select count(*)>0 from CUSTOMER c1_0 where c1_0.email=?\n"
     ]
    },
    {
     "name": "stdout",
     "output_type": "stream",
     "text": [
      "13:17:40.452 DEBUG org.hibernate.SQL - insert into CUSTOMER (birthDate,creationDate,email,firstname,lastname,photo,status,version,ID) values (?,?,?,?,?,?,?,?,?)\n"
     ]
    },
    {
     "name": "stdout",
     "output_type": "stream",
     "text": [
      "13:17:40.452 DEBUG org.hibernate.SQL - select count(*)>0 from CUSTOMER c1_0 where c1_0.email=?\n"
     ]
    },
    {
     "name": "stdout",
     "output_type": "stream",
     "text": [
      "13:17:40.453 DEBUG org.hibernate.SQL - insert into CUSTOMER (birthDate,creationDate,email,firstname,lastname,photo,status,version,ID) values (?,?,?,?,?,?,?,?,?)\n"
     ]
    },
    {
     "name": "stdout",
     "output_type": "stream",
     "text": [
      "13:17:40.453 DEBUG org.hibernate.SQL - select count(*)>0 from CUSTOMER c1_0 where c1_0.email=?\n"
     ]
    },
    {
     "name": "stdout",
     "output_type": "stream",
     "text": [
      "13:17:40.453 DEBUG org.hibernate.SQL - insert into CUSTOMER (birthDate,creationDate,email,firstname,lastname,photo,status,version,ID) values (?,?,?,?,?,?,?,?,?)\n"
     ]
    },
    {
     "name": "stdout",
     "output_type": "stream",
     "text": [
      "13:17:40.454 DEBUG org.hibernate.SQL - select count(*)>0 from CUSTOMER c1_0 where c1_0.email=?\n"
     ]
    },
    {
     "name": "stdout",
     "output_type": "stream",
     "text": [
      "13:17:40.454 DEBUG org.hibernate.SQL - insert into CUSTOMER (birthDate,creationDate,email,firstname,lastname,photo,status,version,ID) values (?,?,?,?,?,?,?,?,?)\n"
     ]
    },
    {
     "name": "stdout",
     "output_type": "stream",
     "text": [
      "13:17:40.454 DEBUG org.hibernate.SQL - select count(*)>0 from CUSTOMER c1_0 where c1_0.email=?\n"
     ]
    },
    {
     "name": "stdout",
     "output_type": "stream",
     "text": [
      "13:17:40.455 DEBUG org.hibernate.SQL - insert into CUSTOMER (birthDate,creationDate,email,firstname,lastname,photo,status,version,ID) values (?,?,?,?,?,?,?,?,?)\n"
     ]
    },
    {
     "name": "stdout",
     "output_type": "stream",
     "text": [
      "13:17:40.455 DEBUG org.hibernate.SQL - select count(*)>0 from CUSTOMER c1_0 where c1_0.email=?\n"
     ]
    },
    {
     "name": "stdout",
     "output_type": "stream",
     "text": [
      "13:17:40.455 DEBUG org.hibernate.SQL - insert into CUSTOMER (birthDate,creationDate,email,firstname,lastname,photo,status,version,ID) values (?,?,?,?,?,?,?,?,?)\n"
     ]
    },
    {
     "name": "stdout",
     "output_type": "stream",
     "text": [
      "13:17:40.455 DEBUG org.hibernate.SQL - select count(*)>0 from CUSTOMER c1_0 where c1_0.email=?\n"
     ]
    },
    {
     "name": "stdout",
     "output_type": "stream",
     "text": [
      "13:17:40.456 DEBUG org.hibernate.SQL - insert into CUSTOMER (birthDate,creationDate,email,firstname,lastname,photo,status,version,ID) values (?,?,?,?,?,?,?,?,?)\n"
     ]
    },
    {
     "name": "stdout",
     "output_type": "stream",
     "text": [
      "13:17:40.456 DEBUG org.hibernate.SQL - select count(*)>0 from CUSTOMER c1_0 where c1_0.email=?\n"
     ]
    },
    {
     "name": "stdout",
     "output_type": "stream",
     "text": [
      "13:17:40.456 DEBUG org.hibernate.SQL - insert into CUSTOMER (birthDate,creationDate,email,firstname,lastname,photo,status,version,ID) values (?,?,?,?,?,?,?,?,?)\n"
     ]
    },
    {
     "name": "stdout",
     "output_type": "stream",
     "text": [
      "13:17:40.456 DEBUG org.hibernate.SQL - select count(*)>0 from CUSTOMER c1_0 where c1_0.email=?\n"
     ]
    },
    {
     "name": "stdout",
     "output_type": "stream",
     "text": [
      "13:17:40.457 DEBUG org.hibernate.SQL - insert into CUSTOMER (birthDate,creationDate,email,firstname,lastname,photo,status,version,ID) values (?,?,?,?,?,?,?,?,?)\n"
     ]
    },
    {
     "name": "stdout",
     "output_type": "stream",
     "text": [
      "13:17:40.457 DEBUG org.hibernate.SQL - select count(*)>0 from CUSTOMER c1_0 where c1_0.email=?\n"
     ]
    },
    {
     "name": "stdout",
     "output_type": "stream",
     "text": [
      "13:17:40.457 DEBUG org.hibernate.SQL - insert into CUSTOMER (birthDate,creationDate,email,firstname,lastname,photo,status,version,ID) values (?,?,?,?,?,?,?,?,?)\n"
     ]
    },
    {
     "name": "stdout",
     "output_type": "stream",
     "text": [
      "13:17:40.458 DEBUG org.hibernate.SQL - select count(*)>0 from CUSTOMER c1_0 where c1_0.email=?\n"
     ]
    },
    {
     "name": "stdout",
     "output_type": "stream",
     "text": [
      "13:17:40.458 DEBUG org.hibernate.SQL - select nextval('CUSTOMER_SEQ')\n"
     ]
    },
    {
     "name": "stdout",
     "output_type": "stream",
     "text": [
      "13:17:40.458 DEBUG org.hibernate.SQL - insert into CUSTOMER (birthDate,creationDate,email,firstname,lastname,photo,status,version,ID) values (?,?,?,?,?,?,?,?,?)\n"
     ]
    },
    {
     "name": "stdout",
     "output_type": "stream",
     "text": [
      "13:17:40.458 DEBUG org.hibernate.SQL - select count(*)>0 from CUSTOMER c1_0 where c1_0.email=?\n"
     ]
    },
    {
     "name": "stdout",
     "output_type": "stream",
     "text": [
      "13:17:40.459 DEBUG org.hibernate.SQL - insert into CUSTOMER (birthDate,creationDate,email,firstname,lastname,photo,status,version,ID) values (?,?,?,?,?,?,?,?,?)\n"
     ]
    },
    {
     "name": "stdout",
     "output_type": "stream",
     "text": [
      "13:17:40.459 DEBUG org.hibernate.SQL - select count(*)>0 from CUSTOMER c1_0 where c1_0.email=?\n"
     ]
    },
    {
     "name": "stdout",
     "output_type": "stream",
     "text": [
      "13:17:40.459 DEBUG org.hibernate.SQL - insert into CUSTOMER (birthDate,creationDate,email,firstname,lastname,photo,status,version,ID) values (?,?,?,?,?,?,?,?,?)\n"
     ]
    },
    {
     "name": "stdout",
     "output_type": "stream",
     "text": [
      "13:17:40.459 DEBUG org.hibernate.SQL - select count(*)>0 from CUSTOMER c1_0 where c1_0.email=?\n"
     ]
    },
    {
     "name": "stdout",
     "output_type": "stream",
     "text": [
      "13:17:40.460 DEBUG org.hibernate.SQL - insert into CUSTOMER (birthDate,creationDate,email,firstname,lastname,photo,status,version,ID) values (?,?,?,?,?,?,?,?,?)\n"
     ]
    },
    {
     "name": "stdout",
     "output_type": "stream",
     "text": [
      "13:17:40.460 DEBUG org.hibernate.SQL - select count(*)>0 from CUSTOMER c1_0 where c1_0.email=?\n"
     ]
    },
    {
     "name": "stdout",
     "output_type": "stream",
     "text": [
      "13:17:40.460 DEBUG org.hibernate.SQL - insert into CUSTOMER (birthDate,creationDate,email,firstname,lastname,photo,status,version,ID) values (?,?,?,?,?,?,?,?,?)\n"
     ]
    },
    {
     "name": "stdout",
     "output_type": "stream",
     "text": [
      "13:17:40.460 DEBUG org.hibernate.SQL - select count(*)>0 from CUSTOMER c1_0 where c1_0.email=?\n"
     ]
    },
    {
     "name": "stdout",
     "output_type": "stream",
     "text": [
      "13:17:40.461 DEBUG org.hibernate.SQL - insert into CUSTOMER (birthDate,creationDate,email,firstname,lastname,photo,status,version,ID) values (?,?,?,?,?,?,?,?,?)\n"
     ]
    },
    {
     "name": "stdout",
     "output_type": "stream",
     "text": [
      "13:17:40.461 DEBUG org.hibernate.SQL - select count(*)>0 from CUSTOMER c1_0 where c1_0.email=?\n"
     ]
    },
    {
     "name": "stdout",
     "output_type": "stream",
     "text": [
      "13:17:40.461 DEBUG org.hibernate.SQL - insert into CUSTOMER (birthDate,creationDate,email,firstname,lastname,photo,status,version,ID) values (?,?,?,?,?,?,?,?,?)\n"
     ]
    },
    {
     "name": "stdout",
     "output_type": "stream",
     "text": [
      "13:17:40.462 DEBUG org.hibernate.SQL - select count(*)>0 from CUSTOMER c1_0 where c1_0.email=?\n"
     ]
    },
    {
     "name": "stdout",
     "output_type": "stream",
     "text": [
      "13:17:40.462 DEBUG org.hibernate.SQL - insert into CUSTOMER (birthDate,creationDate,email,firstname,lastname,photo,status,version,ID) values (?,?,?,?,?,?,?,?,?)\n"
     ]
    },
    {
     "name": "stdout",
     "output_type": "stream",
     "text": [
      "13:17:40.462 DEBUG org.hibernate.SQL - select count(*)>0 from CUSTOMER c1_0 where c1_0.email=?\n"
     ]
    },
    {
     "name": "stdout",
     "output_type": "stream",
     "text": [
      "13:17:40.463 DEBUG org.hibernate.SQL - insert into CUSTOMER (birthDate,creationDate,email,firstname,lastname,photo,status,version,ID) values (?,?,?,?,?,?,?,?,?)\n"
     ]
    },
    {
     "name": "stdout",
     "output_type": "stream",
     "text": [
      "13:17:40.463 DEBUG org.hibernate.SQL - select count(*)>0 from CUSTOMER c1_0 where c1_0.email=?\n"
     ]
    },
    {
     "name": "stdout",
     "output_type": "stream",
     "text": [
      "13:17:40.463 DEBUG org.hibernate.SQL - insert into CUSTOMER (birthDate,creationDate,email,firstname,lastname,photo,status,version,ID) values (?,?,?,?,?,?,?,?,?)\n"
     ]
    },
    {
     "name": "stdout",
     "output_type": "stream",
     "text": [
      "13:17:40.463 DEBUG org.hibernate.SQL - select count(*)>0 from CUSTOMER c1_0 where c1_0.email=?\n"
     ]
    },
    {
     "name": "stdout",
     "output_type": "stream",
     "text": [
      "13:17:40.464 DEBUG org.hibernate.SQL - insert into CUSTOMER (birthDate,creationDate,email,firstname,lastname,photo,status,version,ID) values (?,?,?,?,?,?,?,?,?)\n"
     ]
    },
    {
     "name": "stdout",
     "output_type": "stream",
     "text": [
      "13:17:40.464 DEBUG org.hibernate.SQL - select count(*)>0 from CUSTOMER c1_0 where c1_0.email=?\n"
     ]
    },
    {
     "name": "stdout",
     "output_type": "stream",
     "text": [
      "13:17:40.464 DEBUG org.hibernate.SQL - insert into CUSTOMER (birthDate,creationDate,email,firstname,lastname,photo,status,version,ID) values (?,?,?,?,?,?,?,?,?)\n"
     ]
    },
    {
     "name": "stdout",
     "output_type": "stream",
     "text": [
      "13:17:40.464 DEBUG org.hibernate.SQL - select count(*)>0 from CUSTOMER c1_0 where c1_0.email=?\n"
     ]
    },
    {
     "name": "stdout",
     "output_type": "stream",
     "text": [
      "13:17:40.465 DEBUG org.hibernate.SQL - insert into CUSTOMER (birthDate,creationDate,email,firstname,lastname,photo,status,version,ID) values (?,?,?,?,?,?,?,?,?)\n"
     ]
    },
    {
     "name": "stdout",
     "output_type": "stream",
     "text": [
      "13:17:40.465 DEBUG org.hibernate.SQL - select count(*)>0 from CUSTOMER c1_0 where c1_0.email=?\n"
     ]
    },
    {
     "name": "stdout",
     "output_type": "stream",
     "text": [
      "13:17:40.466 DEBUG org.hibernate.SQL - insert into CUSTOMER (birthDate,creationDate,email,firstname,lastname,photo,status,version,ID) values (?,?,?,?,?,?,?,?,?)\n"
     ]
    },
    {
     "name": "stdout",
     "output_type": "stream",
     "text": [
      "13:17:40.466 DEBUG org.hibernate.SQL - select count(*)>0 from CUSTOMER c1_0 where c1_0.email=?\n"
     ]
    },
    {
     "name": "stdout",
     "output_type": "stream",
     "text": [
      "13:17:40.466 DEBUG org.hibernate.SQL - insert into CUSTOMER (birthDate,creationDate,email,firstname,lastname,photo,status,version,ID) values (?,?,?,?,?,?,?,?,?)\n"
     ]
    },
    {
     "name": "stdout",
     "output_type": "stream",
     "text": [
      "13:17:40.466 DEBUG org.hibernate.SQL - select count(*)>0 from CUSTOMER c1_0 where c1_0.email=?\n"
     ]
    },
    {
     "name": "stdout",
     "output_type": "stream",
     "text": [
      "13:17:40.467 DEBUG org.hibernate.SQL - insert into CUSTOMER (birthDate,creationDate,email,firstname,lastname,photo,status,version,ID) values (?,?,?,?,?,?,?,?,?)\n"
     ]
    },
    {
     "name": "stdout",
     "output_type": "stream",
     "text": [
      "13:17:40.467 DEBUG org.hibernate.SQL - select count(*)>0 from CUSTOMER c1_0 where c1_0.email=?\n"
     ]
    },
    {
     "name": "stdout",
     "output_type": "stream",
     "text": [
      "13:17:40.467 DEBUG org.hibernate.SQL - insert into CUSTOMER (birthDate,creationDate,email,firstname,lastname,photo,status,version,ID) values (?,?,?,?,?,?,?,?,?)\n"
     ]
    },
    {
     "name": "stdout",
     "output_type": "stream",
     "text": [
      "13:17:40.467 DEBUG org.hibernate.SQL - select count(*)>0 from CUSTOMER c1_0 where c1_0.email=?\n"
     ]
    },
    {
     "name": "stdout",
     "output_type": "stream",
     "text": [
      "13:17:40.468 DEBUG org.hibernate.SQL - insert into CUSTOMER (birthDate,creationDate,email,firstname,lastname,photo,status,version,ID) values (?,?,?,?,?,?,?,?,?)\n"
     ]
    },
    {
     "name": "stdout",
     "output_type": "stream",
     "text": [
      "13:17:40.468 DEBUG org.hibernate.SQL - select count(*)>0 from CUSTOMER c1_0 where c1_0.email=?\n"
     ]
    },
    {
     "name": "stdout",
     "output_type": "stream",
     "text": [
      "13:17:40.468 DEBUG org.hibernate.SQL - insert into CUSTOMER (birthDate,creationDate,email,firstname,lastname,photo,status,version,ID) values (?,?,?,?,?,?,?,?,?)\n"
     ]
    },
    {
     "name": "stdout",
     "output_type": "stream",
     "text": [
      "13:17:40.469 DEBUG org.hibernate.SQL - select count(*)>0 from CUSTOMER c1_0 where c1_0.email=?\n"
     ]
    },
    {
     "name": "stdout",
     "output_type": "stream",
     "text": [
      "13:17:40.469 DEBUG org.hibernate.SQL - insert into CUSTOMER (birthDate,creationDate,email,firstname,lastname,photo,status,version,ID) values (?,?,?,?,?,?,?,?,?)\n"
     ]
    },
    {
     "name": "stdout",
     "output_type": "stream",
     "text": [
      "13:17:40.469 DEBUG org.hibernate.SQL - select count(*)>0 from CUSTOMER c1_0 where c1_0.email=?\n"
     ]
    },
    {
     "name": "stdout",
     "output_type": "stream",
     "text": [
      "13:17:40.470 DEBUG org.hibernate.SQL - insert into CUSTOMER (birthDate,creationDate,email,firstname,lastname,photo,status,version,ID) values (?,?,?,?,?,?,?,?,?)\n"
     ]
    },
    {
     "name": "stdout",
     "output_type": "stream",
     "text": [
      "13:17:40.470 DEBUG org.hibernate.SQL - select count(*)>0 from CUSTOMER c1_0 where c1_0.email=?\n"
     ]
    },
    {
     "name": "stdout",
     "output_type": "stream",
     "text": [
      "13:17:40.470 DEBUG org.hibernate.SQL - insert into CUSTOMER (birthDate,creationDate,email,firstname,lastname,photo,status,version,ID) values (?,?,?,?,?,?,?,?,?)\n"
     ]
    },
    {
     "name": "stdout",
     "output_type": "stream",
     "text": [
      "13:17:40.470 DEBUG org.hibernate.SQL - select count(*)>0 from CUSTOMER c1_0 where c1_0.email=?\n"
     ]
    },
    {
     "name": "stdout",
     "output_type": "stream",
     "text": [
      "13:17:40.471 DEBUG org.hibernate.SQL - insert into CUSTOMER (birthDate,creationDate,email,firstname,lastname,photo,status,version,ID) values (?,?,?,?,?,?,?,?,?)\n"
     ]
    },
    {
     "name": "stdout",
     "output_type": "stream",
     "text": [
      "13:17:40.471 DEBUG org.hibernate.SQL - select count(*)>0 from CUSTOMER c1_0 where c1_0.email=?\n"
     ]
    },
    {
     "name": "stdout",
     "output_type": "stream",
     "text": [
      "13:17:40.471 DEBUG org.hibernate.SQL - insert into CUSTOMER (birthDate,creationDate,email,firstname,lastname,photo,status,version,ID) values (?,?,?,?,?,?,?,?,?)\n"
     ]
    },
    {
     "name": "stdout",
     "output_type": "stream",
     "text": [
      "13:17:40.471 DEBUG org.hibernate.SQL - select count(*)>0 from CUSTOMER c1_0 where c1_0.email=?\n"
     ]
    },
    {
     "name": "stdout",
     "output_type": "stream",
     "text": [
      "13:17:40.472 DEBUG org.hibernate.SQL - insert into CUSTOMER (birthDate,creationDate,email,firstname,lastname,photo,status,version,ID) values (?,?,?,?,?,?,?,?,?)\n"
     ]
    },
    {
     "name": "stdout",
     "output_type": "stream",
     "text": [
      "13:17:40.472 DEBUG org.hibernate.SQL - select count(*)>0 from CUSTOMER c1_0 where c1_0.email=?\n"
     ]
    },
    {
     "name": "stdout",
     "output_type": "stream",
     "text": [
      "13:17:40.472 DEBUG org.hibernate.SQL - insert into CUSTOMER (birthDate,creationDate,email,firstname,lastname,photo,status,version,ID) values (?,?,?,?,?,?,?,?,?)\n"
     ]
    },
    {
     "name": "stdout",
     "output_type": "stream",
     "text": [
      "13:17:40.472 DEBUG org.hibernate.SQL - select count(*)>0 from CUSTOMER c1_0 where c1_0.email=?\n"
     ]
    },
    {
     "name": "stdout",
     "output_type": "stream",
     "text": [
      "13:17:40.473 DEBUG org.hibernate.SQL - insert into CUSTOMER (birthDate,creationDate,email,firstname,lastname,photo,status,version,ID) values (?,?,?,?,?,?,?,?,?)\n"
     ]
    },
    {
     "name": "stdout",
     "output_type": "stream",
     "text": [
      "13:17:40.473 DEBUG org.hibernate.SQL - select count(*)>0 from CUSTOMER c1_0 where c1_0.email=?\n"
     ]
    },
    {
     "name": "stdout",
     "output_type": "stream",
     "text": [
      "13:17:40.473 DEBUG org.hibernate.SQL - insert into CUSTOMER (birthDate,creationDate,email,firstname,lastname,photo,status,version,ID) values (?,?,?,?,?,?,?,?,?)\n"
     ]
    },
    {
     "name": "stdout",
     "output_type": "stream",
     "text": [
      "13:17:40.473 DEBUG org.hibernate.SQL - select count(*)>0 from CUSTOMER c1_0 where c1_0.email=?\n"
     ]
    },
    {
     "name": "stdout",
     "output_type": "stream",
     "text": [
      "13:17:40.474 DEBUG org.hibernate.SQL - insert into CUSTOMER (birthDate,creationDate,email,firstname,lastname,photo,status,version,ID) values (?,?,?,?,?,?,?,?,?)\n"
     ]
    },
    {
     "name": "stdout",
     "output_type": "stream",
     "text": [
      "13:17:40.474 DEBUG org.hibernate.SQL - select count(*)>0 from CUSTOMER c1_0 where c1_0.email=?\n"
     ]
    },
    {
     "name": "stdout",
     "output_type": "stream",
     "text": [
      "13:17:40.474 DEBUG org.hibernate.SQL - insert into CUSTOMER (birthDate,creationDate,email,firstname,lastname,photo,status,version,ID) values (?,?,?,?,?,?,?,?,?)\n"
     ]
    },
    {
     "name": "stdout",
     "output_type": "stream",
     "text": [
      "13:17:40.475 DEBUG org.hibernate.SQL - select count(*)>0 from CUSTOMER c1_0 where c1_0.email=?\n"
     ]
    },
    {
     "name": "stdout",
     "output_type": "stream",
     "text": [
      "13:17:40.475 DEBUG org.hibernate.SQL - insert into CUSTOMER (birthDate,creationDate,email,firstname,lastname,photo,status,version,ID) values (?,?,?,?,?,?,?,?,?)\n"
     ]
    },
    {
     "name": "stdout",
     "output_type": "stream",
     "text": [
      "13:17:40.475 DEBUG org.hibernate.SQL - select count(*)>0 from CUSTOMER c1_0 where c1_0.email=?\n"
     ]
    },
    {
     "name": "stdout",
     "output_type": "stream",
     "text": [
      "13:17:40.476 DEBUG org.hibernate.SQL - insert into CUSTOMER (birthDate,creationDate,email,firstname,lastname,photo,status,version,ID) values (?,?,?,?,?,?,?,?,?)\n"
     ]
    },
    {
     "name": "stdout",
     "output_type": "stream",
     "text": [
      "13:17:40.476 DEBUG org.hibernate.SQL - select count(*)>0 from CUSTOMER c1_0 where c1_0.email=?\n"
     ]
    },
    {
     "name": "stdout",
     "output_type": "stream",
     "text": [
      "13:17:40.476 DEBUG org.hibernate.SQL - insert into CUSTOMER (birthDate,creationDate,email,firstname,lastname,photo,status,version,ID) values (?,?,?,?,?,?,?,?,?)\n"
     ]
    },
    {
     "name": "stdout",
     "output_type": "stream",
     "text": [
      "13:17:40.476 DEBUG org.hibernate.SQL - select count(*)>0 from CUSTOMER c1_0 where c1_0.email=?\n"
     ]
    },
    {
     "name": "stdout",
     "output_type": "stream",
     "text": [
      "13:17:40.477 DEBUG org.hibernate.SQL - insert into CUSTOMER (birthDate,creationDate,email,firstname,lastname,photo,status,version,ID) values (?,?,?,?,?,?,?,?,?)\n"
     ]
    },
    {
     "name": "stdout",
     "output_type": "stream",
     "text": [
      "13:17:40.477 DEBUG org.hibernate.SQL - select count(*)>0 from CUSTOMER c1_0 where c1_0.email=?\n"
     ]
    },
    {
     "name": "stdout",
     "output_type": "stream",
     "text": [
      "13:17:40.477 DEBUG org.hibernate.SQL - insert into CUSTOMER (birthDate,creationDate,email,firstname,lastname,photo,status,version,ID) values (?,?,?,?,?,?,?,?,?)\n"
     ]
    },
    {
     "name": "stdout",
     "output_type": "stream",
     "text": [
      "13:17:40.478 DEBUG org.hibernate.SQL - select count(*)>0 from CUSTOMER c1_0 where c1_0.email=?\n"
     ]
    },
    {
     "name": "stdout",
     "output_type": "stream",
     "text": [
      "13:17:40.478 DEBUG org.hibernate.SQL - insert into CUSTOMER (birthDate,creationDate,email,firstname,lastname,photo,status,version,ID) values (?,?,?,?,?,?,?,?,?)\n"
     ]
    },
    {
     "name": "stdout",
     "output_type": "stream",
     "text": [
      "13:17:40.478 DEBUG org.hibernate.SQL - select count(*)>0 from CUSTOMER c1_0 where c1_0.email=?\n"
     ]
    },
    {
     "name": "stdout",
     "output_type": "stream",
     "text": [
      "13:17:40.479 DEBUG org.hibernate.SQL - insert into CUSTOMER (birthDate,creationDate,email,firstname,lastname,photo,status,version,ID) values (?,?,?,?,?,?,?,?,?)\n"
     ]
    },
    {
     "name": "stdout",
     "output_type": "stream",
     "text": [
      "13:17:40.479 DEBUG org.hibernate.SQL - select count(*)>0 from CUSTOMER c1_0 where c1_0.email=?\n"
     ]
    },
    {
     "name": "stdout",
     "output_type": "stream",
     "text": [
      "13:17:40.479 DEBUG org.hibernate.SQL - insert into CUSTOMER (birthDate,creationDate,email,firstname,lastname,photo,status,version,ID) values (?,?,?,?,?,?,?,?,?)\n"
     ]
    },
    {
     "name": "stdout",
     "output_type": "stream",
     "text": [
      "13:17:40.479 DEBUG org.hibernate.SQL - select count(*)>0 from CUSTOMER c1_0 where c1_0.email=?\n"
     ]
    },
    {
     "name": "stdout",
     "output_type": "stream",
     "text": [
      "13:17:40.480 DEBUG org.hibernate.SQL - insert into CUSTOMER (birthDate,creationDate,email,firstname,lastname,photo,status,version,ID) values (?,?,?,?,?,?,?,?,?)\n"
     ]
    },
    {
     "name": "stdout",
     "output_type": "stream",
     "text": [
      "13:17:40.480 DEBUG org.hibernate.SQL - select count(*)>0 from CUSTOMER c1_0 where c1_0.email=?\n"
     ]
    },
    {
     "name": "stdout",
     "output_type": "stream",
     "text": [
      "13:17:40.480 DEBUG org.hibernate.SQL - insert into CUSTOMER (birthDate,creationDate,email,firstname,lastname,photo,status,version,ID) values (?,?,?,?,?,?,?,?,?)\n"
     ]
    },
    {
     "name": "stdout",
     "output_type": "stream",
     "text": [
      "13:17:40.480 DEBUG org.hibernate.SQL - select count(*)>0 from CUSTOMER c1_0 where c1_0.email=?\n"
     ]
    },
    {
     "name": "stdout",
     "output_type": "stream",
     "text": [
      "13:17:40.481 DEBUG org.hibernate.SQL - insert into CUSTOMER (birthDate,creationDate,email,firstname,lastname,photo,status,version,ID) values (?,?,?,?,?,?,?,?,?)\n"
     ]
    },
    {
     "name": "stdout",
     "output_type": "stream",
     "text": [
      "13:17:40.481 DEBUG org.hibernate.SQL - select count(*)>0 from CUSTOMER c1_0 where c1_0.email=?\n"
     ]
    },
    {
     "name": "stdout",
     "output_type": "stream",
     "text": [
      "13:17:40.482 DEBUG org.hibernate.SQL - insert into CUSTOMER (birthDate,creationDate,email,firstname,lastname,photo,status,version,ID) values (?,?,?,?,?,?,?,?,?)\n"
     ]
    },
    {
     "name": "stdout",
     "output_type": "stream",
     "text": [
      "13:17:40.482 DEBUG org.hibernate.SQL - select count(*)>0 from CUSTOMER c1_0 where c1_0.email=?\n"
     ]
    },
    {
     "name": "stdout",
     "output_type": "stream",
     "text": [
      "13:17:40.482 DEBUG org.hibernate.SQL - insert into CUSTOMER (birthDate,creationDate,email,firstname,lastname,photo,status,version,ID) values (?,?,?,?,?,?,?,?,?)\n"
     ]
    },
    {
     "name": "stdout",
     "output_type": "stream",
     "text": [
      "13:17:40.482 DEBUG org.hibernate.SQL - select count(*)>0 from CUSTOMER c1_0 where c1_0.email=?\n"
     ]
    },
    {
     "name": "stdout",
     "output_type": "stream",
     "text": [
      "13:17:40.483 DEBUG org.hibernate.SQL - insert into CUSTOMER (birthDate,creationDate,email,firstname,lastname,photo,status,version,ID) values (?,?,?,?,?,?,?,?,?)\n"
     ]
    },
    {
     "name": "stdout",
     "output_type": "stream",
     "text": [
      "13:17:40.483 DEBUG org.hibernate.SQL - select count(*)>0 from CUSTOMER c1_0 where c1_0.email=?\n"
     ]
    },
    {
     "name": "stdout",
     "output_type": "stream",
     "text": [
      "13:17:40.483 DEBUG org.hibernate.SQL - insert into CUSTOMER (birthDate,creationDate,email,firstname,lastname,photo,status,version,ID) values (?,?,?,?,?,?,?,?,?)\n"
     ]
    },
    {
     "name": "stdout",
     "output_type": "stream",
     "text": [
      "13:17:40.483 DEBUG org.hibernate.SQL - select count(*)>0 from CUSTOMER c1_0 where c1_0.email=?\n"
     ]
    },
    {
     "name": "stdout",
     "output_type": "stream",
     "text": [
      "13:17:40.484 DEBUG org.hibernate.SQL - insert into CUSTOMER (birthDate,creationDate,email,firstname,lastname,photo,status,version,ID) values (?,?,?,?,?,?,?,?,?)\n"
     ]
    },
    {
     "name": "stdout",
     "output_type": "stream",
     "text": [
      "13:17:40.484 DEBUG org.hibernate.SQL - select count(*)>0 from CUSTOMER c1_0 where c1_0.email=?\n"
     ]
    },
    {
     "name": "stdout",
     "output_type": "stream",
     "text": [
      "13:17:40.484 DEBUG org.hibernate.SQL - insert into CUSTOMER (birthDate,creationDate,email,firstname,lastname,photo,status,version,ID) values (?,?,?,?,?,?,?,?,?)\n"
     ]
    },
    {
     "name": "stdout",
     "output_type": "stream",
     "text": [
      "13:17:40.485 DEBUG org.hibernate.SQL - select count(*)>0 from CUSTOMER c1_0 where c1_0.email=?\n"
     ]
    },
    {
     "name": "stdout",
     "output_type": "stream",
     "text": [
      "13:17:40.485 DEBUG org.hibernate.SQL - insert into CUSTOMER (birthDate,creationDate,email,firstname,lastname,photo,status,version,ID) values (?,?,?,?,?,?,?,?,?)\n"
     ]
    },
    {
     "name": "stdout",
     "output_type": "stream",
     "text": [
      "13:17:40.485 DEBUG org.hibernate.SQL - select count(*)>0 from CUSTOMER c1_0 where c1_0.email=?\n"
     ]
    },
    {
     "name": "stdout",
     "output_type": "stream",
     "text": [
      "13:17:40.486 DEBUG org.hibernate.SQL - insert into CUSTOMER (birthDate,creationDate,email,firstname,lastname,photo,status,version,ID) values (?,?,?,?,?,?,?,?,?)\n"
     ]
    },
    {
     "name": "stdout",
     "output_type": "stream",
     "text": [
      "13:17:40.486 DEBUG org.hibernate.SQL - select count(*)>0 from CUSTOMER c1_0 where c1_0.email=?\n"
     ]
    },
    {
     "name": "stdout",
     "output_type": "stream",
     "text": [
      "13:17:40.486 DEBUG org.hibernate.SQL - insert into CUSTOMER (birthDate,creationDate,email,firstname,lastname,photo,status,version,ID) values (?,?,?,?,?,?,?,?,?)\n"
     ]
    },
    {
     "name": "stdout",
     "output_type": "stream",
     "text": [
      "13:17:40.486 DEBUG org.hibernate.SQL - select count(*)>0 from CUSTOMER c1_0 where c1_0.email=?\n"
     ]
    },
    {
     "name": "stdout",
     "output_type": "stream",
     "text": [
      "13:17:40.486 DEBUG org.hibernate.SQL - select nextval('CUSTOMER_SEQ')\n"
     ]
    },
    {
     "name": "stdout",
     "output_type": "stream",
     "text": [
      "13:17:40.487 DEBUG org.hibernate.SQL - insert into CUSTOMER (birthDate,creationDate,email,firstname,lastname,photo,status,version,ID) values (?,?,?,?,?,?,?,?,?)\n"
     ]
    },
    {
     "name": "stdout",
     "output_type": "stream",
     "text": [
      "13:17:40.487 DEBUG org.hibernate.SQL - select count(*)>0 from CUSTOMER c1_0 where c1_0.email=?\n"
     ]
    },
    {
     "name": "stdout",
     "output_type": "stream",
     "text": [
      "13:17:40.488 DEBUG org.hibernate.SQL - insert into CUSTOMER (birthDate,creationDate,email,firstname,lastname,photo,status,version,ID) values (?,?,?,?,?,?,?,?,?)\n"
     ]
    },
    {
     "name": "stdout",
     "output_type": "stream",
     "text": [
      "13:17:40.488 DEBUG org.hibernate.SQL - select count(*)>0 from CUSTOMER c1_0 where c1_0.email=?\n"
     ]
    },
    {
     "name": "stdout",
     "output_type": "stream",
     "text": [
      "13:17:40.488 DEBUG org.hibernate.SQL - insert into CUSTOMER (birthDate,creationDate,email,firstname,lastname,photo,status,version,ID) values (?,?,?,?,?,?,?,?,?)\n"
     ]
    },
    {
     "name": "stdout",
     "output_type": "stream",
     "text": [
      "13:17:40.488 DEBUG org.hibernate.SQL - select count(*)>0 from CUSTOMER c1_0 where c1_0.email=?\n"
     ]
    },
    {
     "name": "stdout",
     "output_type": "stream",
     "text": [
      "13:17:40.489 DEBUG org.hibernate.SQL - insert into CUSTOMER (birthDate,creationDate,email,firstname,lastname,photo,status,version,ID) values (?,?,?,?,?,?,?,?,?)\n"
     ]
    },
    {
     "name": "stdout",
     "output_type": "stream",
     "text": [
      "13:17:40.489 DEBUG org.hibernate.SQL - select count(*)>0 from CUSTOMER c1_0 where c1_0.email=?\n"
     ]
    },
    {
     "name": "stdout",
     "output_type": "stream",
     "text": [
      "13:17:40.489 DEBUG org.hibernate.SQL - insert into CUSTOMER (birthDate,creationDate,email,firstname,lastname,photo,status,version,ID) values (?,?,?,?,?,?,?,?,?)\n"
     ]
    },
    {
     "name": "stdout",
     "output_type": "stream",
     "text": [
      "13:17:40.489 DEBUG org.hibernate.SQL - select count(*)>0 from CUSTOMER c1_0 where c1_0.email=?\n"
     ]
    },
    {
     "name": "stdout",
     "output_type": "stream",
     "text": [
      "13:17:40.490 DEBUG org.hibernate.SQL - insert into CUSTOMER (birthDate,creationDate,email,firstname,lastname,photo,status,version,ID) values (?,?,?,?,?,?,?,?,?)\n"
     ]
    },
    {
     "name": "stdout",
     "output_type": "stream",
     "text": [
      "13:17:40.490 DEBUG org.hibernate.SQL - select count(*)>0 from CUSTOMER c1_0 where c1_0.email=?\n"
     ]
    },
    {
     "name": "stdout",
     "output_type": "stream",
     "text": [
      "13:17:40.491 DEBUG org.hibernate.SQL - insert into CUSTOMER (birthDate,creationDate,email,firstname,lastname,photo,status,version,ID) values (?,?,?,?,?,?,?,?,?)\n"
     ]
    },
    {
     "name": "stdout",
     "output_type": "stream",
     "text": [
      "13:17:40.491 DEBUG org.hibernate.SQL - select count(*)>0 from CUSTOMER c1_0 where c1_0.email=?\n"
     ]
    },
    {
     "name": "stdout",
     "output_type": "stream",
     "text": [
      "13:17:40.491 DEBUG org.hibernate.SQL - insert into CUSTOMER (birthDate,creationDate,email,firstname,lastname,photo,status,version,ID) values (?,?,?,?,?,?,?,?,?)\n"
     ]
    },
    {
     "name": "stdout",
     "output_type": "stream",
     "text": [
      "13:17:40.492 DEBUG org.hibernate.SQL - select count(*)>0 from CUSTOMER c1_0 where c1_0.email=?\n"
     ]
    },
    {
     "name": "stdout",
     "output_type": "stream",
     "text": [
      "13:17:40.492 DEBUG org.hibernate.SQL - insert into CUSTOMER (birthDate,creationDate,email,firstname,lastname,photo,status,version,ID) values (?,?,?,?,?,?,?,?,?)\n"
     ]
    },
    {
     "name": "stdout",
     "output_type": "stream",
     "text": [
      "13:17:40.492 DEBUG org.hibernate.SQL - select count(*)>0 from CUSTOMER c1_0 where c1_0.email=?\n"
     ]
    },
    {
     "name": "stdout",
     "output_type": "stream",
     "text": [
      "13:17:40.493 DEBUG org.hibernate.SQL - insert into CUSTOMER (birthDate,creationDate,email,firstname,lastname,photo,status,version,ID) values (?,?,?,?,?,?,?,?,?)\n"
     ]
    },
    {
     "name": "stdout",
     "output_type": "stream",
     "text": [
      "13:17:40.493 DEBUG org.hibernate.SQL - select count(*)>0 from CUSTOMER c1_0 where c1_0.email=?\n"
     ]
    },
    {
     "name": "stdout",
     "output_type": "stream",
     "text": [
      "13:17:40.493 DEBUG org.hibernate.SQL - insert into CUSTOMER (birthDate,creationDate,email,firstname,lastname,photo,status,version,ID) values (?,?,?,?,?,?,?,?,?)\n"
     ]
    },
    {
     "name": "stdout",
     "output_type": "stream",
     "text": [
      "13:17:40.494 DEBUG org.hibernate.SQL - select count(*)>0 from CUSTOMER c1_0 where c1_0.email=?\n"
     ]
    },
    {
     "name": "stdout",
     "output_type": "stream",
     "text": [
      "13:17:40.494 DEBUG org.hibernate.SQL - insert into CUSTOMER (birthDate,creationDate,email,firstname,lastname,photo,status,version,ID) values (?,?,?,?,?,?,?,?,?)\n"
     ]
    },
    {
     "name": "stdout",
     "output_type": "stream",
     "text": [
      "13:17:40.494 DEBUG org.hibernate.SQL - select count(*)>0 from CUSTOMER c1_0 where c1_0.email=?\n"
     ]
    },
    {
     "name": "stdout",
     "output_type": "stream",
     "text": [
      "13:17:40.495 DEBUG org.hibernate.SQL - insert into CUSTOMER (birthDate,creationDate,email,firstname,lastname,photo,status,version,ID) values (?,?,?,?,?,?,?,?,?)\n"
     ]
    },
    {
     "name": "stdout",
     "output_type": "stream",
     "text": [
      "13:17:40.495 DEBUG org.hibernate.SQL - select count(*)>0 from CUSTOMER c1_0 where c1_0.email=?\n"
     ]
    },
    {
     "name": "stdout",
     "output_type": "stream",
     "text": [
      "13:17:40.495 DEBUG org.hibernate.SQL - insert into CUSTOMER (birthDate,creationDate,email,firstname,lastname,photo,status,version,ID) values (?,?,?,?,?,?,?,?,?)\n"
     ]
    },
    {
     "name": "stdout",
     "output_type": "stream",
     "text": [
      "13:17:40.496 DEBUG org.hibernate.SQL - select count(*)>0 from CUSTOMER c1_0 where c1_0.email=?\n"
     ]
    },
    {
     "name": "stdout",
     "output_type": "stream",
     "text": [
      "13:17:40.496 DEBUG org.hibernate.SQL - insert into CUSTOMER (birthDate,creationDate,email,firstname,lastname,photo,status,version,ID) values (?,?,?,?,?,?,?,?,?)\n"
     ]
    },
    {
     "name": "stdout",
     "output_type": "stream",
     "text": [
      "13:17:40.496 DEBUG org.hibernate.SQL - select count(*)>0 from CUSTOMER c1_0 where c1_0.email=?\n"
     ]
    },
    {
     "name": "stdout",
     "output_type": "stream",
     "text": [
      "13:17:40.497 DEBUG org.hibernate.SQL - insert into CUSTOMER (birthDate,creationDate,email,firstname,lastname,photo,status,version,ID) values (?,?,?,?,?,?,?,?,?)\n"
     ]
    },
    {
     "name": "stdout",
     "output_type": "stream",
     "text": [
      "13:17:40.497 DEBUG org.hibernate.SQL - select count(*)>0 from CUSTOMER c1_0 where c1_0.email=?\n"
     ]
    },
    {
     "name": "stdout",
     "output_type": "stream",
     "text": [
      "13:17:40.497 DEBUG org.hibernate.SQL - insert into CUSTOMER (birthDate,creationDate,email,firstname,lastname,photo,status,version,ID) values (?,?,?,?,?,?,?,?,?)\n"
     ]
    },
    {
     "name": "stdout",
     "output_type": "stream",
     "text": [
      "13:17:40.497 DEBUG org.hibernate.SQL - select count(*)>0 from CUSTOMER c1_0 where c1_0.email=?\n"
     ]
    },
    {
     "name": "stdout",
     "output_type": "stream",
     "text": [
      "13:17:40.498 DEBUG org.hibernate.SQL - insert into CUSTOMER (birthDate,creationDate,email,firstname,lastname,photo,status,version,ID) values (?,?,?,?,?,?,?,?,?)\n"
     ]
    },
    {
     "name": "stdout",
     "output_type": "stream",
     "text": [
      "13:17:40.498 DEBUG org.hibernate.SQL - select count(*)>0 from CUSTOMER c1_0 where c1_0.email=?\n"
     ]
    },
    {
     "name": "stdout",
     "output_type": "stream",
     "text": [
      "13:17:40.498 DEBUG org.hibernate.SQL - insert into CUSTOMER (birthDate,creationDate,email,firstname,lastname,photo,status,version,ID) values (?,?,?,?,?,?,?,?,?)\n"
     ]
    },
    {
     "name": "stdout",
     "output_type": "stream",
     "text": [
      "13:17:40.499 DEBUG org.hibernate.SQL - select count(*)>0 from CUSTOMER c1_0 where c1_0.email=?\n"
     ]
    },
    {
     "name": "stdout",
     "output_type": "stream",
     "text": [
      "13:17:40.499 DEBUG org.hibernate.SQL - insert into CUSTOMER (birthDate,creationDate,email,firstname,lastname,photo,status,version,ID) values (?,?,?,?,?,?,?,?,?)\n"
     ]
    },
    {
     "name": "stdout",
     "output_type": "stream",
     "text": [
      "13:17:40.499 DEBUG org.hibernate.SQL - select count(*)>0 from CUSTOMER c1_0 where c1_0.email=?\n"
     ]
    },
    {
     "name": "stdout",
     "output_type": "stream",
     "text": [
      "13:17:40.503 DEBUG org.hibernate.SQL - insert into CUSTOMER (birthDate,creationDate,email,firstname,lastname,photo,status,version,ID) values (?,?,?,?,?,?,?,?,?)\n"
     ]
    },
    {
     "name": "stdout",
     "output_type": "stream",
     "text": [
      "13:17:40.504 DEBUG org.hibernate.SQL - select count(*)>0 from CUSTOMER c1_0 where c1_0.email=?\n"
     ]
    },
    {
     "name": "stdout",
     "output_type": "stream",
     "text": [
      "13:17:40.505 DEBUG org.hibernate.SQL - insert into CUSTOMER (birthDate,creationDate,email,firstname,lastname,photo,status,version,ID) values (?,?,?,?,?,?,?,?,?)\n"
     ]
    },
    {
     "name": "stdout",
     "output_type": "stream",
     "text": [
      "13:17:40.506 DEBUG org.hibernate.SQL - select count(*)>0 from CUSTOMER c1_0 where c1_0.email=?\n"
     ]
    },
    {
     "name": "stdout",
     "output_type": "stream",
     "text": [
      "13:17:40.508 DEBUG org.hibernate.SQL - insert into CUSTOMER (birthDate,creationDate,email,firstname,lastname,photo,status,version,ID) values (?,?,?,?,?,?,?,?,?)\n"
     ]
    },
    {
     "name": "stdout",
     "output_type": "stream",
     "text": [
      "13:17:40.508 DEBUG org.hibernate.SQL - select count(*)>0 from CUSTOMER c1_0 where c1_0.email=?\n"
     ]
    },
    {
     "name": "stdout",
     "output_type": "stream",
     "text": [
      "13:17:40.509 DEBUG org.hibernate.SQL - insert into CUSTOMER (birthDate,creationDate,email,firstname,lastname,photo,status,version,ID) values (?,?,?,?,?,?,?,?,?)\n"
     ]
    },
    {
     "name": "stdout",
     "output_type": "stream",
     "text": [
      "13:17:40.509 DEBUG org.hibernate.SQL - select count(*)>0 from CUSTOMER c1_0 where c1_0.email=?\n"
     ]
    },
    {
     "name": "stdout",
     "output_type": "stream",
     "text": [
      "13:17:40.510 DEBUG org.hibernate.SQL - insert into CUSTOMER (birthDate,creationDate,email,firstname,lastname,photo,status,version,ID) values (?,?,?,?,?,?,?,?,?)\n"
     ]
    },
    {
     "name": "stdout",
     "output_type": "stream",
     "text": [
      "13:17:40.510 DEBUG org.hibernate.SQL - select count(*)>0 from CUSTOMER c1_0 where c1_0.email=?\n"
     ]
    },
    {
     "name": "stdout",
     "output_type": "stream",
     "text": [
      "13:17:40.510 DEBUG org.hibernate.SQL - insert into CUSTOMER (birthDate,creationDate,email,firstname,lastname,photo,status,version,ID) values (?,?,?,?,?,?,?,?,?)\n"
     ]
    },
    {
     "name": "stdout",
     "output_type": "stream",
     "text": [
      "13:17:40.511 DEBUG org.hibernate.SQL - select count(*)>0 from CUSTOMER c1_0 where c1_0.email=?\n"
     ]
    },
    {
     "name": "stdout",
     "output_type": "stream",
     "text": [
      "13:17:40.511 DEBUG org.hibernate.SQL - insert into CUSTOMER (birthDate,creationDate,email,firstname,lastname,photo,status,version,ID) values (?,?,?,?,?,?,?,?,?)\n"
     ]
    },
    {
     "name": "stdout",
     "output_type": "stream",
     "text": [
      "13:17:40.511 DEBUG org.hibernate.SQL - select count(*)>0 from CUSTOMER c1_0 where c1_0.email=?\n"
     ]
    },
    {
     "name": "stdout",
     "output_type": "stream",
     "text": [
      "13:17:40.512 DEBUG org.hibernate.SQL - insert into CUSTOMER (birthDate,creationDate,email,firstname,lastname,photo,status,version,ID) values (?,?,?,?,?,?,?,?,?)\n"
     ]
    },
    {
     "name": "stdout",
     "output_type": "stream",
     "text": [
      "13:17:40.512 DEBUG org.hibernate.SQL - select count(*)>0 from CUSTOMER c1_0 where c1_0.email=?\n"
     ]
    },
    {
     "name": "stdout",
     "output_type": "stream",
     "text": [
      "13:17:40.513 DEBUG org.hibernate.SQL - insert into CUSTOMER (birthDate,creationDate,email,firstname,lastname,photo,status,version,ID) values (?,?,?,?,?,?,?,?,?)\n"
     ]
    },
    {
     "name": "stdout",
     "output_type": "stream",
     "text": [
      "13:17:40.513 DEBUG org.hibernate.SQL - select count(*)>0 from CUSTOMER c1_0 where c1_0.email=?\n"
     ]
    },
    {
     "name": "stdout",
     "output_type": "stream",
     "text": [
      "13:17:40.513 DEBUG org.hibernate.SQL - insert into CUSTOMER (birthDate,creationDate,email,firstname,lastname,photo,status,version,ID) values (?,?,?,?,?,?,?,?,?)\n"
     ]
    },
    {
     "name": "stdout",
     "output_type": "stream",
     "text": [
      "13:17:40.513 DEBUG org.hibernate.SQL - select count(*)>0 from CUSTOMER c1_0 where c1_0.email=?\n"
     ]
    },
    {
     "name": "stdout",
     "output_type": "stream",
     "text": [
      "13:17:40.514 DEBUG org.hibernate.SQL - insert into CUSTOMER (birthDate,creationDate,email,firstname,lastname,photo,status,version,ID) values (?,?,?,?,?,?,?,?,?)\n"
     ]
    },
    {
     "name": "stdout",
     "output_type": "stream",
     "text": [
      "13:17:40.514 DEBUG org.hibernate.SQL - select count(*)>0 from CUSTOMER c1_0 where c1_0.email=?\n"
     ]
    },
    {
     "name": "stdout",
     "output_type": "stream",
     "text": [
      "13:17:40.515 DEBUG org.hibernate.SQL - insert into CUSTOMER (birthDate,creationDate,email,firstname,lastname,photo,status,version,ID) values (?,?,?,?,?,?,?,?,?)\n"
     ]
    },
    {
     "name": "stdout",
     "output_type": "stream",
     "text": [
      "13:17:40.515 DEBUG org.hibernate.SQL - select count(*)>0 from CUSTOMER c1_0 where c1_0.email=?\n"
     ]
    },
    {
     "name": "stdout",
     "output_type": "stream",
     "text": [
      "13:17:40.515 DEBUG org.hibernate.SQL - insert into CUSTOMER (birthDate,creationDate,email,firstname,lastname,photo,status,version,ID) values (?,?,?,?,?,?,?,?,?)\n"
     ]
    },
    {
     "name": "stdout",
     "output_type": "stream",
     "text": [
      "13:17:40.516 DEBUG org.hibernate.SQL - select count(*)>0 from CUSTOMER c1_0 where c1_0.email=?\n"
     ]
    },
    {
     "name": "stdout",
     "output_type": "stream",
     "text": [
      "13:17:40.516 DEBUG org.hibernate.SQL - insert into CUSTOMER (birthDate,creationDate,email,firstname,lastname,photo,status,version,ID) values (?,?,?,?,?,?,?,?,?)\n"
     ]
    },
    {
     "name": "stdout",
     "output_type": "stream",
     "text": [
      "13:17:40.516 DEBUG org.hibernate.SQL - select count(*)>0 from CUSTOMER c1_0 where c1_0.email=?\n"
     ]
    },
    {
     "name": "stdout",
     "output_type": "stream",
     "text": [
      "13:17:40.517 DEBUG org.hibernate.SQL - insert into CUSTOMER (birthDate,creationDate,email,firstname,lastname,photo,status,version,ID) values (?,?,?,?,?,?,?,?,?)\n"
     ]
    },
    {
     "name": "stdout",
     "output_type": "stream",
     "text": [
      "13:17:40.517 DEBUG org.hibernate.SQL - select count(*)>0 from CUSTOMER c1_0 where c1_0.email=?\n"
     ]
    },
    {
     "name": "stdout",
     "output_type": "stream",
     "text": [
      "13:17:40.518 DEBUG org.hibernate.SQL - insert into CUSTOMER (birthDate,creationDate,email,firstname,lastname,photo,status,version,ID) values (?,?,?,?,?,?,?,?,?)\n"
     ]
    },
    {
     "name": "stdout",
     "output_type": "stream",
     "text": [
      "13:17:40.518 DEBUG org.hibernate.SQL - select count(*)>0 from CUSTOMER c1_0 where c1_0.email=?\n"
     ]
    },
    {
     "name": "stdout",
     "output_type": "stream",
     "text": [
      "13:17:40.518 DEBUG org.hibernate.SQL - insert into CUSTOMER (birthDate,creationDate,email,firstname,lastname,photo,status,version,ID) values (?,?,?,?,?,?,?,?,?)\n"
     ]
    },
    {
     "name": "stdout",
     "output_type": "stream",
     "text": [
      "13:17:40.519 DEBUG org.hibernate.SQL - select count(*)>0 from CUSTOMER c1_0 where c1_0.email=?\n"
     ]
    },
    {
     "name": "stdout",
     "output_type": "stream",
     "text": [
      "13:17:40.519 DEBUG org.hibernate.SQL - insert into CUSTOMER (birthDate,creationDate,email,firstname,lastname,photo,status,version,ID) values (?,?,?,?,?,?,?,?,?)\n"
     ]
    },
    {
     "name": "stdout",
     "output_type": "stream",
     "text": [
      "13:17:40.519 DEBUG org.hibernate.SQL - select count(*)>0 from CUSTOMER c1_0 where c1_0.email=?\n"
     ]
    },
    {
     "name": "stdout",
     "output_type": "stream",
     "text": [
      "13:17:40.520 DEBUG org.hibernate.SQL - insert into CUSTOMER (birthDate,creationDate,email,firstname,lastname,photo,status,version,ID) values (?,?,?,?,?,?,?,?,?)\n"
     ]
    },
    {
     "name": "stdout",
     "output_type": "stream",
     "text": [
      "13:17:40.520 DEBUG org.hibernate.SQL - select count(*)>0 from CUSTOMER c1_0 where c1_0.email=?\n"
     ]
    },
    {
     "name": "stdout",
     "output_type": "stream",
     "text": [
      "13:17:40.520 DEBUG org.hibernate.SQL - insert into CUSTOMER (birthDate,creationDate,email,firstname,lastname,photo,status,version,ID) values (?,?,?,?,?,?,?,?,?)\n"
     ]
    },
    {
     "name": "stdout",
     "output_type": "stream",
     "text": [
      "13:17:40.521 DEBUG org.hibernate.SQL - select count(*)>0 from CUSTOMER c1_0 where c1_0.email=?\n"
     ]
    },
    {
     "name": "stdout",
     "output_type": "stream",
     "text": [
      "13:17:40.521 DEBUG org.hibernate.SQL - insert into CUSTOMER (birthDate,creationDate,email,firstname,lastname,photo,status,version,ID) values (?,?,?,?,?,?,?,?,?)\n"
     ]
    },
    {
     "name": "stdout",
     "output_type": "stream",
     "text": [
      "13:17:40.521 DEBUG org.hibernate.SQL - select count(*)>0 from CUSTOMER c1_0 where c1_0.email=?\n"
     ]
    },
    {
     "name": "stdout",
     "output_type": "stream",
     "text": [
      "13:17:40.522 DEBUG org.hibernate.SQL - insert into CUSTOMER (birthDate,creationDate,email,firstname,lastname,photo,status,version,ID) values (?,?,?,?,?,?,?,?,?)\n"
     ]
    },
    {
     "name": "stdout",
     "output_type": "stream",
     "text": [
      "13:17:40.522 DEBUG org.hibernate.SQL - select count(*)>0 from CUSTOMER c1_0 where c1_0.email=?\n"
     ]
    },
    {
     "name": "stdout",
     "output_type": "stream",
     "text": [
      "13:17:40.523 DEBUG org.hibernate.SQL - insert into CUSTOMER (birthDate,creationDate,email,firstname,lastname,photo,status,version,ID) values (?,?,?,?,?,?,?,?,?)\n"
     ]
    },
    {
     "name": "stdout",
     "output_type": "stream",
     "text": [
      "13:17:40.523 DEBUG org.hibernate.SQL - select count(*)>0 from CUSTOMER c1_0 where c1_0.email=?\n"
     ]
    },
    {
     "name": "stdout",
     "output_type": "stream",
     "text": [
      "13:17:40.523 DEBUG org.hibernate.SQL - insert into CUSTOMER (birthDate,creationDate,email,firstname,lastname,photo,status,version,ID) values (?,?,?,?,?,?,?,?,?)\n"
     ]
    },
    {
     "name": "stdout",
     "output_type": "stream",
     "text": [
      "13:17:40.524 DEBUG org.hibernate.SQL - select count(*)>0 from CUSTOMER c1_0 where c1_0.email=?\n"
     ]
    },
    {
     "name": "stdout",
     "output_type": "stream",
     "text": [
      "13:17:40.524 DEBUG org.hibernate.SQL - insert into CUSTOMER (birthDate,creationDate,email,firstname,lastname,photo,status,version,ID) values (?,?,?,?,?,?,?,?,?)\n"
     ]
    },
    {
     "name": "stdout",
     "output_type": "stream",
     "text": [
      "13:17:40.524 DEBUG org.hibernate.SQL - select count(*)>0 from CUSTOMER c1_0 where c1_0.email=?\n"
     ]
    },
    {
     "name": "stdout",
     "output_type": "stream",
     "text": [
      "13:17:40.525 DEBUG org.hibernate.SQL - insert into CUSTOMER (birthDate,creationDate,email,firstname,lastname,photo,status,version,ID) values (?,?,?,?,?,?,?,?,?)\n"
     ]
    },
    {
     "name": "stdout",
     "output_type": "stream",
     "text": [
      "13:17:40.525 DEBUG org.hibernate.SQL - select count(*)>0 from CUSTOMER c1_0 where c1_0.email=?\n"
     ]
    },
    {
     "name": "stdout",
     "output_type": "stream",
     "text": [
      "13:17:40.526 DEBUG org.hibernate.SQL - insert into CUSTOMER (birthDate,creationDate,email,firstname,lastname,photo,status,version,ID) values (?,?,?,?,?,?,?,?,?)\n"
     ]
    },
    {
     "name": "stdout",
     "output_type": "stream",
     "text": [
      "13:17:40.526 DEBUG org.hibernate.SQL - select count(*)>0 from CUSTOMER c1_0 where c1_0.email=?\n"
     ]
    },
    {
     "name": "stdout",
     "output_type": "stream",
     "text": [
      "13:17:40.526 DEBUG org.hibernate.SQL - insert into CUSTOMER (birthDate,creationDate,email,firstname,lastname,photo,status,version,ID) values (?,?,?,?,?,?,?,?,?)\n"
     ]
    },
    {
     "name": "stdout",
     "output_type": "stream",
     "text": [
      "13:17:40.527 DEBUG org.hibernate.SQL - select count(*)>0 from CUSTOMER c1_0 where c1_0.email=?\n"
     ]
    },
    {
     "name": "stdout",
     "output_type": "stream",
     "text": [
      "13:17:40.527 DEBUG org.hibernate.SQL - insert into CUSTOMER (birthDate,creationDate,email,firstname,lastname,photo,status,version,ID) values (?,?,?,?,?,?,?,?,?)\n"
     ]
    },
    {
     "name": "stdout",
     "output_type": "stream",
     "text": [
      "13:17:40.527 DEBUG org.hibernate.SQL - select count(*)>0 from CUSTOMER c1_0 where c1_0.email=?\n"
     ]
    },
    {
     "name": "stdout",
     "output_type": "stream",
     "text": [
      "13:17:40.528 DEBUG org.hibernate.SQL - insert into CUSTOMER (birthDate,creationDate,email,firstname,lastname,photo,status,version,ID) values (?,?,?,?,?,?,?,?,?)\n"
     ]
    },
    {
     "name": "stdout",
     "output_type": "stream",
     "text": [
      "13:17:40.528 DEBUG org.hibernate.SQL - select count(*)>0 from CUSTOMER c1_0 where c1_0.email=?\n"
     ]
    },
    {
     "name": "stdout",
     "output_type": "stream",
     "text": [
      "13:17:40.528 DEBUG org.hibernate.SQL - select nextval('CUSTOMER_SEQ')\n"
     ]
    },
    {
     "name": "stdout",
     "output_type": "stream",
     "text": [
      "13:17:40.529 DEBUG org.hibernate.SQL - insert into CUSTOMER (birthDate,creationDate,email,firstname,lastname,photo,status,version,ID) values (?,?,?,?,?,?,?,?,?)\n"
     ]
    },
    {
     "name": "stdout",
     "output_type": "stream",
     "text": [
      "13:17:40.529 DEBUG org.hibernate.SQL - select count(*)>0 from CUSTOMER c1_0 where c1_0.email=?\n"
     ]
    },
    {
     "name": "stdout",
     "output_type": "stream",
     "text": [
      "13:17:40.530 DEBUG org.hibernate.SQL - insert into CUSTOMER (birthDate,creationDate,email,firstname,lastname,photo,status,version,ID) values (?,?,?,?,?,?,?,?,?)\n"
     ]
    },
    {
     "name": "stdout",
     "output_type": "stream",
     "text": [
      "13:17:40.530 DEBUG org.hibernate.SQL - select count(*)>0 from CUSTOMER c1_0 where c1_0.email=?\n"
     ]
    },
    {
     "name": "stdout",
     "output_type": "stream",
     "text": [
      "13:17:40.530 DEBUG org.hibernate.SQL - insert into CUSTOMER (birthDate,creationDate,email,firstname,lastname,photo,status,version,ID) values (?,?,?,?,?,?,?,?,?)\n"
     ]
    },
    {
     "name": "stdout",
     "output_type": "stream",
     "text": [
      "13:17:40.531 DEBUG org.hibernate.SQL - select count(*)>0 from CUSTOMER c1_0 where c1_0.email=?\n"
     ]
    },
    {
     "name": "stdout",
     "output_type": "stream",
     "text": [
      "13:17:40.531 DEBUG org.hibernate.SQL - insert into CUSTOMER (birthDate,creationDate,email,firstname,lastname,photo,status,version,ID) values (?,?,?,?,?,?,?,?,?)\n"
     ]
    },
    {
     "name": "stdout",
     "output_type": "stream",
     "text": [
      "13:17:40.531 DEBUG org.hibernate.SQL - select count(*)>0 from CUSTOMER c1_0 where c1_0.email=?\n"
     ]
    },
    {
     "name": "stdout",
     "output_type": "stream",
     "text": [
      "13:17:40.532 DEBUG org.hibernate.SQL - insert into CUSTOMER (birthDate,creationDate,email,firstname,lastname,photo,status,version,ID) values (?,?,?,?,?,?,?,?,?)\n"
     ]
    },
    {
     "name": "stdout",
     "output_type": "stream",
     "text": [
      "13:17:40.532 DEBUG org.hibernate.SQL - select count(*)>0 from CUSTOMER c1_0 where c1_0.email=?\n"
     ]
    },
    {
     "name": "stdout",
     "output_type": "stream",
     "text": [
      "13:17:40.533 DEBUG org.hibernate.SQL - insert into CUSTOMER (birthDate,creationDate,email,firstname,lastname,photo,status,version,ID) values (?,?,?,?,?,?,?,?,?)\n"
     ]
    },
    {
     "name": "stdout",
     "output_type": "stream",
     "text": [
      "13:17:40.533 DEBUG org.hibernate.SQL - select count(*)>0 from CUSTOMER c1_0 where c1_0.email=?\n"
     ]
    },
    {
     "name": "stdout",
     "output_type": "stream",
     "text": [
      "13:17:40.533 DEBUG org.hibernate.SQL - insert into CUSTOMER (birthDate,creationDate,email,firstname,lastname,photo,status,version,ID) values (?,?,?,?,?,?,?,?,?)\n"
     ]
    },
    {
     "name": "stdout",
     "output_type": "stream",
     "text": [
      "13:17:40.534 DEBUG org.hibernate.SQL - select count(*)>0 from CUSTOMER c1_0 where c1_0.email=?\n"
     ]
    },
    {
     "name": "stdout",
     "output_type": "stream",
     "text": [
      "13:17:40.534 DEBUG org.hibernate.SQL - insert into CUSTOMER (birthDate,creationDate,email,firstname,lastname,photo,status,version,ID) values (?,?,?,?,?,?,?,?,?)\n"
     ]
    },
    {
     "name": "stdout",
     "output_type": "stream",
     "text": [
      "13:17:40.534 DEBUG org.hibernate.SQL - select count(*)>0 from CUSTOMER c1_0 where c1_0.email=?\n"
     ]
    },
    {
     "name": "stdout",
     "output_type": "stream",
     "text": [
      "13:17:40.535 DEBUG org.hibernate.SQL - insert into CUSTOMER (birthDate,creationDate,email,firstname,lastname,photo,status,version,ID) values (?,?,?,?,?,?,?,?,?)\n"
     ]
    },
    {
     "name": "stdout",
     "output_type": "stream",
     "text": [
      "13:17:40.535 DEBUG org.hibernate.SQL - select count(*)>0 from CUSTOMER c1_0 where c1_0.email=?\n"
     ]
    },
    {
     "name": "stdout",
     "output_type": "stream",
     "text": [
      "13:17:40.536 DEBUG org.hibernate.SQL - insert into CUSTOMER (birthDate,creationDate,email,firstname,lastname,photo,status,version,ID) values (?,?,?,?,?,?,?,?,?)\n"
     ]
    },
    {
     "name": "stdout",
     "output_type": "stream",
     "text": [
      "13:17:40.536 DEBUG org.hibernate.SQL - select count(*)>0 from CUSTOMER c1_0 where c1_0.email=?\n"
     ]
    },
    {
     "name": "stdout",
     "output_type": "stream",
     "text": [
      "13:17:40.537 DEBUG org.hibernate.SQL - insert into CUSTOMER (birthDate,creationDate,email,firstname,lastname,photo,status,version,ID) values (?,?,?,?,?,?,?,?,?)\n"
     ]
    },
    {
     "name": "stdout",
     "output_type": "stream",
     "text": [
      "13:17:40.537 DEBUG org.hibernate.SQL - select count(*)>0 from CUSTOMER c1_0 where c1_0.email=?\n"
     ]
    },
    {
     "name": "stdout",
     "output_type": "stream",
     "text": [
      "13:17:40.537 DEBUG org.hibernate.SQL - insert into CUSTOMER (birthDate,creationDate,email,firstname,lastname,photo,status,version,ID) values (?,?,?,?,?,?,?,?,?)\n"
     ]
    },
    {
     "name": "stdout",
     "output_type": "stream",
     "text": [
      "13:17:40.537 DEBUG org.hibernate.SQL - select count(*)>0 from CUSTOMER c1_0 where c1_0.email=?\n"
     ]
    },
    {
     "name": "stdout",
     "output_type": "stream",
     "text": [
      "13:17:40.538 DEBUG org.hibernate.SQL - insert into CUSTOMER (birthDate,creationDate,email,firstname,lastname,photo,status,version,ID) values (?,?,?,?,?,?,?,?,?)\n"
     ]
    },
    {
     "name": "stdout",
     "output_type": "stream",
     "text": [
      "13:17:40.538 DEBUG org.hibernate.SQL - select count(*)>0 from CUSTOMER c1_0 where c1_0.email=?\n"
     ]
    },
    {
     "name": "stdout",
     "output_type": "stream",
     "text": [
      "13:17:40.539 DEBUG org.hibernate.SQL - insert into CUSTOMER (birthDate,creationDate,email,firstname,lastname,photo,status,version,ID) values (?,?,?,?,?,?,?,?,?)\n"
     ]
    },
    {
     "name": "stdout",
     "output_type": "stream",
     "text": [
      "13:17:40.539 DEBUG org.hibernate.SQL - select count(*)>0 from CUSTOMER c1_0 where c1_0.email=?\n"
     ]
    },
    {
     "name": "stdout",
     "output_type": "stream",
     "text": [
      "13:17:40.539 DEBUG org.hibernate.SQL - insert into CUSTOMER (birthDate,creationDate,email,firstname,lastname,photo,status,version,ID) values (?,?,?,?,?,?,?,?,?)\n"
     ]
    },
    {
     "name": "stdout",
     "output_type": "stream",
     "text": [
      "13:17:40.539 DEBUG org.hibernate.SQL - select count(*)>0 from CUSTOMER c1_0 where c1_0.email=?\n"
     ]
    },
    {
     "name": "stdout",
     "output_type": "stream",
     "text": [
      "13:17:40.540 DEBUG org.hibernate.SQL - insert into CUSTOMER (birthDate,creationDate,email,firstname,lastname,photo,status,version,ID) values (?,?,?,?,?,?,?,?,?)\n"
     ]
    },
    {
     "name": "stdout",
     "output_type": "stream",
     "text": [
      "13:17:40.540 DEBUG org.hibernate.SQL - select count(*)>0 from CUSTOMER c1_0 where c1_0.email=?\n"
     ]
    },
    {
     "name": "stdout",
     "output_type": "stream",
     "text": [
      "13:17:40.541 DEBUG org.hibernate.SQL - insert into CUSTOMER (birthDate,creationDate,email,firstname,lastname,photo,status,version,ID) values (?,?,?,?,?,?,?,?,?)\n"
     ]
    },
    {
     "name": "stdout",
     "output_type": "stream",
     "text": [
      "13:17:40.541 DEBUG org.hibernate.SQL - select count(*)>0 from CUSTOMER c1_0 where c1_0.email=?\n"
     ]
    },
    {
     "name": "stdout",
     "output_type": "stream",
     "text": [
      "13:17:40.541 DEBUG org.hibernate.SQL - insert into CUSTOMER (birthDate,creationDate,email,firstname,lastname,photo,status,version,ID) values (?,?,?,?,?,?,?,?,?)\n"
     ]
    },
    {
     "name": "stdout",
     "output_type": "stream",
     "text": [
      "13:17:40.542 DEBUG org.hibernate.SQL - select count(*)>0 from CUSTOMER c1_0 where c1_0.email=?\n"
     ]
    },
    {
     "name": "stdout",
     "output_type": "stream",
     "text": [
      "13:17:40.542 DEBUG org.hibernate.SQL - insert into CUSTOMER (birthDate,creationDate,email,firstname,lastname,photo,status,version,ID) values (?,?,?,?,?,?,?,?,?)\n"
     ]
    },
    {
     "name": "stdout",
     "output_type": "stream",
     "text": [
      "13:17:40.542 DEBUG org.hibernate.SQL - select count(*)>0 from CUSTOMER c1_0 where c1_0.email=?\n"
     ]
    },
    {
     "name": "stdout",
     "output_type": "stream",
     "text": [
      "13:17:40.543 DEBUG org.hibernate.SQL - insert into CUSTOMER (birthDate,creationDate,email,firstname,lastname,photo,status,version,ID) values (?,?,?,?,?,?,?,?,?)\n"
     ]
    },
    {
     "name": "stdout",
     "output_type": "stream",
     "text": [
      "13:17:40.543 DEBUG org.hibernate.SQL - select count(*)>0 from CUSTOMER c1_0 where c1_0.email=?\n"
     ]
    },
    {
     "name": "stdout",
     "output_type": "stream",
     "text": [
      "13:17:40.544 DEBUG org.hibernate.SQL - insert into CUSTOMER (birthDate,creationDate,email,firstname,lastname,photo,status,version,ID) values (?,?,?,?,?,?,?,?,?)\n"
     ]
    },
    {
     "name": "stdout",
     "output_type": "stream",
     "text": [
      "13:17:40.544 DEBUG org.hibernate.SQL - select count(*)>0 from CUSTOMER c1_0 where c1_0.email=?\n"
     ]
    },
    {
     "name": "stdout",
     "output_type": "stream",
     "text": [
      "13:17:40.544 DEBUG org.hibernate.SQL - insert into CUSTOMER (birthDate,creationDate,email,firstname,lastname,photo,status,version,ID) values (?,?,?,?,?,?,?,?,?)\n"
     ]
    },
    {
     "name": "stdout",
     "output_type": "stream",
     "text": [
      "13:17:40.545 DEBUG org.hibernate.SQL - select count(*)>0 from CUSTOMER c1_0 where c1_0.email=?\n"
     ]
    },
    {
     "name": "stdout",
     "output_type": "stream",
     "text": [
      "13:17:40.545 DEBUG org.hibernate.SQL - insert into CUSTOMER (birthDate,creationDate,email,firstname,lastname,photo,status,version,ID) values (?,?,?,?,?,?,?,?,?)\n"
     ]
    },
    {
     "name": "stdout",
     "output_type": "stream",
     "text": [
      "13:17:40.545 DEBUG org.hibernate.SQL - select count(*)>0 from CUSTOMER c1_0 where c1_0.email=?\n"
     ]
    },
    {
     "name": "stdout",
     "output_type": "stream",
     "text": [
      "13:17:40.546 DEBUG org.hibernate.SQL - insert into CUSTOMER (birthDate,creationDate,email,firstname,lastname,photo,status,version,ID) values (?,?,?,?,?,?,?,?,?)\n"
     ]
    },
    {
     "name": "stdout",
     "output_type": "stream",
     "text": [
      "13:17:40.546 DEBUG org.hibernate.SQL - select count(*)>0 from CUSTOMER c1_0 where c1_0.email=?\n"
     ]
    },
    {
     "name": "stdout",
     "output_type": "stream",
     "text": [
      "13:17:40.547 DEBUG org.hibernate.SQL - insert into CUSTOMER (birthDate,creationDate,email,firstname,lastname,photo,status,version,ID) values (?,?,?,?,?,?,?,?,?)\n"
     ]
    },
    {
     "name": "stdout",
     "output_type": "stream",
     "text": [
      "13:17:40.547 DEBUG org.hibernate.SQL - select count(*)>0 from CUSTOMER c1_0 where c1_0.email=?\n"
     ]
    },
    {
     "name": "stdout",
     "output_type": "stream",
     "text": [
      "13:17:40.548 DEBUG org.hibernate.SQL - insert into CUSTOMER (birthDate,creationDate,email,firstname,lastname,photo,status,version,ID) values (?,?,?,?,?,?,?,?,?)\n"
     ]
    },
    {
     "name": "stdout",
     "output_type": "stream",
     "text": [
      "13:17:40.548 DEBUG org.hibernate.SQL - select count(*)>0 from CUSTOMER c1_0 where c1_0.email=?\n"
     ]
    },
    {
     "name": "stdout",
     "output_type": "stream",
     "text": [
      "13:17:40.549 DEBUG org.hibernate.SQL - insert into CUSTOMER (birthDate,creationDate,email,firstname,lastname,photo,status,version,ID) values (?,?,?,?,?,?,?,?,?)\n"
     ]
    },
    {
     "name": "stdout",
     "output_type": "stream",
     "text": [
      "13:17:40.549 DEBUG org.hibernate.SQL - select count(*)>0 from CUSTOMER c1_0 where c1_0.email=?\n"
     ]
    },
    {
     "name": "stdout",
     "output_type": "stream",
     "text": [
      "13:17:40.549 DEBUG org.hibernate.SQL - insert into CUSTOMER (birthDate,creationDate,email,firstname,lastname,photo,status,version,ID) values (?,?,?,?,?,?,?,?,?)\n"
     ]
    },
    {
     "name": "stdout",
     "output_type": "stream",
     "text": [
      "13:17:40.549 DEBUG org.hibernate.SQL - select count(*)>0 from CUSTOMER c1_0 where c1_0.email=?\n"
     ]
    },
    {
     "name": "stdout",
     "output_type": "stream",
     "text": [
      "13:17:40.550 DEBUG org.hibernate.SQL - insert into CUSTOMER (birthDate,creationDate,email,firstname,lastname,photo,status,version,ID) values (?,?,?,?,?,?,?,?,?)\n"
     ]
    },
    {
     "name": "stdout",
     "output_type": "stream",
     "text": [
      "13:17:40.550 DEBUG org.hibernate.SQL - select count(*)>0 from CUSTOMER c1_0 where c1_0.email=?\n"
     ]
    },
    {
     "name": "stdout",
     "output_type": "stream",
     "text": [
      "13:17:40.551 DEBUG org.hibernate.SQL - insert into CUSTOMER (birthDate,creationDate,email,firstname,lastname,photo,status,version,ID) values (?,?,?,?,?,?,?,?,?)\n"
     ]
    },
    {
     "name": "stdout",
     "output_type": "stream",
     "text": [
      "13:17:40.551 DEBUG org.hibernate.SQL - select count(*)>0 from CUSTOMER c1_0 where c1_0.email=?\n"
     ]
    },
    {
     "name": "stdout",
     "output_type": "stream",
     "text": [
      "13:17:40.551 DEBUG org.hibernate.SQL - insert into CUSTOMER (birthDate,creationDate,email,firstname,lastname,photo,status,version,ID) values (?,?,?,?,?,?,?,?,?)\n"
     ]
    },
    {
     "name": "stdout",
     "output_type": "stream",
     "text": [
      "13:17:40.552 DEBUG org.hibernate.SQL - select count(*)>0 from CUSTOMER c1_0 where c1_0.email=?\n"
     ]
    },
    {
     "name": "stdout",
     "output_type": "stream",
     "text": [
      "13:17:40.552 DEBUG org.hibernate.SQL - insert into CUSTOMER (birthDate,creationDate,email,firstname,lastname,photo,status,version,ID) values (?,?,?,?,?,?,?,?,?)\n"
     ]
    },
    {
     "name": "stdout",
     "output_type": "stream",
     "text": [
      "13:17:40.552 DEBUG org.hibernate.SQL - select count(*)>0 from CUSTOMER c1_0 where c1_0.email=?\n"
     ]
    },
    {
     "name": "stdout",
     "output_type": "stream",
     "text": [
      "13:17:40.553 DEBUG org.hibernate.SQL - insert into CUSTOMER (birthDate,creationDate,email,firstname,lastname,photo,status,version,ID) values (?,?,?,?,?,?,?,?,?)\n"
     ]
    },
    {
     "name": "stdout",
     "output_type": "stream",
     "text": [
      "13:17:40.553 DEBUG org.hibernate.SQL - select count(*)>0 from CUSTOMER c1_0 where c1_0.email=?\n"
     ]
    },
    {
     "name": "stdout",
     "output_type": "stream",
     "text": [
      "13:17:40.554 DEBUG org.hibernate.SQL - insert into CUSTOMER (birthDate,creationDate,email,firstname,lastname,photo,status,version,ID) values (?,?,?,?,?,?,?,?,?)\n"
     ]
    },
    {
     "name": "stdout",
     "output_type": "stream",
     "text": [
      "13:17:40.554 DEBUG org.hibernate.SQL - select count(*)>0 from CUSTOMER c1_0 where c1_0.email=?\n"
     ]
    },
    {
     "name": "stdout",
     "output_type": "stream",
     "text": [
      "13:17:40.554 DEBUG org.hibernate.SQL - insert into CUSTOMER (birthDate,creationDate,email,firstname,lastname,photo,status,version,ID) values (?,?,?,?,?,?,?,?,?)\n"
     ]
    },
    {
     "name": "stdout",
     "output_type": "stream",
     "text": [
      "13:17:40.555 DEBUG org.hibernate.SQL - select count(*)>0 from CUSTOMER c1_0 where c1_0.email=?\n"
     ]
    },
    {
     "name": "stdout",
     "output_type": "stream",
     "text": [
      "13:17:40.555 DEBUG org.hibernate.SQL - insert into CUSTOMER (birthDate,creationDate,email,firstname,lastname,photo,status,version,ID) values (?,?,?,?,?,?,?,?,?)\n"
     ]
    },
    {
     "name": "stdout",
     "output_type": "stream",
     "text": [
      "13:17:40.555 DEBUG org.hibernate.SQL - select count(*)>0 from CUSTOMER c1_0 where c1_0.email=?\n"
     ]
    },
    {
     "name": "stdout",
     "output_type": "stream",
     "text": [
      "13:17:40.556 DEBUG org.hibernate.SQL - insert into CUSTOMER (birthDate,creationDate,email,firstname,lastname,photo,status,version,ID) values (?,?,?,?,?,?,?,?,?)\n"
     ]
    },
    {
     "name": "stdout",
     "output_type": "stream",
     "text": [
      "13:17:40.556 DEBUG org.hibernate.SQL - select count(*)>0 from CUSTOMER c1_0 where c1_0.email=?\n"
     ]
    },
    {
     "name": "stdout",
     "output_type": "stream",
     "text": [
      "13:17:40.556 DEBUG org.hibernate.SQL - insert into CUSTOMER (birthDate,creationDate,email,firstname,lastname,photo,status,version,ID) values (?,?,?,?,?,?,?,?,?)\n"
     ]
    },
    {
     "name": "stdout",
     "output_type": "stream",
     "text": [
      "13:17:40.557 DEBUG org.hibernate.SQL - select count(*)>0 from CUSTOMER c1_0 where c1_0.email=?\n"
     ]
    },
    {
     "name": "stdout",
     "output_type": "stream",
     "text": [
      "13:17:40.557 DEBUG org.hibernate.SQL - insert into CUSTOMER (birthDate,creationDate,email,firstname,lastname,photo,status,version,ID) values (?,?,?,?,?,?,?,?,?)\n"
     ]
    },
    {
     "name": "stdout",
     "output_type": "stream",
     "text": [
      "13:17:40.557 DEBUG org.hibernate.SQL - select count(*)>0 from CUSTOMER c1_0 where c1_0.email=?\n"
     ]
    },
    {
     "name": "stdout",
     "output_type": "stream",
     "text": [
      "13:17:40.558 DEBUG org.hibernate.SQL - insert into CUSTOMER (birthDate,creationDate,email,firstname,lastname,photo,status,version,ID) values (?,?,?,?,?,?,?,?,?)\n"
     ]
    },
    {
     "name": "stdout",
     "output_type": "stream",
     "text": [
      "13:17:40.558 DEBUG org.hibernate.SQL - select count(*)>0 from CUSTOMER c1_0 where c1_0.email=?\n"
     ]
    },
    {
     "name": "stdout",
     "output_type": "stream",
     "text": [
      "13:17:40.559 DEBUG org.hibernate.SQL - insert into CUSTOMER (birthDate,creationDate,email,firstname,lastname,photo,status,version,ID) values (?,?,?,?,?,?,?,?,?)\n"
     ]
    },
    {
     "name": "stdout",
     "output_type": "stream",
     "text": [
      "13:17:40.559 DEBUG org.hibernate.SQL - select count(*)>0 from CUSTOMER c1_0 where c1_0.email=?\n"
     ]
    },
    {
     "name": "stdout",
     "output_type": "stream",
     "text": [
      "13:17:40.559 DEBUG org.hibernate.SQL - insert into CUSTOMER (birthDate,creationDate,email,firstname,lastname,photo,status,version,ID) values (?,?,?,?,?,?,?,?,?)\n"
     ]
    },
    {
     "name": "stdout",
     "output_type": "stream",
     "text": [
      "13:17:40.559 DEBUG org.hibernate.SQL - select count(*)>0 from CUSTOMER c1_0 where c1_0.email=?\n"
     ]
    },
    {
     "name": "stdout",
     "output_type": "stream",
     "text": [
      "13:17:40.560 DEBUG org.hibernate.SQL - insert into CUSTOMER (birthDate,creationDate,email,firstname,lastname,photo,status,version,ID) values (?,?,?,?,?,?,?,?,?)\n"
     ]
    },
    {
     "name": "stdout",
     "output_type": "stream",
     "text": [
      "13:17:40.560 DEBUG org.hibernate.SQL - select count(*)>0 from CUSTOMER c1_0 where c1_0.email=?\n"
     ]
    },
    {
     "name": "stdout",
     "output_type": "stream",
     "text": [
      "13:17:40.561 DEBUG org.hibernate.SQL - insert into CUSTOMER (birthDate,creationDate,email,firstname,lastname,photo,status,version,ID) values (?,?,?,?,?,?,?,?,?)\n"
     ]
    },
    {
     "name": "stdout",
     "output_type": "stream",
     "text": [
      "13:17:40.561 DEBUG org.hibernate.SQL - select count(*)>0 from CUSTOMER c1_0 where c1_0.email=?\n"
     ]
    },
    {
     "name": "stdout",
     "output_type": "stream",
     "text": [
      "13:17:40.561 DEBUG org.hibernate.SQL - insert into CUSTOMER (birthDate,creationDate,email,firstname,lastname,photo,status,version,ID) values (?,?,?,?,?,?,?,?,?)\n"
     ]
    },
    {
     "name": "stdout",
     "output_type": "stream",
     "text": [
      "13:17:40.562 DEBUG org.hibernate.SQL - select count(*)>0 from CUSTOMER c1_0 where c1_0.email=?\n"
     ]
    },
    {
     "name": "stdout",
     "output_type": "stream",
     "text": [
      "13:17:40.562 DEBUG org.hibernate.SQL - insert into CUSTOMER (birthDate,creationDate,email,firstname,lastname,photo,status,version,ID) values (?,?,?,?,?,?,?,?,?)\n"
     ]
    },
    {
     "name": "stdout",
     "output_type": "stream",
     "text": [
      "13:17:40.562 DEBUG org.hibernate.SQL - select count(*)>0 from CUSTOMER c1_0 where c1_0.email=?\n"
     ]
    },
    {
     "name": "stdout",
     "output_type": "stream",
     "text": [
      "13:17:40.563 DEBUG org.hibernate.SQL - insert into CUSTOMER (birthDate,creationDate,email,firstname,lastname,photo,status,version,ID) values (?,?,?,?,?,?,?,?,?)\n"
     ]
    },
    {
     "name": "stdout",
     "output_type": "stream",
     "text": [
      "13:17:40.563 DEBUG org.hibernate.SQL - select count(*)>0 from CUSTOMER c1_0 where c1_0.email=?\n"
     ]
    },
    {
     "name": "stdout",
     "output_type": "stream",
     "text": [
      "13:17:40.564 DEBUG org.hibernate.SQL - insert into CUSTOMER (birthDate,creationDate,email,firstname,lastname,photo,status,version,ID) values (?,?,?,?,?,?,?,?,?)\n"
     ]
    },
    {
     "name": "stdout",
     "output_type": "stream",
     "text": [
      "13:17:40.564 DEBUG org.hibernate.SQL - select count(*)>0 from CUSTOMER c1_0 where c1_0.email=?\n"
     ]
    },
    {
     "name": "stdout",
     "output_type": "stream",
     "text": [
      "13:17:40.564 DEBUG org.hibernate.SQL - insert into CUSTOMER (birthDate,creationDate,email,firstname,lastname,photo,status,version,ID) values (?,?,?,?,?,?,?,?,?)\n"
     ]
    },
    {
     "name": "stdout",
     "output_type": "stream",
     "text": [
      "13:17:40.565 DEBUG org.hibernate.SQL - select count(*)>0 from CUSTOMER c1_0 where c1_0.email=?\n"
     ]
    },
    {
     "name": "stdout",
     "output_type": "stream",
     "text": [
      "13:17:40.565 DEBUG org.hibernate.SQL - insert into CUSTOMER (birthDate,creationDate,email,firstname,lastname,photo,status,version,ID) values (?,?,?,?,?,?,?,?,?)\n"
     ]
    },
    {
     "name": "stdout",
     "output_type": "stream",
     "text": [
      "13:17:40.565 DEBUG org.hibernate.SQL - select count(*)>0 from CUSTOMER c1_0 where c1_0.email=?\n"
     ]
    },
    {
     "name": "stdout",
     "output_type": "stream",
     "text": [
      "13:17:40.566 DEBUG org.hibernate.SQL - select nextval('CUSTOMER_SEQ')\n"
     ]
    },
    {
     "name": "stdout",
     "output_type": "stream",
     "text": [
      "13:17:40.566 DEBUG org.hibernate.SQL - insert into CUSTOMER (birthDate,creationDate,email,firstname,lastname,photo,status,version,ID) values (?,?,?,?,?,?,?,?,?)\n"
     ]
    },
    {
     "name": "stdout",
     "output_type": "stream",
     "text": [
      "13:17:40.567 DEBUG org.hibernate.SQL - select count(*)>0 from CUSTOMER c1_0 where c1_0.email=?\n"
     ]
    },
    {
     "name": "stdout",
     "output_type": "stream",
     "text": [
      "13:17:40.567 DEBUG org.hibernate.SQL - insert into CUSTOMER (birthDate,creationDate,email,firstname,lastname,photo,status,version,ID) values (?,?,?,?,?,?,?,?,?)\n"
     ]
    },
    {
     "name": "stdout",
     "output_type": "stream",
     "text": [
      "13:17:40.568 DEBUG org.hibernate.SQL - select count(*)>0 from CUSTOMER c1_0 where c1_0.email=?\n"
     ]
    },
    {
     "name": "stdout",
     "output_type": "stream",
     "text": [
      "13:17:40.568 DEBUG org.hibernate.SQL - insert into CUSTOMER (birthDate,creationDate,email,firstname,lastname,photo,status,version,ID) values (?,?,?,?,?,?,?,?,?)\n"
     ]
    },
    {
     "name": "stdout",
     "output_type": "stream",
     "text": [
      "13:17:40.569 DEBUG org.hibernate.SQL - select count(*)>0 from CUSTOMER c1_0 where c1_0.email=?\n"
     ]
    },
    {
     "name": "stdout",
     "output_type": "stream",
     "text": [
      "13:17:40.569 DEBUG org.hibernate.SQL - insert into CUSTOMER (birthDate,creationDate,email,firstname,lastname,photo,status,version,ID) values (?,?,?,?,?,?,?,?,?)\n"
     ]
    },
    {
     "name": "stdout",
     "output_type": "stream",
     "text": [
      "13:17:40.569 DEBUG org.hibernate.SQL - select count(*)>0 from CUSTOMER c1_0 where c1_0.email=?\n"
     ]
    },
    {
     "name": "stdout",
     "output_type": "stream",
     "text": [
      "13:17:40.570 DEBUG org.hibernate.SQL - insert into CUSTOMER (birthDate,creationDate,email,firstname,lastname,photo,status,version,ID) values (?,?,?,?,?,?,?,?,?)\n"
     ]
    },
    {
     "name": "stdout",
     "output_type": "stream",
     "text": [
      "13:17:40.570 DEBUG org.hibernate.SQL - select count(*)>0 from CUSTOMER c1_0 where c1_0.email=?\n"
     ]
    },
    {
     "name": "stdout",
     "output_type": "stream",
     "text": [
      "13:17:40.572 DEBUG org.hibernate.SQL - insert into CUSTOMER (birthDate,creationDate,email,firstname,lastname,photo,status,version,ID) values (?,?,?,?,?,?,?,?,?)\n"
     ]
    },
    {
     "name": "stdout",
     "output_type": "stream",
     "text": [
      "13:17:40.572 DEBUG org.hibernate.SQL - select count(*)>0 from CUSTOMER c1_0 where c1_0.email=?\n"
     ]
    },
    {
     "name": "stdout",
     "output_type": "stream",
     "text": [
      "13:17:40.573 DEBUG org.hibernate.SQL - insert into CUSTOMER (birthDate,creationDate,email,firstname,lastname,photo,status,version,ID) values (?,?,?,?,?,?,?,?,?)\n"
     ]
    },
    {
     "name": "stdout",
     "output_type": "stream",
     "text": [
      "13:17:40.573 DEBUG org.hibernate.SQL - select count(*)>0 from CUSTOMER c1_0 where c1_0.email=?\n"
     ]
    },
    {
     "name": "stdout",
     "output_type": "stream",
     "text": [
      "13:17:40.574 DEBUG org.hibernate.SQL - insert into CUSTOMER (birthDate,creationDate,email,firstname,lastname,photo,status,version,ID) values (?,?,?,?,?,?,?,?,?)\n"
     ]
    },
    {
     "name": "stdout",
     "output_type": "stream",
     "text": [
      "13:17:40.574 DEBUG org.hibernate.SQL - select count(*)>0 from CUSTOMER c1_0 where c1_0.email=?\n"
     ]
    },
    {
     "name": "stdout",
     "output_type": "stream",
     "text": [
      "13:17:40.575 DEBUG org.hibernate.SQL - insert into CUSTOMER (birthDate,creationDate,email,firstname,lastname,photo,status,version,ID) values (?,?,?,?,?,?,?,?,?)\n"
     ]
    },
    {
     "name": "stdout",
     "output_type": "stream",
     "text": [
      "13:17:40.575 DEBUG org.hibernate.SQL - select count(*)>0 from CUSTOMER c1_0 where c1_0.email=?\n"
     ]
    },
    {
     "name": "stdout",
     "output_type": "stream",
     "text": [
      "13:17:40.576 DEBUG org.hibernate.SQL - insert into CUSTOMER (birthDate,creationDate,email,firstname,lastname,photo,status,version,ID) values (?,?,?,?,?,?,?,?,?)\n"
     ]
    },
    {
     "name": "stdout",
     "output_type": "stream",
     "text": [
      "13:17:40.576 DEBUG org.hibernate.SQL - select count(*)>0 from CUSTOMER c1_0 where c1_0.email=?\n"
     ]
    },
    {
     "name": "stdout",
     "output_type": "stream",
     "text": [
      "13:17:40.577 DEBUG org.hibernate.SQL - insert into CUSTOMER (birthDate,creationDate,email,firstname,lastname,photo,status,version,ID) values (?,?,?,?,?,?,?,?,?)\n"
     ]
    },
    {
     "name": "stdout",
     "output_type": "stream",
     "text": [
      "13:17:40.577 DEBUG org.hibernate.SQL - select count(*)>0 from CUSTOMER c1_0 where c1_0.email=?\n"
     ]
    },
    {
     "name": "stdout",
     "output_type": "stream",
     "text": [
      "13:17:40.578 DEBUG org.hibernate.SQL - insert into CUSTOMER (birthDate,creationDate,email,firstname,lastname,photo,status,version,ID) values (?,?,?,?,?,?,?,?,?)\n"
     ]
    },
    {
     "name": "stdout",
     "output_type": "stream",
     "text": [
      "13:17:40.578 DEBUG org.hibernate.SQL - select count(*)>0 from CUSTOMER c1_0 where c1_0.email=?\n"
     ]
    },
    {
     "name": "stdout",
     "output_type": "stream",
     "text": [
      "13:17:40.579 DEBUG org.hibernate.SQL - insert into CUSTOMER (birthDate,creationDate,email,firstname,lastname,photo,status,version,ID) values (?,?,?,?,?,?,?,?,?)\n"
     ]
    },
    {
     "name": "stdout",
     "output_type": "stream",
     "text": [
      "13:17:40.579 DEBUG org.hibernate.SQL - select count(*)>0 from CUSTOMER c1_0 where c1_0.email=?\n"
     ]
    },
    {
     "name": "stdout",
     "output_type": "stream",
     "text": [
      "13:17:40.580 DEBUG org.hibernate.SQL - insert into CUSTOMER (birthDate,creationDate,email,firstname,lastname,photo,status,version,ID) values (?,?,?,?,?,?,?,?,?)\n"
     ]
    },
    {
     "name": "stdout",
     "output_type": "stream",
     "text": [
      "13:17:40.580 DEBUG org.hibernate.SQL - select count(*)>0 from CUSTOMER c1_0 where c1_0.email=?\n"
     ]
    },
    {
     "name": "stdout",
     "output_type": "stream",
     "text": [
      "13:17:40.581 DEBUG org.hibernate.SQL - insert into CUSTOMER (birthDate,creationDate,email,firstname,lastname,photo,status,version,ID) values (?,?,?,?,?,?,?,?,?)\n"
     ]
    },
    {
     "name": "stdout",
     "output_type": "stream",
     "text": [
      "13:17:40.581 DEBUG org.hibernate.SQL - select count(*)>0 from CUSTOMER c1_0 where c1_0.email=?\n"
     ]
    },
    {
     "name": "stdout",
     "output_type": "stream",
     "text": [
      "13:17:40.581 DEBUG org.hibernate.SQL - insert into CUSTOMER (birthDate,creationDate,email,firstname,lastname,photo,status,version,ID) values (?,?,?,?,?,?,?,?,?)\n"
     ]
    },
    {
     "name": "stdout",
     "output_type": "stream",
     "text": [
      "13:17:40.582 DEBUG org.hibernate.SQL - select count(*)>0 from CUSTOMER c1_0 where c1_0.email=?\n"
     ]
    },
    {
     "name": "stdout",
     "output_type": "stream",
     "text": [
      "13:17:40.582 DEBUG org.hibernate.SQL - insert into CUSTOMER (birthDate,creationDate,email,firstname,lastname,photo,status,version,ID) values (?,?,?,?,?,?,?,?,?)\n"
     ]
    },
    {
     "name": "stdout",
     "output_type": "stream",
     "text": [
      "13:17:40.582 DEBUG org.hibernate.SQL - select count(*)>0 from CUSTOMER c1_0 where c1_0.email=?\n"
     ]
    },
    {
     "name": "stdout",
     "output_type": "stream",
     "text": [
      "13:17:40.583 DEBUG org.hibernate.SQL - insert into CUSTOMER (birthDate,creationDate,email,firstname,lastname,photo,status,version,ID) values (?,?,?,?,?,?,?,?,?)\n"
     ]
    },
    {
     "name": "stdout",
     "output_type": "stream",
     "text": [
      "13:17:40.583 DEBUG org.hibernate.SQL - select count(*)>0 from CUSTOMER c1_0 where c1_0.email=?\n"
     ]
    },
    {
     "name": "stdout",
     "output_type": "stream",
     "text": [
      "13:17:40.584 DEBUG org.hibernate.SQL - insert into CUSTOMER (birthDate,creationDate,email,firstname,lastname,photo,status,version,ID) values (?,?,?,?,?,?,?,?,?)\n"
     ]
    },
    {
     "name": "stdout",
     "output_type": "stream",
     "text": [
      "13:17:40.584 DEBUG org.hibernate.SQL - select count(*)>0 from CUSTOMER c1_0 where c1_0.email=?\n"
     ]
    },
    {
     "name": "stdout",
     "output_type": "stream",
     "text": [
      "13:17:40.585 DEBUG org.hibernate.SQL - insert into CUSTOMER (birthDate,creationDate,email,firstname,lastname,photo,status,version,ID) values (?,?,?,?,?,?,?,?,?)\n"
     ]
    },
    {
     "name": "stdout",
     "output_type": "stream",
     "text": [
      "13:17:40.585 DEBUG org.hibernate.SQL - select count(*)>0 from CUSTOMER c1_0 where c1_0.email=?\n"
     ]
    },
    {
     "name": "stdout",
     "output_type": "stream",
     "text": [
      "13:17:40.586 DEBUG org.hibernate.SQL - insert into CUSTOMER (birthDate,creationDate,email,firstname,lastname,photo,status,version,ID) values (?,?,?,?,?,?,?,?,?)\n"
     ]
    },
    {
     "name": "stdout",
     "output_type": "stream",
     "text": [
      "13:17:40.586 DEBUG org.hibernate.SQL - select count(*)>0 from CUSTOMER c1_0 where c1_0.email=?\n"
     ]
    },
    {
     "name": "stdout",
     "output_type": "stream",
     "text": [
      "13:17:40.586 DEBUG org.hibernate.SQL - insert into CUSTOMER (birthDate,creationDate,email,firstname,lastname,photo,status,version,ID) values (?,?,?,?,?,?,?,?,?)\n"
     ]
    },
    {
     "name": "stdout",
     "output_type": "stream",
     "text": [
      "13:17:40.587 DEBUG org.hibernate.SQL - select count(*)>0 from CUSTOMER c1_0 where c1_0.email=?\n"
     ]
    },
    {
     "name": "stdout",
     "output_type": "stream",
     "text": [
      "13:17:40.587 DEBUG org.hibernate.SQL - insert into CUSTOMER (birthDate,creationDate,email,firstname,lastname,photo,status,version,ID) values (?,?,?,?,?,?,?,?,?)\n"
     ]
    },
    {
     "name": "stdout",
     "output_type": "stream",
     "text": [
      "13:17:40.587 DEBUG org.hibernate.SQL - select count(*)>0 from CUSTOMER c1_0 where c1_0.email=?\n"
     ]
    },
    {
     "name": "stdout",
     "output_type": "stream",
     "text": [
      "13:17:40.588 DEBUG org.hibernate.SQL - insert into CUSTOMER (birthDate,creationDate,email,firstname,lastname,photo,status,version,ID) values (?,?,?,?,?,?,?,?,?)\n"
     ]
    },
    {
     "name": "stdout",
     "output_type": "stream",
     "text": [
      "13:17:40.588 DEBUG org.hibernate.SQL - select count(*)>0 from CUSTOMER c1_0 where c1_0.email=?\n"
     ]
    },
    {
     "name": "stdout",
     "output_type": "stream",
     "text": [
      "13:17:40.589 DEBUG org.hibernate.SQL - insert into CUSTOMER (birthDate,creationDate,email,firstname,lastname,photo,status,version,ID) values (?,?,?,?,?,?,?,?,?)\n"
     ]
    },
    {
     "name": "stdout",
     "output_type": "stream",
     "text": [
      "13:17:40.589 DEBUG org.hibernate.SQL - select count(*)>0 from CUSTOMER c1_0 where c1_0.email=?\n"
     ]
    },
    {
     "name": "stdout",
     "output_type": "stream",
     "text": [
      "13:17:40.590 DEBUG org.hibernate.SQL - insert into CUSTOMER (birthDate,creationDate,email,firstname,lastname,photo,status,version,ID) values (?,?,?,?,?,?,?,?,?)\n"
     ]
    },
    {
     "name": "stdout",
     "output_type": "stream",
     "text": [
      "13:17:40.590 DEBUG org.hibernate.SQL - select count(*)>0 from CUSTOMER c1_0 where c1_0.email=?\n"
     ]
    },
    {
     "name": "stdout",
     "output_type": "stream",
     "text": [
      "13:17:40.591 DEBUG org.hibernate.SQL - insert into CUSTOMER (birthDate,creationDate,email,firstname,lastname,photo,status,version,ID) values (?,?,?,?,?,?,?,?,?)\n"
     ]
    },
    {
     "name": "stdout",
     "output_type": "stream",
     "text": [
      "13:17:40.591 DEBUG org.hibernate.SQL - select count(*)>0 from CUSTOMER c1_0 where c1_0.email=?\n"
     ]
    },
    {
     "name": "stdout",
     "output_type": "stream",
     "text": [
      "13:17:40.591 DEBUG org.hibernate.SQL - insert into CUSTOMER (birthDate,creationDate,email,firstname,lastname,photo,status,version,ID) values (?,?,?,?,?,?,?,?,?)\n"
     ]
    },
    {
     "name": "stdout",
     "output_type": "stream",
     "text": [
      "13:17:40.592 DEBUG org.hibernate.SQL - select count(*)>0 from CUSTOMER c1_0 where c1_0.email=?\n"
     ]
    },
    {
     "name": "stdout",
     "output_type": "stream",
     "text": [
      "13:17:40.592 DEBUG org.hibernate.SQL - insert into CUSTOMER (birthDate,creationDate,email,firstname,lastname,photo,status,version,ID) values (?,?,?,?,?,?,?,?,?)\n"
     ]
    },
    {
     "name": "stdout",
     "output_type": "stream",
     "text": [
      "13:17:40.592 DEBUG org.hibernate.SQL - select count(*)>0 from CUSTOMER c1_0 where c1_0.email=?\n"
     ]
    },
    {
     "name": "stdout",
     "output_type": "stream",
     "text": [
      "13:17:40.593 DEBUG org.hibernate.SQL - insert into CUSTOMER (birthDate,creationDate,email,firstname,lastname,photo,status,version,ID) values (?,?,?,?,?,?,?,?,?)\n"
     ]
    },
    {
     "name": "stdout",
     "output_type": "stream",
     "text": [
      "13:17:40.593 DEBUG org.hibernate.SQL - select count(*)>0 from CUSTOMER c1_0 where c1_0.email=?\n"
     ]
    },
    {
     "name": "stdout",
     "output_type": "stream",
     "text": [
      "13:17:40.594 DEBUG org.hibernate.SQL - insert into CUSTOMER (birthDate,creationDate,email,firstname,lastname,photo,status,version,ID) values (?,?,?,?,?,?,?,?,?)\n"
     ]
    },
    {
     "name": "stdout",
     "output_type": "stream",
     "text": [
      "13:17:40.594 DEBUG org.hibernate.SQL - select count(*)>0 from CUSTOMER c1_0 where c1_0.email=?\n"
     ]
    },
    {
     "name": "stdout",
     "output_type": "stream",
     "text": [
      "13:17:40.594 DEBUG org.hibernate.SQL - insert into CUSTOMER (birthDate,creationDate,email,firstname,lastname,photo,status,version,ID) values (?,?,?,?,?,?,?,?,?)\n"
     ]
    },
    {
     "name": "stdout",
     "output_type": "stream",
     "text": [
      "13:17:40.595 DEBUG org.hibernate.SQL - select count(*)>0 from CUSTOMER c1_0 where c1_0.email=?\n"
     ]
    },
    {
     "name": "stdout",
     "output_type": "stream",
     "text": [
      "13:17:40.595 DEBUG org.hibernate.SQL - insert into CUSTOMER (birthDate,creationDate,email,firstname,lastname,photo,status,version,ID) values (?,?,?,?,?,?,?,?,?)\n"
     ]
    },
    {
     "name": "stdout",
     "output_type": "stream",
     "text": [
      "13:17:40.596 DEBUG org.hibernate.SQL - select count(*)>0 from CUSTOMER c1_0 where c1_0.email=?\n"
     ]
    },
    {
     "name": "stdout",
     "output_type": "stream",
     "text": [
      "13:17:40.596 DEBUG org.hibernate.SQL - insert into CUSTOMER (birthDate,creationDate,email,firstname,lastname,photo,status,version,ID) values (?,?,?,?,?,?,?,?,?)\n"
     ]
    },
    {
     "name": "stdout",
     "output_type": "stream",
     "text": [
      "13:17:40.596 DEBUG org.hibernate.SQL - select count(*)>0 from CUSTOMER c1_0 where c1_0.email=?\n"
     ]
    },
    {
     "name": "stdout",
     "output_type": "stream",
     "text": [
      "13:17:40.597 DEBUG org.hibernate.SQL - insert into CUSTOMER (birthDate,creationDate,email,firstname,lastname,photo,status,version,ID) values (?,?,?,?,?,?,?,?,?)\n"
     ]
    },
    {
     "name": "stdout",
     "output_type": "stream",
     "text": [
      "13:17:40.597 DEBUG org.hibernate.SQL - select count(*)>0 from CUSTOMER c1_0 where c1_0.email=?\n"
     ]
    },
    {
     "name": "stdout",
     "output_type": "stream",
     "text": [
      "13:17:40.598 DEBUG org.hibernate.SQL - insert into CUSTOMER (birthDate,creationDate,email,firstname,lastname,photo,status,version,ID) values (?,?,?,?,?,?,?,?,?)\n"
     ]
    },
    {
     "name": "stdout",
     "output_type": "stream",
     "text": [
      "13:17:40.598 DEBUG org.hibernate.SQL - select count(*)>0 from CUSTOMER c1_0 where c1_0.email=?\n"
     ]
    },
    {
     "name": "stdout",
     "output_type": "stream",
     "text": [
      "13:17:40.598 DEBUG org.hibernate.SQL - insert into CUSTOMER (birthDate,creationDate,email,firstname,lastname,photo,status,version,ID) values (?,?,?,?,?,?,?,?,?)\n"
     ]
    },
    {
     "name": "stdout",
     "output_type": "stream",
     "text": [
      "13:17:40.598 DEBUG org.hibernate.SQL - select count(*)>0 from CUSTOMER c1_0 where c1_0.email=?\n"
     ]
    },
    {
     "name": "stdout",
     "output_type": "stream",
     "text": [
      "13:17:40.599 DEBUG org.hibernate.SQL - insert into CUSTOMER (birthDate,creationDate,email,firstname,lastname,photo,status,version,ID) values (?,?,?,?,?,?,?,?,?)\n"
     ]
    },
    {
     "name": "stdout",
     "output_type": "stream",
     "text": [
      "13:17:40.599 DEBUG org.hibernate.SQL - select count(*)>0 from CUSTOMER c1_0 where c1_0.email=?\n"
     ]
    },
    {
     "name": "stdout",
     "output_type": "stream",
     "text": [
      "13:17:40.600 DEBUG org.hibernate.SQL - insert into CUSTOMER (birthDate,creationDate,email,firstname,lastname,photo,status,version,ID) values (?,?,?,?,?,?,?,?,?)\n"
     ]
    },
    {
     "name": "stdout",
     "output_type": "stream",
     "text": [
      "13:17:40.600 DEBUG org.hibernate.SQL - select count(*)>0 from CUSTOMER c1_0 where c1_0.email=?\n"
     ]
    },
    {
     "name": "stdout",
     "output_type": "stream",
     "text": [
      "13:17:40.600 DEBUG org.hibernate.SQL - insert into CUSTOMER (birthDate,creationDate,email,firstname,lastname,photo,status,version,ID) values (?,?,?,?,?,?,?,?,?)\n"
     ]
    },
    {
     "name": "stdout",
     "output_type": "stream",
     "text": [
      "13:17:40.601 DEBUG org.hibernate.SQL - select count(*)>0 from CUSTOMER c1_0 where c1_0.email=?\n"
     ]
    },
    {
     "name": "stdout",
     "output_type": "stream",
     "text": [
      "13:17:40.601 DEBUG org.hibernate.SQL - insert into CUSTOMER (birthDate,creationDate,email,firstname,lastname,photo,status,version,ID) values (?,?,?,?,?,?,?,?,?)\n"
     ]
    },
    {
     "name": "stdout",
     "output_type": "stream",
     "text": [
      "13:17:40.601 DEBUG org.hibernate.SQL - select count(*)>0 from CUSTOMER c1_0 where c1_0.email=?\n"
     ]
    },
    {
     "name": "stdout",
     "output_type": "stream",
     "text": [
      "13:17:40.602 DEBUG org.hibernate.SQL - insert into CUSTOMER (birthDate,creationDate,email,firstname,lastname,photo,status,version,ID) values (?,?,?,?,?,?,?,?,?)\n"
     ]
    },
    {
     "name": "stdout",
     "output_type": "stream",
     "text": [
      "13:17:40.602 DEBUG org.hibernate.SQL - select count(*)>0 from CUSTOMER c1_0 where c1_0.email=?\n"
     ]
    },
    {
     "name": "stdout",
     "output_type": "stream",
     "text": [
      "13:17:40.603 DEBUG org.hibernate.SQL - insert into CUSTOMER (birthDate,creationDate,email,firstname,lastname,photo,status,version,ID) values (?,?,?,?,?,?,?,?,?)\n"
     ]
    },
    {
     "name": "stdout",
     "output_type": "stream",
     "text": [
      "13:17:40.603 DEBUG org.hibernate.SQL - select count(*)>0 from CUSTOMER c1_0 where c1_0.email=?\n"
     ]
    },
    {
     "name": "stdout",
     "output_type": "stream",
     "text": [
      "13:17:40.603 DEBUG org.hibernate.SQL - insert into CUSTOMER (birthDate,creationDate,email,firstname,lastname,photo,status,version,ID) values (?,?,?,?,?,?,?,?,?)\n"
     ]
    },
    {
     "name": "stdout",
     "output_type": "stream",
     "text": [
      "13:17:40.604 DEBUG org.hibernate.SQL - select count(*)>0 from CUSTOMER c1_0 where c1_0.email=?\n"
     ]
    },
    {
     "name": "stdout",
     "output_type": "stream",
     "text": [
      "13:17:40.604 DEBUG org.hibernate.SQL - insert into CUSTOMER (birthDate,creationDate,email,firstname,lastname,photo,status,version,ID) values (?,?,?,?,?,?,?,?,?)\n"
     ]
    },
    {
     "name": "stdout",
     "output_type": "stream",
     "text": [
      "13:17:40.605 DEBUG org.hibernate.SQL - select count(*)>0 from CUSTOMER c1_0 where c1_0.email=?\n"
     ]
    },
    {
     "name": "stdout",
     "output_type": "stream",
     "text": [
      "13:17:40.605 DEBUG org.hibernate.SQL - insert into CUSTOMER (birthDate,creationDate,email,firstname,lastname,photo,status,version,ID) values (?,?,?,?,?,?,?,?,?)\n"
     ]
    },
    {
     "name": "stdout",
     "output_type": "stream",
     "text": [
      "13:17:40.606 DEBUG org.hibernate.SQL - select count(*)>0 from CUSTOMER c1_0 where c1_0.email=?\n"
     ]
    },
    {
     "name": "stdout",
     "output_type": "stream",
     "text": [
      "13:17:40.606 DEBUG org.hibernate.SQL - insert into CUSTOMER (birthDate,creationDate,email,firstname,lastname,photo,status,version,ID) values (?,?,?,?,?,?,?,?,?)\n"
     ]
    },
    {
     "name": "stdout",
     "output_type": "stream",
     "text": [
      "13:17:40.606 DEBUG org.hibernate.SQL - select count(*)>0 from CUSTOMER c1_0 where c1_0.email=?\n"
     ]
    },
    {
     "name": "stdout",
     "output_type": "stream",
     "text": [
      "13:17:40.607 DEBUG org.hibernate.SQL - insert into CUSTOMER (birthDate,creationDate,email,firstname,lastname,photo,status,version,ID) values (?,?,?,?,?,?,?,?,?)\n"
     ]
    },
    {
     "name": "stdout",
     "output_type": "stream",
     "text": [
      "13:17:40.607 DEBUG org.hibernate.SQL - select count(*)>0 from CUSTOMER c1_0 where c1_0.email=?\n"
     ]
    },
    {
     "name": "stdout",
     "output_type": "stream",
     "text": [
      "13:17:40.608 DEBUG org.hibernate.SQL - insert into CUSTOMER (birthDate,creationDate,email,firstname,lastname,photo,status,version,ID) values (?,?,?,?,?,?,?,?,?)\n"
     ]
    },
    {
     "name": "stdout",
     "output_type": "stream",
     "text": [
      "13:17:40.608 DEBUG org.hibernate.SQL - select count(*)>0 from CUSTOMER c1_0 where c1_0.email=?\n"
     ]
    },
    {
     "name": "stdout",
     "output_type": "stream",
     "text": [
      "13:17:40.608 DEBUG org.hibernate.SQL - insert into CUSTOMER (birthDate,creationDate,email,firstname,lastname,photo,status,version,ID) values (?,?,?,?,?,?,?,?,?)\n"
     ]
    },
    {
     "name": "stdout",
     "output_type": "stream",
     "text": [
      "13:17:40.611 DEBUG org.hibernate.SQL - select c1_0.ID,c1_0.birthDate,c1_0.creationDate,c1_0.email,c1_0.firstname,c1_0.lastname,c1_0.photo,c1_0.status,c1_0.version from CUSTOMER c1_0\n"
     ]
    },
    {
     "name": "stdout",
     "output_type": "stream",
     "text": [
      "13:17:40.642 DEBUG org.hibernate.SQL - select count(*)>0 from CUSTOMER c1_0 where c1_0.email=?\n"
     ]
    },
    {
     "name": "stdout",
     "output_type": "stream",
     "text": [
      "13:17:40.646 DEBUG org.hibernate.SQL - select nextval('CUSTOMER_SEQ')\n"
     ]
    },
    {
     "name": "stdout",
     "output_type": "stream",
     "text": [
      "13:17:40.648 DEBUG org.hibernate.SQL - insert into CUSTOMER (birthDate,creationDate,email,firstname,lastname,photo,status,version,ID) values (?,?,?,?,?,?,?,?,?)\n"
     ]
    },
    {
     "name": "stdout",
     "output_type": "stream",
     "text": [
      "13:17:40.649 DEBUG org.hibernate.SQL - select count(*)>0 from CUSTOMER c1_0 where c1_0.email=?\n"
     ]
    },
    {
     "name": "stdout",
     "output_type": "stream",
     "text": [
      "13:17:40.650 DEBUG org.hibernate.SQL - insert into CUSTOMER (birthDate,creationDate,email,firstname,lastname,photo,status,version,ID) values (?,?,?,?,?,?,?,?,?)\n"
     ]
    },
    {
     "name": "stdout",
     "output_type": "stream",
     "text": [
      "13:17:40.650 DEBUG org.hibernate.SQL - select count(*)>0 from CUSTOMER c1_0 where c1_0.email=?\n"
     ]
    },
    {
     "name": "stdout",
     "output_type": "stream",
     "text": [
      "13:17:40.651 DEBUG org.hibernate.SQL - insert into CUSTOMER (birthDate,creationDate,email,firstname,lastname,photo,status,version,ID) values (?,?,?,?,?,?,?,?,?)\n"
     ]
    },
    {
     "name": "stdout",
     "output_type": "stream",
     "text": [
      "13:17:40.651 DEBUG org.hibernate.SQL - select count(*)>0 from CUSTOMER c1_0 where c1_0.email=?\n"
     ]
    },
    {
     "name": "stdout",
     "output_type": "stream",
     "text": [
      "13:17:40.652 DEBUG org.hibernate.SQL - insert into CUSTOMER (birthDate,creationDate,email,firstname,lastname,photo,status,version,ID) values (?,?,?,?,?,?,?,?,?)\n"
     ]
    },
    {
     "name": "stdout",
     "output_type": "stream",
     "text": [
      "13:17:40.652 DEBUG org.hibernate.SQL - select count(*)>0 from CUSTOMER c1_0 where c1_0.email=?\n"
     ]
    },
    {
     "name": "stdout",
     "output_type": "stream",
     "text": [
      "13:17:40.652 DEBUG org.hibernate.SQL - insert into CUSTOMER (birthDate,creationDate,email,firstname,lastname,photo,status,version,ID) values (?,?,?,?,?,?,?,?,?)\n"
     ]
    },
    {
     "name": "stdout",
     "output_type": "stream",
     "text": [
      "13:17:40.652 DEBUG org.hibernate.SQL - select count(*)>0 from CUSTOMER c1_0 where c1_0.email=?\n"
     ]
    },
    {
     "name": "stdout",
     "output_type": "stream",
     "text": [
      "13:17:40.653 DEBUG org.hibernate.SQL - insert into CUSTOMER (birthDate,creationDate,email,firstname,lastname,photo,status,version,ID) values (?,?,?,?,?,?,?,?,?)\n"
     ]
    },
    {
     "name": "stdout",
     "output_type": "stream",
     "text": [
      "13:17:40.653 DEBUG org.hibernate.SQL - select count(*)>0 from CUSTOMER c1_0 where c1_0.email=?\n"
     ]
    },
    {
     "name": "stdout",
     "output_type": "stream",
     "text": [
      "13:17:40.653 DEBUG org.hibernate.SQL - insert into CUSTOMER (birthDate,creationDate,email,firstname,lastname,photo,status,version,ID) values (?,?,?,?,?,?,?,?,?)\n"
     ]
    },
    {
     "name": "stdout",
     "output_type": "stream",
     "text": [
      "13:17:40.654 DEBUG org.hibernate.SQL - select count(*)>0 from CUSTOMER c1_0 where c1_0.email=?\n"
     ]
    },
    {
     "name": "stdout",
     "output_type": "stream",
     "text": [
      "13:17:40.654 DEBUG org.hibernate.SQL - insert into CUSTOMER (birthDate,creationDate,email,firstname,lastname,photo,status,version,ID) values (?,?,?,?,?,?,?,?,?)\n"
     ]
    },
    {
     "name": "stdout",
     "output_type": "stream",
     "text": [
      "13:17:40.655 DEBUG org.hibernate.SQL - select count(*)>0 from CUSTOMER c1_0 where c1_0.email=?\n"
     ]
    },
    {
     "name": "stdout",
     "output_type": "stream",
     "text": [
      "13:17:40.655 DEBUG org.hibernate.SQL - insert into CUSTOMER (birthDate,creationDate,email,firstname,lastname,photo,status,version,ID) values (?,?,?,?,?,?,?,?,?)\n"
     ]
    },
    {
     "name": "stdout",
     "output_type": "stream",
     "text": [
      "13:17:40.655 DEBUG org.hibernate.SQL - select count(*)>0 from CUSTOMER c1_0 where c1_0.email=?\n"
     ]
    },
    {
     "name": "stdout",
     "output_type": "stream",
     "text": [
      "13:17:40.656 DEBUG org.hibernate.SQL - insert into CUSTOMER (birthDate,creationDate,email,firstname,lastname,photo,status,version,ID) values (?,?,?,?,?,?,?,?,?)\n"
     ]
    },
    {
     "name": "stdout",
     "output_type": "stream",
     "text": [
      "13:17:40.723 DEBUG org.hibernate.SQL - select c1_0.firstname,c1_0.lastname from CUSTOMER c1_0 fetch first ? rows only\n"
     ]
    },
    {
     "name": "stdout",
     "output_type": "stream",
     "text": [
      "13:17:40.733 DEBUG org.hibernate.SQL - select nextval('PERSON_SEQ')\n"
     ]
    },
    {
     "name": "stdout",
     "output_type": "stream",
     "text": [
      "13:17:40.735 DEBUG org.hibernate.SQL - insert into EX_HERITAGE3.STUDENT (name,status,id) values (?,?,?)\n"
     ]
    },
    {
     "name": "stdout",
     "output_type": "stream",
     "text": [
      "13:17:40.736 DEBUG org.hibernate.SQL - insert into EX_HERITAGE3.TEACHER (name,salary,id) values (?,?,?)\n"
     ]
    },
    {
     "name": "stdout",
     "output_type": "stream",
     "text": [
      "13:17:40.737 DEBUG org.hibernate.SQL - select s1_0.id,s1_0.name,s1_0.status from EX_HERITAGE3.STUDENT s1_0 where s1_0.id=?\n"
     ]
    },
    {
     "name": "stdout",
     "output_type": "stream",
     "text": [
      "13:17:40.738 DEBUG org.hibernate.SQL - select t1_0.id,t1_0.name,t1_0.salary from EX_HERITAGE3.TEACHER t1_0 where t1_0.id=?\n"
     ]
    },
    {
     "name": "stdout",
     "output_type": "stream",
     "text": [
      "13:17:40.741 DEBUG org.hibernate.SQL - select nextval('CUSTOMER_SEQ')\n"
     ]
    },
    {
     "name": "stdout",
     "output_type": "stream",
     "text": [
      "13:17:40.741 DEBUG org.hibernate.SQL - insert into EX_SIMPLE.CUSTOMER (email,name,id) values (?,?,?)\n"
     ]
    },
    {
     "name": "stdout",
     "output_type": "stream",
     "text": [
      "13:17:40.742 DEBUG org.hibernate.SQL - update EX_SIMPLE.CUSTOMER set email=?,name=? where id=?\n"
     ]
    },
    {
     "name": "stdout",
     "output_type": "stream",
     "text": [
      "13:17:40.743 DEBUG org.hibernate.SQL - select c1_0.id,c1_0.email,c1_0.name from EX_SIMPLE.CUSTOMER c1_0 where c1_0.id=?\n"
     ]
    },
    {
     "name": "stdout",
     "output_type": "stream",
     "text": [
      "13:17:40.798 DEBUG org.hibernate.SQL - delete from EX_SIMPLE.CUSTOMER where id=?\n"
     ]
    },
    {
     "name": "stdout",
     "output_type": "stream",
     "text": [
      "13:17:40.800 DEBUG org.hibernate.SQL - insert into EX_SIMPLE.CUSTOMER (email,name,id) values (?,?,?)\n"
     ]
    },
    {
     "name": "stdout",
     "output_type": "stream",
     "text": [
      "13:17:40.800 DEBUG org.hibernate.SQL - update EX_SIMPLE.CUSTOMER set email=?,name=? where id=?\n"
     ]
    },
    {
     "name": "stdout",
     "output_type": "stream",
     "text": [
      "13:17:40.802 DEBUG org.hibernate.SQL - select c1_0.id,c1_0.email,c1_0.name from EX_SIMPLE.CUSTOMER c1_0 where c1_0.id=?\n"
     ]
    },
    {
     "name": "stdout",
     "output_type": "stream",
     "text": [
      "13:17:40.803 DEBUG org.hibernate.SQL - delete from EX_SIMPLE.CUSTOMER where id=?\n"
     ]
    },
    {
     "name": "stdout",
     "output_type": "stream",
     "text": [
      "13:17:43 INFO - looking for property jakarta.persistence.jdbc.user in variable DB_USERNAME or in property db.username\n"
     ]
    },
    {
     "name": "stdout",
     "output_type": "stream",
     "text": [
      "13:17:43 INFO - looking for property jakarta.persistence.jdbc.url in variable DB_URL or in property db.url\n"
     ]
    },
    {
     "name": "stdout",
     "output_type": "stream",
     "text": [
      "13:17:43 INFO - looking for property jakarta.persistence.jdbc.password in variable DB_PASSWORD or in property db.password\n"
     ]
    },
    {
     "name": "stdout",
     "output_type": "stream",
     "text": [
      "13:17:43 INFO - Connection to jdbc:postgresql://db/notebook-db as dba\n"
     ]
    },
    {
     "name": "stdout",
     "output_type": "stream",
     "text": [
      "13:17:43 INFO - HHH000204: Processing PersistenceUnitInfo [name: hellojpa-pu]\n"
     ]
    },
    {
     "name": "stdout",
     "output_type": "stream",
     "text": [
      "13:17:43 INFO - HHH000412: Hibernate ORM core version [WORKING]\n"
     ]
    },
    {
     "name": "stdout",
     "output_type": "stream",
     "text": [
      "13:17:43 INFO - HHH000026: Second-level cache disabled\n"
     ]
    },
    {
     "name": "stdout",
     "output_type": "stream",
     "text": [
      "13:17:44 INFO - HHH010002: C3P0 using driver: org.postgresql.Driver at URL: jdbc:postgresql://db/notebook-db\n"
     ]
    },
    {
     "name": "stdout",
     "output_type": "stream",
     "text": [
      "13:17:44 INFO - HHH10001001: Connection properties: {password=****, user=dba}\n"
     ]
    },
    {
     "name": "stdout",
     "output_type": "stream",
     "text": [
      "13:17:44 INFO - HHH10001003: Autocommit mode: false\n"
     ]
    },
    {
     "name": "stdout",
     "output_type": "stream",
     "text": [
      "13:17:44 INFO - MLog clients using slf4j logging.\n"
     ]
    },
    {
     "name": "stdout",
     "output_type": "stream",
     "text": [
      "13:17:45 INFO - Initializing c3p0-0.9.5.5 [built 11-December-2019 22:18:33 -0800; debug? true; trace: 10]\n"
     ]
    },
    {
     "name": "stdout",
     "output_type": "stream",
     "text": [
      "13:17:45 INFO - HHH10001007: JDBC isolation level: <unknown>\n"
     ]
    },
    {
     "name": "stdout",
     "output_type": "stream",
     "text": [
      "13:17:45 INFO - Initializing c3p0 pool... com.mchange.v2.c3p0.PoolBackedDataSource@da5d2f96 [ connectionPoolDataSource -> com.mchange.v2.c3p0.WrapperConnectionPoolDataSource@788bb2df [ acquireIncrement -> 3, acquireRetryAttempts -> 30, acquireRetryDelay -> 1000, autoCommitOnClose -> false, automaticTestTable -> null, breakAfterAcquireFailure -> false, checkoutTimeout -> 0, connectionCustomizerClassName -> null, connectionTesterClassName -> com.mchange.v2.c3p0.impl.DefaultConnectionTester, contextClassLoaderSource -> caller, debugUnreturnedConnectionStackTraces -> false, factoryClassLocation -> null, forceIgnoreUnresolvedTransactions -> false, forceSynchronousCheckins -> false, identityToken -> 1bqrg1wb243go0wq21q2c|6cc0b414, idleConnectionTestPeriod -> 0, initialPoolSize -> 3, maxAdministrativeTaskTime -> 0, maxConnectionAge -> 0, maxIdleTime -> 0, maxIdleTimeExcessConnections -> 0, maxPoolSize -> 15, maxStatements -> 0, maxStatementsPerConnection -> 0, minPoolSize -> 3, nestedDataSource -> com.mchange.v2.c3p0.DriverManagerDataSource@4cc25d8a [ description -> null, driverClass -> null, factoryClassLocation -> null, forceUseNamedDriverClass -> false, identityToken -> 1bqrg1wb243go0wq21q2c|3191f873, jdbcUrl -> jdbc:postgresql://db/notebook-db, properties -> {password=******, user=******} ], preferredTestQuery -> null, privilegeSpawnedThreads -> false, propertyCycle -> 0, statementCacheNumDeferredCloseThreads -> 0, testConnectionOnCheckin -> false, testConnectionOnCheckout -> false, unreturnedConnectionTimeout -> 0, usesTraditionalReflectiveProxies -> false; userOverrides: {} ], dataSourceName -> null, extensions -> {}, factoryClassLocation -> null, identityToken -> 1bqrg1wb243go0wq21q2c|136381, numHelperThreads -> 3 ]\n"
     ]
    },
    {
     "name": "stdout",
     "output_type": "stream",
     "text": [
      "13:17:45 INFO - HHH000398: Explicit segment value for id generator [EX_IDTABLE.ID_GENERATOR_TABLE.sequence_name] suggested; using default [CUSTOMER]\n"
     ]
    },
    {
     "name": "stdout",
     "output_type": "stream",
     "text": [
      "13:17:45 INFO - HHH000489: No JTA platform available (set 'hibernate.transaction.jta.platform' to enable JTA platform integration)\n"
     ]
    },
    {
     "name": "stdout",
     "output_type": "stream",
     "text": [
      "13:17:45 INFO - HHH10001501: Connection obtained from JdbcConnectionAccess [org.hibernate.engine.jdbc.env.internal.JdbcEnvironmentInitiator$ConnectionProviderJdbcConnectionAccess@2f0aa0c6] for (non-JTA) DDL execution was not in auto-commit mode; the Connection 'local transaction' will be committed and the Connection will be set into auto-commit mode.\n"
     ]
    },
    {
     "name": "stdout",
     "output_type": "stream",
     "text": [
      "13:17:45 WARN - SQL Warning Code: 0, SQLState: 00000\n"
     ]
    },
    {
     "name": "stdout",
     "output_type": "stream",
     "text": [
      "13:17:45 WARN - drop cascades to table ex_biography.customer\n"
     ]
    },
    {
     "name": "stdout",
     "output_type": "stream",
     "text": [
      "13:17:45 WARN - SQL Warning Code: 0, SQLState: 00000\n"
     ]
    },
    {
     "name": "stdout",
     "output_type": "stream",
     "text": [
      "13:17:45 WARN - drop cascades to 3 other objects\n"
     ]
    },
    {
     "name": "stdout",
     "output_type": "stream",
     "text": [
      "13:17:45 WARN - SQL Warning Code: 0, SQLState: 00000\n"
     ]
    },
    {
     "name": "stdout",
     "output_type": "stream",
     "text": [
      "13:17:45 WARN - drop cascades to 2 other objects\n"
     ]
    },
    {
     "name": "stdout",
     "output_type": "stream",
     "text": [
      "13:17:45 WARN - SQL Warning Code: 0, SQLState: 00000\n"
     ]
    },
    {
     "name": "stdout",
     "output_type": "stream",
     "text": [
      "13:17:45 WARN - drop cascades to 2 other objects\n"
     ]
    },
    {
     "name": "stdout",
     "output_type": "stream",
     "text": [
      "13:17:45 WARN - SQL Warning Code: 0, SQLState: 00000\n"
     ]
    },
    {
     "name": "stdout",
     "output_type": "stream",
     "text": [
      "13:17:45 WARN - drop cascades to table ex_hook.customer\n"
     ]
    },
    {
     "name": "stdout",
     "output_type": "stream",
     "text": [
      "13:17:45 WARN - SQL Warning Code: 0, SQLState: 00000\n"
     ]
    },
    {
     "name": "stdout",
     "output_type": "stream",
     "text": [
      "13:17:45 WARN - drop cascades to table ex_embedded_id.employe\n"
     ]
    },
    {
     "name": "stdout",
     "output_type": "stream",
     "text": [
      "13:17:45 WARN - SQL Warning Code: 0, SQLState: 00000\n"
     ]
    },
    {
     "name": "stdout",
     "output_type": "stream",
     "text": [
      "13:17:45 WARN - drop cascades to table ex_idclass.employe\n"
     ]
    },
    {
     "name": "stdout",
     "output_type": "stream",
     "text": [
      "13:17:45 WARN - SQL Warning Code: 0, SQLState: 00000\n"
     ]
    },
    {
     "name": "stdout",
     "output_type": "stream",
     "text": [
      "13:17:45 WARN - schema \"ex_idclass\" does not exist, skipping\n"
     ]
    },
    {
     "name": "stdout",
     "output_type": "stream",
     "text": [
      "13:17:45 WARN - SQL Warning Code: 0, SQLState: 00000\n"
     ]
    },
    {
     "name": "stdout",
     "output_type": "stream",
     "text": [
      "13:17:45 WARN - drop cascades to table ex_heritage1.person\n"
     ]
    },
    {
     "name": "stdout",
     "output_type": "stream",
     "text": [
      "13:17:45 WARN - SQL Warning Code: 0, SQLState: 00000\n"
     ]
    },
    {
     "name": "stdout",
     "output_type": "stream",
     "text": [
      "13:17:45 WARN - drop cascades to 3 other objects\n"
     ]
    },
    {
     "name": "stdout",
     "output_type": "stream",
     "text": [
      "13:17:45 WARN - SQL Warning Code: 0, SQLState: 00000\n"
     ]
    },
    {
     "name": "stdout",
     "output_type": "stream",
     "text": [
      "13:17:45 WARN - drop cascades to 3 other objects\n"
     ]
    },
    {
     "name": "stdout",
     "output_type": "stream",
     "text": [
      "13:17:45 WARN - SQL Warning Code: 0, SQLState: 00000\n"
     ]
    },
    {
     "name": "stdout",
     "output_type": "stream",
     "text": [
      "13:17:45 WARN - schema \"ex_biography\" does not exist, skipping\n"
     ]
    },
    {
     "name": "stdout",
     "output_type": "stream",
     "text": [
      "13:17:45 WARN - SQL Warning Code: 0, SQLState: 00000\n"
     ]
    },
    {
     "name": "stdout",
     "output_type": "stream",
     "text": [
      "13:17:45 WARN - schema \"ex_embedded_id\" does not exist, skipping\n"
     ]
    },
    {
     "name": "stdout",
     "output_type": "stream",
     "text": [
      "13:17:45 WARN - SQL Warning Code: 0, SQLState: 00000\n"
     ]
    },
    {
     "name": "stdout",
     "output_type": "stream",
     "text": [
      "13:17:45 WARN - schema \"ex_heritage1\" does not exist, skipping\n"
     ]
    },
    {
     "name": "stdout",
     "output_type": "stream",
     "text": [
      "13:17:45 WARN - SQL Warning Code: 0, SQLState: 00000\n"
     ]
    },
    {
     "name": "stdout",
     "output_type": "stream",
     "text": [
      "13:17:45 WARN - relation \"student\" does not exist, skipping\n"
     ]
    },
    {
     "name": "stdout",
     "output_type": "stream",
     "text": [
      "13:17:45 WARN - SQL Warning Code: 0, SQLState: 00000\n"
     ]
    },
    {
     "name": "stdout",
     "output_type": "stream",
     "text": [
      "13:17:45 WARN - relation \"teacher\" does not exist, skipping\n"
     ]
    },
    {
     "name": "stdout",
     "output_type": "stream",
     "text": [
      "13:17:45 WARN - SQL Warning Code: 0, SQLState: 00000\n"
     ]
    },
    {
     "name": "stdout",
     "output_type": "stream",
     "text": [
      "13:17:45 WARN - schema \"ex_heritage2\" does not exist, skipping\n"
     ]
    },
    {
     "name": "stdout",
     "output_type": "stream",
     "text": [
      "13:17:45 WARN - SQL Warning Code: 0, SQLState: 00000\n"
     ]
    },
    {
     "name": "stdout",
     "output_type": "stream",
     "text": [
      "13:17:45 WARN - schema \"ex_heritage2\" does not exist, skipping\n"
     ]
    },
    {
     "name": "stdout",
     "output_type": "stream",
     "text": [
      "13:17:45 WARN - SQL Warning Code: 0, SQLState: 00000\n"
     ]
    },
    {
     "name": "stdout",
     "output_type": "stream",
     "text": [
      "13:17:45 WARN - schema \"ex_heritage2\" does not exist, skipping\n"
     ]
    },
    {
     "name": "stdout",
     "output_type": "stream",
     "text": [
      "13:17:45 WARN - SQL Warning Code: 0, SQLState: 00000\n"
     ]
    },
    {
     "name": "stdout",
     "output_type": "stream",
     "text": [
      "13:17:45 WARN - schema \"ex_heritage3\" does not exist, skipping\n"
     ]
    },
    {
     "name": "stdout",
     "output_type": "stream",
     "text": [
      "13:17:45 WARN - SQL Warning Code: 0, SQLState: 00000\n"
     ]
    },
    {
     "name": "stdout",
     "output_type": "stream",
     "text": [
      "13:17:45 WARN - schema \"ex_heritage3\" does not exist, skipping\n"
     ]
    },
    {
     "name": "stdout",
     "output_type": "stream",
     "text": [
      "13:17:45 WARN - SQL Warning Code: 0, SQLState: 00000\n"
     ]
    },
    {
     "name": "stdout",
     "output_type": "stream",
     "text": [
      "13:17:45 WARN - schema \"ex_heritage3\" does not exist, skipping\n"
     ]
    },
    {
     "name": "stdout",
     "output_type": "stream",
     "text": [
      "13:17:45 WARN - SQL Warning Code: 0, SQLState: 00000\n"
     ]
    },
    {
     "name": "stdout",
     "output_type": "stream",
     "text": [
      "13:17:45 WARN - schema \"ex_hook\" does not exist, skipping\n"
     ]
    },
    {
     "name": "stdout",
     "output_type": "stream",
     "text": [
      "13:17:45 WARN - SQL Warning Code: 0, SQLState: 00000\n"
     ]
    },
    {
     "name": "stdout",
     "output_type": "stream",
     "text": [
      "13:17:45 WARN - schema \"ex_idclass\" does not exist, skipping\n"
     ]
    },
    {
     "name": "stdout",
     "output_type": "stream",
     "text": [
      "13:17:45 WARN - SQL Warning Code: 0, SQLState: 00000\n"
     ]
    },
    {
     "name": "stdout",
     "output_type": "stream",
     "text": [
      "13:17:45 WARN - relation \"customer_address\" does not exist, skipping\n"
     ]
    },
    {
     "name": "stdout",
     "output_type": "stream",
     "text": [
      "13:17:45 WARN - SQL Warning Code: 0, SQLState: 00000\n"
     ]
    },
    {
     "name": "stdout",
     "output_type": "stream",
     "text": [
      "13:17:45 WARN - relation \"customer_address\" does not exist, skipping\n"
     ]
    },
    {
     "name": "stdout",
     "output_type": "stream",
     "text": [
      "13:17:45 WARN - SQL Warning Code: 0, SQLState: 00000\n"
     ]
    },
    {
     "name": "stdout",
     "output_type": "stream",
     "text": [
      "13:17:45 WARN - schema \"ex_many_to_many\" does not exist, skipping\n"
     ]
    },
    {
     "name": "stdout",
     "output_type": "stream",
     "text": [
      "13:17:45 WARN - SQL Warning Code: 0, SQLState: 00000\n"
     ]
    },
    {
     "name": "stdout",
     "output_type": "stream",
     "text": [
      "13:17:45 WARN - schema \"ex_many_to_many\" does not exist, skipping\n"
     ]
    },
    {
     "name": "stdout",
     "output_type": "stream",
     "text": [
      "13:17:45 WARN - SQL Warning Code: 0, SQLState: 00000\n"
     ]
    },
    {
     "name": "stdout",
     "output_type": "stream",
     "text": [
      "13:17:45 WARN - schema \"ex_many_to_many\" does not exist, skipping\n"
     ]
    },
    {
     "name": "stdout",
     "output_type": "stream",
     "text": [
      "13:17:45 WARN - SQL Warning Code: 0, SQLState: 00000\n"
     ]
    },
    {
     "name": "stdout",
     "output_type": "stream",
     "text": [
      "13:17:45 WARN - relation \"line\" does not exist, skipping\n"
     ]
    },
    {
     "name": "stdout",
     "output_type": "stream",
     "text": [
      "13:17:45 WARN - SQL Warning Code: 0, SQLState: 00000\n"
     ]
    },
    {
     "name": "stdout",
     "output_type": "stream",
     "text": [
      "13:17:45 WARN - schema \"ex_one_to_many_a\" does not exist, skipping\n"
     ]
    },
    {
     "name": "stdout",
     "output_type": "stream",
     "text": [
      "13:17:45 WARN - SQL Warning Code: 0, SQLState: 00000\n"
     ]
    },
    {
     "name": "stdout",
     "output_type": "stream",
     "text": [
      "13:17:45 WARN - schema \"ex_one_to_many_a\" does not exist, skipping\n"
     ]
    },
    {
     "name": "stdout",
     "output_type": "stream",
     "text": [
      "13:17:45 WARN - SQL Warning Code: 0, SQLState: 00000\n"
     ]
    },
    {
     "name": "stdout",
     "output_type": "stream",
     "text": [
      "13:17:45 WARN - relation \"line\" does not exist, skipping\n"
     ]
    },
    {
     "name": "stdout",
     "output_type": "stream",
     "text": [
      "13:17:45 WARN - SQL Warning Code: 0, SQLState: 00000\n"
     ]
    },
    {
     "name": "stdout",
     "output_type": "stream",
     "text": [
      "13:17:45 WARN - schema \"ex_one_to_many_b\" does not exist, skipping\n"
     ]
    },
    {
     "name": "stdout",
     "output_type": "stream",
     "text": [
      "13:17:45 WARN - SQL Warning Code: 0, SQLState: 00000\n"
     ]
    },
    {
     "name": "stdout",
     "output_type": "stream",
     "text": [
      "13:17:45 WARN - schema \"ex_one_to_many_b\" does not exist, skipping\n"
     ]
    },
    {
     "name": "stdout",
     "output_type": "stream",
     "text": [
      "13:17:45 INFO - HHH10001501: Connection obtained from JdbcConnectionAccess [org.hibernate.engine.jdbc.env.internal.JdbcEnvironmentInitiator$ConnectionProviderJdbcConnectionAccess@28b735de] for (non-JTA) DDL execution was not in auto-commit mode; the Connection 'local transaction' will be committed and the Connection will be set into auto-commit mode.\n"
     ]
    },
    {
     "name": "stdout",
     "output_type": "stream",
     "text": [
      "13:17:45 WARN - SQL Warning Code: 0, SQLState: 42P06\n"
     ]
    },
    {
     "name": "stdout",
     "output_type": "stream",
     "text": [
      "13:17:45 WARN - schema \"ex_simple\" already exists, skipping\n"
     ]
    },
    {
     "name": "stdout",
     "output_type": "stream",
     "text": [
      "13:17:45 WARN - SQL Warning Code: 0, SQLState: 42P06\n"
     ]
    },
    {
     "name": "stdout",
     "output_type": "stream",
     "text": [
      "13:17:45 WARN - schema \"ex_uuid\" already exists, skipping\n"
     ]
    },
    {
     "name": "stdout",
     "output_type": "stream",
     "text": [
      "13:17:45 WARN - SQL Warning Code: 0, SQLState: 42P06\n"
     ]
    },
    {
     "name": "stdout",
     "output_type": "stream",
     "text": [
      "13:17:45 WARN - schema \"ex_idseq\" already exists, skipping\n"
     ]
    },
    {
     "name": "stdout",
     "output_type": "stream",
     "text": [
      "13:17:45 WARN - SQL Warning Code: 0, SQLState: 42P06\n"
     ]
    },
    {
     "name": "stdout",
     "output_type": "stream",
     "text": [
      "13:17:45 WARN - schema \"ex_idtable\" already exists, skipping\n"
     ]
    }
   ],
   "source": [
    "//| output: false\n",
    "//| echo: false\n",
    "\n",
    "%printWithName false\n",
    "    \n",
    "// UPDATE SAMPLE SOURCE CODE\n",
    "\n",
    "String script=\"\"\"\n",
    "export DB_URL=jdbc:postgresql://db/notebook-db\n",
    "export DB_USERNAME=dba\n",
    "export DB_PASSWORD=secretsecret\n",
    "    \n",
    "GITHUB_REPO=ebpro/sample-hellojpa\n",
    "GITHUB_URL=https://github.com/${GITHUB_REPO}\n",
    "BRANCH=develop\n",
    "SRC_DIR=/home/jovyan/work/src/github/${GITHUB_REPO}\n",
    "gitpuller ${GITHUB_URL} ${BRANCH} ${SRC_DIR}\n",
    "cd ${SRC_DIR}\n",
    "mvn --quiet clean package\n",
    "\"\"\";\n",
    "IJava.getKernelInstance().getMagics().applyCellMagic(\"shell\",List.of(\"\"),script);  \n",
    "\n",
    "/* String script=\"\"\"\n",
    "export DB_URL=jdbc:postgresql://db/notebook-db\n",
    "export DB_USERNAME=dba\n",
    "export DB_PASSWORD=secretsecret\n",
    "    \n",
    "GITHUB_REPO=ebpro/minimal-jpa\n",
    "GITHUB_URL=https://github.com/${GITHUB_REPO}\n",
    "BRANCH=develop\n",
    "SRC_DIR=/home/jovyan/work/src/github/${GITHUB_REPO}\n",
    "gitpuller ${GITHUB_URL} ${BRANCH} ${SRC_DIR}\n",
    "cd ${SRC_DIR}\n",
    "mvn --quiet clean package\n",
    "\"\"\";\n",
    "IJava.getKernelInstance().getMagics().applyCellMagic(\"shell\",List.of(\"\"),script);  */\n",
    "\n",
    "//LOAD SAMPLE CLASSES\n",
    "%jars \"/home/jovyan/work/src/github/ebpro/sample-hellojpa/target/*-SNAPSHOT-jar-with-dependencies.jar\"\n",
    "\n",
    "//IMPORT MAIN CLASSES\n",
    "import jakarta.persistence.*;\n",
    "import fr.univtln.bruno.demos.jpa.hello.DatabaseManager;\n",
    "\n",
    "//INIT THE DATABASE \n",
    "try (EntityManager em = DatabaseManager.getEntityManagerFactory().createEntityManager();) {}\n",
    "\n",
    "//INIT A LOGGER\n",
    "import org.slf4j.Logger;\n",
    "import org.slf4j.LoggerFactory;\n",
    "\n",
    "Logger log = LoggerFactory.getLogger(\"notebook\");"
   ]
  },
  {
   "cell_type": "code",
   "execution_count": 3,
   "id": "9b7619ed-8671-4fa7-8f79-556a9de01052",
   "metadata": {
    "vscode": {
     "languageId": "java"
    }
   },
   "outputs": [
    {
     "ename": "EvalException",
     "evalue": "/home/jovyan/work/local/./_version.qmd",
     "output_type": "error",
     "traceback": [
      "\u001b[1m\u001b[31m---------------------------------------------------------------------------\u001b[0m",
      "\u001b[1m\u001b[31mjava.nio.file.NoSuchFileException: /home/jovyan/work/local/./_version.qmd\u001b[0m",
      "\u001b[1m\u001b[31m\tat java.base/sun.nio.fs.UnixException.translateToIOException(UnixException.java:92)\u001b[0m",
      "\u001b[1m\u001b[31m\tat java.base/sun.nio.fs.UnixException.rethrowAsIOException(UnixException.java:106)\u001b[0m",
      "\u001b[1m\u001b[31m\tat java.base/sun.nio.fs.UnixException.rethrowAsIOException(UnixException.java:111)\u001b[0m",
      "\u001b[1m\u001b[31m\tat java.base/sun.nio.fs.UnixFileSystemProvider.newFileChannel(UnixFileSystemProvider.java:224)\u001b[0m",
      "\u001b[1m\u001b[31m\tat java.base/java.nio.channels.FileChannel.open(FileChannel.java:309)\u001b[0m",
      "\u001b[1m\u001b[31m\tat java.base/java.nio.channels.FileChannel.open(FileChannel.java:369)\u001b[0m",
      "\u001b[1m\u001b[31m\tat java.base/java.nio.file.Files.lines(Files.java:4112)\u001b[0m",
      "\u001b[1m\u001b[31m\tat java.base/java.nio.file.Files.lines(Files.java:4207)\u001b[0m",
      "\u001b[1m\u001b[31m\tat .(#89:1)\u001b[0m"
     ]
    }
   ],
   "source": [
    "//| echo: false\n",
    "import java.util.stream.Stream;\n",
    "import java.nio.file.FileSystems;\n",
    "Path path=Path.of(\"..\",\"_version.qmd\").toAbsolutePath();\n",
    "if (!Files.exists(path)) path=Path.of(\".\",\"_version.qmd\").toAbsolutePath();\n",
    "Stream<String> lines = Files.lines(path);\n",
    "String data = lines.collect(Collectors.joining(\"\\n\"));\n",
    "lines.close();\n",
    "render(data, \"text/markdown\");"
   ]
  },
  {
   "cell_type": "code",
   "execution_count": 4,
   "id": "f1951b96-6305-43ac-b819-9257fd43a4ba",
   "metadata": {
    "tags": [
     "remove"
    ],
    "vscode": {
     "languageId": "java"
    }
   },
   "outputs": [],
   "source": [
    "//| output: false\n",
    "//| echo: false\n",
    "import fr.univtln.bruno.demos.jpa.hello.samples.ex_entity.CustomerGenerator;\n",
    "\n",
    "CustomerGenerator.generateCustomer(1000);"
   ]
  },
  {
   "cell_type": "code",
   "execution_count": 5,
   "id": "ce7bdd6b-89e2-4862-9171-70aafceffac9",
   "metadata": {
    "tags": [],
    "vscode": {
     "languageId": "java"
    }
   },
   "outputs": [
    {
     "ename": "CompilationException",
     "evalue": "",
     "output_type": "error",
     "traceback": [
      "\u001b[1m\u001b[30m|   \u001b[1m\u001b[30mEntityManagerFactory emf = \u001b[0m\u001b[1m\u001b[30m\u001b[41mDatabaseManager.getInstance\u001b[0m\u001b[1m\u001b[30m().getEntityManagerFactory();\u001b[0m",
      "\u001b[1m\u001b[31mcannot find symbol\u001b[0m",
      "\u001b[1m\u001b[31m  symbol:   method getInstance()\u001b[0m",
      ""
     ]
    }
   ],
   "source": [
    "//| output: false\n",
    "//| echo: false\n",
    "import fr.univtln.bruno.demos.jpa.hello.samples.ex_associations.ex_onetomany_a.*;\n",
    "EntityManagerFactory emf = DatabaseManager.getInstance().getEntityManagerFactory();\n",
    "final Logger log = LoggerFactory.getLogger(\"notebook\");"
   ]
  },
  {
   "cell_type": "markdown",
   "id": "4042323d-d008-40f6-b2da-30a56dea38c3",
   "metadata": {},
   "source": [
    "### SQL Natif\n",
    "\n",
    "JPA permet d'exécuter SQL natives pour interagir avec une base de données en utilisant l'API EntityManager pour créer et exécuter des requêtes SQL natives. Il est aussi possible l'annotation `@NamedNativeQuery` sur une entité pour définir et nommer des requêtes."
   ]
  },
  {
   "cell_type": "code",
   "execution_count": 6,
   "id": "577efd8d-bb1f-4300-b8fe-7c7b80005c21",
   "metadata": {
    "vscode": {
     "languageId": "java"
    }
   },
   "outputs": [],
   "source": [
    "//| output: false\n",
    "//| echo: false\n",
    "import jakarta.persistence.*;\n",
    "import fr.univtln.bruno.demos.jpa.hello.DatabaseManager;\n",
    "import fr.univtln.bruno.demos.jpa.hello.samples.ex_entity.Customer;"
   ]
  },
  {
   "cell_type": "markdown",
   "id": "ab3d60a3-7339-48c1-aec2-517e0b948829",
   "metadata": {},
   "source": [
    "Les requêtes de consultation:"
   ]
  },
  {
   "cell_type": "code",
   "execution_count": 7,
   "id": "c11291af-7c7c-49b5-8e3e-3abd451c5b39",
   "metadata": {
    "vscode": {
     "languageId": "java"
    }
   },
   "outputs": [
    {
     "ename": "CompilationException",
     "evalue": "",
     "output_type": "error",
     "traceback": [
      "\u001b[1m\u001b[30m|   \u001b[1m\u001b[30mtry (EntityManager entityManager = \u001b[0m\u001b[1m\u001b[30m\u001b[41memf\u001b[0m\u001b[1m\u001b[30m.createEntityManager()) {\u001b[0m",
      "\u001b[1m\u001b[31mcannot find symbol\u001b[0m",
      "\u001b[1m\u001b[31m  symbol:   variable emf\u001b[0m",
      "",
      "\u001b[1m\u001b[30m|   \u001b[1m\u001b[30m    List<Customer> customers = \u001b[0m\u001b[1m\u001b[30m\u001b[41mquery\u001b[0m",
      "\u001b[1m\u001b[30m|   \u001b[1m\u001b[30m\u001b[41m        .setFirstResult((pageNumber-1)*pageSize)\u001b[0m",
      "\u001b[1m\u001b[30m|   \u001b[1m\u001b[30m\u001b[41m        .setMaxResults(pageSize)\u001b[0m",
      "\u001b[1m\u001b[30m|   \u001b[1m\u001b[30m\u001b[41m        .getResultList()\u001b[0m\u001b[1m\u001b[30m;\u001b[0m",
      "\u001b[1m\u001b[31munchecked conversion\u001b[0m",
      "\u001b[1m\u001b[31m  required: java.util.List<fr.univtln.bruno.demos.jpa.hello.samples.ex_entity.Customer>\u001b[0m",
      "\u001b[1m\u001b[31m  found:    java.util.List\u001b[0m",
      ""
     ]
    }
   ],
   "source": [
    "//| echo: true\n",
    "try (EntityManager entityManager = emf.createEntityManager()) {\n",
    "    Query query = entityManager.createNativeQuery(\"\"\"\n",
    "                           SELECT * \n",
    "                           FROM CUSTOMER\"\"\",\n",
    "                           Customer.class);\n",
    "        \n",
    "    //Customers (page 10 of size 5)\n",
    "    int pageNumber = 10;\n",
    "    int pageSize = 5;\n",
    "    List<Customer> customers = query\n",
    "        .setFirstResult((pageNumber-1)*pageSize)\n",
    "        .setMaxResults(pageSize)\n",
    "        .getResultList();\n",
    "    \n",
    "    customers.stream().map(Customer::toString).forEach(log::info);\n",
    "}    "
   ]
  },
  {
   "cell_type": "markdown",
   "id": "e89bc4f5-4992-4b32-ae6b-313dc39e9a37",
   "metadata": {},
   "source": [
    "Les requêtes de comptage:"
   ]
  },
  {
   "cell_type": "code",
   "execution_count": 8,
   "id": "a4f7bc52-df66-4763-a283-967a035a25eb",
   "metadata": {
    "vscode": {
     "languageId": "java"
    }
   },
   "outputs": [
    {
     "ename": "CompilationException",
     "evalue": "",
     "output_type": "error",
     "traceback": [
      "\u001b[1m\u001b[30m|   \u001b[1m\u001b[30mtry (EntityManager entityManager = \u001b[0m\u001b[1m\u001b[30m\u001b[41memf\u001b[0m\u001b[1m\u001b[30m.createEntityManager()) {\u001b[0m",
      "\u001b[1m\u001b[31mcannot find symbol\u001b[0m",
      "\u001b[1m\u001b[31m  symbol:   variable emf\u001b[0m",
      ""
     ]
    }
   ],
   "source": [
    "//| echo: true\n",
    "try (EntityManager entityManager = emf.createEntityManager()) {\n",
    "    long result = (Long) entityManager\n",
    "                   .createNativeQuery(\"\"\"\n",
    "                                      SELECT COUNT(1)\n",
    "                                      FROM CUSTOMER\"\"\")\n",
    "                   .getSingleResult();\n",
    "    log.info(\"Customers count: %s\".formatted(result));\n",
    "}"
   ]
  },
  {
   "cell_type": "code",
   "execution_count": 9,
   "id": "23495475-10ad-445d-9186-f874e98c33a2",
   "metadata": {
    "vscode": {
     "languageId": "java"
    }
   },
   "outputs": [
    {
     "ename": "CompilationException",
     "evalue": "",
     "output_type": "error",
     "traceback": [
      "\u001b[1m\u001b[30m|   \u001b[1m\u001b[30mtry (EntityManager entityManager = \u001b[0m\u001b[1m\u001b[30m\u001b[41memf\u001b[0m\u001b[1m\u001b[30m.createEntityManager()) {\u001b[0m",
      "\u001b[1m\u001b[31mcannot find symbol\u001b[0m",
      "\u001b[1m\u001b[31m  symbol:   variable emf\u001b[0m",
      ""
     ]
    }
   ],
   "source": [
    "String name = \"Smith\";\n",
    "try (EntityManager entityManager = emf.createEntityManager()) {\n",
    "    name = (String)entityManager.createNativeQuery(\"\"\"\n",
    "                SELECT LASTNAME FROM CUSTOMER  \n",
    "                ORDER BY RANDOM()  \n",
    "                LIMIT 1\"\"\").getSingleResult();\n",
    "    }\n",
    "log.info(\"Nom d'une personne aléatoire: {}\",name);"
   ]
  },
  {
   "cell_type": "markdown",
   "id": "eafb25f5-f51a-4b77-9b96-199cb93efa2e",
   "metadata": {},
   "source": [
    "Les requêtes peuvent être paramétrées (? et setParameter(...))."
   ]
  },
  {
   "cell_type": "code",
   "execution_count": 10,
   "id": "e50b2789-5141-4b92-86a3-020a76368a05",
   "metadata": {
    "vscode": {
     "languageId": "java"
    }
   },
   "outputs": [
    {
     "ename": "CompilationException",
     "evalue": "",
     "output_type": "error",
     "traceback": [
      "\u001b[1m\u001b[30m|   \u001b[1m\u001b[30mtry (EntityManager entityManager = \u001b[0m\u001b[1m\u001b[30m\u001b[41memf\u001b[0m\u001b[1m\u001b[30m.createEntityManager()) {\u001b[0m",
      "\u001b[1m\u001b[31mcannot find symbol\u001b[0m",
      "\u001b[1m\u001b[31m  symbol:   variable emf\u001b[0m",
      "",
      "\u001b[1m\u001b[30m|   \u001b[1m\u001b[30m    List<Customer> customers = \u001b[0m\u001b[1m\u001b[30m\u001b[41mquery\u001b[0m",
      "\u001b[1m\u001b[30m|   \u001b[1m\u001b[30m\u001b[41m        .setParameter(1, name)\u001b[0m",
      "\u001b[1m\u001b[30m|   \u001b[1m\u001b[30m\u001b[41m        .setMaxResults(3)\u001b[0m",
      "\u001b[1m\u001b[30m|   \u001b[1m\u001b[30m\u001b[41m        .getResultList()\u001b[0m\u001b[1m\u001b[30m;\u001b[0m",
      "\u001b[1m\u001b[31munchecked conversion\u001b[0m",
      "\u001b[1m\u001b[31m  required: java.util.List<fr.univtln.bruno.demos.jpa.hello.samples.ex_entity.Customer>\u001b[0m",
      "\u001b[1m\u001b[31m  found:    java.util.List\u001b[0m",
      ""
     ]
    }
   ],
   "source": [
    "//| echo: true\n",
    "//Variable name (String) contains an existing name \n",
    "try (EntityManager entityManager = emf.createEntityManager()) {\n",
    "    Query query = entityManager.createNativeQuery(\"\"\"\n",
    "                                                  SELECT * \n",
    "                                                  FROM CUSTOMER\n",
    "                                                  WHERE LASTNAME = ?\n",
    "                                                  \"\"\", \n",
    "                                                  Customer.class);\n",
    "    \n",
    "    List<Customer> customers = query\n",
    "        .setParameter(1, name)\n",
    "        .setMaxResults(3)\n",
    "        .getResultList();\n",
    "    log.info(\"3 firsts customers whose name is %s\".formatted(name));\n",
    "    customers.stream().forEach(System.out::println);\n",
    "}    "
   ]
  },
  {
   "cell_type": "markdown",
   "id": "c7779d5e-711f-49c7-a39f-d04477bfe0a6",
   "metadata": {},
   "source": [
    "#### JPA Query Language (JPQL)\n",
    "\n",
    "JPA propose aussi un langage d'interrogation des entités. \n",
    "Java Persistence Query Language (JPQL) est un langage de requête déclaratif spécifique à JPA. Il permet d'effectuer des requêtes sur des entités persistantes. Les requêtes sont automatiquement traduites en SQL et peuvent disposer d'un cache. \n",
    "cf. [JPQL Wiki Book](https://en.wikibooks.org/wiki/Java_Persistence/JPQL)"
   ]
  },
  {
   "cell_type": "code",
   "execution_count": 11,
   "id": "32094409-ab38-4bba-82e8-ae2eab6f1cc0",
   "metadata": {
    "vscode": {
     "languageId": "java"
    }
   },
   "outputs": [
    {
     "ename": "CompilationException",
     "evalue": "",
     "output_type": "error",
     "traceback": [
      "\u001b[1m\u001b[30m|   \u001b[1m\u001b[30mEntityManager entityManager = \u001b[0m\u001b[1m\u001b[30m\u001b[41memf\u001b[0m\u001b[1m\u001b[30m.createEntityManager();\u001b[0m",
      "\u001b[1m\u001b[31mcannot find symbol\u001b[0m",
      "\u001b[1m\u001b[31m  symbol:   variable emf\u001b[0m",
      ""
     ]
    }
   ],
   "source": [
    "//| output: false\n",
    "//| echo: false\n",
    "EntityManager entityManager = emf.createEntityManager()"
   ]
  },
  {
   "cell_type": "markdown",
   "id": "9a9fa599-a1e1-4df8-9a5b-6844ba0c07c1",
   "metadata": {},
   "source": [
    "Il est possible d'interroger des entités :"
   ]
  },
  {
   "cell_type": "code",
   "execution_count": 12,
   "id": "0675eb54-2d80-4410-9add-c80a1f8af9dd",
   "metadata": {
    "tags": [],
    "vscode": {
     "languageId": "java"
    }
   },
   "outputs": [
    {
     "ename": "CompilationException",
     "evalue": "",
     "output_type": "error",
     "traceback": [
      "\u001b[1m\u001b[30m|   \u001b[1m\u001b[30mTypedQuery<Customer> query = \u001b[0m\u001b[1m\u001b[30m\u001b[41mentityManager\u001b[0m\u001b[1m\u001b[30m\u001b[0m",
      "\u001b[1m\u001b[31mcannot find symbol\u001b[0m",
      "\u001b[1m\u001b[31m  symbol:   variable entityManager\u001b[0m",
      ""
     ]
    }
   ],
   "source": [
    "//| echo: true\n",
    "//Variable name (String) contains an existing name \n",
    "TypedQuery<Customer> query = entityManager\n",
    "        .createQuery(\"\"\"\n",
    "                     SELECT c\n",
    "                     FROM Customer c\n",
    "                     WHERE c.lastname = :name\"\"\",\n",
    "                     Customer.class);\n",
    "\n",
    "List<Customer> customers = query.setParameter(\"name\", name)\n",
    "    .setMaxResults(3)\n",
    "    .getResultList();\n",
    "\n",
    "customers.stream().forEach(System.out::println);"
   ]
  },
  {
   "cell_type": "code",
   "execution_count": 13,
   "id": "afa21bf7-f9e8-41aa-aa4d-c557711381fa",
   "metadata": {
    "vscode": {
     "languageId": "java"
    }
   },
   "outputs": [],
   "source": [
    "//| output: false\n",
    "//| echo: false\n",
    "import fr.univtln.bruno.demos.jpa.hello.samples.ex_dto.CustomerDisplayDTO;"
   ]
  },
  {
   "cell_type": "markdown",
   "id": "73d9b813-54af-4df9-8392-2f48ca2c00f6",
   "metadata": {},
   "source": [
    "mais aussi de projetter sur une autre classe comem par exemple un DTO : "
   ]
  },
  {
   "cell_type": "code",
   "execution_count": 14,
   "id": "f55b03b0-2fdb-40f5-8339-075b37cdbbec",
   "metadata": {
    "vscode": {
     "languageId": "java"
    }
   },
   "outputs": [
    {
     "name": "stdout",
     "output_type": "stream",
     "text": [
      "package fr.univtln.bruno.demos.jpa.hello.samples.ex_dto;\n"
     ]
    },
    {
     "name": "stdout",
     "output_type": "stream",
     "text": [
      "\n"
     ]
    },
    {
     "name": "stdout",
     "output_type": "stream",
     "text": [
      "/**\n"
     ]
    },
    {
     "name": "stdout",
     "output_type": "stream",
     "text": [
      " * A DTO (Data Transfer Object) for displaying customer information.\n"
     ]
    },
    {
     "name": "stdout",
     "output_type": "stream",
     "text": [
      " */\n"
     ]
    },
    {
     "name": "stdout",
     "output_type": "stream",
     "text": [
      "public record CustomerDisplayDTO(String firstname, String lastname) {\n"
     ]
    },
    {
     "name": "stdout",
     "output_type": "stream",
     "text": [
      "}\n"
     ]
    }
   ],
   "source": [
    "//| output: true\n",
    "//| echo: false\n",
    "// print DTO\n",
    "\n",
    "String script=\"\"\"\n",
    "cat /home/jovyan/work/src/github/ebpro/sample-hellojpa/src/main/java/fr/univtln/bruno/demos/jpa/hello/samples/ex_dto/CustomerDisplayDTO.java\n",
    "\"\"\";\n",
    "IJava.getKernelInstance().getMagics().applyCellMagic(\"shell\",List.of(\"\"),script);  \n",
    "return null;"
   ]
  },
  {
   "cell_type": "code",
   "execution_count": 15,
   "id": "511f79d4-e678-472a-bf0a-347f139a8f42",
   "metadata": {
    "vscode": {
     "languageId": "java"
    }
   },
   "outputs": [
    {
     "ename": "CompilationException",
     "evalue": "",
     "output_type": "error",
     "traceback": [
      "\u001b[1m\u001b[30m|   \u001b[1m\u001b[30mTypedQuery<CustomerDisplayDTO> query = \u001b[0m\u001b[1m\u001b[30m\u001b[41mentityManager\u001b[0m\u001b[1m\u001b[30m.createQuery(\"\"\"\u001b[0m",
      "\u001b[1m\u001b[31mcannot find symbol\u001b[0m",
      "\u001b[1m\u001b[31m  symbol:   variable entityManager\u001b[0m",
      ""
     ]
    }
   ],
   "source": [
    "//| echo: true\n",
    "//Variable name (String) contains an existing name \n",
    "TypedQuery<CustomerDisplayDTO> query = entityManager.createQuery(\"\"\"\n",
    "                     SELECT new fr.univtln.bruno.demos.jpa.hello.samples.ex_dto.CustomerDisplayDTO\n",
    "                         (c.firstname, c.lastname)\n",
    "                     FROM Customer c\n",
    "                     WHERE c.lastname = :name\"\"\",\n",
    "                     CustomerDisplayDTO.class);\n",
    "\n",
    "List<CustomerDisplayDTO> customers = query\n",
    "        .setParameter(\"name\", name)\n",
    "        .setMaxResults(3)\n",
    "        .getResultList();\n",
    "\n",
    "customers.stream().forEach(System.out::println);"
   ]
  },
  {
   "cell_type": "markdown",
   "id": "c59d211f-c5fc-4804-8460-6c4a71e02c5d",
   "metadata": {},
   "source": [
    "JPA permet aussi des requêtes de comptage:"
   ]
  },
  {
   "cell_type": "code",
   "execution_count": 16,
   "id": "268600df-20ca-4e9f-81e6-1215d32edcdf",
   "metadata": {
    "tags": [],
    "vscode": {
     "languageId": "java"
    }
   },
   "outputs": [
    {
     "ename": "CompilationException",
     "evalue": "",
     "output_type": "error",
     "traceback": [
      "\u001b[1m\u001b[30m|   \u001b[1m\u001b[30mlong customerCount=(long)\u001b[0m\u001b[1m\u001b[30m\u001b[41mentityManager\u001b[0m\u001b[1m\u001b[30m.createQuery(\"\"\"\u001b[0m",
      "\u001b[1m\u001b[31mcannot find symbol\u001b[0m",
      "\u001b[1m\u001b[31m  symbol:   variable entityManager\u001b[0m",
      ""
     ]
    }
   ],
   "source": [
    "//| echo: true\n",
    "long customerCount=(long)entityManager.createQuery(\"\"\"\n",
    "                                SELECT COUNT(c)\n",
    "                                FROM Customer c\"\"\").getSingleResult();\n",
    "                                                   \n",
    "System.out.println(\"There is %s customers.\".formatted(customerCount));                                                   "
   ]
  },
  {
   "cell_type": "code",
   "execution_count": 17,
   "id": "1de19311-5a78-498a-ac4f-4d02044681de",
   "metadata": {
    "vscode": {
     "languageId": "java"
    }
   },
   "outputs": [
    {
     "ename": "CompilationException",
     "evalue": "",
     "output_type": "error",
     "traceback": [
      "\u001b[1m\u001b[30m|   \u001b[1m\u001b[30m\u001b[0m\u001b[1m\u001b[30m\u001b[41mentityManager\u001b[0m\u001b[1m\u001b[30m.close()\u001b[0m",
      "\u001b[1m\u001b[31mcannot find symbol\u001b[0m",
      "\u001b[1m\u001b[31m  symbol:   variable entityManager\u001b[0m",
      ""
     ]
    }
   ],
   "source": [
    "//| output: false\n",
    "//| echo: false\n",
    "entityManager.close()"
   ]
  },
  {
   "cell_type": "code",
   "execution_count": 18,
   "id": "ba02ef0e-6d6f-4bcd-989f-839ad7d610be",
   "metadata": {
    "vscode": {
     "languageId": "java"
    }
   },
   "outputs": [],
   "source": []
  },
  {
   "cell_type": "code",
   "execution_count": 19,
   "id": "c2992468-6ae2-4f3e-81e1-504bc67351fb",
   "metadata": {
    "vscode": {
     "languageId": "java"
    }
   },
   "outputs": [],
   "source": []
  }
 ],
 "metadata": {
  "kernelspec": {
   "display_name": "Java [conda env:root] *",
   "language": "java",
   "name": "conda-root-java"
  },
  "language_info": {
   "codemirror_mode": "java",
   "file_extension": ".jshell",
   "mimetype": "text/x-java-source",
   "name": "Java",
   "pygments_lexer": "java",
   "version": "21.0.2+13-LTS"
  }
 },
 "nbformat": 4,
 "nbformat_minor": 5
}
