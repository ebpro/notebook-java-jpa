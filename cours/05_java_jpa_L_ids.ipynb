{
 "cells": [
  {
   "cell_type": "markdown",
   "id": "c6995753-b806-40e6-bdac-9926c79036d6",
   "metadata": {},
   "source": [
    "---\n",
    "  title: \"JPA 05: Identifiants des entités\"\n",
    "  description: contrôle fin des identifiants JPA.  \n",
    "  categories: \n",
    "    - Java\n",
    "    - I211\n",
    "    - Lecture\n",
    "    - JPA  \n",
    "---"
   ]
  },
  {
   "cell_type": "code",
   "execution_count": 1,
   "id": "462c768c-3733-40f4-bf8e-1c56cf63a519",
   "metadata": {
    "jupyter": {
     "outputs_hidden": true
    },
    "tags": [],
    "vscode": {
     "languageId": "java"
    }
   },
   "outputs": [
    {
     "name": "stdout",
     "output_type": "stream",
     "text": [
      "$ git fetch\n"
     ]
    },
    {
     "name": "stdout",
     "output_type": "stream",
     "text": [
      "\n"
     ]
    },
    {
     "name": "stdout",
     "output_type": "stream",
     "text": [
      "$ git reset --mixed\n"
     ]
    },
    {
     "name": "stdout",
     "output_type": "stream",
     "text": [
      "\n"
     ]
    },
    {
     "name": "stdout",
     "output_type": "stream",
     "text": [
      "$ git -c user.email=nbgitpuller@nbgitpuller.link -c user.name=nbgitpuller merge -Xours origin/develop\n"
     ]
    },
    {
     "name": "stdout",
     "output_type": "stream",
     "text": [
      "\n"
     ]
    },
    {
     "name": "stdout",
     "output_type": "stream",
     "text": [
      "Already up to date.\n"
     ]
    },
    {
     "name": "stdout",
     "output_type": "stream",
     "text": [
      "\n"
     ]
    },
    {
     "name": "stdout",
     "output_type": "stream",
     "text": [
      "13:19:51.371 INFO  f.u.b.d.jpa.hello.DatabaseManager - looking for property jakarta.persistence.jdbc.user in variable DB_USERNAME or in property db.username\n"
     ]
    },
    {
     "name": "stdout",
     "output_type": "stream",
     "text": [
      "13:19:51.374 INFO  f.u.b.d.jpa.hello.DatabaseManager - looking for property jakarta.persistence.jdbc.url in variable DB_URL or in property db.url\n"
     ]
    },
    {
     "name": "stdout",
     "output_type": "stream",
     "text": [
      "13:19:51.374 INFO  f.u.b.d.jpa.hello.DatabaseManager - looking for property jakarta.persistence.jdbc.password in variable DB_PASSWORD or in property db.password\n"
     ]
    },
    {
     "name": "stdout",
     "output_type": "stream",
     "text": [
      "13:19:51.374 INFO  f.u.b.d.jpa.hello.DatabaseManager - Connection to jdbc:postgresql://db/notebook-db as dba\n"
     ]
    },
    {
     "name": "stdout",
     "output_type": "stream",
     "text": [
      "13:19:52.214 INFO  com.mchange.v2.log.MLog - MLog clients using slf4j logging.\n"
     ]
    },
    {
     "name": "stdout",
     "output_type": "stream",
     "text": [
      "13:19:53.990 DEBUG org.hibernate.SQL - DROP SCHEMA IF  EXISTS EX_BIOGRAPHY CASCADE\n"
     ]
    },
    {
     "name": "stdout",
     "output_type": "stream",
     "text": [
      "13:19:53.995 WARN  o.h.e.jdbc.spi.SqlExceptionHelper - SQL Warning Code: 0, SQLState: 00000\n"
     ]
    },
    {
     "name": "stdout",
     "output_type": "stream",
     "text": [
      "13:19:53.995 WARN  o.h.e.jdbc.spi.SqlExceptionHelper - drop cascades to table ex_biography.customer\n"
     ]
    },
    {
     "name": "stdout",
     "output_type": "stream",
     "text": [
      "13:19:53.995 DEBUG org.hibernate.SQL - DROP SCHEMA IF  EXISTS EX_ENTITY CASCADE\n"
     ]
    },
    {
     "name": "stdout",
     "output_type": "stream",
     "text": [
      "13:19:53.996 DEBUG org.hibernate.SQL - DROP SCHEMA IF  EXISTS EX_MANY_TO_MANY CASCADE\n"
     ]
    },
    {
     "name": "stdout",
     "output_type": "stream",
     "text": [
      "13:19:53.999 WARN  o.h.e.jdbc.spi.SqlExceptionHelper - SQL Warning Code: 0, SQLState: 00000\n"
     ]
    },
    {
     "name": "stdout",
     "output_type": "stream",
     "text": [
      "13:19:53.999 WARN  o.h.e.jdbc.spi.SqlExceptionHelper - drop cascades to 3 other objects\n"
     ]
    },
    {
     "name": "stdout",
     "output_type": "stream",
     "text": [
      "13:19:53.999 DEBUG org.hibernate.SQL - DROP SCHEMA IF  EXISTS EX_ONE_TO_MANY_A CASCADE\n"
     ]
    },
    {
     "name": "stdout",
     "output_type": "stream",
     "text": [
      "13:19:54.001 WARN  o.h.e.jdbc.spi.SqlExceptionHelper - SQL Warning Code: 0, SQLState: 00000\n"
     ]
    },
    {
     "name": "stdout",
     "output_type": "stream",
     "text": [
      "13:19:54.001 WARN  o.h.e.jdbc.spi.SqlExceptionHelper - drop cascades to 2 other objects\n"
     ]
    },
    {
     "name": "stdout",
     "output_type": "stream",
     "text": [
      "13:19:54.001 DEBUG org.hibernate.SQL - DROP SCHEMA IF  EXISTS EX_ONE_TO_MANY_B CASCADE\n"
     ]
    },
    {
     "name": "stdout",
     "output_type": "stream",
     "text": [
      "13:19:54.003 WARN  o.h.e.jdbc.spi.SqlExceptionHelper - SQL Warning Code: 0, SQLState: 00000\n"
     ]
    },
    {
     "name": "stdout",
     "output_type": "stream",
     "text": [
      "13:19:54.003 WARN  o.h.e.jdbc.spi.SqlExceptionHelper - drop cascades to 2 other objects\n"
     ]
    },
    {
     "name": "stdout",
     "output_type": "stream",
     "text": [
      "13:19:54.003 DEBUG org.hibernate.SQL - DROP SCHEMA IF  EXISTS EX_HOOK CASCADE\n"
     ]
    },
    {
     "name": "stdout",
     "output_type": "stream",
     "text": [
      "13:19:54.004 WARN  o.h.e.jdbc.spi.SqlExceptionHelper - SQL Warning Code: 0, SQLState: 00000\n"
     ]
    },
    {
     "name": "stdout",
     "output_type": "stream",
     "text": [
      "13:19:54.004 WARN  o.h.e.jdbc.spi.SqlExceptionHelper - drop cascades to table ex_hook.customer\n"
     ]
    },
    {
     "name": "stdout",
     "output_type": "stream",
     "text": [
      "13:19:54.004 DEBUG org.hibernate.SQL - DROP SCHEMA IF  EXISTS EX_EMBEDDED_ID CASCADE\n"
     ]
    },
    {
     "name": "stdout",
     "output_type": "stream",
     "text": [
      "13:19:54.005 WARN  o.h.e.jdbc.spi.SqlExceptionHelper - SQL Warning Code: 0, SQLState: 00000\n"
     ]
    },
    {
     "name": "stdout",
     "output_type": "stream",
     "text": [
      "13:19:54.005 WARN  o.h.e.jdbc.spi.SqlExceptionHelper - drop cascades to table ex_embedded_id.employe\n"
     ]
    },
    {
     "name": "stdout",
     "output_type": "stream",
     "text": [
      "13:19:54.005 DEBUG org.hibernate.SQL - DROP SCHEMA IF  EXISTS EX_IDCLASS CASCADE\n"
     ]
    },
    {
     "name": "stdout",
     "output_type": "stream",
     "text": [
      "13:19:54.006 WARN  o.h.e.jdbc.spi.SqlExceptionHelper - SQL Warning Code: 0, SQLState: 00000\n"
     ]
    },
    {
     "name": "stdout",
     "output_type": "stream",
     "text": [
      "13:19:54.006 WARN  o.h.e.jdbc.spi.SqlExceptionHelper - drop cascades to table ex_idclass.employe\n"
     ]
    },
    {
     "name": "stdout",
     "output_type": "stream",
     "text": [
      "13:19:54.006 DEBUG org.hibernate.SQL - DROP SCHEMA IF  EXISTS EX_IDCLASS CASCADE\n"
     ]
    },
    {
     "name": "stdout",
     "output_type": "stream",
     "text": [
      "13:19:54.007 WARN  o.h.e.jdbc.spi.SqlExceptionHelper - SQL Warning Code: 0, SQLState: 00000\n"
     ]
    },
    {
     "name": "stdout",
     "output_type": "stream",
     "text": [
      "13:19:54.007 WARN  o.h.e.jdbc.spi.SqlExceptionHelper - schema \"ex_idclass\" does not exist, skipping\n"
     ]
    },
    {
     "name": "stdout",
     "output_type": "stream",
     "text": [
      "13:19:54.007 DEBUG org.hibernate.SQL - DROP SCHEMA IF  EXISTS EX_HERITAGE1 CASCADE\n"
     ]
    },
    {
     "name": "stdout",
     "output_type": "stream",
     "text": [
      "13:19:54.008 WARN  o.h.e.jdbc.spi.SqlExceptionHelper - SQL Warning Code: 0, SQLState: 00000\n"
     ]
    },
    {
     "name": "stdout",
     "output_type": "stream",
     "text": [
      "13:19:54.008 WARN  o.h.e.jdbc.spi.SqlExceptionHelper - drop cascades to table ex_heritage1.person\n"
     ]
    },
    {
     "name": "stdout",
     "output_type": "stream",
     "text": [
      "13:19:54.008 DEBUG org.hibernate.SQL - DROP SCHEMA IF  EXISTS EX_HERITAGE2 CASCADE\n"
     ]
    },
    {
     "name": "stdout",
     "output_type": "stream",
     "text": [
      "13:19:54.010 WARN  o.h.e.jdbc.spi.SqlExceptionHelper - SQL Warning Code: 0, SQLState: 00000\n"
     ]
    },
    {
     "name": "stdout",
     "output_type": "stream",
     "text": [
      "13:19:54.010 WARN  o.h.e.jdbc.spi.SqlExceptionHelper - drop cascades to 3 other objects\n"
     ]
    },
    {
     "name": "stdout",
     "output_type": "stream",
     "text": [
      "13:19:54.010 DEBUG org.hibernate.SQL - DROP SCHEMA IF  EXISTS EX_HERITAGE3 CASCADE\n"
     ]
    },
    {
     "name": "stdout",
     "output_type": "stream",
     "text": [
      "13:19:54.012 WARN  o.h.e.jdbc.spi.SqlExceptionHelper - SQL Warning Code: 0, SQLState: 00000\n"
     ]
    },
    {
     "name": "stdout",
     "output_type": "stream",
     "text": [
      "13:19:54.012 WARN  o.h.e.jdbc.spi.SqlExceptionHelper - drop cascades to 3 other objects\n"
     ]
    },
    {
     "name": "stdout",
     "output_type": "stream",
     "text": [
      "13:19:54.012 DEBUG org.hibernate.SQL - drop table if exists ex_biography.CUSTOMER cascade\n"
     ]
    },
    {
     "name": "stdout",
     "output_type": "stream",
     "text": [
      "13:19:54.012 WARN  o.h.e.jdbc.spi.SqlExceptionHelper - SQL Warning Code: 0, SQLState: 00000\n"
     ]
    },
    {
     "name": "stdout",
     "output_type": "stream",
     "text": [
      "13:19:54.012 WARN  o.h.e.jdbc.spi.SqlExceptionHelper - schema \"ex_biography\" does not exist, skipping\n"
     ]
    },
    {
     "name": "stdout",
     "output_type": "stream",
     "text": [
      "13:19:54.013 DEBUG org.hibernate.SQL - drop table if exists EX_EMBEDDED_ID.EMPLOYE cascade\n"
     ]
    },
    {
     "name": "stdout",
     "output_type": "stream",
     "text": [
      "13:19:54.013 WARN  o.h.e.jdbc.spi.SqlExceptionHelper - SQL Warning Code: 0, SQLState: 00000\n"
     ]
    },
    {
     "name": "stdout",
     "output_type": "stream",
     "text": [
      "13:19:54.013 WARN  o.h.e.jdbc.spi.SqlExceptionHelper - schema \"ex_embedded_id\" does not exist, skipping\n"
     ]
    },
    {
     "name": "stdout",
     "output_type": "stream",
     "text": [
      "13:19:54.013 DEBUG org.hibernate.SQL - drop table if exists EX_HERITAGE1.Person cascade\n"
     ]
    },
    {
     "name": "stdout",
     "output_type": "stream",
     "text": [
      "13:19:54.013 WARN  o.h.e.jdbc.spi.SqlExceptionHelper - SQL Warning Code: 0, SQLState: 00000\n"
     ]
    },
    {
     "name": "stdout",
     "output_type": "stream",
     "text": [
      "13:19:54.013 WARN  o.h.e.jdbc.spi.SqlExceptionHelper - schema \"ex_heritage1\" does not exist, skipping\n"
     ]
    },
    {
     "name": "stdout",
     "output_type": "stream",
     "text": [
      "13:19:54.013 DEBUG org.hibernate.SQL - alter table if exists EX_HERITAGE2.STUDENT drop constraint if exists FKbhp183l5ur0m48nhfqjtodwt7\n"
     ]
    },
    {
     "name": "stdout",
     "output_type": "stream",
     "text": [
      "13:19:54.014 WARN  o.h.e.jdbc.spi.SqlExceptionHelper - SQL Warning Code: 0, SQLState: 00000\n"
     ]
    },
    {
     "name": "stdout",
     "output_type": "stream",
     "text": [
      "13:19:54.014 WARN  o.h.e.jdbc.spi.SqlExceptionHelper - relation \"student\" does not exist, skipping\n"
     ]
    },
    {
     "name": "stdout",
     "output_type": "stream",
     "text": [
      "13:19:54.014 DEBUG org.hibernate.SQL - alter table if exists EX_HERITAGE2.TEACHER drop constraint if exists FKeiv4tioua2f6b81bwlpje2d8t\n"
     ]
    },
    {
     "name": "stdout",
     "output_type": "stream",
     "text": [
      "13:19:54.014 WARN  o.h.e.jdbc.spi.SqlExceptionHelper - SQL Warning Code: 0, SQLState: 00000\n"
     ]
    },
    {
     "name": "stdout",
     "output_type": "stream",
     "text": [
      "13:19:54.014 WARN  o.h.e.jdbc.spi.SqlExceptionHelper - relation \"teacher\" does not exist, skipping\n"
     ]
    },
    {
     "name": "stdout",
     "output_type": "stream",
     "text": [
      "13:19:54.014 DEBUG org.hibernate.SQL - drop table if exists EX_HERITAGE2.PERSON cascade\n"
     ]
    },
    {
     "name": "stdout",
     "output_type": "stream",
     "text": [
      "13:19:54.014 WARN  o.h.e.jdbc.spi.SqlExceptionHelper - SQL Warning Code: 0, SQLState: 00000\n"
     ]
    },
    {
     "name": "stdout",
     "output_type": "stream",
     "text": [
      "13:19:54.014 WARN  o.h.e.jdbc.spi.SqlExceptionHelper - schema \"ex_heritage2\" does not exist, skipping\n"
     ]
    },
    {
     "name": "stdout",
     "output_type": "stream",
     "text": [
      "13:19:54.014 DEBUG org.hibernate.SQL - drop table if exists EX_HERITAGE2.STUDENT cascade\n"
     ]
    },
    {
     "name": "stdout",
     "output_type": "stream",
     "text": [
      "13:19:54.014 WARN  o.h.e.jdbc.spi.SqlExceptionHelper - SQL Warning Code: 0, SQLState: 00000\n"
     ]
    },
    {
     "name": "stdout",
     "output_type": "stream",
     "text": [
      "13:19:54.015 WARN  o.h.e.jdbc.spi.SqlExceptionHelper - schema \"ex_heritage2\" does not exist, skipping\n"
     ]
    },
    {
     "name": "stdout",
     "output_type": "stream",
     "text": [
      "13:19:54.015 DEBUG org.hibernate.SQL - drop table if exists EX_HERITAGE2.TEACHER cascade\n"
     ]
    },
    {
     "name": "stdout",
     "output_type": "stream",
     "text": [
      "13:19:54.015 WARN  o.h.e.jdbc.spi.SqlExceptionHelper - SQL Warning Code: 0, SQLState: 00000\n"
     ]
    },
    {
     "name": "stdout",
     "output_type": "stream",
     "text": [
      "13:19:54.015 WARN  o.h.e.jdbc.spi.SqlExceptionHelper - schema \"ex_heritage2\" does not exist, skipping\n"
     ]
    },
    {
     "name": "stdout",
     "output_type": "stream",
     "text": [
      "13:19:54.015 DEBUG org.hibernate.SQL - drop table if exists EX_HERITAGE3.PERSON cascade\n"
     ]
    },
    {
     "name": "stdout",
     "output_type": "stream",
     "text": [
      "13:19:54.015 WARN  o.h.e.jdbc.spi.SqlExceptionHelper - SQL Warning Code: 0, SQLState: 00000\n"
     ]
    },
    {
     "name": "stdout",
     "output_type": "stream",
     "text": [
      "13:19:54.015 WARN  o.h.e.jdbc.spi.SqlExceptionHelper - schema \"ex_heritage3\" does not exist, skipping\n"
     ]
    },
    {
     "name": "stdout",
     "output_type": "stream",
     "text": [
      "13:19:54.015 DEBUG org.hibernate.SQL - drop table if exists EX_HERITAGE3.STUDENT cascade\n"
     ]
    },
    {
     "name": "stdout",
     "output_type": "stream",
     "text": [
      "13:19:54.016 WARN  o.h.e.jdbc.spi.SqlExceptionHelper - SQL Warning Code: 0, SQLState: 00000\n"
     ]
    },
    {
     "name": "stdout",
     "output_type": "stream",
     "text": [
      "13:19:54.016 WARN  o.h.e.jdbc.spi.SqlExceptionHelper - schema \"ex_heritage3\" does not exist, skipping\n"
     ]
    },
    {
     "name": "stdout",
     "output_type": "stream",
     "text": [
      "13:19:54.016 DEBUG org.hibernate.SQL - drop table if exists EX_HERITAGE3.TEACHER cascade\n"
     ]
    },
    {
     "name": "stdout",
     "output_type": "stream",
     "text": [
      "13:19:54.016 WARN  o.h.e.jdbc.spi.SqlExceptionHelper - SQL Warning Code: 0, SQLState: 00000\n"
     ]
    },
    {
     "name": "stdout",
     "output_type": "stream",
     "text": [
      "13:19:54.016 WARN  o.h.e.jdbc.spi.SqlExceptionHelper - schema \"ex_heritage3\" does not exist, skipping\n"
     ]
    },
    {
     "name": "stdout",
     "output_type": "stream",
     "text": [
      "13:19:54.016 DEBUG org.hibernate.SQL - drop table if exists EX_HOOK.CUSTOMER cascade\n"
     ]
    },
    {
     "name": "stdout",
     "output_type": "stream",
     "text": [
      "13:19:54.016 WARN  o.h.e.jdbc.spi.SqlExceptionHelper - SQL Warning Code: 0, SQLState: 00000\n"
     ]
    },
    {
     "name": "stdout",
     "output_type": "stream",
     "text": [
      "13:19:54.016 WARN  o.h.e.jdbc.spi.SqlExceptionHelper - schema \"ex_hook\" does not exist, skipping\n"
     ]
    },
    {
     "name": "stdout",
     "output_type": "stream",
     "text": [
      "13:19:54.016 DEBUG org.hibernate.SQL - drop table if exists EX_IDCLASS.EMPLOYE cascade\n"
     ]
    },
    {
     "name": "stdout",
     "output_type": "stream",
     "text": [
      "13:19:54.016 WARN  o.h.e.jdbc.spi.SqlExceptionHelper - SQL Warning Code: 0, SQLState: 00000\n"
     ]
    },
    {
     "name": "stdout",
     "output_type": "stream",
     "text": [
      "13:19:54.016 WARN  o.h.e.jdbc.spi.SqlExceptionHelper - schema \"ex_idclass\" does not exist, skipping\n"
     ]
    },
    {
     "name": "stdout",
     "output_type": "stream",
     "text": [
      "13:19:54.016 DEBUG org.hibernate.SQL - drop table if exists EX_IDSEQ.CUSTOMER cascade\n"
     ]
    },
    {
     "name": "stdout",
     "output_type": "stream",
     "text": [
      "13:19:54.017 DEBUG org.hibernate.SQL - drop table if exists EX_IDTABLE.CUSTOMER cascade\n"
     ]
    },
    {
     "name": "stdout",
     "output_type": "stream",
     "text": [
      "13:19:54.018 DEBUG org.hibernate.SQL - drop table if exists EX_IDTABLE.ID_GENERATOR_TABLE cascade\n"
     ]
    },
    {
     "name": "stdout",
     "output_type": "stream",
     "text": [
      "13:19:54.019 DEBUG org.hibernate.SQL - alter table if exists EX_MANY_TO_MANY.CUSTOMER_ADDRESS drop constraint if exists FKcl977kx0vb0mvbvk84kl4lqcv\n"
     ]
    },
    {
     "name": "stdout",
     "output_type": "stream",
     "text": [
      "13:19:54.019 WARN  o.h.e.jdbc.spi.SqlExceptionHelper - SQL Warning Code: 0, SQLState: 00000\n"
     ]
    },
    {
     "name": "stdout",
     "output_type": "stream",
     "text": [
      "13:19:54.019 WARN  o.h.e.jdbc.spi.SqlExceptionHelper - relation \"customer_address\" does not exist, skipping\n"
     ]
    },
    {
     "name": "stdout",
     "output_type": "stream",
     "text": [
      "13:19:54.020 DEBUG org.hibernate.SQL - alter table if exists EX_MANY_TO_MANY.CUSTOMER_ADDRESS drop constraint if exists FKhqfehryv5ajn01d0bnvn7b55e\n"
     ]
    },
    {
     "name": "stdout",
     "output_type": "stream",
     "text": [
      "13:19:54.020 WARN  o.h.e.jdbc.spi.SqlExceptionHelper - SQL Warning Code: 0, SQLState: 00000\n"
     ]
    },
    {
     "name": "stdout",
     "output_type": "stream",
     "text": [
      "13:19:54.020 WARN  o.h.e.jdbc.spi.SqlExceptionHelper - relation \"customer_address\" does not exist, skipping\n"
     ]
    },
    {
     "name": "stdout",
     "output_type": "stream",
     "text": [
      "13:19:54.020 DEBUG org.hibernate.SQL - drop table if exists EX_MANY_TO_MANY.ADDRESS cascade\n"
     ]
    },
    {
     "name": "stdout",
     "output_type": "stream",
     "text": [
      "13:19:54.020 WARN  o.h.e.jdbc.spi.SqlExceptionHelper - SQL Warning Code: 0, SQLState: 00000\n"
     ]
    },
    {
     "name": "stdout",
     "output_type": "stream",
     "text": [
      "13:19:54.020 WARN  o.h.e.jdbc.spi.SqlExceptionHelper - schema \"ex_many_to_many\" does not exist, skipping\n"
     ]
    },
    {
     "name": "stdout",
     "output_type": "stream",
     "text": [
      "13:19:54.020 DEBUG org.hibernate.SQL - drop table if exists EX_MANY_TO_MANY.CUSTOMER cascade\n"
     ]
    },
    {
     "name": "stdout",
     "output_type": "stream",
     "text": [
      "13:19:54.020 WARN  o.h.e.jdbc.spi.SqlExceptionHelper - SQL Warning Code: 0, SQLState: 00000\n"
     ]
    },
    {
     "name": "stdout",
     "output_type": "stream",
     "text": [
      "13:19:54.020 WARN  o.h.e.jdbc.spi.SqlExceptionHelper - schema \"ex_many_to_many\" does not exist, skipping\n"
     ]
    },
    {
     "name": "stdout",
     "output_type": "stream",
     "text": [
      "13:19:54.020 DEBUG org.hibernate.SQL - drop table if exists EX_MANY_TO_MANY.CUSTOMER_ADDRESS cascade\n"
     ]
    },
    {
     "name": "stdout",
     "output_type": "stream",
     "text": [
      "13:19:54.020 WARN  o.h.e.jdbc.spi.SqlExceptionHelper - SQL Warning Code: 0, SQLState: 00000\n"
     ]
    },
    {
     "name": "stdout",
     "output_type": "stream",
     "text": [
      "13:19:54.020 WARN  o.h.e.jdbc.spi.SqlExceptionHelper - schema \"ex_many_to_many\" does not exist, skipping\n"
     ]
    },
    {
     "name": "stdout",
     "output_type": "stream",
     "text": [
      "13:19:54.020 DEBUG org.hibernate.SQL - alter table if exists EX_ONE_TO_MANY_A.LINE drop constraint if exists FKtiwu942eblywp71x5p8agmhm9\n"
     ]
    },
    {
     "name": "stdout",
     "output_type": "stream",
     "text": [
      "13:19:54.021 WARN  o.h.e.jdbc.spi.SqlExceptionHelper - SQL Warning Code: 0, SQLState: 00000\n"
     ]
    },
    {
     "name": "stdout",
     "output_type": "stream",
     "text": [
      "13:19:54.021 WARN  o.h.e.jdbc.spi.SqlExceptionHelper - relation \"line\" does not exist, skipping\n"
     ]
    },
    {
     "name": "stdout",
     "output_type": "stream",
     "text": [
      "13:19:54.021 DEBUG org.hibernate.SQL - drop table if exists EX_ONE_TO_MANY_A.EORDER cascade\n"
     ]
    },
    {
     "name": "stdout",
     "output_type": "stream",
     "text": [
      "13:19:54.021 WARN  o.h.e.jdbc.spi.SqlExceptionHelper - SQL Warning Code: 0, SQLState: 00000\n"
     ]
    },
    {
     "name": "stdout",
     "output_type": "stream",
     "text": [
      "13:19:54.021 WARN  o.h.e.jdbc.spi.SqlExceptionHelper - schema \"ex_one_to_many_a\" does not exist, skipping\n"
     ]
    },
    {
     "name": "stdout",
     "output_type": "stream",
     "text": [
      "13:19:54.021 DEBUG org.hibernate.SQL - drop table if exists EX_ONE_TO_MANY_A.LINE cascade\n"
     ]
    },
    {
     "name": "stdout",
     "output_type": "stream",
     "text": [
      "13:19:54.021 WARN  o.h.e.jdbc.spi.SqlExceptionHelper - SQL Warning Code: 0, SQLState: 00000\n"
     ]
    },
    {
     "name": "stdout",
     "output_type": "stream",
     "text": [
      "13:19:54.021 WARN  o.h.e.jdbc.spi.SqlExceptionHelper - schema \"ex_one_to_many_a\" does not exist, skipping\n"
     ]
    },
    {
     "name": "stdout",
     "output_type": "stream",
     "text": [
      "13:19:54.021 DEBUG org.hibernate.SQL - alter table if exists EX_ONE_TO_MANY_B.LINE drop constraint if exists FKk9141l2uxmt4wtydt7dxfcgm3\n"
     ]
    },
    {
     "name": "stdout",
     "output_type": "stream",
     "text": [
      "13:19:54.021 WARN  o.h.e.jdbc.spi.SqlExceptionHelper - SQL Warning Code: 0, SQLState: 00000\n"
     ]
    },
    {
     "name": "stdout",
     "output_type": "stream",
     "text": [
      "13:19:54.021 WARN  o.h.e.jdbc.spi.SqlExceptionHelper - relation \"line\" does not exist, skipping\n"
     ]
    },
    {
     "name": "stdout",
     "output_type": "stream",
     "text": [
      "13:19:54.021 DEBUG org.hibernate.SQL - drop table if exists EX_ONE_TO_MANY_B.EORDER cascade\n"
     ]
    },
    {
     "name": "stdout",
     "output_type": "stream",
     "text": [
      "13:19:54.022 WARN  o.h.e.jdbc.spi.SqlExceptionHelper - SQL Warning Code: 0, SQLState: 00000\n"
     ]
    },
    {
     "name": "stdout",
     "output_type": "stream",
     "text": [
      "13:19:54.022 WARN  o.h.e.jdbc.spi.SqlExceptionHelper - schema \"ex_one_to_many_b\" does not exist, skipping\n"
     ]
    },
    {
     "name": "stdout",
     "output_type": "stream",
     "text": [
      "13:19:54.022 DEBUG org.hibernate.SQL - drop table if exists EX_ONE_TO_MANY_B.LINE cascade\n"
     ]
    },
    {
     "name": "stdout",
     "output_type": "stream",
     "text": [
      "13:19:54.022 WARN  o.h.e.jdbc.spi.SqlExceptionHelper - SQL Warning Code: 0, SQLState: 00000\n"
     ]
    },
    {
     "name": "stdout",
     "output_type": "stream",
     "text": [
      "13:19:54.022 WARN  o.h.e.jdbc.spi.SqlExceptionHelper - schema \"ex_one_to_many_b\" does not exist, skipping\n"
     ]
    },
    {
     "name": "stdout",
     "output_type": "stream",
     "text": [
      "13:19:54.022 DEBUG org.hibernate.SQL - drop table if exists EX_SIMPLE.CUSTOMER cascade\n"
     ]
    },
    {
     "name": "stdout",
     "output_type": "stream",
     "text": [
      "13:19:54.023 DEBUG org.hibernate.SQL - drop table if exists EX_UUID.CUSTOMER cascade\n"
     ]
    },
    {
     "name": "stdout",
     "output_type": "stream",
     "text": [
      "13:19:54.024 DEBUG org.hibernate.SQL - drop table if exists CUSTOMER cascade\n"
     ]
    },
    {
     "name": "stdout",
     "output_type": "stream",
     "text": [
      "13:19:54.025 DEBUG org.hibernate.SQL - drop table if exists CUSTOMER_BASE cascade\n"
     ]
    },
    {
     "name": "stdout",
     "output_type": "stream",
     "text": [
      "13:19:54.026 DEBUG org.hibernate.SQL - drop table if exists CUSTOMER_BIS cascade\n"
     ]
    },
    {
     "name": "stdout",
     "output_type": "stream",
     "text": [
      "13:19:54.027 DEBUG org.hibernate.SQL - drop sequence if exists ADDRESS_SEQ\n"
     ]
    },
    {
     "name": "stdout",
     "output_type": "stream",
     "text": [
      "13:19:54.027 DEBUG org.hibernate.SQL - drop sequence if exists CUSTOMER_BASE_SEQ\n"
     ]
    },
    {
     "name": "stdout",
     "output_type": "stream",
     "text": [
      "13:19:54.027 DEBUG org.hibernate.SQL - drop sequence if exists CUSTOMER_BIS_SEQ\n"
     ]
    },
    {
     "name": "stdout",
     "output_type": "stream",
     "text": [
      "13:19:54.028 DEBUG org.hibernate.SQL - drop sequence if exists CUSTOMER_SEQ\n"
     ]
    },
    {
     "name": "stdout",
     "output_type": "stream",
     "text": [
      "13:19:54.029 DEBUG org.hibernate.SQL - drop sequence if exists CUSTOMER_SEQUENCE\n"
     ]
    },
    {
     "name": "stdout",
     "output_type": "stream",
     "text": [
      "13:19:54.029 DEBUG org.hibernate.SQL - drop sequence if exists EORDER_SEQ\n"
     ]
    },
    {
     "name": "stdout",
     "output_type": "stream",
     "text": [
      "13:19:54.030 DEBUG org.hibernate.SQL - drop sequence if exists LINE_SEQ\n"
     ]
    },
    {
     "name": "stdout",
     "output_type": "stream",
     "text": [
      "13:19:54.030 DEBUG org.hibernate.SQL - drop sequence if exists PERSON_SEQ\n"
     ]
    },
    {
     "name": "stdout",
     "output_type": "stream",
     "text": [
      "13:19:54.033 DEBUG org.hibernate.SQL - CREATE SCHEMA IF NOT EXISTS EX_SIMPLE\n"
     ]
    },
    {
     "name": "stdout",
     "output_type": "stream",
     "text": [
      "13:19:54.033 WARN  o.h.e.jdbc.spi.SqlExceptionHelper - SQL Warning Code: 0, SQLState: 42P06\n"
     ]
    },
    {
     "name": "stdout",
     "output_type": "stream",
     "text": [
      "13:19:54.033 WARN  o.h.e.jdbc.spi.SqlExceptionHelper - schema \"ex_simple\" already exists, skipping\n"
     ]
    },
    {
     "name": "stdout",
     "output_type": "stream",
     "text": [
      "13:19:54.034 DEBUG org.hibernate.SQL - CREATE SCHEMA IF NOT EXISTS EX_ENTITY\n"
     ]
    },
    {
     "name": "stdout",
     "output_type": "stream",
     "text": [
      "13:19:54.034 DEBUG org.hibernate.SQL - CREATE SCHEMA IF NOT EXISTS EX_MANY_TO_MANY\n"
     ]
    },
    {
     "name": "stdout",
     "output_type": "stream",
     "text": [
      "13:19:54.034 DEBUG org.hibernate.SQL - CREATE SCHEMA IF NOT EXISTS EX_ONE_TO_MANY_A\n"
     ]
    },
    {
     "name": "stdout",
     "output_type": "stream",
     "text": [
      "13:19:54.035 DEBUG org.hibernate.SQL - CREATE SCHEMA IF NOT EXISTS EX_ONE_TO_MANY_B\n"
     ]
    },
    {
     "name": "stdout",
     "output_type": "stream",
     "text": [
      "13:19:54.035 DEBUG org.hibernate.SQL - CREATE SCHEMA IF NOT EXISTS EX_BIOGRAPHY\n"
     ]
    },
    {
     "name": "stdout",
     "output_type": "stream",
     "text": [
      "13:19:54.035 DEBUG org.hibernate.SQL - CREATE SCHEMA IF NOT EXISTS EX_HOOK\n"
     ]
    },
    {
     "name": "stdout",
     "output_type": "stream",
     "text": [
      "13:19:54.036 DEBUG org.hibernate.SQL - CREATE SCHEMA IF NOT EXISTS EX_UUID\n"
     ]
    },
    {
     "name": "stdout",
     "output_type": "stream",
     "text": [
      "13:19:54.036 WARN  o.h.e.jdbc.spi.SqlExceptionHelper - SQL Warning Code: 0, SQLState: 42P06\n"
     ]
    },
    {
     "name": "stdout",
     "output_type": "stream",
     "text": [
      "13:19:54.036 WARN  o.h.e.jdbc.spi.SqlExceptionHelper - schema \"ex_uuid\" already exists, skipping\n"
     ]
    },
    {
     "name": "stdout",
     "output_type": "stream",
     "text": [
      "13:19:54.036 DEBUG org.hibernate.SQL - CREATE SCHEMA IF NOT EXISTS EX_HERITAGE1\n"
     ]
    },
    {
     "name": "stdout",
     "output_type": "stream",
     "text": [
      "13:19:54.036 DEBUG org.hibernate.SQL - CREATE SCHEMA IF NOT EXISTS EX_HERITAGE2\n"
     ]
    },
    {
     "name": "stdout",
     "output_type": "stream",
     "text": [
      "13:19:54.036 DEBUG org.hibernate.SQL - CREATE SCHEMA IF NOT EXISTS EX_HERITAGE3\n"
     ]
    },
    {
     "name": "stdout",
     "output_type": "stream",
     "text": [
      "13:19:54.037 DEBUG org.hibernate.SQL - CREATE SCHEMA IF NOT EXISTS EX_EMBEDDED_ID\n"
     ]
    },
    {
     "name": "stdout",
     "output_type": "stream",
     "text": [
      "13:19:54.037 DEBUG org.hibernate.SQL - CREATE SCHEMA IF NOT EXISTS EX_IDCLASS\n"
     ]
    },
    {
     "name": "stdout",
     "output_type": "stream",
     "text": [
      "13:19:54.037 DEBUG org.hibernate.SQL - CREATE SCHEMA IF NOT EXISTS EX_IDSEQ\n"
     ]
    },
    {
     "name": "stdout",
     "output_type": "stream",
     "text": [
      "13:19:54.037 WARN  o.h.e.jdbc.spi.SqlExceptionHelper - SQL Warning Code: 0, SQLState: 42P06\n"
     ]
    },
    {
     "name": "stdout",
     "output_type": "stream",
     "text": [
      "13:19:54.037 WARN  o.h.e.jdbc.spi.SqlExceptionHelper - schema \"ex_idseq\" already exists, skipping\n"
     ]
    },
    {
     "name": "stdout",
     "output_type": "stream",
     "text": [
      "13:19:54.037 DEBUG org.hibernate.SQL - CREATE SCHEMA IF NOT EXISTS EX_IDTABLE\n"
     ]
    },
    {
     "name": "stdout",
     "output_type": "stream",
     "text": [
      "13:19:54.037 WARN  o.h.e.jdbc.spi.SqlExceptionHelper - SQL Warning Code: 0, SQLState: 42P06\n"
     ]
    },
    {
     "name": "stdout",
     "output_type": "stream",
     "text": [
      "13:19:54.037 WARN  o.h.e.jdbc.spi.SqlExceptionHelper - schema \"ex_idtable\" already exists, skipping\n"
     ]
    },
    {
     "name": "stdout",
     "output_type": "stream",
     "text": [
      "13:19:54.039 DEBUG org.hibernate.SQL - create table ex_biography.CUSTOMER (id bigint not null, name varchar(50) not null, BIO_BRIEF varchar(255), BIO_EXTENDED oid, primary key (id))\n"
     ]
    },
    {
     "name": "stdout",
     "output_type": "stream",
     "text": [
      "13:19:54.042 DEBUG org.hibernate.SQL - create table EX_EMBEDDED_ID.EMPLOYE (rankInDepartment integer not null, department varchar(255) not null, name varchar(255), primary key (rankInDepartment, department))\n"
     ]
    },
    {
     "name": "stdout",
     "output_type": "stream",
     "text": [
      "13:19:54.045 DEBUG org.hibernate.SQL - create table EX_HERITAGE1.Person (salary float(53), status smallint check (status between 0 and 1), id bigint not null, DTYPE varchar(31) not null, name varchar(255), primary key (id))\n"
     ]
    },
    {
     "name": "stdout",
     "output_type": "stream",
     "text": [
      "13:19:54.047 DEBUG org.hibernate.SQL - create table EX_HERITAGE2.PERSON (id bigint not null, name varchar(255), primary key (id))\n"
     ]
    },
    {
     "name": "stdout",
     "output_type": "stream",
     "text": [
      "13:19:54.048 DEBUG org.hibernate.SQL - create table EX_HERITAGE2.STUDENT (status smallint not null check (status between 0 and 1), id bigint not null, primary key (id))\n"
     ]
    },
    {
     "name": "stdout",
     "output_type": "stream",
     "text": [
      "13:19:54.050 DEBUG org.hibernate.SQL - create table EX_HERITAGE2.TEACHER (salary float(53) not null, id bigint not null, primary key (id))\n"
     ]
    },
    {
     "name": "stdout",
     "output_type": "stream",
     "text": [
      "13:19:54.051 DEBUG org.hibernate.SQL - create table EX_HERITAGE3.PERSON (id bigint not null, name varchar(255), primary key (id))\n"
     ]
    },
    {
     "name": "stdout",
     "output_type": "stream",
     "text": [
      "13:19:54.052 DEBUG org.hibernate.SQL - create table EX_HERITAGE3.STUDENT (status smallint not null check (status between 0 and 1), id bigint not null, name varchar(255), primary key (id))\n"
     ]
    },
    {
     "name": "stdout",
     "output_type": "stream",
     "text": [
      "13:19:54.054 DEBUG org.hibernate.SQL - create table EX_HERITAGE3.TEACHER (salary float(53) not null, id bigint not null, name varchar(255), primary key (id))\n"
     ]
    },
    {
     "name": "stdout",
     "output_type": "stream",
     "text": [
      "13:19:54.055 DEBUG org.hibernate.SQL - create table EX_HOOK.CUSTOMER (id bigint not null, name varchar(255), primary key (id))\n"
     ]
    },
    {
     "name": "stdout",
     "output_type": "stream",
     "text": [
      "13:19:54.057 DEBUG org.hibernate.SQL - create table EX_IDCLASS.EMPLOYE (rankInDepartment integer not null, department varchar(255) not null, name varchar(255), primary key (rankInDepartment, department))\n"
     ]
    },
    {
     "name": "stdout",
     "output_type": "stream",
     "text": [
      "13:19:54.060 DEBUG org.hibernate.SQL - create table EX_IDSEQ.CUSTOMER (id bigint not null, name varchar(255), primary key (id))\n"
     ]
    },
    {
     "name": "stdout",
     "output_type": "stream",
     "text": [
      "13:19:54.061 DEBUG org.hibernate.SQL - create table EX_IDTABLE.CUSTOMER (id bigint not null, name varchar(255), primary key (id))\n"
     ]
    },
    {
     "name": "stdout",
     "output_type": "stream",
     "text": [
      "13:19:54.064 DEBUG org.hibernate.SQL - create table EX_IDTABLE.ID_GENERATOR_TABLE (next_val bigint, sequence_name varchar(255) not null, primary key (sequence_name))\n"
     ]
    },
    {
     "name": "stdout",
     "output_type": "stream",
     "text": [
      "13:19:54.065 DEBUG org.hibernate.SQL - insert into EX_IDTABLE.ID_GENERATOR_TABLE(sequence_name, next_val) values ('CUSTOMER',0)\n"
     ]
    },
    {
     "name": "stdout",
     "output_type": "stream",
     "text": [
      "13:19:54.066 DEBUG org.hibernate.SQL - create table EX_MANY_TO_MANY.ADDRESS (id bigint not null, addressDetail varchar(255), primary key (id))\n"
     ]
    },
    {
     "name": "stdout",
     "output_type": "stream",
     "text": [
      "13:19:54.067 DEBUG org.hibernate.SQL - create table EX_MANY_TO_MANY.CUSTOMER (id bigint not null, name varchar(255), primary key (id))\n"
     ]
    },
    {
     "name": "stdout",
     "output_type": "stream",
     "text": [
      "13:19:54.068 DEBUG org.hibernate.SQL - create table EX_MANY_TO_MANY.CUSTOMER_ADDRESS (occupants_id bigint not null, places_id bigint not null, primary key (occupants_id, places_id))\n"
     ]
    },
    {
     "name": "stdout",
     "output_type": "stream",
     "text": [
      "13:19:54.070 DEBUG org.hibernate.SQL - create table EX_ONE_TO_MANY_A.EORDER (date timestamp(6), id bigint not null, primary key (id))\n"
     ]
    },
    {
     "name": "stdout",
     "output_type": "stream",
     "text": [
      "13:19:54.071 DEBUG org.hibernate.SQL - create table EX_ONE_TO_MANY_A.LINE (price float(53) not null, id bigint not null, order_id bigint not null, product varchar(255), primary key (id))\n"
     ]
    },
    {
     "name": "stdout",
     "output_type": "stream",
     "text": [
      "13:19:54.072 DEBUG org.hibernate.SQL - create table EX_ONE_TO_MANY_B.EORDER (date timestamp(6) not null, id bigint not null, primary key (id))\n"
     ]
    },
    {
     "name": "stdout",
     "output_type": "stream",
     "text": [
      "13:19:54.074 DEBUG org.hibernate.SQL - create table EX_ONE_TO_MANY_B.LINE (price float(53), OrderOneToManyB_id bigint not null, product varchar(255))\n"
     ]
    },
    {
     "name": "stdout",
     "output_type": "stream",
     "text": [
      "13:19:54.074 DEBUG org.hibernate.SQL - create table EX_SIMPLE.CUSTOMER (id bigint not null, email varchar(255), name varchar(255), primary key (id))\n"
     ]
    },
    {
     "name": "stdout",
     "output_type": "stream",
     "text": [
      "13:19:54.077 DEBUG org.hibernate.SQL - create table EX_UUID.CUSTOMER (uuid uuid not null, name varchar(50) not null, primary key (uuid))\n"
     ]
    },
    {
     "name": "stdout",
     "output_type": "stream",
     "text": [
      "13:19:54.083 DEBUG org.hibernate.SQL - create sequence ADDRESS_SEQ start with 1 increment by 50\n"
     ]
    },
    {
     "name": "stdout",
     "output_type": "stream",
     "text": [
      "13:19:54.088 DEBUG org.hibernate.SQL - create sequence CUSTOMER_BASE_SEQ start with 1 increment by 50\n"
     ]
    },
    {
     "name": "stdout",
     "output_type": "stream",
     "text": [
      "13:19:54.090 DEBUG org.hibernate.SQL - create sequence CUSTOMER_BIS_SEQ start with 1 increment by 50\n"
     ]
    },
    {
     "name": "stdout",
     "output_type": "stream",
     "text": [
      "13:19:54.092 DEBUG org.hibernate.SQL - create sequence CUSTOMER_SEQ start with 1 increment by 50\n"
     ]
    },
    {
     "name": "stdout",
     "output_type": "stream",
     "text": [
      "13:19:54.095 DEBUG org.hibernate.SQL - create sequence CUSTOMER_SEQUENCE start with 1 increment by 10\n"
     ]
    },
    {
     "name": "stdout",
     "output_type": "stream",
     "text": [
      "13:19:54.096 DEBUG org.hibernate.SQL - create sequence EORDER_SEQ start with 1 increment by 50\n"
     ]
    },
    {
     "name": "stdout",
     "output_type": "stream",
     "text": [
      "13:19:54.097 DEBUG org.hibernate.SQL - create sequence LINE_SEQ start with 1 increment by 50\n"
     ]
    },
    {
     "name": "stdout",
     "output_type": "stream",
     "text": [
      "13:19:54.098 DEBUG org.hibernate.SQL - create sequence PERSON_SEQ start with 1 increment by 50\n"
     ]
    },
    {
     "name": "stdout",
     "output_type": "stream",
     "text": [
      "13:19:54.110 DEBUG org.hibernate.SQL - create table CUSTOMER (birthDate date, status smallint check (status between 0 and 1), version integer, ID bigint not null, creationDate timestamp(6), email varchar(50) not null unique, firstname varchar(50) not null, lastname varchar(50) not null, photo oid, primary key (ID))\n"
     ]
    },
    {
     "name": "stdout",
     "output_type": "stream",
     "text": [
      "13:19:54.125 DEBUG org.hibernate.SQL - create table CUSTOMER_BASE (id bigint not null, name varchar(50) not null, primary key (id))\n"
     ]
    },
    {
     "name": "stdout",
     "output_type": "stream",
     "text": [
      "13:19:54.136 DEBUG org.hibernate.SQL - create table CUSTOMER_BIS (id bigint not null, name varchar(255), primary key (id))\n"
     ]
    },
    {
     "name": "stdout",
     "output_type": "stream",
     "text": [
      "13:19:54.147 DEBUG org.hibernate.SQL - alter table if exists EX_HERITAGE2.STUDENT add constraint FKbhp183l5ur0m48nhfqjtodwt7 foreign key (id) references EX_HERITAGE2.PERSON\n"
     ]
    },
    {
     "name": "stdout",
     "output_type": "stream",
     "text": [
      "13:19:54.151 DEBUG org.hibernate.SQL - alter table if exists EX_HERITAGE2.TEACHER add constraint FKeiv4tioua2f6b81bwlpje2d8t foreign key (id) references EX_HERITAGE2.PERSON\n"
     ]
    },
    {
     "name": "stdout",
     "output_type": "stream",
     "text": [
      "13:19:54.159 DEBUG org.hibernate.SQL - alter table if exists EX_MANY_TO_MANY.CUSTOMER_ADDRESS add constraint FKcl977kx0vb0mvbvk84kl4lqcv foreign key (places_id) references EX_MANY_TO_MANY.ADDRESS\n"
     ]
    },
    {
     "name": "stdout",
     "output_type": "stream",
     "text": [
      "13:19:54.167 DEBUG org.hibernate.SQL - alter table if exists EX_MANY_TO_MANY.CUSTOMER_ADDRESS add constraint FKhqfehryv5ajn01d0bnvn7b55e foreign key (occupants_id) references EX_MANY_TO_MANY.CUSTOMER\n"
     ]
    },
    {
     "name": "stdout",
     "output_type": "stream",
     "text": [
      "13:19:54.175 DEBUG org.hibernate.SQL - alter table if exists EX_ONE_TO_MANY_A.LINE add constraint FKtiwu942eblywp71x5p8agmhm9 foreign key (order_id) references EX_ONE_TO_MANY_A.EORDER\n"
     ]
    },
    {
     "name": "stdout",
     "output_type": "stream",
     "text": [
      "13:19:54.192 DEBUG org.hibernate.SQL - alter table if exists EX_ONE_TO_MANY_B.LINE add constraint FKk9141l2uxmt4wtydt7dxfcgm3 foreign key (OrderOneToManyB_id) references EX_ONE_TO_MANY_B.EORDER\n"
     ]
    },
    {
     "name": "stdout",
     "output_type": "stream",
     "text": [
      "13:19:54.274 DEBUG org.hibernate.SQL - select tbl.next_val from EX_IDTABLE.ID_GENERATOR_TABLE tbl where tbl.sequence_name=? for update of tbl\n"
     ]
    },
    {
     "name": "stdout",
     "output_type": "stream",
     "text": [
      "13:19:54.277 DEBUG org.hibernate.SQL - update EX_IDTABLE.ID_GENERATOR_TABLE set next_val=?  where next_val=? and sequence_name=?\n"
     ]
    },
    {
     "name": "stdout",
     "output_type": "stream",
     "text": [
      "13:19:54.286 DEBUG org.hibernate.SQL - select tbl.next_val from EX_IDTABLE.ID_GENERATOR_TABLE tbl where tbl.sequence_name=? for update of tbl\n"
     ]
    },
    {
     "name": "stdout",
     "output_type": "stream",
     "text": [
      "13:19:54.287 DEBUG org.hibernate.SQL - update EX_IDTABLE.ID_GENERATOR_TABLE set next_val=?  where next_val=? and sequence_name=?\n"
     ]
    },
    {
     "name": "stdout",
     "output_type": "stream",
     "text": [
      "13:19:54.294 DEBUG org.hibernate.SQL - insert into EX_IDTABLE.CUSTOMER (name,id) values (?,?)\n"
     ]
    },
    {
     "name": "stdout",
     "output_type": "stream",
     "text": [
      "13:19:54.296 DEBUG org.hibernate.SQL - insert into EX_IDTABLE.CUSTOMER (name,id) values (?,?)\n"
     ]
    },
    {
     "name": "stdout",
     "output_type": "stream",
     "text": [
      "13:19:54.315 DEBUG org.hibernate.SQL - select c1_0.id,c1_0.name from EX_IDTABLE.CUSTOMER c1_0 where c1_0.id=?\n"
     ]
    },
    {
     "name": "stdout",
     "output_type": "stream",
     "text": [
      "13:19:54.319 DEBUG org.hibernate.SQL - select c1_0.id,c1_0.name from EX_IDTABLE.CUSTOMER c1_0 where c1_0.id=?\n"
     ]
    },
    {
     "name": "stdout",
     "output_type": "stream",
     "text": [
      "13:19:54.332 DEBUG org.hibernate.SQL - select nextval('CUSTOMER_SEQ')\n"
     ]
    },
    {
     "name": "stdout",
     "output_type": "stream",
     "text": [
      "13:19:54.335 DEBUG org.hibernate.SQL - insert into ex_biography.CUSTOMER (BIO_BRIEF,BIO_EXTENDED,name,id) values (?,?,?,?)\n"
     ]
    },
    {
     "name": "stdout",
     "output_type": "stream",
     "text": [
      "13:19:54.350 DEBUG org.hibernate.SQL - select c1_0.id,c1_0.BIO_BRIEF,c1_0.BIO_EXTENDED,c1_0.name from ex_biography.CUSTOMER c1_0 where c1_0.id=?\n"
     ]
    },
    {
     "name": "stdout",
     "output_type": "stream",
     "text": [
      "13:19:54.363 DEBUG org.hibernate.SQL - insert into EX_IDCLASS.EMPLOYE (name,department,rankInDepartment) values (?,?,?)\n"
     ]
    },
    {
     "name": "stdout",
     "output_type": "stream",
     "text": [
      "13:19:54.365 DEBUG org.hibernate.SQL - insert into EX_IDCLASS.EMPLOYE (name,department,rankInDepartment) values (?,?,?)\n"
     ]
    },
    {
     "name": "stdout",
     "output_type": "stream",
     "text": [
      "13:19:54.367 DEBUG org.hibernate.SQL - select e1_0.department,e1_0.rankInDepartment,e1_0.name from EX_IDCLASS.EMPLOYE e1_0 where (e1_0.department,e1_0.rankInDepartment) in ((?,?))\n"
     ]
    },
    {
     "name": "stdout",
     "output_type": "stream",
     "text": [
      "13:19:54.528 DEBUG org.hibernate.SQL - insert into EX_UUID.CUSTOMER (name,uuid) values (?,?)\n"
     ]
    },
    {
     "name": "stdout",
     "output_type": "stream",
     "text": [
      "13:19:54.529 DEBUG org.hibernate.SQL - insert into EX_UUID.CUSTOMER (name,uuid) values (?,?)\n"
     ]
    },
    {
     "name": "stdout",
     "output_type": "stream",
     "text": [
      "13:19:54.529 DEBUG org.hibernate.SQL - insert into EX_UUID.CUSTOMER (name,uuid) values (?,?)\n"
     ]
    },
    {
     "name": "stdout",
     "output_type": "stream",
     "text": [
      "13:19:54.530 DEBUG org.hibernate.SQL - insert into EX_UUID.CUSTOMER (name,uuid) values (?,?)\n"
     ]
    },
    {
     "name": "stdout",
     "output_type": "stream",
     "text": [
      "13:19:54.530 DEBUG org.hibernate.SQL - insert into EX_UUID.CUSTOMER (name,uuid) values (?,?)\n"
     ]
    },
    {
     "name": "stdout",
     "output_type": "stream",
     "text": [
      "13:19:54.728 DEBUG org.hibernate.SQL - select c1_0.uuid,c1_0.name from EX_UUID.CUSTOMER c1_0 fetch first ? rows only\n"
     ]
    },
    {
     "name": "stdout",
     "output_type": "stream",
     "text": [
      "13:19:54.729 INFO  f.u.bruno.demos.jpa.hello.UUIDTest - Customer(uuid=445b7da1-7730-4b33-af70-f5535ce16c23, name=Nicola Barton V)\n"
     ]
    },
    {
     "name": "stdout",
     "output_type": "stream",
     "text": [
      "13:19:54.729 INFO  f.u.bruno.demos.jpa.hello.UUIDTest - Customer(uuid=759a1516-2009-48e8-ab1a-ac4e86d3a91f, name=Ms. Elvin Hirthe)\n"
     ]
    },
    {
     "name": "stdout",
     "output_type": "stream",
     "text": [
      "13:19:54.729 INFO  f.u.bruno.demos.jpa.hello.UUIDTest - Customer(uuid=69ae24d7-9c28-46ee-9d6c-2728d9be638d, name=Mrs. Kristopher Schimmel)\n"
     ]
    },
    {
     "name": "stdout",
     "output_type": "stream",
     "text": [
      "13:19:54.729 INFO  f.u.bruno.demos.jpa.hello.UUIDTest - Customer(uuid=c8c9d00b-18cd-4713-bab6-4dcfbfdc6c06, name=Fredrick Hintz)\n"
     ]
    },
    {
     "name": "stdout",
     "output_type": "stream",
     "text": [
      "13:19:54.729 INFO  f.u.bruno.demos.jpa.hello.UUIDTest - Customer(uuid=aecd581c-55f1-430d-9650-230ccff5891a, name=Mrs. Soraya Moen)\n"
     ]
    },
    {
     "name": "stdout",
     "output_type": "stream",
     "text": [
      "13:19:54.734 DEBUG org.hibernate.SQL - select nextval('PERSON_SEQ')\n"
     ]
    },
    {
     "name": "stdout",
     "output_type": "stream",
     "text": [
      "13:19:54.735 DEBUG org.hibernate.SQL - select nextval('PERSON_SEQ')\n"
     ]
    },
    {
     "name": "stdout",
     "output_type": "stream",
     "text": [
      "13:19:54.736 DEBUG org.hibernate.SQL - insert into EX_HERITAGE1.Person (name,status,DTYPE,id) values (?,?,'Student',?)\n"
     ]
    },
    {
     "name": "stdout",
     "output_type": "stream",
     "text": [
      "13:19:54.737 DEBUG org.hibernate.SQL - insert into EX_HERITAGE1.Person (name,salary,DTYPE,id) values (?,?,'Teacher',?)\n"
     ]
    },
    {
     "name": "stdout",
     "output_type": "stream",
     "text": [
      "13:19:54.738 DEBUG org.hibernate.SQL - select s1_0.id,s1_0.name,s1_0.status from EX_HERITAGE1.Person s1_0 where s1_0.DTYPE='Student' and s1_0.id=?\n"
     ]
    },
    {
     "name": "stdout",
     "output_type": "stream",
     "text": [
      "13:19:54.738 DEBUG org.hibernate.SQL - select t1_0.id,t1_0.name,t1_0.salary from EX_HERITAGE1.Person t1_0 where t1_0.DTYPE='Teacher' and t1_0.id=?\n"
     ]
    },
    {
     "name": "stdout",
     "output_type": "stream",
     "text": [
      "13:19:54.742 DEBUG org.hibernate.SQL - select nextval('EORDER_SEQ')\n"
     ]
    },
    {
     "name": "stdout",
     "output_type": "stream",
     "text": [
      "13:19:54.748 DEBUG org.hibernate.SQL - select nextval('EORDER_SEQ')\n"
     ]
    },
    {
     "name": "stdout",
     "output_type": "stream",
     "text": [
      "13:19:54.751 DEBUG org.hibernate.SQL - insert into EX_ONE_TO_MANY_B.EORDER (date,id) values (?,?)\n"
     ]
    },
    {
     "name": "stdout",
     "output_type": "stream",
     "text": [
      "13:19:54.753 DEBUG org.hibernate.SQL - insert into EX_ONE_TO_MANY_B.EORDER (date,id) values (?,?)\n"
     ]
    },
    {
     "name": "stdout",
     "output_type": "stream",
     "text": [
      "13:19:54.755 DEBUG org.hibernate.SQL - insert into EX_ONE_TO_MANY_B.LINE (OrderOneToManyB_id,price,product) values (?,?,?)\n"
     ]
    },
    {
     "name": "stdout",
     "output_type": "stream",
     "text": [
      "13:19:54.756 DEBUG org.hibernate.SQL - insert into EX_ONE_TO_MANY_B.LINE (OrderOneToManyB_id,price,product) values (?,?,?)\n"
     ]
    },
    {
     "name": "stdout",
     "output_type": "stream",
     "text": [
      "13:19:54.757 DEBUG org.hibernate.SQL - insert into EX_ONE_TO_MANY_B.LINE (OrderOneToManyB_id,price,product) values (?,?,?)\n"
     ]
    },
    {
     "name": "stdout",
     "output_type": "stream",
     "text": [
      "13:19:54.757 DEBUG org.hibernate.SQL - insert into EX_ONE_TO_MANY_B.LINE (OrderOneToManyB_id,price,product) values (?,?,?)\n"
     ]
    },
    {
     "name": "stdout",
     "output_type": "stream",
     "text": [
      "13:19:54.759 DEBUG org.hibernate.SQL - select o1_0.id,o1_0.date from EX_ONE_TO_MANY_B.EORDER o1_0 where o1_0.id=?\n"
     ]
    },
    {
     "name": "stdout",
     "output_type": "stream",
     "text": [
      "13:19:54.764 DEBUG org.hibernate.SQL - select nextval('CUSTOMER_SEQUENCE')\n"
     ]
    },
    {
     "name": "stdout",
     "output_type": "stream",
     "text": [
      "13:19:54.765 DEBUG org.hibernate.SQL - select nextval('CUSTOMER_SEQUENCE')\n"
     ]
    },
    {
     "name": "stdout",
     "output_type": "stream",
     "text": [
      "13:19:54.765 DEBUG org.hibernate.SQL - insert into EX_IDSEQ.CUSTOMER (name,id) values (?,?)\n"
     ]
    },
    {
     "name": "stdout",
     "output_type": "stream",
     "text": [
      "13:19:54.766 DEBUG org.hibernate.SQL - insert into EX_IDSEQ.CUSTOMER (name,id) values (?,?)\n"
     ]
    },
    {
     "name": "stdout",
     "output_type": "stream",
     "text": [
      "13:19:54.766 DEBUG org.hibernate.SQL - select c1_0.id,c1_0.name from EX_IDSEQ.CUSTOMER c1_0 where c1_0.id=?\n"
     ]
    },
    {
     "name": "stdout",
     "output_type": "stream",
     "text": [
      "13:19:54.767 DEBUG org.hibernate.SQL - select c1_0.id,c1_0.name from EX_IDSEQ.CUSTOMER c1_0 where c1_0.id=?\n"
     ]
    },
    {
     "name": "stdout",
     "output_type": "stream",
     "text": [
      "13:19:54.771 DEBUG org.hibernate.SQL - insert into EX_EMBEDDED_ID.EMPLOYE (name,department,rankInDepartment) values (?,?,?)\n"
     ]
    },
    {
     "name": "stdout",
     "output_type": "stream",
     "text": [
      "13:19:54.774 DEBUG org.hibernate.SQL - insert into EX_EMBEDDED_ID.EMPLOYE (name,department,rankInDepartment) values (?,?,?)\n"
     ]
    },
    {
     "name": "stdout",
     "output_type": "stream",
     "text": [
      "13:19:54.774 DEBUG org.hibernate.SQL - select e1_0.department,e1_0.rankInDepartment,e1_0.name from EX_EMBEDDED_ID.EMPLOYE e1_0 where (e1_0.department,e1_0.rankInDepartment) in ((?,?))\n"
     ]
    },
    {
     "name": "stdout",
     "output_type": "stream",
     "text": [
      "13:19:54.797 DEBUG org.hibernate.SQL - select nextval('ADDRESS_SEQ')\n"
     ]
    },
    {
     "name": "stdout",
     "output_type": "stream",
     "text": [
      "13:19:54.799 DEBUG org.hibernate.SQL - select nextval('ADDRESS_SEQ')\n"
     ]
    },
    {
     "name": "stdout",
     "output_type": "stream",
     "text": [
      "13:19:54.806 DEBUG org.hibernate.SQL - insert into EX_MANY_TO_MANY.ADDRESS (addressDetail,id) values (?,?)\n"
     ]
    },
    {
     "name": "stdout",
     "output_type": "stream",
     "text": [
      "13:19:54.807 DEBUG org.hibernate.SQL - insert into EX_MANY_TO_MANY.ADDRESS (addressDetail,id) values (?,?)\n"
     ]
    },
    {
     "name": "stdout",
     "output_type": "stream",
     "text": [
      "13:19:54.807 DEBUG org.hibernate.SQL - insert into EX_MANY_TO_MANY.ADDRESS (addressDetail,id) values (?,?)\n"
     ]
    },
    {
     "name": "stdout",
     "output_type": "stream",
     "text": [
      "13:19:54.808 DEBUG org.hibernate.SQL - select a1_0.id,a1_0.addressDetail from EX_MANY_TO_MANY.ADDRESS a1_0 order by random() fetch first ? rows only\n"
     ]
    },
    {
     "name": "stdout",
     "output_type": "stream",
     "text": [
      "13:19:54.810 DEBUG org.hibernate.SQL - select nextval('CUSTOMER_SEQ')\n"
     ]
    },
    {
     "name": "stdout",
     "output_type": "stream",
     "text": [
      "13:19:54.813 DEBUG org.hibernate.SQL - select a1_0.id,a1_0.addressDetail from EX_MANY_TO_MANY.ADDRESS a1_0 order by random() fetch first ? rows only\n"
     ]
    },
    {
     "name": "stdout",
     "output_type": "stream",
     "text": [
      "13:19:54.814 DEBUG org.hibernate.SQL - select a1_0.id,a1_0.addressDetail from EX_MANY_TO_MANY.ADDRESS a1_0 order by random() fetch first ? rows only\n"
     ]
    },
    {
     "name": "stdout",
     "output_type": "stream",
     "text": [
      "13:19:54.816 DEBUG org.hibernate.SQL - select a1_0.id,a1_0.addressDetail from EX_MANY_TO_MANY.ADDRESS a1_0 order by random() fetch first ? rows only\n"
     ]
    },
    {
     "name": "stdout",
     "output_type": "stream",
     "text": [
      "13:19:54.818 DEBUG org.hibernate.SQL - select a1_0.id,a1_0.addressDetail from EX_MANY_TO_MANY.ADDRESS a1_0 order by random() fetch first ? rows only\n"
     ]
    },
    {
     "name": "stdout",
     "output_type": "stream",
     "text": [
      "13:19:54.821 DEBUG org.hibernate.SQL - select a1_0.id,a1_0.addressDetail from EX_MANY_TO_MANY.ADDRESS a1_0 order by random() fetch first ? rows only\n"
     ]
    },
    {
     "name": "stdout",
     "output_type": "stream",
     "text": [
      "13:19:54.823 DEBUG org.hibernate.SQL - select a1_0.id,a1_0.addressDetail from EX_MANY_TO_MANY.ADDRESS a1_0 order by random() fetch first ? rows only\n"
     ]
    },
    {
     "name": "stdout",
     "output_type": "stream",
     "text": [
      "13:19:54.826 DEBUG org.hibernate.SQL - select a1_0.id,a1_0.addressDetail from EX_MANY_TO_MANY.ADDRESS a1_0 order by random() fetch first ? rows only\n"
     ]
    },
    {
     "name": "stdout",
     "output_type": "stream",
     "text": [
      "13:19:54.829 DEBUG org.hibernate.SQL - select a1_0.id,a1_0.addressDetail from EX_MANY_TO_MANY.ADDRESS a1_0 order by random() fetch first ? rows only\n"
     ]
    },
    {
     "name": "stdout",
     "output_type": "stream",
     "text": [
      "13:19:54.830 DEBUG org.hibernate.SQL - select a1_0.id,a1_0.addressDetail from EX_MANY_TO_MANY.ADDRESS a1_0 order by random() fetch first ? rows only\n"
     ]
    },
    {
     "name": "stdout",
     "output_type": "stream",
     "text": [
      "13:19:54.831 DEBUG org.hibernate.SQL - insert into EX_MANY_TO_MANY.CUSTOMER (name,id) values (?,?)\n"
     ]
    },
    {
     "name": "stdout",
     "output_type": "stream",
     "text": [
      "13:19:54.831 DEBUG org.hibernate.SQL - insert into EX_MANY_TO_MANY.CUSTOMER (name,id) values (?,?)\n"
     ]
    },
    {
     "name": "stdout",
     "output_type": "stream",
     "text": [
      "13:19:54.832 DEBUG org.hibernate.SQL - insert into EX_MANY_TO_MANY.CUSTOMER (name,id) values (?,?)\n"
     ]
    },
    {
     "name": "stdout",
     "output_type": "stream",
     "text": [
      "13:19:54.832 DEBUG org.hibernate.SQL - insert into EX_MANY_TO_MANY.CUSTOMER (name,id) values (?,?)\n"
     ]
    },
    {
     "name": "stdout",
     "output_type": "stream",
     "text": [
      "13:19:54.832 DEBUG org.hibernate.SQL - insert into EX_MANY_TO_MANY.CUSTOMER (name,id) values (?,?)\n"
     ]
    },
    {
     "name": "stdout",
     "output_type": "stream",
     "text": [
      "13:19:54.833 DEBUG org.hibernate.SQL - insert into EX_MANY_TO_MANY.CUSTOMER (name,id) values (?,?)\n"
     ]
    },
    {
     "name": "stdout",
     "output_type": "stream",
     "text": [
      "13:19:54.834 DEBUG org.hibernate.SQL - insert into EX_MANY_TO_MANY.CUSTOMER (name,id) values (?,?)\n"
     ]
    },
    {
     "name": "stdout",
     "output_type": "stream",
     "text": [
      "13:19:54.835 DEBUG org.hibernate.SQL - insert into EX_MANY_TO_MANY.CUSTOMER (name,id) values (?,?)\n"
     ]
    },
    {
     "name": "stdout",
     "output_type": "stream",
     "text": [
      "13:19:54.835 DEBUG org.hibernate.SQL - insert into EX_MANY_TO_MANY.CUSTOMER (name,id) values (?,?)\n"
     ]
    },
    {
     "name": "stdout",
     "output_type": "stream",
     "text": [
      "13:19:54.836 DEBUG org.hibernate.SQL - insert into EX_MANY_TO_MANY.CUSTOMER (name,id) values (?,?)\n"
     ]
    },
    {
     "name": "stdout",
     "output_type": "stream",
     "text": [
      "13:19:54.840 DEBUG org.hibernate.SQL - insert into EX_MANY_TO_MANY.CUSTOMER_ADDRESS (occupants_id,places_id) values (?,?)\n"
     ]
    },
    {
     "name": "stdout",
     "output_type": "stream",
     "text": [
      "13:19:54.841 DEBUG org.hibernate.SQL - insert into EX_MANY_TO_MANY.CUSTOMER_ADDRESS (occupants_id,places_id) values (?,?)\n"
     ]
    },
    {
     "name": "stdout",
     "output_type": "stream",
     "text": [
      "13:19:54.842 DEBUG org.hibernate.SQL - insert into EX_MANY_TO_MANY.CUSTOMER_ADDRESS (occupants_id,places_id) values (?,?)\n"
     ]
    },
    {
     "name": "stdout",
     "output_type": "stream",
     "text": [
      "13:19:54.842 DEBUG org.hibernate.SQL - insert into EX_MANY_TO_MANY.CUSTOMER_ADDRESS (occupants_id,places_id) values (?,?)\n"
     ]
    },
    {
     "name": "stdout",
     "output_type": "stream",
     "text": [
      "13:19:54.843 DEBUG org.hibernate.SQL - insert into EX_MANY_TO_MANY.CUSTOMER_ADDRESS (occupants_id,places_id) values (?,?)\n"
     ]
    },
    {
     "name": "stdout",
     "output_type": "stream",
     "text": [
      "13:19:54.843 DEBUG org.hibernate.SQL - insert into EX_MANY_TO_MANY.CUSTOMER_ADDRESS (occupants_id,places_id) values (?,?)\n"
     ]
    },
    {
     "name": "stdout",
     "output_type": "stream",
     "text": [
      "13:19:54.844 DEBUG org.hibernate.SQL - insert into EX_MANY_TO_MANY.CUSTOMER_ADDRESS (occupants_id,places_id) values (?,?)\n"
     ]
    },
    {
     "name": "stdout",
     "output_type": "stream",
     "text": [
      "13:19:54.844 DEBUG org.hibernate.SQL - insert into EX_MANY_TO_MANY.CUSTOMER_ADDRESS (occupants_id,places_id) values (?,?)\n"
     ]
    },
    {
     "name": "stdout",
     "output_type": "stream",
     "text": [
      "13:19:54.844 DEBUG org.hibernate.SQL - insert into EX_MANY_TO_MANY.CUSTOMER_ADDRESS (occupants_id,places_id) values (?,?)\n"
     ]
    },
    {
     "name": "stdout",
     "output_type": "stream",
     "text": [
      "13:19:54.845 DEBUG org.hibernate.SQL - insert into EX_MANY_TO_MANY.CUSTOMER_ADDRESS (occupants_id,places_id) values (?,?)\n"
     ]
    },
    {
     "name": "stdout",
     "output_type": "stream",
     "text": [
      "13:19:54.845 DEBUG org.hibernate.SQL - insert into EX_MANY_TO_MANY.CUSTOMER_ADDRESS (occupants_id,places_id) values (?,?)\n"
     ]
    },
    {
     "name": "stdout",
     "output_type": "stream",
     "text": [
      "13:19:54.846 DEBUG org.hibernate.SQL - insert into EX_MANY_TO_MANY.CUSTOMER_ADDRESS (occupants_id,places_id) values (?,?)\n"
     ]
    },
    {
     "name": "stdout",
     "output_type": "stream",
     "text": [
      "13:19:54.846 DEBUG org.hibernate.SQL - insert into EX_MANY_TO_MANY.CUSTOMER_ADDRESS (occupants_id,places_id) values (?,?)\n"
     ]
    },
    {
     "name": "stdout",
     "output_type": "stream",
     "text": [
      "13:19:54.847 DEBUG org.hibernate.SQL - insert into EX_MANY_TO_MANY.CUSTOMER_ADDRESS (occupants_id,places_id) values (?,?)\n"
     ]
    },
    {
     "name": "stdout",
     "output_type": "stream",
     "text": [
      "13:19:54.847 DEBUG org.hibernate.SQL - insert into EX_MANY_TO_MANY.CUSTOMER_ADDRESS (occupants_id,places_id) values (?,?)\n"
     ]
    },
    {
     "name": "stdout",
     "output_type": "stream",
     "text": [
      "13:19:54.848 DEBUG org.hibernate.SQL - insert into EX_MANY_TO_MANY.CUSTOMER_ADDRESS (occupants_id,places_id) values (?,?)\n"
     ]
    },
    {
     "name": "stdout",
     "output_type": "stream",
     "text": [
      "13:19:54.848 DEBUG org.hibernate.SQL - insert into EX_MANY_TO_MANY.CUSTOMER_ADDRESS (occupants_id,places_id) values (?,?)\n"
     ]
    },
    {
     "name": "stdout",
     "output_type": "stream",
     "text": [
      "13:19:54.848 DEBUG org.hibernate.SQL - insert into EX_MANY_TO_MANY.CUSTOMER_ADDRESS (occupants_id,places_id) values (?,?)\n"
     ]
    },
    {
     "name": "stdout",
     "output_type": "stream",
     "text": [
      "13:19:54.849 DEBUG org.hibernate.SQL - insert into EX_MANY_TO_MANY.CUSTOMER_ADDRESS (occupants_id,places_id) values (?,?)\n"
     ]
    },
    {
     "name": "stdout",
     "output_type": "stream",
     "text": [
      "13:19:54.849 DEBUG org.hibernate.SQL - insert into EX_MANY_TO_MANY.CUSTOMER_ADDRESS (occupants_id,places_id) values (?,?)\n"
     ]
    },
    {
     "name": "stdout",
     "output_type": "stream",
     "text": [
      "13:19:54.849 DEBUG org.hibernate.SQL - insert into EX_MANY_TO_MANY.CUSTOMER_ADDRESS (occupants_id,places_id) values (?,?)\n"
     ]
    },
    {
     "name": "stdout",
     "output_type": "stream",
     "text": [
      "13:19:54.850 DEBUG org.hibernate.SQL - insert into EX_MANY_TO_MANY.CUSTOMER_ADDRESS (occupants_id,places_id) values (?,?)\n"
     ]
    },
    {
     "name": "stdout",
     "output_type": "stream",
     "text": [
      "13:19:54.850 DEBUG org.hibernate.SQL - insert into EX_MANY_TO_MANY.CUSTOMER_ADDRESS (occupants_id,places_id) values (?,?)\n"
     ]
    },
    {
     "name": "stdout",
     "output_type": "stream",
     "text": [
      "13:19:54.851 DEBUG org.hibernate.SQL - insert into EX_MANY_TO_MANY.CUSTOMER_ADDRESS (occupants_id,places_id) values (?,?)\n"
     ]
    },
    {
     "name": "stdout",
     "output_type": "stream",
     "text": [
      "13:19:54.856 DEBUG org.hibernate.SQL - select nextval('PERSON_SEQ')\n"
     ]
    },
    {
     "name": "stdout",
     "output_type": "stream",
     "text": [
      "13:19:54.859 DEBUG org.hibernate.SQL - insert into EX_HERITAGE2.PERSON (name,id) values (?,?)\n"
     ]
    },
    {
     "name": "stdout",
     "output_type": "stream",
     "text": [
      "13:19:54.860 DEBUG org.hibernate.SQL - insert into EX_HERITAGE2.STUDENT (status,id) values (?,?)\n"
     ]
    },
    {
     "name": "stdout",
     "output_type": "stream",
     "text": [
      "13:19:54.861 DEBUG org.hibernate.SQL - insert into EX_HERITAGE2.PERSON (name,id) values (?,?)\n"
     ]
    },
    {
     "name": "stdout",
     "output_type": "stream",
     "text": [
      "13:19:54.861 DEBUG org.hibernate.SQL - insert into EX_HERITAGE2.TEACHER (salary,id) values (?,?)\n"
     ]
    },
    {
     "name": "stdout",
     "output_type": "stream",
     "text": [
      "13:19:54.862 DEBUG org.hibernate.SQL - select s1_0.id,s1_1.name,s1_0.status from EX_HERITAGE2.STUDENT s1_0 join EX_HERITAGE2.PERSON s1_1 on s1_0.id=s1_1.id where s1_0.id=?\n"
     ]
    },
    {
     "name": "stdout",
     "output_type": "stream",
     "text": [
      "13:19:54.863 DEBUG org.hibernate.SQL - select t1_0.id,t1_1.name,t1_0.salary from EX_HERITAGE2.TEACHER t1_0 join EX_HERITAGE2.PERSON t1_1 on t1_0.id=t1_1.id where t1_0.id=?\n"
     ]
    },
    {
     "name": "stdout",
     "output_type": "stream",
     "text": [
      "13:19:54.868 INFO  f.u.b.d.jpa.hello.HookListenerTest - CustomerWithListener(id=0, name=Peter)\n"
     ]
    },
    {
     "name": "stdout",
     "output_type": "stream",
     "text": [
      "13:19:54.868 DEBUG org.hibernate.SQL - select nextval('CUSTOMER_BIS_SEQ')\n"
     ]
    },
    {
     "name": "stdout",
     "output_type": "stream",
     "text": [
      "13:19:54.870 INFO  f.u.b.d.j.h.s.e.EntityMonitorListener - -->about to change in DB: CustomerWithListener(id=1, name=Peter)\n"
     ]
    },
    {
     "name": "stdout",
     "output_type": "stream",
     "text": [
      "13:19:54.870 INFO  f.u.b.d.j.h.s.e.EntityMonitorListener - -->about to change in DB: CustomerWithListener(id=1, name=Pierre)\n"
     ]
    },
    {
     "name": "stdout",
     "output_type": "stream",
     "text": [
      "13:19:54.871 DEBUG org.hibernate.SQL - insert into CUSTOMER_BIS (name,id) values (?,?)\n"
     ]
    },
    {
     "name": "stdout",
     "output_type": "stream",
     "text": [
      "13:19:54.872 INFO  f.u.b.d.j.h.s.e.EntityMonitorListener - --> changed in DBCustomerWithListener(id=1, name=Pierre)\n"
     ]
    },
    {
     "name": "stdout",
     "output_type": "stream",
     "text": [
      "13:19:54.875 DEBUG org.hibernate.SQL - update CUSTOMER_BIS set name=? where id=?\n"
     ]
    },
    {
     "name": "stdout",
     "output_type": "stream",
     "text": [
      "13:19:54.876 INFO  f.u.b.d.j.h.s.e.EntityMonitorListener - --> changed in DBCustomerWithListener(id=1, name=Pierre)\n"
     ]
    },
    {
     "name": "stdout",
     "output_type": "stream",
     "text": [
      "13:19:54.877 DEBUG org.hibernate.SQL - select cwl1_0.id,cwl1_0.name from CUSTOMER_BIS cwl1_0 where cwl1_0.id=?\n"
     ]
    },
    {
     "name": "stdout",
     "output_type": "stream",
     "text": [
      "13:19:54.877 INFO  f.u.b.d.j.h.s.e.EntityMonitorListener - --> loaded from DB: CustomerWithListener(id=1, name=Pierre)\n"
     ]
    },
    {
     "name": "stdout",
     "output_type": "stream",
     "text": [
      "13:19:54.879 INFO  f.u.b.d.j.h.s.e.EntityMonitorListener - -->about to change in DB: CustomerWithListener(id=1, name=Pierre)\n"
     ]
    },
    {
     "name": "stdout",
     "output_type": "stream",
     "text": [
      "13:19:54.881 DEBUG org.hibernate.SQL - delete from CUSTOMER_BIS where id=?\n"
     ]
    },
    {
     "name": "stdout",
     "output_type": "stream",
     "text": [
      "13:19:54.887 INFO  f.u.b.d.j.h.s.e.EntityMonitorListener - --> changed in DBCustomerWithListener(id=1, name=Pierre)\n"
     ]
    },
    {
     "name": "stdout",
     "output_type": "stream",
     "text": [
      "13:19:54.891 DEBUG org.hibernate.SQL - select nextval('EORDER_SEQ')\n"
     ]
    },
    {
     "name": "stdout",
     "output_type": "stream",
     "text": [
      "13:19:54.893 DEBUG org.hibernate.SQL - select nextval('LINE_SEQ')\n"
     ]
    },
    {
     "name": "stdout",
     "output_type": "stream",
     "text": [
      "13:19:54.895 DEBUG org.hibernate.SQL - select nextval('LINE_SEQ')\n"
     ]
    },
    {
     "name": "stdout",
     "output_type": "stream",
     "text": [
      "13:19:54.896 DEBUG org.hibernate.SQL - insert into EX_ONE_TO_MANY_A.EORDER (date,id) values (?,?)\n"
     ]
    },
    {
     "name": "stdout",
     "output_type": "stream",
     "text": [
      "13:19:54.898 DEBUG org.hibernate.SQL - insert into EX_ONE_TO_MANY_A.LINE (order_id,price,product,id) values (?,?,?,?)\n"
     ]
    },
    {
     "name": "stdout",
     "output_type": "stream",
     "text": [
      "13:19:54.899 DEBUG org.hibernate.SQL - insert into EX_ONE_TO_MANY_A.LINE (order_id,price,product,id) values (?,?,?,?)\n"
     ]
    },
    {
     "name": "stdout",
     "output_type": "stream",
     "text": [
      "13:19:54.900 DEBUG org.hibernate.SQL - insert into EX_ONE_TO_MANY_A.LINE (order_id,price,product,id) values (?,?,?,?)\n"
     ]
    },
    {
     "name": "stdout",
     "output_type": "stream",
     "text": [
      "13:19:54.901 DEBUG org.hibernate.SQL - insert into EX_ONE_TO_MANY_A.EORDER (date,id) values (?,?)\n"
     ]
    },
    {
     "name": "stdout",
     "output_type": "stream",
     "text": [
      "13:19:54.902 DEBUG org.hibernate.SQL - insert into EX_ONE_TO_MANY_A.LINE (order_id,price,product,id) values (?,?,?,?)\n"
     ]
    },
    {
     "name": "stdout",
     "output_type": "stream",
     "text": [
      "13:19:54.903 DEBUG org.hibernate.SQL - insert into EX_ONE_TO_MANY_A.LINE (order_id,price,product,id) values (?,?,?,?)\n"
     ]
    },
    {
     "name": "stdout",
     "output_type": "stream",
     "text": [
      "13:19:54.905 DEBUG org.hibernate.SQL - select o1_0.id,o1_0.date from EX_ONE_TO_MANY_A.EORDER o1_0\n"
     ]
    },
    {
     "name": "stdout",
     "output_type": "stream",
     "text": [
      "13:19:54.998 DEBUG org.hibernate.SQL - select count(*)>0 from CUSTOMER c1_0 where c1_0.email=?\n"
     ]
    },
    {
     "name": "stdout",
     "output_type": "stream",
     "text": [
      "13:19:55.001 DEBUG org.hibernate.SQL - select nextval('CUSTOMER_SEQ')\n"
     ]
    },
    {
     "name": "stdout",
     "output_type": "stream",
     "text": [
      "13:19:55.004 DEBUG org.hibernate.SQL - insert into CUSTOMER (birthDate,creationDate,email,firstname,lastname,photo,status,version,ID) values (?,?,?,?,?,?,?,?,?)\n"
     ]
    },
    {
     "name": "stdout",
     "output_type": "stream",
     "text": [
      "13:19:55.005 DEBUG org.hibernate.SQL - select count(*)>0 from CUSTOMER c1_0 where c1_0.email=?\n"
     ]
    },
    {
     "name": "stdout",
     "output_type": "stream",
     "text": [
      "13:19:55.006 DEBUG org.hibernate.SQL - insert into CUSTOMER (birthDate,creationDate,email,firstname,lastname,photo,status,version,ID) values (?,?,?,?,?,?,?,?,?)\n"
     ]
    },
    {
     "name": "stdout",
     "output_type": "stream",
     "text": [
      "13:19:55.007 DEBUG org.hibernate.SQL - select count(*)>0 from CUSTOMER c1_0 where c1_0.email=?\n"
     ]
    },
    {
     "name": "stdout",
     "output_type": "stream",
     "text": [
      "13:19:55.008 DEBUG org.hibernate.SQL - insert into CUSTOMER (birthDate,creationDate,email,firstname,lastname,photo,status,version,ID) values (?,?,?,?,?,?,?,?,?)\n"
     ]
    },
    {
     "name": "stdout",
     "output_type": "stream",
     "text": [
      "13:19:55.010 DEBUG org.hibernate.SQL - select count(*)>0 from CUSTOMER c1_0 where c1_0.email=?\n"
     ]
    },
    {
     "name": "stdout",
     "output_type": "stream",
     "text": [
      "13:19:55.011 DEBUG org.hibernate.SQL - insert into CUSTOMER (birthDate,creationDate,email,firstname,lastname,photo,status,version,ID) values (?,?,?,?,?,?,?,?,?)\n"
     ]
    },
    {
     "name": "stdout",
     "output_type": "stream",
     "text": [
      "13:19:55.012 DEBUG org.hibernate.SQL - select count(*)>0 from CUSTOMER c1_0 where c1_0.email=?\n"
     ]
    },
    {
     "name": "stdout",
     "output_type": "stream",
     "text": [
      "13:19:55.013 DEBUG org.hibernate.SQL - insert into CUSTOMER (birthDate,creationDate,email,firstname,lastname,photo,status,version,ID) values (?,?,?,?,?,?,?,?,?)\n"
     ]
    },
    {
     "name": "stdout",
     "output_type": "stream",
     "text": [
      "13:19:55.014 DEBUG org.hibernate.SQL - select count(*)>0 from CUSTOMER c1_0 where c1_0.email=?\n"
     ]
    },
    {
     "name": "stdout",
     "output_type": "stream",
     "text": [
      "13:19:55.015 DEBUG org.hibernate.SQL - insert into CUSTOMER (birthDate,creationDate,email,firstname,lastname,photo,status,version,ID) values (?,?,?,?,?,?,?,?,?)\n"
     ]
    },
    {
     "name": "stdout",
     "output_type": "stream",
     "text": [
      "13:19:55.017 DEBUG org.hibernate.SQL - select count(*)>0 from CUSTOMER c1_0 where c1_0.email=?\n"
     ]
    },
    {
     "name": "stdout",
     "output_type": "stream",
     "text": [
      "13:19:55.020 DEBUG org.hibernate.SQL - insert into CUSTOMER (birthDate,creationDate,email,firstname,lastname,photo,status,version,ID) values (?,?,?,?,?,?,?,?,?)\n"
     ]
    },
    {
     "name": "stdout",
     "output_type": "stream",
     "text": [
      "13:19:55.021 DEBUG org.hibernate.SQL - select count(*)>0 from CUSTOMER c1_0 where c1_0.email=?\n"
     ]
    },
    {
     "name": "stdout",
     "output_type": "stream",
     "text": [
      "13:19:55.022 DEBUG org.hibernate.SQL - insert into CUSTOMER (birthDate,creationDate,email,firstname,lastname,photo,status,version,ID) values (?,?,?,?,?,?,?,?,?)\n"
     ]
    },
    {
     "name": "stdout",
     "output_type": "stream",
     "text": [
      "13:19:55.023 DEBUG org.hibernate.SQL - select count(*)>0 from CUSTOMER c1_0 where c1_0.email=?\n"
     ]
    },
    {
     "name": "stdout",
     "output_type": "stream",
     "text": [
      "13:19:55.025 DEBUG org.hibernate.SQL - insert into CUSTOMER (birthDate,creationDate,email,firstname,lastname,photo,status,version,ID) values (?,?,?,?,?,?,?,?,?)\n"
     ]
    },
    {
     "name": "stdout",
     "output_type": "stream",
     "text": [
      "13:19:55.025 DEBUG org.hibernate.SQL - select count(*)>0 from CUSTOMER c1_0 where c1_0.email=?\n"
     ]
    },
    {
     "name": "stdout",
     "output_type": "stream",
     "text": [
      "13:19:55.026 DEBUG org.hibernate.SQL - insert into CUSTOMER (birthDate,creationDate,email,firstname,lastname,photo,status,version,ID) values (?,?,?,?,?,?,?,?,?)\n"
     ]
    },
    {
     "name": "stdout",
     "output_type": "stream",
     "text": [
      "13:19:55.027 DEBUG org.hibernate.SQL - select count(*)>0 from CUSTOMER c1_0 where c1_0.email=?\n"
     ]
    },
    {
     "name": "stdout",
     "output_type": "stream",
     "text": [
      "13:19:55.028 DEBUG org.hibernate.SQL - insert into CUSTOMER (birthDate,creationDate,email,firstname,lastname,photo,status,version,ID) values (?,?,?,?,?,?,?,?,?)\n"
     ]
    },
    {
     "name": "stdout",
     "output_type": "stream",
     "text": [
      "13:19:55.028 DEBUG org.hibernate.SQL - select count(*)>0 from CUSTOMER c1_0 where c1_0.email=?\n"
     ]
    },
    {
     "name": "stdout",
     "output_type": "stream",
     "text": [
      "13:19:55.029 DEBUG org.hibernate.SQL - insert into CUSTOMER (birthDate,creationDate,email,firstname,lastname,photo,status,version,ID) values (?,?,?,?,?,?,?,?,?)\n"
     ]
    },
    {
     "name": "stdout",
     "output_type": "stream",
     "text": [
      "13:19:55.030 DEBUG org.hibernate.SQL - select count(*)>0 from CUSTOMER c1_0 where c1_0.email=?\n"
     ]
    },
    {
     "name": "stdout",
     "output_type": "stream",
     "text": [
      "13:19:55.031 DEBUG org.hibernate.SQL - insert into CUSTOMER (birthDate,creationDate,email,firstname,lastname,photo,status,version,ID) values (?,?,?,?,?,?,?,?,?)\n"
     ]
    },
    {
     "name": "stdout",
     "output_type": "stream",
     "text": [
      "13:19:55.031 DEBUG org.hibernate.SQL - select count(*)>0 from CUSTOMER c1_0 where c1_0.email=?\n"
     ]
    },
    {
     "name": "stdout",
     "output_type": "stream",
     "text": [
      "13:19:55.032 DEBUG org.hibernate.SQL - insert into CUSTOMER (birthDate,creationDate,email,firstname,lastname,photo,status,version,ID) values (?,?,?,?,?,?,?,?,?)\n"
     ]
    },
    {
     "name": "stdout",
     "output_type": "stream",
     "text": [
      "13:19:55.033 DEBUG org.hibernate.SQL - select count(*)>0 from CUSTOMER c1_0 where c1_0.email=?\n"
     ]
    },
    {
     "name": "stdout",
     "output_type": "stream",
     "text": [
      "13:19:55.036 DEBUG org.hibernate.SQL - insert into CUSTOMER (birthDate,creationDate,email,firstname,lastname,photo,status,version,ID) values (?,?,?,?,?,?,?,?,?)\n"
     ]
    },
    {
     "name": "stdout",
     "output_type": "stream",
     "text": [
      "13:19:55.037 DEBUG org.hibernate.SQL - select count(*)>0 from CUSTOMER c1_0 where c1_0.email=?\n"
     ]
    },
    {
     "name": "stdout",
     "output_type": "stream",
     "text": [
      "13:19:55.038 DEBUG org.hibernate.SQL - insert into CUSTOMER (birthDate,creationDate,email,firstname,lastname,photo,status,version,ID) values (?,?,?,?,?,?,?,?,?)\n"
     ]
    },
    {
     "name": "stdout",
     "output_type": "stream",
     "text": [
      "13:19:55.038 DEBUG org.hibernate.SQL - select count(*)>0 from CUSTOMER c1_0 where c1_0.email=?\n"
     ]
    },
    {
     "name": "stdout",
     "output_type": "stream",
     "text": [
      "13:19:55.039 DEBUG org.hibernate.SQL - insert into CUSTOMER (birthDate,creationDate,email,firstname,lastname,photo,status,version,ID) values (?,?,?,?,?,?,?,?,?)\n"
     ]
    },
    {
     "name": "stdout",
     "output_type": "stream",
     "text": [
      "13:19:55.039 DEBUG org.hibernate.SQL - select count(*)>0 from CUSTOMER c1_0 where c1_0.email=?\n"
     ]
    },
    {
     "name": "stdout",
     "output_type": "stream",
     "text": [
      "13:19:55.040 DEBUG org.hibernate.SQL - insert into CUSTOMER (birthDate,creationDate,email,firstname,lastname,photo,status,version,ID) values (?,?,?,?,?,?,?,?,?)\n"
     ]
    },
    {
     "name": "stdout",
     "output_type": "stream",
     "text": [
      "13:19:55.040 DEBUG org.hibernate.SQL - select count(*)>0 from CUSTOMER c1_0 where c1_0.email=?\n"
     ]
    },
    {
     "name": "stdout",
     "output_type": "stream",
     "text": [
      "13:19:55.042 DEBUG org.hibernate.SQL - insert into CUSTOMER (birthDate,creationDate,email,firstname,lastname,photo,status,version,ID) values (?,?,?,?,?,?,?,?,?)\n"
     ]
    },
    {
     "name": "stdout",
     "output_type": "stream",
     "text": [
      "13:19:55.042 DEBUG org.hibernate.SQL - select count(*)>0 from CUSTOMER c1_0 where c1_0.email=?\n"
     ]
    },
    {
     "name": "stdout",
     "output_type": "stream",
     "text": [
      "13:19:55.043 DEBUG org.hibernate.SQL - insert into CUSTOMER (birthDate,creationDate,email,firstname,lastname,photo,status,version,ID) values (?,?,?,?,?,?,?,?,?)\n"
     ]
    },
    {
     "name": "stdout",
     "output_type": "stream",
     "text": [
      "13:19:55.044 DEBUG org.hibernate.SQL - select count(*)>0 from CUSTOMER c1_0 where c1_0.email=?\n"
     ]
    },
    {
     "name": "stdout",
     "output_type": "stream",
     "text": [
      "13:19:55.046 DEBUG org.hibernate.SQL - insert into CUSTOMER (birthDate,creationDate,email,firstname,lastname,photo,status,version,ID) values (?,?,?,?,?,?,?,?,?)\n"
     ]
    },
    {
     "name": "stdout",
     "output_type": "stream",
     "text": [
      "13:19:55.048 DEBUG org.hibernate.SQL - select count(*)>0 from CUSTOMER c1_0 where c1_0.email=?\n"
     ]
    },
    {
     "name": "stdout",
     "output_type": "stream",
     "text": [
      "13:19:55.050 DEBUG org.hibernate.SQL - insert into CUSTOMER (birthDate,creationDate,email,firstname,lastname,photo,status,version,ID) values (?,?,?,?,?,?,?,?,?)\n"
     ]
    },
    {
     "name": "stdout",
     "output_type": "stream",
     "text": [
      "13:19:55.051 DEBUG org.hibernate.SQL - select count(*)>0 from CUSTOMER c1_0 where c1_0.email=?\n"
     ]
    },
    {
     "name": "stdout",
     "output_type": "stream",
     "text": [
      "13:19:55.052 DEBUG org.hibernate.SQL - insert into CUSTOMER (birthDate,creationDate,email,firstname,lastname,photo,status,version,ID) values (?,?,?,?,?,?,?,?,?)\n"
     ]
    },
    {
     "name": "stdout",
     "output_type": "stream",
     "text": [
      "13:19:55.053 DEBUG org.hibernate.SQL - select count(*)>0 from CUSTOMER c1_0 where c1_0.email=?\n"
     ]
    },
    {
     "name": "stdout",
     "output_type": "stream",
     "text": [
      "13:19:55.055 DEBUG org.hibernate.SQL - insert into CUSTOMER (birthDate,creationDate,email,firstname,lastname,photo,status,version,ID) values (?,?,?,?,?,?,?,?,?)\n"
     ]
    },
    {
     "name": "stdout",
     "output_type": "stream",
     "text": [
      "13:19:55.056 DEBUG org.hibernate.SQL - select count(*)>0 from CUSTOMER c1_0 where c1_0.email=?\n"
     ]
    },
    {
     "name": "stdout",
     "output_type": "stream",
     "text": [
      "13:19:55.057 DEBUG org.hibernate.SQL - insert into CUSTOMER (birthDate,creationDate,email,firstname,lastname,photo,status,version,ID) values (?,?,?,?,?,?,?,?,?)\n"
     ]
    },
    {
     "name": "stdout",
     "output_type": "stream",
     "text": [
      "13:19:55.058 DEBUG org.hibernate.SQL - select count(*)>0 from CUSTOMER c1_0 where c1_0.email=?\n"
     ]
    },
    {
     "name": "stdout",
     "output_type": "stream",
     "text": [
      "13:19:55.059 DEBUG org.hibernate.SQL - insert into CUSTOMER (birthDate,creationDate,email,firstname,lastname,photo,status,version,ID) values (?,?,?,?,?,?,?,?,?)\n"
     ]
    },
    {
     "name": "stdout",
     "output_type": "stream",
     "text": [
      "13:19:55.059 DEBUG org.hibernate.SQL - select count(*)>0 from CUSTOMER c1_0 where c1_0.email=?\n"
     ]
    },
    {
     "name": "stdout",
     "output_type": "stream",
     "text": [
      "13:19:55.060 DEBUG org.hibernate.SQL - insert into CUSTOMER (birthDate,creationDate,email,firstname,lastname,photo,status,version,ID) values (?,?,?,?,?,?,?,?,?)\n"
     ]
    },
    {
     "name": "stdout",
     "output_type": "stream",
     "text": [
      "13:19:55.061 DEBUG org.hibernate.SQL - select count(*)>0 from CUSTOMER c1_0 where c1_0.email=?\n"
     ]
    },
    {
     "name": "stdout",
     "output_type": "stream",
     "text": [
      "13:19:55.062 DEBUG org.hibernate.SQL - insert into CUSTOMER (birthDate,creationDate,email,firstname,lastname,photo,status,version,ID) values (?,?,?,?,?,?,?,?,?)\n"
     ]
    },
    {
     "name": "stdout",
     "output_type": "stream",
     "text": [
      "13:19:55.062 DEBUG org.hibernate.SQL - select count(*)>0 from CUSTOMER c1_0 where c1_0.email=?\n"
     ]
    },
    {
     "name": "stdout",
     "output_type": "stream",
     "text": [
      "13:19:55.063 DEBUG org.hibernate.SQL - insert into CUSTOMER (birthDate,creationDate,email,firstname,lastname,photo,status,version,ID) values (?,?,?,?,?,?,?,?,?)\n"
     ]
    },
    {
     "name": "stdout",
     "output_type": "stream",
     "text": [
      "13:19:55.064 DEBUG org.hibernate.SQL - select count(*)>0 from CUSTOMER c1_0 where c1_0.email=?\n"
     ]
    },
    {
     "name": "stdout",
     "output_type": "stream",
     "text": [
      "13:19:55.065 DEBUG org.hibernate.SQL - insert into CUSTOMER (birthDate,creationDate,email,firstname,lastname,photo,status,version,ID) values (?,?,?,?,?,?,?,?,?)\n"
     ]
    },
    {
     "name": "stdout",
     "output_type": "stream",
     "text": [
      "13:19:55.065 DEBUG org.hibernate.SQL - select count(*)>0 from CUSTOMER c1_0 where c1_0.email=?\n"
     ]
    },
    {
     "name": "stdout",
     "output_type": "stream",
     "text": [
      "13:19:55.066 DEBUG org.hibernate.SQL - insert into CUSTOMER (birthDate,creationDate,email,firstname,lastname,photo,status,version,ID) values (?,?,?,?,?,?,?,?,?)\n"
     ]
    },
    {
     "name": "stdout",
     "output_type": "stream",
     "text": [
      "13:19:55.067 DEBUG org.hibernate.SQL - select count(*)>0 from CUSTOMER c1_0 where c1_0.email=?\n"
     ]
    },
    {
     "name": "stdout",
     "output_type": "stream",
     "text": [
      "13:19:55.069 DEBUG org.hibernate.SQL - insert into CUSTOMER (birthDate,creationDate,email,firstname,lastname,photo,status,version,ID) values (?,?,?,?,?,?,?,?,?)\n"
     ]
    },
    {
     "name": "stdout",
     "output_type": "stream",
     "text": [
      "13:19:55.070 DEBUG org.hibernate.SQL - select count(*)>0 from CUSTOMER c1_0 where c1_0.email=?\n"
     ]
    },
    {
     "name": "stdout",
     "output_type": "stream",
     "text": [
      "13:19:55.071 DEBUG org.hibernate.SQL - insert into CUSTOMER (birthDate,creationDate,email,firstname,lastname,photo,status,version,ID) values (?,?,?,?,?,?,?,?,?)\n"
     ]
    },
    {
     "name": "stdout",
     "output_type": "stream",
     "text": [
      "13:19:55.071 DEBUG org.hibernate.SQL - select count(*)>0 from CUSTOMER c1_0 where c1_0.email=?\n"
     ]
    },
    {
     "name": "stdout",
     "output_type": "stream",
     "text": [
      "13:19:55.072 DEBUG org.hibernate.SQL - insert into CUSTOMER (birthDate,creationDate,email,firstname,lastname,photo,status,version,ID) values (?,?,?,?,?,?,?,?,?)\n"
     ]
    },
    {
     "name": "stdout",
     "output_type": "stream",
     "text": [
      "13:19:55.073 DEBUG org.hibernate.SQL - select count(*)>0 from CUSTOMER c1_0 where c1_0.email=?\n"
     ]
    },
    {
     "name": "stdout",
     "output_type": "stream",
     "text": [
      "13:19:55.073 DEBUG org.hibernate.SQL - insert into CUSTOMER (birthDate,creationDate,email,firstname,lastname,photo,status,version,ID) values (?,?,?,?,?,?,?,?,?)\n"
     ]
    },
    {
     "name": "stdout",
     "output_type": "stream",
     "text": [
      "13:19:55.074 DEBUG org.hibernate.SQL - select count(*)>0 from CUSTOMER c1_0 where c1_0.email=?\n"
     ]
    },
    {
     "name": "stdout",
     "output_type": "stream",
     "text": [
      "13:19:55.075 DEBUG org.hibernate.SQL - insert into CUSTOMER (birthDate,creationDate,email,firstname,lastname,photo,status,version,ID) values (?,?,?,?,?,?,?,?,?)\n"
     ]
    },
    {
     "name": "stdout",
     "output_type": "stream",
     "text": [
      "13:19:55.075 DEBUG org.hibernate.SQL - select count(*)>0 from CUSTOMER c1_0 where c1_0.email=?\n"
     ]
    },
    {
     "name": "stdout",
     "output_type": "stream",
     "text": [
      "13:19:55.076 DEBUG org.hibernate.SQL - insert into CUSTOMER (birthDate,creationDate,email,firstname,lastname,photo,status,version,ID) values (?,?,?,?,?,?,?,?,?)\n"
     ]
    },
    {
     "name": "stdout",
     "output_type": "stream",
     "text": [
      "13:19:55.076 DEBUG org.hibernate.SQL - select count(*)>0 from CUSTOMER c1_0 where c1_0.email=?\n"
     ]
    },
    {
     "name": "stdout",
     "output_type": "stream",
     "text": [
      "13:19:55.077 DEBUG org.hibernate.SQL - insert into CUSTOMER (birthDate,creationDate,email,firstname,lastname,photo,status,version,ID) values (?,?,?,?,?,?,?,?,?)\n"
     ]
    },
    {
     "name": "stdout",
     "output_type": "stream",
     "text": [
      "13:19:55.077 DEBUG org.hibernate.SQL - select count(*)>0 from CUSTOMER c1_0 where c1_0.email=?\n"
     ]
    },
    {
     "name": "stdout",
     "output_type": "stream",
     "text": [
      "13:19:55.078 DEBUG org.hibernate.SQL - insert into CUSTOMER (birthDate,creationDate,email,firstname,lastname,photo,status,version,ID) values (?,?,?,?,?,?,?,?,?)\n"
     ]
    },
    {
     "name": "stdout",
     "output_type": "stream",
     "text": [
      "13:19:55.078 DEBUG org.hibernate.SQL - select count(*)>0 from CUSTOMER c1_0 where c1_0.email=?\n"
     ]
    },
    {
     "name": "stdout",
     "output_type": "stream",
     "text": [
      "13:19:55.079 DEBUG org.hibernate.SQL - insert into CUSTOMER (birthDate,creationDate,email,firstname,lastname,photo,status,version,ID) values (?,?,?,?,?,?,?,?,?)\n"
     ]
    },
    {
     "name": "stdout",
     "output_type": "stream",
     "text": [
      "13:19:55.079 DEBUG org.hibernate.SQL - select count(*)>0 from CUSTOMER c1_0 where c1_0.email=?\n"
     ]
    },
    {
     "name": "stdout",
     "output_type": "stream",
     "text": [
      "13:19:55.080 DEBUG org.hibernate.SQL - insert into CUSTOMER (birthDate,creationDate,email,firstname,lastname,photo,status,version,ID) values (?,?,?,?,?,?,?,?,?)\n"
     ]
    },
    {
     "name": "stdout",
     "output_type": "stream",
     "text": [
      "13:19:55.080 DEBUG org.hibernate.SQL - select count(*)>0 from CUSTOMER c1_0 where c1_0.email=?\n"
     ]
    },
    {
     "name": "stdout",
     "output_type": "stream",
     "text": [
      "13:19:55.081 DEBUG org.hibernate.SQL - insert into CUSTOMER (birthDate,creationDate,email,firstname,lastname,photo,status,version,ID) values (?,?,?,?,?,?,?,?,?)\n"
     ]
    },
    {
     "name": "stdout",
     "output_type": "stream",
     "text": [
      "13:19:55.081 DEBUG org.hibernate.SQL - select count(*)>0 from CUSTOMER c1_0 where c1_0.email=?\n"
     ]
    },
    {
     "name": "stdout",
     "output_type": "stream",
     "text": [
      "13:19:55.082 DEBUG org.hibernate.SQL - insert into CUSTOMER (birthDate,creationDate,email,firstname,lastname,photo,status,version,ID) values (?,?,?,?,?,?,?,?,?)\n"
     ]
    },
    {
     "name": "stdout",
     "output_type": "stream",
     "text": [
      "13:19:55.084 DEBUG org.hibernate.SQL - select count(*)>0 from CUSTOMER c1_0 where c1_0.email=?\n"
     ]
    },
    {
     "name": "stdout",
     "output_type": "stream",
     "text": [
      "13:19:55.085 DEBUG org.hibernate.SQL - insert into CUSTOMER (birthDate,creationDate,email,firstname,lastname,photo,status,version,ID) values (?,?,?,?,?,?,?,?,?)\n"
     ]
    },
    {
     "name": "stdout",
     "output_type": "stream",
     "text": [
      "13:19:55.086 DEBUG org.hibernate.SQL - select count(*)>0 from CUSTOMER c1_0 where c1_0.email=?\n"
     ]
    },
    {
     "name": "stdout",
     "output_type": "stream",
     "text": [
      "13:19:55.087 DEBUG org.hibernate.SQL - insert into CUSTOMER (birthDate,creationDate,email,firstname,lastname,photo,status,version,ID) values (?,?,?,?,?,?,?,?,?)\n"
     ]
    },
    {
     "name": "stdout",
     "output_type": "stream",
     "text": [
      "13:19:55.088 DEBUG org.hibernate.SQL - select count(*)>0 from CUSTOMER c1_0 where c1_0.email=?\n"
     ]
    },
    {
     "name": "stdout",
     "output_type": "stream",
     "text": [
      "13:19:55.089 DEBUG org.hibernate.SQL - insert into CUSTOMER (birthDate,creationDate,email,firstname,lastname,photo,status,version,ID) values (?,?,?,?,?,?,?,?,?)\n"
     ]
    },
    {
     "name": "stdout",
     "output_type": "stream",
     "text": [
      "13:19:55.090 DEBUG org.hibernate.SQL - select count(*)>0 from CUSTOMER c1_0 where c1_0.email=?\n"
     ]
    },
    {
     "name": "stdout",
     "output_type": "stream",
     "text": [
      "13:19:55.090 DEBUG org.hibernate.SQL - insert into CUSTOMER (birthDate,creationDate,email,firstname,lastname,photo,status,version,ID) values (?,?,?,?,?,?,?,?,?)\n"
     ]
    },
    {
     "name": "stdout",
     "output_type": "stream",
     "text": [
      "13:19:55.092 DEBUG org.hibernate.SQL - select count(*)>0 from CUSTOMER c1_0 where c1_0.email=?\n"
     ]
    },
    {
     "name": "stdout",
     "output_type": "stream",
     "text": [
      "13:19:55.093 DEBUG org.hibernate.SQL - insert into CUSTOMER (birthDate,creationDate,email,firstname,lastname,photo,status,version,ID) values (?,?,?,?,?,?,?,?,?)\n"
     ]
    },
    {
     "name": "stdout",
     "output_type": "stream",
     "text": [
      "13:19:55.094 DEBUG org.hibernate.SQL - select count(*)>0 from CUSTOMER c1_0 where c1_0.email=?\n"
     ]
    },
    {
     "name": "stdout",
     "output_type": "stream",
     "text": [
      "13:19:55.095 DEBUG org.hibernate.SQL - insert into CUSTOMER (birthDate,creationDate,email,firstname,lastname,photo,status,version,ID) values (?,?,?,?,?,?,?,?,?)\n"
     ]
    },
    {
     "name": "stdout",
     "output_type": "stream",
     "text": [
      "13:19:55.096 DEBUG org.hibernate.SQL - select count(*)>0 from CUSTOMER c1_0 where c1_0.email=?\n"
     ]
    },
    {
     "name": "stdout",
     "output_type": "stream",
     "text": [
      "13:19:55.097 DEBUG org.hibernate.SQL - insert into CUSTOMER (birthDate,creationDate,email,firstname,lastname,photo,status,version,ID) values (?,?,?,?,?,?,?,?,?)\n"
     ]
    },
    {
     "name": "stdout",
     "output_type": "stream",
     "text": [
      "13:19:55.097 DEBUG org.hibernate.SQL - select count(*)>0 from CUSTOMER c1_0 where c1_0.email=?\n"
     ]
    },
    {
     "name": "stdout",
     "output_type": "stream",
     "text": [
      "13:19:55.098 DEBUG org.hibernate.SQL - select nextval('CUSTOMER_SEQ')\n"
     ]
    },
    {
     "name": "stdout",
     "output_type": "stream",
     "text": [
      "13:19:55.098 DEBUG org.hibernate.SQL - insert into CUSTOMER (birthDate,creationDate,email,firstname,lastname,photo,status,version,ID) values (?,?,?,?,?,?,?,?,?)\n"
     ]
    },
    {
     "name": "stdout",
     "output_type": "stream",
     "text": [
      "13:19:55.099 DEBUG org.hibernate.SQL - select count(*)>0 from CUSTOMER c1_0 where c1_0.email=?\n"
     ]
    },
    {
     "name": "stdout",
     "output_type": "stream",
     "text": [
      "13:19:55.100 DEBUG org.hibernate.SQL - insert into CUSTOMER (birthDate,creationDate,email,firstname,lastname,photo,status,version,ID) values (?,?,?,?,?,?,?,?,?)\n"
     ]
    },
    {
     "name": "stdout",
     "output_type": "stream",
     "text": [
      "13:19:55.100 DEBUG org.hibernate.SQL - select count(*)>0 from CUSTOMER c1_0 where c1_0.email=?\n"
     ]
    },
    {
     "name": "stdout",
     "output_type": "stream",
     "text": [
      "13:19:55.102 DEBUG org.hibernate.SQL - insert into CUSTOMER (birthDate,creationDate,email,firstname,lastname,photo,status,version,ID) values (?,?,?,?,?,?,?,?,?)\n"
     ]
    },
    {
     "name": "stdout",
     "output_type": "stream",
     "text": [
      "13:19:55.105 DEBUG org.hibernate.SQL - select count(*)>0 from CUSTOMER c1_0 where c1_0.email=?\n"
     ]
    },
    {
     "name": "stdout",
     "output_type": "stream",
     "text": [
      "13:19:55.106 DEBUG org.hibernate.SQL - insert into CUSTOMER (birthDate,creationDate,email,firstname,lastname,photo,status,version,ID) values (?,?,?,?,?,?,?,?,?)\n"
     ]
    },
    {
     "name": "stdout",
     "output_type": "stream",
     "text": [
      "13:19:55.107 DEBUG org.hibernate.SQL - select count(*)>0 from CUSTOMER c1_0 where c1_0.email=?\n"
     ]
    },
    {
     "name": "stdout",
     "output_type": "stream",
     "text": [
      "13:19:55.108 DEBUG org.hibernate.SQL - insert into CUSTOMER (birthDate,creationDate,email,firstname,lastname,photo,status,version,ID) values (?,?,?,?,?,?,?,?,?)\n"
     ]
    },
    {
     "name": "stdout",
     "output_type": "stream",
     "text": [
      "13:19:55.109 DEBUG org.hibernate.SQL - select count(*)>0 from CUSTOMER c1_0 where c1_0.email=?\n"
     ]
    },
    {
     "name": "stdout",
     "output_type": "stream",
     "text": [
      "13:19:55.110 DEBUG org.hibernate.SQL - insert into CUSTOMER (birthDate,creationDate,email,firstname,lastname,photo,status,version,ID) values (?,?,?,?,?,?,?,?,?)\n"
     ]
    },
    {
     "name": "stdout",
     "output_type": "stream",
     "text": [
      "13:19:55.110 DEBUG org.hibernate.SQL - select count(*)>0 from CUSTOMER c1_0 where c1_0.email=?\n"
     ]
    },
    {
     "name": "stdout",
     "output_type": "stream",
     "text": [
      "13:19:55.111 DEBUG org.hibernate.SQL - insert into CUSTOMER (birthDate,creationDate,email,firstname,lastname,photo,status,version,ID) values (?,?,?,?,?,?,?,?,?)\n"
     ]
    },
    {
     "name": "stdout",
     "output_type": "stream",
     "text": [
      "13:19:55.112 DEBUG org.hibernate.SQL - select count(*)>0 from CUSTOMER c1_0 where c1_0.email=?\n"
     ]
    },
    {
     "name": "stdout",
     "output_type": "stream",
     "text": [
      "13:19:55.113 DEBUG org.hibernate.SQL - insert into CUSTOMER (birthDate,creationDate,email,firstname,lastname,photo,status,version,ID) values (?,?,?,?,?,?,?,?,?)\n"
     ]
    },
    {
     "name": "stdout",
     "output_type": "stream",
     "text": [
      "13:19:55.113 DEBUG org.hibernate.SQL - select count(*)>0 from CUSTOMER c1_0 where c1_0.email=?\n"
     ]
    },
    {
     "name": "stdout",
     "output_type": "stream",
     "text": [
      "13:19:55.114 DEBUG org.hibernate.SQL - insert into CUSTOMER (birthDate,creationDate,email,firstname,lastname,photo,status,version,ID) values (?,?,?,?,?,?,?,?,?)\n"
     ]
    },
    {
     "name": "stdout",
     "output_type": "stream",
     "text": [
      "13:19:55.114 DEBUG org.hibernate.SQL - select count(*)>0 from CUSTOMER c1_0 where c1_0.email=?\n"
     ]
    },
    {
     "name": "stdout",
     "output_type": "stream",
     "text": [
      "13:19:55.115 DEBUG org.hibernate.SQL - insert into CUSTOMER (birthDate,creationDate,email,firstname,lastname,photo,status,version,ID) values (?,?,?,?,?,?,?,?,?)\n"
     ]
    },
    {
     "name": "stdout",
     "output_type": "stream",
     "text": [
      "13:19:55.116 DEBUG org.hibernate.SQL - select count(*)>0 from CUSTOMER c1_0 where c1_0.email=?\n"
     ]
    },
    {
     "name": "stdout",
     "output_type": "stream",
     "text": [
      "13:19:55.118 DEBUG org.hibernate.SQL - insert into CUSTOMER (birthDate,creationDate,email,firstname,lastname,photo,status,version,ID) values (?,?,?,?,?,?,?,?,?)\n"
     ]
    },
    {
     "name": "stdout",
     "output_type": "stream",
     "text": [
      "13:19:55.119 DEBUG org.hibernate.SQL - select count(*)>0 from CUSTOMER c1_0 where c1_0.email=?\n"
     ]
    },
    {
     "name": "stdout",
     "output_type": "stream",
     "text": [
      "13:19:55.120 DEBUG org.hibernate.SQL - insert into CUSTOMER (birthDate,creationDate,email,firstname,lastname,photo,status,version,ID) values (?,?,?,?,?,?,?,?,?)\n"
     ]
    },
    {
     "name": "stdout",
     "output_type": "stream",
     "text": [
      "13:19:55.121 DEBUG org.hibernate.SQL - select count(*)>0 from CUSTOMER c1_0 where c1_0.email=?\n"
     ]
    },
    {
     "name": "stdout",
     "output_type": "stream",
     "text": [
      "13:19:55.122 DEBUG org.hibernate.SQL - insert into CUSTOMER (birthDate,creationDate,email,firstname,lastname,photo,status,version,ID) values (?,?,?,?,?,?,?,?,?)\n"
     ]
    },
    {
     "name": "stdout",
     "output_type": "stream",
     "text": [
      "13:19:55.123 DEBUG org.hibernate.SQL - select count(*)>0 from CUSTOMER c1_0 where c1_0.email=?\n"
     ]
    },
    {
     "name": "stdout",
     "output_type": "stream",
     "text": [
      "13:19:55.125 DEBUG org.hibernate.SQL - insert into CUSTOMER (birthDate,creationDate,email,firstname,lastname,photo,status,version,ID) values (?,?,?,?,?,?,?,?,?)\n"
     ]
    },
    {
     "name": "stdout",
     "output_type": "stream",
     "text": [
      "13:19:55.126 DEBUG org.hibernate.SQL - select count(*)>0 from CUSTOMER c1_0 where c1_0.email=?\n"
     ]
    },
    {
     "name": "stdout",
     "output_type": "stream",
     "text": [
      "13:19:55.126 DEBUG org.hibernate.SQL - insert into CUSTOMER (birthDate,creationDate,email,firstname,lastname,photo,status,version,ID) values (?,?,?,?,?,?,?,?,?)\n"
     ]
    },
    {
     "name": "stdout",
     "output_type": "stream",
     "text": [
      "13:19:55.127 DEBUG org.hibernate.SQL - select count(*)>0 from CUSTOMER c1_0 where c1_0.email=?\n"
     ]
    },
    {
     "name": "stdout",
     "output_type": "stream",
     "text": [
      "13:19:55.128 DEBUG org.hibernate.SQL - insert into CUSTOMER (birthDate,creationDate,email,firstname,lastname,photo,status,version,ID) values (?,?,?,?,?,?,?,?,?)\n"
     ]
    },
    {
     "name": "stdout",
     "output_type": "stream",
     "text": [
      "13:19:55.128 DEBUG org.hibernate.SQL - select count(*)>0 from CUSTOMER c1_0 where c1_0.email=?\n"
     ]
    },
    {
     "name": "stdout",
     "output_type": "stream",
     "text": [
      "13:19:55.129 DEBUG org.hibernate.SQL - insert into CUSTOMER (birthDate,creationDate,email,firstname,lastname,photo,status,version,ID) values (?,?,?,?,?,?,?,?,?)\n"
     ]
    },
    {
     "name": "stdout",
     "output_type": "stream",
     "text": [
      "13:19:55.129 DEBUG org.hibernate.SQL - select count(*)>0 from CUSTOMER c1_0 where c1_0.email=?\n"
     ]
    },
    {
     "name": "stdout",
     "output_type": "stream",
     "text": [
      "13:19:55.130 DEBUG org.hibernate.SQL - insert into CUSTOMER (birthDate,creationDate,email,firstname,lastname,photo,status,version,ID) values (?,?,?,?,?,?,?,?,?)\n"
     ]
    },
    {
     "name": "stdout",
     "output_type": "stream",
     "text": [
      "13:19:55.130 DEBUG org.hibernate.SQL - select count(*)>0 from CUSTOMER c1_0 where c1_0.email=?\n"
     ]
    },
    {
     "name": "stdout",
     "output_type": "stream",
     "text": [
      "13:19:55.131 DEBUG org.hibernate.SQL - insert into CUSTOMER (birthDate,creationDate,email,firstname,lastname,photo,status,version,ID) values (?,?,?,?,?,?,?,?,?)\n"
     ]
    },
    {
     "name": "stdout",
     "output_type": "stream",
     "text": [
      "13:19:55.132 DEBUG org.hibernate.SQL - select count(*)>0 from CUSTOMER c1_0 where c1_0.email=?\n"
     ]
    },
    {
     "name": "stdout",
     "output_type": "stream",
     "text": [
      "13:19:55.132 DEBUG org.hibernate.SQL - insert into CUSTOMER (birthDate,creationDate,email,firstname,lastname,photo,status,version,ID) values (?,?,?,?,?,?,?,?,?)\n"
     ]
    },
    {
     "name": "stdout",
     "output_type": "stream",
     "text": [
      "13:19:55.133 DEBUG org.hibernate.SQL - select count(*)>0 from CUSTOMER c1_0 where c1_0.email=?\n"
     ]
    },
    {
     "name": "stdout",
     "output_type": "stream",
     "text": [
      "13:19:55.134 DEBUG org.hibernate.SQL - insert into CUSTOMER (birthDate,creationDate,email,firstname,lastname,photo,status,version,ID) values (?,?,?,?,?,?,?,?,?)\n"
     ]
    },
    {
     "name": "stdout",
     "output_type": "stream",
     "text": [
      "13:19:55.134 DEBUG org.hibernate.SQL - select count(*)>0 from CUSTOMER c1_0 where c1_0.email=?\n"
     ]
    },
    {
     "name": "stdout",
     "output_type": "stream",
     "text": [
      "13:19:55.136 DEBUG org.hibernate.SQL - insert into CUSTOMER (birthDate,creationDate,email,firstname,lastname,photo,status,version,ID) values (?,?,?,?,?,?,?,?,?)\n"
     ]
    },
    {
     "name": "stdout",
     "output_type": "stream",
     "text": [
      "13:19:55.138 DEBUG org.hibernate.SQL - select count(*)>0 from CUSTOMER c1_0 where c1_0.email=?\n"
     ]
    },
    {
     "name": "stdout",
     "output_type": "stream",
     "text": [
      "13:19:55.139 DEBUG org.hibernate.SQL - insert into CUSTOMER (birthDate,creationDate,email,firstname,lastname,photo,status,version,ID) values (?,?,?,?,?,?,?,?,?)\n"
     ]
    },
    {
     "name": "stdout",
     "output_type": "stream",
     "text": [
      "13:19:55.140 DEBUG org.hibernate.SQL - select count(*)>0 from CUSTOMER c1_0 where c1_0.email=?\n"
     ]
    },
    {
     "name": "stdout",
     "output_type": "stream",
     "text": [
      "13:19:55.141 DEBUG org.hibernate.SQL - insert into CUSTOMER (birthDate,creationDate,email,firstname,lastname,photo,status,version,ID) values (?,?,?,?,?,?,?,?,?)\n"
     ]
    },
    {
     "name": "stdout",
     "output_type": "stream",
     "text": [
      "13:19:55.141 DEBUG org.hibernate.SQL - select count(*)>0 from CUSTOMER c1_0 where c1_0.email=?\n"
     ]
    },
    {
     "name": "stdout",
     "output_type": "stream",
     "text": [
      "13:19:55.142 DEBUG org.hibernate.SQL - insert into CUSTOMER (birthDate,creationDate,email,firstname,lastname,photo,status,version,ID) values (?,?,?,?,?,?,?,?,?)\n"
     ]
    },
    {
     "name": "stdout",
     "output_type": "stream",
     "text": [
      "13:19:55.142 DEBUG org.hibernate.SQL - select count(*)>0 from CUSTOMER c1_0 where c1_0.email=?\n"
     ]
    },
    {
     "name": "stdout",
     "output_type": "stream",
     "text": [
      "13:19:55.143 DEBUG org.hibernate.SQL - insert into CUSTOMER (birthDate,creationDate,email,firstname,lastname,photo,status,version,ID) values (?,?,?,?,?,?,?,?,?)\n"
     ]
    },
    {
     "name": "stdout",
     "output_type": "stream",
     "text": [
      "13:19:55.143 DEBUG org.hibernate.SQL - select count(*)>0 from CUSTOMER c1_0 where c1_0.email=?\n"
     ]
    },
    {
     "name": "stdout",
     "output_type": "stream",
     "text": [
      "13:19:55.144 DEBUG org.hibernate.SQL - insert into CUSTOMER (birthDate,creationDate,email,firstname,lastname,photo,status,version,ID) values (?,?,?,?,?,?,?,?,?)\n"
     ]
    },
    {
     "name": "stdout",
     "output_type": "stream",
     "text": [
      "13:19:55.144 DEBUG org.hibernate.SQL - select count(*)>0 from CUSTOMER c1_0 where c1_0.email=?\n"
     ]
    },
    {
     "name": "stdout",
     "output_type": "stream",
     "text": [
      "13:19:55.145 DEBUG org.hibernate.SQL - insert into CUSTOMER (birthDate,creationDate,email,firstname,lastname,photo,status,version,ID) values (?,?,?,?,?,?,?,?,?)\n"
     ]
    },
    {
     "name": "stdout",
     "output_type": "stream",
     "text": [
      "13:19:55.146 DEBUG org.hibernate.SQL - select count(*)>0 from CUSTOMER c1_0 where c1_0.email=?\n"
     ]
    },
    {
     "name": "stdout",
     "output_type": "stream",
     "text": [
      "13:19:55.147 DEBUG org.hibernate.SQL - insert into CUSTOMER (birthDate,creationDate,email,firstname,lastname,photo,status,version,ID) values (?,?,?,?,?,?,?,?,?)\n"
     ]
    },
    {
     "name": "stdout",
     "output_type": "stream",
     "text": [
      "13:19:55.147 DEBUG org.hibernate.SQL - select count(*)>0 from CUSTOMER c1_0 where c1_0.email=?\n"
     ]
    },
    {
     "name": "stdout",
     "output_type": "stream",
     "text": [
      "13:19:55.148 DEBUG org.hibernate.SQL - insert into CUSTOMER (birthDate,creationDate,email,firstname,lastname,photo,status,version,ID) values (?,?,?,?,?,?,?,?,?)\n"
     ]
    },
    {
     "name": "stdout",
     "output_type": "stream",
     "text": [
      "13:19:55.148 DEBUG org.hibernate.SQL - select count(*)>0 from CUSTOMER c1_0 where c1_0.email=?\n"
     ]
    },
    {
     "name": "stdout",
     "output_type": "stream",
     "text": [
      "13:19:55.149 DEBUG org.hibernate.SQL - insert into CUSTOMER (birthDate,creationDate,email,firstname,lastname,photo,status,version,ID) values (?,?,?,?,?,?,?,?,?)\n"
     ]
    },
    {
     "name": "stdout",
     "output_type": "stream",
     "text": [
      "13:19:55.150 DEBUG org.hibernate.SQL - select count(*)>0 from CUSTOMER c1_0 where c1_0.email=?\n"
     ]
    },
    {
     "name": "stdout",
     "output_type": "stream",
     "text": [
      "13:19:55.151 DEBUG org.hibernate.SQL - insert into CUSTOMER (birthDate,creationDate,email,firstname,lastname,photo,status,version,ID) values (?,?,?,?,?,?,?,?,?)\n"
     ]
    },
    {
     "name": "stdout",
     "output_type": "stream",
     "text": [
      "13:19:55.152 DEBUG org.hibernate.SQL - select count(*)>0 from CUSTOMER c1_0 where c1_0.email=?\n"
     ]
    },
    {
     "name": "stdout",
     "output_type": "stream",
     "text": [
      "13:19:55.154 DEBUG org.hibernate.SQL - insert into CUSTOMER (birthDate,creationDate,email,firstname,lastname,photo,status,version,ID) values (?,?,?,?,?,?,?,?,?)\n"
     ]
    },
    {
     "name": "stdout",
     "output_type": "stream",
     "text": [
      "13:19:55.154 DEBUG org.hibernate.SQL - select count(*)>0 from CUSTOMER c1_0 where c1_0.email=?\n"
     ]
    },
    {
     "name": "stdout",
     "output_type": "stream",
     "text": [
      "13:19:55.155 DEBUG org.hibernate.SQL - insert into CUSTOMER (birthDate,creationDate,email,firstname,lastname,photo,status,version,ID) values (?,?,?,?,?,?,?,?,?)\n"
     ]
    },
    {
     "name": "stdout",
     "output_type": "stream",
     "text": [
      "13:19:55.155 DEBUG org.hibernate.SQL - select count(*)>0 from CUSTOMER c1_0 where c1_0.email=?\n"
     ]
    },
    {
     "name": "stdout",
     "output_type": "stream",
     "text": [
      "13:19:55.156 DEBUG org.hibernate.SQL - insert into CUSTOMER (birthDate,creationDate,email,firstname,lastname,photo,status,version,ID) values (?,?,?,?,?,?,?,?,?)\n"
     ]
    },
    {
     "name": "stdout",
     "output_type": "stream",
     "text": [
      "13:19:55.156 DEBUG org.hibernate.SQL - select count(*)>0 from CUSTOMER c1_0 where c1_0.email=?\n"
     ]
    },
    {
     "name": "stdout",
     "output_type": "stream",
     "text": [
      "13:19:55.157 DEBUG org.hibernate.SQL - insert into CUSTOMER (birthDate,creationDate,email,firstname,lastname,photo,status,version,ID) values (?,?,?,?,?,?,?,?,?)\n"
     ]
    },
    {
     "name": "stdout",
     "output_type": "stream",
     "text": [
      "13:19:55.157 DEBUG org.hibernate.SQL - select count(*)>0 from CUSTOMER c1_0 where c1_0.email=?\n"
     ]
    },
    {
     "name": "stdout",
     "output_type": "stream",
     "text": [
      "13:19:55.158 DEBUG org.hibernate.SQL - insert into CUSTOMER (birthDate,creationDate,email,firstname,lastname,photo,status,version,ID) values (?,?,?,?,?,?,?,?,?)\n"
     ]
    },
    {
     "name": "stdout",
     "output_type": "stream",
     "text": [
      "13:19:55.158 DEBUG org.hibernate.SQL - select count(*)>0 from CUSTOMER c1_0 where c1_0.email=?\n"
     ]
    },
    {
     "name": "stdout",
     "output_type": "stream",
     "text": [
      "13:19:55.159 DEBUG org.hibernate.SQL - insert into CUSTOMER (birthDate,creationDate,email,firstname,lastname,photo,status,version,ID) values (?,?,?,?,?,?,?,?,?)\n"
     ]
    },
    {
     "name": "stdout",
     "output_type": "stream",
     "text": [
      "13:19:55.159 DEBUG org.hibernate.SQL - select count(*)>0 from CUSTOMER c1_0 where c1_0.email=?\n"
     ]
    },
    {
     "name": "stdout",
     "output_type": "stream",
     "text": [
      "13:19:55.160 DEBUG org.hibernate.SQL - insert into CUSTOMER (birthDate,creationDate,email,firstname,lastname,photo,status,version,ID) values (?,?,?,?,?,?,?,?,?)\n"
     ]
    },
    {
     "name": "stdout",
     "output_type": "stream",
     "text": [
      "13:19:55.160 DEBUG org.hibernate.SQL - select count(*)>0 from CUSTOMER c1_0 where c1_0.email=?\n"
     ]
    },
    {
     "name": "stdout",
     "output_type": "stream",
     "text": [
      "13:19:55.161 DEBUG org.hibernate.SQL - insert into CUSTOMER (birthDate,creationDate,email,firstname,lastname,photo,status,version,ID) values (?,?,?,?,?,?,?,?,?)\n"
     ]
    },
    {
     "name": "stdout",
     "output_type": "stream",
     "text": [
      "13:19:55.161 DEBUG org.hibernate.SQL - select count(*)>0 from CUSTOMER c1_0 where c1_0.email=?\n"
     ]
    },
    {
     "name": "stdout",
     "output_type": "stream",
     "text": [
      "13:19:55.163 DEBUG org.hibernate.SQL - insert into CUSTOMER (birthDate,creationDate,email,firstname,lastname,photo,status,version,ID) values (?,?,?,?,?,?,?,?,?)\n"
     ]
    },
    {
     "name": "stdout",
     "output_type": "stream",
     "text": [
      "13:19:55.164 DEBUG org.hibernate.SQL - select count(*)>0 from CUSTOMER c1_0 where c1_0.email=?\n"
     ]
    },
    {
     "name": "stdout",
     "output_type": "stream",
     "text": [
      "13:19:55.166 DEBUG org.hibernate.SQL - insert into CUSTOMER (birthDate,creationDate,email,firstname,lastname,photo,status,version,ID) values (?,?,?,?,?,?,?,?,?)\n"
     ]
    },
    {
     "name": "stdout",
     "output_type": "stream",
     "text": [
      "13:19:55.167 DEBUG org.hibernate.SQL - select count(*)>0 from CUSTOMER c1_0 where c1_0.email=?\n"
     ]
    },
    {
     "name": "stdout",
     "output_type": "stream",
     "text": [
      "13:19:55.169 DEBUG org.hibernate.SQL - insert into CUSTOMER (birthDate,creationDate,email,firstname,lastname,photo,status,version,ID) values (?,?,?,?,?,?,?,?,?)\n"
     ]
    },
    {
     "name": "stdout",
     "output_type": "stream",
     "text": [
      "13:19:55.171 DEBUG org.hibernate.SQL - select count(*)>0 from CUSTOMER c1_0 where c1_0.email=?\n"
     ]
    },
    {
     "name": "stdout",
     "output_type": "stream",
     "text": [
      "13:19:55.173 DEBUG org.hibernate.SQL - insert into CUSTOMER (birthDate,creationDate,email,firstname,lastname,photo,status,version,ID) values (?,?,?,?,?,?,?,?,?)\n"
     ]
    },
    {
     "name": "stdout",
     "output_type": "stream",
     "text": [
      "13:19:55.174 DEBUG org.hibernate.SQL - select count(*)>0 from CUSTOMER c1_0 where c1_0.email=?\n"
     ]
    },
    {
     "name": "stdout",
     "output_type": "stream",
     "text": [
      "13:19:55.176 DEBUG org.hibernate.SQL - insert into CUSTOMER (birthDate,creationDate,email,firstname,lastname,photo,status,version,ID) values (?,?,?,?,?,?,?,?,?)\n"
     ]
    },
    {
     "name": "stdout",
     "output_type": "stream",
     "text": [
      "13:19:55.177 DEBUG org.hibernate.SQL - select count(*)>0 from CUSTOMER c1_0 where c1_0.email=?\n"
     ]
    },
    {
     "name": "stdout",
     "output_type": "stream",
     "text": [
      "13:19:55.178 DEBUG org.hibernate.SQL - insert into CUSTOMER (birthDate,creationDate,email,firstname,lastname,photo,status,version,ID) values (?,?,?,?,?,?,?,?,?)\n"
     ]
    },
    {
     "name": "stdout",
     "output_type": "stream",
     "text": [
      "13:19:55.178 DEBUG org.hibernate.SQL - select count(*)>0 from CUSTOMER c1_0 where c1_0.email=?\n"
     ]
    },
    {
     "name": "stdout",
     "output_type": "stream",
     "text": [
      "13:19:55.179 DEBUG org.hibernate.SQL - insert into CUSTOMER (birthDate,creationDate,email,firstname,lastname,photo,status,version,ID) values (?,?,?,?,?,?,?,?,?)\n"
     ]
    },
    {
     "name": "stdout",
     "output_type": "stream",
     "text": [
      "13:19:55.180 DEBUG org.hibernate.SQL - select count(*)>0 from CUSTOMER c1_0 where c1_0.email=?\n"
     ]
    },
    {
     "name": "stdout",
     "output_type": "stream",
     "text": [
      "13:19:55.181 DEBUG org.hibernate.SQL - insert into CUSTOMER (birthDate,creationDate,email,firstname,lastname,photo,status,version,ID) values (?,?,?,?,?,?,?,?,?)\n"
     ]
    },
    {
     "name": "stdout",
     "output_type": "stream",
     "text": [
      "13:19:55.181 DEBUG org.hibernate.SQL - select count(*)>0 from CUSTOMER c1_0 where c1_0.email=?\n"
     ]
    },
    {
     "name": "stdout",
     "output_type": "stream",
     "text": [
      "13:19:55.182 DEBUG org.hibernate.SQL - insert into CUSTOMER (birthDate,creationDate,email,firstname,lastname,photo,status,version,ID) values (?,?,?,?,?,?,?,?,?)\n"
     ]
    },
    {
     "name": "stdout",
     "output_type": "stream",
     "text": [
      "13:19:55.183 DEBUG org.hibernate.SQL - select count(*)>0 from CUSTOMER c1_0 where c1_0.email=?\n"
     ]
    },
    {
     "name": "stdout",
     "output_type": "stream",
     "text": [
      "13:19:55.185 DEBUG org.hibernate.SQL - insert into CUSTOMER (birthDate,creationDate,email,firstname,lastname,photo,status,version,ID) values (?,?,?,?,?,?,?,?,?)\n"
     ]
    },
    {
     "name": "stdout",
     "output_type": "stream",
     "text": [
      "13:19:55.186 DEBUG org.hibernate.SQL - select count(*)>0 from CUSTOMER c1_0 where c1_0.email=?\n"
     ]
    },
    {
     "name": "stdout",
     "output_type": "stream",
     "text": [
      "13:19:55.186 DEBUG org.hibernate.SQL - select nextval('CUSTOMER_SEQ')\n"
     ]
    },
    {
     "name": "stdout",
     "output_type": "stream",
     "text": [
      "13:19:55.187 DEBUG org.hibernate.SQL - insert into CUSTOMER (birthDate,creationDate,email,firstname,lastname,photo,status,version,ID) values (?,?,?,?,?,?,?,?,?)\n"
     ]
    },
    {
     "name": "stdout",
     "output_type": "stream",
     "text": [
      "13:19:55.187 DEBUG org.hibernate.SQL - select count(*)>0 from CUSTOMER c1_0 where c1_0.email=?\n"
     ]
    },
    {
     "name": "stdout",
     "output_type": "stream",
     "text": [
      "13:19:55.188 DEBUG org.hibernate.SQL - insert into CUSTOMER (birthDate,creationDate,email,firstname,lastname,photo,status,version,ID) values (?,?,?,?,?,?,?,?,?)\n"
     ]
    },
    {
     "name": "stdout",
     "output_type": "stream",
     "text": [
      "13:19:55.188 DEBUG org.hibernate.SQL - select count(*)>0 from CUSTOMER c1_0 where c1_0.email=?\n"
     ]
    },
    {
     "name": "stdout",
     "output_type": "stream",
     "text": [
      "13:19:55.190 DEBUG org.hibernate.SQL - insert into CUSTOMER (birthDate,creationDate,email,firstname,lastname,photo,status,version,ID) values (?,?,?,?,?,?,?,?,?)\n"
     ]
    },
    {
     "name": "stdout",
     "output_type": "stream",
     "text": [
      "13:19:55.191 DEBUG org.hibernate.SQL - select count(*)>0 from CUSTOMER c1_0 where c1_0.email=?\n"
     ]
    },
    {
     "name": "stdout",
     "output_type": "stream",
     "text": [
      "13:19:55.192 DEBUG org.hibernate.SQL - insert into CUSTOMER (birthDate,creationDate,email,firstname,lastname,photo,status,version,ID) values (?,?,?,?,?,?,?,?,?)\n"
     ]
    },
    {
     "name": "stdout",
     "output_type": "stream",
     "text": [
      "13:19:55.192 DEBUG org.hibernate.SQL - select count(*)>0 from CUSTOMER c1_0 where c1_0.email=?\n"
     ]
    },
    {
     "name": "stdout",
     "output_type": "stream",
     "text": [
      "13:19:55.193 DEBUG org.hibernate.SQL - insert into CUSTOMER (birthDate,creationDate,email,firstname,lastname,photo,status,version,ID) values (?,?,?,?,?,?,?,?,?)\n"
     ]
    },
    {
     "name": "stdout",
     "output_type": "stream",
     "text": [
      "13:19:55.194 DEBUG org.hibernate.SQL - select count(*)>0 from CUSTOMER c1_0 where c1_0.email=?\n"
     ]
    },
    {
     "name": "stdout",
     "output_type": "stream",
     "text": [
      "13:19:55.194 DEBUG org.hibernate.SQL - insert into CUSTOMER (birthDate,creationDate,email,firstname,lastname,photo,status,version,ID) values (?,?,?,?,?,?,?,?,?)\n"
     ]
    },
    {
     "name": "stdout",
     "output_type": "stream",
     "text": [
      "13:19:55.195 DEBUG org.hibernate.SQL - select count(*)>0 from CUSTOMER c1_0 where c1_0.email=?\n"
     ]
    },
    {
     "name": "stdout",
     "output_type": "stream",
     "text": [
      "13:19:55.196 DEBUG org.hibernate.SQL - insert into CUSTOMER (birthDate,creationDate,email,firstname,lastname,photo,status,version,ID) values (?,?,?,?,?,?,?,?,?)\n"
     ]
    },
    {
     "name": "stdout",
     "output_type": "stream",
     "text": [
      "13:19:55.196 DEBUG org.hibernate.SQL - select count(*)>0 from CUSTOMER c1_0 where c1_0.email=?\n"
     ]
    },
    {
     "name": "stdout",
     "output_type": "stream",
     "text": [
      "13:19:55.197 DEBUG org.hibernate.SQL - insert into CUSTOMER (birthDate,creationDate,email,firstname,lastname,photo,status,version,ID) values (?,?,?,?,?,?,?,?,?)\n"
     ]
    },
    {
     "name": "stdout",
     "output_type": "stream",
     "text": [
      "13:19:55.198 DEBUG org.hibernate.SQL - select count(*)>0 from CUSTOMER c1_0 where c1_0.email=?\n"
     ]
    },
    {
     "name": "stdout",
     "output_type": "stream",
     "text": [
      "13:19:55.198 DEBUG org.hibernate.SQL - insert into CUSTOMER (birthDate,creationDate,email,firstname,lastname,photo,status,version,ID) values (?,?,?,?,?,?,?,?,?)\n"
     ]
    },
    {
     "name": "stdout",
     "output_type": "stream",
     "text": [
      "13:19:55.199 DEBUG org.hibernate.SQL - select count(*)>0 from CUSTOMER c1_0 where c1_0.email=?\n"
     ]
    },
    {
     "name": "stdout",
     "output_type": "stream",
     "text": [
      "13:19:55.199 DEBUG org.hibernate.SQL - insert into CUSTOMER (birthDate,creationDate,email,firstname,lastname,photo,status,version,ID) values (?,?,?,?,?,?,?,?,?)\n"
     ]
    },
    {
     "name": "stdout",
     "output_type": "stream",
     "text": [
      "13:19:55.200 DEBUG org.hibernate.SQL - select count(*)>0 from CUSTOMER c1_0 where c1_0.email=?\n"
     ]
    },
    {
     "name": "stdout",
     "output_type": "stream",
     "text": [
      "13:19:55.202 DEBUG org.hibernate.SQL - insert into CUSTOMER (birthDate,creationDate,email,firstname,lastname,photo,status,version,ID) values (?,?,?,?,?,?,?,?,?)\n"
     ]
    },
    {
     "name": "stdout",
     "output_type": "stream",
     "text": [
      "13:19:55.205 DEBUG org.hibernate.SQL - select count(*)>0 from CUSTOMER c1_0 where c1_0.email=?\n"
     ]
    },
    {
     "name": "stdout",
     "output_type": "stream",
     "text": [
      "13:19:55.208 DEBUG org.hibernate.SQL - insert into CUSTOMER (birthDate,creationDate,email,firstname,lastname,photo,status,version,ID) values (?,?,?,?,?,?,?,?,?)\n"
     ]
    },
    {
     "name": "stdout",
     "output_type": "stream",
     "text": [
      "13:19:55.209 DEBUG org.hibernate.SQL - select count(*)>0 from CUSTOMER c1_0 where c1_0.email=?\n"
     ]
    },
    {
     "name": "stdout",
     "output_type": "stream",
     "text": [
      "13:19:55.213 DEBUG org.hibernate.SQL - insert into CUSTOMER (birthDate,creationDate,email,firstname,lastname,photo,status,version,ID) values (?,?,?,?,?,?,?,?,?)\n"
     ]
    },
    {
     "name": "stdout",
     "output_type": "stream",
     "text": [
      "13:19:55.223 DEBUG org.hibernate.SQL - select count(*)>0 from CUSTOMER c1_0 where c1_0.email=?\n"
     ]
    },
    {
     "name": "stdout",
     "output_type": "stream",
     "text": [
      "13:19:55.224 DEBUG org.hibernate.SQL - insert into CUSTOMER (birthDate,creationDate,email,firstname,lastname,photo,status,version,ID) values (?,?,?,?,?,?,?,?,?)\n"
     ]
    },
    {
     "name": "stdout",
     "output_type": "stream",
     "text": [
      "13:19:55.225 DEBUG org.hibernate.SQL - select count(*)>0 from CUSTOMER c1_0 where c1_0.email=?\n"
     ]
    },
    {
     "name": "stdout",
     "output_type": "stream",
     "text": [
      "13:19:55.226 DEBUG org.hibernate.SQL - insert into CUSTOMER (birthDate,creationDate,email,firstname,lastname,photo,status,version,ID) values (?,?,?,?,?,?,?,?,?)\n"
     ]
    },
    {
     "name": "stdout",
     "output_type": "stream",
     "text": [
      "13:19:55.226 DEBUG org.hibernate.SQL - select count(*)>0 from CUSTOMER c1_0 where c1_0.email=?\n"
     ]
    },
    {
     "name": "stdout",
     "output_type": "stream",
     "text": [
      "13:19:55.231 DEBUG org.hibernate.SQL - insert into CUSTOMER (birthDate,creationDate,email,firstname,lastname,photo,status,version,ID) values (?,?,?,?,?,?,?,?,?)\n"
     ]
    },
    {
     "name": "stdout",
     "output_type": "stream",
     "text": [
      "13:19:55.236 DEBUG org.hibernate.SQL - select count(*)>0 from CUSTOMER c1_0 where c1_0.email=?\n"
     ]
    },
    {
     "name": "stdout",
     "output_type": "stream",
     "text": [
      "13:19:55.240 DEBUG org.hibernate.SQL - insert into CUSTOMER (birthDate,creationDate,email,firstname,lastname,photo,status,version,ID) values (?,?,?,?,?,?,?,?,?)\n"
     ]
    },
    {
     "name": "stdout",
     "output_type": "stream",
     "text": [
      "13:19:55.242 DEBUG org.hibernate.SQL - select count(*)>0 from CUSTOMER c1_0 where c1_0.email=?\n"
     ]
    },
    {
     "name": "stdout",
     "output_type": "stream",
     "text": [
      "13:19:55.245 DEBUG org.hibernate.SQL - insert into CUSTOMER (birthDate,creationDate,email,firstname,lastname,photo,status,version,ID) values (?,?,?,?,?,?,?,?,?)\n"
     ]
    },
    {
     "name": "stdout",
     "output_type": "stream",
     "text": [
      "13:19:55.246 DEBUG org.hibernate.SQL - select count(*)>0 from CUSTOMER c1_0 where c1_0.email=?\n"
     ]
    },
    {
     "name": "stdout",
     "output_type": "stream",
     "text": [
      "13:19:55.249 DEBUG org.hibernate.SQL - insert into CUSTOMER (birthDate,creationDate,email,firstname,lastname,photo,status,version,ID) values (?,?,?,?,?,?,?,?,?)\n"
     ]
    },
    {
     "name": "stdout",
     "output_type": "stream",
     "text": [
      "13:19:55.254 DEBUG org.hibernate.SQL - select count(*)>0 from CUSTOMER c1_0 where c1_0.email=?\n"
     ]
    },
    {
     "name": "stdout",
     "output_type": "stream",
     "text": [
      "13:19:55.258 DEBUG org.hibernate.SQL - insert into CUSTOMER (birthDate,creationDate,email,firstname,lastname,photo,status,version,ID) values (?,?,?,?,?,?,?,?,?)\n"
     ]
    },
    {
     "name": "stdout",
     "output_type": "stream",
     "text": [
      "13:19:55.259 DEBUG org.hibernate.SQL - select count(*)>0 from CUSTOMER c1_0 where c1_0.email=?\n"
     ]
    },
    {
     "name": "stdout",
     "output_type": "stream",
     "text": [
      "13:19:55.261 DEBUG org.hibernate.SQL - insert into CUSTOMER (birthDate,creationDate,email,firstname,lastname,photo,status,version,ID) values (?,?,?,?,?,?,?,?,?)\n"
     ]
    },
    {
     "name": "stdout",
     "output_type": "stream",
     "text": [
      "13:19:55.262 DEBUG org.hibernate.SQL - select count(*)>0 from CUSTOMER c1_0 where c1_0.email=?\n"
     ]
    },
    {
     "name": "stdout",
     "output_type": "stream",
     "text": [
      "13:19:55.264 DEBUG org.hibernate.SQL - insert into CUSTOMER (birthDate,creationDate,email,firstname,lastname,photo,status,version,ID) values (?,?,?,?,?,?,?,?,?)\n"
     ]
    },
    {
     "name": "stdout",
     "output_type": "stream",
     "text": [
      "13:19:55.266 DEBUG org.hibernate.SQL - select count(*)>0 from CUSTOMER c1_0 where c1_0.email=?\n"
     ]
    },
    {
     "name": "stdout",
     "output_type": "stream",
     "text": [
      "13:19:55.269 DEBUG org.hibernate.SQL - insert into CUSTOMER (birthDate,creationDate,email,firstname,lastname,photo,status,version,ID) values (?,?,?,?,?,?,?,?,?)\n"
     ]
    },
    {
     "name": "stdout",
     "output_type": "stream",
     "text": [
      "13:19:55.270 DEBUG org.hibernate.SQL - select count(*)>0 from CUSTOMER c1_0 where c1_0.email=?\n"
     ]
    },
    {
     "name": "stdout",
     "output_type": "stream",
     "text": [
      "13:19:55.271 DEBUG org.hibernate.SQL - insert into CUSTOMER (birthDate,creationDate,email,firstname,lastname,photo,status,version,ID) values (?,?,?,?,?,?,?,?,?)\n"
     ]
    },
    {
     "name": "stdout",
     "output_type": "stream",
     "text": [
      "13:19:55.272 DEBUG org.hibernate.SQL - select count(*)>0 from CUSTOMER c1_0 where c1_0.email=?\n"
     ]
    },
    {
     "name": "stdout",
     "output_type": "stream",
     "text": [
      "13:19:55.272 DEBUG org.hibernate.SQL - insert into CUSTOMER (birthDate,creationDate,email,firstname,lastname,photo,status,version,ID) values (?,?,?,?,?,?,?,?,?)\n"
     ]
    },
    {
     "name": "stdout",
     "output_type": "stream",
     "text": [
      "13:19:55.273 DEBUG org.hibernate.SQL - select count(*)>0 from CUSTOMER c1_0 where c1_0.email=?\n"
     ]
    },
    {
     "name": "stdout",
     "output_type": "stream",
     "text": [
      "13:19:55.275 DEBUG org.hibernate.SQL - insert into CUSTOMER (birthDate,creationDate,email,firstname,lastname,photo,status,version,ID) values (?,?,?,?,?,?,?,?,?)\n"
     ]
    },
    {
     "name": "stdout",
     "output_type": "stream",
     "text": [
      "13:19:55.276 DEBUG org.hibernate.SQL - select count(*)>0 from CUSTOMER c1_0 where c1_0.email=?\n"
     ]
    },
    {
     "name": "stdout",
     "output_type": "stream",
     "text": [
      "13:19:55.279 DEBUG org.hibernate.SQL - insert into CUSTOMER (birthDate,creationDate,email,firstname,lastname,photo,status,version,ID) values (?,?,?,?,?,?,?,?,?)\n"
     ]
    },
    {
     "name": "stdout",
     "output_type": "stream",
     "text": [
      "13:19:55.280 DEBUG org.hibernate.SQL - select count(*)>0 from CUSTOMER c1_0 where c1_0.email=?\n"
     ]
    },
    {
     "name": "stdout",
     "output_type": "stream",
     "text": [
      "13:19:55.286 DEBUG org.hibernate.SQL - insert into CUSTOMER (birthDate,creationDate,email,firstname,lastname,photo,status,version,ID) values (?,?,?,?,?,?,?,?,?)\n"
     ]
    },
    {
     "name": "stdout",
     "output_type": "stream",
     "text": [
      "13:19:55.287 DEBUG org.hibernate.SQL - select count(*)>0 from CUSTOMER c1_0 where c1_0.email=?\n"
     ]
    },
    {
     "name": "stdout",
     "output_type": "stream",
     "text": [
      "13:19:55.288 DEBUG org.hibernate.SQL - insert into CUSTOMER (birthDate,creationDate,email,firstname,lastname,photo,status,version,ID) values (?,?,?,?,?,?,?,?,?)\n"
     ]
    },
    {
     "name": "stdout",
     "output_type": "stream",
     "text": [
      "13:19:55.288 DEBUG org.hibernate.SQL - select count(*)>0 from CUSTOMER c1_0 where c1_0.email=?\n"
     ]
    },
    {
     "name": "stdout",
     "output_type": "stream",
     "text": [
      "13:19:55.289 DEBUG org.hibernate.SQL - insert into CUSTOMER (birthDate,creationDate,email,firstname,lastname,photo,status,version,ID) values (?,?,?,?,?,?,?,?,?)\n"
     ]
    },
    {
     "name": "stdout",
     "output_type": "stream",
     "text": [
      "13:19:55.289 DEBUG org.hibernate.SQL - select count(*)>0 from CUSTOMER c1_0 where c1_0.email=?\n"
     ]
    },
    {
     "name": "stdout",
     "output_type": "stream",
     "text": [
      "13:19:55.290 DEBUG org.hibernate.SQL - insert into CUSTOMER (birthDate,creationDate,email,firstname,lastname,photo,status,version,ID) values (?,?,?,?,?,?,?,?,?)\n"
     ]
    },
    {
     "name": "stdout",
     "output_type": "stream",
     "text": [
      "13:19:55.290 DEBUG org.hibernate.SQL - select count(*)>0 from CUSTOMER c1_0 where c1_0.email=?\n"
     ]
    },
    {
     "name": "stdout",
     "output_type": "stream",
     "text": [
      "13:19:55.291 DEBUG org.hibernate.SQL - insert into CUSTOMER (birthDate,creationDate,email,firstname,lastname,photo,status,version,ID) values (?,?,?,?,?,?,?,?,?)\n"
     ]
    },
    {
     "name": "stdout",
     "output_type": "stream",
     "text": [
      "13:19:55.291 DEBUG org.hibernate.SQL - select count(*)>0 from CUSTOMER c1_0 where c1_0.email=?\n"
     ]
    },
    {
     "name": "stdout",
     "output_type": "stream",
     "text": [
      "13:19:55.292 DEBUG org.hibernate.SQL - insert into CUSTOMER (birthDate,creationDate,email,firstname,lastname,photo,status,version,ID) values (?,?,?,?,?,?,?,?,?)\n"
     ]
    },
    {
     "name": "stdout",
     "output_type": "stream",
     "text": [
      "13:19:55.293 DEBUG org.hibernate.SQL - select count(*)>0 from CUSTOMER c1_0 where c1_0.email=?\n"
     ]
    },
    {
     "name": "stdout",
     "output_type": "stream",
     "text": [
      "13:19:55.294 DEBUG org.hibernate.SQL - insert into CUSTOMER (birthDate,creationDate,email,firstname,lastname,photo,status,version,ID) values (?,?,?,?,?,?,?,?,?)\n"
     ]
    },
    {
     "name": "stdout",
     "output_type": "stream",
     "text": [
      "13:19:55.296 DEBUG org.hibernate.SQL - select count(*)>0 from CUSTOMER c1_0 where c1_0.email=?\n"
     ]
    },
    {
     "name": "stdout",
     "output_type": "stream",
     "text": [
      "13:19:55.302 DEBUG org.hibernate.SQL - insert into CUSTOMER (birthDate,creationDate,email,firstname,lastname,photo,status,version,ID) values (?,?,?,?,?,?,?,?,?)\n"
     ]
    },
    {
     "name": "stdout",
     "output_type": "stream",
     "text": [
      "13:19:55.303 DEBUG org.hibernate.SQL - select count(*)>0 from CUSTOMER c1_0 where c1_0.email=?\n"
     ]
    },
    {
     "name": "stdout",
     "output_type": "stream",
     "text": [
      "13:19:55.306 DEBUG org.hibernate.SQL - insert into CUSTOMER (birthDate,creationDate,email,firstname,lastname,photo,status,version,ID) values (?,?,?,?,?,?,?,?,?)\n"
     ]
    },
    {
     "name": "stdout",
     "output_type": "stream",
     "text": [
      "13:19:55.307 DEBUG org.hibernate.SQL - select count(*)>0 from CUSTOMER c1_0 where c1_0.email=?\n"
     ]
    },
    {
     "name": "stdout",
     "output_type": "stream",
     "text": [
      "13:19:55.309 DEBUG org.hibernate.SQL - insert into CUSTOMER (birthDate,creationDate,email,firstname,lastname,photo,status,version,ID) values (?,?,?,?,?,?,?,?,?)\n"
     ]
    },
    {
     "name": "stdout",
     "output_type": "stream",
     "text": [
      "13:19:55.311 DEBUG org.hibernate.SQL - select count(*)>0 from CUSTOMER c1_0 where c1_0.email=?\n"
     ]
    },
    {
     "name": "stdout",
     "output_type": "stream",
     "text": [
      "13:19:55.313 DEBUG org.hibernate.SQL - insert into CUSTOMER (birthDate,creationDate,email,firstname,lastname,photo,status,version,ID) values (?,?,?,?,?,?,?,?,?)\n"
     ]
    },
    {
     "name": "stdout",
     "output_type": "stream",
     "text": [
      "13:19:55.314 DEBUG org.hibernate.SQL - select count(*)>0 from CUSTOMER c1_0 where c1_0.email=?\n"
     ]
    },
    {
     "name": "stdout",
     "output_type": "stream",
     "text": [
      "13:19:55.316 DEBUG org.hibernate.SQL - insert into CUSTOMER (birthDate,creationDate,email,firstname,lastname,photo,status,version,ID) values (?,?,?,?,?,?,?,?,?)\n"
     ]
    },
    {
     "name": "stdout",
     "output_type": "stream",
     "text": [
      "13:19:55.317 DEBUG org.hibernate.SQL - select count(*)>0 from CUSTOMER c1_0 where c1_0.email=?\n"
     ]
    },
    {
     "name": "stdout",
     "output_type": "stream",
     "text": [
      "13:19:55.319 DEBUG org.hibernate.SQL - insert into CUSTOMER (birthDate,creationDate,email,firstname,lastname,photo,status,version,ID) values (?,?,?,?,?,?,?,?,?)\n"
     ]
    },
    {
     "name": "stdout",
     "output_type": "stream",
     "text": [
      "13:19:55.320 DEBUG org.hibernate.SQL - select count(*)>0 from CUSTOMER c1_0 where c1_0.email=?\n"
     ]
    },
    {
     "name": "stdout",
     "output_type": "stream",
     "text": [
      "13:19:55.321 DEBUG org.hibernate.SQL - insert into CUSTOMER (birthDate,creationDate,email,firstname,lastname,photo,status,version,ID) values (?,?,?,?,?,?,?,?,?)\n"
     ]
    },
    {
     "name": "stdout",
     "output_type": "stream",
     "text": [
      "13:19:55.322 DEBUG org.hibernate.SQL - select count(*)>0 from CUSTOMER c1_0 where c1_0.email=?\n"
     ]
    },
    {
     "name": "stdout",
     "output_type": "stream",
     "text": [
      "13:19:55.323 DEBUG org.hibernate.SQL - insert into CUSTOMER (birthDate,creationDate,email,firstname,lastname,photo,status,version,ID) values (?,?,?,?,?,?,?,?,?)\n"
     ]
    },
    {
     "name": "stdout",
     "output_type": "stream",
     "text": [
      "13:19:55.323 DEBUG org.hibernate.SQL - select count(*)>0 from CUSTOMER c1_0 where c1_0.email=?\n"
     ]
    },
    {
     "name": "stdout",
     "output_type": "stream",
     "text": [
      "13:19:55.324 DEBUG org.hibernate.SQL - insert into CUSTOMER (birthDate,creationDate,email,firstname,lastname,photo,status,version,ID) values (?,?,?,?,?,?,?,?,?)\n"
     ]
    },
    {
     "name": "stdout",
     "output_type": "stream",
     "text": [
      "13:19:55.324 DEBUG org.hibernate.SQL - select count(*)>0 from CUSTOMER c1_0 where c1_0.email=?\n"
     ]
    },
    {
     "name": "stdout",
     "output_type": "stream",
     "text": [
      "13:19:55.325 DEBUG org.hibernate.SQL - insert into CUSTOMER (birthDate,creationDate,email,firstname,lastname,photo,status,version,ID) values (?,?,?,?,?,?,?,?,?)\n"
     ]
    },
    {
     "name": "stdout",
     "output_type": "stream",
     "text": [
      "13:19:55.326 DEBUG org.hibernate.SQL - select count(*)>0 from CUSTOMER c1_0 where c1_0.email=?\n"
     ]
    },
    {
     "name": "stdout",
     "output_type": "stream",
     "text": [
      "13:19:55.326 DEBUG org.hibernate.SQL - insert into CUSTOMER (birthDate,creationDate,email,firstname,lastname,photo,status,version,ID) values (?,?,?,?,?,?,?,?,?)\n"
     ]
    },
    {
     "name": "stdout",
     "output_type": "stream",
     "text": [
      "13:19:55.327 DEBUG org.hibernate.SQL - select count(*)>0 from CUSTOMER c1_0 where c1_0.email=?\n"
     ]
    },
    {
     "name": "stdout",
     "output_type": "stream",
     "text": [
      "13:19:55.327 DEBUG org.hibernate.SQL - insert into CUSTOMER (birthDate,creationDate,email,firstname,lastname,photo,status,version,ID) values (?,?,?,?,?,?,?,?,?)\n"
     ]
    },
    {
     "name": "stdout",
     "output_type": "stream",
     "text": [
      "13:19:55.328 DEBUG org.hibernate.SQL - select count(*)>0 from CUSTOMER c1_0 where c1_0.email=?\n"
     ]
    },
    {
     "name": "stdout",
     "output_type": "stream",
     "text": [
      "13:19:55.329 DEBUG org.hibernate.SQL - insert into CUSTOMER (birthDate,creationDate,email,firstname,lastname,photo,status,version,ID) values (?,?,?,?,?,?,?,?,?)\n"
     ]
    },
    {
     "name": "stdout",
     "output_type": "stream",
     "text": [
      "13:19:55.329 DEBUG org.hibernate.SQL - select count(*)>0 from CUSTOMER c1_0 where c1_0.email=?\n"
     ]
    },
    {
     "name": "stdout",
     "output_type": "stream",
     "text": [
      "13:19:55.330 DEBUG org.hibernate.SQL - insert into CUSTOMER (birthDate,creationDate,email,firstname,lastname,photo,status,version,ID) values (?,?,?,?,?,?,?,?,?)\n"
     ]
    },
    {
     "name": "stdout",
     "output_type": "stream",
     "text": [
      "13:19:55.330 DEBUG org.hibernate.SQL - select count(*)>0 from CUSTOMER c1_0 where c1_0.email=?\n"
     ]
    },
    {
     "name": "stdout",
     "output_type": "stream",
     "text": [
      "13:19:55.331 DEBUG org.hibernate.SQL - insert into CUSTOMER (birthDate,creationDate,email,firstname,lastname,photo,status,version,ID) values (?,?,?,?,?,?,?,?,?)\n"
     ]
    },
    {
     "name": "stdout",
     "output_type": "stream",
     "text": [
      "13:19:55.331 DEBUG org.hibernate.SQL - select count(*)>0 from CUSTOMER c1_0 where c1_0.email=?\n"
     ]
    },
    {
     "name": "stdout",
     "output_type": "stream",
     "text": [
      "13:19:55.333 DEBUG org.hibernate.SQL - insert into CUSTOMER (birthDate,creationDate,email,firstname,lastname,photo,status,version,ID) values (?,?,?,?,?,?,?,?,?)\n"
     ]
    },
    {
     "name": "stdout",
     "output_type": "stream",
     "text": [
      "13:19:55.334 DEBUG org.hibernate.SQL - select count(*)>0 from CUSTOMER c1_0 where c1_0.email=?\n"
     ]
    },
    {
     "name": "stdout",
     "output_type": "stream",
     "text": [
      "13:19:55.335 DEBUG org.hibernate.SQL - select nextval('CUSTOMER_SEQ')\n"
     ]
    },
    {
     "name": "stdout",
     "output_type": "stream",
     "text": [
      "13:19:55.336 DEBUG org.hibernate.SQL - insert into CUSTOMER (birthDate,creationDate,email,firstname,lastname,photo,status,version,ID) values (?,?,?,?,?,?,?,?,?)\n"
     ]
    },
    {
     "name": "stdout",
     "output_type": "stream",
     "text": [
      "13:19:55.336 DEBUG org.hibernate.SQL - select count(*)>0 from CUSTOMER c1_0 where c1_0.email=?\n"
     ]
    },
    {
     "name": "stdout",
     "output_type": "stream",
     "text": [
      "13:19:55.337 DEBUG org.hibernate.SQL - insert into CUSTOMER (birthDate,creationDate,email,firstname,lastname,photo,status,version,ID) values (?,?,?,?,?,?,?,?,?)\n"
     ]
    },
    {
     "name": "stdout",
     "output_type": "stream",
     "text": [
      "13:19:55.338 DEBUG org.hibernate.SQL - select count(*)>0 from CUSTOMER c1_0 where c1_0.email=?\n"
     ]
    },
    {
     "name": "stdout",
     "output_type": "stream",
     "text": [
      "13:19:55.339 DEBUG org.hibernate.SQL - insert into CUSTOMER (birthDate,creationDate,email,firstname,lastname,photo,status,version,ID) values (?,?,?,?,?,?,?,?,?)\n"
     ]
    },
    {
     "name": "stdout",
     "output_type": "stream",
     "text": [
      "13:19:55.339 DEBUG org.hibernate.SQL - select count(*)>0 from CUSTOMER c1_0 where c1_0.email=?\n"
     ]
    },
    {
     "name": "stdout",
     "output_type": "stream",
     "text": [
      "13:19:55.340 DEBUG org.hibernate.SQL - insert into CUSTOMER (birthDate,creationDate,email,firstname,lastname,photo,status,version,ID) values (?,?,?,?,?,?,?,?,?)\n"
     ]
    },
    {
     "name": "stdout",
     "output_type": "stream",
     "text": [
      "13:19:55.340 DEBUG org.hibernate.SQL - select count(*)>0 from CUSTOMER c1_0 where c1_0.email=?\n"
     ]
    },
    {
     "name": "stdout",
     "output_type": "stream",
     "text": [
      "13:19:55.340 DEBUG org.hibernate.SQL - insert into CUSTOMER (birthDate,creationDate,email,firstname,lastname,photo,status,version,ID) values (?,?,?,?,?,?,?,?,?)\n"
     ]
    },
    {
     "name": "stdout",
     "output_type": "stream",
     "text": [
      "13:19:55.341 DEBUG org.hibernate.SQL - select count(*)>0 from CUSTOMER c1_0 where c1_0.email=?\n"
     ]
    },
    {
     "name": "stdout",
     "output_type": "stream",
     "text": [
      "13:19:55.341 DEBUG org.hibernate.SQL - insert into CUSTOMER (birthDate,creationDate,email,firstname,lastname,photo,status,version,ID) values (?,?,?,?,?,?,?,?,?)\n"
     ]
    },
    {
     "name": "stdout",
     "output_type": "stream",
     "text": [
      "13:19:55.341 DEBUG org.hibernate.SQL - select count(*)>0 from CUSTOMER c1_0 where c1_0.email=?\n"
     ]
    },
    {
     "name": "stdout",
     "output_type": "stream",
     "text": [
      "13:19:55.342 DEBUG org.hibernate.SQL - insert into CUSTOMER (birthDate,creationDate,email,firstname,lastname,photo,status,version,ID) values (?,?,?,?,?,?,?,?,?)\n"
     ]
    },
    {
     "name": "stdout",
     "output_type": "stream",
     "text": [
      "13:19:55.342 DEBUG org.hibernate.SQL - select count(*)>0 from CUSTOMER c1_0 where c1_0.email=?\n"
     ]
    },
    {
     "name": "stdout",
     "output_type": "stream",
     "text": [
      "13:19:55.343 DEBUG org.hibernate.SQL - insert into CUSTOMER (birthDate,creationDate,email,firstname,lastname,photo,status,version,ID) values (?,?,?,?,?,?,?,?,?)\n"
     ]
    },
    {
     "name": "stdout",
     "output_type": "stream",
     "text": [
      "13:19:55.343 DEBUG org.hibernate.SQL - select count(*)>0 from CUSTOMER c1_0 where c1_0.email=?\n"
     ]
    },
    {
     "name": "stdout",
     "output_type": "stream",
     "text": [
      "13:19:55.344 DEBUG org.hibernate.SQL - insert into CUSTOMER (birthDate,creationDate,email,firstname,lastname,photo,status,version,ID) values (?,?,?,?,?,?,?,?,?)\n"
     ]
    },
    {
     "name": "stdout",
     "output_type": "stream",
     "text": [
      "13:19:55.344 DEBUG org.hibernate.SQL - select count(*)>0 from CUSTOMER c1_0 where c1_0.email=?\n"
     ]
    },
    {
     "name": "stdout",
     "output_type": "stream",
     "text": [
      "13:19:55.345 DEBUG org.hibernate.SQL - insert into CUSTOMER (birthDate,creationDate,email,firstname,lastname,photo,status,version,ID) values (?,?,?,?,?,?,?,?,?)\n"
     ]
    },
    {
     "name": "stdout",
     "output_type": "stream",
     "text": [
      "13:19:55.345 DEBUG org.hibernate.SQL - select count(*)>0 from CUSTOMER c1_0 where c1_0.email=?\n"
     ]
    },
    {
     "name": "stdout",
     "output_type": "stream",
     "text": [
      "13:19:55.346 DEBUG org.hibernate.SQL - insert into CUSTOMER (birthDate,creationDate,email,firstname,lastname,photo,status,version,ID) values (?,?,?,?,?,?,?,?,?)\n"
     ]
    },
    {
     "name": "stdout",
     "output_type": "stream",
     "text": [
      "13:19:55.346 DEBUG org.hibernate.SQL - select count(*)>0 from CUSTOMER c1_0 where c1_0.email=?\n"
     ]
    },
    {
     "name": "stdout",
     "output_type": "stream",
     "text": [
      "13:19:55.346 DEBUG org.hibernate.SQL - insert into CUSTOMER (birthDate,creationDate,email,firstname,lastname,photo,status,version,ID) values (?,?,?,?,?,?,?,?,?)\n"
     ]
    },
    {
     "name": "stdout",
     "output_type": "stream",
     "text": [
      "13:19:55.347 DEBUG org.hibernate.SQL - select count(*)>0 from CUSTOMER c1_0 where c1_0.email=?\n"
     ]
    },
    {
     "name": "stdout",
     "output_type": "stream",
     "text": [
      "13:19:55.347 DEBUG org.hibernate.SQL - insert into CUSTOMER (birthDate,creationDate,email,firstname,lastname,photo,status,version,ID) values (?,?,?,?,?,?,?,?,?)\n"
     ]
    },
    {
     "name": "stdout",
     "output_type": "stream",
     "text": [
      "13:19:55.347 DEBUG org.hibernate.SQL - select count(*)>0 from CUSTOMER c1_0 where c1_0.email=?\n"
     ]
    },
    {
     "name": "stdout",
     "output_type": "stream",
     "text": [
      "13:19:55.348 DEBUG org.hibernate.SQL - insert into CUSTOMER (birthDate,creationDate,email,firstname,lastname,photo,status,version,ID) values (?,?,?,?,?,?,?,?,?)\n"
     ]
    },
    {
     "name": "stdout",
     "output_type": "stream",
     "text": [
      "13:19:55.348 DEBUG org.hibernate.SQL - select count(*)>0 from CUSTOMER c1_0 where c1_0.email=?\n"
     ]
    },
    {
     "name": "stdout",
     "output_type": "stream",
     "text": [
      "13:19:55.349 DEBUG org.hibernate.SQL - insert into CUSTOMER (birthDate,creationDate,email,firstname,lastname,photo,status,version,ID) values (?,?,?,?,?,?,?,?,?)\n"
     ]
    },
    {
     "name": "stdout",
     "output_type": "stream",
     "text": [
      "13:19:55.349 DEBUG org.hibernate.SQL - select count(*)>0 from CUSTOMER c1_0 where c1_0.email=?\n"
     ]
    },
    {
     "name": "stdout",
     "output_type": "stream",
     "text": [
      "13:19:55.349 DEBUG org.hibernate.SQL - insert into CUSTOMER (birthDate,creationDate,email,firstname,lastname,photo,status,version,ID) values (?,?,?,?,?,?,?,?,?)\n"
     ]
    },
    {
     "name": "stdout",
     "output_type": "stream",
     "text": [
      "13:19:55.350 DEBUG org.hibernate.SQL - select count(*)>0 from CUSTOMER c1_0 where c1_0.email=?\n"
     ]
    },
    {
     "name": "stdout",
     "output_type": "stream",
     "text": [
      "13:19:55.350 DEBUG org.hibernate.SQL - insert into CUSTOMER (birthDate,creationDate,email,firstname,lastname,photo,status,version,ID) values (?,?,?,?,?,?,?,?,?)\n"
     ]
    },
    {
     "name": "stdout",
     "output_type": "stream",
     "text": [
      "13:19:55.350 DEBUG org.hibernate.SQL - select count(*)>0 from CUSTOMER c1_0 where c1_0.email=?\n"
     ]
    },
    {
     "name": "stdout",
     "output_type": "stream",
     "text": [
      "13:19:55.351 DEBUG org.hibernate.SQL - insert into CUSTOMER (birthDate,creationDate,email,firstname,lastname,photo,status,version,ID) values (?,?,?,?,?,?,?,?,?)\n"
     ]
    },
    {
     "name": "stdout",
     "output_type": "stream",
     "text": [
      "13:19:55.351 DEBUG org.hibernate.SQL - select count(*)>0 from CUSTOMER c1_0 where c1_0.email=?\n"
     ]
    },
    {
     "name": "stdout",
     "output_type": "stream",
     "text": [
      "13:19:55.351 DEBUG org.hibernate.SQL - insert into CUSTOMER (birthDate,creationDate,email,firstname,lastname,photo,status,version,ID) values (?,?,?,?,?,?,?,?,?)\n"
     ]
    },
    {
     "name": "stdout",
     "output_type": "stream",
     "text": [
      "13:19:55.352 DEBUG org.hibernate.SQL - select count(*)>0 from CUSTOMER c1_0 where c1_0.email=?\n"
     ]
    },
    {
     "name": "stdout",
     "output_type": "stream",
     "text": [
      "13:19:55.352 DEBUG org.hibernate.SQL - insert into CUSTOMER (birthDate,creationDate,email,firstname,lastname,photo,status,version,ID) values (?,?,?,?,?,?,?,?,?)\n"
     ]
    },
    {
     "name": "stdout",
     "output_type": "stream",
     "text": [
      "13:19:55.352 DEBUG org.hibernate.SQL - select count(*)>0 from CUSTOMER c1_0 where c1_0.email=?\n"
     ]
    },
    {
     "name": "stdout",
     "output_type": "stream",
     "text": [
      "13:19:55.353 DEBUG org.hibernate.SQL - insert into CUSTOMER (birthDate,creationDate,email,firstname,lastname,photo,status,version,ID) values (?,?,?,?,?,?,?,?,?)\n"
     ]
    },
    {
     "name": "stdout",
     "output_type": "stream",
     "text": [
      "13:19:55.353 DEBUG org.hibernate.SQL - select count(*)>0 from CUSTOMER c1_0 where c1_0.email=?\n"
     ]
    },
    {
     "name": "stdout",
     "output_type": "stream",
     "text": [
      "13:19:55.354 DEBUG org.hibernate.SQL - insert into CUSTOMER (birthDate,creationDate,email,firstname,lastname,photo,status,version,ID) values (?,?,?,?,?,?,?,?,?)\n"
     ]
    },
    {
     "name": "stdout",
     "output_type": "stream",
     "text": [
      "13:19:55.354 DEBUG org.hibernate.SQL - select count(*)>0 from CUSTOMER c1_0 where c1_0.email=?\n"
     ]
    },
    {
     "name": "stdout",
     "output_type": "stream",
     "text": [
      "13:19:55.354 DEBUG org.hibernate.SQL - insert into CUSTOMER (birthDate,creationDate,email,firstname,lastname,photo,status,version,ID) values (?,?,?,?,?,?,?,?,?)\n"
     ]
    },
    {
     "name": "stdout",
     "output_type": "stream",
     "text": [
      "13:19:55.355 DEBUG org.hibernate.SQL - select count(*)>0 from CUSTOMER c1_0 where c1_0.email=?\n"
     ]
    },
    {
     "name": "stdout",
     "output_type": "stream",
     "text": [
      "13:19:55.355 DEBUG org.hibernate.SQL - insert into CUSTOMER (birthDate,creationDate,email,firstname,lastname,photo,status,version,ID) values (?,?,?,?,?,?,?,?,?)\n"
     ]
    },
    {
     "name": "stdout",
     "output_type": "stream",
     "text": [
      "13:19:55.355 DEBUG org.hibernate.SQL - select count(*)>0 from CUSTOMER c1_0 where c1_0.email=?\n"
     ]
    },
    {
     "name": "stdout",
     "output_type": "stream",
     "text": [
      "13:19:55.356 DEBUG org.hibernate.SQL - insert into CUSTOMER (birthDate,creationDate,email,firstname,lastname,photo,status,version,ID) values (?,?,?,?,?,?,?,?,?)\n"
     ]
    },
    {
     "name": "stdout",
     "output_type": "stream",
     "text": [
      "13:19:55.356 DEBUG org.hibernate.SQL - select count(*)>0 from CUSTOMER c1_0 where c1_0.email=?\n"
     ]
    },
    {
     "name": "stdout",
     "output_type": "stream",
     "text": [
      "13:19:55.356 DEBUG org.hibernate.SQL - insert into CUSTOMER (birthDate,creationDate,email,firstname,lastname,photo,status,version,ID) values (?,?,?,?,?,?,?,?,?)\n"
     ]
    },
    {
     "name": "stdout",
     "output_type": "stream",
     "text": [
      "13:19:55.357 DEBUG org.hibernate.SQL - select count(*)>0 from CUSTOMER c1_0 where c1_0.email=?\n"
     ]
    },
    {
     "name": "stdout",
     "output_type": "stream",
     "text": [
      "13:19:55.357 DEBUG org.hibernate.SQL - insert into CUSTOMER (birthDate,creationDate,email,firstname,lastname,photo,status,version,ID) values (?,?,?,?,?,?,?,?,?)\n"
     ]
    },
    {
     "name": "stdout",
     "output_type": "stream",
     "text": [
      "13:19:55.357 DEBUG org.hibernate.SQL - select count(*)>0 from CUSTOMER c1_0 where c1_0.email=?\n"
     ]
    },
    {
     "name": "stdout",
     "output_type": "stream",
     "text": [
      "13:19:55.358 DEBUG org.hibernate.SQL - insert into CUSTOMER (birthDate,creationDate,email,firstname,lastname,photo,status,version,ID) values (?,?,?,?,?,?,?,?,?)\n"
     ]
    },
    {
     "name": "stdout",
     "output_type": "stream",
     "text": [
      "13:19:55.358 DEBUG org.hibernate.SQL - select count(*)>0 from CUSTOMER c1_0 where c1_0.email=?\n"
     ]
    },
    {
     "name": "stdout",
     "output_type": "stream",
     "text": [
      "13:19:55.359 DEBUG org.hibernate.SQL - insert into CUSTOMER (birthDate,creationDate,email,firstname,lastname,photo,status,version,ID) values (?,?,?,?,?,?,?,?,?)\n"
     ]
    },
    {
     "name": "stdout",
     "output_type": "stream",
     "text": [
      "13:19:55.359 DEBUG org.hibernate.SQL - select count(*)>0 from CUSTOMER c1_0 where c1_0.email=?\n"
     ]
    },
    {
     "name": "stdout",
     "output_type": "stream",
     "text": [
      "13:19:55.359 DEBUG org.hibernate.SQL - insert into CUSTOMER (birthDate,creationDate,email,firstname,lastname,photo,status,version,ID) values (?,?,?,?,?,?,?,?,?)\n"
     ]
    },
    {
     "name": "stdout",
     "output_type": "stream",
     "text": [
      "13:19:55.360 DEBUG org.hibernate.SQL - select count(*)>0 from CUSTOMER c1_0 where c1_0.email=?\n"
     ]
    },
    {
     "name": "stdout",
     "output_type": "stream",
     "text": [
      "13:19:55.360 DEBUG org.hibernate.SQL - insert into CUSTOMER (birthDate,creationDate,email,firstname,lastname,photo,status,version,ID) values (?,?,?,?,?,?,?,?,?)\n"
     ]
    },
    {
     "name": "stdout",
     "output_type": "stream",
     "text": [
      "13:19:55.361 DEBUG org.hibernate.SQL - select count(*)>0 from CUSTOMER c1_0 where c1_0.email=?\n"
     ]
    },
    {
     "name": "stdout",
     "output_type": "stream",
     "text": [
      "13:19:55.361 DEBUG org.hibernate.SQL - insert into CUSTOMER (birthDate,creationDate,email,firstname,lastname,photo,status,version,ID) values (?,?,?,?,?,?,?,?,?)\n"
     ]
    },
    {
     "name": "stdout",
     "output_type": "stream",
     "text": [
      "13:19:55.361 DEBUG org.hibernate.SQL - select count(*)>0 from CUSTOMER c1_0 where c1_0.email=?\n"
     ]
    },
    {
     "name": "stdout",
     "output_type": "stream",
     "text": [
      "13:19:55.362 DEBUG org.hibernate.SQL - insert into CUSTOMER (birthDate,creationDate,email,firstname,lastname,photo,status,version,ID) values (?,?,?,?,?,?,?,?,?)\n"
     ]
    },
    {
     "name": "stdout",
     "output_type": "stream",
     "text": [
      "13:19:55.362 DEBUG org.hibernate.SQL - select count(*)>0 from CUSTOMER c1_0 where c1_0.email=?\n"
     ]
    },
    {
     "name": "stdout",
     "output_type": "stream",
     "text": [
      "13:19:55.363 DEBUG org.hibernate.SQL - insert into CUSTOMER (birthDate,creationDate,email,firstname,lastname,photo,status,version,ID) values (?,?,?,?,?,?,?,?,?)\n"
     ]
    },
    {
     "name": "stdout",
     "output_type": "stream",
     "text": [
      "13:19:55.363 DEBUG org.hibernate.SQL - select count(*)>0 from CUSTOMER c1_0 where c1_0.email=?\n"
     ]
    },
    {
     "name": "stdout",
     "output_type": "stream",
     "text": [
      "13:19:55.364 DEBUG org.hibernate.SQL - insert into CUSTOMER (birthDate,creationDate,email,firstname,lastname,photo,status,version,ID) values (?,?,?,?,?,?,?,?,?)\n"
     ]
    },
    {
     "name": "stdout",
     "output_type": "stream",
     "text": [
      "13:19:55.364 DEBUG org.hibernate.SQL - select count(*)>0 from CUSTOMER c1_0 where c1_0.email=?\n"
     ]
    },
    {
     "name": "stdout",
     "output_type": "stream",
     "text": [
      "13:19:55.365 DEBUG org.hibernate.SQL - insert into CUSTOMER (birthDate,creationDate,email,firstname,lastname,photo,status,version,ID) values (?,?,?,?,?,?,?,?,?)\n"
     ]
    },
    {
     "name": "stdout",
     "output_type": "stream",
     "text": [
      "13:19:55.365 DEBUG org.hibernate.SQL - select count(*)>0 from CUSTOMER c1_0 where c1_0.email=?\n"
     ]
    },
    {
     "name": "stdout",
     "output_type": "stream",
     "text": [
      "13:19:55.366 DEBUG org.hibernate.SQL - insert into CUSTOMER (birthDate,creationDate,email,firstname,lastname,photo,status,version,ID) values (?,?,?,?,?,?,?,?,?)\n"
     ]
    },
    {
     "name": "stdout",
     "output_type": "stream",
     "text": [
      "13:19:55.366 DEBUG org.hibernate.SQL - select count(*)>0 from CUSTOMER c1_0 where c1_0.email=?\n"
     ]
    },
    {
     "name": "stdout",
     "output_type": "stream",
     "text": [
      "13:19:55.367 DEBUG org.hibernate.SQL - insert into CUSTOMER (birthDate,creationDate,email,firstname,lastname,photo,status,version,ID) values (?,?,?,?,?,?,?,?,?)\n"
     ]
    },
    {
     "name": "stdout",
     "output_type": "stream",
     "text": [
      "13:19:55.367 DEBUG org.hibernate.SQL - select count(*)>0 from CUSTOMER c1_0 where c1_0.email=?\n"
     ]
    },
    {
     "name": "stdout",
     "output_type": "stream",
     "text": [
      "13:19:55.368 DEBUG org.hibernate.SQL - insert into CUSTOMER (birthDate,creationDate,email,firstname,lastname,photo,status,version,ID) values (?,?,?,?,?,?,?,?,?)\n"
     ]
    },
    {
     "name": "stdout",
     "output_type": "stream",
     "text": [
      "13:19:55.368 DEBUG org.hibernate.SQL - select count(*)>0 from CUSTOMER c1_0 where c1_0.email=?\n"
     ]
    },
    {
     "name": "stdout",
     "output_type": "stream",
     "text": [
      "13:19:55.368 DEBUG org.hibernate.SQL - insert into CUSTOMER (birthDate,creationDate,email,firstname,lastname,photo,status,version,ID) values (?,?,?,?,?,?,?,?,?)\n"
     ]
    },
    {
     "name": "stdout",
     "output_type": "stream",
     "text": [
      "13:19:55.369 DEBUG org.hibernate.SQL - select count(*)>0 from CUSTOMER c1_0 where c1_0.email=?\n"
     ]
    },
    {
     "name": "stdout",
     "output_type": "stream",
     "text": [
      "13:19:55.369 DEBUG org.hibernate.SQL - insert into CUSTOMER (birthDate,creationDate,email,firstname,lastname,photo,status,version,ID) values (?,?,?,?,?,?,?,?,?)\n"
     ]
    },
    {
     "name": "stdout",
     "output_type": "stream",
     "text": [
      "13:19:55.370 DEBUG org.hibernate.SQL - select count(*)>0 from CUSTOMER c1_0 where c1_0.email=?\n"
     ]
    },
    {
     "name": "stdout",
     "output_type": "stream",
     "text": [
      "13:19:55.370 DEBUG org.hibernate.SQL - insert into CUSTOMER (birthDate,creationDate,email,firstname,lastname,photo,status,version,ID) values (?,?,?,?,?,?,?,?,?)\n"
     ]
    },
    {
     "name": "stdout",
     "output_type": "stream",
     "text": [
      "13:19:55.370 DEBUG org.hibernate.SQL - select count(*)>0 from CUSTOMER c1_0 where c1_0.email=?\n"
     ]
    },
    {
     "name": "stdout",
     "output_type": "stream",
     "text": [
      "13:19:55.371 DEBUG org.hibernate.SQL - insert into CUSTOMER (birthDate,creationDate,email,firstname,lastname,photo,status,version,ID) values (?,?,?,?,?,?,?,?,?)\n"
     ]
    },
    {
     "name": "stdout",
     "output_type": "stream",
     "text": [
      "13:19:55.371 DEBUG org.hibernate.SQL - select count(*)>0 from CUSTOMER c1_0 where c1_0.email=?\n"
     ]
    },
    {
     "name": "stdout",
     "output_type": "stream",
     "text": [
      "13:19:55.371 DEBUG org.hibernate.SQL - insert into CUSTOMER (birthDate,creationDate,email,firstname,lastname,photo,status,version,ID) values (?,?,?,?,?,?,?,?,?)\n"
     ]
    },
    {
     "name": "stdout",
     "output_type": "stream",
     "text": [
      "13:19:55.372 DEBUG org.hibernate.SQL - select count(*)>0 from CUSTOMER c1_0 where c1_0.email=?\n"
     ]
    },
    {
     "name": "stdout",
     "output_type": "stream",
     "text": [
      "13:19:55.372 DEBUG org.hibernate.SQL - insert into CUSTOMER (birthDate,creationDate,email,firstname,lastname,photo,status,version,ID) values (?,?,?,?,?,?,?,?,?)\n"
     ]
    },
    {
     "name": "stdout",
     "output_type": "stream",
     "text": [
      "13:19:55.373 DEBUG org.hibernate.SQL - select count(*)>0 from CUSTOMER c1_0 where c1_0.email=?\n"
     ]
    },
    {
     "name": "stdout",
     "output_type": "stream",
     "text": [
      "13:19:55.373 DEBUG org.hibernate.SQL - insert into CUSTOMER (birthDate,creationDate,email,firstname,lastname,photo,status,version,ID) values (?,?,?,?,?,?,?,?,?)\n"
     ]
    },
    {
     "name": "stdout",
     "output_type": "stream",
     "text": [
      "13:19:55.373 DEBUG org.hibernate.SQL - select count(*)>0 from CUSTOMER c1_0 where c1_0.email=?\n"
     ]
    },
    {
     "name": "stdout",
     "output_type": "stream",
     "text": [
      "13:19:55.374 DEBUG org.hibernate.SQL - insert into CUSTOMER (birthDate,creationDate,email,firstname,lastname,photo,status,version,ID) values (?,?,?,?,?,?,?,?,?)\n"
     ]
    },
    {
     "name": "stdout",
     "output_type": "stream",
     "text": [
      "13:19:55.374 DEBUG org.hibernate.SQL - select count(*)>0 from CUSTOMER c1_0 where c1_0.email=?\n"
     ]
    },
    {
     "name": "stdout",
     "output_type": "stream",
     "text": [
      "13:19:55.375 DEBUG org.hibernate.SQL - insert into CUSTOMER (birthDate,creationDate,email,firstname,lastname,photo,status,version,ID) values (?,?,?,?,?,?,?,?,?)\n"
     ]
    },
    {
     "name": "stdout",
     "output_type": "stream",
     "text": [
      "13:19:55.375 DEBUG org.hibernate.SQL - select count(*)>0 from CUSTOMER c1_0 where c1_0.email=?\n"
     ]
    },
    {
     "name": "stdout",
     "output_type": "stream",
     "text": [
      "13:19:55.376 DEBUG org.hibernate.SQL - insert into CUSTOMER (birthDate,creationDate,email,firstname,lastname,photo,status,version,ID) values (?,?,?,?,?,?,?,?,?)\n"
     ]
    },
    {
     "name": "stdout",
     "output_type": "stream",
     "text": [
      "13:19:55.376 DEBUG org.hibernate.SQL - select count(*)>0 from CUSTOMER c1_0 where c1_0.email=?\n"
     ]
    },
    {
     "name": "stdout",
     "output_type": "stream",
     "text": [
      "13:19:55.377 DEBUG org.hibernate.SQL - insert into CUSTOMER (birthDate,creationDate,email,firstname,lastname,photo,status,version,ID) values (?,?,?,?,?,?,?,?,?)\n"
     ]
    },
    {
     "name": "stdout",
     "output_type": "stream",
     "text": [
      "13:19:55.377 DEBUG org.hibernate.SQL - select count(*)>0 from CUSTOMER c1_0 where c1_0.email=?\n"
     ]
    },
    {
     "name": "stdout",
     "output_type": "stream",
     "text": [
      "13:19:55.377 DEBUG org.hibernate.SQL - select nextval('CUSTOMER_SEQ')\n"
     ]
    },
    {
     "name": "stdout",
     "output_type": "stream",
     "text": [
      "13:19:55.378 DEBUG org.hibernate.SQL - insert into CUSTOMER (birthDate,creationDate,email,firstname,lastname,photo,status,version,ID) values (?,?,?,?,?,?,?,?,?)\n"
     ]
    },
    {
     "name": "stdout",
     "output_type": "stream",
     "text": [
      "13:19:55.378 DEBUG org.hibernate.SQL - select count(*)>0 from CUSTOMER c1_0 where c1_0.email=?\n"
     ]
    },
    {
     "name": "stdout",
     "output_type": "stream",
     "text": [
      "13:19:55.379 DEBUG org.hibernate.SQL - insert into CUSTOMER (birthDate,creationDate,email,firstname,lastname,photo,status,version,ID) values (?,?,?,?,?,?,?,?,?)\n"
     ]
    },
    {
     "name": "stdout",
     "output_type": "stream",
     "text": [
      "13:19:55.379 DEBUG org.hibernate.SQL - select count(*)>0 from CUSTOMER c1_0 where c1_0.email=?\n"
     ]
    },
    {
     "name": "stdout",
     "output_type": "stream",
     "text": [
      "13:19:55.379 DEBUG org.hibernate.SQL - insert into CUSTOMER (birthDate,creationDate,email,firstname,lastname,photo,status,version,ID) values (?,?,?,?,?,?,?,?,?)\n"
     ]
    },
    {
     "name": "stdout",
     "output_type": "stream",
     "text": [
      "13:19:55.380 DEBUG org.hibernate.SQL - select count(*)>0 from CUSTOMER c1_0 where c1_0.email=?\n"
     ]
    },
    {
     "name": "stdout",
     "output_type": "stream",
     "text": [
      "13:19:55.380 DEBUG org.hibernate.SQL - insert into CUSTOMER (birthDate,creationDate,email,firstname,lastname,photo,status,version,ID) values (?,?,?,?,?,?,?,?,?)\n"
     ]
    },
    {
     "name": "stdout",
     "output_type": "stream",
     "text": [
      "13:19:55.380 DEBUG org.hibernate.SQL - select count(*)>0 from CUSTOMER c1_0 where c1_0.email=?\n"
     ]
    },
    {
     "name": "stdout",
     "output_type": "stream",
     "text": [
      "13:19:55.381 DEBUG org.hibernate.SQL - insert into CUSTOMER (birthDate,creationDate,email,firstname,lastname,photo,status,version,ID) values (?,?,?,?,?,?,?,?,?)\n"
     ]
    },
    {
     "name": "stdout",
     "output_type": "stream",
     "text": [
      "13:19:55.381 DEBUG org.hibernate.SQL - select count(*)>0 from CUSTOMER c1_0 where c1_0.email=?\n"
     ]
    },
    {
     "name": "stdout",
     "output_type": "stream",
     "text": [
      "13:19:55.382 DEBUG org.hibernate.SQL - insert into CUSTOMER (birthDate,creationDate,email,firstname,lastname,photo,status,version,ID) values (?,?,?,?,?,?,?,?,?)\n"
     ]
    },
    {
     "name": "stdout",
     "output_type": "stream",
     "text": [
      "13:19:55.382 DEBUG org.hibernate.SQL - select count(*)>0 from CUSTOMER c1_0 where c1_0.email=?\n"
     ]
    },
    {
     "name": "stdout",
     "output_type": "stream",
     "text": [
      "13:19:55.383 DEBUG org.hibernate.SQL - insert into CUSTOMER (birthDate,creationDate,email,firstname,lastname,photo,status,version,ID) values (?,?,?,?,?,?,?,?,?)\n"
     ]
    },
    {
     "name": "stdout",
     "output_type": "stream",
     "text": [
      "13:19:55.383 DEBUG org.hibernate.SQL - select count(*)>0 from CUSTOMER c1_0 where c1_0.email=?\n"
     ]
    },
    {
     "name": "stdout",
     "output_type": "stream",
     "text": [
      "13:19:55.383 DEBUG org.hibernate.SQL - insert into CUSTOMER (birthDate,creationDate,email,firstname,lastname,photo,status,version,ID) values (?,?,?,?,?,?,?,?,?)\n"
     ]
    },
    {
     "name": "stdout",
     "output_type": "stream",
     "text": [
      "13:19:55.384 DEBUG org.hibernate.SQL - select count(*)>0 from CUSTOMER c1_0 where c1_0.email=?\n"
     ]
    },
    {
     "name": "stdout",
     "output_type": "stream",
     "text": [
      "13:19:55.384 DEBUG org.hibernate.SQL - insert into CUSTOMER (birthDate,creationDate,email,firstname,lastname,photo,status,version,ID) values (?,?,?,?,?,?,?,?,?)\n"
     ]
    },
    {
     "name": "stdout",
     "output_type": "stream",
     "text": [
      "13:19:55.384 DEBUG org.hibernate.SQL - select count(*)>0 from CUSTOMER c1_0 where c1_0.email=?\n"
     ]
    },
    {
     "name": "stdout",
     "output_type": "stream",
     "text": [
      "13:19:55.385 DEBUG org.hibernate.SQL - insert into CUSTOMER (birthDate,creationDate,email,firstname,lastname,photo,status,version,ID) values (?,?,?,?,?,?,?,?,?)\n"
     ]
    },
    {
     "name": "stdout",
     "output_type": "stream",
     "text": [
      "13:19:55.385 DEBUG org.hibernate.SQL - select count(*)>0 from CUSTOMER c1_0 where c1_0.email=?\n"
     ]
    },
    {
     "name": "stdout",
     "output_type": "stream",
     "text": [
      "13:19:55.386 DEBUG org.hibernate.SQL - insert into CUSTOMER (birthDate,creationDate,email,firstname,lastname,photo,status,version,ID) values (?,?,?,?,?,?,?,?,?)\n"
     ]
    },
    {
     "name": "stdout",
     "output_type": "stream",
     "text": [
      "13:19:55.386 DEBUG org.hibernate.SQL - select count(*)>0 from CUSTOMER c1_0 where c1_0.email=?\n"
     ]
    },
    {
     "name": "stdout",
     "output_type": "stream",
     "text": [
      "13:19:55.386 DEBUG org.hibernate.SQL - insert into CUSTOMER (birthDate,creationDate,email,firstname,lastname,photo,status,version,ID) values (?,?,?,?,?,?,?,?,?)\n"
     ]
    },
    {
     "name": "stdout",
     "output_type": "stream",
     "text": [
      "13:19:55.387 DEBUG org.hibernate.SQL - select count(*)>0 from CUSTOMER c1_0 where c1_0.email=?\n"
     ]
    },
    {
     "name": "stdout",
     "output_type": "stream",
     "text": [
      "13:19:55.387 DEBUG org.hibernate.SQL - insert into CUSTOMER (birthDate,creationDate,email,firstname,lastname,photo,status,version,ID) values (?,?,?,?,?,?,?,?,?)\n"
     ]
    },
    {
     "name": "stdout",
     "output_type": "stream",
     "text": [
      "13:19:55.387 DEBUG org.hibernate.SQL - select count(*)>0 from CUSTOMER c1_0 where c1_0.email=?\n"
     ]
    },
    {
     "name": "stdout",
     "output_type": "stream",
     "text": [
      "13:19:55.388 DEBUG org.hibernate.SQL - insert into CUSTOMER (birthDate,creationDate,email,firstname,lastname,photo,status,version,ID) values (?,?,?,?,?,?,?,?,?)\n"
     ]
    },
    {
     "name": "stdout",
     "output_type": "stream",
     "text": [
      "13:19:55.388 DEBUG org.hibernate.SQL - select count(*)>0 from CUSTOMER c1_0 where c1_0.email=?\n"
     ]
    },
    {
     "name": "stdout",
     "output_type": "stream",
     "text": [
      "13:19:55.388 DEBUG org.hibernate.SQL - insert into CUSTOMER (birthDate,creationDate,email,firstname,lastname,photo,status,version,ID) values (?,?,?,?,?,?,?,?,?)\n"
     ]
    },
    {
     "name": "stdout",
     "output_type": "stream",
     "text": [
      "13:19:55.389 DEBUG org.hibernate.SQL - select count(*)>0 from CUSTOMER c1_0 where c1_0.email=?\n"
     ]
    },
    {
     "name": "stdout",
     "output_type": "stream",
     "text": [
      "13:19:55.389 DEBUG org.hibernate.SQL - insert into CUSTOMER (birthDate,creationDate,email,firstname,lastname,photo,status,version,ID) values (?,?,?,?,?,?,?,?,?)\n"
     ]
    },
    {
     "name": "stdout",
     "output_type": "stream",
     "text": [
      "13:19:55.389 DEBUG org.hibernate.SQL - select count(*)>0 from CUSTOMER c1_0 where c1_0.email=?\n"
     ]
    },
    {
     "name": "stdout",
     "output_type": "stream",
     "text": [
      "13:19:55.390 DEBUG org.hibernate.SQL - insert into CUSTOMER (birthDate,creationDate,email,firstname,lastname,photo,status,version,ID) values (?,?,?,?,?,?,?,?,?)\n"
     ]
    },
    {
     "name": "stdout",
     "output_type": "stream",
     "text": [
      "13:19:55.390 DEBUG org.hibernate.SQL - select count(*)>0 from CUSTOMER c1_0 where c1_0.email=?\n"
     ]
    },
    {
     "name": "stdout",
     "output_type": "stream",
     "text": [
      "13:19:55.390 DEBUG org.hibernate.SQL - insert into CUSTOMER (birthDate,creationDate,email,firstname,lastname,photo,status,version,ID) values (?,?,?,?,?,?,?,?,?)\n"
     ]
    },
    {
     "name": "stdout",
     "output_type": "stream",
     "text": [
      "13:19:55.391 DEBUG org.hibernate.SQL - select count(*)>0 from CUSTOMER c1_0 where c1_0.email=?\n"
     ]
    },
    {
     "name": "stdout",
     "output_type": "stream",
     "text": [
      "13:19:55.391 DEBUG org.hibernate.SQL - insert into CUSTOMER (birthDate,creationDate,email,firstname,lastname,photo,status,version,ID) values (?,?,?,?,?,?,?,?,?)\n"
     ]
    },
    {
     "name": "stdout",
     "output_type": "stream",
     "text": [
      "13:19:55.391 DEBUG org.hibernate.SQL - select count(*)>0 from CUSTOMER c1_0 where c1_0.email=?\n"
     ]
    },
    {
     "name": "stdout",
     "output_type": "stream",
     "text": [
      "13:19:55.392 DEBUG org.hibernate.SQL - insert into CUSTOMER (birthDate,creationDate,email,firstname,lastname,photo,status,version,ID) values (?,?,?,?,?,?,?,?,?)\n"
     ]
    },
    {
     "name": "stdout",
     "output_type": "stream",
     "text": [
      "13:19:55.392 DEBUG org.hibernate.SQL - select count(*)>0 from CUSTOMER c1_0 where c1_0.email=?\n"
     ]
    },
    {
     "name": "stdout",
     "output_type": "stream",
     "text": [
      "13:19:55.392 DEBUG org.hibernate.SQL - insert into CUSTOMER (birthDate,creationDate,email,firstname,lastname,photo,status,version,ID) values (?,?,?,?,?,?,?,?,?)\n"
     ]
    },
    {
     "name": "stdout",
     "output_type": "stream",
     "text": [
      "13:19:55.393 DEBUG org.hibernate.SQL - select count(*)>0 from CUSTOMER c1_0 where c1_0.email=?\n"
     ]
    },
    {
     "name": "stdout",
     "output_type": "stream",
     "text": [
      "13:19:55.393 DEBUG org.hibernate.SQL - insert into CUSTOMER (birthDate,creationDate,email,firstname,lastname,photo,status,version,ID) values (?,?,?,?,?,?,?,?,?)\n"
     ]
    },
    {
     "name": "stdout",
     "output_type": "stream",
     "text": [
      "13:19:55.394 DEBUG org.hibernate.SQL - select count(*)>0 from CUSTOMER c1_0 where c1_0.email=?\n"
     ]
    },
    {
     "name": "stdout",
     "output_type": "stream",
     "text": [
      "13:19:55.395 DEBUG org.hibernate.SQL - insert into CUSTOMER (birthDate,creationDate,email,firstname,lastname,photo,status,version,ID) values (?,?,?,?,?,?,?,?,?)\n"
     ]
    },
    {
     "name": "stdout",
     "output_type": "stream",
     "text": [
      "13:19:55.396 DEBUG org.hibernate.SQL - select count(*)>0 from CUSTOMER c1_0 where c1_0.email=?\n"
     ]
    },
    {
     "name": "stdout",
     "output_type": "stream",
     "text": [
      "13:19:55.397 DEBUG org.hibernate.SQL - insert into CUSTOMER (birthDate,creationDate,email,firstname,lastname,photo,status,version,ID) values (?,?,?,?,?,?,?,?,?)\n"
     ]
    },
    {
     "name": "stdout",
     "output_type": "stream",
     "text": [
      "13:19:55.397 DEBUG org.hibernate.SQL - select count(*)>0 from CUSTOMER c1_0 where c1_0.email=?\n"
     ]
    },
    {
     "name": "stdout",
     "output_type": "stream",
     "text": [
      "13:19:55.398 DEBUG org.hibernate.SQL - insert into CUSTOMER (birthDate,creationDate,email,firstname,lastname,photo,status,version,ID) values (?,?,?,?,?,?,?,?,?)\n"
     ]
    },
    {
     "name": "stdout",
     "output_type": "stream",
     "text": [
      "13:19:55.399 DEBUG org.hibernate.SQL - select count(*)>0 from CUSTOMER c1_0 where c1_0.email=?\n"
     ]
    },
    {
     "name": "stdout",
     "output_type": "stream",
     "text": [
      "13:19:55.400 DEBUG org.hibernate.SQL - insert into CUSTOMER (birthDate,creationDate,email,firstname,lastname,photo,status,version,ID) values (?,?,?,?,?,?,?,?,?)\n"
     ]
    },
    {
     "name": "stdout",
     "output_type": "stream",
     "text": [
      "13:19:55.401 DEBUG org.hibernate.SQL - select count(*)>0 from CUSTOMER c1_0 where c1_0.email=?\n"
     ]
    },
    {
     "name": "stdout",
     "output_type": "stream",
     "text": [
      "13:19:55.401 DEBUG org.hibernate.SQL - insert into CUSTOMER (birthDate,creationDate,email,firstname,lastname,photo,status,version,ID) values (?,?,?,?,?,?,?,?,?)\n"
     ]
    },
    {
     "name": "stdout",
     "output_type": "stream",
     "text": [
      "13:19:55.402 DEBUG org.hibernate.SQL - select count(*)>0 from CUSTOMER c1_0 where c1_0.email=?\n"
     ]
    },
    {
     "name": "stdout",
     "output_type": "stream",
     "text": [
      "13:19:55.403 DEBUG org.hibernate.SQL - insert into CUSTOMER (birthDate,creationDate,email,firstname,lastname,photo,status,version,ID) values (?,?,?,?,?,?,?,?,?)\n"
     ]
    },
    {
     "name": "stdout",
     "output_type": "stream",
     "text": [
      "13:19:55.404 DEBUG org.hibernate.SQL - select count(*)>0 from CUSTOMER c1_0 where c1_0.email=?\n"
     ]
    },
    {
     "name": "stdout",
     "output_type": "stream",
     "text": [
      "13:19:55.404 DEBUG org.hibernate.SQL - insert into CUSTOMER (birthDate,creationDate,email,firstname,lastname,photo,status,version,ID) values (?,?,?,?,?,?,?,?,?)\n"
     ]
    },
    {
     "name": "stdout",
     "output_type": "stream",
     "text": [
      "13:19:55.405 DEBUG org.hibernate.SQL - select count(*)>0 from CUSTOMER c1_0 where c1_0.email=?\n"
     ]
    },
    {
     "name": "stdout",
     "output_type": "stream",
     "text": [
      "13:19:55.405 DEBUG org.hibernate.SQL - insert into CUSTOMER (birthDate,creationDate,email,firstname,lastname,photo,status,version,ID) values (?,?,?,?,?,?,?,?,?)\n"
     ]
    },
    {
     "name": "stdout",
     "output_type": "stream",
     "text": [
      "13:19:55.406 DEBUG org.hibernate.SQL - select count(*)>0 from CUSTOMER c1_0 where c1_0.email=?\n"
     ]
    },
    {
     "name": "stdout",
     "output_type": "stream",
     "text": [
      "13:19:55.406 DEBUG org.hibernate.SQL - insert into CUSTOMER (birthDate,creationDate,email,firstname,lastname,photo,status,version,ID) values (?,?,?,?,?,?,?,?,?)\n"
     ]
    },
    {
     "name": "stdout",
     "output_type": "stream",
     "text": [
      "13:19:55.407 DEBUG org.hibernate.SQL - select count(*)>0 from CUSTOMER c1_0 where c1_0.email=?\n"
     ]
    },
    {
     "name": "stdout",
     "output_type": "stream",
     "text": [
      "13:19:55.407 DEBUG org.hibernate.SQL - insert into CUSTOMER (birthDate,creationDate,email,firstname,lastname,photo,status,version,ID) values (?,?,?,?,?,?,?,?,?)\n"
     ]
    },
    {
     "name": "stdout",
     "output_type": "stream",
     "text": [
      "13:19:55.407 DEBUG org.hibernate.SQL - select count(*)>0 from CUSTOMER c1_0 where c1_0.email=?\n"
     ]
    },
    {
     "name": "stdout",
     "output_type": "stream",
     "text": [
      "13:19:55.408 DEBUG org.hibernate.SQL - insert into CUSTOMER (birthDate,creationDate,email,firstname,lastname,photo,status,version,ID) values (?,?,?,?,?,?,?,?,?)\n"
     ]
    },
    {
     "name": "stdout",
     "output_type": "stream",
     "text": [
      "13:19:55.408 DEBUG org.hibernate.SQL - select count(*)>0 from CUSTOMER c1_0 where c1_0.email=?\n"
     ]
    },
    {
     "name": "stdout",
     "output_type": "stream",
     "text": [
      "13:19:55.409 DEBUG org.hibernate.SQL - insert into CUSTOMER (birthDate,creationDate,email,firstname,lastname,photo,status,version,ID) values (?,?,?,?,?,?,?,?,?)\n"
     ]
    },
    {
     "name": "stdout",
     "output_type": "stream",
     "text": [
      "13:19:55.409 DEBUG org.hibernate.SQL - select count(*)>0 from CUSTOMER c1_0 where c1_0.email=?\n"
     ]
    },
    {
     "name": "stdout",
     "output_type": "stream",
     "text": [
      "13:19:55.410 DEBUG org.hibernate.SQL - insert into CUSTOMER (birthDate,creationDate,email,firstname,lastname,photo,status,version,ID) values (?,?,?,?,?,?,?,?,?)\n"
     ]
    },
    {
     "name": "stdout",
     "output_type": "stream",
     "text": [
      "13:19:55.410 DEBUG org.hibernate.SQL - select count(*)>0 from CUSTOMER c1_0 where c1_0.email=?\n"
     ]
    },
    {
     "name": "stdout",
     "output_type": "stream",
     "text": [
      "13:19:55.411 DEBUG org.hibernate.SQL - insert into CUSTOMER (birthDate,creationDate,email,firstname,lastname,photo,status,version,ID) values (?,?,?,?,?,?,?,?,?)\n"
     ]
    },
    {
     "name": "stdout",
     "output_type": "stream",
     "text": [
      "13:19:55.411 DEBUG org.hibernate.SQL - select count(*)>0 from CUSTOMER c1_0 where c1_0.email=?\n"
     ]
    },
    {
     "name": "stdout",
     "output_type": "stream",
     "text": [
      "13:19:55.412 DEBUG org.hibernate.SQL - insert into CUSTOMER (birthDate,creationDate,email,firstname,lastname,photo,status,version,ID) values (?,?,?,?,?,?,?,?,?)\n"
     ]
    },
    {
     "name": "stdout",
     "output_type": "stream",
     "text": [
      "13:19:55.412 DEBUG org.hibernate.SQL - select count(*)>0 from CUSTOMER c1_0 where c1_0.email=?\n"
     ]
    },
    {
     "name": "stdout",
     "output_type": "stream",
     "text": [
      "13:19:55.413 DEBUG org.hibernate.SQL - insert into CUSTOMER (birthDate,creationDate,email,firstname,lastname,photo,status,version,ID) values (?,?,?,?,?,?,?,?,?)\n"
     ]
    },
    {
     "name": "stdout",
     "output_type": "stream",
     "text": [
      "13:19:55.413 DEBUG org.hibernate.SQL - select count(*)>0 from CUSTOMER c1_0 where c1_0.email=?\n"
     ]
    },
    {
     "name": "stdout",
     "output_type": "stream",
     "text": [
      "13:19:55.414 DEBUG org.hibernate.SQL - insert into CUSTOMER (birthDate,creationDate,email,firstname,lastname,photo,status,version,ID) values (?,?,?,?,?,?,?,?,?)\n"
     ]
    },
    {
     "name": "stdout",
     "output_type": "stream",
     "text": [
      "13:19:55.414 DEBUG org.hibernate.SQL - select count(*)>0 from CUSTOMER c1_0 where c1_0.email=?\n"
     ]
    },
    {
     "name": "stdout",
     "output_type": "stream",
     "text": [
      "13:19:55.414 DEBUG org.hibernate.SQL - insert into CUSTOMER (birthDate,creationDate,email,firstname,lastname,photo,status,version,ID) values (?,?,?,?,?,?,?,?,?)\n"
     ]
    },
    {
     "name": "stdout",
     "output_type": "stream",
     "text": [
      "13:19:55.415 DEBUG org.hibernate.SQL - select count(*)>0 from CUSTOMER c1_0 where c1_0.email=?\n"
     ]
    },
    {
     "name": "stdout",
     "output_type": "stream",
     "text": [
      "13:19:55.415 DEBUG org.hibernate.SQL - insert into CUSTOMER (birthDate,creationDate,email,firstname,lastname,photo,status,version,ID) values (?,?,?,?,?,?,?,?,?)\n"
     ]
    },
    {
     "name": "stdout",
     "output_type": "stream",
     "text": [
      "13:19:55.416 DEBUG org.hibernate.SQL - select count(*)>0 from CUSTOMER c1_0 where c1_0.email=?\n"
     ]
    },
    {
     "name": "stdout",
     "output_type": "stream",
     "text": [
      "13:19:55.416 DEBUG org.hibernate.SQL - insert into CUSTOMER (birthDate,creationDate,email,firstname,lastname,photo,status,version,ID) values (?,?,?,?,?,?,?,?,?)\n"
     ]
    },
    {
     "name": "stdout",
     "output_type": "stream",
     "text": [
      "13:19:55.416 DEBUG org.hibernate.SQL - select count(*)>0 from CUSTOMER c1_0 where c1_0.email=?\n"
     ]
    },
    {
     "name": "stdout",
     "output_type": "stream",
     "text": [
      "13:19:55.417 DEBUG org.hibernate.SQL - insert into CUSTOMER (birthDate,creationDate,email,firstname,lastname,photo,status,version,ID) values (?,?,?,?,?,?,?,?,?)\n"
     ]
    },
    {
     "name": "stdout",
     "output_type": "stream",
     "text": [
      "13:19:55.417 DEBUG org.hibernate.SQL - select count(*)>0 from CUSTOMER c1_0 where c1_0.email=?\n"
     ]
    },
    {
     "name": "stdout",
     "output_type": "stream",
     "text": [
      "13:19:55.418 DEBUG org.hibernate.SQL - insert into CUSTOMER (birthDate,creationDate,email,firstname,lastname,photo,status,version,ID) values (?,?,?,?,?,?,?,?,?)\n"
     ]
    },
    {
     "name": "stdout",
     "output_type": "stream",
     "text": [
      "13:19:55.418 DEBUG org.hibernate.SQL - select count(*)>0 from CUSTOMER c1_0 where c1_0.email=?\n"
     ]
    },
    {
     "name": "stdout",
     "output_type": "stream",
     "text": [
      "13:19:55.418 DEBUG org.hibernate.SQL - insert into CUSTOMER (birthDate,creationDate,email,firstname,lastname,photo,status,version,ID) values (?,?,?,?,?,?,?,?,?)\n"
     ]
    },
    {
     "name": "stdout",
     "output_type": "stream",
     "text": [
      "13:19:55.419 DEBUG org.hibernate.SQL - select count(*)>0 from CUSTOMER c1_0 where c1_0.email=?\n"
     ]
    },
    {
     "name": "stdout",
     "output_type": "stream",
     "text": [
      "13:19:55.419 DEBUG org.hibernate.SQL - insert into CUSTOMER (birthDate,creationDate,email,firstname,lastname,photo,status,version,ID) values (?,?,?,?,?,?,?,?,?)\n"
     ]
    },
    {
     "name": "stdout",
     "output_type": "stream",
     "text": [
      "13:19:55.420 DEBUG org.hibernate.SQL - select count(*)>0 from CUSTOMER c1_0 where c1_0.email=?\n"
     ]
    },
    {
     "name": "stdout",
     "output_type": "stream",
     "text": [
      "13:19:55.420 DEBUG org.hibernate.SQL - insert into CUSTOMER (birthDate,creationDate,email,firstname,lastname,photo,status,version,ID) values (?,?,?,?,?,?,?,?,?)\n"
     ]
    },
    {
     "name": "stdout",
     "output_type": "stream",
     "text": [
      "13:19:55.420 DEBUG org.hibernate.SQL - select count(*)>0 from CUSTOMER c1_0 where c1_0.email=?\n"
     ]
    },
    {
     "name": "stdout",
     "output_type": "stream",
     "text": [
      "13:19:55.421 DEBUG org.hibernate.SQL - insert into CUSTOMER (birthDate,creationDate,email,firstname,lastname,photo,status,version,ID) values (?,?,?,?,?,?,?,?,?)\n"
     ]
    },
    {
     "name": "stdout",
     "output_type": "stream",
     "text": [
      "13:19:55.421 DEBUG org.hibernate.SQL - select count(*)>0 from CUSTOMER c1_0 where c1_0.email=?\n"
     ]
    },
    {
     "name": "stdout",
     "output_type": "stream",
     "text": [
      "13:19:55.421 DEBUG org.hibernate.SQL - insert into CUSTOMER (birthDate,creationDate,email,firstname,lastname,photo,status,version,ID) values (?,?,?,?,?,?,?,?,?)\n"
     ]
    },
    {
     "name": "stdout",
     "output_type": "stream",
     "text": [
      "13:19:55.422 DEBUG org.hibernate.SQL - select count(*)>0 from CUSTOMER c1_0 where c1_0.email=?\n"
     ]
    },
    {
     "name": "stdout",
     "output_type": "stream",
     "text": [
      "13:19:55.422 DEBUG org.hibernate.SQL - insert into CUSTOMER (birthDate,creationDate,email,firstname,lastname,photo,status,version,ID) values (?,?,?,?,?,?,?,?,?)\n"
     ]
    },
    {
     "name": "stdout",
     "output_type": "stream",
     "text": [
      "13:19:55.423 DEBUG org.hibernate.SQL - select count(*)>0 from CUSTOMER c1_0 where c1_0.email=?\n"
     ]
    },
    {
     "name": "stdout",
     "output_type": "stream",
     "text": [
      "13:19:55.423 DEBUG org.hibernate.SQL - select nextval('CUSTOMER_SEQ')\n"
     ]
    },
    {
     "name": "stdout",
     "output_type": "stream",
     "text": [
      "13:19:55.424 DEBUG org.hibernate.SQL - insert into CUSTOMER (birthDate,creationDate,email,firstname,lastname,photo,status,version,ID) values (?,?,?,?,?,?,?,?,?)\n"
     ]
    },
    {
     "name": "stdout",
     "output_type": "stream",
     "text": [
      "13:19:55.424 DEBUG org.hibernate.SQL - select count(*)>0 from CUSTOMER c1_0 where c1_0.email=?\n"
     ]
    },
    {
     "name": "stdout",
     "output_type": "stream",
     "text": [
      "13:19:55.424 DEBUG org.hibernate.SQL - insert into CUSTOMER (birthDate,creationDate,email,firstname,lastname,photo,status,version,ID) values (?,?,?,?,?,?,?,?,?)\n"
     ]
    },
    {
     "name": "stdout",
     "output_type": "stream",
     "text": [
      "13:19:55.425 DEBUG org.hibernate.SQL - select count(*)>0 from CUSTOMER c1_0 where c1_0.email=?\n"
     ]
    },
    {
     "name": "stdout",
     "output_type": "stream",
     "text": [
      "13:19:55.425 DEBUG org.hibernate.SQL - insert into CUSTOMER (birthDate,creationDate,email,firstname,lastname,photo,status,version,ID) values (?,?,?,?,?,?,?,?,?)\n"
     ]
    },
    {
     "name": "stdout",
     "output_type": "stream",
     "text": [
      "13:19:55.425 DEBUG org.hibernate.SQL - select count(*)>0 from CUSTOMER c1_0 where c1_0.email=?\n"
     ]
    },
    {
     "name": "stdout",
     "output_type": "stream",
     "text": [
      "13:19:55.426 DEBUG org.hibernate.SQL - insert into CUSTOMER (birthDate,creationDate,email,firstname,lastname,photo,status,version,ID) values (?,?,?,?,?,?,?,?,?)\n"
     ]
    },
    {
     "name": "stdout",
     "output_type": "stream",
     "text": [
      "13:19:55.426 DEBUG org.hibernate.SQL - select count(*)>0 from CUSTOMER c1_0 where c1_0.email=?\n"
     ]
    },
    {
     "name": "stdout",
     "output_type": "stream",
     "text": [
      "13:19:55.427 DEBUG org.hibernate.SQL - insert into CUSTOMER (birthDate,creationDate,email,firstname,lastname,photo,status,version,ID) values (?,?,?,?,?,?,?,?,?)\n"
     ]
    },
    {
     "name": "stdout",
     "output_type": "stream",
     "text": [
      "13:19:55.427 DEBUG org.hibernate.SQL - select count(*)>0 from CUSTOMER c1_0 where c1_0.email=?\n"
     ]
    },
    {
     "name": "stdout",
     "output_type": "stream",
     "text": [
      "13:19:55.428 DEBUG org.hibernate.SQL - insert into CUSTOMER (birthDate,creationDate,email,firstname,lastname,photo,status,version,ID) values (?,?,?,?,?,?,?,?,?)\n"
     ]
    },
    {
     "name": "stdout",
     "output_type": "stream",
     "text": [
      "13:19:55.428 DEBUG org.hibernate.SQL - select count(*)>0 from CUSTOMER c1_0 where c1_0.email=?\n"
     ]
    },
    {
     "name": "stdout",
     "output_type": "stream",
     "text": [
      "13:19:55.428 DEBUG org.hibernate.SQL - insert into CUSTOMER (birthDate,creationDate,email,firstname,lastname,photo,status,version,ID) values (?,?,?,?,?,?,?,?,?)\n"
     ]
    },
    {
     "name": "stdout",
     "output_type": "stream",
     "text": [
      "13:19:55.428 DEBUG org.hibernate.SQL - select count(*)>0 from CUSTOMER c1_0 where c1_0.email=?\n"
     ]
    },
    {
     "name": "stdout",
     "output_type": "stream",
     "text": [
      "13:19:55.429 DEBUG org.hibernate.SQL - insert into CUSTOMER (birthDate,creationDate,email,firstname,lastname,photo,status,version,ID) values (?,?,?,?,?,?,?,?,?)\n"
     ]
    },
    {
     "name": "stdout",
     "output_type": "stream",
     "text": [
      "13:19:55.429 DEBUG org.hibernate.SQL - select count(*)>0 from CUSTOMER c1_0 where c1_0.email=?\n"
     ]
    },
    {
     "name": "stdout",
     "output_type": "stream",
     "text": [
      "13:19:55.430 DEBUG org.hibernate.SQL - insert into CUSTOMER (birthDate,creationDate,email,firstname,lastname,photo,status,version,ID) values (?,?,?,?,?,?,?,?,?)\n"
     ]
    },
    {
     "name": "stdout",
     "output_type": "stream",
     "text": [
      "13:19:55.430 DEBUG org.hibernate.SQL - select count(*)>0 from CUSTOMER c1_0 where c1_0.email=?\n"
     ]
    },
    {
     "name": "stdout",
     "output_type": "stream",
     "text": [
      "13:19:55.431 DEBUG org.hibernate.SQL - insert into CUSTOMER (birthDate,creationDate,email,firstname,lastname,photo,status,version,ID) values (?,?,?,?,?,?,?,?,?)\n"
     ]
    },
    {
     "name": "stdout",
     "output_type": "stream",
     "text": [
      "13:19:55.431 DEBUG org.hibernate.SQL - select count(*)>0 from CUSTOMER c1_0 where c1_0.email=?\n"
     ]
    },
    {
     "name": "stdout",
     "output_type": "stream",
     "text": [
      "13:19:55.431 DEBUG org.hibernate.SQL - insert into CUSTOMER (birthDate,creationDate,email,firstname,lastname,photo,status,version,ID) values (?,?,?,?,?,?,?,?,?)\n"
     ]
    },
    {
     "name": "stdout",
     "output_type": "stream",
     "text": [
      "13:19:55.432 DEBUG org.hibernate.SQL - select count(*)>0 from CUSTOMER c1_0 where c1_0.email=?\n"
     ]
    },
    {
     "name": "stdout",
     "output_type": "stream",
     "text": [
      "13:19:55.432 DEBUG org.hibernate.SQL - insert into CUSTOMER (birthDate,creationDate,email,firstname,lastname,photo,status,version,ID) values (?,?,?,?,?,?,?,?,?)\n"
     ]
    },
    {
     "name": "stdout",
     "output_type": "stream",
     "text": [
      "13:19:55.432 DEBUG org.hibernate.SQL - select count(*)>0 from CUSTOMER c1_0 where c1_0.email=?\n"
     ]
    },
    {
     "name": "stdout",
     "output_type": "stream",
     "text": [
      "13:19:55.433 DEBUG org.hibernate.SQL - insert into CUSTOMER (birthDate,creationDate,email,firstname,lastname,photo,status,version,ID) values (?,?,?,?,?,?,?,?,?)\n"
     ]
    },
    {
     "name": "stdout",
     "output_type": "stream",
     "text": [
      "13:19:55.433 DEBUG org.hibernate.SQL - select count(*)>0 from CUSTOMER c1_0 where c1_0.email=?\n"
     ]
    },
    {
     "name": "stdout",
     "output_type": "stream",
     "text": [
      "13:19:55.433 DEBUG org.hibernate.SQL - insert into CUSTOMER (birthDate,creationDate,email,firstname,lastname,photo,status,version,ID) values (?,?,?,?,?,?,?,?,?)\n"
     ]
    },
    {
     "name": "stdout",
     "output_type": "stream",
     "text": [
      "13:19:55.434 DEBUG org.hibernate.SQL - select count(*)>0 from CUSTOMER c1_0 where c1_0.email=?\n"
     ]
    },
    {
     "name": "stdout",
     "output_type": "stream",
     "text": [
      "13:19:55.434 DEBUG org.hibernate.SQL - insert into CUSTOMER (birthDate,creationDate,email,firstname,lastname,photo,status,version,ID) values (?,?,?,?,?,?,?,?,?)\n"
     ]
    },
    {
     "name": "stdout",
     "output_type": "stream",
     "text": [
      "13:19:55.435 DEBUG org.hibernate.SQL - select count(*)>0 from CUSTOMER c1_0 where c1_0.email=?\n"
     ]
    },
    {
     "name": "stdout",
     "output_type": "stream",
     "text": [
      "13:19:55.435 DEBUG org.hibernate.SQL - insert into CUSTOMER (birthDate,creationDate,email,firstname,lastname,photo,status,version,ID) values (?,?,?,?,?,?,?,?,?)\n"
     ]
    },
    {
     "name": "stdout",
     "output_type": "stream",
     "text": [
      "13:19:55.436 DEBUG org.hibernate.SQL - select count(*)>0 from CUSTOMER c1_0 where c1_0.email=?\n"
     ]
    },
    {
     "name": "stdout",
     "output_type": "stream",
     "text": [
      "13:19:55.436 DEBUG org.hibernate.SQL - insert into CUSTOMER (birthDate,creationDate,email,firstname,lastname,photo,status,version,ID) values (?,?,?,?,?,?,?,?,?)\n"
     ]
    },
    {
     "name": "stdout",
     "output_type": "stream",
     "text": [
      "13:19:55.437 DEBUG org.hibernate.SQL - select count(*)>0 from CUSTOMER c1_0 where c1_0.email=?\n"
     ]
    },
    {
     "name": "stdout",
     "output_type": "stream",
     "text": [
      "13:19:55.437 DEBUG org.hibernate.SQL - insert into CUSTOMER (birthDate,creationDate,email,firstname,lastname,photo,status,version,ID) values (?,?,?,?,?,?,?,?,?)\n"
     ]
    },
    {
     "name": "stdout",
     "output_type": "stream",
     "text": [
      "13:19:55.437 DEBUG org.hibernate.SQL - select count(*)>0 from CUSTOMER c1_0 where c1_0.email=?\n"
     ]
    },
    {
     "name": "stdout",
     "output_type": "stream",
     "text": [
      "13:19:55.438 DEBUG org.hibernate.SQL - insert into CUSTOMER (birthDate,creationDate,email,firstname,lastname,photo,status,version,ID) values (?,?,?,?,?,?,?,?,?)\n"
     ]
    },
    {
     "name": "stdout",
     "output_type": "stream",
     "text": [
      "13:19:55.438 DEBUG org.hibernate.SQL - select count(*)>0 from CUSTOMER c1_0 where c1_0.email=?\n"
     ]
    },
    {
     "name": "stdout",
     "output_type": "stream",
     "text": [
      "13:19:55.438 DEBUG org.hibernate.SQL - insert into CUSTOMER (birthDate,creationDate,email,firstname,lastname,photo,status,version,ID) values (?,?,?,?,?,?,?,?,?)\n"
     ]
    },
    {
     "name": "stdout",
     "output_type": "stream",
     "text": [
      "13:19:55.439 DEBUG org.hibernate.SQL - select count(*)>0 from CUSTOMER c1_0 where c1_0.email=?\n"
     ]
    },
    {
     "name": "stdout",
     "output_type": "stream",
     "text": [
      "13:19:55.439 DEBUG org.hibernate.SQL - insert into CUSTOMER (birthDate,creationDate,email,firstname,lastname,photo,status,version,ID) values (?,?,?,?,?,?,?,?,?)\n"
     ]
    },
    {
     "name": "stdout",
     "output_type": "stream",
     "text": [
      "13:19:55.439 DEBUG org.hibernate.SQL - select count(*)>0 from CUSTOMER c1_0 where c1_0.email=?\n"
     ]
    },
    {
     "name": "stdout",
     "output_type": "stream",
     "text": [
      "13:19:55.440 DEBUG org.hibernate.SQL - insert into CUSTOMER (birthDate,creationDate,email,firstname,lastname,photo,status,version,ID) values (?,?,?,?,?,?,?,?,?)\n"
     ]
    },
    {
     "name": "stdout",
     "output_type": "stream",
     "text": [
      "13:19:55.440 DEBUG org.hibernate.SQL - select count(*)>0 from CUSTOMER c1_0 where c1_0.email=?\n"
     ]
    },
    {
     "name": "stdout",
     "output_type": "stream",
     "text": [
      "13:19:55.440 DEBUG org.hibernate.SQL - insert into CUSTOMER (birthDate,creationDate,email,firstname,lastname,photo,status,version,ID) values (?,?,?,?,?,?,?,?,?)\n"
     ]
    },
    {
     "name": "stdout",
     "output_type": "stream",
     "text": [
      "13:19:55.440 DEBUG org.hibernate.SQL - select count(*)>0 from CUSTOMER c1_0 where c1_0.email=?\n"
     ]
    },
    {
     "name": "stdout",
     "output_type": "stream",
     "text": [
      "13:19:55.441 DEBUG org.hibernate.SQL - insert into CUSTOMER (birthDate,creationDate,email,firstname,lastname,photo,status,version,ID) values (?,?,?,?,?,?,?,?,?)\n"
     ]
    },
    {
     "name": "stdout",
     "output_type": "stream",
     "text": [
      "13:19:55.441 DEBUG org.hibernate.SQL - select count(*)>0 from CUSTOMER c1_0 where c1_0.email=?\n"
     ]
    },
    {
     "name": "stdout",
     "output_type": "stream",
     "text": [
      "13:19:55.441 DEBUG org.hibernate.SQL - insert into CUSTOMER (birthDate,creationDate,email,firstname,lastname,photo,status,version,ID) values (?,?,?,?,?,?,?,?,?)\n"
     ]
    },
    {
     "name": "stdout",
     "output_type": "stream",
     "text": [
      "13:19:55.442 DEBUG org.hibernate.SQL - select count(*)>0 from CUSTOMER c1_0 where c1_0.email=?\n"
     ]
    },
    {
     "name": "stdout",
     "output_type": "stream",
     "text": [
      "13:19:55.442 DEBUG org.hibernate.SQL - insert into CUSTOMER (birthDate,creationDate,email,firstname,lastname,photo,status,version,ID) values (?,?,?,?,?,?,?,?,?)\n"
     ]
    },
    {
     "name": "stdout",
     "output_type": "stream",
     "text": [
      "13:19:55.442 DEBUG org.hibernate.SQL - select count(*)>0 from CUSTOMER c1_0 where c1_0.email=?\n"
     ]
    },
    {
     "name": "stdout",
     "output_type": "stream",
     "text": [
      "13:19:55.443 DEBUG org.hibernate.SQL - insert into CUSTOMER (birthDate,creationDate,email,firstname,lastname,photo,status,version,ID) values (?,?,?,?,?,?,?,?,?)\n"
     ]
    },
    {
     "name": "stdout",
     "output_type": "stream",
     "text": [
      "13:19:55.443 DEBUG org.hibernate.SQL - select count(*)>0 from CUSTOMER c1_0 where c1_0.email=?\n"
     ]
    },
    {
     "name": "stdout",
     "output_type": "stream",
     "text": [
      "13:19:55.443 DEBUG org.hibernate.SQL - insert into CUSTOMER (birthDate,creationDate,email,firstname,lastname,photo,status,version,ID) values (?,?,?,?,?,?,?,?,?)\n"
     ]
    },
    {
     "name": "stdout",
     "output_type": "stream",
     "text": [
      "13:19:55.443 DEBUG org.hibernate.SQL - select count(*)>0 from CUSTOMER c1_0 where c1_0.email=?\n"
     ]
    },
    {
     "name": "stdout",
     "output_type": "stream",
     "text": [
      "13:19:55.444 DEBUG org.hibernate.SQL - insert into CUSTOMER (birthDate,creationDate,email,firstname,lastname,photo,status,version,ID) values (?,?,?,?,?,?,?,?,?)\n"
     ]
    },
    {
     "name": "stdout",
     "output_type": "stream",
     "text": [
      "13:19:55.444 DEBUG org.hibernate.SQL - select count(*)>0 from CUSTOMER c1_0 where c1_0.email=?\n"
     ]
    },
    {
     "name": "stdout",
     "output_type": "stream",
     "text": [
      "13:19:55.444 DEBUG org.hibernate.SQL - insert into CUSTOMER (birthDate,creationDate,email,firstname,lastname,photo,status,version,ID) values (?,?,?,?,?,?,?,?,?)\n"
     ]
    },
    {
     "name": "stdout",
     "output_type": "stream",
     "text": [
      "13:19:55.445 DEBUG org.hibernate.SQL - select count(*)>0 from CUSTOMER c1_0 where c1_0.email=?\n"
     ]
    },
    {
     "name": "stdout",
     "output_type": "stream",
     "text": [
      "13:19:55.445 DEBUG org.hibernate.SQL - insert into CUSTOMER (birthDate,creationDate,email,firstname,lastname,photo,status,version,ID) values (?,?,?,?,?,?,?,?,?)\n"
     ]
    },
    {
     "name": "stdout",
     "output_type": "stream",
     "text": [
      "13:19:55.445 DEBUG org.hibernate.SQL - select count(*)>0 from CUSTOMER c1_0 where c1_0.email=?\n"
     ]
    },
    {
     "name": "stdout",
     "output_type": "stream",
     "text": [
      "13:19:55.446 DEBUG org.hibernate.SQL - insert into CUSTOMER (birthDate,creationDate,email,firstname,lastname,photo,status,version,ID) values (?,?,?,?,?,?,?,?,?)\n"
     ]
    },
    {
     "name": "stdout",
     "output_type": "stream",
     "text": [
      "13:19:55.446 DEBUG org.hibernate.SQL - select count(*)>0 from CUSTOMER c1_0 where c1_0.email=?\n"
     ]
    },
    {
     "name": "stdout",
     "output_type": "stream",
     "text": [
      "13:19:55.446 DEBUG org.hibernate.SQL - insert into CUSTOMER (birthDate,creationDate,email,firstname,lastname,photo,status,version,ID) values (?,?,?,?,?,?,?,?,?)\n"
     ]
    },
    {
     "name": "stdout",
     "output_type": "stream",
     "text": [
      "13:19:55.447 DEBUG org.hibernate.SQL - select count(*)>0 from CUSTOMER c1_0 where c1_0.email=?\n"
     ]
    },
    {
     "name": "stdout",
     "output_type": "stream",
     "text": [
      "13:19:55.447 DEBUG org.hibernate.SQL - insert into CUSTOMER (birthDate,creationDate,email,firstname,lastname,photo,status,version,ID) values (?,?,?,?,?,?,?,?,?)\n"
     ]
    },
    {
     "name": "stdout",
     "output_type": "stream",
     "text": [
      "13:19:55.447 DEBUG org.hibernate.SQL - select count(*)>0 from CUSTOMER c1_0 where c1_0.email=?\n"
     ]
    },
    {
     "name": "stdout",
     "output_type": "stream",
     "text": [
      "13:19:55.448 DEBUG org.hibernate.SQL - insert into CUSTOMER (birthDate,creationDate,email,firstname,lastname,photo,status,version,ID) values (?,?,?,?,?,?,?,?,?)\n"
     ]
    },
    {
     "name": "stdout",
     "output_type": "stream",
     "text": [
      "13:19:55.448 DEBUG org.hibernate.SQL - select count(*)>0 from CUSTOMER c1_0 where c1_0.email=?\n"
     ]
    },
    {
     "name": "stdout",
     "output_type": "stream",
     "text": [
      "13:19:55.449 DEBUG org.hibernate.SQL - insert into CUSTOMER (birthDate,creationDate,email,firstname,lastname,photo,status,version,ID) values (?,?,?,?,?,?,?,?,?)\n"
     ]
    },
    {
     "name": "stdout",
     "output_type": "stream",
     "text": [
      "13:19:55.449 DEBUG org.hibernate.SQL - select count(*)>0 from CUSTOMER c1_0 where c1_0.email=?\n"
     ]
    },
    {
     "name": "stdout",
     "output_type": "stream",
     "text": [
      "13:19:55.449 DEBUG org.hibernate.SQL - insert into CUSTOMER (birthDate,creationDate,email,firstname,lastname,photo,status,version,ID) values (?,?,?,?,?,?,?,?,?)\n"
     ]
    },
    {
     "name": "stdout",
     "output_type": "stream",
     "text": [
      "13:19:55.449 DEBUG org.hibernate.SQL - select count(*)>0 from CUSTOMER c1_0 where c1_0.email=?\n"
     ]
    },
    {
     "name": "stdout",
     "output_type": "stream",
     "text": [
      "13:19:55.450 DEBUG org.hibernate.SQL - insert into CUSTOMER (birthDate,creationDate,email,firstname,lastname,photo,status,version,ID) values (?,?,?,?,?,?,?,?,?)\n"
     ]
    },
    {
     "name": "stdout",
     "output_type": "stream",
     "text": [
      "13:19:55.450 DEBUG org.hibernate.SQL - select count(*)>0 from CUSTOMER c1_0 where c1_0.email=?\n"
     ]
    },
    {
     "name": "stdout",
     "output_type": "stream",
     "text": [
      "13:19:55.451 DEBUG org.hibernate.SQL - insert into CUSTOMER (birthDate,creationDate,email,firstname,lastname,photo,status,version,ID) values (?,?,?,?,?,?,?,?,?)\n"
     ]
    },
    {
     "name": "stdout",
     "output_type": "stream",
     "text": [
      "13:19:55.451 DEBUG org.hibernate.SQL - select count(*)>0 from CUSTOMER c1_0 where c1_0.email=?\n"
     ]
    },
    {
     "name": "stdout",
     "output_type": "stream",
     "text": [
      "13:19:55.451 DEBUG org.hibernate.SQL - insert into CUSTOMER (birthDate,creationDate,email,firstname,lastname,photo,status,version,ID) values (?,?,?,?,?,?,?,?,?)\n"
     ]
    },
    {
     "name": "stdout",
     "output_type": "stream",
     "text": [
      "13:19:55.451 DEBUG org.hibernate.SQL - select count(*)>0 from CUSTOMER c1_0 where c1_0.email=?\n"
     ]
    },
    {
     "name": "stdout",
     "output_type": "stream",
     "text": [
      "13:19:55.452 DEBUG org.hibernate.SQL - insert into CUSTOMER (birthDate,creationDate,email,firstname,lastname,photo,status,version,ID) values (?,?,?,?,?,?,?,?,?)\n"
     ]
    },
    {
     "name": "stdout",
     "output_type": "stream",
     "text": [
      "13:19:55.452 DEBUG org.hibernate.SQL - select count(*)>0 from CUSTOMER c1_0 where c1_0.email=?\n"
     ]
    },
    {
     "name": "stdout",
     "output_type": "stream",
     "text": [
      "13:19:55.453 DEBUG org.hibernate.SQL - insert into CUSTOMER (birthDate,creationDate,email,firstname,lastname,photo,status,version,ID) values (?,?,?,?,?,?,?,?,?)\n"
     ]
    },
    {
     "name": "stdout",
     "output_type": "stream",
     "text": [
      "13:19:55.453 DEBUG org.hibernate.SQL - select count(*)>0 from CUSTOMER c1_0 where c1_0.email=?\n"
     ]
    },
    {
     "name": "stdout",
     "output_type": "stream",
     "text": [
      "13:19:55.453 DEBUG org.hibernate.SQL - insert into CUSTOMER (birthDate,creationDate,email,firstname,lastname,photo,status,version,ID) values (?,?,?,?,?,?,?,?,?)\n"
     ]
    },
    {
     "name": "stdout",
     "output_type": "stream",
     "text": [
      "13:19:55.453 DEBUG org.hibernate.SQL - select count(*)>0 from CUSTOMER c1_0 where c1_0.email=?\n"
     ]
    },
    {
     "name": "stdout",
     "output_type": "stream",
     "text": [
      "13:19:55.454 DEBUG org.hibernate.SQL - insert into CUSTOMER (birthDate,creationDate,email,firstname,lastname,photo,status,version,ID) values (?,?,?,?,?,?,?,?,?)\n"
     ]
    },
    {
     "name": "stdout",
     "output_type": "stream",
     "text": [
      "13:19:55.454 DEBUG org.hibernate.SQL - select count(*)>0 from CUSTOMER c1_0 where c1_0.email=?\n"
     ]
    },
    {
     "name": "stdout",
     "output_type": "stream",
     "text": [
      "13:19:55.454 DEBUG org.hibernate.SQL - insert into CUSTOMER (birthDate,creationDate,email,firstname,lastname,photo,status,version,ID) values (?,?,?,?,?,?,?,?,?)\n"
     ]
    },
    {
     "name": "stdout",
     "output_type": "stream",
     "text": [
      "13:19:55.455 DEBUG org.hibernate.SQL - select count(*)>0 from CUSTOMER c1_0 where c1_0.email=?\n"
     ]
    },
    {
     "name": "stdout",
     "output_type": "stream",
     "text": [
      "13:19:55.455 DEBUG org.hibernate.SQL - insert into CUSTOMER (birthDate,creationDate,email,firstname,lastname,photo,status,version,ID) values (?,?,?,?,?,?,?,?,?)\n"
     ]
    },
    {
     "name": "stdout",
     "output_type": "stream",
     "text": [
      "13:19:55.455 DEBUG org.hibernate.SQL - select count(*)>0 from CUSTOMER c1_0 where c1_0.email=?\n"
     ]
    },
    {
     "name": "stdout",
     "output_type": "stream",
     "text": [
      "13:19:55.456 DEBUG org.hibernate.SQL - insert into CUSTOMER (birthDate,creationDate,email,firstname,lastname,photo,status,version,ID) values (?,?,?,?,?,?,?,?,?)\n"
     ]
    },
    {
     "name": "stdout",
     "output_type": "stream",
     "text": [
      "13:19:55.456 DEBUG org.hibernate.SQL - select count(*)>0 from CUSTOMER c1_0 where c1_0.email=?\n"
     ]
    },
    {
     "name": "stdout",
     "output_type": "stream",
     "text": [
      "13:19:55.456 DEBUG org.hibernate.SQL - insert into CUSTOMER (birthDate,creationDate,email,firstname,lastname,photo,status,version,ID) values (?,?,?,?,?,?,?,?,?)\n"
     ]
    },
    {
     "name": "stdout",
     "output_type": "stream",
     "text": [
      "13:19:55.456 DEBUG org.hibernate.SQL - select count(*)>0 from CUSTOMER c1_0 where c1_0.email=?\n"
     ]
    },
    {
     "name": "stdout",
     "output_type": "stream",
     "text": [
      "13:19:55.457 DEBUG org.hibernate.SQL - insert into CUSTOMER (birthDate,creationDate,email,firstname,lastname,photo,status,version,ID) values (?,?,?,?,?,?,?,?,?)\n"
     ]
    },
    {
     "name": "stdout",
     "output_type": "stream",
     "text": [
      "13:19:55.457 DEBUG org.hibernate.SQL - select count(*)>0 from CUSTOMER c1_0 where c1_0.email=?\n"
     ]
    },
    {
     "name": "stdout",
     "output_type": "stream",
     "text": [
      "13:19:55.457 DEBUG org.hibernate.SQL - insert into CUSTOMER (birthDate,creationDate,email,firstname,lastname,photo,status,version,ID) values (?,?,?,?,?,?,?,?,?)\n"
     ]
    },
    {
     "name": "stdout",
     "output_type": "stream",
     "text": [
      "13:19:55.458 DEBUG org.hibernate.SQL - select count(*)>0 from CUSTOMER c1_0 where c1_0.email=?\n"
     ]
    },
    {
     "name": "stdout",
     "output_type": "stream",
     "text": [
      "13:19:55.458 DEBUG org.hibernate.SQL - select nextval('CUSTOMER_SEQ')\n"
     ]
    },
    {
     "name": "stdout",
     "output_type": "stream",
     "text": [
      "13:19:55.458 DEBUG org.hibernate.SQL - insert into CUSTOMER (birthDate,creationDate,email,firstname,lastname,photo,status,version,ID) values (?,?,?,?,?,?,?,?,?)\n"
     ]
    },
    {
     "name": "stdout",
     "output_type": "stream",
     "text": [
      "13:19:55.458 DEBUG org.hibernate.SQL - select count(*)>0 from CUSTOMER c1_0 where c1_0.email=?\n"
     ]
    },
    {
     "name": "stdout",
     "output_type": "stream",
     "text": [
      "13:19:55.459 DEBUG org.hibernate.SQL - insert into CUSTOMER (birthDate,creationDate,email,firstname,lastname,photo,status,version,ID) values (?,?,?,?,?,?,?,?,?)\n"
     ]
    },
    {
     "name": "stdout",
     "output_type": "stream",
     "text": [
      "13:19:55.459 DEBUG org.hibernate.SQL - select count(*)>0 from CUSTOMER c1_0 where c1_0.email=?\n"
     ]
    },
    {
     "name": "stdout",
     "output_type": "stream",
     "text": [
      "13:19:55.460 DEBUG org.hibernate.SQL - insert into CUSTOMER (birthDate,creationDate,email,firstname,lastname,photo,status,version,ID) values (?,?,?,?,?,?,?,?,?)\n"
     ]
    },
    {
     "name": "stdout",
     "output_type": "stream",
     "text": [
      "13:19:55.460 DEBUG org.hibernate.SQL - select count(*)>0 from CUSTOMER c1_0 where c1_0.email=?\n"
     ]
    },
    {
     "name": "stdout",
     "output_type": "stream",
     "text": [
      "13:19:55.460 DEBUG org.hibernate.SQL - insert into CUSTOMER (birthDate,creationDate,email,firstname,lastname,photo,status,version,ID) values (?,?,?,?,?,?,?,?,?)\n"
     ]
    },
    {
     "name": "stdout",
     "output_type": "stream",
     "text": [
      "13:19:55.460 DEBUG org.hibernate.SQL - select count(*)>0 from CUSTOMER c1_0 where c1_0.email=?\n"
     ]
    },
    {
     "name": "stdout",
     "output_type": "stream",
     "text": [
      "13:19:55.461 DEBUG org.hibernate.SQL - insert into CUSTOMER (birthDate,creationDate,email,firstname,lastname,photo,status,version,ID) values (?,?,?,?,?,?,?,?,?)\n"
     ]
    },
    {
     "name": "stdout",
     "output_type": "stream",
     "text": [
      "13:19:55.461 DEBUG org.hibernate.SQL - select count(*)>0 from CUSTOMER c1_0 where c1_0.email=?\n"
     ]
    },
    {
     "name": "stdout",
     "output_type": "stream",
     "text": [
      "13:19:55.461 DEBUG org.hibernate.SQL - insert into CUSTOMER (birthDate,creationDate,email,firstname,lastname,photo,status,version,ID) values (?,?,?,?,?,?,?,?,?)\n"
     ]
    },
    {
     "name": "stdout",
     "output_type": "stream",
     "text": [
      "13:19:55.462 DEBUG org.hibernate.SQL - select count(*)>0 from CUSTOMER c1_0 where c1_0.email=?\n"
     ]
    },
    {
     "name": "stdout",
     "output_type": "stream",
     "text": [
      "13:19:55.462 DEBUG org.hibernate.SQL - insert into CUSTOMER (birthDate,creationDate,email,firstname,lastname,photo,status,version,ID) values (?,?,?,?,?,?,?,?,?)\n"
     ]
    },
    {
     "name": "stdout",
     "output_type": "stream",
     "text": [
      "13:19:55.462 DEBUG org.hibernate.SQL - select count(*)>0 from CUSTOMER c1_0 where c1_0.email=?\n"
     ]
    },
    {
     "name": "stdout",
     "output_type": "stream",
     "text": [
      "13:19:55.462 DEBUG org.hibernate.SQL - insert into CUSTOMER (birthDate,creationDate,email,firstname,lastname,photo,status,version,ID) values (?,?,?,?,?,?,?,?,?)\n"
     ]
    },
    {
     "name": "stdout",
     "output_type": "stream",
     "text": [
      "13:19:55.463 DEBUG org.hibernate.SQL - select count(*)>0 from CUSTOMER c1_0 where c1_0.email=?\n"
     ]
    },
    {
     "name": "stdout",
     "output_type": "stream",
     "text": [
      "13:19:55.463 DEBUG org.hibernate.SQL - insert into CUSTOMER (birthDate,creationDate,email,firstname,lastname,photo,status,version,ID) values (?,?,?,?,?,?,?,?,?)\n"
     ]
    },
    {
     "name": "stdout",
     "output_type": "stream",
     "text": [
      "13:19:55.463 DEBUG org.hibernate.SQL - select count(*)>0 from CUSTOMER c1_0 where c1_0.email=?\n"
     ]
    },
    {
     "name": "stdout",
     "output_type": "stream",
     "text": [
      "13:19:55.464 DEBUG org.hibernate.SQL - insert into CUSTOMER (birthDate,creationDate,email,firstname,lastname,photo,status,version,ID) values (?,?,?,?,?,?,?,?,?)\n"
     ]
    },
    {
     "name": "stdout",
     "output_type": "stream",
     "text": [
      "13:19:55.464 DEBUG org.hibernate.SQL - select count(*)>0 from CUSTOMER c1_0 where c1_0.email=?\n"
     ]
    },
    {
     "name": "stdout",
     "output_type": "stream",
     "text": [
      "13:19:55.464 DEBUG org.hibernate.SQL - insert into CUSTOMER (birthDate,creationDate,email,firstname,lastname,photo,status,version,ID) values (?,?,?,?,?,?,?,?,?)\n"
     ]
    },
    {
     "name": "stdout",
     "output_type": "stream",
     "text": [
      "13:19:55.465 DEBUG org.hibernate.SQL - select count(*)>0 from CUSTOMER c1_0 where c1_0.email=?\n"
     ]
    },
    {
     "name": "stdout",
     "output_type": "stream",
     "text": [
      "13:19:55.465 DEBUG org.hibernate.SQL - insert into CUSTOMER (birthDate,creationDate,email,firstname,lastname,photo,status,version,ID) values (?,?,?,?,?,?,?,?,?)\n"
     ]
    },
    {
     "name": "stdout",
     "output_type": "stream",
     "text": [
      "13:19:55.466 DEBUG org.hibernate.SQL - select count(*)>0 from CUSTOMER c1_0 where c1_0.email=?\n"
     ]
    },
    {
     "name": "stdout",
     "output_type": "stream",
     "text": [
      "13:19:55.466 DEBUG org.hibernate.SQL - insert into CUSTOMER (birthDate,creationDate,email,firstname,lastname,photo,status,version,ID) values (?,?,?,?,?,?,?,?,?)\n"
     ]
    },
    {
     "name": "stdout",
     "output_type": "stream",
     "text": [
      "13:19:55.466 DEBUG org.hibernate.SQL - select count(*)>0 from CUSTOMER c1_0 where c1_0.email=?\n"
     ]
    },
    {
     "name": "stdout",
     "output_type": "stream",
     "text": [
      "13:19:55.467 DEBUG org.hibernate.SQL - insert into CUSTOMER (birthDate,creationDate,email,firstname,lastname,photo,status,version,ID) values (?,?,?,?,?,?,?,?,?)\n"
     ]
    },
    {
     "name": "stdout",
     "output_type": "stream",
     "text": [
      "13:19:55.467 DEBUG org.hibernate.SQL - select count(*)>0 from CUSTOMER c1_0 where c1_0.email=?\n"
     ]
    },
    {
     "name": "stdout",
     "output_type": "stream",
     "text": [
      "13:19:55.467 DEBUG org.hibernate.SQL - insert into CUSTOMER (birthDate,creationDate,email,firstname,lastname,photo,status,version,ID) values (?,?,?,?,?,?,?,?,?)\n"
     ]
    },
    {
     "name": "stdout",
     "output_type": "stream",
     "text": [
      "13:19:55.468 DEBUG org.hibernate.SQL - select count(*)>0 from CUSTOMER c1_0 where c1_0.email=?\n"
     ]
    },
    {
     "name": "stdout",
     "output_type": "stream",
     "text": [
      "13:19:55.468 DEBUG org.hibernate.SQL - insert into CUSTOMER (birthDate,creationDate,email,firstname,lastname,photo,status,version,ID) values (?,?,?,?,?,?,?,?,?)\n"
     ]
    },
    {
     "name": "stdout",
     "output_type": "stream",
     "text": [
      "13:19:55.468 DEBUG org.hibernate.SQL - select count(*)>0 from CUSTOMER c1_0 where c1_0.email=?\n"
     ]
    },
    {
     "name": "stdout",
     "output_type": "stream",
     "text": [
      "13:19:55.469 DEBUG org.hibernate.SQL - insert into CUSTOMER (birthDate,creationDate,email,firstname,lastname,photo,status,version,ID) values (?,?,?,?,?,?,?,?,?)\n"
     ]
    },
    {
     "name": "stdout",
     "output_type": "stream",
     "text": [
      "13:19:55.469 DEBUG org.hibernate.SQL - select count(*)>0 from CUSTOMER c1_0 where c1_0.email=?\n"
     ]
    },
    {
     "name": "stdout",
     "output_type": "stream",
     "text": [
      "13:19:55.469 DEBUG org.hibernate.SQL - insert into CUSTOMER (birthDate,creationDate,email,firstname,lastname,photo,status,version,ID) values (?,?,?,?,?,?,?,?,?)\n"
     ]
    },
    {
     "name": "stdout",
     "output_type": "stream",
     "text": [
      "13:19:55.470 DEBUG org.hibernate.SQL - select count(*)>0 from CUSTOMER c1_0 where c1_0.email=?\n"
     ]
    },
    {
     "name": "stdout",
     "output_type": "stream",
     "text": [
      "13:19:55.470 DEBUG org.hibernate.SQL - insert into CUSTOMER (birthDate,creationDate,email,firstname,lastname,photo,status,version,ID) values (?,?,?,?,?,?,?,?,?)\n"
     ]
    },
    {
     "name": "stdout",
     "output_type": "stream",
     "text": [
      "13:19:55.470 DEBUG org.hibernate.SQL - select count(*)>0 from CUSTOMER c1_0 where c1_0.email=?\n"
     ]
    },
    {
     "name": "stdout",
     "output_type": "stream",
     "text": [
      "13:19:55.471 DEBUG org.hibernate.SQL - insert into CUSTOMER (birthDate,creationDate,email,firstname,lastname,photo,status,version,ID) values (?,?,?,?,?,?,?,?,?)\n"
     ]
    },
    {
     "name": "stdout",
     "output_type": "stream",
     "text": [
      "13:19:55.471 DEBUG org.hibernate.SQL - select count(*)>0 from CUSTOMER c1_0 where c1_0.email=?\n"
     ]
    },
    {
     "name": "stdout",
     "output_type": "stream",
     "text": [
      "13:19:55.471 DEBUG org.hibernate.SQL - insert into CUSTOMER (birthDate,creationDate,email,firstname,lastname,photo,status,version,ID) values (?,?,?,?,?,?,?,?,?)\n"
     ]
    },
    {
     "name": "stdout",
     "output_type": "stream",
     "text": [
      "13:19:55.472 DEBUG org.hibernate.SQL - select count(*)>0 from CUSTOMER c1_0 where c1_0.email=?\n"
     ]
    },
    {
     "name": "stdout",
     "output_type": "stream",
     "text": [
      "13:19:55.472 DEBUG org.hibernate.SQL - insert into CUSTOMER (birthDate,creationDate,email,firstname,lastname,photo,status,version,ID) values (?,?,?,?,?,?,?,?,?)\n"
     ]
    },
    {
     "name": "stdout",
     "output_type": "stream",
     "text": [
      "13:19:55.472 DEBUG org.hibernate.SQL - select count(*)>0 from CUSTOMER c1_0 where c1_0.email=?\n"
     ]
    },
    {
     "name": "stdout",
     "output_type": "stream",
     "text": [
      "13:19:55.473 DEBUG org.hibernate.SQL - insert into CUSTOMER (birthDate,creationDate,email,firstname,lastname,photo,status,version,ID) values (?,?,?,?,?,?,?,?,?)\n"
     ]
    },
    {
     "name": "stdout",
     "output_type": "stream",
     "text": [
      "13:19:55.473 DEBUG org.hibernate.SQL - select count(*)>0 from CUSTOMER c1_0 where c1_0.email=?\n"
     ]
    },
    {
     "name": "stdout",
     "output_type": "stream",
     "text": [
      "13:19:55.474 DEBUG org.hibernate.SQL - insert into CUSTOMER (birthDate,creationDate,email,firstname,lastname,photo,status,version,ID) values (?,?,?,?,?,?,?,?,?)\n"
     ]
    },
    {
     "name": "stdout",
     "output_type": "stream",
     "text": [
      "13:19:55.474 DEBUG org.hibernate.SQL - select count(*)>0 from CUSTOMER c1_0 where c1_0.email=?\n"
     ]
    },
    {
     "name": "stdout",
     "output_type": "stream",
     "text": [
      "13:19:55.474 DEBUG org.hibernate.SQL - insert into CUSTOMER (birthDate,creationDate,email,firstname,lastname,photo,status,version,ID) values (?,?,?,?,?,?,?,?,?)\n"
     ]
    },
    {
     "name": "stdout",
     "output_type": "stream",
     "text": [
      "13:19:55.475 DEBUG org.hibernate.SQL - select count(*)>0 from CUSTOMER c1_0 where c1_0.email=?\n"
     ]
    },
    {
     "name": "stdout",
     "output_type": "stream",
     "text": [
      "13:19:55.475 DEBUG org.hibernate.SQL - insert into CUSTOMER (birthDate,creationDate,email,firstname,lastname,photo,status,version,ID) values (?,?,?,?,?,?,?,?,?)\n"
     ]
    },
    {
     "name": "stdout",
     "output_type": "stream",
     "text": [
      "13:19:55.475 DEBUG org.hibernate.SQL - select count(*)>0 from CUSTOMER c1_0 where c1_0.email=?\n"
     ]
    },
    {
     "name": "stdout",
     "output_type": "stream",
     "text": [
      "13:19:55.476 DEBUG org.hibernate.SQL - insert into CUSTOMER (birthDate,creationDate,email,firstname,lastname,photo,status,version,ID) values (?,?,?,?,?,?,?,?,?)\n"
     ]
    },
    {
     "name": "stdout",
     "output_type": "stream",
     "text": [
      "13:19:55.476 DEBUG org.hibernate.SQL - select count(*)>0 from CUSTOMER c1_0 where c1_0.email=?\n"
     ]
    },
    {
     "name": "stdout",
     "output_type": "stream",
     "text": [
      "13:19:55.476 DEBUG org.hibernate.SQL - insert into CUSTOMER (birthDate,creationDate,email,firstname,lastname,photo,status,version,ID) values (?,?,?,?,?,?,?,?,?)\n"
     ]
    },
    {
     "name": "stdout",
     "output_type": "stream",
     "text": [
      "13:19:55.477 DEBUG org.hibernate.SQL - select count(*)>0 from CUSTOMER c1_0 where c1_0.email=?\n"
     ]
    },
    {
     "name": "stdout",
     "output_type": "stream",
     "text": [
      "13:19:55.477 DEBUG org.hibernate.SQL - insert into CUSTOMER (birthDate,creationDate,email,firstname,lastname,photo,status,version,ID) values (?,?,?,?,?,?,?,?,?)\n"
     ]
    },
    {
     "name": "stdout",
     "output_type": "stream",
     "text": [
      "13:19:55.477 DEBUG org.hibernate.SQL - select count(*)>0 from CUSTOMER c1_0 where c1_0.email=?\n"
     ]
    },
    {
     "name": "stdout",
     "output_type": "stream",
     "text": [
      "13:19:55.478 DEBUG org.hibernate.SQL - insert into CUSTOMER (birthDate,creationDate,email,firstname,lastname,photo,status,version,ID) values (?,?,?,?,?,?,?,?,?)\n"
     ]
    },
    {
     "name": "stdout",
     "output_type": "stream",
     "text": [
      "13:19:55.478 DEBUG org.hibernate.SQL - select count(*)>0 from CUSTOMER c1_0 where c1_0.email=?\n"
     ]
    },
    {
     "name": "stdout",
     "output_type": "stream",
     "text": [
      "13:19:55.479 DEBUG org.hibernate.SQL - insert into CUSTOMER (birthDate,creationDate,email,firstname,lastname,photo,status,version,ID) values (?,?,?,?,?,?,?,?,?)\n"
     ]
    },
    {
     "name": "stdout",
     "output_type": "stream",
     "text": [
      "13:19:55.479 DEBUG org.hibernate.SQL - select count(*)>0 from CUSTOMER c1_0 where c1_0.email=?\n"
     ]
    },
    {
     "name": "stdout",
     "output_type": "stream",
     "text": [
      "13:19:55.479 DEBUG org.hibernate.SQL - insert into CUSTOMER (birthDate,creationDate,email,firstname,lastname,photo,status,version,ID) values (?,?,?,?,?,?,?,?,?)\n"
     ]
    },
    {
     "name": "stdout",
     "output_type": "stream",
     "text": [
      "13:19:55.480 DEBUG org.hibernate.SQL - select count(*)>0 from CUSTOMER c1_0 where c1_0.email=?\n"
     ]
    },
    {
     "name": "stdout",
     "output_type": "stream",
     "text": [
      "13:19:55.480 DEBUG org.hibernate.SQL - insert into CUSTOMER (birthDate,creationDate,email,firstname,lastname,photo,status,version,ID) values (?,?,?,?,?,?,?,?,?)\n"
     ]
    },
    {
     "name": "stdout",
     "output_type": "stream",
     "text": [
      "13:19:55.480 DEBUG org.hibernate.SQL - select count(*)>0 from CUSTOMER c1_0 where c1_0.email=?\n"
     ]
    },
    {
     "name": "stdout",
     "output_type": "stream",
     "text": [
      "13:19:55.481 DEBUG org.hibernate.SQL - insert into CUSTOMER (birthDate,creationDate,email,firstname,lastname,photo,status,version,ID) values (?,?,?,?,?,?,?,?,?)\n"
     ]
    },
    {
     "name": "stdout",
     "output_type": "stream",
     "text": [
      "13:19:55.481 DEBUG org.hibernate.SQL - select count(*)>0 from CUSTOMER c1_0 where c1_0.email=?\n"
     ]
    },
    {
     "name": "stdout",
     "output_type": "stream",
     "text": [
      "13:19:55.482 DEBUG org.hibernate.SQL - insert into CUSTOMER (birthDate,creationDate,email,firstname,lastname,photo,status,version,ID) values (?,?,?,?,?,?,?,?,?)\n"
     ]
    },
    {
     "name": "stdout",
     "output_type": "stream",
     "text": [
      "13:19:55.482 DEBUG org.hibernate.SQL - select count(*)>0 from CUSTOMER c1_0 where c1_0.email=?\n"
     ]
    },
    {
     "name": "stdout",
     "output_type": "stream",
     "text": [
      "13:19:55.482 DEBUG org.hibernate.SQL - insert into CUSTOMER (birthDate,creationDate,email,firstname,lastname,photo,status,version,ID) values (?,?,?,?,?,?,?,?,?)\n"
     ]
    },
    {
     "name": "stdout",
     "output_type": "stream",
     "text": [
      "13:19:55.482 DEBUG org.hibernate.SQL - select count(*)>0 from CUSTOMER c1_0 where c1_0.email=?\n"
     ]
    },
    {
     "name": "stdout",
     "output_type": "stream",
     "text": [
      "13:19:55.483 DEBUG org.hibernate.SQL - insert into CUSTOMER (birthDate,creationDate,email,firstname,lastname,photo,status,version,ID) values (?,?,?,?,?,?,?,?,?)\n"
     ]
    },
    {
     "name": "stdout",
     "output_type": "stream",
     "text": [
      "13:19:55.483 DEBUG org.hibernate.SQL - select count(*)>0 from CUSTOMER c1_0 where c1_0.email=?\n"
     ]
    },
    {
     "name": "stdout",
     "output_type": "stream",
     "text": [
      "13:19:55.484 DEBUG org.hibernate.SQL - insert into CUSTOMER (birthDate,creationDate,email,firstname,lastname,photo,status,version,ID) values (?,?,?,?,?,?,?,?,?)\n"
     ]
    },
    {
     "name": "stdout",
     "output_type": "stream",
     "text": [
      "13:19:55.484 DEBUG org.hibernate.SQL - select count(*)>0 from CUSTOMER c1_0 where c1_0.email=?\n"
     ]
    },
    {
     "name": "stdout",
     "output_type": "stream",
     "text": [
      "13:19:55.485 DEBUG org.hibernate.SQL - insert into CUSTOMER (birthDate,creationDate,email,firstname,lastname,photo,status,version,ID) values (?,?,?,?,?,?,?,?,?)\n"
     ]
    },
    {
     "name": "stdout",
     "output_type": "stream",
     "text": [
      "13:19:55.485 DEBUG org.hibernate.SQL - select count(*)>0 from CUSTOMER c1_0 where c1_0.email=?\n"
     ]
    },
    {
     "name": "stdout",
     "output_type": "stream",
     "text": [
      "13:19:55.485 DEBUG org.hibernate.SQL - insert into CUSTOMER (birthDate,creationDate,email,firstname,lastname,photo,status,version,ID) values (?,?,?,?,?,?,?,?,?)\n"
     ]
    },
    {
     "name": "stdout",
     "output_type": "stream",
     "text": [
      "13:19:55.485 DEBUG org.hibernate.SQL - select count(*)>0 from CUSTOMER c1_0 where c1_0.email=?\n"
     ]
    },
    {
     "name": "stdout",
     "output_type": "stream",
     "text": [
      "13:19:55.486 DEBUG org.hibernate.SQL - insert into CUSTOMER (birthDate,creationDate,email,firstname,lastname,photo,status,version,ID) values (?,?,?,?,?,?,?,?,?)\n"
     ]
    },
    {
     "name": "stdout",
     "output_type": "stream",
     "text": [
      "13:19:55.486 DEBUG org.hibernate.SQL - select count(*)>0 from CUSTOMER c1_0 where c1_0.email=?\n"
     ]
    },
    {
     "name": "stdout",
     "output_type": "stream",
     "text": [
      "13:19:55.487 DEBUG org.hibernate.SQL - insert into CUSTOMER (birthDate,creationDate,email,firstname,lastname,photo,status,version,ID) values (?,?,?,?,?,?,?,?,?)\n"
     ]
    },
    {
     "name": "stdout",
     "output_type": "stream",
     "text": [
      "13:19:55.487 DEBUG org.hibernate.SQL - select count(*)>0 from CUSTOMER c1_0 where c1_0.email=?\n"
     ]
    },
    {
     "name": "stdout",
     "output_type": "stream",
     "text": [
      "13:19:55.487 DEBUG org.hibernate.SQL - insert into CUSTOMER (birthDate,creationDate,email,firstname,lastname,photo,status,version,ID) values (?,?,?,?,?,?,?,?,?)\n"
     ]
    },
    {
     "name": "stdout",
     "output_type": "stream",
     "text": [
      "13:19:55.488 DEBUG org.hibernate.SQL - select count(*)>0 from CUSTOMER c1_0 where c1_0.email=?\n"
     ]
    },
    {
     "name": "stdout",
     "output_type": "stream",
     "text": [
      "13:19:55.488 DEBUG org.hibernate.SQL - insert into CUSTOMER (birthDate,creationDate,email,firstname,lastname,photo,status,version,ID) values (?,?,?,?,?,?,?,?,?)\n"
     ]
    },
    {
     "name": "stdout",
     "output_type": "stream",
     "text": [
      "13:19:55.488 DEBUG org.hibernate.SQL - select count(*)>0 from CUSTOMER c1_0 where c1_0.email=?\n"
     ]
    },
    {
     "name": "stdout",
     "output_type": "stream",
     "text": [
      "13:19:55.489 DEBUG org.hibernate.SQL - insert into CUSTOMER (birthDate,creationDate,email,firstname,lastname,photo,status,version,ID) values (?,?,?,?,?,?,?,?,?)\n"
     ]
    },
    {
     "name": "stdout",
     "output_type": "stream",
     "text": [
      "13:19:55.489 DEBUG org.hibernate.SQL - select count(*)>0 from CUSTOMER c1_0 where c1_0.email=?\n"
     ]
    },
    {
     "name": "stdout",
     "output_type": "stream",
     "text": [
      "13:19:55.490 DEBUG org.hibernate.SQL - insert into CUSTOMER (birthDate,creationDate,email,firstname,lastname,photo,status,version,ID) values (?,?,?,?,?,?,?,?,?)\n"
     ]
    },
    {
     "name": "stdout",
     "output_type": "stream",
     "text": [
      "13:19:55.490 DEBUG org.hibernate.SQL - select count(*)>0 from CUSTOMER c1_0 where c1_0.email=?\n"
     ]
    },
    {
     "name": "stdout",
     "output_type": "stream",
     "text": [
      "13:19:55.490 DEBUG org.hibernate.SQL - insert into CUSTOMER (birthDate,creationDate,email,firstname,lastname,photo,status,version,ID) values (?,?,?,?,?,?,?,?,?)\n"
     ]
    },
    {
     "name": "stdout",
     "output_type": "stream",
     "text": [
      "13:19:55.491 DEBUG org.hibernate.SQL - select count(*)>0 from CUSTOMER c1_0 where c1_0.email=?\n"
     ]
    },
    {
     "name": "stdout",
     "output_type": "stream",
     "text": [
      "13:19:55.491 DEBUG org.hibernate.SQL - insert into CUSTOMER (birthDate,creationDate,email,firstname,lastname,photo,status,version,ID) values (?,?,?,?,?,?,?,?,?)\n"
     ]
    },
    {
     "name": "stdout",
     "output_type": "stream",
     "text": [
      "13:19:55.491 DEBUG org.hibernate.SQL - select count(*)>0 from CUSTOMER c1_0 where c1_0.email=?\n"
     ]
    },
    {
     "name": "stdout",
     "output_type": "stream",
     "text": [
      "13:19:55.492 DEBUG org.hibernate.SQL - insert into CUSTOMER (birthDate,creationDate,email,firstname,lastname,photo,status,version,ID) values (?,?,?,?,?,?,?,?,?)\n"
     ]
    },
    {
     "name": "stdout",
     "output_type": "stream",
     "text": [
      "13:19:55.492 DEBUG org.hibernate.SQL - select count(*)>0 from CUSTOMER c1_0 where c1_0.email=?\n"
     ]
    },
    {
     "name": "stdout",
     "output_type": "stream",
     "text": [
      "13:19:55.493 DEBUG org.hibernate.SQL - insert into CUSTOMER (birthDate,creationDate,email,firstname,lastname,photo,status,version,ID) values (?,?,?,?,?,?,?,?,?)\n"
     ]
    },
    {
     "name": "stdout",
     "output_type": "stream",
     "text": [
      "13:19:55.493 DEBUG org.hibernate.SQL - select count(*)>0 from CUSTOMER c1_0 where c1_0.email=?\n"
     ]
    },
    {
     "name": "stdout",
     "output_type": "stream",
     "text": [
      "13:19:55.493 DEBUG org.hibernate.SQL - select nextval('CUSTOMER_SEQ')\n"
     ]
    },
    {
     "name": "stdout",
     "output_type": "stream",
     "text": [
      "13:19:55.493 DEBUG org.hibernate.SQL - insert into CUSTOMER (birthDate,creationDate,email,firstname,lastname,photo,status,version,ID) values (?,?,?,?,?,?,?,?,?)\n"
     ]
    },
    {
     "name": "stdout",
     "output_type": "stream",
     "text": [
      "13:19:55.494 DEBUG org.hibernate.SQL - select count(*)>0 from CUSTOMER c1_0 where c1_0.email=?\n"
     ]
    },
    {
     "name": "stdout",
     "output_type": "stream",
     "text": [
      "13:19:55.494 DEBUG org.hibernate.SQL - insert into CUSTOMER (birthDate,creationDate,email,firstname,lastname,photo,status,version,ID) values (?,?,?,?,?,?,?,?,?)\n"
     ]
    },
    {
     "name": "stdout",
     "output_type": "stream",
     "text": [
      "13:19:55.494 DEBUG org.hibernate.SQL - select count(*)>0 from CUSTOMER c1_0 where c1_0.email=?\n"
     ]
    },
    {
     "name": "stdout",
     "output_type": "stream",
     "text": [
      "13:19:55.495 DEBUG org.hibernate.SQL - insert into CUSTOMER (birthDate,creationDate,email,firstname,lastname,photo,status,version,ID) values (?,?,?,?,?,?,?,?,?)\n"
     ]
    },
    {
     "name": "stdout",
     "output_type": "stream",
     "text": [
      "13:19:55.495 DEBUG org.hibernate.SQL - select count(*)>0 from CUSTOMER c1_0 where c1_0.email=?\n"
     ]
    },
    {
     "name": "stdout",
     "output_type": "stream",
     "text": [
      "13:19:55.495 DEBUG org.hibernate.SQL - insert into CUSTOMER (birthDate,creationDate,email,firstname,lastname,photo,status,version,ID) values (?,?,?,?,?,?,?,?,?)\n"
     ]
    },
    {
     "name": "stdout",
     "output_type": "stream",
     "text": [
      "13:19:55.496 DEBUG org.hibernate.SQL - select count(*)>0 from CUSTOMER c1_0 where c1_0.email=?\n"
     ]
    },
    {
     "name": "stdout",
     "output_type": "stream",
     "text": [
      "13:19:55.496 DEBUG org.hibernate.SQL - insert into CUSTOMER (birthDate,creationDate,email,firstname,lastname,photo,status,version,ID) values (?,?,?,?,?,?,?,?,?)\n"
     ]
    },
    {
     "name": "stdout",
     "output_type": "stream",
     "text": [
      "13:19:55.497 DEBUG org.hibernate.SQL - select count(*)>0 from CUSTOMER c1_0 where c1_0.email=?\n"
     ]
    },
    {
     "name": "stdout",
     "output_type": "stream",
     "text": [
      "13:19:55.497 DEBUG org.hibernate.SQL - insert into CUSTOMER (birthDate,creationDate,email,firstname,lastname,photo,status,version,ID) values (?,?,?,?,?,?,?,?,?)\n"
     ]
    },
    {
     "name": "stdout",
     "output_type": "stream",
     "text": [
      "13:19:55.497 DEBUG org.hibernate.SQL - select count(*)>0 from CUSTOMER c1_0 where c1_0.email=?\n"
     ]
    },
    {
     "name": "stdout",
     "output_type": "stream",
     "text": [
      "13:19:55.498 DEBUG org.hibernate.SQL - insert into CUSTOMER (birthDate,creationDate,email,firstname,lastname,photo,status,version,ID) values (?,?,?,?,?,?,?,?,?)\n"
     ]
    },
    {
     "name": "stdout",
     "output_type": "stream",
     "text": [
      "13:19:55.498 DEBUG org.hibernate.SQL - select count(*)>0 from CUSTOMER c1_0 where c1_0.email=?\n"
     ]
    },
    {
     "name": "stdout",
     "output_type": "stream",
     "text": [
      "13:19:55.498 DEBUG org.hibernate.SQL - insert into CUSTOMER (birthDate,creationDate,email,firstname,lastname,photo,status,version,ID) values (?,?,?,?,?,?,?,?,?)\n"
     ]
    },
    {
     "name": "stdout",
     "output_type": "stream",
     "text": [
      "13:19:55.499 DEBUG org.hibernate.SQL - select count(*)>0 from CUSTOMER c1_0 where c1_0.email=?\n"
     ]
    },
    {
     "name": "stdout",
     "output_type": "stream",
     "text": [
      "13:19:55.499 DEBUG org.hibernate.SQL - insert into CUSTOMER (birthDate,creationDate,email,firstname,lastname,photo,status,version,ID) values (?,?,?,?,?,?,?,?,?)\n"
     ]
    },
    {
     "name": "stdout",
     "output_type": "stream",
     "text": [
      "13:19:55.499 DEBUG org.hibernate.SQL - select count(*)>0 from CUSTOMER c1_0 where c1_0.email=?\n"
     ]
    },
    {
     "name": "stdout",
     "output_type": "stream",
     "text": [
      "13:19:55.500 DEBUG org.hibernate.SQL - insert into CUSTOMER (birthDate,creationDate,email,firstname,lastname,photo,status,version,ID) values (?,?,?,?,?,?,?,?,?)\n"
     ]
    },
    {
     "name": "stdout",
     "output_type": "stream",
     "text": [
      "13:19:55.500 DEBUG org.hibernate.SQL - select count(*)>0 from CUSTOMER c1_0 where c1_0.email=?\n"
     ]
    },
    {
     "name": "stdout",
     "output_type": "stream",
     "text": [
      "13:19:55.500 DEBUG org.hibernate.SQL - insert into CUSTOMER (birthDate,creationDate,email,firstname,lastname,photo,status,version,ID) values (?,?,?,?,?,?,?,?,?)\n"
     ]
    },
    {
     "name": "stdout",
     "output_type": "stream",
     "text": [
      "13:19:55.501 DEBUG org.hibernate.SQL - select count(*)>0 from CUSTOMER c1_0 where c1_0.email=?\n"
     ]
    },
    {
     "name": "stdout",
     "output_type": "stream",
     "text": [
      "13:19:55.501 DEBUG org.hibernate.SQL - insert into CUSTOMER (birthDate,creationDate,email,firstname,lastname,photo,status,version,ID) values (?,?,?,?,?,?,?,?,?)\n"
     ]
    },
    {
     "name": "stdout",
     "output_type": "stream",
     "text": [
      "13:19:55.502 DEBUG org.hibernate.SQL - select count(*)>0 from CUSTOMER c1_0 where c1_0.email=?\n"
     ]
    },
    {
     "name": "stdout",
     "output_type": "stream",
     "text": [
      "13:19:55.502 DEBUG org.hibernate.SQL - insert into CUSTOMER (birthDate,creationDate,email,firstname,lastname,photo,status,version,ID) values (?,?,?,?,?,?,?,?,?)\n"
     ]
    },
    {
     "name": "stdout",
     "output_type": "stream",
     "text": [
      "13:19:55.502 DEBUG org.hibernate.SQL - select count(*)>0 from CUSTOMER c1_0 where c1_0.email=?\n"
     ]
    },
    {
     "name": "stdout",
     "output_type": "stream",
     "text": [
      "13:19:55.503 DEBUG org.hibernate.SQL - insert into CUSTOMER (birthDate,creationDate,email,firstname,lastname,photo,status,version,ID) values (?,?,?,?,?,?,?,?,?)\n"
     ]
    },
    {
     "name": "stdout",
     "output_type": "stream",
     "text": [
      "13:19:55.503 DEBUG org.hibernate.SQL - select count(*)>0 from CUSTOMER c1_0 where c1_0.email=?\n"
     ]
    },
    {
     "name": "stdout",
     "output_type": "stream",
     "text": [
      "13:19:55.503 DEBUG org.hibernate.SQL - insert into CUSTOMER (birthDate,creationDate,email,firstname,lastname,photo,status,version,ID) values (?,?,?,?,?,?,?,?,?)\n"
     ]
    },
    {
     "name": "stdout",
     "output_type": "stream",
     "text": [
      "13:19:55.504 DEBUG org.hibernate.SQL - select count(*)>0 from CUSTOMER c1_0 where c1_0.email=?\n"
     ]
    },
    {
     "name": "stdout",
     "output_type": "stream",
     "text": [
      "13:19:55.504 DEBUG org.hibernate.SQL - insert into CUSTOMER (birthDate,creationDate,email,firstname,lastname,photo,status,version,ID) values (?,?,?,?,?,?,?,?,?)\n"
     ]
    },
    {
     "name": "stdout",
     "output_type": "stream",
     "text": [
      "13:19:55.504 DEBUG org.hibernate.SQL - select count(*)>0 from CUSTOMER c1_0 where c1_0.email=?\n"
     ]
    },
    {
     "name": "stdout",
     "output_type": "stream",
     "text": [
      "13:19:55.505 DEBUG org.hibernate.SQL - insert into CUSTOMER (birthDate,creationDate,email,firstname,lastname,photo,status,version,ID) values (?,?,?,?,?,?,?,?,?)\n"
     ]
    },
    {
     "name": "stdout",
     "output_type": "stream",
     "text": [
      "13:19:55.505 DEBUG org.hibernate.SQL - select count(*)>0 from CUSTOMER c1_0 where c1_0.email=?\n"
     ]
    },
    {
     "name": "stdout",
     "output_type": "stream",
     "text": [
      "13:19:55.506 DEBUG org.hibernate.SQL - insert into CUSTOMER (birthDate,creationDate,email,firstname,lastname,photo,status,version,ID) values (?,?,?,?,?,?,?,?,?)\n"
     ]
    },
    {
     "name": "stdout",
     "output_type": "stream",
     "text": [
      "13:19:55.506 DEBUG org.hibernate.SQL - select count(*)>0 from CUSTOMER c1_0 where c1_0.email=?\n"
     ]
    },
    {
     "name": "stdout",
     "output_type": "stream",
     "text": [
      "13:19:55.506 DEBUG org.hibernate.SQL - insert into CUSTOMER (birthDate,creationDate,email,firstname,lastname,photo,status,version,ID) values (?,?,?,?,?,?,?,?,?)\n"
     ]
    },
    {
     "name": "stdout",
     "output_type": "stream",
     "text": [
      "13:19:55.507 DEBUG org.hibernate.SQL - select count(*)>0 from CUSTOMER c1_0 where c1_0.email=?\n"
     ]
    },
    {
     "name": "stdout",
     "output_type": "stream",
     "text": [
      "13:19:55.507 DEBUG org.hibernate.SQL - insert into CUSTOMER (birthDate,creationDate,email,firstname,lastname,photo,status,version,ID) values (?,?,?,?,?,?,?,?,?)\n"
     ]
    },
    {
     "name": "stdout",
     "output_type": "stream",
     "text": [
      "13:19:55.507 DEBUG org.hibernate.SQL - select count(*)>0 from CUSTOMER c1_0 where c1_0.email=?\n"
     ]
    },
    {
     "name": "stdout",
     "output_type": "stream",
     "text": [
      "13:19:55.508 DEBUG org.hibernate.SQL - insert into CUSTOMER (birthDate,creationDate,email,firstname,lastname,photo,status,version,ID) values (?,?,?,?,?,?,?,?,?)\n"
     ]
    },
    {
     "name": "stdout",
     "output_type": "stream",
     "text": [
      "13:19:55.508 DEBUG org.hibernate.SQL - select count(*)>0 from CUSTOMER c1_0 where c1_0.email=?\n"
     ]
    },
    {
     "name": "stdout",
     "output_type": "stream",
     "text": [
      "13:19:55.508 DEBUG org.hibernate.SQL - insert into CUSTOMER (birthDate,creationDate,email,firstname,lastname,photo,status,version,ID) values (?,?,?,?,?,?,?,?,?)\n"
     ]
    },
    {
     "name": "stdout",
     "output_type": "stream",
     "text": [
      "13:19:55.509 DEBUG org.hibernate.SQL - select count(*)>0 from CUSTOMER c1_0 where c1_0.email=?\n"
     ]
    },
    {
     "name": "stdout",
     "output_type": "stream",
     "text": [
      "13:19:55.509 DEBUG org.hibernate.SQL - insert into CUSTOMER (birthDate,creationDate,email,firstname,lastname,photo,status,version,ID) values (?,?,?,?,?,?,?,?,?)\n"
     ]
    },
    {
     "name": "stdout",
     "output_type": "stream",
     "text": [
      "13:19:55.509 DEBUG org.hibernate.SQL - select count(*)>0 from CUSTOMER c1_0 where c1_0.email=?\n"
     ]
    },
    {
     "name": "stdout",
     "output_type": "stream",
     "text": [
      "13:19:55.510 DEBUG org.hibernate.SQL - insert into CUSTOMER (birthDate,creationDate,email,firstname,lastname,photo,status,version,ID) values (?,?,?,?,?,?,?,?,?)\n"
     ]
    },
    {
     "name": "stdout",
     "output_type": "stream",
     "text": [
      "13:19:55.510 DEBUG org.hibernate.SQL - select count(*)>0 from CUSTOMER c1_0 where c1_0.email=?\n"
     ]
    },
    {
     "name": "stdout",
     "output_type": "stream",
     "text": [
      "13:19:55.510 DEBUG org.hibernate.SQL - insert into CUSTOMER (birthDate,creationDate,email,firstname,lastname,photo,status,version,ID) values (?,?,?,?,?,?,?,?,?)\n"
     ]
    },
    {
     "name": "stdout",
     "output_type": "stream",
     "text": [
      "13:19:55.511 DEBUG org.hibernate.SQL - select count(*)>0 from CUSTOMER c1_0 where c1_0.email=?\n"
     ]
    },
    {
     "name": "stdout",
     "output_type": "stream",
     "text": [
      "13:19:55.511 DEBUG org.hibernate.SQL - insert into CUSTOMER (birthDate,creationDate,email,firstname,lastname,photo,status,version,ID) values (?,?,?,?,?,?,?,?,?)\n"
     ]
    },
    {
     "name": "stdout",
     "output_type": "stream",
     "text": [
      "13:19:55.511 DEBUG org.hibernate.SQL - select count(*)>0 from CUSTOMER c1_0 where c1_0.email=?\n"
     ]
    },
    {
     "name": "stdout",
     "output_type": "stream",
     "text": [
      "13:19:55.512 DEBUG org.hibernate.SQL - insert into CUSTOMER (birthDate,creationDate,email,firstname,lastname,photo,status,version,ID) values (?,?,?,?,?,?,?,?,?)\n"
     ]
    },
    {
     "name": "stdout",
     "output_type": "stream",
     "text": [
      "13:19:55.512 DEBUG org.hibernate.SQL - select count(*)>0 from CUSTOMER c1_0 where c1_0.email=?\n"
     ]
    },
    {
     "name": "stdout",
     "output_type": "stream",
     "text": [
      "13:19:55.512 DEBUG org.hibernate.SQL - insert into CUSTOMER (birthDate,creationDate,email,firstname,lastname,photo,status,version,ID) values (?,?,?,?,?,?,?,?,?)\n"
     ]
    },
    {
     "name": "stdout",
     "output_type": "stream",
     "text": [
      "13:19:55.513 DEBUG org.hibernate.SQL - select count(*)>0 from CUSTOMER c1_0 where c1_0.email=?\n"
     ]
    },
    {
     "name": "stdout",
     "output_type": "stream",
     "text": [
      "13:19:55.513 DEBUG org.hibernate.SQL - insert into CUSTOMER (birthDate,creationDate,email,firstname,lastname,photo,status,version,ID) values (?,?,?,?,?,?,?,?,?)\n"
     ]
    },
    {
     "name": "stdout",
     "output_type": "stream",
     "text": [
      "13:19:55.513 DEBUG org.hibernate.SQL - select count(*)>0 from CUSTOMER c1_0 where c1_0.email=?\n"
     ]
    },
    {
     "name": "stdout",
     "output_type": "stream",
     "text": [
      "13:19:55.513 DEBUG org.hibernate.SQL - insert into CUSTOMER (birthDate,creationDate,email,firstname,lastname,photo,status,version,ID) values (?,?,?,?,?,?,?,?,?)\n"
     ]
    },
    {
     "name": "stdout",
     "output_type": "stream",
     "text": [
      "13:19:55.514 DEBUG org.hibernate.SQL - select count(*)>0 from CUSTOMER c1_0 where c1_0.email=?\n"
     ]
    },
    {
     "name": "stdout",
     "output_type": "stream",
     "text": [
      "13:19:55.514 DEBUG org.hibernate.SQL - insert into CUSTOMER (birthDate,creationDate,email,firstname,lastname,photo,status,version,ID) values (?,?,?,?,?,?,?,?,?)\n"
     ]
    },
    {
     "name": "stdout",
     "output_type": "stream",
     "text": [
      "13:19:55.515 DEBUG org.hibernate.SQL - select count(*)>0 from CUSTOMER c1_0 where c1_0.email=?\n"
     ]
    },
    {
     "name": "stdout",
     "output_type": "stream",
     "text": [
      "13:19:55.517 DEBUG org.hibernate.SQL - insert into CUSTOMER (birthDate,creationDate,email,firstname,lastname,photo,status,version,ID) values (?,?,?,?,?,?,?,?,?)\n"
     ]
    },
    {
     "name": "stdout",
     "output_type": "stream",
     "text": [
      "13:19:55.517 DEBUG org.hibernate.SQL - select count(*)>0 from CUSTOMER c1_0 where c1_0.email=?\n"
     ]
    },
    {
     "name": "stdout",
     "output_type": "stream",
     "text": [
      "13:19:55.518 DEBUG org.hibernate.SQL - insert into CUSTOMER (birthDate,creationDate,email,firstname,lastname,photo,status,version,ID) values (?,?,?,?,?,?,?,?,?)\n"
     ]
    },
    {
     "name": "stdout",
     "output_type": "stream",
     "text": [
      "13:19:55.519 DEBUG org.hibernate.SQL - select count(*)>0 from CUSTOMER c1_0 where c1_0.email=?\n"
     ]
    },
    {
     "name": "stdout",
     "output_type": "stream",
     "text": [
      "13:19:55.520 DEBUG org.hibernate.SQL - insert into CUSTOMER (birthDate,creationDate,email,firstname,lastname,photo,status,version,ID) values (?,?,?,?,?,?,?,?,?)\n"
     ]
    },
    {
     "name": "stdout",
     "output_type": "stream",
     "text": [
      "13:19:55.521 DEBUG org.hibernate.SQL - select count(*)>0 from CUSTOMER c1_0 where c1_0.email=?\n"
     ]
    },
    {
     "name": "stdout",
     "output_type": "stream",
     "text": [
      "13:19:55.522 DEBUG org.hibernate.SQL - insert into CUSTOMER (birthDate,creationDate,email,firstname,lastname,photo,status,version,ID) values (?,?,?,?,?,?,?,?,?)\n"
     ]
    },
    {
     "name": "stdout",
     "output_type": "stream",
     "text": [
      "13:19:55.524 DEBUG org.hibernate.SQL - select count(*)>0 from CUSTOMER c1_0 where c1_0.email=?\n"
     ]
    },
    {
     "name": "stdout",
     "output_type": "stream",
     "text": [
      "13:19:55.525 DEBUG org.hibernate.SQL - insert into CUSTOMER (birthDate,creationDate,email,firstname,lastname,photo,status,version,ID) values (?,?,?,?,?,?,?,?,?)\n"
     ]
    },
    {
     "name": "stdout",
     "output_type": "stream",
     "text": [
      "13:19:55.525 DEBUG org.hibernate.SQL - select count(*)>0 from CUSTOMER c1_0 where c1_0.email=?\n"
     ]
    },
    {
     "name": "stdout",
     "output_type": "stream",
     "text": [
      "13:19:55.526 DEBUG org.hibernate.SQL - insert into CUSTOMER (birthDate,creationDate,email,firstname,lastname,photo,status,version,ID) values (?,?,?,?,?,?,?,?,?)\n"
     ]
    },
    {
     "name": "stdout",
     "output_type": "stream",
     "text": [
      "13:19:55.526 DEBUG org.hibernate.SQL - select count(*)>0 from CUSTOMER c1_0 where c1_0.email=?\n"
     ]
    },
    {
     "name": "stdout",
     "output_type": "stream",
     "text": [
      "13:19:55.526 DEBUG org.hibernate.SQL - insert into CUSTOMER (birthDate,creationDate,email,firstname,lastname,photo,status,version,ID) values (?,?,?,?,?,?,?,?,?)\n"
     ]
    },
    {
     "name": "stdout",
     "output_type": "stream",
     "text": [
      "13:19:55.527 DEBUG org.hibernate.SQL - select count(*)>0 from CUSTOMER c1_0 where c1_0.email=?\n"
     ]
    },
    {
     "name": "stdout",
     "output_type": "stream",
     "text": [
      "13:19:55.527 DEBUG org.hibernate.SQL - insert into CUSTOMER (birthDate,creationDate,email,firstname,lastname,photo,status,version,ID) values (?,?,?,?,?,?,?,?,?)\n"
     ]
    },
    {
     "name": "stdout",
     "output_type": "stream",
     "text": [
      "13:19:55.527 DEBUG org.hibernate.SQL - select count(*)>0 from CUSTOMER c1_0 where c1_0.email=?\n"
     ]
    },
    {
     "name": "stdout",
     "output_type": "stream",
     "text": [
      "13:19:55.528 DEBUG org.hibernate.SQL - insert into CUSTOMER (birthDate,creationDate,email,firstname,lastname,photo,status,version,ID) values (?,?,?,?,?,?,?,?,?)\n"
     ]
    },
    {
     "name": "stdout",
     "output_type": "stream",
     "text": [
      "13:19:55.528 DEBUG org.hibernate.SQL - select count(*)>0 from CUSTOMER c1_0 where c1_0.email=?\n"
     ]
    },
    {
     "name": "stdout",
     "output_type": "stream",
     "text": [
      "13:19:55.529 DEBUG org.hibernate.SQL - insert into CUSTOMER (birthDate,creationDate,email,firstname,lastname,photo,status,version,ID) values (?,?,?,?,?,?,?,?,?)\n"
     ]
    },
    {
     "name": "stdout",
     "output_type": "stream",
     "text": [
      "13:19:55.529 DEBUG org.hibernate.SQL - select count(*)>0 from CUSTOMER c1_0 where c1_0.email=?\n"
     ]
    },
    {
     "name": "stdout",
     "output_type": "stream",
     "text": [
      "13:19:55.529 DEBUG org.hibernate.SQL - insert into CUSTOMER (birthDate,creationDate,email,firstname,lastname,photo,status,version,ID) values (?,?,?,?,?,?,?,?,?)\n"
     ]
    },
    {
     "name": "stdout",
     "output_type": "stream",
     "text": [
      "13:19:55.529 DEBUG org.hibernate.SQL - select count(*)>0 from CUSTOMER c1_0 where c1_0.email=?\n"
     ]
    },
    {
     "name": "stdout",
     "output_type": "stream",
     "text": [
      "13:19:55.530 DEBUG org.hibernate.SQL - insert into CUSTOMER (birthDate,creationDate,email,firstname,lastname,photo,status,version,ID) values (?,?,?,?,?,?,?,?,?)\n"
     ]
    },
    {
     "name": "stdout",
     "output_type": "stream",
     "text": [
      "13:19:55.530 DEBUG org.hibernate.SQL - select count(*)>0 from CUSTOMER c1_0 where c1_0.email=?\n"
     ]
    },
    {
     "name": "stdout",
     "output_type": "stream",
     "text": [
      "13:19:55.531 DEBUG org.hibernate.SQL - insert into CUSTOMER (birthDate,creationDate,email,firstname,lastname,photo,status,version,ID) values (?,?,?,?,?,?,?,?,?)\n"
     ]
    },
    {
     "name": "stdout",
     "output_type": "stream",
     "text": [
      "13:19:55.531 DEBUG org.hibernate.SQL - select count(*)>0 from CUSTOMER c1_0 where c1_0.email=?\n"
     ]
    },
    {
     "name": "stdout",
     "output_type": "stream",
     "text": [
      "13:19:55.531 DEBUG org.hibernate.SQL - insert into CUSTOMER (birthDate,creationDate,email,firstname,lastname,photo,status,version,ID) values (?,?,?,?,?,?,?,?,?)\n"
     ]
    },
    {
     "name": "stdout",
     "output_type": "stream",
     "text": [
      "13:19:55.531 DEBUG org.hibernate.SQL - select count(*)>0 from CUSTOMER c1_0 where c1_0.email=?\n"
     ]
    },
    {
     "name": "stdout",
     "output_type": "stream",
     "text": [
      "13:19:55.532 DEBUG org.hibernate.SQL - insert into CUSTOMER (birthDate,creationDate,email,firstname,lastname,photo,status,version,ID) values (?,?,?,?,?,?,?,?,?)\n"
     ]
    },
    {
     "name": "stdout",
     "output_type": "stream",
     "text": [
      "13:19:55.532 DEBUG org.hibernate.SQL - select count(*)>0 from CUSTOMER c1_0 where c1_0.email=?\n"
     ]
    },
    {
     "name": "stdout",
     "output_type": "stream",
     "text": [
      "13:19:55.533 DEBUG org.hibernate.SQL - insert into CUSTOMER (birthDate,creationDate,email,firstname,lastname,photo,status,version,ID) values (?,?,?,?,?,?,?,?,?)\n"
     ]
    },
    {
     "name": "stdout",
     "output_type": "stream",
     "text": [
      "13:19:55.533 DEBUG org.hibernate.SQL - select count(*)>0 from CUSTOMER c1_0 where c1_0.email=?\n"
     ]
    },
    {
     "name": "stdout",
     "output_type": "stream",
     "text": [
      "13:19:55.533 DEBUG org.hibernate.SQL - insert into CUSTOMER (birthDate,creationDate,email,firstname,lastname,photo,status,version,ID) values (?,?,?,?,?,?,?,?,?)\n"
     ]
    },
    {
     "name": "stdout",
     "output_type": "stream",
     "text": [
      "13:19:55.533 DEBUG org.hibernate.SQL - select count(*)>0 from CUSTOMER c1_0 where c1_0.email=?\n"
     ]
    },
    {
     "name": "stdout",
     "output_type": "stream",
     "text": [
      "13:19:55.534 DEBUG org.hibernate.SQL - insert into CUSTOMER (birthDate,creationDate,email,firstname,lastname,photo,status,version,ID) values (?,?,?,?,?,?,?,?,?)\n"
     ]
    },
    {
     "name": "stdout",
     "output_type": "stream",
     "text": [
      "13:19:55.534 DEBUG org.hibernate.SQL - select count(*)>0 from CUSTOMER c1_0 where c1_0.email=?\n"
     ]
    },
    {
     "name": "stdout",
     "output_type": "stream",
     "text": [
      "13:19:55.535 DEBUG org.hibernate.SQL - insert into CUSTOMER (birthDate,creationDate,email,firstname,lastname,photo,status,version,ID) values (?,?,?,?,?,?,?,?,?)\n"
     ]
    },
    {
     "name": "stdout",
     "output_type": "stream",
     "text": [
      "13:19:55.535 DEBUG org.hibernate.SQL - select count(*)>0 from CUSTOMER c1_0 where c1_0.email=?\n"
     ]
    },
    {
     "name": "stdout",
     "output_type": "stream",
     "text": [
      "13:19:55.535 DEBUG org.hibernate.SQL - select nextval('CUSTOMER_SEQ')\n"
     ]
    },
    {
     "name": "stdout",
     "output_type": "stream",
     "text": [
      "13:19:55.535 DEBUG org.hibernate.SQL - insert into CUSTOMER (birthDate,creationDate,email,firstname,lastname,photo,status,version,ID) values (?,?,?,?,?,?,?,?,?)\n"
     ]
    },
    {
     "name": "stdout",
     "output_type": "stream",
     "text": [
      "13:19:55.536 DEBUG org.hibernate.SQL - select count(*)>0 from CUSTOMER c1_0 where c1_0.email=?\n"
     ]
    },
    {
     "name": "stdout",
     "output_type": "stream",
     "text": [
      "13:19:55.536 DEBUG org.hibernate.SQL - insert into CUSTOMER (birthDate,creationDate,email,firstname,lastname,photo,status,version,ID) values (?,?,?,?,?,?,?,?,?)\n"
     ]
    },
    {
     "name": "stdout",
     "output_type": "stream",
     "text": [
      "13:19:55.536 DEBUG org.hibernate.SQL - select count(*)>0 from CUSTOMER c1_0 where c1_0.email=?\n"
     ]
    },
    {
     "name": "stdout",
     "output_type": "stream",
     "text": [
      "13:19:55.537 DEBUG org.hibernate.SQL - insert into CUSTOMER (birthDate,creationDate,email,firstname,lastname,photo,status,version,ID) values (?,?,?,?,?,?,?,?,?)\n"
     ]
    },
    {
     "name": "stdout",
     "output_type": "stream",
     "text": [
      "13:19:55.537 DEBUG org.hibernate.SQL - select count(*)>0 from CUSTOMER c1_0 where c1_0.email=?\n"
     ]
    },
    {
     "name": "stdout",
     "output_type": "stream",
     "text": [
      "13:19:55.537 DEBUG org.hibernate.SQL - insert into CUSTOMER (birthDate,creationDate,email,firstname,lastname,photo,status,version,ID) values (?,?,?,?,?,?,?,?,?)\n"
     ]
    },
    {
     "name": "stdout",
     "output_type": "stream",
     "text": [
      "13:19:55.538 DEBUG org.hibernate.SQL - select count(*)>0 from CUSTOMER c1_0 where c1_0.email=?\n"
     ]
    },
    {
     "name": "stdout",
     "output_type": "stream",
     "text": [
      "13:19:55.538 DEBUG org.hibernate.SQL - insert into CUSTOMER (birthDate,creationDate,email,firstname,lastname,photo,status,version,ID) values (?,?,?,?,?,?,?,?,?)\n"
     ]
    },
    {
     "name": "stdout",
     "output_type": "stream",
     "text": [
      "13:19:55.538 DEBUG org.hibernate.SQL - select count(*)>0 from CUSTOMER c1_0 where c1_0.email=?\n"
     ]
    },
    {
     "name": "stdout",
     "output_type": "stream",
     "text": [
      "13:19:55.539 DEBUG org.hibernate.SQL - insert into CUSTOMER (birthDate,creationDate,email,firstname,lastname,photo,status,version,ID) values (?,?,?,?,?,?,?,?,?)\n"
     ]
    },
    {
     "name": "stdout",
     "output_type": "stream",
     "text": [
      "13:19:55.539 DEBUG org.hibernate.SQL - select count(*)>0 from CUSTOMER c1_0 where c1_0.email=?\n"
     ]
    },
    {
     "name": "stdout",
     "output_type": "stream",
     "text": [
      "13:19:55.539 DEBUG org.hibernate.SQL - insert into CUSTOMER (birthDate,creationDate,email,firstname,lastname,photo,status,version,ID) values (?,?,?,?,?,?,?,?,?)\n"
     ]
    },
    {
     "name": "stdout",
     "output_type": "stream",
     "text": [
      "13:19:55.540 DEBUG org.hibernate.SQL - select count(*)>0 from CUSTOMER c1_0 where c1_0.email=?\n"
     ]
    },
    {
     "name": "stdout",
     "output_type": "stream",
     "text": [
      "13:19:55.540 DEBUG org.hibernate.SQL - insert into CUSTOMER (birthDate,creationDate,email,firstname,lastname,photo,status,version,ID) values (?,?,?,?,?,?,?,?,?)\n"
     ]
    },
    {
     "name": "stdout",
     "output_type": "stream",
     "text": [
      "13:19:55.540 DEBUG org.hibernate.SQL - select count(*)>0 from CUSTOMER c1_0 where c1_0.email=?\n"
     ]
    },
    {
     "name": "stdout",
     "output_type": "stream",
     "text": [
      "13:19:55.541 DEBUG org.hibernate.SQL - insert into CUSTOMER (birthDate,creationDate,email,firstname,lastname,photo,status,version,ID) values (?,?,?,?,?,?,?,?,?)\n"
     ]
    },
    {
     "name": "stdout",
     "output_type": "stream",
     "text": [
      "13:19:55.541 DEBUG org.hibernate.SQL - select count(*)>0 from CUSTOMER c1_0 where c1_0.email=?\n"
     ]
    },
    {
     "name": "stdout",
     "output_type": "stream",
     "text": [
      "13:19:55.542 DEBUG org.hibernate.SQL - insert into CUSTOMER (birthDate,creationDate,email,firstname,lastname,photo,status,version,ID) values (?,?,?,?,?,?,?,?,?)\n"
     ]
    },
    {
     "name": "stdout",
     "output_type": "stream",
     "text": [
      "13:19:55.542 DEBUG org.hibernate.SQL - select count(*)>0 from CUSTOMER c1_0 where c1_0.email=?\n"
     ]
    },
    {
     "name": "stdout",
     "output_type": "stream",
     "text": [
      "13:19:55.542 DEBUG org.hibernate.SQL - insert into CUSTOMER (birthDate,creationDate,email,firstname,lastname,photo,status,version,ID) values (?,?,?,?,?,?,?,?,?)\n"
     ]
    },
    {
     "name": "stdout",
     "output_type": "stream",
     "text": [
      "13:19:55.542 DEBUG org.hibernate.SQL - select count(*)>0 from CUSTOMER c1_0 where c1_0.email=?\n"
     ]
    },
    {
     "name": "stdout",
     "output_type": "stream",
     "text": [
      "13:19:55.543 DEBUG org.hibernate.SQL - insert into CUSTOMER (birthDate,creationDate,email,firstname,lastname,photo,status,version,ID) values (?,?,?,?,?,?,?,?,?)\n"
     ]
    },
    {
     "name": "stdout",
     "output_type": "stream",
     "text": [
      "13:19:55.543 DEBUG org.hibernate.SQL - select count(*)>0 from CUSTOMER c1_0 where c1_0.email=?\n"
     ]
    },
    {
     "name": "stdout",
     "output_type": "stream",
     "text": [
      "13:19:55.544 DEBUG org.hibernate.SQL - insert into CUSTOMER (birthDate,creationDate,email,firstname,lastname,photo,status,version,ID) values (?,?,?,?,?,?,?,?,?)\n"
     ]
    },
    {
     "name": "stdout",
     "output_type": "stream",
     "text": [
      "13:19:55.544 DEBUG org.hibernate.SQL - select count(*)>0 from CUSTOMER c1_0 where c1_0.email=?\n"
     ]
    },
    {
     "name": "stdout",
     "output_type": "stream",
     "text": [
      "13:19:55.544 DEBUG org.hibernate.SQL - insert into CUSTOMER (birthDate,creationDate,email,firstname,lastname,photo,status,version,ID) values (?,?,?,?,?,?,?,?,?)\n"
     ]
    },
    {
     "name": "stdout",
     "output_type": "stream",
     "text": [
      "13:19:55.545 DEBUG org.hibernate.SQL - select count(*)>0 from CUSTOMER c1_0 where c1_0.email=?\n"
     ]
    },
    {
     "name": "stdout",
     "output_type": "stream",
     "text": [
      "13:19:55.545 DEBUG org.hibernate.SQL - insert into CUSTOMER (birthDate,creationDate,email,firstname,lastname,photo,status,version,ID) values (?,?,?,?,?,?,?,?,?)\n"
     ]
    },
    {
     "name": "stdout",
     "output_type": "stream",
     "text": [
      "13:19:55.545 DEBUG org.hibernate.SQL - select count(*)>0 from CUSTOMER c1_0 where c1_0.email=?\n"
     ]
    },
    {
     "name": "stdout",
     "output_type": "stream",
     "text": [
      "13:19:55.546 DEBUG org.hibernate.SQL - insert into CUSTOMER (birthDate,creationDate,email,firstname,lastname,photo,status,version,ID) values (?,?,?,?,?,?,?,?,?)\n"
     ]
    },
    {
     "name": "stdout",
     "output_type": "stream",
     "text": [
      "13:19:55.546 DEBUG org.hibernate.SQL - select count(*)>0 from CUSTOMER c1_0 where c1_0.email=?\n"
     ]
    },
    {
     "name": "stdout",
     "output_type": "stream",
     "text": [
      "13:19:55.546 DEBUG org.hibernate.SQL - insert into CUSTOMER (birthDate,creationDate,email,firstname,lastname,photo,status,version,ID) values (?,?,?,?,?,?,?,?,?)\n"
     ]
    },
    {
     "name": "stdout",
     "output_type": "stream",
     "text": [
      "13:19:55.547 DEBUG org.hibernate.SQL - select count(*)>0 from CUSTOMER c1_0 where c1_0.email=?\n"
     ]
    },
    {
     "name": "stdout",
     "output_type": "stream",
     "text": [
      "13:19:55.547 DEBUG org.hibernate.SQL - insert into CUSTOMER (birthDate,creationDate,email,firstname,lastname,photo,status,version,ID) values (?,?,?,?,?,?,?,?,?)\n"
     ]
    },
    {
     "name": "stdout",
     "output_type": "stream",
     "text": [
      "13:19:55.547 DEBUG org.hibernate.SQL - select count(*)>0 from CUSTOMER c1_0 where c1_0.email=?\n"
     ]
    },
    {
     "name": "stdout",
     "output_type": "stream",
     "text": [
      "13:19:55.548 DEBUG org.hibernate.SQL - insert into CUSTOMER (birthDate,creationDate,email,firstname,lastname,photo,status,version,ID) values (?,?,?,?,?,?,?,?,?)\n"
     ]
    },
    {
     "name": "stdout",
     "output_type": "stream",
     "text": [
      "13:19:55.548 DEBUG org.hibernate.SQL - select count(*)>0 from CUSTOMER c1_0 where c1_0.email=?\n"
     ]
    },
    {
     "name": "stdout",
     "output_type": "stream",
     "text": [
      "13:19:55.548 DEBUG org.hibernate.SQL - insert into CUSTOMER (birthDate,creationDate,email,firstname,lastname,photo,status,version,ID) values (?,?,?,?,?,?,?,?,?)\n"
     ]
    },
    {
     "name": "stdout",
     "output_type": "stream",
     "text": [
      "13:19:55.549 DEBUG org.hibernate.SQL - select count(*)>0 from CUSTOMER c1_0 where c1_0.email=?\n"
     ]
    },
    {
     "name": "stdout",
     "output_type": "stream",
     "text": [
      "13:19:55.549 DEBUG org.hibernate.SQL - insert into CUSTOMER (birthDate,creationDate,email,firstname,lastname,photo,status,version,ID) values (?,?,?,?,?,?,?,?,?)\n"
     ]
    },
    {
     "name": "stdout",
     "output_type": "stream",
     "text": [
      "13:19:55.549 DEBUG org.hibernate.SQL - select count(*)>0 from CUSTOMER c1_0 where c1_0.email=?\n"
     ]
    },
    {
     "name": "stdout",
     "output_type": "stream",
     "text": [
      "13:19:55.550 DEBUG org.hibernate.SQL - insert into CUSTOMER (birthDate,creationDate,email,firstname,lastname,photo,status,version,ID) values (?,?,?,?,?,?,?,?,?)\n"
     ]
    },
    {
     "name": "stdout",
     "output_type": "stream",
     "text": [
      "13:19:55.550 DEBUG org.hibernate.SQL - select count(*)>0 from CUSTOMER c1_0 where c1_0.email=?\n"
     ]
    },
    {
     "name": "stdout",
     "output_type": "stream",
     "text": [
      "13:19:55.550 DEBUG org.hibernate.SQL - insert into CUSTOMER (birthDate,creationDate,email,firstname,lastname,photo,status,version,ID) values (?,?,?,?,?,?,?,?,?)\n"
     ]
    },
    {
     "name": "stdout",
     "output_type": "stream",
     "text": [
      "13:19:55.551 DEBUG org.hibernate.SQL - select count(*)>0 from CUSTOMER c1_0 where c1_0.email=?\n"
     ]
    },
    {
     "name": "stdout",
     "output_type": "stream",
     "text": [
      "13:19:55.551 DEBUG org.hibernate.SQL - insert into CUSTOMER (birthDate,creationDate,email,firstname,lastname,photo,status,version,ID) values (?,?,?,?,?,?,?,?,?)\n"
     ]
    },
    {
     "name": "stdout",
     "output_type": "stream",
     "text": [
      "13:19:55.551 DEBUG org.hibernate.SQL - select count(*)>0 from CUSTOMER c1_0 where c1_0.email=?\n"
     ]
    },
    {
     "name": "stdout",
     "output_type": "stream",
     "text": [
      "13:19:55.552 DEBUG org.hibernate.SQL - insert into CUSTOMER (birthDate,creationDate,email,firstname,lastname,photo,status,version,ID) values (?,?,?,?,?,?,?,?,?)\n"
     ]
    },
    {
     "name": "stdout",
     "output_type": "stream",
     "text": [
      "13:19:55.552 DEBUG org.hibernate.SQL - select count(*)>0 from CUSTOMER c1_0 where c1_0.email=?\n"
     ]
    },
    {
     "name": "stdout",
     "output_type": "stream",
     "text": [
      "13:19:55.553 DEBUG org.hibernate.SQL - insert into CUSTOMER (birthDate,creationDate,email,firstname,lastname,photo,status,version,ID) values (?,?,?,?,?,?,?,?,?)\n"
     ]
    },
    {
     "name": "stdout",
     "output_type": "stream",
     "text": [
      "13:19:55.553 DEBUG org.hibernate.SQL - select count(*)>0 from CUSTOMER c1_0 where c1_0.email=?\n"
     ]
    },
    {
     "name": "stdout",
     "output_type": "stream",
     "text": [
      "13:19:55.554 DEBUG org.hibernate.SQL - insert into CUSTOMER (birthDate,creationDate,email,firstname,lastname,photo,status,version,ID) values (?,?,?,?,?,?,?,?,?)\n"
     ]
    },
    {
     "name": "stdout",
     "output_type": "stream",
     "text": [
      "13:19:55.554 DEBUG org.hibernate.SQL - select count(*)>0 from CUSTOMER c1_0 where c1_0.email=?\n"
     ]
    },
    {
     "name": "stdout",
     "output_type": "stream",
     "text": [
      "13:19:55.554 DEBUG org.hibernate.SQL - insert into CUSTOMER (birthDate,creationDate,email,firstname,lastname,photo,status,version,ID) values (?,?,?,?,?,?,?,?,?)\n"
     ]
    },
    {
     "name": "stdout",
     "output_type": "stream",
     "text": [
      "13:19:55.555 DEBUG org.hibernate.SQL - select count(*)>0 from CUSTOMER c1_0 where c1_0.email=?\n"
     ]
    },
    {
     "name": "stdout",
     "output_type": "stream",
     "text": [
      "13:19:55.555 DEBUG org.hibernate.SQL - insert into CUSTOMER (birthDate,creationDate,email,firstname,lastname,photo,status,version,ID) values (?,?,?,?,?,?,?,?,?)\n"
     ]
    },
    {
     "name": "stdout",
     "output_type": "stream",
     "text": [
      "13:19:55.555 DEBUG org.hibernate.SQL - select count(*)>0 from CUSTOMER c1_0 where c1_0.email=?\n"
     ]
    },
    {
     "name": "stdout",
     "output_type": "stream",
     "text": [
      "13:19:55.556 DEBUG org.hibernate.SQL - insert into CUSTOMER (birthDate,creationDate,email,firstname,lastname,photo,status,version,ID) values (?,?,?,?,?,?,?,?,?)\n"
     ]
    },
    {
     "name": "stdout",
     "output_type": "stream",
     "text": [
      "13:19:55.556 DEBUG org.hibernate.SQL - select count(*)>0 from CUSTOMER c1_0 where c1_0.email=?\n"
     ]
    },
    {
     "name": "stdout",
     "output_type": "stream",
     "text": [
      "13:19:55.556 DEBUG org.hibernate.SQL - insert into CUSTOMER (birthDate,creationDate,email,firstname,lastname,photo,status,version,ID) values (?,?,?,?,?,?,?,?,?)\n"
     ]
    },
    {
     "name": "stdout",
     "output_type": "stream",
     "text": [
      "13:19:55.557 DEBUG org.hibernate.SQL - select count(*)>0 from CUSTOMER c1_0 where c1_0.email=?\n"
     ]
    },
    {
     "name": "stdout",
     "output_type": "stream",
     "text": [
      "13:19:55.557 DEBUG org.hibernate.SQL - insert into CUSTOMER (birthDate,creationDate,email,firstname,lastname,photo,status,version,ID) values (?,?,?,?,?,?,?,?,?)\n"
     ]
    },
    {
     "name": "stdout",
     "output_type": "stream",
     "text": [
      "13:19:55.557 DEBUG org.hibernate.SQL - select count(*)>0 from CUSTOMER c1_0 where c1_0.email=?\n"
     ]
    },
    {
     "name": "stdout",
     "output_type": "stream",
     "text": [
      "13:19:55.558 DEBUG org.hibernate.SQL - insert into CUSTOMER (birthDate,creationDate,email,firstname,lastname,photo,status,version,ID) values (?,?,?,?,?,?,?,?,?)\n"
     ]
    },
    {
     "name": "stdout",
     "output_type": "stream",
     "text": [
      "13:19:55.558 DEBUG org.hibernate.SQL - select count(*)>0 from CUSTOMER c1_0 where c1_0.email=?\n"
     ]
    },
    {
     "name": "stdout",
     "output_type": "stream",
     "text": [
      "13:19:55.559 DEBUG org.hibernate.SQL - insert into CUSTOMER (birthDate,creationDate,email,firstname,lastname,photo,status,version,ID) values (?,?,?,?,?,?,?,?,?)\n"
     ]
    },
    {
     "name": "stdout",
     "output_type": "stream",
     "text": [
      "13:19:55.559 DEBUG org.hibernate.SQL - select count(*)>0 from CUSTOMER c1_0 where c1_0.email=?\n"
     ]
    },
    {
     "name": "stdout",
     "output_type": "stream",
     "text": [
      "13:19:55.559 DEBUG org.hibernate.SQL - insert into CUSTOMER (birthDate,creationDate,email,firstname,lastname,photo,status,version,ID) values (?,?,?,?,?,?,?,?,?)\n"
     ]
    },
    {
     "name": "stdout",
     "output_type": "stream",
     "text": [
      "13:19:55.559 DEBUG org.hibernate.SQL - select count(*)>0 from CUSTOMER c1_0 where c1_0.email=?\n"
     ]
    },
    {
     "name": "stdout",
     "output_type": "stream",
     "text": [
      "13:19:55.560 DEBUG org.hibernate.SQL - insert into CUSTOMER (birthDate,creationDate,email,firstname,lastname,photo,status,version,ID) values (?,?,?,?,?,?,?,?,?)\n"
     ]
    },
    {
     "name": "stdout",
     "output_type": "stream",
     "text": [
      "13:19:55.560 DEBUG org.hibernate.SQL - select count(*)>0 from CUSTOMER c1_0 where c1_0.email=?\n"
     ]
    },
    {
     "name": "stdout",
     "output_type": "stream",
     "text": [
      "13:19:55.561 DEBUG org.hibernate.SQL - insert into CUSTOMER (birthDate,creationDate,email,firstname,lastname,photo,status,version,ID) values (?,?,?,?,?,?,?,?,?)\n"
     ]
    },
    {
     "name": "stdout",
     "output_type": "stream",
     "text": [
      "13:19:55.561 DEBUG org.hibernate.SQL - select count(*)>0 from CUSTOMER c1_0 where c1_0.email=?\n"
     ]
    },
    {
     "name": "stdout",
     "output_type": "stream",
     "text": [
      "13:19:55.561 DEBUG org.hibernate.SQL - insert into CUSTOMER (birthDate,creationDate,email,firstname,lastname,photo,status,version,ID) values (?,?,?,?,?,?,?,?,?)\n"
     ]
    },
    {
     "name": "stdout",
     "output_type": "stream",
     "text": [
      "13:19:55.561 DEBUG org.hibernate.SQL - select count(*)>0 from CUSTOMER c1_0 where c1_0.email=?\n"
     ]
    },
    {
     "name": "stdout",
     "output_type": "stream",
     "text": [
      "13:19:55.562 DEBUG org.hibernate.SQL - insert into CUSTOMER (birthDate,creationDate,email,firstname,lastname,photo,status,version,ID) values (?,?,?,?,?,?,?,?,?)\n"
     ]
    },
    {
     "name": "stdout",
     "output_type": "stream",
     "text": [
      "13:19:55.562 DEBUG org.hibernate.SQL - select count(*)>0 from CUSTOMER c1_0 where c1_0.email=?\n"
     ]
    },
    {
     "name": "stdout",
     "output_type": "stream",
     "text": [
      "13:19:55.563 DEBUG org.hibernate.SQL - insert into CUSTOMER (birthDate,creationDate,email,firstname,lastname,photo,status,version,ID) values (?,?,?,?,?,?,?,?,?)\n"
     ]
    },
    {
     "name": "stdout",
     "output_type": "stream",
     "text": [
      "13:19:55.563 DEBUG org.hibernate.SQL - select count(*)>0 from CUSTOMER c1_0 where c1_0.email=?\n"
     ]
    },
    {
     "name": "stdout",
     "output_type": "stream",
     "text": [
      "13:19:55.563 DEBUG org.hibernate.SQL - insert into CUSTOMER (birthDate,creationDate,email,firstname,lastname,photo,status,version,ID) values (?,?,?,?,?,?,?,?,?)\n"
     ]
    },
    {
     "name": "stdout",
     "output_type": "stream",
     "text": [
      "13:19:55.564 DEBUG org.hibernate.SQL - select count(*)>0 from CUSTOMER c1_0 where c1_0.email=?\n"
     ]
    },
    {
     "name": "stdout",
     "output_type": "stream",
     "text": [
      "13:19:55.564 DEBUG org.hibernate.SQL - insert into CUSTOMER (birthDate,creationDate,email,firstname,lastname,photo,status,version,ID) values (?,?,?,?,?,?,?,?,?)\n"
     ]
    },
    {
     "name": "stdout",
     "output_type": "stream",
     "text": [
      "13:19:55.565 DEBUG org.hibernate.SQL - select count(*)>0 from CUSTOMER c1_0 where c1_0.email=?\n"
     ]
    },
    {
     "name": "stdout",
     "output_type": "stream",
     "text": [
      "13:19:55.565 DEBUG org.hibernate.SQL - insert into CUSTOMER (birthDate,creationDate,email,firstname,lastname,photo,status,version,ID) values (?,?,?,?,?,?,?,?,?)\n"
     ]
    },
    {
     "name": "stdout",
     "output_type": "stream",
     "text": [
      "13:19:55.565 DEBUG org.hibernate.SQL - select count(*)>0 from CUSTOMER c1_0 where c1_0.email=?\n"
     ]
    },
    {
     "name": "stdout",
     "output_type": "stream",
     "text": [
      "13:19:55.566 DEBUG org.hibernate.SQL - insert into CUSTOMER (birthDate,creationDate,email,firstname,lastname,photo,status,version,ID) values (?,?,?,?,?,?,?,?,?)\n"
     ]
    },
    {
     "name": "stdout",
     "output_type": "stream",
     "text": [
      "13:19:55.566 DEBUG org.hibernate.SQL - select count(*)>0 from CUSTOMER c1_0 where c1_0.email=?\n"
     ]
    },
    {
     "name": "stdout",
     "output_type": "stream",
     "text": [
      "13:19:55.567 DEBUG org.hibernate.SQL - insert into CUSTOMER (birthDate,creationDate,email,firstname,lastname,photo,status,version,ID) values (?,?,?,?,?,?,?,?,?)\n"
     ]
    },
    {
     "name": "stdout",
     "output_type": "stream",
     "text": [
      "13:19:55.567 DEBUG org.hibernate.SQL - select count(*)>0 from CUSTOMER c1_0 where c1_0.email=?\n"
     ]
    },
    {
     "name": "stdout",
     "output_type": "stream",
     "text": [
      "13:19:55.568 DEBUG org.hibernate.SQL - insert into CUSTOMER (birthDate,creationDate,email,firstname,lastname,photo,status,version,ID) values (?,?,?,?,?,?,?,?,?)\n"
     ]
    },
    {
     "name": "stdout",
     "output_type": "stream",
     "text": [
      "13:19:55.568 DEBUG org.hibernate.SQL - select count(*)>0 from CUSTOMER c1_0 where c1_0.email=?\n"
     ]
    },
    {
     "name": "stdout",
     "output_type": "stream",
     "text": [
      "13:19:55.569 DEBUG org.hibernate.SQL - insert into CUSTOMER (birthDate,creationDate,email,firstname,lastname,photo,status,version,ID) values (?,?,?,?,?,?,?,?,?)\n"
     ]
    },
    {
     "name": "stdout",
     "output_type": "stream",
     "text": [
      "13:19:55.569 DEBUG org.hibernate.SQL - select count(*)>0 from CUSTOMER c1_0 where c1_0.email=?\n"
     ]
    },
    {
     "name": "stdout",
     "output_type": "stream",
     "text": [
      "13:19:55.570 DEBUG org.hibernate.SQL - insert into CUSTOMER (birthDate,creationDate,email,firstname,lastname,photo,status,version,ID) values (?,?,?,?,?,?,?,?,?)\n"
     ]
    },
    {
     "name": "stdout",
     "output_type": "stream",
     "text": [
      "13:19:55.570 DEBUG org.hibernate.SQL - select count(*)>0 from CUSTOMER c1_0 where c1_0.email=?\n"
     ]
    },
    {
     "name": "stdout",
     "output_type": "stream",
     "text": [
      "13:19:55.570 DEBUG org.hibernate.SQL - insert into CUSTOMER (birthDate,creationDate,email,firstname,lastname,photo,status,version,ID) values (?,?,?,?,?,?,?,?,?)\n"
     ]
    },
    {
     "name": "stdout",
     "output_type": "stream",
     "text": [
      "13:19:55.571 DEBUG org.hibernate.SQL - select count(*)>0 from CUSTOMER c1_0 where c1_0.email=?\n"
     ]
    },
    {
     "name": "stdout",
     "output_type": "stream",
     "text": [
      "13:19:55.571 DEBUG org.hibernate.SQL - insert into CUSTOMER (birthDate,creationDate,email,firstname,lastname,photo,status,version,ID) values (?,?,?,?,?,?,?,?,?)\n"
     ]
    },
    {
     "name": "stdout",
     "output_type": "stream",
     "text": [
      "13:19:55.571 DEBUG org.hibernate.SQL - select count(*)>0 from CUSTOMER c1_0 where c1_0.email=?\n"
     ]
    },
    {
     "name": "stdout",
     "output_type": "stream",
     "text": [
      "13:19:55.572 DEBUG org.hibernate.SQL - select nextval('CUSTOMER_SEQ')\n"
     ]
    },
    {
     "name": "stdout",
     "output_type": "stream",
     "text": [
      "13:19:55.572 DEBUG org.hibernate.SQL - insert into CUSTOMER (birthDate,creationDate,email,firstname,lastname,photo,status,version,ID) values (?,?,?,?,?,?,?,?,?)\n"
     ]
    },
    {
     "name": "stdout",
     "output_type": "stream",
     "text": [
      "13:19:55.573 DEBUG org.hibernate.SQL - select count(*)>0 from CUSTOMER c1_0 where c1_0.email=?\n"
     ]
    },
    {
     "name": "stdout",
     "output_type": "stream",
     "text": [
      "13:19:55.573 DEBUG org.hibernate.SQL - insert into CUSTOMER (birthDate,creationDate,email,firstname,lastname,photo,status,version,ID) values (?,?,?,?,?,?,?,?,?)\n"
     ]
    },
    {
     "name": "stdout",
     "output_type": "stream",
     "text": [
      "13:19:55.573 DEBUG org.hibernate.SQL - select count(*)>0 from CUSTOMER c1_0 where c1_0.email=?\n"
     ]
    },
    {
     "name": "stdout",
     "output_type": "stream",
     "text": [
      "13:19:55.574 DEBUG org.hibernate.SQL - insert into CUSTOMER (birthDate,creationDate,email,firstname,lastname,photo,status,version,ID) values (?,?,?,?,?,?,?,?,?)\n"
     ]
    },
    {
     "name": "stdout",
     "output_type": "stream",
     "text": [
      "13:19:55.574 DEBUG org.hibernate.SQL - select count(*)>0 from CUSTOMER c1_0 where c1_0.email=?\n"
     ]
    },
    {
     "name": "stdout",
     "output_type": "stream",
     "text": [
      "13:19:55.575 DEBUG org.hibernate.SQL - insert into CUSTOMER (birthDate,creationDate,email,firstname,lastname,photo,status,version,ID) values (?,?,?,?,?,?,?,?,?)\n"
     ]
    },
    {
     "name": "stdout",
     "output_type": "stream",
     "text": [
      "13:19:55.575 DEBUG org.hibernate.SQL - select count(*)>0 from CUSTOMER c1_0 where c1_0.email=?\n"
     ]
    },
    {
     "name": "stdout",
     "output_type": "stream",
     "text": [
      "13:19:55.575 DEBUG org.hibernate.SQL - insert into CUSTOMER (birthDate,creationDate,email,firstname,lastname,photo,status,version,ID) values (?,?,?,?,?,?,?,?,?)\n"
     ]
    },
    {
     "name": "stdout",
     "output_type": "stream",
     "text": [
      "13:19:55.575 DEBUG org.hibernate.SQL - select count(*)>0 from CUSTOMER c1_0 where c1_0.email=?\n"
     ]
    },
    {
     "name": "stdout",
     "output_type": "stream",
     "text": [
      "13:19:55.576 DEBUG org.hibernate.SQL - insert into CUSTOMER (birthDate,creationDate,email,firstname,lastname,photo,status,version,ID) values (?,?,?,?,?,?,?,?,?)\n"
     ]
    },
    {
     "name": "stdout",
     "output_type": "stream",
     "text": [
      "13:19:55.576 DEBUG org.hibernate.SQL - select count(*)>0 from CUSTOMER c1_0 where c1_0.email=?\n"
     ]
    },
    {
     "name": "stdout",
     "output_type": "stream",
     "text": [
      "13:19:55.577 DEBUG org.hibernate.SQL - insert into CUSTOMER (birthDate,creationDate,email,firstname,lastname,photo,status,version,ID) values (?,?,?,?,?,?,?,?,?)\n"
     ]
    },
    {
     "name": "stdout",
     "output_type": "stream",
     "text": [
      "13:19:55.577 DEBUG org.hibernate.SQL - select count(*)>0 from CUSTOMER c1_0 where c1_0.email=?\n"
     ]
    },
    {
     "name": "stdout",
     "output_type": "stream",
     "text": [
      "13:19:55.577 DEBUG org.hibernate.SQL - insert into CUSTOMER (birthDate,creationDate,email,firstname,lastname,photo,status,version,ID) values (?,?,?,?,?,?,?,?,?)\n"
     ]
    },
    {
     "name": "stdout",
     "output_type": "stream",
     "text": [
      "13:19:55.578 DEBUG org.hibernate.SQL - select count(*)>0 from CUSTOMER c1_0 where c1_0.email=?\n"
     ]
    },
    {
     "name": "stdout",
     "output_type": "stream",
     "text": [
      "13:19:55.578 DEBUG org.hibernate.SQL - insert into CUSTOMER (birthDate,creationDate,email,firstname,lastname,photo,status,version,ID) values (?,?,?,?,?,?,?,?,?)\n"
     ]
    },
    {
     "name": "stdout",
     "output_type": "stream",
     "text": [
      "13:19:55.578 DEBUG org.hibernate.SQL - select count(*)>0 from CUSTOMER c1_0 where c1_0.email=?\n"
     ]
    },
    {
     "name": "stdout",
     "output_type": "stream",
     "text": [
      "13:19:55.579 DEBUG org.hibernate.SQL - insert into CUSTOMER (birthDate,creationDate,email,firstname,lastname,photo,status,version,ID) values (?,?,?,?,?,?,?,?,?)\n"
     ]
    },
    {
     "name": "stdout",
     "output_type": "stream",
     "text": [
      "13:19:55.579 DEBUG org.hibernate.SQL - select count(*)>0 from CUSTOMER c1_0 where c1_0.email=?\n"
     ]
    },
    {
     "name": "stdout",
     "output_type": "stream",
     "text": [
      "13:19:55.580 DEBUG org.hibernate.SQL - insert into CUSTOMER (birthDate,creationDate,email,firstname,lastname,photo,status,version,ID) values (?,?,?,?,?,?,?,?,?)\n"
     ]
    },
    {
     "name": "stdout",
     "output_type": "stream",
     "text": [
      "13:19:55.580 DEBUG org.hibernate.SQL - select count(*)>0 from CUSTOMER c1_0 where c1_0.email=?\n"
     ]
    },
    {
     "name": "stdout",
     "output_type": "stream",
     "text": [
      "13:19:55.581 DEBUG org.hibernate.SQL - insert into CUSTOMER (birthDate,creationDate,email,firstname,lastname,photo,status,version,ID) values (?,?,?,?,?,?,?,?,?)\n"
     ]
    },
    {
     "name": "stdout",
     "output_type": "stream",
     "text": [
      "13:19:55.581 DEBUG org.hibernate.SQL - select count(*)>0 from CUSTOMER c1_0 where c1_0.email=?\n"
     ]
    },
    {
     "name": "stdout",
     "output_type": "stream",
     "text": [
      "13:19:55.582 DEBUG org.hibernate.SQL - insert into CUSTOMER (birthDate,creationDate,email,firstname,lastname,photo,status,version,ID) values (?,?,?,?,?,?,?,?,?)\n"
     ]
    },
    {
     "name": "stdout",
     "output_type": "stream",
     "text": [
      "13:19:55.582 DEBUG org.hibernate.SQL - select count(*)>0 from CUSTOMER c1_0 where c1_0.email=?\n"
     ]
    },
    {
     "name": "stdout",
     "output_type": "stream",
     "text": [
      "13:19:55.583 DEBUG org.hibernate.SQL - insert into CUSTOMER (birthDate,creationDate,email,firstname,lastname,photo,status,version,ID) values (?,?,?,?,?,?,?,?,?)\n"
     ]
    },
    {
     "name": "stdout",
     "output_type": "stream",
     "text": [
      "13:19:55.584 DEBUG org.hibernate.SQL - select count(*)>0 from CUSTOMER c1_0 where c1_0.email=?\n"
     ]
    },
    {
     "name": "stdout",
     "output_type": "stream",
     "text": [
      "13:19:55.584 DEBUG org.hibernate.SQL - insert into CUSTOMER (birthDate,creationDate,email,firstname,lastname,photo,status,version,ID) values (?,?,?,?,?,?,?,?,?)\n"
     ]
    },
    {
     "name": "stdout",
     "output_type": "stream",
     "text": [
      "13:19:55.584 DEBUG org.hibernate.SQL - select count(*)>0 from CUSTOMER c1_0 where c1_0.email=?\n"
     ]
    },
    {
     "name": "stdout",
     "output_type": "stream",
     "text": [
      "13:19:55.585 DEBUG org.hibernate.SQL - insert into CUSTOMER (birthDate,creationDate,email,firstname,lastname,photo,status,version,ID) values (?,?,?,?,?,?,?,?,?)\n"
     ]
    },
    {
     "name": "stdout",
     "output_type": "stream",
     "text": [
      "13:19:55.585 DEBUG org.hibernate.SQL - select count(*)>0 from CUSTOMER c1_0 where c1_0.email=?\n"
     ]
    },
    {
     "name": "stdout",
     "output_type": "stream",
     "text": [
      "13:19:55.586 DEBUG org.hibernate.SQL - insert into CUSTOMER (birthDate,creationDate,email,firstname,lastname,photo,status,version,ID) values (?,?,?,?,?,?,?,?,?)\n"
     ]
    },
    {
     "name": "stdout",
     "output_type": "stream",
     "text": [
      "13:19:55.586 DEBUG org.hibernate.SQL - select count(*)>0 from CUSTOMER c1_0 where c1_0.email=?\n"
     ]
    },
    {
     "name": "stdout",
     "output_type": "stream",
     "text": [
      "13:19:55.587 DEBUG org.hibernate.SQL - insert into CUSTOMER (birthDate,creationDate,email,firstname,lastname,photo,status,version,ID) values (?,?,?,?,?,?,?,?,?)\n"
     ]
    },
    {
     "name": "stdout",
     "output_type": "stream",
     "text": [
      "13:19:55.587 DEBUG org.hibernate.SQL - select count(*)>0 from CUSTOMER c1_0 where c1_0.email=?\n"
     ]
    },
    {
     "name": "stdout",
     "output_type": "stream",
     "text": [
      "13:19:55.588 DEBUG org.hibernate.SQL - insert into CUSTOMER (birthDate,creationDate,email,firstname,lastname,photo,status,version,ID) values (?,?,?,?,?,?,?,?,?)\n"
     ]
    },
    {
     "name": "stdout",
     "output_type": "stream",
     "text": [
      "13:19:55.588 DEBUG org.hibernate.SQL - select count(*)>0 from CUSTOMER c1_0 where c1_0.email=?\n"
     ]
    },
    {
     "name": "stdout",
     "output_type": "stream",
     "text": [
      "13:19:55.589 DEBUG org.hibernate.SQL - insert into CUSTOMER (birthDate,creationDate,email,firstname,lastname,photo,status,version,ID) values (?,?,?,?,?,?,?,?,?)\n"
     ]
    },
    {
     "name": "stdout",
     "output_type": "stream",
     "text": [
      "13:19:55.589 DEBUG org.hibernate.SQL - select count(*)>0 from CUSTOMER c1_0 where c1_0.email=?\n"
     ]
    },
    {
     "name": "stdout",
     "output_type": "stream",
     "text": [
      "13:19:55.590 DEBUG org.hibernate.SQL - insert into CUSTOMER (birthDate,creationDate,email,firstname,lastname,photo,status,version,ID) values (?,?,?,?,?,?,?,?,?)\n"
     ]
    },
    {
     "name": "stdout",
     "output_type": "stream",
     "text": [
      "13:19:55.590 DEBUG org.hibernate.SQL - select count(*)>0 from CUSTOMER c1_0 where c1_0.email=?\n"
     ]
    },
    {
     "name": "stdout",
     "output_type": "stream",
     "text": [
      "13:19:55.591 DEBUG org.hibernate.SQL - insert into CUSTOMER (birthDate,creationDate,email,firstname,lastname,photo,status,version,ID) values (?,?,?,?,?,?,?,?,?)\n"
     ]
    },
    {
     "name": "stdout",
     "output_type": "stream",
     "text": [
      "13:19:55.591 DEBUG org.hibernate.SQL - select count(*)>0 from CUSTOMER c1_0 where c1_0.email=?\n"
     ]
    },
    {
     "name": "stdout",
     "output_type": "stream",
     "text": [
      "13:19:55.592 DEBUG org.hibernate.SQL - insert into CUSTOMER (birthDate,creationDate,email,firstname,lastname,photo,status,version,ID) values (?,?,?,?,?,?,?,?,?)\n"
     ]
    },
    {
     "name": "stdout",
     "output_type": "stream",
     "text": [
      "13:19:55.592 DEBUG org.hibernate.SQL - select count(*)>0 from CUSTOMER c1_0 where c1_0.email=?\n"
     ]
    },
    {
     "name": "stdout",
     "output_type": "stream",
     "text": [
      "13:19:55.593 DEBUG org.hibernate.SQL - insert into CUSTOMER (birthDate,creationDate,email,firstname,lastname,photo,status,version,ID) values (?,?,?,?,?,?,?,?,?)\n"
     ]
    },
    {
     "name": "stdout",
     "output_type": "stream",
     "text": [
      "13:19:55.593 DEBUG org.hibernate.SQL - select count(*)>0 from CUSTOMER c1_0 where c1_0.email=?\n"
     ]
    },
    {
     "name": "stdout",
     "output_type": "stream",
     "text": [
      "13:19:55.594 DEBUG org.hibernate.SQL - insert into CUSTOMER (birthDate,creationDate,email,firstname,lastname,photo,status,version,ID) values (?,?,?,?,?,?,?,?,?)\n"
     ]
    },
    {
     "name": "stdout",
     "output_type": "stream",
     "text": [
      "13:19:55.594 DEBUG org.hibernate.SQL - select count(*)>0 from CUSTOMER c1_0 where c1_0.email=?\n"
     ]
    },
    {
     "name": "stdout",
     "output_type": "stream",
     "text": [
      "13:19:55.594 DEBUG org.hibernate.SQL - insert into CUSTOMER (birthDate,creationDate,email,firstname,lastname,photo,status,version,ID) values (?,?,?,?,?,?,?,?,?)\n"
     ]
    },
    {
     "name": "stdout",
     "output_type": "stream",
     "text": [
      "13:19:55.595 DEBUG org.hibernate.SQL - select count(*)>0 from CUSTOMER c1_0 where c1_0.email=?\n"
     ]
    },
    {
     "name": "stdout",
     "output_type": "stream",
     "text": [
      "13:19:55.595 DEBUG org.hibernate.SQL - insert into CUSTOMER (birthDate,creationDate,email,firstname,lastname,photo,status,version,ID) values (?,?,?,?,?,?,?,?,?)\n"
     ]
    },
    {
     "name": "stdout",
     "output_type": "stream",
     "text": [
      "13:19:55.595 DEBUG org.hibernate.SQL - select count(*)>0 from CUSTOMER c1_0 where c1_0.email=?\n"
     ]
    },
    {
     "name": "stdout",
     "output_type": "stream",
     "text": [
      "13:19:55.596 DEBUG org.hibernate.SQL - insert into CUSTOMER (birthDate,creationDate,email,firstname,lastname,photo,status,version,ID) values (?,?,?,?,?,?,?,?,?)\n"
     ]
    },
    {
     "name": "stdout",
     "output_type": "stream",
     "text": [
      "13:19:55.596 DEBUG org.hibernate.SQL - select count(*)>0 from CUSTOMER c1_0 where c1_0.email=?\n"
     ]
    },
    {
     "name": "stdout",
     "output_type": "stream",
     "text": [
      "13:19:55.597 DEBUG org.hibernate.SQL - insert into CUSTOMER (birthDate,creationDate,email,firstname,lastname,photo,status,version,ID) values (?,?,?,?,?,?,?,?,?)\n"
     ]
    },
    {
     "name": "stdout",
     "output_type": "stream",
     "text": [
      "13:19:55.597 DEBUG org.hibernate.SQL - select count(*)>0 from CUSTOMER c1_0 where c1_0.email=?\n"
     ]
    },
    {
     "name": "stdout",
     "output_type": "stream",
     "text": [
      "13:19:55.597 DEBUG org.hibernate.SQL - insert into CUSTOMER (birthDate,creationDate,email,firstname,lastname,photo,status,version,ID) values (?,?,?,?,?,?,?,?,?)\n"
     ]
    },
    {
     "name": "stdout",
     "output_type": "stream",
     "text": [
      "13:19:55.598 DEBUG org.hibernate.SQL - select count(*)>0 from CUSTOMER c1_0 where c1_0.email=?\n"
     ]
    },
    {
     "name": "stdout",
     "output_type": "stream",
     "text": [
      "13:19:55.598 DEBUG org.hibernate.SQL - insert into CUSTOMER (birthDate,creationDate,email,firstname,lastname,photo,status,version,ID) values (?,?,?,?,?,?,?,?,?)\n"
     ]
    },
    {
     "name": "stdout",
     "output_type": "stream",
     "text": [
      "13:19:55.599 DEBUG org.hibernate.SQL - select count(*)>0 from CUSTOMER c1_0 where c1_0.email=?\n"
     ]
    },
    {
     "name": "stdout",
     "output_type": "stream",
     "text": [
      "13:19:55.599 DEBUG org.hibernate.SQL - insert into CUSTOMER (birthDate,creationDate,email,firstname,lastname,photo,status,version,ID) values (?,?,?,?,?,?,?,?,?)\n"
     ]
    },
    {
     "name": "stdout",
     "output_type": "stream",
     "text": [
      "13:19:55.600 DEBUG org.hibernate.SQL - select count(*)>0 from CUSTOMER c1_0 where c1_0.email=?\n"
     ]
    },
    {
     "name": "stdout",
     "output_type": "stream",
     "text": [
      "13:19:55.600 DEBUG org.hibernate.SQL - insert into CUSTOMER (birthDate,creationDate,email,firstname,lastname,photo,status,version,ID) values (?,?,?,?,?,?,?,?,?)\n"
     ]
    },
    {
     "name": "stdout",
     "output_type": "stream",
     "text": [
      "13:19:55.601 DEBUG org.hibernate.SQL - select count(*)>0 from CUSTOMER c1_0 where c1_0.email=?\n"
     ]
    },
    {
     "name": "stdout",
     "output_type": "stream",
     "text": [
      "13:19:55.601 DEBUG org.hibernate.SQL - insert into CUSTOMER (birthDate,creationDate,email,firstname,lastname,photo,status,version,ID) values (?,?,?,?,?,?,?,?,?)\n"
     ]
    },
    {
     "name": "stdout",
     "output_type": "stream",
     "text": [
      "13:19:55.601 DEBUG org.hibernate.SQL - select count(*)>0 from CUSTOMER c1_0 where c1_0.email=?\n"
     ]
    },
    {
     "name": "stdout",
     "output_type": "stream",
     "text": [
      "13:19:55.602 DEBUG org.hibernate.SQL - insert into CUSTOMER (birthDate,creationDate,email,firstname,lastname,photo,status,version,ID) values (?,?,?,?,?,?,?,?,?)\n"
     ]
    },
    {
     "name": "stdout",
     "output_type": "stream",
     "text": [
      "13:19:55.602 DEBUG org.hibernate.SQL - select count(*)>0 from CUSTOMER c1_0 where c1_0.email=?\n"
     ]
    },
    {
     "name": "stdout",
     "output_type": "stream",
     "text": [
      "13:19:55.603 DEBUG org.hibernate.SQL - insert into CUSTOMER (birthDate,creationDate,email,firstname,lastname,photo,status,version,ID) values (?,?,?,?,?,?,?,?,?)\n"
     ]
    },
    {
     "name": "stdout",
     "output_type": "stream",
     "text": [
      "13:19:55.603 DEBUG org.hibernate.SQL - select count(*)>0 from CUSTOMER c1_0 where c1_0.email=?\n"
     ]
    },
    {
     "name": "stdout",
     "output_type": "stream",
     "text": [
      "13:19:55.604 DEBUG org.hibernate.SQL - insert into CUSTOMER (birthDate,creationDate,email,firstname,lastname,photo,status,version,ID) values (?,?,?,?,?,?,?,?,?)\n"
     ]
    },
    {
     "name": "stdout",
     "output_type": "stream",
     "text": [
      "13:19:55.604 DEBUG org.hibernate.SQL - select count(*)>0 from CUSTOMER c1_0 where c1_0.email=?\n"
     ]
    },
    {
     "name": "stdout",
     "output_type": "stream",
     "text": [
      "13:19:55.605 DEBUG org.hibernate.SQL - insert into CUSTOMER (birthDate,creationDate,email,firstname,lastname,photo,status,version,ID) values (?,?,?,?,?,?,?,?,?)\n"
     ]
    },
    {
     "name": "stdout",
     "output_type": "stream",
     "text": [
      "13:19:55.606 DEBUG org.hibernate.SQL - select count(*)>0 from CUSTOMER c1_0 where c1_0.email=?\n"
     ]
    },
    {
     "name": "stdout",
     "output_type": "stream",
     "text": [
      "13:19:55.606 DEBUG org.hibernate.SQL - insert into CUSTOMER (birthDate,creationDate,email,firstname,lastname,photo,status,version,ID) values (?,?,?,?,?,?,?,?,?)\n"
     ]
    },
    {
     "name": "stdout",
     "output_type": "stream",
     "text": [
      "13:19:55.607 DEBUG org.hibernate.SQL - select count(*)>0 from CUSTOMER c1_0 where c1_0.email=?\n"
     ]
    },
    {
     "name": "stdout",
     "output_type": "stream",
     "text": [
      "13:19:55.607 DEBUG org.hibernate.SQL - insert into CUSTOMER (birthDate,creationDate,email,firstname,lastname,photo,status,version,ID) values (?,?,?,?,?,?,?,?,?)\n"
     ]
    },
    {
     "name": "stdout",
     "output_type": "stream",
     "text": [
      "13:19:55.608 DEBUG org.hibernate.SQL - select count(*)>0 from CUSTOMER c1_0 where c1_0.email=?\n"
     ]
    },
    {
     "name": "stdout",
     "output_type": "stream",
     "text": [
      "13:19:55.608 DEBUG org.hibernate.SQL - insert into CUSTOMER (birthDate,creationDate,email,firstname,lastname,photo,status,version,ID) values (?,?,?,?,?,?,?,?,?)\n"
     ]
    },
    {
     "name": "stdout",
     "output_type": "stream",
     "text": [
      "13:19:55.608 DEBUG org.hibernate.SQL - select count(*)>0 from CUSTOMER c1_0 where c1_0.email=?\n"
     ]
    },
    {
     "name": "stdout",
     "output_type": "stream",
     "text": [
      "13:19:55.609 DEBUG org.hibernate.SQL - insert into CUSTOMER (birthDate,creationDate,email,firstname,lastname,photo,status,version,ID) values (?,?,?,?,?,?,?,?,?)\n"
     ]
    },
    {
     "name": "stdout",
     "output_type": "stream",
     "text": [
      "13:19:55.609 DEBUG org.hibernate.SQL - select count(*)>0 from CUSTOMER c1_0 where c1_0.email=?\n"
     ]
    },
    {
     "name": "stdout",
     "output_type": "stream",
     "text": [
      "13:19:55.610 DEBUG org.hibernate.SQL - insert into CUSTOMER (birthDate,creationDate,email,firstname,lastname,photo,status,version,ID) values (?,?,?,?,?,?,?,?,?)\n"
     ]
    },
    {
     "name": "stdout",
     "output_type": "stream",
     "text": [
      "13:19:55.611 DEBUG org.hibernate.SQL - select count(*)>0 from CUSTOMER c1_0 where c1_0.email=?\n"
     ]
    },
    {
     "name": "stdout",
     "output_type": "stream",
     "text": [
      "13:19:55.611 DEBUG org.hibernate.SQL - insert into CUSTOMER (birthDate,creationDate,email,firstname,lastname,photo,status,version,ID) values (?,?,?,?,?,?,?,?,?)\n"
     ]
    },
    {
     "name": "stdout",
     "output_type": "stream",
     "text": [
      "13:19:55.611 DEBUG org.hibernate.SQL - select count(*)>0 from CUSTOMER c1_0 where c1_0.email=?\n"
     ]
    },
    {
     "name": "stdout",
     "output_type": "stream",
     "text": [
      "13:19:55.612 DEBUG org.hibernate.SQL - insert into CUSTOMER (birthDate,creationDate,email,firstname,lastname,photo,status,version,ID) values (?,?,?,?,?,?,?,?,?)\n"
     ]
    },
    {
     "name": "stdout",
     "output_type": "stream",
     "text": [
      "13:19:55.612 DEBUG org.hibernate.SQL - select count(*)>0 from CUSTOMER c1_0 where c1_0.email=?\n"
     ]
    },
    {
     "name": "stdout",
     "output_type": "stream",
     "text": [
      "13:19:55.613 DEBUG org.hibernate.SQL - insert into CUSTOMER (birthDate,creationDate,email,firstname,lastname,photo,status,version,ID) values (?,?,?,?,?,?,?,?,?)\n"
     ]
    },
    {
     "name": "stdout",
     "output_type": "stream",
     "text": [
      "13:19:55.613 DEBUG org.hibernate.SQL - select count(*)>0 from CUSTOMER c1_0 where c1_0.email=?\n"
     ]
    },
    {
     "name": "stdout",
     "output_type": "stream",
     "text": [
      "13:19:55.614 DEBUG org.hibernate.SQL - insert into CUSTOMER (birthDate,creationDate,email,firstname,lastname,photo,status,version,ID) values (?,?,?,?,?,?,?,?,?)\n"
     ]
    },
    {
     "name": "stdout",
     "output_type": "stream",
     "text": [
      "13:19:55.614 DEBUG org.hibernate.SQL - select count(*)>0 from CUSTOMER c1_0 where c1_0.email=?\n"
     ]
    },
    {
     "name": "stdout",
     "output_type": "stream",
     "text": [
      "13:19:55.615 DEBUG org.hibernate.SQL - insert into CUSTOMER (birthDate,creationDate,email,firstname,lastname,photo,status,version,ID) values (?,?,?,?,?,?,?,?,?)\n"
     ]
    },
    {
     "name": "stdout",
     "output_type": "stream",
     "text": [
      "13:19:55.615 DEBUG org.hibernate.SQL - select count(*)>0 from CUSTOMER c1_0 where c1_0.email=?\n"
     ]
    },
    {
     "name": "stdout",
     "output_type": "stream",
     "text": [
      "13:19:55.615 DEBUG org.hibernate.SQL - insert into CUSTOMER (birthDate,creationDate,email,firstname,lastname,photo,status,version,ID) values (?,?,?,?,?,?,?,?,?)\n"
     ]
    },
    {
     "name": "stdout",
     "output_type": "stream",
     "text": [
      "13:19:55.616 DEBUG org.hibernate.SQL - select count(*)>0 from CUSTOMER c1_0 where c1_0.email=?\n"
     ]
    },
    {
     "name": "stdout",
     "output_type": "stream",
     "text": [
      "13:19:55.617 DEBUG org.hibernate.SQL - insert into CUSTOMER (birthDate,creationDate,email,firstname,lastname,photo,status,version,ID) values (?,?,?,?,?,?,?,?,?)\n"
     ]
    },
    {
     "name": "stdout",
     "output_type": "stream",
     "text": [
      "13:19:55.617 DEBUG org.hibernate.SQL - select count(*)>0 from CUSTOMER c1_0 where c1_0.email=?\n"
     ]
    },
    {
     "name": "stdout",
     "output_type": "stream",
     "text": [
      "13:19:55.617 DEBUG org.hibernate.SQL - select nextval('CUSTOMER_SEQ')\n"
     ]
    },
    {
     "name": "stdout",
     "output_type": "stream",
     "text": [
      "13:19:55.618 DEBUG org.hibernate.SQL - insert into CUSTOMER (birthDate,creationDate,email,firstname,lastname,photo,status,version,ID) values (?,?,?,?,?,?,?,?,?)\n"
     ]
    },
    {
     "name": "stdout",
     "output_type": "stream",
     "text": [
      "13:19:55.618 DEBUG org.hibernate.SQL - select count(*)>0 from CUSTOMER c1_0 where c1_0.email=?\n"
     ]
    },
    {
     "name": "stdout",
     "output_type": "stream",
     "text": [
      "13:19:55.619 DEBUG org.hibernate.SQL - insert into CUSTOMER (birthDate,creationDate,email,firstname,lastname,photo,status,version,ID) values (?,?,?,?,?,?,?,?,?)\n"
     ]
    },
    {
     "name": "stdout",
     "output_type": "stream",
     "text": [
      "13:19:55.619 DEBUG org.hibernate.SQL - select count(*)>0 from CUSTOMER c1_0 where c1_0.email=?\n"
     ]
    },
    {
     "name": "stdout",
     "output_type": "stream",
     "text": [
      "13:19:55.620 DEBUG org.hibernate.SQL - insert into CUSTOMER (birthDate,creationDate,email,firstname,lastname,photo,status,version,ID) values (?,?,?,?,?,?,?,?,?)\n"
     ]
    },
    {
     "name": "stdout",
     "output_type": "stream",
     "text": [
      "13:19:55.620 DEBUG org.hibernate.SQL - select count(*)>0 from CUSTOMER c1_0 where c1_0.email=?\n"
     ]
    },
    {
     "name": "stdout",
     "output_type": "stream",
     "text": [
      "13:19:55.621 DEBUG org.hibernate.SQL - insert into CUSTOMER (birthDate,creationDate,email,firstname,lastname,photo,status,version,ID) values (?,?,?,?,?,?,?,?,?)\n"
     ]
    },
    {
     "name": "stdout",
     "output_type": "stream",
     "text": [
      "13:19:55.621 DEBUG org.hibernate.SQL - select count(*)>0 from CUSTOMER c1_0 where c1_0.email=?\n"
     ]
    },
    {
     "name": "stdout",
     "output_type": "stream",
     "text": [
      "13:19:55.622 DEBUG org.hibernate.SQL - insert into CUSTOMER (birthDate,creationDate,email,firstname,lastname,photo,status,version,ID) values (?,?,?,?,?,?,?,?,?)\n"
     ]
    },
    {
     "name": "stdout",
     "output_type": "stream",
     "text": [
      "13:19:55.622 DEBUG org.hibernate.SQL - select count(*)>0 from CUSTOMER c1_0 where c1_0.email=?\n"
     ]
    },
    {
     "name": "stdout",
     "output_type": "stream",
     "text": [
      "13:19:55.622 DEBUG org.hibernate.SQL - insert into CUSTOMER (birthDate,creationDate,email,firstname,lastname,photo,status,version,ID) values (?,?,?,?,?,?,?,?,?)\n"
     ]
    },
    {
     "name": "stdout",
     "output_type": "stream",
     "text": [
      "13:19:55.623 DEBUG org.hibernate.SQL - select count(*)>0 from CUSTOMER c1_0 where c1_0.email=?\n"
     ]
    },
    {
     "name": "stdout",
     "output_type": "stream",
     "text": [
      "13:19:55.623 DEBUG org.hibernate.SQL - insert into CUSTOMER (birthDate,creationDate,email,firstname,lastname,photo,status,version,ID) values (?,?,?,?,?,?,?,?,?)\n"
     ]
    },
    {
     "name": "stdout",
     "output_type": "stream",
     "text": [
      "13:19:55.623 DEBUG org.hibernate.SQL - select count(*)>0 from CUSTOMER c1_0 where c1_0.email=?\n"
     ]
    },
    {
     "name": "stdout",
     "output_type": "stream",
     "text": [
      "13:19:55.624 DEBUG org.hibernate.SQL - insert into CUSTOMER (birthDate,creationDate,email,firstname,lastname,photo,status,version,ID) values (?,?,?,?,?,?,?,?,?)\n"
     ]
    },
    {
     "name": "stdout",
     "output_type": "stream",
     "text": [
      "13:19:55.624 DEBUG org.hibernate.SQL - select count(*)>0 from CUSTOMER c1_0 where c1_0.email=?\n"
     ]
    },
    {
     "name": "stdout",
     "output_type": "stream",
     "text": [
      "13:19:55.624 DEBUG org.hibernate.SQL - insert into CUSTOMER (birthDate,creationDate,email,firstname,lastname,photo,status,version,ID) values (?,?,?,?,?,?,?,?,?)\n"
     ]
    },
    {
     "name": "stdout",
     "output_type": "stream",
     "text": [
      "13:19:55.625 DEBUG org.hibernate.SQL - select count(*)>0 from CUSTOMER c1_0 where c1_0.email=?\n"
     ]
    },
    {
     "name": "stdout",
     "output_type": "stream",
     "text": [
      "13:19:55.625 DEBUG org.hibernate.SQL - insert into CUSTOMER (birthDate,creationDate,email,firstname,lastname,photo,status,version,ID) values (?,?,?,?,?,?,?,?,?)\n"
     ]
    },
    {
     "name": "stdout",
     "output_type": "stream",
     "text": [
      "13:19:55.626 DEBUG org.hibernate.SQL - select count(*)>0 from CUSTOMER c1_0 where c1_0.email=?\n"
     ]
    },
    {
     "name": "stdout",
     "output_type": "stream",
     "text": [
      "13:19:55.627 DEBUG org.hibernate.SQL - insert into CUSTOMER (birthDate,creationDate,email,firstname,lastname,photo,status,version,ID) values (?,?,?,?,?,?,?,?,?)\n"
     ]
    },
    {
     "name": "stdout",
     "output_type": "stream",
     "text": [
      "13:19:55.627 DEBUG org.hibernate.SQL - select count(*)>0 from CUSTOMER c1_0 where c1_0.email=?\n"
     ]
    },
    {
     "name": "stdout",
     "output_type": "stream",
     "text": [
      "13:19:55.628 DEBUG org.hibernate.SQL - insert into CUSTOMER (birthDate,creationDate,email,firstname,lastname,photo,status,version,ID) values (?,?,?,?,?,?,?,?,?)\n"
     ]
    },
    {
     "name": "stdout",
     "output_type": "stream",
     "text": [
      "13:19:55.629 DEBUG org.hibernate.SQL - select count(*)>0 from CUSTOMER c1_0 where c1_0.email=?\n"
     ]
    },
    {
     "name": "stdout",
     "output_type": "stream",
     "text": [
      "13:19:55.630 DEBUG org.hibernate.SQL - insert into CUSTOMER (birthDate,creationDate,email,firstname,lastname,photo,status,version,ID) values (?,?,?,?,?,?,?,?,?)\n"
     ]
    },
    {
     "name": "stdout",
     "output_type": "stream",
     "text": [
      "13:19:55.630 DEBUG org.hibernate.SQL - select count(*)>0 from CUSTOMER c1_0 where c1_0.email=?\n"
     ]
    },
    {
     "name": "stdout",
     "output_type": "stream",
     "text": [
      "13:19:55.631 DEBUG org.hibernate.SQL - insert into CUSTOMER (birthDate,creationDate,email,firstname,lastname,photo,status,version,ID) values (?,?,?,?,?,?,?,?,?)\n"
     ]
    },
    {
     "name": "stdout",
     "output_type": "stream",
     "text": [
      "13:19:55.631 DEBUG org.hibernate.SQL - select count(*)>0 from CUSTOMER c1_0 where c1_0.email=?\n"
     ]
    },
    {
     "name": "stdout",
     "output_type": "stream",
     "text": [
      "13:19:55.632 DEBUG org.hibernate.SQL - insert into CUSTOMER (birthDate,creationDate,email,firstname,lastname,photo,status,version,ID) values (?,?,?,?,?,?,?,?,?)\n"
     ]
    },
    {
     "name": "stdout",
     "output_type": "stream",
     "text": [
      "13:19:55.632 DEBUG org.hibernate.SQL - select count(*)>0 from CUSTOMER c1_0 where c1_0.email=?\n"
     ]
    },
    {
     "name": "stdout",
     "output_type": "stream",
     "text": [
      "13:19:55.633 DEBUG org.hibernate.SQL - insert into CUSTOMER (birthDate,creationDate,email,firstname,lastname,photo,status,version,ID) values (?,?,?,?,?,?,?,?,?)\n"
     ]
    },
    {
     "name": "stdout",
     "output_type": "stream",
     "text": [
      "13:19:55.633 DEBUG org.hibernate.SQL - select count(*)>0 from CUSTOMER c1_0 where c1_0.email=?\n"
     ]
    },
    {
     "name": "stdout",
     "output_type": "stream",
     "text": [
      "13:19:55.633 DEBUG org.hibernate.SQL - insert into CUSTOMER (birthDate,creationDate,email,firstname,lastname,photo,status,version,ID) values (?,?,?,?,?,?,?,?,?)\n"
     ]
    },
    {
     "name": "stdout",
     "output_type": "stream",
     "text": [
      "13:19:55.634 DEBUG org.hibernate.SQL - select count(*)>0 from CUSTOMER c1_0 where c1_0.email=?\n"
     ]
    },
    {
     "name": "stdout",
     "output_type": "stream",
     "text": [
      "13:19:55.634 DEBUG org.hibernate.SQL - insert into CUSTOMER (birthDate,creationDate,email,firstname,lastname,photo,status,version,ID) values (?,?,?,?,?,?,?,?,?)\n"
     ]
    },
    {
     "name": "stdout",
     "output_type": "stream",
     "text": [
      "13:19:55.635 DEBUG org.hibernate.SQL - select count(*)>0 from CUSTOMER c1_0 where c1_0.email=?\n"
     ]
    },
    {
     "name": "stdout",
     "output_type": "stream",
     "text": [
      "13:19:55.635 DEBUG org.hibernate.SQL - insert into CUSTOMER (birthDate,creationDate,email,firstname,lastname,photo,status,version,ID) values (?,?,?,?,?,?,?,?,?)\n"
     ]
    },
    {
     "name": "stdout",
     "output_type": "stream",
     "text": [
      "13:19:55.636 DEBUG org.hibernate.SQL - select count(*)>0 from CUSTOMER c1_0 where c1_0.email=?\n"
     ]
    },
    {
     "name": "stdout",
     "output_type": "stream",
     "text": [
      "13:19:55.636 DEBUG org.hibernate.SQL - insert into CUSTOMER (birthDate,creationDate,email,firstname,lastname,photo,status,version,ID) values (?,?,?,?,?,?,?,?,?)\n"
     ]
    },
    {
     "name": "stdout",
     "output_type": "stream",
     "text": [
      "13:19:55.636 DEBUG org.hibernate.SQL - select count(*)>0 from CUSTOMER c1_0 where c1_0.email=?\n"
     ]
    },
    {
     "name": "stdout",
     "output_type": "stream",
     "text": [
      "13:19:55.637 DEBUG org.hibernate.SQL - insert into CUSTOMER (birthDate,creationDate,email,firstname,lastname,photo,status,version,ID) values (?,?,?,?,?,?,?,?,?)\n"
     ]
    },
    {
     "name": "stdout",
     "output_type": "stream",
     "text": [
      "13:19:55.637 DEBUG org.hibernate.SQL - select count(*)>0 from CUSTOMER c1_0 where c1_0.email=?\n"
     ]
    },
    {
     "name": "stdout",
     "output_type": "stream",
     "text": [
      "13:19:55.637 DEBUG org.hibernate.SQL - insert into CUSTOMER (birthDate,creationDate,email,firstname,lastname,photo,status,version,ID) values (?,?,?,?,?,?,?,?,?)\n"
     ]
    },
    {
     "name": "stdout",
     "output_type": "stream",
     "text": [
      "13:19:55.638 DEBUG org.hibernate.SQL - select count(*)>0 from CUSTOMER c1_0 where c1_0.email=?\n"
     ]
    },
    {
     "name": "stdout",
     "output_type": "stream",
     "text": [
      "13:19:55.638 DEBUG org.hibernate.SQL - insert into CUSTOMER (birthDate,creationDate,email,firstname,lastname,photo,status,version,ID) values (?,?,?,?,?,?,?,?,?)\n"
     ]
    },
    {
     "name": "stdout",
     "output_type": "stream",
     "text": [
      "13:19:55.638 DEBUG org.hibernate.SQL - select count(*)>0 from CUSTOMER c1_0 where c1_0.email=?\n"
     ]
    },
    {
     "name": "stdout",
     "output_type": "stream",
     "text": [
      "13:19:55.639 DEBUG org.hibernate.SQL - insert into CUSTOMER (birthDate,creationDate,email,firstname,lastname,photo,status,version,ID) values (?,?,?,?,?,?,?,?,?)\n"
     ]
    },
    {
     "name": "stdout",
     "output_type": "stream",
     "text": [
      "13:19:55.639 DEBUG org.hibernate.SQL - select count(*)>0 from CUSTOMER c1_0 where c1_0.email=?\n"
     ]
    },
    {
     "name": "stdout",
     "output_type": "stream",
     "text": [
      "13:19:55.639 DEBUG org.hibernate.SQL - insert into CUSTOMER (birthDate,creationDate,email,firstname,lastname,photo,status,version,ID) values (?,?,?,?,?,?,?,?,?)\n"
     ]
    },
    {
     "name": "stdout",
     "output_type": "stream",
     "text": [
      "13:19:55.639 DEBUG org.hibernate.SQL - select count(*)>0 from CUSTOMER c1_0 where c1_0.email=?\n"
     ]
    },
    {
     "name": "stdout",
     "output_type": "stream",
     "text": [
      "13:19:55.640 DEBUG org.hibernate.SQL - insert into CUSTOMER (birthDate,creationDate,email,firstname,lastname,photo,status,version,ID) values (?,?,?,?,?,?,?,?,?)\n"
     ]
    },
    {
     "name": "stdout",
     "output_type": "stream",
     "text": [
      "13:19:55.640 DEBUG org.hibernate.SQL - select count(*)>0 from CUSTOMER c1_0 where c1_0.email=?\n"
     ]
    },
    {
     "name": "stdout",
     "output_type": "stream",
     "text": [
      "13:19:55.641 DEBUG org.hibernate.SQL - insert into CUSTOMER (birthDate,creationDate,email,firstname,lastname,photo,status,version,ID) values (?,?,?,?,?,?,?,?,?)\n"
     ]
    },
    {
     "name": "stdout",
     "output_type": "stream",
     "text": [
      "13:19:55.641 DEBUG org.hibernate.SQL - select count(*)>0 from CUSTOMER c1_0 where c1_0.email=?\n"
     ]
    },
    {
     "name": "stdout",
     "output_type": "stream",
     "text": [
      "13:19:55.641 DEBUG org.hibernate.SQL - insert into CUSTOMER (birthDate,creationDate,email,firstname,lastname,photo,status,version,ID) values (?,?,?,?,?,?,?,?,?)\n"
     ]
    },
    {
     "name": "stdout",
     "output_type": "stream",
     "text": [
      "13:19:55.641 DEBUG org.hibernate.SQL - select count(*)>0 from CUSTOMER c1_0 where c1_0.email=?\n"
     ]
    },
    {
     "name": "stdout",
     "output_type": "stream",
     "text": [
      "13:19:55.642 DEBUG org.hibernate.SQL - insert into CUSTOMER (birthDate,creationDate,email,firstname,lastname,photo,status,version,ID) values (?,?,?,?,?,?,?,?,?)\n"
     ]
    },
    {
     "name": "stdout",
     "output_type": "stream",
     "text": [
      "13:19:55.642 DEBUG org.hibernate.SQL - select count(*)>0 from CUSTOMER c1_0 where c1_0.email=?\n"
     ]
    },
    {
     "name": "stdout",
     "output_type": "stream",
     "text": [
      "13:19:55.642 DEBUG org.hibernate.SQL - insert into CUSTOMER (birthDate,creationDate,email,firstname,lastname,photo,status,version,ID) values (?,?,?,?,?,?,?,?,?)\n"
     ]
    },
    {
     "name": "stdout",
     "output_type": "stream",
     "text": [
      "13:19:55.643 DEBUG org.hibernate.SQL - select count(*)>0 from CUSTOMER c1_0 where c1_0.email=?\n"
     ]
    },
    {
     "name": "stdout",
     "output_type": "stream",
     "text": [
      "13:19:55.643 DEBUG org.hibernate.SQL - insert into CUSTOMER (birthDate,creationDate,email,firstname,lastname,photo,status,version,ID) values (?,?,?,?,?,?,?,?,?)\n"
     ]
    },
    {
     "name": "stdout",
     "output_type": "stream",
     "text": [
      "13:19:55.643 DEBUG org.hibernate.SQL - select count(*)>0 from CUSTOMER c1_0 where c1_0.email=?\n"
     ]
    },
    {
     "name": "stdout",
     "output_type": "stream",
     "text": [
      "13:19:55.644 DEBUG org.hibernate.SQL - insert into CUSTOMER (birthDate,creationDate,email,firstname,lastname,photo,status,version,ID) values (?,?,?,?,?,?,?,?,?)\n"
     ]
    },
    {
     "name": "stdout",
     "output_type": "stream",
     "text": [
      "13:19:55.644 DEBUG org.hibernate.SQL - select count(*)>0 from CUSTOMER c1_0 where c1_0.email=?\n"
     ]
    },
    {
     "name": "stdout",
     "output_type": "stream",
     "text": [
      "13:19:55.645 DEBUG org.hibernate.SQL - insert into CUSTOMER (birthDate,creationDate,email,firstname,lastname,photo,status,version,ID) values (?,?,?,?,?,?,?,?,?)\n"
     ]
    },
    {
     "name": "stdout",
     "output_type": "stream",
     "text": [
      "13:19:55.645 DEBUG org.hibernate.SQL - select count(*)>0 from CUSTOMER c1_0 where c1_0.email=?\n"
     ]
    },
    {
     "name": "stdout",
     "output_type": "stream",
     "text": [
      "13:19:55.645 DEBUG org.hibernate.SQL - insert into CUSTOMER (birthDate,creationDate,email,firstname,lastname,photo,status,version,ID) values (?,?,?,?,?,?,?,?,?)\n"
     ]
    },
    {
     "name": "stdout",
     "output_type": "stream",
     "text": [
      "13:19:55.646 DEBUG org.hibernate.SQL - select count(*)>0 from CUSTOMER c1_0 where c1_0.email=?\n"
     ]
    },
    {
     "name": "stdout",
     "output_type": "stream",
     "text": [
      "13:19:55.646 DEBUG org.hibernate.SQL - insert into CUSTOMER (birthDate,creationDate,email,firstname,lastname,photo,status,version,ID) values (?,?,?,?,?,?,?,?,?)\n"
     ]
    },
    {
     "name": "stdout",
     "output_type": "stream",
     "text": [
      "13:19:55.646 DEBUG org.hibernate.SQL - select count(*)>0 from CUSTOMER c1_0 where c1_0.email=?\n"
     ]
    },
    {
     "name": "stdout",
     "output_type": "stream",
     "text": [
      "13:19:55.647 DEBUG org.hibernate.SQL - insert into CUSTOMER (birthDate,creationDate,email,firstname,lastname,photo,status,version,ID) values (?,?,?,?,?,?,?,?,?)\n"
     ]
    },
    {
     "name": "stdout",
     "output_type": "stream",
     "text": [
      "13:19:55.647 DEBUG org.hibernate.SQL - select count(*)>0 from CUSTOMER c1_0 where c1_0.email=?\n"
     ]
    },
    {
     "name": "stdout",
     "output_type": "stream",
     "text": [
      "13:19:55.648 DEBUG org.hibernate.SQL - insert into CUSTOMER (birthDate,creationDate,email,firstname,lastname,photo,status,version,ID) values (?,?,?,?,?,?,?,?,?)\n"
     ]
    },
    {
     "name": "stdout",
     "output_type": "stream",
     "text": [
      "13:19:55.648 DEBUG org.hibernate.SQL - select count(*)>0 from CUSTOMER c1_0 where c1_0.email=?\n"
     ]
    },
    {
     "name": "stdout",
     "output_type": "stream",
     "text": [
      "13:19:55.648 DEBUG org.hibernate.SQL - insert into CUSTOMER (birthDate,creationDate,email,firstname,lastname,photo,status,version,ID) values (?,?,?,?,?,?,?,?,?)\n"
     ]
    },
    {
     "name": "stdout",
     "output_type": "stream",
     "text": [
      "13:19:55.649 DEBUG org.hibernate.SQL - select count(*)>0 from CUSTOMER c1_0 where c1_0.email=?\n"
     ]
    },
    {
     "name": "stdout",
     "output_type": "stream",
     "text": [
      "13:19:55.649 DEBUG org.hibernate.SQL - insert into CUSTOMER (birthDate,creationDate,email,firstname,lastname,photo,status,version,ID) values (?,?,?,?,?,?,?,?,?)\n"
     ]
    },
    {
     "name": "stdout",
     "output_type": "stream",
     "text": [
      "13:19:55.649 DEBUG org.hibernate.SQL - select count(*)>0 from CUSTOMER c1_0 where c1_0.email=?\n"
     ]
    },
    {
     "name": "stdout",
     "output_type": "stream",
     "text": [
      "13:19:55.650 DEBUG org.hibernate.SQL - insert into CUSTOMER (birthDate,creationDate,email,firstname,lastname,photo,status,version,ID) values (?,?,?,?,?,?,?,?,?)\n"
     ]
    },
    {
     "name": "stdout",
     "output_type": "stream",
     "text": [
      "13:19:55.650 DEBUG org.hibernate.SQL - select count(*)>0 from CUSTOMER c1_0 where c1_0.email=?\n"
     ]
    },
    {
     "name": "stdout",
     "output_type": "stream",
     "text": [
      "13:19:55.653 DEBUG org.hibernate.SQL - insert into CUSTOMER (birthDate,creationDate,email,firstname,lastname,photo,status,version,ID) values (?,?,?,?,?,?,?,?,?)\n"
     ]
    },
    {
     "name": "stdout",
     "output_type": "stream",
     "text": [
      "13:19:55.658 DEBUG org.hibernate.SQL - select count(*)>0 from CUSTOMER c1_0 where c1_0.email=?\n"
     ]
    },
    {
     "name": "stdout",
     "output_type": "stream",
     "text": [
      "13:19:55.662 DEBUG org.hibernate.SQL - insert into CUSTOMER (birthDate,creationDate,email,firstname,lastname,photo,status,version,ID) values (?,?,?,?,?,?,?,?,?)\n"
     ]
    },
    {
     "name": "stdout",
     "output_type": "stream",
     "text": [
      "13:19:55.663 DEBUG org.hibernate.SQL - select count(*)>0 from CUSTOMER c1_0 where c1_0.email=?\n"
     ]
    },
    {
     "name": "stdout",
     "output_type": "stream",
     "text": [
      "13:19:55.666 DEBUG org.hibernate.SQL - insert into CUSTOMER (birthDate,creationDate,email,firstname,lastname,photo,status,version,ID) values (?,?,?,?,?,?,?,?,?)\n"
     ]
    },
    {
     "name": "stdout",
     "output_type": "stream",
     "text": [
      "13:19:55.668 DEBUG org.hibernate.SQL - select count(*)>0 from CUSTOMER c1_0 where c1_0.email=?\n"
     ]
    },
    {
     "name": "stdout",
     "output_type": "stream",
     "text": [
      "13:19:55.671 DEBUG org.hibernate.SQL - insert into CUSTOMER (birthDate,creationDate,email,firstname,lastname,photo,status,version,ID) values (?,?,?,?,?,?,?,?,?)\n"
     ]
    },
    {
     "name": "stdout",
     "output_type": "stream",
     "text": [
      "13:19:55.672 DEBUG org.hibernate.SQL - select count(*)>0 from CUSTOMER c1_0 where c1_0.email=?\n"
     ]
    },
    {
     "name": "stdout",
     "output_type": "stream",
     "text": [
      "13:19:55.675 DEBUG org.hibernate.SQL - insert into CUSTOMER (birthDate,creationDate,email,firstname,lastname,photo,status,version,ID) values (?,?,?,?,?,?,?,?,?)\n"
     ]
    },
    {
     "name": "stdout",
     "output_type": "stream",
     "text": [
      "13:19:55.677 DEBUG org.hibernate.SQL - select count(*)>0 from CUSTOMER c1_0 where c1_0.email=?\n"
     ]
    },
    {
     "name": "stdout",
     "output_type": "stream",
     "text": [
      "13:19:55.680 DEBUG org.hibernate.SQL - insert into CUSTOMER (birthDate,creationDate,email,firstname,lastname,photo,status,version,ID) values (?,?,?,?,?,?,?,?,?)\n"
     ]
    },
    {
     "name": "stdout",
     "output_type": "stream",
     "text": [
      "13:19:55.682 DEBUG org.hibernate.SQL - select count(*)>0 from CUSTOMER c1_0 where c1_0.email=?\n"
     ]
    },
    {
     "name": "stdout",
     "output_type": "stream",
     "text": [
      "13:19:55.685 DEBUG org.hibernate.SQL - insert into CUSTOMER (birthDate,creationDate,email,firstname,lastname,photo,status,version,ID) values (?,?,?,?,?,?,?,?,?)\n"
     ]
    },
    {
     "name": "stdout",
     "output_type": "stream",
     "text": [
      "13:19:55.686 DEBUG org.hibernate.SQL - select count(*)>0 from CUSTOMER c1_0 where c1_0.email=?\n"
     ]
    },
    {
     "name": "stdout",
     "output_type": "stream",
     "text": [
      "13:19:55.687 DEBUG org.hibernate.SQL - insert into CUSTOMER (birthDate,creationDate,email,firstname,lastname,photo,status,version,ID) values (?,?,?,?,?,?,?,?,?)\n"
     ]
    },
    {
     "name": "stdout",
     "output_type": "stream",
     "text": [
      "13:19:55.688 DEBUG org.hibernate.SQL - select count(*)>0 from CUSTOMER c1_0 where c1_0.email=?\n"
     ]
    },
    {
     "name": "stdout",
     "output_type": "stream",
     "text": [
      "13:19:55.693 DEBUG org.hibernate.SQL - insert into CUSTOMER (birthDate,creationDate,email,firstname,lastname,photo,status,version,ID) values (?,?,?,?,?,?,?,?,?)\n"
     ]
    },
    {
     "name": "stdout",
     "output_type": "stream",
     "text": [
      "13:19:55.694 DEBUG org.hibernate.SQL - select count(*)>0 from CUSTOMER c1_0 where c1_0.email=?\n"
     ]
    },
    {
     "name": "stdout",
     "output_type": "stream",
     "text": [
      "13:19:55.695 DEBUG org.hibernate.SQL - insert into CUSTOMER (birthDate,creationDate,email,firstname,lastname,photo,status,version,ID) values (?,?,?,?,?,?,?,?,?)\n"
     ]
    },
    {
     "name": "stdout",
     "output_type": "stream",
     "text": [
      "13:19:55.696 DEBUG org.hibernate.SQL - select count(*)>0 from CUSTOMER c1_0 where c1_0.email=?\n"
     ]
    },
    {
     "name": "stdout",
     "output_type": "stream",
     "text": [
      "13:19:55.696 DEBUG org.hibernate.SQL - select nextval('CUSTOMER_SEQ')\n"
     ]
    },
    {
     "name": "stdout",
     "output_type": "stream",
     "text": [
      "13:19:55.697 DEBUG org.hibernate.SQL - insert into CUSTOMER (birthDate,creationDate,email,firstname,lastname,photo,status,version,ID) values (?,?,?,?,?,?,?,?,?)\n"
     ]
    },
    {
     "name": "stdout",
     "output_type": "stream",
     "text": [
      "13:19:55.699 DEBUG org.hibernate.SQL - select count(*)>0 from CUSTOMER c1_0 where c1_0.email=?\n"
     ]
    },
    {
     "name": "stdout",
     "output_type": "stream",
     "text": [
      "13:19:55.701 DEBUG org.hibernate.SQL - insert into CUSTOMER (birthDate,creationDate,email,firstname,lastname,photo,status,version,ID) values (?,?,?,?,?,?,?,?,?)\n"
     ]
    },
    {
     "name": "stdout",
     "output_type": "stream",
     "text": [
      "13:19:55.701 DEBUG org.hibernate.SQL - select count(*)>0 from CUSTOMER c1_0 where c1_0.email=?\n"
     ]
    },
    {
     "name": "stdout",
     "output_type": "stream",
     "text": [
      "13:19:55.704 DEBUG org.hibernate.SQL - insert into CUSTOMER (birthDate,creationDate,email,firstname,lastname,photo,status,version,ID) values (?,?,?,?,?,?,?,?,?)\n"
     ]
    },
    {
     "name": "stdout",
     "output_type": "stream",
     "text": [
      "13:19:55.705 DEBUG org.hibernate.SQL - select count(*)>0 from CUSTOMER c1_0 where c1_0.email=?\n"
     ]
    },
    {
     "name": "stdout",
     "output_type": "stream",
     "text": [
      "13:19:55.709 DEBUG org.hibernate.SQL - insert into CUSTOMER (birthDate,creationDate,email,firstname,lastname,photo,status,version,ID) values (?,?,?,?,?,?,?,?,?)\n"
     ]
    },
    {
     "name": "stdout",
     "output_type": "stream",
     "text": [
      "13:19:55.712 DEBUG org.hibernate.SQL - select count(*)>0 from CUSTOMER c1_0 where c1_0.email=?\n"
     ]
    },
    {
     "name": "stdout",
     "output_type": "stream",
     "text": [
      "13:19:55.715 DEBUG org.hibernate.SQL - insert into CUSTOMER (birthDate,creationDate,email,firstname,lastname,photo,status,version,ID) values (?,?,?,?,?,?,?,?,?)\n"
     ]
    },
    {
     "name": "stdout",
     "output_type": "stream",
     "text": [
      "13:19:55.716 DEBUG org.hibernate.SQL - select count(*)>0 from CUSTOMER c1_0 where c1_0.email=?\n"
     ]
    },
    {
     "name": "stdout",
     "output_type": "stream",
     "text": [
      "13:19:55.719 DEBUG org.hibernate.SQL - insert into CUSTOMER (birthDate,creationDate,email,firstname,lastname,photo,status,version,ID) values (?,?,?,?,?,?,?,?,?)\n"
     ]
    },
    {
     "name": "stdout",
     "output_type": "stream",
     "text": [
      "13:19:55.720 DEBUG org.hibernate.SQL - select count(*)>0 from CUSTOMER c1_0 where c1_0.email=?\n"
     ]
    },
    {
     "name": "stdout",
     "output_type": "stream",
     "text": [
      "13:19:55.725 DEBUG org.hibernate.SQL - insert into CUSTOMER (birthDate,creationDate,email,firstname,lastname,photo,status,version,ID) values (?,?,?,?,?,?,?,?,?)\n"
     ]
    },
    {
     "name": "stdout",
     "output_type": "stream",
     "text": [
      "13:19:55.726 DEBUG org.hibernate.SQL - select count(*)>0 from CUSTOMER c1_0 where c1_0.email=?\n"
     ]
    },
    {
     "name": "stdout",
     "output_type": "stream",
     "text": [
      "13:19:55.729 DEBUG org.hibernate.SQL - insert into CUSTOMER (birthDate,creationDate,email,firstname,lastname,photo,status,version,ID) values (?,?,?,?,?,?,?,?,?)\n"
     ]
    },
    {
     "name": "stdout",
     "output_type": "stream",
     "text": [
      "13:19:55.730 DEBUG org.hibernate.SQL - select count(*)>0 from CUSTOMER c1_0 where c1_0.email=?\n"
     ]
    },
    {
     "name": "stdout",
     "output_type": "stream",
     "text": [
      "13:19:55.730 DEBUG org.hibernate.SQL - insert into CUSTOMER (birthDate,creationDate,email,firstname,lastname,photo,status,version,ID) values (?,?,?,?,?,?,?,?,?)\n"
     ]
    },
    {
     "name": "stdout",
     "output_type": "stream",
     "text": [
      "13:19:55.730 DEBUG org.hibernate.SQL - select count(*)>0 from CUSTOMER c1_0 where c1_0.email=?\n"
     ]
    },
    {
     "name": "stdout",
     "output_type": "stream",
     "text": [
      "13:19:55.731 DEBUG org.hibernate.SQL - insert into CUSTOMER (birthDate,creationDate,email,firstname,lastname,photo,status,version,ID) values (?,?,?,?,?,?,?,?,?)\n"
     ]
    },
    {
     "name": "stdout",
     "output_type": "stream",
     "text": [
      "13:19:55.731 DEBUG org.hibernate.SQL - select count(*)>0 from CUSTOMER c1_0 where c1_0.email=?\n"
     ]
    },
    {
     "name": "stdout",
     "output_type": "stream",
     "text": [
      "13:19:55.732 DEBUG org.hibernate.SQL - insert into CUSTOMER (birthDate,creationDate,email,firstname,lastname,photo,status,version,ID) values (?,?,?,?,?,?,?,?,?)\n"
     ]
    },
    {
     "name": "stdout",
     "output_type": "stream",
     "text": [
      "13:19:55.732 DEBUG org.hibernate.SQL - select count(*)>0 from CUSTOMER c1_0 where c1_0.email=?\n"
     ]
    },
    {
     "name": "stdout",
     "output_type": "stream",
     "text": [
      "13:19:55.733 DEBUG org.hibernate.SQL - insert into CUSTOMER (birthDate,creationDate,email,firstname,lastname,photo,status,version,ID) values (?,?,?,?,?,?,?,?,?)\n"
     ]
    },
    {
     "name": "stdout",
     "output_type": "stream",
     "text": [
      "13:19:55.733 DEBUG org.hibernate.SQL - select count(*)>0 from CUSTOMER c1_0 where c1_0.email=?\n"
     ]
    },
    {
     "name": "stdout",
     "output_type": "stream",
     "text": [
      "13:19:55.734 DEBUG org.hibernate.SQL - insert into CUSTOMER (birthDate,creationDate,email,firstname,lastname,photo,status,version,ID) values (?,?,?,?,?,?,?,?,?)\n"
     ]
    },
    {
     "name": "stdout",
     "output_type": "stream",
     "text": [
      "13:19:55.734 DEBUG org.hibernate.SQL - select count(*)>0 from CUSTOMER c1_0 where c1_0.email=?\n"
     ]
    },
    {
     "name": "stdout",
     "output_type": "stream",
     "text": [
      "13:19:55.734 DEBUG org.hibernate.SQL - insert into CUSTOMER (birthDate,creationDate,email,firstname,lastname,photo,status,version,ID) values (?,?,?,?,?,?,?,?,?)\n"
     ]
    },
    {
     "name": "stdout",
     "output_type": "stream",
     "text": [
      "13:19:55.735 DEBUG org.hibernate.SQL - select count(*)>0 from CUSTOMER c1_0 where c1_0.email=?\n"
     ]
    },
    {
     "name": "stdout",
     "output_type": "stream",
     "text": [
      "13:19:55.735 DEBUG org.hibernate.SQL - insert into CUSTOMER (birthDate,creationDate,email,firstname,lastname,photo,status,version,ID) values (?,?,?,?,?,?,?,?,?)\n"
     ]
    },
    {
     "name": "stdout",
     "output_type": "stream",
     "text": [
      "13:19:55.735 DEBUG org.hibernate.SQL - select count(*)>0 from CUSTOMER c1_0 where c1_0.email=?\n"
     ]
    },
    {
     "name": "stdout",
     "output_type": "stream",
     "text": [
      "13:19:55.736 DEBUG org.hibernate.SQL - insert into CUSTOMER (birthDate,creationDate,email,firstname,lastname,photo,status,version,ID) values (?,?,?,?,?,?,?,?,?)\n"
     ]
    },
    {
     "name": "stdout",
     "output_type": "stream",
     "text": [
      "13:19:55.736 DEBUG org.hibernate.SQL - select count(*)>0 from CUSTOMER c1_0 where c1_0.email=?\n"
     ]
    },
    {
     "name": "stdout",
     "output_type": "stream",
     "text": [
      "13:19:55.737 DEBUG org.hibernate.SQL - insert into CUSTOMER (birthDate,creationDate,email,firstname,lastname,photo,status,version,ID) values (?,?,?,?,?,?,?,?,?)\n"
     ]
    },
    {
     "name": "stdout",
     "output_type": "stream",
     "text": [
      "13:19:55.737 DEBUG org.hibernate.SQL - select count(*)>0 from CUSTOMER c1_0 where c1_0.email=?\n"
     ]
    },
    {
     "name": "stdout",
     "output_type": "stream",
     "text": [
      "13:19:55.738 DEBUG org.hibernate.SQL - insert into CUSTOMER (birthDate,creationDate,email,firstname,lastname,photo,status,version,ID) values (?,?,?,?,?,?,?,?,?)\n"
     ]
    },
    {
     "name": "stdout",
     "output_type": "stream",
     "text": [
      "13:19:55.738 DEBUG org.hibernate.SQL - select count(*)>0 from CUSTOMER c1_0 where c1_0.email=?\n"
     ]
    },
    {
     "name": "stdout",
     "output_type": "stream",
     "text": [
      "13:19:55.739 DEBUG org.hibernate.SQL - insert into CUSTOMER (birthDate,creationDate,email,firstname,lastname,photo,status,version,ID) values (?,?,?,?,?,?,?,?,?)\n"
     ]
    },
    {
     "name": "stdout",
     "output_type": "stream",
     "text": [
      "13:19:55.739 DEBUG org.hibernate.SQL - select count(*)>0 from CUSTOMER c1_0 where c1_0.email=?\n"
     ]
    },
    {
     "name": "stdout",
     "output_type": "stream",
     "text": [
      "13:19:55.740 DEBUG org.hibernate.SQL - insert into CUSTOMER (birthDate,creationDate,email,firstname,lastname,photo,status,version,ID) values (?,?,?,?,?,?,?,?,?)\n"
     ]
    },
    {
     "name": "stdout",
     "output_type": "stream",
     "text": [
      "13:19:55.740 DEBUG org.hibernate.SQL - select count(*)>0 from CUSTOMER c1_0 where c1_0.email=?\n"
     ]
    },
    {
     "name": "stdout",
     "output_type": "stream",
     "text": [
      "13:19:55.740 DEBUG org.hibernate.SQL - insert into CUSTOMER (birthDate,creationDate,email,firstname,lastname,photo,status,version,ID) values (?,?,?,?,?,?,?,?,?)\n"
     ]
    },
    {
     "name": "stdout",
     "output_type": "stream",
     "text": [
      "13:19:55.741 DEBUG org.hibernate.SQL - select count(*)>0 from CUSTOMER c1_0 where c1_0.email=?\n"
     ]
    },
    {
     "name": "stdout",
     "output_type": "stream",
     "text": [
      "13:19:55.741 DEBUG org.hibernate.SQL - insert into CUSTOMER (birthDate,creationDate,email,firstname,lastname,photo,status,version,ID) values (?,?,?,?,?,?,?,?,?)\n"
     ]
    },
    {
     "name": "stdout",
     "output_type": "stream",
     "text": [
      "13:19:55.741 DEBUG org.hibernate.SQL - select count(*)>0 from CUSTOMER c1_0 where c1_0.email=?\n"
     ]
    },
    {
     "name": "stdout",
     "output_type": "stream",
     "text": [
      "13:19:55.742 DEBUG org.hibernate.SQL - insert into CUSTOMER (birthDate,creationDate,email,firstname,lastname,photo,status,version,ID) values (?,?,?,?,?,?,?,?,?)\n"
     ]
    },
    {
     "name": "stdout",
     "output_type": "stream",
     "text": [
      "13:19:55.742 DEBUG org.hibernate.SQL - select count(*)>0 from CUSTOMER c1_0 where c1_0.email=?\n"
     ]
    },
    {
     "name": "stdout",
     "output_type": "stream",
     "text": [
      "13:19:55.743 DEBUG org.hibernate.SQL - insert into CUSTOMER (birthDate,creationDate,email,firstname,lastname,photo,status,version,ID) values (?,?,?,?,?,?,?,?,?)\n"
     ]
    },
    {
     "name": "stdout",
     "output_type": "stream",
     "text": [
      "13:19:55.743 DEBUG org.hibernate.SQL - select count(*)>0 from CUSTOMER c1_0 where c1_0.email=?\n"
     ]
    },
    {
     "name": "stdout",
     "output_type": "stream",
     "text": [
      "13:19:55.743 DEBUG org.hibernate.SQL - insert into CUSTOMER (birthDate,creationDate,email,firstname,lastname,photo,status,version,ID) values (?,?,?,?,?,?,?,?,?)\n"
     ]
    },
    {
     "name": "stdout",
     "output_type": "stream",
     "text": [
      "13:19:55.744 DEBUG org.hibernate.SQL - select count(*)>0 from CUSTOMER c1_0 where c1_0.email=?\n"
     ]
    },
    {
     "name": "stdout",
     "output_type": "stream",
     "text": [
      "13:19:55.744 DEBUG org.hibernate.SQL - insert into CUSTOMER (birthDate,creationDate,email,firstname,lastname,photo,status,version,ID) values (?,?,?,?,?,?,?,?,?)\n"
     ]
    },
    {
     "name": "stdout",
     "output_type": "stream",
     "text": [
      "13:19:55.744 DEBUG org.hibernate.SQL - select count(*)>0 from CUSTOMER c1_0 where c1_0.email=?\n"
     ]
    },
    {
     "name": "stdout",
     "output_type": "stream",
     "text": [
      "13:19:55.745 DEBUG org.hibernate.SQL - insert into CUSTOMER (birthDate,creationDate,email,firstname,lastname,photo,status,version,ID) values (?,?,?,?,?,?,?,?,?)\n"
     ]
    },
    {
     "name": "stdout",
     "output_type": "stream",
     "text": [
      "13:19:55.745 DEBUG org.hibernate.SQL - select count(*)>0 from CUSTOMER c1_0 where c1_0.email=?\n"
     ]
    },
    {
     "name": "stdout",
     "output_type": "stream",
     "text": [
      "13:19:55.746 DEBUG org.hibernate.SQL - insert into CUSTOMER (birthDate,creationDate,email,firstname,lastname,photo,status,version,ID) values (?,?,?,?,?,?,?,?,?)\n"
     ]
    },
    {
     "name": "stdout",
     "output_type": "stream",
     "text": [
      "13:19:55.746 DEBUG org.hibernate.SQL - select count(*)>0 from CUSTOMER c1_0 where c1_0.email=?\n"
     ]
    },
    {
     "name": "stdout",
     "output_type": "stream",
     "text": [
      "13:19:55.746 DEBUG org.hibernate.SQL - insert into CUSTOMER (birthDate,creationDate,email,firstname,lastname,photo,status,version,ID) values (?,?,?,?,?,?,?,?,?)\n"
     ]
    },
    {
     "name": "stdout",
     "output_type": "stream",
     "text": [
      "13:19:55.746 DEBUG org.hibernate.SQL - select count(*)>0 from CUSTOMER c1_0 where c1_0.email=?\n"
     ]
    },
    {
     "name": "stdout",
     "output_type": "stream",
     "text": [
      "13:19:55.747 DEBUG org.hibernate.SQL - insert into CUSTOMER (birthDate,creationDate,email,firstname,lastname,photo,status,version,ID) values (?,?,?,?,?,?,?,?,?)\n"
     ]
    },
    {
     "name": "stdout",
     "output_type": "stream",
     "text": [
      "13:19:55.747 DEBUG org.hibernate.SQL - select count(*)>0 from CUSTOMER c1_0 where c1_0.email=?\n"
     ]
    },
    {
     "name": "stdout",
     "output_type": "stream",
     "text": [
      "13:19:55.748 DEBUG org.hibernate.SQL - insert into CUSTOMER (birthDate,creationDate,email,firstname,lastname,photo,status,version,ID) values (?,?,?,?,?,?,?,?,?)\n"
     ]
    },
    {
     "name": "stdout",
     "output_type": "stream",
     "text": [
      "13:19:55.748 DEBUG org.hibernate.SQL - select count(*)>0 from CUSTOMER c1_0 where c1_0.email=?\n"
     ]
    },
    {
     "name": "stdout",
     "output_type": "stream",
     "text": [
      "13:19:55.748 DEBUG org.hibernate.SQL - insert into CUSTOMER (birthDate,creationDate,email,firstname,lastname,photo,status,version,ID) values (?,?,?,?,?,?,?,?,?)\n"
     ]
    },
    {
     "name": "stdout",
     "output_type": "stream",
     "text": [
      "13:19:55.748 DEBUG org.hibernate.SQL - select count(*)>0 from CUSTOMER c1_0 where c1_0.email=?\n"
     ]
    },
    {
     "name": "stdout",
     "output_type": "stream",
     "text": [
      "13:19:55.749 DEBUG org.hibernate.SQL - insert into CUSTOMER (birthDate,creationDate,email,firstname,lastname,photo,status,version,ID) values (?,?,?,?,?,?,?,?,?)\n"
     ]
    },
    {
     "name": "stdout",
     "output_type": "stream",
     "text": [
      "13:19:55.749 DEBUG org.hibernate.SQL - select count(*)>0 from CUSTOMER c1_0 where c1_0.email=?\n"
     ]
    },
    {
     "name": "stdout",
     "output_type": "stream",
     "text": [
      "13:19:55.750 DEBUG org.hibernate.SQL - insert into CUSTOMER (birthDate,creationDate,email,firstname,lastname,photo,status,version,ID) values (?,?,?,?,?,?,?,?,?)\n"
     ]
    },
    {
     "name": "stdout",
     "output_type": "stream",
     "text": [
      "13:19:55.750 DEBUG org.hibernate.SQL - select count(*)>0 from CUSTOMER c1_0 where c1_0.email=?\n"
     ]
    },
    {
     "name": "stdout",
     "output_type": "stream",
     "text": [
      "13:19:55.750 DEBUG org.hibernate.SQL - insert into CUSTOMER (birthDate,creationDate,email,firstname,lastname,photo,status,version,ID) values (?,?,?,?,?,?,?,?,?)\n"
     ]
    },
    {
     "name": "stdout",
     "output_type": "stream",
     "text": [
      "13:19:55.750 DEBUG org.hibernate.SQL - select count(*)>0 from CUSTOMER c1_0 where c1_0.email=?\n"
     ]
    },
    {
     "name": "stdout",
     "output_type": "stream",
     "text": [
      "13:19:55.751 DEBUG org.hibernate.SQL - insert into CUSTOMER (birthDate,creationDate,email,firstname,lastname,photo,status,version,ID) values (?,?,?,?,?,?,?,?,?)\n"
     ]
    },
    {
     "name": "stdout",
     "output_type": "stream",
     "text": [
      "13:19:55.751 DEBUG org.hibernate.SQL - select count(*)>0 from CUSTOMER c1_0 where c1_0.email=?\n"
     ]
    },
    {
     "name": "stdout",
     "output_type": "stream",
     "text": [
      "13:19:55.751 DEBUG org.hibernate.SQL - insert into CUSTOMER (birthDate,creationDate,email,firstname,lastname,photo,status,version,ID) values (?,?,?,?,?,?,?,?,?)\n"
     ]
    },
    {
     "name": "stdout",
     "output_type": "stream",
     "text": [
      "13:19:55.752 DEBUG org.hibernate.SQL - select count(*)>0 from CUSTOMER c1_0 where c1_0.email=?\n"
     ]
    },
    {
     "name": "stdout",
     "output_type": "stream",
     "text": [
      "13:19:55.752 DEBUG org.hibernate.SQL - insert into CUSTOMER (birthDate,creationDate,email,firstname,lastname,photo,status,version,ID) values (?,?,?,?,?,?,?,?,?)\n"
     ]
    },
    {
     "name": "stdout",
     "output_type": "stream",
     "text": [
      "13:19:55.752 DEBUG org.hibernate.SQL - select count(*)>0 from CUSTOMER c1_0 where c1_0.email=?\n"
     ]
    },
    {
     "name": "stdout",
     "output_type": "stream",
     "text": [
      "13:19:55.753 DEBUG org.hibernate.SQL - insert into CUSTOMER (birthDate,creationDate,email,firstname,lastname,photo,status,version,ID) values (?,?,?,?,?,?,?,?,?)\n"
     ]
    },
    {
     "name": "stdout",
     "output_type": "stream",
     "text": [
      "13:19:55.753 DEBUG org.hibernate.SQL - select count(*)>0 from CUSTOMER c1_0 where c1_0.email=?\n"
     ]
    },
    {
     "name": "stdout",
     "output_type": "stream",
     "text": [
      "13:19:55.753 DEBUG org.hibernate.SQL - insert into CUSTOMER (birthDate,creationDate,email,firstname,lastname,photo,status,version,ID) values (?,?,?,?,?,?,?,?,?)\n"
     ]
    },
    {
     "name": "stdout",
     "output_type": "stream",
     "text": [
      "13:19:55.753 DEBUG org.hibernate.SQL - select count(*)>0 from CUSTOMER c1_0 where c1_0.email=?\n"
     ]
    },
    {
     "name": "stdout",
     "output_type": "stream",
     "text": [
      "13:19:55.754 DEBUG org.hibernate.SQL - insert into CUSTOMER (birthDate,creationDate,email,firstname,lastname,photo,status,version,ID) values (?,?,?,?,?,?,?,?,?)\n"
     ]
    },
    {
     "name": "stdout",
     "output_type": "stream",
     "text": [
      "13:19:55.754 DEBUG org.hibernate.SQL - select count(*)>0 from CUSTOMER c1_0 where c1_0.email=?\n"
     ]
    },
    {
     "name": "stdout",
     "output_type": "stream",
     "text": [
      "13:19:55.754 DEBUG org.hibernate.SQL - insert into CUSTOMER (birthDate,creationDate,email,firstname,lastname,photo,status,version,ID) values (?,?,?,?,?,?,?,?,?)\n"
     ]
    },
    {
     "name": "stdout",
     "output_type": "stream",
     "text": [
      "13:19:55.755 DEBUG org.hibernate.SQL - select count(*)>0 from CUSTOMER c1_0 where c1_0.email=?\n"
     ]
    },
    {
     "name": "stdout",
     "output_type": "stream",
     "text": [
      "13:19:55.755 DEBUG org.hibernate.SQL - insert into CUSTOMER (birthDate,creationDate,email,firstname,lastname,photo,status,version,ID) values (?,?,?,?,?,?,?,?,?)\n"
     ]
    },
    {
     "name": "stdout",
     "output_type": "stream",
     "text": [
      "13:19:55.755 DEBUG org.hibernate.SQL - select count(*)>0 from CUSTOMER c1_0 where c1_0.email=?\n"
     ]
    },
    {
     "name": "stdout",
     "output_type": "stream",
     "text": [
      "13:19:55.756 DEBUG org.hibernate.SQL - insert into CUSTOMER (birthDate,creationDate,email,firstname,lastname,photo,status,version,ID) values (?,?,?,?,?,?,?,?,?)\n"
     ]
    },
    {
     "name": "stdout",
     "output_type": "stream",
     "text": [
      "13:19:55.756 DEBUG org.hibernate.SQL - select count(*)>0 from CUSTOMER c1_0 where c1_0.email=?\n"
     ]
    },
    {
     "name": "stdout",
     "output_type": "stream",
     "text": [
      "13:19:55.756 DEBUG org.hibernate.SQL - insert into CUSTOMER (birthDate,creationDate,email,firstname,lastname,photo,status,version,ID) values (?,?,?,?,?,?,?,?,?)\n"
     ]
    },
    {
     "name": "stdout",
     "output_type": "stream",
     "text": [
      "13:19:55.757 DEBUG org.hibernate.SQL - select count(*)>0 from CUSTOMER c1_0 where c1_0.email=?\n"
     ]
    },
    {
     "name": "stdout",
     "output_type": "stream",
     "text": [
      "13:19:55.757 DEBUG org.hibernate.SQL - insert into CUSTOMER (birthDate,creationDate,email,firstname,lastname,photo,status,version,ID) values (?,?,?,?,?,?,?,?,?)\n"
     ]
    },
    {
     "name": "stdout",
     "output_type": "stream",
     "text": [
      "13:19:55.757 DEBUG org.hibernate.SQL - select count(*)>0 from CUSTOMER c1_0 where c1_0.email=?\n"
     ]
    },
    {
     "name": "stdout",
     "output_type": "stream",
     "text": [
      "13:19:55.758 DEBUG org.hibernate.SQL - insert into CUSTOMER (birthDate,creationDate,email,firstname,lastname,photo,status,version,ID) values (?,?,?,?,?,?,?,?,?)\n"
     ]
    },
    {
     "name": "stdout",
     "output_type": "stream",
     "text": [
      "13:19:55.758 DEBUG org.hibernate.SQL - select count(*)>0 from CUSTOMER c1_0 where c1_0.email=?\n"
     ]
    },
    {
     "name": "stdout",
     "output_type": "stream",
     "text": [
      "13:19:55.759 DEBUG org.hibernate.SQL - insert into CUSTOMER (birthDate,creationDate,email,firstname,lastname,photo,status,version,ID) values (?,?,?,?,?,?,?,?,?)\n"
     ]
    },
    {
     "name": "stdout",
     "output_type": "stream",
     "text": [
      "13:19:55.759 DEBUG org.hibernate.SQL - select count(*)>0 from CUSTOMER c1_0 where c1_0.email=?\n"
     ]
    },
    {
     "name": "stdout",
     "output_type": "stream",
     "text": [
      "13:19:55.760 DEBUG org.hibernate.SQL - insert into CUSTOMER (birthDate,creationDate,email,firstname,lastname,photo,status,version,ID) values (?,?,?,?,?,?,?,?,?)\n"
     ]
    },
    {
     "name": "stdout",
     "output_type": "stream",
     "text": [
      "13:19:55.760 DEBUG org.hibernate.SQL - select count(*)>0 from CUSTOMER c1_0 where c1_0.email=?\n"
     ]
    },
    {
     "name": "stdout",
     "output_type": "stream",
     "text": [
      "13:19:55.761 DEBUG org.hibernate.SQL - insert into CUSTOMER (birthDate,creationDate,email,firstname,lastname,photo,status,version,ID) values (?,?,?,?,?,?,?,?,?)\n"
     ]
    },
    {
     "name": "stdout",
     "output_type": "stream",
     "text": [
      "13:19:55.761 DEBUG org.hibernate.SQL - select count(*)>0 from CUSTOMER c1_0 where c1_0.email=?\n"
     ]
    },
    {
     "name": "stdout",
     "output_type": "stream",
     "text": [
      "13:19:55.761 DEBUG org.hibernate.SQL - select nextval('CUSTOMER_SEQ')\n"
     ]
    },
    {
     "name": "stdout",
     "output_type": "stream",
     "text": [
      "13:19:55.762 DEBUG org.hibernate.SQL - insert into CUSTOMER (birthDate,creationDate,email,firstname,lastname,photo,status,version,ID) values (?,?,?,?,?,?,?,?,?)\n"
     ]
    },
    {
     "name": "stdout",
     "output_type": "stream",
     "text": [
      "13:19:55.762 DEBUG org.hibernate.SQL - select count(*)>0 from CUSTOMER c1_0 where c1_0.email=?\n"
     ]
    },
    {
     "name": "stdout",
     "output_type": "stream",
     "text": [
      "13:19:55.762 DEBUG org.hibernate.SQL - insert into CUSTOMER (birthDate,creationDate,email,firstname,lastname,photo,status,version,ID) values (?,?,?,?,?,?,?,?,?)\n"
     ]
    },
    {
     "name": "stdout",
     "output_type": "stream",
     "text": [
      "13:19:55.763 DEBUG org.hibernate.SQL - select count(*)>0 from CUSTOMER c1_0 where c1_0.email=?\n"
     ]
    },
    {
     "name": "stdout",
     "output_type": "stream",
     "text": [
      "13:19:55.763 DEBUG org.hibernate.SQL - insert into CUSTOMER (birthDate,creationDate,email,firstname,lastname,photo,status,version,ID) values (?,?,?,?,?,?,?,?,?)\n"
     ]
    },
    {
     "name": "stdout",
     "output_type": "stream",
     "text": [
      "13:19:55.763 DEBUG org.hibernate.SQL - select count(*)>0 from CUSTOMER c1_0 where c1_0.email=?\n"
     ]
    },
    {
     "name": "stdout",
     "output_type": "stream",
     "text": [
      "13:19:55.764 DEBUG org.hibernate.SQL - insert into CUSTOMER (birthDate,creationDate,email,firstname,lastname,photo,status,version,ID) values (?,?,?,?,?,?,?,?,?)\n"
     ]
    },
    {
     "name": "stdout",
     "output_type": "stream",
     "text": [
      "13:19:55.764 DEBUG org.hibernate.SQL - select count(*)>0 from CUSTOMER c1_0 where c1_0.email=?\n"
     ]
    },
    {
     "name": "stdout",
     "output_type": "stream",
     "text": [
      "13:19:55.764 DEBUG org.hibernate.SQL - insert into CUSTOMER (birthDate,creationDate,email,firstname,lastname,photo,status,version,ID) values (?,?,?,?,?,?,?,?,?)\n"
     ]
    },
    {
     "name": "stdout",
     "output_type": "stream",
     "text": [
      "13:19:55.764 DEBUG org.hibernate.SQL - select count(*)>0 from CUSTOMER c1_0 where c1_0.email=?\n"
     ]
    },
    {
     "name": "stdout",
     "output_type": "stream",
     "text": [
      "13:19:55.765 DEBUG org.hibernate.SQL - insert into CUSTOMER (birthDate,creationDate,email,firstname,lastname,photo,status,version,ID) values (?,?,?,?,?,?,?,?,?)\n"
     ]
    },
    {
     "name": "stdout",
     "output_type": "stream",
     "text": [
      "13:19:55.765 DEBUG org.hibernate.SQL - select count(*)>0 from CUSTOMER c1_0 where c1_0.email=?\n"
     ]
    },
    {
     "name": "stdout",
     "output_type": "stream",
     "text": [
      "13:19:55.766 DEBUG org.hibernate.SQL - insert into CUSTOMER (birthDate,creationDate,email,firstname,lastname,photo,status,version,ID) values (?,?,?,?,?,?,?,?,?)\n"
     ]
    },
    {
     "name": "stdout",
     "output_type": "stream",
     "text": [
      "13:19:55.766 DEBUG org.hibernate.SQL - select count(*)>0 from CUSTOMER c1_0 where c1_0.email=?\n"
     ]
    },
    {
     "name": "stdout",
     "output_type": "stream",
     "text": [
      "13:19:55.766 DEBUG org.hibernate.SQL - insert into CUSTOMER (birthDate,creationDate,email,firstname,lastname,photo,status,version,ID) values (?,?,?,?,?,?,?,?,?)\n"
     ]
    },
    {
     "name": "stdout",
     "output_type": "stream",
     "text": [
      "13:19:55.766 DEBUG org.hibernate.SQL - select count(*)>0 from CUSTOMER c1_0 where c1_0.email=?\n"
     ]
    },
    {
     "name": "stdout",
     "output_type": "stream",
     "text": [
      "13:19:55.767 DEBUG org.hibernate.SQL - insert into CUSTOMER (birthDate,creationDate,email,firstname,lastname,photo,status,version,ID) values (?,?,?,?,?,?,?,?,?)\n"
     ]
    },
    {
     "name": "stdout",
     "output_type": "stream",
     "text": [
      "13:19:55.767 DEBUG org.hibernate.SQL - select count(*)>0 from CUSTOMER c1_0 where c1_0.email=?\n"
     ]
    },
    {
     "name": "stdout",
     "output_type": "stream",
     "text": [
      "13:19:55.768 DEBUG org.hibernate.SQL - insert into CUSTOMER (birthDate,creationDate,email,firstname,lastname,photo,status,version,ID) values (?,?,?,?,?,?,?,?,?)\n"
     ]
    },
    {
     "name": "stdout",
     "output_type": "stream",
     "text": [
      "13:19:55.768 DEBUG org.hibernate.SQL - select count(*)>0 from CUSTOMER c1_0 where c1_0.email=?\n"
     ]
    },
    {
     "name": "stdout",
     "output_type": "stream",
     "text": [
      "13:19:55.768 DEBUG org.hibernate.SQL - insert into CUSTOMER (birthDate,creationDate,email,firstname,lastname,photo,status,version,ID) values (?,?,?,?,?,?,?,?,?)\n"
     ]
    },
    {
     "name": "stdout",
     "output_type": "stream",
     "text": [
      "13:19:55.769 DEBUG org.hibernate.SQL - select count(*)>0 from CUSTOMER c1_0 where c1_0.email=?\n"
     ]
    },
    {
     "name": "stdout",
     "output_type": "stream",
     "text": [
      "13:19:55.769 DEBUG org.hibernate.SQL - insert into CUSTOMER (birthDate,creationDate,email,firstname,lastname,photo,status,version,ID) values (?,?,?,?,?,?,?,?,?)\n"
     ]
    },
    {
     "name": "stdout",
     "output_type": "stream",
     "text": [
      "13:19:55.769 DEBUG org.hibernate.SQL - select count(*)>0 from CUSTOMER c1_0 where c1_0.email=?\n"
     ]
    },
    {
     "name": "stdout",
     "output_type": "stream",
     "text": [
      "13:19:55.770 DEBUG org.hibernate.SQL - insert into CUSTOMER (birthDate,creationDate,email,firstname,lastname,photo,status,version,ID) values (?,?,?,?,?,?,?,?,?)\n"
     ]
    },
    {
     "name": "stdout",
     "output_type": "stream",
     "text": [
      "13:19:55.770 DEBUG org.hibernate.SQL - select count(*)>0 from CUSTOMER c1_0 where c1_0.email=?\n"
     ]
    },
    {
     "name": "stdout",
     "output_type": "stream",
     "text": [
      "13:19:55.770 DEBUG org.hibernate.SQL - insert into CUSTOMER (birthDate,creationDate,email,firstname,lastname,photo,status,version,ID) values (?,?,?,?,?,?,?,?,?)\n"
     ]
    },
    {
     "name": "stdout",
     "output_type": "stream",
     "text": [
      "13:19:55.770 DEBUG org.hibernate.SQL - select count(*)>0 from CUSTOMER c1_0 where c1_0.email=?\n"
     ]
    },
    {
     "name": "stdout",
     "output_type": "stream",
     "text": [
      "13:19:55.771 DEBUG org.hibernate.SQL - insert into CUSTOMER (birthDate,creationDate,email,firstname,lastname,photo,status,version,ID) values (?,?,?,?,?,?,?,?,?)\n"
     ]
    },
    {
     "name": "stdout",
     "output_type": "stream",
     "text": [
      "13:19:55.771 DEBUG org.hibernate.SQL - select count(*)>0 from CUSTOMER c1_0 where c1_0.email=?\n"
     ]
    },
    {
     "name": "stdout",
     "output_type": "stream",
     "text": [
      "13:19:55.771 DEBUG org.hibernate.SQL - insert into CUSTOMER (birthDate,creationDate,email,firstname,lastname,photo,status,version,ID) values (?,?,?,?,?,?,?,?,?)\n"
     ]
    },
    {
     "name": "stdout",
     "output_type": "stream",
     "text": [
      "13:19:55.772 DEBUG org.hibernate.SQL - select count(*)>0 from CUSTOMER c1_0 where c1_0.email=?\n"
     ]
    },
    {
     "name": "stdout",
     "output_type": "stream",
     "text": [
      "13:19:55.772 DEBUG org.hibernate.SQL - insert into CUSTOMER (birthDate,creationDate,email,firstname,lastname,photo,status,version,ID) values (?,?,?,?,?,?,?,?,?)\n"
     ]
    },
    {
     "name": "stdout",
     "output_type": "stream",
     "text": [
      "13:19:55.772 DEBUG org.hibernate.SQL - select count(*)>0 from CUSTOMER c1_0 where c1_0.email=?\n"
     ]
    },
    {
     "name": "stdout",
     "output_type": "stream",
     "text": [
      "13:19:55.773 DEBUG org.hibernate.SQL - insert into CUSTOMER (birthDate,creationDate,email,firstname,lastname,photo,status,version,ID) values (?,?,?,?,?,?,?,?,?)\n"
     ]
    },
    {
     "name": "stdout",
     "output_type": "stream",
     "text": [
      "13:19:55.773 DEBUG org.hibernate.SQL - select count(*)>0 from CUSTOMER c1_0 where c1_0.email=?\n"
     ]
    },
    {
     "name": "stdout",
     "output_type": "stream",
     "text": [
      "13:19:55.773 DEBUG org.hibernate.SQL - insert into CUSTOMER (birthDate,creationDate,email,firstname,lastname,photo,status,version,ID) values (?,?,?,?,?,?,?,?,?)\n"
     ]
    },
    {
     "name": "stdout",
     "output_type": "stream",
     "text": [
      "13:19:55.774 DEBUG org.hibernate.SQL - select count(*)>0 from CUSTOMER c1_0 where c1_0.email=?\n"
     ]
    },
    {
     "name": "stdout",
     "output_type": "stream",
     "text": [
      "13:19:55.774 DEBUG org.hibernate.SQL - insert into CUSTOMER (birthDate,creationDate,email,firstname,lastname,photo,status,version,ID) values (?,?,?,?,?,?,?,?,?)\n"
     ]
    },
    {
     "name": "stdout",
     "output_type": "stream",
     "text": [
      "13:19:55.774 DEBUG org.hibernate.SQL - select count(*)>0 from CUSTOMER c1_0 where c1_0.email=?\n"
     ]
    },
    {
     "name": "stdout",
     "output_type": "stream",
     "text": [
      "13:19:55.782 DEBUG org.hibernate.SQL - insert into CUSTOMER (birthDate,creationDate,email,firstname,lastname,photo,status,version,ID) values (?,?,?,?,?,?,?,?,?)\n"
     ]
    },
    {
     "name": "stdout",
     "output_type": "stream",
     "text": [
      "13:19:55.782 DEBUG org.hibernate.SQL - select count(*)>0 from CUSTOMER c1_0 where c1_0.email=?\n"
     ]
    },
    {
     "name": "stdout",
     "output_type": "stream",
     "text": [
      "13:19:55.783 DEBUG org.hibernate.SQL - insert into CUSTOMER (birthDate,creationDate,email,firstname,lastname,photo,status,version,ID) values (?,?,?,?,?,?,?,?,?)\n"
     ]
    },
    {
     "name": "stdout",
     "output_type": "stream",
     "text": [
      "13:19:55.783 DEBUG org.hibernate.SQL - select count(*)>0 from CUSTOMER c1_0 where c1_0.email=?\n"
     ]
    },
    {
     "name": "stdout",
     "output_type": "stream",
     "text": [
      "13:19:55.784 DEBUG org.hibernate.SQL - insert into CUSTOMER (birthDate,creationDate,email,firstname,lastname,photo,status,version,ID) values (?,?,?,?,?,?,?,?,?)\n"
     ]
    },
    {
     "name": "stdout",
     "output_type": "stream",
     "text": [
      "13:19:55.784 DEBUG org.hibernate.SQL - select count(*)>0 from CUSTOMER c1_0 where c1_0.email=?\n"
     ]
    },
    {
     "name": "stdout",
     "output_type": "stream",
     "text": [
      "13:19:55.784 DEBUG org.hibernate.SQL - insert into CUSTOMER (birthDate,creationDate,email,firstname,lastname,photo,status,version,ID) values (?,?,?,?,?,?,?,?,?)\n"
     ]
    },
    {
     "name": "stdout",
     "output_type": "stream",
     "text": [
      "13:19:55.784 DEBUG org.hibernate.SQL - select count(*)>0 from CUSTOMER c1_0 where c1_0.email=?\n"
     ]
    },
    {
     "name": "stdout",
     "output_type": "stream",
     "text": [
      "13:19:55.785 DEBUG org.hibernate.SQL - insert into CUSTOMER (birthDate,creationDate,email,firstname,lastname,photo,status,version,ID) values (?,?,?,?,?,?,?,?,?)\n"
     ]
    },
    {
     "name": "stdout",
     "output_type": "stream",
     "text": [
      "13:19:55.785 DEBUG org.hibernate.SQL - select count(*)>0 from CUSTOMER c1_0 where c1_0.email=?\n"
     ]
    },
    {
     "name": "stdout",
     "output_type": "stream",
     "text": [
      "13:19:55.785 DEBUG org.hibernate.SQL - insert into CUSTOMER (birthDate,creationDate,email,firstname,lastname,photo,status,version,ID) values (?,?,?,?,?,?,?,?,?)\n"
     ]
    },
    {
     "name": "stdout",
     "output_type": "stream",
     "text": [
      "13:19:55.785 DEBUG org.hibernate.SQL - select count(*)>0 from CUSTOMER c1_0 where c1_0.email=?\n"
     ]
    },
    {
     "name": "stdout",
     "output_type": "stream",
     "text": [
      "13:19:55.786 DEBUG org.hibernate.SQL - insert into CUSTOMER (birthDate,creationDate,email,firstname,lastname,photo,status,version,ID) values (?,?,?,?,?,?,?,?,?)\n"
     ]
    },
    {
     "name": "stdout",
     "output_type": "stream",
     "text": [
      "13:19:55.786 DEBUG org.hibernate.SQL - select count(*)>0 from CUSTOMER c1_0 where c1_0.email=?\n"
     ]
    },
    {
     "name": "stdout",
     "output_type": "stream",
     "text": [
      "13:19:55.787 DEBUG org.hibernate.SQL - insert into CUSTOMER (birthDate,creationDate,email,firstname,lastname,photo,status,version,ID) values (?,?,?,?,?,?,?,?,?)\n"
     ]
    },
    {
     "name": "stdout",
     "output_type": "stream",
     "text": [
      "13:19:55.787 DEBUG org.hibernate.SQL - select count(*)>0 from CUSTOMER c1_0 where c1_0.email=?\n"
     ]
    },
    {
     "name": "stdout",
     "output_type": "stream",
     "text": [
      "13:19:55.788 DEBUG org.hibernate.SQL - insert into CUSTOMER (birthDate,creationDate,email,firstname,lastname,photo,status,version,ID) values (?,?,?,?,?,?,?,?,?)\n"
     ]
    },
    {
     "name": "stdout",
     "output_type": "stream",
     "text": [
      "13:19:55.788 DEBUG org.hibernate.SQL - select count(*)>0 from CUSTOMER c1_0 where c1_0.email=?\n"
     ]
    },
    {
     "name": "stdout",
     "output_type": "stream",
     "text": [
      "13:19:55.788 DEBUG org.hibernate.SQL - insert into CUSTOMER (birthDate,creationDate,email,firstname,lastname,photo,status,version,ID) values (?,?,?,?,?,?,?,?,?)\n"
     ]
    },
    {
     "name": "stdout",
     "output_type": "stream",
     "text": [
      "13:19:55.789 DEBUG org.hibernate.SQL - select count(*)>0 from CUSTOMER c1_0 where c1_0.email=?\n"
     ]
    },
    {
     "name": "stdout",
     "output_type": "stream",
     "text": [
      "13:19:55.789 DEBUG org.hibernate.SQL - insert into CUSTOMER (birthDate,creationDate,email,firstname,lastname,photo,status,version,ID) values (?,?,?,?,?,?,?,?,?)\n"
     ]
    },
    {
     "name": "stdout",
     "output_type": "stream",
     "text": [
      "13:19:55.789 DEBUG org.hibernate.SQL - select count(*)>0 from CUSTOMER c1_0 where c1_0.email=?\n"
     ]
    },
    {
     "name": "stdout",
     "output_type": "stream",
     "text": [
      "13:19:55.790 DEBUG org.hibernate.SQL - insert into CUSTOMER (birthDate,creationDate,email,firstname,lastname,photo,status,version,ID) values (?,?,?,?,?,?,?,?,?)\n"
     ]
    },
    {
     "name": "stdout",
     "output_type": "stream",
     "text": [
      "13:19:55.790 DEBUG org.hibernate.SQL - select count(*)>0 from CUSTOMER c1_0 where c1_0.email=?\n"
     ]
    },
    {
     "name": "stdout",
     "output_type": "stream",
     "text": [
      "13:19:55.790 DEBUG org.hibernate.SQL - insert into CUSTOMER (birthDate,creationDate,email,firstname,lastname,photo,status,version,ID) values (?,?,?,?,?,?,?,?,?)\n"
     ]
    },
    {
     "name": "stdout",
     "output_type": "stream",
     "text": [
      "13:19:55.791 DEBUG org.hibernate.SQL - select count(*)>0 from CUSTOMER c1_0 where c1_0.email=?\n"
     ]
    },
    {
     "name": "stdout",
     "output_type": "stream",
     "text": [
      "13:19:55.791 DEBUG org.hibernate.SQL - insert into CUSTOMER (birthDate,creationDate,email,firstname,lastname,photo,status,version,ID) values (?,?,?,?,?,?,?,?,?)\n"
     ]
    },
    {
     "name": "stdout",
     "output_type": "stream",
     "text": [
      "13:19:55.791 DEBUG org.hibernate.SQL - select count(*)>0 from CUSTOMER c1_0 where c1_0.email=?\n"
     ]
    },
    {
     "name": "stdout",
     "output_type": "stream",
     "text": [
      "13:19:55.792 DEBUG org.hibernate.SQL - insert into CUSTOMER (birthDate,creationDate,email,firstname,lastname,photo,status,version,ID) values (?,?,?,?,?,?,?,?,?)\n"
     ]
    },
    {
     "name": "stdout",
     "output_type": "stream",
     "text": [
      "13:19:55.792 DEBUG org.hibernate.SQL - select count(*)>0 from CUSTOMER c1_0 where c1_0.email=?\n"
     ]
    },
    {
     "name": "stdout",
     "output_type": "stream",
     "text": [
      "13:19:55.792 DEBUG org.hibernate.SQL - insert into CUSTOMER (birthDate,creationDate,email,firstname,lastname,photo,status,version,ID) values (?,?,?,?,?,?,?,?,?)\n"
     ]
    },
    {
     "name": "stdout",
     "output_type": "stream",
     "text": [
      "13:19:55.792 DEBUG org.hibernate.SQL - select count(*)>0 from CUSTOMER c1_0 where c1_0.email=?\n"
     ]
    },
    {
     "name": "stdout",
     "output_type": "stream",
     "text": [
      "13:19:55.793 DEBUG org.hibernate.SQL - insert into CUSTOMER (birthDate,creationDate,email,firstname,lastname,photo,status,version,ID) values (?,?,?,?,?,?,?,?,?)\n"
     ]
    },
    {
     "name": "stdout",
     "output_type": "stream",
     "text": [
      "13:19:55.793 DEBUG org.hibernate.SQL - select count(*)>0 from CUSTOMER c1_0 where c1_0.email=?\n"
     ]
    },
    {
     "name": "stdout",
     "output_type": "stream",
     "text": [
      "13:19:55.793 DEBUG org.hibernate.SQL - insert into CUSTOMER (birthDate,creationDate,email,firstname,lastname,photo,status,version,ID) values (?,?,?,?,?,?,?,?,?)\n"
     ]
    },
    {
     "name": "stdout",
     "output_type": "stream",
     "text": [
      "13:19:55.794 DEBUG org.hibernate.SQL - select count(*)>0 from CUSTOMER c1_0 where c1_0.email=?\n"
     ]
    },
    {
     "name": "stdout",
     "output_type": "stream",
     "text": [
      "13:19:55.794 DEBUG org.hibernate.SQL - insert into CUSTOMER (birthDate,creationDate,email,firstname,lastname,photo,status,version,ID) values (?,?,?,?,?,?,?,?,?)\n"
     ]
    },
    {
     "name": "stdout",
     "output_type": "stream",
     "text": [
      "13:19:55.794 DEBUG org.hibernate.SQL - select count(*)>0 from CUSTOMER c1_0 where c1_0.email=?\n"
     ]
    },
    {
     "name": "stdout",
     "output_type": "stream",
     "text": [
      "13:19:55.795 DEBUG org.hibernate.SQL - insert into CUSTOMER (birthDate,creationDate,email,firstname,lastname,photo,status,version,ID) values (?,?,?,?,?,?,?,?,?)\n"
     ]
    },
    {
     "name": "stdout",
     "output_type": "stream",
     "text": [
      "13:19:55.795 DEBUG org.hibernate.SQL - select count(*)>0 from CUSTOMER c1_0 where c1_0.email=?\n"
     ]
    },
    {
     "name": "stdout",
     "output_type": "stream",
     "text": [
      "13:19:55.796 DEBUG org.hibernate.SQL - insert into CUSTOMER (birthDate,creationDate,email,firstname,lastname,photo,status,version,ID) values (?,?,?,?,?,?,?,?,?)\n"
     ]
    },
    {
     "name": "stdout",
     "output_type": "stream",
     "text": [
      "13:19:55.796 DEBUG org.hibernate.SQL - select count(*)>0 from CUSTOMER c1_0 where c1_0.email=?\n"
     ]
    },
    {
     "name": "stdout",
     "output_type": "stream",
     "text": [
      "13:19:55.796 DEBUG org.hibernate.SQL - insert into CUSTOMER (birthDate,creationDate,email,firstname,lastname,photo,status,version,ID) values (?,?,?,?,?,?,?,?,?)\n"
     ]
    },
    {
     "name": "stdout",
     "output_type": "stream",
     "text": [
      "13:19:55.796 DEBUG org.hibernate.SQL - select count(*)>0 from CUSTOMER c1_0 where c1_0.email=?\n"
     ]
    },
    {
     "name": "stdout",
     "output_type": "stream",
     "text": [
      "13:19:55.797 DEBUG org.hibernate.SQL - insert into CUSTOMER (birthDate,creationDate,email,firstname,lastname,photo,status,version,ID) values (?,?,?,?,?,?,?,?,?)\n"
     ]
    },
    {
     "name": "stdout",
     "output_type": "stream",
     "text": [
      "13:19:55.797 DEBUG org.hibernate.SQL - select count(*)>0 from CUSTOMER c1_0 where c1_0.email=?\n"
     ]
    },
    {
     "name": "stdout",
     "output_type": "stream",
     "text": [
      "13:19:55.797 DEBUG org.hibernate.SQL - insert into CUSTOMER (birthDate,creationDate,email,firstname,lastname,photo,status,version,ID) values (?,?,?,?,?,?,?,?,?)\n"
     ]
    },
    {
     "name": "stdout",
     "output_type": "stream",
     "text": [
      "13:19:55.797 DEBUG org.hibernate.SQL - select count(*)>0 from CUSTOMER c1_0 where c1_0.email=?\n"
     ]
    },
    {
     "name": "stdout",
     "output_type": "stream",
     "text": [
      "13:19:55.798 DEBUG org.hibernate.SQL - insert into CUSTOMER (birthDate,creationDate,email,firstname,lastname,photo,status,version,ID) values (?,?,?,?,?,?,?,?,?)\n"
     ]
    },
    {
     "name": "stdout",
     "output_type": "stream",
     "text": [
      "13:19:55.798 DEBUG org.hibernate.SQL - select count(*)>0 from CUSTOMER c1_0 where c1_0.email=?\n"
     ]
    },
    {
     "name": "stdout",
     "output_type": "stream",
     "text": [
      "13:19:55.798 DEBUG org.hibernate.SQL - insert into CUSTOMER (birthDate,creationDate,email,firstname,lastname,photo,status,version,ID) values (?,?,?,?,?,?,?,?,?)\n"
     ]
    },
    {
     "name": "stdout",
     "output_type": "stream",
     "text": [
      "13:19:55.799 DEBUG org.hibernate.SQL - select count(*)>0 from CUSTOMER c1_0 where c1_0.email=?\n"
     ]
    },
    {
     "name": "stdout",
     "output_type": "stream",
     "text": [
      "13:19:55.799 DEBUG org.hibernate.SQL - insert into CUSTOMER (birthDate,creationDate,email,firstname,lastname,photo,status,version,ID) values (?,?,?,?,?,?,?,?,?)\n"
     ]
    },
    {
     "name": "stdout",
     "output_type": "stream",
     "text": [
      "13:19:55.799 DEBUG org.hibernate.SQL - select count(*)>0 from CUSTOMER c1_0 where c1_0.email=?\n"
     ]
    },
    {
     "name": "stdout",
     "output_type": "stream",
     "text": [
      "13:19:55.800 DEBUG org.hibernate.SQL - insert into CUSTOMER (birthDate,creationDate,email,firstname,lastname,photo,status,version,ID) values (?,?,?,?,?,?,?,?,?)\n"
     ]
    },
    {
     "name": "stdout",
     "output_type": "stream",
     "text": [
      "13:19:55.800 DEBUG org.hibernate.SQL - select count(*)>0 from CUSTOMER c1_0 where c1_0.email=?\n"
     ]
    },
    {
     "name": "stdout",
     "output_type": "stream",
     "text": [
      "13:19:55.800 DEBUG org.hibernate.SQL - insert into CUSTOMER (birthDate,creationDate,email,firstname,lastname,photo,status,version,ID) values (?,?,?,?,?,?,?,?,?)\n"
     ]
    },
    {
     "name": "stdout",
     "output_type": "stream",
     "text": [
      "13:19:55.800 DEBUG org.hibernate.SQL - select count(*)>0 from CUSTOMER c1_0 where c1_0.email=?\n"
     ]
    },
    {
     "name": "stdout",
     "output_type": "stream",
     "text": [
      "13:19:55.801 DEBUG org.hibernate.SQL - insert into CUSTOMER (birthDate,creationDate,email,firstname,lastname,photo,status,version,ID) values (?,?,?,?,?,?,?,?,?)\n"
     ]
    },
    {
     "name": "stdout",
     "output_type": "stream",
     "text": [
      "13:19:55.801 DEBUG org.hibernate.SQL - select count(*)>0 from CUSTOMER c1_0 where c1_0.email=?\n"
     ]
    },
    {
     "name": "stdout",
     "output_type": "stream",
     "text": [
      "13:19:55.801 DEBUG org.hibernate.SQL - select nextval('CUSTOMER_SEQ')\n"
     ]
    },
    {
     "name": "stdout",
     "output_type": "stream",
     "text": [
      "13:19:55.801 DEBUG org.hibernate.SQL - insert into CUSTOMER (birthDate,creationDate,email,firstname,lastname,photo,status,version,ID) values (?,?,?,?,?,?,?,?,?)\n"
     ]
    },
    {
     "name": "stdout",
     "output_type": "stream",
     "text": [
      "13:19:55.801 DEBUG org.hibernate.SQL - select count(*)>0 from CUSTOMER c1_0 where c1_0.email=?\n"
     ]
    },
    {
     "name": "stdout",
     "output_type": "stream",
     "text": [
      "13:19:55.802 DEBUG org.hibernate.SQL - insert into CUSTOMER (birthDate,creationDate,email,firstname,lastname,photo,status,version,ID) values (?,?,?,?,?,?,?,?,?)\n"
     ]
    },
    {
     "name": "stdout",
     "output_type": "stream",
     "text": [
      "13:19:55.802 DEBUG org.hibernate.SQL - select count(*)>0 from CUSTOMER c1_0 where c1_0.email=?\n"
     ]
    },
    {
     "name": "stdout",
     "output_type": "stream",
     "text": [
      "13:19:55.802 DEBUG org.hibernate.SQL - insert into CUSTOMER (birthDate,creationDate,email,firstname,lastname,photo,status,version,ID) values (?,?,?,?,?,?,?,?,?)\n"
     ]
    },
    {
     "name": "stdout",
     "output_type": "stream",
     "text": [
      "13:19:55.803 DEBUG org.hibernate.SQL - select count(*)>0 from CUSTOMER c1_0 where c1_0.email=?\n"
     ]
    },
    {
     "name": "stdout",
     "output_type": "stream",
     "text": [
      "13:19:55.803 DEBUG org.hibernate.SQL - insert into CUSTOMER (birthDate,creationDate,email,firstname,lastname,photo,status,version,ID) values (?,?,?,?,?,?,?,?,?)\n"
     ]
    },
    {
     "name": "stdout",
     "output_type": "stream",
     "text": [
      "13:19:55.803 DEBUG org.hibernate.SQL - select count(*)>0 from CUSTOMER c1_0 where c1_0.email=?\n"
     ]
    },
    {
     "name": "stdout",
     "output_type": "stream",
     "text": [
      "13:19:55.804 DEBUG org.hibernate.SQL - insert into CUSTOMER (birthDate,creationDate,email,firstname,lastname,photo,status,version,ID) values (?,?,?,?,?,?,?,?,?)\n"
     ]
    },
    {
     "name": "stdout",
     "output_type": "stream",
     "text": [
      "13:19:55.804 DEBUG org.hibernate.SQL - select count(*)>0 from CUSTOMER c1_0 where c1_0.email=?\n"
     ]
    },
    {
     "name": "stdout",
     "output_type": "stream",
     "text": [
      "13:19:55.804 DEBUG org.hibernate.SQL - insert into CUSTOMER (birthDate,creationDate,email,firstname,lastname,photo,status,version,ID) values (?,?,?,?,?,?,?,?,?)\n"
     ]
    },
    {
     "name": "stdout",
     "output_type": "stream",
     "text": [
      "13:19:55.804 DEBUG org.hibernate.SQL - select count(*)>0 from CUSTOMER c1_0 where c1_0.email=?\n"
     ]
    },
    {
     "name": "stdout",
     "output_type": "stream",
     "text": [
      "13:19:55.805 DEBUG org.hibernate.SQL - insert into CUSTOMER (birthDate,creationDate,email,firstname,lastname,photo,status,version,ID) values (?,?,?,?,?,?,?,?,?)\n"
     ]
    },
    {
     "name": "stdout",
     "output_type": "stream",
     "text": [
      "13:19:55.805 DEBUG org.hibernate.SQL - select count(*)>0 from CUSTOMER c1_0 where c1_0.email=?\n"
     ]
    },
    {
     "name": "stdout",
     "output_type": "stream",
     "text": [
      "13:19:55.805 DEBUG org.hibernate.SQL - insert into CUSTOMER (birthDate,creationDate,email,firstname,lastname,photo,status,version,ID) values (?,?,?,?,?,?,?,?,?)\n"
     ]
    },
    {
     "name": "stdout",
     "output_type": "stream",
     "text": [
      "13:19:55.806 DEBUG org.hibernate.SQL - select count(*)>0 from CUSTOMER c1_0 where c1_0.email=?\n"
     ]
    },
    {
     "name": "stdout",
     "output_type": "stream",
     "text": [
      "13:19:55.806 DEBUG org.hibernate.SQL - insert into CUSTOMER (birthDate,creationDate,email,firstname,lastname,photo,status,version,ID) values (?,?,?,?,?,?,?,?,?)\n"
     ]
    },
    {
     "name": "stdout",
     "output_type": "stream",
     "text": [
      "13:19:55.806 DEBUG org.hibernate.SQL - select count(*)>0 from CUSTOMER c1_0 where c1_0.email=?\n"
     ]
    },
    {
     "name": "stdout",
     "output_type": "stream",
     "text": [
      "13:19:55.806 DEBUG org.hibernate.SQL - insert into CUSTOMER (birthDate,creationDate,email,firstname,lastname,photo,status,version,ID) values (?,?,?,?,?,?,?,?,?)\n"
     ]
    },
    {
     "name": "stdout",
     "output_type": "stream",
     "text": [
      "13:19:55.807 DEBUG org.hibernate.SQL - select count(*)>0 from CUSTOMER c1_0 where c1_0.email=?\n"
     ]
    },
    {
     "name": "stdout",
     "output_type": "stream",
     "text": [
      "13:19:55.807 DEBUG org.hibernate.SQL - insert into CUSTOMER (birthDate,creationDate,email,firstname,lastname,photo,status,version,ID) values (?,?,?,?,?,?,?,?,?)\n"
     ]
    },
    {
     "name": "stdout",
     "output_type": "stream",
     "text": [
      "13:19:55.807 DEBUG org.hibernate.SQL - select count(*)>0 from CUSTOMER c1_0 where c1_0.email=?\n"
     ]
    },
    {
     "name": "stdout",
     "output_type": "stream",
     "text": [
      "13:19:55.808 DEBUG org.hibernate.SQL - insert into CUSTOMER (birthDate,creationDate,email,firstname,lastname,photo,status,version,ID) values (?,?,?,?,?,?,?,?,?)\n"
     ]
    },
    {
     "name": "stdout",
     "output_type": "stream",
     "text": [
      "13:19:55.808 DEBUG org.hibernate.SQL - select count(*)>0 from CUSTOMER c1_0 where c1_0.email=?\n"
     ]
    },
    {
     "name": "stdout",
     "output_type": "stream",
     "text": [
      "13:19:55.808 DEBUG org.hibernate.SQL - insert into CUSTOMER (birthDate,creationDate,email,firstname,lastname,photo,status,version,ID) values (?,?,?,?,?,?,?,?,?)\n"
     ]
    },
    {
     "name": "stdout",
     "output_type": "stream",
     "text": [
      "13:19:55.808 DEBUG org.hibernate.SQL - select count(*)>0 from CUSTOMER c1_0 where c1_0.email=?\n"
     ]
    },
    {
     "name": "stdout",
     "output_type": "stream",
     "text": [
      "13:19:55.809 DEBUG org.hibernate.SQL - insert into CUSTOMER (birthDate,creationDate,email,firstname,lastname,photo,status,version,ID) values (?,?,?,?,?,?,?,?,?)\n"
     ]
    },
    {
     "name": "stdout",
     "output_type": "stream",
     "text": [
      "13:19:55.809 DEBUG org.hibernate.SQL - select count(*)>0 from CUSTOMER c1_0 where c1_0.email=?\n"
     ]
    },
    {
     "name": "stdout",
     "output_type": "stream",
     "text": [
      "13:19:55.810 DEBUG org.hibernate.SQL - insert into CUSTOMER (birthDate,creationDate,email,firstname,lastname,photo,status,version,ID) values (?,?,?,?,?,?,?,?,?)\n"
     ]
    },
    {
     "name": "stdout",
     "output_type": "stream",
     "text": [
      "13:19:55.810 DEBUG org.hibernate.SQL - select count(*)>0 from CUSTOMER c1_0 where c1_0.email=?\n"
     ]
    },
    {
     "name": "stdout",
     "output_type": "stream",
     "text": [
      "13:19:55.810 DEBUG org.hibernate.SQL - insert into CUSTOMER (birthDate,creationDate,email,firstname,lastname,photo,status,version,ID) values (?,?,?,?,?,?,?,?,?)\n"
     ]
    },
    {
     "name": "stdout",
     "output_type": "stream",
     "text": [
      "13:19:55.810 DEBUG org.hibernate.SQL - select count(*)>0 from CUSTOMER c1_0 where c1_0.email=?\n"
     ]
    },
    {
     "name": "stdout",
     "output_type": "stream",
     "text": [
      "13:19:55.811 DEBUG org.hibernate.SQL - insert into CUSTOMER (birthDate,creationDate,email,firstname,lastname,photo,status,version,ID) values (?,?,?,?,?,?,?,?,?)\n"
     ]
    },
    {
     "name": "stdout",
     "output_type": "stream",
     "text": [
      "13:19:55.811 DEBUG org.hibernate.SQL - select count(*)>0 from CUSTOMER c1_0 where c1_0.email=?\n"
     ]
    },
    {
     "name": "stdout",
     "output_type": "stream",
     "text": [
      "13:19:55.811 DEBUG org.hibernate.SQL - insert into CUSTOMER (birthDate,creationDate,email,firstname,lastname,photo,status,version,ID) values (?,?,?,?,?,?,?,?,?)\n"
     ]
    },
    {
     "name": "stdout",
     "output_type": "stream",
     "text": [
      "13:19:55.811 DEBUG org.hibernate.SQL - select count(*)>0 from CUSTOMER c1_0 where c1_0.email=?\n"
     ]
    },
    {
     "name": "stdout",
     "output_type": "stream",
     "text": [
      "13:19:55.812 DEBUG org.hibernate.SQL - insert into CUSTOMER (birthDate,creationDate,email,firstname,lastname,photo,status,version,ID) values (?,?,?,?,?,?,?,?,?)\n"
     ]
    },
    {
     "name": "stdout",
     "output_type": "stream",
     "text": [
      "13:19:55.812 DEBUG org.hibernate.SQL - select count(*)>0 from CUSTOMER c1_0 where c1_0.email=?\n"
     ]
    },
    {
     "name": "stdout",
     "output_type": "stream",
     "text": [
      "13:19:55.812 DEBUG org.hibernate.SQL - insert into CUSTOMER (birthDate,creationDate,email,firstname,lastname,photo,status,version,ID) values (?,?,?,?,?,?,?,?,?)\n"
     ]
    },
    {
     "name": "stdout",
     "output_type": "stream",
     "text": [
      "13:19:55.812 DEBUG org.hibernate.SQL - select count(*)>0 from CUSTOMER c1_0 where c1_0.email=?\n"
     ]
    },
    {
     "name": "stdout",
     "output_type": "stream",
     "text": [
      "13:19:55.813 DEBUG org.hibernate.SQL - insert into CUSTOMER (birthDate,creationDate,email,firstname,lastname,photo,status,version,ID) values (?,?,?,?,?,?,?,?,?)\n"
     ]
    },
    {
     "name": "stdout",
     "output_type": "stream",
     "text": [
      "13:19:55.813 DEBUG org.hibernate.SQL - select count(*)>0 from CUSTOMER c1_0 where c1_0.email=?\n"
     ]
    },
    {
     "name": "stdout",
     "output_type": "stream",
     "text": [
      "13:19:55.813 DEBUG org.hibernate.SQL - insert into CUSTOMER (birthDate,creationDate,email,firstname,lastname,photo,status,version,ID) values (?,?,?,?,?,?,?,?,?)\n"
     ]
    },
    {
     "name": "stdout",
     "output_type": "stream",
     "text": [
      "13:19:55.814 DEBUG org.hibernate.SQL - select count(*)>0 from CUSTOMER c1_0 where c1_0.email=?\n"
     ]
    },
    {
     "name": "stdout",
     "output_type": "stream",
     "text": [
      "13:19:55.814 DEBUG org.hibernate.SQL - insert into CUSTOMER (birthDate,creationDate,email,firstname,lastname,photo,status,version,ID) values (?,?,?,?,?,?,?,?,?)\n"
     ]
    },
    {
     "name": "stdout",
     "output_type": "stream",
     "text": [
      "13:19:55.814 DEBUG org.hibernate.SQL - select count(*)>0 from CUSTOMER c1_0 where c1_0.email=?\n"
     ]
    },
    {
     "name": "stdout",
     "output_type": "stream",
     "text": [
      "13:19:55.815 DEBUG org.hibernate.SQL - insert into CUSTOMER (birthDate,creationDate,email,firstname,lastname,photo,status,version,ID) values (?,?,?,?,?,?,?,?,?)\n"
     ]
    },
    {
     "name": "stdout",
     "output_type": "stream",
     "text": [
      "13:19:55.815 DEBUG org.hibernate.SQL - select count(*)>0 from CUSTOMER c1_0 where c1_0.email=?\n"
     ]
    },
    {
     "name": "stdout",
     "output_type": "stream",
     "text": [
      "13:19:55.815 DEBUG org.hibernate.SQL - insert into CUSTOMER (birthDate,creationDate,email,firstname,lastname,photo,status,version,ID) values (?,?,?,?,?,?,?,?,?)\n"
     ]
    },
    {
     "name": "stdout",
     "output_type": "stream",
     "text": [
      "13:19:55.815 DEBUG org.hibernate.SQL - select count(*)>0 from CUSTOMER c1_0 where c1_0.email=?\n"
     ]
    },
    {
     "name": "stdout",
     "output_type": "stream",
     "text": [
      "13:19:55.816 DEBUG org.hibernate.SQL - insert into CUSTOMER (birthDate,creationDate,email,firstname,lastname,photo,status,version,ID) values (?,?,?,?,?,?,?,?,?)\n"
     ]
    },
    {
     "name": "stdout",
     "output_type": "stream",
     "text": [
      "13:19:55.816 DEBUG org.hibernate.SQL - select count(*)>0 from CUSTOMER c1_0 where c1_0.email=?\n"
     ]
    },
    {
     "name": "stdout",
     "output_type": "stream",
     "text": [
      "13:19:55.816 DEBUG org.hibernate.SQL - insert into CUSTOMER (birthDate,creationDate,email,firstname,lastname,photo,status,version,ID) values (?,?,?,?,?,?,?,?,?)\n"
     ]
    },
    {
     "name": "stdout",
     "output_type": "stream",
     "text": [
      "13:19:55.817 DEBUG org.hibernate.SQL - select count(*)>0 from CUSTOMER c1_0 where c1_0.email=?\n"
     ]
    },
    {
     "name": "stdout",
     "output_type": "stream",
     "text": [
      "13:19:55.817 DEBUG org.hibernate.SQL - insert into CUSTOMER (birthDate,creationDate,email,firstname,lastname,photo,status,version,ID) values (?,?,?,?,?,?,?,?,?)\n"
     ]
    },
    {
     "name": "stdout",
     "output_type": "stream",
     "text": [
      "13:19:55.817 DEBUG org.hibernate.SQL - select count(*)>0 from CUSTOMER c1_0 where c1_0.email=?\n"
     ]
    },
    {
     "name": "stdout",
     "output_type": "stream",
     "text": [
      "13:19:55.818 DEBUG org.hibernate.SQL - insert into CUSTOMER (birthDate,creationDate,email,firstname,lastname,photo,status,version,ID) values (?,?,?,?,?,?,?,?,?)\n"
     ]
    },
    {
     "name": "stdout",
     "output_type": "stream",
     "text": [
      "13:19:55.818 DEBUG org.hibernate.SQL - select count(*)>0 from CUSTOMER c1_0 where c1_0.email=?\n"
     ]
    },
    {
     "name": "stdout",
     "output_type": "stream",
     "text": [
      "13:19:55.818 DEBUG org.hibernate.SQL - insert into CUSTOMER (birthDate,creationDate,email,firstname,lastname,photo,status,version,ID) values (?,?,?,?,?,?,?,?,?)\n"
     ]
    },
    {
     "name": "stdout",
     "output_type": "stream",
     "text": [
      "13:19:55.819 DEBUG org.hibernate.SQL - select count(*)>0 from CUSTOMER c1_0 where c1_0.email=?\n"
     ]
    },
    {
     "name": "stdout",
     "output_type": "stream",
     "text": [
      "13:19:55.819 DEBUG org.hibernate.SQL - insert into CUSTOMER (birthDate,creationDate,email,firstname,lastname,photo,status,version,ID) values (?,?,?,?,?,?,?,?,?)\n"
     ]
    },
    {
     "name": "stdout",
     "output_type": "stream",
     "text": [
      "13:19:55.819 DEBUG org.hibernate.SQL - select count(*)>0 from CUSTOMER c1_0 where c1_0.email=?\n"
     ]
    },
    {
     "name": "stdout",
     "output_type": "stream",
     "text": [
      "13:19:55.820 DEBUG org.hibernate.SQL - insert into CUSTOMER (birthDate,creationDate,email,firstname,lastname,photo,status,version,ID) values (?,?,?,?,?,?,?,?,?)\n"
     ]
    },
    {
     "name": "stdout",
     "output_type": "stream",
     "text": [
      "13:19:55.820 DEBUG org.hibernate.SQL - select count(*)>0 from CUSTOMER c1_0 where c1_0.email=?\n"
     ]
    },
    {
     "name": "stdout",
     "output_type": "stream",
     "text": [
      "13:19:55.820 DEBUG org.hibernate.SQL - insert into CUSTOMER (birthDate,creationDate,email,firstname,lastname,photo,status,version,ID) values (?,?,?,?,?,?,?,?,?)\n"
     ]
    },
    {
     "name": "stdout",
     "output_type": "stream",
     "text": [
      "13:19:55.820 DEBUG org.hibernate.SQL - select count(*)>0 from CUSTOMER c1_0 where c1_0.email=?\n"
     ]
    },
    {
     "name": "stdout",
     "output_type": "stream",
     "text": [
      "13:19:55.821 DEBUG org.hibernate.SQL - insert into CUSTOMER (birthDate,creationDate,email,firstname,lastname,photo,status,version,ID) values (?,?,?,?,?,?,?,?,?)\n"
     ]
    },
    {
     "name": "stdout",
     "output_type": "stream",
     "text": [
      "13:19:55.821 DEBUG org.hibernate.SQL - select count(*)>0 from CUSTOMER c1_0 where c1_0.email=?\n"
     ]
    },
    {
     "name": "stdout",
     "output_type": "stream",
     "text": [
      "13:19:55.821 DEBUG org.hibernate.SQL - insert into CUSTOMER (birthDate,creationDate,email,firstname,lastname,photo,status,version,ID) values (?,?,?,?,?,?,?,?,?)\n"
     ]
    },
    {
     "name": "stdout",
     "output_type": "stream",
     "text": [
      "13:19:55.822 DEBUG org.hibernate.SQL - select count(*)>0 from CUSTOMER c1_0 where c1_0.email=?\n"
     ]
    },
    {
     "name": "stdout",
     "output_type": "stream",
     "text": [
      "13:19:55.822 DEBUG org.hibernate.SQL - insert into CUSTOMER (birthDate,creationDate,email,firstname,lastname,photo,status,version,ID) values (?,?,?,?,?,?,?,?,?)\n"
     ]
    },
    {
     "name": "stdout",
     "output_type": "stream",
     "text": [
      "13:19:55.822 DEBUG org.hibernate.SQL - select count(*)>0 from CUSTOMER c1_0 where c1_0.email=?\n"
     ]
    },
    {
     "name": "stdout",
     "output_type": "stream",
     "text": [
      "13:19:55.823 DEBUG org.hibernate.SQL - insert into CUSTOMER (birthDate,creationDate,email,firstname,lastname,photo,status,version,ID) values (?,?,?,?,?,?,?,?,?)\n"
     ]
    },
    {
     "name": "stdout",
     "output_type": "stream",
     "text": [
      "13:19:55.823 DEBUG org.hibernate.SQL - select count(*)>0 from CUSTOMER c1_0 where c1_0.email=?\n"
     ]
    },
    {
     "name": "stdout",
     "output_type": "stream",
     "text": [
      "13:19:55.823 DEBUG org.hibernate.SQL - insert into CUSTOMER (birthDate,creationDate,email,firstname,lastname,photo,status,version,ID) values (?,?,?,?,?,?,?,?,?)\n"
     ]
    },
    {
     "name": "stdout",
     "output_type": "stream",
     "text": [
      "13:19:55.823 DEBUG org.hibernate.SQL - select count(*)>0 from CUSTOMER c1_0 where c1_0.email=?\n"
     ]
    },
    {
     "name": "stdout",
     "output_type": "stream",
     "text": [
      "13:19:55.824 DEBUG org.hibernate.SQL - insert into CUSTOMER (birthDate,creationDate,email,firstname,lastname,photo,status,version,ID) values (?,?,?,?,?,?,?,?,?)\n"
     ]
    },
    {
     "name": "stdout",
     "output_type": "stream",
     "text": [
      "13:19:55.824 DEBUG org.hibernate.SQL - select count(*)>0 from CUSTOMER c1_0 where c1_0.email=?\n"
     ]
    },
    {
     "name": "stdout",
     "output_type": "stream",
     "text": [
      "13:19:55.825 DEBUG org.hibernate.SQL - insert into CUSTOMER (birthDate,creationDate,email,firstname,lastname,photo,status,version,ID) values (?,?,?,?,?,?,?,?,?)\n"
     ]
    },
    {
     "name": "stdout",
     "output_type": "stream",
     "text": [
      "13:19:55.825 DEBUG org.hibernate.SQL - select count(*)>0 from CUSTOMER c1_0 where c1_0.email=?\n"
     ]
    },
    {
     "name": "stdout",
     "output_type": "stream",
     "text": [
      "13:19:55.826 DEBUG org.hibernate.SQL - insert into CUSTOMER (birthDate,creationDate,email,firstname,lastname,photo,status,version,ID) values (?,?,?,?,?,?,?,?,?)\n"
     ]
    },
    {
     "name": "stdout",
     "output_type": "stream",
     "text": [
      "13:19:55.826 DEBUG org.hibernate.SQL - select count(*)>0 from CUSTOMER c1_0 where c1_0.email=?\n"
     ]
    },
    {
     "name": "stdout",
     "output_type": "stream",
     "text": [
      "13:19:55.827 DEBUG org.hibernate.SQL - insert into CUSTOMER (birthDate,creationDate,email,firstname,lastname,photo,status,version,ID) values (?,?,?,?,?,?,?,?,?)\n"
     ]
    },
    {
     "name": "stdout",
     "output_type": "stream",
     "text": [
      "13:19:55.827 DEBUG org.hibernate.SQL - select count(*)>0 from CUSTOMER c1_0 where c1_0.email=?\n"
     ]
    },
    {
     "name": "stdout",
     "output_type": "stream",
     "text": [
      "13:19:55.828 DEBUG org.hibernate.SQL - insert into CUSTOMER (birthDate,creationDate,email,firstname,lastname,photo,status,version,ID) values (?,?,?,?,?,?,?,?,?)\n"
     ]
    },
    {
     "name": "stdout",
     "output_type": "stream",
     "text": [
      "13:19:55.829 DEBUG org.hibernate.SQL - select count(*)>0 from CUSTOMER c1_0 where c1_0.email=?\n"
     ]
    },
    {
     "name": "stdout",
     "output_type": "stream",
     "text": [
      "13:19:55.830 DEBUG org.hibernate.SQL - insert into CUSTOMER (birthDate,creationDate,email,firstname,lastname,photo,status,version,ID) values (?,?,?,?,?,?,?,?,?)\n"
     ]
    },
    {
     "name": "stdout",
     "output_type": "stream",
     "text": [
      "13:19:55.830 DEBUG org.hibernate.SQL - select count(*)>0 from CUSTOMER c1_0 where c1_0.email=?\n"
     ]
    },
    {
     "name": "stdout",
     "output_type": "stream",
     "text": [
      "13:19:55.831 DEBUG org.hibernate.SQL - insert into CUSTOMER (birthDate,creationDate,email,firstname,lastname,photo,status,version,ID) values (?,?,?,?,?,?,?,?,?)\n"
     ]
    },
    {
     "name": "stdout",
     "output_type": "stream",
     "text": [
      "13:19:55.831 DEBUG org.hibernate.SQL - select count(*)>0 from CUSTOMER c1_0 where c1_0.email=?\n"
     ]
    },
    {
     "name": "stdout",
     "output_type": "stream",
     "text": [
      "13:19:55.832 DEBUG org.hibernate.SQL - insert into CUSTOMER (birthDate,creationDate,email,firstname,lastname,photo,status,version,ID) values (?,?,?,?,?,?,?,?,?)\n"
     ]
    },
    {
     "name": "stdout",
     "output_type": "stream",
     "text": [
      "13:19:55.832 DEBUG org.hibernate.SQL - select count(*)>0 from CUSTOMER c1_0 where c1_0.email=?\n"
     ]
    },
    {
     "name": "stdout",
     "output_type": "stream",
     "text": [
      "13:19:55.832 DEBUG org.hibernate.SQL - insert into CUSTOMER (birthDate,creationDate,email,firstname,lastname,photo,status,version,ID) values (?,?,?,?,?,?,?,?,?)\n"
     ]
    },
    {
     "name": "stdout",
     "output_type": "stream",
     "text": [
      "13:19:55.833 DEBUG org.hibernate.SQL - select count(*)>0 from CUSTOMER c1_0 where c1_0.email=?\n"
     ]
    },
    {
     "name": "stdout",
     "output_type": "stream",
     "text": [
      "13:19:55.833 DEBUG org.hibernate.SQL - insert into CUSTOMER (birthDate,creationDate,email,firstname,lastname,photo,status,version,ID) values (?,?,?,?,?,?,?,?,?)\n"
     ]
    },
    {
     "name": "stdout",
     "output_type": "stream",
     "text": [
      "13:19:55.833 DEBUG org.hibernate.SQL - select count(*)>0 from CUSTOMER c1_0 where c1_0.email=?\n"
     ]
    },
    {
     "name": "stdout",
     "output_type": "stream",
     "text": [
      "13:19:55.834 DEBUG org.hibernate.SQL - insert into CUSTOMER (birthDate,creationDate,email,firstname,lastname,photo,status,version,ID) values (?,?,?,?,?,?,?,?,?)\n"
     ]
    },
    {
     "name": "stdout",
     "output_type": "stream",
     "text": [
      "13:19:55.834 DEBUG org.hibernate.SQL - select count(*)>0 from CUSTOMER c1_0 where c1_0.email=?\n"
     ]
    },
    {
     "name": "stdout",
     "output_type": "stream",
     "text": [
      "13:19:55.834 DEBUG org.hibernate.SQL - insert into CUSTOMER (birthDate,creationDate,email,firstname,lastname,photo,status,version,ID) values (?,?,?,?,?,?,?,?,?)\n"
     ]
    },
    {
     "name": "stdout",
     "output_type": "stream",
     "text": [
      "13:19:55.834 DEBUG org.hibernate.SQL - select count(*)>0 from CUSTOMER c1_0 where c1_0.email=?\n"
     ]
    },
    {
     "name": "stdout",
     "output_type": "stream",
     "text": [
      "13:19:55.835 DEBUG org.hibernate.SQL - select nextval('CUSTOMER_SEQ')\n"
     ]
    },
    {
     "name": "stdout",
     "output_type": "stream",
     "text": [
      "13:19:55.835 DEBUG org.hibernate.SQL - insert into CUSTOMER (birthDate,creationDate,email,firstname,lastname,photo,status,version,ID) values (?,?,?,?,?,?,?,?,?)\n"
     ]
    },
    {
     "name": "stdout",
     "output_type": "stream",
     "text": [
      "13:19:55.835 DEBUG org.hibernate.SQL - select count(*)>0 from CUSTOMER c1_0 where c1_0.email=?\n"
     ]
    },
    {
     "name": "stdout",
     "output_type": "stream",
     "text": [
      "13:19:55.836 DEBUG org.hibernate.SQL - insert into CUSTOMER (birthDate,creationDate,email,firstname,lastname,photo,status,version,ID) values (?,?,?,?,?,?,?,?,?)\n"
     ]
    },
    {
     "name": "stdout",
     "output_type": "stream",
     "text": [
      "13:19:55.836 DEBUG org.hibernate.SQL - select count(*)>0 from CUSTOMER c1_0 where c1_0.email=?\n"
     ]
    },
    {
     "name": "stdout",
     "output_type": "stream",
     "text": [
      "13:19:55.837 DEBUG org.hibernate.SQL - insert into CUSTOMER (birthDate,creationDate,email,firstname,lastname,photo,status,version,ID) values (?,?,?,?,?,?,?,?,?)\n"
     ]
    },
    {
     "name": "stdout",
     "output_type": "stream",
     "text": [
      "13:19:55.837 DEBUG org.hibernate.SQL - select count(*)>0 from CUSTOMER c1_0 where c1_0.email=?\n"
     ]
    },
    {
     "name": "stdout",
     "output_type": "stream",
     "text": [
      "13:19:55.837 DEBUG org.hibernate.SQL - insert into CUSTOMER (birthDate,creationDate,email,firstname,lastname,photo,status,version,ID) values (?,?,?,?,?,?,?,?,?)\n"
     ]
    },
    {
     "name": "stdout",
     "output_type": "stream",
     "text": [
      "13:19:55.838 DEBUG org.hibernate.SQL - select count(*)>0 from CUSTOMER c1_0 where c1_0.email=?\n"
     ]
    },
    {
     "name": "stdout",
     "output_type": "stream",
     "text": [
      "13:19:55.838 DEBUG org.hibernate.SQL - insert into CUSTOMER (birthDate,creationDate,email,firstname,lastname,photo,status,version,ID) values (?,?,?,?,?,?,?,?,?)\n"
     ]
    },
    {
     "name": "stdout",
     "output_type": "stream",
     "text": [
      "13:19:55.838 DEBUG org.hibernate.SQL - select count(*)>0 from CUSTOMER c1_0 where c1_0.email=?\n"
     ]
    },
    {
     "name": "stdout",
     "output_type": "stream",
     "text": [
      "13:19:55.839 DEBUG org.hibernate.SQL - insert into CUSTOMER (birthDate,creationDate,email,firstname,lastname,photo,status,version,ID) values (?,?,?,?,?,?,?,?,?)\n"
     ]
    },
    {
     "name": "stdout",
     "output_type": "stream",
     "text": [
      "13:19:55.839 DEBUG org.hibernate.SQL - select count(*)>0 from CUSTOMER c1_0 where c1_0.email=?\n"
     ]
    },
    {
     "name": "stdout",
     "output_type": "stream",
     "text": [
      "13:19:55.840 DEBUG org.hibernate.SQL - insert into CUSTOMER (birthDate,creationDate,email,firstname,lastname,photo,status,version,ID) values (?,?,?,?,?,?,?,?,?)\n"
     ]
    },
    {
     "name": "stdout",
     "output_type": "stream",
     "text": [
      "13:19:55.840 DEBUG org.hibernate.SQL - select count(*)>0 from CUSTOMER c1_0 where c1_0.email=?\n"
     ]
    },
    {
     "name": "stdout",
     "output_type": "stream",
     "text": [
      "13:19:55.841 DEBUG org.hibernate.SQL - insert into CUSTOMER (birthDate,creationDate,email,firstname,lastname,photo,status,version,ID) values (?,?,?,?,?,?,?,?,?)\n"
     ]
    },
    {
     "name": "stdout",
     "output_type": "stream",
     "text": [
      "13:19:55.841 DEBUG org.hibernate.SQL - select count(*)>0 from CUSTOMER c1_0 where c1_0.email=?\n"
     ]
    },
    {
     "name": "stdout",
     "output_type": "stream",
     "text": [
      "13:19:55.842 DEBUG org.hibernate.SQL - insert into CUSTOMER (birthDate,creationDate,email,firstname,lastname,photo,status,version,ID) values (?,?,?,?,?,?,?,?,?)\n"
     ]
    },
    {
     "name": "stdout",
     "output_type": "stream",
     "text": [
      "13:19:55.842 DEBUG org.hibernate.SQL - select count(*)>0 from CUSTOMER c1_0 where c1_0.email=?\n"
     ]
    },
    {
     "name": "stdout",
     "output_type": "stream",
     "text": [
      "13:19:55.843 DEBUG org.hibernate.SQL - insert into CUSTOMER (birthDate,creationDate,email,firstname,lastname,photo,status,version,ID) values (?,?,?,?,?,?,?,?,?)\n"
     ]
    },
    {
     "name": "stdout",
     "output_type": "stream",
     "text": [
      "13:19:55.843 DEBUG org.hibernate.SQL - select count(*)>0 from CUSTOMER c1_0 where c1_0.email=?\n"
     ]
    },
    {
     "name": "stdout",
     "output_type": "stream",
     "text": [
      "13:19:55.845 DEBUG org.hibernate.SQL - insert into CUSTOMER (birthDate,creationDate,email,firstname,lastname,photo,status,version,ID) values (?,?,?,?,?,?,?,?,?)\n"
     ]
    },
    {
     "name": "stdout",
     "output_type": "stream",
     "text": [
      "13:19:55.845 DEBUG org.hibernate.SQL - select count(*)>0 from CUSTOMER c1_0 where c1_0.email=?\n"
     ]
    },
    {
     "name": "stdout",
     "output_type": "stream",
     "text": [
      "13:19:55.846 DEBUG org.hibernate.SQL - insert into CUSTOMER (birthDate,creationDate,email,firstname,lastname,photo,status,version,ID) values (?,?,?,?,?,?,?,?,?)\n"
     ]
    },
    {
     "name": "stdout",
     "output_type": "stream",
     "text": [
      "13:19:55.848 DEBUG org.hibernate.SQL - select count(*)>0 from CUSTOMER c1_0 where c1_0.email=?\n"
     ]
    },
    {
     "name": "stdout",
     "output_type": "stream",
     "text": [
      "13:19:55.851 DEBUG org.hibernate.SQL - insert into CUSTOMER (birthDate,creationDate,email,firstname,lastname,photo,status,version,ID) values (?,?,?,?,?,?,?,?,?)\n"
     ]
    },
    {
     "name": "stdout",
     "output_type": "stream",
     "text": [
      "13:19:55.852 DEBUG org.hibernate.SQL - select count(*)>0 from CUSTOMER c1_0 where c1_0.email=?\n"
     ]
    },
    {
     "name": "stdout",
     "output_type": "stream",
     "text": [
      "13:19:55.853 DEBUG org.hibernate.SQL - insert into CUSTOMER (birthDate,creationDate,email,firstname,lastname,photo,status,version,ID) values (?,?,?,?,?,?,?,?,?)\n"
     ]
    },
    {
     "name": "stdout",
     "output_type": "stream",
     "text": [
      "13:19:55.853 DEBUG org.hibernate.SQL - select count(*)>0 from CUSTOMER c1_0 where c1_0.email=?\n"
     ]
    },
    {
     "name": "stdout",
     "output_type": "stream",
     "text": [
      "13:19:55.854 DEBUG org.hibernate.SQL - insert into CUSTOMER (birthDate,creationDate,email,firstname,lastname,photo,status,version,ID) values (?,?,?,?,?,?,?,?,?)\n"
     ]
    },
    {
     "name": "stdout",
     "output_type": "stream",
     "text": [
      "13:19:55.854 DEBUG org.hibernate.SQL - select count(*)>0 from CUSTOMER c1_0 where c1_0.email=?\n"
     ]
    },
    {
     "name": "stdout",
     "output_type": "stream",
     "text": [
      "13:19:55.854 DEBUG org.hibernate.SQL - insert into CUSTOMER (birthDate,creationDate,email,firstname,lastname,photo,status,version,ID) values (?,?,?,?,?,?,?,?,?)\n"
     ]
    },
    {
     "name": "stdout",
     "output_type": "stream",
     "text": [
      "13:19:55.855 DEBUG org.hibernate.SQL - select count(*)>0 from CUSTOMER c1_0 where c1_0.email=?\n"
     ]
    },
    {
     "name": "stdout",
     "output_type": "stream",
     "text": [
      "13:19:55.855 DEBUG org.hibernate.SQL - insert into CUSTOMER (birthDate,creationDate,email,firstname,lastname,photo,status,version,ID) values (?,?,?,?,?,?,?,?,?)\n"
     ]
    },
    {
     "name": "stdout",
     "output_type": "stream",
     "text": [
      "13:19:55.855 DEBUG org.hibernate.SQL - select count(*)>0 from CUSTOMER c1_0 where c1_0.email=?\n"
     ]
    },
    {
     "name": "stdout",
     "output_type": "stream",
     "text": [
      "13:19:55.856 DEBUG org.hibernate.SQL - insert into CUSTOMER (birthDate,creationDate,email,firstname,lastname,photo,status,version,ID) values (?,?,?,?,?,?,?,?,?)\n"
     ]
    },
    {
     "name": "stdout",
     "output_type": "stream",
     "text": [
      "13:19:55.856 DEBUG org.hibernate.SQL - select count(*)>0 from CUSTOMER c1_0 where c1_0.email=?\n"
     ]
    },
    {
     "name": "stdout",
     "output_type": "stream",
     "text": [
      "13:19:55.856 DEBUG org.hibernate.SQL - insert into CUSTOMER (birthDate,creationDate,email,firstname,lastname,photo,status,version,ID) values (?,?,?,?,?,?,?,?,?)\n"
     ]
    },
    {
     "name": "stdout",
     "output_type": "stream",
     "text": [
      "13:19:55.857 DEBUG org.hibernate.SQL - select count(*)>0 from CUSTOMER c1_0 where c1_0.email=?\n"
     ]
    },
    {
     "name": "stdout",
     "output_type": "stream",
     "text": [
      "13:19:55.857 DEBUG org.hibernate.SQL - insert into CUSTOMER (birthDate,creationDate,email,firstname,lastname,photo,status,version,ID) values (?,?,?,?,?,?,?,?,?)\n"
     ]
    },
    {
     "name": "stdout",
     "output_type": "stream",
     "text": [
      "13:19:55.857 DEBUG org.hibernate.SQL - select count(*)>0 from CUSTOMER c1_0 where c1_0.email=?\n"
     ]
    },
    {
     "name": "stdout",
     "output_type": "stream",
     "text": [
      "13:19:55.858 DEBUG org.hibernate.SQL - insert into CUSTOMER (birthDate,creationDate,email,firstname,lastname,photo,status,version,ID) values (?,?,?,?,?,?,?,?,?)\n"
     ]
    },
    {
     "name": "stdout",
     "output_type": "stream",
     "text": [
      "13:19:55.858 DEBUG org.hibernate.SQL - select count(*)>0 from CUSTOMER c1_0 where c1_0.email=?\n"
     ]
    },
    {
     "name": "stdout",
     "output_type": "stream",
     "text": [
      "13:19:55.858 DEBUG org.hibernate.SQL - insert into CUSTOMER (birthDate,creationDate,email,firstname,lastname,photo,status,version,ID) values (?,?,?,?,?,?,?,?,?)\n"
     ]
    },
    {
     "name": "stdout",
     "output_type": "stream",
     "text": [
      "13:19:55.859 DEBUG org.hibernate.SQL - select count(*)>0 from CUSTOMER c1_0 where c1_0.email=?\n"
     ]
    },
    {
     "name": "stdout",
     "output_type": "stream",
     "text": [
      "13:19:55.859 DEBUG org.hibernate.SQL - insert into CUSTOMER (birthDate,creationDate,email,firstname,lastname,photo,status,version,ID) values (?,?,?,?,?,?,?,?,?)\n"
     ]
    },
    {
     "name": "stdout",
     "output_type": "stream",
     "text": [
      "13:19:55.859 DEBUG org.hibernate.SQL - select count(*)>0 from CUSTOMER c1_0 where c1_0.email=?\n"
     ]
    },
    {
     "name": "stdout",
     "output_type": "stream",
     "text": [
      "13:19:55.860 DEBUG org.hibernate.SQL - insert into CUSTOMER (birthDate,creationDate,email,firstname,lastname,photo,status,version,ID) values (?,?,?,?,?,?,?,?,?)\n"
     ]
    },
    {
     "name": "stdout",
     "output_type": "stream",
     "text": [
      "13:19:55.860 DEBUG org.hibernate.SQL - select count(*)>0 from CUSTOMER c1_0 where c1_0.email=?\n"
     ]
    },
    {
     "name": "stdout",
     "output_type": "stream",
     "text": [
      "13:19:55.861 DEBUG org.hibernate.SQL - insert into CUSTOMER (birthDate,creationDate,email,firstname,lastname,photo,status,version,ID) values (?,?,?,?,?,?,?,?,?)\n"
     ]
    },
    {
     "name": "stdout",
     "output_type": "stream",
     "text": [
      "13:19:55.861 DEBUG org.hibernate.SQL - select count(*)>0 from CUSTOMER c1_0 where c1_0.email=?\n"
     ]
    },
    {
     "name": "stdout",
     "output_type": "stream",
     "text": [
      "13:19:55.861 DEBUG org.hibernate.SQL - insert into CUSTOMER (birthDate,creationDate,email,firstname,lastname,photo,status,version,ID) values (?,?,?,?,?,?,?,?,?)\n"
     ]
    },
    {
     "name": "stdout",
     "output_type": "stream",
     "text": [
      "13:19:55.861 DEBUG org.hibernate.SQL - select count(*)>0 from CUSTOMER c1_0 where c1_0.email=?\n"
     ]
    },
    {
     "name": "stdout",
     "output_type": "stream",
     "text": [
      "13:19:55.862 DEBUG org.hibernate.SQL - insert into CUSTOMER (birthDate,creationDate,email,firstname,lastname,photo,status,version,ID) values (?,?,?,?,?,?,?,?,?)\n"
     ]
    },
    {
     "name": "stdout",
     "output_type": "stream",
     "text": [
      "13:19:55.862 DEBUG org.hibernate.SQL - select count(*)>0 from CUSTOMER c1_0 where c1_0.email=?\n"
     ]
    },
    {
     "name": "stdout",
     "output_type": "stream",
     "text": [
      "13:19:55.863 DEBUG org.hibernate.SQL - insert into CUSTOMER (birthDate,creationDate,email,firstname,lastname,photo,status,version,ID) values (?,?,?,?,?,?,?,?,?)\n"
     ]
    },
    {
     "name": "stdout",
     "output_type": "stream",
     "text": [
      "13:19:55.863 DEBUG org.hibernate.SQL - select count(*)>0 from CUSTOMER c1_0 where c1_0.email=?\n"
     ]
    },
    {
     "name": "stdout",
     "output_type": "stream",
     "text": [
      "13:19:55.865 DEBUG org.hibernate.SQL - insert into CUSTOMER (birthDate,creationDate,email,firstname,lastname,photo,status,version,ID) values (?,?,?,?,?,?,?,?,?)\n"
     ]
    },
    {
     "name": "stdout",
     "output_type": "stream",
     "text": [
      "13:19:55.865 DEBUG org.hibernate.SQL - select count(*)>0 from CUSTOMER c1_0 where c1_0.email=?\n"
     ]
    },
    {
     "name": "stdout",
     "output_type": "stream",
     "text": [
      "13:19:55.866 DEBUG org.hibernate.SQL - insert into CUSTOMER (birthDate,creationDate,email,firstname,lastname,photo,status,version,ID) values (?,?,?,?,?,?,?,?,?)\n"
     ]
    },
    {
     "name": "stdout",
     "output_type": "stream",
     "text": [
      "13:19:55.867 DEBUG org.hibernate.SQL - select count(*)>0 from CUSTOMER c1_0 where c1_0.email=?\n"
     ]
    },
    {
     "name": "stdout",
     "output_type": "stream",
     "text": [
      "13:19:55.867 DEBUG org.hibernate.SQL - insert into CUSTOMER (birthDate,creationDate,email,firstname,lastname,photo,status,version,ID) values (?,?,?,?,?,?,?,?,?)\n"
     ]
    },
    {
     "name": "stdout",
     "output_type": "stream",
     "text": [
      "13:19:55.867 DEBUG org.hibernate.SQL - select count(*)>0 from CUSTOMER c1_0 where c1_0.email=?\n"
     ]
    },
    {
     "name": "stdout",
     "output_type": "stream",
     "text": [
      "13:19:55.868 DEBUG org.hibernate.SQL - insert into CUSTOMER (birthDate,creationDate,email,firstname,lastname,photo,status,version,ID) values (?,?,?,?,?,?,?,?,?)\n"
     ]
    },
    {
     "name": "stdout",
     "output_type": "stream",
     "text": [
      "13:19:55.868 DEBUG org.hibernate.SQL - select count(*)>0 from CUSTOMER c1_0 where c1_0.email=?\n"
     ]
    },
    {
     "name": "stdout",
     "output_type": "stream",
     "text": [
      "13:19:55.869 DEBUG org.hibernate.SQL - insert into CUSTOMER (birthDate,creationDate,email,firstname,lastname,photo,status,version,ID) values (?,?,?,?,?,?,?,?,?)\n"
     ]
    },
    {
     "name": "stdout",
     "output_type": "stream",
     "text": [
      "13:19:55.869 DEBUG org.hibernate.SQL - select count(*)>0 from CUSTOMER c1_0 where c1_0.email=?\n"
     ]
    },
    {
     "name": "stdout",
     "output_type": "stream",
     "text": [
      "13:19:55.869 DEBUG org.hibernate.SQL - insert into CUSTOMER (birthDate,creationDate,email,firstname,lastname,photo,status,version,ID) values (?,?,?,?,?,?,?,?,?)\n"
     ]
    },
    {
     "name": "stdout",
     "output_type": "stream",
     "text": [
      "13:19:55.870 DEBUG org.hibernate.SQL - select count(*)>0 from CUSTOMER c1_0 where c1_0.email=?\n"
     ]
    },
    {
     "name": "stdout",
     "output_type": "stream",
     "text": [
      "13:19:55.870 DEBUG org.hibernate.SQL - insert into CUSTOMER (birthDate,creationDate,email,firstname,lastname,photo,status,version,ID) values (?,?,?,?,?,?,?,?,?)\n"
     ]
    },
    {
     "name": "stdout",
     "output_type": "stream",
     "text": [
      "13:19:55.870 DEBUG org.hibernate.SQL - select count(*)>0 from CUSTOMER c1_0 where c1_0.email=?\n"
     ]
    },
    {
     "name": "stdout",
     "output_type": "stream",
     "text": [
      "13:19:55.871 DEBUG org.hibernate.SQL - insert into CUSTOMER (birthDate,creationDate,email,firstname,lastname,photo,status,version,ID) values (?,?,?,?,?,?,?,?,?)\n"
     ]
    },
    {
     "name": "stdout",
     "output_type": "stream",
     "text": [
      "13:19:55.871 DEBUG org.hibernate.SQL - select count(*)>0 from CUSTOMER c1_0 where c1_0.email=?\n"
     ]
    },
    {
     "name": "stdout",
     "output_type": "stream",
     "text": [
      "13:19:55.872 DEBUG org.hibernate.SQL - insert into CUSTOMER (birthDate,creationDate,email,firstname,lastname,photo,status,version,ID) values (?,?,?,?,?,?,?,?,?)\n"
     ]
    },
    {
     "name": "stdout",
     "output_type": "stream",
     "text": [
      "13:19:55.873 DEBUG org.hibernate.SQL - select count(*)>0 from CUSTOMER c1_0 where c1_0.email=?\n"
     ]
    },
    {
     "name": "stdout",
     "output_type": "stream",
     "text": [
      "13:19:55.874 DEBUG org.hibernate.SQL - insert into CUSTOMER (birthDate,creationDate,email,firstname,lastname,photo,status,version,ID) values (?,?,?,?,?,?,?,?,?)\n"
     ]
    },
    {
     "name": "stdout",
     "output_type": "stream",
     "text": [
      "13:19:55.874 DEBUG org.hibernate.SQL - select count(*)>0 from CUSTOMER c1_0 where c1_0.email=?\n"
     ]
    },
    {
     "name": "stdout",
     "output_type": "stream",
     "text": [
      "13:19:55.875 DEBUG org.hibernate.SQL - insert into CUSTOMER (birthDate,creationDate,email,firstname,lastname,photo,status,version,ID) values (?,?,?,?,?,?,?,?,?)\n"
     ]
    },
    {
     "name": "stdout",
     "output_type": "stream",
     "text": [
      "13:19:55.875 DEBUG org.hibernate.SQL - select count(*)>0 from CUSTOMER c1_0 where c1_0.email=?\n"
     ]
    },
    {
     "name": "stdout",
     "output_type": "stream",
     "text": [
      "13:19:55.876 DEBUG org.hibernate.SQL - insert into CUSTOMER (birthDate,creationDate,email,firstname,lastname,photo,status,version,ID) values (?,?,?,?,?,?,?,?,?)\n"
     ]
    },
    {
     "name": "stdout",
     "output_type": "stream",
     "text": [
      "13:19:55.876 DEBUG org.hibernate.SQL - select count(*)>0 from CUSTOMER c1_0 where c1_0.email=?\n"
     ]
    },
    {
     "name": "stdout",
     "output_type": "stream",
     "text": [
      "13:19:55.877 DEBUG org.hibernate.SQL - insert into CUSTOMER (birthDate,creationDate,email,firstname,lastname,photo,status,version,ID) values (?,?,?,?,?,?,?,?,?)\n"
     ]
    },
    {
     "name": "stdout",
     "output_type": "stream",
     "text": [
      "13:19:55.877 DEBUG org.hibernate.SQL - select count(*)>0 from CUSTOMER c1_0 where c1_0.email=?\n"
     ]
    },
    {
     "name": "stdout",
     "output_type": "stream",
     "text": [
      "13:19:55.879 DEBUG org.hibernate.SQL - insert into CUSTOMER (birthDate,creationDate,email,firstname,lastname,photo,status,version,ID) values (?,?,?,?,?,?,?,?,?)\n"
     ]
    },
    {
     "name": "stdout",
     "output_type": "stream",
     "text": [
      "13:19:55.880 DEBUG org.hibernate.SQL - select count(*)>0 from CUSTOMER c1_0 where c1_0.email=?\n"
     ]
    },
    {
     "name": "stdout",
     "output_type": "stream",
     "text": [
      "13:19:55.880 DEBUG org.hibernate.SQL - insert into CUSTOMER (birthDate,creationDate,email,firstname,lastname,photo,status,version,ID) values (?,?,?,?,?,?,?,?,?)\n"
     ]
    },
    {
     "name": "stdout",
     "output_type": "stream",
     "text": [
      "13:19:55.881 DEBUG org.hibernate.SQL - select count(*)>0 from CUSTOMER c1_0 where c1_0.email=?\n"
     ]
    },
    {
     "name": "stdout",
     "output_type": "stream",
     "text": [
      "13:19:55.882 DEBUG org.hibernate.SQL - insert into CUSTOMER (birthDate,creationDate,email,firstname,lastname,photo,status,version,ID) values (?,?,?,?,?,?,?,?,?)\n"
     ]
    },
    {
     "name": "stdout",
     "output_type": "stream",
     "text": [
      "13:19:55.882 DEBUG org.hibernate.SQL - select count(*)>0 from CUSTOMER c1_0 where c1_0.email=?\n"
     ]
    },
    {
     "name": "stdout",
     "output_type": "stream",
     "text": [
      "13:19:55.883 DEBUG org.hibernate.SQL - insert into CUSTOMER (birthDate,creationDate,email,firstname,lastname,photo,status,version,ID) values (?,?,?,?,?,?,?,?,?)\n"
     ]
    },
    {
     "name": "stdout",
     "output_type": "stream",
     "text": [
      "13:19:55.883 DEBUG org.hibernate.SQL - select count(*)>0 from CUSTOMER c1_0 where c1_0.email=?\n"
     ]
    },
    {
     "name": "stdout",
     "output_type": "stream",
     "text": [
      "13:19:55.884 DEBUG org.hibernate.SQL - insert into CUSTOMER (birthDate,creationDate,email,firstname,lastname,photo,status,version,ID) values (?,?,?,?,?,?,?,?,?)\n"
     ]
    },
    {
     "name": "stdout",
     "output_type": "stream",
     "text": [
      "13:19:55.884 DEBUG org.hibernate.SQL - select count(*)>0 from CUSTOMER c1_0 where c1_0.email=?\n"
     ]
    },
    {
     "name": "stdout",
     "output_type": "stream",
     "text": [
      "13:19:55.885 DEBUG org.hibernate.SQL - insert into CUSTOMER (birthDate,creationDate,email,firstname,lastname,photo,status,version,ID) values (?,?,?,?,?,?,?,?,?)\n"
     ]
    },
    {
     "name": "stdout",
     "output_type": "stream",
     "text": [
      "13:19:55.886 DEBUG org.hibernate.SQL - select count(*)>0 from CUSTOMER c1_0 where c1_0.email=?\n"
     ]
    },
    {
     "name": "stdout",
     "output_type": "stream",
     "text": [
      "13:19:55.886 DEBUG org.hibernate.SQL - insert into CUSTOMER (birthDate,creationDate,email,firstname,lastname,photo,status,version,ID) values (?,?,?,?,?,?,?,?,?)\n"
     ]
    },
    {
     "name": "stdout",
     "output_type": "stream",
     "text": [
      "13:19:55.886 DEBUG org.hibernate.SQL - select count(*)>0 from CUSTOMER c1_0 where c1_0.email=?\n"
     ]
    },
    {
     "name": "stdout",
     "output_type": "stream",
     "text": [
      "13:19:55.887 DEBUG org.hibernate.SQL - insert into CUSTOMER (birthDate,creationDate,email,firstname,lastname,photo,status,version,ID) values (?,?,?,?,?,?,?,?,?)\n"
     ]
    },
    {
     "name": "stdout",
     "output_type": "stream",
     "text": [
      "13:19:55.887 DEBUG org.hibernate.SQL - select count(*)>0 from CUSTOMER c1_0 where c1_0.email=?\n"
     ]
    },
    {
     "name": "stdout",
     "output_type": "stream",
     "text": [
      "13:19:55.887 DEBUG org.hibernate.SQL - insert into CUSTOMER (birthDate,creationDate,email,firstname,lastname,photo,status,version,ID) values (?,?,?,?,?,?,?,?,?)\n"
     ]
    },
    {
     "name": "stdout",
     "output_type": "stream",
     "text": [
      "13:19:55.888 DEBUG org.hibernate.SQL - select count(*)>0 from CUSTOMER c1_0 where c1_0.email=?\n"
     ]
    },
    {
     "name": "stdout",
     "output_type": "stream",
     "text": [
      "13:19:55.888 DEBUG org.hibernate.SQL - select nextval('CUSTOMER_SEQ')\n"
     ]
    },
    {
     "name": "stdout",
     "output_type": "stream",
     "text": [
      "13:19:55.888 DEBUG org.hibernate.SQL - insert into CUSTOMER (birthDate,creationDate,email,firstname,lastname,photo,status,version,ID) values (?,?,?,?,?,?,?,?,?)\n"
     ]
    },
    {
     "name": "stdout",
     "output_type": "stream",
     "text": [
      "13:19:55.888 DEBUG org.hibernate.SQL - select count(*)>0 from CUSTOMER c1_0 where c1_0.email=?\n"
     ]
    },
    {
     "name": "stdout",
     "output_type": "stream",
     "text": [
      "13:19:55.889 DEBUG org.hibernate.SQL - insert into CUSTOMER (birthDate,creationDate,email,firstname,lastname,photo,status,version,ID) values (?,?,?,?,?,?,?,?,?)\n"
     ]
    },
    {
     "name": "stdout",
     "output_type": "stream",
     "text": [
      "13:19:55.889 DEBUG org.hibernate.SQL - select count(*)>0 from CUSTOMER c1_0 where c1_0.email=?\n"
     ]
    },
    {
     "name": "stdout",
     "output_type": "stream",
     "text": [
      "13:19:55.890 DEBUG org.hibernate.SQL - insert into CUSTOMER (birthDate,creationDate,email,firstname,lastname,photo,status,version,ID) values (?,?,?,?,?,?,?,?,?)\n"
     ]
    },
    {
     "name": "stdout",
     "output_type": "stream",
     "text": [
      "13:19:55.890 DEBUG org.hibernate.SQL - select count(*)>0 from CUSTOMER c1_0 where c1_0.email=?\n"
     ]
    },
    {
     "name": "stdout",
     "output_type": "stream",
     "text": [
      "13:19:55.890 DEBUG org.hibernate.SQL - insert into CUSTOMER (birthDate,creationDate,email,firstname,lastname,photo,status,version,ID) values (?,?,?,?,?,?,?,?,?)\n"
     ]
    },
    {
     "name": "stdout",
     "output_type": "stream",
     "text": [
      "13:19:55.890 DEBUG org.hibernate.SQL - select count(*)>0 from CUSTOMER c1_0 where c1_0.email=?\n"
     ]
    },
    {
     "name": "stdout",
     "output_type": "stream",
     "text": [
      "13:19:55.891 DEBUG org.hibernate.SQL - insert into CUSTOMER (birthDate,creationDate,email,firstname,lastname,photo,status,version,ID) values (?,?,?,?,?,?,?,?,?)\n"
     ]
    },
    {
     "name": "stdout",
     "output_type": "stream",
     "text": [
      "13:19:55.891 DEBUG org.hibernate.SQL - select count(*)>0 from CUSTOMER c1_0 where c1_0.email=?\n"
     ]
    },
    {
     "name": "stdout",
     "output_type": "stream",
     "text": [
      "13:19:55.892 DEBUG org.hibernate.SQL - insert into CUSTOMER (birthDate,creationDate,email,firstname,lastname,photo,status,version,ID) values (?,?,?,?,?,?,?,?,?)\n"
     ]
    },
    {
     "name": "stdout",
     "output_type": "stream",
     "text": [
      "13:19:55.892 DEBUG org.hibernate.SQL - select count(*)>0 from CUSTOMER c1_0 where c1_0.email=?\n"
     ]
    },
    {
     "name": "stdout",
     "output_type": "stream",
     "text": [
      "13:19:55.892 DEBUG org.hibernate.SQL - insert into CUSTOMER (birthDate,creationDate,email,firstname,lastname,photo,status,version,ID) values (?,?,?,?,?,?,?,?,?)\n"
     ]
    },
    {
     "name": "stdout",
     "output_type": "stream",
     "text": [
      "13:19:55.893 DEBUG org.hibernate.SQL - select count(*)>0 from CUSTOMER c1_0 where c1_0.email=?\n"
     ]
    },
    {
     "name": "stdout",
     "output_type": "stream",
     "text": [
      "13:19:55.893 DEBUG org.hibernate.SQL - insert into CUSTOMER (birthDate,creationDate,email,firstname,lastname,photo,status,version,ID) values (?,?,?,?,?,?,?,?,?)\n"
     ]
    },
    {
     "name": "stdout",
     "output_type": "stream",
     "text": [
      "13:19:55.894 DEBUG org.hibernate.SQL - select count(*)>0 from CUSTOMER c1_0 where c1_0.email=?\n"
     ]
    },
    {
     "name": "stdout",
     "output_type": "stream",
     "text": [
      "13:19:55.894 DEBUG org.hibernate.SQL - insert into CUSTOMER (birthDate,creationDate,email,firstname,lastname,photo,status,version,ID) values (?,?,?,?,?,?,?,?,?)\n"
     ]
    },
    {
     "name": "stdout",
     "output_type": "stream",
     "text": [
      "13:19:55.895 DEBUG org.hibernate.SQL - select count(*)>0 from CUSTOMER c1_0 where c1_0.email=?\n"
     ]
    },
    {
     "name": "stdout",
     "output_type": "stream",
     "text": [
      "13:19:55.895 DEBUG org.hibernate.SQL - insert into CUSTOMER (birthDate,creationDate,email,firstname,lastname,photo,status,version,ID) values (?,?,?,?,?,?,?,?,?)\n"
     ]
    },
    {
     "name": "stdout",
     "output_type": "stream",
     "text": [
      "13:19:55.896 DEBUG org.hibernate.SQL - select count(*)>0 from CUSTOMER c1_0 where c1_0.email=?\n"
     ]
    },
    {
     "name": "stdout",
     "output_type": "stream",
     "text": [
      "13:19:55.896 DEBUG org.hibernate.SQL - insert into CUSTOMER (birthDate,creationDate,email,firstname,lastname,photo,status,version,ID) values (?,?,?,?,?,?,?,?,?)\n"
     ]
    },
    {
     "name": "stdout",
     "output_type": "stream",
     "text": [
      "13:19:55.897 DEBUG org.hibernate.SQL - select count(*)>0 from CUSTOMER c1_0 where c1_0.email=?\n"
     ]
    },
    {
     "name": "stdout",
     "output_type": "stream",
     "text": [
      "13:19:55.897 DEBUG org.hibernate.SQL - insert into CUSTOMER (birthDate,creationDate,email,firstname,lastname,photo,status,version,ID) values (?,?,?,?,?,?,?,?,?)\n"
     ]
    },
    {
     "name": "stdout",
     "output_type": "stream",
     "text": [
      "13:19:55.897 DEBUG org.hibernate.SQL - select count(*)>0 from CUSTOMER c1_0 where c1_0.email=?\n"
     ]
    },
    {
     "name": "stdout",
     "output_type": "stream",
     "text": [
      "13:19:55.898 DEBUG org.hibernate.SQL - insert into CUSTOMER (birthDate,creationDate,email,firstname,lastname,photo,status,version,ID) values (?,?,?,?,?,?,?,?,?)\n"
     ]
    },
    {
     "name": "stdout",
     "output_type": "stream",
     "text": [
      "13:19:55.899 DEBUG org.hibernate.SQL - select count(*)>0 from CUSTOMER c1_0 where c1_0.email=?\n"
     ]
    },
    {
     "name": "stdout",
     "output_type": "stream",
     "text": [
      "13:19:55.899 DEBUG org.hibernate.SQL - insert into CUSTOMER (birthDate,creationDate,email,firstname,lastname,photo,status,version,ID) values (?,?,?,?,?,?,?,?,?)\n"
     ]
    },
    {
     "name": "stdout",
     "output_type": "stream",
     "text": [
      "13:19:55.899 DEBUG org.hibernate.SQL - select count(*)>0 from CUSTOMER c1_0 where c1_0.email=?\n"
     ]
    },
    {
     "name": "stdout",
     "output_type": "stream",
     "text": [
      "13:19:55.900 DEBUG org.hibernate.SQL - insert into CUSTOMER (birthDate,creationDate,email,firstname,lastname,photo,status,version,ID) values (?,?,?,?,?,?,?,?,?)\n"
     ]
    },
    {
     "name": "stdout",
     "output_type": "stream",
     "text": [
      "13:19:55.900 DEBUG org.hibernate.SQL - select count(*)>0 from CUSTOMER c1_0 where c1_0.email=?\n"
     ]
    },
    {
     "name": "stdout",
     "output_type": "stream",
     "text": [
      "13:19:55.900 DEBUG org.hibernate.SQL - insert into CUSTOMER (birthDate,creationDate,email,firstname,lastname,photo,status,version,ID) values (?,?,?,?,?,?,?,?,?)\n"
     ]
    },
    {
     "name": "stdout",
     "output_type": "stream",
     "text": [
      "13:19:55.901 DEBUG org.hibernate.SQL - select count(*)>0 from CUSTOMER c1_0 where c1_0.email=?\n"
     ]
    },
    {
     "name": "stdout",
     "output_type": "stream",
     "text": [
      "13:19:55.901 DEBUG org.hibernate.SQL - insert into CUSTOMER (birthDate,creationDate,email,firstname,lastname,photo,status,version,ID) values (?,?,?,?,?,?,?,?,?)\n"
     ]
    },
    {
     "name": "stdout",
     "output_type": "stream",
     "text": [
      "13:19:55.901 DEBUG org.hibernate.SQL - select count(*)>0 from CUSTOMER c1_0 where c1_0.email=?\n"
     ]
    },
    {
     "name": "stdout",
     "output_type": "stream",
     "text": [
      "13:19:55.902 DEBUG org.hibernate.SQL - insert into CUSTOMER (birthDate,creationDate,email,firstname,lastname,photo,status,version,ID) values (?,?,?,?,?,?,?,?,?)\n"
     ]
    },
    {
     "name": "stdout",
     "output_type": "stream",
     "text": [
      "13:19:55.902 DEBUG org.hibernate.SQL - select count(*)>0 from CUSTOMER c1_0 where c1_0.email=?\n"
     ]
    },
    {
     "name": "stdout",
     "output_type": "stream",
     "text": [
      "13:19:55.903 DEBUG org.hibernate.SQL - insert into CUSTOMER (birthDate,creationDate,email,firstname,lastname,photo,status,version,ID) values (?,?,?,?,?,?,?,?,?)\n"
     ]
    },
    {
     "name": "stdout",
     "output_type": "stream",
     "text": [
      "13:19:55.903 DEBUG org.hibernate.SQL - select count(*)>0 from CUSTOMER c1_0 where c1_0.email=?\n"
     ]
    },
    {
     "name": "stdout",
     "output_type": "stream",
     "text": [
      "13:19:55.903 DEBUG org.hibernate.SQL - insert into CUSTOMER (birthDate,creationDate,email,firstname,lastname,photo,status,version,ID) values (?,?,?,?,?,?,?,?,?)\n"
     ]
    },
    {
     "name": "stdout",
     "output_type": "stream",
     "text": [
      "13:19:55.903 DEBUG org.hibernate.SQL - select count(*)>0 from CUSTOMER c1_0 where c1_0.email=?\n"
     ]
    },
    {
     "name": "stdout",
     "output_type": "stream",
     "text": [
      "13:19:55.904 DEBUG org.hibernate.SQL - insert into CUSTOMER (birthDate,creationDate,email,firstname,lastname,photo,status,version,ID) values (?,?,?,?,?,?,?,?,?)\n"
     ]
    },
    {
     "name": "stdout",
     "output_type": "stream",
     "text": [
      "13:19:55.904 DEBUG org.hibernate.SQL - select count(*)>0 from CUSTOMER c1_0 where c1_0.email=?\n"
     ]
    },
    {
     "name": "stdout",
     "output_type": "stream",
     "text": [
      "13:19:55.904 DEBUG org.hibernate.SQL - insert into CUSTOMER (birthDate,creationDate,email,firstname,lastname,photo,status,version,ID) values (?,?,?,?,?,?,?,?,?)\n"
     ]
    },
    {
     "name": "stdout",
     "output_type": "stream",
     "text": [
      "13:19:55.905 DEBUG org.hibernate.SQL - select count(*)>0 from CUSTOMER c1_0 where c1_0.email=?\n"
     ]
    },
    {
     "name": "stdout",
     "output_type": "stream",
     "text": [
      "13:19:55.905 DEBUG org.hibernate.SQL - insert into CUSTOMER (birthDate,creationDate,email,firstname,lastname,photo,status,version,ID) values (?,?,?,?,?,?,?,?,?)\n"
     ]
    },
    {
     "name": "stdout",
     "output_type": "stream",
     "text": [
      "13:19:55.905 DEBUG org.hibernate.SQL - select count(*)>0 from CUSTOMER c1_0 where c1_0.email=?\n"
     ]
    },
    {
     "name": "stdout",
     "output_type": "stream",
     "text": [
      "13:19:55.906 DEBUG org.hibernate.SQL - insert into CUSTOMER (birthDate,creationDate,email,firstname,lastname,photo,status,version,ID) values (?,?,?,?,?,?,?,?,?)\n"
     ]
    },
    {
     "name": "stdout",
     "output_type": "stream",
     "text": [
      "13:19:55.906 DEBUG org.hibernate.SQL - select count(*)>0 from CUSTOMER c1_0 where c1_0.email=?\n"
     ]
    },
    {
     "name": "stdout",
     "output_type": "stream",
     "text": [
      "13:19:55.906 DEBUG org.hibernate.SQL - insert into CUSTOMER (birthDate,creationDate,email,firstname,lastname,photo,status,version,ID) values (?,?,?,?,?,?,?,?,?)\n"
     ]
    },
    {
     "name": "stdout",
     "output_type": "stream",
     "text": [
      "13:19:55.906 DEBUG org.hibernate.SQL - select count(*)>0 from CUSTOMER c1_0 where c1_0.email=?\n"
     ]
    },
    {
     "name": "stdout",
     "output_type": "stream",
     "text": [
      "13:19:55.907 DEBUG org.hibernate.SQL - insert into CUSTOMER (birthDate,creationDate,email,firstname,lastname,photo,status,version,ID) values (?,?,?,?,?,?,?,?,?)\n"
     ]
    },
    {
     "name": "stdout",
     "output_type": "stream",
     "text": [
      "13:19:55.907 DEBUG org.hibernate.SQL - select count(*)>0 from CUSTOMER c1_0 where c1_0.email=?\n"
     ]
    },
    {
     "name": "stdout",
     "output_type": "stream",
     "text": [
      "13:19:55.908 DEBUG org.hibernate.SQL - insert into CUSTOMER (birthDate,creationDate,email,firstname,lastname,photo,status,version,ID) values (?,?,?,?,?,?,?,?,?)\n"
     ]
    },
    {
     "name": "stdout",
     "output_type": "stream",
     "text": [
      "13:19:55.908 DEBUG org.hibernate.SQL - select count(*)>0 from CUSTOMER c1_0 where c1_0.email=?\n"
     ]
    },
    {
     "name": "stdout",
     "output_type": "stream",
     "text": [
      "13:19:55.908 DEBUG org.hibernate.SQL - insert into CUSTOMER (birthDate,creationDate,email,firstname,lastname,photo,status,version,ID) values (?,?,?,?,?,?,?,?,?)\n"
     ]
    },
    {
     "name": "stdout",
     "output_type": "stream",
     "text": [
      "13:19:55.909 DEBUG org.hibernate.SQL - select count(*)>0 from CUSTOMER c1_0 where c1_0.email=?\n"
     ]
    },
    {
     "name": "stdout",
     "output_type": "stream",
     "text": [
      "13:19:55.909 DEBUG org.hibernate.SQL - insert into CUSTOMER (birthDate,creationDate,email,firstname,lastname,photo,status,version,ID) values (?,?,?,?,?,?,?,?,?)\n"
     ]
    },
    {
     "name": "stdout",
     "output_type": "stream",
     "text": [
      "13:19:55.909 DEBUG org.hibernate.SQL - select count(*)>0 from CUSTOMER c1_0 where c1_0.email=?\n"
     ]
    },
    {
     "name": "stdout",
     "output_type": "stream",
     "text": [
      "13:19:55.910 DEBUG org.hibernate.SQL - insert into CUSTOMER (birthDate,creationDate,email,firstname,lastname,photo,status,version,ID) values (?,?,?,?,?,?,?,?,?)\n"
     ]
    },
    {
     "name": "stdout",
     "output_type": "stream",
     "text": [
      "13:19:55.910 DEBUG org.hibernate.SQL - select count(*)>0 from CUSTOMER c1_0 where c1_0.email=?\n"
     ]
    },
    {
     "name": "stdout",
     "output_type": "stream",
     "text": [
      "13:19:55.910 DEBUG org.hibernate.SQL - insert into CUSTOMER (birthDate,creationDate,email,firstname,lastname,photo,status,version,ID) values (?,?,?,?,?,?,?,?,?)\n"
     ]
    },
    {
     "name": "stdout",
     "output_type": "stream",
     "text": [
      "13:19:55.910 DEBUG org.hibernate.SQL - select count(*)>0 from CUSTOMER c1_0 where c1_0.email=?\n"
     ]
    },
    {
     "name": "stdout",
     "output_type": "stream",
     "text": [
      "13:19:55.911 DEBUG org.hibernate.SQL - insert into CUSTOMER (birthDate,creationDate,email,firstname,lastname,photo,status,version,ID) values (?,?,?,?,?,?,?,?,?)\n"
     ]
    },
    {
     "name": "stdout",
     "output_type": "stream",
     "text": [
      "13:19:55.911 DEBUG org.hibernate.SQL - select count(*)>0 from CUSTOMER c1_0 where c1_0.email=?\n"
     ]
    },
    {
     "name": "stdout",
     "output_type": "stream",
     "text": [
      "13:19:55.911 DEBUG org.hibernate.SQL - insert into CUSTOMER (birthDate,creationDate,email,firstname,lastname,photo,status,version,ID) values (?,?,?,?,?,?,?,?,?)\n"
     ]
    },
    {
     "name": "stdout",
     "output_type": "stream",
     "text": [
      "13:19:55.912 DEBUG org.hibernate.SQL - select count(*)>0 from CUSTOMER c1_0 where c1_0.email=?\n"
     ]
    },
    {
     "name": "stdout",
     "output_type": "stream",
     "text": [
      "13:19:55.912 DEBUG org.hibernate.SQL - insert into CUSTOMER (birthDate,creationDate,email,firstname,lastname,photo,status,version,ID) values (?,?,?,?,?,?,?,?,?)\n"
     ]
    },
    {
     "name": "stdout",
     "output_type": "stream",
     "text": [
      "13:19:55.912 DEBUG org.hibernate.SQL - select count(*)>0 from CUSTOMER c1_0 where c1_0.email=?\n"
     ]
    },
    {
     "name": "stdout",
     "output_type": "stream",
     "text": [
      "13:19:55.913 DEBUG org.hibernate.SQL - insert into CUSTOMER (birthDate,creationDate,email,firstname,lastname,photo,status,version,ID) values (?,?,?,?,?,?,?,?,?)\n"
     ]
    },
    {
     "name": "stdout",
     "output_type": "stream",
     "text": [
      "13:19:55.913 DEBUG org.hibernate.SQL - select count(*)>0 from CUSTOMER c1_0 where c1_0.email=?\n"
     ]
    },
    {
     "name": "stdout",
     "output_type": "stream",
     "text": [
      "13:19:55.913 DEBUG org.hibernate.SQL - insert into CUSTOMER (birthDate,creationDate,email,firstname,lastname,photo,status,version,ID) values (?,?,?,?,?,?,?,?,?)\n"
     ]
    },
    {
     "name": "stdout",
     "output_type": "stream",
     "text": [
      "13:19:55.913 DEBUG org.hibernate.SQL - select count(*)>0 from CUSTOMER c1_0 where c1_0.email=?\n"
     ]
    },
    {
     "name": "stdout",
     "output_type": "stream",
     "text": [
      "13:19:55.914 DEBUG org.hibernate.SQL - insert into CUSTOMER (birthDate,creationDate,email,firstname,lastname,photo,status,version,ID) values (?,?,?,?,?,?,?,?,?)\n"
     ]
    },
    {
     "name": "stdout",
     "output_type": "stream",
     "text": [
      "13:19:55.914 DEBUG org.hibernate.SQL - select count(*)>0 from CUSTOMER c1_0 where c1_0.email=?\n"
     ]
    },
    {
     "name": "stdout",
     "output_type": "stream",
     "text": [
      "13:19:55.915 DEBUG org.hibernate.SQL - insert into CUSTOMER (birthDate,creationDate,email,firstname,lastname,photo,status,version,ID) values (?,?,?,?,?,?,?,?,?)\n"
     ]
    },
    {
     "name": "stdout",
     "output_type": "stream",
     "text": [
      "13:19:55.915 DEBUG org.hibernate.SQL - select count(*)>0 from CUSTOMER c1_0 where c1_0.email=?\n"
     ]
    },
    {
     "name": "stdout",
     "output_type": "stream",
     "text": [
      "13:19:55.915 DEBUG org.hibernate.SQL - insert into CUSTOMER (birthDate,creationDate,email,firstname,lastname,photo,status,version,ID) values (?,?,?,?,?,?,?,?,?)\n"
     ]
    },
    {
     "name": "stdout",
     "output_type": "stream",
     "text": [
      "13:19:55.916 DEBUG org.hibernate.SQL - select count(*)>0 from CUSTOMER c1_0 where c1_0.email=?\n"
     ]
    },
    {
     "name": "stdout",
     "output_type": "stream",
     "text": [
      "13:19:55.916 DEBUG org.hibernate.SQL - insert into CUSTOMER (birthDate,creationDate,email,firstname,lastname,photo,status,version,ID) values (?,?,?,?,?,?,?,?,?)\n"
     ]
    },
    {
     "name": "stdout",
     "output_type": "stream",
     "text": [
      "13:19:55.916 DEBUG org.hibernate.SQL - select count(*)>0 from CUSTOMER c1_0 where c1_0.email=?\n"
     ]
    },
    {
     "name": "stdout",
     "output_type": "stream",
     "text": [
      "13:19:55.917 DEBUG org.hibernate.SQL - insert into CUSTOMER (birthDate,creationDate,email,firstname,lastname,photo,status,version,ID) values (?,?,?,?,?,?,?,?,?)\n"
     ]
    },
    {
     "name": "stdout",
     "output_type": "stream",
     "text": [
      "13:19:55.917 DEBUG org.hibernate.SQL - select count(*)>0 from CUSTOMER c1_0 where c1_0.email=?\n"
     ]
    },
    {
     "name": "stdout",
     "output_type": "stream",
     "text": [
      "13:19:55.917 DEBUG org.hibernate.SQL - insert into CUSTOMER (birthDate,creationDate,email,firstname,lastname,photo,status,version,ID) values (?,?,?,?,?,?,?,?,?)\n"
     ]
    },
    {
     "name": "stdout",
     "output_type": "stream",
     "text": [
      "13:19:55.917 DEBUG org.hibernate.SQL - select count(*)>0 from CUSTOMER c1_0 where c1_0.email=?\n"
     ]
    },
    {
     "name": "stdout",
     "output_type": "stream",
     "text": [
      "13:19:55.918 DEBUG org.hibernate.SQL - insert into CUSTOMER (birthDate,creationDate,email,firstname,lastname,photo,status,version,ID) values (?,?,?,?,?,?,?,?,?)\n"
     ]
    },
    {
     "name": "stdout",
     "output_type": "stream",
     "text": [
      "13:19:55.918 DEBUG org.hibernate.SQL - select count(*)>0 from CUSTOMER c1_0 where c1_0.email=?\n"
     ]
    },
    {
     "name": "stdout",
     "output_type": "stream",
     "text": [
      "13:19:55.918 DEBUG org.hibernate.SQL - insert into CUSTOMER (birthDate,creationDate,email,firstname,lastname,photo,status,version,ID) values (?,?,?,?,?,?,?,?,?)\n"
     ]
    },
    {
     "name": "stdout",
     "output_type": "stream",
     "text": [
      "13:19:55.919 DEBUG org.hibernate.SQL - select count(*)>0 from CUSTOMER c1_0 where c1_0.email=?\n"
     ]
    },
    {
     "name": "stdout",
     "output_type": "stream",
     "text": [
      "13:19:55.919 DEBUG org.hibernate.SQL - insert into CUSTOMER (birthDate,creationDate,email,firstname,lastname,photo,status,version,ID) values (?,?,?,?,?,?,?,?,?)\n"
     ]
    },
    {
     "name": "stdout",
     "output_type": "stream",
     "text": [
      "13:19:55.919 DEBUG org.hibernate.SQL - select count(*)>0 from CUSTOMER c1_0 where c1_0.email=?\n"
     ]
    },
    {
     "name": "stdout",
     "output_type": "stream",
     "text": [
      "13:19:55.920 DEBUG org.hibernate.SQL - insert into CUSTOMER (birthDate,creationDate,email,firstname,lastname,photo,status,version,ID) values (?,?,?,?,?,?,?,?,?)\n"
     ]
    },
    {
     "name": "stdout",
     "output_type": "stream",
     "text": [
      "13:19:55.920 DEBUG org.hibernate.SQL - select count(*)>0 from CUSTOMER c1_0 where c1_0.email=?\n"
     ]
    },
    {
     "name": "stdout",
     "output_type": "stream",
     "text": [
      "13:19:55.920 DEBUG org.hibernate.SQL - insert into CUSTOMER (birthDate,creationDate,email,firstname,lastname,photo,status,version,ID) values (?,?,?,?,?,?,?,?,?)\n"
     ]
    },
    {
     "name": "stdout",
     "output_type": "stream",
     "text": [
      "13:19:55.920 DEBUG org.hibernate.SQL - select count(*)>0 from CUSTOMER c1_0 where c1_0.email=?\n"
     ]
    },
    {
     "name": "stdout",
     "output_type": "stream",
     "text": [
      "13:19:55.921 DEBUG org.hibernate.SQL - insert into CUSTOMER (birthDate,creationDate,email,firstname,lastname,photo,status,version,ID) values (?,?,?,?,?,?,?,?,?)\n"
     ]
    },
    {
     "name": "stdout",
     "output_type": "stream",
     "text": [
      "13:19:55.921 DEBUG org.hibernate.SQL - select count(*)>0 from CUSTOMER c1_0 where c1_0.email=?\n"
     ]
    },
    {
     "name": "stdout",
     "output_type": "stream",
     "text": [
      "13:19:55.921 DEBUG org.hibernate.SQL - insert into CUSTOMER (birthDate,creationDate,email,firstname,lastname,photo,status,version,ID) values (?,?,?,?,?,?,?,?,?)\n"
     ]
    },
    {
     "name": "stdout",
     "output_type": "stream",
     "text": [
      "13:19:55.922 DEBUG org.hibernate.SQL - select count(*)>0 from CUSTOMER c1_0 where c1_0.email=?\n"
     ]
    },
    {
     "name": "stdout",
     "output_type": "stream",
     "text": [
      "13:19:55.922 DEBUG org.hibernate.SQL - insert into CUSTOMER (birthDate,creationDate,email,firstname,lastname,photo,status,version,ID) values (?,?,?,?,?,?,?,?,?)\n"
     ]
    },
    {
     "name": "stdout",
     "output_type": "stream",
     "text": [
      "13:19:55.922 DEBUG org.hibernate.SQL - select count(*)>0 from CUSTOMER c1_0 where c1_0.email=?\n"
     ]
    },
    {
     "name": "stdout",
     "output_type": "stream",
     "text": [
      "13:19:55.922 DEBUG org.hibernate.SQL - select nextval('CUSTOMER_SEQ')\n"
     ]
    },
    {
     "name": "stdout",
     "output_type": "stream",
     "text": [
      "13:19:55.923 DEBUG org.hibernate.SQL - insert into CUSTOMER (birthDate,creationDate,email,firstname,lastname,photo,status,version,ID) values (?,?,?,?,?,?,?,?,?)\n"
     ]
    },
    {
     "name": "stdout",
     "output_type": "stream",
     "text": [
      "13:19:55.923 DEBUG org.hibernate.SQL - select count(*)>0 from CUSTOMER c1_0 where c1_0.email=?\n"
     ]
    },
    {
     "name": "stdout",
     "output_type": "stream",
     "text": [
      "13:19:55.923 DEBUG org.hibernate.SQL - insert into CUSTOMER (birthDate,creationDate,email,firstname,lastname,photo,status,version,ID) values (?,?,?,?,?,?,?,?,?)\n"
     ]
    },
    {
     "name": "stdout",
     "output_type": "stream",
     "text": [
      "13:19:55.923 DEBUG org.hibernate.SQL - select count(*)>0 from CUSTOMER c1_0 where c1_0.email=?\n"
     ]
    },
    {
     "name": "stdout",
     "output_type": "stream",
     "text": [
      "13:19:55.924 DEBUG org.hibernate.SQL - insert into CUSTOMER (birthDate,creationDate,email,firstname,lastname,photo,status,version,ID) values (?,?,?,?,?,?,?,?,?)\n"
     ]
    },
    {
     "name": "stdout",
     "output_type": "stream",
     "text": [
      "13:19:55.924 DEBUG org.hibernate.SQL - select count(*)>0 from CUSTOMER c1_0 where c1_0.email=?\n"
     ]
    },
    {
     "name": "stdout",
     "output_type": "stream",
     "text": [
      "13:19:55.924 DEBUG org.hibernate.SQL - insert into CUSTOMER (birthDate,creationDate,email,firstname,lastname,photo,status,version,ID) values (?,?,?,?,?,?,?,?,?)\n"
     ]
    },
    {
     "name": "stdout",
     "output_type": "stream",
     "text": [
      "13:19:55.925 DEBUG org.hibernate.SQL - select count(*)>0 from CUSTOMER c1_0 where c1_0.email=?\n"
     ]
    },
    {
     "name": "stdout",
     "output_type": "stream",
     "text": [
      "13:19:55.925 DEBUG org.hibernate.SQL - insert into CUSTOMER (birthDate,creationDate,email,firstname,lastname,photo,status,version,ID) values (?,?,?,?,?,?,?,?,?)\n"
     ]
    },
    {
     "name": "stdout",
     "output_type": "stream",
     "text": [
      "13:19:55.925 DEBUG org.hibernate.SQL - select count(*)>0 from CUSTOMER c1_0 where c1_0.email=?\n"
     ]
    },
    {
     "name": "stdout",
     "output_type": "stream",
     "text": [
      "13:19:55.926 DEBUG org.hibernate.SQL - insert into CUSTOMER (birthDate,creationDate,email,firstname,lastname,photo,status,version,ID) values (?,?,?,?,?,?,?,?,?)\n"
     ]
    },
    {
     "name": "stdout",
     "output_type": "stream",
     "text": [
      "13:19:55.926 DEBUG org.hibernate.SQL - select count(*)>0 from CUSTOMER c1_0 where c1_0.email=?\n"
     ]
    },
    {
     "name": "stdout",
     "output_type": "stream",
     "text": [
      "13:19:55.926 DEBUG org.hibernate.SQL - insert into CUSTOMER (birthDate,creationDate,email,firstname,lastname,photo,status,version,ID) values (?,?,?,?,?,?,?,?,?)\n"
     ]
    },
    {
     "name": "stdout",
     "output_type": "stream",
     "text": [
      "13:19:55.926 DEBUG org.hibernate.SQL - select count(*)>0 from CUSTOMER c1_0 where c1_0.email=?\n"
     ]
    },
    {
     "name": "stdout",
     "output_type": "stream",
     "text": [
      "13:19:55.927 DEBUG org.hibernate.SQL - insert into CUSTOMER (birthDate,creationDate,email,firstname,lastname,photo,status,version,ID) values (?,?,?,?,?,?,?,?,?)\n"
     ]
    },
    {
     "name": "stdout",
     "output_type": "stream",
     "text": [
      "13:19:55.927 DEBUG org.hibernate.SQL - select count(*)>0 from CUSTOMER c1_0 where c1_0.email=?\n"
     ]
    },
    {
     "name": "stdout",
     "output_type": "stream",
     "text": [
      "13:19:55.928 DEBUG org.hibernate.SQL - insert into CUSTOMER (birthDate,creationDate,email,firstname,lastname,photo,status,version,ID) values (?,?,?,?,?,?,?,?,?)\n"
     ]
    },
    {
     "name": "stdout",
     "output_type": "stream",
     "text": [
      "13:19:55.928 DEBUG org.hibernate.SQL - select count(*)>0 from CUSTOMER c1_0 where c1_0.email=?\n"
     ]
    },
    {
     "name": "stdout",
     "output_type": "stream",
     "text": [
      "13:19:55.928 DEBUG org.hibernate.SQL - insert into CUSTOMER (birthDate,creationDate,email,firstname,lastname,photo,status,version,ID) values (?,?,?,?,?,?,?,?,?)\n"
     ]
    },
    {
     "name": "stdout",
     "output_type": "stream",
     "text": [
      "13:19:55.928 DEBUG org.hibernate.SQL - select count(*)>0 from CUSTOMER c1_0 where c1_0.email=?\n"
     ]
    },
    {
     "name": "stdout",
     "output_type": "stream",
     "text": [
      "13:19:55.929 DEBUG org.hibernate.SQL - insert into CUSTOMER (birthDate,creationDate,email,firstname,lastname,photo,status,version,ID) values (?,?,?,?,?,?,?,?,?)\n"
     ]
    },
    {
     "name": "stdout",
     "output_type": "stream",
     "text": [
      "13:19:55.929 DEBUG org.hibernate.SQL - select count(*)>0 from CUSTOMER c1_0 where c1_0.email=?\n"
     ]
    },
    {
     "name": "stdout",
     "output_type": "stream",
     "text": [
      "13:19:55.929 DEBUG org.hibernate.SQL - insert into CUSTOMER (birthDate,creationDate,email,firstname,lastname,photo,status,version,ID) values (?,?,?,?,?,?,?,?,?)\n"
     ]
    },
    {
     "name": "stdout",
     "output_type": "stream",
     "text": [
      "13:19:55.930 DEBUG org.hibernate.SQL - select count(*)>0 from CUSTOMER c1_0 where c1_0.email=?\n"
     ]
    },
    {
     "name": "stdout",
     "output_type": "stream",
     "text": [
      "13:19:55.930 DEBUG org.hibernate.SQL - insert into CUSTOMER (birthDate,creationDate,email,firstname,lastname,photo,status,version,ID) values (?,?,?,?,?,?,?,?,?)\n"
     ]
    },
    {
     "name": "stdout",
     "output_type": "stream",
     "text": [
      "13:19:55.930 DEBUG org.hibernate.SQL - select count(*)>0 from CUSTOMER c1_0 where c1_0.email=?\n"
     ]
    },
    {
     "name": "stdout",
     "output_type": "stream",
     "text": [
      "13:19:55.931 DEBUG org.hibernate.SQL - insert into CUSTOMER (birthDate,creationDate,email,firstname,lastname,photo,status,version,ID) values (?,?,?,?,?,?,?,?,?)\n"
     ]
    },
    {
     "name": "stdout",
     "output_type": "stream",
     "text": [
      "13:19:55.931 DEBUG org.hibernate.SQL - select count(*)>0 from CUSTOMER c1_0 where c1_0.email=?\n"
     ]
    },
    {
     "name": "stdout",
     "output_type": "stream",
     "text": [
      "13:19:55.931 DEBUG org.hibernate.SQL - insert into CUSTOMER (birthDate,creationDate,email,firstname,lastname,photo,status,version,ID) values (?,?,?,?,?,?,?,?,?)\n"
     ]
    },
    {
     "name": "stdout",
     "output_type": "stream",
     "text": [
      "13:19:55.931 DEBUG org.hibernate.SQL - select count(*)>0 from CUSTOMER c1_0 where c1_0.email=?\n"
     ]
    },
    {
     "name": "stdout",
     "output_type": "stream",
     "text": [
      "13:19:55.932 DEBUG org.hibernate.SQL - insert into CUSTOMER (birthDate,creationDate,email,firstname,lastname,photo,status,version,ID) values (?,?,?,?,?,?,?,?,?)\n"
     ]
    },
    {
     "name": "stdout",
     "output_type": "stream",
     "text": [
      "13:19:55.932 DEBUG org.hibernate.SQL - select count(*)>0 from CUSTOMER c1_0 where c1_0.email=?\n"
     ]
    },
    {
     "name": "stdout",
     "output_type": "stream",
     "text": [
      "13:19:55.932 DEBUG org.hibernate.SQL - insert into CUSTOMER (birthDate,creationDate,email,firstname,lastname,photo,status,version,ID) values (?,?,?,?,?,?,?,?,?)\n"
     ]
    },
    {
     "name": "stdout",
     "output_type": "stream",
     "text": [
      "13:19:55.932 DEBUG org.hibernate.SQL - select count(*)>0 from CUSTOMER c1_0 where c1_0.email=?\n"
     ]
    },
    {
     "name": "stdout",
     "output_type": "stream",
     "text": [
      "13:19:55.933 DEBUG org.hibernate.SQL - insert into CUSTOMER (birthDate,creationDate,email,firstname,lastname,photo,status,version,ID) values (?,?,?,?,?,?,?,?,?)\n"
     ]
    },
    {
     "name": "stdout",
     "output_type": "stream",
     "text": [
      "13:19:55.933 DEBUG org.hibernate.SQL - select count(*)>0 from CUSTOMER c1_0 where c1_0.email=?\n"
     ]
    },
    {
     "name": "stdout",
     "output_type": "stream",
     "text": [
      "13:19:55.933 DEBUG org.hibernate.SQL - insert into CUSTOMER (birthDate,creationDate,email,firstname,lastname,photo,status,version,ID) values (?,?,?,?,?,?,?,?,?)\n"
     ]
    },
    {
     "name": "stdout",
     "output_type": "stream",
     "text": [
      "13:19:55.934 DEBUG org.hibernate.SQL - select count(*)>0 from CUSTOMER c1_0 where c1_0.email=?\n"
     ]
    },
    {
     "name": "stdout",
     "output_type": "stream",
     "text": [
      "13:19:55.934 DEBUG org.hibernate.SQL - insert into CUSTOMER (birthDate,creationDate,email,firstname,lastname,photo,status,version,ID) values (?,?,?,?,?,?,?,?,?)\n"
     ]
    },
    {
     "name": "stdout",
     "output_type": "stream",
     "text": [
      "13:19:55.934 DEBUG org.hibernate.SQL - select count(*)>0 from CUSTOMER c1_0 where c1_0.email=?\n"
     ]
    },
    {
     "name": "stdout",
     "output_type": "stream",
     "text": [
      "13:19:55.935 DEBUG org.hibernate.SQL - insert into CUSTOMER (birthDate,creationDate,email,firstname,lastname,photo,status,version,ID) values (?,?,?,?,?,?,?,?,?)\n"
     ]
    },
    {
     "name": "stdout",
     "output_type": "stream",
     "text": [
      "13:19:55.935 DEBUG org.hibernate.SQL - select count(*)>0 from CUSTOMER c1_0 where c1_0.email=?\n"
     ]
    },
    {
     "name": "stdout",
     "output_type": "stream",
     "text": [
      "13:19:55.935 DEBUG org.hibernate.SQL - insert into CUSTOMER (birthDate,creationDate,email,firstname,lastname,photo,status,version,ID) values (?,?,?,?,?,?,?,?,?)\n"
     ]
    },
    {
     "name": "stdout",
     "output_type": "stream",
     "text": [
      "13:19:55.935 DEBUG org.hibernate.SQL - select count(*)>0 from CUSTOMER c1_0 where c1_0.email=?\n"
     ]
    },
    {
     "name": "stdout",
     "output_type": "stream",
     "text": [
      "13:19:55.936 DEBUG org.hibernate.SQL - insert into CUSTOMER (birthDate,creationDate,email,firstname,lastname,photo,status,version,ID) values (?,?,?,?,?,?,?,?,?)\n"
     ]
    },
    {
     "name": "stdout",
     "output_type": "stream",
     "text": [
      "13:19:55.936 DEBUG org.hibernate.SQL - select count(*)>0 from CUSTOMER c1_0 where c1_0.email=?\n"
     ]
    },
    {
     "name": "stdout",
     "output_type": "stream",
     "text": [
      "13:19:55.937 DEBUG org.hibernate.SQL - insert into CUSTOMER (birthDate,creationDate,email,firstname,lastname,photo,status,version,ID) values (?,?,?,?,?,?,?,?,?)\n"
     ]
    },
    {
     "name": "stdout",
     "output_type": "stream",
     "text": [
      "13:19:55.937 DEBUG org.hibernate.SQL - select count(*)>0 from CUSTOMER c1_0 where c1_0.email=?\n"
     ]
    },
    {
     "name": "stdout",
     "output_type": "stream",
     "text": [
      "13:19:55.937 DEBUG org.hibernate.SQL - insert into CUSTOMER (birthDate,creationDate,email,firstname,lastname,photo,status,version,ID) values (?,?,?,?,?,?,?,?,?)\n"
     ]
    },
    {
     "name": "stdout",
     "output_type": "stream",
     "text": [
      "13:19:55.937 DEBUG org.hibernate.SQL - select count(*)>0 from CUSTOMER c1_0 where c1_0.email=?\n"
     ]
    },
    {
     "name": "stdout",
     "output_type": "stream",
     "text": [
      "13:19:55.938 DEBUG org.hibernate.SQL - insert into CUSTOMER (birthDate,creationDate,email,firstname,lastname,photo,status,version,ID) values (?,?,?,?,?,?,?,?,?)\n"
     ]
    },
    {
     "name": "stdout",
     "output_type": "stream",
     "text": [
      "13:19:55.938 DEBUG org.hibernate.SQL - select count(*)>0 from CUSTOMER c1_0 where c1_0.email=?\n"
     ]
    },
    {
     "name": "stdout",
     "output_type": "stream",
     "text": [
      "13:19:55.938 DEBUG org.hibernate.SQL - insert into CUSTOMER (birthDate,creationDate,email,firstname,lastname,photo,status,version,ID) values (?,?,?,?,?,?,?,?,?)\n"
     ]
    },
    {
     "name": "stdout",
     "output_type": "stream",
     "text": [
      "13:19:55.939 DEBUG org.hibernate.SQL - select count(*)>0 from CUSTOMER c1_0 where c1_0.email=?\n"
     ]
    },
    {
     "name": "stdout",
     "output_type": "stream",
     "text": [
      "13:19:55.939 DEBUG org.hibernate.SQL - insert into CUSTOMER (birthDate,creationDate,email,firstname,lastname,photo,status,version,ID) values (?,?,?,?,?,?,?,?,?)\n"
     ]
    },
    {
     "name": "stdout",
     "output_type": "stream",
     "text": [
      "13:19:55.939 DEBUG org.hibernate.SQL - select count(*)>0 from CUSTOMER c1_0 where c1_0.email=?\n"
     ]
    },
    {
     "name": "stdout",
     "output_type": "stream",
     "text": [
      "13:19:55.940 DEBUG org.hibernate.SQL - insert into CUSTOMER (birthDate,creationDate,email,firstname,lastname,photo,status,version,ID) values (?,?,?,?,?,?,?,?,?)\n"
     ]
    },
    {
     "name": "stdout",
     "output_type": "stream",
     "text": [
      "13:19:55.940 DEBUG org.hibernate.SQL - select count(*)>0 from CUSTOMER c1_0 where c1_0.email=?\n"
     ]
    },
    {
     "name": "stdout",
     "output_type": "stream",
     "text": [
      "13:19:55.940 DEBUG org.hibernate.SQL - insert into CUSTOMER (birthDate,creationDate,email,firstname,lastname,photo,status,version,ID) values (?,?,?,?,?,?,?,?,?)\n"
     ]
    },
    {
     "name": "stdout",
     "output_type": "stream",
     "text": [
      "13:19:55.940 DEBUG org.hibernate.SQL - select count(*)>0 from CUSTOMER c1_0 where c1_0.email=?\n"
     ]
    },
    {
     "name": "stdout",
     "output_type": "stream",
     "text": [
      "13:19:55.941 DEBUG org.hibernate.SQL - insert into CUSTOMER (birthDate,creationDate,email,firstname,lastname,photo,status,version,ID) values (?,?,?,?,?,?,?,?,?)\n"
     ]
    },
    {
     "name": "stdout",
     "output_type": "stream",
     "text": [
      "13:19:55.941 DEBUG org.hibernate.SQL - select count(*)>0 from CUSTOMER c1_0 where c1_0.email=?\n"
     ]
    },
    {
     "name": "stdout",
     "output_type": "stream",
     "text": [
      "13:19:55.941 DEBUG org.hibernate.SQL - insert into CUSTOMER (birthDate,creationDate,email,firstname,lastname,photo,status,version,ID) values (?,?,?,?,?,?,?,?,?)\n"
     ]
    },
    {
     "name": "stdout",
     "output_type": "stream",
     "text": [
      "13:19:55.941 DEBUG org.hibernate.SQL - select count(*)>0 from CUSTOMER c1_0 where c1_0.email=?\n"
     ]
    },
    {
     "name": "stdout",
     "output_type": "stream",
     "text": [
      "13:19:55.942 DEBUG org.hibernate.SQL - insert into CUSTOMER (birthDate,creationDate,email,firstname,lastname,photo,status,version,ID) values (?,?,?,?,?,?,?,?,?)\n"
     ]
    },
    {
     "name": "stdout",
     "output_type": "stream",
     "text": [
      "13:19:55.942 DEBUG org.hibernate.SQL - select count(*)>0 from CUSTOMER c1_0 where c1_0.email=?\n"
     ]
    },
    {
     "name": "stdout",
     "output_type": "stream",
     "text": [
      "13:19:55.942 DEBUG org.hibernate.SQL - insert into CUSTOMER (birthDate,creationDate,email,firstname,lastname,photo,status,version,ID) values (?,?,?,?,?,?,?,?,?)\n"
     ]
    },
    {
     "name": "stdout",
     "output_type": "stream",
     "text": [
      "13:19:55.943 DEBUG org.hibernate.SQL - select count(*)>0 from CUSTOMER c1_0 where c1_0.email=?\n"
     ]
    },
    {
     "name": "stdout",
     "output_type": "stream",
     "text": [
      "13:19:55.943 DEBUG org.hibernate.SQL - insert into CUSTOMER (birthDate,creationDate,email,firstname,lastname,photo,status,version,ID) values (?,?,?,?,?,?,?,?,?)\n"
     ]
    },
    {
     "name": "stdout",
     "output_type": "stream",
     "text": [
      "13:19:55.943 DEBUG org.hibernate.SQL - select count(*)>0 from CUSTOMER c1_0 where c1_0.email=?\n"
     ]
    },
    {
     "name": "stdout",
     "output_type": "stream",
     "text": [
      "13:19:55.944 DEBUG org.hibernate.SQL - insert into CUSTOMER (birthDate,creationDate,email,firstname,lastname,photo,status,version,ID) values (?,?,?,?,?,?,?,?,?)\n"
     ]
    },
    {
     "name": "stdout",
     "output_type": "stream",
     "text": [
      "13:19:55.944 DEBUG org.hibernate.SQL - select count(*)>0 from CUSTOMER c1_0 where c1_0.email=?\n"
     ]
    },
    {
     "name": "stdout",
     "output_type": "stream",
     "text": [
      "13:19:55.944 DEBUG org.hibernate.SQL - insert into CUSTOMER (birthDate,creationDate,email,firstname,lastname,photo,status,version,ID) values (?,?,?,?,?,?,?,?,?)\n"
     ]
    },
    {
     "name": "stdout",
     "output_type": "stream",
     "text": [
      "13:19:55.944 DEBUG org.hibernate.SQL - select count(*)>0 from CUSTOMER c1_0 where c1_0.email=?\n"
     ]
    },
    {
     "name": "stdout",
     "output_type": "stream",
     "text": [
      "13:19:55.945 DEBUG org.hibernate.SQL - insert into CUSTOMER (birthDate,creationDate,email,firstname,lastname,photo,status,version,ID) values (?,?,?,?,?,?,?,?,?)\n"
     ]
    },
    {
     "name": "stdout",
     "output_type": "stream",
     "text": [
      "13:19:55.945 DEBUG org.hibernate.SQL - select count(*)>0 from CUSTOMER c1_0 where c1_0.email=?\n"
     ]
    },
    {
     "name": "stdout",
     "output_type": "stream",
     "text": [
      "13:19:55.945 DEBUG org.hibernate.SQL - insert into CUSTOMER (birthDate,creationDate,email,firstname,lastname,photo,status,version,ID) values (?,?,?,?,?,?,?,?,?)\n"
     ]
    },
    {
     "name": "stdout",
     "output_type": "stream",
     "text": [
      "13:19:55.945 DEBUG org.hibernate.SQL - select count(*)>0 from CUSTOMER c1_0 where c1_0.email=?\n"
     ]
    },
    {
     "name": "stdout",
     "output_type": "stream",
     "text": [
      "13:19:55.946 DEBUG org.hibernate.SQL - insert into CUSTOMER (birthDate,creationDate,email,firstname,lastname,photo,status,version,ID) values (?,?,?,?,?,?,?,?,?)\n"
     ]
    },
    {
     "name": "stdout",
     "output_type": "stream",
     "text": [
      "13:19:55.946 DEBUG org.hibernate.SQL - select count(*)>0 from CUSTOMER c1_0 where c1_0.email=?\n"
     ]
    },
    {
     "name": "stdout",
     "output_type": "stream",
     "text": [
      "13:19:55.947 DEBUG org.hibernate.SQL - insert into CUSTOMER (birthDate,creationDate,email,firstname,lastname,photo,status,version,ID) values (?,?,?,?,?,?,?,?,?)\n"
     ]
    },
    {
     "name": "stdout",
     "output_type": "stream",
     "text": [
      "13:19:55.947 DEBUG org.hibernate.SQL - select count(*)>0 from CUSTOMER c1_0 where c1_0.email=?\n"
     ]
    },
    {
     "name": "stdout",
     "output_type": "stream",
     "text": [
      "13:19:55.947 DEBUG org.hibernate.SQL - insert into CUSTOMER (birthDate,creationDate,email,firstname,lastname,photo,status,version,ID) values (?,?,?,?,?,?,?,?,?)\n"
     ]
    },
    {
     "name": "stdout",
     "output_type": "stream",
     "text": [
      "13:19:55.947 DEBUG org.hibernate.SQL - select count(*)>0 from CUSTOMER c1_0 where c1_0.email=?\n"
     ]
    },
    {
     "name": "stdout",
     "output_type": "stream",
     "text": [
      "13:19:55.948 DEBUG org.hibernate.SQL - insert into CUSTOMER (birthDate,creationDate,email,firstname,lastname,photo,status,version,ID) values (?,?,?,?,?,?,?,?,?)\n"
     ]
    },
    {
     "name": "stdout",
     "output_type": "stream",
     "text": [
      "13:19:55.948 DEBUG org.hibernate.SQL - select count(*)>0 from CUSTOMER c1_0 where c1_0.email=?\n"
     ]
    },
    {
     "name": "stdout",
     "output_type": "stream",
     "text": [
      "13:19:55.948 DEBUG org.hibernate.SQL - insert into CUSTOMER (birthDate,creationDate,email,firstname,lastname,photo,status,version,ID) values (?,?,?,?,?,?,?,?,?)\n"
     ]
    },
    {
     "name": "stdout",
     "output_type": "stream",
     "text": [
      "13:19:55.949 DEBUG org.hibernate.SQL - select count(*)>0 from CUSTOMER c1_0 where c1_0.email=?\n"
     ]
    },
    {
     "name": "stdout",
     "output_type": "stream",
     "text": [
      "13:19:55.949 DEBUG org.hibernate.SQL - insert into CUSTOMER (birthDate,creationDate,email,firstname,lastname,photo,status,version,ID) values (?,?,?,?,?,?,?,?,?)\n"
     ]
    },
    {
     "name": "stdout",
     "output_type": "stream",
     "text": [
      "13:19:55.949 DEBUG org.hibernate.SQL - select count(*)>0 from CUSTOMER c1_0 where c1_0.email=?\n"
     ]
    },
    {
     "name": "stdout",
     "output_type": "stream",
     "text": [
      "13:19:55.950 DEBUG org.hibernate.SQL - insert into CUSTOMER (birthDate,creationDate,email,firstname,lastname,photo,status,version,ID) values (?,?,?,?,?,?,?,?,?)\n"
     ]
    },
    {
     "name": "stdout",
     "output_type": "stream",
     "text": [
      "13:19:55.950 DEBUG org.hibernate.SQL - select count(*)>0 from CUSTOMER c1_0 where c1_0.email=?\n"
     ]
    },
    {
     "name": "stdout",
     "output_type": "stream",
     "text": [
      "13:19:55.950 DEBUG org.hibernate.SQL - insert into CUSTOMER (birthDate,creationDate,email,firstname,lastname,photo,status,version,ID) values (?,?,?,?,?,?,?,?,?)\n"
     ]
    },
    {
     "name": "stdout",
     "output_type": "stream",
     "text": [
      "13:19:55.950 DEBUG org.hibernate.SQL - select count(*)>0 from CUSTOMER c1_0 where c1_0.email=?\n"
     ]
    },
    {
     "name": "stdout",
     "output_type": "stream",
     "text": [
      "13:19:55.951 DEBUG org.hibernate.SQL - insert into CUSTOMER (birthDate,creationDate,email,firstname,lastname,photo,status,version,ID) values (?,?,?,?,?,?,?,?,?)\n"
     ]
    },
    {
     "name": "stdout",
     "output_type": "stream",
     "text": [
      "13:19:55.951 DEBUG org.hibernate.SQL - select count(*)>0 from CUSTOMER c1_0 where c1_0.email=?\n"
     ]
    },
    {
     "name": "stdout",
     "output_type": "stream",
     "text": [
      "13:19:55.951 DEBUG org.hibernate.SQL - insert into CUSTOMER (birthDate,creationDate,email,firstname,lastname,photo,status,version,ID) values (?,?,?,?,?,?,?,?,?)\n"
     ]
    },
    {
     "name": "stdout",
     "output_type": "stream",
     "text": [
      "13:19:55.952 DEBUG org.hibernate.SQL - select count(*)>0 from CUSTOMER c1_0 where c1_0.email=?\n"
     ]
    },
    {
     "name": "stdout",
     "output_type": "stream",
     "text": [
      "13:19:55.952 DEBUG org.hibernate.SQL - insert into CUSTOMER (birthDate,creationDate,email,firstname,lastname,photo,status,version,ID) values (?,?,?,?,?,?,?,?,?)\n"
     ]
    },
    {
     "name": "stdout",
     "output_type": "stream",
     "text": [
      "13:19:55.952 DEBUG org.hibernate.SQL - select count(*)>0 from CUSTOMER c1_0 where c1_0.email=?\n"
     ]
    },
    {
     "name": "stdout",
     "output_type": "stream",
     "text": [
      "13:19:55.952 DEBUG org.hibernate.SQL - select nextval('CUSTOMER_SEQ')\n"
     ]
    },
    {
     "name": "stdout",
     "output_type": "stream",
     "text": [
      "13:19:55.953 DEBUG org.hibernate.SQL - insert into CUSTOMER (birthDate,creationDate,email,firstname,lastname,photo,status,version,ID) values (?,?,?,?,?,?,?,?,?)\n"
     ]
    },
    {
     "name": "stdout",
     "output_type": "stream",
     "text": [
      "13:19:55.953 DEBUG org.hibernate.SQL - select count(*)>0 from CUSTOMER c1_0 where c1_0.email=?\n"
     ]
    },
    {
     "name": "stdout",
     "output_type": "stream",
     "text": [
      "13:19:55.953 DEBUG org.hibernate.SQL - insert into CUSTOMER (birthDate,creationDate,email,firstname,lastname,photo,status,version,ID) values (?,?,?,?,?,?,?,?,?)\n"
     ]
    },
    {
     "name": "stdout",
     "output_type": "stream",
     "text": [
      "13:19:55.954 DEBUG org.hibernate.SQL - select count(*)>0 from CUSTOMER c1_0 where c1_0.email=?\n"
     ]
    },
    {
     "name": "stdout",
     "output_type": "stream",
     "text": [
      "13:19:55.954 DEBUG org.hibernate.SQL - insert into CUSTOMER (birthDate,creationDate,email,firstname,lastname,photo,status,version,ID) values (?,?,?,?,?,?,?,?,?)\n"
     ]
    },
    {
     "name": "stdout",
     "output_type": "stream",
     "text": [
      "13:19:55.954 DEBUG org.hibernate.SQL - select count(*)>0 from CUSTOMER c1_0 where c1_0.email=?\n"
     ]
    },
    {
     "name": "stdout",
     "output_type": "stream",
     "text": [
      "13:19:55.955 DEBUG org.hibernate.SQL - insert into CUSTOMER (birthDate,creationDate,email,firstname,lastname,photo,status,version,ID) values (?,?,?,?,?,?,?,?,?)\n"
     ]
    },
    {
     "name": "stdout",
     "output_type": "stream",
     "text": [
      "13:19:55.955 DEBUG org.hibernate.SQL - select count(*)>0 from CUSTOMER c1_0 where c1_0.email=?\n"
     ]
    },
    {
     "name": "stdout",
     "output_type": "stream",
     "text": [
      "13:19:55.955 DEBUG org.hibernate.SQL - insert into CUSTOMER (birthDate,creationDate,email,firstname,lastname,photo,status,version,ID) values (?,?,?,?,?,?,?,?,?)\n"
     ]
    },
    {
     "name": "stdout",
     "output_type": "stream",
     "text": [
      "13:19:55.955 DEBUG org.hibernate.SQL - select count(*)>0 from CUSTOMER c1_0 where c1_0.email=?\n"
     ]
    },
    {
     "name": "stdout",
     "output_type": "stream",
     "text": [
      "13:19:55.956 DEBUG org.hibernate.SQL - insert into CUSTOMER (birthDate,creationDate,email,firstname,lastname,photo,status,version,ID) values (?,?,?,?,?,?,?,?,?)\n"
     ]
    },
    {
     "name": "stdout",
     "output_type": "stream",
     "text": [
      "13:19:55.956 DEBUG org.hibernate.SQL - select count(*)>0 from CUSTOMER c1_0 where c1_0.email=?\n"
     ]
    },
    {
     "name": "stdout",
     "output_type": "stream",
     "text": [
      "13:19:55.957 DEBUG org.hibernate.SQL - insert into CUSTOMER (birthDate,creationDate,email,firstname,lastname,photo,status,version,ID) values (?,?,?,?,?,?,?,?,?)\n"
     ]
    },
    {
     "name": "stdout",
     "output_type": "stream",
     "text": [
      "13:19:55.957 DEBUG org.hibernate.SQL - select count(*)>0 from CUSTOMER c1_0 where c1_0.email=?\n"
     ]
    },
    {
     "name": "stdout",
     "output_type": "stream",
     "text": [
      "13:19:55.957 DEBUG org.hibernate.SQL - insert into CUSTOMER (birthDate,creationDate,email,firstname,lastname,photo,status,version,ID) values (?,?,?,?,?,?,?,?,?)\n"
     ]
    },
    {
     "name": "stdout",
     "output_type": "stream",
     "text": [
      "13:19:55.958 DEBUG org.hibernate.SQL - select count(*)>0 from CUSTOMER c1_0 where c1_0.email=?\n"
     ]
    },
    {
     "name": "stdout",
     "output_type": "stream",
     "text": [
      "13:19:55.958 DEBUG org.hibernate.SQL - insert into CUSTOMER (birthDate,creationDate,email,firstname,lastname,photo,status,version,ID) values (?,?,?,?,?,?,?,?,?)\n"
     ]
    },
    {
     "name": "stdout",
     "output_type": "stream",
     "text": [
      "13:19:55.958 DEBUG org.hibernate.SQL - select count(*)>0 from CUSTOMER c1_0 where c1_0.email=?\n"
     ]
    },
    {
     "name": "stdout",
     "output_type": "stream",
     "text": [
      "13:19:55.959 DEBUG org.hibernate.SQL - insert into CUSTOMER (birthDate,creationDate,email,firstname,lastname,photo,status,version,ID) values (?,?,?,?,?,?,?,?,?)\n"
     ]
    },
    {
     "name": "stdout",
     "output_type": "stream",
     "text": [
      "13:19:55.959 DEBUG org.hibernate.SQL - select count(*)>0 from CUSTOMER c1_0 where c1_0.email=?\n"
     ]
    },
    {
     "name": "stdout",
     "output_type": "stream",
     "text": [
      "13:19:55.959 DEBUG org.hibernate.SQL - insert into CUSTOMER (birthDate,creationDate,email,firstname,lastname,photo,status,version,ID) values (?,?,?,?,?,?,?,?,?)\n"
     ]
    },
    {
     "name": "stdout",
     "output_type": "stream",
     "text": [
      "13:19:55.959 DEBUG org.hibernate.SQL - select count(*)>0 from CUSTOMER c1_0 where c1_0.email=?\n"
     ]
    },
    {
     "name": "stdout",
     "output_type": "stream",
     "text": [
      "13:19:55.960 DEBUG org.hibernate.SQL - insert into CUSTOMER (birthDate,creationDate,email,firstname,lastname,photo,status,version,ID) values (?,?,?,?,?,?,?,?,?)\n"
     ]
    },
    {
     "name": "stdout",
     "output_type": "stream",
     "text": [
      "13:19:55.960 DEBUG org.hibernate.SQL - select count(*)>0 from CUSTOMER c1_0 where c1_0.email=?\n"
     ]
    },
    {
     "name": "stdout",
     "output_type": "stream",
     "text": [
      "13:19:55.961 DEBUG org.hibernate.SQL - insert into CUSTOMER (birthDate,creationDate,email,firstname,lastname,photo,status,version,ID) values (?,?,?,?,?,?,?,?,?)\n"
     ]
    },
    {
     "name": "stdout",
     "output_type": "stream",
     "text": [
      "13:19:55.961 DEBUG org.hibernate.SQL - select count(*)>0 from CUSTOMER c1_0 where c1_0.email=?\n"
     ]
    },
    {
     "name": "stdout",
     "output_type": "stream",
     "text": [
      "13:19:55.961 DEBUG org.hibernate.SQL - insert into CUSTOMER (birthDate,creationDate,email,firstname,lastname,photo,status,version,ID) values (?,?,?,?,?,?,?,?,?)\n"
     ]
    },
    {
     "name": "stdout",
     "output_type": "stream",
     "text": [
      "13:19:55.961 DEBUG org.hibernate.SQL - select count(*)>0 from CUSTOMER c1_0 where c1_0.email=?\n"
     ]
    },
    {
     "name": "stdout",
     "output_type": "stream",
     "text": [
      "13:19:55.962 DEBUG org.hibernate.SQL - insert into CUSTOMER (birthDate,creationDate,email,firstname,lastname,photo,status,version,ID) values (?,?,?,?,?,?,?,?,?)\n"
     ]
    },
    {
     "name": "stdout",
     "output_type": "stream",
     "text": [
      "13:19:55.962 DEBUG org.hibernate.SQL - select count(*)>0 from CUSTOMER c1_0 where c1_0.email=?\n"
     ]
    },
    {
     "name": "stdout",
     "output_type": "stream",
     "text": [
      "13:19:55.963 DEBUG org.hibernate.SQL - insert into CUSTOMER (birthDate,creationDate,email,firstname,lastname,photo,status,version,ID) values (?,?,?,?,?,?,?,?,?)\n"
     ]
    },
    {
     "name": "stdout",
     "output_type": "stream",
     "text": [
      "13:19:55.963 DEBUG org.hibernate.SQL - select count(*)>0 from CUSTOMER c1_0 where c1_0.email=?\n"
     ]
    },
    {
     "name": "stdout",
     "output_type": "stream",
     "text": [
      "13:19:55.963 DEBUG org.hibernate.SQL - insert into CUSTOMER (birthDate,creationDate,email,firstname,lastname,photo,status,version,ID) values (?,?,?,?,?,?,?,?,?)\n"
     ]
    },
    {
     "name": "stdout",
     "output_type": "stream",
     "text": [
      "13:19:55.963 DEBUG org.hibernate.SQL - select count(*)>0 from CUSTOMER c1_0 where c1_0.email=?\n"
     ]
    },
    {
     "name": "stdout",
     "output_type": "stream",
     "text": [
      "13:19:55.964 DEBUG org.hibernate.SQL - insert into CUSTOMER (birthDate,creationDate,email,firstname,lastname,photo,status,version,ID) values (?,?,?,?,?,?,?,?,?)\n"
     ]
    },
    {
     "name": "stdout",
     "output_type": "stream",
     "text": [
      "13:19:55.964 DEBUG org.hibernate.SQL - select count(*)>0 from CUSTOMER c1_0 where c1_0.email=?\n"
     ]
    },
    {
     "name": "stdout",
     "output_type": "stream",
     "text": [
      "13:19:55.965 DEBUG org.hibernate.SQL - insert into CUSTOMER (birthDate,creationDate,email,firstname,lastname,photo,status,version,ID) values (?,?,?,?,?,?,?,?,?)\n"
     ]
    },
    {
     "name": "stdout",
     "output_type": "stream",
     "text": [
      "13:19:55.965 DEBUG org.hibernate.SQL - select count(*)>0 from CUSTOMER c1_0 where c1_0.email=?\n"
     ]
    },
    {
     "name": "stdout",
     "output_type": "stream",
     "text": [
      "13:19:55.965 DEBUG org.hibernate.SQL - insert into CUSTOMER (birthDate,creationDate,email,firstname,lastname,photo,status,version,ID) values (?,?,?,?,?,?,?,?,?)\n"
     ]
    },
    {
     "name": "stdout",
     "output_type": "stream",
     "text": [
      "13:19:55.966 DEBUG org.hibernate.SQL - select count(*)>0 from CUSTOMER c1_0 where c1_0.email=?\n"
     ]
    },
    {
     "name": "stdout",
     "output_type": "stream",
     "text": [
      "13:19:55.967 DEBUG org.hibernate.SQL - insert into CUSTOMER (birthDate,creationDate,email,firstname,lastname,photo,status,version,ID) values (?,?,?,?,?,?,?,?,?)\n"
     ]
    },
    {
     "name": "stdout",
     "output_type": "stream",
     "text": [
      "13:19:55.967 DEBUG org.hibernate.SQL - select count(*)>0 from CUSTOMER c1_0 where c1_0.email=?\n"
     ]
    },
    {
     "name": "stdout",
     "output_type": "stream",
     "text": [
      "13:19:55.968 DEBUG org.hibernate.SQL - insert into CUSTOMER (birthDate,creationDate,email,firstname,lastname,photo,status,version,ID) values (?,?,?,?,?,?,?,?,?)\n"
     ]
    },
    {
     "name": "stdout",
     "output_type": "stream",
     "text": [
      "13:19:55.969 DEBUG org.hibernate.SQL - select count(*)>0 from CUSTOMER c1_0 where c1_0.email=?\n"
     ]
    },
    {
     "name": "stdout",
     "output_type": "stream",
     "text": [
      "13:19:55.970 DEBUG org.hibernate.SQL - insert into CUSTOMER (birthDate,creationDate,email,firstname,lastname,photo,status,version,ID) values (?,?,?,?,?,?,?,?,?)\n"
     ]
    },
    {
     "name": "stdout",
     "output_type": "stream",
     "text": [
      "13:19:55.970 DEBUG org.hibernate.SQL - select count(*)>0 from CUSTOMER c1_0 where c1_0.email=?\n"
     ]
    },
    {
     "name": "stdout",
     "output_type": "stream",
     "text": [
      "13:19:55.971 DEBUG org.hibernate.SQL - insert into CUSTOMER (birthDate,creationDate,email,firstname,lastname,photo,status,version,ID) values (?,?,?,?,?,?,?,?,?)\n"
     ]
    },
    {
     "name": "stdout",
     "output_type": "stream",
     "text": [
      "13:19:55.972 DEBUG org.hibernate.SQL - select count(*)>0 from CUSTOMER c1_0 where c1_0.email=?\n"
     ]
    },
    {
     "name": "stdout",
     "output_type": "stream",
     "text": [
      "13:19:55.973 DEBUG org.hibernate.SQL - insert into CUSTOMER (birthDate,creationDate,email,firstname,lastname,photo,status,version,ID) values (?,?,?,?,?,?,?,?,?)\n"
     ]
    },
    {
     "name": "stdout",
     "output_type": "stream",
     "text": [
      "13:19:55.973 DEBUG org.hibernate.SQL - select count(*)>0 from CUSTOMER c1_0 where c1_0.email=?\n"
     ]
    },
    {
     "name": "stdout",
     "output_type": "stream",
     "text": [
      "13:19:55.974 DEBUG org.hibernate.SQL - insert into CUSTOMER (birthDate,creationDate,email,firstname,lastname,photo,status,version,ID) values (?,?,?,?,?,?,?,?,?)\n"
     ]
    },
    {
     "name": "stdout",
     "output_type": "stream",
     "text": [
      "13:19:55.974 DEBUG org.hibernate.SQL - select count(*)>0 from CUSTOMER c1_0 where c1_0.email=?\n"
     ]
    },
    {
     "name": "stdout",
     "output_type": "stream",
     "text": [
      "13:19:55.974 DEBUG org.hibernate.SQL - insert into CUSTOMER (birthDate,creationDate,email,firstname,lastname,photo,status,version,ID) values (?,?,?,?,?,?,?,?,?)\n"
     ]
    },
    {
     "name": "stdout",
     "output_type": "stream",
     "text": [
      "13:19:55.975 DEBUG org.hibernate.SQL - select count(*)>0 from CUSTOMER c1_0 where c1_0.email=?\n"
     ]
    },
    {
     "name": "stdout",
     "output_type": "stream",
     "text": [
      "13:19:55.975 DEBUG org.hibernate.SQL - insert into CUSTOMER (birthDate,creationDate,email,firstname,lastname,photo,status,version,ID) values (?,?,?,?,?,?,?,?,?)\n"
     ]
    },
    {
     "name": "stdout",
     "output_type": "stream",
     "text": [
      "13:19:55.975 DEBUG org.hibernate.SQL - select count(*)>0 from CUSTOMER c1_0 where c1_0.email=?\n"
     ]
    },
    {
     "name": "stdout",
     "output_type": "stream",
     "text": [
      "13:19:55.976 DEBUG org.hibernate.SQL - insert into CUSTOMER (birthDate,creationDate,email,firstname,lastname,photo,status,version,ID) values (?,?,?,?,?,?,?,?,?)\n"
     ]
    },
    {
     "name": "stdout",
     "output_type": "stream",
     "text": [
      "13:19:55.976 DEBUG org.hibernate.SQL - select count(*)>0 from CUSTOMER c1_0 where c1_0.email=?\n"
     ]
    },
    {
     "name": "stdout",
     "output_type": "stream",
     "text": [
      "13:19:55.977 DEBUG org.hibernate.SQL - insert into CUSTOMER (birthDate,creationDate,email,firstname,lastname,photo,status,version,ID) values (?,?,?,?,?,?,?,?,?)\n"
     ]
    },
    {
     "name": "stdout",
     "output_type": "stream",
     "text": [
      "13:19:55.977 DEBUG org.hibernate.SQL - select count(*)>0 from CUSTOMER c1_0 where c1_0.email=?\n"
     ]
    },
    {
     "name": "stdout",
     "output_type": "stream",
     "text": [
      "13:19:55.978 DEBUG org.hibernate.SQL - insert into CUSTOMER (birthDate,creationDate,email,firstname,lastname,photo,status,version,ID) values (?,?,?,?,?,?,?,?,?)\n"
     ]
    },
    {
     "name": "stdout",
     "output_type": "stream",
     "text": [
      "13:19:55.978 DEBUG org.hibernate.SQL - select count(*)>0 from CUSTOMER c1_0 where c1_0.email=?\n"
     ]
    },
    {
     "name": "stdout",
     "output_type": "stream",
     "text": [
      "13:19:55.978 DEBUG org.hibernate.SQL - insert into CUSTOMER (birthDate,creationDate,email,firstname,lastname,photo,status,version,ID) values (?,?,?,?,?,?,?,?,?)\n"
     ]
    },
    {
     "name": "stdout",
     "output_type": "stream",
     "text": [
      "13:19:55.978 DEBUG org.hibernate.SQL - select count(*)>0 from CUSTOMER c1_0 where c1_0.email=?\n"
     ]
    },
    {
     "name": "stdout",
     "output_type": "stream",
     "text": [
      "13:19:55.979 DEBUG org.hibernate.SQL - insert into CUSTOMER (birthDate,creationDate,email,firstname,lastname,photo,status,version,ID) values (?,?,?,?,?,?,?,?,?)\n"
     ]
    },
    {
     "name": "stdout",
     "output_type": "stream",
     "text": [
      "13:19:55.979 DEBUG org.hibernate.SQL - select count(*)>0 from CUSTOMER c1_0 where c1_0.email=?\n"
     ]
    },
    {
     "name": "stdout",
     "output_type": "stream",
     "text": [
      "13:19:55.980 DEBUG org.hibernate.SQL - insert into CUSTOMER (birthDate,creationDate,email,firstname,lastname,photo,status,version,ID) values (?,?,?,?,?,?,?,?,?)\n"
     ]
    },
    {
     "name": "stdout",
     "output_type": "stream",
     "text": [
      "13:19:55.980 DEBUG org.hibernate.SQL - select count(*)>0 from CUSTOMER c1_0 where c1_0.email=?\n"
     ]
    },
    {
     "name": "stdout",
     "output_type": "stream",
     "text": [
      "13:19:55.981 DEBUG org.hibernate.SQL - insert into CUSTOMER (birthDate,creationDate,email,firstname,lastname,photo,status,version,ID) values (?,?,?,?,?,?,?,?,?)\n"
     ]
    },
    {
     "name": "stdout",
     "output_type": "stream",
     "text": [
      "13:19:55.981 DEBUG org.hibernate.SQL - select count(*)>0 from CUSTOMER c1_0 where c1_0.email=?\n"
     ]
    },
    {
     "name": "stdout",
     "output_type": "stream",
     "text": [
      "13:19:55.981 DEBUG org.hibernate.SQL - insert into CUSTOMER (birthDate,creationDate,email,firstname,lastname,photo,status,version,ID) values (?,?,?,?,?,?,?,?,?)\n"
     ]
    },
    {
     "name": "stdout",
     "output_type": "stream",
     "text": [
      "13:19:55.982 DEBUG org.hibernate.SQL - select count(*)>0 from CUSTOMER c1_0 where c1_0.email=?\n"
     ]
    },
    {
     "name": "stdout",
     "output_type": "stream",
     "text": [
      "13:19:55.982 DEBUG org.hibernate.SQL - insert into CUSTOMER (birthDate,creationDate,email,firstname,lastname,photo,status,version,ID) values (?,?,?,?,?,?,?,?,?)\n"
     ]
    },
    {
     "name": "stdout",
     "output_type": "stream",
     "text": [
      "13:19:55.982 DEBUG org.hibernate.SQL - select count(*)>0 from CUSTOMER c1_0 where c1_0.email=?\n"
     ]
    },
    {
     "name": "stdout",
     "output_type": "stream",
     "text": [
      "13:19:55.983 DEBUG org.hibernate.SQL - insert into CUSTOMER (birthDate,creationDate,email,firstname,lastname,photo,status,version,ID) values (?,?,?,?,?,?,?,?,?)\n"
     ]
    },
    {
     "name": "stdout",
     "output_type": "stream",
     "text": [
      "13:19:55.983 DEBUG org.hibernate.SQL - select count(*)>0 from CUSTOMER c1_0 where c1_0.email=?\n"
     ]
    },
    {
     "name": "stdout",
     "output_type": "stream",
     "text": [
      "13:19:55.984 DEBUG org.hibernate.SQL - insert into CUSTOMER (birthDate,creationDate,email,firstname,lastname,photo,status,version,ID) values (?,?,?,?,?,?,?,?,?)\n"
     ]
    },
    {
     "name": "stdout",
     "output_type": "stream",
     "text": [
      "13:19:55.984 DEBUG org.hibernate.SQL - select count(*)>0 from CUSTOMER c1_0 where c1_0.email=?\n"
     ]
    },
    {
     "name": "stdout",
     "output_type": "stream",
     "text": [
      "13:19:55.984 DEBUG org.hibernate.SQL - insert into CUSTOMER (birthDate,creationDate,email,firstname,lastname,photo,status,version,ID) values (?,?,?,?,?,?,?,?,?)\n"
     ]
    },
    {
     "name": "stdout",
     "output_type": "stream",
     "text": [
      "13:19:55.985 DEBUG org.hibernate.SQL - select count(*)>0 from CUSTOMER c1_0 where c1_0.email=?\n"
     ]
    },
    {
     "name": "stdout",
     "output_type": "stream",
     "text": [
      "13:19:55.985 DEBUG org.hibernate.SQL - insert into CUSTOMER (birthDate,creationDate,email,firstname,lastname,photo,status,version,ID) values (?,?,?,?,?,?,?,?,?)\n"
     ]
    },
    {
     "name": "stdout",
     "output_type": "stream",
     "text": [
      "13:19:55.985 DEBUG org.hibernate.SQL - select count(*)>0 from CUSTOMER c1_0 where c1_0.email=?\n"
     ]
    },
    {
     "name": "stdout",
     "output_type": "stream",
     "text": [
      "13:19:55.986 DEBUG org.hibernate.SQL - insert into CUSTOMER (birthDate,creationDate,email,firstname,lastname,photo,status,version,ID) values (?,?,?,?,?,?,?,?,?)\n"
     ]
    },
    {
     "name": "stdout",
     "output_type": "stream",
     "text": [
      "13:19:55.986 DEBUG org.hibernate.SQL - select count(*)>0 from CUSTOMER c1_0 where c1_0.email=?\n"
     ]
    },
    {
     "name": "stdout",
     "output_type": "stream",
     "text": [
      "13:19:55.986 DEBUG org.hibernate.SQL - insert into CUSTOMER (birthDate,creationDate,email,firstname,lastname,photo,status,version,ID) values (?,?,?,?,?,?,?,?,?)\n"
     ]
    },
    {
     "name": "stdout",
     "output_type": "stream",
     "text": [
      "13:19:55.987 DEBUG org.hibernate.SQL - select count(*)>0 from CUSTOMER c1_0 where c1_0.email=?\n"
     ]
    },
    {
     "name": "stdout",
     "output_type": "stream",
     "text": [
      "13:19:55.987 DEBUG org.hibernate.SQL - insert into CUSTOMER (birthDate,creationDate,email,firstname,lastname,photo,status,version,ID) values (?,?,?,?,?,?,?,?,?)\n"
     ]
    },
    {
     "name": "stdout",
     "output_type": "stream",
     "text": [
      "13:19:55.987 DEBUG org.hibernate.SQL - select count(*)>0 from CUSTOMER c1_0 where c1_0.email=?\n"
     ]
    },
    {
     "name": "stdout",
     "output_type": "stream",
     "text": [
      "13:19:55.988 DEBUG org.hibernate.SQL - insert into CUSTOMER (birthDate,creationDate,email,firstname,lastname,photo,status,version,ID) values (?,?,?,?,?,?,?,?,?)\n"
     ]
    },
    {
     "name": "stdout",
     "output_type": "stream",
     "text": [
      "13:19:55.988 DEBUG org.hibernate.SQL - select count(*)>0 from CUSTOMER c1_0 where c1_0.email=?\n"
     ]
    },
    {
     "name": "stdout",
     "output_type": "stream",
     "text": [
      "13:19:55.989 DEBUG org.hibernate.SQL - insert into CUSTOMER (birthDate,creationDate,email,firstname,lastname,photo,status,version,ID) values (?,?,?,?,?,?,?,?,?)\n"
     ]
    },
    {
     "name": "stdout",
     "output_type": "stream",
     "text": [
      "13:19:55.989 DEBUG org.hibernate.SQL - select count(*)>0 from CUSTOMER c1_0 where c1_0.email=?\n"
     ]
    },
    {
     "name": "stdout",
     "output_type": "stream",
     "text": [
      "13:19:55.989 DEBUG org.hibernate.SQL - insert into CUSTOMER (birthDate,creationDate,email,firstname,lastname,photo,status,version,ID) values (?,?,?,?,?,?,?,?,?)\n"
     ]
    },
    {
     "name": "stdout",
     "output_type": "stream",
     "text": [
      "13:19:55.990 DEBUG org.hibernate.SQL - select count(*)>0 from CUSTOMER c1_0 where c1_0.email=?\n"
     ]
    },
    {
     "name": "stdout",
     "output_type": "stream",
     "text": [
      "13:19:55.990 DEBUG org.hibernate.SQL - insert into CUSTOMER (birthDate,creationDate,email,firstname,lastname,photo,status,version,ID) values (?,?,?,?,?,?,?,?,?)\n"
     ]
    },
    {
     "name": "stdout",
     "output_type": "stream",
     "text": [
      "13:19:55.990 DEBUG org.hibernate.SQL - select count(*)>0 from CUSTOMER c1_0 where c1_0.email=?\n"
     ]
    },
    {
     "name": "stdout",
     "output_type": "stream",
     "text": [
      "13:19:55.991 DEBUG org.hibernate.SQL - insert into CUSTOMER (birthDate,creationDate,email,firstname,lastname,photo,status,version,ID) values (?,?,?,?,?,?,?,?,?)\n"
     ]
    },
    {
     "name": "stdout",
     "output_type": "stream",
     "text": [
      "13:19:55.991 DEBUG org.hibernate.SQL - select count(*)>0 from CUSTOMER c1_0 where c1_0.email=?\n"
     ]
    },
    {
     "name": "stdout",
     "output_type": "stream",
     "text": [
      "13:19:55.992 DEBUG org.hibernate.SQL - insert into CUSTOMER (birthDate,creationDate,email,firstname,lastname,photo,status,version,ID) values (?,?,?,?,?,?,?,?,?)\n"
     ]
    },
    {
     "name": "stdout",
     "output_type": "stream",
     "text": [
      "13:19:55.992 DEBUG org.hibernate.SQL - select count(*)>0 from CUSTOMER c1_0 where c1_0.email=?\n"
     ]
    },
    {
     "name": "stdout",
     "output_type": "stream",
     "text": [
      "13:19:55.992 DEBUG org.hibernate.SQL - select nextval('CUSTOMER_SEQ')\n"
     ]
    },
    {
     "name": "stdout",
     "output_type": "stream",
     "text": [
      "13:19:55.992 DEBUG org.hibernate.SQL - insert into CUSTOMER (birthDate,creationDate,email,firstname,lastname,photo,status,version,ID) values (?,?,?,?,?,?,?,?,?)\n"
     ]
    },
    {
     "name": "stdout",
     "output_type": "stream",
     "text": [
      "13:19:55.993 DEBUG org.hibernate.SQL - select count(*)>0 from CUSTOMER c1_0 where c1_0.email=?\n"
     ]
    },
    {
     "name": "stdout",
     "output_type": "stream",
     "text": [
      "13:19:55.993 DEBUG org.hibernate.SQL - insert into CUSTOMER (birthDate,creationDate,email,firstname,lastname,photo,status,version,ID) values (?,?,?,?,?,?,?,?,?)\n"
     ]
    },
    {
     "name": "stdout",
     "output_type": "stream",
     "text": [
      "13:19:55.994 DEBUG org.hibernate.SQL - select count(*)>0 from CUSTOMER c1_0 where c1_0.email=?\n"
     ]
    },
    {
     "name": "stdout",
     "output_type": "stream",
     "text": [
      "13:19:55.994 DEBUG org.hibernate.SQL - insert into CUSTOMER (birthDate,creationDate,email,firstname,lastname,photo,status,version,ID) values (?,?,?,?,?,?,?,?,?)\n"
     ]
    },
    {
     "name": "stdout",
     "output_type": "stream",
     "text": [
      "13:19:55.994 DEBUG org.hibernate.SQL - select count(*)>0 from CUSTOMER c1_0 where c1_0.email=?\n"
     ]
    },
    {
     "name": "stdout",
     "output_type": "stream",
     "text": [
      "13:19:55.995 DEBUG org.hibernate.SQL - insert into CUSTOMER (birthDate,creationDate,email,firstname,lastname,photo,status,version,ID) values (?,?,?,?,?,?,?,?,?)\n"
     ]
    },
    {
     "name": "stdout",
     "output_type": "stream",
     "text": [
      "13:19:55.995 DEBUG org.hibernate.SQL - select count(*)>0 from CUSTOMER c1_0 where c1_0.email=?\n"
     ]
    },
    {
     "name": "stdout",
     "output_type": "stream",
     "text": [
      "13:19:55.996 DEBUG org.hibernate.SQL - insert into CUSTOMER (birthDate,creationDate,email,firstname,lastname,photo,status,version,ID) values (?,?,?,?,?,?,?,?,?)\n"
     ]
    },
    {
     "name": "stdout",
     "output_type": "stream",
     "text": [
      "13:19:55.996 DEBUG org.hibernate.SQL - select count(*)>0 from CUSTOMER c1_0 where c1_0.email=?\n"
     ]
    },
    {
     "name": "stdout",
     "output_type": "stream",
     "text": [
      "13:19:55.996 DEBUG org.hibernate.SQL - insert into CUSTOMER (birthDate,creationDate,email,firstname,lastname,photo,status,version,ID) values (?,?,?,?,?,?,?,?,?)\n"
     ]
    },
    {
     "name": "stdout",
     "output_type": "stream",
     "text": [
      "13:19:55.997 DEBUG org.hibernate.SQL - select count(*)>0 from CUSTOMER c1_0 where c1_0.email=?\n"
     ]
    },
    {
     "name": "stdout",
     "output_type": "stream",
     "text": [
      "13:19:55.997 DEBUG org.hibernate.SQL - insert into CUSTOMER (birthDate,creationDate,email,firstname,lastname,photo,status,version,ID) values (?,?,?,?,?,?,?,?,?)\n"
     ]
    },
    {
     "name": "stdout",
     "output_type": "stream",
     "text": [
      "13:19:55.997 DEBUG org.hibernate.SQL - select count(*)>0 from CUSTOMER c1_0 where c1_0.email=?\n"
     ]
    },
    {
     "name": "stdout",
     "output_type": "stream",
     "text": [
      "13:19:55.998 DEBUG org.hibernate.SQL - insert into CUSTOMER (birthDate,creationDate,email,firstname,lastname,photo,status,version,ID) values (?,?,?,?,?,?,?,?,?)\n"
     ]
    },
    {
     "name": "stdout",
     "output_type": "stream",
     "text": [
      "13:19:55.998 DEBUG org.hibernate.SQL - select count(*)>0 from CUSTOMER c1_0 where c1_0.email=?\n"
     ]
    },
    {
     "name": "stdout",
     "output_type": "stream",
     "text": [
      "13:19:55.999 DEBUG org.hibernate.SQL - insert into CUSTOMER (birthDate,creationDate,email,firstname,lastname,photo,status,version,ID) values (?,?,?,?,?,?,?,?,?)\n"
     ]
    },
    {
     "name": "stdout",
     "output_type": "stream",
     "text": [
      "13:19:55.999 DEBUG org.hibernate.SQL - select count(*)>0 from CUSTOMER c1_0 where c1_0.email=?\n"
     ]
    },
    {
     "name": "stdout",
     "output_type": "stream",
     "text": [
      "13:19:56.000 DEBUG org.hibernate.SQL - insert into CUSTOMER (birthDate,creationDate,email,firstname,lastname,photo,status,version,ID) values (?,?,?,?,?,?,?,?,?)\n"
     ]
    },
    {
     "name": "stdout",
     "output_type": "stream",
     "text": [
      "13:19:56.000 DEBUG org.hibernate.SQL - select count(*)>0 from CUSTOMER c1_0 where c1_0.email=?\n"
     ]
    },
    {
     "name": "stdout",
     "output_type": "stream",
     "text": [
      "13:19:56.001 DEBUG org.hibernate.SQL - insert into CUSTOMER (birthDate,creationDate,email,firstname,lastname,photo,status,version,ID) values (?,?,?,?,?,?,?,?,?)\n"
     ]
    },
    {
     "name": "stdout",
     "output_type": "stream",
     "text": [
      "13:19:56.001 DEBUG org.hibernate.SQL - select count(*)>0 from CUSTOMER c1_0 where c1_0.email=?\n"
     ]
    },
    {
     "name": "stdout",
     "output_type": "stream",
     "text": [
      "13:19:56.002 DEBUG org.hibernate.SQL - insert into CUSTOMER (birthDate,creationDate,email,firstname,lastname,photo,status,version,ID) values (?,?,?,?,?,?,?,?,?)\n"
     ]
    },
    {
     "name": "stdout",
     "output_type": "stream",
     "text": [
      "13:19:56.002 DEBUG org.hibernate.SQL - select count(*)>0 from CUSTOMER c1_0 where c1_0.email=?\n"
     ]
    },
    {
     "name": "stdout",
     "output_type": "stream",
     "text": [
      "13:19:56.003 DEBUG org.hibernate.SQL - insert into CUSTOMER (birthDate,creationDate,email,firstname,lastname,photo,status,version,ID) values (?,?,?,?,?,?,?,?,?)\n"
     ]
    },
    {
     "name": "stdout",
     "output_type": "stream",
     "text": [
      "13:19:56.003 DEBUG org.hibernate.SQL - select count(*)>0 from CUSTOMER c1_0 where c1_0.email=?\n"
     ]
    },
    {
     "name": "stdout",
     "output_type": "stream",
     "text": [
      "13:19:56.004 DEBUG org.hibernate.SQL - insert into CUSTOMER (birthDate,creationDate,email,firstname,lastname,photo,status,version,ID) values (?,?,?,?,?,?,?,?,?)\n"
     ]
    },
    {
     "name": "stdout",
     "output_type": "stream",
     "text": [
      "13:19:56.004 DEBUG org.hibernate.SQL - select count(*)>0 from CUSTOMER c1_0 where c1_0.email=?\n"
     ]
    },
    {
     "name": "stdout",
     "output_type": "stream",
     "text": [
      "13:19:56.004 DEBUG org.hibernate.SQL - insert into CUSTOMER (birthDate,creationDate,email,firstname,lastname,photo,status,version,ID) values (?,?,?,?,?,?,?,?,?)\n"
     ]
    },
    {
     "name": "stdout",
     "output_type": "stream",
     "text": [
      "13:19:56.005 DEBUG org.hibernate.SQL - select count(*)>0 from CUSTOMER c1_0 where c1_0.email=?\n"
     ]
    },
    {
     "name": "stdout",
     "output_type": "stream",
     "text": [
      "13:19:56.005 DEBUG org.hibernate.SQL - insert into CUSTOMER (birthDate,creationDate,email,firstname,lastname,photo,status,version,ID) values (?,?,?,?,?,?,?,?,?)\n"
     ]
    },
    {
     "name": "stdout",
     "output_type": "stream",
     "text": [
      "13:19:56.005 DEBUG org.hibernate.SQL - select count(*)>0 from CUSTOMER c1_0 where c1_0.email=?\n"
     ]
    },
    {
     "name": "stdout",
     "output_type": "stream",
     "text": [
      "13:19:56.006 DEBUG org.hibernate.SQL - insert into CUSTOMER (birthDate,creationDate,email,firstname,lastname,photo,status,version,ID) values (?,?,?,?,?,?,?,?,?)\n"
     ]
    },
    {
     "name": "stdout",
     "output_type": "stream",
     "text": [
      "13:19:56.006 DEBUG org.hibernate.SQL - select count(*)>0 from CUSTOMER c1_0 where c1_0.email=?\n"
     ]
    },
    {
     "name": "stdout",
     "output_type": "stream",
     "text": [
      "13:19:56.007 DEBUG org.hibernate.SQL - insert into CUSTOMER (birthDate,creationDate,email,firstname,lastname,photo,status,version,ID) values (?,?,?,?,?,?,?,?,?)\n"
     ]
    },
    {
     "name": "stdout",
     "output_type": "stream",
     "text": [
      "13:19:56.007 DEBUG org.hibernate.SQL - select count(*)>0 from CUSTOMER c1_0 where c1_0.email=?\n"
     ]
    },
    {
     "name": "stdout",
     "output_type": "stream",
     "text": [
      "13:19:56.008 DEBUG org.hibernate.SQL - insert into CUSTOMER (birthDate,creationDate,email,firstname,lastname,photo,status,version,ID) values (?,?,?,?,?,?,?,?,?)\n"
     ]
    },
    {
     "name": "stdout",
     "output_type": "stream",
     "text": [
      "13:19:56.008 DEBUG org.hibernate.SQL - select count(*)>0 from CUSTOMER c1_0 where c1_0.email=?\n"
     ]
    },
    {
     "name": "stdout",
     "output_type": "stream",
     "text": [
      "13:19:56.009 DEBUG org.hibernate.SQL - insert into CUSTOMER (birthDate,creationDate,email,firstname,lastname,photo,status,version,ID) values (?,?,?,?,?,?,?,?,?)\n"
     ]
    },
    {
     "name": "stdout",
     "output_type": "stream",
     "text": [
      "13:19:56.009 DEBUG org.hibernate.SQL - select count(*)>0 from CUSTOMER c1_0 where c1_0.email=?\n"
     ]
    },
    {
     "name": "stdout",
     "output_type": "stream",
     "text": [
      "13:19:56.009 DEBUG org.hibernate.SQL - insert into CUSTOMER (birthDate,creationDate,email,firstname,lastname,photo,status,version,ID) values (?,?,?,?,?,?,?,?,?)\n"
     ]
    },
    {
     "name": "stdout",
     "output_type": "stream",
     "text": [
      "13:19:56.009 DEBUG org.hibernate.SQL - select count(*)>0 from CUSTOMER c1_0 where c1_0.email=?\n"
     ]
    },
    {
     "name": "stdout",
     "output_type": "stream",
     "text": [
      "13:19:56.010 DEBUG org.hibernate.SQL - insert into CUSTOMER (birthDate,creationDate,email,firstname,lastname,photo,status,version,ID) values (?,?,?,?,?,?,?,?,?)\n"
     ]
    },
    {
     "name": "stdout",
     "output_type": "stream",
     "text": [
      "13:19:56.010 DEBUG org.hibernate.SQL - select count(*)>0 from CUSTOMER c1_0 where c1_0.email=?\n"
     ]
    },
    {
     "name": "stdout",
     "output_type": "stream",
     "text": [
      "13:19:56.011 DEBUG org.hibernate.SQL - insert into CUSTOMER (birthDate,creationDate,email,firstname,lastname,photo,status,version,ID) values (?,?,?,?,?,?,?,?,?)\n"
     ]
    },
    {
     "name": "stdout",
     "output_type": "stream",
     "text": [
      "13:19:56.011 DEBUG org.hibernate.SQL - select count(*)>0 from CUSTOMER c1_0 where c1_0.email=?\n"
     ]
    },
    {
     "name": "stdout",
     "output_type": "stream",
     "text": [
      "13:19:56.011 DEBUG org.hibernate.SQL - insert into CUSTOMER (birthDate,creationDate,email,firstname,lastname,photo,status,version,ID) values (?,?,?,?,?,?,?,?,?)\n"
     ]
    },
    {
     "name": "stdout",
     "output_type": "stream",
     "text": [
      "13:19:56.012 DEBUG org.hibernate.SQL - select count(*)>0 from CUSTOMER c1_0 where c1_0.email=?\n"
     ]
    },
    {
     "name": "stdout",
     "output_type": "stream",
     "text": [
      "13:19:56.012 DEBUG org.hibernate.SQL - insert into CUSTOMER (birthDate,creationDate,email,firstname,lastname,photo,status,version,ID) values (?,?,?,?,?,?,?,?,?)\n"
     ]
    },
    {
     "name": "stdout",
     "output_type": "stream",
     "text": [
      "13:19:56.012 DEBUG org.hibernate.SQL - select count(*)>0 from CUSTOMER c1_0 where c1_0.email=?\n"
     ]
    },
    {
     "name": "stdout",
     "output_type": "stream",
     "text": [
      "13:19:56.013 DEBUG org.hibernate.SQL - insert into CUSTOMER (birthDate,creationDate,email,firstname,lastname,photo,status,version,ID) values (?,?,?,?,?,?,?,?,?)\n"
     ]
    },
    {
     "name": "stdout",
     "output_type": "stream",
     "text": [
      "13:19:56.013 DEBUG org.hibernate.SQL - select count(*)>0 from CUSTOMER c1_0 where c1_0.email=?\n"
     ]
    },
    {
     "name": "stdout",
     "output_type": "stream",
     "text": [
      "13:19:56.014 DEBUG org.hibernate.SQL - insert into CUSTOMER (birthDate,creationDate,email,firstname,lastname,photo,status,version,ID) values (?,?,?,?,?,?,?,?,?)\n"
     ]
    },
    {
     "name": "stdout",
     "output_type": "stream",
     "text": [
      "13:19:56.014 DEBUG org.hibernate.SQL - select count(*)>0 from CUSTOMER c1_0 where c1_0.email=?\n"
     ]
    },
    {
     "name": "stdout",
     "output_type": "stream",
     "text": [
      "13:19:56.014 DEBUG org.hibernate.SQL - insert into CUSTOMER (birthDate,creationDate,email,firstname,lastname,photo,status,version,ID) values (?,?,?,?,?,?,?,?,?)\n"
     ]
    },
    {
     "name": "stdout",
     "output_type": "stream",
     "text": [
      "13:19:56.014 DEBUG org.hibernate.SQL - select count(*)>0 from CUSTOMER c1_0 where c1_0.email=?\n"
     ]
    },
    {
     "name": "stdout",
     "output_type": "stream",
     "text": [
      "13:19:56.015 DEBUG org.hibernate.SQL - insert into CUSTOMER (birthDate,creationDate,email,firstname,lastname,photo,status,version,ID) values (?,?,?,?,?,?,?,?,?)\n"
     ]
    },
    {
     "name": "stdout",
     "output_type": "stream",
     "text": [
      "13:19:56.015 DEBUG org.hibernate.SQL - select count(*)>0 from CUSTOMER c1_0 where c1_0.email=?\n"
     ]
    },
    {
     "name": "stdout",
     "output_type": "stream",
     "text": [
      "13:19:56.016 DEBUG org.hibernate.SQL - insert into CUSTOMER (birthDate,creationDate,email,firstname,lastname,photo,status,version,ID) values (?,?,?,?,?,?,?,?,?)\n"
     ]
    },
    {
     "name": "stdout",
     "output_type": "stream",
     "text": [
      "13:19:56.016 DEBUG org.hibernate.SQL - select count(*)>0 from CUSTOMER c1_0 where c1_0.email=?\n"
     ]
    },
    {
     "name": "stdout",
     "output_type": "stream",
     "text": [
      "13:19:56.017 DEBUG org.hibernate.SQL - insert into CUSTOMER (birthDate,creationDate,email,firstname,lastname,photo,status,version,ID) values (?,?,?,?,?,?,?,?,?)\n"
     ]
    },
    {
     "name": "stdout",
     "output_type": "stream",
     "text": [
      "13:19:56.017 DEBUG org.hibernate.SQL - select count(*)>0 from CUSTOMER c1_0 where c1_0.email=?\n"
     ]
    },
    {
     "name": "stdout",
     "output_type": "stream",
     "text": [
      "13:19:56.018 DEBUG org.hibernate.SQL - insert into CUSTOMER (birthDate,creationDate,email,firstname,lastname,photo,status,version,ID) values (?,?,?,?,?,?,?,?,?)\n"
     ]
    },
    {
     "name": "stdout",
     "output_type": "stream",
     "text": [
      "13:19:56.018 DEBUG org.hibernate.SQL - select count(*)>0 from CUSTOMER c1_0 where c1_0.email=?\n"
     ]
    },
    {
     "name": "stdout",
     "output_type": "stream",
     "text": [
      "13:19:56.019 DEBUG org.hibernate.SQL - insert into CUSTOMER (birthDate,creationDate,email,firstname,lastname,photo,status,version,ID) values (?,?,?,?,?,?,?,?,?)\n"
     ]
    },
    {
     "name": "stdout",
     "output_type": "stream",
     "text": [
      "13:19:56.019 DEBUG org.hibernate.SQL - select count(*)>0 from CUSTOMER c1_0 where c1_0.email=?\n"
     ]
    },
    {
     "name": "stdout",
     "output_type": "stream",
     "text": [
      "13:19:56.020 DEBUG org.hibernate.SQL - insert into CUSTOMER (birthDate,creationDate,email,firstname,lastname,photo,status,version,ID) values (?,?,?,?,?,?,?,?,?)\n"
     ]
    },
    {
     "name": "stdout",
     "output_type": "stream",
     "text": [
      "13:19:56.020 DEBUG org.hibernate.SQL - select count(*)>0 from CUSTOMER c1_0 where c1_0.email=?\n"
     ]
    },
    {
     "name": "stdout",
     "output_type": "stream",
     "text": [
      "13:19:56.021 DEBUG org.hibernate.SQL - insert into CUSTOMER (birthDate,creationDate,email,firstname,lastname,photo,status,version,ID) values (?,?,?,?,?,?,?,?,?)\n"
     ]
    },
    {
     "name": "stdout",
     "output_type": "stream",
     "text": [
      "13:19:56.021 DEBUG org.hibernate.SQL - select count(*)>0 from CUSTOMER c1_0 where c1_0.email=?\n"
     ]
    },
    {
     "name": "stdout",
     "output_type": "stream",
     "text": [
      "13:19:56.022 DEBUG org.hibernate.SQL - insert into CUSTOMER (birthDate,creationDate,email,firstname,lastname,photo,status,version,ID) values (?,?,?,?,?,?,?,?,?)\n"
     ]
    },
    {
     "name": "stdout",
     "output_type": "stream",
     "text": [
      "13:19:56.022 DEBUG org.hibernate.SQL - select count(*)>0 from CUSTOMER c1_0 where c1_0.email=?\n"
     ]
    },
    {
     "name": "stdout",
     "output_type": "stream",
     "text": [
      "13:19:56.022 DEBUG org.hibernate.SQL - insert into CUSTOMER (birthDate,creationDate,email,firstname,lastname,photo,status,version,ID) values (?,?,?,?,?,?,?,?,?)\n"
     ]
    },
    {
     "name": "stdout",
     "output_type": "stream",
     "text": [
      "13:19:56.023 DEBUG org.hibernate.SQL - select count(*)>0 from CUSTOMER c1_0 where c1_0.email=?\n"
     ]
    },
    {
     "name": "stdout",
     "output_type": "stream",
     "text": [
      "13:19:56.023 DEBUG org.hibernate.SQL - insert into CUSTOMER (birthDate,creationDate,email,firstname,lastname,photo,status,version,ID) values (?,?,?,?,?,?,?,?,?)\n"
     ]
    },
    {
     "name": "stdout",
     "output_type": "stream",
     "text": [
      "13:19:56.023 DEBUG org.hibernate.SQL - select count(*)>0 from CUSTOMER c1_0 where c1_0.email=?\n"
     ]
    },
    {
     "name": "stdout",
     "output_type": "stream",
     "text": [
      "13:19:56.024 DEBUG org.hibernate.SQL - insert into CUSTOMER (birthDate,creationDate,email,firstname,lastname,photo,status,version,ID) values (?,?,?,?,?,?,?,?,?)\n"
     ]
    },
    {
     "name": "stdout",
     "output_type": "stream",
     "text": [
      "13:19:56.024 DEBUG org.hibernate.SQL - select count(*)>0 from CUSTOMER c1_0 where c1_0.email=?\n"
     ]
    },
    {
     "name": "stdout",
     "output_type": "stream",
     "text": [
      "13:19:56.025 DEBUG org.hibernate.SQL - insert into CUSTOMER (birthDate,creationDate,email,firstname,lastname,photo,status,version,ID) values (?,?,?,?,?,?,?,?,?)\n"
     ]
    },
    {
     "name": "stdout",
     "output_type": "stream",
     "text": [
      "13:19:56.025 DEBUG org.hibernate.SQL - select count(*)>0 from CUSTOMER c1_0 where c1_0.email=?\n"
     ]
    },
    {
     "name": "stdout",
     "output_type": "stream",
     "text": [
      "13:19:56.025 DEBUG org.hibernate.SQL - insert into CUSTOMER (birthDate,creationDate,email,firstname,lastname,photo,status,version,ID) values (?,?,?,?,?,?,?,?,?)\n"
     ]
    },
    {
     "name": "stdout",
     "output_type": "stream",
     "text": [
      "13:19:56.026 DEBUG org.hibernate.SQL - select count(*)>0 from CUSTOMER c1_0 where c1_0.email=?\n"
     ]
    },
    {
     "name": "stdout",
     "output_type": "stream",
     "text": [
      "13:19:56.026 DEBUG org.hibernate.SQL - insert into CUSTOMER (birthDate,creationDate,email,firstname,lastname,photo,status,version,ID) values (?,?,?,?,?,?,?,?,?)\n"
     ]
    },
    {
     "name": "stdout",
     "output_type": "stream",
     "text": [
      "13:19:56.027 DEBUG org.hibernate.SQL - select count(*)>0 from CUSTOMER c1_0 where c1_0.email=?\n"
     ]
    },
    {
     "name": "stdout",
     "output_type": "stream",
     "text": [
      "13:19:56.027 DEBUG org.hibernate.SQL - insert into CUSTOMER (birthDate,creationDate,email,firstname,lastname,photo,status,version,ID) values (?,?,?,?,?,?,?,?,?)\n"
     ]
    },
    {
     "name": "stdout",
     "output_type": "stream",
     "text": [
      "13:19:56.027 DEBUG org.hibernate.SQL - select count(*)>0 from CUSTOMER c1_0 where c1_0.email=?\n"
     ]
    },
    {
     "name": "stdout",
     "output_type": "stream",
     "text": [
      "13:19:56.028 DEBUG org.hibernate.SQL - insert into CUSTOMER (birthDate,creationDate,email,firstname,lastname,photo,status,version,ID) values (?,?,?,?,?,?,?,?,?)\n"
     ]
    },
    {
     "name": "stdout",
     "output_type": "stream",
     "text": [
      "13:19:56.028 DEBUG org.hibernate.SQL - select count(*)>0 from CUSTOMER c1_0 where c1_0.email=?\n"
     ]
    },
    {
     "name": "stdout",
     "output_type": "stream",
     "text": [
      "13:19:56.029 DEBUG org.hibernate.SQL - insert into CUSTOMER (birthDate,creationDate,email,firstname,lastname,photo,status,version,ID) values (?,?,?,?,?,?,?,?,?)\n"
     ]
    },
    {
     "name": "stdout",
     "output_type": "stream",
     "text": [
      "13:19:56.029 DEBUG org.hibernate.SQL - select count(*)>0 from CUSTOMER c1_0 where c1_0.email=?\n"
     ]
    },
    {
     "name": "stdout",
     "output_type": "stream",
     "text": [
      "13:19:56.030 DEBUG org.hibernate.SQL - insert into CUSTOMER (birthDate,creationDate,email,firstname,lastname,photo,status,version,ID) values (?,?,?,?,?,?,?,?,?)\n"
     ]
    },
    {
     "name": "stdout",
     "output_type": "stream",
     "text": [
      "13:19:56.030 DEBUG org.hibernate.SQL - select count(*)>0 from CUSTOMER c1_0 where c1_0.email=?\n"
     ]
    },
    {
     "name": "stdout",
     "output_type": "stream",
     "text": [
      "13:19:56.031 DEBUG org.hibernate.SQL - insert into CUSTOMER (birthDate,creationDate,email,firstname,lastname,photo,status,version,ID) values (?,?,?,?,?,?,?,?,?)\n"
     ]
    },
    {
     "name": "stdout",
     "output_type": "stream",
     "text": [
      "13:19:56.031 DEBUG org.hibernate.SQL - select count(*)>0 from CUSTOMER c1_0 where c1_0.email=?\n"
     ]
    },
    {
     "name": "stdout",
     "output_type": "stream",
     "text": [
      "13:19:56.031 DEBUG org.hibernate.SQL - insert into CUSTOMER (birthDate,creationDate,email,firstname,lastname,photo,status,version,ID) values (?,?,?,?,?,?,?,?,?)\n"
     ]
    },
    {
     "name": "stdout",
     "output_type": "stream",
     "text": [
      "13:19:56.032 DEBUG org.hibernate.SQL - select count(*)>0 from CUSTOMER c1_0 where c1_0.email=?\n"
     ]
    },
    {
     "name": "stdout",
     "output_type": "stream",
     "text": [
      "13:19:56.032 DEBUG org.hibernate.SQL - insert into CUSTOMER (birthDate,creationDate,email,firstname,lastname,photo,status,version,ID) values (?,?,?,?,?,?,?,?,?)\n"
     ]
    },
    {
     "name": "stdout",
     "output_type": "stream",
     "text": [
      "13:19:56.033 DEBUG org.hibernate.SQL - select count(*)>0 from CUSTOMER c1_0 where c1_0.email=?\n"
     ]
    },
    {
     "name": "stdout",
     "output_type": "stream",
     "text": [
      "13:19:56.034 DEBUG org.hibernate.SQL - insert into CUSTOMER (birthDate,creationDate,email,firstname,lastname,photo,status,version,ID) values (?,?,?,?,?,?,?,?,?)\n"
     ]
    },
    {
     "name": "stdout",
     "output_type": "stream",
     "text": [
      "13:19:56.034 DEBUG org.hibernate.SQL - select count(*)>0 from CUSTOMER c1_0 where c1_0.email=?\n"
     ]
    },
    {
     "name": "stdout",
     "output_type": "stream",
     "text": [
      "13:19:56.035 DEBUG org.hibernate.SQL - select nextval('CUSTOMER_SEQ')\n"
     ]
    },
    {
     "name": "stdout",
     "output_type": "stream",
     "text": [
      "13:19:56.035 DEBUG org.hibernate.SQL - insert into CUSTOMER (birthDate,creationDate,email,firstname,lastname,photo,status,version,ID) values (?,?,?,?,?,?,?,?,?)\n"
     ]
    },
    {
     "name": "stdout",
     "output_type": "stream",
     "text": [
      "13:19:56.035 DEBUG org.hibernate.SQL - select count(*)>0 from CUSTOMER c1_0 where c1_0.email=?\n"
     ]
    },
    {
     "name": "stdout",
     "output_type": "stream",
     "text": [
      "13:19:56.036 DEBUG org.hibernate.SQL - insert into CUSTOMER (birthDate,creationDate,email,firstname,lastname,photo,status,version,ID) values (?,?,?,?,?,?,?,?,?)\n"
     ]
    },
    {
     "name": "stdout",
     "output_type": "stream",
     "text": [
      "13:19:56.036 DEBUG org.hibernate.SQL - select count(*)>0 from CUSTOMER c1_0 where c1_0.email=?\n"
     ]
    },
    {
     "name": "stdout",
     "output_type": "stream",
     "text": [
      "13:19:56.037 DEBUG org.hibernate.SQL - insert into CUSTOMER (birthDate,creationDate,email,firstname,lastname,photo,status,version,ID) values (?,?,?,?,?,?,?,?,?)\n"
     ]
    },
    {
     "name": "stdout",
     "output_type": "stream",
     "text": [
      "13:19:56.037 DEBUG org.hibernate.SQL - select count(*)>0 from CUSTOMER c1_0 where c1_0.email=?\n"
     ]
    },
    {
     "name": "stdout",
     "output_type": "stream",
     "text": [
      "13:19:56.038 DEBUG org.hibernate.SQL - insert into CUSTOMER (birthDate,creationDate,email,firstname,lastname,photo,status,version,ID) values (?,?,?,?,?,?,?,?,?)\n"
     ]
    },
    {
     "name": "stdout",
     "output_type": "stream",
     "text": [
      "13:19:56.038 DEBUG org.hibernate.SQL - select count(*)>0 from CUSTOMER c1_0 where c1_0.email=?\n"
     ]
    },
    {
     "name": "stdout",
     "output_type": "stream",
     "text": [
      "13:19:56.039 DEBUG org.hibernate.SQL - insert into CUSTOMER (birthDate,creationDate,email,firstname,lastname,photo,status,version,ID) values (?,?,?,?,?,?,?,?,?)\n"
     ]
    },
    {
     "name": "stdout",
     "output_type": "stream",
     "text": [
      "13:19:56.039 DEBUG org.hibernate.SQL - select count(*)>0 from CUSTOMER c1_0 where c1_0.email=?\n"
     ]
    },
    {
     "name": "stdout",
     "output_type": "stream",
     "text": [
      "13:19:56.039 DEBUG org.hibernate.SQL - insert into CUSTOMER (birthDate,creationDate,email,firstname,lastname,photo,status,version,ID) values (?,?,?,?,?,?,?,?,?)\n"
     ]
    },
    {
     "name": "stdout",
     "output_type": "stream",
     "text": [
      "13:19:56.040 DEBUG org.hibernate.SQL - select count(*)>0 from CUSTOMER c1_0 where c1_0.email=?\n"
     ]
    },
    {
     "name": "stdout",
     "output_type": "stream",
     "text": [
      "13:19:56.040 DEBUG org.hibernate.SQL - insert into CUSTOMER (birthDate,creationDate,email,firstname,lastname,photo,status,version,ID) values (?,?,?,?,?,?,?,?,?)\n"
     ]
    },
    {
     "name": "stdout",
     "output_type": "stream",
     "text": [
      "13:19:56.040 DEBUG org.hibernate.SQL - select count(*)>0 from CUSTOMER c1_0 where c1_0.email=?\n"
     ]
    },
    {
     "name": "stdout",
     "output_type": "stream",
     "text": [
      "13:19:56.041 DEBUG org.hibernate.SQL - insert into CUSTOMER (birthDate,creationDate,email,firstname,lastname,photo,status,version,ID) values (?,?,?,?,?,?,?,?,?)\n"
     ]
    },
    {
     "name": "stdout",
     "output_type": "stream",
     "text": [
      "13:19:56.041 DEBUG org.hibernate.SQL - select count(*)>0 from CUSTOMER c1_0 where c1_0.email=?\n"
     ]
    },
    {
     "name": "stdout",
     "output_type": "stream",
     "text": [
      "13:19:56.042 DEBUG org.hibernate.SQL - insert into CUSTOMER (birthDate,creationDate,email,firstname,lastname,photo,status,version,ID) values (?,?,?,?,?,?,?,?,?)\n"
     ]
    },
    {
     "name": "stdout",
     "output_type": "stream",
     "text": [
      "13:19:56.042 DEBUG org.hibernate.SQL - select count(*)>0 from CUSTOMER c1_0 where c1_0.email=?\n"
     ]
    },
    {
     "name": "stdout",
     "output_type": "stream",
     "text": [
      "13:19:56.042 DEBUG org.hibernate.SQL - insert into CUSTOMER (birthDate,creationDate,email,firstname,lastname,photo,status,version,ID) values (?,?,?,?,?,?,?,?,?)\n"
     ]
    },
    {
     "name": "stdout",
     "output_type": "stream",
     "text": [
      "13:19:56.042 DEBUG org.hibernate.SQL - select count(*)>0 from CUSTOMER c1_0 where c1_0.email=?\n"
     ]
    },
    {
     "name": "stdout",
     "output_type": "stream",
     "text": [
      "13:19:56.043 DEBUG org.hibernate.SQL - insert into CUSTOMER (birthDate,creationDate,email,firstname,lastname,photo,status,version,ID) values (?,?,?,?,?,?,?,?,?)\n"
     ]
    },
    {
     "name": "stdout",
     "output_type": "stream",
     "text": [
      "13:19:56.043 DEBUG org.hibernate.SQL - select count(*)>0 from CUSTOMER c1_0 where c1_0.email=?\n"
     ]
    },
    {
     "name": "stdout",
     "output_type": "stream",
     "text": [
      "13:19:56.044 DEBUG org.hibernate.SQL - insert into CUSTOMER (birthDate,creationDate,email,firstname,lastname,photo,status,version,ID) values (?,?,?,?,?,?,?,?,?)\n"
     ]
    },
    {
     "name": "stdout",
     "output_type": "stream",
     "text": [
      "13:19:56.044 DEBUG org.hibernate.SQL - select count(*)>0 from CUSTOMER c1_0 where c1_0.email=?\n"
     ]
    },
    {
     "name": "stdout",
     "output_type": "stream",
     "text": [
      "13:19:56.044 DEBUG org.hibernate.SQL - insert into CUSTOMER (birthDate,creationDate,email,firstname,lastname,photo,status,version,ID) values (?,?,?,?,?,?,?,?,?)\n"
     ]
    },
    {
     "name": "stdout",
     "output_type": "stream",
     "text": [
      "13:19:56.044 DEBUG org.hibernate.SQL - select count(*)>0 from CUSTOMER c1_0 where c1_0.email=?\n"
     ]
    },
    {
     "name": "stdout",
     "output_type": "stream",
     "text": [
      "13:19:56.045 DEBUG org.hibernate.SQL - insert into CUSTOMER (birthDate,creationDate,email,firstname,lastname,photo,status,version,ID) values (?,?,?,?,?,?,?,?,?)\n"
     ]
    },
    {
     "name": "stdout",
     "output_type": "stream",
     "text": [
      "13:19:56.045 DEBUG org.hibernate.SQL - select count(*)>0 from CUSTOMER c1_0 where c1_0.email=?\n"
     ]
    },
    {
     "name": "stdout",
     "output_type": "stream",
     "text": [
      "13:19:56.046 DEBUG org.hibernate.SQL - insert into CUSTOMER (birthDate,creationDate,email,firstname,lastname,photo,status,version,ID) values (?,?,?,?,?,?,?,?,?)\n"
     ]
    },
    {
     "name": "stdout",
     "output_type": "stream",
     "text": [
      "13:19:56.046 DEBUG org.hibernate.SQL - select count(*)>0 from CUSTOMER c1_0 where c1_0.email=?\n"
     ]
    },
    {
     "name": "stdout",
     "output_type": "stream",
     "text": [
      "13:19:56.046 DEBUG org.hibernate.SQL - insert into CUSTOMER (birthDate,creationDate,email,firstname,lastname,photo,status,version,ID) values (?,?,?,?,?,?,?,?,?)\n"
     ]
    },
    {
     "name": "stdout",
     "output_type": "stream",
     "text": [
      "13:19:56.047 DEBUG org.hibernate.SQL - select count(*)>0 from CUSTOMER c1_0 where c1_0.email=?\n"
     ]
    },
    {
     "name": "stdout",
     "output_type": "stream",
     "text": [
      "13:19:56.047 DEBUG org.hibernate.SQL - insert into CUSTOMER (birthDate,creationDate,email,firstname,lastname,photo,status,version,ID) values (?,?,?,?,?,?,?,?,?)\n"
     ]
    },
    {
     "name": "stdout",
     "output_type": "stream",
     "text": [
      "13:19:56.047 DEBUG org.hibernate.SQL - select count(*)>0 from CUSTOMER c1_0 where c1_0.email=?\n"
     ]
    },
    {
     "name": "stdout",
     "output_type": "stream",
     "text": [
      "13:19:56.048 DEBUG org.hibernate.SQL - insert into CUSTOMER (birthDate,creationDate,email,firstname,lastname,photo,status,version,ID) values (?,?,?,?,?,?,?,?,?)\n"
     ]
    },
    {
     "name": "stdout",
     "output_type": "stream",
     "text": [
      "13:19:56.048 DEBUG org.hibernate.SQL - select count(*)>0 from CUSTOMER c1_0 where c1_0.email=?\n"
     ]
    },
    {
     "name": "stdout",
     "output_type": "stream",
     "text": [
      "13:19:56.049 DEBUG org.hibernate.SQL - insert into CUSTOMER (birthDate,creationDate,email,firstname,lastname,photo,status,version,ID) values (?,?,?,?,?,?,?,?,?)\n"
     ]
    },
    {
     "name": "stdout",
     "output_type": "stream",
     "text": [
      "13:19:56.049 DEBUG org.hibernate.SQL - select count(*)>0 from CUSTOMER c1_0 where c1_0.email=?\n"
     ]
    },
    {
     "name": "stdout",
     "output_type": "stream",
     "text": [
      "13:19:56.050 DEBUG org.hibernate.SQL - insert into CUSTOMER (birthDate,creationDate,email,firstname,lastname,photo,status,version,ID) values (?,?,?,?,?,?,?,?,?)\n"
     ]
    },
    {
     "name": "stdout",
     "output_type": "stream",
     "text": [
      "13:19:56.050 DEBUG org.hibernate.SQL - select count(*)>0 from CUSTOMER c1_0 where c1_0.email=?\n"
     ]
    },
    {
     "name": "stdout",
     "output_type": "stream",
     "text": [
      "13:19:56.050 DEBUG org.hibernate.SQL - insert into CUSTOMER (birthDate,creationDate,email,firstname,lastname,photo,status,version,ID) values (?,?,?,?,?,?,?,?,?)\n"
     ]
    },
    {
     "name": "stdout",
     "output_type": "stream",
     "text": [
      "13:19:56.050 DEBUG org.hibernate.SQL - select count(*)>0 from CUSTOMER c1_0 where c1_0.email=?\n"
     ]
    },
    {
     "name": "stdout",
     "output_type": "stream",
     "text": [
      "13:19:56.051 DEBUG org.hibernate.SQL - insert into CUSTOMER (birthDate,creationDate,email,firstname,lastname,photo,status,version,ID) values (?,?,?,?,?,?,?,?,?)\n"
     ]
    },
    {
     "name": "stdout",
     "output_type": "stream",
     "text": [
      "13:19:56.051 DEBUG org.hibernate.SQL - select count(*)>0 from CUSTOMER c1_0 where c1_0.email=?\n"
     ]
    },
    {
     "name": "stdout",
     "output_type": "stream",
     "text": [
      "13:19:56.052 DEBUG org.hibernate.SQL - insert into CUSTOMER (birthDate,creationDate,email,firstname,lastname,photo,status,version,ID) values (?,?,?,?,?,?,?,?,?)\n"
     ]
    },
    {
     "name": "stdout",
     "output_type": "stream",
     "text": [
      "13:19:56.052 DEBUG org.hibernate.SQL - select count(*)>0 from CUSTOMER c1_0 where c1_0.email=?\n"
     ]
    },
    {
     "name": "stdout",
     "output_type": "stream",
     "text": [
      "13:19:56.052 DEBUG org.hibernate.SQL - insert into CUSTOMER (birthDate,creationDate,email,firstname,lastname,photo,status,version,ID) values (?,?,?,?,?,?,?,?,?)\n"
     ]
    },
    {
     "name": "stdout",
     "output_type": "stream",
     "text": [
      "13:19:56.053 DEBUG org.hibernate.SQL - select count(*)>0 from CUSTOMER c1_0 where c1_0.email=?\n"
     ]
    },
    {
     "name": "stdout",
     "output_type": "stream",
     "text": [
      "13:19:56.053 DEBUG org.hibernate.SQL - insert into CUSTOMER (birthDate,creationDate,email,firstname,lastname,photo,status,version,ID) values (?,?,?,?,?,?,?,?,?)\n"
     ]
    },
    {
     "name": "stdout",
     "output_type": "stream",
     "text": [
      "13:19:56.053 DEBUG org.hibernate.SQL - select count(*)>0 from CUSTOMER c1_0 where c1_0.email=?\n"
     ]
    },
    {
     "name": "stdout",
     "output_type": "stream",
     "text": [
      "13:19:56.054 DEBUG org.hibernate.SQL - insert into CUSTOMER (birthDate,creationDate,email,firstname,lastname,photo,status,version,ID) values (?,?,?,?,?,?,?,?,?)\n"
     ]
    },
    {
     "name": "stdout",
     "output_type": "stream",
     "text": [
      "13:19:56.054 DEBUG org.hibernate.SQL - select count(*)>0 from CUSTOMER c1_0 where c1_0.email=?\n"
     ]
    },
    {
     "name": "stdout",
     "output_type": "stream",
     "text": [
      "13:19:56.054 DEBUG org.hibernate.SQL - insert into CUSTOMER (birthDate,creationDate,email,firstname,lastname,photo,status,version,ID) values (?,?,?,?,?,?,?,?,?)\n"
     ]
    },
    {
     "name": "stdout",
     "output_type": "stream",
     "text": [
      "13:19:56.055 DEBUG org.hibernate.SQL - select count(*)>0 from CUSTOMER c1_0 where c1_0.email=?\n"
     ]
    },
    {
     "name": "stdout",
     "output_type": "stream",
     "text": [
      "13:19:56.055 DEBUG org.hibernate.SQL - insert into CUSTOMER (birthDate,creationDate,email,firstname,lastname,photo,status,version,ID) values (?,?,?,?,?,?,?,?,?)\n"
     ]
    },
    {
     "name": "stdout",
     "output_type": "stream",
     "text": [
      "13:19:56.055 DEBUG org.hibernate.SQL - select count(*)>0 from CUSTOMER c1_0 where c1_0.email=?\n"
     ]
    },
    {
     "name": "stdout",
     "output_type": "stream",
     "text": [
      "13:19:56.056 DEBUG org.hibernate.SQL - insert into CUSTOMER (birthDate,creationDate,email,firstname,lastname,photo,status,version,ID) values (?,?,?,?,?,?,?,?,?)\n"
     ]
    },
    {
     "name": "stdout",
     "output_type": "stream",
     "text": [
      "13:19:56.056 DEBUG org.hibernate.SQL - select count(*)>0 from CUSTOMER c1_0 where c1_0.email=?\n"
     ]
    },
    {
     "name": "stdout",
     "output_type": "stream",
     "text": [
      "13:19:56.057 DEBUG org.hibernate.SQL - insert into CUSTOMER (birthDate,creationDate,email,firstname,lastname,photo,status,version,ID) values (?,?,?,?,?,?,?,?,?)\n"
     ]
    },
    {
     "name": "stdout",
     "output_type": "stream",
     "text": [
      "13:19:56.057 DEBUG org.hibernate.SQL - select count(*)>0 from CUSTOMER c1_0 where c1_0.email=?\n"
     ]
    },
    {
     "name": "stdout",
     "output_type": "stream",
     "text": [
      "13:19:56.057 DEBUG org.hibernate.SQL - insert into CUSTOMER (birthDate,creationDate,email,firstname,lastname,photo,status,version,ID) values (?,?,?,?,?,?,?,?,?)\n"
     ]
    },
    {
     "name": "stdout",
     "output_type": "stream",
     "text": [
      "13:19:56.058 DEBUG org.hibernate.SQL - select count(*)>0 from CUSTOMER c1_0 where c1_0.email=?\n"
     ]
    },
    {
     "name": "stdout",
     "output_type": "stream",
     "text": [
      "13:19:56.058 DEBUG org.hibernate.SQL - insert into CUSTOMER (birthDate,creationDate,email,firstname,lastname,photo,status,version,ID) values (?,?,?,?,?,?,?,?,?)\n"
     ]
    },
    {
     "name": "stdout",
     "output_type": "stream",
     "text": [
      "13:19:56.059 DEBUG org.hibernate.SQL - select count(*)>0 from CUSTOMER c1_0 where c1_0.email=?\n"
     ]
    },
    {
     "name": "stdout",
     "output_type": "stream",
     "text": [
      "13:19:56.059 DEBUG org.hibernate.SQL - insert into CUSTOMER (birthDate,creationDate,email,firstname,lastname,photo,status,version,ID) values (?,?,?,?,?,?,?,?,?)\n"
     ]
    },
    {
     "name": "stdout",
     "output_type": "stream",
     "text": [
      "13:19:56.060 DEBUG org.hibernate.SQL - select count(*)>0 from CUSTOMER c1_0 where c1_0.email=?\n"
     ]
    },
    {
     "name": "stdout",
     "output_type": "stream",
     "text": [
      "13:19:56.060 DEBUG org.hibernate.SQL - insert into CUSTOMER (birthDate,creationDate,email,firstname,lastname,photo,status,version,ID) values (?,?,?,?,?,?,?,?,?)\n"
     ]
    },
    {
     "name": "stdout",
     "output_type": "stream",
     "text": [
      "13:19:56.060 DEBUG org.hibernate.SQL - select count(*)>0 from CUSTOMER c1_0 where c1_0.email=?\n"
     ]
    },
    {
     "name": "stdout",
     "output_type": "stream",
     "text": [
      "13:19:56.061 DEBUG org.hibernate.SQL - insert into CUSTOMER (birthDate,creationDate,email,firstname,lastname,photo,status,version,ID) values (?,?,?,?,?,?,?,?,?)\n"
     ]
    },
    {
     "name": "stdout",
     "output_type": "stream",
     "text": [
      "13:19:56.061 DEBUG org.hibernate.SQL - select count(*)>0 from CUSTOMER c1_0 where c1_0.email=?\n"
     ]
    },
    {
     "name": "stdout",
     "output_type": "stream",
     "text": [
      "13:19:56.062 DEBUG org.hibernate.SQL - insert into CUSTOMER (birthDate,creationDate,email,firstname,lastname,photo,status,version,ID) values (?,?,?,?,?,?,?,?,?)\n"
     ]
    },
    {
     "name": "stdout",
     "output_type": "stream",
     "text": [
      "13:19:56.062 DEBUG org.hibernate.SQL - select count(*)>0 from CUSTOMER c1_0 where c1_0.email=?\n"
     ]
    },
    {
     "name": "stdout",
     "output_type": "stream",
     "text": [
      "13:19:56.062 DEBUG org.hibernate.SQL - insert into CUSTOMER (birthDate,creationDate,email,firstname,lastname,photo,status,version,ID) values (?,?,?,?,?,?,?,?,?)\n"
     ]
    },
    {
     "name": "stdout",
     "output_type": "stream",
     "text": [
      "13:19:56.063 DEBUG org.hibernate.SQL - select count(*)>0 from CUSTOMER c1_0 where c1_0.email=?\n"
     ]
    },
    {
     "name": "stdout",
     "output_type": "stream",
     "text": [
      "13:19:56.063 DEBUG org.hibernate.SQL - insert into CUSTOMER (birthDate,creationDate,email,firstname,lastname,photo,status,version,ID) values (?,?,?,?,?,?,?,?,?)\n"
     ]
    },
    {
     "name": "stdout",
     "output_type": "stream",
     "text": [
      "13:19:56.063 DEBUG org.hibernate.SQL - select count(*)>0 from CUSTOMER c1_0 where c1_0.email=?\n"
     ]
    },
    {
     "name": "stdout",
     "output_type": "stream",
     "text": [
      "13:19:56.064 DEBUG org.hibernate.SQL - insert into CUSTOMER (birthDate,creationDate,email,firstname,lastname,photo,status,version,ID) values (?,?,?,?,?,?,?,?,?)\n"
     ]
    },
    {
     "name": "stdout",
     "output_type": "stream",
     "text": [
      "13:19:56.064 DEBUG org.hibernate.SQL - select count(*)>0 from CUSTOMER c1_0 where c1_0.email=?\n"
     ]
    },
    {
     "name": "stdout",
     "output_type": "stream",
     "text": [
      "13:19:56.065 DEBUG org.hibernate.SQL - insert into CUSTOMER (birthDate,creationDate,email,firstname,lastname,photo,status,version,ID) values (?,?,?,?,?,?,?,?,?)\n"
     ]
    },
    {
     "name": "stdout",
     "output_type": "stream",
     "text": [
      "13:19:56.065 DEBUG org.hibernate.SQL - select count(*)>0 from CUSTOMER c1_0 where c1_0.email=?\n"
     ]
    },
    {
     "name": "stdout",
     "output_type": "stream",
     "text": [
      "13:19:56.066 DEBUG org.hibernate.SQL - insert into CUSTOMER (birthDate,creationDate,email,firstname,lastname,photo,status,version,ID) values (?,?,?,?,?,?,?,?,?)\n"
     ]
    },
    {
     "name": "stdout",
     "output_type": "stream",
     "text": [
      "13:19:56.066 DEBUG org.hibernate.SQL - select count(*)>0 from CUSTOMER c1_0 where c1_0.email=?\n"
     ]
    },
    {
     "name": "stdout",
     "output_type": "stream",
     "text": [
      "13:19:56.067 DEBUG org.hibernate.SQL - insert into CUSTOMER (birthDate,creationDate,email,firstname,lastname,photo,status,version,ID) values (?,?,?,?,?,?,?,?,?)\n"
     ]
    },
    {
     "name": "stdout",
     "output_type": "stream",
     "text": [
      "13:19:56.067 DEBUG org.hibernate.SQL - select count(*)>0 from CUSTOMER c1_0 where c1_0.email=?\n"
     ]
    },
    {
     "name": "stdout",
     "output_type": "stream",
     "text": [
      "13:19:56.068 DEBUG org.hibernate.SQL - insert into CUSTOMER (birthDate,creationDate,email,firstname,lastname,photo,status,version,ID) values (?,?,?,?,?,?,?,?,?)\n"
     ]
    },
    {
     "name": "stdout",
     "output_type": "stream",
     "text": [
      "13:19:56.068 DEBUG org.hibernate.SQL - select count(*)>0 from CUSTOMER c1_0 where c1_0.email=?\n"
     ]
    },
    {
     "name": "stdout",
     "output_type": "stream",
     "text": [
      "13:19:56.069 DEBUG org.hibernate.SQL - insert into CUSTOMER (birthDate,creationDate,email,firstname,lastname,photo,status,version,ID) values (?,?,?,?,?,?,?,?,?)\n"
     ]
    },
    {
     "name": "stdout",
     "output_type": "stream",
     "text": [
      "13:19:56.069 DEBUG org.hibernate.SQL - select count(*)>0 from CUSTOMER c1_0 where c1_0.email=?\n"
     ]
    },
    {
     "name": "stdout",
     "output_type": "stream",
     "text": [
      "13:19:56.070 DEBUG org.hibernate.SQL - insert into CUSTOMER (birthDate,creationDate,email,firstname,lastname,photo,status,version,ID) values (?,?,?,?,?,?,?,?,?)\n"
     ]
    },
    {
     "name": "stdout",
     "output_type": "stream",
     "text": [
      "13:19:56.070 DEBUG org.hibernate.SQL - select count(*)>0 from CUSTOMER c1_0 where c1_0.email=?\n"
     ]
    },
    {
     "name": "stdout",
     "output_type": "stream",
     "text": [
      "13:19:56.070 DEBUG org.hibernate.SQL - insert into CUSTOMER (birthDate,creationDate,email,firstname,lastname,photo,status,version,ID) values (?,?,?,?,?,?,?,?,?)\n"
     ]
    },
    {
     "name": "stdout",
     "output_type": "stream",
     "text": [
      "13:19:56.070 DEBUG org.hibernate.SQL - select count(*)>0 from CUSTOMER c1_0 where c1_0.email=?\n"
     ]
    },
    {
     "name": "stdout",
     "output_type": "stream",
     "text": [
      "13:19:56.071 DEBUG org.hibernate.SQL - insert into CUSTOMER (birthDate,creationDate,email,firstname,lastname,photo,status,version,ID) values (?,?,?,?,?,?,?,?,?)\n"
     ]
    },
    {
     "name": "stdout",
     "output_type": "stream",
     "text": [
      "13:19:56.071 DEBUG org.hibernate.SQL - select count(*)>0 from CUSTOMER c1_0 where c1_0.email=?\n"
     ]
    },
    {
     "name": "stdout",
     "output_type": "stream",
     "text": [
      "13:19:56.072 DEBUG org.hibernate.SQL - insert into CUSTOMER (birthDate,creationDate,email,firstname,lastname,photo,status,version,ID) values (?,?,?,?,?,?,?,?,?)\n"
     ]
    },
    {
     "name": "stdout",
     "output_type": "stream",
     "text": [
      "13:19:56.072 DEBUG org.hibernate.SQL - select count(*)>0 from CUSTOMER c1_0 where c1_0.email=?\n"
     ]
    },
    {
     "name": "stdout",
     "output_type": "stream",
     "text": [
      "13:19:56.073 DEBUG org.hibernate.SQL - insert into CUSTOMER (birthDate,creationDate,email,firstname,lastname,photo,status,version,ID) values (?,?,?,?,?,?,?,?,?)\n"
     ]
    },
    {
     "name": "stdout",
     "output_type": "stream",
     "text": [
      "13:19:56.073 DEBUG org.hibernate.SQL - select count(*)>0 from CUSTOMER c1_0 where c1_0.email=?\n"
     ]
    },
    {
     "name": "stdout",
     "output_type": "stream",
     "text": [
      "13:19:56.074 DEBUG org.hibernate.SQL - insert into CUSTOMER (birthDate,creationDate,email,firstname,lastname,photo,status,version,ID) values (?,?,?,?,?,?,?,?,?)\n"
     ]
    },
    {
     "name": "stdout",
     "output_type": "stream",
     "text": [
      "13:19:56.077 DEBUG org.hibernate.SQL - select c1_0.ID,c1_0.birthDate,c1_0.creationDate,c1_0.email,c1_0.firstname,c1_0.lastname,c1_0.photo,c1_0.status,c1_0.version from CUSTOMER c1_0\n"
     ]
    },
    {
     "name": "stdout",
     "output_type": "stream",
     "text": [
      "13:19:56.133 DEBUG org.hibernate.SQL - select count(*)>0 from CUSTOMER c1_0 where c1_0.email=?\n"
     ]
    },
    {
     "name": "stdout",
     "output_type": "stream",
     "text": [
      "13:19:56.133 DEBUG org.hibernate.SQL - select nextval('CUSTOMER_SEQ')\n"
     ]
    },
    {
     "name": "stdout",
     "output_type": "stream",
     "text": [
      "13:19:56.134 DEBUG org.hibernate.SQL - insert into CUSTOMER (birthDate,creationDate,email,firstname,lastname,photo,status,version,ID) values (?,?,?,?,?,?,?,?,?)\n"
     ]
    },
    {
     "name": "stdout",
     "output_type": "stream",
     "text": [
      "13:19:56.135 DEBUG org.hibernate.SQL - select count(*)>0 from CUSTOMER c1_0 where c1_0.email=?\n"
     ]
    },
    {
     "name": "stdout",
     "output_type": "stream",
     "text": [
      "13:19:56.135 DEBUG org.hibernate.SQL - insert into CUSTOMER (birthDate,creationDate,email,firstname,lastname,photo,status,version,ID) values (?,?,?,?,?,?,?,?,?)\n"
     ]
    },
    {
     "name": "stdout",
     "output_type": "stream",
     "text": [
      "13:19:56.135 DEBUG org.hibernate.SQL - select count(*)>0 from CUSTOMER c1_0 where c1_0.email=?\n"
     ]
    },
    {
     "name": "stdout",
     "output_type": "stream",
     "text": [
      "13:19:56.136 DEBUG org.hibernate.SQL - insert into CUSTOMER (birthDate,creationDate,email,firstname,lastname,photo,status,version,ID) values (?,?,?,?,?,?,?,?,?)\n"
     ]
    },
    {
     "name": "stdout",
     "output_type": "stream",
     "text": [
      "13:19:56.136 DEBUG org.hibernate.SQL - select count(*)>0 from CUSTOMER c1_0 where c1_0.email=?\n"
     ]
    },
    {
     "name": "stdout",
     "output_type": "stream",
     "text": [
      "13:19:56.137 DEBUG org.hibernate.SQL - insert into CUSTOMER (birthDate,creationDate,email,firstname,lastname,photo,status,version,ID) values (?,?,?,?,?,?,?,?,?)\n"
     ]
    },
    {
     "name": "stdout",
     "output_type": "stream",
     "text": [
      "13:19:56.137 DEBUG org.hibernate.SQL - select count(*)>0 from CUSTOMER c1_0 where c1_0.email=?\n"
     ]
    },
    {
     "name": "stdout",
     "output_type": "stream",
     "text": [
      "13:19:56.137 DEBUG org.hibernate.SQL - insert into CUSTOMER (birthDate,creationDate,email,firstname,lastname,photo,status,version,ID) values (?,?,?,?,?,?,?,?,?)\n"
     ]
    },
    {
     "name": "stdout",
     "output_type": "stream",
     "text": [
      "13:19:56.137 DEBUG org.hibernate.SQL - select count(*)>0 from CUSTOMER c1_0 where c1_0.email=?\n"
     ]
    },
    {
     "name": "stdout",
     "output_type": "stream",
     "text": [
      "13:19:56.138 DEBUG org.hibernate.SQL - insert into CUSTOMER (birthDate,creationDate,email,firstname,lastname,photo,status,version,ID) values (?,?,?,?,?,?,?,?,?)\n"
     ]
    },
    {
     "name": "stdout",
     "output_type": "stream",
     "text": [
      "13:19:56.138 DEBUG org.hibernate.SQL - select count(*)>0 from CUSTOMER c1_0 where c1_0.email=?\n"
     ]
    },
    {
     "name": "stdout",
     "output_type": "stream",
     "text": [
      "13:19:56.138 DEBUG org.hibernate.SQL - insert into CUSTOMER (birthDate,creationDate,email,firstname,lastname,photo,status,version,ID) values (?,?,?,?,?,?,?,?,?)\n"
     ]
    },
    {
     "name": "stdout",
     "output_type": "stream",
     "text": [
      "13:19:56.139 DEBUG org.hibernate.SQL - select count(*)>0 from CUSTOMER c1_0 where c1_0.email=?\n"
     ]
    },
    {
     "name": "stdout",
     "output_type": "stream",
     "text": [
      "13:19:56.139 DEBUG org.hibernate.SQL - insert into CUSTOMER (birthDate,creationDate,email,firstname,lastname,photo,status,version,ID) values (?,?,?,?,?,?,?,?,?)\n"
     ]
    },
    {
     "name": "stdout",
     "output_type": "stream",
     "text": [
      "13:19:56.139 DEBUG org.hibernate.SQL - select count(*)>0 from CUSTOMER c1_0 where c1_0.email=?\n"
     ]
    },
    {
     "name": "stdout",
     "output_type": "stream",
     "text": [
      "13:19:56.140 DEBUG org.hibernate.SQL - insert into CUSTOMER (birthDate,creationDate,email,firstname,lastname,photo,status,version,ID) values (?,?,?,?,?,?,?,?,?)\n"
     ]
    },
    {
     "name": "stdout",
     "output_type": "stream",
     "text": [
      "13:19:56.140 DEBUG org.hibernate.SQL - select count(*)>0 from CUSTOMER c1_0 where c1_0.email=?\n"
     ]
    },
    {
     "name": "stdout",
     "output_type": "stream",
     "text": [
      "13:19:56.140 DEBUG org.hibernate.SQL - insert into CUSTOMER (birthDate,creationDate,email,firstname,lastname,photo,status,version,ID) values (?,?,?,?,?,?,?,?,?)\n"
     ]
    },
    {
     "name": "stdout",
     "output_type": "stream",
     "text": [
      "13:19:56.172 DEBUG org.hibernate.SQL - select c1_0.firstname,c1_0.lastname from CUSTOMER c1_0 fetch first ? rows only\n"
     ]
    },
    {
     "name": "stdout",
     "output_type": "stream",
     "text": [
      "13:19:56.175 DEBUG org.hibernate.SQL - select nextval('PERSON_SEQ')\n"
     ]
    },
    {
     "name": "stdout",
     "output_type": "stream",
     "text": [
      "13:19:56.176 DEBUG org.hibernate.SQL - insert into EX_HERITAGE3.STUDENT (name,status,id) values (?,?,?)\n"
     ]
    },
    {
     "name": "stdout",
     "output_type": "stream",
     "text": [
      "13:19:56.176 DEBUG org.hibernate.SQL - insert into EX_HERITAGE3.TEACHER (name,salary,id) values (?,?,?)\n"
     ]
    },
    {
     "name": "stdout",
     "output_type": "stream",
     "text": [
      "13:19:56.177 DEBUG org.hibernate.SQL - select s1_0.id,s1_0.name,s1_0.status from EX_HERITAGE3.STUDENT s1_0 where s1_0.id=?\n"
     ]
    },
    {
     "name": "stdout",
     "output_type": "stream",
     "text": [
      "13:19:56.178 DEBUG org.hibernate.SQL - select t1_0.id,t1_0.name,t1_0.salary from EX_HERITAGE3.TEACHER t1_0 where t1_0.id=?\n"
     ]
    },
    {
     "name": "stdout",
     "output_type": "stream",
     "text": [
      "13:19:56.181 DEBUG org.hibernate.SQL - select nextval('CUSTOMER_SEQ')\n"
     ]
    },
    {
     "name": "stdout",
     "output_type": "stream",
     "text": [
      "13:19:56.182 DEBUG org.hibernate.SQL - insert into EX_SIMPLE.CUSTOMER (email,name,id) values (?,?,?)\n"
     ]
    },
    {
     "name": "stdout",
     "output_type": "stream",
     "text": [
      "13:19:56.182 DEBUG org.hibernate.SQL - update EX_SIMPLE.CUSTOMER set email=?,name=? where id=?\n"
     ]
    },
    {
     "name": "stdout",
     "output_type": "stream",
     "text": [
      "13:19:56.184 DEBUG org.hibernate.SQL - select c1_0.id,c1_0.email,c1_0.name from EX_SIMPLE.CUSTOMER c1_0 where c1_0.id=?\n"
     ]
    },
    {
     "name": "stdout",
     "output_type": "stream",
     "text": [
      "13:19:56.258 DEBUG org.hibernate.SQL - delete from EX_SIMPLE.CUSTOMER where id=?\n"
     ]
    },
    {
     "name": "stdout",
     "output_type": "stream",
     "text": [
      "13:19:56.260 DEBUG org.hibernate.SQL - insert into EX_SIMPLE.CUSTOMER (email,name,id) values (?,?,?)\n"
     ]
    },
    {
     "name": "stdout",
     "output_type": "stream",
     "text": [
      "13:19:56.260 DEBUG org.hibernate.SQL - update EX_SIMPLE.CUSTOMER set email=?,name=? where id=?\n"
     ]
    },
    {
     "name": "stdout",
     "output_type": "stream",
     "text": [
      "13:19:56.261 DEBUG org.hibernate.SQL - select c1_0.id,c1_0.email,c1_0.name from EX_SIMPLE.CUSTOMER c1_0 where c1_0.id=?\n"
     ]
    },
    {
     "name": "stdout",
     "output_type": "stream",
     "text": [
      "13:19:56.262 DEBUG org.hibernate.SQL - delete from EX_SIMPLE.CUSTOMER where id=?\n"
     ]
    },
    {
     "name": "stdout",
     "output_type": "stream",
     "text": [
      "13:19:59 INFO - looking for property jakarta.persistence.jdbc.password in variable DB_PASSWORD or in property db.password\n"
     ]
    },
    {
     "name": "stdout",
     "output_type": "stream",
     "text": [
      "13:19:59 INFO - looking for property jakarta.persistence.jdbc.user in variable DB_USERNAME or in property db.username\n"
     ]
    },
    {
     "name": "stdout",
     "output_type": "stream",
     "text": [
      "13:19:59 INFO - looking for property jakarta.persistence.jdbc.url in variable DB_URL or in property db.url\n"
     ]
    },
    {
     "name": "stdout",
     "output_type": "stream",
     "text": [
      "13:19:59 INFO - Connection to jdbc:postgresql://db/notebook-db as dba\n"
     ]
    },
    {
     "name": "stdout",
     "output_type": "stream",
     "text": [
      "13:19:59 INFO - HHH000204: Processing PersistenceUnitInfo [name: hellojpa-pu]\n"
     ]
    },
    {
     "name": "stdout",
     "output_type": "stream",
     "text": [
      "13:19:59 INFO - HHH000412: Hibernate ORM core version [WORKING]\n"
     ]
    },
    {
     "name": "stdout",
     "output_type": "stream",
     "text": [
      "13:19:59 INFO - HHH000026: Second-level cache disabled\n"
     ]
    },
    {
     "name": "stdout",
     "output_type": "stream",
     "text": [
      "13:20:00 INFO - HHH010002: C3P0 using driver: org.postgresql.Driver at URL: jdbc:postgresql://db/notebook-db\n"
     ]
    },
    {
     "name": "stdout",
     "output_type": "stream",
     "text": [
      "13:20:00 INFO - HHH10001001: Connection properties: {password=****, user=dba}\n"
     ]
    },
    {
     "name": "stdout",
     "output_type": "stream",
     "text": [
      "13:20:00 INFO - HHH10001003: Autocommit mode: false\n"
     ]
    },
    {
     "name": "stdout",
     "output_type": "stream",
     "text": [
      "13:20:00 INFO - MLog clients using slf4j logging.\n"
     ]
    },
    {
     "name": "stdout",
     "output_type": "stream",
     "text": [
      "13:20:01 INFO - Initializing c3p0-0.9.5.5 [built 11-December-2019 22:18:33 -0800; debug? true; trace: 10]\n"
     ]
    },
    {
     "name": "stdout",
     "output_type": "stream",
     "text": [
      "13:20:01 INFO - HHH10001007: JDBC isolation level: <unknown>\n"
     ]
    },
    {
     "name": "stdout",
     "output_type": "stream",
     "text": [
      "13:20:01 INFO - Initializing c3p0 pool... com.mchange.v2.c3p0.PoolBackedDataSource@cf15d4c [ connectionPoolDataSource -> com.mchange.v2.c3p0.WrapperConnectionPoolDataSource@a4325e21 [ acquireIncrement -> 3, acquireRetryAttempts -> 30, acquireRetryDelay -> 1000, autoCommitOnClose -> false, automaticTestTable -> null, breakAfterAcquireFailure -> false, checkoutTimeout -> 0, connectionCustomizerClassName -> null, connectionTesterClassName -> com.mchange.v2.c3p0.impl.DefaultConnectionTester, contextClassLoaderSource -> caller, debugUnreturnedConnectionStackTraces -> false, factoryClassLocation -> null, forceIgnoreUnresolvedTransactions -> false, forceSynchronousCheckins -> false, identityToken -> 1bqrg1wb243jkz41ou2u6t|4ed1d29b, idleConnectionTestPeriod -> 0, initialPoolSize -> 3, maxAdministrativeTaskTime -> 0, maxConnectionAge -> 0, maxIdleTime -> 0, maxIdleTimeExcessConnections -> 0, maxPoolSize -> 15, maxStatements -> 0, maxStatementsPerConnection -> 0, minPoolSize -> 3, nestedDataSource -> com.mchange.v2.c3p0.DriverManagerDataSource@1f3c00ba [ description -> null, driverClass -> null, factoryClassLocation -> null, forceUseNamedDriverClass -> false, identityToken -> 1bqrg1wb243jkz41ou2u6t|e65855b, jdbcUrl -> jdbc:postgresql://db/notebook-db, properties -> {password=******, user=******} ], preferredTestQuery -> null, privilegeSpawnedThreads -> false, propertyCycle -> 0, statementCacheNumDeferredCloseThreads -> 0, testConnectionOnCheckin -> false, testConnectionOnCheckout -> false, unreturnedConnectionTimeout -> 0, usesTraditionalReflectiveProxies -> false; userOverrides: {} ], dataSourceName -> null, extensions -> {}, factoryClassLocation -> null, identityToken -> 1bqrg1wb243jkz41ou2u6t|2876adac, numHelperThreads -> 3 ]\n"
     ]
    },
    {
     "name": "stdout",
     "output_type": "stream",
     "text": [
      "13:20:01 INFO - HHH000398: Explicit segment value for id generator [EX_IDTABLE.ID_GENERATOR_TABLE.sequence_name] suggested; using default [CUSTOMER]\n"
     ]
    },
    {
     "name": "stdout",
     "output_type": "stream",
     "text": [
      "13:20:02 INFO - HHH000489: No JTA platform available (set 'hibernate.transaction.jta.platform' to enable JTA platform integration)\n"
     ]
    },
    {
     "name": "stdout",
     "output_type": "stream",
     "text": [
      "13:20:02 INFO - HHH10001501: Connection obtained from JdbcConnectionAccess [org.hibernate.engine.jdbc.env.internal.JdbcEnvironmentInitiator$ConnectionProviderJdbcConnectionAccess@7ad86b5c] for (non-JTA) DDL execution was not in auto-commit mode; the Connection 'local transaction' will be committed and the Connection will be set into auto-commit mode.\n"
     ]
    },
    {
     "name": "stdout",
     "output_type": "stream",
     "text": [
      "13:20:02 WARN - SQL Warning Code: 0, SQLState: 00000\n"
     ]
    },
    {
     "name": "stdout",
     "output_type": "stream",
     "text": [
      "13:20:02 WARN - drop cascades to table ex_biography.customer\n"
     ]
    },
    {
     "name": "stdout",
     "output_type": "stream",
     "text": [
      "13:20:02 WARN - SQL Warning Code: 0, SQLState: 00000\n"
     ]
    },
    {
     "name": "stdout",
     "output_type": "stream",
     "text": [
      "13:20:02 WARN - drop cascades to 3 other objects\n"
     ]
    },
    {
     "name": "stdout",
     "output_type": "stream",
     "text": [
      "13:20:02 WARN - SQL Warning Code: 0, SQLState: 00000\n"
     ]
    },
    {
     "name": "stdout",
     "output_type": "stream",
     "text": [
      "13:20:02 WARN - drop cascades to 2 other objects\n"
     ]
    },
    {
     "name": "stdout",
     "output_type": "stream",
     "text": [
      "13:20:02 WARN - SQL Warning Code: 0, SQLState: 00000\n"
     ]
    },
    {
     "name": "stdout",
     "output_type": "stream",
     "text": [
      "13:20:02 WARN - drop cascades to 2 other objects\n"
     ]
    },
    {
     "name": "stdout",
     "output_type": "stream",
     "text": [
      "13:20:02 WARN - SQL Warning Code: 0, SQLState: 00000\n"
     ]
    },
    {
     "name": "stdout",
     "output_type": "stream",
     "text": [
      "13:20:02 WARN - drop cascades to table ex_hook.customer\n"
     ]
    },
    {
     "name": "stdout",
     "output_type": "stream",
     "text": [
      "13:20:02 WARN - SQL Warning Code: 0, SQLState: 00000\n"
     ]
    },
    {
     "name": "stdout",
     "output_type": "stream",
     "text": [
      "13:20:02 WARN - drop cascades to table ex_embedded_id.employe\n"
     ]
    },
    {
     "name": "stdout",
     "output_type": "stream",
     "text": [
      "13:20:02 WARN - SQL Warning Code: 0, SQLState: 00000\n"
     ]
    },
    {
     "name": "stdout",
     "output_type": "stream",
     "text": [
      "13:20:02 WARN - drop cascades to table ex_idclass.employe\n"
     ]
    },
    {
     "name": "stdout",
     "output_type": "stream",
     "text": [
      "13:20:02 WARN - SQL Warning Code: 0, SQLState: 00000\n"
     ]
    },
    {
     "name": "stdout",
     "output_type": "stream",
     "text": [
      "13:20:02 WARN - schema \"ex_idclass\" does not exist, skipping\n"
     ]
    },
    {
     "name": "stdout",
     "output_type": "stream",
     "text": [
      "13:20:02 WARN - SQL Warning Code: 0, SQLState: 00000\n"
     ]
    },
    {
     "name": "stdout",
     "output_type": "stream",
     "text": [
      "13:20:02 WARN - drop cascades to table ex_heritage1.person\n"
     ]
    },
    {
     "name": "stdout",
     "output_type": "stream",
     "text": [
      "13:20:02 WARN - SQL Warning Code: 0, SQLState: 00000\n"
     ]
    },
    {
     "name": "stdout",
     "output_type": "stream",
     "text": [
      "13:20:02 WARN - drop cascades to 3 other objects\n"
     ]
    },
    {
     "name": "stdout",
     "output_type": "stream",
     "text": [
      "13:20:02 WARN - SQL Warning Code: 0, SQLState: 00000\n"
     ]
    },
    {
     "name": "stdout",
     "output_type": "stream",
     "text": [
      "13:20:02 WARN - drop cascades to 3 other objects\n"
     ]
    },
    {
     "name": "stdout",
     "output_type": "stream",
     "text": [
      "13:20:02 WARN - SQL Warning Code: 0, SQLState: 00000\n"
     ]
    },
    {
     "name": "stdout",
     "output_type": "stream",
     "text": [
      "13:20:02 WARN - schema \"ex_biography\" does not exist, skipping\n"
     ]
    },
    {
     "name": "stdout",
     "output_type": "stream",
     "text": [
      "13:20:02 WARN - SQL Warning Code: 0, SQLState: 00000\n"
     ]
    },
    {
     "name": "stdout",
     "output_type": "stream",
     "text": [
      "13:20:02 WARN - schema \"ex_embedded_id\" does not exist, skipping\n"
     ]
    },
    {
     "name": "stdout",
     "output_type": "stream",
     "text": [
      "13:20:02 WARN - SQL Warning Code: 0, SQLState: 00000\n"
     ]
    },
    {
     "name": "stdout",
     "output_type": "stream",
     "text": [
      "13:20:02 WARN - schema \"ex_heritage1\" does not exist, skipping\n"
     ]
    },
    {
     "name": "stdout",
     "output_type": "stream",
     "text": [
      "13:20:02 WARN - SQL Warning Code: 0, SQLState: 00000\n"
     ]
    },
    {
     "name": "stdout",
     "output_type": "stream",
     "text": [
      "13:20:02 WARN - relation \"student\" does not exist, skipping\n"
     ]
    },
    {
     "name": "stdout",
     "output_type": "stream",
     "text": [
      "13:20:02 WARN - SQL Warning Code: 0, SQLState: 00000\n"
     ]
    },
    {
     "name": "stdout",
     "output_type": "stream",
     "text": [
      "13:20:02 WARN - relation \"teacher\" does not exist, skipping\n"
     ]
    },
    {
     "name": "stdout",
     "output_type": "stream",
     "text": [
      "13:20:02 WARN - SQL Warning Code: 0, SQLState: 00000\n"
     ]
    },
    {
     "name": "stdout",
     "output_type": "stream",
     "text": [
      "13:20:02 WARN - schema \"ex_heritage2\" does not exist, skipping\n"
     ]
    },
    {
     "name": "stdout",
     "output_type": "stream",
     "text": [
      "13:20:02 WARN - SQL Warning Code: 0, SQLState: 00000\n"
     ]
    },
    {
     "name": "stdout",
     "output_type": "stream",
     "text": [
      "13:20:02 WARN - schema \"ex_heritage2\" does not exist, skipping\n"
     ]
    },
    {
     "name": "stdout",
     "output_type": "stream",
     "text": [
      "13:20:02 WARN - SQL Warning Code: 0, SQLState: 00000\n"
     ]
    },
    {
     "name": "stdout",
     "output_type": "stream",
     "text": [
      "13:20:02 WARN - schema \"ex_heritage2\" does not exist, skipping\n"
     ]
    },
    {
     "name": "stdout",
     "output_type": "stream",
     "text": [
      "13:20:02 WARN - SQL Warning Code: 0, SQLState: 00000\n"
     ]
    },
    {
     "name": "stdout",
     "output_type": "stream",
     "text": [
      "13:20:02 WARN - schema \"ex_heritage3\" does not exist, skipping\n"
     ]
    },
    {
     "name": "stdout",
     "output_type": "stream",
     "text": [
      "13:20:02 WARN - SQL Warning Code: 0, SQLState: 00000\n"
     ]
    },
    {
     "name": "stdout",
     "output_type": "stream",
     "text": [
      "13:20:02 WARN - schema \"ex_heritage3\" does not exist, skipping\n"
     ]
    },
    {
     "name": "stdout",
     "output_type": "stream",
     "text": [
      "13:20:02 WARN - SQL Warning Code: 0, SQLState: 00000\n"
     ]
    },
    {
     "name": "stdout",
     "output_type": "stream",
     "text": [
      "13:20:02 WARN - schema \"ex_heritage3\" does not exist, skipping\n"
     ]
    },
    {
     "name": "stdout",
     "output_type": "stream",
     "text": [
      "13:20:02 WARN - SQL Warning Code: 0, SQLState: 00000\n"
     ]
    },
    {
     "name": "stdout",
     "output_type": "stream",
     "text": [
      "13:20:02 WARN - schema \"ex_hook\" does not exist, skipping\n"
     ]
    },
    {
     "name": "stdout",
     "output_type": "stream",
     "text": [
      "13:20:02 WARN - SQL Warning Code: 0, SQLState: 00000\n"
     ]
    },
    {
     "name": "stdout",
     "output_type": "stream",
     "text": [
      "13:20:02 WARN - schema \"ex_idclass\" does not exist, skipping\n"
     ]
    },
    {
     "name": "stdout",
     "output_type": "stream",
     "text": [
      "13:20:02 WARN - SQL Warning Code: 0, SQLState: 00000\n"
     ]
    },
    {
     "name": "stdout",
     "output_type": "stream",
     "text": [
      "13:20:02 WARN - relation \"customer_address\" does not exist, skipping\n"
     ]
    },
    {
     "name": "stdout",
     "output_type": "stream",
     "text": [
      "13:20:02 WARN - SQL Warning Code: 0, SQLState: 00000\n"
     ]
    },
    {
     "name": "stdout",
     "output_type": "stream",
     "text": [
      "13:20:02 WARN - relation \"customer_address\" does not exist, skipping\n"
     ]
    },
    {
     "name": "stdout",
     "output_type": "stream",
     "text": [
      "13:20:02 WARN - SQL Warning Code: 0, SQLState: 00000\n"
     ]
    },
    {
     "name": "stdout",
     "output_type": "stream",
     "text": [
      "13:20:02 WARN - schema \"ex_many_to_many\" does not exist, skipping\n"
     ]
    },
    {
     "name": "stdout",
     "output_type": "stream",
     "text": [
      "13:20:02 WARN - SQL Warning Code: 0, SQLState: 00000\n"
     ]
    },
    {
     "name": "stdout",
     "output_type": "stream",
     "text": [
      "13:20:02 WARN - schema \"ex_many_to_many\" does not exist, skipping\n"
     ]
    },
    {
     "name": "stdout",
     "output_type": "stream",
     "text": [
      "13:20:02 WARN - SQL Warning Code: 0, SQLState: 00000\n"
     ]
    },
    {
     "name": "stdout",
     "output_type": "stream",
     "text": [
      "13:20:02 WARN - schema \"ex_many_to_many\" does not exist, skipping\n"
     ]
    },
    {
     "name": "stdout",
     "output_type": "stream",
     "text": [
      "13:20:02 WARN - SQL Warning Code: 0, SQLState: 00000\n"
     ]
    },
    {
     "name": "stdout",
     "output_type": "stream",
     "text": [
      "13:20:02 WARN - relation \"line\" does not exist, skipping\n"
     ]
    },
    {
     "name": "stdout",
     "output_type": "stream",
     "text": [
      "13:20:02 WARN - SQL Warning Code: 0, SQLState: 00000\n"
     ]
    },
    {
     "name": "stdout",
     "output_type": "stream",
     "text": [
      "13:20:02 WARN - schema \"ex_one_to_many_a\" does not exist, skipping\n"
     ]
    },
    {
     "name": "stdout",
     "output_type": "stream",
     "text": [
      "13:20:02 WARN - SQL Warning Code: 0, SQLState: 00000\n"
     ]
    },
    {
     "name": "stdout",
     "output_type": "stream",
     "text": [
      "13:20:02 WARN - schema \"ex_one_to_many_a\" does not exist, skipping\n"
     ]
    },
    {
     "name": "stdout",
     "output_type": "stream",
     "text": [
      "13:20:02 WARN - SQL Warning Code: 0, SQLState: 00000\n"
     ]
    },
    {
     "name": "stdout",
     "output_type": "stream",
     "text": [
      "13:20:02 WARN - relation \"line\" does not exist, skipping\n"
     ]
    },
    {
     "name": "stdout",
     "output_type": "stream",
     "text": [
      "13:20:02 WARN - SQL Warning Code: 0, SQLState: 00000\n"
     ]
    },
    {
     "name": "stdout",
     "output_type": "stream",
     "text": [
      "13:20:02 WARN - schema \"ex_one_to_many_b\" does not exist, skipping\n"
     ]
    },
    {
     "name": "stdout",
     "output_type": "stream",
     "text": [
      "13:20:02 WARN - SQL Warning Code: 0, SQLState: 00000\n"
     ]
    },
    {
     "name": "stdout",
     "output_type": "stream",
     "text": [
      "13:20:02 WARN - schema \"ex_one_to_many_b\" does not exist, skipping\n"
     ]
    },
    {
     "name": "stdout",
     "output_type": "stream",
     "text": [
      "13:20:02 INFO - HHH10001501: Connection obtained from JdbcConnectionAccess [org.hibernate.engine.jdbc.env.internal.JdbcEnvironmentInitiator$ConnectionProviderJdbcConnectionAccess@79d5e438] for (non-JTA) DDL execution was not in auto-commit mode; the Connection 'local transaction' will be committed and the Connection will be set into auto-commit mode.\n"
     ]
    },
    {
     "name": "stdout",
     "output_type": "stream",
     "text": [
      "13:20:02 WARN - SQL Warning Code: 0, SQLState: 42P06\n"
     ]
    },
    {
     "name": "stdout",
     "output_type": "stream",
     "text": [
      "13:20:02 WARN - schema \"ex_simple\" already exists, skipping\n"
     ]
    },
    {
     "name": "stdout",
     "output_type": "stream",
     "text": [
      "13:20:02 WARN - SQL Warning Code: 0, SQLState: 42P06\n"
     ]
    },
    {
     "name": "stdout",
     "output_type": "stream",
     "text": [
      "13:20:02 WARN - schema \"ex_uuid\" already exists, skipping\n"
     ]
    },
    {
     "name": "stdout",
     "output_type": "stream",
     "text": [
      "13:20:02 WARN - SQL Warning Code: 0, SQLState: 42P06\n"
     ]
    },
    {
     "name": "stdout",
     "output_type": "stream",
     "text": [
      "13:20:02 WARN - schema \"ex_idseq\" already exists, skipping\n"
     ]
    },
    {
     "name": "stdout",
     "output_type": "stream",
     "text": [
      "13:20:02 WARN - SQL Warning Code: 0, SQLState: 42P06\n"
     ]
    },
    {
     "name": "stdout",
     "output_type": "stream",
     "text": [
      "13:20:02 WARN - schema \"ex_idtable\" already exists, skipping\n"
     ]
    }
   ],
   "source": [
    "//| output: false\n",
    "//| echo: false\n",
    "\n",
    "%printWithName false\n",
    "    \n",
    "// UPDATE SAMPLE SOURCE CODE\n",
    "\n",
    "String script=\"\"\"\n",
    "export DB_URL=jdbc:postgresql://db/notebook-db\n",
    "export DB_USERNAME=dba\n",
    "export DB_PASSWORD=secretsecret\n",
    "    \n",
    "GITHUB_REPO=ebpro/sample-hellojpa\n",
    "GITHUB_URL=https://github.com/${GITHUB_REPO}\n",
    "BRANCH=develop\n",
    "SRC_DIR=/home/jovyan/work/src/github/${GITHUB_REPO}\n",
    "gitpuller ${GITHUB_URL} ${BRANCH} ${SRC_DIR}\n",
    "cd ${SRC_DIR}\n",
    "mvn --quiet clean package\n",
    "\"\"\";\n",
    "IJava.getKernelInstance().getMagics().applyCellMagic(\"shell\",List.of(\"\"),script);  \n",
    "\n",
    "/* String script=\"\"\"\n",
    "export DB_URL=jdbc:postgresql://db/notebook-db\n",
    "export DB_USERNAME=dba\n",
    "export DB_PASSWORD=secretsecret\n",
    "    \n",
    "GITHUB_REPO=ebpro/minimal-jpa\n",
    "GITHUB_URL=https://github.com/${GITHUB_REPO}\n",
    "BRANCH=develop\n",
    "SRC_DIR=/home/jovyan/work/src/github/${GITHUB_REPO}\n",
    "gitpuller ${GITHUB_URL} ${BRANCH} ${SRC_DIR}\n",
    "cd ${SRC_DIR}\n",
    "mvn --quiet clean package\n",
    "\"\"\";\n",
    "IJava.getKernelInstance().getMagics().applyCellMagic(\"shell\",List.of(\"\"),script);  */\n",
    "\n",
    "//LOAD SAMPLE CLASSES\n",
    "%jars \"/home/jovyan/work/src/github/ebpro/sample-hellojpa/target/*-SNAPSHOT-jar-with-dependencies.jar\"\n",
    "\n",
    "//IMPORT MAIN CLASSES\n",
    "import jakarta.persistence.*;\n",
    "import fr.univtln.bruno.demos.jpa.hello.DatabaseManager;\n",
    "\n",
    "//INIT THE DATABASE \n",
    "try (EntityManager em = DatabaseManager.getEntityManagerFactory().createEntityManager();) {}\n",
    "\n",
    "//INIT A LOGGER\n",
    "import org.slf4j.Logger;\n",
    "import org.slf4j.LoggerFactory;\n",
    "\n",
    "Logger log = LoggerFactory.getLogger(\"notebook\");"
   ]
  },
  {
   "cell_type": "code",
   "execution_count": 2,
   "id": "79c532cb-ab82-4cf0-9d4d-5a51ed723602",
   "metadata": {
    "vscode": {
     "languageId": "java"
    }
   },
   "outputs": [
    {
     "data": {
      "text/markdown": [
       "|                |                       |\n",
       "| :-------------- | :--------------------- |\n",
       "| Version        | develop (844fb76) 2023-10-24 17:08:25   |\n",
       "| Git repository | []()         |\n",
       "| Java tools     | OpenJDK Temurin-21.0.2+13 - Apache Maven 3.9.6      |\n",
       "| Docker         | Client: 25.0.3  - buildx v0.12.1 - compose v2.24.5 <br/> Server: 25.0.3  |"
      ],
      "text/plain": [
       "|                |                       |\n",
       "| :-------------- | :--------------------- |\n",
       "| Version        | develop (844fb76) 2023-10-24 17:08:25   |\n",
       "| Git repository | []()         |\n",
       "| Java tools     | OpenJDK Temurin-21.0.2+13 - Apache Maven 3.9.6      |\n",
       "| Docker         | Client: 25.0.3  - buildx v0.12.1 - compose v2.24.5 <br/> Server: 25.0.3  |"
      ]
     },
     "execution_count": 2,
     "metadata": {},
     "output_type": "execute_result"
    }
   ],
   "source": [
    "//| echo: false\n",
    "import java.util.stream.Stream;\n",
    "import java.nio.file.FileSystems;\n",
    "Path path=Path.of(\"..\",\"_version.qmd\").toAbsolutePath();\n",
    "if (!Files.exists(path)) path=Path.of(System.getenv(\"OLDPWD\"),\"_version.qmd\").toAbsolutePath();\n",
    "Stream<String> lines = Files.lines(path);\n",
    "String data = lines.collect(Collectors.joining(\"\\n\"));\n",
    "lines.close();\n",
    "render(data, \"text/markdown\");"
   ]
  },
  {
   "cell_type": "markdown",
   "id": "04c05188-08c2-490e-b556-a509afc8efd8",
   "metadata": {},
   "source": [
    "\n",
    "## Les clés composites\n",
    "\n",
    "JPA offre plusieurs façons de définir et de gérer l'identifiant d'une entité (clé primaire). Dans le cas d'une clé atomique, il suffit de l'annoter avec `@Id`.\n",
    "\n",
    "Dans le cas d'une clé composite JPA propose deux solutions, une classe externe embarquée (`@EmbeddedId`) ou des attributs mappé sur une classe d'Id (`@IdClass`)."
   ]
  },
  {
   "cell_type": "markdown",
   "id": "e43f3305-b6e4-44b7-9630-0d2b28b77244",
   "metadata": {},
   "source": [
    "### Embedded Id"
   ]
  },
  {
   "cell_type": "code",
   "execution_count": 3,
   "id": "51b06961-1780-46e7-8f7b-aaf4d7741323",
   "metadata": {
    "tags": [
     "remove-input"
    ],
    "vscode": {
     "languageId": "java"
    }
   },
   "outputs": [
    {
     "ename": "EvalException",
     "evalue": "null",
     "output_type": "error",
     "traceback": [
      "\u001b[1m\u001b[31m---------------------------------------------------------------------------\u001b[0m",
      "\u001b[1m\u001b[31mjava.lang.NullPointerException: null\u001b[0m",
      "\u001b[1m\u001b[31m\tat java.base/java.util.Objects.requireNonNull(Objects.java:233)\u001b[0m",
      "\u001b[1m\u001b[31m\tat java.base/java.util.ImmutableCollections.listFromTrustedArray(ImmutableCollections.java:215)\u001b[0m",
      "\u001b[1m\u001b[31m\tat java.base/java.util.List.of(List.java:991)\u001b[0m",
      "\u001b[1m\u001b[31m\tat .(#79:1)\u001b[0m"
     ]
    }
   ],
   "source": [
    "//| output: true\n",
    "//| echo: false\n",
    "//| label: fig-rel-employe-composite-id\n",
    "//| fig-cap: \"An Employee with a composite Key/Id\"\n",
    "// PRINT SCHEMA\n",
    "String script=\"%\";\n",
    "\n",
    "IJava.getKernelInstance().getMagics().applyCellMagic(\"rdbmsSchema\",\n",
    "  List.of(System.getProperty(\"jakarta.persistence.jdbc.url\"),\n",
    "        System.getProperty(\"jakarta.persistence.jdbc.user\"),\n",
    "        System.getProperty(\"jakarta.persistence.jdbc.password\"),\"ex_embedded_id\"),script);  \n",
    "return null;"
   ]
  },
  {
   "cell_type": "code",
   "execution_count": 4,
   "id": "4aaef9cd-0e16-4639-912f-3c49b0eb9684",
   "metadata": {
    "vscode": {
     "languageId": "java"
    }
   },
   "outputs": [
    {
     "data": {
      "text/markdown": [
       "```Java\n",
       "@Getter\n",
       "@Setter\n",
       "\n",
       "@Entity(name=\"EmployeEmbeddedId\")\n",
       "@Table(name=\"EMPLOYE\", schema = \"EX_EMBEDDED_ID\")\n",
       "public class Employee {\n",
       "    @EmbeddedId\n",
       "    private EmployeePK id;\n",
       "    private String name;\n",
       "}\n",
       "```"
      ],
      "text/plain": [
       "```Java\n",
       "@Getter\n",
       "@Setter\n",
       "\n",
       "@Entity(name=\"EmployeEmbeddedId\")\n",
       "@Table(name=\"EMPLOYE\", schema = \"EX_EMBEDDED_ID\")\n",
       "public class Employee {\n",
       "    @EmbeddedId\n",
       "    private EmployeePK id;\n",
       "    private String name;\n",
       "}\n",
       "```"
      ]
     },
     "metadata": {},
     "output_type": "display_data"
    }
   ],
   "source": [
    "//| output: true\n",
    "//| echo: false\n",
    "//| label: fig-class-employee-embedded\n",
    "//| filename: X.java\n",
    "//| fig-cap: Employee.java\n",
    "// PRINT CLASS\n",
    "String script=\"/home/jovyan/work/src/github/ebpro/sample-hellojpa/src/main/java/fr/univtln/bruno/demos/jpa/hello/samples/ex_ids/ex_embedded/Employee.java\";\n",
    "\n",
    "IJava.getKernelInstance().getMagics().applyCellMagic(\"javasrcClassByName\",List.of(\"Employee\"),script);\n",
    "return null;"
   ]
  },
  {
   "cell_type": "code",
   "execution_count": 5,
   "id": "a8f77b51-2de1-439e-b005-07f5b1dc01f0",
   "metadata": {
    "vscode": {
     "languageId": "java"
    }
   },
   "outputs": [
    {
     "data": {
      "text/markdown": [
       "```Java\n",
       "@EqualsAndHashCode\n",
       "@Embeddable\n",
       "@AllArgsConstructor\n",
       "@NoArgsConstructor\n",
       "public class EmployeePK implements Serializable {\n",
       "    private String department;\n",
       "    private int rankInDepartment;\n",
       "}\n",
       "```"
      ],
      "text/plain": [
       "```Java\n",
       "@EqualsAndHashCode\n",
       "@Embeddable\n",
       "@AllArgsConstructor\n",
       "@NoArgsConstructor\n",
       "public class EmployeePK implements Serializable {\n",
       "    private String department;\n",
       "    private int rankInDepartment;\n",
       "}\n",
       "```"
      ]
     },
     "metadata": {},
     "output_type": "display_data"
    }
   ],
   "source": [
    "//| output: true\n",
    "//| echo: false\n",
    "//| label: fig-class-employee-embedded-PK\n",
    "//| filename: \n",
    "//| fig-cap: EmployeePK.java\n",
    "// PRINT CLASS\n",
    "String script=\"/home/jovyan/work/src/github/ebpro/sample-hellojpa/src/main/java/fr/univtln/bruno/demos/jpa/hello/samples/ex_ids/ex_embedded/EmployeePK.java\";\n",
    "\n",
    "IJava.getKernelInstance().getMagics().applyCellMagic(\"javasrcClassByName\",List.of(\"EmployeePK\"),script);\n",
    "return null;"
   ]
  },
  {
   "cell_type": "markdown",
   "id": "e8737fb3-7b99-4314-b663-1521a2512aa8",
   "metadata": {},
   "source": [
    "### Id Class"
   ]
  },
  {
   "cell_type": "code",
   "execution_count": 6,
   "id": "76a3c470-a90e-4cc0-be14-268b8e332915",
   "metadata": {
    "tags": [
     "remove-input"
    ],
    "vscode": {
     "languageId": "java"
    }
   },
   "outputs": [
    {
     "ename": "EvalException",
     "evalue": "null",
     "output_type": "error",
     "traceback": [
      "\u001b[1m\u001b[31m---------------------------------------------------------------------------\u001b[0m",
      "\u001b[1m\u001b[31mjava.lang.NullPointerException: null\u001b[0m",
      "\u001b[1m\u001b[31m\tat java.base/java.util.Objects.requireNonNull(Objects.java:233)\u001b[0m",
      "\u001b[1m\u001b[31m\tat java.base/java.util.ImmutableCollections.listFromTrustedArray(ImmutableCollections.java:215)\u001b[0m",
      "\u001b[1m\u001b[31m\tat java.base/java.util.List.of(List.java:991)\u001b[0m",
      "\u001b[1m\u001b[31m\tat .(#84:1)\u001b[0m"
     ]
    }
   ],
   "source": [
    "//| output: true\n",
    "//| echo: false\n",
    "//| label: fig-rel-employe-composite-id-idclass\n",
    "//| fig-cap: \"An Employee with a composite Key/Id\"\n",
    "// PRINT SCHEMA\n",
    "String script=\"%\";\n",
    "\n",
    "IJava.getKernelInstance().getMagics().applyCellMagic(\"rdbmsSchema\",\n",
    "  List.of(System.getProperty(\"jakarta.persistence.jdbc.url\"),\n",
    "        System.getProperty(\"jakarta.persistence.jdbc.user\"),\n",
    "        System.getProperty(\"jakarta.persistence.jdbc.password\"),\"ex_idclass\"),script);  \n",
    "return null;"
   ]
  },
  {
   "cell_type": "code",
   "execution_count": 7,
   "id": "31dbb712-4388-42b3-b7a1-f8ffe9ac20ec",
   "metadata": {
    "vscode": {
     "languageId": "java"
    }
   },
   "outputs": [
    {
     "data": {
      "text/markdown": [
       "```Java\n",
       "@Setter\n",
       "@Getter\n",
       "\n",
       "@Entity(name=\"EmployeIdClass\")\n",
       "@Table(name=\"EMPLOYE\", schema = \"EX_IDCLASS\")\n",
       "@IdClass(EmployeePK.class)\n",
       "public class Employee {\n",
       "    @Id\n",
       "    private String department;\n",
       "    @Id\n",
       "    private int rankInDepartment;\n",
       "    private String name;\n",
       "}\n",
       "```"
      ],
      "text/plain": [
       "```Java\n",
       "@Setter\n",
       "@Getter\n",
       "\n",
       "@Entity(name=\"EmployeIdClass\")\n",
       "@Table(name=\"EMPLOYE\", schema = \"EX_IDCLASS\")\n",
       "@IdClass(EmployeePK.class)\n",
       "public class Employee {\n",
       "    @Id\n",
       "    private String department;\n",
       "    @Id\n",
       "    private int rankInDepartment;\n",
       "    private String name;\n",
       "}\n",
       "```"
      ]
     },
     "metadata": {},
     "output_type": "display_data"
    }
   ],
   "source": [
    "//| output: true\n",
    "//| echo: false\n",
    "//| label: fig-class-employee-idclass\n",
    "//| filename: \n",
    "//| fig-cap: Employee.java\n",
    "// PRINT CLASS\n",
    "String script=\"/home/jovyan/work/src/github/ebpro/sample-hellojpa/src/main/java/fr/univtln/bruno/demos/jpa/hello/samples/ex_ids/ex_idclass/Employee.java\";\n",
    "\n",
    "IJava.getKernelInstance().getMagics().applyCellMagic(\"javasrcClassByName\",List.of(\"Employee\"),script);\n",
    "return null;"
   ]
  },
  {
   "cell_type": "code",
   "execution_count": 8,
   "id": "aab02238-39f6-4bd9-9307-463bd0ccb938",
   "metadata": {
    "vscode": {
     "languageId": "java"
    }
   },
   "outputs": [
    {
     "data": {
      "text/markdown": [
       "```Java\n",
       "@EqualsAndHashCode\n",
       "@Getter\n",
       "@AllArgsConstructor\n",
       "@NoArgsConstructor\n",
       "public class EmployeePK implements Serializable {\n",
       "    @Id\n",
       "    private String department;\n",
       "    @Id\n",
       "    private int rankInDepartment;\n",
       "}\n",
       "```"
      ],
      "text/plain": [
       "```Java\n",
       "@EqualsAndHashCode\n",
       "@Getter\n",
       "@AllArgsConstructor\n",
       "@NoArgsConstructor\n",
       "public class EmployeePK implements Serializable {\n",
       "    @Id\n",
       "    private String department;\n",
       "    @Id\n",
       "    private int rankInDepartment;\n",
       "}\n",
       "```"
      ]
     },
     "metadata": {},
     "output_type": "display_data"
    }
   ],
   "source": [
    "//| output: true\n",
    "//| echo: false\n",
    "//| label: fig-class-employee-idclass-PK\n",
    "//| filename: \n",
    "//| fig-cap: EmployeePK.java\n",
    "// PRINT CLASS\n",
    "String script=\"/home/jovyan/work/src/github/ebpro/sample-hellojpa/src/main/java/fr/univtln/bruno/demos/jpa/hello/samples/ex_ids/ex_idclass/EmployeePK.java\";\n",
    "\n",
    "IJava.getKernelInstance().getMagics().applyCellMagic(\"javasrcClassByName\",List.of(\"EmployeePK\"),script);\n",
    "return null;"
   ]
  },
  {
   "cell_type": "markdown",
   "id": "e4d6a9ca-0a61-4e30-beca-fbb376c30765",
   "metadata": {},
   "source": [
    "## Génération automatique des Id\n",
    "\n",
    "JPA offre plusieurs stratégies pour générer automatiquement les valeurs des identifiants. \n",
    "Ces stratégies sont définies au niveau de l'entité via l'annotation [\\@GeneratedValue](https://jakarta.ee/specifications/persistence/3.1/jakarta-persistence-spec-3.1#a14790) sur l'Id. \n",
    "\n",
    "Plusieurs stratégies sont possibles, par défaut `@GeneratedValue(strategy = GenerationType.AUTO` choisit automatiquement en fonction de la base de données. \n",
    "\n",
    "### générateur TABLE\n",
    "\n",
    "  Le générateur TABLE demande d'attribuer des clés primaires à l'entité en utilisant une table de base de données, c'est le plus portable mais le moins performant."
   ]
  },
  {
   "cell_type": "code",
   "execution_count": 9,
   "id": "cb66bc32-c8e1-41e6-b842-4db83ffc86fb",
   "metadata": {
    "tags": [
     "remove-input"
    ],
    "vscode": {
     "languageId": "java"
    }
   },
   "outputs": [
    {
     "data": {
      "text/markdown": [
       "```Java\n",
       "@NoArgsConstructor(access = AccessLevel.PROTECTED)\n",
       "@AllArgsConstructor\n",
       "@Builder\n",
       "@Getter\n",
       "\n",
       "@Entity(name = \"CustomerTableId\")\n",
       "@Table(name=\"CUSTOMER\", schema = \"EX_IDTABLE\")\n",
       "public class Customer {\n",
       "    @Id\n",
       "    @GeneratedValue(strategy = GenerationType.TABLE, generator = \"customer_table_generator\")\n",
       "    @TableGenerator(name = \"customer_table_generator\", schema = \"EX_IDTABLE\", table = \"ID_GENERATOR_TABLE\")\n",
       "    private Long id;\n",
       "\n",
       "    private String name;\n",
       "}\n",
       "```"
      ],
      "text/plain": [
       "```Java\n",
       "@NoArgsConstructor(access = AccessLevel.PROTECTED)\n",
       "@AllArgsConstructor\n",
       "@Builder\n",
       "@Getter\n",
       "\n",
       "@Entity(name = \"CustomerTableId\")\n",
       "@Table(name=\"CUSTOMER\", schema = \"EX_IDTABLE\")\n",
       "public class Customer {\n",
       "    @Id\n",
       "    @GeneratedValue(strategy = GenerationType.TABLE, generator = \"customer_table_generator\")\n",
       "    @TableGenerator(name = \"customer_table_generator\", schema = \"EX_IDTABLE\", table = \"ID_GENERATOR_TABLE\")\n",
       "    private Long id;\n",
       "\n",
       "    private String name;\n",
       "}\n",
       "```"
      ]
     },
     "metadata": {},
     "output_type": "display_data"
    }
   ],
   "source": [
    "//| output: true\n",
    "//| echo: false\n",
    "//| label: fig-class-employee-tableid-PK\n",
    "//| filename: \n",
    "//| fig-cap: EmployeePK.java\n",
    "// PRINT CLASS\n",
    "String script=\"/home/jovyan/work/src/github/ebpro/sample-hellojpa/src/main/java/fr/univtln/bruno/demos/jpa/hello/samples/ex_ids/ex_tableid/Customer.java\";\n",
    "\n",
    "IJava.getKernelInstance().getMagics().applyCellMagic(\"javasrcClassByName\",List.of(\"Customer\"),script);\n",
    "return null;        "
   ]
  },
  {
   "cell_type": "code",
   "execution_count": 10,
   "id": "54823e13-9c21-4d5c-91f8-7470cef57ec7",
   "metadata": {
    "tags": [
     "remove-input"
    ],
    "vscode": {
     "languageId": "java"
    }
   },
   "outputs": [
    {
     "ename": "EvalException",
     "evalue": "null",
     "output_type": "error",
     "traceback": [
      "\u001b[1m\u001b[31m---------------------------------------------------------------------------\u001b[0m",
      "\u001b[1m\u001b[31mjava.lang.NullPointerException: null\u001b[0m",
      "\u001b[1m\u001b[31m\tat java.base/java.util.Objects.requireNonNull(Objects.java:233)\u001b[0m",
      "\u001b[1m\u001b[31m\tat java.base/java.util.ImmutableCollections.listFromTrustedArray(ImmutableCollections.java:215)\u001b[0m",
      "\u001b[1m\u001b[31m\tat java.base/java.util.List.of(List.java:991)\u001b[0m",
      "\u001b[1m\u001b[31m\tat .(#91:1)\u001b[0m"
     ]
    }
   ],
   "source": [
    "//| output: true\n",
    "//| echo: false\n",
    "//| label: fig-rel-employe-composite-idtable\n",
    "//| fig-cap: \"An Employee with a composite Key/Id\"\n",
    "// PRINT SCHEMA\n",
    "String script=\"%\";\n",
    "\n",
    "IJava.getKernelInstance().getMagics().applyCellMagic(\"rdbmsSchema\",\n",
    "  List.of(System.getProperty(\"jakarta.persistence.jdbc.url\"),\n",
    "        System.getProperty(\"jakarta.persistence.jdbc.user\"),\n",
    "        System.getProperty(\"jakarta.persistence.jdbc.password\"),\"ex_idtable\"),script);  \n",
    "return null;"
   ]
  },
  {
   "cell_type": "markdown",
   "id": "eaf83195-cf08-45e2-b252-979763670a36",
   "metadata": {},
   "source": [
    "### Les générateur SEQUENCE et IDENTITY \n",
    "\n",
    "  * Les générateurs SEQUENCE et IDENTITY spécifient l'utilisation d'une séquence de base de données ou d'une colonne d'identité (plus performant, mais pas portable). [](https://jakarta.ee/specifications/persistence/3.1/jakarta-persistence-spec-3.1#a16164)."
   ]
  },
  {
   "cell_type": "code",
   "execution_count": 11,
   "id": "4a300255-4e17-4f2e-8804-abcb5b9400fa",
   "metadata": {
    "tags": [
     "remove-input"
    ],
    "vscode": {
     "languageId": "java"
    }
   },
   "outputs": [
    {
     "data": {
      "text/markdown": [
       "```Java\n",
       "@NoArgsConstructor(access = AccessLevel.PROTECTED)\n",
       "@AllArgsConstructor\n",
       "@Builder\n",
       "@Getter\n",
       "\n",
       "@Entity(name = \"CustomerSeqId\")\n",
       "@Table(name=\"CUSTOMER\", schema = \"EX_IDSEQ\")\n",
       "public class Customer {\n",
       "    @Id\n",
       "    @GeneratedValue(strategy = GenerationType.SEQUENCE, generator = \"seq_customer\")\n",
       "    @SequenceGenerator(name = \"seq_customer\", sequenceName = \"CUSTOMER_SEQUENCE\", allocationSize = 10)\n",
       "    private Long id;\n",
       "\n",
       "    private String name;\n",
       "}\n",
       "```"
      ],
      "text/plain": [
       "```Java\n",
       "@NoArgsConstructor(access = AccessLevel.PROTECTED)\n",
       "@AllArgsConstructor\n",
       "@Builder\n",
       "@Getter\n",
       "\n",
       "@Entity(name = \"CustomerSeqId\")\n",
       "@Table(name=\"CUSTOMER\", schema = \"EX_IDSEQ\")\n",
       "public class Customer {\n",
       "    @Id\n",
       "    @GeneratedValue(strategy = GenerationType.SEQUENCE, generator = \"seq_customer\")\n",
       "    @SequenceGenerator(name = \"seq_customer\", sequenceName = \"CUSTOMER_SEQUENCE\", allocationSize = 10)\n",
       "    private Long id;\n",
       "\n",
       "    private String name;\n",
       "}\n",
       "```"
      ]
     },
     "metadata": {},
     "output_type": "display_data"
    }
   ],
   "source": [
    "//| output: true\n",
    "//| echo: false\n",
    "//| label: fig-class-employee-seqid-PK\n",
    "//| filename: \n",
    "//| fig-cap: EmployeePK.java\n",
    "// PRINT CLASS\n",
    "String script=\"/home/jovyan/work/src/github/ebpro/sample-hellojpa/src/main/java/fr/univtln/bruno/demos/jpa/hello/samples/ex_ids/ex_seqid/Customer.java\";\n",
    "\n",
    "IJava.getKernelInstance().getMagics().applyCellMagic(\"javasrcClassByName\",List.of(\"Customer\"),script);\n",
    "return null;    "
   ]
  },
  {
   "cell_type": "code",
   "execution_count": 12,
   "id": "93302676-a78d-4901-ace7-47b8b2fd3479",
   "metadata": {
    "tags": [
     "remove-input"
    ],
    "vscode": {
     "languageId": "java"
    }
   },
   "outputs": [
    {
     "ename": "EvalException",
     "evalue": "null",
     "output_type": "error",
     "traceback": [
      "\u001b[1m\u001b[31m---------------------------------------------------------------------------\u001b[0m",
      "\u001b[1m\u001b[31mjava.lang.NullPointerException: null\u001b[0m",
      "\u001b[1m\u001b[31m\tat java.base/java.util.Objects.requireNonNull(Objects.java:233)\u001b[0m",
      "\u001b[1m\u001b[31m\tat java.base/java.util.ImmutableCollections.listFromTrustedArray(ImmutableCollections.java:215)\u001b[0m",
      "\u001b[1m\u001b[31m\tat java.base/java.util.List.of(List.java:991)\u001b[0m",
      "\u001b[1m\u001b[31m\tat .(#94:1)\u001b[0m"
     ]
    }
   ],
   "source": [
    "//| output: true\n",
    "//| echo: false\n",
    "//| label: fig-rel-employe-idseq\n",
    "//| fig-cap: \"An Employee with a composite Key/Id\"\n",
    "// PRINT SCHEMA\n",
    "String script=\"%\";\n",
    "\n",
    "IJava.getKernelInstance().getMagics().applyCellMagic(\"rdbmsSchema\",\n",
    "  List.of(System.getProperty(\"jakarta.persistence.jdbc.url\"),\n",
    "        System.getProperty(\"jakarta.persistence.jdbc.user\"),\n",
    "        System.getProperty(\"jakarta.persistence.jdbc.password\"),\"ex_idseq\"),script);  \n",
    "return null;"
   ]
  },
  {
   "cell_type": "markdown",
   "id": "3d240cfe-2327-44ac-92d7-8858706f7cb6",
   "metadata": {},
   "source": [
    "### UUIDs"
   ]
  },
  {
   "cell_type": "code",
   "execution_count": 13,
   "id": "4f881e29-0ecb-45c2-be5e-f68e27f2e19a",
   "metadata": {
    "tags": [
     "remove-input"
    ],
    "vscode": {
     "languageId": "java"
    }
   },
   "outputs": [
    {
     "data": {
      "text/markdown": [
       "```Java\n",
       "@Getter\n",
       "@Setter\n",
       "@ToString\n",
       "@RequiredArgsConstructor(staticName = \"of\")\n",
       "@NoArgsConstructor(access = AccessLevel.PROTECTED)\n",
       "\n",
       "@Entity\n",
       "@Table(name = \"CUSTOMER\", schema = \"EX_UUID\")\n",
       "public class Customer {\n",
       "    @Id\n",
       "    @GeneratedValue(strategy = GenerationType.UUID)\n",
       "    private UUID uuid;\n",
       "\n",
       "    @Column(length = 50, nullable = false)\n",
       "    @NonNull\n",
       "    private String name;\n",
       "}\n",
       "```"
      ],
      "text/plain": [
       "```Java\n",
       "@Getter\n",
       "@Setter\n",
       "@ToString\n",
       "@RequiredArgsConstructor(staticName = \"of\")\n",
       "@NoArgsConstructor(access = AccessLevel.PROTECTED)\n",
       "\n",
       "@Entity\n",
       "@Table(name = \"CUSTOMER\", schema = \"EX_UUID\")\n",
       "public class Customer {\n",
       "    @Id\n",
       "    @GeneratedValue(strategy = GenerationType.UUID)\n",
       "    private UUID uuid;\n",
       "\n",
       "    @Column(length = 50, nullable = false)\n",
       "    @NonNull\n",
       "    private String name;\n",
       "}\n",
       "```"
      ]
     },
     "metadata": {},
     "output_type": "display_data"
    }
   ],
   "source": [
    "//| output: true\n",
    "//| echo: false\n",
    "//| label: fig-class-employee-uuid-PK\n",
    "//| filename: \n",
    "//| fig-cap: EmployeePK.java\n",
    "// PRINT CLASS\n",
    "String script=\"/home/jovyan/work/src/github/ebpro/sample-hellojpa/src/main/java/fr/univtln/bruno/demos/jpa/hello/samples/ex_uuid/Customer.java\";\n",
    "\n",
    "IJava.getKernelInstance().getMagics().applyCellMagic(\"javasrcClassByName\",List.of(\"Customer\"),script);\n",
    "return null;        "
   ]
  },
  {
   "cell_type": "code",
   "execution_count": 14,
   "id": "6bac1129-e0e5-404d-9573-99e346600817",
   "metadata": {
    "tags": [
     "remove-input"
    ],
    "vscode": {
     "languageId": "java"
    }
   },
   "outputs": [
    {
     "ename": "EvalException",
     "evalue": "null",
     "output_type": "error",
     "traceback": [
      "\u001b[1m\u001b[31m---------------------------------------------------------------------------\u001b[0m",
      "\u001b[1m\u001b[31mjava.lang.NullPointerException: null\u001b[0m",
      "\u001b[1m\u001b[31m\tat java.base/java.util.Objects.requireNonNull(Objects.java:233)\u001b[0m",
      "\u001b[1m\u001b[31m\tat java.base/java.util.ImmutableCollections.listFromTrustedArray(ImmutableCollections.java:215)\u001b[0m",
      "\u001b[1m\u001b[31m\tat java.base/java.util.List.of(List.java:991)\u001b[0m",
      "\u001b[1m\u001b[31m\tat .(#97:1)\u001b[0m"
     ]
    }
   ],
   "source": [
    "//| output: true\n",
    "//| echo: false\n",
    "//| label: fig-rel-customer-uuid\n",
    "//| fig-cap: \"A Customer with a UUID\"\n",
    "// PRINT SCHEMA\n",
    "String script=\"%\";\n",
    "\n",
    "IJava.getKernelInstance().getMagics().applyCellMagic(\"rdbmsSchema\",\n",
    "  List.of(System.getProperty(\"jakarta.persistence.jdbc.url\"),\n",
    "        System.getProperty(\"jakarta.persistence.jdbc.user\"),\n",
    "        System.getProperty(\"jakarta.persistence.jdbc.password\"),\"ex_uuid\"),script);  \n",
    "return null;"
   ]
  },
  {
   "cell_type": "code",
   "execution_count": 15,
   "id": "c0c6336c-d2d3-46d4-8785-00674a7d130b",
   "metadata": {
    "vscode": {
     "languageId": "java"
    }
   },
   "outputs": [],
   "source": [
    "//| output: false\n",
    "//| echo: false\n",
    "import java.util.stream.Stream;\n",
    "import net.datafaker.Faker;\n",
    "\n",
    "import fr.univtln.bruno.demos.jpa.hello.samples.ex_uuid.Customer;"
   ]
  },
  {
   "cell_type": "code",
   "execution_count": 16,
   "id": "817454c6-ba02-4108-ac95-1e30b7b4ad0b",
   "metadata": {
    "tags": [],
    "vscode": {
     "languageId": "java"
    }
   },
   "outputs": [
    {
     "ename": "CompilationException",
     "evalue": "",
     "output_type": "error",
     "traceback": [
      "\u001b[1m\u001b[30m|   \u001b[1m\u001b[30mEntityManagerFactory emf = \u001b[0m\u001b[1m\u001b[30m\u001b[41mDatabaseManager.getInstance\u001b[0m\u001b[1m\u001b[30m().getEntityManagerFactory();\u001b[0m",
      "\u001b[1m\u001b[31mcannot find symbol\u001b[0m",
      "\u001b[1m\u001b[31m  symbol:   method getInstance()\u001b[0m",
      ""
     ]
    }
   ],
   "source": [
    "//| output: false\n",
    "//| echo: false\n",
    "import fr.univtln.bruno.demos.jpa.hello.samples.ex_associations.ex_onetomany_a.*;\n",
    "EntityManagerFactory emf = DatabaseManager.getInstance().getEntityManagerFactory();\n",
    "final Logger log = LoggerFactory.getLogger(\"notebook\");"
   ]
  },
  {
   "cell_type": "code",
   "execution_count": 17,
   "id": "510fc686-93ef-4c6f-bff2-432349652126",
   "metadata": {
    "vscode": {
     "languageId": "java"
    }
   },
   "outputs": [
    {
     "ename": "CompilationException",
     "evalue": "",
     "output_type": "error",
     "traceback": [
      "\u001b[1m\u001b[30m|   \u001b[1m\u001b[30mtry (EntityManager entityManager = \u001b[0m\u001b[1m\u001b[30m\u001b[41memf\u001b[0m\u001b[1m\u001b[30m.createEntityManager()) {\u001b[0m",
      "\u001b[1m\u001b[31mcannot find symbol\u001b[0m",
      "\u001b[1m\u001b[31m  symbol:   variable emf\u001b[0m",
      "",
      "\u001b[1m\u001b[30m|   \u001b[1m\u001b[30m            \u001b[0m\u001b[1m\u001b[30m\u001b[41mentityManager.createQuery(\"\"\"\u001b[0m",
      "\u001b[1m\u001b[30m|   \u001b[1m\u001b[30m\u001b[41m                    SELECT c \u001b[0m",
      "\u001b[1m\u001b[30m|   \u001b[1m\u001b[30m\u001b[41m                    FROM CustomerUUID c\"\"\")\u001b[0m",
      "\u001b[1m\u001b[30m|   \u001b[1m\u001b[30m\u001b[41m                    .setMaxResults(5)\u001b[0m",
      "\u001b[1m\u001b[30m|   \u001b[1m\u001b[30m\u001b[41m                    .getResultStream()\u001b[0m",
      "\u001b[1m\u001b[30m|   \u001b[1m\u001b[30m\u001b[41m                    .forEach(System.out::println)\u001b[0m\u001b[1m\u001b[30m;\u001b[0m",
      "\u001b[1m\u001b[31munchecked call to forEach(java.util.function.Consumer<? super T>) as a member of the raw type java.util.stream.Stream\u001b[0m",
      ""
     ]
    }
   ],
   "source": [
    "try (EntityManager entityManager = emf.createEntityManager()) {\n",
    "            entityManager.getTransaction().begin();\n",
    "\n",
    "            Faker faker = new Faker();\n",
    "\n",
    "            Stream.generate(() -> {\n",
    "                String fullname = faker.name().fullName();\n",
    "                return Customer.of(fullname);\n",
    "            }).limit(5).forEach(entityManager::persist);\n",
    "\n",
    "            entityManager.getTransaction().commit();\n",
    "\n",
    "            entityManager.createQuery(\"\"\"\n",
    "                    SELECT c \n",
    "                    FROM CustomerUUID c\"\"\")\n",
    "                    .setMaxResults(5)\n",
    "                    .getResultStream()\n",
    "                    .forEach(System.out::println);\n",
    "        }"
   ]
  },
  {
   "cell_type": "code",
   "execution_count": 18,
   "id": "8c4a2f5e-b373-4fc3-b71e-b74c11ff9831",
   "metadata": {
    "vscode": {
     "languageId": "java"
    }
   },
   "outputs": [],
   "source": []
  }
 ],
 "metadata": {
  "kernelspec": {
   "display_name": "Java [conda env:root] *",
   "language": "java",
   "name": "conda-root-java"
  },
  "language_info": {
   "codemirror_mode": "java",
   "file_extension": ".jshell",
   "mimetype": "text/x-java-source",
   "name": "Java",
   "pygments_lexer": "java",
   "version": "21.0.2+13-LTS"
  }
 },
 "nbformat": 4,
 "nbformat_minor": 5
}
