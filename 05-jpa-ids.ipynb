{
 "cells": [
  {
   "cell_type": "markdown",
   "id": "c6995753-b806-40e6-bdac-9926c79036d6",
   "metadata": {
    "user_expressions": []
   },
   "source": [
    "# Les identifiants"
   ]
  },
  {
   "cell_type": "code",
   "execution_count": 1,
   "id": "43372718-f190-470e-a742-f3871ef790fc",
   "metadata": {
    "tags": [
     "remove-cell"
    ]
   },
   "outputs": [],
   "source": [
    "%%shell\n",
    "(cd samples/hellojpa && mvn --quiet clean package )"
   ]
  },
  {
   "cell_type": "code",
   "execution_count": 72,
   "id": "8ec6cd6e-2738-4ae5-b288-5acafe334f77",
   "metadata": {
    "tags": [
     "remove",
     "remove-cell"
    ]
   },
   "outputs": [
    {
     "name": "stdout",
     "output_type": "stream",
     "text": [
      "H2-JPADemo\n"
     ]
    }
   ],
   "source": [
    "%%shell\n",
    "docker start H2-JPADemo || docker run --quiet --detach --rm --name=H2-JPADemo \\\n",
    "    -e PUID=$UID -e PGID=$GID \\\n",
    "    -e H2_ARGS=\"-tcp -tcpAllowOthers -ifNotExists\" \\\n",
    "    -p 9092:9092 \\\n",
    "    -v h2-data:/opt/h2-data \\\n",
    "    brunoe/docker-database-h2:develop"
   ]
  },
  {
   "cell_type": "code",
   "execution_count": 2,
   "id": "40fdf3f7-a727-457d-8099-9fb3fab4d31b",
   "metadata": {
    "tags": [
     "remove-cell"
    ]
   },
   "outputs": [
    {
     "name": "stdout",
     "output_type": "stream",
     "text": [
      "18:11:22.757 INFO  f.u.b.d.jpa.hello.DatabaseManager - Override JPA config jakarta.persistence.jdbc.url with system property jakarta.persistence.jdbc.url\n",
      "18:11:22.762 INFO  f.u.b.d.jpa.hello.DatabaseManager - Override JPA config jakarta.persistence.jdbc.user with system property jakarta.persistence.jdbc.user\n",
      "18:11:22.765 INFO  f.u.b.d.jpa.hello.DatabaseManager - Override JPA config jakarta.persistence.jdbc.password with system property jakarta.persistence.jdbc.password\n",
      "18:11:24.649 INFO  com.mchange.v2.log.MLog - MLog clients using slf4j logging.\n",
      "18:11:24.878 INFO  SQL dialect - HHH000400: Using dialect: org.hibernate.dialect.H2Dialect\n"
     ]
    }
   ],
   "source": [
    "%jars samples/hellojpa/target/*-SNAPSHOT-jar-with-dependencies.jar\n",
    "\n",
    "import jakarta.persistence.*;\n",
    "import fr.univtln.bruno.demos.jpa.hello.DatabaseManager;\n",
    "System.setProperty(\"jakarta.persistence.jdbc.url\",\"jdbc:h2:tcp://host.docker.internal/hellojpa-db\");\n",
    "\n",
    "try (EntityManager entityManager = DatabaseManager.ENTITY_MANAGER_FACTORY.createEntityManager()) { }"
   ]
  },
  {
   "cell_type": "code",
   "execution_count": 3,
   "id": "0da20ab8-c36e-4dba-a3eb-512d8e3c52d1",
   "metadata": {
    "tags": [
     "remove-cell"
    ]
   },
   "outputs": [],
   "source": [
    "%maven net.datafaker:datafaker:1.8.0\n",
    "import net.datafaker.Faker;"
   ]
  },
  {
   "cell_type": "code",
   "execution_count": 4,
   "id": "96f0e5c1-e793-4d5a-bf0a-a1ca6f85783d",
   "metadata": {
    "tags": [
     "remove-cell"
    ]
   },
   "outputs": [],
   "source": [
    "import org.slf4j.Logger;\n",
    "import org.slf4j.LoggerFactory;\n",
    "\n",
    "Logger log = LoggerFactory.getLogger(\"Notebook\");"
   ]
  },
  {
   "cell_type": "markdown",
   "id": "3d240cfe-2327-44ac-92d7-8858706f7cb6",
   "metadata": {
    "user_expressions": []
   },
   "source": [
    "## UUIDs"
   ]
  },
  {
   "cell_type": "code",
   "execution_count": 4,
   "id": "4f881e29-0ecb-45c2-be5e-f68e27f2e19a",
   "metadata": {
    "tags": [
     "remove-input"
    ]
   },
   "outputs": [
    {
     "data": {
      "text/markdown": [
       "```Java\n",
       "@Entity\n",
       "@Data\n",
       "@RequiredArgsConstructor(staticName = \"of\")\n",
       "@NoArgsConstructor(access = AccessLevel.PROTECTED)\n",
       "@Table(name = \"CUSTOMER\", schema = \"EX_UUID\")\n",
       "public class Customer {\n",
       "\n",
       "    @Id\n",
       "    @GeneratedValue(strategy = GenerationType.UUID)\n",
       "    private UUID uuid;\n",
       "\n",
       "    @Column(length = 50, nullable = false)\n",
       "    @NonNull\n",
       "    private String name;\n",
       "}\n",
       "```"
      ],
      "text/plain": [
       "```Java\n",
       "@Entity\n",
       "@Data\n",
       "@RequiredArgsConstructor(staticName = \"of\")\n",
       "@NoArgsConstructor(access = AccessLevel.PROTECTED)\n",
       "@Table(name = \"CUSTOMER\", schema = \"EX_UUID\")\n",
       "public class Customer {\n",
       "\n",
       "    @Id\n",
       "    @GeneratedValue(strategy = GenerationType.UUID)\n",
       "    private UUID uuid;\n",
       "\n",
       "    @Column(length = 50, nullable = false)\n",
       "    @NonNull\n",
       "    private String name;\n",
       "}\n",
       "```"
      ]
     },
     "metadata": {},
     "output_type": "display_data"
    }
   ],
   "source": [
    "%%javasrcClassByName Customer\n",
    "samples/hellojpa/src/main/java/fr/univtln/bruno/demos/jpa/hello/samples/ex_uuid/Customer.java"
   ]
  },
  {
   "cell_type": "code",
   "execution_count": 5,
   "id": "68f3f65f-b9be-487a-92ae-de0d9d371c15",
   "metadata": {},
   "outputs": [
    {
     "name": "stdout",
     "output_type": "stream",
     "text": [
      "Customer(uuid=6c8f49c3-ab06-46d3-b3c4-afffa5dce270, name=Faye Steuber Jr.)\n",
      "Customer(uuid=7b45f312-44ab-4b46-8c07-f9f5e5f85eff, name=Donald Romaguera III)\n",
      "Customer(uuid=f61a0da6-3300-4521-9298-d69afa27faad, name=Jordon Huel)\n",
      "Customer(uuid=ffa3af0a-811b-4695-8788-8cd1e6a89816, name=Evan Douglas)\n",
      "Customer(uuid=9d608bb4-3713-4d3f-8ea4-18771adc23ec, name=Thalia Boyle)\n"
     ]
    }
   ],
   "source": [
    "import java.util.stream.Stream;\n",
    "\n",
    "import fr.univtln.bruno.demos.jpa.hello.samples.ex_UUID.Customer;\n",
    "\n",
    "try (EntityManager entityManager = DatabaseManager.ENTITY_MANAGER_FACTORY.createEntityManager()) {\n",
    "            entityManager.getTransaction().begin();\n",
    "\n",
    "            Faker faker = new Faker();\n",
    "\n",
    "            Stream.generate(() -> {\n",
    "                String fullname = faker.name().fullName();\n",
    "                return Customer.of(fullname);\n",
    "            }).limit(5).forEach(entityManager::persist);\n",
    "\n",
    "            entityManager.getTransaction().commit();\n",
    "\n",
    "            entityManager.createQuery(\"\"\"\n",
    "                    SELECT c \n",
    "                    FROM CustomerUUID c\"\"\")\n",
    "                    .setMaxResults(5)\n",
    "                    .getResultStream()\n",
    "                    .forEach(System.out::println);\n",
    "        }"
   ]
  },
  {
   "cell_type": "code",
   "execution_count": null,
   "id": "bf7438ad-e48c-44ea-b222-cfbe736a01b5",
   "metadata": {},
   "outputs": [],
   "source": []
  }
 ],
 "metadata": {
  "kernelspec": {
   "display_name": "Java [conda env:root] *",
   "language": "java",
   "name": "conda-root-java"
  },
  "language_info": {
   "codemirror_mode": "java",
   "file_extension": ".jshell",
   "mimetype": "text/x-java-source",
   "name": "Java",
   "pygments_lexer": "java",
   "version": "19.0.2+7"
  }
 },
 "nbformat": 4,
 "nbformat_minor": 5
}
