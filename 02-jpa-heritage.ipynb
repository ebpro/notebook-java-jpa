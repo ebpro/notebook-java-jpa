{
 "cells": [
  {
   "cell_type": "markdown",
   "id": "4a1ed919-8005-4a19-826f-443c82e4537b",
   "metadata": {},
   "source": [
    "## L'héritage"
   ]
  },
  {
   "cell_type": "code",
   "execution_count": 3,
   "id": "94d9ec31-48da-4f2a-bf9b-585ced1f3b36",
   "metadata": {
    "tags": [
     "remove"
    ]
   },
   "outputs": [],
   "source": [
    "%%shell\n",
    "(cd samples/hellojpa && mvn --quiet clean package )"
   ]
  },
  {
   "cell_type": "code",
   "execution_count": 72,
   "id": "9c3ff491-3cda-4026-8d14-5d414dd9fa52",
   "metadata": {
    "tags": [
     "remove"
    ]
   },
   "outputs": [
    {
     "name": "stdout",
     "output_type": "stream",
     "text": [
      "H2-JPADemo\n"
     ]
    }
   ],
   "source": [
    "%%shell\n",
    "docker start H2-JPADemo || docker run --quiet --detach --rm --name=H2-JPADemo \\\n",
    "    -e PUID=$UID -e PGID=$GID \\\n",
    "    -e H2_ARGS=\"-tcp -tcpAllowOthers -ifNotExists\" \\\n",
    "    -p 9092:9092 \\\n",
    "    -v h2-data:/opt/h2-data \\\n",
    "    brunoe/docker-database-h2:develop"
   ]
  },
  {
   "cell_type": "code",
   "execution_count": 20,
   "id": "4e88c093-0863-4827-93cc-de00a4f6aafe",
   "metadata": {
    "tags": [
     "remove"
    ]
   },
   "outputs": [],
   "source": [
    "%jars samples/hellojpa/target/*-SNAPSHOT-jar-with-dependencies.jar\n",
    "\n",
    "import jakarta.persistence.*;\n",
    "import fr.univtln.bruno.demos.jpa.hello.DatabaseManager;\n",
    "System.setProperty(\"jakarta.persistence.jdbc.url\",\"jdbc:h2:tcp://host.docker.internal/hellojpa-db\");\n",
    "\n",
    "try (EntityManager entityManager = DatabaseManager.ENTITY_MANAGER_FACTORY.createEntityManager()) { }"
   ]
  },
  {
   "cell_type": "code",
   "execution_count": 4,
   "id": "3d1f177f-9f22-4602-8bf6-13657a7c3ea2",
   "metadata": {
    "tags": [
     "remove-cell"
    ]
   },
   "outputs": [],
   "source": [
    "import org.slf4j.Logger;\n",
    "import org.slf4j.LoggerFactory;\n",
    "\n",
    "Logger log = LoggerFactory.getLogger(\"Notebook\");"
   ]
  },
  {
   "cell_type": "code",
   "execution_count": null,
   "id": "6c068e10-70c7-4b2a-8081-d46ef250ff61",
   "metadata": {},
   "outputs": [],
   "source": []
  }
 ],
 "metadata": {
  "kernelspec": {
   "display_name": "Java [conda env:root] *",
   "language": "java",
   "name": "conda-root-java"
  },
  "language_info": {
   "codemirror_mode": "java",
   "file_extension": ".jshell",
   "mimetype": "text/x-java-source",
   "name": "Java",
   "pygments_lexer": "java",
   "version": "19.0.2+7"
  }
 },
 "nbformat": 4,
 "nbformat_minor": 5
}
