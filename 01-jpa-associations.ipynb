{
 "cells": [
  {
   "cell_type": "code",
   "execution_count": 2,
   "id": "4f1e4f90-adcc-4f87-addf-62bc061a5cdd",
   "metadata": {
    "tags": [
     "remove-cell"
    ]
   },
   "outputs": [],
   "source": [
    "%%shell\n",
    "(cd samples/hellojpa && mvn --quiet clean package )"
   ]
  },
  {
   "cell_type": "code",
   "execution_count": 72,
   "id": "7bf5b88f-ce8f-4429-a578-04090ef64f7a",
   "metadata": {
    "tags": [
     "remove-output",
     "remove-cell"
    ]
   },
   "outputs": [
    {
     "name": "stdout",
     "output_type": "stream",
     "text": [
      "H2-JPADemo\n"
     ]
    }
   ],
   "source": [
    "%%shell\n",
    "docker start H2-JPADemo || docker run --quiet --detach --rm --name=H2-JPADemo \\\n",
    "    -e PUID=$UID -e PGID=$GID \\\n",
    "    -e H2_ARGS=\"-tcp -tcpAllowOthers -ifNotExists\" \\\n",
    "    -p 9092:9092 \\\n",
    "    -v h2-data:/opt/h2-data \\\n",
    "    brunoe/docker-database-h2:develop"
   ]
  },
  {
   "cell_type": "code",
   "execution_count": 3,
   "id": "311e7a9f-d3b1-45cb-b616-ff7e293b56d5",
   "metadata": {
    "tags": [
     "remove-cell"
    ]
   },
   "outputs": [
    {
     "name": "stdout",
     "output_type": "stream",
     "text": [
      "19:22:37.336 INFO  f.u.b.d.jpa.hello.DatabaseManager - Override JPA config jakarta.persistence.jdbc.url with system property jakarta.persistence.jdbc.url\n",
      "19:22:37.339 INFO  f.u.b.d.jpa.hello.DatabaseManager - Override JPA config jakarta.persistence.jdbc.user with system property jakarta.persistence.jdbc.user\n",
      "19:22:37.339 INFO  f.u.b.d.jpa.hello.DatabaseManager - Override JPA config jakarta.persistence.jdbc.password with system property jakarta.persistence.jdbc.password\n",
      "19:22:38.881 INFO  com.mchange.v2.log.MLog - MLog clients using slf4j logging.\n",
      "19:22:39.097 INFO  SQL dialect - HHH000400: Using dialect: org.hibernate.dialect.H2Dialect\n"
     ]
    }
   ],
   "source": [
    "%jars samples/hellojpa/target/*-SNAPSHOT-jar-with-dependencies.jar\n",
    "\n",
    "import jakarta.persistence.*;\n",
    "import fr.univtln.bruno.demos.jpa.hello.DatabaseManager;\n",
    "System.setProperty(\"jakarta.persistence.jdbc.url\",\"jdbc:h2:tcp://host.docker.internal/hellojpa-db\");\n",
    "\n",
    "try (EntityManager entityManager = DatabaseManager.ENTITY_MANAGER_FACTORY.createEntityManager()) { }"
   ]
  },
  {
   "cell_type": "code",
   "execution_count": 4,
   "id": "96f0e5c1-e793-4d5a-bf0a-a1ca6f85783d",
   "metadata": {
    "tags": [
     "remove-cell"
    ]
   },
   "outputs": [],
   "source": [
    "import org.slf4j.Logger;\n",
    "import org.slf4j.LoggerFactory;\n",
    "\n",
    "Logger log = LoggerFactory.getLogger(\"Notebook\");"
   ]
  },
  {
   "cell_type": "markdown",
   "id": "44c904e8-2840-4d0e-a996-dd7de415b6aa",
   "metadata": {
    "user_expressions": []
   },
   "source": [
    "# Les associations"
   ]
  },
  {
   "cell_type": "markdown",
   "id": "9baadb67-ee3a-4a71-bc89-a5b419adeb31",
   "metadata": {
    "tags": [],
    "user_expressions": []
   },
   "source": [
    "# Les relations entre entités\n",
    "\n",
    "## OneToOne"
   ]
  },
  {
   "cell_type": "markdown",
   "id": "fca45a5b-a581-4cc0-902d-cb0925684ecf",
   "metadata": {
    "user_expressions": []
   },
   "source": [
    "Parfois, la modélisation orientée objet conduit à utiliser deux classes en relation 1-1 mais que l'on souhaite associer à une seule relation."
   ]
  },
  {
   "cell_type": "code",
   "execution_count": 6,
   "id": "9c730284-4fac-4a59-99e9-d9e524befb85",
   "metadata": {
    "tags": [
     "remove-input"
    ]
   },
   "outputs": [
    {
     "data": {
      "image/svg+xml": [
       "<?xml version=\"1.0\" encoding=\"UTF-8\" standalone=\"no\"?><svg xmlns=\"http://www.w3.org/2000/svg\" xmlns:xlink=\"http://www.w3.org/1999/xlink\" contentStyleType=\"text/css\" height=\"94px\" preserveAspectRatio=\"none\" style=\"width:304px;height:94px;background:#FFFFFF;\" version=\"1.1\" viewBox=\"0 0 304 94\" width=\"304px\" zoomAndPan=\"magnify\"><defs/><g><!--MD5=[d059406cf9eabd81b57e7c1a305898b1]\n",
       "class Biography--><g id=\"elem_Biography\"><rect codeLine=\"1\" fill=\"#F1F1F1\" height=\"80.5938\" id=\"Biography\" rx=\"2.5\" ry=\"2.5\" style=\"stroke:#181818;stroke-width:0.5;\" width=\"141\" x=\"156.5\" y=\"7\"/><ellipse cx=\"189.5\" cy=\"23\" fill=\"#ADD1B2\" rx=\"11\" ry=\"11\" style=\"stroke:#181818;stroke-width:1.0;\"/><path d=\"M192.4688,28.6406 Q191.8906,28.9375 191.25,29.0781 Q190.6094,29.2344 189.9063,29.2344 Q187.4063,29.2344 186.0781,27.5938 Q184.7656,25.9375 184.7656,22.8125 Q184.7656,19.6875 186.0781,18.0313 Q187.4063,16.375 189.9063,16.375 Q190.6094,16.375 191.25,16.5313 Q191.9063,16.6875 192.4688,16.9844 L192.4688,19.7031 Q191.8438,19.125 191.25,18.8594 Q190.6563,18.5781 190.0313,18.5781 Q188.6875,18.5781 188,19.6563 Q187.3125,20.7188 187.3125,22.8125 Q187.3125,24.9063 188,25.9844 Q188.6875,27.0469 190.0313,27.0469 Q190.6563,27.0469 191.25,26.7813 Q191.8438,26.5 192.4688,25.9219 L192.4688,28.6406 Z \" fill=\"#000000\"/><text fill=\"#000000\" font-family=\"sans-serif\" font-size=\"14\" lengthAdjust=\"spacing\" textLength=\"69\" x=\"207.5\" y=\"27.8467\">Biography</text><line style=\"stroke:#181818;stroke-width:0.5;\" x1=\"157.5\" x2=\"296.5\" y1=\"39\" y2=\"39\"/><rect fill=\"none\" height=\"6\" style=\"stroke:#C82930;stroke-width:1.0;\" width=\"6\" x=\"164.5\" y=\"49.6484\"/><text fill=\"#000000\" font-family=\"sans-serif\" font-size=\"14\" lengthAdjust=\"spacing\" textLength=\"79\" x=\"176.5\" y=\"55.9951\">brief: String</text><rect fill=\"none\" height=\"6\" style=\"stroke:#C82930;stroke-width:1.0;\" width=\"6\" x=\"164.5\" y=\"65.9453\"/><text fill=\"#000000\" font-family=\"sans-serif\" font-size=\"14\" lengthAdjust=\"spacing\" textLength=\"115\" x=\"176.5\" y=\"72.292\">extended: String</text><line style=\"stroke:#181818;stroke-width:0.5;\" x1=\"157.5\" x2=\"296.5\" y1=\"79.5938\" y2=\"79.5938\"/></g><!--MD5=[2ce0c9fb7f55b1e256ab28a8ea6b25ec]\n",
       "class Customer--><g id=\"elem_Customer\"><rect codeLine=\"5\" fill=\"#F1F1F1\" height=\"80.5938\" id=\"Customer\" rx=\"2.5\" ry=\"2.5\" style=\"stroke:#181818;stroke-width:0.5;\" width=\"114\" x=\"7\" y=\"7\"/><ellipse cx=\"28.3\" cy=\"23\" fill=\"#ADD1B2\" rx=\"11\" ry=\"11\" style=\"stroke:#181818;stroke-width:1.0;\"/><path d=\"M31.2688,28.6406 Q30.6906,28.9375 30.05,29.0781 Q29.4094,29.2344 28.7063,29.2344 Q26.2063,29.2344 24.8781,27.5938 Q23.5656,25.9375 23.5656,22.8125 Q23.5656,19.6875 24.8781,18.0313 Q26.2063,16.375 28.7063,16.375 Q29.4094,16.375 30.05,16.5313 Q30.7063,16.6875 31.2688,16.9844 L31.2688,19.7031 Q30.6438,19.125 30.05,18.8594 Q29.4563,18.5781 28.8313,18.5781 Q27.4875,18.5781 26.8,19.6563 Q26.1125,20.7188 26.1125,22.8125 Q26.1125,24.9063 26.8,25.9844 Q27.4875,27.0469 28.8313,27.0469 Q29.4563,27.0469 30.05,26.7813 Q30.6438,26.5 31.2688,25.9219 L31.2688,28.6406 Z \" fill=\"#000000\"/><text fill=\"#000000\" font-family=\"sans-serif\" font-size=\"14\" lengthAdjust=\"spacing\" textLength=\"68\" x=\"43.7\" y=\"27.8467\">Customer</text><line style=\"stroke:#181818;stroke-width:0.5;\" x1=\"8\" x2=\"120\" y1=\"39\" y2=\"39\"/><rect fill=\"none\" height=\"6\" style=\"stroke:#C82930;stroke-width:1.0;\" width=\"6\" x=\"15\" y=\"49.6484\"/><text fill=\"#000000\" font-family=\"sans-serif\" font-size=\"14\" lengthAdjust=\"spacing\" textLength=\"51\" x=\"27\" y=\"55.9951\">id: long</text><rect fill=\"none\" height=\"6\" style=\"stroke:#C82930;stroke-width:1.0;\" width=\"6\" x=\"15\" y=\"65.9453\"/><text fill=\"#000000\" font-family=\"sans-serif\" font-size=\"14\" lengthAdjust=\"spacing\" textLength=\"88\" x=\"27\" y=\"72.292\">name: String</text><line style=\"stroke:#181818;stroke-width:0.5;\" x1=\"8\" x2=\"120\" y1=\"79.5938\" y2=\"79.5938\"/></g><!--MD5=[de7dda021cbbc09aab32ad2a24676db1]\n",
       "reverse link Customer to Biography--><g id=\"link_Customer_Biography\"><path codeLine=\"10\" d=\"M134.46,47.5 C141.78,47.5 149.09,47.5 156.4,47.5 \" fill=\"none\" id=\"Customer-backto-Biography\" style=\"stroke:#181818;stroke-width:1.0;\"/><polygon fill=\"#181818\" points=\"121.3,47.5,127.3,51.5,133.3,47.5,127.3,43.5,121.3,47.5\" style=\"stroke:#181818;stroke-width:1.0;\"/><text fill=\"#000000\" font-family=\"sans-serif\" font-size=\"13\" lengthAdjust=\"spacing\" textLength=\"8\" x=\"129.1541\" y=\"43.6405\">1</text><text fill=\"#000000\" font-family=\"sans-serif\" font-size=\"13\" lengthAdjust=\"spacing\" textLength=\"8\" x=\"140.7069\" y=\"43.8213\">1</text></g><!--MD5=[25c9ce59abe662d2017c28e423be5eeb]\n",
       "@startuml\r\n",
       "class Biography {\r\n",
       "    - brief: String\r\n",
       "    - extended: String\r\n",
       "}\r\n",
       "class Customer {\r\n",
       "    - id: long\r\n",
       "    - name: String\r\n",
       "}\r\n",
       "\r\n",
       "Customer \"1\" *-right- \"1\" Biography\r\n",
       "@enduml\r\n",
       "\n",
       "PlantUML version 1.2022.12(Sun Oct 23 18:12:26 UTC 2022)\n",
       "(GPL source distribution)\n",
       "Java Runtime: OpenJDK Runtime Environment\n",
       "JVM: OpenJDK 64-Bit Server VM\n",
       "Default Encoding: UTF-8\n",
       "Language: en\n",
       "Country: US\n",
       "--></g></svg>"
      ],
      "text/plain": [
       "<?xml version=\"1.0\" encoding=\"UTF-8\" standalone=\"no\"?><svg xmlns=\"http://www.w3.org/2000/svg\" xmlns:xlink=\"http://www.w3.org/1999/xlink\" contentStyleType=\"text/css\" height=\"94px\" preserveAspectRatio=\"none\" style=\"width:304px;height:94px;background:#FFFFFF;\" version=\"1.1\" viewBox=\"0 0 304 94\" width=\"304px\" zoomAndPan=\"magnify\"><defs/><g><!--MD5=[d059406cf9eabd81b57e7c1a305898b1]\n",
       "class Biography--><g id=\"elem_Biography\"><rect codeLine=\"1\" fill=\"#F1F1F1\" height=\"80.5938\" id=\"Biography\" rx=\"2.5\" ry=\"2.5\" style=\"stroke:#181818;stroke-width:0.5;\" width=\"141\" x=\"156.5\" y=\"7\"/><ellipse cx=\"189.5\" cy=\"23\" fill=\"#ADD1B2\" rx=\"11\" ry=\"11\" style=\"stroke:#181818;stroke-width:1.0;\"/><path d=\"M192.4688,28.6406 Q191.8906,28.9375 191.25,29.0781 Q190.6094,29.2344 189.9063,29.2344 Q187.4063,29.2344 186.0781,27.5938 Q184.7656,25.9375 184.7656,22.8125 Q184.7656,19.6875 186.0781,18.0313 Q187.4063,16.375 189.9063,16.375 Q190.6094,16.375 191.25,16.5313 Q191.9063,16.6875 192.4688,16.9844 L192.4688,19.7031 Q191.8438,19.125 191.25,18.8594 Q190.6563,18.5781 190.0313,18.5781 Q188.6875,18.5781 188,19.6563 Q187.3125,20.7188 187.3125,22.8125 Q187.3125,24.9063 188,25.9844 Q188.6875,27.0469 190.0313,27.0469 Q190.6563,27.0469 191.25,26.7813 Q191.8438,26.5 192.4688,25.9219 L192.4688,28.6406 Z \" fill=\"#000000\"/><text fill=\"#000000\" font-family=\"sans-serif\" font-size=\"14\" lengthAdjust=\"spacing\" textLength=\"69\" x=\"207.5\" y=\"27.8467\">Biography</text><line style=\"stroke:#181818;stroke-width:0.5;\" x1=\"157.5\" x2=\"296.5\" y1=\"39\" y2=\"39\"/><rect fill=\"none\" height=\"6\" style=\"stroke:#C82930;stroke-width:1.0;\" width=\"6\" x=\"164.5\" y=\"49.6484\"/><text fill=\"#000000\" font-family=\"sans-serif\" font-size=\"14\" lengthAdjust=\"spacing\" textLength=\"79\" x=\"176.5\" y=\"55.9951\">brief: String</text><rect fill=\"none\" height=\"6\" style=\"stroke:#C82930;stroke-width:1.0;\" width=\"6\" x=\"164.5\" y=\"65.9453\"/><text fill=\"#000000\" font-family=\"sans-serif\" font-size=\"14\" lengthAdjust=\"spacing\" textLength=\"115\" x=\"176.5\" y=\"72.292\">extended: String</text><line style=\"stroke:#181818;stroke-width:0.5;\" x1=\"157.5\" x2=\"296.5\" y1=\"79.5938\" y2=\"79.5938\"/></g><!--MD5=[2ce0c9fb7f55b1e256ab28a8ea6b25ec]\n",
       "class Customer--><g id=\"elem_Customer\"><rect codeLine=\"5\" fill=\"#F1F1F1\" height=\"80.5938\" id=\"Customer\" rx=\"2.5\" ry=\"2.5\" style=\"stroke:#181818;stroke-width:0.5;\" width=\"114\" x=\"7\" y=\"7\"/><ellipse cx=\"28.3\" cy=\"23\" fill=\"#ADD1B2\" rx=\"11\" ry=\"11\" style=\"stroke:#181818;stroke-width:1.0;\"/><path d=\"M31.2688,28.6406 Q30.6906,28.9375 30.05,29.0781 Q29.4094,29.2344 28.7063,29.2344 Q26.2063,29.2344 24.8781,27.5938 Q23.5656,25.9375 23.5656,22.8125 Q23.5656,19.6875 24.8781,18.0313 Q26.2063,16.375 28.7063,16.375 Q29.4094,16.375 30.05,16.5313 Q30.7063,16.6875 31.2688,16.9844 L31.2688,19.7031 Q30.6438,19.125 30.05,18.8594 Q29.4563,18.5781 28.8313,18.5781 Q27.4875,18.5781 26.8,19.6563 Q26.1125,20.7188 26.1125,22.8125 Q26.1125,24.9063 26.8,25.9844 Q27.4875,27.0469 28.8313,27.0469 Q29.4563,27.0469 30.05,26.7813 Q30.6438,26.5 31.2688,25.9219 L31.2688,28.6406 Z \" fill=\"#000000\"/><text fill=\"#000000\" font-family=\"sans-serif\" font-size=\"14\" lengthAdjust=\"spacing\" textLength=\"68\" x=\"43.7\" y=\"27.8467\">Customer</text><line style=\"stroke:#181818;stroke-width:0.5;\" x1=\"8\" x2=\"120\" y1=\"39\" y2=\"39\"/><rect fill=\"none\" height=\"6\" style=\"stroke:#C82930;stroke-width:1.0;\" width=\"6\" x=\"15\" y=\"49.6484\"/><text fill=\"#000000\" font-family=\"sans-serif\" font-size=\"14\" lengthAdjust=\"spacing\" textLength=\"51\" x=\"27\" y=\"55.9951\">id: long</text><rect fill=\"none\" height=\"6\" style=\"stroke:#C82930;stroke-width:1.0;\" width=\"6\" x=\"15\" y=\"65.9453\"/><text fill=\"#000000\" font-family=\"sans-serif\" font-size=\"14\" lengthAdjust=\"spacing\" textLength=\"88\" x=\"27\" y=\"72.292\">name: String</text><line style=\"stroke:#181818;stroke-width:0.5;\" x1=\"8\" x2=\"120\" y1=\"79.5938\" y2=\"79.5938\"/></g><!--MD5=[de7dda021cbbc09aab32ad2a24676db1]\n",
       "reverse link Customer to Biography--><g id=\"link_Customer_Biography\"><path codeLine=\"10\" d=\"M134.46,47.5 C141.78,47.5 149.09,47.5 156.4,47.5 \" fill=\"none\" id=\"Customer-backto-Biography\" style=\"stroke:#181818;stroke-width:1.0;\"/><polygon fill=\"#181818\" points=\"121.3,47.5,127.3,51.5,133.3,47.5,127.3,43.5,121.3,47.5\" style=\"stroke:#181818;stroke-width:1.0;\"/><text fill=\"#000000\" font-family=\"sans-serif\" font-size=\"13\" lengthAdjust=\"spacing\" textLength=\"8\" x=\"129.1541\" y=\"43.6405\">1</text><text fill=\"#000000\" font-family=\"sans-serif\" font-size=\"13\" lengthAdjust=\"spacing\" textLength=\"8\" x=\"140.7069\" y=\"43.8213\">1</text></g><!--MD5=[25c9ce59abe662d2017c28e423be5eeb]\n",
       "@startuml\r\n",
       "class Biography {\r\n",
       "    - brief: String\r\n",
       "    - extended: String\r\n",
       "}\r\n",
       "class Customer {\r\n",
       "    - id: long\r\n",
       "    - name: String\r\n",
       "}\r\n",
       "\r\n",
       "Customer \"1\" *-right- \"1\" Biography\r\n",
       "@enduml\r\n",
       "\n",
       "PlantUML version 1.2022.12(Sun Oct 23 18:12:26 UTC 2022)\n",
       "(GPL source distribution)\n",
       "Java Runtime: OpenJDK Runtime Environment\n",
       "JVM: OpenJDK 64-Bit Server VM\n",
       "Default Encoding: UTF-8\n",
       "Language: en\n",
       "Country: US\n",
       "--></g></svg>"
      ]
     },
     "metadata": {},
     "output_type": "display_data"
    }
   ],
   "source": [
    "%%plantUML\n",
    "@startuml\n",
    "class Biography {\n",
    "    - brief: String\n",
    "    - extended: String\n",
    "}\n",
    "class Customer {\n",
    "    - id: long\n",
    "    - name: String\n",
    "}\n",
    "\n",
    "Customer \"1\" *-right- \"1\" Biography\n",
    "@enduml"
   ]
  },
  {
   "cell_type": "markdown",
   "id": "a3c88daf-b886-468a-b681-e229550f4ca0",
   "metadata": {
    "user_expressions": []
   },
   "source": [
    "Pour cela JPA propose des annotations spécifiques :\n",
    "\n",
    "[@Embeddable](https://jakarta.ee/specifications/persistence/3.1/apidocs/jakarta.persistence/jakarta/persistence/embeddable) indique les membres de cette classe java peuvent être persistés comme des attributs de la classe qui l'utilise.\n",
    "\n",
    "[@Embedded](https://jakarta.ee/specifications/persistence/3.1/apidocs/jakarta.persistence/jakarta/persistence/embedded) indique qu'un membre annoté `@embeddable` doit être intégré dans la relation."
   ]
  },
  {
   "cell_type": "markdown",
   "id": "6223d5a0-9693-47a1-80c7-1f5a3059a830",
   "metadata": {
    "user_expressions": []
   },
   "source": [
    "A noter qu'il existe aussi [@ElementCollection](https://jakarta.ee/specifications/persistence/3.1/apidocs/jakarta.persistence/jakarta/persistence/elementcollection) permet une association très simple et limitée de type 1-N sans avoir besoin de définir une nouvelle entité entre une classe et une collection d'objets embeddables."
   ]
  },
  {
   "cell_type": "code",
   "execution_count": 9,
   "id": "0560d7a5-e2d2-4023-8559-4cdb6bade9cc",
   "metadata": {
    "tags": [
     "remove-input"
    ]
   },
   "outputs": [
    {
     "data": {
      "image/svg+xml": [
       "<?xml version=\"1.0\" encoding=\"UTF-8\" standalone=\"no\"?><svg xmlns=\"http://www.w3.org/2000/svg\" xmlns:xlink=\"http://www.w3.org/1999/xlink\" contentStyleType=\"text/css\" height=\"134px\" preserveAspectRatio=\"none\" style=\"width:473px;height:134px;background:#FFFFFF;\" version=\"1.1\" viewBox=\"0 0 473 134\" width=\"473px\" zoomAndPan=\"magnify\"><defs><filter height=\"300%\" id=\"f76eum40e4ni3\" width=\"300%\" x=\"-1\" y=\"-1\"><feGaussianBlur result=\"blurOut\" stdDeviation=\"2.0\"/><feColorMatrix in=\"blurOut\" result=\"blurOut2\" type=\"matrix\" values=\"0 0 0 0 0 0 0 0 0 0 0 0 0 0 0 0 0 0 .4 0\"/><feOffset dx=\"4.0\" dy=\"4.0\" in=\"blurOut2\" result=\"blurOut3\"/><feBlend in=\"SourceGraphic\" in2=\"blurOut3\" mode=\"normal\"/></filter></defs><g><!--MD5=[9844ecf9ec74e0cf1624fa0134c9f59b]\n",
       "class CUSTOMER--><g id=\"elem_CUSTOMER\"><rect codeLine=\"17\" fill=\"#EEEEEE\" filter=\"url(#f76eum40e4ni3)\" height=\"113.1875\" id=\"CUSTOMER\" rx=\"2.5\" ry=\"2.5\" style=\"stroke:#2688D4;stroke-width:0.5;\" width=\"452.3333\" x=\"7\" y=\"7\"/><ellipse cx=\"188.9167\" cy=\"23\" fill=\"#FFFFFF\" rx=\"11\" ry=\"11\" style=\"stroke:#181818;stroke-width:1.0;\"/><path d=\"M189.7604,29.75 L187.3073,29.75 L187.3073,19.5 L184.1667,19.5 L184.1667,17.3594 L192.901,17.3594 L192.901,19.5 L189.7604,19.5 L189.7604,29.75 Z \" fill=\"#000000\"/><text fill=\"#000000\" font-family=\"sans-serif\" font-size=\"14\" lengthAdjust=\"spacing\" textLength=\"80\" x=\"209.4167\" y=\"27.8467\">CUSTOMER</text><line style=\"stroke:#2688D4;stroke-width:0.5;\" x1=\"8\" x2=\"458.3333\" y1=\"39\" y2=\"39\"/><ellipse cx=\"18\" cy=\"52.6484\" fill=\"#000000\" rx=\"3\" ry=\"3\" style=\"stroke:#000000;stroke-width:1.0;\"/><path d=\"M34.4167,46.4635 C32.8067,46.4635 31.5,47.7702 31.5,49.3802 C31.5,49.5669 31.5,49.7535 31.535,49.9285 L28,53.4635 L28,55.7969 L31.5,55.7969 L31.5,53.4635 L33.8333,53.4635 L33.8333,52.2969 L33.8683,52.2619 C34.0433,52.2969 34.23,52.2969 34.4167,52.2969 C36.0267,52.2969 37.3333,50.9902 37.3333,49.3802 C37.3333,47.7702 36.0267,46.4635 34.4167,46.4635 M35,47.6302 C35.6417,47.6302 36.1667,48.1552 36.1667,48.7969 C36.1667,49.4385 35.6417,49.9635 35,49.9635 C34.3583,49.9635 33.8333,49.4385 33.8333,48.7969 C33.8333,48.1552 34.3583,47.6302 35,47.6302 \" fill=\"#B8861B\" style=\"stroke:;stroke-width:0.0;stroke-dasharray:;\"/><text fill=\"#000000\" font-family=\"sans-serif\" font-size=\"14\" font-weight=\"bold\" lengthAdjust=\"spacing\" textLength=\"15\" x=\"43.3333\" y=\"55.9951\">ID</text><text fill=\"#000000\" font-family=\"sans-serif\" font-size=\"14\" lengthAdjust=\"spacing\" textLength=\"83\" x=\"58.3333\" y=\"55.9951\">: BIGINT(64)</text><line style=\"stroke:#2688D4;stroke-width:1.0;\" x1=\"8\" x2=\"458.3333\" y1=\"63.2969\" y2=\"63.2969\"/><path d=\"M31.5,70.7604 C29.5633,70.7604 28,72.3237 28,74.2604 C28,76.1971 29.5633,77.7604 31.5,77.7604 C33.4367,77.7604 35,76.1971 35,74.2604 C35,72.3237 33.4367,70.7604 31.5,70.7604 \" fill=\"#EFEFEF\" style=\"stroke:;stroke-width:0.0;stroke-dasharray:;\"/><text fill=\"#000000\" font-family=\"sans-serif\" font-size=\"14\" lengthAdjust=\"spacing\" textLength=\"268\" x=\"42.3333\" y=\"80.292\">BIO_BRIEF: CHARACTER VARYING(255)</text><path d=\"M31.5,87.0573 C29.5633,87.0573 28,88.6206 28,90.5573 C28,92.494 29.5633,94.0573 31.5,94.0573 C33.4367,94.0573 35,92.494 35,90.5573 C35,88.6206 33.4367,87.0573 31.5,87.0573 \" fill=\"#EFEFEF\" style=\"stroke:;stroke-width:0.0;stroke-dasharray:;\"/><text fill=\"#000000\" font-family=\"sans-serif\" font-size=\"14\" lengthAdjust=\"spacing\" textLength=\"411\" x=\"42.3333\" y=\"96.5889\">BIO_EXTENDED: CHARACTER LARGE OBJECT(2147483647)</text><ellipse cx=\"18\" cy=\"109.5391\" fill=\"#000000\" rx=\"3\" ry=\"3\" style=\"stroke:#000000;stroke-width:1.0;\"/><path d=\"M31.5,103.3542 C29.5633,103.3542 28,104.9175 28,106.8542 C28,108.7908 29.5633,110.3542 31.5,110.3542 C33.4367,110.3542 35,108.7908 35,106.8542 C35,104.9175 33.4367,103.3542 31.5,103.3542 \" fill=\"#EFEFEF\" style=\"stroke:;stroke-width:0.0;stroke-dasharray:;\"/><text fill=\"#000000\" font-family=\"sans-serif\" font-size=\"14\" lengthAdjust=\"spacing\" textLength=\"228\" x=\"42.3333\" y=\"112.8857\">NAME: CHARACTER VARYING(50)</text></g><!--MD5=[5b117e0007a845593348e627f8af8939]\n",
       "@startuml\r\n",
       "\r\n",
       " left to right direction\r\n",
       " skinparam roundcorner 5\r\n",
       " skinparam shadowing true\r\n",
       " skinparam handwritten false\r\n",
       " skinparam class {\r\n",
       "     BackgroundColor #EEEEEE\r\n",
       "     ArrowColor #2688d4\r\n",
       "     BorderColor #2688d4\r\n",
       " }\r\n",
       "\r\n",
       " !define primary_key(x) <b><color:#b8861b><&key></color> x</b>\r\n",
       " !define foreign_key(x) <color:#aaaaaa><&key></color> x\r\n",
       " !define column(x) <color:#efefef><&media-record></color> x\r\n",
       " !define table(x) entity x << (T, white) >>\r\n",
       "\r\n",
       "table(CUSTOMER) {\r\n",
       "\t* primary_key(ID): BIGINT(64)\r\n",
       "- -\r\n",
       "\t column(BIO_BRIEF): CHARACTER VARYING(255)\r\n",
       "\t column(BIO_EXTENDED): CHARACTER LARGE OBJECT(2147483647)\r\n",
       "\t* column(NAME): CHARACTER VARYING(50)\r\n",
       "}\r\n",
       "@enduml\r\n",
       "\n",
       "@startuml\r\n",
       "\r\n",
       " left to right direction\r\n",
       " skinparam roundcorner 5\r\n",
       " skinparam shadowing true\r\n",
       " skinparam handwritten false\r\n",
       " skinparam class {\r\n",
       "     BackgroundColor #EEEEEE\r\n",
       "     ArrowColor #2688d4\r\n",
       "     BorderColor #2688d4\r\n",
       " }\r\n",
       "\r\n",
       "\r\n",
       "entity CUSTOMER << (T, white) >> {\r\n",
       "\t* <b><color:#b8861b><&key></color> ID</b>: BIGINT(64)\r\n",
       "- -\r\n",
       "\t <color:#efefef><&media-record></color> BIO_BRIEF: CHARACTER VARYING(255)\r\n",
       "\t <color:#efefef><&media-record></color> BIO_EXTENDED: CHARACTER LARGE OBJECT(2147483647)\r\n",
       "\t* <color:#efefef><&media-record></color> NAME: CHARACTER VARYING(50)\r\n",
       "}\r\n",
       "@enduml\r\n",
       "\n",
       "PlantUML version 1.2022.12(Sun Oct 23 18:12:26 UTC 2022)\n",
       "(GPL source distribution)\n",
       "Java Runtime: OpenJDK Runtime Environment\n",
       "JVM: OpenJDK 64-Bit Server VM\n",
       "Default Encoding: UTF-8\n",
       "Language: en\n",
       "Country: US\n",
       "--></g></svg>"
      ],
      "text/plain": [
       "<?xml version=\"1.0\" encoding=\"UTF-8\" standalone=\"no\"?><svg xmlns=\"http://www.w3.org/2000/svg\" xmlns:xlink=\"http://www.w3.org/1999/xlink\" contentStyleType=\"text/css\" height=\"134px\" preserveAspectRatio=\"none\" style=\"width:473px;height:134px;background:#FFFFFF;\" version=\"1.1\" viewBox=\"0 0 473 134\" width=\"473px\" zoomAndPan=\"magnify\"><defs><filter height=\"300%\" id=\"f76eum40e4ni3\" width=\"300%\" x=\"-1\" y=\"-1\"><feGaussianBlur result=\"blurOut\" stdDeviation=\"2.0\"/><feColorMatrix in=\"blurOut\" result=\"blurOut2\" type=\"matrix\" values=\"0 0 0 0 0 0 0 0 0 0 0 0 0 0 0 0 0 0 .4 0\"/><feOffset dx=\"4.0\" dy=\"4.0\" in=\"blurOut2\" result=\"blurOut3\"/><feBlend in=\"SourceGraphic\" in2=\"blurOut3\" mode=\"normal\"/></filter></defs><g><!--MD5=[9844ecf9ec74e0cf1624fa0134c9f59b]\n",
       "class CUSTOMER--><g id=\"elem_CUSTOMER\"><rect codeLine=\"17\" fill=\"#EEEEEE\" filter=\"url(#f76eum40e4ni3)\" height=\"113.1875\" id=\"CUSTOMER\" rx=\"2.5\" ry=\"2.5\" style=\"stroke:#2688D4;stroke-width:0.5;\" width=\"452.3333\" x=\"7\" y=\"7\"/><ellipse cx=\"188.9167\" cy=\"23\" fill=\"#FFFFFF\" rx=\"11\" ry=\"11\" style=\"stroke:#181818;stroke-width:1.0;\"/><path d=\"M189.7604,29.75 L187.3073,29.75 L187.3073,19.5 L184.1667,19.5 L184.1667,17.3594 L192.901,17.3594 L192.901,19.5 L189.7604,19.5 L189.7604,29.75 Z \" fill=\"#000000\"/><text fill=\"#000000\" font-family=\"sans-serif\" font-size=\"14\" lengthAdjust=\"spacing\" textLength=\"80\" x=\"209.4167\" y=\"27.8467\">CUSTOMER</text><line style=\"stroke:#2688D4;stroke-width:0.5;\" x1=\"8\" x2=\"458.3333\" y1=\"39\" y2=\"39\"/><ellipse cx=\"18\" cy=\"52.6484\" fill=\"#000000\" rx=\"3\" ry=\"3\" style=\"stroke:#000000;stroke-width:1.0;\"/><path d=\"M34.4167,46.4635 C32.8067,46.4635 31.5,47.7702 31.5,49.3802 C31.5,49.5669 31.5,49.7535 31.535,49.9285 L28,53.4635 L28,55.7969 L31.5,55.7969 L31.5,53.4635 L33.8333,53.4635 L33.8333,52.2969 L33.8683,52.2619 C34.0433,52.2969 34.23,52.2969 34.4167,52.2969 C36.0267,52.2969 37.3333,50.9902 37.3333,49.3802 C37.3333,47.7702 36.0267,46.4635 34.4167,46.4635 M35,47.6302 C35.6417,47.6302 36.1667,48.1552 36.1667,48.7969 C36.1667,49.4385 35.6417,49.9635 35,49.9635 C34.3583,49.9635 33.8333,49.4385 33.8333,48.7969 C33.8333,48.1552 34.3583,47.6302 35,47.6302 \" fill=\"#B8861B\" style=\"stroke:;stroke-width:0.0;stroke-dasharray:;\"/><text fill=\"#000000\" font-family=\"sans-serif\" font-size=\"14\" font-weight=\"bold\" lengthAdjust=\"spacing\" textLength=\"15\" x=\"43.3333\" y=\"55.9951\">ID</text><text fill=\"#000000\" font-family=\"sans-serif\" font-size=\"14\" lengthAdjust=\"spacing\" textLength=\"83\" x=\"58.3333\" y=\"55.9951\">: BIGINT(64)</text><line style=\"stroke:#2688D4;stroke-width:1.0;\" x1=\"8\" x2=\"458.3333\" y1=\"63.2969\" y2=\"63.2969\"/><path d=\"M31.5,70.7604 C29.5633,70.7604 28,72.3237 28,74.2604 C28,76.1971 29.5633,77.7604 31.5,77.7604 C33.4367,77.7604 35,76.1971 35,74.2604 C35,72.3237 33.4367,70.7604 31.5,70.7604 \" fill=\"#EFEFEF\" style=\"stroke:;stroke-width:0.0;stroke-dasharray:;\"/><text fill=\"#000000\" font-family=\"sans-serif\" font-size=\"14\" lengthAdjust=\"spacing\" textLength=\"268\" x=\"42.3333\" y=\"80.292\">BIO_BRIEF: CHARACTER VARYING(255)</text><path d=\"M31.5,87.0573 C29.5633,87.0573 28,88.6206 28,90.5573 C28,92.494 29.5633,94.0573 31.5,94.0573 C33.4367,94.0573 35,92.494 35,90.5573 C35,88.6206 33.4367,87.0573 31.5,87.0573 \" fill=\"#EFEFEF\" style=\"stroke:;stroke-width:0.0;stroke-dasharray:;\"/><text fill=\"#000000\" font-family=\"sans-serif\" font-size=\"14\" lengthAdjust=\"spacing\" textLength=\"411\" x=\"42.3333\" y=\"96.5889\">BIO_EXTENDED: CHARACTER LARGE OBJECT(2147483647)</text><ellipse cx=\"18\" cy=\"109.5391\" fill=\"#000000\" rx=\"3\" ry=\"3\" style=\"stroke:#000000;stroke-width:1.0;\"/><path d=\"M31.5,103.3542 C29.5633,103.3542 28,104.9175 28,106.8542 C28,108.7908 29.5633,110.3542 31.5,110.3542 C33.4367,110.3542 35,108.7908 35,106.8542 C35,104.9175 33.4367,103.3542 31.5,103.3542 \" fill=\"#EFEFEF\" style=\"stroke:;stroke-width:0.0;stroke-dasharray:;\"/><text fill=\"#000000\" font-family=\"sans-serif\" font-size=\"14\" lengthAdjust=\"spacing\" textLength=\"228\" x=\"42.3333\" y=\"112.8857\">NAME: CHARACTER VARYING(50)</text></g><!--MD5=[5b117e0007a845593348e627f8af8939]\n",
       "@startuml\r\n",
       "\r\n",
       " left to right direction\r\n",
       " skinparam roundcorner 5\r\n",
       " skinparam shadowing true\r\n",
       " skinparam handwritten false\r\n",
       " skinparam class {\r\n",
       "     BackgroundColor #EEEEEE\r\n",
       "     ArrowColor #2688d4\r\n",
       "     BorderColor #2688d4\r\n",
       " }\r\n",
       "\r\n",
       " !define primary_key(x) <b><color:#b8861b><&key></color> x</b>\r\n",
       " !define foreign_key(x) <color:#aaaaaa><&key></color> x\r\n",
       " !define column(x) <color:#efefef><&media-record></color> x\r\n",
       " !define table(x) entity x << (T, white) >>\r\n",
       "\r\n",
       "table(CUSTOMER) {\r\n",
       "\t* primary_key(ID): BIGINT(64)\r\n",
       "- -\r\n",
       "\t column(BIO_BRIEF): CHARACTER VARYING(255)\r\n",
       "\t column(BIO_EXTENDED): CHARACTER LARGE OBJECT(2147483647)\r\n",
       "\t* column(NAME): CHARACTER VARYING(50)\r\n",
       "}\r\n",
       "@enduml\r\n",
       "\n",
       "@startuml\r\n",
       "\r\n",
       " left to right direction\r\n",
       " skinparam roundcorner 5\r\n",
       " skinparam shadowing true\r\n",
       " skinparam handwritten false\r\n",
       " skinparam class {\r\n",
       "     BackgroundColor #EEEEEE\r\n",
       "     ArrowColor #2688d4\r\n",
       "     BorderColor #2688d4\r\n",
       " }\r\n",
       "\r\n",
       "\r\n",
       "entity CUSTOMER << (T, white) >> {\r\n",
       "\t* <b><color:#b8861b><&key></color> ID</b>: BIGINT(64)\r\n",
       "- -\r\n",
       "\t <color:#efefef><&media-record></color> BIO_BRIEF: CHARACTER VARYING(255)\r\n",
       "\t <color:#efefef><&media-record></color> BIO_EXTENDED: CHARACTER LARGE OBJECT(2147483647)\r\n",
       "\t* <color:#efefef><&media-record></color> NAME: CHARACTER VARYING(50)\r\n",
       "}\r\n",
       "@enduml\r\n",
       "\n",
       "PlantUML version 1.2022.12(Sun Oct 23 18:12:26 UTC 2022)\n",
       "(GPL source distribution)\n",
       "Java Runtime: OpenJDK Runtime Environment\n",
       "JVM: OpenJDK 64-Bit Server VM\n",
       "Default Encoding: UTF-8\n",
       "Language: en\n",
       "Country: US\n",
       "--></g></svg>"
      ]
     },
     "metadata": {},
     "output_type": "display_data"
    }
   ],
   "source": [
    "%%rdbmsSchema jdbc:h2:tcp://host.docker.internal/hellojpa-db dba secret EX_BIOGRAPHY\n",
    "%"
   ]
  },
  {
   "cell_type": "code",
   "execution_count": 10,
   "id": "c4142991-97e4-4db7-ab56-ce21c8d25cb7",
   "metadata": {
    "tags": [
     "remove-input"
    ]
   },
   "outputs": [
    {
     "data": {
      "text/markdown": [
       "```Java\n",
       "@Embeddable\n",
       "@Builder\n",
       "@NoArgsConstructor(access = AccessLevel.PROTECTED)\n",
       "@AllArgsConstructor\n",
       "public class Biography {\n",
       "\n",
       "    @Column(name = \"BIO_BRIEF\")\n",
       "    private String brief;\n",
       "\n",
       "    @Lob\n",
       "    @Column(name = \"BIO_EXTENDED\")\n",
       "    private String extended;\n",
       "}\n",
       "```"
      ],
      "text/plain": [
       "```Java\n",
       "@Embeddable\n",
       "@Builder\n",
       "@NoArgsConstructor(access = AccessLevel.PROTECTED)\n",
       "@AllArgsConstructor\n",
       "public class Biography {\n",
       "\n",
       "    @Column(name = \"BIO_BRIEF\")\n",
       "    private String brief;\n",
       "\n",
       "    @Lob\n",
       "    @Column(name = \"BIO_EXTENDED\")\n",
       "    private String extended;\n",
       "}\n",
       "```"
      ]
     },
     "metadata": {},
     "output_type": "display_data"
    }
   ],
   "source": [
    "%%javasrcClassByName Biography\n",
    "samples/hellojpa/src/main/java/fr/univtln/bruno/demos/jpa/hello/samples/ex_biography/Biography.java"
   ]
  },
  {
   "cell_type": "code",
   "execution_count": 11,
   "id": "b88e1f9b-0e48-430b-a526-2459d7f59cbe",
   "metadata": {
    "tags": [
     "remove-input"
    ]
   },
   "outputs": [
    {
     "data": {
      "text/markdown": [
       "```Java\n",
       "@Entity\n",
       "@Data\n",
       "@RequiredArgsConstructor(staticName = \"of\")\n",
       "@NoArgsConstructor(access = AccessLevel.PROTECTED)\n",
       "@Table(name = \"CUSTOMER\", schema = \"ex_biography\")\n",
       "public class Customer {\n",
       "\n",
       "    @Id\n",
       "    @GeneratedValue\n",
       "    private long id;\n",
       "\n",
       "    @Column(length = 50, nullable = false)\n",
       "    @NonNull\n",
       "    private String name;\n",
       "\n",
       "    @Embedded\n",
       "    private Biography biography;\n",
       "}\n",
       "```"
      ],
      "text/plain": [
       "```Java\n",
       "@Entity\n",
       "@Data\n",
       "@RequiredArgsConstructor(staticName = \"of\")\n",
       "@NoArgsConstructor(access = AccessLevel.PROTECTED)\n",
       "@Table(name = \"CUSTOMER\", schema = \"ex_biography\")\n",
       "public class Customer {\n",
       "\n",
       "    @Id\n",
       "    @GeneratedValue\n",
       "    private long id;\n",
       "\n",
       "    @Column(length = 50, nullable = false)\n",
       "    @NonNull\n",
       "    private String name;\n",
       "\n",
       "    @Embedded\n",
       "    private Biography biography;\n",
       "}\n",
       "```"
      ]
     },
     "metadata": {},
     "output_type": "display_data"
    }
   ],
   "source": [
    "%%javasrcClassByName Customer\n",
    "samples/hellojpa/src/main/java/fr/univtln/bruno/demos/jpa/hello/samples/ex_biography/Customer.java"
   ]
  },
  {
   "cell_type": "code",
   "execution_count": 12,
   "id": "1e63d1f3-4829-4bc3-9b03-548b8056eca8",
   "metadata": {},
   "outputs": [],
   "source": [
    "import fr.univtln.bruno.demos.jpa.hello.samples.ex_biography.*;\n",
    "\n",
    "try (EntityManager entityManager = DatabaseManager\n",
    "                .ENTITY_MANAGER_FACTORY.createEntityManager()) {\n",
    "            entityManager.getTransaction().begin();\n",
    "            Customer customer = Customer.of(\"Jim\");\n",
    "            customer.setBiography(Biography.builder().brief(\"bla\").extended(\"bla bla\").build());\n",
    "            entityManager.persist(customer);\n",
    "            entityManager.getTransaction().commit();\n",
    "        }"
   ]
  },
  {
   "cell_type": "markdown",
   "id": "faa72cd9-5e13-4bdc-890b-5e1320cc94ae",
   "metadata": {
    "user_expressions": []
   },
   "source": [
    "## One to Many"
   ]
  },
  {
   "cell_type": "code",
   "execution_count": 14,
   "id": "cc4b7f38-2c73-4034-bfef-d0ad1991f70e",
   "metadata": {
    "tags": [
     "remove-input"
    ]
   },
   "outputs": [
    {
     "data": {
      "image/svg+xml": [
       "<?xml version=\"1.0\" encoding=\"UTF-8\" standalone=\"no\"?><svg xmlns=\"http://www.w3.org/2000/svg\" xmlns:xlink=\"http://www.w3.org/1999/xlink\" contentStyleType=\"text/css\" height=\"110px\" preserveAspectRatio=\"none\" style=\"width:383px;height:110px;background:#FFFFFF;\" version=\"1.1\" viewBox=\"0 0 383 110\" width=\"383px\" zoomAndPan=\"magnify\"><defs/><g><!--MD5=[cf4d6237fcae255cd2e1656cf84a30e2]\n",
       "class Order--><g id=\"elem_Order\"><rect codeLine=\"1\" fill=\"#F1F1F1\" height=\"80.5938\" id=\"Order\" rx=\"2.5\" ry=\"2.5\" style=\"stroke:#181818;stroke-width:0.5;\" width=\"168\" x=\"7\" y=\"15\"/><ellipse cx=\"67.25\" cy=\"31\" fill=\"#ADD1B2\" rx=\"11\" ry=\"11\" style=\"stroke:#181818;stroke-width:1.0;\"/><path d=\"M70.2188,36.6406 Q69.6406,36.9375 69,37.0781 Q68.3594,37.2344 67.6563,37.2344 Q65.1563,37.2344 63.8281,35.5938 Q62.5156,33.9375 62.5156,30.8125 Q62.5156,27.6875 63.8281,26.0313 Q65.1563,24.375 67.6563,24.375 Q68.3594,24.375 69,24.5313 Q69.6563,24.6875 70.2188,24.9844 L70.2188,27.7031 Q69.5938,27.125 69,26.8594 Q68.4063,26.5781 67.7813,26.5781 Q66.4375,26.5781 65.75,27.6563 Q65.0625,28.7188 65.0625,30.8125 Q65.0625,32.9063 65.75,33.9844 Q66.4375,35.0469 67.7813,35.0469 Q68.4063,35.0469 69,34.7813 Q69.5938,34.5 70.2188,33.9219 L70.2188,36.6406 Z \" fill=\"#000000\"/><text fill=\"#000000\" font-family=\"sans-serif\" font-size=\"14\" lengthAdjust=\"spacing\" textLength=\"39\" x=\"87.75\" y=\"35.8467\">Order</text><line style=\"stroke:#181818;stroke-width:0.5;\" x1=\"8\" x2=\"174\" y1=\"47\" y2=\"47\"/><rect fill=\"none\" height=\"6\" style=\"stroke:#C82930;stroke-width:1.0;\" width=\"6\" x=\"15\" y=\"57.6484\"/><text fill=\"#000000\" font-family=\"sans-serif\" font-size=\"14\" lengthAdjust=\"spacing\" textLength=\"51\" x=\"27\" y=\"63.9951\">id: long</text><rect fill=\"none\" height=\"6\" style=\"stroke:#C82930;stroke-width:1.0;\" width=\"6\" x=\"15\" y=\"73.9453\"/><text fill=\"#000000\" font-family=\"sans-serif\" font-size=\"14\" lengthAdjust=\"spacing\" textLength=\"142\" x=\"27\" y=\"80.292\">date: LocalDateTime</text><line style=\"stroke:#181818;stroke-width:0.5;\" x1=\"8\" x2=\"174\" y1=\"87.5938\" y2=\"87.5938\"/></g><!--MD5=[736dfa021baaf4f381c9890dd397bfe9]\n",
       "class Line--><g id=\"elem_Line\"><rect codeLine=\"5\" fill=\"#F1F1F1\" height=\"96.8906\" id=\"Line\" rx=\"2.5\" ry=\"2.5\" style=\"stroke:#181818;stroke-width:0.5;\" width=\"129\" x=\"247.5\" y=\"7\"/><ellipse cx=\"293.75\" cy=\"23\" fill=\"#ADD1B2\" rx=\"11\" ry=\"11\" style=\"stroke:#181818;stroke-width:1.0;\"/><path d=\"M296.7188,28.6406 Q296.1406,28.9375 295.5,29.0781 Q294.8594,29.2344 294.1563,29.2344 Q291.6563,29.2344 290.3281,27.5938 Q289.0156,25.9375 289.0156,22.8125 Q289.0156,19.6875 290.3281,18.0313 Q291.6563,16.375 294.1563,16.375 Q294.8594,16.375 295.5,16.5313 Q296.1563,16.6875 296.7188,16.9844 L296.7188,19.7031 Q296.0938,19.125 295.5,18.8594 Q294.9063,18.5781 294.2813,18.5781 Q292.9375,18.5781 292.25,19.6563 Q291.5625,20.7188 291.5625,22.8125 Q291.5625,24.9063 292.25,25.9844 Q292.9375,27.0469 294.2813,27.0469 Q294.9063,27.0469 295.5,26.7813 Q296.0938,26.5 296.7188,25.9219 L296.7188,28.6406 Z \" fill=\"#000000\"/><text fill=\"#000000\" font-family=\"sans-serif\" font-size=\"14\" lengthAdjust=\"spacing\" textLength=\"28\" x=\"314.25\" y=\"27.8467\">Line</text><line style=\"stroke:#181818;stroke-width:0.5;\" x1=\"248.5\" x2=\"375.5\" y1=\"39\" y2=\"39\"/><rect fill=\"none\" height=\"6\" style=\"stroke:#C82930;stroke-width:1.0;\" width=\"6\" x=\"255.5\" y=\"49.6484\"/><text fill=\"#000000\" font-family=\"sans-serif\" font-size=\"14\" lengthAdjust=\"spacing\" textLength=\"51\" x=\"267.5\" y=\"55.9951\">id: long</text><rect fill=\"none\" height=\"6\" style=\"stroke:#C82930;stroke-width:1.0;\" width=\"6\" x=\"255.5\" y=\"65.9453\"/><text fill=\"#000000\" font-family=\"sans-serif\" font-size=\"14\" lengthAdjust=\"spacing\" textLength=\"103\" x=\"267.5\" y=\"72.292\">product: String</text><rect fill=\"none\" height=\"6\" style=\"stroke:#C82930;stroke-width:1.0;\" width=\"6\" x=\"255.5\" y=\"82.2422\"/><text fill=\"#000000\" font-family=\"sans-serif\" font-size=\"14\" lengthAdjust=\"spacing\" textLength=\"91\" x=\"267.5\" y=\"88.5889\">price: double</text><line style=\"stroke:#181818;stroke-width:0.5;\" x1=\"248.5\" x2=\"375.5\" y1=\"95.8906\" y2=\"95.8906\"/></g><!--MD5=[102ca548ce8fe3a7ea4e466c6089e38a]\n",
       "reverse link Order to Line--><g id=\"link_Order_Line\"><path codeLine=\"11\" d=\"M188.21,55.5 C208.21,55.5 228.8,55.5 247.3,55.5 \" fill=\"none\" id=\"Order-backto-Line\" style=\"stroke:#181818;stroke-width:1.0;\"/><polygon fill=\"#181818\" points=\"175.18,55.5,181.18,59.5,187.18,55.5,181.18,51.5,175.18,55.5\" style=\"stroke:#181818;stroke-width:1.0;\"/><text fill=\"#000000\" font-family=\"sans-serif\" font-size=\"13\" lengthAdjust=\"spacing\" textLength=\"72\" x=\"193.25\" y=\"48.5669\">         </text><text fill=\"#000000\" font-family=\"sans-serif\" font-size=\"13\" lengthAdjust=\"spacing\" textLength=\"8\" x=\"183.0335\" y=\"51.9229\">1</text><text fill=\"#000000\" font-family=\"sans-serif\" font-size=\"13\" lengthAdjust=\"spacing\" textLength=\"23\" x=\"216.4419\" y=\"68.3528\">1..*</text></g><!--MD5=[df76be3535e230306909aaca1c9ceac6]\n",
       "@startuml\r\n",
       "class Order {\r\n",
       "    - id: long\r\n",
       "    - date: LocalDateTime\r\n",
       "}\r\n",
       "class Line {\r\n",
       "    - id: long\r\n",
       "    - product: String\r\n",
       "    - price: double\r\n",
       "}\r\n",
       "\r\n",
       "Order \"1\" *-r- \"1..*\" Line :\"         \"\r\n",
       "@enduml\r\n",
       "\n",
       "PlantUML version 1.2022.12(Sun Oct 23 18:12:26 UTC 2022)\n",
       "(GPL source distribution)\n",
       "Java Runtime: OpenJDK Runtime Environment\n",
       "JVM: OpenJDK 64-Bit Server VM\n",
       "Default Encoding: UTF-8\n",
       "Language: en\n",
       "Country: US\n",
       "--></g></svg>"
      ],
      "text/plain": [
       "<?xml version=\"1.0\" encoding=\"UTF-8\" standalone=\"no\"?><svg xmlns=\"http://www.w3.org/2000/svg\" xmlns:xlink=\"http://www.w3.org/1999/xlink\" contentStyleType=\"text/css\" height=\"110px\" preserveAspectRatio=\"none\" style=\"width:383px;height:110px;background:#FFFFFF;\" version=\"1.1\" viewBox=\"0 0 383 110\" width=\"383px\" zoomAndPan=\"magnify\"><defs/><g><!--MD5=[cf4d6237fcae255cd2e1656cf84a30e2]\n",
       "class Order--><g id=\"elem_Order\"><rect codeLine=\"1\" fill=\"#F1F1F1\" height=\"80.5938\" id=\"Order\" rx=\"2.5\" ry=\"2.5\" style=\"stroke:#181818;stroke-width:0.5;\" width=\"168\" x=\"7\" y=\"15\"/><ellipse cx=\"67.25\" cy=\"31\" fill=\"#ADD1B2\" rx=\"11\" ry=\"11\" style=\"stroke:#181818;stroke-width:1.0;\"/><path d=\"M70.2188,36.6406 Q69.6406,36.9375 69,37.0781 Q68.3594,37.2344 67.6563,37.2344 Q65.1563,37.2344 63.8281,35.5938 Q62.5156,33.9375 62.5156,30.8125 Q62.5156,27.6875 63.8281,26.0313 Q65.1563,24.375 67.6563,24.375 Q68.3594,24.375 69,24.5313 Q69.6563,24.6875 70.2188,24.9844 L70.2188,27.7031 Q69.5938,27.125 69,26.8594 Q68.4063,26.5781 67.7813,26.5781 Q66.4375,26.5781 65.75,27.6563 Q65.0625,28.7188 65.0625,30.8125 Q65.0625,32.9063 65.75,33.9844 Q66.4375,35.0469 67.7813,35.0469 Q68.4063,35.0469 69,34.7813 Q69.5938,34.5 70.2188,33.9219 L70.2188,36.6406 Z \" fill=\"#000000\"/><text fill=\"#000000\" font-family=\"sans-serif\" font-size=\"14\" lengthAdjust=\"spacing\" textLength=\"39\" x=\"87.75\" y=\"35.8467\">Order</text><line style=\"stroke:#181818;stroke-width:0.5;\" x1=\"8\" x2=\"174\" y1=\"47\" y2=\"47\"/><rect fill=\"none\" height=\"6\" style=\"stroke:#C82930;stroke-width:1.0;\" width=\"6\" x=\"15\" y=\"57.6484\"/><text fill=\"#000000\" font-family=\"sans-serif\" font-size=\"14\" lengthAdjust=\"spacing\" textLength=\"51\" x=\"27\" y=\"63.9951\">id: long</text><rect fill=\"none\" height=\"6\" style=\"stroke:#C82930;stroke-width:1.0;\" width=\"6\" x=\"15\" y=\"73.9453\"/><text fill=\"#000000\" font-family=\"sans-serif\" font-size=\"14\" lengthAdjust=\"spacing\" textLength=\"142\" x=\"27\" y=\"80.292\">date: LocalDateTime</text><line style=\"stroke:#181818;stroke-width:0.5;\" x1=\"8\" x2=\"174\" y1=\"87.5938\" y2=\"87.5938\"/></g><!--MD5=[736dfa021baaf4f381c9890dd397bfe9]\n",
       "class Line--><g id=\"elem_Line\"><rect codeLine=\"5\" fill=\"#F1F1F1\" height=\"96.8906\" id=\"Line\" rx=\"2.5\" ry=\"2.5\" style=\"stroke:#181818;stroke-width:0.5;\" width=\"129\" x=\"247.5\" y=\"7\"/><ellipse cx=\"293.75\" cy=\"23\" fill=\"#ADD1B2\" rx=\"11\" ry=\"11\" style=\"stroke:#181818;stroke-width:1.0;\"/><path d=\"M296.7188,28.6406 Q296.1406,28.9375 295.5,29.0781 Q294.8594,29.2344 294.1563,29.2344 Q291.6563,29.2344 290.3281,27.5938 Q289.0156,25.9375 289.0156,22.8125 Q289.0156,19.6875 290.3281,18.0313 Q291.6563,16.375 294.1563,16.375 Q294.8594,16.375 295.5,16.5313 Q296.1563,16.6875 296.7188,16.9844 L296.7188,19.7031 Q296.0938,19.125 295.5,18.8594 Q294.9063,18.5781 294.2813,18.5781 Q292.9375,18.5781 292.25,19.6563 Q291.5625,20.7188 291.5625,22.8125 Q291.5625,24.9063 292.25,25.9844 Q292.9375,27.0469 294.2813,27.0469 Q294.9063,27.0469 295.5,26.7813 Q296.0938,26.5 296.7188,25.9219 L296.7188,28.6406 Z \" fill=\"#000000\"/><text fill=\"#000000\" font-family=\"sans-serif\" font-size=\"14\" lengthAdjust=\"spacing\" textLength=\"28\" x=\"314.25\" y=\"27.8467\">Line</text><line style=\"stroke:#181818;stroke-width:0.5;\" x1=\"248.5\" x2=\"375.5\" y1=\"39\" y2=\"39\"/><rect fill=\"none\" height=\"6\" style=\"stroke:#C82930;stroke-width:1.0;\" width=\"6\" x=\"255.5\" y=\"49.6484\"/><text fill=\"#000000\" font-family=\"sans-serif\" font-size=\"14\" lengthAdjust=\"spacing\" textLength=\"51\" x=\"267.5\" y=\"55.9951\">id: long</text><rect fill=\"none\" height=\"6\" style=\"stroke:#C82930;stroke-width:1.0;\" width=\"6\" x=\"255.5\" y=\"65.9453\"/><text fill=\"#000000\" font-family=\"sans-serif\" font-size=\"14\" lengthAdjust=\"spacing\" textLength=\"103\" x=\"267.5\" y=\"72.292\">product: String</text><rect fill=\"none\" height=\"6\" style=\"stroke:#C82930;stroke-width:1.0;\" width=\"6\" x=\"255.5\" y=\"82.2422\"/><text fill=\"#000000\" font-family=\"sans-serif\" font-size=\"14\" lengthAdjust=\"spacing\" textLength=\"91\" x=\"267.5\" y=\"88.5889\">price: double</text><line style=\"stroke:#181818;stroke-width:0.5;\" x1=\"248.5\" x2=\"375.5\" y1=\"95.8906\" y2=\"95.8906\"/></g><!--MD5=[102ca548ce8fe3a7ea4e466c6089e38a]\n",
       "reverse link Order to Line--><g id=\"link_Order_Line\"><path codeLine=\"11\" d=\"M188.21,55.5 C208.21,55.5 228.8,55.5 247.3,55.5 \" fill=\"none\" id=\"Order-backto-Line\" style=\"stroke:#181818;stroke-width:1.0;\"/><polygon fill=\"#181818\" points=\"175.18,55.5,181.18,59.5,187.18,55.5,181.18,51.5,175.18,55.5\" style=\"stroke:#181818;stroke-width:1.0;\"/><text fill=\"#000000\" font-family=\"sans-serif\" font-size=\"13\" lengthAdjust=\"spacing\" textLength=\"72\" x=\"193.25\" y=\"48.5669\">         </text><text fill=\"#000000\" font-family=\"sans-serif\" font-size=\"13\" lengthAdjust=\"spacing\" textLength=\"8\" x=\"183.0335\" y=\"51.9229\">1</text><text fill=\"#000000\" font-family=\"sans-serif\" font-size=\"13\" lengthAdjust=\"spacing\" textLength=\"23\" x=\"216.4419\" y=\"68.3528\">1..*</text></g><!--MD5=[df76be3535e230306909aaca1c9ceac6]\n",
       "@startuml\r\n",
       "class Order {\r\n",
       "    - id: long\r\n",
       "    - date: LocalDateTime\r\n",
       "}\r\n",
       "class Line {\r\n",
       "    - id: long\r\n",
       "    - product: String\r\n",
       "    - price: double\r\n",
       "}\r\n",
       "\r\n",
       "Order \"1\" *-r- \"1..*\" Line :\"         \"\r\n",
       "@enduml\r\n",
       "\n",
       "PlantUML version 1.2022.12(Sun Oct 23 18:12:26 UTC 2022)\n",
       "(GPL source distribution)\n",
       "Java Runtime: OpenJDK Runtime Environment\n",
       "JVM: OpenJDK 64-Bit Server VM\n",
       "Default Encoding: UTF-8\n",
       "Language: en\n",
       "Country: US\n",
       "--></g></svg>"
      ]
     },
     "metadata": {},
     "output_type": "display_data"
    }
   ],
   "source": [
    "%%plantUML\n",
    "@startuml\n",
    "class Order {\n",
    "    - id: long\n",
    "    - date: LocalDateTime\n",
    "}\n",
    "class Line {\n",
    "    - id: long\n",
    "    - product: String\n",
    "    - price: double\n",
    "}\n",
    "\n",
    "Order \"1\" *-r- \"1..*\" Line :\"         \"\n",
    "@enduml"
   ]
  },
  {
   "cell_type": "code",
   "execution_count": 15,
   "id": "c1553ead-353d-4c93-8ba2-5ee13ed16ef5",
   "metadata": {
    "tags": [
     "remove-input"
    ]
   },
   "outputs": [
    {
     "data": {
      "image/svg+xml": [
       "<?xml version=\"1.0\" encoding=\"UTF-8\" standalone=\"no\"?><svg xmlns=\"http://www.w3.org/2000/svg\" xmlns:xlink=\"http://www.w3.org/1999/xlink\" contentStyleType=\"text/css\" height=\"132px\" preserveAspectRatio=\"none\" style=\"width:586px;height:132px;background:#FFFFFF;\" version=\"1.1\" viewBox=\"0 0 586 132\" width=\"586px\" zoomAndPan=\"magnify\"><defs><filter height=\"300%\" id=\"f1biwdkar348rm\" width=\"300%\" x=\"-1\" y=\"-1\"><feGaussianBlur result=\"blurOut\" stdDeviation=\"2.0\"/><feColorMatrix in=\"blurOut\" result=\"blurOut2\" type=\"matrix\" values=\"0 0 0 0 0 0 0 0 0 0 0 0 0 0 0 0 0 0 .4 0\"/><feOffset dx=\"4.0\" dy=\"4.0\" in=\"blurOut2\" result=\"blurOut3\"/><feBlend in=\"SourceGraphic\" in2=\"blurOut3\" mode=\"normal\"/></filter></defs><g><!--MD5=[113411c5623f12de95796ef4e945b110]\n",
       "class EORDER--><g id=\"elem_EORDER\"><rect codeLine=\"17\" fill=\"#EEEEEE\" filter=\"url(#f1biwdkar348rm)\" height=\"80.5938\" id=\"EORDER\" rx=\"2.5\" ry=\"2.5\" style=\"stroke:#2688D4;stroke-width:0.5;\" width=\"183.3333\" x=\"391\" y=\"31\"/><ellipse cx=\"448.4167\" cy=\"47\" fill=\"#FFFFFF\" rx=\"11\" ry=\"11\" style=\"stroke:#181818;stroke-width:1.0;\"/><path d=\"M449.2604,53.75 L446.8073,53.75 L446.8073,43.5 L443.6667,43.5 L443.6667,41.3594 L452.401,41.3594 L452.401,43.5 L449.2604,43.5 L449.2604,53.75 Z \" fill=\"#000000\"/><text fill=\"#000000\" font-family=\"sans-serif\" font-size=\"14\" lengthAdjust=\"spacing\" textLength=\"60\" x=\"468.9167\" y=\"51.8467\">EORDER</text><line style=\"stroke:#2688D4;stroke-width:0.5;\" x1=\"392\" x2=\"573.3333\" y1=\"63\" y2=\"63\"/><ellipse cx=\"402\" cy=\"76.6484\" fill=\"#000000\" rx=\"3\" ry=\"3\" style=\"stroke:#000000;stroke-width:1.0;\"/><path d=\"M418.4167,70.4635 C416.8067,70.4635 415.5,71.7702 415.5,73.3802 C415.5,73.5669 415.5,73.7535 415.535,73.9285 L412,77.4635 L412,79.7969 L415.5,79.7969 L415.5,77.4635 L417.8333,77.4635 L417.8333,76.2969 L417.8683,76.2619 C418.0433,76.2969 418.23,76.2969 418.4167,76.2969 C420.0267,76.2969 421.3333,74.9902 421.3333,73.3802 C421.3333,71.7702 420.0267,70.4635 418.4167,70.4635 M419,71.6302 C419.6417,71.6302 420.1667,72.1552 420.1667,72.7969 C420.1667,73.4385 419.6417,73.9635 419,73.9635 C418.3583,73.9635 417.8333,73.4385 417.8333,72.7969 C417.8333,72.1552 418.3583,71.6302 419,71.6302 \" fill=\"#B8861B\" style=\"stroke:;stroke-width:0.0;stroke-dasharray:;\"/><text fill=\"#000000\" font-family=\"sans-serif\" font-size=\"14\" font-weight=\"bold\" lengthAdjust=\"spacing\" textLength=\"15\" x=\"427.3333\" y=\"79.9951\">ID</text><text fill=\"#000000\" font-family=\"sans-serif\" font-size=\"14\" lengthAdjust=\"spacing\" textLength=\"83\" x=\"442.3333\" y=\"79.9951\">: BIGINT(64)</text><line style=\"stroke:#2688D4;stroke-width:1.0;\" x1=\"392\" x2=\"573.3333\" y1=\"87.2969\" y2=\"87.2969\"/><path d=\"M401.5,94.7604 C399.5633,94.7604 398,96.3237 398,98.2604 C398,100.1971 399.5633,101.7604 401.5,101.7604 C403.4367,101.7604 405,100.1971 405,98.2604 C405,96.3237 403.4367,94.7604 401.5,94.7604 \" fill=\"#EFEFEF\" style=\"stroke:;stroke-width:0.0;stroke-dasharray:;\"/><text fill=\"#000000\" font-family=\"sans-serif\" font-size=\"14\" lengthAdjust=\"spacing\" textLength=\"156\" x=\"412.3333\" y=\"104.292\">DATE: TIMESTAMP(26)</text></g><!--MD5=[5d3cd2ef4ad6de09d9fcc75dfe080639]\n",
       "class LINE--><g id=\"elem_LINE\"><rect codeLine=\"22\" fill=\"#EEEEEE\" filter=\"url(#f1biwdkar348rm)\" height=\"113.1875\" id=\"LINE\" rx=\"2.5\" ry=\"2.5\" style=\"stroke:#2688D4;stroke-width:0.5;\" width=\"308.3333\" x=\"7\" y=\"7\"/><ellipse cx=\"142.4167\" cy=\"23\" fill=\"#FFFFFF\" rx=\"11\" ry=\"11\" style=\"stroke:#181818;stroke-width:1.0;\"/><path d=\"M143.2604,29.75 L140.8073,29.75 L140.8073,19.5 L137.6667,19.5 L137.6667,17.3594 L146.401,17.3594 L146.401,19.5 L143.2604,19.5 L143.2604,29.75 Z \" fill=\"#000000\"/><text fill=\"#000000\" font-family=\"sans-serif\" font-size=\"14\" lengthAdjust=\"spacing\" textLength=\"29\" x=\"162.9167\" y=\"27.8467\">LINE</text><line style=\"stroke:#2688D4;stroke-width:0.5;\" x1=\"8\" x2=\"314.3333\" y1=\"39\" y2=\"39\"/><ellipse cx=\"18\" cy=\"52.6484\" fill=\"#000000\" rx=\"3\" ry=\"3\" style=\"stroke:#000000;stroke-width:1.0;\"/><path d=\"M34.4167,46.4635 C32.8067,46.4635 31.5,47.7702 31.5,49.3802 C31.5,49.5669 31.5,49.7535 31.535,49.9285 L28,53.4635 L28,55.7969 L31.5,55.7969 L31.5,53.4635 L33.8333,53.4635 L33.8333,52.2969 L33.8683,52.2619 C34.0433,52.2969 34.23,52.2969 34.4167,52.2969 C36.0267,52.2969 37.3333,50.9902 37.3333,49.3802 C37.3333,47.7702 36.0267,46.4635 34.4167,46.4635 M35,47.6302 C35.6417,47.6302 36.1667,48.1552 36.1667,48.7969 C36.1667,49.4385 35.6417,49.9635 35,49.9635 C34.3583,49.9635 33.8333,49.4385 33.8333,48.7969 C33.8333,48.1552 34.3583,47.6302 35,47.6302 \" fill=\"#B8861B\" style=\"stroke:;stroke-width:0.0;stroke-dasharray:;\"/><text fill=\"#000000\" font-family=\"sans-serif\" font-size=\"14\" font-weight=\"bold\" lengthAdjust=\"spacing\" textLength=\"15\" x=\"43.3333\" y=\"55.9951\">ID</text><text fill=\"#000000\" font-family=\"sans-serif\" font-size=\"14\" lengthAdjust=\"spacing\" textLength=\"83\" x=\"58.3333\" y=\"55.9951\">: BIGINT(64)</text><line style=\"stroke:#2688D4;stroke-width:1.0;\" x1=\"8\" x2=\"314.3333\" y1=\"63.2969\" y2=\"63.2969\"/><ellipse cx=\"18\" cy=\"76.9453\" fill=\"#000000\" rx=\"3\" ry=\"3\" style=\"stroke:#000000;stroke-width:1.0;\"/><path d=\"M34.4167,70.7604 C32.8067,70.7604 31.5,72.0671 31.5,73.6771 C31.5,73.8638 31.5,74.0504 31.535,74.2254 L28,77.7604 L28,80.0937 L31.5,80.0937 L31.5,77.7604 L33.8333,77.7604 L33.8333,76.5937 L33.8683,76.5587 C34.0433,76.5937 34.23,76.5937 34.4167,76.5937 C36.0267,76.5937 37.3333,75.2871 37.3333,73.6771 C37.3333,72.0671 36.0267,70.7604 34.4167,70.7604 M35,71.9271 C35.6417,71.9271 36.1667,72.4521 36.1667,73.0937 C36.1667,73.7354 35.6417,74.2604 35,74.2604 C34.3583,74.2604 33.8333,73.7354 33.8333,73.0937 C33.8333,72.4521 34.3583,71.9271 35,71.9271 \" fill=\"#AAAAAA\" style=\"stroke:;stroke-width:0.0;stroke-dasharray:;\"/><text fill=\"#000000\" font-family=\"sans-serif\" font-size=\"14\" lengthAdjust=\"spacing\" textLength=\"155\" x=\"42.3333\" y=\"80.292\">ORDER_ID: BIGINT(64)</text><ellipse cx=\"18\" cy=\"93.2422\" fill=\"#000000\" rx=\"3\" ry=\"3\" style=\"stroke:#000000;stroke-width:1.0;\"/><path d=\"M31.5,87.0573 C29.5633,87.0573 28,88.6206 28,90.5573 C28,92.494 29.5633,94.0573 31.5,94.0573 C33.4367,94.0573 35,92.494 35,90.5573 C35,88.6206 33.4367,87.0573 31.5,87.0573 \" fill=\"#EFEFEF\" style=\"stroke:;stroke-width:0.0;stroke-dasharray:;\"/><text fill=\"#000000\" font-family=\"sans-serif\" font-size=\"14\" lengthAdjust=\"spacing\" textLength=\"214\" x=\"42.3333\" y=\"96.5889\">PRICE: DOUBLE PRECISION(53)</text><path d=\"M31.5,103.3542 C29.5633,103.3542 28,104.9175 28,106.8542 C28,108.7908 29.5633,110.3542 31.5,110.3542 C33.4367,110.3542 35,108.7908 35,106.8542 C35,104.9175 33.4367,103.3542 31.5,103.3542 \" fill=\"#EFEFEF\" style=\"stroke:;stroke-width:0.0;stroke-dasharray:;\"/><text fill=\"#000000\" font-family=\"sans-serif\" font-size=\"14\" lengthAdjust=\"spacing\" textLength=\"267\" x=\"42.3333\" y=\"112.8857\">PRODUCT: CHARACTER VARYING(255)</text></g><!--MD5=[cbcce1e33a055356c6c61b908e2838fa]\n",
       "link LINE to EORDER--><g id=\"link_LINE_EORDER\"><path codeLine=\"29\" d=\"M316,75 C347.3,75 356.41,75 385.28,75 \" fill=\"none\" id=\"LINE-to-EORDER\" style=\"stroke:#2688D4;stroke-width:1.0;\"/><polygon fill=\"#2688D4\" points=\"390.5,75,381.5,71,385.5,75,381.5,79,390.5,75\" style=\"stroke:#2688D4;stroke-width:1.0;\"/></g><!--MD5=[3a0a881351e02b844c11c2177e625367]\n",
       "@startuml\r\n",
       "\r\n",
       " left to right direction\r\n",
       " skinparam roundcorner 5\r\n",
       " skinparam shadowing true\r\n",
       " skinparam handwritten false\r\n",
       " skinparam class {\r\n",
       "     BackgroundColor #EEEEEE\r\n",
       "     ArrowColor #2688d4\r\n",
       "     BorderColor #2688d4\r\n",
       " }\r\n",
       "\r\n",
       " !define primary_key(x) <b><color:#b8861b><&key></color> x</b>\r\n",
       " !define foreign_key(x) <color:#aaaaaa><&key></color> x\r\n",
       " !define column(x) <color:#efefef><&media-record></color> x\r\n",
       " !define table(x) entity x << (T, white) >>\r\n",
       "\r\n",
       "table(EORDER) {\r\n",
       "\t* primary_key(ID): BIGINT(64)\r\n",
       "- -\r\n",
       "\t column(DATE): TIMESTAMP(26)\r\n",
       "}\r\n",
       "table(LINE) {\r\n",
       "\t* primary_key(ID): BIGINT(64)\r\n",
       "- -\r\n",
       "\t* foreign_key(ORDER_ID): BIGINT(64)\r\n",
       "\t* column(PRICE): DOUBLE PRECISION(53)\r\n",
       "\t column(PRODUCT): CHARACTER VARYING(255)\r\n",
       "}\r\n",
       "LINE::ORDER_ID - -> EORDER::ID\r\n",
       "@enduml\r\n",
       "\n",
       "@startuml\r\n",
       "\r\n",
       " left to right direction\r\n",
       " skinparam roundcorner 5\r\n",
       " skinparam shadowing true\r\n",
       " skinparam handwritten false\r\n",
       " skinparam class {\r\n",
       "     BackgroundColor #EEEEEE\r\n",
       "     ArrowColor #2688d4\r\n",
       "     BorderColor #2688d4\r\n",
       " }\r\n",
       "\r\n",
       "\r\n",
       "entity EORDER << (T, white) >> {\r\n",
       "\t* <b><color:#b8861b><&key></color> ID</b>: BIGINT(64)\r\n",
       "- -\r\n",
       "\t <color:#efefef><&media-record></color> DATE: TIMESTAMP(26)\r\n",
       "}\r\n",
       "entity LINE << (T, white) >> {\r\n",
       "\t* <b><color:#b8861b><&key></color> ID</b>: BIGINT(64)\r\n",
       "- -\r\n",
       "\t* <color:#aaaaaa><&key></color> ORDER_ID: BIGINT(64)\r\n",
       "\t* <color:#efefef><&media-record></color> PRICE: DOUBLE PRECISION(53)\r\n",
       "\t <color:#efefef><&media-record></color> PRODUCT: CHARACTER VARYING(255)\r\n",
       "}\r\n",
       "LINE::ORDER_ID - -> EORDER::ID\r\n",
       "@enduml\r\n",
       "\n",
       "PlantUML version 1.2022.12(Sun Oct 23 18:12:26 UTC 2022)\n",
       "(GPL source distribution)\n",
       "Java Runtime: OpenJDK Runtime Environment\n",
       "JVM: OpenJDK 64-Bit Server VM\n",
       "Default Encoding: UTF-8\n",
       "Language: en\n",
       "Country: US\n",
       "--></g></svg>"
      ],
      "text/plain": [
       "<?xml version=\"1.0\" encoding=\"UTF-8\" standalone=\"no\"?><svg xmlns=\"http://www.w3.org/2000/svg\" xmlns:xlink=\"http://www.w3.org/1999/xlink\" contentStyleType=\"text/css\" height=\"132px\" preserveAspectRatio=\"none\" style=\"width:586px;height:132px;background:#FFFFFF;\" version=\"1.1\" viewBox=\"0 0 586 132\" width=\"586px\" zoomAndPan=\"magnify\"><defs><filter height=\"300%\" id=\"f1biwdkar348rm\" width=\"300%\" x=\"-1\" y=\"-1\"><feGaussianBlur result=\"blurOut\" stdDeviation=\"2.0\"/><feColorMatrix in=\"blurOut\" result=\"blurOut2\" type=\"matrix\" values=\"0 0 0 0 0 0 0 0 0 0 0 0 0 0 0 0 0 0 .4 0\"/><feOffset dx=\"4.0\" dy=\"4.0\" in=\"blurOut2\" result=\"blurOut3\"/><feBlend in=\"SourceGraphic\" in2=\"blurOut3\" mode=\"normal\"/></filter></defs><g><!--MD5=[113411c5623f12de95796ef4e945b110]\n",
       "class EORDER--><g id=\"elem_EORDER\"><rect codeLine=\"17\" fill=\"#EEEEEE\" filter=\"url(#f1biwdkar348rm)\" height=\"80.5938\" id=\"EORDER\" rx=\"2.5\" ry=\"2.5\" style=\"stroke:#2688D4;stroke-width:0.5;\" width=\"183.3333\" x=\"391\" y=\"31\"/><ellipse cx=\"448.4167\" cy=\"47\" fill=\"#FFFFFF\" rx=\"11\" ry=\"11\" style=\"stroke:#181818;stroke-width:1.0;\"/><path d=\"M449.2604,53.75 L446.8073,53.75 L446.8073,43.5 L443.6667,43.5 L443.6667,41.3594 L452.401,41.3594 L452.401,43.5 L449.2604,43.5 L449.2604,53.75 Z \" fill=\"#000000\"/><text fill=\"#000000\" font-family=\"sans-serif\" font-size=\"14\" lengthAdjust=\"spacing\" textLength=\"60\" x=\"468.9167\" y=\"51.8467\">EORDER</text><line style=\"stroke:#2688D4;stroke-width:0.5;\" x1=\"392\" x2=\"573.3333\" y1=\"63\" y2=\"63\"/><ellipse cx=\"402\" cy=\"76.6484\" fill=\"#000000\" rx=\"3\" ry=\"3\" style=\"stroke:#000000;stroke-width:1.0;\"/><path d=\"M418.4167,70.4635 C416.8067,70.4635 415.5,71.7702 415.5,73.3802 C415.5,73.5669 415.5,73.7535 415.535,73.9285 L412,77.4635 L412,79.7969 L415.5,79.7969 L415.5,77.4635 L417.8333,77.4635 L417.8333,76.2969 L417.8683,76.2619 C418.0433,76.2969 418.23,76.2969 418.4167,76.2969 C420.0267,76.2969 421.3333,74.9902 421.3333,73.3802 C421.3333,71.7702 420.0267,70.4635 418.4167,70.4635 M419,71.6302 C419.6417,71.6302 420.1667,72.1552 420.1667,72.7969 C420.1667,73.4385 419.6417,73.9635 419,73.9635 C418.3583,73.9635 417.8333,73.4385 417.8333,72.7969 C417.8333,72.1552 418.3583,71.6302 419,71.6302 \" fill=\"#B8861B\" style=\"stroke:;stroke-width:0.0;stroke-dasharray:;\"/><text fill=\"#000000\" font-family=\"sans-serif\" font-size=\"14\" font-weight=\"bold\" lengthAdjust=\"spacing\" textLength=\"15\" x=\"427.3333\" y=\"79.9951\">ID</text><text fill=\"#000000\" font-family=\"sans-serif\" font-size=\"14\" lengthAdjust=\"spacing\" textLength=\"83\" x=\"442.3333\" y=\"79.9951\">: BIGINT(64)</text><line style=\"stroke:#2688D4;stroke-width:1.0;\" x1=\"392\" x2=\"573.3333\" y1=\"87.2969\" y2=\"87.2969\"/><path d=\"M401.5,94.7604 C399.5633,94.7604 398,96.3237 398,98.2604 C398,100.1971 399.5633,101.7604 401.5,101.7604 C403.4367,101.7604 405,100.1971 405,98.2604 C405,96.3237 403.4367,94.7604 401.5,94.7604 \" fill=\"#EFEFEF\" style=\"stroke:;stroke-width:0.0;stroke-dasharray:;\"/><text fill=\"#000000\" font-family=\"sans-serif\" font-size=\"14\" lengthAdjust=\"spacing\" textLength=\"156\" x=\"412.3333\" y=\"104.292\">DATE: TIMESTAMP(26)</text></g><!--MD5=[5d3cd2ef4ad6de09d9fcc75dfe080639]\n",
       "class LINE--><g id=\"elem_LINE\"><rect codeLine=\"22\" fill=\"#EEEEEE\" filter=\"url(#f1biwdkar348rm)\" height=\"113.1875\" id=\"LINE\" rx=\"2.5\" ry=\"2.5\" style=\"stroke:#2688D4;stroke-width:0.5;\" width=\"308.3333\" x=\"7\" y=\"7\"/><ellipse cx=\"142.4167\" cy=\"23\" fill=\"#FFFFFF\" rx=\"11\" ry=\"11\" style=\"stroke:#181818;stroke-width:1.0;\"/><path d=\"M143.2604,29.75 L140.8073,29.75 L140.8073,19.5 L137.6667,19.5 L137.6667,17.3594 L146.401,17.3594 L146.401,19.5 L143.2604,19.5 L143.2604,29.75 Z \" fill=\"#000000\"/><text fill=\"#000000\" font-family=\"sans-serif\" font-size=\"14\" lengthAdjust=\"spacing\" textLength=\"29\" x=\"162.9167\" y=\"27.8467\">LINE</text><line style=\"stroke:#2688D4;stroke-width:0.5;\" x1=\"8\" x2=\"314.3333\" y1=\"39\" y2=\"39\"/><ellipse cx=\"18\" cy=\"52.6484\" fill=\"#000000\" rx=\"3\" ry=\"3\" style=\"stroke:#000000;stroke-width:1.0;\"/><path d=\"M34.4167,46.4635 C32.8067,46.4635 31.5,47.7702 31.5,49.3802 C31.5,49.5669 31.5,49.7535 31.535,49.9285 L28,53.4635 L28,55.7969 L31.5,55.7969 L31.5,53.4635 L33.8333,53.4635 L33.8333,52.2969 L33.8683,52.2619 C34.0433,52.2969 34.23,52.2969 34.4167,52.2969 C36.0267,52.2969 37.3333,50.9902 37.3333,49.3802 C37.3333,47.7702 36.0267,46.4635 34.4167,46.4635 M35,47.6302 C35.6417,47.6302 36.1667,48.1552 36.1667,48.7969 C36.1667,49.4385 35.6417,49.9635 35,49.9635 C34.3583,49.9635 33.8333,49.4385 33.8333,48.7969 C33.8333,48.1552 34.3583,47.6302 35,47.6302 \" fill=\"#B8861B\" style=\"stroke:;stroke-width:0.0;stroke-dasharray:;\"/><text fill=\"#000000\" font-family=\"sans-serif\" font-size=\"14\" font-weight=\"bold\" lengthAdjust=\"spacing\" textLength=\"15\" x=\"43.3333\" y=\"55.9951\">ID</text><text fill=\"#000000\" font-family=\"sans-serif\" font-size=\"14\" lengthAdjust=\"spacing\" textLength=\"83\" x=\"58.3333\" y=\"55.9951\">: BIGINT(64)</text><line style=\"stroke:#2688D4;stroke-width:1.0;\" x1=\"8\" x2=\"314.3333\" y1=\"63.2969\" y2=\"63.2969\"/><ellipse cx=\"18\" cy=\"76.9453\" fill=\"#000000\" rx=\"3\" ry=\"3\" style=\"stroke:#000000;stroke-width:1.0;\"/><path d=\"M34.4167,70.7604 C32.8067,70.7604 31.5,72.0671 31.5,73.6771 C31.5,73.8638 31.5,74.0504 31.535,74.2254 L28,77.7604 L28,80.0937 L31.5,80.0937 L31.5,77.7604 L33.8333,77.7604 L33.8333,76.5937 L33.8683,76.5587 C34.0433,76.5937 34.23,76.5937 34.4167,76.5937 C36.0267,76.5937 37.3333,75.2871 37.3333,73.6771 C37.3333,72.0671 36.0267,70.7604 34.4167,70.7604 M35,71.9271 C35.6417,71.9271 36.1667,72.4521 36.1667,73.0937 C36.1667,73.7354 35.6417,74.2604 35,74.2604 C34.3583,74.2604 33.8333,73.7354 33.8333,73.0937 C33.8333,72.4521 34.3583,71.9271 35,71.9271 \" fill=\"#AAAAAA\" style=\"stroke:;stroke-width:0.0;stroke-dasharray:;\"/><text fill=\"#000000\" font-family=\"sans-serif\" font-size=\"14\" lengthAdjust=\"spacing\" textLength=\"155\" x=\"42.3333\" y=\"80.292\">ORDER_ID: BIGINT(64)</text><ellipse cx=\"18\" cy=\"93.2422\" fill=\"#000000\" rx=\"3\" ry=\"3\" style=\"stroke:#000000;stroke-width:1.0;\"/><path d=\"M31.5,87.0573 C29.5633,87.0573 28,88.6206 28,90.5573 C28,92.494 29.5633,94.0573 31.5,94.0573 C33.4367,94.0573 35,92.494 35,90.5573 C35,88.6206 33.4367,87.0573 31.5,87.0573 \" fill=\"#EFEFEF\" style=\"stroke:;stroke-width:0.0;stroke-dasharray:;\"/><text fill=\"#000000\" font-family=\"sans-serif\" font-size=\"14\" lengthAdjust=\"spacing\" textLength=\"214\" x=\"42.3333\" y=\"96.5889\">PRICE: DOUBLE PRECISION(53)</text><path d=\"M31.5,103.3542 C29.5633,103.3542 28,104.9175 28,106.8542 C28,108.7908 29.5633,110.3542 31.5,110.3542 C33.4367,110.3542 35,108.7908 35,106.8542 C35,104.9175 33.4367,103.3542 31.5,103.3542 \" fill=\"#EFEFEF\" style=\"stroke:;stroke-width:0.0;stroke-dasharray:;\"/><text fill=\"#000000\" font-family=\"sans-serif\" font-size=\"14\" lengthAdjust=\"spacing\" textLength=\"267\" x=\"42.3333\" y=\"112.8857\">PRODUCT: CHARACTER VARYING(255)</text></g><!--MD5=[cbcce1e33a055356c6c61b908e2838fa]\n",
       "link LINE to EORDER--><g id=\"link_LINE_EORDER\"><path codeLine=\"29\" d=\"M316,75 C347.3,75 356.41,75 385.28,75 \" fill=\"none\" id=\"LINE-to-EORDER\" style=\"stroke:#2688D4;stroke-width:1.0;\"/><polygon fill=\"#2688D4\" points=\"390.5,75,381.5,71,385.5,75,381.5,79,390.5,75\" style=\"stroke:#2688D4;stroke-width:1.0;\"/></g><!--MD5=[3a0a881351e02b844c11c2177e625367]\n",
       "@startuml\r\n",
       "\r\n",
       " left to right direction\r\n",
       " skinparam roundcorner 5\r\n",
       " skinparam shadowing true\r\n",
       " skinparam handwritten false\r\n",
       " skinparam class {\r\n",
       "     BackgroundColor #EEEEEE\r\n",
       "     ArrowColor #2688d4\r\n",
       "     BorderColor #2688d4\r\n",
       " }\r\n",
       "\r\n",
       " !define primary_key(x) <b><color:#b8861b><&key></color> x</b>\r\n",
       " !define foreign_key(x) <color:#aaaaaa><&key></color> x\r\n",
       " !define column(x) <color:#efefef><&media-record></color> x\r\n",
       " !define table(x) entity x << (T, white) >>\r\n",
       "\r\n",
       "table(EORDER) {\r\n",
       "\t* primary_key(ID): BIGINT(64)\r\n",
       "- -\r\n",
       "\t column(DATE): TIMESTAMP(26)\r\n",
       "}\r\n",
       "table(LINE) {\r\n",
       "\t* primary_key(ID): BIGINT(64)\r\n",
       "- -\r\n",
       "\t* foreign_key(ORDER_ID): BIGINT(64)\r\n",
       "\t* column(PRICE): DOUBLE PRECISION(53)\r\n",
       "\t column(PRODUCT): CHARACTER VARYING(255)\r\n",
       "}\r\n",
       "LINE::ORDER_ID - -> EORDER::ID\r\n",
       "@enduml\r\n",
       "\n",
       "@startuml\r\n",
       "\r\n",
       " left to right direction\r\n",
       " skinparam roundcorner 5\r\n",
       " skinparam shadowing true\r\n",
       " skinparam handwritten false\r\n",
       " skinparam class {\r\n",
       "     BackgroundColor #EEEEEE\r\n",
       "     ArrowColor #2688d4\r\n",
       "     BorderColor #2688d4\r\n",
       " }\r\n",
       "\r\n",
       "\r\n",
       "entity EORDER << (T, white) >> {\r\n",
       "\t* <b><color:#b8861b><&key></color> ID</b>: BIGINT(64)\r\n",
       "- -\r\n",
       "\t <color:#efefef><&media-record></color> DATE: TIMESTAMP(26)\r\n",
       "}\r\n",
       "entity LINE << (T, white) >> {\r\n",
       "\t* <b><color:#b8861b><&key></color> ID</b>: BIGINT(64)\r\n",
       "- -\r\n",
       "\t* <color:#aaaaaa><&key></color> ORDER_ID: BIGINT(64)\r\n",
       "\t* <color:#efefef><&media-record></color> PRICE: DOUBLE PRECISION(53)\r\n",
       "\t <color:#efefef><&media-record></color> PRODUCT: CHARACTER VARYING(255)\r\n",
       "}\r\n",
       "LINE::ORDER_ID - -> EORDER::ID\r\n",
       "@enduml\r\n",
       "\n",
       "PlantUML version 1.2022.12(Sun Oct 23 18:12:26 UTC 2022)\n",
       "(GPL source distribution)\n",
       "Java Runtime: OpenJDK Runtime Environment\n",
       "JVM: OpenJDK 64-Bit Server VM\n",
       "Default Encoding: UTF-8\n",
       "Language: en\n",
       "Country: US\n",
       "--></g></svg>"
      ]
     },
     "metadata": {},
     "output_type": "display_data"
    }
   ],
   "source": [
    "%%rdbmsSchema jdbc:h2:tcp://host.docker.internal/hellojpa-db dba secret EX_ONE_TO_MANY_A\n",
    "%"
   ]
  },
  {
   "cell_type": "code",
   "execution_count": 16,
   "id": "3b3f6537-4969-4a56-8cfe-e937e2b129c7",
   "metadata": {
    "tags": [
     "remove-input"
    ]
   },
   "outputs": [
    {
     "data": {
      "text/markdown": [
       "```Java\n",
       "@Entity\n",
       "@Data\n",
       "@NoArgsConstructor(access = AccessLevel.PROTECTED)\n",
       "@Table(name = \"EORDER\", schema = \"EX_ONE_TO_MANY_A\")\n",
       "public class Order {\n",
       "\n",
       "    @Id\n",
       "    @GeneratedValue(strategy = GenerationType.SEQUENCE)\n",
       "    private long id;\n",
       "\n",
       "    private LocalDateTime date = LocalDateTime.now();\n",
       "\n",
       "    @OneToMany(mappedBy = \"order\", cascade = { CascadeType.PERSIST, CascadeType.REMOVE }, orphanRemoval = true)\n",
       "    private List<Line> lines = new ArrayList<>();\n",
       "\n",
       "    public Order addLine(Line line) {\n",
       "        line.setOrder(this);\n",
       "        lines.add(line);\n",
       "        return this;\n",
       "    }\n",
       "\n",
       "    public Order removeLine(Line line) {\n",
       "        line.setOrder(this);\n",
       "        lines.remove(line);\n",
       "        return this;\n",
       "    }\n",
       "}\n",
       "```"
      ],
      "text/plain": [
       "```Java\n",
       "@Entity\n",
       "@Data\n",
       "@NoArgsConstructor(access = AccessLevel.PROTECTED)\n",
       "@Table(name = \"EORDER\", schema = \"EX_ONE_TO_MANY_A\")\n",
       "public class Order {\n",
       "\n",
       "    @Id\n",
       "    @GeneratedValue(strategy = GenerationType.SEQUENCE)\n",
       "    private long id;\n",
       "\n",
       "    private LocalDateTime date = LocalDateTime.now();\n",
       "\n",
       "    @OneToMany(mappedBy = \"order\", cascade = { CascadeType.PERSIST, CascadeType.REMOVE }, orphanRemoval = true)\n",
       "    private List<Line> lines = new ArrayList<>();\n",
       "\n",
       "    public Order addLine(Line line) {\n",
       "        line.setOrder(this);\n",
       "        lines.add(line);\n",
       "        return this;\n",
       "    }\n",
       "\n",
       "    public Order removeLine(Line line) {\n",
       "        line.setOrder(this);\n",
       "        lines.remove(line);\n",
       "        return this;\n",
       "    }\n",
       "}\n",
       "```"
      ]
     },
     "metadata": {},
     "output_type": "display_data"
    }
   ],
   "source": [
    "%%javasrcClassByName Order\n",
    "samples/hellojpa/src/main/java/fr/univtln/bruno/demos/jpa/hello/samples/ex_associations/ex_onetomanyA/Order.java"
   ]
  },
  {
   "cell_type": "code",
   "execution_count": 17,
   "id": "498798ef-0017-4138-b7ee-7616c8c6dd64",
   "metadata": {
    "tags": [
     "remove-input"
    ]
   },
   "outputs": [
    {
     "data": {
      "text/markdown": [
       "```Java\n",
       "@Entity\n",
       "@Data\n",
       "@RequiredArgsConstructor(staticName = \"of\")\n",
       "@NoArgsConstructor(access = AccessLevel.PROTECTED)\n",
       "@Table(name = \"LINE\", schema = \"EX_ONE_TO_MANY_A\")\n",
       "public class Line {\n",
       "\n",
       "    @Id\n",
       "    @GeneratedValue(strategy = GenerationType.SEQUENCE)\n",
       "    private long id;\n",
       "\n",
       "    @NonNull\n",
       "    private String product;\n",
       "\n",
       "    @NonNull\n",
       "    private double price;\n",
       "\n",
       "    @ManyToOne\n",
       "    @JoinColumn(nullable = false)\n",
       "    @Setter\n",
       "    @ToString.Exclude\n",
       "    private Order order;\n",
       "}\n",
       "```"
      ],
      "text/plain": [
       "```Java\n",
       "@Entity\n",
       "@Data\n",
       "@RequiredArgsConstructor(staticName = \"of\")\n",
       "@NoArgsConstructor(access = AccessLevel.PROTECTED)\n",
       "@Table(name = \"LINE\", schema = \"EX_ONE_TO_MANY_A\")\n",
       "public class Line {\n",
       "\n",
       "    @Id\n",
       "    @GeneratedValue(strategy = GenerationType.SEQUENCE)\n",
       "    private long id;\n",
       "\n",
       "    @NonNull\n",
       "    private String product;\n",
       "\n",
       "    @NonNull\n",
       "    private double price;\n",
       "\n",
       "    @ManyToOne\n",
       "    @JoinColumn(nullable = false)\n",
       "    @Setter\n",
       "    @ToString.Exclude\n",
       "    private Order order;\n",
       "}\n",
       "```"
      ]
     },
     "metadata": {},
     "output_type": "display_data"
    }
   ],
   "source": [
    "%%javasrcClassByName Line\n",
    "samples/hellojpa/src/main/java/fr/univtln/bruno/demos/jpa/hello/samples/ex_associations/ex_onetomanyA/Line.java"
   ]
  },
  {
   "cell_type": "markdown",
   "id": "094710e5-02d9-42e7-a8d6-e20778dacddf",
   "metadata": {
    "user_expressions": []
   },
   "source": [
    "## Many to Many"
   ]
  },
  {
   "cell_type": "code",
   "execution_count": 19,
   "id": "7e055202-f99a-42b8-8b2a-c4e9be202405",
   "metadata": {
    "tags": [
     "remove-input"
    ]
   },
   "outputs": [
    {
     "data": {
      "image/svg+xml": [
       "<?xml version=\"1.0\" encoding=\"UTF-8\" standalone=\"no\"?><svg xmlns=\"http://www.w3.org/2000/svg\" xmlns:xlink=\"http://www.w3.org/1999/xlink\" contentStyleType=\"text/css\" height=\"94px\" preserveAspectRatio=\"none\" style=\"width:323px;height:94px;background:#FFFFFF;\" version=\"1.1\" viewBox=\"0 0 323 94\" width=\"323px\" zoomAndPan=\"magnify\"><defs/><g><!--MD5=[2ce0c9fb7f55b1e256ab28a8ea6b25ec]\n",
       "class Customer--><g id=\"elem_Customer\"><rect codeLine=\"1\" fill=\"#F1F1F1\" height=\"80.5938\" id=\"Customer\" rx=\"2.5\" ry=\"2.5\" style=\"stroke:#181818;stroke-width:0.5;\" width=\"114\" x=\"7\" y=\"7\"/><ellipse cx=\"28.3\" cy=\"23\" fill=\"#ADD1B2\" rx=\"11\" ry=\"11\" style=\"stroke:#181818;stroke-width:1.0;\"/><path d=\"M31.2688,28.6406 Q30.6906,28.9375 30.05,29.0781 Q29.4094,29.2344 28.7063,29.2344 Q26.2063,29.2344 24.8781,27.5938 Q23.5656,25.9375 23.5656,22.8125 Q23.5656,19.6875 24.8781,18.0313 Q26.2063,16.375 28.7063,16.375 Q29.4094,16.375 30.05,16.5313 Q30.7063,16.6875 31.2688,16.9844 L31.2688,19.7031 Q30.6438,19.125 30.05,18.8594 Q29.4563,18.5781 28.8313,18.5781 Q27.4875,18.5781 26.8,19.6563 Q26.1125,20.7188 26.1125,22.8125 Q26.1125,24.9063 26.8,25.9844 Q27.4875,27.0469 28.8313,27.0469 Q29.4563,27.0469 30.05,26.7813 Q30.6438,26.5 31.2688,25.9219 L31.2688,28.6406 Z \" fill=\"#000000\"/><text fill=\"#000000\" font-family=\"sans-serif\" font-size=\"14\" lengthAdjust=\"spacing\" textLength=\"68\" x=\"43.7\" y=\"27.8467\">Customer</text><line style=\"stroke:#181818;stroke-width:0.5;\" x1=\"8\" x2=\"120\" y1=\"39\" y2=\"39\"/><rect fill=\"none\" height=\"6\" style=\"stroke:#C82930;stroke-width:1.0;\" width=\"6\" x=\"15\" y=\"49.6484\"/><text fill=\"#000000\" font-family=\"sans-serif\" font-size=\"14\" lengthAdjust=\"spacing\" textLength=\"51\" x=\"27\" y=\"55.9951\">id: long</text><rect fill=\"none\" height=\"6\" style=\"stroke:#C82930;stroke-width:1.0;\" width=\"6\" x=\"15\" y=\"65.9453\"/><text fill=\"#000000\" font-family=\"sans-serif\" font-size=\"14\" lengthAdjust=\"spacing\" textLength=\"88\" x=\"27\" y=\"72.292\">name: String</text><line style=\"stroke:#181818;stroke-width:0.5;\" x1=\"8\" x2=\"120\" y1=\"79.5938\" y2=\"79.5938\"/></g><!--MD5=[0f39e4cb6f03951afbf6d14bd2505654]\n",
       "class Address--><g id=\"elem_Address\"><rect codeLine=\"5\" fill=\"#F1F1F1\" height=\"80.5938\" id=\"Address\" rx=\"2.5\" ry=\"2.5\" style=\"stroke:#181818;stroke-width:0.5;\" width=\"122\" x=\"194\" y=\"7\"/><ellipse cx=\"223.85\" cy=\"23\" fill=\"#ADD1B2\" rx=\"11\" ry=\"11\" style=\"stroke:#181818;stroke-width:1.0;\"/><path d=\"M226.8188,28.6406 Q226.2406,28.9375 225.6,29.0781 Q224.9594,29.2344 224.2563,29.2344 Q221.7563,29.2344 220.4281,27.5938 Q219.1156,25.9375 219.1156,22.8125 Q219.1156,19.6875 220.4281,18.0313 Q221.7563,16.375 224.2563,16.375 Q224.9594,16.375 225.6,16.5313 Q226.2563,16.6875 226.8188,16.9844 L226.8188,19.7031 Q226.1938,19.125 225.6,18.8594 Q225.0063,18.5781 224.3813,18.5781 Q223.0375,18.5781 222.35,19.6563 Q221.6625,20.7188 221.6625,22.8125 Q221.6625,24.9063 222.35,25.9844 Q223.0375,27.0469 224.3813,27.0469 Q225.0063,27.0469 225.6,26.7813 Q226.1938,26.5 226.8188,25.9219 L226.8188,28.6406 Z \" fill=\"#000000\"/><text fill=\"#000000\" font-family=\"sans-serif\" font-size=\"14\" lengthAdjust=\"spacing\" textLength=\"57\" x=\"241.15\" y=\"27.8467\">Address</text><line style=\"stroke:#181818;stroke-width:0.5;\" x1=\"195\" x2=\"315\" y1=\"39\" y2=\"39\"/><rect fill=\"none\" height=\"6\" style=\"stroke:#C82930;stroke-width:1.0;\" width=\"6\" x=\"202\" y=\"49.6484\"/><text fill=\"#000000\" font-family=\"sans-serif\" font-size=\"14\" lengthAdjust=\"spacing\" textLength=\"51\" x=\"214\" y=\"55.9951\">id: long</text><rect fill=\"none\" height=\"6\" style=\"stroke:#C82930;stroke-width:1.0;\" width=\"6\" x=\"202\" y=\"65.9453\"/><text fill=\"#000000\" font-family=\"sans-serif\" font-size=\"14\" lengthAdjust=\"spacing\" textLength=\"96\" x=\"214\" y=\"72.292\">adress: String</text><line style=\"stroke:#181818;stroke-width:0.5;\" x1=\"195\" x2=\"315\" y1=\"79.5938\" y2=\"79.5938\"/></g><!--MD5=[9d267913275094cee8b213adaba16fc1]\n",
       "link Customer to Address--><g id=\"link_Customer_Address\"><path codeLine=\"10\" d=\"M121.05,47.5 C144.02,47.5 170.56,47.5 193.92,47.5 \" fill=\"none\" id=\"Customer-Address\" style=\"stroke:#181818;stroke-width:1.0;\"/><text fill=\"#000000\" font-family=\"sans-serif\" font-size=\"13\" lengthAdjust=\"spacing\" textLength=\"72\" x=\"139.5\" y=\"40.5669\">         </text><text fill=\"#000000\" font-family=\"sans-serif\" font-size=\"13\" lengthAdjust=\"spacing\" textLength=\"7\" x=\"129.1864\" y=\"43.5953\">*</text><text fill=\"#000000\" font-family=\"sans-serif\" font-size=\"13\" lengthAdjust=\"spacing\" textLength=\"7\" x=\"179.0493\" y=\"43.6857\">*</text></g><!--MD5=[2f97f5aaa61b60eadb620b7267da4652]\n",
       "@startuml\r\n",
       "class Customer {\r\n",
       "    - id: long\r\n",
       "    - name: String\r\n",
       "}\r\n",
       "class Address {\r\n",
       "    - id: long\r\n",
       "    - adress: String\r\n",
       "}\r\n",
       "\r\n",
       "Customer \"*\" -right- \"*\" Address :\"         \"\r\n",
       "@enduml\r\n",
       "\n",
       "PlantUML version 1.2022.12(Sun Oct 23 18:12:26 UTC 2022)\n",
       "(GPL source distribution)\n",
       "Java Runtime: OpenJDK Runtime Environment\n",
       "JVM: OpenJDK 64-Bit Server VM\n",
       "Default Encoding: UTF-8\n",
       "Language: en\n",
       "Country: US\n",
       "--></g></svg>"
      ],
      "text/plain": [
       "<?xml version=\"1.0\" encoding=\"UTF-8\" standalone=\"no\"?><svg xmlns=\"http://www.w3.org/2000/svg\" xmlns:xlink=\"http://www.w3.org/1999/xlink\" contentStyleType=\"text/css\" height=\"94px\" preserveAspectRatio=\"none\" style=\"width:323px;height:94px;background:#FFFFFF;\" version=\"1.1\" viewBox=\"0 0 323 94\" width=\"323px\" zoomAndPan=\"magnify\"><defs/><g><!--MD5=[2ce0c9fb7f55b1e256ab28a8ea6b25ec]\n",
       "class Customer--><g id=\"elem_Customer\"><rect codeLine=\"1\" fill=\"#F1F1F1\" height=\"80.5938\" id=\"Customer\" rx=\"2.5\" ry=\"2.5\" style=\"stroke:#181818;stroke-width:0.5;\" width=\"114\" x=\"7\" y=\"7\"/><ellipse cx=\"28.3\" cy=\"23\" fill=\"#ADD1B2\" rx=\"11\" ry=\"11\" style=\"stroke:#181818;stroke-width:1.0;\"/><path d=\"M31.2688,28.6406 Q30.6906,28.9375 30.05,29.0781 Q29.4094,29.2344 28.7063,29.2344 Q26.2063,29.2344 24.8781,27.5938 Q23.5656,25.9375 23.5656,22.8125 Q23.5656,19.6875 24.8781,18.0313 Q26.2063,16.375 28.7063,16.375 Q29.4094,16.375 30.05,16.5313 Q30.7063,16.6875 31.2688,16.9844 L31.2688,19.7031 Q30.6438,19.125 30.05,18.8594 Q29.4563,18.5781 28.8313,18.5781 Q27.4875,18.5781 26.8,19.6563 Q26.1125,20.7188 26.1125,22.8125 Q26.1125,24.9063 26.8,25.9844 Q27.4875,27.0469 28.8313,27.0469 Q29.4563,27.0469 30.05,26.7813 Q30.6438,26.5 31.2688,25.9219 L31.2688,28.6406 Z \" fill=\"#000000\"/><text fill=\"#000000\" font-family=\"sans-serif\" font-size=\"14\" lengthAdjust=\"spacing\" textLength=\"68\" x=\"43.7\" y=\"27.8467\">Customer</text><line style=\"stroke:#181818;stroke-width:0.5;\" x1=\"8\" x2=\"120\" y1=\"39\" y2=\"39\"/><rect fill=\"none\" height=\"6\" style=\"stroke:#C82930;stroke-width:1.0;\" width=\"6\" x=\"15\" y=\"49.6484\"/><text fill=\"#000000\" font-family=\"sans-serif\" font-size=\"14\" lengthAdjust=\"spacing\" textLength=\"51\" x=\"27\" y=\"55.9951\">id: long</text><rect fill=\"none\" height=\"6\" style=\"stroke:#C82930;stroke-width:1.0;\" width=\"6\" x=\"15\" y=\"65.9453\"/><text fill=\"#000000\" font-family=\"sans-serif\" font-size=\"14\" lengthAdjust=\"spacing\" textLength=\"88\" x=\"27\" y=\"72.292\">name: String</text><line style=\"stroke:#181818;stroke-width:0.5;\" x1=\"8\" x2=\"120\" y1=\"79.5938\" y2=\"79.5938\"/></g><!--MD5=[0f39e4cb6f03951afbf6d14bd2505654]\n",
       "class Address--><g id=\"elem_Address\"><rect codeLine=\"5\" fill=\"#F1F1F1\" height=\"80.5938\" id=\"Address\" rx=\"2.5\" ry=\"2.5\" style=\"stroke:#181818;stroke-width:0.5;\" width=\"122\" x=\"194\" y=\"7\"/><ellipse cx=\"223.85\" cy=\"23\" fill=\"#ADD1B2\" rx=\"11\" ry=\"11\" style=\"stroke:#181818;stroke-width:1.0;\"/><path d=\"M226.8188,28.6406 Q226.2406,28.9375 225.6,29.0781 Q224.9594,29.2344 224.2563,29.2344 Q221.7563,29.2344 220.4281,27.5938 Q219.1156,25.9375 219.1156,22.8125 Q219.1156,19.6875 220.4281,18.0313 Q221.7563,16.375 224.2563,16.375 Q224.9594,16.375 225.6,16.5313 Q226.2563,16.6875 226.8188,16.9844 L226.8188,19.7031 Q226.1938,19.125 225.6,18.8594 Q225.0063,18.5781 224.3813,18.5781 Q223.0375,18.5781 222.35,19.6563 Q221.6625,20.7188 221.6625,22.8125 Q221.6625,24.9063 222.35,25.9844 Q223.0375,27.0469 224.3813,27.0469 Q225.0063,27.0469 225.6,26.7813 Q226.1938,26.5 226.8188,25.9219 L226.8188,28.6406 Z \" fill=\"#000000\"/><text fill=\"#000000\" font-family=\"sans-serif\" font-size=\"14\" lengthAdjust=\"spacing\" textLength=\"57\" x=\"241.15\" y=\"27.8467\">Address</text><line style=\"stroke:#181818;stroke-width:0.5;\" x1=\"195\" x2=\"315\" y1=\"39\" y2=\"39\"/><rect fill=\"none\" height=\"6\" style=\"stroke:#C82930;stroke-width:1.0;\" width=\"6\" x=\"202\" y=\"49.6484\"/><text fill=\"#000000\" font-family=\"sans-serif\" font-size=\"14\" lengthAdjust=\"spacing\" textLength=\"51\" x=\"214\" y=\"55.9951\">id: long</text><rect fill=\"none\" height=\"6\" style=\"stroke:#C82930;stroke-width:1.0;\" width=\"6\" x=\"202\" y=\"65.9453\"/><text fill=\"#000000\" font-family=\"sans-serif\" font-size=\"14\" lengthAdjust=\"spacing\" textLength=\"96\" x=\"214\" y=\"72.292\">adress: String</text><line style=\"stroke:#181818;stroke-width:0.5;\" x1=\"195\" x2=\"315\" y1=\"79.5938\" y2=\"79.5938\"/></g><!--MD5=[9d267913275094cee8b213adaba16fc1]\n",
       "link Customer to Address--><g id=\"link_Customer_Address\"><path codeLine=\"10\" d=\"M121.05,47.5 C144.02,47.5 170.56,47.5 193.92,47.5 \" fill=\"none\" id=\"Customer-Address\" style=\"stroke:#181818;stroke-width:1.0;\"/><text fill=\"#000000\" font-family=\"sans-serif\" font-size=\"13\" lengthAdjust=\"spacing\" textLength=\"72\" x=\"139.5\" y=\"40.5669\">         </text><text fill=\"#000000\" font-family=\"sans-serif\" font-size=\"13\" lengthAdjust=\"spacing\" textLength=\"7\" x=\"129.1864\" y=\"43.5953\">*</text><text fill=\"#000000\" font-family=\"sans-serif\" font-size=\"13\" lengthAdjust=\"spacing\" textLength=\"7\" x=\"179.0493\" y=\"43.6857\">*</text></g><!--MD5=[2f97f5aaa61b60eadb620b7267da4652]\n",
       "@startuml\r\n",
       "class Customer {\r\n",
       "    - id: long\r\n",
       "    - name: String\r\n",
       "}\r\n",
       "class Address {\r\n",
       "    - id: long\r\n",
       "    - adress: String\r\n",
       "}\r\n",
       "\r\n",
       "Customer \"*\" -right- \"*\" Address :\"         \"\r\n",
       "@enduml\r\n",
       "\n",
       "PlantUML version 1.2022.12(Sun Oct 23 18:12:26 UTC 2022)\n",
       "(GPL source distribution)\n",
       "Java Runtime: OpenJDK Runtime Environment\n",
       "JVM: OpenJDK 64-Bit Server VM\n",
       "Default Encoding: UTF-8\n",
       "Language: en\n",
       "Country: US\n",
       "--></g></svg>"
      ]
     },
     "metadata": {},
     "output_type": "display_data"
    }
   ],
   "source": [
    "%%plantUML\n",
    "@startuml\n",
    "class Customer {\n",
    "    - id: long\n",
    "    - name: String\n",
    "}\n",
    "class Address {\n",
    "    - id: long\n",
    "    - adress: String\n",
    "}\n",
    "\n",
    "Customer \"*\" -right- \"*\" Address :\"         \"\n",
    "@enduml"
   ]
  },
  {
   "cell_type": "code",
   "execution_count": 20,
   "id": "d38262fe-7d76-4bb7-9dd5-11cc15fe546f",
   "metadata": {
    "tags": [
     "remove-input"
    ]
   },
   "outputs": [
    {
     "data": {
      "image/svg+xml": [
       "<?xml version=\"1.0\" encoding=\"UTF-8\" standalone=\"no\"?><svg xmlns=\"http://www.w3.org/2000/svg\" xmlns:xlink=\"http://www.w3.org/1999/xlink\" contentStyleType=\"text/css\" height=\"222px\" preserveAspectRatio=\"none\" style=\"width:667px;height:222px;background:#FFFFFF;\" version=\"1.1\" viewBox=\"0 0 667 222\" width=\"667px\" zoomAndPan=\"magnify\"><defs><filter height=\"300%\" id=\"f1m0u3g4vaw183\" width=\"300%\" x=\"-1\" y=\"-1\"><feGaussianBlur result=\"blurOut\" stdDeviation=\"2.0\"/><feColorMatrix in=\"blurOut\" result=\"blurOut2\" type=\"matrix\" values=\"0 0 0 0 0 0 0 0 0 0 0 0 0 0 0 0 0 0 .4 0\"/><feOffset dx=\"4.0\" dy=\"4.0\" in=\"blurOut2\" result=\"blurOut3\"/><feBlend in=\"SourceGraphic\" in2=\"blurOut3\" mode=\"normal\"/></filter></defs><g><!--MD5=[e22ee3f71dd0529df5e7305c74c346df]\n",
       "class ADDRESS--><g id=\"elem_ADDRESS\"><rect codeLine=\"17\" fill=\"#EEEEEE\" filter=\"url(#f1m0u3g4vaw183)\" height=\"80.5938\" id=\"ADDRESS\" rx=\"2.5\" ry=\"2.5\" style=\"stroke:#2688D4;stroke-width:0.5;\" width=\"340.3333\" x=\"315\" y=\"130\"/><ellipse cx=\"446.9167\" cy=\"146\" fill=\"#FFFFFF\" rx=\"11\" ry=\"11\" style=\"stroke:#181818;stroke-width:1.0;\"/><path d=\"M447.7604,152.75 L445.3073,152.75 L445.3073,142.5 L442.1667,142.5 L442.1667,140.3594 L450.901,140.3594 L450.901,142.5 L447.7604,142.5 L447.7604,152.75 Z \" fill=\"#000000\"/><text fill=\"#000000\" font-family=\"sans-serif\" font-size=\"14\" lengthAdjust=\"spacing\" textLength=\"68\" x=\"467.4167\" y=\"150.8467\">ADDRESS</text><line style=\"stroke:#2688D4;stroke-width:0.5;\" x1=\"316\" x2=\"654.3333\" y1=\"162\" y2=\"162\"/><ellipse cx=\"326\" cy=\"175.6484\" fill=\"#000000\" rx=\"3\" ry=\"3\" style=\"stroke:#000000;stroke-width:1.0;\"/><path d=\"M342.4167,169.4635 C340.8067,169.4635 339.5,170.7702 339.5,172.3802 C339.5,172.5669 339.5,172.7535 339.535,172.9285 L336,176.4635 L336,178.7969 L339.5,178.7969 L339.5,176.4635 L341.8333,176.4635 L341.8333,175.2969 L341.8683,175.2619 C342.0433,175.2969 342.23,175.2969 342.4167,175.2969 C344.0267,175.2969 345.3333,173.9902 345.3333,172.3802 C345.3333,170.7702 344.0267,169.4635 342.4167,169.4635 M343,170.6302 C343.6417,170.6302 344.1667,171.1552 344.1667,171.7969 C344.1667,172.4385 343.6417,172.9635 343,172.9635 C342.3583,172.9635 341.8333,172.4385 341.8333,171.7969 C341.8333,171.1552 342.3583,170.6302 343,170.6302 \" fill=\"#B8861B\" style=\"stroke:;stroke-width:0.0;stroke-dasharray:;\"/><text fill=\"#000000\" font-family=\"sans-serif\" font-size=\"14\" font-weight=\"bold\" lengthAdjust=\"spacing\" textLength=\"15\" x=\"351.3333\" y=\"178.9951\">ID</text><text fill=\"#000000\" font-family=\"sans-serif\" font-size=\"14\" lengthAdjust=\"spacing\" textLength=\"83\" x=\"366.3333\" y=\"178.9951\">: BIGINT(64)</text><line style=\"stroke:#2688D4;stroke-width:1.0;\" x1=\"316\" x2=\"654.3333\" y1=\"186.2969\" y2=\"186.2969\"/><path d=\"M325.5,193.7604 C323.5633,193.7604 322,195.3238 322,197.2604 C322,199.1971 323.5633,200.7604 325.5,200.7604 C327.4367,200.7604 329,199.1971 329,197.2604 C329,195.3238 327.4367,193.7604 325.5,193.7604 \" fill=\"#EFEFEF\" style=\"stroke:;stroke-width:0.0;stroke-dasharray:;\"/><text fill=\"#000000\" font-family=\"sans-serif\" font-size=\"14\" lengthAdjust=\"spacing\" textLength=\"313\" x=\"336.3333\" y=\"203.292\">ADDRESSDETAIL: CHARACTER VARYING(255)</text></g><!--MD5=[9844ecf9ec74e0cf1624fa0134c9f59b]\n",
       "class CUSTOMER--><g id=\"elem_CUSTOMER\"><rect codeLine=\"22\" fill=\"#EEEEEE\" filter=\"url(#f1m0u3g4vaw183)\" height=\"80.5938\" id=\"CUSTOMER\" rx=\"2.5\" ry=\"2.5\" style=\"stroke:#2688D4;stroke-width:0.5;\" width=\"264.3333\" x=\"353\" y=\"7\"/><ellipse cx=\"440.9167\" cy=\"23\" fill=\"#FFFFFF\" rx=\"11\" ry=\"11\" style=\"stroke:#181818;stroke-width:1.0;\"/><path d=\"M441.7604,29.75 L439.3073,29.75 L439.3073,19.5 L436.1667,19.5 L436.1667,17.3594 L444.901,17.3594 L444.901,19.5 L441.7604,19.5 L441.7604,29.75 Z \" fill=\"#000000\"/><text fill=\"#000000\" font-family=\"sans-serif\" font-size=\"14\" lengthAdjust=\"spacing\" textLength=\"80\" x=\"461.4167\" y=\"27.8467\">CUSTOMER</text><line style=\"stroke:#2688D4;stroke-width:0.5;\" x1=\"354\" x2=\"616.3333\" y1=\"39\" y2=\"39\"/><ellipse cx=\"364\" cy=\"52.6484\" fill=\"#000000\" rx=\"3\" ry=\"3\" style=\"stroke:#000000;stroke-width:1.0;\"/><path d=\"M380.4167,46.4635 C378.8067,46.4635 377.5,47.7702 377.5,49.3802 C377.5,49.5669 377.5,49.7535 377.535,49.9285 L374,53.4635 L374,55.7969 L377.5,55.7969 L377.5,53.4635 L379.8333,53.4635 L379.8333,52.2969 L379.8683,52.2619 C380.0433,52.2969 380.23,52.2969 380.4167,52.2969 C382.0267,52.2969 383.3333,50.9902 383.3333,49.3802 C383.3333,47.7702 382.0267,46.4635 380.4167,46.4635 M381,47.6302 C381.6417,47.6302 382.1667,48.1552 382.1667,48.7969 C382.1667,49.4385 381.6417,49.9635 381,49.9635 C380.3583,49.9635 379.8333,49.4385 379.8333,48.7969 C379.8333,48.1552 380.3583,47.6302 381,47.6302 \" fill=\"#B8861B\" style=\"stroke:;stroke-width:0.0;stroke-dasharray:;\"/><text fill=\"#000000\" font-family=\"sans-serif\" font-size=\"14\" font-weight=\"bold\" lengthAdjust=\"spacing\" textLength=\"15\" x=\"389.3333\" y=\"55.9951\">ID</text><text fill=\"#000000\" font-family=\"sans-serif\" font-size=\"14\" lengthAdjust=\"spacing\" textLength=\"83\" x=\"404.3333\" y=\"55.9951\">: BIGINT(64)</text><line style=\"stroke:#2688D4;stroke-width:1.0;\" x1=\"354\" x2=\"616.3333\" y1=\"63.2969\" y2=\"63.2969\"/><path d=\"M363.5,70.7604 C361.5633,70.7604 360,72.3237 360,74.2604 C360,76.1971 361.5633,77.7604 363.5,77.7604 C365.4367,77.7604 367,76.1971 367,74.2604 C367,72.3237 365.4367,70.7604 363.5,70.7604 \" fill=\"#EFEFEF\" style=\"stroke:;stroke-width:0.0;stroke-dasharray:;\"/><text fill=\"#000000\" font-family=\"sans-serif\" font-size=\"14\" lengthAdjust=\"spacing\" textLength=\"237\" x=\"374.3333\" y=\"80.292\">NAME: CHARACTER VARYING(255)</text></g><!--MD5=[7640935fa10e90f9c95c0242c9847112]\n",
       "class CUSTOMER_ADDRESS--><g id=\"elem_CUSTOMER_ADDRESS\"><rect codeLine=\"27\" fill=\"#EEEEEE\" filter=\"url(#f1m0u3g4vaw183)\" height=\"96.8906\" id=\"CUSTOMER_ADDRESS\" rx=\"2.5\" ry=\"2.5\" style=\"stroke:#2688D4;stroke-width:0.5;\" width=\"232.3333\" x=\"7\" y=\"37\"/><ellipse cx=\"42.4\" cy=\"53\" fill=\"#FFFFFF\" rx=\"11\" ry=\"11\" style=\"stroke:#181818;stroke-width:1.0;\"/><path d=\"M43.2438,59.75 L40.7906,59.75 L40.7906,49.5 L37.65,49.5 L37.65,47.3594 L46.3844,47.3594 L46.3844,49.5 L43.2438,49.5 L43.2438,59.75 Z \" fill=\"#000000\"/><text fill=\"#000000\" font-family=\"sans-serif\" font-size=\"14\" lengthAdjust=\"spacing\" textLength=\"155\" x=\"60.9333\" y=\"57.8467\">CUSTOMER_ADDRESS</text><line style=\"stroke:#2688D4;stroke-width:0.5;\" x1=\"8\" x2=\"238.3333\" y1=\"69\" y2=\"69\"/><text fill=\"#000000\" font-family=\"sans-serif\" font-size=\"14\" lengthAdjust=\"spacing\" textLength=\"9\" x=\"13\" y=\"85.9951\"> </text><line style=\"stroke:#2688D4;stroke-width:1.0;\" x1=\"8\" x2=\"238.3333\" y1=\"93.2969\" y2=\"93.2969\"/><ellipse cx=\"18\" cy=\"106.9453\" fill=\"#000000\" rx=\"3\" ry=\"3\" style=\"stroke:#000000;stroke-width:1.0;\"/><path d=\"M34.4167,100.7604 C32.8067,100.7604 31.5,102.0671 31.5,103.6771 C31.5,103.8638 31.5,104.0504 31.535,104.2254 L28,107.7604 L28,110.0937 L31.5,110.0937 L31.5,107.7604 L33.8333,107.7604 L33.8333,106.5937 L33.8683,106.5587 C34.0433,106.5937 34.23,106.5937 34.4167,106.5937 C36.0267,106.5937 37.3333,105.2871 37.3333,103.6771 C37.3333,102.0671 36.0267,100.7604 34.4167,100.7604 M35,101.9271 C35.6417,101.9271 36.1667,102.4521 36.1667,103.0937 C36.1667,103.7354 35.6417,104.2604 35,104.2604 C34.3583,104.2604 33.8333,103.7354 33.8333,103.0937 C33.8333,102.4521 34.3583,101.9271 35,101.9271 \" fill=\"#AAAAAA\" style=\"stroke:;stroke-width:0.0;stroke-dasharray:;\"/><text fill=\"#000000\" font-family=\"sans-serif\" font-size=\"14\" lengthAdjust=\"spacing\" textLength=\"191\" x=\"42.3333\" y=\"110.292\">OCCUPANTS_ID: BIGINT(64)</text><ellipse cx=\"18\" cy=\"123.2422\" fill=\"#000000\" rx=\"3\" ry=\"3\" style=\"stroke:#000000;stroke-width:1.0;\"/><path d=\"M34.4167,117.0573 C32.8067,117.0573 31.5,118.364 31.5,119.974 C31.5,120.1606 31.5,120.3473 31.535,120.5223 L28,124.0573 L28,126.3906 L31.5,126.3906 L31.5,124.0573 L33.8333,124.0573 L33.8333,122.8906 L33.8683,122.8556 C34.0433,122.8906 34.23,122.8906 34.4167,122.8906 C36.0267,122.8906 37.3333,121.584 37.3333,119.974 C37.3333,118.364 36.0267,117.0573 34.4167,117.0573 M35,118.224 C35.6417,118.224 36.1667,118.749 36.1667,119.3906 C36.1667,120.0323 35.6417,120.5573 35,120.5573 C34.3583,120.5573 33.8333,120.0323 33.8333,119.3906 C33.8333,118.749 34.3583,118.224 35,118.224 \" fill=\"#AAAAAA\" style=\"stroke:;stroke-width:0.0;stroke-dasharray:;\"/><text fill=\"#000000\" font-family=\"sans-serif\" font-size=\"14\" lengthAdjust=\"spacing\" textLength=\"157\" x=\"42.3333\" y=\"126.5889\">PLACES_ID: BIGINT(64)</text></g><!--MD5=[8bdacba68e32990f2029a39f0fe45d13]\n",
       "link CUSTOMER_ADDRESS to ADDRESS--><g id=\"link_CUSTOMER_ADDRESS_ADDRESS\"><path codeLine=\"33\" d=\"M240,121 C278.56,121 274.09,169.15 308.61,173.66 \" fill=\"none\" id=\"CUSTOMER_ADDRESS-to-ADDRESS\" style=\"stroke:#2688D4;stroke-width:1.0;\"/><polygon fill=\"#2688D4\" points=\"314,174,305.2695,169.4417,309.0099,173.6854,304.7662,177.4259,314,174\" style=\"stroke:#2688D4;stroke-width:1.0;\"/></g><!--MD5=[45232eb6245ed1c7c9eb4cf5a11e3949]\n",
       "link CUSTOMER_ADDRESS to CUSTOMER--><g id=\"link_CUSTOMER_ADDRESS_CUSTOMER\"><path codeLine=\"34\" d=\"M240,105 C293.53,105 296.59,54.32 346.97,51.15 \" fill=\"none\" id=\"CUSTOMER_ADDRESS-to-CUSTOMER\" style=\"stroke:#2688D4;stroke-width:1.0;\"/><polygon fill=\"#2688D4\" points=\"352,51,342.8788,47.2847,347.0025,51.1571,343.1301,55.2807,352,51\" style=\"stroke:#2688D4;stroke-width:1.0;\"/></g><!--MD5=[b8f555a9dd444231500de814d3890db6]\n",
       "@startuml\r\n",
       "\r\n",
       " left to right direction\r\n",
       " skinparam roundcorner 5\r\n",
       " skinparam shadowing true\r\n",
       " skinparam handwritten false\r\n",
       " skinparam class {\r\n",
       "     BackgroundColor #EEEEEE\r\n",
       "     ArrowColor #2688d4\r\n",
       "     BorderColor #2688d4\r\n",
       " }\r\n",
       "\r\n",
       " !define primary_key(x) <b><color:#b8861b><&key></color> x</b>\r\n",
       " !define foreign_key(x) <color:#aaaaaa><&key></color> x\r\n",
       " !define column(x) <color:#efefef><&media-record></color> x\r\n",
       " !define table(x) entity x << (T, white) >>\r\n",
       "\r\n",
       "table(ADDRESS) {\r\n",
       "\t* primary_key(ID): BIGINT(64)\r\n",
       "- -\r\n",
       "\t column(ADDRESSDETAIL): CHARACTER VARYING(255)\r\n",
       "}\r\n",
       "table(CUSTOMER) {\r\n",
       "\t* primary_key(ID): BIGINT(64)\r\n",
       "- -\r\n",
       "\t column(NAME): CHARACTER VARYING(255)\r\n",
       "}\r\n",
       "table(CUSTOMER_ADDRESS) {\r\n",
       "\r\n",
       "- -\r\n",
       "\t* foreign_key(OCCUPANTS_ID): BIGINT(64)\r\n",
       "\t* foreign_key(PLACES_ID): BIGINT(64)\r\n",
       "}\r\n",
       "CUSTOMER_ADDRESS::PLACES_ID - -> ADDRESS::ID\r\n",
       "CUSTOMER_ADDRESS::OCCUPANTS_ID - -> CUSTOMER::ID\r\n",
       "@enduml\r\n",
       "\n",
       "@startuml\r\n",
       "\r\n",
       " left to right direction\r\n",
       " skinparam roundcorner 5\r\n",
       " skinparam shadowing true\r\n",
       " skinparam handwritten false\r\n",
       " skinparam class {\r\n",
       "     BackgroundColor #EEEEEE\r\n",
       "     ArrowColor #2688d4\r\n",
       "     BorderColor #2688d4\r\n",
       " }\r\n",
       "\r\n",
       "\r\n",
       "entity ADDRESS << (T, white) >> {\r\n",
       "\t* <b><color:#b8861b><&key></color> ID</b>: BIGINT(64)\r\n",
       "- -\r\n",
       "\t <color:#efefef><&media-record></color> ADDRESSDETAIL: CHARACTER VARYING(255)\r\n",
       "}\r\n",
       "entity CUSTOMER << (T, white) >> {\r\n",
       "\t* <b><color:#b8861b><&key></color> ID</b>: BIGINT(64)\r\n",
       "- -\r\n",
       "\t <color:#efefef><&media-record></color> NAME: CHARACTER VARYING(255)\r\n",
       "}\r\n",
       "entity CUSTOMER_ADDRESS << (T, white) >> {\r\n",
       "\r\n",
       "- -\r\n",
       "\t* <color:#aaaaaa><&key></color> OCCUPANTS_ID: BIGINT(64)\r\n",
       "\t* <color:#aaaaaa><&key></color> PLACES_ID: BIGINT(64)\r\n",
       "}\r\n",
       "CUSTOMER_ADDRESS::PLACES_ID - -> ADDRESS::ID\r\n",
       "CUSTOMER_ADDRESS::OCCUPANTS_ID - -> CUSTOMER::ID\r\n",
       "@enduml\r\n",
       "\n",
       "PlantUML version 1.2022.12(Sun Oct 23 18:12:26 UTC 2022)\n",
       "(GPL source distribution)\n",
       "Java Runtime: OpenJDK Runtime Environment\n",
       "JVM: OpenJDK 64-Bit Server VM\n",
       "Default Encoding: UTF-8\n",
       "Language: en\n",
       "Country: US\n",
       "--></g></svg>"
      ],
      "text/plain": [
       "<?xml version=\"1.0\" encoding=\"UTF-8\" standalone=\"no\"?><svg xmlns=\"http://www.w3.org/2000/svg\" xmlns:xlink=\"http://www.w3.org/1999/xlink\" contentStyleType=\"text/css\" height=\"222px\" preserveAspectRatio=\"none\" style=\"width:667px;height:222px;background:#FFFFFF;\" version=\"1.1\" viewBox=\"0 0 667 222\" width=\"667px\" zoomAndPan=\"magnify\"><defs><filter height=\"300%\" id=\"f1m0u3g4vaw183\" width=\"300%\" x=\"-1\" y=\"-1\"><feGaussianBlur result=\"blurOut\" stdDeviation=\"2.0\"/><feColorMatrix in=\"blurOut\" result=\"blurOut2\" type=\"matrix\" values=\"0 0 0 0 0 0 0 0 0 0 0 0 0 0 0 0 0 0 .4 0\"/><feOffset dx=\"4.0\" dy=\"4.0\" in=\"blurOut2\" result=\"blurOut3\"/><feBlend in=\"SourceGraphic\" in2=\"blurOut3\" mode=\"normal\"/></filter></defs><g><!--MD5=[e22ee3f71dd0529df5e7305c74c346df]\n",
       "class ADDRESS--><g id=\"elem_ADDRESS\"><rect codeLine=\"17\" fill=\"#EEEEEE\" filter=\"url(#f1m0u3g4vaw183)\" height=\"80.5938\" id=\"ADDRESS\" rx=\"2.5\" ry=\"2.5\" style=\"stroke:#2688D4;stroke-width:0.5;\" width=\"340.3333\" x=\"315\" y=\"130\"/><ellipse cx=\"446.9167\" cy=\"146\" fill=\"#FFFFFF\" rx=\"11\" ry=\"11\" style=\"stroke:#181818;stroke-width:1.0;\"/><path d=\"M447.7604,152.75 L445.3073,152.75 L445.3073,142.5 L442.1667,142.5 L442.1667,140.3594 L450.901,140.3594 L450.901,142.5 L447.7604,142.5 L447.7604,152.75 Z \" fill=\"#000000\"/><text fill=\"#000000\" font-family=\"sans-serif\" font-size=\"14\" lengthAdjust=\"spacing\" textLength=\"68\" x=\"467.4167\" y=\"150.8467\">ADDRESS</text><line style=\"stroke:#2688D4;stroke-width:0.5;\" x1=\"316\" x2=\"654.3333\" y1=\"162\" y2=\"162\"/><ellipse cx=\"326\" cy=\"175.6484\" fill=\"#000000\" rx=\"3\" ry=\"3\" style=\"stroke:#000000;stroke-width:1.0;\"/><path d=\"M342.4167,169.4635 C340.8067,169.4635 339.5,170.7702 339.5,172.3802 C339.5,172.5669 339.5,172.7535 339.535,172.9285 L336,176.4635 L336,178.7969 L339.5,178.7969 L339.5,176.4635 L341.8333,176.4635 L341.8333,175.2969 L341.8683,175.2619 C342.0433,175.2969 342.23,175.2969 342.4167,175.2969 C344.0267,175.2969 345.3333,173.9902 345.3333,172.3802 C345.3333,170.7702 344.0267,169.4635 342.4167,169.4635 M343,170.6302 C343.6417,170.6302 344.1667,171.1552 344.1667,171.7969 C344.1667,172.4385 343.6417,172.9635 343,172.9635 C342.3583,172.9635 341.8333,172.4385 341.8333,171.7969 C341.8333,171.1552 342.3583,170.6302 343,170.6302 \" fill=\"#B8861B\" style=\"stroke:;stroke-width:0.0;stroke-dasharray:;\"/><text fill=\"#000000\" font-family=\"sans-serif\" font-size=\"14\" font-weight=\"bold\" lengthAdjust=\"spacing\" textLength=\"15\" x=\"351.3333\" y=\"178.9951\">ID</text><text fill=\"#000000\" font-family=\"sans-serif\" font-size=\"14\" lengthAdjust=\"spacing\" textLength=\"83\" x=\"366.3333\" y=\"178.9951\">: BIGINT(64)</text><line style=\"stroke:#2688D4;stroke-width:1.0;\" x1=\"316\" x2=\"654.3333\" y1=\"186.2969\" y2=\"186.2969\"/><path d=\"M325.5,193.7604 C323.5633,193.7604 322,195.3238 322,197.2604 C322,199.1971 323.5633,200.7604 325.5,200.7604 C327.4367,200.7604 329,199.1971 329,197.2604 C329,195.3238 327.4367,193.7604 325.5,193.7604 \" fill=\"#EFEFEF\" style=\"stroke:;stroke-width:0.0;stroke-dasharray:;\"/><text fill=\"#000000\" font-family=\"sans-serif\" font-size=\"14\" lengthAdjust=\"spacing\" textLength=\"313\" x=\"336.3333\" y=\"203.292\">ADDRESSDETAIL: CHARACTER VARYING(255)</text></g><!--MD5=[9844ecf9ec74e0cf1624fa0134c9f59b]\n",
       "class CUSTOMER--><g id=\"elem_CUSTOMER\"><rect codeLine=\"22\" fill=\"#EEEEEE\" filter=\"url(#f1m0u3g4vaw183)\" height=\"80.5938\" id=\"CUSTOMER\" rx=\"2.5\" ry=\"2.5\" style=\"stroke:#2688D4;stroke-width:0.5;\" width=\"264.3333\" x=\"353\" y=\"7\"/><ellipse cx=\"440.9167\" cy=\"23\" fill=\"#FFFFFF\" rx=\"11\" ry=\"11\" style=\"stroke:#181818;stroke-width:1.0;\"/><path d=\"M441.7604,29.75 L439.3073,29.75 L439.3073,19.5 L436.1667,19.5 L436.1667,17.3594 L444.901,17.3594 L444.901,19.5 L441.7604,19.5 L441.7604,29.75 Z \" fill=\"#000000\"/><text fill=\"#000000\" font-family=\"sans-serif\" font-size=\"14\" lengthAdjust=\"spacing\" textLength=\"80\" x=\"461.4167\" y=\"27.8467\">CUSTOMER</text><line style=\"stroke:#2688D4;stroke-width:0.5;\" x1=\"354\" x2=\"616.3333\" y1=\"39\" y2=\"39\"/><ellipse cx=\"364\" cy=\"52.6484\" fill=\"#000000\" rx=\"3\" ry=\"3\" style=\"stroke:#000000;stroke-width:1.0;\"/><path d=\"M380.4167,46.4635 C378.8067,46.4635 377.5,47.7702 377.5,49.3802 C377.5,49.5669 377.5,49.7535 377.535,49.9285 L374,53.4635 L374,55.7969 L377.5,55.7969 L377.5,53.4635 L379.8333,53.4635 L379.8333,52.2969 L379.8683,52.2619 C380.0433,52.2969 380.23,52.2969 380.4167,52.2969 C382.0267,52.2969 383.3333,50.9902 383.3333,49.3802 C383.3333,47.7702 382.0267,46.4635 380.4167,46.4635 M381,47.6302 C381.6417,47.6302 382.1667,48.1552 382.1667,48.7969 C382.1667,49.4385 381.6417,49.9635 381,49.9635 C380.3583,49.9635 379.8333,49.4385 379.8333,48.7969 C379.8333,48.1552 380.3583,47.6302 381,47.6302 \" fill=\"#B8861B\" style=\"stroke:;stroke-width:0.0;stroke-dasharray:;\"/><text fill=\"#000000\" font-family=\"sans-serif\" font-size=\"14\" font-weight=\"bold\" lengthAdjust=\"spacing\" textLength=\"15\" x=\"389.3333\" y=\"55.9951\">ID</text><text fill=\"#000000\" font-family=\"sans-serif\" font-size=\"14\" lengthAdjust=\"spacing\" textLength=\"83\" x=\"404.3333\" y=\"55.9951\">: BIGINT(64)</text><line style=\"stroke:#2688D4;stroke-width:1.0;\" x1=\"354\" x2=\"616.3333\" y1=\"63.2969\" y2=\"63.2969\"/><path d=\"M363.5,70.7604 C361.5633,70.7604 360,72.3237 360,74.2604 C360,76.1971 361.5633,77.7604 363.5,77.7604 C365.4367,77.7604 367,76.1971 367,74.2604 C367,72.3237 365.4367,70.7604 363.5,70.7604 \" fill=\"#EFEFEF\" style=\"stroke:;stroke-width:0.0;stroke-dasharray:;\"/><text fill=\"#000000\" font-family=\"sans-serif\" font-size=\"14\" lengthAdjust=\"spacing\" textLength=\"237\" x=\"374.3333\" y=\"80.292\">NAME: CHARACTER VARYING(255)</text></g><!--MD5=[7640935fa10e90f9c95c0242c9847112]\n",
       "class CUSTOMER_ADDRESS--><g id=\"elem_CUSTOMER_ADDRESS\"><rect codeLine=\"27\" fill=\"#EEEEEE\" filter=\"url(#f1m0u3g4vaw183)\" height=\"96.8906\" id=\"CUSTOMER_ADDRESS\" rx=\"2.5\" ry=\"2.5\" style=\"stroke:#2688D4;stroke-width:0.5;\" width=\"232.3333\" x=\"7\" y=\"37\"/><ellipse cx=\"42.4\" cy=\"53\" fill=\"#FFFFFF\" rx=\"11\" ry=\"11\" style=\"stroke:#181818;stroke-width:1.0;\"/><path d=\"M43.2438,59.75 L40.7906,59.75 L40.7906,49.5 L37.65,49.5 L37.65,47.3594 L46.3844,47.3594 L46.3844,49.5 L43.2438,49.5 L43.2438,59.75 Z \" fill=\"#000000\"/><text fill=\"#000000\" font-family=\"sans-serif\" font-size=\"14\" lengthAdjust=\"spacing\" textLength=\"155\" x=\"60.9333\" y=\"57.8467\">CUSTOMER_ADDRESS</text><line style=\"stroke:#2688D4;stroke-width:0.5;\" x1=\"8\" x2=\"238.3333\" y1=\"69\" y2=\"69\"/><text fill=\"#000000\" font-family=\"sans-serif\" font-size=\"14\" lengthAdjust=\"spacing\" textLength=\"9\" x=\"13\" y=\"85.9951\"> </text><line style=\"stroke:#2688D4;stroke-width:1.0;\" x1=\"8\" x2=\"238.3333\" y1=\"93.2969\" y2=\"93.2969\"/><ellipse cx=\"18\" cy=\"106.9453\" fill=\"#000000\" rx=\"3\" ry=\"3\" style=\"stroke:#000000;stroke-width:1.0;\"/><path d=\"M34.4167,100.7604 C32.8067,100.7604 31.5,102.0671 31.5,103.6771 C31.5,103.8638 31.5,104.0504 31.535,104.2254 L28,107.7604 L28,110.0937 L31.5,110.0937 L31.5,107.7604 L33.8333,107.7604 L33.8333,106.5937 L33.8683,106.5587 C34.0433,106.5937 34.23,106.5937 34.4167,106.5937 C36.0267,106.5937 37.3333,105.2871 37.3333,103.6771 C37.3333,102.0671 36.0267,100.7604 34.4167,100.7604 M35,101.9271 C35.6417,101.9271 36.1667,102.4521 36.1667,103.0937 C36.1667,103.7354 35.6417,104.2604 35,104.2604 C34.3583,104.2604 33.8333,103.7354 33.8333,103.0937 C33.8333,102.4521 34.3583,101.9271 35,101.9271 \" fill=\"#AAAAAA\" style=\"stroke:;stroke-width:0.0;stroke-dasharray:;\"/><text fill=\"#000000\" font-family=\"sans-serif\" font-size=\"14\" lengthAdjust=\"spacing\" textLength=\"191\" x=\"42.3333\" y=\"110.292\">OCCUPANTS_ID: BIGINT(64)</text><ellipse cx=\"18\" cy=\"123.2422\" fill=\"#000000\" rx=\"3\" ry=\"3\" style=\"stroke:#000000;stroke-width:1.0;\"/><path d=\"M34.4167,117.0573 C32.8067,117.0573 31.5,118.364 31.5,119.974 C31.5,120.1606 31.5,120.3473 31.535,120.5223 L28,124.0573 L28,126.3906 L31.5,126.3906 L31.5,124.0573 L33.8333,124.0573 L33.8333,122.8906 L33.8683,122.8556 C34.0433,122.8906 34.23,122.8906 34.4167,122.8906 C36.0267,122.8906 37.3333,121.584 37.3333,119.974 C37.3333,118.364 36.0267,117.0573 34.4167,117.0573 M35,118.224 C35.6417,118.224 36.1667,118.749 36.1667,119.3906 C36.1667,120.0323 35.6417,120.5573 35,120.5573 C34.3583,120.5573 33.8333,120.0323 33.8333,119.3906 C33.8333,118.749 34.3583,118.224 35,118.224 \" fill=\"#AAAAAA\" style=\"stroke:;stroke-width:0.0;stroke-dasharray:;\"/><text fill=\"#000000\" font-family=\"sans-serif\" font-size=\"14\" lengthAdjust=\"spacing\" textLength=\"157\" x=\"42.3333\" y=\"126.5889\">PLACES_ID: BIGINT(64)</text></g><!--MD5=[8bdacba68e32990f2029a39f0fe45d13]\n",
       "link CUSTOMER_ADDRESS to ADDRESS--><g id=\"link_CUSTOMER_ADDRESS_ADDRESS\"><path codeLine=\"33\" d=\"M240,121 C278.56,121 274.09,169.15 308.61,173.66 \" fill=\"none\" id=\"CUSTOMER_ADDRESS-to-ADDRESS\" style=\"stroke:#2688D4;stroke-width:1.0;\"/><polygon fill=\"#2688D4\" points=\"314,174,305.2695,169.4417,309.0099,173.6854,304.7662,177.4259,314,174\" style=\"stroke:#2688D4;stroke-width:1.0;\"/></g><!--MD5=[45232eb6245ed1c7c9eb4cf5a11e3949]\n",
       "link CUSTOMER_ADDRESS to CUSTOMER--><g id=\"link_CUSTOMER_ADDRESS_CUSTOMER\"><path codeLine=\"34\" d=\"M240,105 C293.53,105 296.59,54.32 346.97,51.15 \" fill=\"none\" id=\"CUSTOMER_ADDRESS-to-CUSTOMER\" style=\"stroke:#2688D4;stroke-width:1.0;\"/><polygon fill=\"#2688D4\" points=\"352,51,342.8788,47.2847,347.0025,51.1571,343.1301,55.2807,352,51\" style=\"stroke:#2688D4;stroke-width:1.0;\"/></g><!--MD5=[b8f555a9dd444231500de814d3890db6]\n",
       "@startuml\r\n",
       "\r\n",
       " left to right direction\r\n",
       " skinparam roundcorner 5\r\n",
       " skinparam shadowing true\r\n",
       " skinparam handwritten false\r\n",
       " skinparam class {\r\n",
       "     BackgroundColor #EEEEEE\r\n",
       "     ArrowColor #2688d4\r\n",
       "     BorderColor #2688d4\r\n",
       " }\r\n",
       "\r\n",
       " !define primary_key(x) <b><color:#b8861b><&key></color> x</b>\r\n",
       " !define foreign_key(x) <color:#aaaaaa><&key></color> x\r\n",
       " !define column(x) <color:#efefef><&media-record></color> x\r\n",
       " !define table(x) entity x << (T, white) >>\r\n",
       "\r\n",
       "table(ADDRESS) {\r\n",
       "\t* primary_key(ID): BIGINT(64)\r\n",
       "- -\r\n",
       "\t column(ADDRESSDETAIL): CHARACTER VARYING(255)\r\n",
       "}\r\n",
       "table(CUSTOMER) {\r\n",
       "\t* primary_key(ID): BIGINT(64)\r\n",
       "- -\r\n",
       "\t column(NAME): CHARACTER VARYING(255)\r\n",
       "}\r\n",
       "table(CUSTOMER_ADDRESS) {\r\n",
       "\r\n",
       "- -\r\n",
       "\t* foreign_key(OCCUPANTS_ID): BIGINT(64)\r\n",
       "\t* foreign_key(PLACES_ID): BIGINT(64)\r\n",
       "}\r\n",
       "CUSTOMER_ADDRESS::PLACES_ID - -> ADDRESS::ID\r\n",
       "CUSTOMER_ADDRESS::OCCUPANTS_ID - -> CUSTOMER::ID\r\n",
       "@enduml\r\n",
       "\n",
       "@startuml\r\n",
       "\r\n",
       " left to right direction\r\n",
       " skinparam roundcorner 5\r\n",
       " skinparam shadowing true\r\n",
       " skinparam handwritten false\r\n",
       " skinparam class {\r\n",
       "     BackgroundColor #EEEEEE\r\n",
       "     ArrowColor #2688d4\r\n",
       "     BorderColor #2688d4\r\n",
       " }\r\n",
       "\r\n",
       "\r\n",
       "entity ADDRESS << (T, white) >> {\r\n",
       "\t* <b><color:#b8861b><&key></color> ID</b>: BIGINT(64)\r\n",
       "- -\r\n",
       "\t <color:#efefef><&media-record></color> ADDRESSDETAIL: CHARACTER VARYING(255)\r\n",
       "}\r\n",
       "entity CUSTOMER << (T, white) >> {\r\n",
       "\t* <b><color:#b8861b><&key></color> ID</b>: BIGINT(64)\r\n",
       "- -\r\n",
       "\t <color:#efefef><&media-record></color> NAME: CHARACTER VARYING(255)\r\n",
       "}\r\n",
       "entity CUSTOMER_ADDRESS << (T, white) >> {\r\n",
       "\r\n",
       "- -\r\n",
       "\t* <color:#aaaaaa><&key></color> OCCUPANTS_ID: BIGINT(64)\r\n",
       "\t* <color:#aaaaaa><&key></color> PLACES_ID: BIGINT(64)\r\n",
       "}\r\n",
       "CUSTOMER_ADDRESS::PLACES_ID - -> ADDRESS::ID\r\n",
       "CUSTOMER_ADDRESS::OCCUPANTS_ID - -> CUSTOMER::ID\r\n",
       "@enduml\r\n",
       "\n",
       "PlantUML version 1.2022.12(Sun Oct 23 18:12:26 UTC 2022)\n",
       "(GPL source distribution)\n",
       "Java Runtime: OpenJDK Runtime Environment\n",
       "JVM: OpenJDK 64-Bit Server VM\n",
       "Default Encoding: UTF-8\n",
       "Language: en\n",
       "Country: US\n",
       "--></g></svg>"
      ]
     },
     "metadata": {},
     "output_type": "display_data"
    }
   ],
   "source": [
    "%%rdbmsSchema jdbc:h2:tcp://host.docker.internal/hellojpa-db dba secret EX_MANY_TO_MANY\n",
    "%"
   ]
  },
  {
   "cell_type": "code",
   "execution_count": 21,
   "id": "b692ca7c-f1f0-4778-93af-642a658a7c2b",
   "metadata": {
    "tags": [
     "remove-input"
    ]
   },
   "outputs": [
    {
     "data": {
      "text/markdown": [
       "```Java\n",
       "@Entity\n",
       "@Data\n",
       "@RequiredArgsConstructor(staticName = \"of\")\n",
       "@NoArgsConstructor(access = AccessLevel.PROTECTED)\n",
       "@Table(name = \"CUSTOMER\", schema = \"EX_MANY_TO_MANY\")\n",
       "public class Customer {\n",
       "\n",
       "    @Id\n",
       "    @GeneratedValue\n",
       "    private long id;\n",
       "\n",
       "    @NonNull\n",
       "    private String name;\n",
       "\n",
       "    @ManyToMany\n",
       "    @ToString.Exclude\n",
       "    @JoinTable(schema = \"EX_MANY_TO_MANY\")\n",
       "    private List<Address> places = new ArrayList<>();\n",
       "}\n",
       "```"
      ],
      "text/plain": [
       "```Java\n",
       "@Entity\n",
       "@Data\n",
       "@RequiredArgsConstructor(staticName = \"of\")\n",
       "@NoArgsConstructor(access = AccessLevel.PROTECTED)\n",
       "@Table(name = \"CUSTOMER\", schema = \"EX_MANY_TO_MANY\")\n",
       "public class Customer {\n",
       "\n",
       "    @Id\n",
       "    @GeneratedValue\n",
       "    private long id;\n",
       "\n",
       "    @NonNull\n",
       "    private String name;\n",
       "\n",
       "    @ManyToMany\n",
       "    @ToString.Exclude\n",
       "    @JoinTable(schema = \"EX_MANY_TO_MANY\")\n",
       "    private List<Address> places = new ArrayList<>();\n",
       "}\n",
       "```"
      ]
     },
     "metadata": {},
     "output_type": "display_data"
    }
   ],
   "source": [
    "%%javasrcClassByName Customer\n",
    "samples/hellojpa/src/main/java/fr/univtln/bruno/demos/jpa/hello/samples/ex_associations/ex_manytomany/Customer.java"
   ]
  },
  {
   "cell_type": "code",
   "execution_count": 22,
   "id": "661c6427-731b-42eb-8531-c17a9a95f96c",
   "metadata": {
    "tags": [
     "remove-input"
    ]
   },
   "outputs": [
    {
     "data": {
      "text/markdown": [
       "```Java\n",
       "@Entity\n",
       "@Data\n",
       "@RequiredArgsConstructor(staticName = \"of\")\n",
       "@NoArgsConstructor(access = AccessLevel.PROTECTED)\n",
       "@Table(name = \"ADDRESS\", schema = \"EX_MANY_TO_MANY\")\n",
       "public class Address {\n",
       "\n",
       "    @Id\n",
       "    @GeneratedValue\n",
       "    private long id;\n",
       "\n",
       "    @NonNull\n",
       "    private String addressDetail;\n",
       "\n",
       "    @ManyToMany(mappedBy = \"places\")\n",
       "    @ToString.Exclude\n",
       "    private List<Customer> occupants;\n",
       "}\n",
       "```"
      ],
      "text/plain": [
       "```Java\n",
       "@Entity\n",
       "@Data\n",
       "@RequiredArgsConstructor(staticName = \"of\")\n",
       "@NoArgsConstructor(access = AccessLevel.PROTECTED)\n",
       "@Table(name = \"ADDRESS\", schema = \"EX_MANY_TO_MANY\")\n",
       "public class Address {\n",
       "\n",
       "    @Id\n",
       "    @GeneratedValue\n",
       "    private long id;\n",
       "\n",
       "    @NonNull\n",
       "    private String addressDetail;\n",
       "\n",
       "    @ManyToMany(mappedBy = \"places\")\n",
       "    @ToString.Exclude\n",
       "    private List<Customer> occupants;\n",
       "}\n",
       "```"
      ]
     },
     "metadata": {},
     "output_type": "display_data"
    }
   ],
   "source": [
    "%%javasrcClassByName Address\n",
    "samples/hellojpa/src/main/java/fr/univtln/bruno/demos/jpa/hello/samples/ex_associations/ex_manytomany/Address.java"
   ]
  },
  {
   "cell_type": "code",
   "execution_count": null,
   "id": "535b2cb6-d58b-4d50-81f6-09c8cd13e835",
   "metadata": {},
   "outputs": [],
   "source": []
  },
  {
   "cell_type": "code",
   "execution_count": null,
   "id": "e1f7e2a1-f642-40dc-bc64-0918ec552407",
   "metadata": {},
   "outputs": [],
   "source": []
  },
  {
   "cell_type": "code",
   "execution_count": null,
   "id": "f5d5e1cd-e6d2-4cae-9329-92a187de88bc",
   "metadata": {},
   "outputs": [],
   "source": []
  }
 ],
 "metadata": {
  "kernelspec": {
   "display_name": "Java [conda env:root] *",
   "language": "java",
   "name": "conda-root-java"
  },
  "language_info": {
   "codemirror_mode": "java",
   "file_extension": ".jshell",
   "mimetype": "text/x-java-source",
   "name": "Java",
   "pygments_lexer": "java",
   "version": "19.0.2+7"
  }
 },
 "nbformat": 4,
 "nbformat_minor": 5
}
