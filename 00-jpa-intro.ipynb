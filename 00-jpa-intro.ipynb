{
 "cells": [
  {
   "cell_type": "markdown",
   "id": "e24e5df7-b0aa-4932-abfe-6eafbf4e9728",
   "metadata": {
    "tags": [],
    "user_expressions": []
   },
   "source": [
    "# Introduction \n",
    "\n",
    "Le mapping Relation/Object a pour but de mettre oeuvre déclarativement le lien entre un modèle Orienté Objet (comme un programme Java) et un modèle relationnel (comme des tables dans une base de données relationnelles). Cela peut comprendre la création du schéma relationnel à partir du programme Java et la construction automatique des fonctions de base pour la gestion de la persistence. \n",
    "\n",
    "Pour Java, Jakara Persistance API (JPA) est une [spécification (actuellement en version 3.1)](https://jakarta.ee/specifications/persistence/3.1/jakarta-persistence-spec-3.1.html) concernant la liaison entre le modèle orienté objet de Java et le modèle relationnel (Object Relational Mapping - ORM). JPA est construit au dessus de [JDBC](https://docs.oracle.com/javase/8/docs/technotes/guides/jdbc/)."
   ]
  },
  {
   "cell_type": "markdown",
   "id": "2676e171-7063-411c-8ba9-bd056108c718",
   "metadata": {
    "user_expressions": []
   },
   "source": [
    "JPA possède trois parties principales : \n",
    " * La description des \"entités\" persistentes.\n",
    " * L'interaction de base (CRUD) avec la persistence.\n",
    " * L'interrogation native ou via un langage dédié.\n",
    " \n",
    " \n",
    "JPA génère donc automatiquement les requêtes SQL et leur mise en oeuvre avec JDBC. "
   ]
  },
  {
   "cell_type": "markdown",
   "id": "d2b261d5-f494-46f0-a6b6-cbf36b6fed25",
   "metadata": {
    "user_expressions": []
   },
   "source": [
    "Plusieurs implantations de JPA existent dont l'implantation de référence [EclipseLink](https://www.eclipse.org/eclipselink)) et une autre très utilisée [Hibernate](https://hibernate.org/). Cette introduction utilise Hibernate mais en respectant le standard."
   ]
  },
  {
   "cell_type": "code",
   "execution_count": 1,
   "id": "cad1e56c-a31f-4b50-9a10-10c69156b895",
   "metadata": {},
   "outputs": [],
   "source": [
    "%%loadFromPOM \n",
    "  <dependency>\n",
    "    <groupId>jakarta.persistence</groupId>\n",
    "    <artifactId>jakarta.persistence-api</artifactId>\n",
    "    <version>3.1.0</version>\n",
    "  </dependency>\n",
    "  <dependency>\n",
    "    <groupId>org.hibernate.orm</groupId>\n",
    "    <artifactId>hibernate-core</artifactId>\n",
    "    <version>6.1.7.Final</version>\n",
    "  </dependency>\n",
    "  \n",
    "  <!--dependency>\n",
    "    <groupId>org.eclipse.persistence</groupId>\n",
    "    <artifactId>eclipselink</artifactId>\n",
    "    <version>4.0.1</version>\n",
    "  </dependency-->"
   ]
  },
  {
   "cell_type": "markdown",
   "id": "727700e7-6e12-46fb-8f71-91042dab4e14",
   "metadata": {
    "user_expressions": []
   },
   "source": [
    "Pour utiliser JPA, il faut une base de données relationnelle. Nous utiliserons ici [H2](https://www.h2database.com)."
   ]
  },
  {
   "cell_type": "code",
   "execution_count": 2,
   "id": "82d0452d-8634-4c7a-908b-d6e9cea6fc80",
   "metadata": {
    "tags": [
     "remove-cell"
    ]
   },
   "outputs": [
    {
     "name": "stdout",
     "output_type": "stream",
     "text": [
      "H2-JPADemo\n",
      "h2-data\n",
      "develop: Pulling from brunoe/docker-database-h2\n",
      "Digest: sha256:041fbb12efc0f6013c521e66e4f21ffefef3e60dc336c1d5a45603ae1b2aa414\n",
      "Status: Image is up to date for brunoe/docker-database-h2:develop\n",
      "docker.io/brunoe/docker-database-h2:develop\n"
     ]
    }
   ],
   "source": [
    "%%shell\n",
    "docker stop H2-JPADemo\n",
    "docker volume rm  h2-data\n",
    "docker pull brunoe/docker-database-h2:develop"
   ]
  },
  {
   "cell_type": "code",
   "execution_count": 3,
   "id": "52b6006e-3376-4262-b259-0f9a4e268946",
   "metadata": {
    "tags": [
     "remove-output"
    ]
   },
   "outputs": [
    {
     "name": "stderr",
     "output_type": "stream",
     "text": [
      "Error response from daemon: No such container: H2-JPADemo\n",
      "Error: failed to start containers: H2-JPADemo\n"
     ]
    },
    {
     "name": "stdout",
     "output_type": "stream",
     "text": [
      "ece9ff8fd5308cb6ee5e1a96afdb2c3956a07b0affbd515d1587115c1b484046\n"
     ]
    }
   ],
   "source": [
    "%%shell\n",
    "docker start H2-JPADemo || \\\n",
    "docker run --quiet --detach --rm \\\n",
    "    --name=H2-JPADemo \\\n",
    "    -e PUID=$UID -e PGID=$GID \\\n",
    "    -e H2_ARGS=\"-tcp -tcpAllowOthers -ifNotExists\" \\\n",
    "    -p 9092:9092 \\\n",
    "    -v h2-data:/opt/h2-data \\\n",
    "    brunoe/docker-database-h2:develop"
   ]
  },
  {
   "cell_type": "code",
   "execution_count": 4,
   "id": "e437e4e1-d105-4939-b71d-a0596ddfce22",
   "metadata": {
    "tags": [
     "remove-cell"
    ]
   },
   "outputs": [],
   "source": [
    "%%shell\n",
    "(cd samples/hellojpa && mvn --quiet clean package )"
   ]
  },
  {
   "cell_type": "code",
   "execution_count": 5,
   "id": "fc273186-293c-4d81-a88d-f83a5cf3e2b1",
   "metadata": {
    "tags": [
     "remove-cell"
    ]
   },
   "outputs": [
    {
     "name": "stdout",
     "output_type": "stream",
     "text": [
      "20:32:01.775 INFO  f.u.b.d.jpa.hello.DatabaseManager - Override JPA config jakarta.persistence.jdbc.url with system property jakarta.persistence.jdbc.url\n",
      "20:32:01.777 INFO  f.u.b.d.jpa.hello.DatabaseManager - Override JPA config jakarta.persistence.jdbc.user with system property jakarta.persistence.jdbc.user\n",
      "20:32:01.777 INFO  f.u.b.d.jpa.hello.DatabaseManager - Override JPA config jakarta.persistence.jdbc.password with system property jakarta.persistence.jdbc.password\n",
      "20:32:03.408 INFO  com.mchange.v2.log.MLog - MLog clients using slf4j logging.\n",
      "20:32:03.654 INFO  SQL dialect - HHH000400: Using dialect: org.hibernate.dialect.H2Dialect\n",
      "20:32:04.180 WARN  o.h.t.s.i.ExceptionHandlerLoggedImpl - GenerationTarget encountered exception accepting command : Error executing DDL \"drop table if exists EX_SIMPLE.CUSTOMER cascade \" via JDBC Statement\n",
      "org.hibernate.tool.schema.spi.CommandAcceptanceException: Error executing DDL \"drop table if exists EX_SIMPLE.CUSTOMER cascade \" via JDBC Statement\n",
      "\tat org.hibernate.tool.schema.internal.exec.GenerationTargetToDatabase.accept(GenerationTargetToDatabase.java:67)\n",
      "\tat org.hibernate.tool.schema.internal.SchemaDropperImpl.applySqlString(SchemaDropperImpl.java:419)\n",
      "\tat org.hibernate.tool.schema.internal.SchemaDropperImpl.applySqlStrings(SchemaDropperImpl.java:403)\n",
      "\tat org.hibernate.tool.schema.internal.SchemaDropperImpl.dropFromMetadata(SchemaDropperImpl.java:272)\n",
      "\tat org.hibernate.tool.schema.internal.SchemaDropperImpl.performDrop(SchemaDropperImpl.java:186)\n",
      "\tat org.hibernate.tool.schema.internal.SchemaDropperImpl.doDrop(SchemaDropperImpl.java:149)\n",
      "\tat org.hibernate.tool.schema.internal.SchemaDropperImpl.doDrop(SchemaDropperImpl.java:117)\n",
      "\tat org.hibernate.tool.schema.spi.SchemaManagementToolCoordinator.performDatabaseAction(SchemaManagementToolCoordinator.java:242)\n",
      "\tat org.hibernate.tool.schema.spi.SchemaManagementToolCoordinator.lambda$process$5(SchemaManagementToolCoordinator.java:143)\n",
      "\tat java.base/java.util.HashMap.forEach(HashMap.java:1429)\n",
      "\tat org.hibernate.tool.schema.spi.SchemaManagementToolCoordinator.process(SchemaManagementToolCoordinator.java:140)\n",
      "\tat org.hibernate.internal.SessionFactoryImpl.<init>(SessionFactoryImpl.java:336)\n",
      "\tat org.hibernate.boot.internal.SessionFactoryBuilderImpl.build(SessionFactoryBuilderImpl.java:415)\n",
      "\tat org.hibernate.jpa.boot.internal.EntityManagerFactoryBuilderImpl.build(EntityManagerFactoryBuilderImpl.java:1423)\n",
      "\tat org.hibernate.jpa.HibernatePersistenceProvider.createEntityManagerFactory(HibernatePersistenceProvider.java:55)\n",
      "\tat jakarta.persistence.Persistence.createEntityManagerFactory(Persistence.java:80)\n",
      "\tat fr.univtln.bruno.demos.jpa.hello.DatabaseManager.<clinit>(DatabaseManager.java:37)\n",
      "\tat REPL.$JShell$70.do_it$($JShell$70.java:49)\n",
      "\tat java.base/jdk.internal.reflect.DirectMethodHandleAccessor.invoke(DirectMethodHandleAccessor.java:104)\n",
      "\tat java.base/java.lang.reflect.Method.invoke(Method.java:578)\n",
      "\tat io.github.spencerpark.ijava.execution.IJavaExecutionControl.lambda$execute$1(IJavaExecutionControl.java:95)\n",
      "\tat java.base/java.util.concurrent.FutureTask.run(FutureTask.java:317)\n",
      "\tat java.base/java.util.concurrent.ThreadPoolExecutor.runWorker(ThreadPoolExecutor.java:1144)\n",
      "\tat java.base/java.util.concurrent.ThreadPoolExecutor$Worker.run(ThreadPoolExecutor.java:642)\n",
      "\tat java.base/java.lang.Thread.run(Thread.java:1589)\n",
      "Caused by: org.h2.jdbc.JdbcSQLSyntaxErrorException: Schema \"EX_SIMPLE\" not found; SQL statement:\n",
      "drop table if exists EX_SIMPLE.CUSTOMER cascade  [90079-214]\n",
      "\tat org.h2.message.DbException.getJdbcSQLException(DbException.java:632)\n",
      "\tat org.h2.engine.SessionRemote.readException(SessionRemote.java:637)\n",
      "\tat org.h2.engine.SessionRemote.done(SessionRemote.java:606)\n",
      "\tat org.h2.command.CommandRemote.prepare(CommandRemote.java:78)\n",
      "\tat org.h2.command.CommandRemote.<init>(CommandRemote.java:50)\n",
      "\tat org.h2.engine.SessionRemote.prepareCommand(SessionRemote.java:480)\n",
      "\tat org.h2.jdbc.JdbcConnection.prepareCommand(JdbcConnection.java:1116)\n",
      "\tat org.h2.jdbc.JdbcStatement.executeInternal(JdbcStatement.java:237)\n",
      "\tat org.h2.jdbc.JdbcStatement.execute(JdbcStatement.java:223)\n",
      "\tat com.mchange.v2.c3p0.impl.NewProxyStatement.execute(NewProxyStatement.java:75)\n",
      "\tat org.hibernate.tool.schema.internal.exec.GenerationTargetToDatabase.accept(GenerationTargetToDatabase.java:54)\n",
      "\t... 24 common frames omitted\n",
      "20:32:04.185 WARN  o.h.t.s.i.ExceptionHandlerLoggedImpl - GenerationTarget encountered exception accepting command : Error executing DDL \"drop table if exists EX_UUID.CUSTOMER cascade \" via JDBC Statement\n",
      "org.hibernate.tool.schema.spi.CommandAcceptanceException: Error executing DDL \"drop table if exists EX_UUID.CUSTOMER cascade \" via JDBC Statement\n",
      "\tat org.hibernate.tool.schema.internal.exec.GenerationTargetToDatabase.accept(GenerationTargetToDatabase.java:67)\n",
      "\tat org.hibernate.tool.schema.internal.SchemaDropperImpl.applySqlString(SchemaDropperImpl.java:419)\n",
      "\tat org.hibernate.tool.schema.internal.SchemaDropperImpl.applySqlStrings(SchemaDropperImpl.java:403)\n",
      "\tat org.hibernate.tool.schema.internal.SchemaDropperImpl.dropFromMetadata(SchemaDropperImpl.java:272)\n",
      "\tat org.hibernate.tool.schema.internal.SchemaDropperImpl.performDrop(SchemaDropperImpl.java:186)\n",
      "\tat org.hibernate.tool.schema.internal.SchemaDropperImpl.doDrop(SchemaDropperImpl.java:149)\n",
      "\tat org.hibernate.tool.schema.internal.SchemaDropperImpl.doDrop(SchemaDropperImpl.java:117)\n",
      "\tat org.hibernate.tool.schema.spi.SchemaManagementToolCoordinator.performDatabaseAction(SchemaManagementToolCoordinator.java:242)\n",
      "\tat org.hibernate.tool.schema.spi.SchemaManagementToolCoordinator.lambda$process$5(SchemaManagementToolCoordinator.java:143)\n",
      "\tat java.base/java.util.HashMap.forEach(HashMap.java:1429)\n",
      "\tat org.hibernate.tool.schema.spi.SchemaManagementToolCoordinator.process(SchemaManagementToolCoordinator.java:140)\n",
      "\tat org.hibernate.internal.SessionFactoryImpl.<init>(SessionFactoryImpl.java:336)\n",
      "\tat org.hibernate.boot.internal.SessionFactoryBuilderImpl.build(SessionFactoryBuilderImpl.java:415)\n",
      "\tat org.hibernate.jpa.boot.internal.EntityManagerFactoryBuilderImpl.build(EntityManagerFactoryBuilderImpl.java:1423)\n",
      "\tat org.hibernate.jpa.HibernatePersistenceProvider.createEntityManagerFactory(HibernatePersistenceProvider.java:55)\n",
      "\tat jakarta.persistence.Persistence.createEntityManagerFactory(Persistence.java:80)\n",
      "\tat fr.univtln.bruno.demos.jpa.hello.DatabaseManager.<clinit>(DatabaseManager.java:37)\n",
      "\tat REPL.$JShell$70.do_it$($JShell$70.java:49)\n",
      "\tat java.base/jdk.internal.reflect.DirectMethodHandleAccessor.invoke(DirectMethodHandleAccessor.java:104)\n",
      "\tat java.base/java.lang.reflect.Method.invoke(Method.java:578)\n",
      "\tat io.github.spencerpark.ijava.execution.IJavaExecutionControl.lambda$execute$1(IJavaExecutionControl.java:95)\n",
      "\tat java.base/java.util.concurrent.FutureTask.run(FutureTask.java:317)\n",
      "\tat java.base/java.util.concurrent.ThreadPoolExecutor.runWorker(ThreadPoolExecutor.java:1144)\n",
      "\tat java.base/java.util.concurrent.ThreadPoolExecutor$Worker.run(ThreadPoolExecutor.java:642)\n",
      "\tat java.base/java.lang.Thread.run(Thread.java:1589)\n",
      "Caused by: org.h2.jdbc.JdbcSQLSyntaxErrorException: Schema \"EX_UUID\" not found; SQL statement:\n",
      "drop table if exists EX_UUID.CUSTOMER cascade  [90079-214]\n",
      "\tat org.h2.message.DbException.getJdbcSQLException(DbException.java:632)\n",
      "\tat org.h2.engine.SessionRemote.readException(SessionRemote.java:637)\n",
      "\tat org.h2.engine.SessionRemote.done(SessionRemote.java:606)\n",
      "\tat org.h2.command.CommandRemote.prepare(CommandRemote.java:78)\n",
      "\tat org.h2.command.CommandRemote.<init>(CommandRemote.java:50)\n",
      "\tat org.h2.engine.SessionRemote.prepareCommand(SessionRemote.java:480)\n",
      "\tat org.h2.jdbc.JdbcConnection.prepareCommand(JdbcConnection.java:1116)\n",
      "\tat org.h2.jdbc.JdbcStatement.executeInternal(JdbcStatement.java:237)\n",
      "\tat org.h2.jdbc.JdbcStatement.execute(JdbcStatement.java:223)\n",
      "\tat com.mchange.v2.c3p0.impl.NewProxyStatement.execute(NewProxyStatement.java:75)\n",
      "\tat org.hibernate.tool.schema.internal.exec.GenerationTargetToDatabase.accept(GenerationTargetToDatabase.java:54)\n",
      "\t... 24 common frames omitted\n"
     ]
    }
   ],
   "source": [
    "%jars samples/hellojpa/target/*-SNAPSHOT-jar-with-dependencies.jar\n",
    "\n",
    "import jakarta.persistence.*;\n",
    "import fr.univtln.bruno.demos.jpa.hello.DatabaseManager;\n",
    "\n",
    "System.setProperty(\"jakarta.persistence.jdbc.url\",\"jdbc:h2:tcp://host.docker.internal/hellojpa-db\");\n",
    "\n",
    "try (EntityManager em = DatabaseManager.ENTITY_MANAGER_FACTORY.createEntityManager();\n",
    "    ) {}"
   ]
  },
  {
   "cell_type": "code",
   "execution_count": 6,
   "id": "d50a32c4-7f61-4684-827d-43bd8fb7cc29",
   "metadata": {
    "tags": [
     "remove-cell"
    ]
   },
   "outputs": [],
   "source": [
    "import org.slf4j.Logger;\n",
    "import org.slf4j.LoggerFactory;\n",
    "\n",
    "Logger log = LoggerFactory.getLogger(\"Notebook\");"
   ]
  },
  {
   "cell_type": "markdown",
   "id": "3a0fd0ae-5a07-477e-b236-601bb279ac2e",
   "metadata": {
    "tags": [],
    "user_expressions": []
   },
   "source": [
    "## Les entités\n",
    "\n",
    "Avec JPA une classe dont les instances doivent être persistantes est appelée une entité. Techniquement, une classe est une entité si elle annotée avec [@Entity](https://jakarta.ee/specifications/persistence/3.1/apidocs/jakarta.persistence/jakarta/persistence/entity), qu'un ou plusieurs de ses attributs sont annotés avec [@Id](https://jakarta.ee/specifications/persistence/3.1/apidocs/jakarta.persistence/jakarta/persistence/id) et qu'elle a au moins un constructeur sans paramètre (au plus `protected`). La classe sera alors associée à une relation du même nom, ayant une clé primaire (atomique ou composite)"
   ]
  },
  {
   "cell_type": "markdown",
   "id": "f6700714-11b1-4fc4-bfff-1eac046e43ec",
   "metadata": {
    "user_expressions": []
   },
   "source": [
    "La classe suivante est donc entité JPA :"
   ]
  },
  {
   "cell_type": "code",
   "execution_count": 7,
   "id": "b2710f59-62cc-46e5-ab31-6bbc368b67df",
   "metadata": {
    "tags": [
     "remove-input"
    ]
   },
   "outputs": [
    {
     "data": {
      "text/markdown": [
       "```Java\n",
       "@Entity\n",
       "@Data\n",
       "@RequiredArgsConstructor(staticName = \"of\")\n",
       "@NoArgsConstructor(access = AccessLevel.PROTECTED)\n",
       "@Setter\n",
       "public class Customer {\n",
       "\n",
       "    @Id\n",
       "    @GeneratedValue\n",
       "    private long id;\n",
       "\n",
       "    @NonNull\n",
       "    private String email;\n",
       "\n",
       "    private String name;\n",
       "}\n",
       "```"
      ],
      "text/plain": [
       "```Java\n",
       "@Entity\n",
       "@Data\n",
       "@RequiredArgsConstructor(staticName = \"of\")\n",
       "@NoArgsConstructor(access = AccessLevel.PROTECTED)\n",
       "@Setter\n",
       "public class Customer {\n",
       "\n",
       "    @Id\n",
       "    @GeneratedValue\n",
       "    private long id;\n",
       "\n",
       "    @NonNull\n",
       "    private String email;\n",
       "\n",
       "    private String name;\n",
       "}\n",
       "```"
      ]
     },
     "metadata": {},
     "output_type": "display_data"
    }
   ],
   "source": [
    "%%javasrcClassByName Customer\n",
    "samples/hellojpa/src/main/java/fr/univtln/bruno/demos/jpa/hello/samples/ex_simple/Customer.java"
   ]
  },
  {
   "cell_type": "markdown",
   "id": "728d7326-f550-40bf-8af5-64b24522efa8",
   "metadata": {
    "tags": [],
    "user_expressions": []
   },
   "source": [
    "associée à la relation :"
   ]
  },
  {
   "cell_type": "code",
   "execution_count": 8,
   "id": "b077d79f-6393-48f3-b0a8-37397e3913a4",
   "metadata": {
    "tags": [
     "remove-input"
    ]
   },
   "outputs": [
    {
     "data": {
      "image/svg+xml": [
       "<?xml version=\"1.0\" encoding=\"UTF-8\" standalone=\"no\"?><svg xmlns=\"http://www.w3.org/2000/svg\" xmlns:xlink=\"http://www.w3.org/1999/xlink\" contentStyleType=\"text/css\" height=\"117px\" preserveAspectRatio=\"none\" style=\"width:285px;height:117px;background:#FFFFFF;\" version=\"1.1\" viewBox=\"0 0 285 117\" width=\"285px\" zoomAndPan=\"magnify\"><defs><filter height=\"300%\" id=\"f1v2rs7fyw9yha\" width=\"300%\" x=\"-1\" y=\"-1\"><feGaussianBlur result=\"blurOut\" stdDeviation=\"2.0\"/><feColorMatrix in=\"blurOut\" result=\"blurOut2\" type=\"matrix\" values=\"0 0 0 0 0 0 0 0 0 0 0 0 0 0 0 0 0 0 .4 0\"/><feOffset dx=\"4.0\" dy=\"4.0\" in=\"blurOut2\" result=\"blurOut3\"/><feBlend in=\"SourceGraphic\" in2=\"blurOut3\" mode=\"normal\"/></filter></defs><g><!--MD5=[9844ecf9ec74e0cf1624fa0134c9f59b]\n",
       "class CUSTOMER--><g id=\"elem_CUSTOMER\"><rect codeLine=\"17\" fill=\"#EEEEEE\" filter=\"url(#f1v2rs7fyw9yha)\" height=\"96.8906\" id=\"CUSTOMER\" rx=\"2.5\" ry=\"2.5\" style=\"stroke:#2688D4;stroke-width:0.5;\" width=\"264.3333\" x=\"7\" y=\"7\"/><ellipse cx=\"94.9167\" cy=\"23\" fill=\"#FFFFFF\" rx=\"11\" ry=\"11\" style=\"stroke:#181818;stroke-width:1.0;\"/><path d=\"M95.7604,29.75 L93.3073,29.75 L93.3073,19.5 L90.1667,19.5 L90.1667,17.3594 L98.901,17.3594 L98.901,19.5 L95.7604,19.5 L95.7604,29.75 Z \" fill=\"#000000\"/><text fill=\"#000000\" font-family=\"sans-serif\" font-size=\"14\" lengthAdjust=\"spacing\" textLength=\"80\" x=\"115.4167\" y=\"27.8467\">CUSTOMER</text><line style=\"stroke:#2688D4;stroke-width:0.5;\" x1=\"8\" x2=\"270.3333\" y1=\"39\" y2=\"39\"/><ellipse cx=\"18\" cy=\"52.6484\" fill=\"#000000\" rx=\"3\" ry=\"3\" style=\"stroke:#000000;stroke-width:1.0;\"/><path d=\"M34.4167,46.4635 C32.8067,46.4635 31.5,47.7702 31.5,49.3802 C31.5,49.5669 31.5,49.7535 31.535,49.9285 L28,53.4635 L28,55.7969 L31.5,55.7969 L31.5,53.4635 L33.8333,53.4635 L33.8333,52.2969 L33.8683,52.2619 C34.0433,52.2969 34.23,52.2969 34.4167,52.2969 C36.0267,52.2969 37.3333,50.9902 37.3333,49.3802 C37.3333,47.7702 36.0267,46.4635 34.4167,46.4635 M35,47.6302 C35.6417,47.6302 36.1667,48.1552 36.1667,48.7969 C36.1667,49.4385 35.6417,49.9635 35,49.9635 C34.3583,49.9635 33.8333,49.4385 33.8333,48.7969 C33.8333,48.1552 34.3583,47.6302 35,47.6302 \" fill=\"#B8861B\" style=\"stroke:;stroke-width:0.0;stroke-dasharray:;\"/><text fill=\"#000000\" font-family=\"sans-serif\" font-size=\"14\" font-weight=\"bold\" lengthAdjust=\"spacing\" textLength=\"15\" x=\"43.3333\" y=\"55.9951\">ID</text><text fill=\"#000000\" font-family=\"sans-serif\" font-size=\"14\" lengthAdjust=\"spacing\" textLength=\"83\" x=\"58.3333\" y=\"55.9951\">: BIGINT(64)</text><line style=\"stroke:#2688D4;stroke-width:1.0;\" x1=\"8\" x2=\"270.3333\" y1=\"63.2969\" y2=\"63.2969\"/><path d=\"M17.5,70.7604 C15.5633,70.7604 14,72.3237 14,74.2604 C14,76.1971 15.5633,77.7604 17.5,77.7604 C19.4367,77.7604 21,76.1971 21,74.2604 C21,72.3237 19.4367,70.7604 17.5,70.7604 \" fill=\"#EFEFEF\" style=\"stroke:;stroke-width:0.0;stroke-dasharray:;\"/><text fill=\"#000000\" font-family=\"sans-serif\" font-size=\"14\" lengthAdjust=\"spacing\" textLength=\"237\" x=\"28.3333\" y=\"80.292\">EMAIL: CHARACTER VARYING(255)</text><path d=\"M17.5,87.0573 C15.5633,87.0573 14,88.6206 14,90.5573 C14,92.494 15.5633,94.0573 17.5,94.0573 C19.4367,94.0573 21,92.494 21,90.5573 C21,88.6206 19.4367,87.0573 17.5,87.0573 \" fill=\"#EFEFEF\" style=\"stroke:;stroke-width:0.0;stroke-dasharray:;\"/><text fill=\"#000000\" font-family=\"sans-serif\" font-size=\"14\" lengthAdjust=\"spacing\" textLength=\"237\" x=\"28.3333\" y=\"96.5889\">NAME: CHARACTER VARYING(255)</text></g><!--MD5=[a060aeb576c7b202bf9d62b2dafa6e89]\n",
       "@startuml\r\n",
       "\r\n",
       " left to right direction\r\n",
       " skinparam roundcorner 5\r\n",
       " skinparam shadowing true\r\n",
       " skinparam handwritten false\r\n",
       " skinparam class {\r\n",
       "     BackgroundColor #EEEEEE\r\n",
       "     ArrowColor #2688d4\r\n",
       "     BorderColor #2688d4\r\n",
       " }\r\n",
       "\r\n",
       " !define primary_key(x) <b><color:#b8861b><&key></color> x</b>\r\n",
       " !define foreign_key(x) <color:#aaaaaa><&key></color> x\r\n",
       " !define column(x) <color:#efefef><&media-record></color> x\r\n",
       " !define table(x) entity x << (T, white) >>\r\n",
       "\r\n",
       "table(CUSTOMER) {\r\n",
       "\t* primary_key(ID): BIGINT(64)\r\n",
       "- -\r\n",
       "\t column(EMAIL): CHARACTER VARYING(255)\r\n",
       "\t column(NAME): CHARACTER VARYING(255)\r\n",
       "}\r\n",
       "@enduml\r\n",
       "\n",
       "@startuml\r\n",
       "\r\n",
       " left to right direction\r\n",
       " skinparam roundcorner 5\r\n",
       " skinparam shadowing true\r\n",
       " skinparam handwritten false\r\n",
       " skinparam class {\r\n",
       "     BackgroundColor #EEEEEE\r\n",
       "     ArrowColor #2688d4\r\n",
       "     BorderColor #2688d4\r\n",
       " }\r\n",
       "\r\n",
       "\r\n",
       "entity CUSTOMER << (T, white) >> {\r\n",
       "\t* <b><color:#b8861b><&key></color> ID</b>: BIGINT(64)\r\n",
       "- -\r\n",
       "\t <color:#efefef><&media-record></color> EMAIL: CHARACTER VARYING(255)\r\n",
       "\t <color:#efefef><&media-record></color> NAME: CHARACTER VARYING(255)\r\n",
       "}\r\n",
       "@enduml\r\n",
       "\n",
       "PlantUML version 1.2022.12(Sun Oct 23 18:12:26 UTC 2022)\n",
       "(GPL source distribution)\n",
       "Java Runtime: OpenJDK Runtime Environment\n",
       "JVM: OpenJDK 64-Bit Server VM\n",
       "Default Encoding: UTF-8\n",
       "Language: en\n",
       "Country: US\n",
       "--></g></svg>"
      ],
      "text/plain": [
       "<?xml version=\"1.0\" encoding=\"UTF-8\" standalone=\"no\"?><svg xmlns=\"http://www.w3.org/2000/svg\" xmlns:xlink=\"http://www.w3.org/1999/xlink\" contentStyleType=\"text/css\" height=\"117px\" preserveAspectRatio=\"none\" style=\"width:285px;height:117px;background:#FFFFFF;\" version=\"1.1\" viewBox=\"0 0 285 117\" width=\"285px\" zoomAndPan=\"magnify\"><defs><filter height=\"300%\" id=\"f1v2rs7fyw9yha\" width=\"300%\" x=\"-1\" y=\"-1\"><feGaussianBlur result=\"blurOut\" stdDeviation=\"2.0\"/><feColorMatrix in=\"blurOut\" result=\"blurOut2\" type=\"matrix\" values=\"0 0 0 0 0 0 0 0 0 0 0 0 0 0 0 0 0 0 .4 0\"/><feOffset dx=\"4.0\" dy=\"4.0\" in=\"blurOut2\" result=\"blurOut3\"/><feBlend in=\"SourceGraphic\" in2=\"blurOut3\" mode=\"normal\"/></filter></defs><g><!--MD5=[9844ecf9ec74e0cf1624fa0134c9f59b]\n",
       "class CUSTOMER--><g id=\"elem_CUSTOMER\"><rect codeLine=\"17\" fill=\"#EEEEEE\" filter=\"url(#f1v2rs7fyw9yha)\" height=\"96.8906\" id=\"CUSTOMER\" rx=\"2.5\" ry=\"2.5\" style=\"stroke:#2688D4;stroke-width:0.5;\" width=\"264.3333\" x=\"7\" y=\"7\"/><ellipse cx=\"94.9167\" cy=\"23\" fill=\"#FFFFFF\" rx=\"11\" ry=\"11\" style=\"stroke:#181818;stroke-width:1.0;\"/><path d=\"M95.7604,29.75 L93.3073,29.75 L93.3073,19.5 L90.1667,19.5 L90.1667,17.3594 L98.901,17.3594 L98.901,19.5 L95.7604,19.5 L95.7604,29.75 Z \" fill=\"#000000\"/><text fill=\"#000000\" font-family=\"sans-serif\" font-size=\"14\" lengthAdjust=\"spacing\" textLength=\"80\" x=\"115.4167\" y=\"27.8467\">CUSTOMER</text><line style=\"stroke:#2688D4;stroke-width:0.5;\" x1=\"8\" x2=\"270.3333\" y1=\"39\" y2=\"39\"/><ellipse cx=\"18\" cy=\"52.6484\" fill=\"#000000\" rx=\"3\" ry=\"3\" style=\"stroke:#000000;stroke-width:1.0;\"/><path d=\"M34.4167,46.4635 C32.8067,46.4635 31.5,47.7702 31.5,49.3802 C31.5,49.5669 31.5,49.7535 31.535,49.9285 L28,53.4635 L28,55.7969 L31.5,55.7969 L31.5,53.4635 L33.8333,53.4635 L33.8333,52.2969 L33.8683,52.2619 C34.0433,52.2969 34.23,52.2969 34.4167,52.2969 C36.0267,52.2969 37.3333,50.9902 37.3333,49.3802 C37.3333,47.7702 36.0267,46.4635 34.4167,46.4635 M35,47.6302 C35.6417,47.6302 36.1667,48.1552 36.1667,48.7969 C36.1667,49.4385 35.6417,49.9635 35,49.9635 C34.3583,49.9635 33.8333,49.4385 33.8333,48.7969 C33.8333,48.1552 34.3583,47.6302 35,47.6302 \" fill=\"#B8861B\" style=\"stroke:;stroke-width:0.0;stroke-dasharray:;\"/><text fill=\"#000000\" font-family=\"sans-serif\" font-size=\"14\" font-weight=\"bold\" lengthAdjust=\"spacing\" textLength=\"15\" x=\"43.3333\" y=\"55.9951\">ID</text><text fill=\"#000000\" font-family=\"sans-serif\" font-size=\"14\" lengthAdjust=\"spacing\" textLength=\"83\" x=\"58.3333\" y=\"55.9951\">: BIGINT(64)</text><line style=\"stroke:#2688D4;stroke-width:1.0;\" x1=\"8\" x2=\"270.3333\" y1=\"63.2969\" y2=\"63.2969\"/><path d=\"M17.5,70.7604 C15.5633,70.7604 14,72.3237 14,74.2604 C14,76.1971 15.5633,77.7604 17.5,77.7604 C19.4367,77.7604 21,76.1971 21,74.2604 C21,72.3237 19.4367,70.7604 17.5,70.7604 \" fill=\"#EFEFEF\" style=\"stroke:;stroke-width:0.0;stroke-dasharray:;\"/><text fill=\"#000000\" font-family=\"sans-serif\" font-size=\"14\" lengthAdjust=\"spacing\" textLength=\"237\" x=\"28.3333\" y=\"80.292\">EMAIL: CHARACTER VARYING(255)</text><path d=\"M17.5,87.0573 C15.5633,87.0573 14,88.6206 14,90.5573 C14,92.494 15.5633,94.0573 17.5,94.0573 C19.4367,94.0573 21,92.494 21,90.5573 C21,88.6206 19.4367,87.0573 17.5,87.0573 \" fill=\"#EFEFEF\" style=\"stroke:;stroke-width:0.0;stroke-dasharray:;\"/><text fill=\"#000000\" font-family=\"sans-serif\" font-size=\"14\" lengthAdjust=\"spacing\" textLength=\"237\" x=\"28.3333\" y=\"96.5889\">NAME: CHARACTER VARYING(255)</text></g><!--MD5=[a060aeb576c7b202bf9d62b2dafa6e89]\n",
       "@startuml\r\n",
       "\r\n",
       " left to right direction\r\n",
       " skinparam roundcorner 5\r\n",
       " skinparam shadowing true\r\n",
       " skinparam handwritten false\r\n",
       " skinparam class {\r\n",
       "     BackgroundColor #EEEEEE\r\n",
       "     ArrowColor #2688d4\r\n",
       "     BorderColor #2688d4\r\n",
       " }\r\n",
       "\r\n",
       " !define primary_key(x) <b><color:#b8861b><&key></color> x</b>\r\n",
       " !define foreign_key(x) <color:#aaaaaa><&key></color> x\r\n",
       " !define column(x) <color:#efefef><&media-record></color> x\r\n",
       " !define table(x) entity x << (T, white) >>\r\n",
       "\r\n",
       "table(CUSTOMER) {\r\n",
       "\t* primary_key(ID): BIGINT(64)\r\n",
       "- -\r\n",
       "\t column(EMAIL): CHARACTER VARYING(255)\r\n",
       "\t column(NAME): CHARACTER VARYING(255)\r\n",
       "}\r\n",
       "@enduml\r\n",
       "\n",
       "@startuml\r\n",
       "\r\n",
       " left to right direction\r\n",
       " skinparam roundcorner 5\r\n",
       " skinparam shadowing true\r\n",
       " skinparam handwritten false\r\n",
       " skinparam class {\r\n",
       "     BackgroundColor #EEEEEE\r\n",
       "     ArrowColor #2688d4\r\n",
       "     BorderColor #2688d4\r\n",
       " }\r\n",
       "\r\n",
       "\r\n",
       "entity CUSTOMER << (T, white) >> {\r\n",
       "\t* <b><color:#b8861b><&key></color> ID</b>: BIGINT(64)\r\n",
       "- -\r\n",
       "\t <color:#efefef><&media-record></color> EMAIL: CHARACTER VARYING(255)\r\n",
       "\t <color:#efefef><&media-record></color> NAME: CHARACTER VARYING(255)\r\n",
       "}\r\n",
       "@enduml\r\n",
       "\n",
       "PlantUML version 1.2022.12(Sun Oct 23 18:12:26 UTC 2022)\n",
       "(GPL source distribution)\n",
       "Java Runtime: OpenJDK Runtime Environment\n",
       "JVM: OpenJDK 64-Bit Server VM\n",
       "Default Encoding: UTF-8\n",
       "Language: en\n",
       "Country: US\n",
       "--></g></svg>"
      ]
     },
     "metadata": {},
     "output_type": "display_data"
    }
   ],
   "source": [
    "%%rdbmsSchema jdbc:h2:tcp://host.docker.internal/hellojpa-db dba secret EX_SIMPLE\n",
    "CUSTOMER"
   ]
  },
  {
   "cell_type": "code",
   "execution_count": 9,
   "id": "6d4fdb0e-9c13-4f1e-8de0-f6087178915b",
   "metadata": {
    "tags": [
     "remove-input"
    ]
   },
   "outputs": [
    {
     "name": "stdout",
     "output_type": "stream",
     "text": [
      "FIELD | TYPE                   | NULL | KEY | DEFAULT\n",
      "ID    | BIGINT                 | NO   | PRI | NULL\n",
      "EMAIL | CHARACTER VARYING(255) | YES  |     | NULL\n",
      "NAME  | CHARACTER VARYING(255) | YES  |     | NULL\n",
      "(3 rows, 10 ms)\n"
     ]
    }
   ],
   "source": [
    "%%shell \n",
    "java -cp h2*.jar org.h2.tools.Shell \\\n",
    "  -url \"jdbc:h2:tcp://host.docker.internal/hellojpa-db\" \\\n",
    "  -user dba -password secret -sql \"SHOW COLUMNS FROM EX_SIMPLE.CUSTOMER\""
   ]
  },
  {
   "cell_type": "markdown",
   "id": "ee7aed28-f72f-4a9b-89ca-2703f29d29bd",
   "metadata": {
    "user_expressions": []
   },
   "source": [
    "Le mapping peut être contrôllé finement par un ensemble d'annotations. La classe suivante illustre celles de base. "
   ]
  },
  {
   "cell_type": "code",
   "execution_count": 10,
   "id": "3ee756d1-a83c-40b4-a034-cfdbd8ee4116",
   "metadata": {
    "tags": [
     "remove-input"
    ]
   },
   "outputs": [
    {
     "data": {
      "text/markdown": [
       "```Java\n",
       "@Entity\n",
       "@Data\n",
       "@Builder\n",
       "@AllArgsConstructor\n",
       "@RequiredArgsConstructor(staticName = \"of\")\n",
       "@NoArgsConstructor(access = AccessLevel.PROTECTED)\n",
       "@Table(name = \"CUSTOMER\", indexes = { @Index(name = \"idx_email\", columnList = \"email\", unique = true) })\n",
       "public class Customer {\n",
       "\n",
       "    @Column(updatable = false)\n",
       "    private final LocalDateTime creationDate = LocalDateTime.now();\n",
       "\n",
       "    @Id\n",
       "    @Column(name = \"ID\")\n",
       "    @GeneratedValue\n",
       "    private long id;\n",
       "\n",
       "    @Column(length = 50, nullable = false, unique = true)\n",
       "    @NonNull\n",
       "    private String email;\n",
       "\n",
       "    @Column(length = 50, nullable = false)\n",
       "    private String firstname;\n",
       "\n",
       "    @Column(length = 50, nullable = false)\n",
       "    private String lastname;\n",
       "\n",
       "    @Transient\n",
       "    private String displayName;\n",
       "\n",
       "    private LocalDate birthDate;\n",
       "\n",
       "    @Lob\n",
       "    @Basic(fetch = FetchType.LAZY)\n",
       "    private byte[] photo;\n",
       "\n",
       "    // @Enumerated(EnumType.STRING)\n",
       "    private Status status = Status.LEAD;\n",
       "\n",
       "    public void setBirthDate(LocalDate birthDate) {\n",
       "        this.birthDate = birthDate;\n",
       "    }\n",
       "\n",
       "    enum Status {\n",
       "\n",
       "        ACTIVE, LEAD\n",
       "    }\n",
       "}\n",
       "```"
      ],
      "text/plain": [
       "```Java\n",
       "@Entity\n",
       "@Data\n",
       "@Builder\n",
       "@AllArgsConstructor\n",
       "@RequiredArgsConstructor(staticName = \"of\")\n",
       "@NoArgsConstructor(access = AccessLevel.PROTECTED)\n",
       "@Table(name = \"CUSTOMER\", indexes = { @Index(name = \"idx_email\", columnList = \"email\", unique = true) })\n",
       "public class Customer {\n",
       "\n",
       "    @Column(updatable = false)\n",
       "    private final LocalDateTime creationDate = LocalDateTime.now();\n",
       "\n",
       "    @Id\n",
       "    @Column(name = \"ID\")\n",
       "    @GeneratedValue\n",
       "    private long id;\n",
       "\n",
       "    @Column(length = 50, nullable = false, unique = true)\n",
       "    @NonNull\n",
       "    private String email;\n",
       "\n",
       "    @Column(length = 50, nullable = false)\n",
       "    private String firstname;\n",
       "\n",
       "    @Column(length = 50, nullable = false)\n",
       "    private String lastname;\n",
       "\n",
       "    @Transient\n",
       "    private String displayName;\n",
       "\n",
       "    private LocalDate birthDate;\n",
       "\n",
       "    @Lob\n",
       "    @Basic(fetch = FetchType.LAZY)\n",
       "    private byte[] photo;\n",
       "\n",
       "    // @Enumerated(EnumType.STRING)\n",
       "    private Status status = Status.LEAD;\n",
       "\n",
       "    public void setBirthDate(LocalDate birthDate) {\n",
       "        this.birthDate = birthDate;\n",
       "    }\n",
       "\n",
       "    enum Status {\n",
       "\n",
       "        ACTIVE, LEAD\n",
       "    }\n",
       "}\n",
       "```"
      ]
     },
     "metadata": {},
     "output_type": "display_data"
    }
   ],
   "source": [
    "%%javasrcClassByName Customer\n",
    "samples/hellojpa/src/main/java/fr/univtln/bruno/demos/jpa/hello/samples/ex_entity/Customer.java"
   ]
  },
  {
   "cell_type": "markdown",
   "id": "5e236ce8-22df-44b6-b7f1-7b335f0e077b",
   "metadata": {
    "user_expressions": []
   },
   "source": [
    "[@Entity](https://jakarta.ee/specifications/persistence/3.1/apidocs/jakarta.persistence/jakarta/persistence/entity) indique qu'une classe est une entité et permet de contrôler son nom (par défaut celui de la classe).\n",
    "\n",
    "[@Id](https://jakarta.ee/specifications/persistence/3.1/apidocs/jakarta.persistence/jakarta/persistence/id) est obligatoire et défini le ou les attributs qui compose la clé primaire.\n",
    "\n",
    "[@Table](https://jakarta.ee/specifications/persistence/3.1/apidocs/jakarta.persistence/jakarta/persistence/table) contrôle finement le mapping au niveau de la table associée (nom spécifique, schema, catalogue, contraintes et [index](https://jakarta.ee/specifications/persistence/2.2/apidocs/javax/persistence/))\n",
    "\n",
    "[@Basic](https://jakarta.ee/specifications/persistence/3.1/apidocs/jakarta.persistence/jakarta/persistence/basic) est l'annotation pour tout ce qui peut etre représenté directement comme un attribut : les primitifs (et leurs classes d'enveloppement), les chaînes de caractères, les types temporels, les octets ou tableaux d'octets, les énumérés et tout ce qui implante l'interface Serialisable. Cette annotation est optionnelle et permet de d'indiquer si l'attribut peut être nul dans la base (`optional`) et s'il doit être récupéré au changement de classe (par défaut, [fetch](https://jakarta.ee/specifications/persistence/3.1/apidocs/jakarta.persistence/jakarta/persistence/fetchtype)=EAGER) ou uniquement lors de l'accès au membre (fetch=LAZY).\n",
    "\n",
    "[@Column](https://jakarta.ee/specifications/persistence/3.1/apidocs/jakarta.persistence/jakarta/persistence/column) contrôle finement la colonne associée au membre comme son nom ou ses contraintes (null, insertion ou mise à jour autorisés ou non ; unicité ; ...).\n",
    "\n",
    "[@GeneratedValue](https://jakarta.ee/specifications/persistence/3.1/apidocs/jakarta.persistence/jakarta/persistence/generatedvalue)  contrôle la méthode utilisée pour généré la clé lors de l'insertion (automatique pour s'adapater à la base de données utilisée, identité pour MySQL, séquence pour ceux qui le supporte ou Table qui est portable mais avec les moins bonnes performances et récement UUID). \n",
    "\n",
    "[@Transient](https://jakarta.ee/specifications/persistence/3.1/apidocs/jakarta.persistence/jakarta/persistence/transient) permet d'indiquer qu'un membre ne doit pas être persistant (s'il porte le modificateur `transient` c'est aussi le cas).\n",
    "\n",
    "[@Lob](https://jakarta.ee/specifications/persistence/3.1/apidocs/jakarta.persistence/jakarta/persistence/lob) permet d'associer des grands objets binaires ou textes (BLOB et CLOB)."
   ]
  },
  {
   "cell_type": "code",
   "execution_count": 11,
   "id": "cf7498bc-f83e-41d0-9a45-751bc43f9cc7",
   "metadata": {
    "tags": [
     "remove-input"
    ]
   },
   "outputs": [
    {
     "data": {
      "image/svg+xml": [
       "<?xml version=\"1.0\" encoding=\"UTF-8\" standalone=\"no\"?><svg xmlns=\"http://www.w3.org/2000/svg\" xmlns:xlink=\"http://www.w3.org/1999/xlink\" contentStyleType=\"text/css\" height=\"199px\" preserveAspectRatio=\"none\" style=\"width:378px;height:199px;background:#FFFFFF;\" version=\"1.1\" viewBox=\"0 0 378 199\" width=\"378px\" zoomAndPan=\"magnify\"><defs><filter height=\"300%\" id=\"f15f9x02o2k8xi\" width=\"300%\" x=\"-1\" y=\"-1\"><feGaussianBlur result=\"blurOut\" stdDeviation=\"2.0\"/><feColorMatrix in=\"blurOut\" result=\"blurOut2\" type=\"matrix\" values=\"0 0 0 0 0 0 0 0 0 0 0 0 0 0 0 0 0 0 .4 0\"/><feOffset dx=\"4.0\" dy=\"4.0\" in=\"blurOut2\" result=\"blurOut3\"/><feBlend in=\"SourceGraphic\" in2=\"blurOut3\" mode=\"normal\"/></filter></defs><g><!--MD5=[9844ecf9ec74e0cf1624fa0134c9f59b]\n",
       "class CUSTOMER--><g id=\"elem_CUSTOMER\"><rect codeLine=\"17\" fill=\"#EEEEEE\" filter=\"url(#f15f9x02o2k8xi)\" height=\"178.375\" id=\"CUSTOMER\" rx=\"2.5\" ry=\"2.5\" style=\"stroke:#2688D4;stroke-width:0.5;\" width=\"357.3333\" x=\"7\" y=\"7\"/><ellipse cx=\"141.4167\" cy=\"23\" fill=\"#FFFFFF\" rx=\"11\" ry=\"11\" style=\"stroke:#181818;stroke-width:1.0;\"/><path d=\"M142.2604,29.75 L139.8073,29.75 L139.8073,19.5 L136.6667,19.5 L136.6667,17.3594 L145.401,17.3594 L145.401,19.5 L142.2604,19.5 L142.2604,29.75 Z \" fill=\"#000000\"/><text fill=\"#000000\" font-family=\"sans-serif\" font-size=\"14\" lengthAdjust=\"spacing\" textLength=\"80\" x=\"161.9167\" y=\"27.8467\">CUSTOMER</text><line style=\"stroke:#2688D4;stroke-width:0.5;\" x1=\"8\" x2=\"363.3333\" y1=\"39\" y2=\"39\"/><ellipse cx=\"18\" cy=\"52.6484\" fill=\"#000000\" rx=\"3\" ry=\"3\" style=\"stroke:#000000;stroke-width:1.0;\"/><path d=\"M34.4167,46.4635 C32.8067,46.4635 31.5,47.7702 31.5,49.3802 C31.5,49.5669 31.5,49.7535 31.535,49.9285 L28,53.4635 L28,55.7969 L31.5,55.7969 L31.5,53.4635 L33.8333,53.4635 L33.8333,52.2969 L33.8683,52.2619 C34.0433,52.2969 34.23,52.2969 34.4167,52.2969 C36.0267,52.2969 37.3333,50.9902 37.3333,49.3802 C37.3333,47.7702 36.0267,46.4635 34.4167,46.4635 M35,47.6302 C35.6417,47.6302 36.1667,48.1552 36.1667,48.7969 C36.1667,49.4385 35.6417,49.9635 35,49.9635 C34.3583,49.9635 33.8333,49.4385 33.8333,48.7969 C33.8333,48.1552 34.3583,47.6302 35,47.6302 \" fill=\"#B8861B\" style=\"stroke:;stroke-width:0.0;stroke-dasharray:;\"/><text fill=\"#000000\" font-family=\"sans-serif\" font-size=\"14\" font-weight=\"bold\" lengthAdjust=\"spacing\" textLength=\"15\" x=\"43.3333\" y=\"55.9951\">ID</text><text fill=\"#000000\" font-family=\"sans-serif\" font-size=\"14\" lengthAdjust=\"spacing\" textLength=\"83\" x=\"58.3333\" y=\"55.9951\">: BIGINT(64)</text><line style=\"stroke:#2688D4;stroke-width:1.0;\" x1=\"8\" x2=\"363.3333\" y1=\"63.2969\" y2=\"63.2969\"/><path d=\"M31.5,70.7604 C29.5633,70.7604 28,72.3237 28,74.2604 C28,76.1971 29.5633,77.7604 31.5,77.7604 C33.4367,77.7604 35,76.1971 35,74.2604 C35,72.3237 33.4367,70.7604 31.5,70.7604 \" fill=\"#EFEFEF\" style=\"stroke:;stroke-width:0.0;stroke-dasharray:;\"/><text fill=\"#000000\" font-family=\"sans-serif\" font-size=\"14\" lengthAdjust=\"spacing\" textLength=\"155\" x=\"42.3333\" y=\"80.292\">BIRTHDATE: DATE(10)</text><path d=\"M31.5,87.0573 C29.5633,87.0573 28,88.6206 28,90.5573 C28,92.494 29.5633,94.0573 31.5,94.0573 C33.4367,94.0573 35,92.494 35,90.5573 C35,88.6206 33.4367,87.0573 31.5,87.0573 \" fill=\"#EFEFEF\" style=\"stroke:;stroke-width:0.0;stroke-dasharray:;\"/><text fill=\"#000000\" font-family=\"sans-serif\" font-size=\"14\" lengthAdjust=\"spacing\" textLength=\"227\" x=\"42.3333\" y=\"96.5889\">CREATIONDATE: TIMESTAMP(26)</text><ellipse cx=\"18\" cy=\"109.5391\" fill=\"#000000\" rx=\"3\" ry=\"3\" style=\"stroke:#000000;stroke-width:1.0;\"/><path d=\"M31.5,103.3542 C29.5633,103.3542 28,104.9175 28,106.8542 C28,108.7908 29.5633,110.3542 31.5,110.3542 C33.4367,110.3542 35,108.7908 35,106.8542 C35,104.9175 33.4367,103.3542 31.5,103.3542 \" fill=\"#EFEFEF\" style=\"stroke:;stroke-width:0.0;stroke-dasharray:;\"/><text fill=\"#000000\" font-family=\"sans-serif\" font-size=\"14\" lengthAdjust=\"spacing\" textLength=\"228\" x=\"42.3333\" y=\"112.8857\">EMAIL: CHARACTER VARYING(50)</text><ellipse cx=\"18\" cy=\"125.8359\" fill=\"#000000\" rx=\"3\" ry=\"3\" style=\"stroke:#000000;stroke-width:1.0;\"/><path d=\"M31.5,119.651 C29.5633,119.651 28,121.2144 28,123.151 C28,125.0877 29.5633,126.651 31.5,126.651 C33.4367,126.651 35,125.0877 35,123.151 C35,121.2144 33.4367,119.651 31.5,119.651 \" fill=\"#EFEFEF\" style=\"stroke:;stroke-width:0.0;stroke-dasharray:;\"/><text fill=\"#000000\" font-family=\"sans-serif\" font-size=\"14\" lengthAdjust=\"spacing\" textLength=\"267\" x=\"42.3333\" y=\"129.1826\">FIRSTNAME: CHARACTER VARYING(50)</text><ellipse cx=\"18\" cy=\"142.1328\" fill=\"#000000\" rx=\"3\" ry=\"3\" style=\"stroke:#000000;stroke-width:1.0;\"/><path d=\"M31.5,135.9479 C29.5633,135.9479 28,137.5113 28,139.4479 C28,141.3846 29.5633,142.9479 31.5,142.9479 C33.4367,142.9479 35,141.3846 35,139.4479 C35,137.5113 33.4367,135.9479 31.5,135.9479 \" fill=\"#EFEFEF\" style=\"stroke:;stroke-width:0.0;stroke-dasharray:;\"/><text fill=\"#000000\" font-family=\"sans-serif\" font-size=\"14\" lengthAdjust=\"spacing\" textLength=\"262\" x=\"42.3333\" y=\"145.4795\">LASTNAME: CHARACTER VARYING(50)</text><path d=\"M31.5,152.2448 C29.5633,152.2448 28,153.8081 28,155.7448 C28,157.6815 29.5633,159.2448 31.5,159.2448 C33.4367,159.2448 35,157.6815 35,155.7448 C35,153.8081 33.4367,152.2448 31.5,152.2448 \" fill=\"#EFEFEF\" style=\"stroke:;stroke-width:0.0;stroke-dasharray:;\"/><text fill=\"#000000\" font-family=\"sans-serif\" font-size=\"14\" lengthAdjust=\"spacing\" textLength=\"316\" x=\"42.3333\" y=\"161.7764\">PHOTO: BINARY LARGE OBJECT(2147483647)</text><path d=\"M31.5,168.5417 C29.5633,168.5417 28,170.105 28,172.0417 C28,173.9783 29.5633,175.5417 31.5,175.5417 C33.4367,175.5417 35,173.9783 35,172.0417 C35,170.105 33.4367,168.5417 31.5,168.5417 \" fill=\"#EFEFEF\" style=\"stroke:;stroke-width:0.0;stroke-dasharray:;\"/><text fill=\"#000000\" font-family=\"sans-serif\" font-size=\"14\" lengthAdjust=\"spacing\" textLength=\"158\" x=\"42.3333\" y=\"178.0732\">STATUS: SMALLINT(16)</text></g><!--MD5=[a1bb3181e61025b6e3b5f440bd393963]\n",
       "@startuml\r\n",
       "\r\n",
       " left to right direction\r\n",
       " skinparam roundcorner 5\r\n",
       " skinparam shadowing true\r\n",
       " skinparam handwritten false\r\n",
       " skinparam class {\r\n",
       "     BackgroundColor #EEEEEE\r\n",
       "     ArrowColor #2688d4\r\n",
       "     BorderColor #2688d4\r\n",
       " }\r\n",
       "\r\n",
       " !define primary_key(x) <b><color:#b8861b><&key></color> x</b>\r\n",
       " !define foreign_key(x) <color:#aaaaaa><&key></color> x\r\n",
       " !define column(x) <color:#efefef><&media-record></color> x\r\n",
       " !define table(x) entity x << (T, white) >>\r\n",
       "\r\n",
       "table(CUSTOMER) {\r\n",
       "\t* primary_key(ID): BIGINT(64)\r\n",
       "- -\r\n",
       "\t column(BIRTHDATE): DATE(10)\r\n",
       "\t column(CREATIONDATE): TIMESTAMP(26)\r\n",
       "\t* column(EMAIL): CHARACTER VARYING(50)\r\n",
       "\t* column(FIRSTNAME): CHARACTER VARYING(50)\r\n",
       "\t* column(LASTNAME): CHARACTER VARYING(50)\r\n",
       "\t column(PHOTO): BINARY LARGE OBJECT(2147483647)\r\n",
       "\t column(STATUS): SMALLINT(16)\r\n",
       "}\r\n",
       "@enduml\r\n",
       "\n",
       "@startuml\r\n",
       "\r\n",
       " left to right direction\r\n",
       " skinparam roundcorner 5\r\n",
       " skinparam shadowing true\r\n",
       " skinparam handwritten false\r\n",
       " skinparam class {\r\n",
       "     BackgroundColor #EEEEEE\r\n",
       "     ArrowColor #2688d4\r\n",
       "     BorderColor #2688d4\r\n",
       " }\r\n",
       "\r\n",
       "\r\n",
       "entity CUSTOMER << (T, white) >> {\r\n",
       "\t* <b><color:#b8861b><&key></color> ID</b>: BIGINT(64)\r\n",
       "- -\r\n",
       "\t <color:#efefef><&media-record></color> BIRTHDATE: DATE(10)\r\n",
       "\t <color:#efefef><&media-record></color> CREATIONDATE: TIMESTAMP(26)\r\n",
       "\t* <color:#efefef><&media-record></color> EMAIL: CHARACTER VARYING(50)\r\n",
       "\t* <color:#efefef><&media-record></color> FIRSTNAME: CHARACTER VARYING(50)\r\n",
       "\t* <color:#efefef><&media-record></color> LASTNAME: CHARACTER VARYING(50)\r\n",
       "\t <color:#efefef><&media-record></color> PHOTO: BINARY LARGE OBJECT(2147483647)\r\n",
       "\t <color:#efefef><&media-record></color> STATUS: SMALLINT(16)\r\n",
       "}\r\n",
       "@enduml\r\n",
       "\n",
       "PlantUML version 1.2022.12(Sun Oct 23 18:12:26 UTC 2022)\n",
       "(GPL source distribution)\n",
       "Java Runtime: OpenJDK Runtime Environment\n",
       "JVM: OpenJDK 64-Bit Server VM\n",
       "Default Encoding: UTF-8\n",
       "Language: en\n",
       "Country: US\n",
       "--></g></svg>"
      ],
      "text/plain": [
       "<?xml version=\"1.0\" encoding=\"UTF-8\" standalone=\"no\"?><svg xmlns=\"http://www.w3.org/2000/svg\" xmlns:xlink=\"http://www.w3.org/1999/xlink\" contentStyleType=\"text/css\" height=\"199px\" preserveAspectRatio=\"none\" style=\"width:378px;height:199px;background:#FFFFFF;\" version=\"1.1\" viewBox=\"0 0 378 199\" width=\"378px\" zoomAndPan=\"magnify\"><defs><filter height=\"300%\" id=\"f15f9x02o2k8xi\" width=\"300%\" x=\"-1\" y=\"-1\"><feGaussianBlur result=\"blurOut\" stdDeviation=\"2.0\"/><feColorMatrix in=\"blurOut\" result=\"blurOut2\" type=\"matrix\" values=\"0 0 0 0 0 0 0 0 0 0 0 0 0 0 0 0 0 0 .4 0\"/><feOffset dx=\"4.0\" dy=\"4.0\" in=\"blurOut2\" result=\"blurOut3\"/><feBlend in=\"SourceGraphic\" in2=\"blurOut3\" mode=\"normal\"/></filter></defs><g><!--MD5=[9844ecf9ec74e0cf1624fa0134c9f59b]\n",
       "class CUSTOMER--><g id=\"elem_CUSTOMER\"><rect codeLine=\"17\" fill=\"#EEEEEE\" filter=\"url(#f15f9x02o2k8xi)\" height=\"178.375\" id=\"CUSTOMER\" rx=\"2.5\" ry=\"2.5\" style=\"stroke:#2688D4;stroke-width:0.5;\" width=\"357.3333\" x=\"7\" y=\"7\"/><ellipse cx=\"141.4167\" cy=\"23\" fill=\"#FFFFFF\" rx=\"11\" ry=\"11\" style=\"stroke:#181818;stroke-width:1.0;\"/><path d=\"M142.2604,29.75 L139.8073,29.75 L139.8073,19.5 L136.6667,19.5 L136.6667,17.3594 L145.401,17.3594 L145.401,19.5 L142.2604,19.5 L142.2604,29.75 Z \" fill=\"#000000\"/><text fill=\"#000000\" font-family=\"sans-serif\" font-size=\"14\" lengthAdjust=\"spacing\" textLength=\"80\" x=\"161.9167\" y=\"27.8467\">CUSTOMER</text><line style=\"stroke:#2688D4;stroke-width:0.5;\" x1=\"8\" x2=\"363.3333\" y1=\"39\" y2=\"39\"/><ellipse cx=\"18\" cy=\"52.6484\" fill=\"#000000\" rx=\"3\" ry=\"3\" style=\"stroke:#000000;stroke-width:1.0;\"/><path d=\"M34.4167,46.4635 C32.8067,46.4635 31.5,47.7702 31.5,49.3802 C31.5,49.5669 31.5,49.7535 31.535,49.9285 L28,53.4635 L28,55.7969 L31.5,55.7969 L31.5,53.4635 L33.8333,53.4635 L33.8333,52.2969 L33.8683,52.2619 C34.0433,52.2969 34.23,52.2969 34.4167,52.2969 C36.0267,52.2969 37.3333,50.9902 37.3333,49.3802 C37.3333,47.7702 36.0267,46.4635 34.4167,46.4635 M35,47.6302 C35.6417,47.6302 36.1667,48.1552 36.1667,48.7969 C36.1667,49.4385 35.6417,49.9635 35,49.9635 C34.3583,49.9635 33.8333,49.4385 33.8333,48.7969 C33.8333,48.1552 34.3583,47.6302 35,47.6302 \" fill=\"#B8861B\" style=\"stroke:;stroke-width:0.0;stroke-dasharray:;\"/><text fill=\"#000000\" font-family=\"sans-serif\" font-size=\"14\" font-weight=\"bold\" lengthAdjust=\"spacing\" textLength=\"15\" x=\"43.3333\" y=\"55.9951\">ID</text><text fill=\"#000000\" font-family=\"sans-serif\" font-size=\"14\" lengthAdjust=\"spacing\" textLength=\"83\" x=\"58.3333\" y=\"55.9951\">: BIGINT(64)</text><line style=\"stroke:#2688D4;stroke-width:1.0;\" x1=\"8\" x2=\"363.3333\" y1=\"63.2969\" y2=\"63.2969\"/><path d=\"M31.5,70.7604 C29.5633,70.7604 28,72.3237 28,74.2604 C28,76.1971 29.5633,77.7604 31.5,77.7604 C33.4367,77.7604 35,76.1971 35,74.2604 C35,72.3237 33.4367,70.7604 31.5,70.7604 \" fill=\"#EFEFEF\" style=\"stroke:;stroke-width:0.0;stroke-dasharray:;\"/><text fill=\"#000000\" font-family=\"sans-serif\" font-size=\"14\" lengthAdjust=\"spacing\" textLength=\"155\" x=\"42.3333\" y=\"80.292\">BIRTHDATE: DATE(10)</text><path d=\"M31.5,87.0573 C29.5633,87.0573 28,88.6206 28,90.5573 C28,92.494 29.5633,94.0573 31.5,94.0573 C33.4367,94.0573 35,92.494 35,90.5573 C35,88.6206 33.4367,87.0573 31.5,87.0573 \" fill=\"#EFEFEF\" style=\"stroke:;stroke-width:0.0;stroke-dasharray:;\"/><text fill=\"#000000\" font-family=\"sans-serif\" font-size=\"14\" lengthAdjust=\"spacing\" textLength=\"227\" x=\"42.3333\" y=\"96.5889\">CREATIONDATE: TIMESTAMP(26)</text><ellipse cx=\"18\" cy=\"109.5391\" fill=\"#000000\" rx=\"3\" ry=\"3\" style=\"stroke:#000000;stroke-width:1.0;\"/><path d=\"M31.5,103.3542 C29.5633,103.3542 28,104.9175 28,106.8542 C28,108.7908 29.5633,110.3542 31.5,110.3542 C33.4367,110.3542 35,108.7908 35,106.8542 C35,104.9175 33.4367,103.3542 31.5,103.3542 \" fill=\"#EFEFEF\" style=\"stroke:;stroke-width:0.0;stroke-dasharray:;\"/><text fill=\"#000000\" font-family=\"sans-serif\" font-size=\"14\" lengthAdjust=\"spacing\" textLength=\"228\" x=\"42.3333\" y=\"112.8857\">EMAIL: CHARACTER VARYING(50)</text><ellipse cx=\"18\" cy=\"125.8359\" fill=\"#000000\" rx=\"3\" ry=\"3\" style=\"stroke:#000000;stroke-width:1.0;\"/><path d=\"M31.5,119.651 C29.5633,119.651 28,121.2144 28,123.151 C28,125.0877 29.5633,126.651 31.5,126.651 C33.4367,126.651 35,125.0877 35,123.151 C35,121.2144 33.4367,119.651 31.5,119.651 \" fill=\"#EFEFEF\" style=\"stroke:;stroke-width:0.0;stroke-dasharray:;\"/><text fill=\"#000000\" font-family=\"sans-serif\" font-size=\"14\" lengthAdjust=\"spacing\" textLength=\"267\" x=\"42.3333\" y=\"129.1826\">FIRSTNAME: CHARACTER VARYING(50)</text><ellipse cx=\"18\" cy=\"142.1328\" fill=\"#000000\" rx=\"3\" ry=\"3\" style=\"stroke:#000000;stroke-width:1.0;\"/><path d=\"M31.5,135.9479 C29.5633,135.9479 28,137.5113 28,139.4479 C28,141.3846 29.5633,142.9479 31.5,142.9479 C33.4367,142.9479 35,141.3846 35,139.4479 C35,137.5113 33.4367,135.9479 31.5,135.9479 \" fill=\"#EFEFEF\" style=\"stroke:;stroke-width:0.0;stroke-dasharray:;\"/><text fill=\"#000000\" font-family=\"sans-serif\" font-size=\"14\" lengthAdjust=\"spacing\" textLength=\"262\" x=\"42.3333\" y=\"145.4795\">LASTNAME: CHARACTER VARYING(50)</text><path d=\"M31.5,152.2448 C29.5633,152.2448 28,153.8081 28,155.7448 C28,157.6815 29.5633,159.2448 31.5,159.2448 C33.4367,159.2448 35,157.6815 35,155.7448 C35,153.8081 33.4367,152.2448 31.5,152.2448 \" fill=\"#EFEFEF\" style=\"stroke:;stroke-width:0.0;stroke-dasharray:;\"/><text fill=\"#000000\" font-family=\"sans-serif\" font-size=\"14\" lengthAdjust=\"spacing\" textLength=\"316\" x=\"42.3333\" y=\"161.7764\">PHOTO: BINARY LARGE OBJECT(2147483647)</text><path d=\"M31.5,168.5417 C29.5633,168.5417 28,170.105 28,172.0417 C28,173.9783 29.5633,175.5417 31.5,175.5417 C33.4367,175.5417 35,173.9783 35,172.0417 C35,170.105 33.4367,168.5417 31.5,168.5417 \" fill=\"#EFEFEF\" style=\"stroke:;stroke-width:0.0;stroke-dasharray:;\"/><text fill=\"#000000\" font-family=\"sans-serif\" font-size=\"14\" lengthAdjust=\"spacing\" textLength=\"158\" x=\"42.3333\" y=\"178.0732\">STATUS: SMALLINT(16)</text></g><!--MD5=[a1bb3181e61025b6e3b5f440bd393963]\n",
       "@startuml\r\n",
       "\r\n",
       " left to right direction\r\n",
       " skinparam roundcorner 5\r\n",
       " skinparam shadowing true\r\n",
       " skinparam handwritten false\r\n",
       " skinparam class {\r\n",
       "     BackgroundColor #EEEEEE\r\n",
       "     ArrowColor #2688d4\r\n",
       "     BorderColor #2688d4\r\n",
       " }\r\n",
       "\r\n",
       " !define primary_key(x) <b><color:#b8861b><&key></color> x</b>\r\n",
       " !define foreign_key(x) <color:#aaaaaa><&key></color> x\r\n",
       " !define column(x) <color:#efefef><&media-record></color> x\r\n",
       " !define table(x) entity x << (T, white) >>\r\n",
       "\r\n",
       "table(CUSTOMER) {\r\n",
       "\t* primary_key(ID): BIGINT(64)\r\n",
       "- -\r\n",
       "\t column(BIRTHDATE): DATE(10)\r\n",
       "\t column(CREATIONDATE): TIMESTAMP(26)\r\n",
       "\t* column(EMAIL): CHARACTER VARYING(50)\r\n",
       "\t* column(FIRSTNAME): CHARACTER VARYING(50)\r\n",
       "\t* column(LASTNAME): CHARACTER VARYING(50)\r\n",
       "\t column(PHOTO): BINARY LARGE OBJECT(2147483647)\r\n",
       "\t column(STATUS): SMALLINT(16)\r\n",
       "}\r\n",
       "@enduml\r\n",
       "\n",
       "@startuml\r\n",
       "\r\n",
       " left to right direction\r\n",
       " skinparam roundcorner 5\r\n",
       " skinparam shadowing true\r\n",
       " skinparam handwritten false\r\n",
       " skinparam class {\r\n",
       "     BackgroundColor #EEEEEE\r\n",
       "     ArrowColor #2688d4\r\n",
       "     BorderColor #2688d4\r\n",
       " }\r\n",
       "\r\n",
       "\r\n",
       "entity CUSTOMER << (T, white) >> {\r\n",
       "\t* <b><color:#b8861b><&key></color> ID</b>: BIGINT(64)\r\n",
       "- -\r\n",
       "\t <color:#efefef><&media-record></color> BIRTHDATE: DATE(10)\r\n",
       "\t <color:#efefef><&media-record></color> CREATIONDATE: TIMESTAMP(26)\r\n",
       "\t* <color:#efefef><&media-record></color> EMAIL: CHARACTER VARYING(50)\r\n",
       "\t* <color:#efefef><&media-record></color> FIRSTNAME: CHARACTER VARYING(50)\r\n",
       "\t* <color:#efefef><&media-record></color> LASTNAME: CHARACTER VARYING(50)\r\n",
       "\t <color:#efefef><&media-record></color> PHOTO: BINARY LARGE OBJECT(2147483647)\r\n",
       "\t <color:#efefef><&media-record></color> STATUS: SMALLINT(16)\r\n",
       "}\r\n",
       "@enduml\r\n",
       "\n",
       "PlantUML version 1.2022.12(Sun Oct 23 18:12:26 UTC 2022)\n",
       "(GPL source distribution)\n",
       "Java Runtime: OpenJDK Runtime Environment\n",
       "JVM: OpenJDK 64-Bit Server VM\n",
       "Default Encoding: UTF-8\n",
       "Language: en\n",
       "Country: US\n",
       "--></g></svg>"
      ]
     },
     "metadata": {},
     "output_type": "display_data"
    }
   ],
   "source": [
    "%%rdbmsSchema jdbc:h2:tcp://host.docker.internal/hellojpa-db dba secret\n",
    "CUSTOMER"
   ]
  },
  {
   "cell_type": "code",
   "execution_count": 12,
   "id": "c32e2c3b-6fe7-4d2d-b51a-f199499feaf7",
   "metadata": {
    "tags": [
     "remove-input"
    ]
   },
   "outputs": [
    {
     "name": "stdout",
     "output_type": "stream",
     "text": [
      "FIELD        | TYPE                  | NULL | KEY | DEFAULT\n",
      "ID           | BIGINT                | NO   | PRI | NULL\n",
      "BIRTHDATE    | DATE                  | YES  |     | NULL\n",
      "CREATIONDATE | TIMESTAMP(6)          | YES  |     | NULL\n",
      "EMAIL        | CHARACTER VARYING(50) | NO   | UNI | NULL\n",
      "FIRSTNAME    | CHARACTER VARYING(50) | NO   |     | NULL\n",
      "LASTNAME     | CHARACTER VARYING(50) | NO   |     | NULL\n",
      "PHOTO        | BINARY LARGE OBJECT   | YES  |     | NULL\n",
      "STATUS       | SMALLINT              | YES  |     | NULL\n",
      "(8 rows, 8 ms)\n"
     ]
    }
   ],
   "source": [
    "%%shell \n",
    "java -cp h2*.jar org.h2.tools.Shell \\\n",
    "  -url \"jdbc:h2:tcp://host.docker.internal/hellojpa-db\" \\\n",
    "  -user dba -password secret -sql \"SHOW COLUMNS FROM CUSTOMER\""
   ]
  },
  {
   "cell_type": "markdown",
   "id": "b4c67ab5-b48e-4d16-bc7e-c0495f1026eb",
   "metadata": {
    "tags": [],
    "user_expressions": []
   },
   "source": [
    "## Le gestionnaire d'entités\n",
    "\n",
    "Pour gérer les entité JPA s'appuie sur l'[entity manager](https://jakarta.ee/specifications/persistence/3.1/apidocs/jakarta.persistence/jakarta/persistence/entitymanager) (EM). Il fournit les opération CRUD de base et uen interface pour exécuter des requêtes. L'EM s'appuie sur des unités de persistances (des connexions à une base de données) qui sont définie dans un fichier XML `META-INF/persistence.xml` à la racine du classpath (donc dans `src/main/resources` avec Maven). Son schéma est défini dans le standard [https://jakarta.ee/xml/ns/persistence]([https://jakarta.ee/xml/ns/persistence) . Un exemple de base est donné ci-dessous : \n"
   ]
  },
  {
   "cell_type": "markdown",
   "id": "9ae1b6f1-3df3-4922-8367-09944441fd95",
   "metadata": {
    "user_expressions": []
   },
   "source": [
    "```{literalinclude} sample/META-INF/persistence.xml\n",
    ":language: xml\n",
    ":caption: META-INF/persistence.xml\n",
    ":name: META-INF/persistence.xml\n",
    "```"
   ]
  },
  {
   "cell_type": "markdown",
   "id": "54cea6a1-aee7-4a22-a112-6aeda654fc9b",
   "metadata": {
    "user_expressions": []
   },
   "source": [
    "### Création de l'EM et persistence d'une entité\n",
    "\n",
    "Pour obtenir un EM, on utilise l'[EntityManagerFactory](https://jakarta.ee/specifications/persistence/3.1/apidocs/jakarta.persistence/jakarta/persistence/entitymanagerfactory) (EMF) en indiquant le nom d'une persistence unit.\n",
    "La génération automatique éventuelle à lieu lors de la première utilise de l'EMF. \n",
    "\n",
    "A partir de l'entity manager, il est alors possible de commencer une transaction (`begin`), de rendre persistante une instance (`persist`) et de terminer la transcation (`commit` ou `rollback`).\n",
    "On note la mise à jour automatique de l'entity avec l'ID généré par la base de données. L'entity manager est prévu pour une locale et généralement brève, il doit être fermé après utilisation (`autocloseable`).\n",
    "\n",
    "```java\n",
    "try (EntityManagerFactory emf = Persistence.createEntityManagerFactory(\"hellojpa-pu\")) \n",
    "{\n",
    "    try (EntityManager entityManager = emf.createEntityManager()) {\n",
    "    }\n",
    "}    \n",
    "```"
   ]
  },
  {
   "cell_type": "markdown",
   "id": "8736967a-8a58-4e29-8e5f-8e141f61c6b0",
   "metadata": {
    "user_expressions": []
   },
   "source": [
    "La création d'un EMF est couteuse, on utilise donc généralement un singleton pour gérer l'EMF. "
   ]
  },
  {
   "cell_type": "code",
   "execution_count": 13,
   "id": "d0752047-c6d4-41c2-88f5-92d202cbddba",
   "metadata": {
    "user_expressions": []
   },
   "outputs": [
    {
     "name": "stdout",
     "output_type": "stream",
     "text": [
      "BEFORE PERSIST Customer(id=0, email=pierre.durand@ici.fr, name=null)\n",
      "AFTER PERSIST: Customer(id=1, email=pierre.durand@ici.fr, name=null)\n"
     ]
    }
   ],
   "source": [
    "import fr.univtln.bruno.demos.jpa.hello.samples.ex_simple.*;\n",
    "import fr.univtln.bruno.demos.jpa.hello.DatabaseManager;\n",
    "\n",
    "try (EntityManager entityManager = DatabaseManager.ENTITY_MANAGER_FACTORY.createEntityManager()) {\n",
    "        entityManager.getTransaction().begin();\n",
    "\n",
    "        Customer customer = Customer.of(\"pierre.durand@ici.fr\");\n",
    "        System.out.println(\"BEFORE PERSIST \"+customer.toString());\n",
    "\n",
    "        entityManager.persist(customer);\n",
    "        System.out.println(\"AFTER PERSIST: \"+customer.toString());\n",
    "        entityManager.getTransaction().commit();\n",
    "}"
   ]
  },
  {
   "cell_type": "markdown",
   "id": "1e55cb0e-4ed1-4848-b2f5-a01a69a6f5e4",
   "metadata": {
    "user_expressions": []
   },
   "source": [
    "A partir du moment ou une entité est liée au contexte de persistence (en venant d'être crée ou récupérée), la mise à jour dans la base est implicite (par de fonction dédié de l'entity manager). La transaction n'est nécessaire que pour les modifications."
   ]
  },
  {
   "cell_type": "code",
   "execution_count": 14,
   "id": "d81f5249-aa96-4e82-9ad5-c985138e413a",
   "metadata": {},
   "outputs": [],
   "source": [
    "try (EntityManager entityManager = \n",
    "  DatabaseManager.ENTITY_MANAGER_FACTORY.createEntityManager()) {\n",
    "    entityManager.getTransaction().begin();\n",
    "    Customer customer = Customer.of(\"pierre.durand@ici.fr\");\n",
    "    entityManager.persist(customer);\n",
    "    \n",
    "    customer.setName(\"Pierre\");\n",
    "        \n",
    "    entityManager.getTransaction().commit();\n",
    "}"
   ]
  },
  {
   "cell_type": "markdown",
   "id": "9562619a-1149-452c-90e6-d677fdc7af2b",
   "metadata": {
    "user_expressions": []
   },
   "source": [
    "L'entity manager propose une méthode de recherche par ID `find()` qui prend en paramètre la classe de l'entité recherche et la valeur de la clé. "
   ]
  },
  {
   "cell_type": "code",
   "execution_count": 15,
   "id": "cabfbc1c-1f4f-49c8-ba64-96ed1346fb90",
   "metadata": {},
   "outputs": [
    {
     "name": "stdout",
     "output_type": "stream",
     "text": [
      "Search cust. Id 1: Optional[Customer(id=1, email=pierre.durand@ici.fr, name=null)]\n"
     ]
    }
   ],
   "source": [
    "try (EntityManager entityManager = DatabaseManager.ENTITY_MANAGER_FACTORY.createEntityManager()) {\n",
    "    Optional<Customer> customer = Optional.ofNullable(entityManager.find(Customer.class, 1L));\n",
    "    \n",
    "    if (customer.isEmpty()) \n",
    "        System.out.println(\"Id 1 not in database.\");\n",
    "    else {\n",
    "        System.out.println(\"Search cust. Id 1: \"+customer);\n",
    "     }\n",
    "}"
   ]
  },
  {
   "cell_type": "markdown",
   "id": "9ce56750-b384-4105-b1d7-795303d56e33",
   "metadata": {
    "user_expressions": []
   },
   "source": [
    "`merge` attacher un objet au contexte de persistence (par son id), `refresh` annule les modifications en cours de transanction sur une entity et `detach` indique à l'EM de ne plus gérer une entité."
   ]
  },
  {
   "cell_type": "code",
   "execution_count": 16,
   "id": "55edcffe-ec52-4835-ae7e-3807f68e57c0",
   "metadata": {},
   "outputs": [
    {
     "name": "stdout",
     "output_type": "stream",
     "text": [
      "BEFORE MERGE Customer(id=1, email=pierre.durand@ici.fr, name=null)\n",
      "AFTER MERGE+REFRESH Customer(id=1, email=pierre.durand@ici.fr, name=null)\n"
     ]
    }
   ],
   "source": [
    "Customer customer = Customer.of(\"pierre.durand@ici.fr\");\n",
    "customer.setId(1L);\n",
    "System.out.println(\"BEFORE MERGE \"+customer.toString());\n",
    "\n",
    "try (EntityManager entityManager = DatabaseManager.ENTITY_MANAGER_FACTORY.createEntityManager()) {\n",
    "    entityManager.getTransaction().begin();\n",
    "    customer =  entityManager.merge(customer);\n",
    "    entityManager.refresh(customer);\n",
    "    entityManager.getTransaction().commit();    \n",
    "}\n",
    "\n",
    "System.out.println(\"AFTER MERGE+REFRESH \"+customer.toString());"
   ]
  },
  {
   "cell_type": "markdown",
   "id": "3788c7bb-f820-41d5-b32b-951b1943b6a0",
   "metadata": {
    "user_expressions": []
   },
   "source": [
    "L'entity manager propose une méthode `remove` pour supprimer une entité de la base de données. "
   ]
  },
  {
   "cell_type": "code",
   "execution_count": 17,
   "id": "abb2c4e1-5acc-445d-9d3a-a67541d9d470",
   "metadata": {},
   "outputs": [],
   "source": [
    "try (EntityManager entityManager = DatabaseManager.ENTITY_MANAGER_FACTORY.createEntityManager()) {\n",
    "    Optional<Customer> customer = Optional.ofNullable(entityManager.find(Customer.class, 1L));\n",
    "    \n",
    "    if (customer.isEmpty()) \n",
    "        System.out.println(\"Id 1 not in database.\");\n",
    "    else {\n",
    "        entityManager.getTransaction().begin();\n",
    "        entityManager.remove(customer.get());\n",
    "        entityManager.getTransaction().commit();\n",
    "    }\n",
    "}"
   ]
  },
  {
   "cell_type": "code",
   "execution_count": null,
   "id": "e1ad42e3-a281-4a58-a34a-c21407cdbf0d",
   "metadata": {},
   "outputs": [],
   "source": []
  },
  {
   "cell_type": "code",
   "execution_count": null,
   "id": "0ea63a5f-e1d5-4977-8374-616ace04c1d8",
   "metadata": {},
   "outputs": [],
   "source": []
  }
 ],
 "metadata": {
  "kernelspec": {
   "display_name": "Java [conda env:root] *",
   "language": "java",
   "name": "conda-root-java"
  },
  "language_info": {
   "codemirror_mode": "java",
   "file_extension": ".jshell",
   "mimetype": "text/x-java-source",
   "name": "Java",
   "pygments_lexer": "java",
   "version": "19.0.2+7"
  }
 },
 "nbformat": 4,
 "nbformat_minor": 5
}
