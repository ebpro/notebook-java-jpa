{
 "cells": [
  {
   "cell_type": "markdown",
   "id": "09e69212-1e54-44b6-8f61-ff9cd695e391",
   "metadata": {
    "tags": [],
    "user_expressions": []
   },
   "source": [
    "# Java Persistence API (JPA)"
   ]
  },
  {
   "cell_type": "markdown",
   "id": "ac1327e4-81dc-4846-98cf-e10aaa97b378",
   "metadata": {
    "user_expressions": []
   },
   "source": [
    "Let's consider the following array: {eval}`array`.A introduction to Jakarta Persistance API (JPA) a standard API from Object Relationnal Mapping for the Java language. \n",
    "\n",
    "```{warning}\n",
    "This notebook use the docker engine from the host. \n",
    "It only provides a docker client and docker-compose. \n",
    "```\n",
    "\n",
    "clone this repository, enter the directory and launch :\n",
    "\n",
    "```shell\n",
    "./run-with-docker.sh\n",
    "```\n"
   ]
  },
  {
   "cell_type": "markdown",
   "id": "e89015aa-8f33-44aa-a055-2ebc32ca6c80",
   "metadata": {
    "user_expressions": []
   },
   "source": [
    "This document is produced from"
   ]
  },
  {
   "cell_type": "code",
   "execution_count": 7,
   "id": "86b7a5b1-d775-4c64-82fd-11cd65f36b38",
   "metadata": {
    "tags": [
     "remove"
    ]
   },
   "outputs": [
    {
     "name": "stdout",
     "output_type": "stream",
     "text": [
      "https://github.com/ebpro/notebook-java-jpa.git\n",
      "Branch develop\n",
      "Commit a00388c\n",
      "Date 2023-03-22 19:03:13 UTC\n"
     ]
    }
   ],
   "source": [
    "git config --get remote.origin.url\n",
    "echo Branch $(git rev-parse --abbrev-ref HEAD)\n",
    "echo Commit $(git rev-parse --short HEAD)\n",
    "echo Date  $(date +'%Y-%m-%d %H:%m:%S') UTC "
   ]
  },
  {
   "cell_type": "markdown",
   "id": "a58ed388-7502-4754-8abd-d355ce4eb45a",
   "metadata": {
    "user_expressions": []
   },
   "source": [
    "The following tools are used :"
   ]
  },
  {
   "cell_type": "code",
   "execution_count": null,
   "id": "76d7ac3e-2097-41ac-b5ca-76ac6703ee60",
   "metadata": {
    "tags": [
     "remove-input"
    ]
   },
   "outputs": [
    {
     "name": "stdout",
     "output_type": "stream",
     "text": [
      "Docker client: 23.0.1\n",
      "Docker server: 20.10.23\n",
      "Docker Compose version v2.16.0\n",
      "github.com/docker/buildx v0.10.4 c513d34049e499c53468deac6c4267ee72948f02\n",
      "\n",
      "\u001b[1mApache Maven 3.8.7 (b89d5959fcde851dcb1c8946a785a163f14e1e29)\u001b[m\n",
      "Maven home: /home/jovyan/.sdkman/candidates/maven/current\n",
      "Java version: 19.0.2, vendor: Eclipse Adoptium, runtime: /home/jovyan/.sdkman/candidates/java/19.0.2-tem\n",
      "Default locale: en_US, platform encoding: UTF-8\n",
      "OS name: \"linux\", version: \"5.15.49-linuxkit\", arch: \"aarch64\", family: \"unix\"\n"
     ]
    }
   ],
   "source": [
    "echo Docker client: $(docker version --format '{{.Client.Version}}')\n",
    "echo Docker server: $(docker version --format '{{.Server.Version}}')\n",
    "docker compose version\n",
    "docker buildx version\n",
    "echo \n",
    "mvn --version"
   ]
  },
  {
   "cell_type": "code",
   "execution_count": null,
   "id": "b3d72846-da04-4036-86ac-9bb2be2a580b",
   "metadata": {},
   "outputs": [],
   "source": []
  }
 ],
 "metadata": {
  "kernelspec": {
   "display_name": "Z shell [conda env:root] *",
   "language": "zsh",
   "name": "conda-root-zsh"
  },
  "language_info": {
   "codemirror_mode": "shell",
   "file_extension": ".zsh",
   "mimetype": "text/x-zsh",
   "name": "zsh",
   "pygments_lexer": "shell",
   "version": "5.7.1"
  }
 },
 "nbformat": 4,
 "nbformat_minor": 5
}
