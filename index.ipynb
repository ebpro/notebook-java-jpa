{
 "cells": [
  {
   "cell_type": "markdown",
   "id": "24bf96b4-19fb-4844-a689-e9aa316fbad3",
   "metadata": {},
   "source": [
    "# Java Persistence API (JPA)\n",
    "\n",
    "\n",
    "JPA est une [spécification (actuellement en version 3.1)](https://jakarta.ee/specifications/persistence/3.1/jakarta-persistence-spec-3.1.html) concernant la liaison entre le modèle orienté objet de Java et le modèle relationnel (Object Relational Mapping - ORM). JPA est construit au dessus de [JDBC](https://docs.oracle.com/javase/8/docs/technotes/guides/jdbc/)"
   ]
  },
  {
   "cell_type": "code",
   "execution_count": 4,
   "id": "72dc91cc-72ab-4e0e-9c78-76188b00d83c",
   "metadata": {},
   "outputs": [],
   "source": [
    "%maven jakarta.persistence:jakarta.persistence-api:3.1.0"
   ]
  },
  {
   "cell_type": "markdown",
   "id": "2676e171-7063-411c-8ba9-bd056108c718",
   "metadata": {},
   "source": [
    "JPA possède trois parties principales : \n",
    " * La description des \"entités\" persistentes.\n",
    " * L'interaction de base (CRUD) avec la persistence.\n",
    " * L'interrogation native ou via un langage dédié.\n",
    " \n",
    " \n",
    "JPA génère donc automatiquement les requêtes SQL et leur mise en oeuvre avec JDBC. "
   ]
  },
  {
   "cell_type": "markdown",
   "id": "5c63d452-ae94-4ecf-897c-af0a0c4766d4",
   "metadata": {},
   "source": [
    "Plusieurs implantations de JPA existent dont :\n",
    "\n",
    "  * EclipseLink 4.0.0-M3\n",
    "  "
   ]
  },
  {
   "cell_type": "code",
   "execution_count": 5,
   "id": "fe8a0814-31a3-490d-ab67-dd85e6445053",
   "metadata": {},
   "outputs": [],
   "source": [
    "%maven org.eclipse.persistence:eclipselink:4.0.0-M3"
   ]
  },
  {
   "cell_type": "markdown",
   "id": "af1317b7-3f8c-48a4-8f75-bfc861821b82",
   "metadata": {},
   "source": [
    "  * Hibernate ORM 6.0.0.Final\n",
    "  \n",
    "`org.hibernate.orm:hibernate-core:6.1.6.Final`"
   ]
  },
  {
   "cell_type": "markdown",
   "id": "4d6c00bf-e883-4ef7-8173-246c902292a6",
   "metadata": {},
   "source": [
    "## Les entités"
   ]
  },
  {
   "cell_type": "code",
   "execution_count": 6,
   "id": "cad1e56c-a31f-4b50-9a10-10c69156b895",
   "metadata": {},
   "outputs": [],
   "source": [
    "%%loadFromPOM \n",
    "  <dependency>\n",
    "    <groupId>jakarta.persistence</groupId>\n",
    "    <artifactId>jakarta.persistence-api</artifactId>\n",
    "    <version>3.0.0</version>\n",
    "  </dependency>\n",
    "  <dependency>\n",
    "    <groupId>org.eclipse.persistence</groupId>\n",
    "    <artifactId>eclipselink</artifactId>\n",
    "    <version>3.0.3</version>\n",
    "  </dependency>"
   ]
  },
  {
   "cell_type": "code",
   "execution_count": 2,
   "id": "c404277f-592a-4752-adc5-34ecd0d5bb56",
   "metadata": {},
   "outputs": [],
   "source": [
    "%%compile fr/univtln/bruno/Location.java\n",
    "\n",
    "package fr.univtln.bruno;\n",
    "\n",
    "import jakarta.persistence.*;\n",
    "import lombok.*;           \n",
    "\n",
    "@Setter\n",
    "@Getter         \n",
    "@ToString\n",
    "@AllArgsConstructor(staticName=\"of\")\n",
    "@NoArgsConstructor\n",
    "@EqualsAndHashCode(onlyExplicitlyIncluded = true)\n",
    "\n",
    "@Entity @Table( name=\"LOCATION\" )\n",
    "public class Location {\n",
    "\n",
    " @EqualsAndHashCode.Include\n",
    " @Column( name=\"ID\" ) \n",
    " @Id\n",
    " private String id;\n",
    "    \n",
    " @Column( name=\"DESCRIPTION\" ) \n",
    " private String description;\n",
    "    \n",
    " @PrePersist\n",
    " public void logNewLocationAttempt() {\n",
    "    System.out.println(\"Attempting to add new location: \" + this);\n",
    " }     \n",
    "     \n",
    " @PostPersist\n",
    " public void logNewLocationAdded() {\n",
    "    System.out.println(\"Added new location: \" + this);     \n",
    " }\n",
    "}"
   ]
  },
  {
   "cell_type": "code",
   "execution_count": 3,
   "id": "20201ea8-6637-4f4d-9fee-197c9b16d8c3",
   "metadata": {},
   "outputs": [],
   "source": [
    "%%compile fr/univtln/bruno/Sensor.java\n",
    "\n",
    "package fr.univtln.bruno;\n",
    "\n",
    "import jakarta.persistence.*;\n",
    "import lombok.*;           \n",
    "\n",
    "@Setter\n",
    "@Getter         \n",
    "@ToString\n",
    "@AllArgsConstructor(staticName=\"of\")\n",
    "@NoArgsConstructor\n",
    "@EqualsAndHashCode(onlyExplicitlyIncluded = true)\n",
    "\n",
    "@Entity @Table( name=\"SENSOR\" )\n",
    "public class Sensor {\n",
    "\n",
    " public enum Type {CVC_TH, CVC_P, CVC_H, MO};\n",
    "    \n",
    " @EqualsAndHashCode.Include\n",
    " @Column( name=\"ID\" ) \n",
    " @Id\n",
    " @GeneratedValue\n",
    " private long id;\n",
    "     \n",
    " @Column( name=\"TYPE\")     \n",
    " private Type type;\n",
    "\n",
    " @ManyToOne\n",
    " @JoinColumn( name=\"LOCATION\" ) \n",
    " private Location location;\n",
    "}"
   ]
  },
  {
   "cell_type": "code",
   "execution_count": 4,
   "id": "a3c625d6-2980-4dda-9522-805ec3890419",
   "metadata": {},
   "outputs": [
    {
     "data": {
      "text/plain": [
       "{E00=Location(id=E00, description=Cuisine), E02=Location(id=E02, description=Salle à manger), E01=Location(id=E01, description=Salon), E03=Location(id=E03, description=Chambre)}"
      ]
     },
     "execution_count": 4,
     "metadata": {},
     "output_type": "execute_result"
    }
   ],
   "source": [
    "import java.util.stream.Stream;\n",
    "import fr.univtln.bruno.Location;\n",
    "Map<String, Location> locations = Stream.of(new String[][] { \n",
    "    {\"E00\",\"Cuisine\"},\n",
    "    {\"E01\",\"Salon\"},\n",
    "    {\"E02\",\"Salle à manger\"},\n",
    "    {\"E03\",\"Chambre\"}\n",
    "    }).collect(Collectors.collectingAndThen(\n",
    "        Collectors.toMap(data -> data[0], data -> Location.of(data[0], data[1])), \n",
    "        Collections::<String, Location> unmodifiableMap));\n",
    "\n",
    "locations;"
   ]
  },
  {
   "cell_type": "markdown",
   "id": "b4c67ab5-b48e-4d16-bc7e-c0495f1026eb",
   "metadata": {},
   "source": [
    "## Le gestionnaire d'entités\n",
    "L'entity manager"
   ]
  },
  {
   "cell_type": "code",
   "execution_count": 5,
   "id": "d66d7c50-8b29-4c57-b427-e38f76b59eb0",
   "metadata": {},
   "outputs": [
    {
     "name": "stdout",
     "output_type": "stream",
     "text": [
      "TCP server running at tcp://172.17.0.2:9092 (only local connections)\n"
     ]
    }
   ],
   "source": [
    "%jars h2*.jar\n",
    "import org.h2.tools.Server;\n",
    "import java.sql.SQLException;\n",
    "Server h2Server;\n",
    "try {\n",
    "        h2Server = Server.createTcpServer(new String[]{\"-ifNotExists\"}).start();\n",
    "        if (h2Server.isRunning(true)) {\n",
    "            System.out.println(h2Server.getStatus());\n",
    "        } else {\n",
    "            throw new RuntimeException(\"Could not start H2 server.\");\n",
    "        }\n",
    "    } catch (SQLException e) {\n",
    "        throw new RuntimeException(\"Failed to start H2 server: \", e);\n",
    "    }"
   ]
  },
  {
   "cell_type": "code",
   "execution_count": 6,
   "id": "a02d9e24-16f2-4cd4-afc7-ef59956354a6",
   "metadata": {},
   "outputs": [
    {
     "name": "stdout",
     "output_type": "stream",
     "text": [
      "[EL Info]: 2023-01-20 10:38:33.076--ServerSession(1903532207)--EclipseLink, version: Eclipse Persistence Services - 3.0.3.v202208191135\n",
      "[EL Fine]: sql: 2023-01-20 10:38:33.19--ServerSession(1903532207)--Connection(1665435422)--ALTER TABLE SENSOR DROP CONSTRAINT FK_SENSOR_LOCATION\n",
      "[EL Fine]: sql: 2023-01-20 10:38:33.192--ServerSession(1903532207)--SELECT 1\n",
      "[EL Fine]: sql: 2023-01-20 10:38:33.195--ServerSession(1903532207)--Connection(1665435422)--DROP TABLE LOCATION\n",
      "[EL Fine]: sql: 2023-01-20 10:38:33.196--ServerSession(1903532207)--Connection(1665435422)--DROP TABLE SENSOR\n",
      "[EL Fine]: sql: 2023-01-20 10:38:33.198--ServerSession(1903532207)--SELECT 1\n",
      "[EL Fine]: sql: 2023-01-20 10:38:33.199--ServerSession(1903532207)--Connection(1665435422)--DROP TABLE SENSOR\n",
      "[EL Fine]: sql: 2023-01-20 10:38:33.199--ServerSession(1903532207)--SELECT 1\n",
      "[EL Fine]: sql: 2023-01-20 10:38:33.2--ServerSession(1903532207)--Connection(1665435422)--DROP TABLE SENSOR\n",
      "[EL Fine]: sql: 2023-01-20 10:38:33.2--ServerSession(1903532207)--SELECT 1\n",
      "[EL Fine]: sql: 2023-01-20 10:38:33.201--ServerSession(1903532207)--Connection(1665435422)--DROP TABLE SENSOR\n",
      "[EL Fine]: sql: 2023-01-20 10:38:33.202--ServerSession(1903532207)--SELECT 1\n",
      "[EL Fine]: sql: 2023-01-20 10:38:33.203--ServerSession(1903532207)--Connection(1665435422)--DROP TABLE SENSOR\n",
      "[EL Fine]: sql: 2023-01-20 10:38:33.203--ServerSession(1903532207)--SELECT 1\n",
      "[EL Fine]: sql: 2023-01-20 10:38:33.204--ServerSession(1903532207)--Connection(1665435422)--DELETE FROM SEQUENCE WHERE SEQ_NAME = 'SEQ_GEN'\n",
      "[EL Fine]: sql: 2023-01-20 10:38:33.205--ServerSession(1903532207)--SELECT 1\n",
      "[EL Warning]: 2023-01-20 10:38:33.205--ServerSession(1903532207)--Exception [EclipseLink-4002] (Eclipse Persistence Services - 3.0.3.v202208191135): org.eclipse.persistence.exceptions.DatabaseException\n",
      "Internal Exception: org.h2.jdbc.JdbcSQLSyntaxErrorException: Table \"sequence\" not found (this database is empty); SQL statement:\n",
      "DELETE FROM SEQUENCE WHERE SEQ_NAME = 'SEQ_GEN' [42104-214]\n",
      "\tat org.h2.message.DbException.getJdbcSQLException(DbException.java:502)\n",
      "\tat org.h2.message.DbException.getJdbcSQLException(DbException.java:477)\n",
      "\tat org.h2.message.DbException.get(DbException.java:223)\n",
      "\tat org.h2.message.DbException.get(DbException.java:199)\n",
      "\tat org.h2.command.Parser.getTableOrViewNotFoundDbException(Parser.java:8385)\n",
      "\tat org.h2.command.Parser.getTableOrViewNotFoundDbException(Parser.java:8369)\n",
      "\tat org.h2.command.Parser.readTableOrView(Parser.java:8358)\n",
      "\tat org.h2.command.Parser.readTableOrView(Parser.java:8328)\n",
      "\tat org.h2.command.Parser.readSimpleTableFilter(Parser.java:1160)\n",
      "\tat org.h2.command.Parser.parseDelete(Parser.java:1174)\n",
      "\tat org.h2.command.Parser.parsePrepared(Parser.java:774)\n",
      "\tat org.h2.command.Parser.parse(Parser.java:689)\n",
      "\tat org.h2.command.Parser.parse(Parser.java:661)\n",
      "\tat org.h2.command.Parser.prepareCommand(Parser.java:569)\n",
      "\tat org.h2.engine.SessionLocal.prepareLocal(SessionLocal.java:631)\n",
      "\tat org.h2.server.TcpServerThread.process(TcpServerThread.java:288)\n",
      "\tat org.h2.server.TcpServerThread.run(TcpServerThread.java:191)\n",
      "\tat java.base/java.lang.Thread.run(Thread.java:833)\n",
      "\n",
      "Error Code: 42104\n",
      "Call: DELETE FROM SEQUENCE WHERE SEQ_NAME = 'SEQ_GEN'\n",
      "Query: DataModifyQuery(sql=\"DELETE FROM SEQUENCE WHERE SEQ_NAME = 'SEQ_GEN'\")\n",
      "[EL Fine]: sql: 2023-01-20 10:38:33.207--ServerSession(1903532207)--Connection(1665435422)--CREATE TABLE LOCATION (ID VARCHAR NOT NULL, DESCRIPTION VARCHAR, PRIMARY KEY (ID))\n",
      "[EL Fine]: sql: 2023-01-20 10:38:33.21--ServerSession(1903532207)--Connection(1665435422)--CREATE TABLE SENSOR (ID BIGINT NOT NULL, TYPE INTEGER, LOCATION VARCHAR, PRIMARY KEY (ID))\n",
      "[EL Fine]: sql: 2023-01-20 10:38:33.21--ServerSession(1903532207)--Connection(1665435422)--ALTER TABLE SENSOR ADD CONSTRAINT FK_SENSOR_LOCATION FOREIGN KEY (LOCATION) REFERENCES LOCATION (ID)\n",
      "[EL Fine]: sql: 2023-01-20 10:38:33.214--ServerSession(1903532207)--Connection(1665435422)--CREATE TABLE SEQUENCE (SEQ_NAME VARCHAR(50) NOT NULL, SEQ_COUNT NUMERIC(38), PRIMARY KEY (SEQ_NAME))\n",
      "[EL Fine]: sql: 2023-01-20 10:38:33.216--ServerSession(1903532207)--Connection(1665435422)--SELECT * FROM SEQUENCE WHERE SEQ_NAME = 'SEQ_GEN'\n",
      "[EL Fine]: sql: 2023-01-20 10:38:33.219--ServerSession(1903532207)--Connection(1665435422)--INSERT INTO SEQUENCE(SEQ_NAME, SEQ_COUNT) values ('SEQ_GEN', 0)\n"
     ]
    }
   ],
   "source": [
    "%jars persistence.jar\n",
    "%jars h2*.jar\n",
    "    \n",
    "import jakarta.persistence.EntityManager;\n",
    "import jakarta.persistence.EntityManagerFactory;\n",
    "import jakarta.persistence.EntityTransaction;\n",
    "import jakarta.persistence.Persistence;\n",
    "\n",
    "EntityManagerFactory entityManagerFactory = Persistence.createEntityManagerFactory(\"sensors_pu\");"
   ]
  },
  {
   "cell_type": "code",
   "execution_count": 7,
   "id": "d94de542-43c0-4594-9d35-13dabddb8003",
   "metadata": {},
   "outputs": [
    {
     "name": "stdout",
     "output_type": "stream",
     "text": [
      "Attempting to add new location: Location(id=E00, description=Cuisine)\n",
      "Attempting to add new location: Location(id=E02, description=Salle à manger)\n",
      "Attempting to add new location: Location(id=E01, description=Salon)\n",
      "Attempting to add new location: Location(id=E03, description=Chambre)\n",
      "[EL Fine]: sql: 2023-01-20 10:38:33.497--ClientSession(1541892169)--Connection(1665435422)--INSERT INTO LOCATION (ID, DESCRIPTION) VALUES (?, ?)\n",
      "\tbind => [E00, Cuisine]\n",
      "Added new location: Location(id=E00, description=Cuisine)\n",
      "[EL Fine]: sql: 2023-01-20 10:38:33.499--ClientSession(1541892169)--Connection(1665435422)--INSERT INTO LOCATION (ID, DESCRIPTION) VALUES (?, ?)\n",
      "\tbind => [E01, Salon]\n",
      "Added new location: Location(id=E01, description=Salon)\n",
      "[EL Fine]: sql: 2023-01-20 10:38:33.499--ClientSession(1541892169)--Connection(1665435422)--INSERT INTO LOCATION (ID, DESCRIPTION) VALUES (?, ?)\n",
      "\tbind => [E03, Chambre]\n",
      "Added new location: Location(id=E03, description=Chambre)\n",
      "[EL Fine]: sql: 2023-01-20 10:38:33.501--ClientSession(1541892169)--Connection(1665435422)--INSERT INTO LOCATION (ID, DESCRIPTION) VALUES (?, ?)\n",
      "\tbind => [E02, Salle à manger]\n",
      "Added new location: Location(id=E02, description=Salle à manger)\n"
     ]
    }
   ],
   "source": [
    "EntityManager entityManager = entityManagerFactory.createEntityManager();\n",
    "\n",
    "entityManager.getTransaction().begin();\n",
    "locations.values().stream().forEach(l->entityManager.persist(l));\n",
    "entityManager.getTransaction().commit();\n",
    "\n",
    "entityManager.close();"
   ]
  },
  {
   "cell_type": "code",
   "execution_count": 8,
   "id": "be3f4e1c-feb5-496e-a791-0141c9ed48d7",
   "metadata": {},
   "outputs": [
    {
     "name": "stdout",
     "output_type": "stream",
     "text": [
      "Location(id=E00, description=Cuisine)\n"
     ]
    }
   ],
   "source": [
    "EntityManager entityManager = entityManagerFactory.createEntityManager();\n",
    "Location location = entityManager.find(Location.class, \"E00\");\n",
    "System.out.println(location);"
   ]
  },
  {
   "cell_type": "markdown",
   "id": "a93f4d12-4dec-4791-bf46-29e079b3757b",
   "metadata": {},
   "source": [
    "## Les identifiants"
   ]
  },
  {
   "cell_type": "code",
   "execution_count": 9,
   "id": "8baf3bb9-d970-463e-b216-f8dc46bc82d2",
   "metadata": {},
   "outputs": [
    {
     "name": "stdout",
     "output_type": "stream",
     "text": [
      "class fr.univtln.bruno.Sensor\n",
      "class fr.univtln.bruno.Sensor\n",
      "class fr.univtln.bruno.Sensor\n",
      "[EL Fine]: sql: 2023-01-20 10:38:33.97--ClientSession(1709325021)--Connection(1665435422)--UPDATE SEQUENCE SET SEQ_COUNT = SEQ_COUNT + ? WHERE SEQ_NAME = ?\n",
      "\tbind => [50, SEQ_GEN]\n",
      "[EL Fine]: sql: 2023-01-20 10:38:33.972--ClientSession(1709325021)--Connection(1665435422)--SELECT SEQ_COUNT FROM SEQUENCE WHERE SEQ_NAME = ?\n",
      "\tbind => [SEQ_GEN]\n",
      "[EL Fine]: sql: 2023-01-20 10:38:34.013--ClientSession(1709325021)--Connection(1665435422)--INSERT INTO SENSOR (ID, TYPE, LOCATION) VALUES (?, ?, ?)\n",
      "\tbind => [3, 3, E01]\n",
      "[EL Fine]: sql: 2023-01-20 10:38:34.015--ClientSession(1709325021)--Connection(1665435422)--INSERT INTO SENSOR (ID, TYPE, LOCATION) VALUES (?, ?, ?)\n",
      "\tbind => [2, 3, E00]\n",
      "[EL Fine]: sql: 2023-01-20 10:38:34.016--ClientSession(1709325021)--Connection(1665435422)--INSERT INTO SENSOR (ID, TYPE, LOCATION) VALUES (?, ?, ?)\n",
      "\tbind => [1, 0, E00]\n"
     ]
    }
   ],
   "source": [
    "import fr.univtln.bruno.Sensor;\n",
    "\n",
    "EntityManager entityManager = entityManagerFactory.createEntityManager();\n",
    "\n",
    "List<Sensor> sensors = Arrays.asList(Sensor.of(0,Sensor.Type.CVC_TH, locations.get(\"E00\")),\n",
    "    Sensor.of(0,Sensor.Type.MO, locations.get(\"E00\")),\n",
    "    Sensor.of(0,Sensor.Type.MO, locations.get(\"E01\")));\n",
    "\n",
    "entityManager.getTransaction().begin();\n",
    "sensors.forEach(entityManager::persist);\n",
    "entityManager.getTransaction().commit();\n",
    "\n",
    "entityManager.close();    "
   ]
  },
  {
   "cell_type": "markdown",
   "id": "d5700076-7ac3-42c5-b49a-7e3f83bc4a11",
   "metadata": {},
   "source": [
    "## Les relations entre entités\n",
    "\n",
    "## L'héritage\n",
    "\n",
    "## L'interrogation\n",
    "JPQL\n",
    "\n",
    "## Concurrence\n",
    "\n",
    "## Avancé\n",
    "### Contrôle des attributs\n",
    "### Cycle de vie"
   ]
  },
  {
   "cell_type": "code",
   "execution_count": 14,
   "id": "ad084b50-2c8d-460d-b6b4-2c0d03f45af0",
   "metadata": {},
   "outputs": [
    {
     "data": {
      "text/plain": [
       "table_name | table_schema\n",
       "location   | public\n",
       "sensor     | public\n",
       "sequence   | public\n",
       "(3 rows, 3 ms)\n",
       "field       | type              | NULL | key | default\n",
       "id          | CHARACTER VARYING | NO   | PRI | NULL\n",
       "description | CHARACTER VARYING | YES  |     | NULL\n",
       "(2 rows, 1 ms)\n",
       "id  | description\n",
       "E00 | Cuisine\n",
       "E01 | Salon\n",
       "E03 | Chambre\n",
       "E02 | Salle à manger\n",
       "(4 rows, 0 ms)\n"
      ]
     },
     "metadata": {},
     "output_type": "display_data"
    }
   ],
   "source": [
    "%%shell \n",
    "java -cp h2*.jar org.h2.tools.Shell \\\n",
    "  -url \"jdbc:h2:tcp://localhost/~/sensors;MODE=PostgreSQL;DATABASE_TO_LOWER=TRUE;DEFAULT_NULL_ORDERING=HIGH\" \\\n",
    "  -user demoJPA -password demoJPA -sql \"SHOW TABLES; SHOW COLUMNS FROM LOCATION; SELECT * FROM LOCATION\""
   ]
  },
  {
   "cell_type": "code",
   "execution_count": 11,
   "id": "1bfd5310-cef6-41c9-8c38-3d2f3d9e9b7c",
   "metadata": {},
   "outputs": [],
   "source": [
    "%%loadFromPOM\n",
    "<dependency>\n",
    "    <groupId>tech.tablesaw</groupId>\n",
    "    <artifactId>tablesaw-jsplot</artifactId>\n",
    "    <version>0.43.1</version>\n",
    "</dependency>"
   ]
  },
  {
   "cell_type": "code",
   "execution_count": 15,
   "id": "4ceff601-e625-4e8a-a873-b3950093b5e1",
   "metadata": {},
   "outputs": [
    {
     "data": {
      "text/plain": [
       "         LOCATION         \n",
       " id   |   description    |\n",
       "--------------------------\n",
       " E00  |         Cuisine  |\n",
       " E01  |           Salon  |\n",
       " E03  |         Chambre  |\n",
       " E02  |  Salle à manger  |"
      ]
     },
     "execution_count": 15,
     "metadata": {},
     "output_type": "execute_result"
    }
   ],
   "source": [
    "import java.sql.Connection;\n",
    "import java.sql.Statement;\n",
    "import java.sql.DriverManager;\n",
    "import java.sql.ResultSet;\n",
    "import tech.tablesaw.api.Table;\n",
    "\n",
    "String DB_URL = \"jdbc:h2:tcp://localhost/~/sensors;MODE=PostgreSQL;DATABASE_TO_LOWER=TRUE;DEFAULT_NULL_ORDERING=HIGH\";\n",
    "Connection conn = DriverManager.getConnection(DB_URL,\"demoJPA\",\"demoJPA\");\n",
    "\n",
    "Table table = null; \n",
    "try (Statement stmt = conn.createStatement()) {\n",
    "  String sql = \"SELECT * FROM LOCATION\";\n",
    "  try (ResultSet results = stmt.executeQuery(sql)) {\n",
    "    table = Table.read().db(results, \"LOCATION\");\n",
    "  }\n",
    "}\n",
    "\n",
    "table;"
   ]
  },
  {
   "cell_type": "code",
   "execution_count": 16,
   "id": "cb0858f8-64cb-4989-99f6-f4afe93f75e1",
   "metadata": {},
   "outputs": [
    {
     "data": {
      "text/plain": [
       "           SENSOR           \n",
       " id  |  type  |  location  |\n",
       "----------------------------\n",
       "  1  |     0  |       E00  |\n",
       "  2  |     3  |       E00  |\n",
       "  3  |     3  |       E01  |"
      ]
     },
     "execution_count": 16,
     "metadata": {},
     "output_type": "execute_result"
    }
   ],
   "source": [
    "import java.sql.Connection;\n",
    "import java.sql.Statement;\n",
    "import java.sql.DriverManager;\n",
    "import java.sql.ResultSet;\n",
    "import tech.tablesaw.api.Table;\n",
    "\n",
    "String DB_URL = \"jdbc:h2:tcp://localhost/~/sensors;MODE=PostgreSQL;DATABASE_TO_LOWER=TRUE;DEFAULT_NULL_ORDERING=HIGH\";\n",
    "Connection conn = DriverManager.getConnection(DB_URL,\"demoJPA\",\"demoJPA\");\n",
    "\n",
    "Table table = null; \n",
    "try (Statement stmt = conn.createStatement()) {\n",
    "  String sql = \"SELECT * FROM SENSOR\";\n",
    "  try (ResultSet results = stmt.executeQuery(sql)) {\n",
    "    table = Table.read().db(results, \"SENSOR\");\n",
    "  }\n",
    "}\n",
    "\n",
    "table;"
   ]
  },
  {
   "cell_type": "code",
   "execution_count": 13,
   "id": "8b903bb8-1e9f-4fb7-87dc-9f72b7d28686",
   "metadata": {},
   "outputs": [],
   "source": [
    "//h2Server.stop();"
   ]
  },
  {
   "cell_type": "code",
   "execution_count": null,
   "id": "b2b76fc6-7695-45a3-819f-4dba2c7f2e2a",
   "metadata": {},
   "outputs": [],
   "source": []
  },
  {
   "cell_type": "code",
   "execution_count": null,
   "id": "78a50d19-53b9-466c-b421-056f927ddb52",
   "metadata": {},
   "outputs": [],
   "source": []
  }
 ],
 "metadata": {
  "kernelspec": {
   "display_name": "Java [conda env:root] *",
   "language": "java",
   "name": "conda-root-java"
  },
  "language_info": {
   "codemirror_mode": "java",
   "file_extension": ".jshell",
   "mimetype": "text/x-java-source",
   "name": "Java",
   "pygments_lexer": "java",
   "version": "17.0.6+10"
  }
 },
 "nbformat": 4,
 "nbformat_minor": 5
}
