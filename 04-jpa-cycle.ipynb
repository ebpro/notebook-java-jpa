{
 "cells": [
  {
   "cell_type": "markdown",
   "id": "a5deb0e1-d627-4502-a0ce-da4733084d5b",
   "metadata": {
    "tags": [],
    "user_expressions": []
   },
   "source": [
    "## Le cycle de vie"
   ]
  },
  {
   "cell_type": "code",
   "execution_count": 1,
   "id": "2d1433f5-ee54-482a-a833-394b665512de",
   "metadata": {
    "tags": [
     "remove-cell"
    ]
   },
   "outputs": [],
   "source": [
    "%%shell\n",
    "(cd samples/hellojpa && mvn --quiet clean package )"
   ]
  },
  {
   "cell_type": "code",
   "execution_count": 72,
   "id": "6654b090-8230-423b-9e3d-31957bbaf9a2",
   "metadata": {
    "tags": [
     "remove-cell"
    ]
   },
   "outputs": [
    {
     "name": "stdout",
     "output_type": "stream",
     "text": [
      "H2-JPADemo\n"
     ]
    }
   ],
   "source": [
    "%%shell\n",
    "docker start H2-JPADemo || docker run --quiet --detach --rm --name=H2-JPADemo \\\n",
    "    -e PUID=$UID -e PGID=$GID \\\n",
    "    -e H2_ARGS=\"-tcp -tcpAllowOthers -ifNotExists\" \\\n",
    "    -p 9092:9092 \\\n",
    "    -v h2-data:/opt/h2-data \\\n",
    "    brunoe/docker-database-h2:develop"
   ]
  },
  {
   "cell_type": "code",
   "execution_count": 2,
   "id": "40fdf3f7-a727-457d-8099-9fb3fab4d31b",
   "metadata": {
    "tags": [
     "remove-cell"
    ]
   },
   "outputs": [
    {
     "name": "stdout",
     "output_type": "stream",
     "text": [
      "18:19:25.501 INFO  f.u.b.d.jpa.hello.DatabaseManager - Override JPA config jakarta.persistence.jdbc.url with system property jakarta.persistence.jdbc.url\n",
      "18:19:25.505 INFO  f.u.b.d.jpa.hello.DatabaseManager - Override JPA config jakarta.persistence.jdbc.user with system property jakarta.persistence.jdbc.user\n",
      "18:19:25.506 INFO  f.u.b.d.jpa.hello.DatabaseManager - Override JPA config jakarta.persistence.jdbc.password with system property jakarta.persistence.jdbc.password\n",
      "18:19:27.078 INFO  com.mchange.v2.log.MLog - MLog clients using slf4j logging.\n",
      "18:19:27.309 INFO  SQL dialect - HHH000400: Using dialect: org.hibernate.dialect.H2Dialect\n"
     ]
    }
   ],
   "source": [
    "%jars samples/hellojpa/target/*-SNAPSHOT-jar-with-dependencies.jar\n",
    "\n",
    "import jakarta.persistence.*;\n",
    "import fr.univtln.bruno.demos.jpa.hello.DatabaseManager;\n",
    "System.setProperty(\"jakarta.persistence.jdbc.url\",\"jdbc:h2:tcp://host.docker.internal/hellojpa-db\");\n",
    "\n",
    "try (EntityManager entityManager = DatabaseManager.ENTITY_MANAGER_FACTORY.createEntityManager()) { }"
   ]
  },
  {
   "cell_type": "code",
   "execution_count": 4,
   "id": "4348d124-ab52-40da-a563-3434536b5935",
   "metadata": {
    "tags": [
     "remove-cell"
    ]
   },
   "outputs": [],
   "source": [
    "import org.slf4j.Logger;\n",
    "import org.slf4j.LoggerFactory;\n",
    "\n",
    "Logger log = LoggerFactory.getLogger(\"Notebook\");"
   ]
  },
  {
   "cell_type": "code",
   "execution_count": 3,
   "id": "d2ad56ab-e459-4ac7-8948-4d3ff3f0d267",
   "metadata": {},
   "outputs": [
    {
     "data": {
      "text/markdown": [
       "```Java\n",
       "@Entity\n",
       "@Data\n",
       "@RequiredArgsConstructor(staticName = \"of\")\n",
       "@NoArgsConstructor(access = AccessLevel.PROTECTED)\n",
       "@Table(name = \"CUSTOMER\", schema = \"EX_HOOK\")\n",
       "@Slf4j\n",
       "public class Customer {\n",
       "\n",
       "    @Id\n",
       "    @GeneratedValue\n",
       "    private long id;\n",
       "\n",
       "    @NonNull\n",
       "    private String name;\n",
       "\n",
       "    @PrePersist\n",
       "    public void logPrePersist() {\n",
       "        log.info(\"About to persist: \" + this);\n",
       "    }\n",
       "\n",
       "    @PostPersist\n",
       "    public void logPostPersist() {\n",
       "        log.info(\"Persisted: \" + this);\n",
       "    }\n",
       "\n",
       "    @PreUpdate\n",
       "    public void logPPreUpdate() {\n",
       "        log.info(\"About to update: \" + this);\n",
       "    }\n",
       "\n",
       "    @PostUpdate\n",
       "    public void logPostUpdate() {\n",
       "        log.info(\"Removed: \" + this);\n",
       "    }\n",
       "\n",
       "    @PreRemove\n",
       "    public void logPPreRemove() {\n",
       "        log.info(\"About to remove: \" + this);\n",
       "    }\n",
       "\n",
       "    @PostRemove\n",
       "    public void logPostRemove() {\n",
       "        log.info(\"Removed: \" + this);\n",
       "    }\n",
       "\n",
       "    @PostLoad\n",
       "    public void logPostLoad() {\n",
       "        log.info(\"Loaded: \" + this);\n",
       "    }\n",
       "}\n",
       "```"
      ],
      "text/plain": [
       "```Java\n",
       "@Entity\n",
       "@Data\n",
       "@RequiredArgsConstructor(staticName = \"of\")\n",
       "@NoArgsConstructor(access = AccessLevel.PROTECTED)\n",
       "@Table(name = \"CUSTOMER\", schema = \"EX_HOOK\")\n",
       "@Slf4j\n",
       "public class Customer {\n",
       "\n",
       "    @Id\n",
       "    @GeneratedValue\n",
       "    private long id;\n",
       "\n",
       "    @NonNull\n",
       "    private String name;\n",
       "\n",
       "    @PrePersist\n",
       "    public void logPrePersist() {\n",
       "        log.info(\"About to persist: \" + this);\n",
       "    }\n",
       "\n",
       "    @PostPersist\n",
       "    public void logPostPersist() {\n",
       "        log.info(\"Persisted: \" + this);\n",
       "    }\n",
       "\n",
       "    @PreUpdate\n",
       "    public void logPPreUpdate() {\n",
       "        log.info(\"About to update: \" + this);\n",
       "    }\n",
       "\n",
       "    @PostUpdate\n",
       "    public void logPostUpdate() {\n",
       "        log.info(\"Removed: \" + this);\n",
       "    }\n",
       "\n",
       "    @PreRemove\n",
       "    public void logPPreRemove() {\n",
       "        log.info(\"About to remove: \" + this);\n",
       "    }\n",
       "\n",
       "    @PostRemove\n",
       "    public void logPostRemove() {\n",
       "        log.info(\"Removed: \" + this);\n",
       "    }\n",
       "\n",
       "    @PostLoad\n",
       "    public void logPostLoad() {\n",
       "        log.info(\"Loaded: \" + this);\n",
       "    }\n",
       "}\n",
       "```"
      ]
     },
     "metadata": {},
     "output_type": "display_data"
    }
   ],
   "source": [
    "%%javasrcClassByName Customer\n",
    "samples/hellojpa/src/main/java/fr/univtln/bruno/demos/jpa/hello/samples/ex_hook/Customer.java"
   ]
  },
  {
   "cell_type": "code",
   "execution_count": 5,
   "id": "ad595760-066c-478e-a800-e33a99d99756",
   "metadata": {},
   "outputs": [
    {
     "name": "stdout",
     "output_type": "stream",
     "text": [
      "18:19:28.770 INFO  Notebook - Customer(id=0, name=Peter)\n",
      "18:19:28.777 INFO  f.u.b.d.j.h.samples.ex_hook.Customer - About to persist: Customer(id=0, name=Peter)\n",
      "18:19:28.855 INFO  f.u.b.d.j.h.samples.ex_hook.Customer - About to update: Customer(id=1, name=Pierre)\n",
      "18:19:28.867 INFO  f.u.b.d.j.h.samples.ex_hook.Customer - Persisted: Customer(id=1, name=Pierre)\n",
      "18:19:28.872 INFO  f.u.b.d.j.h.samples.ex_hook.Customer - Removed: Customer(id=1, name=Pierre)\n",
      "18:19:28.904 INFO  f.u.b.d.j.h.samples.ex_hook.Customer - Loaded: Customer(id=1, name=Pierre)\n",
      "18:19:28.911 INFO  Notebook - FOUND Customer(id=1, name=Pierre)\n",
      "18:19:28.914 INFO  f.u.b.d.j.h.samples.ex_hook.Customer - About to remove: Customer(id=1, name=Pierre)\n",
      "18:19:28.919 INFO  f.u.b.d.j.h.samples.ex_hook.Customer - Removed: Customer(id=1, name=Pierre)\n"
     ]
    }
   ],
   "source": [
    "import fr.univtln.bruno.demos.jpa.hello.samples.ex_hook.Customer;\n",
    "\n",
    "            try (EntityManager entityManager = DatabaseManager.ENTITY_MANAGER_FACTORY.createEntityManager()) {\n",
    "\n",
    "                entityManager.getTransaction().begin();\n",
    "                Customer customer = Customer.of(\"Peter\");\n",
    "                log.info(customer.toString());\n",
    "                entityManager.persist(customer);\n",
    "                customer.setName(\"Pierre\");\n",
    "                entityManager.getTransaction().commit();\n",
    "                try (EntityManager anotherEM = DatabaseManager.ENTITY_MANAGER_FACTORY.createEntityManager()) {\n",
    "                    log.info(\"FOUND \" + anotherEM.find(Customer.class, 1L));\n",
    "                }\n",
    "                entityManager.getTransaction().begin();\n",
    "                entityManager.remove(customer);\n",
    "                entityManager.getTransaction().commit();\n",
    "            }\n"
   ]
  },
  {
   "cell_type": "code",
   "execution_count": 6,
   "id": "72e14fc7-fe0b-477d-9ed1-4fbbf87627fe",
   "metadata": {},
   "outputs": [
    {
     "data": {
      "text/markdown": [
       "```Java\n",
       "@Slf4j\n",
       "public class EntityMonitorListener {\n",
       "\n",
       "    @PrePersist\n",
       "    @PreUpdate\n",
       "    @PreRemove\n",
       "    private void beforeAnyUpdate(Object entity) {\n",
       "        log.info(\"-->about to change in DB: \" + entity);\n",
       "    }\n",
       "\n",
       "    @PostPersist\n",
       "    @PostUpdate\n",
       "    @PostRemove\n",
       "    private void afterAnyUpdate(Object entity) {\n",
       "        log.info(\"--> changed in DB\" + entity);\n",
       "    }\n",
       "\n",
       "    @PostLoad\n",
       "    private void afterLoad(Object entity) {\n",
       "        log.info(\"--> loaded from DB: \" + entity);\n",
       "    }\n",
       "}\n",
       "```"
      ],
      "text/plain": [
       "```Java\n",
       "@Slf4j\n",
       "public class EntityMonitorListener {\n",
       "\n",
       "    @PrePersist\n",
       "    @PreUpdate\n",
       "    @PreRemove\n",
       "    private void beforeAnyUpdate(Object entity) {\n",
       "        log.info(\"-->about to change in DB: \" + entity);\n",
       "    }\n",
       "\n",
       "    @PostPersist\n",
       "    @PostUpdate\n",
       "    @PostRemove\n",
       "    private void afterAnyUpdate(Object entity) {\n",
       "        log.info(\"--> changed in DB\" + entity);\n",
       "    }\n",
       "\n",
       "    @PostLoad\n",
       "    private void afterLoad(Object entity) {\n",
       "        log.info(\"--> loaded from DB: \" + entity);\n",
       "    }\n",
       "}\n",
       "```"
      ]
     },
     "metadata": {},
     "output_type": "display_data"
    }
   ],
   "source": [
    "%%javasrcClassByName EntityMonitorListener\n",
    "samples/hellojpa/src/main/java/fr/univtln/bruno/demos/jpa/hello/samples/ex_hook/EntityMonitorListener.java"
   ]
  },
  {
   "cell_type": "code",
   "execution_count": 7,
   "id": "daae268b-de50-4956-8ce9-eb6952a277d0",
   "metadata": {},
   "outputs": [
    {
     "data": {
      "text/markdown": [
       "```Java\n",
       "@Entity\n",
       "@Data\n",
       "@RequiredArgsConstructor(staticName = \"of\")\n",
       "@NoArgsConstructor(access = AccessLevel.PROTECTED)\n",
       "@Table(name = \"CUSTOMER_BIS\")\n",
       "@Log\n",
       "@EntityListeners(EntityMonitorListener.class)\n",
       "public class CustomerWithListener {\n",
       "\n",
       "    @Id\n",
       "    @GeneratedValue\n",
       "    private long id;\n",
       "\n",
       "    @NonNull\n",
       "    private String name;\n",
       "}\n",
       "```"
      ],
      "text/plain": [
       "```Java\n",
       "@Entity\n",
       "@Data\n",
       "@RequiredArgsConstructor(staticName = \"of\")\n",
       "@NoArgsConstructor(access = AccessLevel.PROTECTED)\n",
       "@Table(name = \"CUSTOMER_BIS\")\n",
       "@Log\n",
       "@EntityListeners(EntityMonitorListener.class)\n",
       "public class CustomerWithListener {\n",
       "\n",
       "    @Id\n",
       "    @GeneratedValue\n",
       "    private long id;\n",
       "\n",
       "    @NonNull\n",
       "    private String name;\n",
       "}\n",
       "```"
      ]
     },
     "metadata": {},
     "output_type": "display_data"
    }
   ],
   "source": [
    "%%javasrcClassByName CustomerWithListener\n",
    "samples/hellojpa/src/main/java/fr/univtln/bruno/demos/jpa/hello/samples/ex_hook/CustomerWithListener.java"
   ]
  },
  {
   "cell_type": "code",
   "execution_count": 8,
   "id": "e793671f-bf0e-4f40-9133-efbf0cbf9a69",
   "metadata": {},
   "outputs": [
    {
     "name": "stdout",
     "output_type": "stream",
     "text": [
      "18:19:29.532 INFO  Notebook - CustomerWithListener(id=0, name=Peter)\n",
      "18:19:29.533 INFO  f.u.b.d.j.h.s.e.EntityMonitorListener - -->about to change in DB: CustomerWithListener(id=0, name=Peter)\n",
      "18:19:29.537 INFO  f.u.b.d.j.h.s.e.EntityMonitorListener - -->about to change in DB: CustomerWithListener(id=1, name=Pierre)\n",
      "18:19:29.539 INFO  f.u.b.d.j.h.s.e.EntityMonitorListener - --> changed in DBCustomerWithListener(id=1, name=Pierre)\n",
      "18:19:29.542 INFO  f.u.b.d.j.h.s.e.EntityMonitorListener - --> changed in DBCustomerWithListener(id=1, name=Pierre)\n",
      "18:19:29.550 INFO  f.u.b.d.j.h.s.e.EntityMonitorListener - --> loaded from DB: CustomerWithListener(id=1, name=Pierre)\n",
      "18:19:29.552 INFO  Notebook - FOUND CustomerWithListener(id=1, name=Pierre)\n",
      "18:19:29.554 INFO  f.u.b.d.j.h.s.e.EntityMonitorListener - -->about to change in DB: CustomerWithListener(id=1, name=Pierre)\n",
      "18:19:29.557 INFO  f.u.b.d.j.h.s.e.EntityMonitorListener - --> changed in DBCustomerWithListener(id=1, name=Pierre)\n"
     ]
    }
   ],
   "source": [
    "import fr.univtln.bruno.demos.jpa.hello.samples.ex_hook.CustomerWithListener;\n",
    "\n",
    "try (EntityManager entityManager = DatabaseManager.ENTITY_MANAGER_FACTORY.createEntityManager()) {\n",
    "\n",
    "                entityManager.getTransaction().begin();\n",
    "                CustomerWithListener customer = CustomerWithListener.of(\"Peter\");\n",
    "                log.info(customer.toString());\n",
    "                entityManager.persist(customer);\n",
    "                customer.setName(\"Pierre\");\n",
    "                entityManager.getTransaction().commit();\n",
    "\n",
    "                try (EntityManager anotherEM = DatabaseManager.ENTITY_MANAGER_FACTORY.createEntityManager()) {\n",
    "                    log.info(\"FOUND \" + anotherEM.find(CustomerWithListener.class, 1L));\n",
    "                }\n",
    "\n",
    "                entityManager.getTransaction().begin();\n",
    "                entityManager.remove(customer);\n",
    "                entityManager.getTransaction().commit();\n",
    "            }        "
   ]
  },
  {
   "cell_type": "code",
   "execution_count": null,
   "id": "4367af68-6529-4152-a39a-83d056e7fae5",
   "metadata": {},
   "outputs": [],
   "source": []
  }
 ],
 "metadata": {
  "kernelspec": {
   "display_name": "Java [conda env:root] *",
   "language": "java",
   "name": "conda-root-java"
  },
  "language_info": {
   "codemirror_mode": "java",
   "file_extension": ".jshell",
   "mimetype": "text/x-java-source",
   "name": "Java",
   "pygments_lexer": "java",
   "version": "19.0.2+7"
  }
 },
 "nbformat": 4,
 "nbformat_minor": 5
}
