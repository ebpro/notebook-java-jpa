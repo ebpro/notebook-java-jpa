{
 "cells": [
  {
   "cell_type": "markdown",
   "id": "24b95bbd-bdf3-4774-9764-27e95be0e260",
   "metadata": {
    "user_expressions": []
   },
   "source": [
    "# L'interrogation"
   ]
  },
  {
   "cell_type": "code",
   "execution_count": 3,
   "id": "e437e4e1-d105-4939-b71d-a0596ddfce22",
   "metadata": {
    "tags": [
     "remove-cell"
    ]
   },
   "outputs": [],
   "source": [
    "%%shell\n",
    "(cd samples/hellojpa && mvn --quiet clean package )"
   ]
  },
  {
   "cell_type": "code",
   "execution_count": 72,
   "id": "a18c19ff-5a29-4ed4-9f58-ef6e0bc22b9f",
   "metadata": {
    "tags": [
     "remove",
     "remove-cell"
    ]
   },
   "outputs": [
    {
     "name": "stdout",
     "output_type": "stream",
     "text": [
      "H2-JPADemo\n"
     ]
    }
   ],
   "source": [
    "%%shell\n",
    "docker start H2-JPADemo || docker run --quiet --detach --rm --name=H2-JPADemo \\\n",
    "    -e PUID=$UID -e PGID=$GID \\\n",
    "    -e H2_ARGS=\"-tcp -tcpAllowOthers -ifNotExists\" \\\n",
    "    -p 9092:9092 \\\n",
    "    -v h2-data:/opt/h2-data \\\n",
    "    brunoe/docker-database-h2:develop"
   ]
  },
  {
   "cell_type": "code",
   "execution_count": 20,
   "id": "002c9fa2-b03d-4127-9ae0-10ea392718ed",
   "metadata": {
    "tags": [
     "remove",
     "remove-cell"
    ]
   },
   "outputs": [],
   "source": [
    "%jars samples/hellojpa/target/*-SNAPSHOT-jar-with-dependencies.jar\n",
    "\n",
    "import jakarta.persistence.*;\n",
    "import fr.univtln.bruno.demos.jpa.hello.DatabaseManager;\n",
    "System.setProperty(\"jakarta.persistence.jdbc.url\",\"jdbc:h2:tcp://host.docker.internal/hellojpa-db\");\n",
    "\n",
    "try (EntityManager entityManager = DatabaseManager.ENTITY_MANAGER_FACTORY.createEntityManager()) { }"
   ]
  },
  {
   "cell_type": "code",
   "execution_count": 4,
   "id": "801b9a97-5cc8-42c7-9aa8-48d5c0db5923",
   "metadata": {
    "tags": [
     "remove-cell"
    ]
   },
   "outputs": [],
   "source": [
    "import org.slf4j.Logger;\n",
    "import org.slf4j.LoggerFactory;\n",
    "\n",
    "Logger log = LoggerFactory.getLogger(\"Notebook\");"
   ]
  },
  {
   "cell_type": "markdown",
   "id": "cb0f963d-c4c8-451f-9ea7-34180debe8ac",
   "metadata": {
    "user_expressions": []
   },
   "source": [
    "Création de 1000 Customers aléatoires. "
   ]
  },
  {
   "cell_type": "code",
   "execution_count": 22,
   "id": "f1951b96-6305-43ac-b819-9257fd43a4ba",
   "metadata": {
    "tags": [
     "remove"
    ]
   },
   "outputs": [],
   "source": [
    "import fr.univtln.bruno.demos.jpa.hello.samples.ex_entity.CustomerGenerator;\n",
    "\n",
    "System.setProperty(\"jakarta.persistence.jdbc.url\",\"jdbc:h2:tcp://host.docker.internal/hellojpa-db\");\n",
    "\n",
    "CustomerGenerator.generateCustomer(1000);"
   ]
  },
  {
   "cell_type": "markdown",
   "id": "4042323d-d008-40f6-b2da-30a56dea38c3",
   "metadata": {
    "user_expressions": []
   },
   "source": [
    "### SQL Natif"
   ]
  },
  {
   "cell_type": "code",
   "execution_count": 24,
   "id": "d2d5a957-325d-4484-b6d5-3fb8c0568f55",
   "metadata": {},
   "outputs": [
    {
     "name": "stdout",
     "output_type": "stream",
     "text": [
      "Customer(creationDate=2023-03-22T18:20:59.861392, id=46, email=Drucilla.Crona@robel.io, firstname=Drucilla, lastname=Crona, displayName=null, birthDate=null, photo=null, status=null)\n",
      "Customer(creationDate=2023-03-22T18:20:59.864054, id=47, email=Stanford.Sipes@kilback.io, firstname=Stanford, lastname=Sipes, displayName=null, birthDate=null, photo=null, status=null)\n",
      "Customer(creationDate=2023-03-22T18:20:59.867097, id=48, email=Chau.Raynor@schuppe.com, firstname=Chau, lastname=Raynor, displayName=null, birthDate=null, photo=null, status=null)\n",
      "Customer(creationDate=2023-03-22T18:20:59.869775, id=49, email=Guy.Herzog@donnelly.com, firstname=Guy, lastname=Herzog, displayName=null, birthDate=null, photo=null, status=null)\n",
      "Customer(creationDate=2023-03-22T18:20:59.875923, id=50, email=Dave.Schmidt@bahringer.com, firstname=Dave, lastname=Schmidt, displayName=null, birthDate=null, photo=null, status=null)\n"
     ]
    }
   ],
   "source": [
    "import jakarta.persistence.*;\n",
    "import fr.univtln.bruno.demos.jpa.hello.DatabaseManager;\n",
    "import fr.univtln.bruno.demos.jpa.hello.samples.ex_entity.Customer;\n",
    "\n",
    "try (EntityManager entityManager = DatabaseManager.ENTITY_MANAGER_FACTORY.createEntityManager()) {\n",
    "    Query query = entityManager.createNativeQuery(\"\"\"\n",
    "                           SELECT * \n",
    "                           FROM CUSTOMER\"\"\",\n",
    "                           Customer.class);\n",
    "        \n",
    "    //Customers (page 10 of size 5)\n",
    "    int pageNumber = 10;\n",
    "    int pageSize = 5;\n",
    "    List<Customer> customers = query\n",
    "        .setFirstResult((pageNumber-1)*pageSize)\n",
    "        .setMaxResults(pageSize)\n",
    "        .getResultList();\n",
    "    \n",
    "    customers.stream().forEach(System.out::println);\n",
    "}    "
   ]
  },
  {
   "cell_type": "code",
   "execution_count": 25,
   "id": "a4f7bc52-df66-4763-a283-967a035a25eb",
   "metadata": {},
   "outputs": [
    {
     "name": "stdout",
     "output_type": "stream",
     "text": [
      "Customers count: 2000\n"
     ]
    }
   ],
   "source": [
    "try (EntityManager entityManager = DatabaseManager.ENTITY_MANAGER_FACTORY.createEntityManager()) {\n",
    "    long result = (Long) entityManager\n",
    "                   .createNativeQuery(\"\"\"\n",
    "                                      SELECT COUNT(1)\n",
    "                                      FROM CUSTOMER\"\"\")\n",
    "                   .getSingleResult();\n",
    "    System.out.println(\"Customers count: %s\".formatted(result));\n",
    "}"
   ]
  },
  {
   "cell_type": "code",
   "execution_count": 26,
   "id": "23495475-10ad-445d-9186-f874e98c33a2",
   "metadata": {},
   "outputs": [],
   "source": [
    "String name = \"Smith\";\n",
    "try (EntityManager entityManager = DatabaseManager.ENTITY_MANAGER_FACTORY.createEntityManager()) {\n",
    "    name = (String)entityManager.createNativeQuery(\"\"\"\n",
    "                SELECT LASTNAME FROM CUSTOMER  \n",
    "                ORDER BY RAND ( )  \n",
    "                LIMIT 1\"\"\").getSingleResult();\n",
    "    }"
   ]
  },
  {
   "cell_type": "code",
   "execution_count": 27,
   "id": "e50b2789-5141-4b92-86a3-020a76368a05",
   "metadata": {},
   "outputs": [
    {
     "name": "stdout",
     "output_type": "stream",
     "text": [
      "5 firsts customers whose name is Crooks\n",
      "Customer(creationDate=2023-03-22T18:20:59.771941, id=18, email=Katie.Crooks@heller.org, firstname=Katie, lastname=Crooks, displayName=null, birthDate=null, photo=null, status=null)\n",
      "Customer(creationDate=2023-03-22T18:21:00.491421, id=261, email=Gregorio.Crooks@lehner.net, firstname=Gregorio, lastname=Crooks, displayName=null, birthDate=null, photo=null, status=null)\n",
      "Customer(creationDate=2023-03-22T18:21:00.953298, id=419, email=Grant.Crooks@mitchell.name, firstname=Grant, lastname=Crooks, displayName=null, birthDate=null, photo=null, status=null)\n",
      "Customer(creationDate=2023-03-22T18:21:26.390721, id=1301, email=Benjamin.Crooks@cassin.org, firstname=Benjamin, lastname=Crooks, displayName=null, birthDate=null, photo=null, status=null)\n",
      "Customer(creationDate=2023-03-22T18:21:26.547637, id=1366, email=Lida.Crooks@yundt.biz, firstname=Lida, lastname=Crooks, displayName=null, birthDate=null, photo=null, status=null)\n"
     ]
    }
   ],
   "source": [
    "//Variable name (String) contains an existing name \n",
    "try (EntityManager entityManager = DatabaseManager.ENTITY_MANAGER_FACTORY.createEntityManager()) {\n",
    "    Query query = entityManager.createNativeQuery(\"\"\"\n",
    "                                                  SELECT * \n",
    "                                                  FROM CUSTOMER\n",
    "                                                  WHERE LASTNAME = ?\n",
    "                                                  \"\"\", \n",
    "                                                  Customer.class);\n",
    "    \n",
    "    List<Customer> customers = query\n",
    "        .setParameter(1, name)\n",
    "        .setMaxResults(3)\n",
    "        .getResultList();\n",
    "    System.out.println(\"3 firsts customers whose name is %s\".formatted(name));\n",
    "    customers.stream().forEach(System.out::println);\n",
    "}    "
   ]
  },
  {
   "cell_type": "markdown",
   "id": "c7779d5e-711f-49c7-a39f-d04477bfe0a6",
   "metadata": {
    "user_expressions": []
   },
   "source": [
    "#### JPA Query Language (JPQL)\n",
    "\n",
    "cf. [JPQL Wiki Book](https://en.wikibooks.org/wiki/Java_Persistence/JPQL)"
   ]
  },
  {
   "cell_type": "code",
   "execution_count": 36,
   "id": "32094409-ab38-4bba-82e8-ae2eab6f1cc0",
   "metadata": {},
   "outputs": [],
   "source": [
    "EntityManager entityManager = DatabaseManager.ENTITY_MANAGER_FACTORY.createEntityManager()"
   ]
  },
  {
   "cell_type": "code",
   "execution_count": 37,
   "id": "0675eb54-2d80-4410-9add-c80a1f8af9dd",
   "metadata": {
    "tags": []
   },
   "outputs": [
    {
     "name": "stdout",
     "output_type": "stream",
     "text": [
      "Customer(creationDate=2023-03-22T18:20:59.771941, id=18, email=Katie.Crooks@heller.org, firstname=Katie, lastname=Crooks, displayName=null, birthDate=null, photo=null, status=null)\n",
      "Customer(creationDate=2023-03-22T18:21:00.491421, id=261, email=Gregorio.Crooks@lehner.net, firstname=Gregorio, lastname=Crooks, displayName=null, birthDate=null, photo=null, status=null)\n",
      "Customer(creationDate=2023-03-22T18:21:00.953298, id=419, email=Grant.Crooks@mitchell.name, firstname=Grant, lastname=Crooks, displayName=null, birthDate=null, photo=null, status=null)\n"
     ]
    }
   ],
   "source": [
    "//Variable name (String) contains an existing name \n",
    "TypedQuery<Customer> query = entityManager\n",
    "        .createQuery(\"\"\"\n",
    "                     SELECT c\n",
    "                     FROM Customer c\n",
    "                     WHERE c.lastname = :name\"\"\",\n",
    "                     Customer.class);\n",
    "\n",
    "List<Customer> customers = query.setParameter(\"name\", name)\n",
    "    .setMaxResults(3)\n",
    "    .getResultList();\n",
    "\n",
    "customers.stream().forEach(System.out::println);"
   ]
  },
  {
   "cell_type": "markdown",
   "id": "efd798d8-3e37-473f-b0ac-69e013c2f617",
   "metadata": {
    "user_expressions": []
   },
   "source": [
    "```{literalinclude} samples/hellojpa/src/main/java/fr/univtln/bruno/demos/jpa/hello/samples/CustomerDisplayDTO.java\n",
    ":language: java\n",
    ":caption: CustomerDisplayDTO.java\n",
    ":name: CustomerDisplayDTO.java\n",
    "```"
   ]
  },
  {
   "cell_type": "code",
   "execution_count": 39,
   "id": "2e9bbd08-2076-4b1f-b648-16c58a7d538a",
   "metadata": {},
   "outputs": [
    {
     "name": "stdout",
     "output_type": "stream",
     "text": [
      "CustomerDisplayDTO[firstname=Katie, lastname=Crooks]\n",
      "CustomerDisplayDTO[firstname=Gregorio, lastname=Crooks]\n",
      "CustomerDisplayDTO[firstname=Grant, lastname=Crooks]\n"
     ]
    }
   ],
   "source": [
    "import fr.univtln.bruno.demos.jpa.hello.samples.ex_dto.CustomerDisplayDTO;\n",
    "\n",
    "//Variable name (String) contains an existing name \n",
    "\n",
    "TypedQuery<CustomerDisplayDTO> query = entityManager.createQuery(\"\"\"\n",
    "                     SELECT new fr.univtln.bruno.demos.jpa.hello.samples.ex_dto.CustomerDisplayDTO\n",
    "                         (c.firstname, c.lastname)\n",
    "                     FROM Customer c\n",
    "                     WHERE c.lastname = :name\"\"\",\n",
    "                     CustomerDisplayDTO.class);\n",
    "\n",
    "List<CustomerDisplayDTO> customers = query\n",
    "        .setParameter(\"name\", name)\n",
    "        .setMaxResults(3)\n",
    "        .getResultList();\n",
    "\n",
    "customers.stream().forEach(System.out::println);"
   ]
  },
  {
   "cell_type": "code",
   "execution_count": 33,
   "id": "268600df-20ca-4e9f-81e6-1215d32edcdf",
   "metadata": {
    "tags": []
   },
   "outputs": [
    {
     "name": "stdout",
     "output_type": "stream",
     "text": [
      "There is 2000 customers.\n"
     ]
    }
   ],
   "source": [
    "long customerCount=(long)entityManager.createQuery(\"\"\"\n",
    "                                SELECT COUNT(c)\n",
    "                                FROM Customer c\"\"\").getSingleResult();\n",
    "                                                   \n",
    "System.out.println(\"There is %s customers.\".formatted(customerCount));                                                   "
   ]
  },
  {
   "cell_type": "code",
   "execution_count": 34,
   "id": "1de19311-5a78-498a-ac4f-4d02044681de",
   "metadata": {},
   "outputs": [],
   "source": [
    "entityManager.close()"
   ]
  },
  {
   "cell_type": "code",
   "execution_count": null,
   "id": "ba02ef0e-6d6f-4bcd-989f-839ad7d610be",
   "metadata": {},
   "outputs": [],
   "source": []
  }
 ],
 "metadata": {
  "kernelspec": {
   "display_name": "Java [conda env:root] *",
   "language": "java",
   "name": "conda-root-java"
  },
  "language_info": {
   "codemirror_mode": "java",
   "file_extension": ".jshell",
   "mimetype": "text/x-java-source",
   "name": "Java",
   "pygments_lexer": "java",
   "version": "19.0.2+7"
  }
 },
 "nbformat": 4,
 "nbformat_minor": 5
}
